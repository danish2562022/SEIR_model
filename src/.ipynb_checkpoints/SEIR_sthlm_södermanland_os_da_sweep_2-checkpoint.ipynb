{
 "cells": [
  {
   "cell_type": "markdown",
   "id": "23c79c5a-0159-4b64-95dc-0e46a9da5df0",
   "metadata": {},
   "source": [
    "# Södermanland\t\n",
    "# Sthlm"
   ]
  },
  {
   "cell_type": "markdown",
   "id": "1d630fbc-c84b-442b-a687-903c8cad94a7",
   "metadata": {},
   "source": [
    "![My Image](./Map-of-Sweden-showing-the-21-administrative-regions-adapted-from-SCB-2007.png)\n"
   ]
  },
  {
   "cell_type": "code",
   "execution_count": 1,
   "id": "770b1865-3c5d-4871-8891-3e428dc36a9a",
   "metadata": {},
   "outputs": [],
   "source": [
    "#importing modules\n",
    "from math import *\n",
    "import matplotlib.pyplot as plt\n",
    "plt.rcParams.update({'font.size': 21})\n",
    "import scipy.stats as stats\n",
    "from scipy.optimize import curve_fit,leastsq\n",
    "from scipy.integrate import odeint, ode\n",
    "from scipy.interpolate import interp1d\n",
    "import numpy as np\n",
    "import pandas as pd\n",
    "from scipy.interpolate import interp1d"
   ]
  },
  {
   "cell_type": "markdown",
   "id": "05f1bf5f-5620-4891-a568-e0aa34b8cafc",
   "metadata": {},
   "source": [
    "# 1. DATA preprocessing"
   ]
  },
  {
   "cell_type": "code",
   "execution_count": 2,
   "id": "1424a2eb-3de6-49f8-9721-1ce12e06b643",
   "metadata": {},
   "outputs": [],
   "source": [
    "#Parameters\n",
    "n=20\n",
    "starting_week = 10-4 #start week\n",
    "first_case = 9\n",
    "T_max = 48 #length of prediction\n",
    "pv = 0.023 #fraction of infected that are admitted\n",
    "rho = 7*1/5.1 #latency period\n",
    "gamma = 7*1/5 #recovery rate\n",
    "delay = 3 #2.5 #delay from infection to admission"
   ]
  },
  {
   "cell_type": "code",
   "execution_count": 3,
   "id": "26d9f971-4ae7-4728-9b4c-50a60696af9c",
   "metadata": {},
   "outputs": [],
   "source": [
    "file = pd.read_excel('../data/statistik-covid19-inskrivna_v2.xlsx', sheet_name = \"Inskrivna i slutenvård\")\n",
    "data = [['Sthlm',           8, 2389923, 'SE-AB',  6524],\n",
    "        ['VGR',             9, 1725881,  'SE-O', 23800],\n",
    "        ['Skåne',          10, 1387650,  'SE-M', 10968],\n",
    "        ['Östergötland',   11,  467095,  'SE-E', 10559],\n",
    "        ['Jönköping',      12,  364750,  'SE-F',  8190],\n",
    "        ['Södermanland',   13,  299101,  'SE-D', 10437],\n",
    "        ['Uppsala',        14,  387628,  'SE-C',  5427],\n",
    "        ['Gävleborg',      15,  287660,  'SE-X',  8504],\n",
    "        ['Västmanland',    16,  277074,  'SE-U',  6075],\n",
    "        ['Örebro',         17,  305726,  'SE-T', 28029],\n",
    "        ['Norrbotten',     18,  249768, 'SE-BD', 18118],\n",
    "        ['Dalarna',        19,  287806,  'SE-W', 17519],\n",
    "        ['Västernorrland', 20,  244855,  'SE-Y',  5118],\n",
    "        ['Värmland',       21,  282840,  'SE-S', 54665],\n",
    "        ['Halland',        22,  336132,  'SE-N', 97239],\n",
    "        ['Kalmar',         23,  245992,  'SE-H', 11165],\n",
    "        ['Kronoberg',      24,  202163,  'SE-G', 21549],\n",
    "        ['Västerbotten',   25,  273061,  'SE-AC', 8424],\n",
    "        ['Jämtland',       26,  130972,  'SE-Z',  2931],\n",
    "        ['Blekinge',       27,  159349,  'SE-K', 48935],\n",
    "        ['Gotland',        28,   60106,  'SE-I',  3135]] \n",
    "regions = pd.DataFrame(data, columns = ['region', 'index','population', 'regionkod', 'area']) \n",
    "regions['density'] = regions['population']/regions['area']\n",
    "first_cases = first_case*np.ones(21).astype(int) #week number when first case was recorded\n",
    "regions['first case'] = first_cases\n",
    "starting_weeks = first_cases - 3\n",
    "\n",
    "regions.drop(regions.index[[20]],inplace=True) #remove Gotland\n"
   ]
  },
  {
   "cell_type": "code",
   "execution_count": 4,
   "id": "b24dccf1-4c3f-42fb-b92c-ef1c97112b71",
   "metadata": {},
   "outputs": [],
   "source": [
    "def getData(name, first_case):\n",
    "    temp = regions.loc[regions['region'] == name] #find the right row\n",
    "    index = temp['index'].values #find the region index\n",
    "    N = temp['population'].values[0] #find population size of region\n",
    "    R = file.iloc[index[0]] \n",
    "    R = R.replace(' ', 0) #replace missing data with 0\n",
    "    R = R.replace('X', 0) \n",
    "    R = R.replace('IU', 0) \n",
    "    \n",
    "    ind = np.arange(3, len(R), 2) \n",
    "    I = R.iloc[ind].values #extract admissions\n",
    "    I = I[:-2] #remove last (incomplete) data point\n",
    "    padding = np.zeros(10 - first_case + 3) \n",
    "    I = np.insert(I, 0, padding) \n",
    "    veckor = np.arange(0, len(I), 1) #create array of week numbers\n",
    "    \n",
    "    return I,veckor,N\n",
    "\n",
    "\n",
    "#Load Google mobility data\n",
    "def loadMobility(name, starting_week):\n",
    "    df = pd.read_csv('../data/2020_SE_Region_Mobility_Report.csv') \n",
    "    temp = regions.loc[regions['region'] == name] \n",
    "    code = temp['regionkod'].values \n",
    "    temp2 = df.loc[df['iso_3166_2_code'] == code[0]]\n",
    "    transit = temp2['transit_stations_percent_change_from_baseline'].values \n",
    "    dagar = np.arange(46, 46 + len(transit))\n",
    "    tv = np.ceil(dagar / 7)\n",
    "    \n",
    "    \n",
    "    gveckor = np.unique(tv)\n",
    "    k = 0\n",
    "    Tr = np.zeros(int(max(gveckor) - min(gveckor))+1)\n",
    "\n",
    "    for i in gveckor:\n",
    "        ind=tv==i\n",
    "        Tr[k]=np.mean(transit[ind])/100\n",
    "        k=k+1\n",
    "    for i in range(1,len(Tr)):\n",
    "        if np.isnan(Tr[i]):\n",
    "            Tr[i]=Tr[i-1]\n",
    "    #print(Tr)\n",
    "    init=0.2 #set base line travel\n",
    "    Tr[0:2]=[init,init]\n",
    "    #print(Tr)\n",
    "    #print(gveckor)\n",
    "    #print(gveckor-svecka)\n",
    "    Trfkn = interp1d(gveckor-starting_week, Tr, kind = \"linear\", fill_value = \"extrapolate\")\n",
    "    #print(Tr)\n",
    "    return Trfkn"
   ]
  },
  {
   "cell_type": "code",
   "execution_count": 5,
   "id": "3ff52623-39f5-4720-9e22-8dccf741b934",
   "metadata": {},
   "outputs": [],
   "source": [
    "def loadMobility_list(name_list, starting_week):\n",
    "    Trfkn_dict = dict()\n",
    "    for i in name_list:\n",
    "       Trfkn_dict[i] = loadMobility(i, starting_week) \n",
    "    return Trfkn_dict\n",
    "\n",
    "\n",
    "def getData_list(name_list, first_case):\n",
    "    getData_dict = dict()\n",
    "    for i in name_list:\n",
    "        I, veckor, N = getData(i, first_case)\n",
    "        getData_dict[i] =  {'I': I, 'veckor': veckor, 'N': N}\n",
    "    return getData_dict"
   ]
  },
  {
   "cell_type": "markdown",
   "id": "82280561-7681-4293-8678-6c4ce2afe993",
   "metadata": {},
   "source": [
    "# 2. Correlation Analysis"
   ]
  },
  {
   "cell_type": "code",
   "execution_count": 6,
   "id": "625c6253-510d-498b-9690-d6b8e465d5fa",
   "metadata": {},
   "outputs": [],
   "source": [
    "name_list = regions.region.tolist()\n",
    "Trfkn_dict = loadMobility_list(name_list, starting_week = 6) \n",
    "getData_dict = getData_list(name_list, first_case = 9) "
   ]
  },
  {
   "cell_type": "code",
   "execution_count": 7,
   "id": "e081bcff-f4b5-4758-a1e0-ac36d976d133",
   "metadata": {},
   "outputs": [],
   "source": [
    "region_name = ['Sthlm']\n",
    "df = pd.DataFrame(getData_dict[region_name[0]]['I'])/regions[regions.region == region_name[0]].density.values\n",
    "\n",
    "for j in getData_dict.keys():\n",
    "    if j == region_name[0]:\n",
    "        continue\n",
    "    region_name.append(j)\n",
    "    df_temp = pd.DataFrame(getData_dict[j]['I'])\n",
    "  \n",
    "    df_temp = df_temp/regions[regions.region ==j].density.values\n",
    "    df = pd.concat([df,df_temp], axis = 1)\n",
    " "
   ]
  },
  {
   "cell_type": "code",
   "execution_count": 8,
   "id": "eecbb241-b69a-4119-a29b-c71ef69203d7",
   "metadata": {},
   "outputs": [
    {
     "data": {
      "text/html": [
       "<div>\n",
       "<style scoped>\n",
       "    .dataframe tbody tr th:only-of-type {\n",
       "        vertical-align: middle;\n",
       "    }\n",
       "\n",
       "    .dataframe tbody tr th {\n",
       "        vertical-align: top;\n",
       "    }\n",
       "\n",
       "    .dataframe thead th {\n",
       "        text-align: right;\n",
       "    }\n",
       "</style>\n",
       "<table border=\"1\" class=\"dataframe\">\n",
       "  <thead>\n",
       "    <tr style=\"text-align: right;\">\n",
       "      <th></th>\n",
       "      <th>Sthlm</th>\n",
       "      <th>VGR</th>\n",
       "      <th>Skåne</th>\n",
       "      <th>Östergötland</th>\n",
       "      <th>Jönköping</th>\n",
       "      <th>Södermanland</th>\n",
       "      <th>Uppsala</th>\n",
       "      <th>Gävleborg</th>\n",
       "      <th>Västmanland</th>\n",
       "      <th>Örebro</th>\n",
       "      <th>Norrbotten</th>\n",
       "      <th>Dalarna</th>\n",
       "      <th>Västernorrland</th>\n",
       "      <th>Värmland</th>\n",
       "      <th>Halland</th>\n",
       "      <th>Kalmar</th>\n",
       "      <th>Kronoberg</th>\n",
       "      <th>Västerbotten</th>\n",
       "      <th>Jämtland</th>\n",
       "      <th>Blekinge</th>\n",
       "    </tr>\n",
       "  </thead>\n",
       "  <tbody>\n",
       "    <tr>\n",
       "      <th>0</th>\n",
       "      <td>0.0</td>\n",
       "      <td>0.0</td>\n",
       "      <td>0.0</td>\n",
       "      <td>0.0</td>\n",
       "      <td>0.0</td>\n",
       "      <td>0.0</td>\n",
       "      <td>0.0</td>\n",
       "      <td>0.0</td>\n",
       "      <td>0.0</td>\n",
       "      <td>0.0</td>\n",
       "      <td>0.0</td>\n",
       "      <td>0.0</td>\n",
       "      <td>0.0</td>\n",
       "      <td>0.0</td>\n",
       "      <td>0.0</td>\n",
       "      <td>0.0</td>\n",
       "      <td>0.0</td>\n",
       "      <td>0.0</td>\n",
       "      <td>0.0</td>\n",
       "      <td>0.0</td>\n",
       "    </tr>\n",
       "    <tr>\n",
       "      <th>1</th>\n",
       "      <td>0.0</td>\n",
       "      <td>0.0</td>\n",
       "      <td>0.0</td>\n",
       "      <td>0.0</td>\n",
       "      <td>0.0</td>\n",
       "      <td>0.0</td>\n",
       "      <td>0.0</td>\n",
       "      <td>0.0</td>\n",
       "      <td>0.0</td>\n",
       "      <td>0.0</td>\n",
       "      <td>0.0</td>\n",
       "      <td>0.0</td>\n",
       "      <td>0.0</td>\n",
       "      <td>0.0</td>\n",
       "      <td>0.0</td>\n",
       "      <td>0.0</td>\n",
       "      <td>0.0</td>\n",
       "      <td>0.0</td>\n",
       "      <td>0.0</td>\n",
       "      <td>0.0</td>\n",
       "    </tr>\n",
       "    <tr>\n",
       "      <th>2</th>\n",
       "      <td>0.0</td>\n",
       "      <td>0.0</td>\n",
       "      <td>0.0</td>\n",
       "      <td>0.0</td>\n",
       "      <td>0.0</td>\n",
       "      <td>0.0</td>\n",
       "      <td>0.0</td>\n",
       "      <td>0.0</td>\n",
       "      <td>0.0</td>\n",
       "      <td>0.0</td>\n",
       "      <td>0.0</td>\n",
       "      <td>0.0</td>\n",
       "      <td>0.0</td>\n",
       "      <td>0.0</td>\n",
       "      <td>0.0</td>\n",
       "      <td>0.0</td>\n",
       "      <td>0.0</td>\n",
       "      <td>0.0</td>\n",
       "      <td>0.0</td>\n",
       "      <td>0.0</td>\n",
       "    </tr>\n",
       "    <tr>\n",
       "      <th>3</th>\n",
       "      <td>0.0</td>\n",
       "      <td>0.0</td>\n",
       "      <td>0.0</td>\n",
       "      <td>0.0</td>\n",
       "      <td>0.0</td>\n",
       "      <td>0.0</td>\n",
       "      <td>0.0</td>\n",
       "      <td>0.0</td>\n",
       "      <td>0.0</td>\n",
       "      <td>0.0</td>\n",
       "      <td>0.0</td>\n",
       "      <td>0.0</td>\n",
       "      <td>0.0</td>\n",
       "      <td>0.0</td>\n",
       "      <td>0.0</td>\n",
       "      <td>0.0</td>\n",
       "      <td>0.0</td>\n",
       "      <td>0.0</td>\n",
       "      <td>0.0</td>\n",
       "      <td>0.0</td>\n",
       "    </tr>\n",
       "    <tr>\n",
       "      <th>4</th>\n",
       "      <td>0.101002</td>\n",
       "      <td>0.124111</td>\n",
       "      <td>0.0</td>\n",
       "      <td>0.0</td>\n",
       "      <td>0.0</td>\n",
       "      <td>0.0</td>\n",
       "      <td>0.056002</td>\n",
       "      <td>0.0</td>\n",
       "      <td>0.0</td>\n",
       "      <td>0.0</td>\n",
       "      <td>0.0</td>\n",
       "      <td>0.0</td>\n",
       "      <td>0.0</td>\n",
       "      <td>0.0</td>\n",
       "      <td>0.0</td>\n",
       "      <td>0.0</td>\n",
       "      <td>0.0</td>\n",
       "      <td>0.0</td>\n",
       "      <td>0.0</td>\n",
       "      <td>0.0</td>\n",
       "    </tr>\n",
       "  </tbody>\n",
       "</table>\n",
       "</div>"
      ],
      "text/plain": [
       "      Sthlm       VGR Skåne Östergötland Jönköping Södermanland   Uppsala  \\\n",
       "0       0.0       0.0   0.0          0.0       0.0          0.0       0.0   \n",
       "1       0.0       0.0   0.0          0.0       0.0          0.0       0.0   \n",
       "2       0.0       0.0   0.0          0.0       0.0          0.0       0.0   \n",
       "3       0.0       0.0   0.0          0.0       0.0          0.0       0.0   \n",
       "4  0.101002  0.124111   0.0          0.0       0.0          0.0  0.056002   \n",
       "\n",
       "  Gävleborg Västmanland Örebro Norrbotten Dalarna Västernorrland Värmland  \\\n",
       "0       0.0         0.0    0.0        0.0     0.0            0.0      0.0   \n",
       "1       0.0         0.0    0.0        0.0     0.0            0.0      0.0   \n",
       "2       0.0         0.0    0.0        0.0     0.0            0.0      0.0   \n",
       "3       0.0         0.0    0.0        0.0     0.0            0.0      0.0   \n",
       "4       0.0         0.0    0.0        0.0     0.0            0.0      0.0   \n",
       "\n",
       "  Halland Kalmar Kronoberg Västerbotten Jämtland Blekinge  \n",
       "0     0.0    0.0       0.0          0.0      0.0      0.0  \n",
       "1     0.0    0.0       0.0          0.0      0.0      0.0  \n",
       "2     0.0    0.0       0.0          0.0      0.0      0.0  \n",
       "3     0.0    0.0       0.0          0.0      0.0      0.0  \n",
       "4     0.0    0.0       0.0          0.0      0.0      0.0  "
      ]
     },
     "execution_count": 8,
     "metadata": {},
     "output_type": "execute_result"
    }
   ],
   "source": [
    "df.columns = region_name\n",
    "df.head()"
   ]
  },
  {
   "cell_type": "code",
   "execution_count": 9,
   "id": "beb5beba-be2e-463c-b6c2-0cc904bd2fa2",
   "metadata": {},
   "outputs": [
    {
     "data": {
      "text/html": [
       "<div>\n",
       "<style scoped>\n",
       "    .dataframe tbody tr th:only-of-type {\n",
       "        vertical-align: middle;\n",
       "    }\n",
       "\n",
       "    .dataframe tbody tr th {\n",
       "        vertical-align: top;\n",
       "    }\n",
       "\n",
       "    .dataframe thead th {\n",
       "        text-align: right;\n",
       "    }\n",
       "</style>\n",
       "<table border=\"1\" class=\"dataframe\">\n",
       "  <thead>\n",
       "    <tr style=\"text-align: right;\">\n",
       "      <th></th>\n",
       "      <th>Sthlm</th>\n",
       "      <th>VGR</th>\n",
       "      <th>Skåne</th>\n",
       "      <th>Östergötland</th>\n",
       "      <th>Jönköping</th>\n",
       "      <th>Södermanland</th>\n",
       "      <th>Uppsala</th>\n",
       "      <th>Gävleborg</th>\n",
       "      <th>Västmanland</th>\n",
       "      <th>Örebro</th>\n",
       "      <th>Norrbotten</th>\n",
       "      <th>Dalarna</th>\n",
       "      <th>Västernorrland</th>\n",
       "      <th>Värmland</th>\n",
       "      <th>Halland</th>\n",
       "      <th>Kalmar</th>\n",
       "      <th>Kronoberg</th>\n",
       "      <th>Västerbotten</th>\n",
       "      <th>Jämtland</th>\n",
       "      <th>Blekinge</th>\n",
       "    </tr>\n",
       "  </thead>\n",
       "  <tbody>\n",
       "    <tr>\n",
       "      <th>Sthlm</th>\n",
       "      <td>1.000000</td>\n",
       "      <td>0.843206</td>\n",
       "      <td>0.707943</td>\n",
       "      <td>0.968330</td>\n",
       "      <td>0.911792</td>\n",
       "      <td>0.912002</td>\n",
       "      <td>0.906437</td>\n",
       "      <td>0.851443</td>\n",
       "      <td>0.919852</td>\n",
       "      <td>0.608364</td>\n",
       "      <td>0.916373</td>\n",
       "      <td>0.942713</td>\n",
       "      <td>0.767337</td>\n",
       "      <td>0.609362</td>\n",
       "      <td>0.797345</td>\n",
       "      <td>0.845498</td>\n",
       "      <td>0.634756</td>\n",
       "      <td>0.777421</td>\n",
       "      <td>0.834126</td>\n",
       "      <td>0.277613</td>\n",
       "    </tr>\n",
       "    <tr>\n",
       "      <th>VGR</th>\n",
       "      <td>0.843206</td>\n",
       "      <td>1.000000</td>\n",
       "      <td>0.887548</td>\n",
       "      <td>0.728929</td>\n",
       "      <td>0.583918</td>\n",
       "      <td>0.913086</td>\n",
       "      <td>0.903484</td>\n",
       "      <td>0.892073</td>\n",
       "      <td>0.902264</td>\n",
       "      <td>0.570380</td>\n",
       "      <td>0.880070</td>\n",
       "      <td>0.705631</td>\n",
       "      <td>0.886026</td>\n",
       "      <td>0.854733</td>\n",
       "      <td>0.793608</td>\n",
       "      <td>0.925145</td>\n",
       "      <td>0.855745</td>\n",
       "      <td>0.805349</td>\n",
       "      <td>0.664991</td>\n",
       "      <td>0.540573</td>\n",
       "    </tr>\n",
       "    <tr>\n",
       "      <th>Skåne</th>\n",
       "      <td>0.707943</td>\n",
       "      <td>0.887548</td>\n",
       "      <td>1.000000</td>\n",
       "      <td>0.621677</td>\n",
       "      <td>0.400992</td>\n",
       "      <td>0.826470</td>\n",
       "      <td>0.836551</td>\n",
       "      <td>0.770706</td>\n",
       "      <td>0.844795</td>\n",
       "      <td>0.357385</td>\n",
       "      <td>0.694584</td>\n",
       "      <td>0.537343</td>\n",
       "      <td>0.825453</td>\n",
       "      <td>0.701450</td>\n",
       "      <td>0.634010</td>\n",
       "      <td>0.837116</td>\n",
       "      <td>0.895035</td>\n",
       "      <td>0.708041</td>\n",
       "      <td>0.714445</td>\n",
       "      <td>0.703238</td>\n",
       "    </tr>\n",
       "    <tr>\n",
       "      <th>Östergötland</th>\n",
       "      <td>0.968330</td>\n",
       "      <td>0.728929</td>\n",
       "      <td>0.621677</td>\n",
       "      <td>1.000000</td>\n",
       "      <td>0.949446</td>\n",
       "      <td>0.843867</td>\n",
       "      <td>0.836592</td>\n",
       "      <td>0.758317</td>\n",
       "      <td>0.858380</td>\n",
       "      <td>0.558964</td>\n",
       "      <td>0.861616</td>\n",
       "      <td>0.937252</td>\n",
       "      <td>0.634197</td>\n",
       "      <td>0.456047</td>\n",
       "      <td>0.695051</td>\n",
       "      <td>0.749121</td>\n",
       "      <td>0.519094</td>\n",
       "      <td>0.666688</td>\n",
       "      <td>0.848179</td>\n",
       "      <td>0.214819</td>\n",
       "    </tr>\n",
       "    <tr>\n",
       "      <th>Jönköping</th>\n",
       "      <td>0.911792</td>\n",
       "      <td>0.583918</td>\n",
       "      <td>0.400992</td>\n",
       "      <td>0.949446</td>\n",
       "      <td>1.000000</td>\n",
       "      <td>0.742007</td>\n",
       "      <td>0.728714</td>\n",
       "      <td>0.634586</td>\n",
       "      <td>0.728252</td>\n",
       "      <td>0.546562</td>\n",
       "      <td>0.769218</td>\n",
       "      <td>0.934666</td>\n",
       "      <td>0.496379</td>\n",
       "      <td>0.328326</td>\n",
       "      <td>0.611534</td>\n",
       "      <td>0.626122</td>\n",
       "      <td>0.309441</td>\n",
       "      <td>0.592080</td>\n",
       "      <td>0.726492</td>\n",
       "      <td>0.029500</td>\n",
       "    </tr>\n",
       "    <tr>\n",
       "      <th>Södermanland</th>\n",
       "      <td>0.912002</td>\n",
       "      <td>0.913086</td>\n",
       "      <td>0.826470</td>\n",
       "      <td>0.843867</td>\n",
       "      <td>0.742007</td>\n",
       "      <td>1.000000</td>\n",
       "      <td>0.935397</td>\n",
       "      <td>0.890879</td>\n",
       "      <td>0.919812</td>\n",
       "      <td>0.666803</td>\n",
       "      <td>0.861836</td>\n",
       "      <td>0.819782</td>\n",
       "      <td>0.839591</td>\n",
       "      <td>0.734929</td>\n",
       "      <td>0.810330</td>\n",
       "      <td>0.888893</td>\n",
       "      <td>0.747598</td>\n",
       "      <td>0.818094</td>\n",
       "      <td>0.757545</td>\n",
       "      <td>0.496441</td>\n",
       "    </tr>\n",
       "    <tr>\n",
       "      <th>Uppsala</th>\n",
       "      <td>0.906437</td>\n",
       "      <td>0.903484</td>\n",
       "      <td>0.836551</td>\n",
       "      <td>0.836592</td>\n",
       "      <td>0.728714</td>\n",
       "      <td>0.935397</td>\n",
       "      <td>1.000000</td>\n",
       "      <td>0.834167</td>\n",
       "      <td>0.951433</td>\n",
       "      <td>0.563244</td>\n",
       "      <td>0.822067</td>\n",
       "      <td>0.805795</td>\n",
       "      <td>0.879517</td>\n",
       "      <td>0.724591</td>\n",
       "      <td>0.791194</td>\n",
       "      <td>0.910907</td>\n",
       "      <td>0.725122</td>\n",
       "      <td>0.833061</td>\n",
       "      <td>0.812731</td>\n",
       "      <td>0.496166</td>\n",
       "    </tr>\n",
       "    <tr>\n",
       "      <th>Gävleborg</th>\n",
       "      <td>0.851443</td>\n",
       "      <td>0.892073</td>\n",
       "      <td>0.770706</td>\n",
       "      <td>0.758317</td>\n",
       "      <td>0.634586</td>\n",
       "      <td>0.890879</td>\n",
       "      <td>0.834167</td>\n",
       "      <td>1.000000</td>\n",
       "      <td>0.888467</td>\n",
       "      <td>0.611241</td>\n",
       "      <td>0.894599</td>\n",
       "      <td>0.780226</td>\n",
       "      <td>0.822392</td>\n",
       "      <td>0.799760</td>\n",
       "      <td>0.880823</td>\n",
       "      <td>0.863245</td>\n",
       "      <td>0.827918</td>\n",
       "      <td>0.790691</td>\n",
       "      <td>0.698229</td>\n",
       "      <td>0.388709</td>\n",
       "    </tr>\n",
       "    <tr>\n",
       "      <th>Västmanland</th>\n",
       "      <td>0.919852</td>\n",
       "      <td>0.902264</td>\n",
       "      <td>0.844795</td>\n",
       "      <td>0.858380</td>\n",
       "      <td>0.728252</td>\n",
       "      <td>0.919812</td>\n",
       "      <td>0.951433</td>\n",
       "      <td>0.888467</td>\n",
       "      <td>1.000000</td>\n",
       "      <td>0.591124</td>\n",
       "      <td>0.874052</td>\n",
       "      <td>0.816632</td>\n",
       "      <td>0.876964</td>\n",
       "      <td>0.703475</td>\n",
       "      <td>0.832255</td>\n",
       "      <td>0.882670</td>\n",
       "      <td>0.768168</td>\n",
       "      <td>0.795805</td>\n",
       "      <td>0.850684</td>\n",
       "      <td>0.471452</td>\n",
       "    </tr>\n",
       "    <tr>\n",
       "      <th>Örebro</th>\n",
       "      <td>0.608364</td>\n",
       "      <td>0.570380</td>\n",
       "      <td>0.357385</td>\n",
       "      <td>0.558964</td>\n",
       "      <td>0.546562</td>\n",
       "      <td>0.666803</td>\n",
       "      <td>0.563244</td>\n",
       "      <td>0.611241</td>\n",
       "      <td>0.591124</td>\n",
       "      <td>1.000000</td>\n",
       "      <td>0.661141</td>\n",
       "      <td>0.610308</td>\n",
       "      <td>0.579358</td>\n",
       "      <td>0.611706</td>\n",
       "      <td>0.725711</td>\n",
       "      <td>0.523089</td>\n",
       "      <td>0.391109</td>\n",
       "      <td>0.514327</td>\n",
       "      <td>0.427815</td>\n",
       "      <td>0.262842</td>\n",
       "    </tr>\n",
       "    <tr>\n",
       "      <th>Norrbotten</th>\n",
       "      <td>0.916373</td>\n",
       "      <td>0.880070</td>\n",
       "      <td>0.694584</td>\n",
       "      <td>0.861616</td>\n",
       "      <td>0.769218</td>\n",
       "      <td>0.861836</td>\n",
       "      <td>0.822067</td>\n",
       "      <td>0.894599</td>\n",
       "      <td>0.874052</td>\n",
       "      <td>0.661141</td>\n",
       "      <td>1.000000</td>\n",
       "      <td>0.853454</td>\n",
       "      <td>0.745972</td>\n",
       "      <td>0.691169</td>\n",
       "      <td>0.819275</td>\n",
       "      <td>0.850870</td>\n",
       "      <td>0.718718</td>\n",
       "      <td>0.728830</td>\n",
       "      <td>0.707527</td>\n",
       "      <td>0.232418</td>\n",
       "    </tr>\n",
       "    <tr>\n",
       "      <th>Dalarna</th>\n",
       "      <td>0.942713</td>\n",
       "      <td>0.705631</td>\n",
       "      <td>0.537343</td>\n",
       "      <td>0.937252</td>\n",
       "      <td>0.934666</td>\n",
       "      <td>0.819782</td>\n",
       "      <td>0.805795</td>\n",
       "      <td>0.780226</td>\n",
       "      <td>0.816632</td>\n",
       "      <td>0.610308</td>\n",
       "      <td>0.853454</td>\n",
       "      <td>1.000000</td>\n",
       "      <td>0.650920</td>\n",
       "      <td>0.501506</td>\n",
       "      <td>0.772855</td>\n",
       "      <td>0.731055</td>\n",
       "      <td>0.510102</td>\n",
       "      <td>0.754358</td>\n",
       "      <td>0.761065</td>\n",
       "      <td>0.101755</td>\n",
       "    </tr>\n",
       "    <tr>\n",
       "      <th>Västernorrland</th>\n",
       "      <td>0.767337</td>\n",
       "      <td>0.886026</td>\n",
       "      <td>0.825453</td>\n",
       "      <td>0.634197</td>\n",
       "      <td>0.496379</td>\n",
       "      <td>0.839591</td>\n",
       "      <td>0.879517</td>\n",
       "      <td>0.822392</td>\n",
       "      <td>0.876964</td>\n",
       "      <td>0.579358</td>\n",
       "      <td>0.745972</td>\n",
       "      <td>0.650920</td>\n",
       "      <td>1.000000</td>\n",
       "      <td>0.820663</td>\n",
       "      <td>0.802359</td>\n",
       "      <td>0.835250</td>\n",
       "      <td>0.777589</td>\n",
       "      <td>0.870798</td>\n",
       "      <td>0.690680</td>\n",
       "      <td>0.518825</td>\n",
       "    </tr>\n",
       "    <tr>\n",
       "      <th>Värmland</th>\n",
       "      <td>0.609362</td>\n",
       "      <td>0.854733</td>\n",
       "      <td>0.701450</td>\n",
       "      <td>0.456047</td>\n",
       "      <td>0.328326</td>\n",
       "      <td>0.734929</td>\n",
       "      <td>0.724591</td>\n",
       "      <td>0.799760</td>\n",
       "      <td>0.703475</td>\n",
       "      <td>0.611706</td>\n",
       "      <td>0.691169</td>\n",
       "      <td>0.501506</td>\n",
       "      <td>0.820663</td>\n",
       "      <td>1.000000</td>\n",
       "      <td>0.812259</td>\n",
       "      <td>0.787782</td>\n",
       "      <td>0.729781</td>\n",
       "      <td>0.722971</td>\n",
       "      <td>0.453676</td>\n",
       "      <td>0.507816</td>\n",
       "    </tr>\n",
       "    <tr>\n",
       "      <th>Halland</th>\n",
       "      <td>0.797345</td>\n",
       "      <td>0.793608</td>\n",
       "      <td>0.634010</td>\n",
       "      <td>0.695051</td>\n",
       "      <td>0.611534</td>\n",
       "      <td>0.810330</td>\n",
       "      <td>0.791194</td>\n",
       "      <td>0.880823</td>\n",
       "      <td>0.832255</td>\n",
       "      <td>0.725711</td>\n",
       "      <td>0.819275</td>\n",
       "      <td>0.772855</td>\n",
       "      <td>0.802359</td>\n",
       "      <td>0.812259</td>\n",
       "      <td>1.000000</td>\n",
       "      <td>0.792871</td>\n",
       "      <td>0.690111</td>\n",
       "      <td>0.780991</td>\n",
       "      <td>0.650033</td>\n",
       "      <td>0.283883</td>\n",
       "    </tr>\n",
       "    <tr>\n",
       "      <th>Kalmar</th>\n",
       "      <td>0.845498</td>\n",
       "      <td>0.925145</td>\n",
       "      <td>0.837116</td>\n",
       "      <td>0.749121</td>\n",
       "      <td>0.626122</td>\n",
       "      <td>0.888893</td>\n",
       "      <td>0.910907</td>\n",
       "      <td>0.863245</td>\n",
       "      <td>0.882670</td>\n",
       "      <td>0.523089</td>\n",
       "      <td>0.850870</td>\n",
       "      <td>0.731055</td>\n",
       "      <td>0.835250</td>\n",
       "      <td>0.787782</td>\n",
       "      <td>0.792871</td>\n",
       "      <td>1.000000</td>\n",
       "      <td>0.767799</td>\n",
       "      <td>0.795039</td>\n",
       "      <td>0.721932</td>\n",
       "      <td>0.414061</td>\n",
       "    </tr>\n",
       "    <tr>\n",
       "      <th>Kronoberg</th>\n",
       "      <td>0.634756</td>\n",
       "      <td>0.855745</td>\n",
       "      <td>0.895035</td>\n",
       "      <td>0.519094</td>\n",
       "      <td>0.309441</td>\n",
       "      <td>0.747598</td>\n",
       "      <td>0.725122</td>\n",
       "      <td>0.827918</td>\n",
       "      <td>0.768168</td>\n",
       "      <td>0.391109</td>\n",
       "      <td>0.718718</td>\n",
       "      <td>0.510102</td>\n",
       "      <td>0.777589</td>\n",
       "      <td>0.729781</td>\n",
       "      <td>0.690111</td>\n",
       "      <td>0.767799</td>\n",
       "      <td>1.000000</td>\n",
       "      <td>0.673835</td>\n",
       "      <td>0.556837</td>\n",
       "      <td>0.612768</td>\n",
       "    </tr>\n",
       "    <tr>\n",
       "      <th>Västerbotten</th>\n",
       "      <td>0.777421</td>\n",
       "      <td>0.805349</td>\n",
       "      <td>0.708041</td>\n",
       "      <td>0.666688</td>\n",
       "      <td>0.592080</td>\n",
       "      <td>0.818094</td>\n",
       "      <td>0.833061</td>\n",
       "      <td>0.790691</td>\n",
       "      <td>0.795805</td>\n",
       "      <td>0.514327</td>\n",
       "      <td>0.728830</td>\n",
       "      <td>0.754358</td>\n",
       "      <td>0.870798</td>\n",
       "      <td>0.722971</td>\n",
       "      <td>0.780991</td>\n",
       "      <td>0.795039</td>\n",
       "      <td>0.673835</td>\n",
       "      <td>1.000000</td>\n",
       "      <td>0.654880</td>\n",
       "      <td>0.312321</td>\n",
       "    </tr>\n",
       "    <tr>\n",
       "      <th>Jämtland</th>\n",
       "      <td>0.834126</td>\n",
       "      <td>0.664991</td>\n",
       "      <td>0.714445</td>\n",
       "      <td>0.848179</td>\n",
       "      <td>0.726492</td>\n",
       "      <td>0.757545</td>\n",
       "      <td>0.812731</td>\n",
       "      <td>0.698229</td>\n",
       "      <td>0.850684</td>\n",
       "      <td>0.427815</td>\n",
       "      <td>0.707527</td>\n",
       "      <td>0.761065</td>\n",
       "      <td>0.690680</td>\n",
       "      <td>0.453676</td>\n",
       "      <td>0.650033</td>\n",
       "      <td>0.721932</td>\n",
       "      <td>0.556837</td>\n",
       "      <td>0.654880</td>\n",
       "      <td>1.000000</td>\n",
       "      <td>0.311147</td>\n",
       "    </tr>\n",
       "    <tr>\n",
       "      <th>Blekinge</th>\n",
       "      <td>0.277613</td>\n",
       "      <td>0.540573</td>\n",
       "      <td>0.703238</td>\n",
       "      <td>0.214819</td>\n",
       "      <td>0.029500</td>\n",
       "      <td>0.496441</td>\n",
       "      <td>0.496166</td>\n",
       "      <td>0.388709</td>\n",
       "      <td>0.471452</td>\n",
       "      <td>0.262842</td>\n",
       "      <td>0.232418</td>\n",
       "      <td>0.101755</td>\n",
       "      <td>0.518825</td>\n",
       "      <td>0.507816</td>\n",
       "      <td>0.283883</td>\n",
       "      <td>0.414061</td>\n",
       "      <td>0.612768</td>\n",
       "      <td>0.312321</td>\n",
       "      <td>0.311147</td>\n",
       "      <td>1.000000</td>\n",
       "    </tr>\n",
       "  </tbody>\n",
       "</table>\n",
       "</div>"
      ],
      "text/plain": [
       "                   Sthlm       VGR     Skåne  Östergötland  Jönköping  \\\n",
       "Sthlm           1.000000  0.843206  0.707943      0.968330   0.911792   \n",
       "VGR             0.843206  1.000000  0.887548      0.728929   0.583918   \n",
       "Skåne           0.707943  0.887548  1.000000      0.621677   0.400992   \n",
       "Östergötland    0.968330  0.728929  0.621677      1.000000   0.949446   \n",
       "Jönköping       0.911792  0.583918  0.400992      0.949446   1.000000   \n",
       "Södermanland    0.912002  0.913086  0.826470      0.843867   0.742007   \n",
       "Uppsala         0.906437  0.903484  0.836551      0.836592   0.728714   \n",
       "Gävleborg       0.851443  0.892073  0.770706      0.758317   0.634586   \n",
       "Västmanland     0.919852  0.902264  0.844795      0.858380   0.728252   \n",
       "Örebro          0.608364  0.570380  0.357385      0.558964   0.546562   \n",
       "Norrbotten      0.916373  0.880070  0.694584      0.861616   0.769218   \n",
       "Dalarna         0.942713  0.705631  0.537343      0.937252   0.934666   \n",
       "Västernorrland  0.767337  0.886026  0.825453      0.634197   0.496379   \n",
       "Värmland        0.609362  0.854733  0.701450      0.456047   0.328326   \n",
       "Halland         0.797345  0.793608  0.634010      0.695051   0.611534   \n",
       "Kalmar          0.845498  0.925145  0.837116      0.749121   0.626122   \n",
       "Kronoberg       0.634756  0.855745  0.895035      0.519094   0.309441   \n",
       "Västerbotten    0.777421  0.805349  0.708041      0.666688   0.592080   \n",
       "Jämtland        0.834126  0.664991  0.714445      0.848179   0.726492   \n",
       "Blekinge        0.277613  0.540573  0.703238      0.214819   0.029500   \n",
       "\n",
       "                Södermanland   Uppsala  Gävleborg  Västmanland    Örebro  \\\n",
       "Sthlm               0.912002  0.906437   0.851443     0.919852  0.608364   \n",
       "VGR                 0.913086  0.903484   0.892073     0.902264  0.570380   \n",
       "Skåne               0.826470  0.836551   0.770706     0.844795  0.357385   \n",
       "Östergötland        0.843867  0.836592   0.758317     0.858380  0.558964   \n",
       "Jönköping           0.742007  0.728714   0.634586     0.728252  0.546562   \n",
       "Södermanland        1.000000  0.935397   0.890879     0.919812  0.666803   \n",
       "Uppsala             0.935397  1.000000   0.834167     0.951433  0.563244   \n",
       "Gävleborg           0.890879  0.834167   1.000000     0.888467  0.611241   \n",
       "Västmanland         0.919812  0.951433   0.888467     1.000000  0.591124   \n",
       "Örebro              0.666803  0.563244   0.611241     0.591124  1.000000   \n",
       "Norrbotten          0.861836  0.822067   0.894599     0.874052  0.661141   \n",
       "Dalarna             0.819782  0.805795   0.780226     0.816632  0.610308   \n",
       "Västernorrland      0.839591  0.879517   0.822392     0.876964  0.579358   \n",
       "Värmland            0.734929  0.724591   0.799760     0.703475  0.611706   \n",
       "Halland             0.810330  0.791194   0.880823     0.832255  0.725711   \n",
       "Kalmar              0.888893  0.910907   0.863245     0.882670  0.523089   \n",
       "Kronoberg           0.747598  0.725122   0.827918     0.768168  0.391109   \n",
       "Västerbotten        0.818094  0.833061   0.790691     0.795805  0.514327   \n",
       "Jämtland            0.757545  0.812731   0.698229     0.850684  0.427815   \n",
       "Blekinge            0.496441  0.496166   0.388709     0.471452  0.262842   \n",
       "\n",
       "                Norrbotten   Dalarna  Västernorrland  Värmland   Halland  \\\n",
       "Sthlm             0.916373  0.942713        0.767337  0.609362  0.797345   \n",
       "VGR               0.880070  0.705631        0.886026  0.854733  0.793608   \n",
       "Skåne             0.694584  0.537343        0.825453  0.701450  0.634010   \n",
       "Östergötland      0.861616  0.937252        0.634197  0.456047  0.695051   \n",
       "Jönköping         0.769218  0.934666        0.496379  0.328326  0.611534   \n",
       "Södermanland      0.861836  0.819782        0.839591  0.734929  0.810330   \n",
       "Uppsala           0.822067  0.805795        0.879517  0.724591  0.791194   \n",
       "Gävleborg         0.894599  0.780226        0.822392  0.799760  0.880823   \n",
       "Västmanland       0.874052  0.816632        0.876964  0.703475  0.832255   \n",
       "Örebro            0.661141  0.610308        0.579358  0.611706  0.725711   \n",
       "Norrbotten        1.000000  0.853454        0.745972  0.691169  0.819275   \n",
       "Dalarna           0.853454  1.000000        0.650920  0.501506  0.772855   \n",
       "Västernorrland    0.745972  0.650920        1.000000  0.820663  0.802359   \n",
       "Värmland          0.691169  0.501506        0.820663  1.000000  0.812259   \n",
       "Halland           0.819275  0.772855        0.802359  0.812259  1.000000   \n",
       "Kalmar            0.850870  0.731055        0.835250  0.787782  0.792871   \n",
       "Kronoberg         0.718718  0.510102        0.777589  0.729781  0.690111   \n",
       "Västerbotten      0.728830  0.754358        0.870798  0.722971  0.780991   \n",
       "Jämtland          0.707527  0.761065        0.690680  0.453676  0.650033   \n",
       "Blekinge          0.232418  0.101755        0.518825  0.507816  0.283883   \n",
       "\n",
       "                  Kalmar  Kronoberg  Västerbotten  Jämtland  Blekinge  \n",
       "Sthlm           0.845498   0.634756      0.777421  0.834126  0.277613  \n",
       "VGR             0.925145   0.855745      0.805349  0.664991  0.540573  \n",
       "Skåne           0.837116   0.895035      0.708041  0.714445  0.703238  \n",
       "Östergötland    0.749121   0.519094      0.666688  0.848179  0.214819  \n",
       "Jönköping       0.626122   0.309441      0.592080  0.726492  0.029500  \n",
       "Södermanland    0.888893   0.747598      0.818094  0.757545  0.496441  \n",
       "Uppsala         0.910907   0.725122      0.833061  0.812731  0.496166  \n",
       "Gävleborg       0.863245   0.827918      0.790691  0.698229  0.388709  \n",
       "Västmanland     0.882670   0.768168      0.795805  0.850684  0.471452  \n",
       "Örebro          0.523089   0.391109      0.514327  0.427815  0.262842  \n",
       "Norrbotten      0.850870   0.718718      0.728830  0.707527  0.232418  \n",
       "Dalarna         0.731055   0.510102      0.754358  0.761065  0.101755  \n",
       "Västernorrland  0.835250   0.777589      0.870798  0.690680  0.518825  \n",
       "Värmland        0.787782   0.729781      0.722971  0.453676  0.507816  \n",
       "Halland         0.792871   0.690111      0.780991  0.650033  0.283883  \n",
       "Kalmar          1.000000   0.767799      0.795039  0.721932  0.414061  \n",
       "Kronoberg       0.767799   1.000000      0.673835  0.556837  0.612768  \n",
       "Västerbotten    0.795039   0.673835      1.000000  0.654880  0.312321  \n",
       "Jämtland        0.721932   0.556837      0.654880  1.000000  0.311147  \n",
       "Blekinge        0.414061   0.612768      0.312321  0.311147  1.000000  "
      ]
     },
     "execution_count": 9,
     "metadata": {},
     "output_type": "execute_result"
    }
   ],
   "source": [
    "df.corr()"
   ]
  },
  {
   "cell_type": "code",
   "execution_count": 10,
   "id": "b14e1483-a38e-49b5-b001-60397229e9b7",
   "metadata": {},
   "outputs": [
    {
     "data": {
      "image/png": "[encoded data removed]",
      "text/plain": [
       "<Figure size 1200x800 with 2 Axes>"
      ]
     },
     "metadata": {},
     "output_type": "display_data"
    }
   ],
   "source": [
    "import seaborn as sns\n",
    "\n",
    "\n",
    "corr = df.corr()\n",
    "\n",
    "# Set up the matplotlib figure\n",
    "plt.figure(figsize=(12, 8))\n",
    "\n",
    "# Generate a custom diverging colormap\n",
    "cmap = sns.diverging_palette(220, 20, as_cmap=True)\n",
    "\n",
    "# Draw the heatmap\n",
    "sns.heatmap(\n",
    "    corr,\n",
    "    cmap=cmap,\n",
    "           # show correlation coefficients\n",
    "    fmt=\".2f\",        # format for annotations\n",
    "    linewidths=0.5,   # space between cells\n",
    "    square=True,      # keep the cells square\n",
    "    cbar_kws={\"shrink\": 0.75},  # color bar size\n",
    "    center=0   ,\n",
    "    annot_kws={\"size\": 8}       # center the colormap at zero\n",
    ")\n",
    "\n",
    "# Add title and tweak layout\n",
    "plt.title('Correlation Heatmap', fontsize=16)\n",
    "plt.xticks(fontsize=12)\n",
    "plt.yticks(fontsize=12)\n",
    "plt.tight_layout()\n",
    "plt.savefig(\"../data/correlation_heatmap.svg\", format=\"svg\")\n",
    "\n",
    "# Display the plot\n",
    "plt.show()"
   ]
  },
  {
   "cell_type": "code",
   "execution_count": 11,
   "id": "a9e2031f-3829-4a48-bfe1-f5f3793035d5",
   "metadata": {},
   "outputs": [
    {
     "data": {
      "text/html": [
       "<div>\n",
       "<style scoped>\n",
       "    .dataframe tbody tr th:only-of-type {\n",
       "        vertical-align: middle;\n",
       "    }\n",
       "\n",
       "    .dataframe tbody tr th {\n",
       "        vertical-align: top;\n",
       "    }\n",
       "\n",
       "    .dataframe thead th {\n",
       "        text-align: right;\n",
       "    }\n",
       "</style>\n",
       "<table border=\"1\" class=\"dataframe\">\n",
       "  <thead>\n",
       "    <tr style=\"text-align: right;\">\n",
       "      <th></th>\n",
       "      <th>Sthlm</th>\n",
       "    </tr>\n",
       "  </thead>\n",
       "  <tbody>\n",
       "    <tr>\n",
       "      <th>Sthlm</th>\n",
       "      <td>1.000000</td>\n",
       "    </tr>\n",
       "    <tr>\n",
       "      <th>Östergötland</th>\n",
       "      <td>0.968330</td>\n",
       "    </tr>\n",
       "    <tr>\n",
       "      <th>Dalarna</th>\n",
       "      <td>0.942713</td>\n",
       "    </tr>\n",
       "    <tr>\n",
       "      <th>Västmanland</th>\n",
       "      <td>0.919852</td>\n",
       "    </tr>\n",
       "    <tr>\n",
       "      <th>Norrbotten</th>\n",
       "      <td>0.916373</td>\n",
       "    </tr>\n",
       "    <tr>\n",
       "      <th>Södermanland</th>\n",
       "      <td>0.912002</td>\n",
       "    </tr>\n",
       "    <tr>\n",
       "      <th>Jönköping</th>\n",
       "      <td>0.911792</td>\n",
       "    </tr>\n",
       "    <tr>\n",
       "      <th>Uppsala</th>\n",
       "      <td>0.906437</td>\n",
       "    </tr>\n",
       "    <tr>\n",
       "      <th>Gävleborg</th>\n",
       "      <td>0.851443</td>\n",
       "    </tr>\n",
       "    <tr>\n",
       "      <th>Kalmar</th>\n",
       "      <td>0.845498</td>\n",
       "    </tr>\n",
       "    <tr>\n",
       "      <th>VGR</th>\n",
       "      <td>0.843206</td>\n",
       "    </tr>\n",
       "    <tr>\n",
       "      <th>Jämtland</th>\n",
       "      <td>0.834126</td>\n",
       "    </tr>\n",
       "    <tr>\n",
       "      <th>Halland</th>\n",
       "      <td>0.797345</td>\n",
       "    </tr>\n",
       "    <tr>\n",
       "      <th>Västerbotten</th>\n",
       "      <td>0.777421</td>\n",
       "    </tr>\n",
       "    <tr>\n",
       "      <th>Västernorrland</th>\n",
       "      <td>0.767337</td>\n",
       "    </tr>\n",
       "    <tr>\n",
       "      <th>Skåne</th>\n",
       "      <td>0.707943</td>\n",
       "    </tr>\n",
       "    <tr>\n",
       "      <th>Kronoberg</th>\n",
       "      <td>0.634756</td>\n",
       "    </tr>\n",
       "    <tr>\n",
       "      <th>Värmland</th>\n",
       "      <td>0.609362</td>\n",
       "    </tr>\n",
       "    <tr>\n",
       "      <th>Örebro</th>\n",
       "      <td>0.608364</td>\n",
       "    </tr>\n",
       "    <tr>\n",
       "      <th>Blekinge</th>\n",
       "      <td>0.277613</td>\n",
       "    </tr>\n",
       "  </tbody>\n",
       "</table>\n",
       "</div>"
      ],
      "text/plain": [
       "                   Sthlm\n",
       "Sthlm           1.000000\n",
       "Östergötland    0.968330\n",
       "Dalarna         0.942713\n",
       "Västmanland     0.919852\n",
       "Norrbotten      0.916373\n",
       "Södermanland    0.912002\n",
       "Jönköping       0.911792\n",
       "Uppsala         0.906437\n",
       "Gävleborg       0.851443\n",
       "Kalmar          0.845498\n",
       "VGR             0.843206\n",
       "Jämtland        0.834126\n",
       "Halland         0.797345\n",
       "Västerbotten    0.777421\n",
       "Västernorrland  0.767337\n",
       "Skåne           0.707943\n",
       "Kronoberg       0.634756\n",
       "Värmland        0.609362\n",
       "Örebro          0.608364\n",
       "Blekinge        0.277613"
      ]
     },
     "execution_count": 11,
     "metadata": {},
     "output_type": "execute_result"
    }
   ],
   "source": [
    "df_Sthlm = pd.DataFrame(df.corr().loc['Sthlm']).sort_values(by = 'Sthlm', ascending=False)\n",
    "df_Sthlm"
   ]
  },
  {
   "cell_type": "code",
   "execution_count": 12,
   "id": "afe13041-7d60-4134-9a21-da4c1db22352",
   "metadata": {},
   "outputs": [
    {
     "data": {
      "text/html": [
       "<div>\n",
       "<style scoped>\n",
       "    .dataframe tbody tr th:only-of-type {\n",
       "        vertical-align: middle;\n",
       "    }\n",
       "\n",
       "    .dataframe tbody tr th {\n",
       "        vertical-align: top;\n",
       "    }\n",
       "\n",
       "    .dataframe thead th {\n",
       "        text-align: right;\n",
       "    }\n",
       "</style>\n",
       "<table border=\"1\" class=\"dataframe\">\n",
       "  <thead>\n",
       "    <tr style=\"text-align: right;\">\n",
       "      <th></th>\n",
       "      <th>Skåne</th>\n",
       "    </tr>\n",
       "  </thead>\n",
       "  <tbody>\n",
       "    <tr>\n",
       "      <th>Skåne</th>\n",
       "      <td>1.000000</td>\n",
       "    </tr>\n",
       "    <tr>\n",
       "      <th>Kronoberg</th>\n",
       "      <td>0.895035</td>\n",
       "    </tr>\n",
       "    <tr>\n",
       "      <th>VGR</th>\n",
       "      <td>0.887548</td>\n",
       "    </tr>\n",
       "    <tr>\n",
       "      <th>Västmanland</th>\n",
       "      <td>0.844795</td>\n",
       "    </tr>\n",
       "    <tr>\n",
       "      <th>Kalmar</th>\n",
       "      <td>0.837116</td>\n",
       "    </tr>\n",
       "    <tr>\n",
       "      <th>Uppsala</th>\n",
       "      <td>0.836551</td>\n",
       "    </tr>\n",
       "    <tr>\n",
       "      <th>Södermanland</th>\n",
       "      <td>0.826470</td>\n",
       "    </tr>\n",
       "    <tr>\n",
       "      <th>Västernorrland</th>\n",
       "      <td>0.825453</td>\n",
       "    </tr>\n",
       "    <tr>\n",
       "      <th>Gävleborg</th>\n",
       "      <td>0.770706</td>\n",
       "    </tr>\n",
       "    <tr>\n",
       "      <th>Jämtland</th>\n",
       "      <td>0.714445</td>\n",
       "    </tr>\n",
       "    <tr>\n",
       "      <th>Västerbotten</th>\n",
       "      <td>0.708041</td>\n",
       "    </tr>\n",
       "    <tr>\n",
       "      <th>Sthlm</th>\n",
       "      <td>0.707943</td>\n",
       "    </tr>\n",
       "    <tr>\n",
       "      <th>Blekinge</th>\n",
       "      <td>0.703238</td>\n",
       "    </tr>\n",
       "    <tr>\n",
       "      <th>Värmland</th>\n",
       "      <td>0.701450</td>\n",
       "    </tr>\n",
       "    <tr>\n",
       "      <th>Norrbotten</th>\n",
       "      <td>0.694584</td>\n",
       "    </tr>\n",
       "    <tr>\n",
       "      <th>Halland</th>\n",
       "      <td>0.634010</td>\n",
       "    </tr>\n",
       "    <tr>\n",
       "      <th>Östergötland</th>\n",
       "      <td>0.621677</td>\n",
       "    </tr>\n",
       "    <tr>\n",
       "      <th>Dalarna</th>\n",
       "      <td>0.537343</td>\n",
       "    </tr>\n",
       "    <tr>\n",
       "      <th>Jönköping</th>\n",
       "      <td>0.400992</td>\n",
       "    </tr>\n",
       "    <tr>\n",
       "      <th>Örebro</th>\n",
       "      <td>0.357385</td>\n",
       "    </tr>\n",
       "  </tbody>\n",
       "</table>\n",
       "</div>"
      ],
      "text/plain": [
       "                   Skåne\n",
       "Skåne           1.000000\n",
       "Kronoberg       0.895035\n",
       "VGR             0.887548\n",
       "Västmanland     0.844795\n",
       "Kalmar          0.837116\n",
       "Uppsala         0.836551\n",
       "Södermanland    0.826470\n",
       "Västernorrland  0.825453\n",
       "Gävleborg       0.770706\n",
       "Jämtland        0.714445\n",
       "Västerbotten    0.708041\n",
       "Sthlm           0.707943\n",
       "Blekinge        0.703238\n",
       "Värmland        0.701450\n",
       "Norrbotten      0.694584\n",
       "Halland         0.634010\n",
       "Östergötland    0.621677\n",
       "Dalarna         0.537343\n",
       "Jönköping       0.400992\n",
       "Örebro          0.357385"
      ]
     },
     "execution_count": 12,
     "metadata": {},
     "output_type": "execute_result"
    }
   ],
   "source": [
    "df_Skåne= pd.DataFrame(df.corr().loc['Skåne']).sort_values(by = 'Skåne', ascending=False)\n",
    "df_Skåne"
   ]
  },
  {
   "cell_type": "code",
   "execution_count": 13,
   "id": "018a019a-accd-4651-a9a1-65d0a64c9961",
   "metadata": {},
   "outputs": [
    {
     "data": {
      "text/html": [
       "<div>\n",
       "<style scoped>\n",
       "    .dataframe tbody tr th:only-of-type {\n",
       "        vertical-align: middle;\n",
       "    }\n",
       "\n",
       "    .dataframe tbody tr th {\n",
       "        vertical-align: top;\n",
       "    }\n",
       "\n",
       "    .dataframe thead th {\n",
       "        text-align: right;\n",
       "    }\n",
       "</style>\n",
       "<table border=\"1\" class=\"dataframe\">\n",
       "  <thead>\n",
       "    <tr style=\"text-align: right;\">\n",
       "      <th></th>\n",
       "      <th>Uppsala</th>\n",
       "    </tr>\n",
       "  </thead>\n",
       "  <tbody>\n",
       "    <tr>\n",
       "      <th>Uppsala</th>\n",
       "      <td>1.000000</td>\n",
       "    </tr>\n",
       "    <tr>\n",
       "      <th>Västmanland</th>\n",
       "      <td>0.951433</td>\n",
       "    </tr>\n",
       "    <tr>\n",
       "      <th>Södermanland</th>\n",
       "      <td>0.935397</td>\n",
       "    </tr>\n",
       "    <tr>\n",
       "      <th>Kalmar</th>\n",
       "      <td>0.910907</td>\n",
       "    </tr>\n",
       "    <tr>\n",
       "      <th>Sthlm</th>\n",
       "      <td>0.906437</td>\n",
       "    </tr>\n",
       "    <tr>\n",
       "      <th>VGR</th>\n",
       "      <td>0.903484</td>\n",
       "    </tr>\n",
       "    <tr>\n",
       "      <th>Västernorrland</th>\n",
       "      <td>0.879517</td>\n",
       "    </tr>\n",
       "    <tr>\n",
       "      <th>Östergötland</th>\n",
       "      <td>0.836592</td>\n",
       "    </tr>\n",
       "    <tr>\n",
       "      <th>Skåne</th>\n",
       "      <td>0.836551</td>\n",
       "    </tr>\n",
       "    <tr>\n",
       "      <th>Gävleborg</th>\n",
       "      <td>0.834167</td>\n",
       "    </tr>\n",
       "    <tr>\n",
       "      <th>Västerbotten</th>\n",
       "      <td>0.833061</td>\n",
       "    </tr>\n",
       "    <tr>\n",
       "      <th>Norrbotten</th>\n",
       "      <td>0.822067</td>\n",
       "    </tr>\n",
       "    <tr>\n",
       "      <th>Jämtland</th>\n",
       "      <td>0.812731</td>\n",
       "    </tr>\n",
       "    <tr>\n",
       "      <th>Dalarna</th>\n",
       "      <td>0.805795</td>\n",
       "    </tr>\n",
       "    <tr>\n",
       "      <th>Halland</th>\n",
       "      <td>0.791194</td>\n",
       "    </tr>\n",
       "    <tr>\n",
       "      <th>Jönköping</th>\n",
       "      <td>0.728714</td>\n",
       "    </tr>\n",
       "    <tr>\n",
       "      <th>Kronoberg</th>\n",
       "      <td>0.725122</td>\n",
       "    </tr>\n",
       "    <tr>\n",
       "      <th>Värmland</th>\n",
       "      <td>0.724591</td>\n",
       "    </tr>\n",
       "    <tr>\n",
       "      <th>Örebro</th>\n",
       "      <td>0.563244</td>\n",
       "    </tr>\n",
       "    <tr>\n",
       "      <th>Blekinge</th>\n",
       "      <td>0.496166</td>\n",
       "    </tr>\n",
       "  </tbody>\n",
       "</table>\n",
       "</div>"
      ],
      "text/plain": [
       "                 Uppsala\n",
       "Uppsala         1.000000\n",
       "Västmanland     0.951433\n",
       "Södermanland    0.935397\n",
       "Kalmar          0.910907\n",
       "Sthlm           0.906437\n",
       "VGR             0.903484\n",
       "Västernorrland  0.879517\n",
       "Östergötland    0.836592\n",
       "Skåne           0.836551\n",
       "Gävleborg       0.834167\n",
       "Västerbotten    0.833061\n",
       "Norrbotten      0.822067\n",
       "Jämtland        0.812731\n",
       "Dalarna         0.805795\n",
       "Halland         0.791194\n",
       "Jönköping       0.728714\n",
       "Kronoberg       0.725122\n",
       "Värmland        0.724591\n",
       "Örebro          0.563244\n",
       "Blekinge        0.496166"
      ]
     },
     "execution_count": 13,
     "metadata": {},
     "output_type": "execute_result"
    }
   ],
   "source": [
    "df_Uppsala= pd.DataFrame(df.corr().loc['Uppsala']).sort_values(by = 'Uppsala', ascending=False)\n",
    "df_Uppsala"
   ]
  },
  {
   "cell_type": "markdown",
   "id": "be6811a4-ed8c-4122-9df4-19c8f422763b",
   "metadata": {},
   "source": [
    "# 3. Modeling"
   ]
  },
  {
   "cell_type": "markdown",
   "id": "14ceef0d-4cf5-49ce-83e5-0be600f77ca8",
   "metadata": {},
   "source": [
    "#### S[Sthlm]=x0      \n",
    "\n",
    "#### E[Sthlm]=x1       \n",
    "\n",
    "#### I[Sthlm]=x2       \n",
    "\n",
    "#### R[Sthlm]=x3\n",
    "\n",
    "#### S[Södermanland]=x4      \n",
    "\n",
    "#### E[Södermanland]=x5       \n",
    "\n",
    "#### I[Södermanland]=x6       \n",
    "\n",
    "#### R[Södermanland]=x7"
   ]
  },
  {
   "cell_type": "code",
   "execution_count": 14,
   "id": "791124ec-7054-4535-99f1-6f1eb462514b",
   "metadata": {},
   "outputs": [],
   "source": [
    "name_list = ['Sthlm', 'Södermanland']\n",
    "transit_fkn_dct = loadMobility_list(name_list, starting_week = 6) \n",
    "getData_dict = getData_list(name_list, first_case = 9) \n",
    "region_0 = name_list[0]\n",
    "region_1 = name_list[1]\n",
    "I_train = [getData_dict[name_list[0]]['I'],\n",
    "           getData_dict[name_list[1]]['I']]\n",
    "weeks_train = getData_dict[region_0]['veckor'] \n",
    "\n",
    "def beta(t, a, b, transit_fkn):\n",
    "    return a + b * transit_fkn(t)\n",
    "\n",
    "def dx(x, t, N, a, b, c, lag):\n",
    "    S0, E0, I0, R0, S1, E1, I1, R1 = x[0], x[1], x[2], x[3], x[4], x[5], x[6], x[7]\n",
    "\n",
    "    dS0 =  - S0 * (beta(t-lag, a[0], b[0], transit_fkn_dct[region_0]) * I0/N[0] + c*I1/N[1])\n",
    "    dS1 =  - S1 * (beta(t-lag, a[1], b[1], transit_fkn_dct[region_1]) * I1/N[1] + c*I0/N[0])\n",
    "    dE0 =    S0 * (beta(t-lag, a[0], b[0], transit_fkn_dct[region_0]) * I0/N[0] + c*I1/N[1]) - rho*E0\n",
    "    dE1 =    S1 * (beta(t-lag, a[1], b[1], transit_fkn_dct[region_1]) * I1/N[1] + c*I0/N[0]) - rho*E1\n",
    "    dI0 =  rho*E0 - gamma*I0\n",
    "    dI1 =  rho*E1 - gamma*I1\n",
    "    dR0 =  gamma*I0\n",
    "    dR1 =  gamma*I1\n",
    "\n",
    "    return [dS0, dE0, dI0, dR0,\n",
    "            dS1, dE1, dI1, dR1]\n",
    "\n",
    "def pred_inlagda(t, a1, b1, a2, b2, c, lag):\n",
    "    N = [getData_dict[name_list[0]]['N'],\n",
    "         getData_dict[name_list[1]]['N']]\n",
    "    x0 = [N[0]-1, 0, 1, 0,\n",
    "          N[1]-1, 0, 1, 0] #initial conditions\n",
    "    x = odeint(dx, x0, t, args=(N, [a1, a2], [b1, b2], c, lag))\n",
    "    return pv*x[:, [2, 6]]"
   ]
  },
  {
   "cell_type": "code",
   "execution_count": 15,
   "id": "1118df0d-ad5d-42f7-ba63-39c463388075",
   "metadata": {},
   "outputs": [
    {
     "data": {
      "text/plain": [
       "[<matplotlib.lines.Line2D at 0x7f14d6f7c800>]"
      ]
     },
     "execution_count": 15,
     "metadata": {},
     "output_type": "execute_result"
    },
    {
     "data": {
      "image/png": "[encoded data removed]",
      "text/plain": [
       "<Figure size 1000x800 with 1 Axes>"
      ]
     },
     "metadata": {},
     "output_type": "display_data"
    }
   ],
   "source": [
    "a = [4.759494, 3.51321353491882]\n",
    "b = [9.215190, 8.31602766854372]\n",
    "c = 0\n",
    "P = pred_inlagda(weeks_train, a[0], b[0], a[1], b[1], c, delay)\n",
    "fig, axes = plt.subplots(1, 1, figsize = (10, 8))\n",
    "axes.plot(weeks_train+6, P[:,0], 'r', label = \"Prediktion med resor\") \n",
    "axes.plot(weeks_train+6, I_train[0], 'ko', label = \"Inlagda\")\n",
    "axes.plot(weeks_train+6, P[:,1], 'b', label = \"Prediktion med resor\") \n",
    "axes.plot(weeks_train+6, I_train[1], 'kx', label = \"Inlagda\")"
   ]
  },
  {
   "cell_type": "code",
   "execution_count": 16,
   "id": "565e43c8-5a8a-45c6-857b-6b97c6276197",
   "metadata": {},
   "outputs": [],
   "source": [
    "def return_RMSE(P, I):\n",
    "    return np.sqrt(np.mean((P - I)**2))\n",
    "\n",
    "def return_CV_RMSE(P, I):\n",
    "    return 100 * return_RMSE(P, I) / np.mean(I)"
   ]
  },
  {
   "cell_type": "code",
   "execution_count": 17,
   "id": "1fa1f91a-f04e-45e9-984c-a4909121820a",
   "metadata": {},
   "outputs": [
    {
     "name": "stdout",
     "output_type": "stream",
     "text": [
      "213.13377135289534\n",
      "23.71617047039272\n",
      "75.9083475336786\n",
      "87.12062621776917\n"
     ]
    }
   ],
   "source": [
    "print(return_RMSE(P[:,0], I_train[0]))\n",
    "print(return_RMSE(P[:,1], I_train[1]))\n",
    "print(return_CV_RMSE(P[:,0], I_train[0]))\n",
    "print(return_CV_RMSE(P[:,1], I_train[1]))"
   ]
  },
  {
   "cell_type": "code",
   "execution_count": 18,
   "id": "15e8669e-34f9-4b53-bd00-0d33714460d1",
   "metadata": {},
   "outputs": [
    {
     "name": "stdout",
     "output_type": "stream",
     "text": [
      "Requirement already satisfied: wandb in /home/anwer/.local/lib/python3.12/site-packages (0.17.4)\n",
      "Requirement already satisfied: click!=8.0.0,>=7.1 in /home/anwer/.local/lib/python3.12/site-packages (from wandb) (8.1.7)\n",
      "Requirement already satisfied: docker-pycreds>=0.4.0 in /home/anwer/.local/lib/python3.12/site-packages (from wandb) (0.4.0)\n",
      "Requirement already satisfied: gitpython!=3.1.29,>=1.0.0 in /home/anwer/.local/lib/python3.12/site-packages (from wandb) (3.1.43)\n",
      "Requirement already satisfied: platformdirs in /root/miniconda3/lib/python3.12/site-packages (from wandb) (3.10.0)\n",
      "Requirement already satisfied: protobuf!=4.21.0,<6,>=3.19.0 in /home/anwer/.local/lib/python3.12/site-packages (from wandb) (4.25.3)\n",
      "Requirement already satisfied: psutil>=5.0.0 in /home/anwer/.local/lib/python3.12/site-packages (from wandb) (5.9.8)\n",
      "Requirement already satisfied: pyyaml in /home/anwer/.local/lib/python3.12/site-packages (from wandb) (6.0.1)\n",
      "Requirement already satisfied: requests<3,>=2.0.0 in /home/anwer/.local/lib/python3.12/site-packages (from wandb) (2.32.3)\n",
      "Requirement already satisfied: sentry-sdk>=1.0.0 in /home/anwer/.local/lib/python3.12/site-packages (from wandb) (2.9.0)\n",
      "Requirement already satisfied: setproctitle in /home/anwer/.local/lib/python3.12/site-packages (from wandb) (1.3.3)\n",
      "Requirement already satisfied: setuptools in /home/anwer/.local/lib/python3.12/site-packages (from wandb) (75.3.0)\n",
      "Requirement already satisfied: six>=1.4.0 in /home/anwer/.local/lib/python3.12/site-packages (from docker-pycreds>=0.4.0->wandb) (1.16.0)\n",
      "Requirement already satisfied: gitdb<5,>=4.0.1 in /home/anwer/.local/lib/python3.12/site-packages (from gitpython!=3.1.29,>=1.0.0->wandb) (4.0.11)\n",
      "Requirement already satisfied: charset-normalizer<4,>=2 in /root/miniconda3/lib/python3.12/site-packages (from requests<3,>=2.0.0->wandb) (2.0.4)\n",
      "Requirement already satisfied: idna<4,>=2.5 in /root/miniconda3/lib/python3.12/site-packages (from requests<3,>=2.0.0->wandb) (3.7)\n",
      "Requirement already satisfied: urllib3<3,>=1.21.1 in /home/anwer/.local/lib/python3.12/site-packages (from requests<3,>=2.0.0->wandb) (1.26.19)\n",
      "Requirement already satisfied: certifi>=2017.4.17 in /home/anwer/.local/lib/python3.12/site-packages (from requests<3,>=2.0.0->wandb) (2024.12.14)\n",
      "Requirement already satisfied: smmap<6,>=3.0.1 in /home/anwer/.local/lib/python3.12/site-packages (from gitdb<5,>=4.0.1->gitpython!=3.1.29,>=1.0.0->wandb) (5.0.1)\n",
      "\n",
      "\u001b[1m[\u001b[0m\u001b[34;49mnotice\u001b[0m\u001b[1;39;49m]\u001b[0m\u001b[39;49m A new release of pip is available: \u001b[0m\u001b[31;49m25.0\u001b[0m\u001b[39;49m -> \u001b[0m\u001b[32;49m25.1.1\u001b[0m\n",
      "\u001b[1m[\u001b[0m\u001b[34;49mnotice\u001b[0m\u001b[1;39;49m]\u001b[0m\u001b[39;49m To update, run: \u001b[0m\u001b[32;49mpip install --upgrade pip\u001b[0m\n"
     ]
    }
   ],
   "source": [
    "!pip install wandb\n"
   ]
  },
  {
   "cell_type": "code",
   "execution_count": 19,
   "id": "14222bd0-72e9-4bf5-9816-58e7cee41ea2",
   "metadata": {},
   "outputs": [
    {
     "name": "stderr",
     "output_type": "stream",
     "text": [
      "100%|████████████████████████████████████████████████████████████████████████████████████████████████████████████████████████████████████████████████████████████████████████████████| 3/3 [00:19<00:00,  6.42s/it]\n"
     ]
    }
   ],
   "source": [
    "from tqdm import tqdm\n",
    "\n",
    "name_list = ['Sthlm', 'Södermanland']\n",
    "transit_fkn_dict = loadMobility_list(name_list, starting_week) \n",
    "getData_dict = getData_list(name_list, first_case)\n",
    "\n",
    "I_train = [getData_dict[name_list[0]]['I'],\n",
    "           getData_dict[name_list[1]]['I']]\n",
    "weeks_train = getData_dict[name_list[0]]['veckor']  # getData_dict['Södermanland']['veckor'] == getData_dict['Sthlm']['veckor']\n",
    "\n",
    "n=3\n",
    "ah0 = np.linspace(3,10,n)\n",
    "bh0 = np.linspace(4,10,n)\n",
    "ah1 = np.linspace(3,10,n)\n",
    "bh1 = np.linspace(4,10,n)\n",
    "c = np.linspace(0,0.2,n)\n",
    "\n",
    "E_rmse0 = np.zeros((len(ah0), len(bh0),len(ah1), len(bh1), len(c)))\n",
    "E_rmse1 = np.zeros((len(ah0), len(bh0),len(ah1), len(bh1), len(c)))\n",
    "\n",
    "E_cv_rmse0 = np.zeros((len(ah0), len(bh0),len(ah1), len(bh1), len(c)))\n",
    "E_cv_rmse1 = np.zeros((len(ah0), len(bh0),len(ah1), len(bh1), len(c)))\n",
    "\n",
    "for i in tqdm(range(n)):\n",
    "    for j in range(n):\n",
    "        for k in range(n):\n",
    "            for l in range(n): \n",
    "                for m in range(n):\n",
    "                    P = pred_inlagda(weeks_train, ah0[i], bh0[j], ah1[k], bh1[l], c[m], delay)\n",
    "                    \n",
    "                    # Store the results in the arrays (instead of RMSE)\n",
    "                    E_rmse0[i,j,k,l,m] = return_RMSE(P[:,0], I_train[0])\n",
    "                    E_rmse1[i,j,k,l,m] = return_RMSE(P[:,1], I_train[1])  \n",
    "\n",
    "                    # Store the results in the arrays (instead of cv-rms)\n",
    "                    E_cv_rmse0[i, j, k, l, m] = return_CV_RMSE(P[:,0], I_train[0]) \n",
    "                    E_cv_rmse1[i, j, k, l, m] = return_CV_RMSE(P[:,1], I_train[1])\n",
    "\n",
    "                                "
   ]
  },
  {
   "cell_type": "code",
   "execution_count": 20,
   "id": "5448767a-9127-46db-af89-35cf4deee608",
   "metadata": {},
   "outputs": [],
   "source": [
    "sweep_config = {\n",
    "    'method': 'random'\n",
    "    }"
   ]
  },
  {
   "cell_type": "code",
   "execution_count": 21,
   "id": "081bba6d-f5cc-49a7-9ea8-e501c5dab38e",
   "metadata": {},
   "outputs": [],
   "source": [
    "metric = {\n",
    "    'name': 'CV_RMSE',\n",
    "    'goal': 'minimize'   \n",
    "    }\n",
    "\n",
    "sweep_config['metric'] = metric"
   ]
  },
  {
   "cell_type": "code",
   "execution_count": 22,
   "id": "b26c1f41-b110-466a-9b62-9763213073e8",
   "metadata": {},
   "outputs": [],
   "source": [
    "parameters_dict = {\n",
    "    \"ah0\": {\n",
    "        \"min\": 1,\n",
    "        \"max\": 5,\n",
    "        \"distribution\": \"uniform\"\n",
    "    },\n",
    "    \"bh0\": {\n",
    "        \"min\": 1,\n",
    "        \"max\": 10,\n",
    "        \"distribution\": \"uniform\"\n",
    "    },\n",
    "    \"ah1\": {\n",
    "        \"min\": 1,\n",
    "        \"max\": 5,\n",
    "        \"distribution\": \"uniform\"\n",
    "    },\n",
    "    \"bh1\": {\n",
    "        \"min\": 1,\n",
    "        \"max\": 10,\n",
    "        \"distribution\": \"uniform\"\n",
    "    },\n",
    "    \"c\": {\n",
    "        \"min\": 0,\n",
    "        \"max\": 2,\n",
    "        \"distribution\": \"uniform\"\n",
    "    }\n",
    "}\n",
    "\n",
    "sweep_config['parameters'] = parameters_dict\n"
   ]
  },
  {
   "cell_type": "code",
   "execution_count": 23,
   "id": "0e4411e8-dfbf-4da7-98ea-535e2962007f",
   "metadata": {},
   "outputs": [
    {
     "name": "stdout",
     "output_type": "stream",
     "text": [
      "{'method': 'random',\n",
      " 'metric': {'goal': 'minimize', 'name': 'CV_RMSE'},\n",
      " 'parameters': {'ah0': {'distribution': 'uniform', 'max': 5, 'min': 1},\n",
      "                'ah1': {'distribution': 'uniform', 'max': 5, 'min': 1},\n",
      "                'bh0': {'distribution': 'uniform', 'max': 5, 'min': 1},\n",
      "                'bh1': {'distribution': 'uniform', 'max': 5, 'min': 1},\n",
      "                'c': {'distribution': 'uniform', 'max': 2, 'min': 0}}}\n"
     ]
    }
   ],
   "source": [
    "import pprint\n",
    "pprint.pprint(sweep_config)"
   ]
  },
  {
   "cell_type": "code",
   "execution_count": 25,
   "id": "a5736ae8-b54d-4787-a536-9d2fd791248e",
   "metadata": {},
   "outputs": [],
   "source": [
    "import wandb\n"
   ]
  },
  {
   "cell_type": "code",
   "execution_count": 34,
   "id": "1b786643-18e4-42f0-9d60-bb65c01cf6ed",
   "metadata": {},
   "outputs": [
    {
     "name": "stdout",
     "output_type": "stream",
     "text": [
      "Create sweep with ID: gsjncjls\n",
      "Sweep URL: https://wandb.ai/danish2562022/sweeps-SEIR/sweeps/gsjncjls\n"
     ]
    }
   ],
   "source": [
    "sweep_id = wandb.sweep(sweep_config, project=\"sweeps-SEIR\")"
   ]
  },
  {
   "cell_type": "code",
   "execution_count": 35,
   "id": "127c84e1-3ada-4181-8a3b-24a069f31c3b",
   "metadata": {},
   "outputs": [],
   "source": [
    "import torch\n",
    "import torch.optim as optim\n",
    "import torch.nn.functional as F\n",
    "import torch.nn as nn\n",
    "from torchvision import datasets, transforms\n",
    "\n",
    "\n",
    "def fit_model(config=None):\n",
    "    # Initialize a new wandb run\n",
    "    with wandb.init(config=config):\n",
    "        # If called by wandb.agent, as below,\n",
    "        # this config will be set by Sweep Controller\n",
    "        config = wandb.config\n",
    "\n",
    "        P = pred_inlagda(weeks_train, config.ah0, config.bh0, config.ah1, config.bh1, config.c, delay)\n",
    "        CV_RMSE_1 = return_CV_RMSE(P[:,0], I_train[0])\n",
    "        CV_RMSE_2 = return_CV_RMSE(P[:,1], I_train[1])\n",
    "        CV_RMSE = CV_RMSE_1 + CV_RMSE_2\n",
    "\n",
    "        RMSE_1 = return_RMSE(P[:,0], I_train[0])\n",
    "        RMSE_2 = return_RMSE(P[:,1], I_train[1])\n",
    "        RMSE = RMSE_1 + RMSE_2\n",
    "        wandb.log({\"CV_RMSE\": CV_RMSE, \"RMSE\": RMSE,  \"RMSE_STHLM\": RMSE_1,  \"RMSE_Södermanland\": RMSE_2,  \"CV_RMSE_STHLM\": CV_RMSE_1,  \"CV_RMSE_Södermanland\": CV_RMSE_2})  "
   ]
  },
  {
   "cell_type": "code",
   "execution_count": null,
   "id": "c77b23cd-f3bc-4e2b-9902-7c3e7478bf9b",
   "metadata": {},
   "outputs": [
    {
     "name": "stderr",
     "output_type": "stream",
     "text": [
      "\u001b[34m\u001b[1mwandb\u001b[0m: Agent Starting Run: rlc3kqfu with config:\n",
      "\u001b[34m\u001b[1mwandb\u001b[0m: \tah0: 4.562548100592112\n",
      "\u001b[34m\u001b[1mwandb\u001b[0m: \tah1: 1.5207702628910131\n",
      "\u001b[34m\u001b[1mwandb\u001b[0m: \tbh0: 4.368083784935993\n",
      "\u001b[34m\u001b[1mwandb\u001b[0m: \tbh1: 4.458721855294871\n",
      "\u001b[34m\u001b[1mwandb\u001b[0m: \tc: 0.8770307461867453\n"
     ]
    },
    {
     "data": {
      "text/html": [
       "wandb version 0.19.11 is available!  To upgrade, please run:\n",
       " $ pip install wandb --upgrade"
      ],
      "text/plain": [
       "<IPython.core.display.HTML object>"
      ]
     },
     "metadata": {},
     "output_type": "display_data"
    },
    {
     "data": {
      "text/html": [
       "Tracking run with wandb version 0.17.4"
      ],
      "text/plain": [
       "<IPython.core.display.HTML object>"
      ]
     },
     "metadata": {},
     "output_type": "display_data"
    },
    {
     "data": {
      "text/html": [
       "Run data is saved locally in <code>/12tb_dsk3/SEIR_model/src/wandb/run-20250526_181806-rlc3kqfu</code>"
      ],
      "text/plain": [
       "<IPython.core.display.HTML object>"
      ]
     },
     "metadata": {},
     "output_type": "display_data"
    },
    {
     "data": {
      "text/html": [
       "Syncing run <strong><a href='https://wandb.ai/danish2562022/sweeps-SEIR/runs/rlc3kqfu' target=\"_blank\">misty-sweep-1</a></strong> to <a href='https://wandb.ai/danish2562022/sweeps-SEIR' target=\"_blank\">Weights & Biases</a> (<a href='https://wandb.me/run' target=\"_blank\">docs</a>)<br/>Sweep page: <a href='https://wandb.ai/danish2562022/sweeps-SEIR/sweeps/gsjncjls' target=\"_blank\">https://wandb.ai/danish2562022/sweeps-SEIR/sweeps/gsjncjls</a>"
      ],
      "text/plain": [
       "<IPython.core.display.HTML object>"
      ]
     },
     "metadata": {},
     "output_type": "display_data"
    },
    {
     "data": {
      "text/html": [
       " View project at <a href='https://wandb.ai/danish2562022/sweeps-SEIR' target=\"_blank\">https://wandb.ai/danish2562022/sweeps-SEIR</a>"
      ],
      "text/plain": [
       "<IPython.core.display.HTML object>"
      ]
     },
     "metadata": {},
     "output_type": "display_data"
    },
    {
     "data": {
      "text/html": [
       " View sweep at <a href='https://wandb.ai/danish2562022/sweeps-SEIR/sweeps/gsjncjls' target=\"_blank\">https://wandb.ai/danish2562022/sweeps-SEIR/sweeps/gsjncjls</a>"
      ],
      "text/plain": [
       "<IPython.core.display.HTML object>"
      ]
     },
     "metadata": {},
     "output_type": "display_data"
    },
    {
     "data": {
      "text/html": [
       " View run at <a href='https://wandb.ai/danish2562022/sweeps-SEIR/runs/rlc3kqfu' target=\"_blank\">https://wandb.ai/danish2562022/sweeps-SEIR/runs/rlc3kqfu</a>"
      ],
      "text/plain": [
       "<IPython.core.display.HTML object>"
      ]
     },
     "metadata": {},
     "output_type": "display_data"
    },
    {
     "data": {
      "application/vnd.jupyter.widget-view+json": {
       "model_id": "",
       "version_major": 2,
       "version_minor": 0
      },
      "text/plain": [
       "VBox(children=(Label(value='0.021 MB of 0.021 MB uploaded\\r'), FloatProgress(value=1.0, max=1.0)))"
      ]
     },
     "metadata": {},
     "output_type": "display_data"
    },
    {
     "data": {
      "text/html": [
       "<style>\n",
       "    table.wandb td:nth-child(1) { padding: 0 10px; text-align: left ; width: auto;} td:nth-child(2) {text-align: left ; width: 100%}\n",
       "    .wandb-row { display: flex; flex-direction: row; flex-wrap: wrap; justify-content: flex-start; width: 100% }\n",
       "    .wandb-col { display: flex; flex-direction: column; flex-basis: 100%; flex: 1; padding: 10px; }\n",
       "    </style>\n",
       "<div class=\"wandb-row\"><div class=\"wandb-col\"><h3>Run history:</h3><br/><table class=\"wandb\"><tr><td>CV_RMSE</td><td>▁</td></tr><tr><td>CV_RMSE_STHLM</td><td>▁</td></tr><tr><td>CV_RMSE_Södermanland</td><td>▁</td></tr><tr><td>RMSE</td><td>▁</td></tr><tr><td>RMSE_STHLM</td><td>▁</td></tr><tr><td>RMSE_Södermanland</td><td>▁</td></tr></table><br/></div><div class=\"wandb-col\"><h3>Run summary:</h3><br/><table class=\"wandb\"><tr><td>CV_RMSE</td><td>724.49329</td></tr><tr><td>CV_RMSE_STHLM</td><td>467.85332</td></tr><tr><td>CV_RMSE_Södermanland</td><td>256.63997</td></tr><tr><td>RMSE</td><td>1383.49125</td></tr><tr><td>RMSE_STHLM</td><td>1313.62815</td></tr><tr><td>RMSE_Södermanland</td><td>69.8631</td></tr></table><br/></div></div>"
      ],
      "text/plain": [
       "<IPython.core.display.HTML object>"
      ]
     },
     "metadata": {},
     "output_type": "display_data"
    },
    {
     "data": {
      "text/html": [
       " View run <strong style=\"color:#cdcd00\">misty-sweep-1</strong> at: <a href='https://wandb.ai/danish2562022/sweeps-SEIR/runs/rlc3kqfu' target=\"_blank\">https://wandb.ai/danish2562022/sweeps-SEIR/runs/rlc3kqfu</a><br/> View project at: <a href='https://wandb.ai/danish2562022/sweeps-SEIR' target=\"_blank\">https://wandb.ai/danish2562022/sweeps-SEIR</a><br/>Synced 5 W&B file(s), 0 media file(s), 0 artifact file(s) and 0 other file(s)"
      ],
      "text/plain": [
       "<IPython.core.display.HTML object>"
      ]
     },
     "metadata": {},
     "output_type": "display_data"
    },
    {
     "data": {
      "text/html": [
       "Find logs at: <code>./wandb/run-20250526_181806-rlc3kqfu/logs</code>"
      ],
      "text/plain": [
       "<IPython.core.display.HTML object>"
      ]
     },
     "metadata": {},
     "output_type": "display_data"
    },
    {
     "data": {
      "text/html": [
       "The new W&B backend becomes opt-out in version 0.18.0; try it out with `wandb.require(\"core\")`! See https://wandb.me/wandb-core for more information."
      ],
      "text/plain": [
       "<IPython.core.display.HTML object>"
      ]
     },
     "metadata": {},
     "output_type": "display_data"
    },
    {
     "name": "stderr",
     "output_type": "stream",
     "text": [
      "\u001b[34m\u001b[1mwandb\u001b[0m: Agent Starting Run: s7sv9maf with config:\n",
      "\u001b[34m\u001b[1mwandb\u001b[0m: \tah0: 1.981560384982783\n",
      "\u001b[34m\u001b[1mwandb\u001b[0m: \tah1: 4.500268352601218\n",
      "\u001b[34m\u001b[1mwandb\u001b[0m: \tbh0: 2.659403294464871\n",
      "\u001b[34m\u001b[1mwandb\u001b[0m: \tbh1: 1.7866573265349572\n",
      "\u001b[34m\u001b[1mwandb\u001b[0m: \tc: 1.266679809896764\n"
     ]
    },
    {
     "data": {
      "text/html": [
       "wandb version 0.19.11 is available!  To upgrade, please run:\n",
       " $ pip install wandb --upgrade"
      ],
      "text/plain": [
       "<IPython.core.display.HTML object>"
      ]
     },
     "metadata": {},
     "output_type": "display_data"
    },
    {
     "data": {
      "text/html": [
       "Tracking run with wandb version 0.17.4"
      ],
      "text/plain": [
       "<IPython.core.display.HTML object>"
      ]
     },
     "metadata": {},
     "output_type": "display_data"
    },
    {
     "data": {
      "text/html": [
       "Run data is saved locally in <code>/12tb_dsk3/SEIR_model/src/wandb/run-20250526_181816-s7sv9maf</code>"
      ],
      "text/plain": [
       "<IPython.core.display.HTML object>"
      ]
     },
     "metadata": {},
     "output_type": "display_data"
    },
    {
     "data": {
      "text/html": [
       "Syncing run <strong><a href='https://wandb.ai/danish2562022/sweeps-SEIR/runs/s7sv9maf' target=\"_blank\">major-sweep-2</a></strong> to <a href='https://wandb.ai/danish2562022/sweeps-SEIR' target=\"_blank\">Weights & Biases</a> (<a href='https://wandb.me/run' target=\"_blank\">docs</a>)<br/>Sweep page: <a href='https://wandb.ai/danish2562022/sweeps-SEIR/sweeps/gsjncjls' target=\"_blank\">https://wandb.ai/danish2562022/sweeps-SEIR/sweeps/gsjncjls</a>"
      ],
      "text/plain": [
       "<IPython.core.display.HTML object>"
      ]
     },
     "metadata": {},
     "output_type": "display_data"
    },
    {
     "data": {
      "text/html": [
       " View project at <a href='https://wandb.ai/danish2562022/sweeps-SEIR' target=\"_blank\">https://wandb.ai/danish2562022/sweeps-SEIR</a>"
      ],
      "text/plain": [
       "<IPython.core.display.HTML object>"
      ]
     },
     "metadata": {},
     "output_type": "display_data"
    },
    {
     "data": {
      "text/html": [
       " View sweep at <a href='https://wandb.ai/danish2562022/sweeps-SEIR/sweeps/gsjncjls' target=\"_blank\">https://wandb.ai/danish2562022/sweeps-SEIR/sweeps/gsjncjls</a>"
      ],
      "text/plain": [
       "<IPython.core.display.HTML object>"
      ]
     },
     "metadata": {},
     "output_type": "display_data"
    },
    {
     "data": {
      "text/html": [
       " View run at <a href='https://wandb.ai/danish2562022/sweeps-SEIR/runs/s7sv9maf' target=\"_blank\">https://wandb.ai/danish2562022/sweeps-SEIR/runs/s7sv9maf</a>"
      ],
      "text/plain": [
       "<IPython.core.display.HTML object>"
      ]
     },
     "metadata": {},
     "output_type": "display_data"
    },
    {
     "data": {
      "application/vnd.jupyter.widget-view+json": {
       "model_id": "",
       "version_major": 2,
       "version_minor": 0
      },
      "text/plain": [
       "VBox(children=(Label(value='0.021 MB of 0.021 MB uploaded\\r'), FloatProgress(value=1.0, max=1.0)))"
      ]
     },
     "metadata": {},
     "output_type": "display_data"
    },
    {
     "data": {
      "text/html": [
       "<style>\n",
       "    table.wandb td:nth-child(1) { padding: 0 10px; text-align: left ; width: auto;} td:nth-child(2) {text-align: left ; width: 100%}\n",
       "    .wandb-row { display: flex; flex-direction: row; flex-wrap: wrap; justify-content: flex-start; width: 100% }\n",
       "    .wandb-col { display: flex; flex-direction: column; flex-basis: 100%; flex: 1; padding: 10px; }\n",
       "    </style>\n",
       "<div class=\"wandb-row\"><div class=\"wandb-col\"><h3>Run history:</h3><br/><table class=\"wandb\"><tr><td>CV_RMSE</td><td>▁</td></tr><tr><td>CV_RMSE_STHLM</td><td>▁</td></tr><tr><td>CV_RMSE_Södermanland</td><td>▁</td></tr><tr><td>RMSE</td><td>▁</td></tr><tr><td>RMSE_STHLM</td><td>▁</td></tr><tr><td>RMSE_Södermanland</td><td>▁</td></tr></table><br/></div><div class=\"wandb-col\"><h3>Run summary:</h3><br/><table class=\"wandb\"><tr><td>CV_RMSE</td><td>1411.10785</td></tr><tr><td>CV_RMSE_STHLM</td><td>463.74353</td></tr><tr><td>CV_RMSE_Södermanland</td><td>947.36431</td></tr><tr><td>RMSE</td><td>1559.98241</td></tr><tr><td>RMSE_STHLM</td><td>1302.08879</td></tr><tr><td>RMSE_Södermanland</td><td>257.89362</td></tr></table><br/></div></div>"
      ],
      "text/plain": [
       "<IPython.core.display.HTML object>"
      ]
     },
     "metadata": {},
     "output_type": "display_data"
    },
    {
     "data": {
      "text/html": [
       " View run <strong style=\"color:#cdcd00\">major-sweep-2</strong> at: <a href='https://wandb.ai/danish2562022/sweeps-SEIR/runs/s7sv9maf' target=\"_blank\">https://wandb.ai/danish2562022/sweeps-SEIR/runs/s7sv9maf</a><br/> View project at: <a href='https://wandb.ai/danish2562022/sweeps-SEIR' target=\"_blank\">https://wandb.ai/danish2562022/sweeps-SEIR</a><br/>Synced 5 W&B file(s), 0 media file(s), 0 artifact file(s) and 0 other file(s)"
      ],
      "text/plain": [
       "<IPython.core.display.HTML object>"
      ]
     },
     "metadata": {},
     "output_type": "display_data"
    },
    {
     "data": {
      "text/html": [
       "Find logs at: <code>./wandb/run-20250526_181816-s7sv9maf/logs</code>"
      ],
      "text/plain": [
       "<IPython.core.display.HTML object>"
      ]
     },
     "metadata": {},
     "output_type": "display_data"
    },
    {
     "data": {
      "text/html": [
       "The new W&B backend becomes opt-out in version 0.18.0; try it out with `wandb.require(\"core\")`! See https://wandb.me/wandb-core for more information."
      ],
      "text/plain": [
       "<IPython.core.display.HTML object>"
      ]
     },
     "metadata": {},
     "output_type": "display_data"
    },
    {
     "name": "stderr",
     "output_type": "stream",
     "text": [
      "\u001b[34m\u001b[1mwandb\u001b[0m: Agent Starting Run: hipra2jo with config:\n",
      "\u001b[34m\u001b[1mwandb\u001b[0m: \tah0: 3.7470132236486218\n",
      "\u001b[34m\u001b[1mwandb\u001b[0m: \tah1: 2.1232672223693823\n",
      "\u001b[34m\u001b[1mwandb\u001b[0m: \tbh0: 4.570107789844925\n",
      "\u001b[34m\u001b[1mwandb\u001b[0m: \tbh1: 2.204602469796615\n",
      "\u001b[34m\u001b[1mwandb\u001b[0m: \tc: 1.37898121407286\n"
     ]
    },
    {
     "data": {
      "text/html": [
       "wandb version 0.19.11 is available!  To upgrade, please run:\n",
       " $ pip install wandb --upgrade"
      ],
      "text/plain": [
       "<IPython.core.display.HTML object>"
      ]
     },
     "metadata": {},
     "output_type": "display_data"
    },
    {
     "data": {
      "text/html": [
       "Tracking run with wandb version 0.17.4"
      ],
      "text/plain": [
       "<IPython.core.display.HTML object>"
      ]
     },
     "metadata": {},
     "output_type": "display_data"
    },
    {
     "data": {
      "text/html": [
       "Run data is saved locally in <code>/12tb_dsk3/SEIR_model/src/wandb/run-20250526_181827-hipra2jo</code>"
      ],
      "text/plain": [
       "<IPython.core.display.HTML object>"
      ]
     },
     "metadata": {},
     "output_type": "display_data"
    },
    {
     "data": {
      "text/html": [
       "Syncing run <strong><a href='https://wandb.ai/danish2562022/sweeps-SEIR/runs/hipra2jo' target=\"_blank\">graceful-sweep-3</a></strong> to <a href='https://wandb.ai/danish2562022/sweeps-SEIR' target=\"_blank\">Weights & Biases</a> (<a href='https://wandb.me/run' target=\"_blank\">docs</a>)<br/>Sweep page: <a href='https://wandb.ai/danish2562022/sweeps-SEIR/sweeps/gsjncjls' target=\"_blank\">https://wandb.ai/danish2562022/sweeps-SEIR/sweeps/gsjncjls</a>"
      ],
      "text/plain": [
       "<IPython.core.display.HTML object>"
      ]
     },
     "metadata": {},
     "output_type": "display_data"
    },
    {
     "data": {
      "text/html": [
       " View project at <a href='https://wandb.ai/danish2562022/sweeps-SEIR' target=\"_blank\">https://wandb.ai/danish2562022/sweeps-SEIR</a>"
      ],
      "text/plain": [
       "<IPython.core.display.HTML object>"
      ]
     },
     "metadata": {},
     "output_type": "display_data"
    },
    {
     "data": {
      "text/html": [
       " View sweep at <a href='https://wandb.ai/danish2562022/sweeps-SEIR/sweeps/gsjncjls' target=\"_blank\">https://wandb.ai/danish2562022/sweeps-SEIR/sweeps/gsjncjls</a>"
      ],
      "text/plain": [
       "<IPython.core.display.HTML object>"
      ]
     },
     "metadata": {},
     "output_type": "display_data"
    },
    {
     "data": {
      "text/html": [
       " View run at <a href='https://wandb.ai/danish2562022/sweeps-SEIR/runs/hipra2jo' target=\"_blank\">https://wandb.ai/danish2562022/sweeps-SEIR/runs/hipra2jo</a>"
      ],
      "text/plain": [
       "<IPython.core.display.HTML object>"
      ]
     },
     "metadata": {},
     "output_type": "display_data"
    },
    {
     "data": {
      "application/vnd.jupyter.widget-view+json": {
       "model_id": "",
       "version_major": 2,
       "version_minor": 0
      },
      "text/plain": [
       "VBox(children=(Label(value='0.021 MB of 0.021 MB uploaded\\r'), FloatProgress(value=1.0, max=1.0)))"
      ]
     },
     "metadata": {},
     "output_type": "display_data"
    },
    {
     "data": {
      "text/html": [
       "<style>\n",
       "    table.wandb td:nth-child(1) { padding: 0 10px; text-align: left ; width: auto;} td:nth-child(2) {text-align: left ; width: 100%}\n",
       "    .wandb-row { display: flex; flex-direction: row; flex-wrap: wrap; justify-content: flex-start; width: 100% }\n",
       "    .wandb-col { display: flex; flex-direction: column; flex-basis: 100%; flex: 1; padding: 10px; }\n",
       "    </style>\n",
       "<div class=\"wandb-row\"><div class=\"wandb-col\"><h3>Run history:</h3><br/><table class=\"wandb\"><tr><td>CV_RMSE</td><td>▁</td></tr><tr><td>CV_RMSE_STHLM</td><td>▁</td></tr><tr><td>CV_RMSE_Södermanland</td><td>▁</td></tr><tr><td>RMSE</td><td>▁</td></tr><tr><td>RMSE_STHLM</td><td>▁</td></tr><tr><td>RMSE_Södermanland</td><td>▁</td></tr></table><br/></div><div class=\"wandb-col\"><h3>Run summary:</h3><br/><table class=\"wandb\"><tr><td>CV_RMSE</td><td>1053.6956</td></tr><tr><td>CV_RMSE_STHLM</td><td>461.74685</td></tr><tr><td>CV_RMSE_Södermanland</td><td>591.94874</td></tr><tr><td>RMSE</td><td>1457.62416</td></tr><tr><td>RMSE_STHLM</td><td>1296.48255</td></tr><tr><td>RMSE_Södermanland</td><td>161.1416</td></tr></table><br/></div></div>"
      ],
      "text/plain": [
       "<IPython.core.display.HTML object>"
      ]
     },
     "metadata": {},
     "output_type": "display_data"
    },
    {
     "data": {
      "text/html": [
       " View run <strong style=\"color:#cdcd00\">graceful-sweep-3</strong> at: <a href='https://wandb.ai/danish2562022/sweeps-SEIR/runs/hipra2jo' target=\"_blank\">https://wandb.ai/danish2562022/sweeps-SEIR/runs/hipra2jo</a><br/> View project at: <a href='https://wandb.ai/danish2562022/sweeps-SEIR' target=\"_blank\">https://wandb.ai/danish2562022/sweeps-SEIR</a><br/>Synced 5 W&B file(s), 0 media file(s), 0 artifact file(s) and 0 other file(s)"
      ],
      "text/plain": [
       "<IPython.core.display.HTML object>"
      ]
     },
     "metadata": {},
     "output_type": "display_data"
    },
    {
     "data": {
      "text/html": [
       "Find logs at: <code>./wandb/run-20250526_181827-hipra2jo/logs</code>"
      ],
      "text/plain": [
       "<IPython.core.display.HTML object>"
      ]
     },
     "metadata": {},
     "output_type": "display_data"
    },
    {
     "data": {
      "text/html": [
       "The new W&B backend becomes opt-out in version 0.18.0; try it out with `wandb.require(\"core\")`! See https://wandb.me/wandb-core for more information."
      ],
      "text/plain": [
       "<IPython.core.display.HTML object>"
      ]
     },
     "metadata": {},
     "output_type": "display_data"
    },
    {
     "name": "stderr",
     "output_type": "stream",
     "text": [
      "\u001b[34m\u001b[1mwandb\u001b[0m: Agent Starting Run: hx7a04kb with config:\n",
      "\u001b[34m\u001b[1mwandb\u001b[0m: \tah0: 3.671915347479022\n",
      "\u001b[34m\u001b[1mwandb\u001b[0m: \tah1: 3.4057437321871995\n",
      "\u001b[34m\u001b[1mwandb\u001b[0m: \tbh0: 2.6747500852936197\n",
      "\u001b[34m\u001b[1mwandb\u001b[0m: \tbh1: 4.822004588529859\n",
      "\u001b[34m\u001b[1mwandb\u001b[0m: \tc: 1.9275390343720071\n"
     ]
    },
    {
     "data": {
      "text/html": [
       "wandb version 0.19.11 is available!  To upgrade, please run:\n",
       " $ pip install wandb --upgrade"
      ],
      "text/plain": [
       "<IPython.core.display.HTML object>"
      ]
     },
     "metadata": {},
     "output_type": "display_data"
    },
    {
     "data": {
      "text/html": [
       "Tracking run with wandb version 0.17.4"
      ],
      "text/plain": [
       "<IPython.core.display.HTML object>"
      ]
     },
     "metadata": {},
     "output_type": "display_data"
    },
    {
     "data": {
      "text/html": [
       "Run data is saved locally in <code>/12tb_dsk3/SEIR_model/src/wandb/run-20250526_181837-hx7a04kb</code>"
      ],
      "text/plain": [
       "<IPython.core.display.HTML object>"
      ]
     },
     "metadata": {},
     "output_type": "display_data"
    },
    {
     "data": {
      "text/html": [
       "Syncing run <strong><a href='https://wandb.ai/danish2562022/sweeps-SEIR/runs/hx7a04kb' target=\"_blank\">serene-sweep-4</a></strong> to <a href='https://wandb.ai/danish2562022/sweeps-SEIR' target=\"_blank\">Weights & Biases</a> (<a href='https://wandb.me/run' target=\"_blank\">docs</a>)<br/>Sweep page: <a href='https://wandb.ai/danish2562022/sweeps-SEIR/sweeps/gsjncjls' target=\"_blank\">https://wandb.ai/danish2562022/sweeps-SEIR/sweeps/gsjncjls</a>"
      ],
      "text/plain": [
       "<IPython.core.display.HTML object>"
      ]
     },
     "metadata": {},
     "output_type": "display_data"
    },
    {
     "data": {
      "text/html": [
       " View project at <a href='https://wandb.ai/danish2562022/sweeps-SEIR' target=\"_blank\">https://wandb.ai/danish2562022/sweeps-SEIR</a>"
      ],
      "text/plain": [
       "<IPython.core.display.HTML object>"
      ]
     },
     "metadata": {},
     "output_type": "display_data"
    },
    {
     "data": {
      "text/html": [
       " View sweep at <a href='https://wandb.ai/danish2562022/sweeps-SEIR/sweeps/gsjncjls' target=\"_blank\">https://wandb.ai/danish2562022/sweeps-SEIR/sweeps/gsjncjls</a>"
      ],
      "text/plain": [
       "<IPython.core.display.HTML object>"
      ]
     },
     "metadata": {},
     "output_type": "display_data"
    },
    {
     "data": {
      "text/html": [
       " View run at <a href='https://wandb.ai/danish2562022/sweeps-SEIR/runs/hx7a04kb' target=\"_blank\">https://wandb.ai/danish2562022/sweeps-SEIR/runs/hx7a04kb</a>"
      ],
      "text/plain": [
       "<IPython.core.display.HTML object>"
      ]
     },
     "metadata": {},
     "output_type": "display_data"
    },
    {
     "data": {
      "application/vnd.jupyter.widget-view+json": {
       "model_id": "",
       "version_major": 2,
       "version_minor": 0
      },
      "text/plain": [
       "VBox(children=(Label(value='0.021 MB of 0.021 MB uploaded\\r'), FloatProgress(value=1.0, max=1.0)))"
      ]
     },
     "metadata": {},
     "output_type": "display_data"
    },
    {
     "data": {
      "text/html": [
       "<style>\n",
       "    table.wandb td:nth-child(1) { padding: 0 10px; text-align: left ; width: auto;} td:nth-child(2) {text-align: left ; width: 100%}\n",
       "    .wandb-row { display: flex; flex-direction: row; flex-wrap: wrap; justify-content: flex-start; width: 100% }\n",
       "    .wandb-col { display: flex; flex-direction: column; flex-basis: 100%; flex: 1; padding: 10px; }\n",
       "    </style>\n",
       "<div class=\"wandb-row\"><div class=\"wandb-col\"><h3>Run history:</h3><br/><table class=\"wandb\"><tr><td>CV_RMSE</td><td>▁</td></tr><tr><td>CV_RMSE_STHLM</td><td>▁</td></tr><tr><td>CV_RMSE_Södermanland</td><td>▁</td></tr><tr><td>RMSE</td><td>▁</td></tr><tr><td>RMSE_STHLM</td><td>▁</td></tr><tr><td>RMSE_Södermanland</td><td>▁</td></tr></table><br/></div><div class=\"wandb-col\"><h3>Run summary:</h3><br/><table class=\"wandb\"><tr><td>CV_RMSE</td><td>1592.38166</td></tr><tr><td>CV_RMSE_STHLM</td><td>699.94693</td></tr><tr><td>CV_RMSE_Södermanland</td><td>892.43474</td></tr><tr><td>RMSE</td><td>2208.23599</td></tr><tr><td>RMSE_STHLM</td><td>1965.29542</td></tr><tr><td>RMSE_Södermanland</td><td>242.94057</td></tr></table><br/></div></div>"
      ],
      "text/plain": [
       "<IPython.core.display.HTML object>"
      ]
     },
     "metadata": {},
     "output_type": "display_data"
    },
    {
     "data": {
      "text/html": [
       " View run <strong style=\"color:#cdcd00\">serene-sweep-4</strong> at: <a href='https://wandb.ai/danish2562022/sweeps-SEIR/runs/hx7a04kb' target=\"_blank\">https://wandb.ai/danish2562022/sweeps-SEIR/runs/hx7a04kb</a><br/> View project at: <a href='https://wandb.ai/danish2562022/sweeps-SEIR' target=\"_blank\">https://wandb.ai/danish2562022/sweeps-SEIR</a><br/>Synced 5 W&B file(s), 0 media file(s), 0 artifact file(s) and 0 other file(s)"
      ],
      "text/plain": [
       "<IPython.core.display.HTML object>"
      ]
     },
     "metadata": {},
     "output_type": "display_data"
    },
    {
     "data": {
      "text/html": [
       "Find logs at: <code>./wandb/run-20250526_181837-hx7a04kb/logs</code>"
      ],
      "text/plain": [
       "<IPython.core.display.HTML object>"
      ]
     },
     "metadata": {},
     "output_type": "display_data"
    },
    {
     "data": {
      "text/html": [
       "The new W&B backend becomes opt-out in version 0.18.0; try it out with `wandb.require(\"core\")`! See https://wandb.me/wandb-core for more information."
      ],
      "text/plain": [
       "<IPython.core.display.HTML object>"
      ]
     },
     "metadata": {},
     "output_type": "display_data"
    },
    {
     "name": "stderr",
     "output_type": "stream",
     "text": [
      "\u001b[34m\u001b[1mwandb\u001b[0m: Agent Starting Run: v2x2kpy0 with config:\n",
      "\u001b[34m\u001b[1mwandb\u001b[0m: \tah0: 4.301723074103428\n",
      "\u001b[34m\u001b[1mwandb\u001b[0m: \tah1: 4.477499875139663\n",
      "\u001b[34m\u001b[1mwandb\u001b[0m: \tbh0: 1.2055470616665476\n",
      "\u001b[34m\u001b[1mwandb\u001b[0m: \tbh1: 1.8857289219179616\n",
      "\u001b[34m\u001b[1mwandb\u001b[0m: \tc: 0.6123550753185922\n"
     ]
    },
    {
     "data": {
      "text/html": [
       "wandb version 0.19.11 is available!  To upgrade, please run:\n",
       " $ pip install wandb --upgrade"
      ],
      "text/plain": [
       "<IPython.core.display.HTML object>"
      ]
     },
     "metadata": {},
     "output_type": "display_data"
    },
    {
     "data": {
      "text/html": [
       "Tracking run with wandb version 0.17.4"
      ],
      "text/plain": [
       "<IPython.core.display.HTML object>"
      ]
     },
     "metadata": {},
     "output_type": "display_data"
    },
    {
     "data": {
      "text/html": [
       "Run data is saved locally in <code>/12tb_dsk3/SEIR_model/src/wandb/run-20250526_181847-v2x2kpy0</code>"
      ],
      "text/plain": [
       "<IPython.core.display.HTML object>"
      ]
     },
     "metadata": {},
     "output_type": "display_data"
    },
    {
     "data": {
      "text/html": [
       "Syncing run <strong><a href='https://wandb.ai/danish2562022/sweeps-SEIR/runs/v2x2kpy0' target=\"_blank\">trim-sweep-5</a></strong> to <a href='https://wandb.ai/danish2562022/sweeps-SEIR' target=\"_blank\">Weights & Biases</a> (<a href='https://wandb.me/run' target=\"_blank\">docs</a>)<br/>Sweep page: <a href='https://wandb.ai/danish2562022/sweeps-SEIR/sweeps/gsjncjls' target=\"_blank\">https://wandb.ai/danish2562022/sweeps-SEIR/sweeps/gsjncjls</a>"
      ],
      "text/plain": [
       "<IPython.core.display.HTML object>"
      ]
     },
     "metadata": {},
     "output_type": "display_data"
    },
    {
     "data": {
      "text/html": [
       " View project at <a href='https://wandb.ai/danish2562022/sweeps-SEIR' target=\"_blank\">https://wandb.ai/danish2562022/sweeps-SEIR</a>"
      ],
      "text/plain": [
       "<IPython.core.display.HTML object>"
      ]
     },
     "metadata": {},
     "output_type": "display_data"
    },
    {
     "data": {
      "text/html": [
       " View sweep at <a href='https://wandb.ai/danish2562022/sweeps-SEIR/sweeps/gsjncjls' target=\"_blank\">https://wandb.ai/danish2562022/sweeps-SEIR/sweeps/gsjncjls</a>"
      ],
      "text/plain": [
       "<IPython.core.display.HTML object>"
      ]
     },
     "metadata": {},
     "output_type": "display_data"
    },
    {
     "data": {
      "text/html": [
       " View run at <a href='https://wandb.ai/danish2562022/sweeps-SEIR/runs/v2x2kpy0' target=\"_blank\">https://wandb.ai/danish2562022/sweeps-SEIR/runs/v2x2kpy0</a>"
      ],
      "text/plain": [
       "<IPython.core.display.HTML object>"
      ]
     },
     "metadata": {},
     "output_type": "display_data"
    },
    {
     "data": {
      "application/vnd.jupyter.widget-view+json": {
       "model_id": "5eee2259859f4c208a729056aa9570be",
       "version_major": 2,
       "version_minor": 0
      },
      "text/plain": [
       "VBox(children=(Label(value='0.021 MB of 0.021 MB uploaded\\r'), FloatProgress(value=1.0, max=1.0)))"
      ]
     },
     "metadata": {},
     "output_type": "display_data"
    },
    {
     "data": {
      "text/html": [
       "<style>\n",
       "    table.wandb td:nth-child(1) { padding: 0 10px; text-align: left ; width: auto;} td:nth-child(2) {text-align: left ; width: 100%}\n",
       "    .wandb-row { display: flex; flex-direction: row; flex-wrap: wrap; justify-content: flex-start; width: 100% }\n",
       "    .wandb-col { display: flex; flex-direction: column; flex-basis: 100%; flex: 1; padding: 10px; }\n",
       "    </style>\n",
       "<div class=\"wandb-row\"><div class=\"wandb-col\"><h3>Run history:</h3><br/><table class=\"wandb\"><tr><td>CV_RMSE</td><td>▁</td></tr><tr><td>CV_RMSE_STHLM</td><td>▁</td></tr><tr><td>CV_RMSE_Södermanland</td><td>▁</td></tr><tr><td>RMSE</td><td>▁</td></tr><tr><td>RMSE_STHLM</td><td>▁</td></tr><tr><td>RMSE_Södermanland</td><td>▁</td></tr></table><br/></div><div class=\"wandb-col\"><h3>Run summary:</h3><br/><table class=\"wandb\"><tr><td>CV_RMSE</td><td>1616.82466</td></tr><tr><td>CV_RMSE_STHLM</td><td>693.69065</td></tr><tr><td>CV_RMSE_Södermanland</td><td>923.13401</td></tr><tr><td>RMSE</td><td>2199.02678</td></tr><tr><td>RMSE_STHLM</td><td>1947.72919</td></tr><tr><td>RMSE_Södermanland</td><td>251.29759</td></tr></table><br/></div></div>"
      ],
      "text/plain": [
       "<IPython.core.display.HTML object>"
      ]
     },
     "metadata": {},
     "output_type": "display_data"
    },
    {
     "data": {
      "text/html": [
       " View run <strong style=\"color:#cdcd00\">trim-sweep-5</strong> at: <a href='https://wandb.ai/danish2562022/sweeps-SEIR/runs/v2x2kpy0' target=\"_blank\">https://wandb.ai/danish2562022/sweeps-SEIR/runs/v2x2kpy0</a><br/> View project at: <a href='https://wandb.ai/danish2562022/sweeps-SEIR' target=\"_blank\">https://wandb.ai/danish2562022/sweeps-SEIR</a><br/>Synced 5 W&B file(s), 0 media file(s), 0 artifact file(s) and 0 other file(s)"
      ],
      "text/plain": [
       "<IPython.core.display.HTML object>"
      ]
     },
     "metadata": {},
     "output_type": "display_data"
    },
    {
     "data": {
      "text/html": [
       "Find logs at: <code>./wandb/run-20250526_181847-v2x2kpy0/logs</code>"
      ],
      "text/plain": [
       "<IPython.core.display.HTML object>"
      ]
     },
     "metadata": {},
     "output_type": "display_data"
    },
    {
     "data": {
      "text/html": [
       "The new W&B backend becomes opt-out in version 0.18.0; try it out with `wandb.require(\"core\")`! See https://wandb.me/wandb-core for more information."
      ],
      "text/plain": [
       "<IPython.core.display.HTML object>"
      ]
     },
     "metadata": {},
     "output_type": "display_data"
    },
    {
     "name": "stderr",
     "output_type": "stream",
     "text": [
      "\u001b[34m\u001b[1mwandb\u001b[0m: Sweep Agent: Waiting for job.\n",
      "\u001b[34m\u001b[1mwandb\u001b[0m: Job received.\n",
      "\u001b[34m\u001b[1mwandb\u001b[0m: Agent Starting Run: z94g9lfq with config:\n",
      "\u001b[34m\u001b[1mwandb\u001b[0m: \tah0: 1.16702646849126\n",
      "\u001b[34m\u001b[1mwandb\u001b[0m: \tah1: 2.7179161798621405\n",
      "\u001b[34m\u001b[1mwandb\u001b[0m: \tbh0: 2.7816680157882243\n",
      "\u001b[34m\u001b[1mwandb\u001b[0m: \tbh1: 1.7770198932620531\n",
      "\u001b[34m\u001b[1mwandb\u001b[0m: \tc: 1.515342461224083\n"
     ]
    },
    {
     "data": {
      "text/html": [
       "wandb version 0.19.11 is available!  To upgrade, please run:\n",
       " $ pip install wandb --upgrade"
      ],
      "text/plain": [
       "<IPython.core.display.HTML object>"
      ]
     },
     "metadata": {},
     "output_type": "display_data"
    },
    {
     "data": {
      "text/html": [
       "Tracking run with wandb version 0.17.4"
      ],
      "text/plain": [
       "<IPython.core.display.HTML object>"
      ]
     },
     "metadata": {},
     "output_type": "display_data"
    },
    {
     "data": {
      "text/html": [
       "Run data is saved locally in <code>/12tb_dsk3/SEIR_model/src/wandb/run-20250526_181903-z94g9lfq</code>"
      ],
      "text/plain": [
       "<IPython.core.display.HTML object>"
      ]
     },
     "metadata": {},
     "output_type": "display_data"
    },
    {
     "data": {
      "text/html": [
       "Syncing run <strong><a href='https://wandb.ai/danish2562022/sweeps-SEIR/runs/z94g9lfq' target=\"_blank\">vital-sweep-6</a></strong> to <a href='https://wandb.ai/danish2562022/sweeps-SEIR' target=\"_blank\">Weights & Biases</a> (<a href='https://wandb.me/run' target=\"_blank\">docs</a>)<br/>Sweep page: <a href='https://wandb.ai/danish2562022/sweeps-SEIR/sweeps/gsjncjls' target=\"_blank\">https://wandb.ai/danish2562022/sweeps-SEIR/sweeps/gsjncjls</a>"
      ],
      "text/plain": [
       "<IPython.core.display.HTML object>"
      ]
     },
     "metadata": {},
     "output_type": "display_data"
    },
    {
     "data": {
      "text/html": [
       " View project at <a href='https://wandb.ai/danish2562022/sweeps-SEIR' target=\"_blank\">https://wandb.ai/danish2562022/sweeps-SEIR</a>"
      ],
      "text/plain": [
       "<IPython.core.display.HTML object>"
      ]
     },
     "metadata": {},
     "output_type": "display_data"
    },
    {
     "data": {
      "text/html": [
       " View sweep at <a href='https://wandb.ai/danish2562022/sweeps-SEIR/sweeps/gsjncjls' target=\"_blank\">https://wandb.ai/danish2562022/sweeps-SEIR/sweeps/gsjncjls</a>"
      ],
      "text/plain": [
       "<IPython.core.display.HTML object>"
      ]
     },
     "metadata": {},
     "output_type": "display_data"
    },
    {
     "data": {
      "text/html": [
       " View run at <a href='https://wandb.ai/danish2562022/sweeps-SEIR/runs/z94g9lfq' target=\"_blank\">https://wandb.ai/danish2562022/sweeps-SEIR/runs/z94g9lfq</a>"
      ],
      "text/plain": [
       "<IPython.core.display.HTML object>"
      ]
     },
     "metadata": {},
     "output_type": "display_data"
    },
    {
     "data": {
      "application/vnd.jupyter.widget-view+json": {
       "model_id": "e83bf597409f4757ada7df65188e1f14",
       "version_major": 2,
       "version_minor": 0
      },
      "text/plain": [
       "VBox(children=(Label(value='0.021 MB of 0.021 MB uploaded\\r'), FloatProgress(value=1.0, max=1.0)))"
      ]
     },
     "metadata": {},
     "output_type": "display_data"
    },
    {
     "data": {
      "text/html": [
       "<style>\n",
       "    table.wandb td:nth-child(1) { padding: 0 10px; text-align: left ; width: auto;} td:nth-child(2) {text-align: left ; width: 100%}\n",
       "    .wandb-row { display: flex; flex-direction: row; flex-wrap: wrap; justify-content: flex-start; width: 100% }\n",
       "    .wandb-col { display: flex; flex-direction: column; flex-basis: 100%; flex: 1; padding: 10px; }\n",
       "    </style>\n",
       "<div class=\"wandb-row\"><div class=\"wandb-col\"><h3>Run history:</h3><br/><table class=\"wandb\"><tr><td>CV_RMSE</td><td>▁</td></tr><tr><td>CV_RMSE_STHLM</td><td>▁</td></tr><tr><td>CV_RMSE_Södermanland</td><td>▁</td></tr><tr><td>RMSE</td><td>▁</td></tr><tr><td>RMSE_STHLM</td><td>▁</td></tr><tr><td>RMSE_Södermanland</td><td>▁</td></tr></table><br/></div><div class=\"wandb-col\"><h3>Run summary:</h3><br/><table class=\"wandb\"><tr><td>CV_RMSE</td><td>997.37025</td></tr><tr><td>CV_RMSE_STHLM</td><td>356.59763</td></tr><tr><td>CV_RMSE_Södermanland</td><td>640.77262</td></tr><tr><td>RMSE</td><td>1175.67944</td></tr><tr><td>RMSE_STHLM</td><td>1001.24689</td></tr><tr><td>RMSE_Södermanland</td><td>174.43255</td></tr></table><br/></div></div>"
      ],
      "text/plain": [
       "<IPython.core.display.HTML object>"
      ]
     },
     "metadata": {},
     "output_type": "display_data"
    },
    {
     "data": {
      "text/html": [
       " View run <strong style=\"color:#cdcd00\">vital-sweep-6</strong> at: <a href='https://wandb.ai/danish2562022/sweeps-SEIR/runs/z94g9lfq' target=\"_blank\">https://wandb.ai/danish2562022/sweeps-SEIR/runs/z94g9lfq</a><br/> View project at: <a href='https://wandb.ai/danish2562022/sweeps-SEIR' target=\"_blank\">https://wandb.ai/danish2562022/sweeps-SEIR</a><br/>Synced 5 W&B file(s), 0 media file(s), 0 artifact file(s) and 0 other file(s)"
      ],
      "text/plain": [
       "<IPython.core.display.HTML object>"
      ]
     },
     "metadata": {},
     "output_type": "display_data"
    },
    {
     "data": {
      "text/html": [
       "Find logs at: <code>./wandb/run-20250526_181903-z94g9lfq/logs</code>"
      ],
      "text/plain": [
       "<IPython.core.display.HTML object>"
      ]
     },
     "metadata": {},
     "output_type": "display_data"
    },
    {
     "data": {
      "text/html": [
       "The new W&B backend becomes opt-out in version 0.18.0; try it out with `wandb.require(\"core\")`! See https://wandb.me/wandb-core for more information."
      ],
      "text/plain": [
       "<IPython.core.display.HTML object>"
      ]
     },
     "metadata": {},
     "output_type": "display_data"
    },
    {
     "name": "stderr",
     "output_type": "stream",
     "text": [
      "\u001b[34m\u001b[1mwandb\u001b[0m: Agent Starting Run: s4sq17rb with config:\n",
      "\u001b[34m\u001b[1mwandb\u001b[0m: \tah0: 3.536266379352086\n",
      "\u001b[34m\u001b[1mwandb\u001b[0m: \tah1: 2.4469040578810386\n",
      "\u001b[34m\u001b[1mwandb\u001b[0m: \tbh0: 2.227626848276594\n",
      "\u001b[34m\u001b[1mwandb\u001b[0m: \tbh1: 2.505502746014882\n",
      "\u001b[34m\u001b[1mwandb\u001b[0m: \tc: 0.3207509302097047\n"
     ]
    },
    {
     "data": {
      "text/html": [
       "wandb version 0.19.11 is available!  To upgrade, please run:\n",
       " $ pip install wandb --upgrade"
      ],
      "text/plain": [
       "<IPython.core.display.HTML object>"
      ]
     },
     "metadata": {},
     "output_type": "display_data"
    },
    {
     "data": {
      "text/html": [
       "Tracking run with wandb version 0.17.4"
      ],
      "text/plain": [
       "<IPython.core.display.HTML object>"
      ]
     },
     "metadata": {},
     "output_type": "display_data"
    },
    {
     "data": {
      "text/html": [
       "Run data is saved locally in <code>/12tb_dsk3/SEIR_model/src/wandb/run-20250526_181914-s4sq17rb</code>"
      ],
      "text/plain": [
       "<IPython.core.display.HTML object>"
      ]
     },
     "metadata": {},
     "output_type": "display_data"
    },
    {
     "data": {
      "text/html": [
       "Syncing run <strong><a href='https://wandb.ai/danish2562022/sweeps-SEIR/runs/s4sq17rb' target=\"_blank\">dutiful-sweep-7</a></strong> to <a href='https://wandb.ai/danish2562022/sweeps-SEIR' target=\"_blank\">Weights & Biases</a> (<a href='https://wandb.me/run' target=\"_blank\">docs</a>)<br/>Sweep page: <a href='https://wandb.ai/danish2562022/sweeps-SEIR/sweeps/gsjncjls' target=\"_blank\">https://wandb.ai/danish2562022/sweeps-SEIR/sweeps/gsjncjls</a>"
      ],
      "text/plain": [
       "<IPython.core.display.HTML object>"
      ]
     },
     "metadata": {},
     "output_type": "display_data"
    },
    {
     "data": {
      "text/html": [
       " View project at <a href='https://wandb.ai/danish2562022/sweeps-SEIR' target=\"_blank\">https://wandb.ai/danish2562022/sweeps-SEIR</a>"
      ],
      "text/plain": [
       "<IPython.core.display.HTML object>"
      ]
     },
     "metadata": {},
     "output_type": "display_data"
    },
    {
     "data": {
      "text/html": [
       " View sweep at <a href='https://wandb.ai/danish2562022/sweeps-SEIR/sweeps/gsjncjls' target=\"_blank\">https://wandb.ai/danish2562022/sweeps-SEIR/sweeps/gsjncjls</a>"
      ],
      "text/plain": [
       "<IPython.core.display.HTML object>"
      ]
     },
     "metadata": {},
     "output_type": "display_data"
    },
    {
     "data": {
      "text/html": [
       " View run at <a href='https://wandb.ai/danish2562022/sweeps-SEIR/runs/s4sq17rb' target=\"_blank\">https://wandb.ai/danish2562022/sweeps-SEIR/runs/s4sq17rb</a>"
      ],
      "text/plain": [
       "<IPython.core.display.HTML object>"
      ]
     },
     "metadata": {},
     "output_type": "display_data"
    },
    {
     "data": {
      "application/vnd.jupyter.widget-view+json": {
       "model_id": "e48f051f299948b386452e045a8c5aec",
       "version_major": 2,
       "version_minor": 0
      },
      "text/plain": [
       "VBox(children=(Label(value='0.021 MB of 0.021 MB uploaded\\r'), FloatProgress(value=1.0, max=1.0)))"
      ]
     },
     "metadata": {},
     "output_type": "display_data"
    },
    {
     "data": {
      "text/html": [
       "<style>\n",
       "    table.wandb td:nth-child(1) { padding: 0 10px; text-align: left ; width: auto;} td:nth-child(2) {text-align: left ; width: 100%}\n",
       "    .wandb-row { display: flex; flex-direction: row; flex-wrap: wrap; justify-content: flex-start; width: 100% }\n",
       "    .wandb-col { display: flex; flex-direction: column; flex-basis: 100%; flex: 1; padding: 10px; }\n",
       "    </style>\n",
       "<div class=\"wandb-row\"><div class=\"wandb-col\"><h3>Run history:</h3><br/><table class=\"wandb\"><tr><td>CV_RMSE</td><td>▁</td></tr><tr><td>CV_RMSE_STHLM</td><td>▁</td></tr><tr><td>CV_RMSE_Södermanland</td><td>▁</td></tr><tr><td>RMSE</td><td>▁</td></tr><tr><td>RMSE_STHLM</td><td>▁</td></tr><tr><td>RMSE_Södermanland</td><td>▁</td></tr></table><br/></div><div class=\"wandb-col\"><h3>Run summary:</h3><br/><table class=\"wandb\"><tr><td>CV_RMSE</td><td>919.63013</td></tr><tr><td>CV_RMSE_STHLM</td><td>472.26387</td></tr><tr><td>CV_RMSE_Södermanland</td><td>447.36626</td></tr><tr><td>RMSE</td><td>1447.79505</td></tr><tr><td>RMSE_STHLM</td><td>1326.01201</td></tr><tr><td>RMSE_Södermanland</td><td>121.78304</td></tr></table><br/></div></div>"
      ],
      "text/plain": [
       "<IPython.core.display.HTML object>"
      ]
     },
     "metadata": {},
     "output_type": "display_data"
    },
    {
     "data": {
      "text/html": [
       " View run <strong style=\"color:#cdcd00\">dutiful-sweep-7</strong> at: <a href='https://wandb.ai/danish2562022/sweeps-SEIR/runs/s4sq17rb' target=\"_blank\">https://wandb.ai/danish2562022/sweeps-SEIR/runs/s4sq17rb</a><br/> View project at: <a href='https://wandb.ai/danish2562022/sweeps-SEIR' target=\"_blank\">https://wandb.ai/danish2562022/sweeps-SEIR</a><br/>Synced 5 W&B file(s), 0 media file(s), 0 artifact file(s) and 0 other file(s)"
      ],
      "text/plain": [
       "<IPython.core.display.HTML object>"
      ]
     },
     "metadata": {},
     "output_type": "display_data"
    },
    {
     "data": {
      "text/html": [
       "Find logs at: <code>./wandb/run-20250526_181914-s4sq17rb/logs</code>"
      ],
      "text/plain": [
       "<IPython.core.display.HTML object>"
      ]
     },
     "metadata": {},
     "output_type": "display_data"
    },
    {
     "data": {
      "text/html": [
       "The new W&B backend becomes opt-out in version 0.18.0; try it out with `wandb.require(\"core\")`! See https://wandb.me/wandb-core for more information."
      ],
      "text/plain": [
       "<IPython.core.display.HTML object>"
      ]
     },
     "metadata": {},
     "output_type": "display_data"
    },
    {
     "name": "stderr",
     "output_type": "stream",
     "text": [
      "\u001b[34m\u001b[1mwandb\u001b[0m: Agent Starting Run: 61w0oo7d with config:\n",
      "\u001b[34m\u001b[1mwandb\u001b[0m: \tah0: 1.474780228190291\n",
      "\u001b[34m\u001b[1mwandb\u001b[0m: \tah1: 2.6206291555840626\n",
      "\u001b[34m\u001b[1mwandb\u001b[0m: \tbh0: 4.928282340634001\n",
      "\u001b[34m\u001b[1mwandb\u001b[0m: \tbh1: 4.5296680528950475\n",
      "\u001b[34m\u001b[1mwandb\u001b[0m: \tc: 0.6793154555076284\n"
     ]
    },
    {
     "data": {
      "text/html": [
       "wandb version 0.19.11 is available!  To upgrade, please run:\n",
       " $ pip install wandb --upgrade"
      ],
      "text/plain": [
       "<IPython.core.display.HTML object>"
      ]
     },
     "metadata": {},
     "output_type": "display_data"
    },
    {
     "data": {
      "text/html": [
       "Tracking run with wandb version 0.17.4"
      ],
      "text/plain": [
       "<IPython.core.display.HTML object>"
      ]
     },
     "metadata": {},
     "output_type": "display_data"
    },
    {
     "data": {
      "text/html": [
       "Run data is saved locally in <code>/12tb_dsk3/SEIR_model/src/wandb/run-20250526_181924-61w0oo7d</code>"
      ],
      "text/plain": [
       "<IPython.core.display.HTML object>"
      ]
     },
     "metadata": {},
     "output_type": "display_data"
    },
    {
     "data": {
      "text/html": [
       "Syncing run <strong><a href='https://wandb.ai/danish2562022/sweeps-SEIR/runs/61w0oo7d' target=\"_blank\">devoted-sweep-8</a></strong> to <a href='https://wandb.ai/danish2562022/sweeps-SEIR' target=\"_blank\">Weights & Biases</a> (<a href='https://wandb.me/run' target=\"_blank\">docs</a>)<br/>Sweep page: <a href='https://wandb.ai/danish2562022/sweeps-SEIR/sweeps/gsjncjls' target=\"_blank\">https://wandb.ai/danish2562022/sweeps-SEIR/sweeps/gsjncjls</a>"
      ],
      "text/plain": [
       "<IPython.core.display.HTML object>"
      ]
     },
     "metadata": {},
     "output_type": "display_data"
    },
    {
     "data": {
      "text/html": [
       " View project at <a href='https://wandb.ai/danish2562022/sweeps-SEIR' target=\"_blank\">https://wandb.ai/danish2562022/sweeps-SEIR</a>"
      ],
      "text/plain": [
       "<IPython.core.display.HTML object>"
      ]
     },
     "metadata": {},
     "output_type": "display_data"
    },
    {
     "data": {
      "text/html": [
       " View sweep at <a href='https://wandb.ai/danish2562022/sweeps-SEIR/sweeps/gsjncjls' target=\"_blank\">https://wandb.ai/danish2562022/sweeps-SEIR/sweeps/gsjncjls</a>"
      ],
      "text/plain": [
       "<IPython.core.display.HTML object>"
      ]
     },
     "metadata": {},
     "output_type": "display_data"
    },
    {
     "data": {
      "text/html": [
       " View run at <a href='https://wandb.ai/danish2562022/sweeps-SEIR/runs/61w0oo7d' target=\"_blank\">https://wandb.ai/danish2562022/sweeps-SEIR/runs/61w0oo7d</a>"
      ],
      "text/plain": [
       "<IPython.core.display.HTML object>"
      ]
     },
     "metadata": {},
     "output_type": "display_data"
    },
    {
     "data": {
      "application/vnd.jupyter.widget-view+json": {
       "model_id": "331555c1051e446e967f0e53ea1aa7d1",
       "version_major": 2,
       "version_minor": 0
      },
      "text/plain": [
       "VBox(children=(Label(value='0.021 MB of 0.021 MB uploaded\\r'), FloatProgress(value=1.0, max=1.0)))"
      ]
     },
     "metadata": {},
     "output_type": "display_data"
    },
    {
     "data": {
      "text/html": [
       "<style>\n",
       "    table.wandb td:nth-child(1) { padding: 0 10px; text-align: left ; width: auto;} td:nth-child(2) {text-align: left ; width: 100%}\n",
       "    .wandb-row { display: flex; flex-direction: row; flex-wrap: wrap; justify-content: flex-start; width: 100% }\n",
       "    .wandb-col { display: flex; flex-direction: column; flex-basis: 100%; flex: 1; padding: 10px; }\n",
       "    </style>\n",
       "<div class=\"wandb-row\"><div class=\"wandb-col\"><h3>Run history:</h3><br/><table class=\"wandb\"><tr><td>CV_RMSE</td><td>▁</td></tr><tr><td>CV_RMSE_STHLM</td><td>▁</td></tr><tr><td>CV_RMSE_Södermanland</td><td>▁</td></tr><tr><td>RMSE</td><td>▁</td></tr><tr><td>RMSE_STHLM</td><td>▁</td></tr><tr><td>RMSE_Södermanland</td><td>▁</td></tr></table><br/></div><div class=\"wandb-col\"><h3>Run summary:</h3><br/><table class=\"wandb\"><tr><td>CV_RMSE</td><td>475.49193</td></tr><tr><td>CV_RMSE_STHLM</td><td>144.5029</td></tr><tr><td>CV_RMSE_Södermanland</td><td>330.98903</td></tr><tr><td>RMSE</td><td>495.8346</td></tr><tr><td>RMSE_STHLM</td><td>405.73204</td></tr><tr><td>RMSE_Södermanland</td><td>90.10257</td></tr></table><br/></div></div>"
      ],
      "text/plain": [
       "<IPython.core.display.HTML object>"
      ]
     },
     "metadata": {},
     "output_type": "display_data"
    },
    {
     "data": {
      "text/html": [
       " View run <strong style=\"color:#cdcd00\">devoted-sweep-8</strong> at: <a href='https://wandb.ai/danish2562022/sweeps-SEIR/runs/61w0oo7d' target=\"_blank\">https://wandb.ai/danish2562022/sweeps-SEIR/runs/61w0oo7d</a><br/> View project at: <a href='https://wandb.ai/danish2562022/sweeps-SEIR' target=\"_blank\">https://wandb.ai/danish2562022/sweeps-SEIR</a><br/>Synced 5 W&B file(s), 0 media file(s), 0 artifact file(s) and 0 other file(s)"
      ],
      "text/plain": [
       "<IPython.core.display.HTML object>"
      ]
     },
     "metadata": {},
     "output_type": "display_data"
    },
    {
     "data": {
      "text/html": [
       "Find logs at: <code>./wandb/run-20250526_181924-61w0oo7d/logs</code>"
      ],
      "text/plain": [
       "<IPython.core.display.HTML object>"
      ]
     },
     "metadata": {},
     "output_type": "display_data"
    },
    {
     "data": {
      "text/html": [
       "The new W&B backend becomes opt-out in version 0.18.0; try it out with `wandb.require(\"core\")`! See https://wandb.me/wandb-core for more information."
      ],
      "text/plain": [
       "<IPython.core.display.HTML object>"
      ]
     },
     "metadata": {},
     "output_type": "display_data"
    },
    {
     "name": "stderr",
     "output_type": "stream",
     "text": [
      "\u001b[34m\u001b[1mwandb\u001b[0m: Sweep Agent: Waiting for job.\n",
      "\u001b[34m\u001b[1mwandb\u001b[0m: Job received.\n",
      "\u001b[34m\u001b[1mwandb\u001b[0m: Agent Starting Run: vj42r9mo with config:\n",
      "\u001b[34m\u001b[1mwandb\u001b[0m: \tah0: 1.2396076393787951\n",
      "\u001b[34m\u001b[1mwandb\u001b[0m: \tah1: 2.38224298891146\n",
      "\u001b[34m\u001b[1mwandb\u001b[0m: \tbh0: 2.590867989100008\n",
      "\u001b[34m\u001b[1mwandb\u001b[0m: \tbh1: 4.682904926483413\n",
      "\u001b[34m\u001b[1mwandb\u001b[0m: \tc: 0.8584588819274122\n"
     ]
    },
    {
     "data": {
      "text/html": [
       "wandb version 0.19.11 is available!  To upgrade, please run:\n",
       " $ pip install wandb --upgrade"
      ],
      "text/plain": [
       "<IPython.core.display.HTML object>"
      ]
     },
     "metadata": {},
     "output_type": "display_data"
    },
    {
     "data": {
      "text/html": [
       "Tracking run with wandb version 0.17.4"
      ],
      "text/plain": [
       "<IPython.core.display.HTML object>"
      ]
     },
     "metadata": {},
     "output_type": "display_data"
    },
    {
     "data": {
      "text/html": [
       "Run data is saved locally in <code>/12tb_dsk3/SEIR_model/src/wandb/run-20250526_181940-vj42r9mo</code>"
      ],
      "text/plain": [
       "<IPython.core.display.HTML object>"
      ]
     },
     "metadata": {},
     "output_type": "display_data"
    },
    {
     "data": {
      "text/html": [
       "Syncing run <strong><a href='https://wandb.ai/danish2562022/sweeps-SEIR/runs/vj42r9mo' target=\"_blank\">autumn-sweep-9</a></strong> to <a href='https://wandb.ai/danish2562022/sweeps-SEIR' target=\"_blank\">Weights & Biases</a> (<a href='https://wandb.me/run' target=\"_blank\">docs</a>)<br/>Sweep page: <a href='https://wandb.ai/danish2562022/sweeps-SEIR/sweeps/gsjncjls' target=\"_blank\">https://wandb.ai/danish2562022/sweeps-SEIR/sweeps/gsjncjls</a>"
      ],
      "text/plain": [
       "<IPython.core.display.HTML object>"
      ]
     },
     "metadata": {},
     "output_type": "display_data"
    },
    {
     "data": {
      "text/html": [
       " View project at <a href='https://wandb.ai/danish2562022/sweeps-SEIR' target=\"_blank\">https://wandb.ai/danish2562022/sweeps-SEIR</a>"
      ],
      "text/plain": [
       "<IPython.core.display.HTML object>"
      ]
     },
     "metadata": {},
     "output_type": "display_data"
    },
    {
     "data": {
      "text/html": [
       " View sweep at <a href='https://wandb.ai/danish2562022/sweeps-SEIR/sweeps/gsjncjls' target=\"_blank\">https://wandb.ai/danish2562022/sweeps-SEIR/sweeps/gsjncjls</a>"
      ],
      "text/plain": [
       "<IPython.core.display.HTML object>"
      ]
     },
     "metadata": {},
     "output_type": "display_data"
    },
    {
     "data": {
      "text/html": [
       " View run at <a href='https://wandb.ai/danish2562022/sweeps-SEIR/runs/vj42r9mo' target=\"_blank\">https://wandb.ai/danish2562022/sweeps-SEIR/runs/vj42r9mo</a>"
      ],
      "text/plain": [
       "<IPython.core.display.HTML object>"
      ]
     },
     "metadata": {},
     "output_type": "display_data"
    },
    {
     "data": {
      "application/vnd.jupyter.widget-view+json": {
       "model_id": "b4702e4946ef41408c3669f61fd416c7",
       "version_major": 2,
       "version_minor": 0
      },
      "text/plain": [
       "VBox(children=(Label(value='0.021 MB of 0.021 MB uploaded\\r'), FloatProgress(value=1.0, max=1.0)))"
      ]
     },
     "metadata": {},
     "output_type": "display_data"
    },
    {
     "data": {
      "text/html": [
       "<style>\n",
       "    table.wandb td:nth-child(1) { padding: 0 10px; text-align: left ; width: auto;} td:nth-child(2) {text-align: left ; width: 100%}\n",
       "    .wandb-row { display: flex; flex-direction: row; flex-wrap: wrap; justify-content: flex-start; width: 100% }\n",
       "    .wandb-col { display: flex; flex-direction: column; flex-basis: 100%; flex: 1; padding: 10px; }\n",
       "    </style>\n",
       "<div class=\"wandb-row\"><div class=\"wandb-col\"><h3>Run history:</h3><br/><table class=\"wandb\"><tr><td>CV_RMSE</td><td>▁</td></tr><tr><td>CV_RMSE_STHLM</td><td>▁</td></tr><tr><td>CV_RMSE_Södermanland</td><td>▁</td></tr><tr><td>RMSE</td><td>▁</td></tr><tr><td>RMSE_STHLM</td><td>▁</td></tr><tr><td>RMSE_Södermanland</td><td>▁</td></tr></table><br/></div><div class=\"wandb-col\"><h3>Run summary:</h3><br/><table class=\"wandb\"><tr><td>CV_RMSE</td><td>499.02228</td></tr><tr><td>CV_RMSE_STHLM</td><td>176.09409</td></tr><tr><td>CV_RMSE_Södermanland</td><td>322.92819</td></tr><tr><td>RMSE</td><td>582.3413</td></tr><tr><td>RMSE_STHLM</td><td>494.43307</td></tr><tr><td>RMSE_Södermanland</td><td>87.90823</td></tr></table><br/></div></div>"
      ],
      "text/plain": [
       "<IPython.core.display.HTML object>"
      ]
     },
     "metadata": {},
     "output_type": "display_data"
    },
    {
     "data": {
      "text/html": [
       " View run <strong style=\"color:#cdcd00\">autumn-sweep-9</strong> at: <a href='https://wandb.ai/danish2562022/sweeps-SEIR/runs/vj42r9mo' target=\"_blank\">https://wandb.ai/danish2562022/sweeps-SEIR/runs/vj42r9mo</a><br/> View project at: <a href='https://wandb.ai/danish2562022/sweeps-SEIR' target=\"_blank\">https://wandb.ai/danish2562022/sweeps-SEIR</a><br/>Synced 5 W&B file(s), 0 media file(s), 0 artifact file(s) and 0 other file(s)"
      ],
      "text/plain": [
       "<IPython.core.display.HTML object>"
      ]
     },
     "metadata": {},
     "output_type": "display_data"
    },
    {
     "data": {
      "text/html": [
       "Find logs at: <code>./wandb/run-20250526_181940-vj42r9mo/logs</code>"
      ],
      "text/plain": [
       "<IPython.core.display.HTML object>"
      ]
     },
     "metadata": {},
     "output_type": "display_data"
    },
    {
     "data": {
      "text/html": [
       "The new W&B backend becomes opt-out in version 0.18.0; try it out with `wandb.require(\"core\")`! See https://wandb.me/wandb-core for more information."
      ],
      "text/plain": [
       "<IPython.core.display.HTML object>"
      ]
     },
     "metadata": {},
     "output_type": "display_data"
    },
    {
     "name": "stderr",
     "output_type": "stream",
     "text": [
      "\u001b[34m\u001b[1mwandb\u001b[0m: Agent Starting Run: r6tqz8cw with config:\n",
      "\u001b[34m\u001b[1mwandb\u001b[0m: \tah0: 3.439904059906349\n",
      "\u001b[34m\u001b[1mwandb\u001b[0m: \tah1: 3.8293211280028054\n",
      "\u001b[34m\u001b[1mwandb\u001b[0m: \tbh0: 1.0350272092473602\n",
      "\u001b[34m\u001b[1mwandb\u001b[0m: \tbh1: 3.8818353053410606\n",
      "\u001b[34m\u001b[1mwandb\u001b[0m: \tc: 0.226876071731394\n"
     ]
    },
    {
     "data": {
      "text/html": [
       "wandb version 0.19.11 is available!  To upgrade, please run:\n",
       " $ pip install wandb --upgrade"
      ],
      "text/plain": [
       "<IPython.core.display.HTML object>"
      ]
     },
     "metadata": {},
     "output_type": "display_data"
    },
    {
     "data": {
      "text/html": [
       "Tracking run with wandb version 0.17.4"
      ],
      "text/plain": [
       "<IPython.core.display.HTML object>"
      ]
     },
     "metadata": {},
     "output_type": "display_data"
    },
    {
     "data": {
      "text/html": [
       "Run data is saved locally in <code>/12tb_dsk3/SEIR_model/src/wandb/run-20250526_181950-r6tqz8cw</code>"
      ],
      "text/plain": [
       "<IPython.core.display.HTML object>"
      ]
     },
     "metadata": {},
     "output_type": "display_data"
    },
    {
     "data": {
      "text/html": [
       "Syncing run <strong><a href='https://wandb.ai/danish2562022/sweeps-SEIR/runs/r6tqz8cw' target=\"_blank\">smart-sweep-10</a></strong> to <a href='https://wandb.ai/danish2562022/sweeps-SEIR' target=\"_blank\">Weights & Biases</a> (<a href='https://wandb.me/run' target=\"_blank\">docs</a>)<br/>Sweep page: <a href='https://wandb.ai/danish2562022/sweeps-SEIR/sweeps/gsjncjls' target=\"_blank\">https://wandb.ai/danish2562022/sweeps-SEIR/sweeps/gsjncjls</a>"
      ],
      "text/plain": [
       "<IPython.core.display.HTML object>"
      ]
     },
     "metadata": {},
     "output_type": "display_data"
    },
    {
     "data": {
      "text/html": [
       " View project at <a href='https://wandb.ai/danish2562022/sweeps-SEIR' target=\"_blank\">https://wandb.ai/danish2562022/sweeps-SEIR</a>"
      ],
      "text/plain": [
       "<IPython.core.display.HTML object>"
      ]
     },
     "metadata": {},
     "output_type": "display_data"
    },
    {
     "data": {
      "text/html": [
       " View sweep at <a href='https://wandb.ai/danish2562022/sweeps-SEIR/sweeps/gsjncjls' target=\"_blank\">https://wandb.ai/danish2562022/sweeps-SEIR/sweeps/gsjncjls</a>"
      ],
      "text/plain": [
       "<IPython.core.display.HTML object>"
      ]
     },
     "metadata": {},
     "output_type": "display_data"
    },
    {
     "data": {
      "text/html": [
       " View run at <a href='https://wandb.ai/danish2562022/sweeps-SEIR/runs/r6tqz8cw' target=\"_blank\">https://wandb.ai/danish2562022/sweeps-SEIR/runs/r6tqz8cw</a>"
      ],
      "text/plain": [
       "<IPython.core.display.HTML object>"
      ]
     },
     "metadata": {},
     "output_type": "display_data"
    },
    {
     "data": {
      "application/vnd.jupyter.widget-view+json": {
       "model_id": "1adc82df48a6474cb4076a7d71a811e8",
       "version_major": 2,
       "version_minor": 0
      },
      "text/plain": [
       "VBox(children=(Label(value='0.021 MB of 0.021 MB uploaded\\r'), FloatProgress(value=1.0, max=1.0)))"
      ]
     },
     "metadata": {},
     "output_type": "display_data"
    },
    {
     "data": {
      "text/html": [
       "<style>\n",
       "    table.wandb td:nth-child(1) { padding: 0 10px; text-align: left ; width: auto;} td:nth-child(2) {text-align: left ; width: 100%}\n",
       "    .wandb-row { display: flex; flex-direction: row; flex-wrap: wrap; justify-content: flex-start; width: 100% }\n",
       "    .wandb-col { display: flex; flex-direction: column; flex-basis: 100%; flex: 1; padding: 10px; }\n",
       "    </style>\n",
       "<div class=\"wandb-row\"><div class=\"wandb-col\"><h3>Run history:</h3><br/><table class=\"wandb\"><tr><td>CV_RMSE</td><td>▁</td></tr><tr><td>CV_RMSE_STHLM</td><td>▁</td></tr><tr><td>CV_RMSE_Södermanland</td><td>▁</td></tr><tr><td>RMSE</td><td>▁</td></tr><tr><td>RMSE_STHLM</td><td>▁</td></tr><tr><td>RMSE_Södermanland</td><td>▁</td></tr></table><br/></div><div class=\"wandb-col\"><h3>Run summary:</h3><br/><table class=\"wandb\"><tr><td>CV_RMSE</td><td>1065.06462</td></tr><tr><td>CV_RMSE_STHLM</td><td>530.78319</td></tr><tr><td>CV_RMSE_Södermanland</td><td>534.28142</td></tr><tr><td>RMSE</td><td>1635.76453</td></tr><tr><td>RMSE_STHLM</td><td>1490.32125</td></tr><tr><td>RMSE_Södermanland</td><td>145.44328</td></tr></table><br/></div></div>"
      ],
      "text/plain": [
       "<IPython.core.display.HTML object>"
      ]
     },
     "metadata": {},
     "output_type": "display_data"
    },
    {
     "data": {
      "text/html": [
       " View run <strong style=\"color:#cdcd00\">smart-sweep-10</strong> at: <a href='https://wandb.ai/danish2562022/sweeps-SEIR/runs/r6tqz8cw' target=\"_blank\">https://wandb.ai/danish2562022/sweeps-SEIR/runs/r6tqz8cw</a><br/> View project at: <a href='https://wandb.ai/danish2562022/sweeps-SEIR' target=\"_blank\">https://wandb.ai/danish2562022/sweeps-SEIR</a><br/>Synced 5 W&B file(s), 0 media file(s), 0 artifact file(s) and 0 other file(s)"
      ],
      "text/plain": [
       "<IPython.core.display.HTML object>"
      ]
     },
     "metadata": {},
     "output_type": "display_data"
    },
    {
     "data": {
      "text/html": [
       "Find logs at: <code>./wandb/run-20250526_181950-r6tqz8cw/logs</code>"
      ],
      "text/plain": [
       "<IPython.core.display.HTML object>"
      ]
     },
     "metadata": {},
     "output_type": "display_data"
    },
    {
     "data": {
      "text/html": [
       "The new W&B backend becomes opt-out in version 0.18.0; try it out with `wandb.require(\"core\")`! See https://wandb.me/wandb-core for more information."
      ],
      "text/plain": [
       "<IPython.core.display.HTML object>"
      ]
     },
     "metadata": {},
     "output_type": "display_data"
    },
    {
     "name": "stderr",
     "output_type": "stream",
     "text": [
      "\u001b[34m\u001b[1mwandb\u001b[0m: Sweep Agent: Waiting for job.\n",
      "\u001b[34m\u001b[1mwandb\u001b[0m: Job received.\n",
      "\u001b[34m\u001b[1mwandb\u001b[0m: Agent Starting Run: wm2rwsig with config:\n",
      "\u001b[34m\u001b[1mwandb\u001b[0m: \tah0: 4.622253725679091\n",
      "\u001b[34m\u001b[1mwandb\u001b[0m: \tah1: 4.050469621425952\n",
      "\u001b[34m\u001b[1mwandb\u001b[0m: \tbh0: 3.144985195432429\n",
      "\u001b[34m\u001b[1mwandb\u001b[0m: \tbh1: 3.120152076765791\n",
      "\u001b[34m\u001b[1mwandb\u001b[0m: \tc: 0.573762994207051\n"
     ]
    },
    {
     "data": {
      "text/html": [
       "wandb version 0.19.11 is available!  To upgrade, please run:\n",
       " $ pip install wandb --upgrade"
      ],
      "text/plain": [
       "<IPython.core.display.HTML object>"
      ]
     },
     "metadata": {},
     "output_type": "display_data"
    },
    {
     "data": {
      "text/html": [
       "Tracking run with wandb version 0.17.4"
      ],
      "text/plain": [
       "<IPython.core.display.HTML object>"
      ]
     },
     "metadata": {},
     "output_type": "display_data"
    },
    {
     "data": {
      "text/html": [
       "Run data is saved locally in <code>/12tb_dsk3/SEIR_model/src/wandb/run-20250526_182007-wm2rwsig</code>"
      ],
      "text/plain": [
       "<IPython.core.display.HTML object>"
      ]
     },
     "metadata": {},
     "output_type": "display_data"
    },
    {
     "data": {
      "text/html": [
       "Syncing run <strong><a href='https://wandb.ai/danish2562022/sweeps-SEIR/runs/wm2rwsig' target=\"_blank\">fresh-sweep-11</a></strong> to <a href='https://wandb.ai/danish2562022/sweeps-SEIR' target=\"_blank\">Weights & Biases</a> (<a href='https://wandb.me/run' target=\"_blank\">docs</a>)<br/>Sweep page: <a href='https://wandb.ai/danish2562022/sweeps-SEIR/sweeps/gsjncjls' target=\"_blank\">https://wandb.ai/danish2562022/sweeps-SEIR/sweeps/gsjncjls</a>"
      ],
      "text/plain": [
       "<IPython.core.display.HTML object>"
      ]
     },
     "metadata": {},
     "output_type": "display_data"
    },
    {
     "data": {
      "text/html": [
       " View project at <a href='https://wandb.ai/danish2562022/sweeps-SEIR' target=\"_blank\">https://wandb.ai/danish2562022/sweeps-SEIR</a>"
      ],
      "text/plain": [
       "<IPython.core.display.HTML object>"
      ]
     },
     "metadata": {},
     "output_type": "display_data"
    },
    {
     "data": {
      "text/html": [
       " View sweep at <a href='https://wandb.ai/danish2562022/sweeps-SEIR/sweeps/gsjncjls' target=\"_blank\">https://wandb.ai/danish2562022/sweeps-SEIR/sweeps/gsjncjls</a>"
      ],
      "text/plain": [
       "<IPython.core.display.HTML object>"
      ]
     },
     "metadata": {},
     "output_type": "display_data"
    },
    {
     "data": {
      "text/html": [
       " View run at <a href='https://wandb.ai/danish2562022/sweeps-SEIR/runs/wm2rwsig' target=\"_blank\">https://wandb.ai/danish2562022/sweeps-SEIR/runs/wm2rwsig</a>"
      ],
      "text/plain": [
       "<IPython.core.display.HTML object>"
      ]
     },
     "metadata": {},
     "output_type": "display_data"
    },
    {
     "data": {
      "application/vnd.jupyter.widget-view+json": {
       "model_id": "db88879a7a104fb5b6986b596a3d97f6",
       "version_major": 2,
       "version_minor": 0
      },
      "text/plain": [
       "VBox(children=(Label(value='0.021 MB of 0.021 MB uploaded\\r'), FloatProgress(value=1.0, max=1.0)))"
      ]
     },
     "metadata": {},
     "output_type": "display_data"
    },
    {
     "data": {
      "text/html": [
       "<style>\n",
       "    table.wandb td:nth-child(1) { padding: 0 10px; text-align: left ; width: auto;} td:nth-child(2) {text-align: left ; width: 100%}\n",
       "    .wandb-row { display: flex; flex-direction: row; flex-wrap: wrap; justify-content: flex-start; width: 100% }\n",
       "    .wandb-col { display: flex; flex-direction: column; flex-basis: 100%; flex: 1; padding: 10px; }\n",
       "    </style>\n",
       "<div class=\"wandb-row\"><div class=\"wandb-col\"><h3>Run history:</h3><br/><table class=\"wandb\"><tr><td>CV_RMSE</td><td>▁</td></tr><tr><td>CV_RMSE_STHLM</td><td>▁</td></tr><tr><td>CV_RMSE_Södermanland</td><td>▁</td></tr><tr><td>RMSE</td><td>▁</td></tr><tr><td>RMSE_STHLM</td><td>▁</td></tr><tr><td>RMSE_Södermanland</td><td>▁</td></tr></table><br/></div><div class=\"wandb-col\"><h3>Run summary:</h3><br/><table class=\"wandb\"><tr><td>CV_RMSE</td><td>1393.63371</td></tr><tr><td>CV_RMSE_STHLM</td><td>609.66109</td></tr><tr><td>CV_RMSE_Södermanland</td><td>783.97262</td></tr><tr><td>RMSE</td><td>1925.20764</td></tr><tr><td>RMSE_STHLM</td><td>1711.79287</td></tr><tr><td>RMSE_Södermanland</td><td>213.41477</td></tr></table><br/></div></div>"
      ],
      "text/plain": [
       "<IPython.core.display.HTML object>"
      ]
     },
     "metadata": {},
     "output_type": "display_data"
    },
    {
     "data": {
      "text/html": [
       " View run <strong style=\"color:#cdcd00\">fresh-sweep-11</strong> at: <a href='https://wandb.ai/danish2562022/sweeps-SEIR/runs/wm2rwsig' target=\"_blank\">https://wandb.ai/danish2562022/sweeps-SEIR/runs/wm2rwsig</a><br/> View project at: <a href='https://wandb.ai/danish2562022/sweeps-SEIR' target=\"_blank\">https://wandb.ai/danish2562022/sweeps-SEIR</a><br/>Synced 5 W&B file(s), 0 media file(s), 0 artifact file(s) and 0 other file(s)"
      ],
      "text/plain": [
       "<IPython.core.display.HTML object>"
      ]
     },
     "metadata": {},
     "output_type": "display_data"
    },
    {
     "data": {
      "text/html": [
       "Find logs at: <code>./wandb/run-20250526_182007-wm2rwsig/logs</code>"
      ],
      "text/plain": [
       "<IPython.core.display.HTML object>"
      ]
     },
     "metadata": {},
     "output_type": "display_data"
    },
    {
     "data": {
      "text/html": [
       "The new W&B backend becomes opt-out in version 0.18.0; try it out with `wandb.require(\"core\")`! See https://wandb.me/wandb-core for more information."
      ],
      "text/plain": [
       "<IPython.core.display.HTML object>"
      ]
     },
     "metadata": {},
     "output_type": "display_data"
    },
    {
     "name": "stderr",
     "output_type": "stream",
     "text": [
      "\u001b[34m\u001b[1mwandb\u001b[0m: Agent Starting Run: lgonvnzg with config:\n",
      "\u001b[34m\u001b[1mwandb\u001b[0m: \tah0: 3.366772731321412\n",
      "\u001b[34m\u001b[1mwandb\u001b[0m: \tah1: 4.356248186672156\n",
      "\u001b[34m\u001b[1mwandb\u001b[0m: \tbh0: 4.084396759783679\n",
      "\u001b[34m\u001b[1mwandb\u001b[0m: \tbh1: 4.690739209242752\n",
      "\u001b[34m\u001b[1mwandb\u001b[0m: \tc: 1.7901430667895932\n"
     ]
    },
    {
     "data": {
      "text/html": [
       "wandb version 0.19.11 is available!  To upgrade, please run:\n",
       " $ pip install wandb --upgrade"
      ],
      "text/plain": [
       "<IPython.core.display.HTML object>"
      ]
     },
     "metadata": {},
     "output_type": "display_data"
    },
    {
     "data": {
      "text/html": [
       "Tracking run with wandb version 0.17.4"
      ],
      "text/plain": [
       "<IPython.core.display.HTML object>"
      ]
     },
     "metadata": {},
     "output_type": "display_data"
    },
    {
     "data": {
      "text/html": [
       "Run data is saved locally in <code>/12tb_dsk3/SEIR_model/src/wandb/run-20250526_182015-lgonvnzg</code>"
      ],
      "text/plain": [
       "<IPython.core.display.HTML object>"
      ]
     },
     "metadata": {},
     "output_type": "display_data"
    },
    {
     "data": {
      "text/html": [
       "Syncing run <strong><a href='https://wandb.ai/danish2562022/sweeps-SEIR/runs/lgonvnzg' target=\"_blank\">fancy-sweep-12</a></strong> to <a href='https://wandb.ai/danish2562022/sweeps-SEIR' target=\"_blank\">Weights & Biases</a> (<a href='https://wandb.me/run' target=\"_blank\">docs</a>)<br/>Sweep page: <a href='https://wandb.ai/danish2562022/sweeps-SEIR/sweeps/gsjncjls' target=\"_blank\">https://wandb.ai/danish2562022/sweeps-SEIR/sweeps/gsjncjls</a>"
      ],
      "text/plain": [
       "<IPython.core.display.HTML object>"
      ]
     },
     "metadata": {},
     "output_type": "display_data"
    },
    {
     "data": {
      "text/html": [
       " View project at <a href='https://wandb.ai/danish2562022/sweeps-SEIR' target=\"_blank\">https://wandb.ai/danish2562022/sweeps-SEIR</a>"
      ],
      "text/plain": [
       "<IPython.core.display.HTML object>"
      ]
     },
     "metadata": {},
     "output_type": "display_data"
    },
    {
     "data": {
      "text/html": [
       " View sweep at <a href='https://wandb.ai/danish2562022/sweeps-SEIR/sweeps/gsjncjls' target=\"_blank\">https://wandb.ai/danish2562022/sweeps-SEIR/sweeps/gsjncjls</a>"
      ],
      "text/plain": [
       "<IPython.core.display.HTML object>"
      ]
     },
     "metadata": {},
     "output_type": "display_data"
    },
    {
     "data": {
      "text/html": [
       " View run at <a href='https://wandb.ai/danish2562022/sweeps-SEIR/runs/lgonvnzg' target=\"_blank\">https://wandb.ai/danish2562022/sweeps-SEIR/runs/lgonvnzg</a>"
      ],
      "text/plain": [
       "<IPython.core.display.HTML object>"
      ]
     },
     "metadata": {},
     "output_type": "display_data"
    },
    {
     "data": {
      "application/vnd.jupyter.widget-view+json": {
       "model_id": "0a72dc37e64e47e0a3b3139f7331a603",
       "version_major": 2,
       "version_minor": 0
      },
      "text/plain": [
       "VBox(children=(Label(value='0.021 MB of 0.021 MB uploaded\\r'), FloatProgress(value=1.0, max=1.0)))"
      ]
     },
     "metadata": {},
     "output_type": "display_data"
    },
    {
     "data": {
      "text/html": [
       "<style>\n",
       "    table.wandb td:nth-child(1) { padding: 0 10px; text-align: left ; width: auto;} td:nth-child(2) {text-align: left ; width: 100%}\n",
       "    .wandb-row { display: flex; flex-direction: row; flex-wrap: wrap; justify-content: flex-start; width: 100% }\n",
       "    .wandb-col { display: flex; flex-direction: column; flex-basis: 100%; flex: 1; padding: 10px; }\n",
       "    </style>\n",
       "<div class=\"wandb-row\"><div class=\"wandb-col\"><h3>Run history:</h3><br/><table class=\"wandb\"><tr><td>CV_RMSE</td><td>▁</td></tr><tr><td>CV_RMSE_STHLM</td><td>▁</td></tr><tr><td>CV_RMSE_Södermanland</td><td>▁</td></tr><tr><td>RMSE</td><td>▁</td></tr><tr><td>RMSE_STHLM</td><td>▁</td></tr><tr><td>RMSE_Södermanland</td><td>▁</td></tr></table><br/></div><div class=\"wandb-col\"><h3>Run summary:</h3><br/><table class=\"wandb\"><tr><td>CV_RMSE</td><td>1673.54997</td></tr><tr><td>CV_RMSE_STHLM</td><td>672.28861</td></tr><tr><td>CV_RMSE_Södermanland</td><td>1001.26136</td></tr><tr><td>RMSE</td><td>2160.20261</td></tr><tr><td>RMSE_STHLM</td><td>1887.63702</td></tr><tr><td>RMSE_Södermanland</td><td>272.56559</td></tr></table><br/></div></div>"
      ],
      "text/plain": [
       "<IPython.core.display.HTML object>"
      ]
     },
     "metadata": {},
     "output_type": "display_data"
    },
    {
     "data": {
      "text/html": [
       " View run <strong style=\"color:#cdcd00\">fancy-sweep-12</strong> at: <a href='https://wandb.ai/danish2562022/sweeps-SEIR/runs/lgonvnzg' target=\"_blank\">https://wandb.ai/danish2562022/sweeps-SEIR/runs/lgonvnzg</a><br/> View project at: <a href='https://wandb.ai/danish2562022/sweeps-SEIR' target=\"_blank\">https://wandb.ai/danish2562022/sweeps-SEIR</a><br/>Synced 5 W&B file(s), 0 media file(s), 0 artifact file(s) and 0 other file(s)"
      ],
      "text/plain": [
       "<IPython.core.display.HTML object>"
      ]
     },
     "metadata": {},
     "output_type": "display_data"
    },
    {
     "data": {
      "text/html": [
       "Find logs at: <code>./wandb/run-20250526_182015-lgonvnzg/logs</code>"
      ],
      "text/plain": [
       "<IPython.core.display.HTML object>"
      ]
     },
     "metadata": {},
     "output_type": "display_data"
    },
    {
     "data": {
      "text/html": [
       "The new W&B backend becomes opt-out in version 0.18.0; try it out with `wandb.require(\"core\")`! See https://wandb.me/wandb-core for more information."
      ],
      "text/plain": [
       "<IPython.core.display.HTML object>"
      ]
     },
     "metadata": {},
     "output_type": "display_data"
    },
    {
     "name": "stderr",
     "output_type": "stream",
     "text": [
      "\u001b[34m\u001b[1mwandb\u001b[0m: Sweep Agent: Waiting for job.\n",
      "\u001b[34m\u001b[1mwandb\u001b[0m: Job received.\n",
      "\u001b[34m\u001b[1mwandb\u001b[0m: Agent Starting Run: 36kt7px6 with config:\n",
      "\u001b[34m\u001b[1mwandb\u001b[0m: \tah0: 4.177926133188921\n",
      "\u001b[34m\u001b[1mwandb\u001b[0m: \tah1: 2.692821981903583\n",
      "\u001b[34m\u001b[1mwandb\u001b[0m: \tbh0: 2.708024622510226\n",
      "\u001b[34m\u001b[1mwandb\u001b[0m: \tbh1: 1.3670790000853552\n",
      "\u001b[34m\u001b[1mwandb\u001b[0m: \tc: 1.7970394585022542\n"
     ]
    },
    {
     "data": {
      "text/html": [
       "wandb version 0.19.11 is available!  To upgrade, please run:\n",
       " $ pip install wandb --upgrade"
      ],
      "text/plain": [
       "<IPython.core.display.HTML object>"
      ]
     },
     "metadata": {},
     "output_type": "display_data"
    },
    {
     "data": {
      "text/html": [
       "Tracking run with wandb version 0.17.4"
      ],
      "text/plain": [
       "<IPython.core.display.HTML object>"
      ]
     },
     "metadata": {},
     "output_type": "display_data"
    },
    {
     "data": {
      "text/html": [
       "Run data is saved locally in <code>/12tb_dsk3/SEIR_model/src/wandb/run-20250526_182031-36kt7px6</code>"
      ],
      "text/plain": [
       "<IPython.core.display.HTML object>"
      ]
     },
     "metadata": {},
     "output_type": "display_data"
    },
    {
     "data": {
      "text/html": [
       "Syncing run <strong><a href='https://wandb.ai/danish2562022/sweeps-SEIR/runs/36kt7px6' target=\"_blank\">solar-sweep-13</a></strong> to <a href='https://wandb.ai/danish2562022/sweeps-SEIR' target=\"_blank\">Weights & Biases</a> (<a href='https://wandb.me/run' target=\"_blank\">docs</a>)<br/>Sweep page: <a href='https://wandb.ai/danish2562022/sweeps-SEIR/sweeps/gsjncjls' target=\"_blank\">https://wandb.ai/danish2562022/sweeps-SEIR/sweeps/gsjncjls</a>"
      ],
      "text/plain": [
       "<IPython.core.display.HTML object>"
      ]
     },
     "metadata": {},
     "output_type": "display_data"
    },
    {
     "data": {
      "text/html": [
       " View project at <a href='https://wandb.ai/danish2562022/sweeps-SEIR' target=\"_blank\">https://wandb.ai/danish2562022/sweeps-SEIR</a>"
      ],
      "text/plain": [
       "<IPython.core.display.HTML object>"
      ]
     },
     "metadata": {},
     "output_type": "display_data"
    },
    {
     "data": {
      "text/html": [
       " View sweep at <a href='https://wandb.ai/danish2562022/sweeps-SEIR/sweeps/gsjncjls' target=\"_blank\">https://wandb.ai/danish2562022/sweeps-SEIR/sweeps/gsjncjls</a>"
      ],
      "text/plain": [
       "<IPython.core.display.HTML object>"
      ]
     },
     "metadata": {},
     "output_type": "display_data"
    },
    {
     "data": {
      "text/html": [
       " View run at <a href='https://wandb.ai/danish2562022/sweeps-SEIR/runs/36kt7px6' target=\"_blank\">https://wandb.ai/danish2562022/sweeps-SEIR/runs/36kt7px6</a>"
      ],
      "text/plain": [
       "<IPython.core.display.HTML object>"
      ]
     },
     "metadata": {},
     "output_type": "display_data"
    },
    {
     "data": {
      "application/vnd.jupyter.widget-view+json": {
       "model_id": "b26ba33ce7a74bc9803ea4bb6e64ba88",
       "version_major": 2,
       "version_minor": 0
      },
      "text/plain": [
       "VBox(children=(Label(value='0.021 MB of 0.021 MB uploaded\\r'), FloatProgress(value=1.0, max=1.0)))"
      ]
     },
     "metadata": {},
     "output_type": "display_data"
    },
    {
     "data": {
      "text/html": [
       "<style>\n",
       "    table.wandb td:nth-child(1) { padding: 0 10px; text-align: left ; width: auto;} td:nth-child(2) {text-align: left ; width: 100%}\n",
       "    .wandb-row { display: flex; flex-direction: row; flex-wrap: wrap; justify-content: flex-start; width: 100% }\n",
       "    .wandb-col { display: flex; flex-direction: column; flex-basis: 100%; flex: 1; padding: 10px; }\n",
       "    </style>\n",
       "<div class=\"wandb-row\"><div class=\"wandb-col\"><h3>Run history:</h3><br/><table class=\"wandb\"><tr><td>CV_RMSE</td><td>▁</td></tr><tr><td>CV_RMSE_STHLM</td><td>▁</td></tr><tr><td>CV_RMSE_Södermanland</td><td>▁</td></tr><tr><td>RMSE</td><td>▁</td></tr><tr><td>RMSE_STHLM</td><td>▁</td></tr><tr><td>RMSE_Södermanland</td><td>▁</td></tr></table><br/></div><div class=\"wandb-col\"><h3>Run summary:</h3><br/><table class=\"wandb\"><tr><td>CV_RMSE</td><td>1629.88437</td></tr><tr><td>CV_RMSE_STHLM</td><td>707.4285</td></tr><tr><td>CV_RMSE_Södermanland</td><td>922.45587</td></tr><tr><td>RMSE</td><td>2237.415</td></tr><tr><td>RMSE_STHLM</td><td>1986.30201</td></tr><tr><td>RMSE_Södermanland</td><td>251.11299</td></tr></table><br/></div></div>"
      ],
      "text/plain": [
       "<IPython.core.display.HTML object>"
      ]
     },
     "metadata": {},
     "output_type": "display_data"
    },
    {
     "data": {
      "text/html": [
       " View run <strong style=\"color:#cdcd00\">solar-sweep-13</strong> at: <a href='https://wandb.ai/danish2562022/sweeps-SEIR/runs/36kt7px6' target=\"_blank\">https://wandb.ai/danish2562022/sweeps-SEIR/runs/36kt7px6</a><br/> View project at: <a href='https://wandb.ai/danish2562022/sweeps-SEIR' target=\"_blank\">https://wandb.ai/danish2562022/sweeps-SEIR</a><br/>Synced 5 W&B file(s), 0 media file(s), 0 artifact file(s) and 0 other file(s)"
      ],
      "text/plain": [
       "<IPython.core.display.HTML object>"
      ]
     },
     "metadata": {},
     "output_type": "display_data"
    },
    {
     "data": {
      "text/html": [
       "Find logs at: <code>./wandb/run-20250526_182031-36kt7px6/logs</code>"
      ],
      "text/plain": [
       "<IPython.core.display.HTML object>"
      ]
     },
     "metadata": {},
     "output_type": "display_data"
    },
    {
     "data": {
      "text/html": [
       "The new W&B backend becomes opt-out in version 0.18.0; try it out with `wandb.require(\"core\")`! See https://wandb.me/wandb-core for more information."
      ],
      "text/plain": [
       "<IPython.core.display.HTML object>"
      ]
     },
     "metadata": {},
     "output_type": "display_data"
    },
    {
     "name": "stderr",
     "output_type": "stream",
     "text": [
      "\u001b[34m\u001b[1mwandb\u001b[0m: Agent Starting Run: zkgoshux with config:\n",
      "\u001b[34m\u001b[1mwandb\u001b[0m: \tah0: 3.5238621179785374\n",
      "\u001b[34m\u001b[1mwandb\u001b[0m: \tah1: 2.9373693767805418\n",
      "\u001b[34m\u001b[1mwandb\u001b[0m: \tbh0: 2.752511862443529\n",
      "\u001b[34m\u001b[1mwandb\u001b[0m: \tbh1: 3.317751263630033\n",
      "\u001b[34m\u001b[1mwandb\u001b[0m: \tc: 0.4925979948377459\n"
     ]
    },
    {
     "data": {
      "text/html": [
       "wandb version 0.19.11 is available!  To upgrade, please run:\n",
       " $ pip install wandb --upgrade"
      ],
      "text/plain": [
       "<IPython.core.display.HTML object>"
      ]
     },
     "metadata": {},
     "output_type": "display_data"
    },
    {
     "data": {
      "text/html": [
       "Tracking run with wandb version 0.17.4"
      ],
      "text/plain": [
       "<IPython.core.display.HTML object>"
      ]
     },
     "metadata": {},
     "output_type": "display_data"
    },
    {
     "data": {
      "text/html": [
       "Run data is saved locally in <code>/12tb_dsk3/SEIR_model/src/wandb/run-20250526_182041-zkgoshux</code>"
      ],
      "text/plain": [
       "<IPython.core.display.HTML object>"
      ]
     },
     "metadata": {},
     "output_type": "display_data"
    },
    {
     "data": {
      "text/html": [
       "Syncing run <strong><a href='https://wandb.ai/danish2562022/sweeps-SEIR/runs/zkgoshux' target=\"_blank\">morning-sweep-14</a></strong> to <a href='https://wandb.ai/danish2562022/sweeps-SEIR' target=\"_blank\">Weights & Biases</a> (<a href='https://wandb.me/run' target=\"_blank\">docs</a>)<br/>Sweep page: <a href='https://wandb.ai/danish2562022/sweeps-SEIR/sweeps/gsjncjls' target=\"_blank\">https://wandb.ai/danish2562022/sweeps-SEIR/sweeps/gsjncjls</a>"
      ],
      "text/plain": [
       "<IPython.core.display.HTML object>"
      ]
     },
     "metadata": {},
     "output_type": "display_data"
    },
    {
     "data": {
      "text/html": [
       " View project at <a href='https://wandb.ai/danish2562022/sweeps-SEIR' target=\"_blank\">https://wandb.ai/danish2562022/sweeps-SEIR</a>"
      ],
      "text/plain": [
       "<IPython.core.display.HTML object>"
      ]
     },
     "metadata": {},
     "output_type": "display_data"
    },
    {
     "data": {
      "text/html": [
       " View sweep at <a href='https://wandb.ai/danish2562022/sweeps-SEIR/sweeps/gsjncjls' target=\"_blank\">https://wandb.ai/danish2562022/sweeps-SEIR/sweeps/gsjncjls</a>"
      ],
      "text/plain": [
       "<IPython.core.display.HTML object>"
      ]
     },
     "metadata": {},
     "output_type": "display_data"
    },
    {
     "data": {
      "text/html": [
       " View run at <a href='https://wandb.ai/danish2562022/sweeps-SEIR/runs/zkgoshux' target=\"_blank\">https://wandb.ai/danish2562022/sweeps-SEIR/runs/zkgoshux</a>"
      ],
      "text/plain": [
       "<IPython.core.display.HTML object>"
      ]
     },
     "metadata": {},
     "output_type": "display_data"
    },
    {
     "data": {
      "application/vnd.jupyter.widget-view+json": {
       "model_id": "485f2837751843c8b82e9e0d25a7f591",
       "version_major": 2,
       "version_minor": 0
      },
      "text/plain": [
       "VBox(children=(Label(value='0.021 MB of 0.021 MB uploaded\\r'), FloatProgress(value=1.0, max=1.0)))"
      ]
     },
     "metadata": {},
     "output_type": "display_data"
    },
    {
     "data": {
      "text/html": [
       "<style>\n",
       "    table.wandb td:nth-child(1) { padding: 0 10px; text-align: left ; width: auto;} td:nth-child(2) {text-align: left ; width: 100%}\n",
       "    .wandb-row { display: flex; flex-direction: row; flex-wrap: wrap; justify-content: flex-start; width: 100% }\n",
       "    .wandb-col { display: flex; flex-direction: column; flex-basis: 100%; flex: 1; padding: 10px; }\n",
       "    </style>\n",
       "<div class=\"wandb-row\"><div class=\"wandb-col\"><h3>Run history:</h3><br/><table class=\"wandb\"><tr><td>CV_RMSE</td><td>▁</td></tr><tr><td>CV_RMSE_STHLM</td><td>▁</td></tr><tr><td>CV_RMSE_Södermanland</td><td>▁</td></tr><tr><td>RMSE</td><td>▁</td></tr><tr><td>RMSE_STHLM</td><td>▁</td></tr><tr><td>RMSE_Södermanland</td><td>▁</td></tr></table><br/></div><div class=\"wandb-col\"><h3>Run summary:</h3><br/><table class=\"wandb\"><tr><td>CV_RMSE</td><td>929.14474</td></tr><tr><td>CV_RMSE_STHLM</td><td>438.4634</td></tr><tr><td>CV_RMSE_Södermanland</td><td>490.68135</td></tr><tr><td>RMSE</td><td>1364.68215</td></tr><tr><td>RMSE_STHLM</td><td>1231.10778</td></tr><tr><td>RMSE_Södermanland</td><td>133.57437</td></tr></table><br/></div></div>"
      ],
      "text/plain": [
       "<IPython.core.display.HTML object>"
      ]
     },
     "metadata": {},
     "output_type": "display_data"
    },
    {
     "data": {
      "text/html": [
       " View run <strong style=\"color:#cdcd00\">morning-sweep-14</strong> at: <a href='https://wandb.ai/danish2562022/sweeps-SEIR/runs/zkgoshux' target=\"_blank\">https://wandb.ai/danish2562022/sweeps-SEIR/runs/zkgoshux</a><br/> View project at: <a href='https://wandb.ai/danish2562022/sweeps-SEIR' target=\"_blank\">https://wandb.ai/danish2562022/sweeps-SEIR</a><br/>Synced 5 W&B file(s), 0 media file(s), 0 artifact file(s) and 0 other file(s)"
      ],
      "text/plain": [
       "<IPython.core.display.HTML object>"
      ]
     },
     "metadata": {},
     "output_type": "display_data"
    },
    {
     "data": {
      "text/html": [
       "Find logs at: <code>./wandb/run-20250526_182041-zkgoshux/logs</code>"
      ],
      "text/plain": [
       "<IPython.core.display.HTML object>"
      ]
     },
     "metadata": {},
     "output_type": "display_data"
    },
    {
     "data": {
      "text/html": [
       "The new W&B backend becomes opt-out in version 0.18.0; try it out with `wandb.require(\"core\")`! See https://wandb.me/wandb-core for more information."
      ],
      "text/plain": [
       "<IPython.core.display.HTML object>"
      ]
     },
     "metadata": {},
     "output_type": "display_data"
    },
    {
     "name": "stderr",
     "output_type": "stream",
     "text": [
      "\u001b[34m\u001b[1mwandb\u001b[0m: Agent Starting Run: j9ymdlnl with config:\n",
      "\u001b[34m\u001b[1mwandb\u001b[0m: \tah0: 1.057632312941764\n",
      "\u001b[34m\u001b[1mwandb\u001b[0m: \tah1: 3.8091877357977095\n",
      "\u001b[34m\u001b[1mwandb\u001b[0m: \tbh0: 3.0838528949737167\n",
      "\u001b[34m\u001b[1mwandb\u001b[0m: \tbh1: 1.413577921991426\n",
      "\u001b[34m\u001b[1mwandb\u001b[0m: \tc: 1.9864377120860384\n"
     ]
    },
    {
     "data": {
      "text/html": [
       "wandb version 0.19.11 is available!  To upgrade, please run:\n",
       " $ pip install wandb --upgrade"
      ],
      "text/plain": [
       "<IPython.core.display.HTML object>"
      ]
     },
     "metadata": {},
     "output_type": "display_data"
    },
    {
     "data": {
      "text/html": [
       "Tracking run with wandb version 0.17.4"
      ],
      "text/plain": [
       "<IPython.core.display.HTML object>"
      ]
     },
     "metadata": {},
     "output_type": "display_data"
    },
    {
     "data": {
      "text/html": [
       "Run data is saved locally in <code>/12tb_dsk3/SEIR_model/src/wandb/run-20250526_182052-j9ymdlnl</code>"
      ],
      "text/plain": [
       "<IPython.core.display.HTML object>"
      ]
     },
     "metadata": {},
     "output_type": "display_data"
    },
    {
     "data": {
      "text/html": [
       "Syncing run <strong><a href='https://wandb.ai/danish2562022/sweeps-SEIR/runs/j9ymdlnl' target=\"_blank\">fearless-sweep-15</a></strong> to <a href='https://wandb.ai/danish2562022/sweeps-SEIR' target=\"_blank\">Weights & Biases</a> (<a href='https://wandb.me/run' target=\"_blank\">docs</a>)<br/>Sweep page: <a href='https://wandb.ai/danish2562022/sweeps-SEIR/sweeps/gsjncjls' target=\"_blank\">https://wandb.ai/danish2562022/sweeps-SEIR/sweeps/gsjncjls</a>"
      ],
      "text/plain": [
       "<IPython.core.display.HTML object>"
      ]
     },
     "metadata": {},
     "output_type": "display_data"
    },
    {
     "data": {
      "text/html": [
       " View project at <a href='https://wandb.ai/danish2562022/sweeps-SEIR' target=\"_blank\">https://wandb.ai/danish2562022/sweeps-SEIR</a>"
      ],
      "text/plain": [
       "<IPython.core.display.HTML object>"
      ]
     },
     "metadata": {},
     "output_type": "display_data"
    },
    {
     "data": {
      "text/html": [
       " View sweep at <a href='https://wandb.ai/danish2562022/sweeps-SEIR/sweeps/gsjncjls' target=\"_blank\">https://wandb.ai/danish2562022/sweeps-SEIR/sweeps/gsjncjls</a>"
      ],
      "text/plain": [
       "<IPython.core.display.HTML object>"
      ]
     },
     "metadata": {},
     "output_type": "display_data"
    },
    {
     "data": {
      "text/html": [
       " View run at <a href='https://wandb.ai/danish2562022/sweeps-SEIR/runs/j9ymdlnl' target=\"_blank\">https://wandb.ai/danish2562022/sweeps-SEIR/runs/j9ymdlnl</a>"
      ],
      "text/plain": [
       "<IPython.core.display.HTML object>"
      ]
     },
     "metadata": {},
     "output_type": "display_data"
    },
    {
     "data": {
      "application/vnd.jupyter.widget-view+json": {
       "model_id": "a39b2e4db8c64c63b02460dbd849ceea",
       "version_major": 2,
       "version_minor": 0
      },
      "text/plain": [
       "VBox(children=(Label(value='0.021 MB of 0.021 MB uploaded\\r'), FloatProgress(value=1.0, max=1.0)))"
      ]
     },
     "metadata": {},
     "output_type": "display_data"
    },
    {
     "data": {
      "text/html": [
       "<style>\n",
       "    table.wandb td:nth-child(1) { padding: 0 10px; text-align: left ; width: auto;} td:nth-child(2) {text-align: left ; width: 100%}\n",
       "    .wandb-row { display: flex; flex-direction: row; flex-wrap: wrap; justify-content: flex-start; width: 100% }\n",
       "    .wandb-col { display: flex; flex-direction: column; flex-basis: 100%; flex: 1; padding: 10px; }\n",
       "    </style>\n",
       "<div class=\"wandb-row\"><div class=\"wandb-col\"><h3>Run history:</h3><br/><table class=\"wandb\"><tr><td>CV_RMSE</td><td>▁</td></tr><tr><td>CV_RMSE_STHLM</td><td>▁</td></tr><tr><td>CV_RMSE_Södermanland</td><td>▁</td></tr><tr><td>RMSE</td><td>▁</td></tr><tr><td>RMSE_STHLM</td><td>▁</td></tr><tr><td>RMSE_Södermanland</td><td>▁</td></tr></table><br/></div><div class=\"wandb-col\"><h3>Run summary:</h3><br/><table class=\"wandb\"><tr><td>CV_RMSE</td><td>1383.64334</td></tr><tr><td>CV_RMSE_STHLM</td><td>455.20536</td></tr><tr><td>CV_RMSE_Södermanland</td><td>928.43797</td></tr><tr><td>RMSE</td><td>1530.85695</td></tr><tr><td>RMSE_STHLM</td><td>1278.1155</td></tr><tr><td>RMSE_Södermanland</td><td>252.74145</td></tr></table><br/></div></div>"
      ],
      "text/plain": [
       "<IPython.core.display.HTML object>"
      ]
     },
     "metadata": {},
     "output_type": "display_data"
    },
    {
     "data": {
      "text/html": [
       " View run <strong style=\"color:#cdcd00\">fearless-sweep-15</strong> at: <a href='https://wandb.ai/danish2562022/sweeps-SEIR/runs/j9ymdlnl' target=\"_blank\">https://wandb.ai/danish2562022/sweeps-SEIR/runs/j9ymdlnl</a><br/> View project at: <a href='https://wandb.ai/danish2562022/sweeps-SEIR' target=\"_blank\">https://wandb.ai/danish2562022/sweeps-SEIR</a><br/>Synced 5 W&B file(s), 0 media file(s), 0 artifact file(s) and 0 other file(s)"
      ],
      "text/plain": [
       "<IPython.core.display.HTML object>"
      ]
     },
     "metadata": {},
     "output_type": "display_data"
    },
    {
     "data": {
      "text/html": [
       "Find logs at: <code>./wandb/run-20250526_182052-j9ymdlnl/logs</code>"
      ],
      "text/plain": [
       "<IPython.core.display.HTML object>"
      ]
     },
     "metadata": {},
     "output_type": "display_data"
    },
    {
     "data": {
      "text/html": [
       "The new W&B backend becomes opt-out in version 0.18.0; try it out with `wandb.require(\"core\")`! See https://wandb.me/wandb-core for more information."
      ],
      "text/plain": [
       "<IPython.core.display.HTML object>"
      ]
     },
     "metadata": {},
     "output_type": "display_data"
    },
    {
     "name": "stderr",
     "output_type": "stream",
     "text": [
      "\u001b[34m\u001b[1mwandb\u001b[0m: Agent Starting Run: atlueyem with config:\n",
      "\u001b[34m\u001b[1mwandb\u001b[0m: \tah0: 4.344107536850553\n",
      "\u001b[34m\u001b[1mwandb\u001b[0m: \tah1: 2.1334057870549024\n",
      "\u001b[34m\u001b[1mwandb\u001b[0m: \tbh0: 4.200033444407733\n",
      "\u001b[34m\u001b[1mwandb\u001b[0m: \tbh1: 3.2897922075524546\n",
      "\u001b[34m\u001b[1mwandb\u001b[0m: \tc: 1.9185078506497135\n"
     ]
    },
    {
     "data": {
      "text/html": [
       "wandb version 0.19.11 is available!  To upgrade, please run:\n",
       " $ pip install wandb --upgrade"
      ],
      "text/plain": [
       "<IPython.core.display.HTML object>"
      ]
     },
     "metadata": {},
     "output_type": "display_data"
    },
    {
     "data": {
      "text/html": [
       "Tracking run with wandb version 0.17.4"
      ],
      "text/plain": [
       "<IPython.core.display.HTML object>"
      ]
     },
     "metadata": {},
     "output_type": "display_data"
    },
    {
     "data": {
      "text/html": [
       "Run data is saved locally in <code>/12tb_dsk3/SEIR_model/src/wandb/run-20250526_182102-atlueyem</code>"
      ],
      "text/plain": [
       "<IPython.core.display.HTML object>"
      ]
     },
     "metadata": {},
     "output_type": "display_data"
    },
    {
     "data": {
      "text/html": [
       "Syncing run <strong><a href='https://wandb.ai/danish2562022/sweeps-SEIR/runs/atlueyem' target=\"_blank\">lyric-sweep-16</a></strong> to <a href='https://wandb.ai/danish2562022/sweeps-SEIR' target=\"_blank\">Weights & Biases</a> (<a href='https://wandb.me/run' target=\"_blank\">docs</a>)<br/>Sweep page: <a href='https://wandb.ai/danish2562022/sweeps-SEIR/sweeps/gsjncjls' target=\"_blank\">https://wandb.ai/danish2562022/sweeps-SEIR/sweeps/gsjncjls</a>"
      ],
      "text/plain": [
       "<IPython.core.display.HTML object>"
      ]
     },
     "metadata": {},
     "output_type": "display_data"
    },
    {
     "data": {
      "text/html": [
       " View project at <a href='https://wandb.ai/danish2562022/sweeps-SEIR' target=\"_blank\">https://wandb.ai/danish2562022/sweeps-SEIR</a>"
      ],
      "text/plain": [
       "<IPython.core.display.HTML object>"
      ]
     },
     "metadata": {},
     "output_type": "display_data"
    },
    {
     "data": {
      "text/html": [
       " View sweep at <a href='https://wandb.ai/danish2562022/sweeps-SEIR/sweeps/gsjncjls' target=\"_blank\">https://wandb.ai/danish2562022/sweeps-SEIR/sweeps/gsjncjls</a>"
      ],
      "text/plain": [
       "<IPython.core.display.HTML object>"
      ]
     },
     "metadata": {},
     "output_type": "display_data"
    },
    {
     "data": {
      "text/html": [
       " View run at <a href='https://wandb.ai/danish2562022/sweeps-SEIR/runs/atlueyem' target=\"_blank\">https://wandb.ai/danish2562022/sweeps-SEIR/runs/atlueyem</a>"
      ],
      "text/plain": [
       "<IPython.core.display.HTML object>"
      ]
     },
     "metadata": {},
     "output_type": "display_data"
    },
    {
     "data": {
      "application/vnd.jupyter.widget-view+json": {
       "model_id": "9e16714788c248aeb616ef88e07211fb",
       "version_major": 2,
       "version_minor": 0
      },
      "text/plain": [
       "VBox(children=(Label(value='0.021 MB of 0.021 MB uploaded\\r'), FloatProgress(value=1.0, max=1.0)))"
      ]
     },
     "metadata": {},
     "output_type": "display_data"
    },
    {
     "data": {
      "text/html": [
       "<style>\n",
       "    table.wandb td:nth-child(1) { padding: 0 10px; text-align: left ; width: auto;} td:nth-child(2) {text-align: left ; width: 100%}\n",
       "    .wandb-row { display: flex; flex-direction: row; flex-wrap: wrap; justify-content: flex-start; width: 100% }\n",
       "    .wandb-col { display: flex; flex-direction: column; flex-basis: 100%; flex: 1; padding: 10px; }\n",
       "    </style>\n",
       "<div class=\"wandb-row\"><div class=\"wandb-col\"><h3>Run history:</h3><br/><table class=\"wandb\"><tr><td>CV_RMSE</td><td>▁</td></tr><tr><td>CV_RMSE_STHLM</td><td>▁</td></tr><tr><td>CV_RMSE_Södermanland</td><td>▁</td></tr><tr><td>RMSE</td><td>▁</td></tr><tr><td>RMSE_STHLM</td><td>▁</td></tr><tr><td>RMSE_Södermanland</td><td>▁</td></tr></table><br/></div><div class=\"wandb-col\"><h3>Run summary:</h3><br/><table class=\"wandb\"><tr><td>CV_RMSE</td><td>1462.37646</td></tr><tr><td>CV_RMSE_STHLM</td><td>671.99182</td></tr><tr><td>CV_RMSE_Södermanland</td><td>790.38464</td></tr><tr><td>RMSE</td><td>2101.96395</td></tr><tr><td>RMSE_STHLM</td><td>1886.80369</td></tr><tr><td>RMSE_Södermanland</td><td>215.16026</td></tr></table><br/></div></div>"
      ],
      "text/plain": [
       "<IPython.core.display.HTML object>"
      ]
     },
     "metadata": {},
     "output_type": "display_data"
    },
    {
     "data": {
      "text/html": [
       " View run <strong style=\"color:#cdcd00\">lyric-sweep-16</strong> at: <a href='https://wandb.ai/danish2562022/sweeps-SEIR/runs/atlueyem' target=\"_blank\">https://wandb.ai/danish2562022/sweeps-SEIR/runs/atlueyem</a><br/> View project at: <a href='https://wandb.ai/danish2562022/sweeps-SEIR' target=\"_blank\">https://wandb.ai/danish2562022/sweeps-SEIR</a><br/>Synced 5 W&B file(s), 0 media file(s), 0 artifact file(s) and 0 other file(s)"
      ],
      "text/plain": [
       "<IPython.core.display.HTML object>"
      ]
     },
     "metadata": {},
     "output_type": "display_data"
    },
    {
     "data": {
      "text/html": [
       "Find logs at: <code>./wandb/run-20250526_182102-atlueyem/logs</code>"
      ],
      "text/plain": [
       "<IPython.core.display.HTML object>"
      ]
     },
     "metadata": {},
     "output_type": "display_data"
    },
    {
     "data": {
      "text/html": [
       "The new W&B backend becomes opt-out in version 0.18.0; try it out with `wandb.require(\"core\")`! See https://wandb.me/wandb-core for more information."
      ],
      "text/plain": [
       "<IPython.core.display.HTML object>"
      ]
     },
     "metadata": {},
     "output_type": "display_data"
    },
    {
     "name": "stderr",
     "output_type": "stream",
     "text": [
      "\u001b[34m\u001b[1mwandb\u001b[0m: Sweep Agent: Waiting for job.\n",
      "\u001b[34m\u001b[1mwandb\u001b[0m: Job received.\n",
      "\u001b[34m\u001b[1mwandb\u001b[0m: Agent Starting Run: st70e78u with config:\n",
      "\u001b[34m\u001b[1mwandb\u001b[0m: \tah0: 2.3260434837975272\n",
      "\u001b[34m\u001b[1mwandb\u001b[0m: \tah1: 1.8524927091818388\n",
      "\u001b[34m\u001b[1mwandb\u001b[0m: \tbh0: 3.2584739557831788\n",
      "\u001b[34m\u001b[1mwandb\u001b[0m: \tbh1: 3.37418980656642\n",
      "\u001b[34m\u001b[1mwandb\u001b[0m: \tc: 0.2844920559381685\n"
     ]
    },
    {
     "data": {
      "text/html": [
       "wandb version 0.19.11 is available!  To upgrade, please run:\n",
       " $ pip install wandb --upgrade"
      ],
      "text/plain": [
       "<IPython.core.display.HTML object>"
      ]
     },
     "metadata": {},
     "output_type": "display_data"
    },
    {
     "data": {
      "text/html": [
       "Tracking run with wandb version 0.17.4"
      ],
      "text/plain": [
       "<IPython.core.display.HTML object>"
      ]
     },
     "metadata": {},
     "output_type": "display_data"
    },
    {
     "data": {
      "text/html": [
       "Run data is saved locally in <code>/12tb_dsk3/SEIR_model/src/wandb/run-20250526_182118-st70e78u</code>"
      ],
      "text/plain": [
       "<IPython.core.display.HTML object>"
      ]
     },
     "metadata": {},
     "output_type": "display_data"
    },
    {
     "data": {
      "text/html": [
       "Syncing run <strong><a href='https://wandb.ai/danish2562022/sweeps-SEIR/runs/st70e78u' target=\"_blank\">fearless-sweep-17</a></strong> to <a href='https://wandb.ai/danish2562022/sweeps-SEIR' target=\"_blank\">Weights & Biases</a> (<a href='https://wandb.me/run' target=\"_blank\">docs</a>)<br/>Sweep page: <a href='https://wandb.ai/danish2562022/sweeps-SEIR/sweeps/gsjncjls' target=\"_blank\">https://wandb.ai/danish2562022/sweeps-SEIR/sweeps/gsjncjls</a>"
      ],
      "text/plain": [
       "<IPython.core.display.HTML object>"
      ]
     },
     "metadata": {},
     "output_type": "display_data"
    },
    {
     "data": {
      "text/html": [
       " View project at <a href='https://wandb.ai/danish2562022/sweeps-SEIR' target=\"_blank\">https://wandb.ai/danish2562022/sweeps-SEIR</a>"
      ],
      "text/plain": [
       "<IPython.core.display.HTML object>"
      ]
     },
     "metadata": {},
     "output_type": "display_data"
    },
    {
     "data": {
      "text/html": [
       " View sweep at <a href='https://wandb.ai/danish2562022/sweeps-SEIR/sweeps/gsjncjls' target=\"_blank\">https://wandb.ai/danish2562022/sweeps-SEIR/sweeps/gsjncjls</a>"
      ],
      "text/plain": [
       "<IPython.core.display.HTML object>"
      ]
     },
     "metadata": {},
     "output_type": "display_data"
    },
    {
     "data": {
      "text/html": [
       " View run at <a href='https://wandb.ai/danish2562022/sweeps-SEIR/runs/st70e78u' target=\"_blank\">https://wandb.ai/danish2562022/sweeps-SEIR/runs/st70e78u</a>"
      ],
      "text/plain": [
       "<IPython.core.display.HTML object>"
      ]
     },
     "metadata": {},
     "output_type": "display_data"
    },
    {
     "data": {
      "application/vnd.jupyter.widget-view+json": {
       "model_id": "ae9a4cb5ad694539b017c219072d6938",
       "version_major": 2,
       "version_minor": 0
      },
      "text/plain": [
       "VBox(children=(Label(value='0.021 MB of 0.021 MB uploaded\\r'), FloatProgress(value=1.0, max=1.0)))"
      ]
     },
     "metadata": {},
     "output_type": "display_data"
    },
    {
     "data": {
      "text/html": [
       "<style>\n",
       "    table.wandb td:nth-child(1) { padding: 0 10px; text-align: left ; width: auto;} td:nth-child(2) {text-align: left ; width: 100%}\n",
       "    .wandb-row { display: flex; flex-direction: row; flex-wrap: wrap; justify-content: flex-start; width: 100% }\n",
       "    .wandb-col { display: flex; flex-direction: column; flex-basis: 100%; flex: 1; padding: 10px; }\n",
       "    </style>\n",
       "<div class=\"wandb-row\"><div class=\"wandb-col\"><h3>Run history:</h3><br/><table class=\"wandb\"><tr><td>CV_RMSE</td><td>▁</td></tr><tr><td>CV_RMSE_STHLM</td><td>▁</td></tr><tr><td>CV_RMSE_Södermanland</td><td>▁</td></tr><tr><td>RMSE</td><td>▁</td></tr><tr><td>RMSE_STHLM</td><td>▁</td></tr><tr><td>RMSE_Södermanland</td><td>▁</td></tr></table><br/></div><div class=\"wandb-col\"><h3>Run summary:</h3><br/><table class=\"wandb\"><tr><td>CV_RMSE</td><td>273.61184</td></tr><tr><td>CV_RMSE_STHLM</td><td>141.82951</td></tr><tr><td>CV_RMSE_Södermanland</td><td>131.78233</td></tr><tr><td>RMSE</td><td>434.09982</td></tr><tr><td>RMSE_STHLM</td><td>398.22574</td></tr><tr><td>RMSE_Södermanland</td><td>35.87408</td></tr></table><br/></div></div>"
      ],
      "text/plain": [
       "<IPython.core.display.HTML object>"
      ]
     },
     "metadata": {},
     "output_type": "display_data"
    },
    {
     "data": {
      "text/html": [
       " View run <strong style=\"color:#cdcd00\">fearless-sweep-17</strong> at: <a href='https://wandb.ai/danish2562022/sweeps-SEIR/runs/st70e78u' target=\"_blank\">https://wandb.ai/danish2562022/sweeps-SEIR/runs/st70e78u</a><br/> View project at: <a href='https://wandb.ai/danish2562022/sweeps-SEIR' target=\"_blank\">https://wandb.ai/danish2562022/sweeps-SEIR</a><br/>Synced 5 W&B file(s), 0 media file(s), 0 artifact file(s) and 0 other file(s)"
      ],
      "text/plain": [
       "<IPython.core.display.HTML object>"
      ]
     },
     "metadata": {},
     "output_type": "display_data"
    },
    {
     "data": {
      "text/html": [
       "Find logs at: <code>./wandb/run-20250526_182118-st70e78u/logs</code>"
      ],
      "text/plain": [
       "<IPython.core.display.HTML object>"
      ]
     },
     "metadata": {},
     "output_type": "display_data"
    },
    {
     "data": {
      "text/html": [
       "The new W&B backend becomes opt-out in version 0.18.0; try it out with `wandb.require(\"core\")`! See https://wandb.me/wandb-core for more information."
      ],
      "text/plain": [
       "<IPython.core.display.HTML object>"
      ]
     },
     "metadata": {},
     "output_type": "display_data"
    },
    {
     "name": "stderr",
     "output_type": "stream",
     "text": [
      "\u001b[34m\u001b[1mwandb\u001b[0m: Agent Starting Run: 25v3obnc with config:\n",
      "\u001b[34m\u001b[1mwandb\u001b[0m: \tah0: 4.016980442250151\n",
      "\u001b[34m\u001b[1mwandb\u001b[0m: \tah1: 2.111182252346272\n",
      "\u001b[34m\u001b[1mwandb\u001b[0m: \tbh0: 1.1282713314103576\n",
      "\u001b[34m\u001b[1mwandb\u001b[0m: \tbh1: 4.702858263889885\n",
      "\u001b[34m\u001b[1mwandb\u001b[0m: \tc: 0.576534126823991\n"
     ]
    },
    {
     "data": {
      "text/html": [
       "wandb version 0.19.11 is available!  To upgrade, please run:\n",
       " $ pip install wandb --upgrade"
      ],
      "text/plain": [
       "<IPython.core.display.HTML object>"
      ]
     },
     "metadata": {},
     "output_type": "display_data"
    },
    {
     "data": {
      "text/html": [
       "Tracking run with wandb version 0.17.4"
      ],
      "text/plain": [
       "<IPython.core.display.HTML object>"
      ]
     },
     "metadata": {},
     "output_type": "display_data"
    },
    {
     "data": {
      "text/html": [
       "Run data is saved locally in <code>/12tb_dsk3/SEIR_model/src/wandb/run-20250526_182128-25v3obnc</code>"
      ],
      "text/plain": [
       "<IPython.core.display.HTML object>"
      ]
     },
     "metadata": {},
     "output_type": "display_data"
    },
    {
     "data": {
      "text/html": [
       "Syncing run <strong><a href='https://wandb.ai/danish2562022/sweeps-SEIR/runs/25v3obnc' target=\"_blank\">ancient-sweep-18</a></strong> to <a href='https://wandb.ai/danish2562022/sweeps-SEIR' target=\"_blank\">Weights & Biases</a> (<a href='https://wandb.me/run' target=\"_blank\">docs</a>)<br/>Sweep page: <a href='https://wandb.ai/danish2562022/sweeps-SEIR/sweeps/gsjncjls' target=\"_blank\">https://wandb.ai/danish2562022/sweeps-SEIR/sweeps/gsjncjls</a>"
      ],
      "text/plain": [
       "<IPython.core.display.HTML object>"
      ]
     },
     "metadata": {},
     "output_type": "display_data"
    },
    {
     "data": {
      "text/html": [
       " View project at <a href='https://wandb.ai/danish2562022/sweeps-SEIR' target=\"_blank\">https://wandb.ai/danish2562022/sweeps-SEIR</a>"
      ],
      "text/plain": [
       "<IPython.core.display.HTML object>"
      ]
     },
     "metadata": {},
     "output_type": "display_data"
    },
    {
     "data": {
      "text/html": [
       " View sweep at <a href='https://wandb.ai/danish2562022/sweeps-SEIR/sweeps/gsjncjls' target=\"_blank\">https://wandb.ai/danish2562022/sweeps-SEIR/sweeps/gsjncjls</a>"
      ],
      "text/plain": [
       "<IPython.core.display.HTML object>"
      ]
     },
     "metadata": {},
     "output_type": "display_data"
    },
    {
     "data": {
      "text/html": [
       " View run at <a href='https://wandb.ai/danish2562022/sweeps-SEIR/runs/25v3obnc' target=\"_blank\">https://wandb.ai/danish2562022/sweeps-SEIR/runs/25v3obnc</a>"
      ],
      "text/plain": [
       "<IPython.core.display.HTML object>"
      ]
     },
     "metadata": {},
     "output_type": "display_data"
    },
    {
     "data": {
      "application/vnd.jupyter.widget-view+json": {
       "model_id": "4a2290a156d84c4cbb185d1ee6fd6747",
       "version_major": 2,
       "version_minor": 0
      },
      "text/plain": [
       "VBox(children=(Label(value='0.021 MB of 0.021 MB uploaded\\r'), FloatProgress(value=1.0, max=1.0)))"
      ]
     },
     "metadata": {},
     "output_type": "display_data"
    },
    {
     "data": {
      "text/html": [
       "<style>\n",
       "    table.wandb td:nth-child(1) { padding: 0 10px; text-align: left ; width: auto;} td:nth-child(2) {text-align: left ; width: 100%}\n",
       "    .wandb-row { display: flex; flex-direction: row; flex-wrap: wrap; justify-content: flex-start; width: 100% }\n",
       "    .wandb-col { display: flex; flex-direction: column; flex-basis: 100%; flex: 1; padding: 10px; }\n",
       "    </style>\n",
       "<div class=\"wandb-row\"><div class=\"wandb-col\"><h3>Run history:</h3><br/><table class=\"wandb\"><tr><td>CV_RMSE</td><td>▁</td></tr><tr><td>CV_RMSE_STHLM</td><td>▁</td></tr><tr><td>CV_RMSE_Södermanland</td><td>▁</td></tr><tr><td>RMSE</td><td>▁</td></tr><tr><td>RMSE_STHLM</td><td>▁</td></tr><tr><td>RMSE_Södermanland</td><td>▁</td></tr></table><br/></div><div class=\"wandb-col\"><h3>Run summary:</h3><br/><table class=\"wandb\"><tr><td>CV_RMSE</td><td>914.06078</td></tr><tr><td>CV_RMSE_STHLM</td><td>609.20856</td></tr><tr><td>CV_RMSE_Södermanland</td><td>304.85221</td></tr><tr><td>RMSE</td><td>1793.50982</td></tr><tr><td>RMSE_STHLM</td><td>1710.52227</td></tr><tr><td>RMSE_Södermanland</td><td>82.98755</td></tr></table><br/></div></div>"
      ],
      "text/plain": [
       "<IPython.core.display.HTML object>"
      ]
     },
     "metadata": {},
     "output_type": "display_data"
    },
    {
     "data": {
      "text/html": [
       " View run <strong style=\"color:#cdcd00\">ancient-sweep-18</strong> at: <a href='https://wandb.ai/danish2562022/sweeps-SEIR/runs/25v3obnc' target=\"_blank\">https://wandb.ai/danish2562022/sweeps-SEIR/runs/25v3obnc</a><br/> View project at: <a href='https://wandb.ai/danish2562022/sweeps-SEIR' target=\"_blank\">https://wandb.ai/danish2562022/sweeps-SEIR</a><br/>Synced 5 W&B file(s), 0 media file(s), 0 artifact file(s) and 0 other file(s)"
      ],
      "text/plain": [
       "<IPython.core.display.HTML object>"
      ]
     },
     "metadata": {},
     "output_type": "display_data"
    },
    {
     "data": {
      "text/html": [
       "Find logs at: <code>./wandb/run-20250526_182128-25v3obnc/logs</code>"
      ],
      "text/plain": [
       "<IPython.core.display.HTML object>"
      ]
     },
     "metadata": {},
     "output_type": "display_data"
    },
    {
     "data": {
      "text/html": [
       "The new W&B backend becomes opt-out in version 0.18.0; try it out with `wandb.require(\"core\")`! See https://wandb.me/wandb-core for more information."
      ],
      "text/plain": [
       "<IPython.core.display.HTML object>"
      ]
     },
     "metadata": {},
     "output_type": "display_data"
    },
    {
     "name": "stderr",
     "output_type": "stream",
     "text": [
      "\u001b[34m\u001b[1mwandb\u001b[0m: Agent Starting Run: i0cg4aex with config:\n",
      "\u001b[34m\u001b[1mwandb\u001b[0m: \tah0: 3.1401743904003787\n",
      "\u001b[34m\u001b[1mwandb\u001b[0m: \tah1: 4.135067559532867\n",
      "\u001b[34m\u001b[1mwandb\u001b[0m: \tbh0: 3.573578114112737\n",
      "\u001b[34m\u001b[1mwandb\u001b[0m: \tbh1: 4.671856336345314\n",
      "\u001b[34m\u001b[1mwandb\u001b[0m: \tc: 0.45762053337279585\n"
     ]
    },
    {
     "data": {
      "text/html": [
       "wandb version 0.19.11 is available!  To upgrade, please run:\n",
       " $ pip install wandb --upgrade"
      ],
      "text/plain": [
       "<IPython.core.display.HTML object>"
      ]
     },
     "metadata": {},
     "output_type": "display_data"
    },
    {
     "data": {
      "text/html": [
       "Tracking run with wandb version 0.17.4"
      ],
      "text/plain": [
       "<IPython.core.display.HTML object>"
      ]
     },
     "metadata": {},
     "output_type": "display_data"
    },
    {
     "data": {
      "text/html": [
       "Run data is saved locally in <code>/12tb_dsk3/SEIR_model/src/wandb/run-20250526_182139-i0cg4aex</code>"
      ],
      "text/plain": [
       "<IPython.core.display.HTML object>"
      ]
     },
     "metadata": {},
     "output_type": "display_data"
    },
    {
     "data": {
      "text/html": [
       "Syncing run <strong><a href='https://wandb.ai/danish2562022/sweeps-SEIR/runs/i0cg4aex' target=\"_blank\">lucky-sweep-19</a></strong> to <a href='https://wandb.ai/danish2562022/sweeps-SEIR' target=\"_blank\">Weights & Biases</a> (<a href='https://wandb.me/run' target=\"_blank\">docs</a>)<br/>Sweep page: <a href='https://wandb.ai/danish2562022/sweeps-SEIR/sweeps/gsjncjls' target=\"_blank\">https://wandb.ai/danish2562022/sweeps-SEIR/sweeps/gsjncjls</a>"
      ],
      "text/plain": [
       "<IPython.core.display.HTML object>"
      ]
     },
     "metadata": {},
     "output_type": "display_data"
    },
    {
     "data": {
      "text/html": [
       " View project at <a href='https://wandb.ai/danish2562022/sweeps-SEIR' target=\"_blank\">https://wandb.ai/danish2562022/sweeps-SEIR</a>"
      ],
      "text/plain": [
       "<IPython.core.display.HTML object>"
      ]
     },
     "metadata": {},
     "output_type": "display_data"
    },
    {
     "data": {
      "text/html": [
       " View sweep at <a href='https://wandb.ai/danish2562022/sweeps-SEIR/sweeps/gsjncjls' target=\"_blank\">https://wandb.ai/danish2562022/sweeps-SEIR/sweeps/gsjncjls</a>"
      ],
      "text/plain": [
       "<IPython.core.display.HTML object>"
      ]
     },
     "metadata": {},
     "output_type": "display_data"
    },
    {
     "data": {
      "text/html": [
       " View run at <a href='https://wandb.ai/danish2562022/sweeps-SEIR/runs/i0cg4aex' target=\"_blank\">https://wandb.ai/danish2562022/sweeps-SEIR/runs/i0cg4aex</a>"
      ],
      "text/plain": [
       "<IPython.core.display.HTML object>"
      ]
     },
     "metadata": {},
     "output_type": "display_data"
    },
    {
     "data": {
      "application/vnd.jupyter.widget-view+json": {
       "model_id": "83735674e54347d08fd796de2014ce51",
       "version_major": 2,
       "version_minor": 0
      },
      "text/plain": [
       "VBox(children=(Label(value='0.021 MB of 0.021 MB uploaded\\r'), FloatProgress(value=1.0, max=1.0)))"
      ]
     },
     "metadata": {},
     "output_type": "display_data"
    },
    {
     "data": {
      "text/html": [
       "<style>\n",
       "    table.wandb td:nth-child(1) { padding: 0 10px; text-align: left ; width: auto;} td:nth-child(2) {text-align: left ; width: 100%}\n",
       "    .wandb-row { display: flex; flex-direction: row; flex-wrap: wrap; justify-content: flex-start; width: 100% }\n",
       "    .wandb-col { display: flex; flex-direction: column; flex-basis: 100%; flex: 1; padding: 10px; }\n",
       "    </style>\n",
       "<div class=\"wandb-row\"><div class=\"wandb-col\"><h3>Run history:</h3><br/><table class=\"wandb\"><tr><td>CV_RMSE</td><td>▁</td></tr><tr><td>CV_RMSE_STHLM</td><td>▁</td></tr><tr><td>CV_RMSE_Södermanland</td><td>▁</td></tr><tr><td>RMSE</td><td>▁</td></tr><tr><td>RMSE_STHLM</td><td>▁</td></tr><tr><td>RMSE_Södermanland</td><td>▁</td></tr></table><br/></div><div class=\"wandb-col\"><h3>Run summary:</h3><br/><table class=\"wandb\"><tr><td>CV_RMSE</td><td>847.93497</td></tr><tr><td>CV_RMSE_STHLM</td><td>297.49108</td></tr><tr><td>CV_RMSE_Södermanland</td><td>550.44389</td></tr><tr><td>RMSE</td><td>985.1319</td></tr><tr><td>RMSE_STHLM</td><td>835.28884</td></tr><tr><td>RMSE_Södermanland</td><td>149.84306</td></tr></table><br/></div></div>"
      ],
      "text/plain": [
       "<IPython.core.display.HTML object>"
      ]
     },
     "metadata": {},
     "output_type": "display_data"
    },
    {
     "data": {
      "text/html": [
       " View run <strong style=\"color:#cdcd00\">lucky-sweep-19</strong> at: <a href='https://wandb.ai/danish2562022/sweeps-SEIR/runs/i0cg4aex' target=\"_blank\">https://wandb.ai/danish2562022/sweeps-SEIR/runs/i0cg4aex</a><br/> View project at: <a href='https://wandb.ai/danish2562022/sweeps-SEIR' target=\"_blank\">https://wandb.ai/danish2562022/sweeps-SEIR</a><br/>Synced 5 W&B file(s), 0 media file(s), 0 artifact file(s) and 0 other file(s)"
      ],
      "text/plain": [
       "<IPython.core.display.HTML object>"
      ]
     },
     "metadata": {},
     "output_type": "display_data"
    },
    {
     "data": {
      "text/html": [
       "Find logs at: <code>./wandb/run-20250526_182139-i0cg4aex/logs</code>"
      ],
      "text/plain": [
       "<IPython.core.display.HTML object>"
      ]
     },
     "metadata": {},
     "output_type": "display_data"
    },
    {
     "data": {
      "text/html": [
       "The new W&B backend becomes opt-out in version 0.18.0; try it out with `wandb.require(\"core\")`! See https://wandb.me/wandb-core for more information."
      ],
      "text/plain": [
       "<IPython.core.display.HTML object>"
      ]
     },
     "metadata": {},
     "output_type": "display_data"
    },
    {
     "name": "stderr",
     "output_type": "stream",
     "text": [
      "\u001b[34m\u001b[1mwandb\u001b[0m: Sweep Agent: Waiting for job.\n",
      "\u001b[34m\u001b[1mwandb\u001b[0m: Job received.\n",
      "\u001b[34m\u001b[1mwandb\u001b[0m: Agent Starting Run: afo61te2 with config:\n",
      "\u001b[34m\u001b[1mwandb\u001b[0m: \tah0: 4.712918226935233\n",
      "\u001b[34m\u001b[1mwandb\u001b[0m: \tah1: 3.0427180596877923\n",
      "\u001b[34m\u001b[1mwandb\u001b[0m: \tbh0: 4.551238790907355\n",
      "\u001b[34m\u001b[1mwandb\u001b[0m: \tbh1: 4.9110709898845\n",
      "\u001b[34m\u001b[1mwandb\u001b[0m: \tc: 0.4991843125841322\n"
     ]
    },
    {
     "data": {
      "text/html": [
       "wandb version 0.19.11 is available!  To upgrade, please run:\n",
       " $ pip install wandb --upgrade"
      ],
      "text/plain": [
       "<IPython.core.display.HTML object>"
      ]
     },
     "metadata": {},
     "output_type": "display_data"
    },
    {
     "data": {
      "text/html": [
       "Tracking run with wandb version 0.17.4"
      ],
      "text/plain": [
       "<IPython.core.display.HTML object>"
      ]
     },
     "metadata": {},
     "output_type": "display_data"
    },
    {
     "data": {
      "text/html": [
       "Run data is saved locally in <code>/12tb_dsk3/SEIR_model/src/wandb/run-20250526_182155-afo61te2</code>"
      ],
      "text/plain": [
       "<IPython.core.display.HTML object>"
      ]
     },
     "metadata": {},
     "output_type": "display_data"
    },
    {
     "data": {
      "text/html": [
       "Syncing run <strong><a href='https://wandb.ai/danish2562022/sweeps-SEIR/runs/afo61te2' target=\"_blank\">still-sweep-20</a></strong> to <a href='https://wandb.ai/danish2562022/sweeps-SEIR' target=\"_blank\">Weights & Biases</a> (<a href='https://wandb.me/run' target=\"_blank\">docs</a>)<br/>Sweep page: <a href='https://wandb.ai/danish2562022/sweeps-SEIR/sweeps/gsjncjls' target=\"_blank\">https://wandb.ai/danish2562022/sweeps-SEIR/sweeps/gsjncjls</a>"
      ],
      "text/plain": [
       "<IPython.core.display.HTML object>"
      ]
     },
     "metadata": {},
     "output_type": "display_data"
    },
    {
     "data": {
      "text/html": [
       " View project at <a href='https://wandb.ai/danish2562022/sweeps-SEIR' target=\"_blank\">https://wandb.ai/danish2562022/sweeps-SEIR</a>"
      ],
      "text/plain": [
       "<IPython.core.display.HTML object>"
      ]
     },
     "metadata": {},
     "output_type": "display_data"
    },
    {
     "data": {
      "text/html": [
       " View sweep at <a href='https://wandb.ai/danish2562022/sweeps-SEIR/sweeps/gsjncjls' target=\"_blank\">https://wandb.ai/danish2562022/sweeps-SEIR/sweeps/gsjncjls</a>"
      ],
      "text/plain": [
       "<IPython.core.display.HTML object>"
      ]
     },
     "metadata": {},
     "output_type": "display_data"
    },
    {
     "data": {
      "text/html": [
       " View run at <a href='https://wandb.ai/danish2562022/sweeps-SEIR/runs/afo61te2' target=\"_blank\">https://wandb.ai/danish2562022/sweeps-SEIR/runs/afo61te2</a>"
      ],
      "text/plain": [
       "<IPython.core.display.HTML object>"
      ]
     },
     "metadata": {},
     "output_type": "display_data"
    },
    {
     "data": {
      "application/vnd.jupyter.widget-view+json": {
       "model_id": "b9a84485efc0453aa99d73b31aa4e4cb",
       "version_major": 2,
       "version_minor": 0
      },
      "text/plain": [
       "VBox(children=(Label(value='0.021 MB of 0.021 MB uploaded\\r'), FloatProgress(value=1.0, max=1.0)))"
      ]
     },
     "metadata": {},
     "output_type": "display_data"
    },
    {
     "data": {
      "text/html": [
       "<style>\n",
       "    table.wandb td:nth-child(1) { padding: 0 10px; text-align: left ; width: auto;} td:nth-child(2) {text-align: left ; width: 100%}\n",
       "    .wandb-row { display: flex; flex-direction: row; flex-wrap: wrap; justify-content: flex-start; width: 100% }\n",
       "    .wandb-col { display: flex; flex-direction: column; flex-basis: 100%; flex: 1; padding: 10px; }\n",
       "    </style>\n",
       "<div class=\"wandb-row\"><div class=\"wandb-col\"><h3>Run history:</h3><br/><table class=\"wandb\"><tr><td>CV_RMSE</td><td>▁</td></tr><tr><td>CV_RMSE_STHLM</td><td>▁</td></tr><tr><td>CV_RMSE_Södermanland</td><td>▁</td></tr><tr><td>RMSE</td><td>▁</td></tr><tr><td>RMSE_STHLM</td><td>▁</td></tr><tr><td>RMSE_Södermanland</td><td>▁</td></tr></table><br/></div><div class=\"wandb-col\"><h3>Run summary:</h3><br/><table class=\"wandb\"><tr><td>CV_RMSE</td><td>824.61235</td></tr><tr><td>CV_RMSE_STHLM</td><td>465.82324</td></tr><tr><td>CV_RMSE_Södermanland</td><td>358.78911</td></tr><tr><td>RMSE</td><td>1405.5985</td></tr><tr><td>RMSE_STHLM</td><td>1307.92813</td></tr><tr><td>RMSE_Södermanland</td><td>97.67037</td></tr></table><br/></div></div>"
      ],
      "text/plain": [
       "<IPython.core.display.HTML object>"
      ]
     },
     "metadata": {},
     "output_type": "display_data"
    },
    {
     "data": {
      "text/html": [
       " View run <strong style=\"color:#cdcd00\">still-sweep-20</strong> at: <a href='https://wandb.ai/danish2562022/sweeps-SEIR/runs/afo61te2' target=\"_blank\">https://wandb.ai/danish2562022/sweeps-SEIR/runs/afo61te2</a><br/> View project at: <a href='https://wandb.ai/danish2562022/sweeps-SEIR' target=\"_blank\">https://wandb.ai/danish2562022/sweeps-SEIR</a><br/>Synced 5 W&B file(s), 0 media file(s), 0 artifact file(s) and 0 other file(s)"
      ],
      "text/plain": [
       "<IPython.core.display.HTML object>"
      ]
     },
     "metadata": {},
     "output_type": "display_data"
    },
    {
     "data": {
      "text/html": [
       "Find logs at: <code>./wandb/run-20250526_182155-afo61te2/logs</code>"
      ],
      "text/plain": [
       "<IPython.core.display.HTML object>"
      ]
     },
     "metadata": {},
     "output_type": "display_data"
    },
    {
     "data": {
      "text/html": [
       "The new W&B backend becomes opt-out in version 0.18.0; try it out with `wandb.require(\"core\")`! See https://wandb.me/wandb-core for more information."
      ],
      "text/plain": [
       "<IPython.core.display.HTML object>"
      ]
     },
     "metadata": {},
     "output_type": "display_data"
    },
    {
     "name": "stderr",
     "output_type": "stream",
     "text": [
      "\u001b[34m\u001b[1mwandb\u001b[0m: Agent Starting Run: 4c0lrcu4 with config:\n",
      "\u001b[34m\u001b[1mwandb\u001b[0m: \tah0: 1.8795009988632445\n",
      "\u001b[34m\u001b[1mwandb\u001b[0m: \tah1: 1.9983278875937156\n",
      "\u001b[34m\u001b[1mwandb\u001b[0m: \tbh0: 1.9080697812088945\n",
      "\u001b[34m\u001b[1mwandb\u001b[0m: \tbh1: 3.821826230629561\n",
      "\u001b[34m\u001b[1mwandb\u001b[0m: \tc: 0.8846794470274624\n"
     ]
    },
    {
     "data": {
      "text/html": [
       "wandb version 0.19.11 is available!  To upgrade, please run:\n",
       " $ pip install wandb --upgrade"
      ],
      "text/plain": [
       "<IPython.core.display.HTML object>"
      ]
     },
     "metadata": {},
     "output_type": "display_data"
    },
    {
     "data": {
      "text/html": [
       "Tracking run with wandb version 0.17.4"
      ],
      "text/plain": [
       "<IPython.core.display.HTML object>"
      ]
     },
     "metadata": {},
     "output_type": "display_data"
    },
    {
     "data": {
      "text/html": [
       "Run data is saved locally in <code>/12tb_dsk3/SEIR_model/src/wandb/run-20250526_182205-4c0lrcu4</code>"
      ],
      "text/plain": [
       "<IPython.core.display.HTML object>"
      ]
     },
     "metadata": {},
     "output_type": "display_data"
    },
    {
     "data": {
      "text/html": [
       "Syncing run <strong><a href='https://wandb.ai/danish2562022/sweeps-SEIR/runs/4c0lrcu4' target=\"_blank\">polar-sweep-21</a></strong> to <a href='https://wandb.ai/danish2562022/sweeps-SEIR' target=\"_blank\">Weights & Biases</a> (<a href='https://wandb.me/run' target=\"_blank\">docs</a>)<br/>Sweep page: <a href='https://wandb.ai/danish2562022/sweeps-SEIR/sweeps/gsjncjls' target=\"_blank\">https://wandb.ai/danish2562022/sweeps-SEIR/sweeps/gsjncjls</a>"
      ],
      "text/plain": [
       "<IPython.core.display.HTML object>"
      ]
     },
     "metadata": {},
     "output_type": "display_data"
    },
    {
     "data": {
      "text/html": [
       " View project at <a href='https://wandb.ai/danish2562022/sweeps-SEIR' target=\"_blank\">https://wandb.ai/danish2562022/sweeps-SEIR</a>"
      ],
      "text/plain": [
       "<IPython.core.display.HTML object>"
      ]
     },
     "metadata": {},
     "output_type": "display_data"
    },
    {
     "data": {
      "text/html": [
       " View sweep at <a href='https://wandb.ai/danish2562022/sweeps-SEIR/sweeps/gsjncjls' target=\"_blank\">https://wandb.ai/danish2562022/sweeps-SEIR/sweeps/gsjncjls</a>"
      ],
      "text/plain": [
       "<IPython.core.display.HTML object>"
      ]
     },
     "metadata": {},
     "output_type": "display_data"
    },
    {
     "data": {
      "text/html": [
       " View run at <a href='https://wandb.ai/danish2562022/sweeps-SEIR/runs/4c0lrcu4' target=\"_blank\">https://wandb.ai/danish2562022/sweeps-SEIR/runs/4c0lrcu4</a>"
      ],
      "text/plain": [
       "<IPython.core.display.HTML object>"
      ]
     },
     "metadata": {},
     "output_type": "display_data"
    },
    {
     "data": {
      "application/vnd.jupyter.widget-view+json": {
       "model_id": "012f3c1057bc44c1899bf4405d7f98bf",
       "version_major": 2,
       "version_minor": 0
      },
      "text/plain": [
       "VBox(children=(Label(value='0.021 MB of 0.021 MB uploaded\\r'), FloatProgress(value=1.0, max=1.0)))"
      ]
     },
     "metadata": {},
     "output_type": "display_data"
    },
    {
     "data": {
      "text/html": [
       "<style>\n",
       "    table.wandb td:nth-child(1) { padding: 0 10px; text-align: left ; width: auto;} td:nth-child(2) {text-align: left ; width: 100%}\n",
       "    .wandb-row { display: flex; flex-direction: row; flex-wrap: wrap; justify-content: flex-start; width: 100% }\n",
       "    .wandb-col { display: flex; flex-direction: column; flex-basis: 100%; flex: 1; padding: 10px; }\n",
       "    </style>\n",
       "<div class=\"wandb-row\"><div class=\"wandb-col\"><h3>Run history:</h3><br/><table class=\"wandb\"><tr><td>CV_RMSE</td><td>▁</td></tr><tr><td>CV_RMSE_STHLM</td><td>▁</td></tr><tr><td>CV_RMSE_Södermanland</td><td>▁</td></tr><tr><td>RMSE</td><td>▁</td></tr><tr><td>RMSE_STHLM</td><td>▁</td></tr><tr><td>RMSE_Södermanland</td><td>▁</td></tr></table><br/></div><div class=\"wandb-col\"><h3>Run summary:</h3><br/><table class=\"wandb\"><tr><td>CV_RMSE</td><td>741.01317</td></tr><tr><td>CV_RMSE_STHLM</td><td>317.53289</td></tr><tr><td>CV_RMSE_Södermanland</td><td>423.48028</td></tr><tr><td>RMSE</td><td>1006.84254</td></tr><tr><td>RMSE_STHLM</td><td>891.5618</td></tr><tr><td>RMSE_Södermanland</td><td>115.28074</td></tr></table><br/></div></div>"
      ],
      "text/plain": [
       "<IPython.core.display.HTML object>"
      ]
     },
     "metadata": {},
     "output_type": "display_data"
    },
    {
     "data": {
      "text/html": [
       " View run <strong style=\"color:#cdcd00\">polar-sweep-21</strong> at: <a href='https://wandb.ai/danish2562022/sweeps-SEIR/runs/4c0lrcu4' target=\"_blank\">https://wandb.ai/danish2562022/sweeps-SEIR/runs/4c0lrcu4</a><br/> View project at: <a href='https://wandb.ai/danish2562022/sweeps-SEIR' target=\"_blank\">https://wandb.ai/danish2562022/sweeps-SEIR</a><br/>Synced 5 W&B file(s), 0 media file(s), 0 artifact file(s) and 0 other file(s)"
      ],
      "text/plain": [
       "<IPython.core.display.HTML object>"
      ]
     },
     "metadata": {},
     "output_type": "display_data"
    },
    {
     "data": {
      "text/html": [
       "Find logs at: <code>./wandb/run-20250526_182205-4c0lrcu4/logs</code>"
      ],
      "text/plain": [
       "<IPython.core.display.HTML object>"
      ]
     },
     "metadata": {},
     "output_type": "display_data"
    },
    {
     "data": {
      "text/html": [
       "The new W&B backend becomes opt-out in version 0.18.0; try it out with `wandb.require(\"core\")`! See https://wandb.me/wandb-core for more information."
      ],
      "text/plain": [
       "<IPython.core.display.HTML object>"
      ]
     },
     "metadata": {},
     "output_type": "display_data"
    },
    {
     "name": "stderr",
     "output_type": "stream",
     "text": [
      "\u001b[34m\u001b[1mwandb\u001b[0m: Agent Starting Run: ihbp5dj8 with config:\n",
      "\u001b[34m\u001b[1mwandb\u001b[0m: \tah0: 3.410378680146189\n",
      "\u001b[34m\u001b[1mwandb\u001b[0m: \tah1: 3.2412092320879275\n",
      "\u001b[34m\u001b[1mwandb\u001b[0m: \tbh0: 4.562984856194982\n",
      "\u001b[34m\u001b[1mwandb\u001b[0m: \tbh1: 4.501509432716947\n",
      "\u001b[34m\u001b[1mwandb\u001b[0m: \tc: 0.00840212124871953\n"
     ]
    },
    {
     "data": {
      "text/html": [
       "wandb version 0.19.11 is available!  To upgrade, please run:\n",
       " $ pip install wandb --upgrade"
      ],
      "text/plain": [
       "<IPython.core.display.HTML object>"
      ]
     },
     "metadata": {},
     "output_type": "display_data"
    },
    {
     "data": {
      "text/html": [
       "Tracking run with wandb version 0.17.4"
      ],
      "text/plain": [
       "<IPython.core.display.HTML object>"
      ]
     },
     "metadata": {},
     "output_type": "display_data"
    },
    {
     "data": {
      "text/html": [
       "Run data is saved locally in <code>/12tb_dsk3/SEIR_model/src/wandb/run-20250526_182215-ihbp5dj8</code>"
      ],
      "text/plain": [
       "<IPython.core.display.HTML object>"
      ]
     },
     "metadata": {},
     "output_type": "display_data"
    },
    {
     "data": {
      "text/html": [
       "Syncing run <strong><a href='https://wandb.ai/danish2562022/sweeps-SEIR/runs/ihbp5dj8' target=\"_blank\">pretty-sweep-22</a></strong> to <a href='https://wandb.ai/danish2562022/sweeps-SEIR' target=\"_blank\">Weights & Biases</a> (<a href='https://wandb.me/run' target=\"_blank\">docs</a>)<br/>Sweep page: <a href='https://wandb.ai/danish2562022/sweeps-SEIR/sweeps/gsjncjls' target=\"_blank\">https://wandb.ai/danish2562022/sweeps-SEIR/sweeps/gsjncjls</a>"
      ],
      "text/plain": [
       "<IPython.core.display.HTML object>"
      ]
     },
     "metadata": {},
     "output_type": "display_data"
    },
    {
     "data": {
      "text/html": [
       " View project at <a href='https://wandb.ai/danish2562022/sweeps-SEIR' target=\"_blank\">https://wandb.ai/danish2562022/sweeps-SEIR</a>"
      ],
      "text/plain": [
       "<IPython.core.display.HTML object>"
      ]
     },
     "metadata": {},
     "output_type": "display_data"
    },
    {
     "data": {
      "text/html": [
       " View sweep at <a href='https://wandb.ai/danish2562022/sweeps-SEIR/sweeps/gsjncjls' target=\"_blank\">https://wandb.ai/danish2562022/sweeps-SEIR/sweeps/gsjncjls</a>"
      ],
      "text/plain": [
       "<IPython.core.display.HTML object>"
      ]
     },
     "metadata": {},
     "output_type": "display_data"
    },
    {
     "data": {
      "text/html": [
       " View run at <a href='https://wandb.ai/danish2562022/sweeps-SEIR/runs/ihbp5dj8' target=\"_blank\">https://wandb.ai/danish2562022/sweeps-SEIR/runs/ihbp5dj8</a>"
      ],
      "text/plain": [
       "<IPython.core.display.HTML object>"
      ]
     },
     "metadata": {},
     "output_type": "display_data"
    },
    {
     "data": {
      "application/vnd.jupyter.widget-view+json": {
       "model_id": "cd4c1ccfeb5a4e99a5efd63eb19999ea",
       "version_major": 2,
       "version_minor": 0
      },
      "text/plain": [
       "VBox(children=(Label(value='0.021 MB of 0.021 MB uploaded\\r'), FloatProgress(value=1.0, max=1.0)))"
      ]
     },
     "metadata": {},
     "output_type": "display_data"
    },
    {
     "data": {
      "text/html": [
       "<style>\n",
       "    table.wandb td:nth-child(1) { padding: 0 10px; text-align: left ; width: auto;} td:nth-child(2) {text-align: left ; width: 100%}\n",
       "    .wandb-row { display: flex; flex-direction: row; flex-wrap: wrap; justify-content: flex-start; width: 100% }\n",
       "    .wandb-col { display: flex; flex-direction: column; flex-basis: 100%; flex: 1; padding: 10px; }\n",
       "    </style>\n",
       "<div class=\"wandb-row\"><div class=\"wandb-col\"><h3>Run history:</h3><br/><table class=\"wandb\"><tr><td>CV_RMSE</td><td>▁</td></tr><tr><td>CV_RMSE_STHLM</td><td>▁</td></tr><tr><td>CV_RMSE_Södermanland</td><td>▁</td></tr><tr><td>RMSE</td><td>▁</td></tr><tr><td>RMSE_STHLM</td><td>▁</td></tr><tr><td>RMSE_Södermanland</td><td>▁</td></tr></table><br/></div><div class=\"wandb-col\"><h3>Run summary:</h3><br/><table class=\"wandb\"><tr><td>CV_RMSE</td><td>672.85885</td></tr><tr><td>CV_RMSE_STHLM</td><td>242.65537</td></tr><tr><td>CV_RMSE_Södermanland</td><td>430.20348</td></tr><tr><td>RMSE</td><td>798.4333</td></tr><tr><td>RMSE_STHLM</td><td>681.32236</td></tr><tr><td>RMSE_Södermanland</td><td>117.11095</td></tr></table><br/></div></div>"
      ],
      "text/plain": [
       "<IPython.core.display.HTML object>"
      ]
     },
     "metadata": {},
     "output_type": "display_data"
    },
    {
     "data": {
      "text/html": [
       " View run <strong style=\"color:#cdcd00\">pretty-sweep-22</strong> at: <a href='https://wandb.ai/danish2562022/sweeps-SEIR/runs/ihbp5dj8' target=\"_blank\">https://wandb.ai/danish2562022/sweeps-SEIR/runs/ihbp5dj8</a><br/> View project at: <a href='https://wandb.ai/danish2562022/sweeps-SEIR' target=\"_blank\">https://wandb.ai/danish2562022/sweeps-SEIR</a><br/>Synced 5 W&B file(s), 0 media file(s), 0 artifact file(s) and 0 other file(s)"
      ],
      "text/plain": [
       "<IPython.core.display.HTML object>"
      ]
     },
     "metadata": {},
     "output_type": "display_data"
    },
    {
     "data": {
      "text/html": [
       "Find logs at: <code>./wandb/run-20250526_182215-ihbp5dj8/logs</code>"
      ],
      "text/plain": [
       "<IPython.core.display.HTML object>"
      ]
     },
     "metadata": {},
     "output_type": "display_data"
    },
    {
     "data": {
      "text/html": [
       "The new W&B backend becomes opt-out in version 0.18.0; try it out with `wandb.require(\"core\")`! See https://wandb.me/wandb-core for more information."
      ],
      "text/plain": [
       "<IPython.core.display.HTML object>"
      ]
     },
     "metadata": {},
     "output_type": "display_data"
    },
    {
     "name": "stderr",
     "output_type": "stream",
     "text": [
      "\u001b[34m\u001b[1mwandb\u001b[0m: Sweep Agent: Waiting for job.\n",
      "\u001b[34m\u001b[1mwandb\u001b[0m: Job received.\n",
      "\u001b[34m\u001b[1mwandb\u001b[0m: Agent Starting Run: tjnwo4yu with config:\n",
      "\u001b[34m\u001b[1mwandb\u001b[0m: \tah0: 4.4781702415468025\n",
      "\u001b[34m\u001b[1mwandb\u001b[0m: \tah1: 2.3575909821498104\n",
      "\u001b[34m\u001b[1mwandb\u001b[0m: \tbh0: 1.6542246484189866\n",
      "\u001b[34m\u001b[1mwandb\u001b[0m: \tbh1: 4.756091860272605\n",
      "\u001b[34m\u001b[1mwandb\u001b[0m: \tc: 0.4448054334178315\n"
     ]
    },
    {
     "data": {
      "text/html": [
       "wandb version 0.19.11 is available!  To upgrade, please run:\n",
       " $ pip install wandb --upgrade"
      ],
      "text/plain": [
       "<IPython.core.display.HTML object>"
      ]
     },
     "metadata": {},
     "output_type": "display_data"
    },
    {
     "data": {
      "text/html": [
       "Tracking run with wandb version 0.17.4"
      ],
      "text/plain": [
       "<IPython.core.display.HTML object>"
      ]
     },
     "metadata": {},
     "output_type": "display_data"
    },
    {
     "data": {
      "text/html": [
       "Run data is saved locally in <code>/12tb_dsk3/SEIR_model/src/wandb/run-20250526_182232-tjnwo4yu</code>"
      ],
      "text/plain": [
       "<IPython.core.display.HTML object>"
      ]
     },
     "metadata": {},
     "output_type": "display_data"
    },
    {
     "data": {
      "text/html": [
       "Syncing run <strong><a href='https://wandb.ai/danish2562022/sweeps-SEIR/runs/tjnwo4yu' target=\"_blank\">efficient-sweep-23</a></strong> to <a href='https://wandb.ai/danish2562022/sweeps-SEIR' target=\"_blank\">Weights & Biases</a> (<a href='https://wandb.me/run' target=\"_blank\">docs</a>)<br/>Sweep page: <a href='https://wandb.ai/danish2562022/sweeps-SEIR/sweeps/gsjncjls' target=\"_blank\">https://wandb.ai/danish2562022/sweeps-SEIR/sweeps/gsjncjls</a>"
      ],
      "text/plain": [
       "<IPython.core.display.HTML object>"
      ]
     },
     "metadata": {},
     "output_type": "display_data"
    },
    {
     "data": {
      "text/html": [
       " View project at <a href='https://wandb.ai/danish2562022/sweeps-SEIR' target=\"_blank\">https://wandb.ai/danish2562022/sweeps-SEIR</a>"
      ],
      "text/plain": [
       "<IPython.core.display.HTML object>"
      ]
     },
     "metadata": {},
     "output_type": "display_data"
    },
    {
     "data": {
      "text/html": [
       " View sweep at <a href='https://wandb.ai/danish2562022/sweeps-SEIR/sweeps/gsjncjls' target=\"_blank\">https://wandb.ai/danish2562022/sweeps-SEIR/sweeps/gsjncjls</a>"
      ],
      "text/plain": [
       "<IPython.core.display.HTML object>"
      ]
     },
     "metadata": {},
     "output_type": "display_data"
    },
    {
     "data": {
      "text/html": [
       " View run at <a href='https://wandb.ai/danish2562022/sweeps-SEIR/runs/tjnwo4yu' target=\"_blank\">https://wandb.ai/danish2562022/sweeps-SEIR/runs/tjnwo4yu</a>"
      ],
      "text/plain": [
       "<IPython.core.display.HTML object>"
      ]
     },
     "metadata": {},
     "output_type": "display_data"
    },
    {
     "data": {
      "application/vnd.jupyter.widget-view+json": {
       "model_id": "105fcc961c3741b180fdb20bb0235de2",
       "version_major": 2,
       "version_minor": 0
      },
      "text/plain": [
       "VBox(children=(Label(value='0.021 MB of 0.021 MB uploaded\\r'), FloatProgress(value=1.0, max=1.0)))"
      ]
     },
     "metadata": {},
     "output_type": "display_data"
    },
    {
     "data": {
      "text/html": [
       "<style>\n",
       "    table.wandb td:nth-child(1) { padding: 0 10px; text-align: left ; width: auto;} td:nth-child(2) {text-align: left ; width: 100%}\n",
       "    .wandb-row { display: flex; flex-direction: row; flex-wrap: wrap; justify-content: flex-start; width: 100% }\n",
       "    .wandb-col { display: flex; flex-direction: column; flex-basis: 100%; flex: 1; padding: 10px; }\n",
       "    </style>\n",
       "<div class=\"wandb-row\"><div class=\"wandb-col\"><h3>Run history:</h3><br/><table class=\"wandb\"><tr><td>CV_RMSE</td><td>▁</td></tr><tr><td>CV_RMSE_STHLM</td><td>▁</td></tr><tr><td>CV_RMSE_Södermanland</td><td>▁</td></tr><tr><td>RMSE</td><td>▁</td></tr><tr><td>RMSE_STHLM</td><td>▁</td></tr><tr><td>RMSE_Södermanland</td><td>▁</td></tr></table><br/></div><div class=\"wandb-col\"><h3>Run summary:</h3><br/><table class=\"wandb\"><tr><td>CV_RMSE</td><td>902.38441</td></tr><tr><td>CV_RMSE_STHLM</td><td>626.13888</td></tr><tr><td>CV_RMSE_Södermanland</td><td>276.24553</td></tr><tr><td>RMSE</td><td>1833.25901</td></tr><tr><td>RMSE_STHLM</td><td>1758.05884</td></tr><tr><td>RMSE_Södermanland</td><td>75.20017</td></tr></table><br/></div></div>"
      ],
      "text/plain": [
       "<IPython.core.display.HTML object>"
      ]
     },
     "metadata": {},
     "output_type": "display_data"
    },
    {
     "data": {
      "text/html": [
       " View run <strong style=\"color:#cdcd00\">efficient-sweep-23</strong> at: <a href='https://wandb.ai/danish2562022/sweeps-SEIR/runs/tjnwo4yu' target=\"_blank\">https://wandb.ai/danish2562022/sweeps-SEIR/runs/tjnwo4yu</a><br/> View project at: <a href='https://wandb.ai/danish2562022/sweeps-SEIR' target=\"_blank\">https://wandb.ai/danish2562022/sweeps-SEIR</a><br/>Synced 5 W&B file(s), 0 media file(s), 0 artifact file(s) and 0 other file(s)"
      ],
      "text/plain": [
       "<IPython.core.display.HTML object>"
      ]
     },
     "metadata": {},
     "output_type": "display_data"
    },
    {
     "data": {
      "text/html": [
       "Find logs at: <code>./wandb/run-20250526_182232-tjnwo4yu/logs</code>"
      ],
      "text/plain": [
       "<IPython.core.display.HTML object>"
      ]
     },
     "metadata": {},
     "output_type": "display_data"
    },
    {
     "data": {
      "text/html": [
       "The new W&B backend becomes opt-out in version 0.18.0; try it out with `wandb.require(\"core\")`! See https://wandb.me/wandb-core for more information."
      ],
      "text/plain": [
       "<IPython.core.display.HTML object>"
      ]
     },
     "metadata": {},
     "output_type": "display_data"
    },
    {
     "name": "stderr",
     "output_type": "stream",
     "text": [
      "\u001b[34m\u001b[1mwandb\u001b[0m: Agent Starting Run: ezvnhl4w with config:\n",
      "\u001b[34m\u001b[1mwandb\u001b[0m: \tah0: 1.9961007232257624\n",
      "\u001b[34m\u001b[1mwandb\u001b[0m: \tah1: 1.5998138943426263\n",
      "\u001b[34m\u001b[1mwandb\u001b[0m: \tbh0: 3.740531703119354\n",
      "\u001b[34m\u001b[1mwandb\u001b[0m: \tbh1: 3.938533378666599\n",
      "\u001b[34m\u001b[1mwandb\u001b[0m: \tc: 1.378557245855761\n"
     ]
    },
    {
     "data": {
      "text/html": [
       "wandb version 0.19.11 is available!  To upgrade, please run:\n",
       " $ pip install wandb --upgrade"
      ],
      "text/plain": [
       "<IPython.core.display.HTML object>"
      ]
     },
     "metadata": {},
     "output_type": "display_data"
    },
    {
     "data": {
      "text/html": [
       "Tracking run with wandb version 0.17.4"
      ],
      "text/plain": [
       "<IPython.core.display.HTML object>"
      ]
     },
     "metadata": {},
     "output_type": "display_data"
    },
    {
     "data": {
      "text/html": [
       "Run data is saved locally in <code>/12tb_dsk3/SEIR_model/src/wandb/run-20250526_182242-ezvnhl4w</code>"
      ],
      "text/plain": [
       "<IPython.core.display.HTML object>"
      ]
     },
     "metadata": {},
     "output_type": "display_data"
    },
    {
     "data": {
      "text/html": [
       "Syncing run <strong><a href='https://wandb.ai/danish2562022/sweeps-SEIR/runs/ezvnhl4w' target=\"_blank\">wandering-sweep-24</a></strong> to <a href='https://wandb.ai/danish2562022/sweeps-SEIR' target=\"_blank\">Weights & Biases</a> (<a href='https://wandb.me/run' target=\"_blank\">docs</a>)<br/>Sweep page: <a href='https://wandb.ai/danish2562022/sweeps-SEIR/sweeps/gsjncjls' target=\"_blank\">https://wandb.ai/danish2562022/sweeps-SEIR/sweeps/gsjncjls</a>"
      ],
      "text/plain": [
       "<IPython.core.display.HTML object>"
      ]
     },
     "metadata": {},
     "output_type": "display_data"
    },
    {
     "data": {
      "text/html": [
       " View project at <a href='https://wandb.ai/danish2562022/sweeps-SEIR' target=\"_blank\">https://wandb.ai/danish2562022/sweeps-SEIR</a>"
      ],
      "text/plain": [
       "<IPython.core.display.HTML object>"
      ]
     },
     "metadata": {},
     "output_type": "display_data"
    },
    {
     "data": {
      "text/html": [
       " View sweep at <a href='https://wandb.ai/danish2562022/sweeps-SEIR/sweeps/gsjncjls' target=\"_blank\">https://wandb.ai/danish2562022/sweeps-SEIR/sweeps/gsjncjls</a>"
      ],
      "text/plain": [
       "<IPython.core.display.HTML object>"
      ]
     },
     "metadata": {},
     "output_type": "display_data"
    },
    {
     "data": {
      "text/html": [
       " View run at <a href='https://wandb.ai/danish2562022/sweeps-SEIR/runs/ezvnhl4w' target=\"_blank\">https://wandb.ai/danish2562022/sweeps-SEIR/runs/ezvnhl4w</a>"
      ],
      "text/plain": [
       "<IPython.core.display.HTML object>"
      ]
     },
     "metadata": {},
     "output_type": "display_data"
    },
    {
     "data": {
      "application/vnd.jupyter.widget-view+json": {
       "model_id": "0879b0ab16294e56914c8d67614da6ad",
       "version_major": 2,
       "version_minor": 0
      },
      "text/plain": [
       "VBox(children=(Label(value='0.021 MB of 0.021 MB uploaded\\r'), FloatProgress(value=1.0, max=1.0)))"
      ]
     },
     "metadata": {},
     "output_type": "display_data"
    },
    {
     "data": {
      "text/html": [
       "<style>\n",
       "    table.wandb td:nth-child(1) { padding: 0 10px; text-align: left ; width: auto;} td:nth-child(2) {text-align: left ; width: 100%}\n",
       "    .wandb-row { display: flex; flex-direction: row; flex-wrap: wrap; justify-content: flex-start; width: 100% }\n",
       "    .wandb-col { display: flex; flex-direction: column; flex-basis: 100%; flex: 1; padding: 10px; }\n",
       "    </style>\n",
       "<div class=\"wandb-row\"><div class=\"wandb-col\"><h3>Run history:</h3><br/><table class=\"wandb\"><tr><td>CV_RMSE</td><td>▁</td></tr><tr><td>CV_RMSE_STHLM</td><td>▁</td></tr><tr><td>CV_RMSE_Södermanland</td><td>▁</td></tr><tr><td>RMSE</td><td>▁</td></tr><tr><td>RMSE_STHLM</td><td>▁</td></tr><tr><td>RMSE_Södermanland</td><td>▁</td></tr></table><br/></div><div class=\"wandb-col\"><h3>Run summary:</h3><br/><table class=\"wandb\"><tr><td>CV_RMSE</td><td>733.71331</td></tr><tr><td>CV_RMSE_STHLM</td><td>318.74829</td></tr><tr><td>CV_RMSE_Södermanland</td><td>414.96502</td></tr><tr><td>RMSE</td><td>1007.93706</td></tr><tr><td>RMSE_STHLM</td><td>894.97436</td></tr><tr><td>RMSE_Södermanland</td><td>112.9627</td></tr></table><br/></div></div>"
      ],
      "text/plain": [
       "<IPython.core.display.HTML object>"
      ]
     },
     "metadata": {},
     "output_type": "display_data"
    },
    {
     "data": {
      "text/html": [
       " View run <strong style=\"color:#cdcd00\">wandering-sweep-24</strong> at: <a href='https://wandb.ai/danish2562022/sweeps-SEIR/runs/ezvnhl4w' target=\"_blank\">https://wandb.ai/danish2562022/sweeps-SEIR/runs/ezvnhl4w</a><br/> View project at: <a href='https://wandb.ai/danish2562022/sweeps-SEIR' target=\"_blank\">https://wandb.ai/danish2562022/sweeps-SEIR</a><br/>Synced 5 W&B file(s), 0 media file(s), 0 artifact file(s) and 0 other file(s)"
      ],
      "text/plain": [
       "<IPython.core.display.HTML object>"
      ]
     },
     "metadata": {},
     "output_type": "display_data"
    },
    {
     "data": {
      "text/html": [
       "Find logs at: <code>./wandb/run-20250526_182242-ezvnhl4w/logs</code>"
      ],
      "text/plain": [
       "<IPython.core.display.HTML object>"
      ]
     },
     "metadata": {},
     "output_type": "display_data"
    },
    {
     "data": {
      "text/html": [
       "The new W&B backend becomes opt-out in version 0.18.0; try it out with `wandb.require(\"core\")`! See https://wandb.me/wandb-core for more information."
      ],
      "text/plain": [
       "<IPython.core.display.HTML object>"
      ]
     },
     "metadata": {},
     "output_type": "display_data"
    },
    {
     "name": "stderr",
     "output_type": "stream",
     "text": [
      "\u001b[34m\u001b[1mwandb\u001b[0m: Agent Starting Run: dvssm6g2 with config:\n",
      "\u001b[34m\u001b[1mwandb\u001b[0m: \tah0: 2.252661403857601\n",
      "\u001b[34m\u001b[1mwandb\u001b[0m: \tah1: 1.153740424367062\n",
      "\u001b[34m\u001b[1mwandb\u001b[0m: \tbh0: 3.5238661838645298\n",
      "\u001b[34m\u001b[1mwandb\u001b[0m: \tbh1: 1.7318769728067238\n",
      "\u001b[34m\u001b[1mwandb\u001b[0m: \tc: 0.4231192715353522\n"
     ]
    },
    {
     "data": {
      "text/html": [
       "wandb version 0.19.11 is available!  To upgrade, please run:\n",
       " $ pip install wandb --upgrade"
      ],
      "text/plain": [
       "<IPython.core.display.HTML object>"
      ]
     },
     "metadata": {},
     "output_type": "display_data"
    },
    {
     "data": {
      "text/html": [
       "Tracking run with wandb version 0.17.4"
      ],
      "text/plain": [
       "<IPython.core.display.HTML object>"
      ]
     },
     "metadata": {},
     "output_type": "display_data"
    },
    {
     "data": {
      "text/html": [
       "Run data is saved locally in <code>/12tb_dsk3/SEIR_model/src/wandb/run-20250526_182252-dvssm6g2</code>"
      ],
      "text/plain": [
       "<IPython.core.display.HTML object>"
      ]
     },
     "metadata": {},
     "output_type": "display_data"
    },
    {
     "data": {
      "text/html": [
       "Syncing run <strong><a href='https://wandb.ai/danish2562022/sweeps-SEIR/runs/dvssm6g2' target=\"_blank\">balmy-sweep-25</a></strong> to <a href='https://wandb.ai/danish2562022/sweeps-SEIR' target=\"_blank\">Weights & Biases</a> (<a href='https://wandb.me/run' target=\"_blank\">docs</a>)<br/>Sweep page: <a href='https://wandb.ai/danish2562022/sweeps-SEIR/sweeps/gsjncjls' target=\"_blank\">https://wandb.ai/danish2562022/sweeps-SEIR/sweeps/gsjncjls</a>"
      ],
      "text/plain": [
       "<IPython.core.display.HTML object>"
      ]
     },
     "metadata": {},
     "output_type": "display_data"
    },
    {
     "data": {
      "text/html": [
       " View project at <a href='https://wandb.ai/danish2562022/sweeps-SEIR' target=\"_blank\">https://wandb.ai/danish2562022/sweeps-SEIR</a>"
      ],
      "text/plain": [
       "<IPython.core.display.HTML object>"
      ]
     },
     "metadata": {},
     "output_type": "display_data"
    },
    {
     "data": {
      "text/html": [
       " View sweep at <a href='https://wandb.ai/danish2562022/sweeps-SEIR/sweeps/gsjncjls' target=\"_blank\">https://wandb.ai/danish2562022/sweeps-SEIR/sweeps/gsjncjls</a>"
      ],
      "text/plain": [
       "<IPython.core.display.HTML object>"
      ]
     },
     "metadata": {},
     "output_type": "display_data"
    },
    {
     "data": {
      "text/html": [
       " View run at <a href='https://wandb.ai/danish2562022/sweeps-SEIR/runs/dvssm6g2' target=\"_blank\">https://wandb.ai/danish2562022/sweeps-SEIR/runs/dvssm6g2</a>"
      ],
      "text/plain": [
       "<IPython.core.display.HTML object>"
      ]
     },
     "metadata": {},
     "output_type": "display_data"
    },
    {
     "data": {
      "application/vnd.jupyter.widget-view+json": {
       "model_id": "467c8cf1705b4dfeb1a34dbce8f9e955",
       "version_major": 2,
       "version_minor": 0
      },
      "text/plain": [
       "VBox(children=(Label(value='0.021 MB of 0.021 MB uploaded\\r'), FloatProgress(value=1.0, max=1.0)))"
      ]
     },
     "metadata": {},
     "output_type": "display_data"
    },
    {
     "data": {
      "text/html": [
       "<style>\n",
       "    table.wandb td:nth-child(1) { padding: 0 10px; text-align: left ; width: auto;} td:nth-child(2) {text-align: left ; width: 100%}\n",
       "    .wandb-row { display: flex; flex-direction: row; flex-wrap: wrap; justify-content: flex-start; width: 100% }\n",
       "    .wandb-col { display: flex; flex-direction: column; flex-basis: 100%; flex: 1; padding: 10px; }\n",
       "    </style>\n",
       "<div class=\"wandb-row\"><div class=\"wandb-col\"><h3>Run history:</h3><br/><table class=\"wandb\"><tr><td>CV_RMSE</td><td>▁</td></tr><tr><td>CV_RMSE_STHLM</td><td>▁</td></tr><tr><td>CV_RMSE_Södermanland</td><td>▁</td></tr><tr><td>RMSE</td><td>▁</td></tr><tr><td>RMSE_STHLM</td><td>▁</td></tr><tr><td>RMSE_Södermanland</td><td>▁</td></tr></table><br/></div><div class=\"wandb-col\"><h3>Run summary:</h3><br/><table class=\"wandb\"><tr><td>CV_RMSE</td><td>274.98905</td></tr><tr><td>CV_RMSE_STHLM</td><td>142.46244</td></tr><tr><td>CV_RMSE_Södermanland</td><td>132.52661</td></tr><tr><td>RMSE</td><td>436.07956</td></tr><tr><td>RMSE_STHLM</td><td>400.00287</td></tr><tr><td>RMSE_Södermanland</td><td>36.07669</td></tr></table><br/></div></div>"
      ],
      "text/plain": [
       "<IPython.core.display.HTML object>"
      ]
     },
     "metadata": {},
     "output_type": "display_data"
    },
    {
     "data": {
      "text/html": [
       " View run <strong style=\"color:#cdcd00\">balmy-sweep-25</strong> at: <a href='https://wandb.ai/danish2562022/sweeps-SEIR/runs/dvssm6g2' target=\"_blank\">https://wandb.ai/danish2562022/sweeps-SEIR/runs/dvssm6g2</a><br/> View project at: <a href='https://wandb.ai/danish2562022/sweeps-SEIR' target=\"_blank\">https://wandb.ai/danish2562022/sweeps-SEIR</a><br/>Synced 5 W&B file(s), 0 media file(s), 0 artifact file(s) and 0 other file(s)"
      ],
      "text/plain": [
       "<IPython.core.display.HTML object>"
      ]
     },
     "metadata": {},
     "output_type": "display_data"
    },
    {
     "data": {
      "text/html": [
       "Find logs at: <code>./wandb/run-20250526_182252-dvssm6g2/logs</code>"
      ],
      "text/plain": [
       "<IPython.core.display.HTML object>"
      ]
     },
     "metadata": {},
     "output_type": "display_data"
    },
    {
     "data": {
      "text/html": [
       "The new W&B backend becomes opt-out in version 0.18.0; try it out with `wandb.require(\"core\")`! See https://wandb.me/wandb-core for more information."
      ],
      "text/plain": [
       "<IPython.core.display.HTML object>"
      ]
     },
     "metadata": {},
     "output_type": "display_data"
    },
    {
     "name": "stderr",
     "output_type": "stream",
     "text": [
      "\u001b[34m\u001b[1mwandb\u001b[0m: Sweep Agent: Waiting for job.\n",
      "\u001b[34m\u001b[1mwandb\u001b[0m: Job received.\n",
      "\u001b[34m\u001b[1mwandb\u001b[0m: Agent Starting Run: kyqp5cqz with config:\n",
      "\u001b[34m\u001b[1mwandb\u001b[0m: \tah0: 4.318656921606523\n",
      "\u001b[34m\u001b[1mwandb\u001b[0m: \tah1: 3.601170764435089\n",
      "\u001b[34m\u001b[1mwandb\u001b[0m: \tbh0: 4.91493729370609\n",
      "\u001b[34m\u001b[1mwandb\u001b[0m: \tbh1: 3.1139748577771935\n",
      "\u001b[34m\u001b[1mwandb\u001b[0m: \tc: 0.16742840103082446\n"
     ]
    },
    {
     "data": {
      "text/html": [
       "wandb version 0.19.11 is available!  To upgrade, please run:\n",
       " $ pip install wandb --upgrade"
      ],
      "text/plain": [
       "<IPython.core.display.HTML object>"
      ]
     },
     "metadata": {},
     "output_type": "display_data"
    },
    {
     "data": {
      "text/html": [
       "Tracking run with wandb version 0.17.4"
      ],
      "text/plain": [
       "<IPython.core.display.HTML object>"
      ]
     },
     "metadata": {},
     "output_type": "display_data"
    },
    {
     "data": {
      "text/html": [
       "Run data is saved locally in <code>/12tb_dsk3/SEIR_model/src/wandb/run-20250526_182308-kyqp5cqz</code>"
      ],
      "text/plain": [
       "<IPython.core.display.HTML object>"
      ]
     },
     "metadata": {},
     "output_type": "display_data"
    },
    {
     "data": {
      "text/html": [
       "Syncing run <strong><a href='https://wandb.ai/danish2562022/sweeps-SEIR/runs/kyqp5cqz' target=\"_blank\">clear-sweep-26</a></strong> to <a href='https://wandb.ai/danish2562022/sweeps-SEIR' target=\"_blank\">Weights & Biases</a> (<a href='https://wandb.me/run' target=\"_blank\">docs</a>)<br/>Sweep page: <a href='https://wandb.ai/danish2562022/sweeps-SEIR/sweeps/gsjncjls' target=\"_blank\">https://wandb.ai/danish2562022/sweeps-SEIR/sweeps/gsjncjls</a>"
      ],
      "text/plain": [
       "<IPython.core.display.HTML object>"
      ]
     },
     "metadata": {},
     "output_type": "display_data"
    },
    {
     "data": {
      "text/html": [
       " View project at <a href='https://wandb.ai/danish2562022/sweeps-SEIR' target=\"_blank\">https://wandb.ai/danish2562022/sweeps-SEIR</a>"
      ],
      "text/plain": [
       "<IPython.core.display.HTML object>"
      ]
     },
     "metadata": {},
     "output_type": "display_data"
    },
    {
     "data": {
      "text/html": [
       " View sweep at <a href='https://wandb.ai/danish2562022/sweeps-SEIR/sweeps/gsjncjls' target=\"_blank\">https://wandb.ai/danish2562022/sweeps-SEIR/sweeps/gsjncjls</a>"
      ],
      "text/plain": [
       "<IPython.core.display.HTML object>"
      ]
     },
     "metadata": {},
     "output_type": "display_data"
    },
    {
     "data": {
      "text/html": [
       " View run at <a href='https://wandb.ai/danish2562022/sweeps-SEIR/runs/kyqp5cqz' target=\"_blank\">https://wandb.ai/danish2562022/sweeps-SEIR/runs/kyqp5cqz</a>"
      ],
      "text/plain": [
       "<IPython.core.display.HTML object>"
      ]
     },
     "metadata": {},
     "output_type": "display_data"
    },
    {
     "data": {
      "application/vnd.jupyter.widget-view+json": {
       "model_id": "8dc4910a173a432596b2b2a18496a8e6",
       "version_major": 2,
       "version_minor": 0
      },
      "text/plain": [
       "VBox(children=(Label(value='0.005 MB of 0.021 MB uploaded\\r'), FloatProgress(value=0.2391806770290479, max=1.0…"
      ]
     },
     "metadata": {},
     "output_type": "display_data"
    },
    {
     "data": {
      "text/html": [
       "<style>\n",
       "    table.wandb td:nth-child(1) { padding: 0 10px; text-align: left ; width: auto;} td:nth-child(2) {text-align: left ; width: 100%}\n",
       "    .wandb-row { display: flex; flex-direction: row; flex-wrap: wrap; justify-content: flex-start; width: 100% }\n",
       "    .wandb-col { display: flex; flex-direction: column; flex-basis: 100%; flex: 1; padding: 10px; }\n",
       "    </style>\n",
       "<div class=\"wandb-row\"><div class=\"wandb-col\"><h3>Run history:</h3><br/><table class=\"wandb\"><tr><td>CV_RMSE</td><td>▁</td></tr><tr><td>CV_RMSE_STHLM</td><td>▁</td></tr><tr><td>CV_RMSE_Södermanland</td><td>▁</td></tr><tr><td>RMSE</td><td>▁</td></tr><tr><td>RMSE_STHLM</td><td>▁</td></tr><tr><td>RMSE_Södermanland</td><td>▁</td></tr></table><br/></div><div class=\"wandb-col\"><h3>Run summary:</h3><br/><table class=\"wandb\"><tr><td>CV_RMSE</td><td>867.3263</td></tr><tr><td>CV_RMSE_STHLM</td><td>344.38128</td></tr><tr><td>CV_RMSE_Södermanland</td><td>522.94503</td></tr><tr><td>RMSE</td><td>1109.30335</td></tr><tr><td>RMSE_STHLM</td><td>966.94609</td></tr><tr><td>RMSE_Södermanland</td><td>142.35726</td></tr></table><br/></div></div>"
      ],
      "text/plain": [
       "<IPython.core.display.HTML object>"
      ]
     },
     "metadata": {},
     "output_type": "display_data"
    },
    {
     "data": {
      "text/html": [
       " View run <strong style=\"color:#cdcd00\">clear-sweep-26</strong> at: <a href='https://wandb.ai/danish2562022/sweeps-SEIR/runs/kyqp5cqz' target=\"_blank\">https://wandb.ai/danish2562022/sweeps-SEIR/runs/kyqp5cqz</a><br/> View project at: <a href='https://wandb.ai/danish2562022/sweeps-SEIR' target=\"_blank\">https://wandb.ai/danish2562022/sweeps-SEIR</a><br/>Synced 5 W&B file(s), 0 media file(s), 0 artifact file(s) and 0 other file(s)"
      ],
      "text/plain": [
       "<IPython.core.display.HTML object>"
      ]
     },
     "metadata": {},
     "output_type": "display_data"
    },
    {
     "data": {
      "text/html": [
       "Find logs at: <code>./wandb/run-20250526_182308-kyqp5cqz/logs</code>"
      ],
      "text/plain": [
       "<IPython.core.display.HTML object>"
      ]
     },
     "metadata": {},
     "output_type": "display_data"
    },
    {
     "data": {
      "text/html": [
       "The new W&B backend becomes opt-out in version 0.18.0; try it out with `wandb.require(\"core\")`! See https://wandb.me/wandb-core for more information."
      ],
      "text/plain": [
       "<IPython.core.display.HTML object>"
      ]
     },
     "metadata": {},
     "output_type": "display_data"
    },
    {
     "name": "stderr",
     "output_type": "stream",
     "text": [
      "\u001b[34m\u001b[1mwandb\u001b[0m: Agent Starting Run: okcfc8yh with config:\n",
      "\u001b[34m\u001b[1mwandb\u001b[0m: \tah0: 3.385359804201592\n",
      "\u001b[34m\u001b[1mwandb\u001b[0m: \tah1: 1.7311167451502736\n",
      "\u001b[34m\u001b[1mwandb\u001b[0m: \tbh0: 4.161522564154685\n",
      "\u001b[34m\u001b[1mwandb\u001b[0m: \tbh1: 2.454837207209077\n",
      "\u001b[34m\u001b[1mwandb\u001b[0m: \tc: 0.29709831172806056\n"
     ]
    },
    {
     "data": {
      "text/html": [
       "wandb version 0.19.11 is available!  To upgrade, please run:\n",
       " $ pip install wandb --upgrade"
      ],
      "text/plain": [
       "<IPython.core.display.HTML object>"
      ]
     },
     "metadata": {},
     "output_type": "display_data"
    },
    {
     "data": {
      "text/html": [
       "Tracking run with wandb version 0.17.4"
      ],
      "text/plain": [
       "<IPython.core.display.HTML object>"
      ]
     },
     "metadata": {},
     "output_type": "display_data"
    },
    {
     "data": {
      "text/html": [
       "Run data is saved locally in <code>/12tb_dsk3/SEIR_model/src/wandb/run-20250526_182319-okcfc8yh</code>"
      ],
      "text/plain": [
       "<IPython.core.display.HTML object>"
      ]
     },
     "metadata": {},
     "output_type": "display_data"
    },
    {
     "data": {
      "text/html": [
       "Syncing run <strong><a href='https://wandb.ai/danish2562022/sweeps-SEIR/runs/okcfc8yh' target=\"_blank\">laced-sweep-27</a></strong> to <a href='https://wandb.ai/danish2562022/sweeps-SEIR' target=\"_blank\">Weights & Biases</a> (<a href='https://wandb.me/run' target=\"_blank\">docs</a>)<br/>Sweep page: <a href='https://wandb.ai/danish2562022/sweeps-SEIR/sweeps/gsjncjls' target=\"_blank\">https://wandb.ai/danish2562022/sweeps-SEIR/sweeps/gsjncjls</a>"
      ],
      "text/plain": [
       "<IPython.core.display.HTML object>"
      ]
     },
     "metadata": {},
     "output_type": "display_data"
    },
    {
     "data": {
      "text/html": [
       " View project at <a href='https://wandb.ai/danish2562022/sweeps-SEIR' target=\"_blank\">https://wandb.ai/danish2562022/sweeps-SEIR</a>"
      ],
      "text/plain": [
       "<IPython.core.display.HTML object>"
      ]
     },
     "metadata": {},
     "output_type": "display_data"
    },
    {
     "data": {
      "text/html": [
       " View sweep at <a href='https://wandb.ai/danish2562022/sweeps-SEIR/sweeps/gsjncjls' target=\"_blank\">https://wandb.ai/danish2562022/sweeps-SEIR/sweeps/gsjncjls</a>"
      ],
      "text/plain": [
       "<IPython.core.display.HTML object>"
      ]
     },
     "metadata": {},
     "output_type": "display_data"
    },
    {
     "data": {
      "text/html": [
       " View run at <a href='https://wandb.ai/danish2562022/sweeps-SEIR/runs/okcfc8yh' target=\"_blank\">https://wandb.ai/danish2562022/sweeps-SEIR/runs/okcfc8yh</a>"
      ],
      "text/plain": [
       "<IPython.core.display.HTML object>"
      ]
     },
     "metadata": {},
     "output_type": "display_data"
    },
    {
     "data": {
      "application/vnd.jupyter.widget-view+json": {
       "model_id": "c2cd142c195742f682166d95f64638e4",
       "version_major": 2,
       "version_minor": 0
      },
      "text/plain": [
       "VBox(children=(Label(value='0.021 MB of 0.021 MB uploaded\\r'), FloatProgress(value=1.0, max=1.0)))"
      ]
     },
     "metadata": {},
     "output_type": "display_data"
    },
    {
     "data": {
      "text/html": [
       "<style>\n",
       "    table.wandb td:nth-child(1) { padding: 0 10px; text-align: left ; width: auto;} td:nth-child(2) {text-align: left ; width: 100%}\n",
       "    .wandb-row { display: flex; flex-direction: row; flex-wrap: wrap; justify-content: flex-start; width: 100% }\n",
       "    .wandb-col { display: flex; flex-direction: column; flex-basis: 100%; flex: 1; padding: 10px; }\n",
       "    </style>\n",
       "<div class=\"wandb-row\"><div class=\"wandb-col\"><h3>Run history:</h3><br/><table class=\"wandb\"><tr><td>CV_RMSE</td><td>▁</td></tr><tr><td>CV_RMSE_STHLM</td><td>▁</td></tr><tr><td>CV_RMSE_Södermanland</td><td>▁</td></tr><tr><td>RMSE</td><td>▁</td></tr><tr><td>RMSE_STHLM</td><td>▁</td></tr><tr><td>RMSE_Södermanland</td><td>▁</td></tr></table><br/></div><div class=\"wandb-col\"><h3>Run summary:</h3><br/><table class=\"wandb\"><tr><td>CV_RMSE</td><td>563.39654</td></tr><tr><td>CV_RMSE_STHLM</td><td>308.48096</td></tr><tr><td>CV_RMSE_Södermanland</td><td>254.91558</td></tr><tr><td>RMSE</td><td>935.53968</td></tr><tr><td>RMSE_STHLM</td><td>866.146</td></tr><tr><td>RMSE_Södermanland</td><td>69.39369</td></tr></table><br/></div></div>"
      ],
      "text/plain": [
       "<IPython.core.display.HTML object>"
      ]
     },
     "metadata": {},
     "output_type": "display_data"
    },
    {
     "data": {
      "text/html": [
       " View run <strong style=\"color:#cdcd00\">laced-sweep-27</strong> at: <a href='https://wandb.ai/danish2562022/sweeps-SEIR/runs/okcfc8yh' target=\"_blank\">https://wandb.ai/danish2562022/sweeps-SEIR/runs/okcfc8yh</a><br/> View project at: <a href='https://wandb.ai/danish2562022/sweeps-SEIR' target=\"_blank\">https://wandb.ai/danish2562022/sweeps-SEIR</a><br/>Synced 5 W&B file(s), 0 media file(s), 0 artifact file(s) and 0 other file(s)"
      ],
      "text/plain": [
       "<IPython.core.display.HTML object>"
      ]
     },
     "metadata": {},
     "output_type": "display_data"
    },
    {
     "data": {
      "text/html": [
       "Find logs at: <code>./wandb/run-20250526_182319-okcfc8yh/logs</code>"
      ],
      "text/plain": [
       "<IPython.core.display.HTML object>"
      ]
     },
     "metadata": {},
     "output_type": "display_data"
    },
    {
     "data": {
      "text/html": [
       "The new W&B backend becomes opt-out in version 0.18.0; try it out with `wandb.require(\"core\")`! See https://wandb.me/wandb-core for more information."
      ],
      "text/plain": [
       "<IPython.core.display.HTML object>"
      ]
     },
     "metadata": {},
     "output_type": "display_data"
    },
    {
     "name": "stderr",
     "output_type": "stream",
     "text": [
      "\u001b[34m\u001b[1mwandb\u001b[0m: Agent Starting Run: rqeb1oun with config:\n",
      "\u001b[34m\u001b[1mwandb\u001b[0m: \tah0: 4.263834485331351\n",
      "\u001b[34m\u001b[1mwandb\u001b[0m: \tah1: 1.4219509654248714\n",
      "\u001b[34m\u001b[1mwandb\u001b[0m: \tbh0: 3.598798294916031\n",
      "\u001b[34m\u001b[1mwandb\u001b[0m: \tbh1: 1.743419089357702\n",
      "\u001b[34m\u001b[1mwandb\u001b[0m: \tc: 0.8398011303918402\n"
     ]
    },
    {
     "data": {
      "text/html": [
       "wandb version 0.19.11 is available!  To upgrade, please run:\n",
       " $ pip install wandb --upgrade"
      ],
      "text/plain": [
       "<IPython.core.display.HTML object>"
      ]
     },
     "metadata": {},
     "output_type": "display_data"
    },
    {
     "data": {
      "text/html": [
       "Tracking run with wandb version 0.17.4"
      ],
      "text/plain": [
       "<IPython.core.display.HTML object>"
      ]
     },
     "metadata": {},
     "output_type": "display_data"
    },
    {
     "data": {
      "text/html": [
       "Run data is saved locally in <code>/12tb_dsk3/SEIR_model/src/wandb/run-20250526_182329-rqeb1oun</code>"
      ],
      "text/plain": [
       "<IPython.core.display.HTML object>"
      ]
     },
     "metadata": {},
     "output_type": "display_data"
    },
    {
     "data": {
      "text/html": [
       "Syncing run <strong><a href='https://wandb.ai/danish2562022/sweeps-SEIR/runs/rqeb1oun' target=\"_blank\">summer-sweep-28</a></strong> to <a href='https://wandb.ai/danish2562022/sweeps-SEIR' target=\"_blank\">Weights & Biases</a> (<a href='https://wandb.me/run' target=\"_blank\">docs</a>)<br/>Sweep page: <a href='https://wandb.ai/danish2562022/sweeps-SEIR/sweeps/gsjncjls' target=\"_blank\">https://wandb.ai/danish2562022/sweeps-SEIR/sweeps/gsjncjls</a>"
      ],
      "text/plain": [
       "<IPython.core.display.HTML object>"
      ]
     },
     "metadata": {},
     "output_type": "display_data"
    },
    {
     "data": {
      "text/html": [
       " View project at <a href='https://wandb.ai/danish2562022/sweeps-SEIR' target=\"_blank\">https://wandb.ai/danish2562022/sweeps-SEIR</a>"
      ],
      "text/plain": [
       "<IPython.core.display.HTML object>"
      ]
     },
     "metadata": {},
     "output_type": "display_data"
    },
    {
     "data": {
      "text/html": [
       " View sweep at <a href='https://wandb.ai/danish2562022/sweeps-SEIR/sweeps/gsjncjls' target=\"_blank\">https://wandb.ai/danish2562022/sweeps-SEIR/sweeps/gsjncjls</a>"
      ],
      "text/plain": [
       "<IPython.core.display.HTML object>"
      ]
     },
     "metadata": {},
     "output_type": "display_data"
    },
    {
     "data": {
      "text/html": [
       " View run at <a href='https://wandb.ai/danish2562022/sweeps-SEIR/runs/rqeb1oun' target=\"_blank\">https://wandb.ai/danish2562022/sweeps-SEIR/runs/rqeb1oun</a>"
      ],
      "text/plain": [
       "<IPython.core.display.HTML object>"
      ]
     },
     "metadata": {},
     "output_type": "display_data"
    },
    {
     "data": {
      "application/vnd.jupyter.widget-view+json": {
       "model_id": "442bbac50626464aa50b5489522669ae",
       "version_major": 2,
       "version_minor": 0
      },
      "text/plain": [
       "VBox(children=(Label(value='0.021 MB of 0.021 MB uploaded\\r'), FloatProgress(value=1.0, max=1.0)))"
      ]
     },
     "metadata": {},
     "output_type": "display_data"
    },
    {
     "data": {
      "text/html": [
       "<style>\n",
       "    table.wandb td:nth-child(1) { padding: 0 10px; text-align: left ; width: auto;} td:nth-child(2) {text-align: left ; width: 100%}\n",
       "    .wandb-row { display: flex; flex-direction: row; flex-wrap: wrap; justify-content: flex-start; width: 100% }\n",
       "    .wandb-col { display: flex; flex-direction: column; flex-basis: 100%; flex: 1; padding: 10px; }\n",
       "    </style>\n",
       "<div class=\"wandb-row\"><div class=\"wandb-col\"><h3>Run history:</h3><br/><table class=\"wandb\"><tr><td>CV_RMSE</td><td>▁</td></tr><tr><td>CV_RMSE_STHLM</td><td>▁</td></tr><tr><td>CV_RMSE_Södermanland</td><td>▁</td></tr><tr><td>RMSE</td><td>▁</td></tr><tr><td>RMSE_STHLM</td><td>▁</td></tr><tr><td>RMSE_Södermanland</td><td>▁</td></tr></table><br/></div><div class=\"wandb-col\"><h3>Run summary:</h3><br/><table class=\"wandb\"><tr><td>CV_RMSE</td><td>891.65772</td></tr><tr><td>CV_RMSE_STHLM</td><td>492.87963</td></tr><tr><td>CV_RMSE_Södermanland</td><td>398.77809</td></tr><tr><td>RMSE</td><td>1492.45273</td></tr><tr><td>RMSE_STHLM</td><td>1383.89647</td></tr><tr><td>RMSE_Södermanland</td><td>108.55626</td></tr></table><br/></div></div>"
      ],
      "text/plain": [
       "<IPython.core.display.HTML object>"
      ]
     },
     "metadata": {},
     "output_type": "display_data"
    },
    {
     "data": {
      "text/html": [
       " View run <strong style=\"color:#cdcd00\">summer-sweep-28</strong> at: <a href='https://wandb.ai/danish2562022/sweeps-SEIR/runs/rqeb1oun' target=\"_blank\">https://wandb.ai/danish2562022/sweeps-SEIR/runs/rqeb1oun</a><br/> View project at: <a href='https://wandb.ai/danish2562022/sweeps-SEIR' target=\"_blank\">https://wandb.ai/danish2562022/sweeps-SEIR</a><br/>Synced 5 W&B file(s), 0 media file(s), 0 artifact file(s) and 0 other file(s)"
      ],
      "text/plain": [
       "<IPython.core.display.HTML object>"
      ]
     },
     "metadata": {},
     "output_type": "display_data"
    },
    {
     "data": {
      "text/html": [
       "Find logs at: <code>./wandb/run-20250526_182329-rqeb1oun/logs</code>"
      ],
      "text/plain": [
       "<IPython.core.display.HTML object>"
      ]
     },
     "metadata": {},
     "output_type": "display_data"
    },
    {
     "data": {
      "text/html": [
       "The new W&B backend becomes opt-out in version 0.18.0; try it out with `wandb.require(\"core\")`! See https://wandb.me/wandb-core for more information."
      ],
      "text/plain": [
       "<IPython.core.display.HTML object>"
      ]
     },
     "metadata": {},
     "output_type": "display_data"
    },
    {
     "name": "stderr",
     "output_type": "stream",
     "text": [
      "\u001b[34m\u001b[1mwandb\u001b[0m: Agent Starting Run: cddgonsd with config:\n",
      "\u001b[34m\u001b[1mwandb\u001b[0m: \tah0: 1.9436788564108824\n",
      "\u001b[34m\u001b[1mwandb\u001b[0m: \tah1: 1.829935084170538\n",
      "\u001b[34m\u001b[1mwandb\u001b[0m: \tbh0: 4.801611653270093\n",
      "\u001b[34m\u001b[1mwandb\u001b[0m: \tbh1: 4.23516971769117\n",
      "\u001b[34m\u001b[1mwandb\u001b[0m: \tc: 0.979809984802602\n"
     ]
    },
    {
     "data": {
      "text/html": [
       "wandb version 0.19.11 is available!  To upgrade, please run:\n",
       " $ pip install wandb --upgrade"
      ],
      "text/plain": [
       "<IPython.core.display.HTML object>"
      ]
     },
     "metadata": {},
     "output_type": "display_data"
    },
    {
     "data": {
      "text/html": [
       "Tracking run with wandb version 0.17.4"
      ],
      "text/plain": [
       "<IPython.core.display.HTML object>"
      ]
     },
     "metadata": {},
     "output_type": "display_data"
    },
    {
     "data": {
      "text/html": [
       "Run data is saved locally in <code>/12tb_dsk3/SEIR_model/src/wandb/run-20250526_182339-cddgonsd</code>"
      ],
      "text/plain": [
       "<IPython.core.display.HTML object>"
      ]
     },
     "metadata": {},
     "output_type": "display_data"
    },
    {
     "data": {
      "text/html": [
       "Syncing run <strong><a href='https://wandb.ai/danish2562022/sweeps-SEIR/runs/cddgonsd' target=\"_blank\">ancient-sweep-29</a></strong> to <a href='https://wandb.ai/danish2562022/sweeps-SEIR' target=\"_blank\">Weights & Biases</a> (<a href='https://wandb.me/run' target=\"_blank\">docs</a>)<br/>Sweep page: <a href='https://wandb.ai/danish2562022/sweeps-SEIR/sweeps/gsjncjls' target=\"_blank\">https://wandb.ai/danish2562022/sweeps-SEIR/sweeps/gsjncjls</a>"
      ],
      "text/plain": [
       "<IPython.core.display.HTML object>"
      ]
     },
     "metadata": {},
     "output_type": "display_data"
    },
    {
     "data": {
      "text/html": [
       " View project at <a href='https://wandb.ai/danish2562022/sweeps-SEIR' target=\"_blank\">https://wandb.ai/danish2562022/sweeps-SEIR</a>"
      ],
      "text/plain": [
       "<IPython.core.display.HTML object>"
      ]
     },
     "metadata": {},
     "output_type": "display_data"
    },
    {
     "data": {
      "text/html": [
       " View sweep at <a href='https://wandb.ai/danish2562022/sweeps-SEIR/sweeps/gsjncjls' target=\"_blank\">https://wandb.ai/danish2562022/sweeps-SEIR/sweeps/gsjncjls</a>"
      ],
      "text/plain": [
       "<IPython.core.display.HTML object>"
      ]
     },
     "metadata": {},
     "output_type": "display_data"
    },
    {
     "data": {
      "text/html": [
       " View run at <a href='https://wandb.ai/danish2562022/sweeps-SEIR/runs/cddgonsd' target=\"_blank\">https://wandb.ai/danish2562022/sweeps-SEIR/runs/cddgonsd</a>"
      ],
      "text/plain": [
       "<IPython.core.display.HTML object>"
      ]
     },
     "metadata": {},
     "output_type": "display_data"
    },
    {
     "data": {
      "application/vnd.jupyter.widget-view+json": {
       "model_id": "f32de1d82263476697505d8a4fb880c0",
       "version_major": 2,
       "version_minor": 0
      },
      "text/plain": [
       "VBox(children=(Label(value='0.021 MB of 0.021 MB uploaded\\r'), FloatProgress(value=1.0, max=1.0)))"
      ]
     },
     "metadata": {},
     "output_type": "display_data"
    },
    {
     "data": {
      "text/html": [
       "<style>\n",
       "    table.wandb td:nth-child(1) { padding: 0 10px; text-align: left ; width: auto;} td:nth-child(2) {text-align: left ; width: 100%}\n",
       "    .wandb-row { display: flex; flex-direction: row; flex-wrap: wrap; justify-content: flex-start; width: 100% }\n",
       "    .wandb-col { display: flex; flex-direction: column; flex-basis: 100%; flex: 1; padding: 10px; }\n",
       "    </style>\n",
       "<div class=\"wandb-row\"><div class=\"wandb-col\"><h3>Run history:</h3><br/><table class=\"wandb\"><tr><td>CV_RMSE</td><td>▁</td></tr><tr><td>CV_RMSE_STHLM</td><td>▁</td></tr><tr><td>CV_RMSE_Södermanland</td><td>▁</td></tr><tr><td>RMSE</td><td>▁</td></tr><tr><td>RMSE_STHLM</td><td>▁</td></tr><tr><td>RMSE_Södermanland</td><td>▁</td></tr></table><br/></div><div class=\"wandb-col\"><h3>Run summary:</h3><br/><table class=\"wandb\"><tr><td>CV_RMSE</td><td>235.32475</td></tr><tr><td>CV_RMSE_STHLM</td><td>126.60501</td></tr><tr><td>CV_RMSE_Södermanland</td><td>108.71974</td></tr><tr><td>RMSE</td><td>385.07467</td></tr><tr><td>RMSE_STHLM</td><td>355.47875</td></tr><tr><td>RMSE_Södermanland</td><td>29.59593</td></tr></table><br/></div></div>"
      ],
      "text/plain": [
       "<IPython.core.display.HTML object>"
      ]
     },
     "metadata": {},
     "output_type": "display_data"
    },
    {
     "data": {
      "text/html": [
       " View run <strong style=\"color:#cdcd00\">ancient-sweep-29</strong> at: <a href='https://wandb.ai/danish2562022/sweeps-SEIR/runs/cddgonsd' target=\"_blank\">https://wandb.ai/danish2562022/sweeps-SEIR/runs/cddgonsd</a><br/> View project at: <a href='https://wandb.ai/danish2562022/sweeps-SEIR' target=\"_blank\">https://wandb.ai/danish2562022/sweeps-SEIR</a><br/>Synced 5 W&B file(s), 0 media file(s), 0 artifact file(s) and 0 other file(s)"
      ],
      "text/plain": [
       "<IPython.core.display.HTML object>"
      ]
     },
     "metadata": {},
     "output_type": "display_data"
    },
    {
     "data": {
      "text/html": [
       "Find logs at: <code>./wandb/run-20250526_182339-cddgonsd/logs</code>"
      ],
      "text/plain": [
       "<IPython.core.display.HTML object>"
      ]
     },
     "metadata": {},
     "output_type": "display_data"
    },
    {
     "data": {
      "text/html": [
       "The new W&B backend becomes opt-out in version 0.18.0; try it out with `wandb.require(\"core\")`! See https://wandb.me/wandb-core for more information."
      ],
      "text/plain": [
       "<IPython.core.display.HTML object>"
      ]
     },
     "metadata": {},
     "output_type": "display_data"
    },
    {
     "name": "stderr",
     "output_type": "stream",
     "text": [
      "\u001b[34m\u001b[1mwandb\u001b[0m: Agent Starting Run: sgsqx4x7 with config:\n",
      "\u001b[34m\u001b[1mwandb\u001b[0m: \tah0: 4.810396417928111\n",
      "\u001b[34m\u001b[1mwandb\u001b[0m: \tah1: 4.468779103138632\n",
      "\u001b[34m\u001b[1mwandb\u001b[0m: \tbh0: 2.708591073363561\n",
      "\u001b[34m\u001b[1mwandb\u001b[0m: \tbh1: 2.9369064373430223\n",
      "\u001b[34m\u001b[1mwandb\u001b[0m: \tc: 0.9479419272737226\n"
     ]
    },
    {
     "data": {
      "text/html": [
       "wandb version 0.19.11 is available!  To upgrade, please run:\n",
       " $ pip install wandb --upgrade"
      ],
      "text/plain": [
       "<IPython.core.display.HTML object>"
      ]
     },
     "metadata": {},
     "output_type": "display_data"
    },
    {
     "data": {
      "text/html": [
       "Tracking run with wandb version 0.17.4"
      ],
      "text/plain": [
       "<IPython.core.display.HTML object>"
      ]
     },
     "metadata": {},
     "output_type": "display_data"
    },
    {
     "data": {
      "text/html": [
       "Run data is saved locally in <code>/12tb_dsk3/SEIR_model/src/wandb/run-20250526_182350-sgsqx4x7</code>"
      ],
      "text/plain": [
       "<IPython.core.display.HTML object>"
      ]
     },
     "metadata": {},
     "output_type": "display_data"
    },
    {
     "data": {
      "text/html": [
       "Syncing run <strong><a href='https://wandb.ai/danish2562022/sweeps-SEIR/runs/sgsqx4x7' target=\"_blank\">happy-sweep-30</a></strong> to <a href='https://wandb.ai/danish2562022/sweeps-SEIR' target=\"_blank\">Weights & Biases</a> (<a href='https://wandb.me/run' target=\"_blank\">docs</a>)<br/>Sweep page: <a href='https://wandb.ai/danish2562022/sweeps-SEIR/sweeps/gsjncjls' target=\"_blank\">https://wandb.ai/danish2562022/sweeps-SEIR/sweeps/gsjncjls</a>"
      ],
      "text/plain": [
       "<IPython.core.display.HTML object>"
      ]
     },
     "metadata": {},
     "output_type": "display_data"
    },
    {
     "data": {
      "text/html": [
       " View project at <a href='https://wandb.ai/danish2562022/sweeps-SEIR' target=\"_blank\">https://wandb.ai/danish2562022/sweeps-SEIR</a>"
      ],
      "text/plain": [
       "<IPython.core.display.HTML object>"
      ]
     },
     "metadata": {},
     "output_type": "display_data"
    },
    {
     "data": {
      "text/html": [
       " View sweep at <a href='https://wandb.ai/danish2562022/sweeps-SEIR/sweeps/gsjncjls' target=\"_blank\">https://wandb.ai/danish2562022/sweeps-SEIR/sweeps/gsjncjls</a>"
      ],
      "text/plain": [
       "<IPython.core.display.HTML object>"
      ]
     },
     "metadata": {},
     "output_type": "display_data"
    },
    {
     "data": {
      "text/html": [
       " View run at <a href='https://wandb.ai/danish2562022/sweeps-SEIR/runs/sgsqx4x7' target=\"_blank\">https://wandb.ai/danish2562022/sweeps-SEIR/runs/sgsqx4x7</a>"
      ],
      "text/plain": [
       "<IPython.core.display.HTML object>"
      ]
     },
     "metadata": {},
     "output_type": "display_data"
    },
    {
     "data": {
      "application/vnd.jupyter.widget-view+json": {
       "model_id": "eee19ac6174d47719b640e4f25c891e2",
       "version_major": 2,
       "version_minor": 0
      },
      "text/plain": [
       "VBox(children=(Label(value='0.021 MB of 0.021 MB uploaded\\r'), FloatProgress(value=1.0, max=1.0)))"
      ]
     },
     "metadata": {},
     "output_type": "display_data"
    },
    {
     "data": {
      "text/html": [
       "<style>\n",
       "    table.wandb td:nth-child(1) { padding: 0 10px; text-align: left ; width: auto;} td:nth-child(2) {text-align: left ; width: 100%}\n",
       "    .wandb-row { display: flex; flex-direction: row; flex-wrap: wrap; justify-content: flex-start; width: 100% }\n",
       "    .wandb-col { display: flex; flex-direction: column; flex-basis: 100%; flex: 1; padding: 10px; }\n",
       "    </style>\n",
       "<div class=\"wandb-row\"><div class=\"wandb-col\"><h3>Run history:</h3><br/><table class=\"wandb\"><tr><td>CV_RMSE</td><td>▁</td></tr><tr><td>CV_RMSE_STHLM</td><td>▁</td></tr><tr><td>CV_RMSE_Södermanland</td><td>▁</td></tr><tr><td>RMSE</td><td>▁</td></tr><tr><td>RMSE_STHLM</td><td>▁</td></tr><tr><td>RMSE_Södermanland</td><td>▁</td></tr></table><br/></div><div class=\"wandb-col\"><h3>Run summary:</h3><br/><table class=\"wandb\"><tr><td>CV_RMSE</td><td>1685.07292</td></tr><tr><td>CV_RMSE_STHLM</td><td>721.1428</td></tr><tr><td>CV_RMSE_Södermanland</td><td>963.93012</td></tr><tr><td>RMSE</td><td>2287.21194</td></tr><tr><td>RMSE_STHLM</td><td>2024.80874</td></tr><tr><td>RMSE_Södermanland</td><td>262.4032</td></tr></table><br/></div></div>"
      ],
      "text/plain": [
       "<IPython.core.display.HTML object>"
      ]
     },
     "metadata": {},
     "output_type": "display_data"
    },
    {
     "data": {
      "text/html": [
       " View run <strong style=\"color:#cdcd00\">happy-sweep-30</strong> at: <a href='https://wandb.ai/danish2562022/sweeps-SEIR/runs/sgsqx4x7' target=\"_blank\">https://wandb.ai/danish2562022/sweeps-SEIR/runs/sgsqx4x7</a><br/> View project at: <a href='https://wandb.ai/danish2562022/sweeps-SEIR' target=\"_blank\">https://wandb.ai/danish2562022/sweeps-SEIR</a><br/>Synced 5 W&B file(s), 0 media file(s), 0 artifact file(s) and 0 other file(s)"
      ],
      "text/plain": [
       "<IPython.core.display.HTML object>"
      ]
     },
     "metadata": {},
     "output_type": "display_data"
    },
    {
     "data": {
      "text/html": [
       "Find logs at: <code>./wandb/run-20250526_182350-sgsqx4x7/logs</code>"
      ],
      "text/plain": [
       "<IPython.core.display.HTML object>"
      ]
     },
     "metadata": {},
     "output_type": "display_data"
    },
    {
     "data": {
      "text/html": [
       "The new W&B backend becomes opt-out in version 0.18.0; try it out with `wandb.require(\"core\")`! See https://wandb.me/wandb-core for more information."
      ],
      "text/plain": [
       "<IPython.core.display.HTML object>"
      ]
     },
     "metadata": {},
     "output_type": "display_data"
    },
    {
     "name": "stderr",
     "output_type": "stream",
     "text": [
      "\u001b[34m\u001b[1mwandb\u001b[0m: Sweep Agent: Waiting for job.\n",
      "\u001b[34m\u001b[1mwandb\u001b[0m: Job received.\n",
      "\u001b[34m\u001b[1mwandb\u001b[0m: Agent Starting Run: vbpj1vn9 with config:\n",
      "\u001b[34m\u001b[1mwandb\u001b[0m: \tah0: 1.0125299070222318\n",
      "\u001b[34m\u001b[1mwandb\u001b[0m: \tah1: 1.5488678526543636\n",
      "\u001b[34m\u001b[1mwandb\u001b[0m: \tbh0: 4.642754883219398\n",
      "\u001b[34m\u001b[1mwandb\u001b[0m: \tbh1: 1.2354042070163636\n",
      "\u001b[34m\u001b[1mwandb\u001b[0m: \tc: 1.078260286254649\n"
     ]
    },
    {
     "data": {
      "text/html": [
       "wandb version 0.19.11 is available!  To upgrade, please run:\n",
       " $ pip install wandb --upgrade"
      ],
      "text/plain": [
       "<IPython.core.display.HTML object>"
      ]
     },
     "metadata": {},
     "output_type": "display_data"
    },
    {
     "data": {
      "text/html": [
       "Tracking run with wandb version 0.17.4"
      ],
      "text/plain": [
       "<IPython.core.display.HTML object>"
      ]
     },
     "metadata": {},
     "output_type": "display_data"
    },
    {
     "data": {
      "text/html": [
       "Run data is saved locally in <code>/12tb_dsk3/SEIR_model/src/wandb/run-20250526_182406-vbpj1vn9</code>"
      ],
      "text/plain": [
       "<IPython.core.display.HTML object>"
      ]
     },
     "metadata": {},
     "output_type": "display_data"
    },
    {
     "data": {
      "text/html": [
       "Syncing run <strong><a href='https://wandb.ai/danish2562022/sweeps-SEIR/runs/vbpj1vn9' target=\"_blank\">breezy-sweep-31</a></strong> to <a href='https://wandb.ai/danish2562022/sweeps-SEIR' target=\"_blank\">Weights & Biases</a> (<a href='https://wandb.me/run' target=\"_blank\">docs</a>)<br/>Sweep page: <a href='https://wandb.ai/danish2562022/sweeps-SEIR/sweeps/gsjncjls' target=\"_blank\">https://wandb.ai/danish2562022/sweeps-SEIR/sweeps/gsjncjls</a>"
      ],
      "text/plain": [
       "<IPython.core.display.HTML object>"
      ]
     },
     "metadata": {},
     "output_type": "display_data"
    },
    {
     "data": {
      "text/html": [
       " View project at <a href='https://wandb.ai/danish2562022/sweeps-SEIR' target=\"_blank\">https://wandb.ai/danish2562022/sweeps-SEIR</a>"
      ],
      "text/plain": [
       "<IPython.core.display.HTML object>"
      ]
     },
     "metadata": {},
     "output_type": "display_data"
    },
    {
     "data": {
      "text/html": [
       " View sweep at <a href='https://wandb.ai/danish2562022/sweeps-SEIR/sweeps/gsjncjls' target=\"_blank\">https://wandb.ai/danish2562022/sweeps-SEIR/sweeps/gsjncjls</a>"
      ],
      "text/plain": [
       "<IPython.core.display.HTML object>"
      ]
     },
     "metadata": {},
     "output_type": "display_data"
    },
    {
     "data": {
      "text/html": [
       " View run at <a href='https://wandb.ai/danish2562022/sweeps-SEIR/runs/vbpj1vn9' target=\"_blank\">https://wandb.ai/danish2562022/sweeps-SEIR/runs/vbpj1vn9</a>"
      ],
      "text/plain": [
       "<IPython.core.display.HTML object>"
      ]
     },
     "metadata": {},
     "output_type": "display_data"
    },
    {
     "data": {
      "application/vnd.jupyter.widget-view+json": {
       "model_id": "84c545e90332499896c50e725b33f5e7",
       "version_major": 2,
       "version_minor": 0
      },
      "text/plain": [
       "VBox(children=(Label(value='0.021 MB of 0.021 MB uploaded\\r'), FloatProgress(value=1.0, max=1.0)))"
      ]
     },
     "metadata": {},
     "output_type": "display_data"
    },
    {
     "data": {
      "text/html": [
       "<style>\n",
       "    table.wandb td:nth-child(1) { padding: 0 10px; text-align: left ; width: auto;} td:nth-child(2) {text-align: left ; width: 100%}\n",
       "    .wandb-row { display: flex; flex-direction: row; flex-wrap: wrap; justify-content: flex-start; width: 100% }\n",
       "    .wandb-col { display: flex; flex-direction: column; flex-basis: 100%; flex: 1; padding: 10px; }\n",
       "    </style>\n",
       "<div class=\"wandb-row\"><div class=\"wandb-col\"><h3>Run history:</h3><br/><table class=\"wandb\"><tr><td>CV_RMSE</td><td>▁</td></tr><tr><td>CV_RMSE_STHLM</td><td>▁</td></tr><tr><td>CV_RMSE_Södermanland</td><td>▁</td></tr><tr><td>RMSE</td><td>▁</td></tr><tr><td>RMSE_STHLM</td><td>▁</td></tr><tr><td>RMSE_Södermanland</td><td>▁</td></tr></table><br/></div><div class=\"wandb-col\"><h3>Run summary:</h3><br/><table class=\"wandb\"><tr><td>CV_RMSE</td><td>251.51047</td></tr><tr><td>CV_RMSE_STHLM</td><td>125.60565</td></tr><tr><td>CV_RMSE_Södermanland</td><td>125.90483</td></tr><tr><td>RMSE</td><td>386.94684</td></tr><tr><td>RMSE_STHLM</td><td>352.67274</td></tr><tr><td>RMSE_Södermanland</td><td>34.27409</td></tr></table><br/></div></div>"
      ],
      "text/plain": [
       "<IPython.core.display.HTML object>"
      ]
     },
     "metadata": {},
     "output_type": "display_data"
    },
    {
     "data": {
      "text/html": [
       " View run <strong style=\"color:#cdcd00\">breezy-sweep-31</strong> at: <a href='https://wandb.ai/danish2562022/sweeps-SEIR/runs/vbpj1vn9' target=\"_blank\">https://wandb.ai/danish2562022/sweeps-SEIR/runs/vbpj1vn9</a><br/> View project at: <a href='https://wandb.ai/danish2562022/sweeps-SEIR' target=\"_blank\">https://wandb.ai/danish2562022/sweeps-SEIR</a><br/>Synced 5 W&B file(s), 0 media file(s), 0 artifact file(s) and 0 other file(s)"
      ],
      "text/plain": [
       "<IPython.core.display.HTML object>"
      ]
     },
     "metadata": {},
     "output_type": "display_data"
    },
    {
     "data": {
      "text/html": [
       "Find logs at: <code>./wandb/run-20250526_182406-vbpj1vn9/logs</code>"
      ],
      "text/plain": [
       "<IPython.core.display.HTML object>"
      ]
     },
     "metadata": {},
     "output_type": "display_data"
    },
    {
     "data": {
      "text/html": [
       "The new W&B backend becomes opt-out in version 0.18.0; try it out with `wandb.require(\"core\")`! See https://wandb.me/wandb-core for more information."
      ],
      "text/plain": [
       "<IPython.core.display.HTML object>"
      ]
     },
     "metadata": {},
     "output_type": "display_data"
    },
    {
     "name": "stderr",
     "output_type": "stream",
     "text": [
      "\u001b[34m\u001b[1mwandb\u001b[0m: Agent Starting Run: n14d0t1n with config:\n",
      "\u001b[34m\u001b[1mwandb\u001b[0m: \tah0: 4.12146269573576\n",
      "\u001b[34m\u001b[1mwandb\u001b[0m: \tah1: 2.62727346740606\n",
      "\u001b[34m\u001b[1mwandb\u001b[0m: \tbh0: 4.348741534316442\n",
      "\u001b[34m\u001b[1mwandb\u001b[0m: \tbh1: 2.3429916517089104\n",
      "\u001b[34m\u001b[1mwandb\u001b[0m: \tc: 0.42308107163159026\n"
     ]
    },
    {
     "data": {
      "text/html": [
       "wandb version 0.19.11 is available!  To upgrade, please run:\n",
       " $ pip install wandb --upgrade"
      ],
      "text/plain": [
       "<IPython.core.display.HTML object>"
      ]
     },
     "metadata": {},
     "output_type": "display_data"
    },
    {
     "data": {
      "text/html": [
       "Tracking run with wandb version 0.17.4"
      ],
      "text/plain": [
       "<IPython.core.display.HTML object>"
      ]
     },
     "metadata": {},
     "output_type": "display_data"
    },
    {
     "data": {
      "text/html": [
       "Run data is saved locally in <code>/12tb_dsk3/SEIR_model/src/wandb/run-20250526_182416-n14d0t1n</code>"
      ],
      "text/plain": [
       "<IPython.core.display.HTML object>"
      ]
     },
     "metadata": {},
     "output_type": "display_data"
    },
    {
     "data": {
      "text/html": [
       "Syncing run <strong><a href='https://wandb.ai/danish2562022/sweeps-SEIR/runs/n14d0t1n' target=\"_blank\">balmy-sweep-32</a></strong> to <a href='https://wandb.ai/danish2562022/sweeps-SEIR' target=\"_blank\">Weights & Biases</a> (<a href='https://wandb.me/run' target=\"_blank\">docs</a>)<br/>Sweep page: <a href='https://wandb.ai/danish2562022/sweeps-SEIR/sweeps/gsjncjls' target=\"_blank\">https://wandb.ai/danish2562022/sweeps-SEIR/sweeps/gsjncjls</a>"
      ],
      "text/plain": [
       "<IPython.core.display.HTML object>"
      ]
     },
     "metadata": {},
     "output_type": "display_data"
    },
    {
     "data": {
      "text/html": [
       " View project at <a href='https://wandb.ai/danish2562022/sweeps-SEIR' target=\"_blank\">https://wandb.ai/danish2562022/sweeps-SEIR</a>"
      ],
      "text/plain": [
       "<IPython.core.display.HTML object>"
      ]
     },
     "metadata": {},
     "output_type": "display_data"
    },
    {
     "data": {
      "text/html": [
       " View sweep at <a href='https://wandb.ai/danish2562022/sweeps-SEIR/sweeps/gsjncjls' target=\"_blank\">https://wandb.ai/danish2562022/sweeps-SEIR/sweeps/gsjncjls</a>"
      ],
      "text/plain": [
       "<IPython.core.display.HTML object>"
      ]
     },
     "metadata": {},
     "output_type": "display_data"
    },
    {
     "data": {
      "text/html": [
       " View run at <a href='https://wandb.ai/danish2562022/sweeps-SEIR/runs/n14d0t1n' target=\"_blank\">https://wandb.ai/danish2562022/sweeps-SEIR/runs/n14d0t1n</a>"
      ],
      "text/plain": [
       "<IPython.core.display.HTML object>"
      ]
     },
     "metadata": {},
     "output_type": "display_data"
    },
    {
     "data": {
      "application/vnd.jupyter.widget-view+json": {
       "model_id": "6c1690649eb043c69193804aa4c01335",
       "version_major": 2,
       "version_minor": 0
      },
      "text/plain": [
       "VBox(children=(Label(value='0.021 MB of 0.021 MB uploaded\\r'), FloatProgress(value=1.0, max=1.0)))"
      ]
     },
     "metadata": {},
     "output_type": "display_data"
    },
    {
     "data": {
      "text/html": [
       "<style>\n",
       "    table.wandb td:nth-child(1) { padding: 0 10px; text-align: left ; width: auto;} td:nth-child(2) {text-align: left ; width: 100%}\n",
       "    .wandb-row { display: flex; flex-direction: row; flex-wrap: wrap; justify-content: flex-start; width: 100% }\n",
       "    .wandb-col { display: flex; flex-direction: column; flex-basis: 100%; flex: 1; padding: 10px; }\n",
       "    </style>\n",
       "<div class=\"wandb-row\"><div class=\"wandb-col\"><h3>Run history:</h3><br/><table class=\"wandb\"><tr><td>CV_RMSE</td><td>▁</td></tr><tr><td>CV_RMSE_STHLM</td><td>▁</td></tr><tr><td>CV_RMSE_Södermanland</td><td>▁</td></tr><tr><td>RMSE</td><td>▁</td></tr><tr><td>RMSE_STHLM</td><td>▁</td></tr><tr><td>RMSE_Södermanland</td><td>▁</td></tr></table><br/></div><div class=\"wandb-col\"><h3>Run summary:</h3><br/><table class=\"wandb\"><tr><td>CV_RMSE</td><td>832.701</td></tr><tr><td>CV_RMSE_STHLM</td><td>388.68861</td></tr><tr><td>CV_RMSE_Södermanland</td><td>444.01239</td></tr><tr><td>RMSE</td><td>1212.22129</td></tr><tr><td>RMSE_STHLM</td><td>1091.35125</td></tr><tr><td>RMSE_Södermanland</td><td>120.87004</td></tr></table><br/></div></div>"
      ],
      "text/plain": [
       "<IPython.core.display.HTML object>"
      ]
     },
     "metadata": {},
     "output_type": "display_data"
    },
    {
     "data": {
      "text/html": [
       " View run <strong style=\"color:#cdcd00\">balmy-sweep-32</strong> at: <a href='https://wandb.ai/danish2562022/sweeps-SEIR/runs/n14d0t1n' target=\"_blank\">https://wandb.ai/danish2562022/sweeps-SEIR/runs/n14d0t1n</a><br/> View project at: <a href='https://wandb.ai/danish2562022/sweeps-SEIR' target=\"_blank\">https://wandb.ai/danish2562022/sweeps-SEIR</a><br/>Synced 5 W&B file(s), 0 media file(s), 0 artifact file(s) and 0 other file(s)"
      ],
      "text/plain": [
       "<IPython.core.display.HTML object>"
      ]
     },
     "metadata": {},
     "output_type": "display_data"
    },
    {
     "data": {
      "text/html": [
       "Find logs at: <code>./wandb/run-20250526_182416-n14d0t1n/logs</code>"
      ],
      "text/plain": [
       "<IPython.core.display.HTML object>"
      ]
     },
     "metadata": {},
     "output_type": "display_data"
    },
    {
     "data": {
      "text/html": [
       "The new W&B backend becomes opt-out in version 0.18.0; try it out with `wandb.require(\"core\")`! See https://wandb.me/wandb-core for more information."
      ],
      "text/plain": [
       "<IPython.core.display.HTML object>"
      ]
     },
     "metadata": {},
     "output_type": "display_data"
    },
    {
     "name": "stderr",
     "output_type": "stream",
     "text": [
      "\u001b[34m\u001b[1mwandb\u001b[0m: Agent Starting Run: ho46o82j with config:\n",
      "\u001b[34m\u001b[1mwandb\u001b[0m: \tah0: 1.092595939985555\n",
      "\u001b[34m\u001b[1mwandb\u001b[0m: \tah1: 2.5861047568428837\n",
      "\u001b[34m\u001b[1mwandb\u001b[0m: \tbh0: 4.932557882716732\n",
      "\u001b[34m\u001b[1mwandb\u001b[0m: \tbh1: 2.279261842634954\n",
      "\u001b[34m\u001b[1mwandb\u001b[0m: \tc: 1.4673850669869497\n"
     ]
    },
    {
     "data": {
      "text/html": [
       "wandb version 0.19.11 is available!  To upgrade, please run:\n",
       " $ pip install wandb --upgrade"
      ],
      "text/plain": [
       "<IPython.core.display.HTML object>"
      ]
     },
     "metadata": {},
     "output_type": "display_data"
    },
    {
     "data": {
      "text/html": [
       "Tracking run with wandb version 0.17.4"
      ],
      "text/plain": [
       "<IPython.core.display.HTML object>"
      ]
     },
     "metadata": {},
     "output_type": "display_data"
    },
    {
     "data": {
      "text/html": [
       "Run data is saved locally in <code>/12tb_dsk3/SEIR_model/src/wandb/run-20250526_182427-ho46o82j</code>"
      ],
      "text/plain": [
       "<IPython.core.display.HTML object>"
      ]
     },
     "metadata": {},
     "output_type": "display_data"
    },
    {
     "data": {
      "text/html": [
       "Syncing run <strong><a href='https://wandb.ai/danish2562022/sweeps-SEIR/runs/ho46o82j' target=\"_blank\">smart-sweep-33</a></strong> to <a href='https://wandb.ai/danish2562022/sweeps-SEIR' target=\"_blank\">Weights & Biases</a> (<a href='https://wandb.me/run' target=\"_blank\">docs</a>)<br/>Sweep page: <a href='https://wandb.ai/danish2562022/sweeps-SEIR/sweeps/gsjncjls' target=\"_blank\">https://wandb.ai/danish2562022/sweeps-SEIR/sweeps/gsjncjls</a>"
      ],
      "text/plain": [
       "<IPython.core.display.HTML object>"
      ]
     },
     "metadata": {},
     "output_type": "display_data"
    },
    {
     "data": {
      "text/html": [
       " View project at <a href='https://wandb.ai/danish2562022/sweeps-SEIR' target=\"_blank\">https://wandb.ai/danish2562022/sweeps-SEIR</a>"
      ],
      "text/plain": [
       "<IPython.core.display.HTML object>"
      ]
     },
     "metadata": {},
     "output_type": "display_data"
    },
    {
     "data": {
      "text/html": [
       " View sweep at <a href='https://wandb.ai/danish2562022/sweeps-SEIR/sweeps/gsjncjls' target=\"_blank\">https://wandb.ai/danish2562022/sweeps-SEIR/sweeps/gsjncjls</a>"
      ],
      "text/plain": [
       "<IPython.core.display.HTML object>"
      ]
     },
     "metadata": {},
     "output_type": "display_data"
    },
    {
     "data": {
      "text/html": [
       " View run at <a href='https://wandb.ai/danish2562022/sweeps-SEIR/runs/ho46o82j' target=\"_blank\">https://wandb.ai/danish2562022/sweeps-SEIR/runs/ho46o82j</a>"
      ],
      "text/plain": [
       "<IPython.core.display.HTML object>"
      ]
     },
     "metadata": {},
     "output_type": "display_data"
    },
    {
     "data": {
      "application/vnd.jupyter.widget-view+json": {
       "model_id": "64a115c99b6a479cbeebe39b459ffc84",
       "version_major": 2,
       "version_minor": 0
      },
      "text/plain": [
       "VBox(children=(Label(value='0.021 MB of 0.021 MB uploaded\\r'), FloatProgress(value=1.0, max=1.0)))"
      ]
     },
     "metadata": {},
     "output_type": "display_data"
    },
    {
     "data": {
      "text/html": [
       "<style>\n",
       "    table.wandb td:nth-child(1) { padding: 0 10px; text-align: left ; width: auto;} td:nth-child(2) {text-align: left ; width: 100%}\n",
       "    .wandb-row { display: flex; flex-direction: row; flex-wrap: wrap; justify-content: flex-start; width: 100% }\n",
       "    .wandb-col { display: flex; flex-direction: column; flex-basis: 100%; flex: 1; padding: 10px; }\n",
       "    </style>\n",
       "<div class=\"wandb-row\"><div class=\"wandb-col\"><h3>Run history:</h3><br/><table class=\"wandb\"><tr><td>CV_RMSE</td><td>▁</td></tr><tr><td>CV_RMSE_STHLM</td><td>▁</td></tr><tr><td>CV_RMSE_Södermanland</td><td>▁</td></tr><tr><td>RMSE</td><td>▁</td></tr><tr><td>RMSE_STHLM</td><td>▁</td></tr><tr><td>RMSE_Södermanland</td><td>▁</td></tr></table><br/></div><div class=\"wandb-col\"><h3>Run summary:</h3><br/><table class=\"wandb\"><tr><td>CV_RMSE</td><td>779.34243</td></tr><tr><td>CV_RMSE_STHLM</td><td>258.44397</td></tr><tr><td>CV_RMSE_Södermanland</td><td>520.89846</td></tr><tr><td>RMSE</td><td>867.45337</td></tr><tr><td>RMSE_STHLM</td><td>725.65323</td></tr><tr><td>RMSE_Södermanland</td><td>141.80014</td></tr></table><br/></div></div>"
      ],
      "text/plain": [
       "<IPython.core.display.HTML object>"
      ]
     },
     "metadata": {},
     "output_type": "display_data"
    },
    {
     "data": {
      "text/html": [
       " View run <strong style=\"color:#cdcd00\">smart-sweep-33</strong> at: <a href='https://wandb.ai/danish2562022/sweeps-SEIR/runs/ho46o82j' target=\"_blank\">https://wandb.ai/danish2562022/sweeps-SEIR/runs/ho46o82j</a><br/> View project at: <a href='https://wandb.ai/danish2562022/sweeps-SEIR' target=\"_blank\">https://wandb.ai/danish2562022/sweeps-SEIR</a><br/>Synced 5 W&B file(s), 0 media file(s), 0 artifact file(s) and 0 other file(s)"
      ],
      "text/plain": [
       "<IPython.core.display.HTML object>"
      ]
     },
     "metadata": {},
     "output_type": "display_data"
    },
    {
     "data": {
      "text/html": [
       "Find logs at: <code>./wandb/run-20250526_182427-ho46o82j/logs</code>"
      ],
      "text/plain": [
       "<IPython.core.display.HTML object>"
      ]
     },
     "metadata": {},
     "output_type": "display_data"
    },
    {
     "data": {
      "text/html": [
       "The new W&B backend becomes opt-out in version 0.18.0; try it out with `wandb.require(\"core\")`! See https://wandb.me/wandb-core for more information."
      ],
      "text/plain": [
       "<IPython.core.display.HTML object>"
      ]
     },
     "metadata": {},
     "output_type": "display_data"
    },
    {
     "name": "stderr",
     "output_type": "stream",
     "text": [
      "\u001b[34m\u001b[1mwandb\u001b[0m: Sweep Agent: Waiting for job.\n",
      "\u001b[34m\u001b[1mwandb\u001b[0m: Job received.\n",
      "\u001b[34m\u001b[1mwandb\u001b[0m: Agent Starting Run: e1nw7yua with config:\n",
      "\u001b[34m\u001b[1mwandb\u001b[0m: \tah0: 1.3181795845570297\n",
      "\u001b[34m\u001b[1mwandb\u001b[0m: \tah1: 2.4290207419649255\n",
      "\u001b[34m\u001b[1mwandb\u001b[0m: \tbh0: 3.703776984105352\n",
      "\u001b[34m\u001b[1mwandb\u001b[0m: \tbh1: 1.232477382749221\n",
      "\u001b[34m\u001b[1mwandb\u001b[0m: \tc: 1.3207100298509724\n"
     ]
    },
    {
     "data": {
      "text/html": [
       "wandb version 0.19.11 is available!  To upgrade, please run:\n",
       " $ pip install wandb --upgrade"
      ],
      "text/plain": [
       "<IPython.core.display.HTML object>"
      ]
     },
     "metadata": {},
     "output_type": "display_data"
    },
    {
     "data": {
      "text/html": [
       "Tracking run with wandb version 0.17.4"
      ],
      "text/plain": [
       "<IPython.core.display.HTML object>"
      ]
     },
     "metadata": {},
     "output_type": "display_data"
    },
    {
     "data": {
      "text/html": [
       "Run data is saved locally in <code>/12tb_dsk3/SEIR_model/src/wandb/run-20250526_182443-e1nw7yua</code>"
      ],
      "text/plain": [
       "<IPython.core.display.HTML object>"
      ]
     },
     "metadata": {},
     "output_type": "display_data"
    },
    {
     "data": {
      "text/html": [
       "Syncing run <strong><a href='https://wandb.ai/danish2562022/sweeps-SEIR/runs/e1nw7yua' target=\"_blank\">glowing-sweep-34</a></strong> to <a href='https://wandb.ai/danish2562022/sweeps-SEIR' target=\"_blank\">Weights & Biases</a> (<a href='https://wandb.me/run' target=\"_blank\">docs</a>)<br/>Sweep page: <a href='https://wandb.ai/danish2562022/sweeps-SEIR/sweeps/gsjncjls' target=\"_blank\">https://wandb.ai/danish2562022/sweeps-SEIR/sweeps/gsjncjls</a>"
      ],
      "text/plain": [
       "<IPython.core.display.HTML object>"
      ]
     },
     "metadata": {},
     "output_type": "display_data"
    },
    {
     "data": {
      "text/html": [
       " View project at <a href='https://wandb.ai/danish2562022/sweeps-SEIR' target=\"_blank\">https://wandb.ai/danish2562022/sweeps-SEIR</a>"
      ],
      "text/plain": [
       "<IPython.core.display.HTML object>"
      ]
     },
     "metadata": {},
     "output_type": "display_data"
    },
    {
     "data": {
      "text/html": [
       " View sweep at <a href='https://wandb.ai/danish2562022/sweeps-SEIR/sweeps/gsjncjls' target=\"_blank\">https://wandb.ai/danish2562022/sweeps-SEIR/sweeps/gsjncjls</a>"
      ],
      "text/plain": [
       "<IPython.core.display.HTML object>"
      ]
     },
     "metadata": {},
     "output_type": "display_data"
    },
    {
     "data": {
      "text/html": [
       " View run at <a href='https://wandb.ai/danish2562022/sweeps-SEIR/runs/e1nw7yua' target=\"_blank\">https://wandb.ai/danish2562022/sweeps-SEIR/runs/e1nw7yua</a>"
      ],
      "text/plain": [
       "<IPython.core.display.HTML object>"
      ]
     },
     "metadata": {},
     "output_type": "display_data"
    },
    {
     "data": {
      "application/vnd.jupyter.widget-view+json": {
       "model_id": "f6475b1e76ee4f5e93861016d038478d",
       "version_major": 2,
       "version_minor": 0
      },
      "text/plain": [
       "VBox(children=(Label(value='0.021 MB of 0.021 MB uploaded\\r'), FloatProgress(value=1.0, max=1.0)))"
      ]
     },
     "metadata": {},
     "output_type": "display_data"
    },
    {
     "data": {
      "text/html": [
       "<style>\n",
       "    table.wandb td:nth-child(1) { padding: 0 10px; text-align: left ; width: auto;} td:nth-child(2) {text-align: left ; width: 100%}\n",
       "    .wandb-row { display: flex; flex-direction: row; flex-wrap: wrap; justify-content: flex-start; width: 100% }\n",
       "    .wandb-col { display: flex; flex-direction: column; flex-basis: 100%; flex: 1; padding: 10px; }\n",
       "    </style>\n",
       "<div class=\"wandb-row\"><div class=\"wandb-col\"><h3>Run history:</h3><br/><table class=\"wandb\"><tr><td>CV_RMSE</td><td>▁</td></tr><tr><td>CV_RMSE_STHLM</td><td>▁</td></tr><tr><td>CV_RMSE_Södermanland</td><td>▁</td></tr><tr><td>RMSE</td><td>▁</td></tr><tr><td>RMSE_STHLM</td><td>▁</td></tr><tr><td>RMSE_Södermanland</td><td>▁</td></tr></table><br/></div><div class=\"wandb-col\"><h3>Run summary:</h3><br/><table class=\"wandb\"><tr><td>CV_RMSE</td><td>906.21885</td></tr><tr><td>CV_RMSE_STHLM</td><td>321.68148</td></tr><tr><td>CV_RMSE_Södermanland</td><td>584.53737</td></tr><tr><td>RMSE</td><td>1062.33418</td></tr><tr><td>RMSE_STHLM</td><td>903.21012</td></tr><tr><td>RMSE_Södermanland</td><td>159.12406</td></tr></table><br/></div></div>"
      ],
      "text/plain": [
       "<IPython.core.display.HTML object>"
      ]
     },
     "metadata": {},
     "output_type": "display_data"
    },
    {
     "data": {
      "text/html": [
       " View run <strong style=\"color:#cdcd00\">glowing-sweep-34</strong> at: <a href='https://wandb.ai/danish2562022/sweeps-SEIR/runs/e1nw7yua' target=\"_blank\">https://wandb.ai/danish2562022/sweeps-SEIR/runs/e1nw7yua</a><br/> View project at: <a href='https://wandb.ai/danish2562022/sweeps-SEIR' target=\"_blank\">https://wandb.ai/danish2562022/sweeps-SEIR</a><br/>Synced 5 W&B file(s), 0 media file(s), 0 artifact file(s) and 0 other file(s)"
      ],
      "text/plain": [
       "<IPython.core.display.HTML object>"
      ]
     },
     "metadata": {},
     "output_type": "display_data"
    },
    {
     "data": {
      "text/html": [
       "Find logs at: <code>./wandb/run-20250526_182443-e1nw7yua/logs</code>"
      ],
      "text/plain": [
       "<IPython.core.display.HTML object>"
      ]
     },
     "metadata": {},
     "output_type": "display_data"
    },
    {
     "data": {
      "text/html": [
       "The new W&B backend becomes opt-out in version 0.18.0; try it out with `wandb.require(\"core\")`! See https://wandb.me/wandb-core for more information."
      ],
      "text/plain": [
       "<IPython.core.display.HTML object>"
      ]
     },
     "metadata": {},
     "output_type": "display_data"
    },
    {
     "name": "stderr",
     "output_type": "stream",
     "text": [
      "\u001b[34m\u001b[1mwandb\u001b[0m: Agent Starting Run: 9mfarfqg with config:\n",
      "\u001b[34m\u001b[1mwandb\u001b[0m: \tah0: 3.064152642759444\n",
      "\u001b[34m\u001b[1mwandb\u001b[0m: \tah1: 1.5676312953083649\n",
      "\u001b[34m\u001b[1mwandb\u001b[0m: \tbh0: 1.9985565817550563\n",
      "\u001b[34m\u001b[1mwandb\u001b[0m: \tbh1: 4.032228352680641\n",
      "\u001b[34m\u001b[1mwandb\u001b[0m: \tc: 0.04352274136555656\n"
     ]
    },
    {
     "data": {
      "text/html": [
       "wandb version 0.19.11 is available!  To upgrade, please run:\n",
       " $ pip install wandb --upgrade"
      ],
      "text/plain": [
       "<IPython.core.display.HTML object>"
      ]
     },
     "metadata": {},
     "output_type": "display_data"
    },
    {
     "data": {
      "text/html": [
       "Tracking run with wandb version 0.17.4"
      ],
      "text/plain": [
       "<IPython.core.display.HTML object>"
      ]
     },
     "metadata": {},
     "output_type": "display_data"
    },
    {
     "data": {
      "text/html": [
       "Run data is saved locally in <code>/12tb_dsk3/SEIR_model/src/wandb/run-20250526_182453-9mfarfqg</code>"
      ],
      "text/plain": [
       "<IPython.core.display.HTML object>"
      ]
     },
     "metadata": {},
     "output_type": "display_data"
    },
    {
     "data": {
      "text/html": [
       "Syncing run <strong><a href='https://wandb.ai/danish2562022/sweeps-SEIR/runs/9mfarfqg' target=\"_blank\">fresh-sweep-35</a></strong> to <a href='https://wandb.ai/danish2562022/sweeps-SEIR' target=\"_blank\">Weights & Biases</a> (<a href='https://wandb.me/run' target=\"_blank\">docs</a>)<br/>Sweep page: <a href='https://wandb.ai/danish2562022/sweeps-SEIR/sweeps/gsjncjls' target=\"_blank\">https://wandb.ai/danish2562022/sweeps-SEIR/sweeps/gsjncjls</a>"
      ],
      "text/plain": [
       "<IPython.core.display.HTML object>"
      ]
     },
     "metadata": {},
     "output_type": "display_data"
    },
    {
     "data": {
      "text/html": [
       " View project at <a href='https://wandb.ai/danish2562022/sweeps-SEIR' target=\"_blank\">https://wandb.ai/danish2562022/sweeps-SEIR</a>"
      ],
      "text/plain": [
       "<IPython.core.display.HTML object>"
      ]
     },
     "metadata": {},
     "output_type": "display_data"
    },
    {
     "data": {
      "text/html": [
       " View sweep at <a href='https://wandb.ai/danish2562022/sweeps-SEIR/sweeps/gsjncjls' target=\"_blank\">https://wandb.ai/danish2562022/sweeps-SEIR/sweeps/gsjncjls</a>"
      ],
      "text/plain": [
       "<IPython.core.display.HTML object>"
      ]
     },
     "metadata": {},
     "output_type": "display_data"
    },
    {
     "data": {
      "text/html": [
       " View run at <a href='https://wandb.ai/danish2562022/sweeps-SEIR/runs/9mfarfqg' target=\"_blank\">https://wandb.ai/danish2562022/sweeps-SEIR/runs/9mfarfqg</a>"
      ],
      "text/plain": [
       "<IPython.core.display.HTML object>"
      ]
     },
     "metadata": {},
     "output_type": "display_data"
    },
    {
     "data": {
      "application/vnd.jupyter.widget-view+json": {
       "model_id": "e8459dcf941a4bbf9dd7b79fe723f0a8",
       "version_major": 2,
       "version_minor": 0
      },
      "text/plain": [
       "VBox(children=(Label(value='0.021 MB of 0.021 MB uploaded\\r'), FloatProgress(value=1.0, max=1.0)))"
      ]
     },
     "metadata": {},
     "output_type": "display_data"
    },
    {
     "data": {
      "text/html": [
       "<style>\n",
       "    table.wandb td:nth-child(1) { padding: 0 10px; text-align: left ; width: auto;} td:nth-child(2) {text-align: left ; width: 100%}\n",
       "    .wandb-row { display: flex; flex-direction: row; flex-wrap: wrap; justify-content: flex-start; width: 100% }\n",
       "    .wandb-col { display: flex; flex-direction: column; flex-basis: 100%; flex: 1; padding: 10px; }\n",
       "    </style>\n",
       "<div class=\"wandb-row\"><div class=\"wandb-col\"><h3>Run history:</h3><br/><table class=\"wandb\"><tr><td>CV_RMSE</td><td>▁</td></tr><tr><td>CV_RMSE_STHLM</td><td>▁</td></tr><tr><td>CV_RMSE_Södermanland</td><td>▁</td></tr><tr><td>RMSE</td><td>▁</td></tr><tr><td>RMSE_STHLM</td><td>▁</td></tr><tr><td>RMSE_Södermanland</td><td>▁</td></tr></table><br/></div><div class=\"wandb-col\"><h3>Run summary:</h3><br/><table class=\"wandb\"><tr><td>CV_RMSE</td><td>524.65017</td></tr><tr><td>CV_RMSE_STHLM</td><td>392.21545</td></tr><tr><td>CV_RMSE_Södermanland</td><td>132.43472</td></tr><tr><td>RMSE</td><td>1137.3055</td></tr><tr><td>RMSE_STHLM</td><td>1101.25383</td></tr><tr><td>RMSE_Södermanland</td><td>36.05167</td></tr></table><br/></div></div>"
      ],
      "text/plain": [
       "<IPython.core.display.HTML object>"
      ]
     },
     "metadata": {},
     "output_type": "display_data"
    },
    {
     "data": {
      "text/html": [
       " View run <strong style=\"color:#cdcd00\">fresh-sweep-35</strong> at: <a href='https://wandb.ai/danish2562022/sweeps-SEIR/runs/9mfarfqg' target=\"_blank\">https://wandb.ai/danish2562022/sweeps-SEIR/runs/9mfarfqg</a><br/> View project at: <a href='https://wandb.ai/danish2562022/sweeps-SEIR' target=\"_blank\">https://wandb.ai/danish2562022/sweeps-SEIR</a><br/>Synced 5 W&B file(s), 0 media file(s), 0 artifact file(s) and 0 other file(s)"
      ],
      "text/plain": [
       "<IPython.core.display.HTML object>"
      ]
     },
     "metadata": {},
     "output_type": "display_data"
    },
    {
     "data": {
      "text/html": [
       "Find logs at: <code>./wandb/run-20250526_182453-9mfarfqg/logs</code>"
      ],
      "text/plain": [
       "<IPython.core.display.HTML object>"
      ]
     },
     "metadata": {},
     "output_type": "display_data"
    },
    {
     "data": {
      "text/html": [
       "The new W&B backend becomes opt-out in version 0.18.0; try it out with `wandb.require(\"core\")`! See https://wandb.me/wandb-core for more information."
      ],
      "text/plain": [
       "<IPython.core.display.HTML object>"
      ]
     },
     "metadata": {},
     "output_type": "display_data"
    }
   ],
   "source": [
    "wandb.agent(sweep_id,fit_model, count=4000)"
   ]
  },
  {
   "cell_type": "code",
   "execution_count": 38,
   "id": "623208ec-1337-4190-aaed-d61bcd7d416b",
   "metadata": {},
   "outputs": [
    {
     "data": {
      "text/html": [],
      "text/plain": [
       "<IPython.core.display.HTML object>"
      ]
     },
     "metadata": {},
     "output_type": "display_data"
    },
    {
     "data": {
      "text/html": [
       "Tracking run with wandb version 0.19.11"
      ],
      "text/plain": [
       "<IPython.core.display.HTML object>"
      ]
     },
     "metadata": {},
     "output_type": "display_data"
    },
    {
     "data": {
      "text/html": [
       "Run data is saved locally in <code>/Users/anwer/Desktop/SEIR_model/src/wandb/run-20250526_223237-f9yjllft</code>"
      ],
      "text/plain": [
       "<IPython.core.display.HTML object>"
      ]
     },
     "metadata": {},
     "output_type": "display_data"
    },
    {
     "data": {
      "text/html": [
       "Syncing run <strong><a href='https://wandb.ai/danish2562022/random-search-pred_inlagda/runs/f9yjllft' target=\"_blank\">random_search_run</a></strong> to <a href='https://wandb.ai/danish2562022/random-search-pred_inlagda' target=\"_blank\">Weights & Biases</a> (<a href='https://wandb.me/developer-guide' target=\"_blank\">docs</a>)<br>"
      ],
      "text/plain": [
       "<IPython.core.display.HTML object>"
      ]
     },
     "metadata": {},
     "output_type": "display_data"
    },
    {
     "data": {
      "text/html": [
       " View project at <a href='https://wandb.ai/danish2562022/random-search-pred_inlagda' target=\"_blank\">https://wandb.ai/danish2562022/random-search-pred_inlagda</a>"
      ],
      "text/plain": [
       "<IPython.core.display.HTML object>"
      ]
     },
     "metadata": {},
     "output_type": "display_data"
    },
    {
     "data": {
      "text/html": [
       " View run at <a href='https://wandb.ai/danish2562022/random-search-pred_inlagda/runs/f9yjllft' target=\"_blank\">https://wandb.ai/danish2562022/random-search-pred_inlagda/runs/f9yjllft</a>"
      ],
      "text/plain": [
       "<IPython.core.display.HTML object>"
      ]
     },
     "metadata": {},
     "output_type": "display_data"
    },
    {
     "data": {
      "text/html": [],
      "text/plain": [
       "<IPython.core.display.HTML object>"
      ]
     },
     "metadata": {},
     "output_type": "display_data"
    },
    {
     "data": {
      "text/html": [
       "<br>    <style><br>        .wandb-row {<br>            display: flex;<br>            flex-direction: row;<br>            flex-wrap: wrap;<br>            justify-content: flex-start;<br>            width: 100%;<br>        }<br>        .wandb-col {<br>            display: flex;<br>            flex-direction: column;<br>            flex-basis: 100%;<br>            flex: 1;<br>            padding: 10px;<br>        }<br>    </style><br><div class=\"wandb-row\"><div class=\"wandb-col\"><h3>Run history:</h3><br/><table class=\"wandb\"><tr><td>RMSE</td><td>▁█▇█▄▃█▇▄▄▅█▇▃██▁▁▅▇▇▅▁▅█▁▅▇▅▁█▇▅▁██▁▇▁█</td></tr><tr><td>ah0</td><td>▁▁▁▁▁████▁▁█▁▁██████▁█████▁█▁█▁▁██▁█▁▁▁█</td></tr><tr><td>ah1</td><td>▁▁▁▁██▁██▁▁██▁▁█████▁█▁██████▁▁█████▁▁▁▁</td></tr><tr><td>bh0</td><td>▁█████▁▁██▁████▁▁▁▁▁█▁▁███▁▁▁▁█▁████▁▁▁█</td></tr><tr><td>bh1</td><td>▁▁▁█▁▁███▁▁▁█▁▁███▁▁██▁█▁▁█▁▁▁███▁▁▁▁█▁█</td></tr><tr><td>c</td><td>███▁█▁▁█▁▁▁███▁██▁█▁▁█▁▁██▁▁▁█▁█████████</td></tr></table><br/></div><div class=\"wandb-col\"><h3>Run summary:</h3><br/><table class=\"wandb\"><tr><td>RMSE</td><td>2405.68111</td></tr><tr><td>ah0</td><td>0</td></tr><tr><td>ah1</td><td>0</td></tr><tr><td>bh0</td><td>10</td></tr><tr><td>bh1</td><td>10</td></tr><tr><td>c</td><td>10</td></tr></table><br/></div></div>"
      ],
      "text/plain": [
       "<IPython.core.display.HTML object>"
      ]
     },
     "metadata": {},
     "output_type": "display_data"
    },
    {
     "data": {
      "text/html": [
       " View run <strong style=\"color:#cdcd00\">random_search_run</strong> at: <a href='https://wandb.ai/danish2562022/random-search-pred_inlagda/runs/f9yjllft' target=\"_blank\">https://wandb.ai/danish2562022/random-search-pred_inlagda/runs/f9yjllft</a><br> View project at: <a href='https://wandb.ai/danish2562022/random-search-pred_inlagda' target=\"_blank\">https://wandb.ai/danish2562022/random-search-pred_inlagda</a><br>Synced 5 W&B file(s), 0 media file(s), 0 artifact file(s) and 0 other file(s)"
      ],
      "text/plain": [
       "<IPython.core.display.HTML object>"
      ]
     },
     "metadata": {},
     "output_type": "display_data"
    },
    {
     "data": {
      "text/html": [
       "Find logs at: <code>./wandb/run-20250526_223237-f9yjllft/logs</code>"
      ],
      "text/plain": [
       "<IPython.core.display.HTML object>"
      ]
     },
     "metadata": {},
     "output_type": "display_data"
    }
   ],
   "source": [
    "import wandb\n",
    "import numpy as np\n",
    "import random\n",
    "\n",
    "# Initialize wandb project\n",
    "wandb.init(project=\"random-search-pred_inlagda\", name=\"random_search_run\", config={})\n",
    "\n",
    "# Define ranges of hyperparameters for sampling\n",
    "param_space = {\n",
    "    \"ah0\": [0, 10],\n",
    "    \"bh0\": [0, 10],\n",
    "    \"ah1\": [0, 10],\n",
    "    \"bh1\": [0, 10],\n",
    "    \"c\":   [0, 10]\n",
    "}\n",
    "\n",
    "# Number of random trials\n",
    "n_trials = 500\n",
    "\n",
    "# Random search loop\n",
    "for _ in range(n_trials):\n",
    "    # Randomly sample one value for each hyperparameter\n",
    "    params = {key: random.choice(values) for key, values in param_space.items()}\n",
    "    \n",
    "    # Run model\n",
    "    P = pred_inlagda(weeks_train, params[\"ah0\"], params[\"bh0\"], params[\"ah1\"], params[\"bh1\"], params[\"c\"], delay)\n",
    "    CV_RMSE_1 = return_CV_RMSE(P[:,0], I_train[0])\n",
    "    CV_RMSE_2 = return_CV_RMSE(P[:,1], I_train[1])\n",
    "    CV_RMSE = CV_RMSE_1 + CV_RMSE_2    \n",
    "\n",
    "    CV_RMSE_1 = return_CV_RMSE(P[:,0], I_train[0])\n",
    "    CV_RMSE_2 = return_CV_RMSE(P[:,1], I_train[1])\n",
    "    CV_RMSE = CV_RMSE_1 + CV_RMSE_2  \n",
    "    \n",
    "    # Log to wandb\n",
    "    wandb.log({\n",
    "        **params,\n",
    "        \"CV_RMSE\": CV_RMSE\n",
    "        \"RMSE\": RMSE\n",
    "    })\n",
    "\n",
    "# Finish wandb run\n",
    "wandb.finish()\n"
   ]
  },
  {
   "cell_type": "code",
   "execution_count": 17,
   "id": "5eba30a4-ffa2-4e19-b434-f72fcb90d6f6",
   "metadata": {},
   "outputs": [
    {
     "name": "stdout",
     "output_type": "stream",
     "text": [
      "(array([0]), array([1]), array([1]), array([0]), array([1]))\n",
      "(array([0]), array([1]), array([1]), array([0]), array([1]))\n",
      "[3.] [7.] [6.5] [4.] [0.1]\n",
      "[3.] [7.] [6.5] [4.] [0.1]\n",
      "Minimum RMSE:  [277.95568688]\n",
      "Minimum CV-RMSE:  [98.99490233]\n"
     ]
    }
   ],
   "source": [
    "optind0 = np.where(E_rmse0 == np.amin(E_rmse0))\n",
    "optind0_cv = np.where(E_cv_rmse0 == np.amin(E_cv_rmse0))\n",
    "a0fitE0 = ah0[optind0[0]]\n",
    "b0fitE0 = bh0[optind0[1]]\n",
    "a1fitE0 = ah1[optind0[2]]\n",
    "b1fitE0 = bh1[optind0[3]]\n",
    "cfitE0  =   c[optind0[4]]\n",
    "a0fitE0_cv = ah0[optind0_cv[0]]\n",
    "b0fitE0_cv = bh0[optind0_cv[1]]\n",
    "a1fitE0_cv = ah1[optind0_cv[2]]\n",
    "b1fitE0_cv = bh1[optind0_cv[3]]\n",
    "cfitE0_cv  =   c[optind0_cv[4]]\n",
    "print(optind0)\n",
    "print(optind0_cv)\n",
    "print(a0fitE0, b0fitE0, a1fitE0, b1fitE0, cfitE0)\n",
    "print(a0fitE0_cv, b0fitE0_cv, a1fitE0_cv, b1fitE0_cv, cfitE0_cv)\n",
    "print(\"Minimum RMSE: \",E_rmse0[optind0])\n",
    "print(\"Minimum CV-RMSE: \",E_cv_rmse0[optind0_cv])"
   ]
  },
  {
   "cell_type": "code",
   "execution_count": 18,
   "id": "36359673-d394-471e-a1f7-ca23c7d9e60d",
   "metadata": {},
   "outputs": [
    {
     "name": "stdout",
     "output_type": "stream",
     "text": [
      "(array([1]), array([0]), array([0]), array([1]), array([1]))\n",
      "(array([1]), array([0]), array([0]), array([1]), array([1]))\n",
      "[6.5] [4.] [3.] [7.] [0.1]\n",
      "[6.5] [4.] [3.] [7.] [0.1]\n",
      "Minimum RMSE:  [24.14298631]\n",
      "Minimum CV-RMSE:  [88.68852113]\n"
     ]
    }
   ],
   "source": [
    "optind1 = np.where(E_rmse1 == np.amin(E_rmse1))\n",
    "optind1_cv = np.where(E_cv_rmse1 == np.amin(E_cv_rmse1))\n",
    "a0fitE1 = ah0[optind1[0]]\n",
    "b0fitE1 = bh0[optind1[1]]\n",
    "a1fitE1 = ah1[optind1[2]]\n",
    "b1fitE1 = bh1[optind1[3]]\n",
    "cfitE1  =   c[optind1[4]]\n",
    "a0fitE1_cv = ah0[optind1_cv[0]]\n",
    "b0fitE1_cv = bh0[optind1_cv[1]]\n",
    "a1fitE1_cv = ah1[optind1_cv[2]]\n",
    "b1fitE1_cv = bh1[optind1_cv[3]]\n",
    "cfitE1_cv  =   c[optind1_cv[4]]\n",
    "print(optind1)\n",
    "print(optind1_cv)\n",
    "print(a0fitE1, b0fitE1, a1fitE1, b1fitE1, cfitE1)\n",
    "print(a0fitE1_cv, b0fitE1_cv, a1fitE1_cv, b1fitE1_cv, cfitE1_cv)\n",
    "print(\"Minimum RMSE: \",E_rmse1[optind1])\n",
    "print(\"Minimum CV-RMSE: \",E_cv_rmse1[optind1_cv])"
   ]
  },
  {
   "cell_type": "code",
   "execution_count": 19,
   "id": "c516120c-96a5-448f-96c0-e127cdd9810f",
   "metadata": {},
   "outputs": [
    {
     "name": "stdout",
     "output_type": "stream",
     "text": [
      "(array([0]), array([0]), array([0]), array([2]), array([1]))\n",
      "(array([0]), array([0]), array([0]), array([2]), array([1]))\n",
      "[3.] [4.] [3.] [10.] [0.1]\n",
      "[3.] [4.] [3.] [10.] [0.1]\n",
      "Minimum RMSE:  [382.78615013]\n",
      "Minimum CV-RMSE:  [236.28067995]\n"
     ]
    }
   ],
   "source": [
    "E_rmse = E_rmse0 + E_rmse1\n",
    "E_cv_rmse = E_cv_rmse0 + E_cv_rmse1\n",
    "optind = np.where(E_rmse == np.amin(E_rmse))\n",
    "optind_cv = np.where(E_cv_rmse == np.amin(E_cv_rmse))\n",
    "a0fitE = ah0[optind[0]]\n",
    "b0fitE = bh0[optind[1]]\n",
    "a1fitE = ah1[optind[2]]\n",
    "b1fitE = bh1[optind[3]]\n",
    "cfitE  =   c[optind[4]]\n",
    "a0fitE_cv = ah0[optind_cv[0]]\n",
    "b0fitE_cv = bh0[optind_cv[1]]\n",
    "a1fitE_cv = ah1[optind_cv[2]]\n",
    "b1fitE_cv = bh1[optind_cv[3]]\n",
    "cfitE_cv  =   c[optind_cv[4]]\n",
    "print(optind)\n",
    "print(optind_cv)\n",
    "print(a0fitE, b0fitE, a1fitE, b1fitE, cfitE)\n",
    "print(a0fitE_cv, b0fitE_cv, a1fitE_cv, b1fitE_cv, cfitE_cv)\n",
    "print(\"Minimum RMSE: \",E_rmse[optind])\n",
    "print(\"Minimum CV-RMSE: \",E_cv_rmse[optind_cv])"
   ]
  },
  {
   "cell_type": "code",
   "execution_count": 32,
   "id": "2c2c9691-90d9-4698-83ce-0ef302d16746",
   "metadata": {},
   "outputs": [
    {
     "name": "stdout",
     "output_type": "stream",
     "text": [
      "[3.]\n",
      "[[[[[0.]]]]]\n",
      "[[[[[132.07105663]]]]]\n"
     ]
    }
   ],
   "source": [
    "# Function to compute RMSE for a specific combination of hyperparameters\n",
    "def compute_rmse(i, j, k, l, m, weeks_train, ah0, bh0, ah1, bh1, c, I_train, delay):\n",
    "    P = pred_inlagda(weeks_train, ah0[i], bh0[j], ah1[k], bh1[l], c[m], delay)\n",
    "    \n",
    "    RMSE0 = return_RMSE(P[:,0], I_train[0])\n",
    "    RMSE1 = return_RMSE(P[:,1], I_train[1])\n",
    "                    \n",
    "    # Store the results in the arrays (instead of RMSE)\n",
    "    E_rmse0[i,j,k,l,m] = RMSE0\n",
    "    E_rmse1[i,j,k,l,m] = RMSE1 \n",
    "\n",
    "    # Calculate the Coefficient of Variation of RMSE (CV-RMSE)\n",
    "    CV_RMSE0 = return_CV_RMSE(P[:,0], I_train[0])\n",
    "    CV_RMSE1 = return_CV_RMSE(P[:,1], I_train[1])\n",
    "                                        \n",
    "    # Store the results in the arrays (instead of cv-rmse)\n",
    "    E_cv_rmse0[i, j, k, l, m] = CV_RMSE0\n",
    "    E_cv_rmse1[i, j, k, l, m] = CV_RMSE1\n",
    "    return (i, j, k, l, m, RMSE0, RMSE1, CV_RMSE0, CV_RMSE1)\n",
    "print(ah0)\n",
    "print(E_cv_rmse0)\n",
    "compute_rmse(0,0,0,0,0, weeks_train, ah0, bh0, ah1, bh1, c, I_train, delay) \n",
    "print(E_cv_rmse0)"
   ]
  },
  {
   "cell_type": "code",
   "execution_count": 33,
   "id": "c1045c78-001d-4dec-a718-6f46e4b76b7f",
   "metadata": {},
   "outputs": [
    {
     "name": "stderr",
     "output_type": "stream",
     "text": [
      "100%|████████████████████████████████████████████| 1/1 [00:00<00:00, 129.15it/s]\n",
      "0it [00:00, ?it/s]Process SpawnProcess-19:\n",
      "Traceback (most recent call last):\n",
      "  File \"/Library/Frameworks/Python.framework/Versions/3.12/lib/python3.12/multiprocessing/process.py\", line 314, in _bootstrap\n",
      "    self.run()\n",
      "  File \"/Library/Frameworks/Python.framework/Versions/3.12/lib/python3.12/multiprocessing/process.py\", line 108, in run\n",
      "    self._target(*self._args, **self._kwargs)\n",
      "  File \"/Library/Frameworks/Python.framework/Versions/3.12/lib/python3.12/concurrent/futures/process.py\", line 251, in _process_worker\n",
      "    call_item = call_queue.get(block=True)\n",
      "                ^^^^^^^^^^^^^^^^^^^^^^^^^^\n",
      "  File \"/Library/Frameworks/Python.framework/Versions/3.12/lib/python3.12/multiprocessing/queues.py\", line 122, in get\n",
      "    return _ForkingPickler.loads(res)\n",
      "           ^^^^^^^^^^^^^^^^^^^^^^^^^^\n",
      "AttributeError: Can't get attribute 'compute_rmse' on <module '__main__' (<class '_frozen_importlib.BuiltinImporter'>)>\n",
      "0it [00:00, ?it/s]\n"
     ]
    },
    {
     "ename": "BrokenProcessPool",
     "evalue": "A process in the process pool was terminated abruptly while the future was running or pending.",
     "output_type": "error",
     "traceback": [
      "\u001b[31m---------------------------------------------------------------------------\u001b[39m",
      "\u001b[31mBrokenProcessPool\u001b[39m                         Traceback (most recent call last)",
      "\u001b[36mCell\u001b[39m\u001b[36m \u001b[39m\u001b[32mIn[33]\u001b[39m\u001b[32m, line 53\u001b[39m\n\u001b[32m     50\u001b[39m             E_cv_rmse1[i, j, k, l, m] = CV_RMSE1\n\u001b[32m     52\u001b[39m \u001b[38;5;28;01mif\u001b[39;00m \u001b[34m__name__\u001b[39m == \u001b[33m\"\u001b[39m\u001b[33m__main__\u001b[39m\u001b[33m\"\u001b[39m:\n\u001b[32m---> \u001b[39m\u001b[32m53\u001b[39m     \u001b[43mparallel_search\u001b[49m\u001b[43m(\u001b[49m\u001b[43mn\u001b[49m\u001b[43m,\u001b[49m\u001b[43m \u001b[49m\u001b[43mweeks_train\u001b[49m\u001b[43m,\u001b[49m\u001b[43m \u001b[49m\u001b[43mah0\u001b[49m\u001b[43m,\u001b[49m\u001b[43m \u001b[49m\u001b[43mbh0\u001b[49m\u001b[43m,\u001b[49m\u001b[43m \u001b[49m\u001b[43mah1\u001b[49m\u001b[43m,\u001b[49m\u001b[43m \u001b[49m\u001b[43mbh1\u001b[49m\u001b[43m,\u001b[49m\u001b[43m \u001b[49m\u001b[43mc\u001b[49m\u001b[43m,\u001b[49m\u001b[43m \u001b[49m\u001b[43mI_train\u001b[49m\u001b[43m,\u001b[49m\u001b[43m \u001b[49m\u001b[43mdelay\u001b[49m\u001b[43m)\u001b[49m\n",
      "\u001b[36mCell\u001b[39m\u001b[36m \u001b[39m\u001b[32mIn[33]\u001b[39m\u001b[32m, line 46\u001b[39m, in \u001b[36mparallel_search\u001b[39m\u001b[34m(n, weeks_train, ah0, bh0, ah1, bh1, c, I_train, delay)\u001b[39m\n\u001b[32m     44\u001b[39m \u001b[38;5;66;03m# Collect results from the completed futures\u001b[39;00m\n\u001b[32m     45\u001b[39m \u001b[38;5;28;01mfor\u001b[39;00m future \u001b[38;5;129;01min\u001b[39;00m tqdm(as_completed(futures)):\n\u001b[32m---> \u001b[39m\u001b[32m46\u001b[39m     i, j, k, l, m, RMSE0, RMSE1, CV_RMSE0, CV_RMSE1 = \u001b[43mfuture\u001b[49m\u001b[43m.\u001b[49m\u001b[43mresult\u001b[49m\u001b[43m(\u001b[49m\u001b[43m)\u001b[49m\n\u001b[32m     47\u001b[39m     E_rmse0[i, j, k, l, m] = RMSE0\n\u001b[32m     48\u001b[39m     E_rmse1[i, j, k, l, m] = RMSE1\n",
      "\u001b[36mFile \u001b[39m\u001b[32m/Library/Frameworks/Python.framework/Versions/3.12/lib/python3.12/concurrent/futures/_base.py:449\u001b[39m, in \u001b[36mFuture.result\u001b[39m\u001b[34m(self, timeout)\u001b[39m\n\u001b[32m    447\u001b[39m     \u001b[38;5;28;01mraise\u001b[39;00m CancelledError()\n\u001b[32m    448\u001b[39m \u001b[38;5;28;01melif\u001b[39;00m \u001b[38;5;28mself\u001b[39m._state == FINISHED:\n\u001b[32m--> \u001b[39m\u001b[32m449\u001b[39m     \u001b[38;5;28;01mreturn\u001b[39;00m \u001b[38;5;28;43mself\u001b[39;49m\u001b[43m.\u001b[49m\u001b[43m__get_result\u001b[49m\u001b[43m(\u001b[49m\u001b[43m)\u001b[49m\n\u001b[32m    451\u001b[39m \u001b[38;5;28mself\u001b[39m._condition.wait(timeout)\n\u001b[32m    453\u001b[39m \u001b[38;5;28;01mif\u001b[39;00m \u001b[38;5;28mself\u001b[39m._state \u001b[38;5;129;01min\u001b[39;00m [CANCELLED, CANCELLED_AND_NOTIFIED]:\n",
      "\u001b[36mFile \u001b[39m\u001b[32m/Library/Frameworks/Python.framework/Versions/3.12/lib/python3.12/concurrent/futures/_base.py:401\u001b[39m, in \u001b[36mFuture.__get_result\u001b[39m\u001b[34m(self)\u001b[39m\n\u001b[32m    399\u001b[39m \u001b[38;5;28;01mif\u001b[39;00m \u001b[38;5;28mself\u001b[39m._exception:\n\u001b[32m    400\u001b[39m     \u001b[38;5;28;01mtry\u001b[39;00m:\n\u001b[32m--> \u001b[39m\u001b[32m401\u001b[39m         \u001b[38;5;28;01mraise\u001b[39;00m \u001b[38;5;28mself\u001b[39m._exception\n\u001b[32m    402\u001b[39m     \u001b[38;5;28;01mfinally\u001b[39;00m:\n\u001b[32m    403\u001b[39m         \u001b[38;5;66;03m# Break a reference cycle with the exception in self._exception\u001b[39;00m\n\u001b[32m    404\u001b[39m         \u001b[38;5;28mself\u001b[39m = \u001b[38;5;28;01mNone\u001b[39;00m\n",
      "\u001b[31mBrokenProcessPool\u001b[39m: A process in the process pool was terminated abruptly while the future was running or pending."
     ]
    }
   ],
   "source": [
    "from tqdm import tqdm\n",
    "import numpy as np\n",
    "from concurrent.futures import ProcessPoolExecutor, as_completed\n",
    "\n",
    "\n",
    "namn_list = ['Sthlm', 'Södermanland']\n",
    "transit_fkn_dct = loadMobility_list(namn_list, starting_week) \n",
    "getData_dict = getData_list(namn_list, first_case)\n",
    "\n",
    "I_train = [getData_dict[namn_list[0]]['I'],\n",
    "           getData_dict[namn_list[1]]['I']]\n",
    "weeks_train = getData_dict[namn_list[0]]['veckor']\n",
    "\n",
    "n = 1\n",
    "ah0 = np.linspace(3, 10, n)\n",
    "bh0 = np.linspace(4, 10, n)\n",
    "ah1 = np.linspace(3, 10, n)\n",
    "bh1 = np.linspace(4, 10, n)\n",
    "c =   np.linspace(0, 0.2, n)\n",
    "\n",
    "\n",
    "E_rmse0 = np.zeros((len(ah0), len(bh0), len(ah0), len(bh0), len(c)))\n",
    "E_rmse1 = np.zeros((len(ah0), len(bh0), len(ah0), len(bh0), len(c)))\n",
    "\n",
    "E_cv_rmse0 = np.zeros((len(ah0), len(bh0), len(ah0), len(bh0), len(c)))\n",
    "E_cv_rmse1 = np.zeros((len(ah0), len(bh0), len(ah0), len(bh0), len(c)))\n",
    "\n",
    "\n",
    "\n",
    "# Parallel processing function\n",
    "def parallel_search(n, weeks_train, ah0, bh0, ah1, bh1, c, I_train, delay):\n",
    "    # Store futures to track processing\n",
    "    futures = []\n",
    "    with ProcessPoolExecutor() as executor:\n",
    "        # Loop through all combinations of i, j, k, l, m\n",
    "        for i in tqdm(range(n)):\n",
    "            for j in range(n):\n",
    "                for k in range(n):\n",
    "                    for l in range(n):\n",
    "                        for m in range(n):\n",
    "                            # Submit the task to the executor\n",
    "                            futures.append(executor.submit(compute_rmse, i, j, k, l, m, weeks_train, ah0, bh0, ah1, bh1, c, I_train, delay))\n",
    "\n",
    "        # Collect results from the completed futures\n",
    "        for future in tqdm(as_completed(futures)):\n",
    "            i, j, k, l, m, RMSE0, RMSE1, CV_RMSE0, CV_RMSE1 = future.result()\n",
    "            E_rmse0[i, j, k, l, m] = RMSE0\n",
    "            E_rmse1[i, j, k, l, m] = RMSE1\n",
    "            E_cv_rmse0[i, j, k, l, m] = CV_RMSE0 \n",
    "            E_cv_rmse1[i, j, k, l, m] = CV_RMSE1\n",
    "\n",
    "if __name__ == \"__main__\":\n",
    "    parallel_search(n, weeks_train, ah0, bh0, ah1, bh1, c, I_train, delay)"
   ]
  },
  {
   "cell_type": "code",
   "execution_count": 79,
   "id": "4ebc10d9-a558-45cf-b26a-164ad8ce5bc4",
   "metadata": {},
   "outputs": [
    {
     "name": "stderr",
     "output_type": "stream",
     "text": [
      "100%|█████████████████████████████████████████████| 2/2 [00:00<00:00, 37.31it/s]\n",
      "32it [00:01, 17.71it/s]\n"
     ]
    },
    {
     "name": "stdout",
     "output_type": "stream",
     "text": [
      "[[[[[[ 132.07105663  266.89954043]\n",
      "     [ 132.07105519  145.07097686]]\n",
      "\n",
      "    [[ 132.07105629  411.52357819]\n",
      "     [ 132.07105518  455.23390166]]]\n",
      "\n",
      "\n",
      "   [[[ 141.46444834  140.26920471]\n",
      "     [ 141.46444834  135.79792599]]\n",
      "\n",
      "    [[ 141.46444839  346.38533447]\n",
      "     [ 141.46444839  421.31853227]]]]\n",
      "\n",
      "\n",
      "\n",
      "  [[[[ 985.51989585  991.11978118]\n",
      "     [ 985.51989369  992.18490846]]\n",
      "\n",
      "    [[ 985.51989504 1012.33768634]\n",
      "     [ 985.51989007 1016.40540828]]]\n",
      "\n",
      "\n",
      "   [[[1019.21401546 1020.8075171 ]\n",
      "     [1019.21401522 1021.03856189]]\n",
      "\n",
      "    [[1019.2140211  1027.49564889]\n",
      "     [1019.21402096 1031.33656187]]]]]\n",
      "\n",
      "\n",
      "\n",
      "\n",
      " [[[[[ 449.8093266   451.33122435]\n",
      "     [ 121.48130424  135.77557414]]\n",
      "\n",
      "    [[1333.1332519  1333.46565732]\n",
      "     [1377.95386763 1378.21970564]]]\n",
      "\n",
      "\n",
      "   [[[ 449.80932262  421.8469298 ]\n",
      "     [ 121.48130432  120.18099843]]\n",
      "\n",
      "    [[1333.13325123 1333.536733  ]\n",
      "     [1377.95386741 1378.2700245 ]]]]\n",
      "\n",
      "\n",
      "\n",
      "  [[[[ 449.80933868  516.49824952]\n",
      "     [ 121.48130519  358.95960396]]\n",
      "\n",
      "    [[1333.13325437 1335.56254057]\n",
      "     [1377.95386727 1379.33251558]]]\n",
      "\n",
      "\n",
      "   [[[ 449.80931686  571.88005032]\n",
      "     [ 121.48130475  446.56146234]]\n",
      "\n",
      "    [[1333.13324743 1336.94487568]\n",
      "     [1377.95388153 1380.08469197]]]]]]\n"
     ]
    }
   ],
   "source": [
    "%run -i parallell_grid_search.py\n",
    "print(E_cv_rmse)"
   ]
  },
  {
   "cell_type": "code",
   "execution_count": 371,
   "id": "709b3c4e-764c-46b6-9654-47da126c14f8",
   "metadata": {},
   "outputs": [
    {
     "name": "stdout",
     "output_type": "stream",
     "text": [
      "Minimum RMSE:  [577.20146072]\n"
     ]
    }
   ],
   "source": [
    "optind = np.where(E_sthlm == np.amin(E_sthlm))\n",
    "afiE_sthlm = ah[optind[0]]\n",
    "bfitE_sthlm = bh[optind[1]]\n",
    "\n",
    "print(\"Minimum RMSE: \",E_sthlm[optind])\n",
    "#print(\"a=\",afiE_sthlm,\"b=\",bfit)"
   ]
  },
  {
   "cell_type": "code",
   "execution_count": null,
   "id": "76ae6182-1af3-428a-948b-132742bc234f",
   "metadata": {},
   "outputs": [],
   "source": [
    "optind = np.where(E_sthlm == np.amin(E_sthlm))\n",
    "afiE_sthlm = ah[optind[0]]\n",
    "bfitE_sthlm = bh[optind[1]]\n"
   ]
  },
  {
   "cell_type": "code",
   "execution_count": 76,
   "id": "047655c2-e29e-4443-afd3-ccd62e810432",
   "metadata": {},
   "outputs": [],
   "source": [
    "regs = pandas.read_pickle('../data/param_IC.pkl') #load initial guesses for a and b for each region\n",
    "astart = regs['a'].values\n",
    "bstart = regs['b'].values"
   ]
  },
  {
   "cell_type": "code",
   "execution_count": 66,
   "id": "f1d8280b-49ff-46e8-8a1c-af40dfc4d11c",
   "metadata": {},
   "outputs": [
    {
     "data": {
      "text/plain": [
       "range(0, 2)"
      ]
     },
     "execution_count": 66,
     "metadata": {},
     "output_type": "execute_result"
    }
   ],
   "source": [
    "range(2)"
   ]
  },
  {
   "cell_type": "code",
   "execution_count": 67,
   "id": "622fe77f-6a68-43e2-bb66-51482aa93485",
   "metadata": {},
   "outputs": [
    {
     "data": {
      "text/plain": [
       "False"
      ]
     },
     "execution_count": 67,
     "metadata": {},
     "output_type": "execute_result"
    }
   ],
   "source": [
    "i in range(2)"
   ]
  },
  {
   "cell_type": "code",
   "execution_count": 69,
   "id": "fd4fadcb-563a-43ea-af2b-0110f97a89e8",
   "metadata": {},
   "outputs": [
    {
     "name": "stdout",
     "output_type": "stream",
     "text": [
      "0\n",
      "1\n"
     ]
    }
   ],
   "source": [
    "for i in range(2):\n",
    "    print(i)"
   ]
  },
  {
   "cell_type": "code",
   "execution_count": null,
   "id": "1824bda4-63b5-410f-a9b7-ad437ed8360c",
   "metadata": {},
   "outputs": [],
   "source": []
  }
 ],
 "metadata": {
  "kernelspec": {
   "display_name": "Python 3 (ipykernel)",
   "language": "python",
   "name": "python3"
  },
  "language_info": {
   "codemirror_mode": {
    "name": "ipython",
    "version": 3
   },
   "file_extension": ".py",
   "mimetype": "text/x-python",
   "name": "python",
   "nbconvert_exporter": "python",
   "pygments_lexer": "ipython3",
   "version": "3.12.2"
  }
 },
 "nbformat": 4,
 "nbformat_minor": 5
}
