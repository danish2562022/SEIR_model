{
 "cells": [
  {
   "cell_type": "markdown",
   "id": "23c79c5a-0159-4b64-95dc-0e46a9da5df0",
   "metadata": {},
   "source": [
    "# Skane\n",
    "# Bleking"
   ]
  },
  {
   "cell_type": "markdown",
   "id": "1d630fbc-c84b-442b-a687-903c8cad94a7",
   "metadata": {},
   "source": [
    "![My Image](./Map-of-Sweden-showing-the-21-administrative-regions-adapted-from-SCB-2007.png)\n"
   ]
  },
  {
   "cell_type": "code",
   "execution_count": 1,
   "id": "770b1865-3c5d-4871-8891-3e428dc36a9a",
   "metadata": {},
   "outputs": [],
   "source": [
    "#importing modules\n",
    "from math import *\n",
    "import matplotlib.pyplot as plt\n",
    "plt.rcParams.update({'font.size': 21})\n",
    "import scipy.stats as stats\n",
    "from scipy.optimize import curve_fit,leastsq\n",
    "from scipy.integrate import odeint, ode\n",
    "from scipy.interpolate import interp1d\n",
    "import numpy as np\n",
    "import pandas as pd\n",
    "from scipy.interpolate import interp1d"
   ]
  },
  {
   "cell_type": "markdown",
   "id": "05f1bf5f-5620-4891-a568-e0aa34b8cafc",
   "metadata": {},
   "source": [
    "# 1. DATA preprocessing"
   ]
  },
  {
   "cell_type": "code",
   "execution_count": 2,
   "id": "1424a2eb-3de6-49f8-9721-1ce12e06b643",
   "metadata": {},
   "outputs": [],
   "source": [
    "#Parameters\n",
    "n=20\n",
    "starting_week = 10-4 #start week\n",
    "first_case = 9\n",
    "T_max = 48 #length of prediction\n",
    "pv = 0.023 #fraction of infected that are admitted\n",
    "rho = 7*1/5.1 #latency period\n",
    "gamma = 7*1/5 #recovery rate\n",
    "delay = 3 #2.5 #delay from infection to admission"
   ]
  },
  {
   "cell_type": "code",
   "execution_count": 3,
   "id": "26d9f971-4ae7-4728-9b4c-50a60696af9c",
   "metadata": {},
   "outputs": [],
   "source": [
    "file = pd.read_excel('../data/statistik-covid19-inskrivna_v2.xlsx', sheet_name = \"Inskrivna i slutenvård\")\n",
    "data = [['Sthlm',           8, 2389923, 'SE-AB',  6524],\n",
    "        ['VGR',             9, 1725881,  'SE-O', 23800],\n",
    "        ['Skåne',          10, 1387650,  'SE-M', 10968],\n",
    "        ['Östergötland',   11,  467095,  'SE-E', 10559],\n",
    "        ['Jönköping',      12,  364750,  'SE-F',  8190],\n",
    "        ['Södermanland',   13,  299101,  'SE-D', 10437],\n",
    "        ['Uppsala',        14,  387628,  'SE-C',  5427],\n",
    "        ['Gävleborg',      15,  287660,  'SE-X',  8504],\n",
    "        ['Västmanland',    16,  277074,  'SE-U',  6075],\n",
    "        ['Örebro',         17,  305726,  'SE-T', 28029],\n",
    "        ['Norrbotten',     18,  249768, 'SE-BD', 18118],\n",
    "        ['Dalarna',        19,  287806,  'SE-W', 17519],\n",
    "        ['Västernorrland', 20,  244855,  'SE-Y',  5118],\n",
    "        ['Värmland',       21,  282840,  'SE-S', 54665],\n",
    "        ['Halland',        22,  336132,  'SE-N', 97239],\n",
    "        ['Kalmar',         23,  245992,  'SE-H', 11165],\n",
    "        ['Kronoberg',      24,  202163,  'SE-G', 21549],\n",
    "        ['Västerbotten',   25,  273061,  'SE-AC', 8424],\n",
    "        ['Jämtland',       26,  130972,  'SE-Z',  2931],\n",
    "        ['Blekinge',       27,  159349,  'SE-K', 48935],\n",
    "        ['Gotland',        28,   60106,  'SE-I',  3135]] \n",
    "regions = pd.DataFrame(data, columns = ['region', 'index','population', 'regionkod', 'area']) \n",
    "regions['density'] = regions['population']/regions['area']\n",
    "first_cases = first_case*np.ones(21).astype(int) #week number when first case was recorded\n",
    "regions['first case'] = first_cases\n",
    "starting_weeks = first_cases - 3\n",
    "\n",
    "regions.drop(regions.index[[20]],inplace=True) #remove Gotland\n"
   ]
  },
  {
   "cell_type": "code",
   "execution_count": 4,
   "id": "b24dccf1-4c3f-42fb-b92c-ef1c97112b71",
   "metadata": {},
   "outputs": [],
   "source": [
    "def getData(name, first_case):\n",
    "    temp = regions.loc[regions['region'] == name] #find the right row\n",
    "    index = temp['index'].values #find the region index\n",
    "    N = temp['population'].values[0] #find population size of region\n",
    "    R = file.iloc[index[0]] \n",
    "    R = R.replace(' ', 0) #replace missing data with 0\n",
    "    R = R.replace('X', 0) \n",
    "    R = R.replace('IU', 0) \n",
    "    \n",
    "    ind = np.arange(3, len(R), 2) \n",
    "    I = R.iloc[ind].values #extract admissions\n",
    "    I = I[:-2] #remove last (incomplete) data point\n",
    "    padding = np.zeros(10 - first_case + 3) \n",
    "    I = np.insert(I, 0, padding) \n",
    "    veckor = np.arange(0, len(I), 1) #create array of week numbers\n",
    "    \n",
    "    return I,veckor,N\n",
    "\n",
    "\n",
    "#Load Google mobility data\n",
    "def loadMobility(name, starting_week):\n",
    "    df = pd.read_csv('../data/2020_SE_Region_Mobility_Report.csv') \n",
    "    temp = regions.loc[regions['region'] == name] \n",
    "    code = temp['regionkod'].values \n",
    "    temp2 = df.loc[df['iso_3166_2_code'] == code[0]]\n",
    "    transit = temp2['transit_stations_percent_change_from_baseline'].values \n",
    "    dagar = np.arange(46, 46 + len(transit))\n",
    "    tv = np.ceil(dagar / 7)\n",
    "    \n",
    "    \n",
    "    gveckor = np.unique(tv)\n",
    "    k = 0\n",
    "    Tr = np.zeros(int(max(gveckor) - min(gveckor))+1)\n",
    "\n",
    "    for i in gveckor:\n",
    "        ind=tv==i\n",
    "        Tr[k]=np.mean(transit[ind])/100\n",
    "        k=k+1\n",
    "    for i in range(1,len(Tr)):\n",
    "        if np.isnan(Tr[i]):\n",
    "            Tr[i]=Tr[i-1]\n",
    "    #print(Tr)\n",
    "    init=0.2 #set base line travel\n",
    "    Tr[0:2]=[init,init]\n",
    "    #print(Tr)\n",
    "    #print(gveckor)\n",
    "    #print(gveckor-svecka)\n",
    "    Trfkn = interp1d(gveckor-starting_week, Tr, kind = \"linear\", fill_value = \"extrapolate\")\n",
    "    #print(Tr)\n",
    "    return Trfkn"
   ]
  },
  {
   "cell_type": "code",
   "execution_count": 5,
   "id": "3ff52623-39f5-4720-9e22-8dccf741b934",
   "metadata": {},
   "outputs": [],
   "source": [
    "def loadMobility_list(name_list, starting_week):\n",
    "    Trfkn_dict = dict()\n",
    "    for i in name_list:\n",
    "       Trfkn_dict[i] = loadMobility(i, starting_week) \n",
    "    return Trfkn_dict\n",
    "\n",
    "\n",
    "def getData_list(name_list, first_case):\n",
    "    getData_dict = dict()\n",
    "    for i in name_list:\n",
    "        I, veckor, N = getData(i, first_case)\n",
    "        getData_dict[i] =  {'I': I, 'veckor': veckor, 'N': N}\n",
    "    return getData_dict"
   ]
  },
  {
   "cell_type": "markdown",
   "id": "82280561-7681-4293-8678-6c4ce2afe993",
   "metadata": {},
   "source": [
    "# 2. Correlation Analysis"
   ]
  },
  {
   "cell_type": "code",
   "execution_count": 6,
   "id": "625c6253-510d-498b-9690-d6b8e465d5fa",
   "metadata": {},
   "outputs": [],
   "source": [
    "name_list = regions.region.tolist()\n",
    "Trfkn_dict = loadMobility_list(name_list, starting_week = 6) \n",
    "getData_dict = getData_list(name_list, first_case = 9) "
   ]
  },
  {
   "cell_type": "code",
   "execution_count": 7,
   "id": "e081bcff-f4b5-4758-a1e0-ac36d976d133",
   "metadata": {},
   "outputs": [],
   "source": [
    "region_name = ['Sthlm']\n",
    "df = pd.DataFrame(getData_dict[region_name[0]]['I'])/regions[regions.region == region_name[0]].density.values\n",
    "\n",
    "for j in getData_dict.keys():\n",
    "    if j == region_name[0]:\n",
    "        continue\n",
    "    region_name.append(j)\n",
    "    df_temp = pd.DataFrame(getData_dict[j]['I'])\n",
    "  \n",
    "    df_temp = df_temp/regions[regions.region ==j].density.values\n",
    "    df = pd.concat([df,df_temp], axis = 1)\n",
    " "
   ]
  },
  {
   "cell_type": "code",
   "execution_count": 8,
   "id": "eecbb241-b69a-4119-a29b-c71ef69203d7",
   "metadata": {},
   "outputs": [
    {
     "data": {
      "text/html": [
       "<div>\n",
       "<style scoped>\n",
       "    .dataframe tbody tr th:only-of-type {\n",
       "        vertical-align: middle;\n",
       "    }\n",
       "\n",
       "    .dataframe tbody tr th {\n",
       "        vertical-align: top;\n",
       "    }\n",
       "\n",
       "    .dataframe thead th {\n",
       "        text-align: right;\n",
       "    }\n",
       "</style>\n",
       "<table border=\"1\" class=\"dataframe\">\n",
       "  <thead>\n",
       "    <tr style=\"text-align: right;\">\n",
       "      <th></th>\n",
       "      <th>Sthlm</th>\n",
       "      <th>VGR</th>\n",
       "      <th>Skåne</th>\n",
       "      <th>Östergötland</th>\n",
       "      <th>Jönköping</th>\n",
       "      <th>Södermanland</th>\n",
       "      <th>Uppsala</th>\n",
       "      <th>Gävleborg</th>\n",
       "      <th>Västmanland</th>\n",
       "      <th>Örebro</th>\n",
       "      <th>Norrbotten</th>\n",
       "      <th>Dalarna</th>\n",
       "      <th>Västernorrland</th>\n",
       "      <th>Värmland</th>\n",
       "      <th>Halland</th>\n",
       "      <th>Kalmar</th>\n",
       "      <th>Kronoberg</th>\n",
       "      <th>Västerbotten</th>\n",
       "      <th>Jämtland</th>\n",
       "      <th>Blekinge</th>\n",
       "    </tr>\n",
       "  </thead>\n",
       "  <tbody>\n",
       "    <tr>\n",
       "      <th>0</th>\n",
       "      <td>0.0</td>\n",
       "      <td>0.0</td>\n",
       "      <td>0.0</td>\n",
       "      <td>0.0</td>\n",
       "      <td>0.0</td>\n",
       "      <td>0.0</td>\n",
       "      <td>0.0</td>\n",
       "      <td>0.0</td>\n",
       "      <td>0.0</td>\n",
       "      <td>0.0</td>\n",
       "      <td>0.0</td>\n",
       "      <td>0.0</td>\n",
       "      <td>0.0</td>\n",
       "      <td>0.0</td>\n",
       "      <td>0.0</td>\n",
       "      <td>0.0</td>\n",
       "      <td>0.0</td>\n",
       "      <td>0.0</td>\n",
       "      <td>0.0</td>\n",
       "      <td>0.0</td>\n",
       "    </tr>\n",
       "    <tr>\n",
       "      <th>1</th>\n",
       "      <td>0.0</td>\n",
       "      <td>0.0</td>\n",
       "      <td>0.0</td>\n",
       "      <td>0.0</td>\n",
       "      <td>0.0</td>\n",
       "      <td>0.0</td>\n",
       "      <td>0.0</td>\n",
       "      <td>0.0</td>\n",
       "      <td>0.0</td>\n",
       "      <td>0.0</td>\n",
       "      <td>0.0</td>\n",
       "      <td>0.0</td>\n",
       "      <td>0.0</td>\n",
       "      <td>0.0</td>\n",
       "      <td>0.0</td>\n",
       "      <td>0.0</td>\n",
       "      <td>0.0</td>\n",
       "      <td>0.0</td>\n",
       "      <td>0.0</td>\n",
       "      <td>0.0</td>\n",
       "    </tr>\n",
       "    <tr>\n",
       "      <th>2</th>\n",
       "      <td>0.0</td>\n",
       "      <td>0.0</td>\n",
       "      <td>0.0</td>\n",
       "      <td>0.0</td>\n",
       "      <td>0.0</td>\n",
       "      <td>0.0</td>\n",
       "      <td>0.0</td>\n",
       "      <td>0.0</td>\n",
       "      <td>0.0</td>\n",
       "      <td>0.0</td>\n",
       "      <td>0.0</td>\n",
       "      <td>0.0</td>\n",
       "      <td>0.0</td>\n",
       "      <td>0.0</td>\n",
       "      <td>0.0</td>\n",
       "      <td>0.0</td>\n",
       "      <td>0.0</td>\n",
       "      <td>0.0</td>\n",
       "      <td>0.0</td>\n",
       "      <td>0.0</td>\n",
       "    </tr>\n",
       "    <tr>\n",
       "      <th>3</th>\n",
       "      <td>0.0</td>\n",
       "      <td>0.0</td>\n",
       "      <td>0.0</td>\n",
       "      <td>0.0</td>\n",
       "      <td>0.0</td>\n",
       "      <td>0.0</td>\n",
       "      <td>0.0</td>\n",
       "      <td>0.0</td>\n",
       "      <td>0.0</td>\n",
       "      <td>0.0</td>\n",
       "      <td>0.0</td>\n",
       "      <td>0.0</td>\n",
       "      <td>0.0</td>\n",
       "      <td>0.0</td>\n",
       "      <td>0.0</td>\n",
       "      <td>0.0</td>\n",
       "      <td>0.0</td>\n",
       "      <td>0.0</td>\n",
       "      <td>0.0</td>\n",
       "      <td>0.0</td>\n",
       "    </tr>\n",
       "    <tr>\n",
       "      <th>4</th>\n",
       "      <td>0.101002</td>\n",
       "      <td>0.124111</td>\n",
       "      <td>0.0</td>\n",
       "      <td>0.0</td>\n",
       "      <td>0.0</td>\n",
       "      <td>0.0</td>\n",
       "      <td>0.056002</td>\n",
       "      <td>0.0</td>\n",
       "      <td>0.0</td>\n",
       "      <td>0.0</td>\n",
       "      <td>0.0</td>\n",
       "      <td>0.0</td>\n",
       "      <td>0.0</td>\n",
       "      <td>0.0</td>\n",
       "      <td>0.0</td>\n",
       "      <td>0.0</td>\n",
       "      <td>0.0</td>\n",
       "      <td>0.0</td>\n",
       "      <td>0.0</td>\n",
       "      <td>0.0</td>\n",
       "    </tr>\n",
       "  </tbody>\n",
       "</table>\n",
       "</div>"
      ],
      "text/plain": [
       "      Sthlm       VGR Skåne Östergötland Jönköping Södermanland   Uppsala  \\\n",
       "0       0.0       0.0   0.0          0.0       0.0          0.0       0.0   \n",
       "1       0.0       0.0   0.0          0.0       0.0          0.0       0.0   \n",
       "2       0.0       0.0   0.0          0.0       0.0          0.0       0.0   \n",
       "3       0.0       0.0   0.0          0.0       0.0          0.0       0.0   \n",
       "4  0.101002  0.124111   0.0          0.0       0.0          0.0  0.056002   \n",
       "\n",
       "  Gävleborg Västmanland Örebro Norrbotten Dalarna Västernorrland Värmland  \\\n",
       "0       0.0         0.0    0.0        0.0     0.0            0.0      0.0   \n",
       "1       0.0         0.0    0.0        0.0     0.0            0.0      0.0   \n",
       "2       0.0         0.0    0.0        0.0     0.0            0.0      0.0   \n",
       "3       0.0         0.0    0.0        0.0     0.0            0.0      0.0   \n",
       "4       0.0         0.0    0.0        0.0     0.0            0.0      0.0   \n",
       "\n",
       "  Halland Kalmar Kronoberg Västerbotten Jämtland Blekinge  \n",
       "0     0.0    0.0       0.0          0.0      0.0      0.0  \n",
       "1     0.0    0.0       0.0          0.0      0.0      0.0  \n",
       "2     0.0    0.0       0.0          0.0      0.0      0.0  \n",
       "3     0.0    0.0       0.0          0.0      0.0      0.0  \n",
       "4     0.0    0.0       0.0          0.0      0.0      0.0  "
      ]
     },
     "execution_count": 8,
     "metadata": {},
     "output_type": "execute_result"
    }
   ],
   "source": [
    "df.columns = region_name\n",
    "df.head()"
   ]
  },
  {
   "cell_type": "code",
   "execution_count": 9,
   "id": "beb5beba-be2e-463c-b6c2-0cc904bd2fa2",
   "metadata": {},
   "outputs": [
    {
     "data": {
      "text/html": [
       "<div>\n",
       "<style scoped>\n",
       "    .dataframe tbody tr th:only-of-type {\n",
       "        vertical-align: middle;\n",
       "    }\n",
       "\n",
       "    .dataframe tbody tr th {\n",
       "        vertical-align: top;\n",
       "    }\n",
       "\n",
       "    .dataframe thead th {\n",
       "        text-align: right;\n",
       "    }\n",
       "</style>\n",
       "<table border=\"1\" class=\"dataframe\">\n",
       "  <thead>\n",
       "    <tr style=\"text-align: right;\">\n",
       "      <th></th>\n",
       "      <th>Sthlm</th>\n",
       "      <th>VGR</th>\n",
       "      <th>Skåne</th>\n",
       "      <th>Östergötland</th>\n",
       "      <th>Jönköping</th>\n",
       "      <th>Södermanland</th>\n",
       "      <th>Uppsala</th>\n",
       "      <th>Gävleborg</th>\n",
       "      <th>Västmanland</th>\n",
       "      <th>Örebro</th>\n",
       "      <th>Norrbotten</th>\n",
       "      <th>Dalarna</th>\n",
       "      <th>Västernorrland</th>\n",
       "      <th>Värmland</th>\n",
       "      <th>Halland</th>\n",
       "      <th>Kalmar</th>\n",
       "      <th>Kronoberg</th>\n",
       "      <th>Västerbotten</th>\n",
       "      <th>Jämtland</th>\n",
       "      <th>Blekinge</th>\n",
       "    </tr>\n",
       "  </thead>\n",
       "  <tbody>\n",
       "    <tr>\n",
       "      <th>Sthlm</th>\n",
       "      <td>1.000000</td>\n",
       "      <td>0.843206</td>\n",
       "      <td>0.707943</td>\n",
       "      <td>0.968330</td>\n",
       "      <td>0.911792</td>\n",
       "      <td>0.912002</td>\n",
       "      <td>0.906437</td>\n",
       "      <td>0.851443</td>\n",
       "      <td>0.919852</td>\n",
       "      <td>0.608364</td>\n",
       "      <td>0.916373</td>\n",
       "      <td>0.942713</td>\n",
       "      <td>0.767337</td>\n",
       "      <td>0.609362</td>\n",
       "      <td>0.797345</td>\n",
       "      <td>0.845498</td>\n",
       "      <td>0.634756</td>\n",
       "      <td>0.777421</td>\n",
       "      <td>0.834126</td>\n",
       "      <td>0.277613</td>\n",
       "    </tr>\n",
       "    <tr>\n",
       "      <th>VGR</th>\n",
       "      <td>0.843206</td>\n",
       "      <td>1.000000</td>\n",
       "      <td>0.887548</td>\n",
       "      <td>0.728929</td>\n",
       "      <td>0.583918</td>\n",
       "      <td>0.913086</td>\n",
       "      <td>0.903484</td>\n",
       "      <td>0.892073</td>\n",
       "      <td>0.902264</td>\n",
       "      <td>0.570380</td>\n",
       "      <td>0.880070</td>\n",
       "      <td>0.705631</td>\n",
       "      <td>0.886026</td>\n",
       "      <td>0.854733</td>\n",
       "      <td>0.793608</td>\n",
       "      <td>0.925145</td>\n",
       "      <td>0.855745</td>\n",
       "      <td>0.805349</td>\n",
       "      <td>0.664991</td>\n",
       "      <td>0.540573</td>\n",
       "    </tr>\n",
       "    <tr>\n",
       "      <th>Skåne</th>\n",
       "      <td>0.707943</td>\n",
       "      <td>0.887548</td>\n",
       "      <td>1.000000</td>\n",
       "      <td>0.621677</td>\n",
       "      <td>0.400992</td>\n",
       "      <td>0.826470</td>\n",
       "      <td>0.836551</td>\n",
       "      <td>0.770706</td>\n",
       "      <td>0.844795</td>\n",
       "      <td>0.357385</td>\n",
       "      <td>0.694584</td>\n",
       "      <td>0.537343</td>\n",
       "      <td>0.825453</td>\n",
       "      <td>0.701450</td>\n",
       "      <td>0.634010</td>\n",
       "      <td>0.837116</td>\n",
       "      <td>0.895035</td>\n",
       "      <td>0.708041</td>\n",
       "      <td>0.714445</td>\n",
       "      <td>0.703238</td>\n",
       "    </tr>\n",
       "    <tr>\n",
       "      <th>Östergötland</th>\n",
       "      <td>0.968330</td>\n",
       "      <td>0.728929</td>\n",
       "      <td>0.621677</td>\n",
       "      <td>1.000000</td>\n",
       "      <td>0.949446</td>\n",
       "      <td>0.843867</td>\n",
       "      <td>0.836592</td>\n",
       "      <td>0.758317</td>\n",
       "      <td>0.858380</td>\n",
       "      <td>0.558964</td>\n",
       "      <td>0.861616</td>\n",
       "      <td>0.937252</td>\n",
       "      <td>0.634197</td>\n",
       "      <td>0.456047</td>\n",
       "      <td>0.695051</td>\n",
       "      <td>0.749121</td>\n",
       "      <td>0.519094</td>\n",
       "      <td>0.666688</td>\n",
       "      <td>0.848179</td>\n",
       "      <td>0.214819</td>\n",
       "    </tr>\n",
       "    <tr>\n",
       "      <th>Jönköping</th>\n",
       "      <td>0.911792</td>\n",
       "      <td>0.583918</td>\n",
       "      <td>0.400992</td>\n",
       "      <td>0.949446</td>\n",
       "      <td>1.000000</td>\n",
       "      <td>0.742007</td>\n",
       "      <td>0.728714</td>\n",
       "      <td>0.634586</td>\n",
       "      <td>0.728252</td>\n",
       "      <td>0.546562</td>\n",
       "      <td>0.769218</td>\n",
       "      <td>0.934666</td>\n",
       "      <td>0.496379</td>\n",
       "      <td>0.328326</td>\n",
       "      <td>0.611534</td>\n",
       "      <td>0.626122</td>\n",
       "      <td>0.309441</td>\n",
       "      <td>0.592080</td>\n",
       "      <td>0.726492</td>\n",
       "      <td>0.029500</td>\n",
       "    </tr>\n",
       "    <tr>\n",
       "      <th>Södermanland</th>\n",
       "      <td>0.912002</td>\n",
       "      <td>0.913086</td>\n",
       "      <td>0.826470</td>\n",
       "      <td>0.843867</td>\n",
       "      <td>0.742007</td>\n",
       "      <td>1.000000</td>\n",
       "      <td>0.935397</td>\n",
       "      <td>0.890879</td>\n",
       "      <td>0.919812</td>\n",
       "      <td>0.666803</td>\n",
       "      <td>0.861836</td>\n",
       "      <td>0.819782</td>\n",
       "      <td>0.839591</td>\n",
       "      <td>0.734929</td>\n",
       "      <td>0.810330</td>\n",
       "      <td>0.888893</td>\n",
       "      <td>0.747598</td>\n",
       "      <td>0.818094</td>\n",
       "      <td>0.757545</td>\n",
       "      <td>0.496441</td>\n",
       "    </tr>\n",
       "    <tr>\n",
       "      <th>Uppsala</th>\n",
       "      <td>0.906437</td>\n",
       "      <td>0.903484</td>\n",
       "      <td>0.836551</td>\n",
       "      <td>0.836592</td>\n",
       "      <td>0.728714</td>\n",
       "      <td>0.935397</td>\n",
       "      <td>1.000000</td>\n",
       "      <td>0.834167</td>\n",
       "      <td>0.951433</td>\n",
       "      <td>0.563244</td>\n",
       "      <td>0.822067</td>\n",
       "      <td>0.805795</td>\n",
       "      <td>0.879517</td>\n",
       "      <td>0.724591</td>\n",
       "      <td>0.791194</td>\n",
       "      <td>0.910907</td>\n",
       "      <td>0.725122</td>\n",
       "      <td>0.833061</td>\n",
       "      <td>0.812731</td>\n",
       "      <td>0.496166</td>\n",
       "    </tr>\n",
       "    <tr>\n",
       "      <th>Gävleborg</th>\n",
       "      <td>0.851443</td>\n",
       "      <td>0.892073</td>\n",
       "      <td>0.770706</td>\n",
       "      <td>0.758317</td>\n",
       "      <td>0.634586</td>\n",
       "      <td>0.890879</td>\n",
       "      <td>0.834167</td>\n",
       "      <td>1.000000</td>\n",
       "      <td>0.888467</td>\n",
       "      <td>0.611241</td>\n",
       "      <td>0.894599</td>\n",
       "      <td>0.780226</td>\n",
       "      <td>0.822392</td>\n",
       "      <td>0.799760</td>\n",
       "      <td>0.880823</td>\n",
       "      <td>0.863245</td>\n",
       "      <td>0.827918</td>\n",
       "      <td>0.790691</td>\n",
       "      <td>0.698229</td>\n",
       "      <td>0.388709</td>\n",
       "    </tr>\n",
       "    <tr>\n",
       "      <th>Västmanland</th>\n",
       "      <td>0.919852</td>\n",
       "      <td>0.902264</td>\n",
       "      <td>0.844795</td>\n",
       "      <td>0.858380</td>\n",
       "      <td>0.728252</td>\n",
       "      <td>0.919812</td>\n",
       "      <td>0.951433</td>\n",
       "      <td>0.888467</td>\n",
       "      <td>1.000000</td>\n",
       "      <td>0.591124</td>\n",
       "      <td>0.874052</td>\n",
       "      <td>0.816632</td>\n",
       "      <td>0.876964</td>\n",
       "      <td>0.703475</td>\n",
       "      <td>0.832255</td>\n",
       "      <td>0.882670</td>\n",
       "      <td>0.768168</td>\n",
       "      <td>0.795805</td>\n",
       "      <td>0.850684</td>\n",
       "      <td>0.471452</td>\n",
       "    </tr>\n",
       "    <tr>\n",
       "      <th>Örebro</th>\n",
       "      <td>0.608364</td>\n",
       "      <td>0.570380</td>\n",
       "      <td>0.357385</td>\n",
       "      <td>0.558964</td>\n",
       "      <td>0.546562</td>\n",
       "      <td>0.666803</td>\n",
       "      <td>0.563244</td>\n",
       "      <td>0.611241</td>\n",
       "      <td>0.591124</td>\n",
       "      <td>1.000000</td>\n",
       "      <td>0.661141</td>\n",
       "      <td>0.610308</td>\n",
       "      <td>0.579358</td>\n",
       "      <td>0.611706</td>\n",
       "      <td>0.725711</td>\n",
       "      <td>0.523089</td>\n",
       "      <td>0.391109</td>\n",
       "      <td>0.514327</td>\n",
       "      <td>0.427815</td>\n",
       "      <td>0.262842</td>\n",
       "    </tr>\n",
       "    <tr>\n",
       "      <th>Norrbotten</th>\n",
       "      <td>0.916373</td>\n",
       "      <td>0.880070</td>\n",
       "      <td>0.694584</td>\n",
       "      <td>0.861616</td>\n",
       "      <td>0.769218</td>\n",
       "      <td>0.861836</td>\n",
       "      <td>0.822067</td>\n",
       "      <td>0.894599</td>\n",
       "      <td>0.874052</td>\n",
       "      <td>0.661141</td>\n",
       "      <td>1.000000</td>\n",
       "      <td>0.853454</td>\n",
       "      <td>0.745972</td>\n",
       "      <td>0.691169</td>\n",
       "      <td>0.819275</td>\n",
       "      <td>0.850870</td>\n",
       "      <td>0.718718</td>\n",
       "      <td>0.728830</td>\n",
       "      <td>0.707527</td>\n",
       "      <td>0.232418</td>\n",
       "    </tr>\n",
       "    <tr>\n",
       "      <th>Dalarna</th>\n",
       "      <td>0.942713</td>\n",
       "      <td>0.705631</td>\n",
       "      <td>0.537343</td>\n",
       "      <td>0.937252</td>\n",
       "      <td>0.934666</td>\n",
       "      <td>0.819782</td>\n",
       "      <td>0.805795</td>\n",
       "      <td>0.780226</td>\n",
       "      <td>0.816632</td>\n",
       "      <td>0.610308</td>\n",
       "      <td>0.853454</td>\n",
       "      <td>1.000000</td>\n",
       "      <td>0.650920</td>\n",
       "      <td>0.501506</td>\n",
       "      <td>0.772855</td>\n",
       "      <td>0.731055</td>\n",
       "      <td>0.510102</td>\n",
       "      <td>0.754358</td>\n",
       "      <td>0.761065</td>\n",
       "      <td>0.101755</td>\n",
       "    </tr>\n",
       "    <tr>\n",
       "      <th>Västernorrland</th>\n",
       "      <td>0.767337</td>\n",
       "      <td>0.886026</td>\n",
       "      <td>0.825453</td>\n",
       "      <td>0.634197</td>\n",
       "      <td>0.496379</td>\n",
       "      <td>0.839591</td>\n",
       "      <td>0.879517</td>\n",
       "      <td>0.822392</td>\n",
       "      <td>0.876964</td>\n",
       "      <td>0.579358</td>\n",
       "      <td>0.745972</td>\n",
       "      <td>0.650920</td>\n",
       "      <td>1.000000</td>\n",
       "      <td>0.820663</td>\n",
       "      <td>0.802359</td>\n",
       "      <td>0.835250</td>\n",
       "      <td>0.777589</td>\n",
       "      <td>0.870798</td>\n",
       "      <td>0.690680</td>\n",
       "      <td>0.518825</td>\n",
       "    </tr>\n",
       "    <tr>\n",
       "      <th>Värmland</th>\n",
       "      <td>0.609362</td>\n",
       "      <td>0.854733</td>\n",
       "      <td>0.701450</td>\n",
       "      <td>0.456047</td>\n",
       "      <td>0.328326</td>\n",
       "      <td>0.734929</td>\n",
       "      <td>0.724591</td>\n",
       "      <td>0.799760</td>\n",
       "      <td>0.703475</td>\n",
       "      <td>0.611706</td>\n",
       "      <td>0.691169</td>\n",
       "      <td>0.501506</td>\n",
       "      <td>0.820663</td>\n",
       "      <td>1.000000</td>\n",
       "      <td>0.812259</td>\n",
       "      <td>0.787782</td>\n",
       "      <td>0.729781</td>\n",
       "      <td>0.722971</td>\n",
       "      <td>0.453676</td>\n",
       "      <td>0.507816</td>\n",
       "    </tr>\n",
       "    <tr>\n",
       "      <th>Halland</th>\n",
       "      <td>0.797345</td>\n",
       "      <td>0.793608</td>\n",
       "      <td>0.634010</td>\n",
       "      <td>0.695051</td>\n",
       "      <td>0.611534</td>\n",
       "      <td>0.810330</td>\n",
       "      <td>0.791194</td>\n",
       "      <td>0.880823</td>\n",
       "      <td>0.832255</td>\n",
       "      <td>0.725711</td>\n",
       "      <td>0.819275</td>\n",
       "      <td>0.772855</td>\n",
       "      <td>0.802359</td>\n",
       "      <td>0.812259</td>\n",
       "      <td>1.000000</td>\n",
       "      <td>0.792871</td>\n",
       "      <td>0.690111</td>\n",
       "      <td>0.780991</td>\n",
       "      <td>0.650033</td>\n",
       "      <td>0.283883</td>\n",
       "    </tr>\n",
       "    <tr>\n",
       "      <th>Kalmar</th>\n",
       "      <td>0.845498</td>\n",
       "      <td>0.925145</td>\n",
       "      <td>0.837116</td>\n",
       "      <td>0.749121</td>\n",
       "      <td>0.626122</td>\n",
       "      <td>0.888893</td>\n",
       "      <td>0.910907</td>\n",
       "      <td>0.863245</td>\n",
       "      <td>0.882670</td>\n",
       "      <td>0.523089</td>\n",
       "      <td>0.850870</td>\n",
       "      <td>0.731055</td>\n",
       "      <td>0.835250</td>\n",
       "      <td>0.787782</td>\n",
       "      <td>0.792871</td>\n",
       "      <td>1.000000</td>\n",
       "      <td>0.767799</td>\n",
       "      <td>0.795039</td>\n",
       "      <td>0.721932</td>\n",
       "      <td>0.414061</td>\n",
       "    </tr>\n",
       "    <tr>\n",
       "      <th>Kronoberg</th>\n",
       "      <td>0.634756</td>\n",
       "      <td>0.855745</td>\n",
       "      <td>0.895035</td>\n",
       "      <td>0.519094</td>\n",
       "      <td>0.309441</td>\n",
       "      <td>0.747598</td>\n",
       "      <td>0.725122</td>\n",
       "      <td>0.827918</td>\n",
       "      <td>0.768168</td>\n",
       "      <td>0.391109</td>\n",
       "      <td>0.718718</td>\n",
       "      <td>0.510102</td>\n",
       "      <td>0.777589</td>\n",
       "      <td>0.729781</td>\n",
       "      <td>0.690111</td>\n",
       "      <td>0.767799</td>\n",
       "      <td>1.000000</td>\n",
       "      <td>0.673835</td>\n",
       "      <td>0.556837</td>\n",
       "      <td>0.612768</td>\n",
       "    </tr>\n",
       "    <tr>\n",
       "      <th>Västerbotten</th>\n",
       "      <td>0.777421</td>\n",
       "      <td>0.805349</td>\n",
       "      <td>0.708041</td>\n",
       "      <td>0.666688</td>\n",
       "      <td>0.592080</td>\n",
       "      <td>0.818094</td>\n",
       "      <td>0.833061</td>\n",
       "      <td>0.790691</td>\n",
       "      <td>0.795805</td>\n",
       "      <td>0.514327</td>\n",
       "      <td>0.728830</td>\n",
       "      <td>0.754358</td>\n",
       "      <td>0.870798</td>\n",
       "      <td>0.722971</td>\n",
       "      <td>0.780991</td>\n",
       "      <td>0.795039</td>\n",
       "      <td>0.673835</td>\n",
       "      <td>1.000000</td>\n",
       "      <td>0.654880</td>\n",
       "      <td>0.312321</td>\n",
       "    </tr>\n",
       "    <tr>\n",
       "      <th>Jämtland</th>\n",
       "      <td>0.834126</td>\n",
       "      <td>0.664991</td>\n",
       "      <td>0.714445</td>\n",
       "      <td>0.848179</td>\n",
       "      <td>0.726492</td>\n",
       "      <td>0.757545</td>\n",
       "      <td>0.812731</td>\n",
       "      <td>0.698229</td>\n",
       "      <td>0.850684</td>\n",
       "      <td>0.427815</td>\n",
       "      <td>0.707527</td>\n",
       "      <td>0.761065</td>\n",
       "      <td>0.690680</td>\n",
       "      <td>0.453676</td>\n",
       "      <td>0.650033</td>\n",
       "      <td>0.721932</td>\n",
       "      <td>0.556837</td>\n",
       "      <td>0.654880</td>\n",
       "      <td>1.000000</td>\n",
       "      <td>0.311147</td>\n",
       "    </tr>\n",
       "    <tr>\n",
       "      <th>Blekinge</th>\n",
       "      <td>0.277613</td>\n",
       "      <td>0.540573</td>\n",
       "      <td>0.703238</td>\n",
       "      <td>0.214819</td>\n",
       "      <td>0.029500</td>\n",
       "      <td>0.496441</td>\n",
       "      <td>0.496166</td>\n",
       "      <td>0.388709</td>\n",
       "      <td>0.471452</td>\n",
       "      <td>0.262842</td>\n",
       "      <td>0.232418</td>\n",
       "      <td>0.101755</td>\n",
       "      <td>0.518825</td>\n",
       "      <td>0.507816</td>\n",
       "      <td>0.283883</td>\n",
       "      <td>0.414061</td>\n",
       "      <td>0.612768</td>\n",
       "      <td>0.312321</td>\n",
       "      <td>0.311147</td>\n",
       "      <td>1.000000</td>\n",
       "    </tr>\n",
       "  </tbody>\n",
       "</table>\n",
       "</div>"
      ],
      "text/plain": [
       "                   Sthlm       VGR     Skåne  Östergötland  Jönköping  \\\n",
       "Sthlm           1.000000  0.843206  0.707943      0.968330   0.911792   \n",
       "VGR             0.843206  1.000000  0.887548      0.728929   0.583918   \n",
       "Skåne           0.707943  0.887548  1.000000      0.621677   0.400992   \n",
       "Östergötland    0.968330  0.728929  0.621677      1.000000   0.949446   \n",
       "Jönköping       0.911792  0.583918  0.400992      0.949446   1.000000   \n",
       "Södermanland    0.912002  0.913086  0.826470      0.843867   0.742007   \n",
       "Uppsala         0.906437  0.903484  0.836551      0.836592   0.728714   \n",
       "Gävleborg       0.851443  0.892073  0.770706      0.758317   0.634586   \n",
       "Västmanland     0.919852  0.902264  0.844795      0.858380   0.728252   \n",
       "Örebro          0.608364  0.570380  0.357385      0.558964   0.546562   \n",
       "Norrbotten      0.916373  0.880070  0.694584      0.861616   0.769218   \n",
       "Dalarna         0.942713  0.705631  0.537343      0.937252   0.934666   \n",
       "Västernorrland  0.767337  0.886026  0.825453      0.634197   0.496379   \n",
       "Värmland        0.609362  0.854733  0.701450      0.456047   0.328326   \n",
       "Halland         0.797345  0.793608  0.634010      0.695051   0.611534   \n",
       "Kalmar          0.845498  0.925145  0.837116      0.749121   0.626122   \n",
       "Kronoberg       0.634756  0.855745  0.895035      0.519094   0.309441   \n",
       "Västerbotten    0.777421  0.805349  0.708041      0.666688   0.592080   \n",
       "Jämtland        0.834126  0.664991  0.714445      0.848179   0.726492   \n",
       "Blekinge        0.277613  0.540573  0.703238      0.214819   0.029500   \n",
       "\n",
       "                Södermanland   Uppsala  Gävleborg  Västmanland    Örebro  \\\n",
       "Sthlm               0.912002  0.906437   0.851443     0.919852  0.608364   \n",
       "VGR                 0.913086  0.903484   0.892073     0.902264  0.570380   \n",
       "Skåne               0.826470  0.836551   0.770706     0.844795  0.357385   \n",
       "Östergötland        0.843867  0.836592   0.758317     0.858380  0.558964   \n",
       "Jönköping           0.742007  0.728714   0.634586     0.728252  0.546562   \n",
       "Södermanland        1.000000  0.935397   0.890879     0.919812  0.666803   \n",
       "Uppsala             0.935397  1.000000   0.834167     0.951433  0.563244   \n",
       "Gävleborg           0.890879  0.834167   1.000000     0.888467  0.611241   \n",
       "Västmanland         0.919812  0.951433   0.888467     1.000000  0.591124   \n",
       "Örebro              0.666803  0.563244   0.611241     0.591124  1.000000   \n",
       "Norrbotten          0.861836  0.822067   0.894599     0.874052  0.661141   \n",
       "Dalarna             0.819782  0.805795   0.780226     0.816632  0.610308   \n",
       "Västernorrland      0.839591  0.879517   0.822392     0.876964  0.579358   \n",
       "Värmland            0.734929  0.724591   0.799760     0.703475  0.611706   \n",
       "Halland             0.810330  0.791194   0.880823     0.832255  0.725711   \n",
       "Kalmar              0.888893  0.910907   0.863245     0.882670  0.523089   \n",
       "Kronoberg           0.747598  0.725122   0.827918     0.768168  0.391109   \n",
       "Västerbotten        0.818094  0.833061   0.790691     0.795805  0.514327   \n",
       "Jämtland            0.757545  0.812731   0.698229     0.850684  0.427815   \n",
       "Blekinge            0.496441  0.496166   0.388709     0.471452  0.262842   \n",
       "\n",
       "                Norrbotten   Dalarna  Västernorrland  Värmland   Halland  \\\n",
       "Sthlm             0.916373  0.942713        0.767337  0.609362  0.797345   \n",
       "VGR               0.880070  0.705631        0.886026  0.854733  0.793608   \n",
       "Skåne             0.694584  0.537343        0.825453  0.701450  0.634010   \n",
       "Östergötland      0.861616  0.937252        0.634197  0.456047  0.695051   \n",
       "Jönköping         0.769218  0.934666        0.496379  0.328326  0.611534   \n",
       "Södermanland      0.861836  0.819782        0.839591  0.734929  0.810330   \n",
       "Uppsala           0.822067  0.805795        0.879517  0.724591  0.791194   \n",
       "Gävleborg         0.894599  0.780226        0.822392  0.799760  0.880823   \n",
       "Västmanland       0.874052  0.816632        0.876964  0.703475  0.832255   \n",
       "Örebro            0.661141  0.610308        0.579358  0.611706  0.725711   \n",
       "Norrbotten        1.000000  0.853454        0.745972  0.691169  0.819275   \n",
       "Dalarna           0.853454  1.000000        0.650920  0.501506  0.772855   \n",
       "Västernorrland    0.745972  0.650920        1.000000  0.820663  0.802359   \n",
       "Värmland          0.691169  0.501506        0.820663  1.000000  0.812259   \n",
       "Halland           0.819275  0.772855        0.802359  0.812259  1.000000   \n",
       "Kalmar            0.850870  0.731055        0.835250  0.787782  0.792871   \n",
       "Kronoberg         0.718718  0.510102        0.777589  0.729781  0.690111   \n",
       "Västerbotten      0.728830  0.754358        0.870798  0.722971  0.780991   \n",
       "Jämtland          0.707527  0.761065        0.690680  0.453676  0.650033   \n",
       "Blekinge          0.232418  0.101755        0.518825  0.507816  0.283883   \n",
       "\n",
       "                  Kalmar  Kronoberg  Västerbotten  Jämtland  Blekinge  \n",
       "Sthlm           0.845498   0.634756      0.777421  0.834126  0.277613  \n",
       "VGR             0.925145   0.855745      0.805349  0.664991  0.540573  \n",
       "Skåne           0.837116   0.895035      0.708041  0.714445  0.703238  \n",
       "Östergötland    0.749121   0.519094      0.666688  0.848179  0.214819  \n",
       "Jönköping       0.626122   0.309441      0.592080  0.726492  0.029500  \n",
       "Södermanland    0.888893   0.747598      0.818094  0.757545  0.496441  \n",
       "Uppsala         0.910907   0.725122      0.833061  0.812731  0.496166  \n",
       "Gävleborg       0.863245   0.827918      0.790691  0.698229  0.388709  \n",
       "Västmanland     0.882670   0.768168      0.795805  0.850684  0.471452  \n",
       "Örebro          0.523089   0.391109      0.514327  0.427815  0.262842  \n",
       "Norrbotten      0.850870   0.718718      0.728830  0.707527  0.232418  \n",
       "Dalarna         0.731055   0.510102      0.754358  0.761065  0.101755  \n",
       "Västernorrland  0.835250   0.777589      0.870798  0.690680  0.518825  \n",
       "Värmland        0.787782   0.729781      0.722971  0.453676  0.507816  \n",
       "Halland         0.792871   0.690111      0.780991  0.650033  0.283883  \n",
       "Kalmar          1.000000   0.767799      0.795039  0.721932  0.414061  \n",
       "Kronoberg       0.767799   1.000000      0.673835  0.556837  0.612768  \n",
       "Västerbotten    0.795039   0.673835      1.000000  0.654880  0.312321  \n",
       "Jämtland        0.721932   0.556837      0.654880  1.000000  0.311147  \n",
       "Blekinge        0.414061   0.612768      0.312321  0.311147  1.000000  "
      ]
     },
     "execution_count": 9,
     "metadata": {},
     "output_type": "execute_result"
    }
   ],
   "source": [
    "df.corr()"
   ]
  },
  {
   "cell_type": "code",
   "execution_count": 10,
   "id": "b14e1483-a38e-49b5-b001-60397229e9b7",
   "metadata": {},
   "outputs": [
    {
     "data": {
      "image/png": "[encoded data removed]",
      "text/plain": [
       "<Figure size 1200x800 with 2 Axes>"
      ]
     },
     "metadata": {},
     "output_type": "display_data"
    }
   ],
   "source": [
    "import seaborn as sns\n",
    "\n",
    "\n",
    "corr = df.corr()\n",
    "\n",
    "# Set up the matplotlib figure\n",
    "plt.figure(figsize=(12, 8))\n",
    "\n",
    "# Generate a custom diverging colormap\n",
    "cmap = sns.diverging_palette(220, 20, as_cmap=True)\n",
    "\n",
    "# Draw the heatmap\n",
    "sns.heatmap(\n",
    "    corr,\n",
    "    cmap=cmap,\n",
    "           # show correlation coefficients\n",
    "    fmt=\".2f\",        # format for annotations\n",
    "    linewidths=0.5,   # space between cells\n",
    "    square=True,      # keep the cells square\n",
    "    cbar_kws={\"shrink\": 0.75},  # color bar size\n",
    "    center=0   ,\n",
    "    annot_kws={\"size\": 8}       # center the colormap at zero\n",
    ")\n",
    "\n",
    "# Add title and tweak layout\n",
    "plt.title('Correlation Heatmap', fontsize=16)\n",
    "plt.xticks(fontsize=12)\n",
    "plt.yticks(fontsize=12)\n",
    "plt.tight_layout()\n",
    "plt.savefig(\"../data/correlation_heatmap.svg\", format=\"svg\")\n",
    "\n",
    "# Display the plot\n",
    "plt.show()"
   ]
  },
  {
   "cell_type": "code",
   "execution_count": 11,
   "id": "a9e2031f-3829-4a48-bfe1-f5f3793035d5",
   "metadata": {},
   "outputs": [
    {
     "data": {
      "text/html": [
       "<div>\n",
       "<style scoped>\n",
       "    .dataframe tbody tr th:only-of-type {\n",
       "        vertical-align: middle;\n",
       "    }\n",
       "\n",
       "    .dataframe tbody tr th {\n",
       "        vertical-align: top;\n",
       "    }\n",
       "\n",
       "    .dataframe thead th {\n",
       "        text-align: right;\n",
       "    }\n",
       "</style>\n",
       "<table border=\"1\" class=\"dataframe\">\n",
       "  <thead>\n",
       "    <tr style=\"text-align: right;\">\n",
       "      <th></th>\n",
       "      <th>Sthlm</th>\n",
       "    </tr>\n",
       "  </thead>\n",
       "  <tbody>\n",
       "    <tr>\n",
       "      <th>Sthlm</th>\n",
       "      <td>1.000000</td>\n",
       "    </tr>\n",
       "    <tr>\n",
       "      <th>Östergötland</th>\n",
       "      <td>0.968330</td>\n",
       "    </tr>\n",
       "    <tr>\n",
       "      <th>Dalarna</th>\n",
       "      <td>0.942713</td>\n",
       "    </tr>\n",
       "    <tr>\n",
       "      <th>Västmanland</th>\n",
       "      <td>0.919852</td>\n",
       "    </tr>\n",
       "    <tr>\n",
       "      <th>Norrbotten</th>\n",
       "      <td>0.916373</td>\n",
       "    </tr>\n",
       "    <tr>\n",
       "      <th>Södermanland</th>\n",
       "      <td>0.912002</td>\n",
       "    </tr>\n",
       "    <tr>\n",
       "      <th>Jönköping</th>\n",
       "      <td>0.911792</td>\n",
       "    </tr>\n",
       "    <tr>\n",
       "      <th>Uppsala</th>\n",
       "      <td>0.906437</td>\n",
       "    </tr>\n",
       "    <tr>\n",
       "      <th>Gävleborg</th>\n",
       "      <td>0.851443</td>\n",
       "    </tr>\n",
       "    <tr>\n",
       "      <th>Kalmar</th>\n",
       "      <td>0.845498</td>\n",
       "    </tr>\n",
       "    <tr>\n",
       "      <th>VGR</th>\n",
       "      <td>0.843206</td>\n",
       "    </tr>\n",
       "    <tr>\n",
       "      <th>Jämtland</th>\n",
       "      <td>0.834126</td>\n",
       "    </tr>\n",
       "    <tr>\n",
       "      <th>Halland</th>\n",
       "      <td>0.797345</td>\n",
       "    </tr>\n",
       "    <tr>\n",
       "      <th>Västerbotten</th>\n",
       "      <td>0.777421</td>\n",
       "    </tr>\n",
       "    <tr>\n",
       "      <th>Västernorrland</th>\n",
       "      <td>0.767337</td>\n",
       "    </tr>\n",
       "    <tr>\n",
       "      <th>Skåne</th>\n",
       "      <td>0.707943</td>\n",
       "    </tr>\n",
       "    <tr>\n",
       "      <th>Kronoberg</th>\n",
       "      <td>0.634756</td>\n",
       "    </tr>\n",
       "    <tr>\n",
       "      <th>Värmland</th>\n",
       "      <td>0.609362</td>\n",
       "    </tr>\n",
       "    <tr>\n",
       "      <th>Örebro</th>\n",
       "      <td>0.608364</td>\n",
       "    </tr>\n",
       "    <tr>\n",
       "      <th>Blekinge</th>\n",
       "      <td>0.277613</td>\n",
       "    </tr>\n",
       "  </tbody>\n",
       "</table>\n",
       "</div>"
      ],
      "text/plain": [
       "                   Sthlm\n",
       "Sthlm           1.000000\n",
       "Östergötland    0.968330\n",
       "Dalarna         0.942713\n",
       "Västmanland     0.919852\n",
       "Norrbotten      0.916373\n",
       "Södermanland    0.912002\n",
       "Jönköping       0.911792\n",
       "Uppsala         0.906437\n",
       "Gävleborg       0.851443\n",
       "Kalmar          0.845498\n",
       "VGR             0.843206\n",
       "Jämtland        0.834126\n",
       "Halland         0.797345\n",
       "Västerbotten    0.777421\n",
       "Västernorrland  0.767337\n",
       "Skåne           0.707943\n",
       "Kronoberg       0.634756\n",
       "Värmland        0.609362\n",
       "Örebro          0.608364\n",
       "Blekinge        0.277613"
      ]
     },
     "execution_count": 11,
     "metadata": {},
     "output_type": "execute_result"
    }
   ],
   "source": [
    "df_Sthlm = pd.DataFrame(df.corr().loc['Sthlm']).sort_values(by = 'Sthlm', ascending=False)\n",
    "df_Sthlm"
   ]
  },
  {
   "cell_type": "code",
   "execution_count": 12,
   "id": "afe13041-7d60-4134-9a21-da4c1db22352",
   "metadata": {},
   "outputs": [
    {
     "data": {
      "text/html": [
       "<div>\n",
       "<style scoped>\n",
       "    .dataframe tbody tr th:only-of-type {\n",
       "        vertical-align: middle;\n",
       "    }\n",
       "\n",
       "    .dataframe tbody tr th {\n",
       "        vertical-align: top;\n",
       "    }\n",
       "\n",
       "    .dataframe thead th {\n",
       "        text-align: right;\n",
       "    }\n",
       "</style>\n",
       "<table border=\"1\" class=\"dataframe\">\n",
       "  <thead>\n",
       "    <tr style=\"text-align: right;\">\n",
       "      <th></th>\n",
       "      <th>Skåne</th>\n",
       "    </tr>\n",
       "  </thead>\n",
       "  <tbody>\n",
       "    <tr>\n",
       "      <th>Skåne</th>\n",
       "      <td>1.000000</td>\n",
       "    </tr>\n",
       "    <tr>\n",
       "      <th>Kronoberg</th>\n",
       "      <td>0.895035</td>\n",
       "    </tr>\n",
       "    <tr>\n",
       "      <th>VGR</th>\n",
       "      <td>0.887548</td>\n",
       "    </tr>\n",
       "    <tr>\n",
       "      <th>Västmanland</th>\n",
       "      <td>0.844795</td>\n",
       "    </tr>\n",
       "    <tr>\n",
       "      <th>Kalmar</th>\n",
       "      <td>0.837116</td>\n",
       "    </tr>\n",
       "    <tr>\n",
       "      <th>Uppsala</th>\n",
       "      <td>0.836551</td>\n",
       "    </tr>\n",
       "    <tr>\n",
       "      <th>Södermanland</th>\n",
       "      <td>0.826470</td>\n",
       "    </tr>\n",
       "    <tr>\n",
       "      <th>Västernorrland</th>\n",
       "      <td>0.825453</td>\n",
       "    </tr>\n",
       "    <tr>\n",
       "      <th>Gävleborg</th>\n",
       "      <td>0.770706</td>\n",
       "    </tr>\n",
       "    <tr>\n",
       "      <th>Jämtland</th>\n",
       "      <td>0.714445</td>\n",
       "    </tr>\n",
       "    <tr>\n",
       "      <th>Västerbotten</th>\n",
       "      <td>0.708041</td>\n",
       "    </tr>\n",
       "    <tr>\n",
       "      <th>Sthlm</th>\n",
       "      <td>0.707943</td>\n",
       "    </tr>\n",
       "    <tr>\n",
       "      <th>Blekinge</th>\n",
       "      <td>0.703238</td>\n",
       "    </tr>\n",
       "    <tr>\n",
       "      <th>Värmland</th>\n",
       "      <td>0.701450</td>\n",
       "    </tr>\n",
       "    <tr>\n",
       "      <th>Norrbotten</th>\n",
       "      <td>0.694584</td>\n",
       "    </tr>\n",
       "    <tr>\n",
       "      <th>Halland</th>\n",
       "      <td>0.634010</td>\n",
       "    </tr>\n",
       "    <tr>\n",
       "      <th>Östergötland</th>\n",
       "      <td>0.621677</td>\n",
       "    </tr>\n",
       "    <tr>\n",
       "      <th>Dalarna</th>\n",
       "      <td>0.537343</td>\n",
       "    </tr>\n",
       "    <tr>\n",
       "      <th>Jönköping</th>\n",
       "      <td>0.400992</td>\n",
       "    </tr>\n",
       "    <tr>\n",
       "      <th>Örebro</th>\n",
       "      <td>0.357385</td>\n",
       "    </tr>\n",
       "  </tbody>\n",
       "</table>\n",
       "</div>"
      ],
      "text/plain": [
       "                   Skåne\n",
       "Skåne           1.000000\n",
       "Kronoberg       0.895035\n",
       "VGR             0.887548\n",
       "Västmanland     0.844795\n",
       "Kalmar          0.837116\n",
       "Uppsala         0.836551\n",
       "Södermanland    0.826470\n",
       "Västernorrland  0.825453\n",
       "Gävleborg       0.770706\n",
       "Jämtland        0.714445\n",
       "Västerbotten    0.708041\n",
       "Sthlm           0.707943\n",
       "Blekinge        0.703238\n",
       "Värmland        0.701450\n",
       "Norrbotten      0.694584\n",
       "Halland         0.634010\n",
       "Östergötland    0.621677\n",
       "Dalarna         0.537343\n",
       "Jönköping       0.400992\n",
       "Örebro          0.357385"
      ]
     },
     "execution_count": 12,
     "metadata": {},
     "output_type": "execute_result"
    }
   ],
   "source": [
    "df_Skåne= pd.DataFrame(df.corr().loc['Skåne']).sort_values(by = 'Skåne', ascending=False)\n",
    "df_Skåne"
   ]
  },
  {
   "cell_type": "code",
   "execution_count": 13,
   "id": "018a019a-accd-4651-a9a1-65d0a64c9961",
   "metadata": {},
   "outputs": [
    {
     "data": {
      "text/html": [
       "<div>\n",
       "<style scoped>\n",
       "    .dataframe tbody tr th:only-of-type {\n",
       "        vertical-align: middle;\n",
       "    }\n",
       "\n",
       "    .dataframe tbody tr th {\n",
       "        vertical-align: top;\n",
       "    }\n",
       "\n",
       "    .dataframe thead th {\n",
       "        text-align: right;\n",
       "    }\n",
       "</style>\n",
       "<table border=\"1\" class=\"dataframe\">\n",
       "  <thead>\n",
       "    <tr style=\"text-align: right;\">\n",
       "      <th></th>\n",
       "      <th>Uppsala</th>\n",
       "    </tr>\n",
       "  </thead>\n",
       "  <tbody>\n",
       "    <tr>\n",
       "      <th>Uppsala</th>\n",
       "      <td>1.000000</td>\n",
       "    </tr>\n",
       "    <tr>\n",
       "      <th>Västmanland</th>\n",
       "      <td>0.951433</td>\n",
       "    </tr>\n",
       "    <tr>\n",
       "      <th>Södermanland</th>\n",
       "      <td>0.935397</td>\n",
       "    </tr>\n",
       "    <tr>\n",
       "      <th>Kalmar</th>\n",
       "      <td>0.910907</td>\n",
       "    </tr>\n",
       "    <tr>\n",
       "      <th>Sthlm</th>\n",
       "      <td>0.906437</td>\n",
       "    </tr>\n",
       "    <tr>\n",
       "      <th>VGR</th>\n",
       "      <td>0.903484</td>\n",
       "    </tr>\n",
       "    <tr>\n",
       "      <th>Västernorrland</th>\n",
       "      <td>0.879517</td>\n",
       "    </tr>\n",
       "    <tr>\n",
       "      <th>Östergötland</th>\n",
       "      <td>0.836592</td>\n",
       "    </tr>\n",
       "    <tr>\n",
       "      <th>Skåne</th>\n",
       "      <td>0.836551</td>\n",
       "    </tr>\n",
       "    <tr>\n",
       "      <th>Gävleborg</th>\n",
       "      <td>0.834167</td>\n",
       "    </tr>\n",
       "    <tr>\n",
       "      <th>Västerbotten</th>\n",
       "      <td>0.833061</td>\n",
       "    </tr>\n",
       "    <tr>\n",
       "      <th>Norrbotten</th>\n",
       "      <td>0.822067</td>\n",
       "    </tr>\n",
       "    <tr>\n",
       "      <th>Jämtland</th>\n",
       "      <td>0.812731</td>\n",
       "    </tr>\n",
       "    <tr>\n",
       "      <th>Dalarna</th>\n",
       "      <td>0.805795</td>\n",
       "    </tr>\n",
       "    <tr>\n",
       "      <th>Halland</th>\n",
       "      <td>0.791194</td>\n",
       "    </tr>\n",
       "    <tr>\n",
       "      <th>Jönköping</th>\n",
       "      <td>0.728714</td>\n",
       "    </tr>\n",
       "    <tr>\n",
       "      <th>Kronoberg</th>\n",
       "      <td>0.725122</td>\n",
       "    </tr>\n",
       "    <tr>\n",
       "      <th>Värmland</th>\n",
       "      <td>0.724591</td>\n",
       "    </tr>\n",
       "    <tr>\n",
       "      <th>Örebro</th>\n",
       "      <td>0.563244</td>\n",
       "    </tr>\n",
       "    <tr>\n",
       "      <th>Blekinge</th>\n",
       "      <td>0.496166</td>\n",
       "    </tr>\n",
       "  </tbody>\n",
       "</table>\n",
       "</div>"
      ],
      "text/plain": [
       "                 Uppsala\n",
       "Uppsala         1.000000\n",
       "Västmanland     0.951433\n",
       "Södermanland    0.935397\n",
       "Kalmar          0.910907\n",
       "Sthlm           0.906437\n",
       "VGR             0.903484\n",
       "Västernorrland  0.879517\n",
       "Östergötland    0.836592\n",
       "Skåne           0.836551\n",
       "Gävleborg       0.834167\n",
       "Västerbotten    0.833061\n",
       "Norrbotten      0.822067\n",
       "Jämtland        0.812731\n",
       "Dalarna         0.805795\n",
       "Halland         0.791194\n",
       "Jönköping       0.728714\n",
       "Kronoberg       0.725122\n",
       "Värmland        0.724591\n",
       "Örebro          0.563244\n",
       "Blekinge        0.496166"
      ]
     },
     "execution_count": 13,
     "metadata": {},
     "output_type": "execute_result"
    }
   ],
   "source": [
    "df_Uppsala= pd.DataFrame(df.corr().loc['Uppsala']).sort_values(by = 'Uppsala', ascending=False)\n",
    "df_Uppsala"
   ]
  },
  {
   "cell_type": "markdown",
   "id": "be6811a4-ed8c-4122-9df4-19c8f422763b",
   "metadata": {},
   "source": [
    "# 3. Modeling"
   ]
  },
  {
   "cell_type": "markdown",
   "id": "14ceef0d-4cf5-49ce-83e5-0be600f77ca8",
   "metadata": {},
   "source": [
    "#### S[Sthlm]=x0      \n",
    "\n",
    "#### E[Sthlm]=x1       \n",
    "\n",
    "#### I[Sthlm]=x2       \n",
    "\n",
    "#### R[Sthlm]=x3\n",
    "\n",
    "#### S[Södermanland]=x4      \n",
    "\n",
    "#### E[Södermanland]=x5       \n",
    "\n",
    "#### I[Södermanland]=x6       \n",
    "\n",
    "#### R[Södermanland]=x7"
   ]
  },
  {
   "cell_type": "code",
   "execution_count": 39,
   "id": "791124ec-7054-4535-99f1-6f1eb462514b",
   "metadata": {},
   "outputs": [],
   "source": [
    "name_list = ['Kalmar', 'Blekinge']\n",
    "transit_fkn_dct = loadMobility_list(name_list, starting_week = 6) \n",
    "getData_dict = getData_list(name_list, first_case = 9) \n",
    "region_0 = name_list[0]\n",
    "region_1 = name_list[1]\n",
    "I_train = [getData_dict[name_list[0]]['I'],\n",
    "           getData_dict[name_list[1]]['I']]\n",
    "weeks_train = getData_dict[region_0]['veckor'] \n",
    "\n",
    "def beta(t, a, b, transit_fkn):\n",
    "    return a + b * transit_fkn(t)\n",
    "\n",
    "def dx(x, t, N, a, b, c, lag):\n",
    "    S0, E0, I0, R0, S1, E1, I1, R1 = x[0], x[1], x[2], x[3], x[4], x[5], x[6], x[7]\n",
    "\n",
    "    dS0 =  - S0 * (beta(t-lag, a[0], b[0], transit_fkn_dct[region_0]) * I0/N[0] + c*I1/N[1])\n",
    "    dS1 =  - S1 * (beta(t-lag, a[1], b[1], transit_fkn_dct[region_1]) * I1/N[1] + c*I0/N[0])\n",
    "    dE0 =    S0 * (beta(t-lag, a[0], b[0], transit_fkn_dct[region_0]) * I0/N[0] + c*I1/N[1]) - rho*E0\n",
    "    dE1 =    S1 * (beta(t-lag, a[1], b[1], transit_fkn_dct[region_1]) * I1/N[1] + c*I0/N[0]) - rho*E1\n",
    "    dI0 =  rho*E0 - gamma*I0\n",
    "    dI1 =  rho*E1 - gamma*I1\n",
    "    dR0 =  gamma*I0\n",
    "    dR1 =  gamma*I1\n",
    "\n",
    "    return [dS0, dE0, dI0, dR0,\n",
    "            dS1, dE1, dI1, dR1]\n",
    "\n",
    "def pred_inlagda(t, a1, b1, a2, b2, c, lag):\n",
    "    N = [getData_dict[name_list[0]]['N'],\n",
    "         getData_dict[name_list[1]]['N']]\n",
    "    x0 = [N[0]-1, 0, 1, 0,\n",
    "          N[1]-1, 0, 1, 0] #initial conditions\n",
    "    x = odeint(dx, x0, t, args=(N, [a1, a2], [b1, b2], c, lag))\n",
    "    return pv*x[:, [2, 6]]"
   ]
  },
  {
   "cell_type": "code",
   "execution_count": 40,
   "id": "a4842957-dcf9-49f7-ae34-544c434fcc38",
   "metadata": {},
   "outputs": [
    {
     "data": {
      "text/plain": [
       "{'Kalmar': {'I': array([0.0, 0.0, 0.0, 0.0, 0, 0, 9, 10, 20, 24, 26, 28, 35, 26, 22, 7, 15,\n",
       "         12, 20, 19, 7, 8, 7, 5, 0, 0, 0, 0, 4, 5, 0, 0, 0, 0, 0, 0, 0, 4,\n",
       "         8, 15, 23, 24, 24, 33, 25], dtype=object),\n",
       "  'veckor': array([ 0,  1,  2,  3,  4,  5,  6,  7,  8,  9, 10, 11, 12, 13, 14, 15, 16,\n",
       "         17, 18, 19, 20, 21, 22, 23, 24, 25, 26, 27, 28, 29, 30, 31, 32, 33,\n",
       "         34, 35, 36, 37, 38, 39, 40, 41, 42, 43, 44]),\n",
       "  'N': 245992},\n",
       " 'Blekinge': {'I': array([0.0, 0.0, 0.0, 0.0, 0, 0, 0, 4, 5, 0, 0, 0, 0, 4, 5, 10, 6, 17, 8,\n",
       "         13, 0, 5, 0, 4, 0, 5, 0, 6, 5, 0, 0, 0, 0, 4, 7, 4, 0, 4, 7, 7, 12,\n",
       "         9, 9, 13, 29], dtype=object),\n",
       "  'veckor': array([ 0,  1,  2,  3,  4,  5,  6,  7,  8,  9, 10, 11, 12, 13, 14, 15, 16,\n",
       "         17, 18, 19, 20, 21, 22, 23, 24, 25, 26, 27, 28, 29, 30, 31, 32, 33,\n",
       "         34, 35, 36, 37, 38, 39, 40, 41, 42, 43, 44]),\n",
       "  'N': 159349}}"
      ]
     },
     "execution_count": 40,
     "metadata": {},
     "output_type": "execute_result"
    }
   ],
   "source": [
    "getData_dict"
   ]
  },
  {
   "cell_type": "code",
   "execution_count": 43,
   "id": "1118df0d-ad5d-42f7-ba63-39c463388075",
   "metadata": {},
   "outputs": [
    {
     "data": {
      "text/plain": [
       "[<matplotlib.lines.Line2D at 0x791ad79b2120>]"
      ]
     },
     "execution_count": 43,
     "metadata": {},
     "output_type": "execute_result"
    },
    {
     "data": {
      "image/png": "[encoded data removed]",
      "text/plain": [
       "<Figure size 1000x800 with 1 Axes>"
      ]
     },
     "metadata": {},
     "output_type": "display_data"
    }
   ],
   "source": [
    "a = [2.380262, 1.729996 ] \n",
    "b = [11.197420, 1.387774] \n",
    "c = 0\n",
    "P = pred_inlagda(weeks_train, a[0], b[0], a[1], b[1], c, delay)\n",
    "fig, axes = plt.subplots(1, 1, figsize = (10, 8))\n",
    "axes.plot(weeks_train+6, P[:,0], 'r', label = \"Prediktion med resor\") \n",
    "axes.plot(weeks_train+6, I_train[0], 'ko', label = \"Inlagda\")\n"
   ]
  },
  {
   "cell_type": "code",
   "execution_count": 44,
   "id": "287ff4dc-065a-4ed1-aac2-b75c502c2c9e",
   "metadata": {},
   "outputs": [
    {
     "data": {
      "text/plain": [
       "[<matplotlib.lines.Line2D at 0x791ad6f02d20>]"
      ]
     },
     "execution_count": 44,
     "metadata": {},
     "output_type": "execute_result"
    },
    {
     "data": {
      "image/png": "[encoded data removed]",
      "text/plain": [
       "<Figure size 1000x800 with 1 Axes>"
      ]
     },
     "metadata": {},
     "output_type": "display_data"
    }
   ],
   "source": [
    "fig, axes = plt.subplots(1, 1, figsize = (10, 8))\n",
    "\n",
    "axes.plot(weeks_train+6, P[:,1], 'b', label = \"Prediktion med resor\") \n",
    "axes.plot(weeks_train+6, I_train[1], 'kx', label = \"Inlagda\")"
   ]
  },
  {
   "cell_type": "code",
   "execution_count": 45,
   "id": "565e43c8-5a8a-45c6-857b-6b97c6276197",
   "metadata": {},
   "outputs": [],
   "source": [
    "def return_RMSE(P, I):\n",
    "    return np.sqrt(np.mean((P - I)**2))\n",
    "\n",
    "def return_CV_RMSE(P, I):\n",
    "    return 100 * return_RMSE(P, I) / np.mean(I)"
   ]
  },
  {
   "cell_type": "code",
   "execution_count": 46,
   "id": "1fa1f91a-f04e-45e9-984c-a4909121820a",
   "metadata": {},
   "outputs": [
    {
     "name": "stdout",
     "output_type": "stream",
     "text": [
      "14.181747239381641\n",
      "5.643517502542591\n",
      "137.24271521982232\n",
      "125.72192456159236\n"
     ]
    }
   ],
   "source": [
    "print(return_RMSE(P[:,0], I_train[0]))\n",
    "print(return_RMSE(P[:,1], I_train[1]))\n",
    "print(return_CV_RMSE(P[:,0], I_train[0]))\n",
    "print(return_CV_RMSE(P[:,1], I_train[1]))"
   ]
  },
  {
   "cell_type": "code",
   "execution_count": 47,
   "id": "15e8669e-34f9-4b53-bd00-0d33714460d1",
   "metadata": {},
   "outputs": [],
   "source": [
    "#!pip install wandb\n"
   ]
  },
  {
   "cell_type": "code",
   "execution_count": 57,
   "id": "14222bd0-72e9-4bf5-9816-58e7cee41ea2",
   "metadata": {},
   "outputs": [
    {
     "name": "stderr",
     "output_type": "stream",
     "text": [
      "100%|████████████████████████████████████████████████████████████████████████████████████████████████████████████████████████████████████████████████████████████████████████████████| 3/3 [00:19<00:00,  6.51s/it]\n"
     ]
    }
   ],
   "source": [
    "from tqdm import tqdm\n",
    "\n",
    "name_list = ['Kalmar', 'Blekinge']\n",
    "transit_fkn_dict = loadMobility_list(name_list, starting_week) \n",
    "getData_dict = getData_list(name_list, first_case)\n",
    "\n",
    "I_train = [getData_dict[name_list[0]]['I'],\n",
    "           getData_dict[name_list[1]]['I']]\n",
    "weeks_train = getData_dict[name_list[0]]['veckor']  # getData_dict['Södermanland']['veckor'] == getData_dict['Sthlm']['veckor']\n",
    "\n",
    "n=3\n",
    "ah0 = np.linspace(3,10,n)\n",
    "bh0 = np.linspace(4,10,n)\n",
    "ah1 = np.linspace(3,10,n)\n",
    "bh1 = np.linspace(4,10,n)\n",
    "c = np.linspace(0,0.2,n)\n",
    "\n",
    "E_rmse0 = np.zeros((len(ah0), len(bh0),len(ah1), len(bh1), len(c)))\n",
    "E_rmse1 = np.zeros((len(ah0), len(bh0),len(ah1), len(bh1), len(c)))\n",
    "\n",
    "E_cv_rmse0 = np.zeros((len(ah0), len(bh0),len(ah1), len(bh1), len(c)))\n",
    "E_cv_rmse1 = np.zeros((len(ah0), len(bh0),len(ah1), len(bh1), len(c)))\n",
    "\n",
    "for i in tqdm(range(n)):\n",
    "    for j in range(n):\n",
    "        for k in range(n):\n",
    "            for l in range(n): \n",
    "                for m in range(n):\n",
    "                    P = pred_inlagda(weeks_train, ah0[i], bh0[j], ah1[k], bh1[l], c[m], delay)\n",
    "                    \n",
    "                    # Store the results in the arrays (instead of RMSE)\n",
    "                    E_rmse0[i,j,k,l,m] = return_RMSE(P[:,0], I_train[0])\n",
    "                    E_rmse1[i,j,k,l,m] = return_RMSE(P[:,1], I_train[1])  \n",
    "\n",
    "                    # Store the results in the arrays (instead of cv-rms)\n",
    "                    E_cv_rmse0[i, j, k, l, m] = return_CV_RMSE(P[:,0], I_train[0]) \n",
    "                    E_cv_rmse1[i, j, k, l, m] = return_CV_RMSE(P[:,1], I_train[1])\n",
    "\n",
    "                                "
   ]
  },
  {
   "cell_type": "code",
   "execution_count": 62,
   "id": "5448767a-9127-46db-af89-35cf4deee608",
   "metadata": {},
   "outputs": [],
   "source": [
    "sweep_config = {\n",
    "    'method': 'random'\n",
    "    }"
   ]
  },
  {
   "cell_type": "code",
   "execution_count": 63,
   "id": "081bba6d-f5cc-49a7-9ea8-e501c5dab38e",
   "metadata": {},
   "outputs": [],
   "source": [
    "metric = {\n",
    "    'name': 'CV_RMSE',\n",
    "    'goal': 'minimize'   \n",
    "    }\n",
    "\n",
    "sweep_config['metric'] = metric"
   ]
  },
  {
   "cell_type": "code",
   "execution_count": 64,
   "id": "b26c1f41-b110-466a-9b62-9763213073e8",
   "metadata": {},
   "outputs": [],
   "source": [
    "parameters_dict = {\n",
    "    \"ah0\": {\n",
    "        \"min\": 0,\n",
    "        \"max\": 3,\n",
    "        \"distribution\": \"uniform\"\n",
    "    },\n",
    "    \"bh0\": {\n",
    "        \"min\": 0,\n",
    "        \"max\": 10,\n",
    "        \"distribution\": \"uniform\"\n",
    "    },\n",
    "    \"ah1\": {\n",
    "        \"min\": 0,\n",
    "        \"max\": 3,\n",
    "        \"distribution\": \"uniform\"\n",
    "    },\n",
    "    \"bh1\": {\n",
    "        \"min\": 0,\n",
    "        \"max\": 10,\n",
    "        \"distribution\": \"uniform\"\n",
    "    },\n",
    "    \"c\": {\n",
    "        \"min\": 0,\n",
    "        \"max\": 1,\n",
    "        \"distribution\": \"uniform\"\n",
    "    }\n",
    "}\n",
    "\n",
    "sweep_config['parameters'] = parameters_dict\n"
   ]
  },
  {
   "cell_type": "code",
   "execution_count": 65,
   "id": "0e4411e8-dfbf-4da7-98ea-535e2962007f",
   "metadata": {},
   "outputs": [
    {
     "name": "stdout",
     "output_type": "stream",
     "text": [
      "{'method': 'random',\n",
      " 'metric': {'goal': 'minimize', 'name': 'CV_RMSE'},\n",
      " 'parameters': {'ah0': {'distribution': 'uniform', 'max': 3, 'min': 0},\n",
      "                'ah1': {'distribution': 'uniform', 'max': 3, 'min': 0},\n",
      "                'bh0': {'distribution': 'uniform', 'max': 10, 'min': 0},\n",
      "                'bh1': {'distribution': 'uniform', 'max': 10, 'min': 0},\n",
      "                'c': {'distribution': 'uniform', 'max': 1, 'min': 0}}}\n"
     ]
    }
   ],
   "source": [
    "import pprint\n",
    "pprint.pprint(sweep_config)"
   ]
  },
  {
   "cell_type": "code",
   "execution_count": 66,
   "id": "a5736ae8-b54d-4787-a536-9d2fd791248e",
   "metadata": {},
   "outputs": [],
   "source": [
    "import wandb\n"
   ]
  },
  {
   "cell_type": "code",
   "execution_count": 67,
   "id": "1b786643-18e4-42f0-9d60-bb65c01cf6ed",
   "metadata": {},
   "outputs": [
    {
     "name": "stdout",
     "output_type": "stream",
     "text": [
      "Create sweep with ID: za0efz19\n",
      "Sweep URL: https://wandb.ai/danish2562022/sweeps-SEIR_kalmar_bleking/sweeps/za0efz19\n"
     ]
    }
   ],
   "source": [
    "sweep_id = wandb.sweep(sweep_config, project=\"sweeps-SEIR_kalmar_bleking\")"
   ]
  },
  {
   "cell_type": "code",
   "execution_count": 68,
   "id": "127c84e1-3ada-4181-8a3b-24a069f31c3b",
   "metadata": {},
   "outputs": [],
   "source": [
    "import torch\n",
    "import torch.optim as optim\n",
    "import torch.nn.functional as F\n",
    "import torch.nn as nn\n",
    "from torchvision import datasets, transforms\n",
    "\n",
    "\n",
    "def fit_model(config=None):\n",
    "    # Initialize a new wandb run\n",
    "    with wandb.init(config=config):\n",
    "        # If called by wandb.agent, as below,\n",
    "        # this config will be set by Sweep Controller\n",
    "        config = wandb.config\n",
    "\n",
    "        P = pred_inlagda(weeks_train, config.ah0, config.bh0, config.ah1, config.bh1, config.c, delay)\n",
    "        CV_RMSE_1 = return_CV_RMSE(P[:,0], I_train[0])\n",
    "        CV_RMSE_2 = return_CV_RMSE(P[:,1], I_train[1])\n",
    "        CV_RMSE = CV_RMSE_1 + CV_RMSE_2\n",
    "        RMSE_1 = return_RMSE(P[:,0], I_train[0])\n",
    "        RMSE_2 = return_RMSE(P[:,1], I_train[1])\n",
    "        RMSE = RMSE_1 + RMSE_2\n",
    "        wandb.log({\"CV_RMSE\": CV_RMSE, \"RMSE\": RMSE,  \"RMSE_Kalmar\": RMSE_1,  \"RMSE_Blekinge\": RMSE_2,  \"CV_RMSE_'Kalmar\": CV_RMSE_1,  \"CV_RMSE_Blekinge\": CV_RMSE_2})  "
   ]
  },
  {
   "cell_type": "code",
   "execution_count": null,
   "id": "c77b23cd-f3bc-4e2b-9902-7c3e7478bf9b",
   "metadata": {},
   "outputs": [
    {
     "name": "stderr",
     "output_type": "stream",
     "text": [
      "\u001b[34m\u001b[1mwandb\u001b[0m: Agent Starting Run: cr63j65u with config:\n",
      "\u001b[34m\u001b[1mwandb\u001b[0m: \tah0: 2.9506801813249015\n",
      "\u001b[34m\u001b[1mwandb\u001b[0m: \tah1: 0.16786167453393708\n",
      "\u001b[34m\u001b[1mwandb\u001b[0m: \tbh0: 1.116764441513246\n",
      "\u001b[34m\u001b[1mwandb\u001b[0m: \tbh1: 4.317528126926888\n",
      "\u001b[34m\u001b[1mwandb\u001b[0m: \tc: 0.807435919546565\n"
     ]
    },
    {
     "data": {
      "text/html": [
       "wandb version 0.19.11 is available!  To upgrade, please run:\n",
       " $ pip install wandb --upgrade"
      ],
      "text/plain": [
       "<IPython.core.display.HTML object>"
      ]
     },
     "metadata": {},
     "output_type": "display_data"
    },
    {
     "data": {
      "text/html": [
       "Tracking run with wandb version 0.17.4"
      ],
      "text/plain": [
       "<IPython.core.display.HTML object>"
      ]
     },
     "metadata": {},
     "output_type": "display_data"
    },
    {
     "data": {
      "text/html": [
       "Run data is saved locally in <code>/12tb_dsk3/SEIR_model/src/wandb/run-20250528_184413-cr63j65u</code>"
      ],
      "text/plain": [
       "<IPython.core.display.HTML object>"
      ]
     },
     "metadata": {},
     "output_type": "display_data"
    },
    {
     "data": {
      "text/html": [
       "Syncing run <strong><a href='https://wandb.ai/danish2562022/sweeps-SEIR_kalmar_bleking/runs/cr63j65u' target=\"_blank\">apricot-sweep-1</a></strong> to <a href='https://wandb.ai/danish2562022/sweeps-SEIR_kalmar_bleking' target=\"_blank\">Weights & Biases</a> (<a href='https://wandb.me/run' target=\"_blank\">docs</a>)<br/>Sweep page: <a href='https://wandb.ai/danish2562022/sweeps-SEIR_kalmar_bleking/sweeps/za0efz19' target=\"_blank\">https://wandb.ai/danish2562022/sweeps-SEIR_kalmar_bleking/sweeps/za0efz19</a>"
      ],
      "text/plain": [
       "<IPython.core.display.HTML object>"
      ]
     },
     "metadata": {},
     "output_type": "display_data"
    },
    {
     "data": {
      "text/html": [
       " View project at <a href='https://wandb.ai/danish2562022/sweeps-SEIR_kalmar_bleking' target=\"_blank\">https://wandb.ai/danish2562022/sweeps-SEIR_kalmar_bleking</a>"
      ],
      "text/plain": [
       "<IPython.core.display.HTML object>"
      ]
     },
     "metadata": {},
     "output_type": "display_data"
    },
    {
     "data": {
      "text/html": [
       " View sweep at <a href='https://wandb.ai/danish2562022/sweeps-SEIR_kalmar_bleking/sweeps/za0efz19' target=\"_blank\">https://wandb.ai/danish2562022/sweeps-SEIR_kalmar_bleking/sweeps/za0efz19</a>"
      ],
      "text/plain": [
       "<IPython.core.display.HTML object>"
      ]
     },
     "metadata": {},
     "output_type": "display_data"
    },
    {
     "data": {
      "text/html": [
       " View run at <a href='https://wandb.ai/danish2562022/sweeps-SEIR_kalmar_bleking/runs/cr63j65u' target=\"_blank\">https://wandb.ai/danish2562022/sweeps-SEIR_kalmar_bleking/runs/cr63j65u</a>"
      ],
      "text/plain": [
       "<IPython.core.display.HTML object>"
      ]
     },
     "metadata": {},
     "output_type": "display_data"
    },
    {
     "data": {
      "application/vnd.jupyter.widget-view+json": {
       "model_id": "",
       "version_major": 2,
       "version_minor": 0
      },
      "text/plain": [
       "VBox(children=(Label(value='0.021 MB of 0.021 MB uploaded\\r'), FloatProgress(value=1.0, max=1.0)))"
      ]
     },
     "metadata": {},
     "output_type": "display_data"
    },
    {
     "data": {
      "text/html": [
       "<style>\n",
       "    table.wandb td:nth-child(1) { padding: 0 10px; text-align: left ; width: auto;} td:nth-child(2) {text-align: left ; width: 100%}\n",
       "    .wandb-row { display: flex; flex-direction: row; flex-wrap: wrap; justify-content: flex-start; width: 100% }\n",
       "    .wandb-col { display: flex; flex-direction: column; flex-basis: 100%; flex: 1; padding: 10px; }\n",
       "    </style>\n",
       "<div class=\"wandb-row\"><div class=\"wandb-col\"><h3>Run history:</h3><br/><table class=\"wandb\"><tr><td>CV_RMSE</td><td>▁</td></tr><tr><td>CV_RMSE_'Kalmar</td><td>▁</td></tr><tr><td>CV_RMSE_Blekinge</td><td>▁</td></tr><tr><td>RMSE</td><td>▁</td></tr><tr><td>RMSE_Blekinge</td><td>▁</td></tr><tr><td>RMSE_Kalmar</td><td>▁</td></tr></table><br/></div><div class=\"wandb-col\"><h3>Run summary:</h3><br/><table class=\"wandb\"><tr><td>CV_RMSE</td><td>2374.7439</td></tr><tr><td>CV_RMSE_'Kalmar</td><td>1455.94019</td></tr><tr><td>CV_RMSE_Blekinge</td><td>918.8037</td></tr><tr><td>RMSE</td><td>191.69123</td></tr><tr><td>RMSE_Blekinge</td><td>41.24408</td></tr><tr><td>RMSE_Kalmar</td><td>150.44715</td></tr></table><br/></div></div>"
      ],
      "text/plain": [
       "<IPython.core.display.HTML object>"
      ]
     },
     "metadata": {},
     "output_type": "display_data"
    },
    {
     "data": {
      "text/html": [
       " View run <strong style=\"color:#cdcd00\">apricot-sweep-1</strong> at: <a href='https://wandb.ai/danish2562022/sweeps-SEIR_kalmar_bleking/runs/cr63j65u' target=\"_blank\">https://wandb.ai/danish2562022/sweeps-SEIR_kalmar_bleking/runs/cr63j65u</a><br/> View project at: <a href='https://wandb.ai/danish2562022/sweeps-SEIR_kalmar_bleking' target=\"_blank\">https://wandb.ai/danish2562022/sweeps-SEIR_kalmar_bleking</a><br/>Synced 5 W&B file(s), 0 media file(s), 0 artifact file(s) and 0 other file(s)"
      ],
      "text/plain": [
       "<IPython.core.display.HTML object>"
      ]
     },
     "metadata": {},
     "output_type": "display_data"
    },
    {
     "data": {
      "text/html": [
       "Find logs at: <code>./wandb/run-20250528_184413-cr63j65u/logs</code>"
      ],
      "text/plain": [
       "<IPython.core.display.HTML object>"
      ]
     },
     "metadata": {},
     "output_type": "display_data"
    },
    {
     "data": {
      "text/html": [
       "The new W&B backend becomes opt-out in version 0.18.0; try it out with `wandb.require(\"core\")`! See https://wandb.me/wandb-core for more information."
      ],
      "text/plain": [
       "<IPython.core.display.HTML object>"
      ]
     },
     "metadata": {},
     "output_type": "display_data"
    },
    {
     "name": "stderr",
     "output_type": "stream",
     "text": [
      "\u001b[34m\u001b[1mwandb\u001b[0m: Agent Starting Run: 24t4ecyd with config:\n",
      "\u001b[34m\u001b[1mwandb\u001b[0m: \tah0: 0.1837207760066275\n",
      "\u001b[34m\u001b[1mwandb\u001b[0m: \tah1: 1.6655978958453406\n",
      "\u001b[34m\u001b[1mwandb\u001b[0m: \tbh0: 4.983148854177436\n",
      "\u001b[34m\u001b[1mwandb\u001b[0m: \tbh1: 6.56279524359776\n",
      "\u001b[34m\u001b[1mwandb\u001b[0m: \tc: 0.08409100165827732\n"
     ]
    },
    {
     "data": {
      "text/html": [
       "wandb version 0.19.11 is available!  To upgrade, please run:\n",
       " $ pip install wandb --upgrade"
      ],
      "text/plain": [
       "<IPython.core.display.HTML object>"
      ]
     },
     "metadata": {},
     "output_type": "display_data"
    },
    {
     "data": {
      "text/html": [
       "Tracking run with wandb version 0.17.4"
      ],
      "text/plain": [
       "<IPython.core.display.HTML object>"
      ]
     },
     "metadata": {},
     "output_type": "display_data"
    },
    {
     "data": {
      "text/html": [
       "Run data is saved locally in <code>/12tb_dsk3/SEIR_model/src/wandb/run-20250528_184423-24t4ecyd</code>"
      ],
      "text/plain": [
       "<IPython.core.display.HTML object>"
      ]
     },
     "metadata": {},
     "output_type": "display_data"
    },
    {
     "data": {
      "text/html": [
       "Syncing run <strong><a href='https://wandb.ai/danish2562022/sweeps-SEIR_kalmar_bleking/runs/24t4ecyd' target=\"_blank\">rural-sweep-2</a></strong> to <a href='https://wandb.ai/danish2562022/sweeps-SEIR_kalmar_bleking' target=\"_blank\">Weights & Biases</a> (<a href='https://wandb.me/run' target=\"_blank\">docs</a>)<br/>Sweep page: <a href='https://wandb.ai/danish2562022/sweeps-SEIR_kalmar_bleking/sweeps/za0efz19' target=\"_blank\">https://wandb.ai/danish2562022/sweeps-SEIR_kalmar_bleking/sweeps/za0efz19</a>"
      ],
      "text/plain": [
       "<IPython.core.display.HTML object>"
      ]
     },
     "metadata": {},
     "output_type": "display_data"
    },
    {
     "data": {
      "text/html": [
       " View project at <a href='https://wandb.ai/danish2562022/sweeps-SEIR_kalmar_bleking' target=\"_blank\">https://wandb.ai/danish2562022/sweeps-SEIR_kalmar_bleking</a>"
      ],
      "text/plain": [
       "<IPython.core.display.HTML object>"
      ]
     },
     "metadata": {},
     "output_type": "display_data"
    },
    {
     "data": {
      "text/html": [
       " View sweep at <a href='https://wandb.ai/danish2562022/sweeps-SEIR_kalmar_bleking/sweeps/za0efz19' target=\"_blank\">https://wandb.ai/danish2562022/sweeps-SEIR_kalmar_bleking/sweeps/za0efz19</a>"
      ],
      "text/plain": [
       "<IPython.core.display.HTML object>"
      ]
     },
     "metadata": {},
     "output_type": "display_data"
    },
    {
     "data": {
      "text/html": [
       " View run at <a href='https://wandb.ai/danish2562022/sweeps-SEIR_kalmar_bleking/runs/24t4ecyd' target=\"_blank\">https://wandb.ai/danish2562022/sweeps-SEIR_kalmar_bleking/runs/24t4ecyd</a>"
      ],
      "text/plain": [
       "<IPython.core.display.HTML object>"
      ]
     },
     "metadata": {},
     "output_type": "display_data"
    },
    {
     "data": {
      "application/vnd.jupyter.widget-view+json": {
       "model_id": "",
       "version_major": 2,
       "version_minor": 0
      },
      "text/plain": [
       "VBox(children=(Label(value='0.021 MB of 0.021 MB uploaded\\r'), FloatProgress(value=1.0, max=1.0)))"
      ]
     },
     "metadata": {},
     "output_type": "display_data"
    },
    {
     "data": {
      "text/html": [
       "<style>\n",
       "    table.wandb td:nth-child(1) { padding: 0 10px; text-align: left ; width: auto;} td:nth-child(2) {text-align: left ; width: 100%}\n",
       "    .wandb-row { display: flex; flex-direction: row; flex-wrap: wrap; justify-content: flex-start; width: 100% }\n",
       "    .wandb-col { display: flex; flex-direction: column; flex-basis: 100%; flex: 1; padding: 10px; }\n",
       "    </style>\n",
       "<div class=\"wandb-row\"><div class=\"wandb-col\"><h3>Run history:</h3><br/><table class=\"wandb\"><tr><td>CV_RMSE</td><td>▁</td></tr><tr><td>CV_RMSE_'Kalmar</td><td>▁</td></tr><tr><td>CV_RMSE_Blekinge</td><td>▁</td></tr><tr><td>RMSE</td><td>▁</td></tr><tr><td>RMSE_Blekinge</td><td>▁</td></tr><tr><td>RMSE_Kalmar</td><td>▁</td></tr></table><br/></div><div class=\"wandb-col\"><h3>Run summary:</h3><br/><table class=\"wandb\"><tr><td>CV_RMSE</td><td>317.58074</td></tr><tr><td>CV_RMSE_'Kalmar</td><td>144.54197</td></tr><tr><td>CV_RMSE_Blekinge</td><td>173.03877</td></tr><tr><td>RMSE</td><td>22.70352</td></tr><tr><td>RMSE_Blekinge</td><td>7.76752</td></tr><tr><td>RMSE_Kalmar</td><td>14.936</td></tr></table><br/></div></div>"
      ],
      "text/plain": [
       "<IPython.core.display.HTML object>"
      ]
     },
     "metadata": {},
     "output_type": "display_data"
    },
    {
     "data": {
      "text/html": [
       " View run <strong style=\"color:#cdcd00\">rural-sweep-2</strong> at: <a href='https://wandb.ai/danish2562022/sweeps-SEIR_kalmar_bleking/runs/24t4ecyd' target=\"_blank\">https://wandb.ai/danish2562022/sweeps-SEIR_kalmar_bleking/runs/24t4ecyd</a><br/> View project at: <a href='https://wandb.ai/danish2562022/sweeps-SEIR_kalmar_bleking' target=\"_blank\">https://wandb.ai/danish2562022/sweeps-SEIR_kalmar_bleking</a><br/>Synced 5 W&B file(s), 0 media file(s), 0 artifact file(s) and 0 other file(s)"
      ],
      "text/plain": [
       "<IPython.core.display.HTML object>"
      ]
     },
     "metadata": {},
     "output_type": "display_data"
    },
    {
     "data": {
      "text/html": [
       "Find logs at: <code>./wandb/run-20250528_184423-24t4ecyd/logs</code>"
      ],
      "text/plain": [
       "<IPython.core.display.HTML object>"
      ]
     },
     "metadata": {},
     "output_type": "display_data"
    },
    {
     "data": {
      "text/html": [
       "The new W&B backend becomes opt-out in version 0.18.0; try it out with `wandb.require(\"core\")`! See https://wandb.me/wandb-core for more information."
      ],
      "text/plain": [
       "<IPython.core.display.HTML object>"
      ]
     },
     "metadata": {},
     "output_type": "display_data"
    },
    {
     "name": "stderr",
     "output_type": "stream",
     "text": [
      "\u001b[34m\u001b[1mwandb\u001b[0m: Agent Starting Run: 7u80o41e with config:\n",
      "\u001b[34m\u001b[1mwandb\u001b[0m: \tah0: 2.610951594753526\n",
      "\u001b[34m\u001b[1mwandb\u001b[0m: \tah1: 2.5012736294010818\n",
      "\u001b[34m\u001b[1mwandb\u001b[0m: \tbh0: 7.270242546328662\n",
      "\u001b[34m\u001b[1mwandb\u001b[0m: \tbh1: 7.1257641427602625\n",
      "\u001b[34m\u001b[1mwandb\u001b[0m: \tc: 0.0877121493148989\n"
     ]
    },
    {
     "data": {
      "text/html": [
       "wandb version 0.19.11 is available!  To upgrade, please run:\n",
       " $ pip install wandb --upgrade"
      ],
      "text/plain": [
       "<IPython.core.display.HTML object>"
      ]
     },
     "metadata": {},
     "output_type": "display_data"
    },
    {
     "data": {
      "text/html": [
       "Tracking run with wandb version 0.17.4"
      ],
      "text/plain": [
       "<IPython.core.display.HTML object>"
      ]
     },
     "metadata": {},
     "output_type": "display_data"
    },
    {
     "data": {
      "text/html": [
       "Run data is saved locally in <code>/12tb_dsk3/SEIR_model/src/wandb/run-20250528_184433-7u80o41e</code>"
      ],
      "text/plain": [
       "<IPython.core.display.HTML object>"
      ]
     },
     "metadata": {},
     "output_type": "display_data"
    },
    {
     "data": {
      "text/html": [
       "Syncing run <strong><a href='https://wandb.ai/danish2562022/sweeps-SEIR_kalmar_bleking/runs/7u80o41e' target=\"_blank\">scarlet-sweep-3</a></strong> to <a href='https://wandb.ai/danish2562022/sweeps-SEIR_kalmar_bleking' target=\"_blank\">Weights & Biases</a> (<a href='https://wandb.me/run' target=\"_blank\">docs</a>)<br/>Sweep page: <a href='https://wandb.ai/danish2562022/sweeps-SEIR_kalmar_bleking/sweeps/za0efz19' target=\"_blank\">https://wandb.ai/danish2562022/sweeps-SEIR_kalmar_bleking/sweeps/za0efz19</a>"
      ],
      "text/plain": [
       "<IPython.core.display.HTML object>"
      ]
     },
     "metadata": {},
     "output_type": "display_data"
    },
    {
     "data": {
      "text/html": [
       " View project at <a href='https://wandb.ai/danish2562022/sweeps-SEIR_kalmar_bleking' target=\"_blank\">https://wandb.ai/danish2562022/sweeps-SEIR_kalmar_bleking</a>"
      ],
      "text/plain": [
       "<IPython.core.display.HTML object>"
      ]
     },
     "metadata": {},
     "output_type": "display_data"
    },
    {
     "data": {
      "text/html": [
       " View sweep at <a href='https://wandb.ai/danish2562022/sweeps-SEIR_kalmar_bleking/sweeps/za0efz19' target=\"_blank\">https://wandb.ai/danish2562022/sweeps-SEIR_kalmar_bleking/sweeps/za0efz19</a>"
      ],
      "text/plain": [
       "<IPython.core.display.HTML object>"
      ]
     },
     "metadata": {},
     "output_type": "display_data"
    },
    {
     "data": {
      "text/html": [
       " View run at <a href='https://wandb.ai/danish2562022/sweeps-SEIR_kalmar_bleking/runs/7u80o41e' target=\"_blank\">https://wandb.ai/danish2562022/sweeps-SEIR_kalmar_bleking/runs/7u80o41e</a>"
      ],
      "text/plain": [
       "<IPython.core.display.HTML object>"
      ]
     },
     "metadata": {},
     "output_type": "display_data"
    },
    {
     "data": {
      "application/vnd.jupyter.widget-view+json": {
       "model_id": "",
       "version_major": 2,
       "version_minor": 0
      },
      "text/plain": [
       "VBox(children=(Label(value='0.021 MB of 0.021 MB uploaded\\r'), FloatProgress(value=1.0, max=1.0)))"
      ]
     },
     "metadata": {},
     "output_type": "display_data"
    },
    {
     "data": {
      "text/html": [
       "<style>\n",
       "    table.wandb td:nth-child(1) { padding: 0 10px; text-align: left ; width: auto;} td:nth-child(2) {text-align: left ; width: 100%}\n",
       "    .wandb-row { display: flex; flex-direction: row; flex-wrap: wrap; justify-content: flex-start; width: 100% }\n",
       "    .wandb-col { display: flex; flex-direction: column; flex-basis: 100%; flex: 1; padding: 10px; }\n",
       "    </style>\n",
       "<div class=\"wandb-row\"><div class=\"wandb-col\"><h3>Run history:</h3><br/><table class=\"wandb\"><tr><td>CV_RMSE</td><td>▁</td></tr><tr><td>CV_RMSE_'Kalmar</td><td>▁</td></tr><tr><td>CV_RMSE_Blekinge</td><td>▁</td></tr><tr><td>RMSE</td><td>▁</td></tr><tr><td>RMSE_Blekinge</td><td>▁</td></tr><tr><td>RMSE_Kalmar</td><td>▁</td></tr></table><br/></div><div class=\"wandb-col\"><h3>Run summary:</h3><br/><table class=\"wandb\"><tr><td>CV_RMSE</td><td>4922.29362</td></tr><tr><td>CV_RMSE_'Kalmar</td><td>2000.40857</td></tr><tr><td>CV_RMSE_Blekinge</td><td>2921.88505</td></tr><tr><td>RMSE</td><td>337.86906</td></tr><tr><td>RMSE_Blekinge</td><td>131.16017</td></tr><tr><td>RMSE_Kalmar</td><td>206.70889</td></tr></table><br/></div></div>"
      ],
      "text/plain": [
       "<IPython.core.display.HTML object>"
      ]
     },
     "metadata": {},
     "output_type": "display_data"
    },
    {
     "data": {
      "text/html": [
       " View run <strong style=\"color:#cdcd00\">scarlet-sweep-3</strong> at: <a href='https://wandb.ai/danish2562022/sweeps-SEIR_kalmar_bleking/runs/7u80o41e' target=\"_blank\">https://wandb.ai/danish2562022/sweeps-SEIR_kalmar_bleking/runs/7u80o41e</a><br/> View project at: <a href='https://wandb.ai/danish2562022/sweeps-SEIR_kalmar_bleking' target=\"_blank\">https://wandb.ai/danish2562022/sweeps-SEIR_kalmar_bleking</a><br/>Synced 5 W&B file(s), 0 media file(s), 0 artifact file(s) and 0 other file(s)"
      ],
      "text/plain": [
       "<IPython.core.display.HTML object>"
      ]
     },
     "metadata": {},
     "output_type": "display_data"
    },
    {
     "data": {
      "text/html": [
       "Find logs at: <code>./wandb/run-20250528_184433-7u80o41e/logs</code>"
      ],
      "text/plain": [
       "<IPython.core.display.HTML object>"
      ]
     },
     "metadata": {},
     "output_type": "display_data"
    },
    {
     "data": {
      "text/html": [
       "The new W&B backend becomes opt-out in version 0.18.0; try it out with `wandb.require(\"core\")`! See https://wandb.me/wandb-core for more information."
      ],
      "text/plain": [
       "<IPython.core.display.HTML object>"
      ]
     },
     "metadata": {},
     "output_type": "display_data"
    },
    {
     "name": "stderr",
     "output_type": "stream",
     "text": [
      "\u001b[34m\u001b[1mwandb\u001b[0m: Agent Starting Run: 46nq5pbb with config:\n",
      "\u001b[34m\u001b[1mwandb\u001b[0m: \tah0: 0.4425431233563278\n",
      "\u001b[34m\u001b[1mwandb\u001b[0m: \tah1: 0.4553225098361122\n",
      "\u001b[34m\u001b[1mwandb\u001b[0m: \tbh0: 5.068610675015482\n",
      "\u001b[34m\u001b[1mwandb\u001b[0m: \tbh1: 8.57542897176797\n",
      "\u001b[34m\u001b[1mwandb\u001b[0m: \tc: 0.5055507039357502\n"
     ]
    },
    {
     "data": {
      "text/html": [
       "wandb version 0.19.11 is available!  To upgrade, please run:\n",
       " $ pip install wandb --upgrade"
      ],
      "text/plain": [
       "<IPython.core.display.HTML object>"
      ]
     },
     "metadata": {},
     "output_type": "display_data"
    },
    {
     "data": {
      "text/html": [
       "Tracking run with wandb version 0.17.4"
      ],
      "text/plain": [
       "<IPython.core.display.HTML object>"
      ]
     },
     "metadata": {},
     "output_type": "display_data"
    },
    {
     "data": {
      "text/html": [
       "Run data is saved locally in <code>/12tb_dsk3/SEIR_model/src/wandb/run-20250528_184443-46nq5pbb</code>"
      ],
      "text/plain": [
       "<IPython.core.display.HTML object>"
      ]
     },
     "metadata": {},
     "output_type": "display_data"
    },
    {
     "data": {
      "text/html": [
       "Syncing run <strong><a href='https://wandb.ai/danish2562022/sweeps-SEIR_kalmar_bleking/runs/46nq5pbb' target=\"_blank\">ethereal-sweep-4</a></strong> to <a href='https://wandb.ai/danish2562022/sweeps-SEIR_kalmar_bleking' target=\"_blank\">Weights & Biases</a> (<a href='https://wandb.me/run' target=\"_blank\">docs</a>)<br/>Sweep page: <a href='https://wandb.ai/danish2562022/sweeps-SEIR_kalmar_bleking/sweeps/za0efz19' target=\"_blank\">https://wandb.ai/danish2562022/sweeps-SEIR_kalmar_bleking/sweeps/za0efz19</a>"
      ],
      "text/plain": [
       "<IPython.core.display.HTML object>"
      ]
     },
     "metadata": {},
     "output_type": "display_data"
    },
    {
     "data": {
      "text/html": [
       " View project at <a href='https://wandb.ai/danish2562022/sweeps-SEIR_kalmar_bleking' target=\"_blank\">https://wandb.ai/danish2562022/sweeps-SEIR_kalmar_bleking</a>"
      ],
      "text/plain": [
       "<IPython.core.display.HTML object>"
      ]
     },
     "metadata": {},
     "output_type": "display_data"
    },
    {
     "data": {
      "text/html": [
       " View sweep at <a href='https://wandb.ai/danish2562022/sweeps-SEIR_kalmar_bleking/sweeps/za0efz19' target=\"_blank\">https://wandb.ai/danish2562022/sweeps-SEIR_kalmar_bleking/sweeps/za0efz19</a>"
      ],
      "text/plain": [
       "<IPython.core.display.HTML object>"
      ]
     },
     "metadata": {},
     "output_type": "display_data"
    },
    {
     "data": {
      "text/html": [
       " View run at <a href='https://wandb.ai/danish2562022/sweeps-SEIR_kalmar_bleking/runs/46nq5pbb' target=\"_blank\">https://wandb.ai/danish2562022/sweeps-SEIR_kalmar_bleking/runs/46nq5pbb</a>"
      ],
      "text/plain": [
       "<IPython.core.display.HTML object>"
      ]
     },
     "metadata": {},
     "output_type": "display_data"
    },
    {
     "data": {
      "application/vnd.jupyter.widget-view+json": {
       "model_id": "",
       "version_major": 2,
       "version_minor": 0
      },
      "text/plain": [
       "VBox(children=(Label(value='0.021 MB of 0.021 MB uploaded\\r'), FloatProgress(value=1.0, max=1.0)))"
      ]
     },
     "metadata": {},
     "output_type": "display_data"
    },
    {
     "data": {
      "text/html": [
       "<style>\n",
       "    table.wandb td:nth-child(1) { padding: 0 10px; text-align: left ; width: auto;} td:nth-child(2) {text-align: left ; width: 100%}\n",
       "    .wandb-row { display: flex; flex-direction: row; flex-wrap: wrap; justify-content: flex-start; width: 100% }\n",
       "    .wandb-col { display: flex; flex-direction: column; flex-basis: 100%; flex: 1; padding: 10px; }\n",
       "    </style>\n",
       "<div class=\"wandb-row\"><div class=\"wandb-col\"><h3>Run history:</h3><br/><table class=\"wandb\"><tr><td>CV_RMSE</td><td>▁</td></tr><tr><td>CV_RMSE_'Kalmar</td><td>▁</td></tr><tr><td>CV_RMSE_Blekinge</td><td>▁</td></tr><tr><td>RMSE</td><td>▁</td></tr><tr><td>RMSE_Blekinge</td><td>▁</td></tr><tr><td>RMSE_Kalmar</td><td>▁</td></tr></table><br/></div><div class=\"wandb-col\"><h3>Run summary:</h3><br/><table class=\"wandb\"><tr><td>CV_RMSE</td><td>306.8522</td></tr><tr><td>CV_RMSE_'Kalmar</td><td>144.96645</td></tr><tr><td>CV_RMSE_Blekinge</td><td>161.88575</td></tr><tr><td>RMSE</td><td>22.24674</td></tr><tr><td>RMSE_Blekinge</td><td>7.26687</td></tr><tr><td>RMSE_Kalmar</td><td>14.97987</td></tr></table><br/></div></div>"
      ],
      "text/plain": [
       "<IPython.core.display.HTML object>"
      ]
     },
     "metadata": {},
     "output_type": "display_data"
    },
    {
     "data": {
      "text/html": [
       " View run <strong style=\"color:#cdcd00\">ethereal-sweep-4</strong> at: <a href='https://wandb.ai/danish2562022/sweeps-SEIR_kalmar_bleking/runs/46nq5pbb' target=\"_blank\">https://wandb.ai/danish2562022/sweeps-SEIR_kalmar_bleking/runs/46nq5pbb</a><br/> View project at: <a href='https://wandb.ai/danish2562022/sweeps-SEIR_kalmar_bleking' target=\"_blank\">https://wandb.ai/danish2562022/sweeps-SEIR_kalmar_bleking</a><br/>Synced 5 W&B file(s), 0 media file(s), 0 artifact file(s) and 0 other file(s)"
      ],
      "text/plain": [
       "<IPython.core.display.HTML object>"
      ]
     },
     "metadata": {},
     "output_type": "display_data"
    },
    {
     "data": {
      "text/html": [
       "Find logs at: <code>./wandb/run-20250528_184443-46nq5pbb/logs</code>"
      ],
      "text/plain": [
       "<IPython.core.display.HTML object>"
      ]
     },
     "metadata": {},
     "output_type": "display_data"
    },
    {
     "data": {
      "text/html": [
       "The new W&B backend becomes opt-out in version 0.18.0; try it out with `wandb.require(\"core\")`! See https://wandb.me/wandb-core for more information."
      ],
      "text/plain": [
       "<IPython.core.display.HTML object>"
      ]
     },
     "metadata": {},
     "output_type": "display_data"
    },
    {
     "name": "stderr",
     "output_type": "stream",
     "text": [
      "\u001b[34m\u001b[1mwandb\u001b[0m: Agent Starting Run: pr83nyiv with config:\n",
      "\u001b[34m\u001b[1mwandb\u001b[0m: \tah0: 0.6748531226024169\n",
      "\u001b[34m\u001b[1mwandb\u001b[0m: \tah1: 2.8677306396459956\n",
      "\u001b[34m\u001b[1mwandb\u001b[0m: \tbh0: 5.354548018246247\n",
      "\u001b[34m\u001b[1mwandb\u001b[0m: \tbh1: 1.8755967144281815\n",
      "\u001b[34m\u001b[1mwandb\u001b[0m: \tc: 0.5679315916571055\n"
     ]
    },
    {
     "data": {
      "text/html": [
       "wandb version 0.19.11 is available!  To upgrade, please run:\n",
       " $ pip install wandb --upgrade"
      ],
      "text/plain": [
       "<IPython.core.display.HTML object>"
      ]
     },
     "metadata": {},
     "output_type": "display_data"
    },
    {
     "data": {
      "text/html": [
       "Tracking run with wandb version 0.17.4"
      ],
      "text/plain": [
       "<IPython.core.display.HTML object>"
      ]
     },
     "metadata": {},
     "output_type": "display_data"
    },
    {
     "data": {
      "text/html": [
       "Run data is saved locally in <code>/12tb_dsk3/SEIR_model/src/wandb/run-20250528_184454-pr83nyiv</code>"
      ],
      "text/plain": [
       "<IPython.core.display.HTML object>"
      ]
     },
     "metadata": {},
     "output_type": "display_data"
    },
    {
     "data": {
      "text/html": [
       "Syncing run <strong><a href='https://wandb.ai/danish2562022/sweeps-SEIR_kalmar_bleking/runs/pr83nyiv' target=\"_blank\">swift-sweep-5</a></strong> to <a href='https://wandb.ai/danish2562022/sweeps-SEIR_kalmar_bleking' target=\"_blank\">Weights & Biases</a> (<a href='https://wandb.me/run' target=\"_blank\">docs</a>)<br/>Sweep page: <a href='https://wandb.ai/danish2562022/sweeps-SEIR_kalmar_bleking/sweeps/za0efz19' target=\"_blank\">https://wandb.ai/danish2562022/sweeps-SEIR_kalmar_bleking/sweeps/za0efz19</a>"
      ],
      "text/plain": [
       "<IPython.core.display.HTML object>"
      ]
     },
     "metadata": {},
     "output_type": "display_data"
    },
    {
     "data": {
      "text/html": [
       " View project at <a href='https://wandb.ai/danish2562022/sweeps-SEIR_kalmar_bleking' target=\"_blank\">https://wandb.ai/danish2562022/sweeps-SEIR_kalmar_bleking</a>"
      ],
      "text/plain": [
       "<IPython.core.display.HTML object>"
      ]
     },
     "metadata": {},
     "output_type": "display_data"
    },
    {
     "data": {
      "text/html": [
       " View sweep at <a href='https://wandb.ai/danish2562022/sweeps-SEIR_kalmar_bleking/sweeps/za0efz19' target=\"_blank\">https://wandb.ai/danish2562022/sweeps-SEIR_kalmar_bleking/sweeps/za0efz19</a>"
      ],
      "text/plain": [
       "<IPython.core.display.HTML object>"
      ]
     },
     "metadata": {},
     "output_type": "display_data"
    },
    {
     "data": {
      "text/html": [
       " View run at <a href='https://wandb.ai/danish2562022/sweeps-SEIR_kalmar_bleking/runs/pr83nyiv' target=\"_blank\">https://wandb.ai/danish2562022/sweeps-SEIR_kalmar_bleking/runs/pr83nyiv</a>"
      ],
      "text/plain": [
       "<IPython.core.display.HTML object>"
      ]
     },
     "metadata": {},
     "output_type": "display_data"
    },
    {
     "data": {
      "application/vnd.jupyter.widget-view+json": {
       "model_id": "1e33780f431f4070816efb051f637247",
       "version_major": 2,
       "version_minor": 0
      },
      "text/plain": [
       "VBox(children=(Label(value='0.021 MB of 0.021 MB uploaded\\r'), FloatProgress(value=1.0, max=1.0)))"
      ]
     },
     "metadata": {},
     "output_type": "display_data"
    },
    {
     "data": {
      "text/html": [
       "<style>\n",
       "    table.wandb td:nth-child(1) { padding: 0 10px; text-align: left ; width: auto;} td:nth-child(2) {text-align: left ; width: 100%}\n",
       "    .wandb-row { display: flex; flex-direction: row; flex-wrap: wrap; justify-content: flex-start; width: 100% }\n",
       "    .wandb-col { display: flex; flex-direction: column; flex-basis: 100%; flex: 1; padding: 10px; }\n",
       "    </style>\n",
       "<div class=\"wandb-row\"><div class=\"wandb-col\"><h3>Run history:</h3><br/><table class=\"wandb\"><tr><td>CV_RMSE</td><td>▁</td></tr><tr><td>CV_RMSE_'Kalmar</td><td>▁</td></tr><tr><td>CV_RMSE_Blekinge</td><td>▁</td></tr><tr><td>RMSE</td><td>▁</td></tr><tr><td>RMSE_Blekinge</td><td>▁</td></tr><tr><td>RMSE_Kalmar</td><td>▁</td></tr></table><br/></div><div class=\"wandb-col\"><h3>Run summary:</h3><br/><table class=\"wandb\"><tr><td>CV_RMSE</td><td>2605.10134</td></tr><tr><td>CV_RMSE_'Kalmar</td><td>621.2559</td></tr><tr><td>CV_RMSE_Blekinge</td><td>1983.84544</td></tr><tr><td>RMSE</td><td>153.24906</td></tr><tr><td>RMSE_Blekinge</td><td>89.05262</td></tr><tr><td>RMSE_Kalmar</td><td>64.19644</td></tr></table><br/></div></div>"
      ],
      "text/plain": [
       "<IPython.core.display.HTML object>"
      ]
     },
     "metadata": {},
     "output_type": "display_data"
    },
    {
     "data": {
      "text/html": [
       " View run <strong style=\"color:#cdcd00\">swift-sweep-5</strong> at: <a href='https://wandb.ai/danish2562022/sweeps-SEIR_kalmar_bleking/runs/pr83nyiv' target=\"_blank\">https://wandb.ai/danish2562022/sweeps-SEIR_kalmar_bleking/runs/pr83nyiv</a><br/> View project at: <a href='https://wandb.ai/danish2562022/sweeps-SEIR_kalmar_bleking' target=\"_blank\">https://wandb.ai/danish2562022/sweeps-SEIR_kalmar_bleking</a><br/>Synced 5 W&B file(s), 0 media file(s), 0 artifact file(s) and 0 other file(s)"
      ],
      "text/plain": [
       "<IPython.core.display.HTML object>"
      ]
     },
     "metadata": {},
     "output_type": "display_data"
    },
    {
     "data": {
      "text/html": [
       "Find logs at: <code>./wandb/run-20250528_184454-pr83nyiv/logs</code>"
      ],
      "text/plain": [
       "<IPython.core.display.HTML object>"
      ]
     },
     "metadata": {},
     "output_type": "display_data"
    },
    {
     "data": {
      "text/html": [
       "The new W&B backend becomes opt-out in version 0.18.0; try it out with `wandb.require(\"core\")`! See https://wandb.me/wandb-core for more information."
      ],
      "text/plain": [
       "<IPython.core.display.HTML object>"
      ]
     },
     "metadata": {},
     "output_type": "display_data"
    },
    {
     "name": "stderr",
     "output_type": "stream",
     "text": [
      "\u001b[34m\u001b[1mwandb\u001b[0m: Sweep Agent: Waiting for job.\n",
      "\u001b[34m\u001b[1mwandb\u001b[0m: Job received.\n",
      "\u001b[34m\u001b[1mwandb\u001b[0m: Agent Starting Run: 8wfofww3 with config:\n",
      "\u001b[34m\u001b[1mwandb\u001b[0m: \tah0: 0.012332942841029704\n",
      "\u001b[34m\u001b[1mwandb\u001b[0m: \tah1: 0.5418320805829354\n",
      "\u001b[34m\u001b[1mwandb\u001b[0m: \tbh0: 3.1743316162094795\n",
      "\u001b[34m\u001b[1mwandb\u001b[0m: \tbh1: 9.125956513171804\n",
      "\u001b[34m\u001b[1mwandb\u001b[0m: \tc: 0.16092692082063476\n"
     ]
    },
    {
     "data": {
      "text/html": [
       "wandb version 0.19.11 is available!  To upgrade, please run:\n",
       " $ pip install wandb --upgrade"
      ],
      "text/plain": [
       "<IPython.core.display.HTML object>"
      ]
     },
     "metadata": {},
     "output_type": "display_data"
    },
    {
     "data": {
      "text/html": [
       "Tracking run with wandb version 0.17.4"
      ],
      "text/plain": [
       "<IPython.core.display.HTML object>"
      ]
     },
     "metadata": {},
     "output_type": "display_data"
    },
    {
     "data": {
      "text/html": [
       "Run data is saved locally in <code>/12tb_dsk3/SEIR_model/src/wandb/run-20250528_184510-8wfofww3</code>"
      ],
      "text/plain": [
       "<IPython.core.display.HTML object>"
      ]
     },
     "metadata": {},
     "output_type": "display_data"
    },
    {
     "data": {
      "text/html": [
       "Syncing run <strong><a href='https://wandb.ai/danish2562022/sweeps-SEIR_kalmar_bleking/runs/8wfofww3' target=\"_blank\">driven-sweep-6</a></strong> to <a href='https://wandb.ai/danish2562022/sweeps-SEIR_kalmar_bleking' target=\"_blank\">Weights & Biases</a> (<a href='https://wandb.me/run' target=\"_blank\">docs</a>)<br/>Sweep page: <a href='https://wandb.ai/danish2562022/sweeps-SEIR_kalmar_bleking/sweeps/za0efz19' target=\"_blank\">https://wandb.ai/danish2562022/sweeps-SEIR_kalmar_bleking/sweeps/za0efz19</a>"
      ],
      "text/plain": [
       "<IPython.core.display.HTML object>"
      ]
     },
     "metadata": {},
     "output_type": "display_data"
    },
    {
     "data": {
      "text/html": [
       " View project at <a href='https://wandb.ai/danish2562022/sweeps-SEIR_kalmar_bleking' target=\"_blank\">https://wandb.ai/danish2562022/sweeps-SEIR_kalmar_bleking</a>"
      ],
      "text/plain": [
       "<IPython.core.display.HTML object>"
      ]
     },
     "metadata": {},
     "output_type": "display_data"
    },
    {
     "data": {
      "text/html": [
       " View sweep at <a href='https://wandb.ai/danish2562022/sweeps-SEIR_kalmar_bleking/sweeps/za0efz19' target=\"_blank\">https://wandb.ai/danish2562022/sweeps-SEIR_kalmar_bleking/sweeps/za0efz19</a>"
      ],
      "text/plain": [
       "<IPython.core.display.HTML object>"
      ]
     },
     "metadata": {},
     "output_type": "display_data"
    },
    {
     "data": {
      "text/html": [
       " View run at <a href='https://wandb.ai/danish2562022/sweeps-SEIR_kalmar_bleking/runs/8wfofww3' target=\"_blank\">https://wandb.ai/danish2562022/sweeps-SEIR_kalmar_bleking/runs/8wfofww3</a>"
      ],
      "text/plain": [
       "<IPython.core.display.HTML object>"
      ]
     },
     "metadata": {},
     "output_type": "display_data"
    },
    {
     "data": {
      "application/vnd.jupyter.widget-view+json": {
       "model_id": "227805173ef648069eec5277c96f552a",
       "version_major": 2,
       "version_minor": 0
      },
      "text/plain": [
       "VBox(children=(Label(value='0.021 MB of 0.021 MB uploaded\\r'), FloatProgress(value=1.0, max=1.0)))"
      ]
     },
     "metadata": {},
     "output_type": "display_data"
    },
    {
     "data": {
      "text/html": [
       "<style>\n",
       "    table.wandb td:nth-child(1) { padding: 0 10px; text-align: left ; width: auto;} td:nth-child(2) {text-align: left ; width: 100%}\n",
       "    .wandb-row { display: flex; flex-direction: row; flex-wrap: wrap; justify-content: flex-start; width: 100% }\n",
       "    .wandb-col { display: flex; flex-direction: column; flex-basis: 100%; flex: 1; padding: 10px; }\n",
       "    </style>\n",
       "<div class=\"wandb-row\"><div class=\"wandb-col\"><h3>Run history:</h3><br/><table class=\"wandb\"><tr><td>CV_RMSE</td><td>▁</td></tr><tr><td>CV_RMSE_'Kalmar</td><td>▁</td></tr><tr><td>CV_RMSE_Blekinge</td><td>▁</td></tr><tr><td>RMSE</td><td>▁</td></tr><tr><td>RMSE_Blekinge</td><td>▁</td></tr><tr><td>RMSE_Kalmar</td><td>▁</td></tr></table><br/></div><div class=\"wandb-col\"><h3>Run summary:</h3><br/><table class=\"wandb\"><tr><td>CV_RMSE</td><td>306.93205</td></tr><tr><td>CV_RMSE_'Kalmar</td><td>145.0326</td></tr><tr><td>CV_RMSE_Blekinge</td><td>161.89945</td></tr><tr><td>RMSE</td><td>22.25419</td></tr><tr><td>RMSE_Blekinge</td><td>7.26749</td></tr><tr><td>RMSE_Kalmar</td><td>14.9867</td></tr></table><br/></div></div>"
      ],
      "text/plain": [
       "<IPython.core.display.HTML object>"
      ]
     },
     "metadata": {},
     "output_type": "display_data"
    },
    {
     "data": {
      "text/html": [
       " View run <strong style=\"color:#cdcd00\">driven-sweep-6</strong> at: <a href='https://wandb.ai/danish2562022/sweeps-SEIR_kalmar_bleking/runs/8wfofww3' target=\"_blank\">https://wandb.ai/danish2562022/sweeps-SEIR_kalmar_bleking/runs/8wfofww3</a><br/> View project at: <a href='https://wandb.ai/danish2562022/sweeps-SEIR_kalmar_bleking' target=\"_blank\">https://wandb.ai/danish2562022/sweeps-SEIR_kalmar_bleking</a><br/>Synced 5 W&B file(s), 0 media file(s), 0 artifact file(s) and 0 other file(s)"
      ],
      "text/plain": [
       "<IPython.core.display.HTML object>"
      ]
     },
     "metadata": {},
     "output_type": "display_data"
    },
    {
     "data": {
      "text/html": [
       "Find logs at: <code>./wandb/run-20250528_184510-8wfofww3/logs</code>"
      ],
      "text/plain": [
       "<IPython.core.display.HTML object>"
      ]
     },
     "metadata": {},
     "output_type": "display_data"
    },
    {
     "data": {
      "text/html": [
       "The new W&B backend becomes opt-out in version 0.18.0; try it out with `wandb.require(\"core\")`! See https://wandb.me/wandb-core for more information."
      ],
      "text/plain": [
       "<IPython.core.display.HTML object>"
      ]
     },
     "metadata": {},
     "output_type": "display_data"
    },
    {
     "name": "stderr",
     "output_type": "stream",
     "text": [
      "\u001b[34m\u001b[1mwandb\u001b[0m: Agent Starting Run: h86nbx1a with config:\n",
      "\u001b[34m\u001b[1mwandb\u001b[0m: \tah0: 1.6827053797977964\n",
      "\u001b[34m\u001b[1mwandb\u001b[0m: \tah1: 0.8989816261853492\n",
      "\u001b[34m\u001b[1mwandb\u001b[0m: \tbh0: 6.301394524707814\n",
      "\u001b[34m\u001b[1mwandb\u001b[0m: \tbh1: 4.107966352734619\n",
      "\u001b[34m\u001b[1mwandb\u001b[0m: \tc: 0.887592575474644\n"
     ]
    },
    {
     "data": {
      "text/html": [
       "wandb version 0.19.11 is available!  To upgrade, please run:\n",
       " $ pip install wandb --upgrade"
      ],
      "text/plain": [
       "<IPython.core.display.HTML object>"
      ]
     },
     "metadata": {},
     "output_type": "display_data"
    },
    {
     "data": {
      "text/html": [
       "Tracking run with wandb version 0.17.4"
      ],
      "text/plain": [
       "<IPython.core.display.HTML object>"
      ]
     },
     "metadata": {},
     "output_type": "display_data"
    },
    {
     "data": {
      "text/html": [
       "Run data is saved locally in <code>/12tb_dsk3/SEIR_model/src/wandb/run-20250528_184521-h86nbx1a</code>"
      ],
      "text/plain": [
       "<IPython.core.display.HTML object>"
      ]
     },
     "metadata": {},
     "output_type": "display_data"
    },
    {
     "data": {
      "text/html": [
       "Syncing run <strong><a href='https://wandb.ai/danish2562022/sweeps-SEIR_kalmar_bleking/runs/h86nbx1a' target=\"_blank\">lilac-sweep-7</a></strong> to <a href='https://wandb.ai/danish2562022/sweeps-SEIR_kalmar_bleking' target=\"_blank\">Weights & Biases</a> (<a href='https://wandb.me/run' target=\"_blank\">docs</a>)<br/>Sweep page: <a href='https://wandb.ai/danish2562022/sweeps-SEIR_kalmar_bleking/sweeps/za0efz19' target=\"_blank\">https://wandb.ai/danish2562022/sweeps-SEIR_kalmar_bleking/sweeps/za0efz19</a>"
      ],
      "text/plain": [
       "<IPython.core.display.HTML object>"
      ]
     },
     "metadata": {},
     "output_type": "display_data"
    },
    {
     "data": {
      "text/html": [
       " View project at <a href='https://wandb.ai/danish2562022/sweeps-SEIR_kalmar_bleking' target=\"_blank\">https://wandb.ai/danish2562022/sweeps-SEIR_kalmar_bleking</a>"
      ],
      "text/plain": [
       "<IPython.core.display.HTML object>"
      ]
     },
     "metadata": {},
     "output_type": "display_data"
    },
    {
     "data": {
      "text/html": [
       " View sweep at <a href='https://wandb.ai/danish2562022/sweeps-SEIR_kalmar_bleking/sweeps/za0efz19' target=\"_blank\">https://wandb.ai/danish2562022/sweeps-SEIR_kalmar_bleking/sweeps/za0efz19</a>"
      ],
      "text/plain": [
       "<IPython.core.display.HTML object>"
      ]
     },
     "metadata": {},
     "output_type": "display_data"
    },
    {
     "data": {
      "text/html": [
       " View run at <a href='https://wandb.ai/danish2562022/sweeps-SEIR_kalmar_bleking/runs/h86nbx1a' target=\"_blank\">https://wandb.ai/danish2562022/sweeps-SEIR_kalmar_bleking/runs/h86nbx1a</a>"
      ],
      "text/plain": [
       "<IPython.core.display.HTML object>"
      ]
     },
     "metadata": {},
     "output_type": "display_data"
    },
    {
     "data": {
      "application/vnd.jupyter.widget-view+json": {
       "model_id": "140bd7fc3fed4f049830eb8c361d2948",
       "version_major": 2,
       "version_minor": 0
      },
      "text/plain": [
       "VBox(children=(Label(value='0.021 MB of 0.021 MB uploaded\\r'), FloatProgress(value=1.0, max=1.0)))"
      ]
     },
     "metadata": {},
     "output_type": "display_data"
    },
    {
     "data": {
      "text/html": [
       "<style>\n",
       "    table.wandb td:nth-child(1) { padding: 0 10px; text-align: left ; width: auto;} td:nth-child(2) {text-align: left ; width: 100%}\n",
       "    .wandb-row { display: flex; flex-direction: row; flex-wrap: wrap; justify-content: flex-start; width: 100% }\n",
       "    .wandb-col { display: flex; flex-direction: column; flex-basis: 100%; flex: 1; padding: 10px; }\n",
       "    </style>\n",
       "<div class=\"wandb-row\"><div class=\"wandb-col\"><h3>Run history:</h3><br/><table class=\"wandb\"><tr><td>CV_RMSE</td><td>▁</td></tr><tr><td>CV_RMSE_'Kalmar</td><td>▁</td></tr><tr><td>CV_RMSE_Blekinge</td><td>▁</td></tr><tr><td>RMSE</td><td>▁</td></tr><tr><td>RMSE_Blekinge</td><td>▁</td></tr><tr><td>RMSE_Kalmar</td><td>▁</td></tr></table><br/></div><div class=\"wandb-col\"><h3>Run summary:</h3><br/><table class=\"wandb\"><tr><td>CV_RMSE</td><td>3891.69187</td></tr><tr><td>CV_RMSE_'Kalmar</td><td>1606.13752</td></tr><tr><td>CV_RMSE_Blekinge</td><td>2285.55436</td></tr><tr><td>RMSE</td><td>268.56354</td></tr><tr><td>RMSE_Blekinge</td><td>102.596</td></tr><tr><td>RMSE_Kalmar</td><td>165.96754</td></tr></table><br/></div></div>"
      ],
      "text/plain": [
       "<IPython.core.display.HTML object>"
      ]
     },
     "metadata": {},
     "output_type": "display_data"
    },
    {
     "data": {
      "text/html": [
       " View run <strong style=\"color:#cdcd00\">lilac-sweep-7</strong> at: <a href='https://wandb.ai/danish2562022/sweeps-SEIR_kalmar_bleking/runs/h86nbx1a' target=\"_blank\">https://wandb.ai/danish2562022/sweeps-SEIR_kalmar_bleking/runs/h86nbx1a</a><br/> View project at: <a href='https://wandb.ai/danish2562022/sweeps-SEIR_kalmar_bleking' target=\"_blank\">https://wandb.ai/danish2562022/sweeps-SEIR_kalmar_bleking</a><br/>Synced 5 W&B file(s), 0 media file(s), 0 artifact file(s) and 0 other file(s)"
      ],
      "text/plain": [
       "<IPython.core.display.HTML object>"
      ]
     },
     "metadata": {},
     "output_type": "display_data"
    },
    {
     "data": {
      "text/html": [
       "Find logs at: <code>./wandb/run-20250528_184521-h86nbx1a/logs</code>"
      ],
      "text/plain": [
       "<IPython.core.display.HTML object>"
      ]
     },
     "metadata": {},
     "output_type": "display_data"
    },
    {
     "data": {
      "text/html": [
       "The new W&B backend becomes opt-out in version 0.18.0; try it out with `wandb.require(\"core\")`! See https://wandb.me/wandb-core for more information."
      ],
      "text/plain": [
       "<IPython.core.display.HTML object>"
      ]
     },
     "metadata": {},
     "output_type": "display_data"
    },
    {
     "name": "stderr",
     "output_type": "stream",
     "text": [
      "\u001b[34m\u001b[1mwandb\u001b[0m: Agent Starting Run: 8klwj9eh with config:\n",
      "\u001b[34m\u001b[1mwandb\u001b[0m: \tah0: 2.167423452753364\n",
      "\u001b[34m\u001b[1mwandb\u001b[0m: \tah1: 2.4095360953590763\n",
      "\u001b[34m\u001b[1mwandb\u001b[0m: \tbh0: 9.004812129905929\n",
      "\u001b[34m\u001b[1mwandb\u001b[0m: \tbh1: 1.0583034738901498\n",
      "\u001b[34m\u001b[1mwandb\u001b[0m: \tc: 0.7867197784514648\n"
     ]
    },
    {
     "data": {
      "text/html": [
       "wandb version 0.19.11 is available!  To upgrade, please run:\n",
       " $ pip install wandb --upgrade"
      ],
      "text/plain": [
       "<IPython.core.display.HTML object>"
      ]
     },
     "metadata": {},
     "output_type": "display_data"
    },
    {
     "data": {
      "text/html": [
       "Tracking run with wandb version 0.17.4"
      ],
      "text/plain": [
       "<IPython.core.display.HTML object>"
      ]
     },
     "metadata": {},
     "output_type": "display_data"
    },
    {
     "data": {
      "text/html": [
       "Run data is saved locally in <code>/12tb_dsk3/SEIR_model/src/wandb/run-20250528_184531-8klwj9eh</code>"
      ],
      "text/plain": [
       "<IPython.core.display.HTML object>"
      ]
     },
     "metadata": {},
     "output_type": "display_data"
    },
    {
     "data": {
      "text/html": [
       "Syncing run <strong><a href='https://wandb.ai/danish2562022/sweeps-SEIR_kalmar_bleking/runs/8klwj9eh' target=\"_blank\">wise-sweep-8</a></strong> to <a href='https://wandb.ai/danish2562022/sweeps-SEIR_kalmar_bleking' target=\"_blank\">Weights & Biases</a> (<a href='https://wandb.me/run' target=\"_blank\">docs</a>)<br/>Sweep page: <a href='https://wandb.ai/danish2562022/sweeps-SEIR_kalmar_bleking/sweeps/za0efz19' target=\"_blank\">https://wandb.ai/danish2562022/sweeps-SEIR_kalmar_bleking/sweeps/za0efz19</a>"
      ],
      "text/plain": [
       "<IPython.core.display.HTML object>"
      ]
     },
     "metadata": {},
     "output_type": "display_data"
    },
    {
     "data": {
      "text/html": [
       " View project at <a href='https://wandb.ai/danish2562022/sweeps-SEIR_kalmar_bleking' target=\"_blank\">https://wandb.ai/danish2562022/sweeps-SEIR_kalmar_bleking</a>"
      ],
      "text/plain": [
       "<IPython.core.display.HTML object>"
      ]
     },
     "metadata": {},
     "output_type": "display_data"
    },
    {
     "data": {
      "text/html": [
       " View sweep at <a href='https://wandb.ai/danish2562022/sweeps-SEIR_kalmar_bleking/sweeps/za0efz19' target=\"_blank\">https://wandb.ai/danish2562022/sweeps-SEIR_kalmar_bleking/sweeps/za0efz19</a>"
      ],
      "text/plain": [
       "<IPython.core.display.HTML object>"
      ]
     },
     "metadata": {},
     "output_type": "display_data"
    },
    {
     "data": {
      "text/html": [
       " View run at <a href='https://wandb.ai/danish2562022/sweeps-SEIR_kalmar_bleking/runs/8klwj9eh' target=\"_blank\">https://wandb.ai/danish2562022/sweeps-SEIR_kalmar_bleking/runs/8klwj9eh</a>"
      ],
      "text/plain": [
       "<IPython.core.display.HTML object>"
      ]
     },
     "metadata": {},
     "output_type": "display_data"
    },
    {
     "data": {
      "application/vnd.jupyter.widget-view+json": {
       "model_id": "4a50e4e773464ef4be96932be29c77c8",
       "version_major": 2,
       "version_minor": 0
      },
      "text/plain": [
       "VBox(children=(Label(value='0.021 MB of 0.021 MB uploaded\\r'), FloatProgress(value=1.0, max=1.0)))"
      ]
     },
     "metadata": {},
     "output_type": "display_data"
    },
    {
     "data": {
      "text/html": [
       "<style>\n",
       "    table.wandb td:nth-child(1) { padding: 0 10px; text-align: left ; width: auto;} td:nth-child(2) {text-align: left ; width: 100%}\n",
       "    .wandb-row { display: flex; flex-direction: row; flex-wrap: wrap; justify-content: flex-start; width: 100% }\n",
       "    .wandb-col { display: flex; flex-direction: column; flex-basis: 100%; flex: 1; padding: 10px; }\n",
       "    </style>\n",
       "<div class=\"wandb-row\"><div class=\"wandb-col\"><h3>Run history:</h3><br/><table class=\"wandb\"><tr><td>CV_RMSE</td><td>▁</td></tr><tr><td>CV_RMSE_'Kalmar</td><td>▁</td></tr><tr><td>CV_RMSE_Blekinge</td><td>▁</td></tr><tr><td>RMSE</td><td>▁</td></tr><tr><td>RMSE_Blekinge</td><td>▁</td></tr><tr><td>RMSE_Kalmar</td><td>▁</td></tr></table><br/></div><div class=\"wandb-col\"><h3>Run summary:</h3><br/><table class=\"wandb\"><tr><td>CV_RMSE</td><td>2892.64613</td></tr><tr><td>CV_RMSE_'Kalmar</td><td>1068.2271</td></tr><tr><td>CV_RMSE_Blekinge</td><td>1824.41903</td></tr><tr><td>RMSE</td><td>192.27961</td></tr><tr><td>RMSE_Blekinge</td><td>81.89614</td></tr><tr><td>RMSE_Kalmar</td><td>110.38347</td></tr></table><br/></div></div>"
      ],
      "text/plain": [
       "<IPython.core.display.HTML object>"
      ]
     },
     "metadata": {},
     "output_type": "display_data"
    },
    {
     "data": {
      "text/html": [
       " View run <strong style=\"color:#cdcd00\">wise-sweep-8</strong> at: <a href='https://wandb.ai/danish2562022/sweeps-SEIR_kalmar_bleking/runs/8klwj9eh' target=\"_blank\">https://wandb.ai/danish2562022/sweeps-SEIR_kalmar_bleking/runs/8klwj9eh</a><br/> View project at: <a href='https://wandb.ai/danish2562022/sweeps-SEIR_kalmar_bleking' target=\"_blank\">https://wandb.ai/danish2562022/sweeps-SEIR_kalmar_bleking</a><br/>Synced 5 W&B file(s), 0 media file(s), 0 artifact file(s) and 0 other file(s)"
      ],
      "text/plain": [
       "<IPython.core.display.HTML object>"
      ]
     },
     "metadata": {},
     "output_type": "display_data"
    },
    {
     "data": {
      "text/html": [
       "Find logs at: <code>./wandb/run-20250528_184531-8klwj9eh/logs</code>"
      ],
      "text/plain": [
       "<IPython.core.display.HTML object>"
      ]
     },
     "metadata": {},
     "output_type": "display_data"
    },
    {
     "data": {
      "text/html": [
       "The new W&B backend becomes opt-out in version 0.18.0; try it out with `wandb.require(\"core\")`! See https://wandb.me/wandb-core for more information."
      ],
      "text/plain": [
       "<IPython.core.display.HTML object>"
      ]
     },
     "metadata": {},
     "output_type": "display_data"
    },
    {
     "name": "stderr",
     "output_type": "stream",
     "text": [
      "\u001b[34m\u001b[1mwandb\u001b[0m: Agent Starting Run: fkebe4xl with config:\n",
      "\u001b[34m\u001b[1mwandb\u001b[0m: \tah0: 0.20178224695954605\n",
      "\u001b[34m\u001b[1mwandb\u001b[0m: \tah1: 2.7532664284715977\n",
      "\u001b[34m\u001b[1mwandb\u001b[0m: \tbh0: 4.55254926954092\n",
      "\u001b[34m\u001b[1mwandb\u001b[0m: \tbh1: 1.2767754590269953\n",
      "\u001b[34m\u001b[1mwandb\u001b[0m: \tc: 0.8040941458325344\n"
     ]
    },
    {
     "data": {
      "text/html": [
       "wandb version 0.19.11 is available!  To upgrade, please run:\n",
       " $ pip install wandb --upgrade"
      ],
      "text/plain": [
       "<IPython.core.display.HTML object>"
      ]
     },
     "metadata": {},
     "output_type": "display_data"
    },
    {
     "data": {
      "text/html": [
       "Tracking run with wandb version 0.17.4"
      ],
      "text/plain": [
       "<IPython.core.display.HTML object>"
      ]
     },
     "metadata": {},
     "output_type": "display_data"
    },
    {
     "data": {
      "text/html": [
       "Run data is saved locally in <code>/12tb_dsk3/SEIR_model/src/wandb/run-20250528_184541-fkebe4xl</code>"
      ],
      "text/plain": [
       "<IPython.core.display.HTML object>"
      ]
     },
     "metadata": {},
     "output_type": "display_data"
    },
    {
     "data": {
      "text/html": [
       "Syncing run <strong><a href='https://wandb.ai/danish2562022/sweeps-SEIR_kalmar_bleking/runs/fkebe4xl' target=\"_blank\">fiery-sweep-9</a></strong> to <a href='https://wandb.ai/danish2562022/sweeps-SEIR_kalmar_bleking' target=\"_blank\">Weights & Biases</a> (<a href='https://wandb.me/run' target=\"_blank\">docs</a>)<br/>Sweep page: <a href='https://wandb.ai/danish2562022/sweeps-SEIR_kalmar_bleking/sweeps/za0efz19' target=\"_blank\">https://wandb.ai/danish2562022/sweeps-SEIR_kalmar_bleking/sweeps/za0efz19</a>"
      ],
      "text/plain": [
       "<IPython.core.display.HTML object>"
      ]
     },
     "metadata": {},
     "output_type": "display_data"
    },
    {
     "data": {
      "text/html": [
       " View project at <a href='https://wandb.ai/danish2562022/sweeps-SEIR_kalmar_bleking' target=\"_blank\">https://wandb.ai/danish2562022/sweeps-SEIR_kalmar_bleking</a>"
      ],
      "text/plain": [
       "<IPython.core.display.HTML object>"
      ]
     },
     "metadata": {},
     "output_type": "display_data"
    },
    {
     "data": {
      "text/html": [
       " View sweep at <a href='https://wandb.ai/danish2562022/sweeps-SEIR_kalmar_bleking/sweeps/za0efz19' target=\"_blank\">https://wandb.ai/danish2562022/sweeps-SEIR_kalmar_bleking/sweeps/za0efz19</a>"
      ],
      "text/plain": [
       "<IPython.core.display.HTML object>"
      ]
     },
     "metadata": {},
     "output_type": "display_data"
    },
    {
     "data": {
      "text/html": [
       " View run at <a href='https://wandb.ai/danish2562022/sweeps-SEIR_kalmar_bleking/runs/fkebe4xl' target=\"_blank\">https://wandb.ai/danish2562022/sweeps-SEIR_kalmar_bleking/runs/fkebe4xl</a>"
      ],
      "text/plain": [
       "<IPython.core.display.HTML object>"
      ]
     },
     "metadata": {},
     "output_type": "display_data"
    },
    {
     "data": {
      "application/vnd.jupyter.widget-view+json": {
       "model_id": "a333b9db842f4ed6b6372b27ee204383",
       "version_major": 2,
       "version_minor": 0
      },
      "text/plain": [
       "VBox(children=(Label(value='0.021 MB of 0.021 MB uploaded\\r'), FloatProgress(value=1.0, max=1.0)))"
      ]
     },
     "metadata": {},
     "output_type": "display_data"
    },
    {
     "data": {
      "text/html": [
       "<style>\n",
       "    table.wandb td:nth-child(1) { padding: 0 10px; text-align: left ; width: auto;} td:nth-child(2) {text-align: left ; width: 100%}\n",
       "    .wandb-row { display: flex; flex-direction: row; flex-wrap: wrap; justify-content: flex-start; width: 100% }\n",
       "    .wandb-col { display: flex; flex-direction: column; flex-basis: 100%; flex: 1; padding: 10px; }\n",
       "    </style>\n",
       "<div class=\"wandb-row\"><div class=\"wandb-col\"><h3>Run history:</h3><br/><table class=\"wandb\"><tr><td>CV_RMSE</td><td>▁</td></tr><tr><td>CV_RMSE_'Kalmar</td><td>▁</td></tr><tr><td>CV_RMSE_Blekinge</td><td>▁</td></tr><tr><td>RMSE</td><td>▁</td></tr><tr><td>RMSE_Blekinge</td><td>▁</td></tr><tr><td>RMSE_Kalmar</td><td>▁</td></tr></table><br/></div><div class=\"wandb-col\"><h3>Run summary:</h3><br/><table class=\"wandb\"><tr><td>CV_RMSE</td><td>2634.58044</td></tr><tr><td>CV_RMSE_'Kalmar</td><td>591.00925</td></tr><tr><td>CV_RMSE_Blekinge</td><td>2043.57119</td></tr><tr><td>RMSE</td><td>152.8046</td></tr><tr><td>RMSE_Blekinge</td><td>91.73364</td></tr><tr><td>RMSE_Kalmar</td><td>61.07096</td></tr></table><br/></div></div>"
      ],
      "text/plain": [
       "<IPython.core.display.HTML object>"
      ]
     },
     "metadata": {},
     "output_type": "display_data"
    },
    {
     "data": {
      "text/html": [
       " View run <strong style=\"color:#cdcd00\">fiery-sweep-9</strong> at: <a href='https://wandb.ai/danish2562022/sweeps-SEIR_kalmar_bleking/runs/fkebe4xl' target=\"_blank\">https://wandb.ai/danish2562022/sweeps-SEIR_kalmar_bleking/runs/fkebe4xl</a><br/> View project at: <a href='https://wandb.ai/danish2562022/sweeps-SEIR_kalmar_bleking' target=\"_blank\">https://wandb.ai/danish2562022/sweeps-SEIR_kalmar_bleking</a><br/>Synced 5 W&B file(s), 0 media file(s), 0 artifact file(s) and 0 other file(s)"
      ],
      "text/plain": [
       "<IPython.core.display.HTML object>"
      ]
     },
     "metadata": {},
     "output_type": "display_data"
    },
    {
     "data": {
      "text/html": [
       "Find logs at: <code>./wandb/run-20250528_184541-fkebe4xl/logs</code>"
      ],
      "text/plain": [
       "<IPython.core.display.HTML object>"
      ]
     },
     "metadata": {},
     "output_type": "display_data"
    },
    {
     "data": {
      "text/html": [
       "The new W&B backend becomes opt-out in version 0.18.0; try it out with `wandb.require(\"core\")`! See https://wandb.me/wandb-core for more information."
      ],
      "text/plain": [
       "<IPython.core.display.HTML object>"
      ]
     },
     "metadata": {},
     "output_type": "display_data"
    },
    {
     "name": "stderr",
     "output_type": "stream",
     "text": [
      "\u001b[34m\u001b[1mwandb\u001b[0m: Sweep Agent: Waiting for job.\n",
      "\u001b[34m\u001b[1mwandb\u001b[0m: Job received.\n",
      "\u001b[34m\u001b[1mwandb\u001b[0m: Agent Starting Run: vhof89w3 with config:\n",
      "\u001b[34m\u001b[1mwandb\u001b[0m: \tah0: 0.6525339378645018\n",
      "\u001b[34m\u001b[1mwandb\u001b[0m: \tah1: 1.798942036408269\n",
      "\u001b[34m\u001b[1mwandb\u001b[0m: \tbh0: 7.842826175726401\n",
      "\u001b[34m\u001b[1mwandb\u001b[0m: \tbh1: 9.52905269571965\n",
      "\u001b[34m\u001b[1mwandb\u001b[0m: \tc: 0.5925058434898206\n"
     ]
    },
    {
     "data": {
      "text/html": [
       "wandb version 0.19.11 is available!  To upgrade, please run:\n",
       " $ pip install wandb --upgrade"
      ],
      "text/plain": [
       "<IPython.core.display.HTML object>"
      ]
     },
     "metadata": {},
     "output_type": "display_data"
    },
    {
     "data": {
      "text/html": [
       "Tracking run with wandb version 0.17.4"
      ],
      "text/plain": [
       "<IPython.core.display.HTML object>"
      ]
     },
     "metadata": {},
     "output_type": "display_data"
    },
    {
     "data": {
      "text/html": [
       "Run data is saved locally in <code>/12tb_dsk3/SEIR_model/src/wandb/run-20250528_184558-vhof89w3</code>"
      ],
      "text/plain": [
       "<IPython.core.display.HTML object>"
      ]
     },
     "metadata": {},
     "output_type": "display_data"
    },
    {
     "data": {
      "text/html": [
       "Syncing run <strong><a href='https://wandb.ai/danish2562022/sweeps-SEIR_kalmar_bleking/runs/vhof89w3' target=\"_blank\">prime-sweep-10</a></strong> to <a href='https://wandb.ai/danish2562022/sweeps-SEIR_kalmar_bleking' target=\"_blank\">Weights & Biases</a> (<a href='https://wandb.me/run' target=\"_blank\">docs</a>)<br/>Sweep page: <a href='https://wandb.ai/danish2562022/sweeps-SEIR_kalmar_bleking/sweeps/za0efz19' target=\"_blank\">https://wandb.ai/danish2562022/sweeps-SEIR_kalmar_bleking/sweeps/za0efz19</a>"
      ],
      "text/plain": [
       "<IPython.core.display.HTML object>"
      ]
     },
     "metadata": {},
     "output_type": "display_data"
    },
    {
     "data": {
      "text/html": [
       " View project at <a href='https://wandb.ai/danish2562022/sweeps-SEIR_kalmar_bleking' target=\"_blank\">https://wandb.ai/danish2562022/sweeps-SEIR_kalmar_bleking</a>"
      ],
      "text/plain": [
       "<IPython.core.display.HTML object>"
      ]
     },
     "metadata": {},
     "output_type": "display_data"
    },
    {
     "data": {
      "text/html": [
       " View sweep at <a href='https://wandb.ai/danish2562022/sweeps-SEIR_kalmar_bleking/sweeps/za0efz19' target=\"_blank\">https://wandb.ai/danish2562022/sweeps-SEIR_kalmar_bleking/sweeps/za0efz19</a>"
      ],
      "text/plain": [
       "<IPython.core.display.HTML object>"
      ]
     },
     "metadata": {},
     "output_type": "display_data"
    },
    {
     "data": {
      "text/html": [
       " View run at <a href='https://wandb.ai/danish2562022/sweeps-SEIR_kalmar_bleking/runs/vhof89w3' target=\"_blank\">https://wandb.ai/danish2562022/sweeps-SEIR_kalmar_bleking/runs/vhof89w3</a>"
      ],
      "text/plain": [
       "<IPython.core.display.HTML object>"
      ]
     },
     "metadata": {},
     "output_type": "display_data"
    },
    {
     "data": {
      "application/vnd.jupyter.widget-view+json": {
       "model_id": "804b6a3cb3954f059131475fb95cde2c",
       "version_major": 2,
       "version_minor": 0
      },
      "text/plain": [
       "VBox(children=(Label(value='0.021 MB of 0.021 MB uploaded\\r'), FloatProgress(value=1.0, max=1.0)))"
      ]
     },
     "metadata": {},
     "output_type": "display_data"
    },
    {
     "data": {
      "text/html": [
       "<style>\n",
       "    table.wandb td:nth-child(1) { padding: 0 10px; text-align: left ; width: auto;} td:nth-child(2) {text-align: left ; width: 100%}\n",
       "    .wandb-row { display: flex; flex-direction: row; flex-wrap: wrap; justify-content: flex-start; width: 100% }\n",
       "    .wandb-col { display: flex; flex-direction: column; flex-basis: 100%; flex: 1; padding: 10px; }\n",
       "    </style>\n",
       "<div class=\"wandb-row\"><div class=\"wandb-col\"><h3>Run history:</h3><br/><table class=\"wandb\"><tr><td>CV_RMSE</td><td>▁</td></tr><tr><td>CV_RMSE_'Kalmar</td><td>▁</td></tr><tr><td>CV_RMSE_Blekinge</td><td>▁</td></tr><tr><td>RMSE</td><td>▁</td></tr><tr><td>RMSE_Blekinge</td><td>▁</td></tr><tr><td>RMSE_Kalmar</td><td>▁</td></tr></table><br/></div><div class=\"wandb-col\"><h3>Run summary:</h3><br/><table class=\"wandb\"><tr><td>CV_RMSE</td><td>3590.89173</td></tr><tr><td>CV_RMSE_'Kalmar</td><td>866.15969</td></tr><tr><td>CV_RMSE_Blekinge</td><td>2724.73204</td></tr><tr><td>RMSE</td><td>211.81336</td></tr><tr><td>RMSE_Blekinge</td><td>122.31019</td></tr><tr><td>RMSE_Kalmar</td><td>89.50317</td></tr></table><br/></div></div>"
      ],
      "text/plain": [
       "<IPython.core.display.HTML object>"
      ]
     },
     "metadata": {},
     "output_type": "display_data"
    },
    {
     "data": {
      "text/html": [
       " View run <strong style=\"color:#cdcd00\">prime-sweep-10</strong> at: <a href='https://wandb.ai/danish2562022/sweeps-SEIR_kalmar_bleking/runs/vhof89w3' target=\"_blank\">https://wandb.ai/danish2562022/sweeps-SEIR_kalmar_bleking/runs/vhof89w3</a><br/> View project at: <a href='https://wandb.ai/danish2562022/sweeps-SEIR_kalmar_bleking' target=\"_blank\">https://wandb.ai/danish2562022/sweeps-SEIR_kalmar_bleking</a><br/>Synced 5 W&B file(s), 0 media file(s), 0 artifact file(s) and 0 other file(s)"
      ],
      "text/plain": [
       "<IPython.core.display.HTML object>"
      ]
     },
     "metadata": {},
     "output_type": "display_data"
    },
    {
     "data": {
      "text/html": [
       "Find logs at: <code>./wandb/run-20250528_184558-vhof89w3/logs</code>"
      ],
      "text/plain": [
       "<IPython.core.display.HTML object>"
      ]
     },
     "metadata": {},
     "output_type": "display_data"
    },
    {
     "data": {
      "text/html": [
       "The new W&B backend becomes opt-out in version 0.18.0; try it out with `wandb.require(\"core\")`! See https://wandb.me/wandb-core for more information."
      ],
      "text/plain": [
       "<IPython.core.display.HTML object>"
      ]
     },
     "metadata": {},
     "output_type": "display_data"
    },
    {
     "name": "stderr",
     "output_type": "stream",
     "text": [
      "\u001b[34m\u001b[1mwandb\u001b[0m: Sweep Agent: Waiting for job.\n",
      "\u001b[34m\u001b[1mwandb\u001b[0m: Job received.\n",
      "\u001b[34m\u001b[1mwandb\u001b[0m: Agent Starting Run: ko1tw82f with config:\n",
      "\u001b[34m\u001b[1mwandb\u001b[0m: \tah0: 1.9054456618627096\n",
      "\u001b[34m\u001b[1mwandb\u001b[0m: \tah1: 2.556395360664526\n",
      "\u001b[34m\u001b[1mwandb\u001b[0m: \tbh0: 7.473921935987692\n",
      "\u001b[34m\u001b[1mwandb\u001b[0m: \tbh1: 5.195893423000567\n",
      "\u001b[34m\u001b[1mwandb\u001b[0m: \tc: 0.4145421486174644\n"
     ]
    },
    {
     "data": {
      "text/html": [
       "wandb version 0.19.11 is available!  To upgrade, please run:\n",
       " $ pip install wandb --upgrade"
      ],
      "text/plain": [
       "<IPython.core.display.HTML object>"
      ]
     },
     "metadata": {},
     "output_type": "display_data"
    },
    {
     "data": {
      "text/html": [
       "Tracking run with wandb version 0.17.4"
      ],
      "text/plain": [
       "<IPython.core.display.HTML object>"
      ]
     },
     "metadata": {},
     "output_type": "display_data"
    },
    {
     "data": {
      "text/html": [
       "Run data is saved locally in <code>/12tb_dsk3/SEIR_model/src/wandb/run-20250528_184635-ko1tw82f</code>"
      ],
      "text/plain": [
       "<IPython.core.display.HTML object>"
      ]
     },
     "metadata": {},
     "output_type": "display_data"
    },
    {
     "data": {
      "text/html": [
       "Syncing run <strong><a href='https://wandb.ai/danish2562022/sweeps-SEIR_kalmar_bleking/runs/ko1tw82f' target=\"_blank\">ruby-sweep-11</a></strong> to <a href='https://wandb.ai/danish2562022/sweeps-SEIR_kalmar_bleking' target=\"_blank\">Weights & Biases</a> (<a href='https://wandb.me/run' target=\"_blank\">docs</a>)<br/>Sweep page: <a href='https://wandb.ai/danish2562022/sweeps-SEIR_kalmar_bleking/sweeps/za0efz19' target=\"_blank\">https://wandb.ai/danish2562022/sweeps-SEIR_kalmar_bleking/sweeps/za0efz19</a>"
      ],
      "text/plain": [
       "<IPython.core.display.HTML object>"
      ]
     },
     "metadata": {},
     "output_type": "display_data"
    },
    {
     "data": {
      "text/html": [
       " View project at <a href='https://wandb.ai/danish2562022/sweeps-SEIR_kalmar_bleking' target=\"_blank\">https://wandb.ai/danish2562022/sweeps-SEIR_kalmar_bleking</a>"
      ],
      "text/plain": [
       "<IPython.core.display.HTML object>"
      ]
     },
     "metadata": {},
     "output_type": "display_data"
    },
    {
     "data": {
      "text/html": [
       " View sweep at <a href='https://wandb.ai/danish2562022/sweeps-SEIR_kalmar_bleking/sweeps/za0efz19' target=\"_blank\">https://wandb.ai/danish2562022/sweeps-SEIR_kalmar_bleking/sweeps/za0efz19</a>"
      ],
      "text/plain": [
       "<IPython.core.display.HTML object>"
      ]
     },
     "metadata": {},
     "output_type": "display_data"
    },
    {
     "data": {
      "text/html": [
       " View run at <a href='https://wandb.ai/danish2562022/sweeps-SEIR_kalmar_bleking/runs/ko1tw82f' target=\"_blank\">https://wandb.ai/danish2562022/sweeps-SEIR_kalmar_bleking/runs/ko1tw82f</a>"
      ],
      "text/plain": [
       "<IPython.core.display.HTML object>"
      ]
     },
     "metadata": {},
     "output_type": "display_data"
    },
    {
     "data": {
      "application/vnd.jupyter.widget-view+json": {
       "model_id": "825fd2dd0c7e4344ac455c8427aa67e1",
       "version_major": 2,
       "version_minor": 0
      },
      "text/plain": [
       "VBox(children=(Label(value='0.021 MB of 0.021 MB uploaded\\r'), FloatProgress(value=1.0, max=1.0)))"
      ]
     },
     "metadata": {},
     "output_type": "display_data"
    },
    {
     "data": {
      "text/html": [
       "<style>\n",
       "    table.wandb td:nth-child(1) { padding: 0 10px; text-align: left ; width: auto;} td:nth-child(2) {text-align: left ; width: 100%}\n",
       "    .wandb-row { display: flex; flex-direction: row; flex-wrap: wrap; justify-content: flex-start; width: 100% }\n",
       "    .wandb-col { display: flex; flex-direction: column; flex-basis: 100%; flex: 1; padding: 10px; }\n",
       "    </style>\n",
       "<div class=\"wandb-row\"><div class=\"wandb-col\"><h3>Run history:</h3><br/><table class=\"wandb\"><tr><td>CV_RMSE</td><td>▁</td></tr><tr><td>CV_RMSE_'Kalmar</td><td>▁</td></tr><tr><td>CV_RMSE_Blekinge</td><td>▁</td></tr><tr><td>RMSE</td><td>▁</td></tr><tr><td>RMSE_Blekinge</td><td>▁</td></tr><tr><td>RMSE_Kalmar</td><td>▁</td></tr></table><br/></div><div class=\"wandb-col\"><h3>Run summary:</h3><br/><table class=\"wandb\"><tr><td>CV_RMSE</td><td>3988.28363</td></tr><tr><td>CV_RMSE_'Kalmar</td><td>1727.71655</td></tr><tr><td>CV_RMSE_Blekinge</td><td>2260.56708</td></tr><tr><td>RMSE</td><td>280.00505</td></tr><tr><td>RMSE_Blekinge</td><td>101.47434</td></tr><tr><td>RMSE_Kalmar</td><td>178.53071</td></tr></table><br/></div></div>"
      ],
      "text/plain": [
       "<IPython.core.display.HTML object>"
      ]
     },
     "metadata": {},
     "output_type": "display_data"
    },
    {
     "data": {
      "text/html": [
       " View run <strong style=\"color:#cdcd00\">ruby-sweep-11</strong> at: <a href='https://wandb.ai/danish2562022/sweeps-SEIR_kalmar_bleking/runs/ko1tw82f' target=\"_blank\">https://wandb.ai/danish2562022/sweeps-SEIR_kalmar_bleking/runs/ko1tw82f</a><br/> View project at: <a href='https://wandb.ai/danish2562022/sweeps-SEIR_kalmar_bleking' target=\"_blank\">https://wandb.ai/danish2562022/sweeps-SEIR_kalmar_bleking</a><br/>Synced 5 W&B file(s), 0 media file(s), 0 artifact file(s) and 0 other file(s)"
      ],
      "text/plain": [
       "<IPython.core.display.HTML object>"
      ]
     },
     "metadata": {},
     "output_type": "display_data"
    },
    {
     "data": {
      "text/html": [
       "Find logs at: <code>./wandb/run-20250528_184635-ko1tw82f/logs</code>"
      ],
      "text/plain": [
       "<IPython.core.display.HTML object>"
      ]
     },
     "metadata": {},
     "output_type": "display_data"
    },
    {
     "data": {
      "text/html": [
       "The new W&B backend becomes opt-out in version 0.18.0; try it out with `wandb.require(\"core\")`! See https://wandb.me/wandb-core for more information."
      ],
      "text/plain": [
       "<IPython.core.display.HTML object>"
      ]
     },
     "metadata": {},
     "output_type": "display_data"
    },
    {
     "name": "stderr",
     "output_type": "stream",
     "text": [
      "\u001b[34m\u001b[1mwandb\u001b[0m: Agent Starting Run: quilnr6w with config:\n",
      "\u001b[34m\u001b[1mwandb\u001b[0m: \tah0: 1.095547550651983\n",
      "\u001b[34m\u001b[1mwandb\u001b[0m: \tah1: 0.06850783703444219\n",
      "\u001b[34m\u001b[1mwandb\u001b[0m: \tbh0: 4.898218254120441\n",
      "\u001b[34m\u001b[1mwandb\u001b[0m: \tbh1: 9.05706569260436\n",
      "\u001b[34m\u001b[1mwandb\u001b[0m: \tc: 0.9234689412696528\n"
     ]
    },
    {
     "data": {
      "text/html": [
       "wandb version 0.19.11 is available!  To upgrade, please run:\n",
       " $ pip install wandb --upgrade"
      ],
      "text/plain": [
       "<IPython.core.display.HTML object>"
      ]
     },
     "metadata": {},
     "output_type": "display_data"
    },
    {
     "data": {
      "text/html": [
       "Tracking run with wandb version 0.17.4"
      ],
      "text/plain": [
       "<IPython.core.display.HTML object>"
      ]
     },
     "metadata": {},
     "output_type": "display_data"
    },
    {
     "data": {
      "text/html": [
       "Run data is saved locally in <code>/12tb_dsk3/SEIR_model/src/wandb/run-20250528_184645-quilnr6w</code>"
      ],
      "text/plain": [
       "<IPython.core.display.HTML object>"
      ]
     },
     "metadata": {},
     "output_type": "display_data"
    },
    {
     "data": {
      "text/html": [
       "Syncing run <strong><a href='https://wandb.ai/danish2562022/sweeps-SEIR_kalmar_bleking/runs/quilnr6w' target=\"_blank\">driven-sweep-12</a></strong> to <a href='https://wandb.ai/danish2562022/sweeps-SEIR_kalmar_bleking' target=\"_blank\">Weights & Biases</a> (<a href='https://wandb.me/run' target=\"_blank\">docs</a>)<br/>Sweep page: <a href='https://wandb.ai/danish2562022/sweeps-SEIR_kalmar_bleking/sweeps/za0efz19' target=\"_blank\">https://wandb.ai/danish2562022/sweeps-SEIR_kalmar_bleking/sweeps/za0efz19</a>"
      ],
      "text/plain": [
       "<IPython.core.display.HTML object>"
      ]
     },
     "metadata": {},
     "output_type": "display_data"
    },
    {
     "data": {
      "text/html": [
       " View project at <a href='https://wandb.ai/danish2562022/sweeps-SEIR_kalmar_bleking' target=\"_blank\">https://wandb.ai/danish2562022/sweeps-SEIR_kalmar_bleking</a>"
      ],
      "text/plain": [
       "<IPython.core.display.HTML object>"
      ]
     },
     "metadata": {},
     "output_type": "display_data"
    },
    {
     "data": {
      "text/html": [
       " View sweep at <a href='https://wandb.ai/danish2562022/sweeps-SEIR_kalmar_bleking/sweeps/za0efz19' target=\"_blank\">https://wandb.ai/danish2562022/sweeps-SEIR_kalmar_bleking/sweeps/za0efz19</a>"
      ],
      "text/plain": [
       "<IPython.core.display.HTML object>"
      ]
     },
     "metadata": {},
     "output_type": "display_data"
    },
    {
     "data": {
      "text/html": [
       " View run at <a href='https://wandb.ai/danish2562022/sweeps-SEIR_kalmar_bleking/runs/quilnr6w' target=\"_blank\">https://wandb.ai/danish2562022/sweeps-SEIR_kalmar_bleking/runs/quilnr6w</a>"
      ],
      "text/plain": [
       "<IPython.core.display.HTML object>"
      ]
     },
     "metadata": {},
     "output_type": "display_data"
    },
    {
     "data": {
      "application/vnd.jupyter.widget-view+json": {
       "model_id": "b3249bbc1a4a476f958672a9e494c271",
       "version_major": 2,
       "version_minor": 0
      },
      "text/plain": [
       "VBox(children=(Label(value='0.021 MB of 0.021 MB uploaded\\r'), FloatProgress(value=1.0, max=1.0)))"
      ]
     },
     "metadata": {},
     "output_type": "display_data"
    },
    {
     "data": {
      "text/html": [
       "<style>\n",
       "    table.wandb td:nth-child(1) { padding: 0 10px; text-align: left ; width: auto;} td:nth-child(2) {text-align: left ; width: 100%}\n",
       "    .wandb-row { display: flex; flex-direction: row; flex-wrap: wrap; justify-content: flex-start; width: 100% }\n",
       "    .wandb-col { display: flex; flex-direction: column; flex-basis: 100%; flex: 1; padding: 10px; }\n",
       "    </style>\n",
       "<div class=\"wandb-row\"><div class=\"wandb-col\"><h3>Run history:</h3><br/><table class=\"wandb\"><tr><td>CV_RMSE</td><td>▁</td></tr><tr><td>CV_RMSE_'Kalmar</td><td>▁</td></tr><tr><td>CV_RMSE_Blekinge</td><td>▁</td></tr><tr><td>RMSE</td><td>▁</td></tr><tr><td>RMSE_Blekinge</td><td>▁</td></tr><tr><td>RMSE_Kalmar</td><td>▁</td></tr></table><br/></div><div class=\"wandb-col\"><h3>Run summary:</h3><br/><table class=\"wandb\"><tr><td>CV_RMSE</td><td>301.82476</td></tr><tr><td>CV_RMSE_'Kalmar</td><td>143.25453</td></tr><tr><td>CV_RMSE_Blekinge</td><td>158.57024</td></tr><tr><td>RMSE</td><td>21.92101</td></tr><tr><td>RMSE_Blekinge</td><td>7.11804</td></tr><tr><td>RMSE_Kalmar</td><td>14.80297</td></tr></table><br/></div></div>"
      ],
      "text/plain": [
       "<IPython.core.display.HTML object>"
      ]
     },
     "metadata": {},
     "output_type": "display_data"
    },
    {
     "data": {
      "text/html": [
       " View run <strong style=\"color:#cdcd00\">driven-sweep-12</strong> at: <a href='https://wandb.ai/danish2562022/sweeps-SEIR_kalmar_bleking/runs/quilnr6w' target=\"_blank\">https://wandb.ai/danish2562022/sweeps-SEIR_kalmar_bleking/runs/quilnr6w</a><br/> View project at: <a href='https://wandb.ai/danish2562022/sweeps-SEIR_kalmar_bleking' target=\"_blank\">https://wandb.ai/danish2562022/sweeps-SEIR_kalmar_bleking</a><br/>Synced 5 W&B file(s), 0 media file(s), 0 artifact file(s) and 0 other file(s)"
      ],
      "text/plain": [
       "<IPython.core.display.HTML object>"
      ]
     },
     "metadata": {},
     "output_type": "display_data"
    },
    {
     "data": {
      "text/html": [
       "Find logs at: <code>./wandb/run-20250528_184645-quilnr6w/logs</code>"
      ],
      "text/plain": [
       "<IPython.core.display.HTML object>"
      ]
     },
     "metadata": {},
     "output_type": "display_data"
    },
    {
     "data": {
      "text/html": [
       "The new W&B backend becomes opt-out in version 0.18.0; try it out with `wandb.require(\"core\")`! See https://wandb.me/wandb-core for more information."
      ],
      "text/plain": [
       "<IPython.core.display.HTML object>"
      ]
     },
     "metadata": {},
     "output_type": "display_data"
    },
    {
     "name": "stderr",
     "output_type": "stream",
     "text": [
      "\u001b[34m\u001b[1mwandb\u001b[0m: Agent Starting Run: ng6syaqo with config:\n",
      "\u001b[34m\u001b[1mwandb\u001b[0m: \tah0: 0.3835556485161149\n",
      "\u001b[34m\u001b[1mwandb\u001b[0m: \tah1: 1.3176291241427207\n",
      "\u001b[34m\u001b[1mwandb\u001b[0m: \tbh0: 7.311266656701287\n",
      "\u001b[34m\u001b[1mwandb\u001b[0m: \tbh1: 8.16993735586412\n",
      "\u001b[34m\u001b[1mwandb\u001b[0m: \tc: 0.8034899090303006\n"
     ]
    },
    {
     "data": {
      "text/html": [
       "wandb version 0.19.11 is available!  To upgrade, please run:\n",
       " $ pip install wandb --upgrade"
      ],
      "text/plain": [
       "<IPython.core.display.HTML object>"
      ]
     },
     "metadata": {},
     "output_type": "display_data"
    },
    {
     "data": {
      "text/html": [
       "Tracking run with wandb version 0.17.4"
      ],
      "text/plain": [
       "<IPython.core.display.HTML object>"
      ]
     },
     "metadata": {},
     "output_type": "display_data"
    },
    {
     "data": {
      "text/html": [
       "Run data is saved locally in <code>/12tb_dsk3/SEIR_model/src/wandb/run-20250528_184656-ng6syaqo</code>"
      ],
      "text/plain": [
       "<IPython.core.display.HTML object>"
      ]
     },
     "metadata": {},
     "output_type": "display_data"
    },
    {
     "data": {
      "text/html": [
       "Syncing run <strong><a href='https://wandb.ai/danish2562022/sweeps-SEIR_kalmar_bleking/runs/ng6syaqo' target=\"_blank\">curious-sweep-13</a></strong> to <a href='https://wandb.ai/danish2562022/sweeps-SEIR_kalmar_bleking' target=\"_blank\">Weights & Biases</a> (<a href='https://wandb.me/run' target=\"_blank\">docs</a>)<br/>Sweep page: <a href='https://wandb.ai/danish2562022/sweeps-SEIR_kalmar_bleking/sweeps/za0efz19' target=\"_blank\">https://wandb.ai/danish2562022/sweeps-SEIR_kalmar_bleking/sweeps/za0efz19</a>"
      ],
      "text/plain": [
       "<IPython.core.display.HTML object>"
      ]
     },
     "metadata": {},
     "output_type": "display_data"
    },
    {
     "data": {
      "text/html": [
       " View project at <a href='https://wandb.ai/danish2562022/sweeps-SEIR_kalmar_bleking' target=\"_blank\">https://wandb.ai/danish2562022/sweeps-SEIR_kalmar_bleking</a>"
      ],
      "text/plain": [
       "<IPython.core.display.HTML object>"
      ]
     },
     "metadata": {},
     "output_type": "display_data"
    },
    {
     "data": {
      "text/html": [
       " View sweep at <a href='https://wandb.ai/danish2562022/sweeps-SEIR_kalmar_bleking/sweeps/za0efz19' target=\"_blank\">https://wandb.ai/danish2562022/sweeps-SEIR_kalmar_bleking/sweeps/za0efz19</a>"
      ],
      "text/plain": [
       "<IPython.core.display.HTML object>"
      ]
     },
     "metadata": {},
     "output_type": "display_data"
    },
    {
     "data": {
      "text/html": [
       " View run at <a href='https://wandb.ai/danish2562022/sweeps-SEIR_kalmar_bleking/runs/ng6syaqo' target=\"_blank\">https://wandb.ai/danish2562022/sweeps-SEIR_kalmar_bleking/runs/ng6syaqo</a>"
      ],
      "text/plain": [
       "<IPython.core.display.HTML object>"
      ]
     },
     "metadata": {},
     "output_type": "display_data"
    },
    {
     "data": {
      "application/vnd.jupyter.widget-view+json": {
       "model_id": "8819d404539445e3a0f000e12c07fc64",
       "version_major": 2,
       "version_minor": 0
      },
      "text/plain": [
       "VBox(children=(Label(value='0.021 MB of 0.021 MB uploaded\\r'), FloatProgress(value=1.0, max=1.0)))"
      ]
     },
     "metadata": {},
     "output_type": "display_data"
    },
    {
     "data": {
      "text/html": [
       "<style>\n",
       "    table.wandb td:nth-child(1) { padding: 0 10px; text-align: left ; width: auto;} td:nth-child(2) {text-align: left ; width: 100%}\n",
       "    .wandb-row { display: flex; flex-direction: row; flex-wrap: wrap; justify-content: flex-start; width: 100% }\n",
       "    .wandb-col { display: flex; flex-direction: column; flex-basis: 100%; flex: 1; padding: 10px; }\n",
       "    </style>\n",
       "<div class=\"wandb-row\"><div class=\"wandb-col\"><h3>Run history:</h3><br/><table class=\"wandb\"><tr><td>CV_RMSE</td><td>▁</td></tr><tr><td>CV_RMSE_'Kalmar</td><td>▁</td></tr><tr><td>CV_RMSE_Blekinge</td><td>▁</td></tr><tr><td>RMSE</td><td>▁</td></tr><tr><td>RMSE_Blekinge</td><td>▁</td></tr><tr><td>RMSE_Kalmar</td><td>▁</td></tr></table><br/></div><div class=\"wandb-col\"><h3>Run summary:</h3><br/><table class=\"wandb\"><tr><td>CV_RMSE</td><td>339.02831</td></tr><tr><td>CV_RMSE_'Kalmar</td><td>148.55585</td></tr><tr><td>CV_RMSE_Blekinge</td><td>190.47246</td></tr><tr><td>RMSE</td><td>23.90087</td></tr><tr><td>RMSE_Blekinge</td><td>8.5501</td></tr><tr><td>RMSE_Kalmar</td><td>15.35077</td></tr></table><br/></div></div>"
      ],
      "text/plain": [
       "<IPython.core.display.HTML object>"
      ]
     },
     "metadata": {},
     "output_type": "display_data"
    },
    {
     "data": {
      "text/html": [
       " View run <strong style=\"color:#cdcd00\">curious-sweep-13</strong> at: <a href='https://wandb.ai/danish2562022/sweeps-SEIR_kalmar_bleking/runs/ng6syaqo' target=\"_blank\">https://wandb.ai/danish2562022/sweeps-SEIR_kalmar_bleking/runs/ng6syaqo</a><br/> View project at: <a href='https://wandb.ai/danish2562022/sweeps-SEIR_kalmar_bleking' target=\"_blank\">https://wandb.ai/danish2562022/sweeps-SEIR_kalmar_bleking</a><br/>Synced 5 W&B file(s), 0 media file(s), 0 artifact file(s) and 0 other file(s)"
      ],
      "text/plain": [
       "<IPython.core.display.HTML object>"
      ]
     },
     "metadata": {},
     "output_type": "display_data"
    },
    {
     "data": {
      "text/html": [
       "Find logs at: <code>./wandb/run-20250528_184656-ng6syaqo/logs</code>"
      ],
      "text/plain": [
       "<IPython.core.display.HTML object>"
      ]
     },
     "metadata": {},
     "output_type": "display_data"
    },
    {
     "data": {
      "text/html": [
       "The new W&B backend becomes opt-out in version 0.18.0; try it out with `wandb.require(\"core\")`! See https://wandb.me/wandb-core for more information."
      ],
      "text/plain": [
       "<IPython.core.display.HTML object>"
      ]
     },
     "metadata": {},
     "output_type": "display_data"
    },
    {
     "name": "stderr",
     "output_type": "stream",
     "text": [
      "\u001b[34m\u001b[1mwandb\u001b[0m: Agent Starting Run: a5a2tjft with config:\n",
      "\u001b[34m\u001b[1mwandb\u001b[0m: \tah0: 1.3064080396350026\n",
      "\u001b[34m\u001b[1mwandb\u001b[0m: \tah1: 2.728095449259698\n",
      "\u001b[34m\u001b[1mwandb\u001b[0m: \tbh0: 6.0157102629716235\n",
      "\u001b[34m\u001b[1mwandb\u001b[0m: \tbh1: 9.35058625855454\n",
      "\u001b[34m\u001b[1mwandb\u001b[0m: \tc: 0.5461234931245207\n"
     ]
    },
    {
     "data": {
      "text/html": [
       "wandb version 0.19.11 is available!  To upgrade, please run:\n",
       " $ pip install wandb --upgrade"
      ],
      "text/plain": [
       "<IPython.core.display.HTML object>"
      ]
     },
     "metadata": {},
     "output_type": "display_data"
    },
    {
     "data": {
      "text/html": [
       "Tracking run with wandb version 0.17.4"
      ],
      "text/plain": [
       "<IPython.core.display.HTML object>"
      ]
     },
     "metadata": {},
     "output_type": "display_data"
    },
    {
     "data": {
      "text/html": [
       "Run data is saved locally in <code>/12tb_dsk3/SEIR_model/src/wandb/run-20250528_184706-a5a2tjft</code>"
      ],
      "text/plain": [
       "<IPython.core.display.HTML object>"
      ]
     },
     "metadata": {},
     "output_type": "display_data"
    },
    {
     "data": {
      "text/html": [
       "Syncing run <strong><a href='https://wandb.ai/danish2562022/sweeps-SEIR_kalmar_bleking/runs/a5a2tjft' target=\"_blank\">rural-sweep-14</a></strong> to <a href='https://wandb.ai/danish2562022/sweeps-SEIR_kalmar_bleking' target=\"_blank\">Weights & Biases</a> (<a href='https://wandb.me/run' target=\"_blank\">docs</a>)<br/>Sweep page: <a href='https://wandb.ai/danish2562022/sweeps-SEIR_kalmar_bleking/sweeps/za0efz19' target=\"_blank\">https://wandb.ai/danish2562022/sweeps-SEIR_kalmar_bleking/sweeps/za0efz19</a>"
      ],
      "text/plain": [
       "<IPython.core.display.HTML object>"
      ]
     },
     "metadata": {},
     "output_type": "display_data"
    },
    {
     "data": {
      "text/html": [
       " View project at <a href='https://wandb.ai/danish2562022/sweeps-SEIR_kalmar_bleking' target=\"_blank\">https://wandb.ai/danish2562022/sweeps-SEIR_kalmar_bleking</a>"
      ],
      "text/plain": [
       "<IPython.core.display.HTML object>"
      ]
     },
     "metadata": {},
     "output_type": "display_data"
    },
    {
     "data": {
      "text/html": [
       " View sweep at <a href='https://wandb.ai/danish2562022/sweeps-SEIR_kalmar_bleking/sweeps/za0efz19' target=\"_blank\">https://wandb.ai/danish2562022/sweeps-SEIR_kalmar_bleking/sweeps/za0efz19</a>"
      ],
      "text/plain": [
       "<IPython.core.display.HTML object>"
      ]
     },
     "metadata": {},
     "output_type": "display_data"
    },
    {
     "data": {
      "text/html": [
       " View run at <a href='https://wandb.ai/danish2562022/sweeps-SEIR_kalmar_bleking/runs/a5a2tjft' target=\"_blank\">https://wandb.ai/danish2562022/sweeps-SEIR_kalmar_bleking/runs/a5a2tjft</a>"
      ],
      "text/plain": [
       "<IPython.core.display.HTML object>"
      ]
     },
     "metadata": {},
     "output_type": "display_data"
    },
    {
     "data": {
      "application/vnd.jupyter.widget-view+json": {
       "model_id": "68d372d91d4c469a8769fbc46a669fdf",
       "version_major": 2,
       "version_minor": 0
      },
      "text/plain": [
       "VBox(children=(Label(value='0.021 MB of 0.021 MB uploaded\\r'), FloatProgress(value=1.0, max=1.0)))"
      ]
     },
     "metadata": {},
     "output_type": "display_data"
    },
    {
     "data": {
      "text/html": [
       "<style>\n",
       "    table.wandb td:nth-child(1) { padding: 0 10px; text-align: left ; width: auto;} td:nth-child(2) {text-align: left ; width: 100%}\n",
       "    .wandb-row { display: flex; flex-direction: row; flex-wrap: wrap; justify-content: flex-start; width: 100% }\n",
       "    .wandb-col { display: flex; flex-direction: column; flex-basis: 100%; flex: 1; padding: 10px; }\n",
       "    </style>\n",
       "<div class=\"wandb-row\"><div class=\"wandb-col\"><h3>Run history:</h3><br/><table class=\"wandb\"><tr><td>CV_RMSE</td><td>▁</td></tr><tr><td>CV_RMSE_'Kalmar</td><td>▁</td></tr><tr><td>CV_RMSE_Blekinge</td><td>▁</td></tr><tr><td>RMSE</td><td>▁</td></tr><tr><td>RMSE_Blekinge</td><td>▁</td></tr><tr><td>RMSE_Kalmar</td><td>▁</td></tr></table><br/></div><div class=\"wandb-col\"><h3>Run summary:</h3><br/><table class=\"wandb\"><tr><td>CV_RMSE</td><td>4202.41769</td></tr><tr><td>CV_RMSE_'Kalmar</td><td>1557.237</td></tr><tr><td>CV_RMSE_Blekinge</td><td>2645.18069</td></tr><tr><td>RMSE</td><td>279.65371</td></tr><tr><td>RMSE_Blekinge</td><td>118.73922</td></tr><tr><td>RMSE_Kalmar</td><td>160.91449</td></tr></table><br/></div></div>"
      ],
      "text/plain": [
       "<IPython.core.display.HTML object>"
      ]
     },
     "metadata": {},
     "output_type": "display_data"
    },
    {
     "data": {
      "text/html": [
       " View run <strong style=\"color:#cdcd00\">rural-sweep-14</strong> at: <a href='https://wandb.ai/danish2562022/sweeps-SEIR_kalmar_bleking/runs/a5a2tjft' target=\"_blank\">https://wandb.ai/danish2562022/sweeps-SEIR_kalmar_bleking/runs/a5a2tjft</a><br/> View project at: <a href='https://wandb.ai/danish2562022/sweeps-SEIR_kalmar_bleking' target=\"_blank\">https://wandb.ai/danish2562022/sweeps-SEIR_kalmar_bleking</a><br/>Synced 5 W&B file(s), 0 media file(s), 0 artifact file(s) and 0 other file(s)"
      ],
      "text/plain": [
       "<IPython.core.display.HTML object>"
      ]
     },
     "metadata": {},
     "output_type": "display_data"
    },
    {
     "data": {
      "text/html": [
       "Find logs at: <code>./wandb/run-20250528_184706-a5a2tjft/logs</code>"
      ],
      "text/plain": [
       "<IPython.core.display.HTML object>"
      ]
     },
     "metadata": {},
     "output_type": "display_data"
    },
    {
     "data": {
      "text/html": [
       "The new W&B backend becomes opt-out in version 0.18.0; try it out with `wandb.require(\"core\")`! See https://wandb.me/wandb-core for more information."
      ],
      "text/plain": [
       "<IPython.core.display.HTML object>"
      ]
     },
     "metadata": {},
     "output_type": "display_data"
    },
    {
     "name": "stderr",
     "output_type": "stream",
     "text": [
      "\u001b[34m\u001b[1mwandb\u001b[0m: Agent Starting Run: z4xhzwlr with config:\n",
      "\u001b[34m\u001b[1mwandb\u001b[0m: \tah0: 0.06748146047543702\n",
      "\u001b[34m\u001b[1mwandb\u001b[0m: \tah1: 0.2583047257142481\n",
      "\u001b[34m\u001b[1mwandb\u001b[0m: \tbh0: 6.681165526793599\n",
      "\u001b[34m\u001b[1mwandb\u001b[0m: \tbh1: 5.656905488192918\n",
      "\u001b[34m\u001b[1mwandb\u001b[0m: \tc: 0.8857798626317896\n"
     ]
    },
    {
     "data": {
      "text/html": [
       "wandb version 0.19.11 is available!  To upgrade, please run:\n",
       " $ pip install wandb --upgrade"
      ],
      "text/plain": [
       "<IPython.core.display.HTML object>"
      ]
     },
     "metadata": {},
     "output_type": "display_data"
    },
    {
     "data": {
      "text/html": [
       "Tracking run with wandb version 0.17.4"
      ],
      "text/plain": [
       "<IPython.core.display.HTML object>"
      ]
     },
     "metadata": {},
     "output_type": "display_data"
    },
    {
     "data": {
      "text/html": [
       "Run data is saved locally in <code>/12tb_dsk3/SEIR_model/src/wandb/run-20250528_184716-z4xhzwlr</code>"
      ],
      "text/plain": [
       "<IPython.core.display.HTML object>"
      ]
     },
     "metadata": {},
     "output_type": "display_data"
    },
    {
     "data": {
      "text/html": [
       "Syncing run <strong><a href='https://wandb.ai/danish2562022/sweeps-SEIR_kalmar_bleking/runs/z4xhzwlr' target=\"_blank\">rare-sweep-15</a></strong> to <a href='https://wandb.ai/danish2562022/sweeps-SEIR_kalmar_bleking' target=\"_blank\">Weights & Biases</a> (<a href='https://wandb.me/run' target=\"_blank\">docs</a>)<br/>Sweep page: <a href='https://wandb.ai/danish2562022/sweeps-SEIR_kalmar_bleking/sweeps/za0efz19' target=\"_blank\">https://wandb.ai/danish2562022/sweeps-SEIR_kalmar_bleking/sweeps/za0efz19</a>"
      ],
      "text/plain": [
       "<IPython.core.display.HTML object>"
      ]
     },
     "metadata": {},
     "output_type": "display_data"
    },
    {
     "data": {
      "text/html": [
       " View project at <a href='https://wandb.ai/danish2562022/sweeps-SEIR_kalmar_bleking' target=\"_blank\">https://wandb.ai/danish2562022/sweeps-SEIR_kalmar_bleking</a>"
      ],
      "text/plain": [
       "<IPython.core.display.HTML object>"
      ]
     },
     "metadata": {},
     "output_type": "display_data"
    },
    {
     "data": {
      "text/html": [
       " View sweep at <a href='https://wandb.ai/danish2562022/sweeps-SEIR_kalmar_bleking/sweeps/za0efz19' target=\"_blank\">https://wandb.ai/danish2562022/sweeps-SEIR_kalmar_bleking/sweeps/za0efz19</a>"
      ],
      "text/plain": [
       "<IPython.core.display.HTML object>"
      ]
     },
     "metadata": {},
     "output_type": "display_data"
    },
    {
     "data": {
      "text/html": [
       " View run at <a href='https://wandb.ai/danish2562022/sweeps-SEIR_kalmar_bleking/runs/z4xhzwlr' target=\"_blank\">https://wandb.ai/danish2562022/sweeps-SEIR_kalmar_bleking/runs/z4xhzwlr</a>"
      ],
      "text/plain": [
       "<IPython.core.display.HTML object>"
      ]
     },
     "metadata": {},
     "output_type": "display_data"
    },
    {
     "data": {
      "application/vnd.jupyter.widget-view+json": {
       "model_id": "ddee7be4eaee4faba5101b6246747978",
       "version_major": 2,
       "version_minor": 0
      },
      "text/plain": [
       "VBox(children=(Label(value='0.021 MB of 0.021 MB uploaded\\r'), FloatProgress(value=1.0, max=1.0)))"
      ]
     },
     "metadata": {},
     "output_type": "display_data"
    },
    {
     "data": {
      "text/html": [
       "<style>\n",
       "    table.wandb td:nth-child(1) { padding: 0 10px; text-align: left ; width: auto;} td:nth-child(2) {text-align: left ; width: 100%}\n",
       "    .wandb-row { display: flex; flex-direction: row; flex-wrap: wrap; justify-content: flex-start; width: 100% }\n",
       "    .wandb-col { display: flex; flex-direction: column; flex-basis: 100%; flex: 1; padding: 10px; }\n",
       "    </style>\n",
       "<div class=\"wandb-row\"><div class=\"wandb-col\"><h3>Run history:</h3><br/><table class=\"wandb\"><tr><td>CV_RMSE</td><td>▁</td></tr><tr><td>CV_RMSE_'Kalmar</td><td>▁</td></tr><tr><td>CV_RMSE_Blekinge</td><td>▁</td></tr><tr><td>RMSE</td><td>▁</td></tr><tr><td>RMSE_Blekinge</td><td>▁</td></tr><tr><td>RMSE_Kalmar</td><td>▁</td></tr></table><br/></div><div class=\"wandb-col\"><h3>Run summary:</h3><br/><table class=\"wandb\"><tr><td>CV_RMSE</td><td>306.88029</td></tr><tr><td>CV_RMSE_'Kalmar</td><td>144.97896</td></tr><tr><td>CV_RMSE_Blekinge</td><td>161.90133</td></tr><tr><td>RMSE</td><td>22.24873</td></tr><tr><td>RMSE_Blekinge</td><td>7.26757</td></tr><tr><td>RMSE_Kalmar</td><td>14.98116</td></tr></table><br/></div></div>"
      ],
      "text/plain": [
       "<IPython.core.display.HTML object>"
      ]
     },
     "metadata": {},
     "output_type": "display_data"
    },
    {
     "data": {
      "text/html": [
       " View run <strong style=\"color:#cdcd00\">rare-sweep-15</strong> at: <a href='https://wandb.ai/danish2562022/sweeps-SEIR_kalmar_bleking/runs/z4xhzwlr' target=\"_blank\">https://wandb.ai/danish2562022/sweeps-SEIR_kalmar_bleking/runs/z4xhzwlr</a><br/> View project at: <a href='https://wandb.ai/danish2562022/sweeps-SEIR_kalmar_bleking' target=\"_blank\">https://wandb.ai/danish2562022/sweeps-SEIR_kalmar_bleking</a><br/>Synced 5 W&B file(s), 0 media file(s), 0 artifact file(s) and 0 other file(s)"
      ],
      "text/plain": [
       "<IPython.core.display.HTML object>"
      ]
     },
     "metadata": {},
     "output_type": "display_data"
    },
    {
     "data": {
      "text/html": [
       "Find logs at: <code>./wandb/run-20250528_184716-z4xhzwlr/logs</code>"
      ],
      "text/plain": [
       "<IPython.core.display.HTML object>"
      ]
     },
     "metadata": {},
     "output_type": "display_data"
    },
    {
     "data": {
      "text/html": [
       "The new W&B backend becomes opt-out in version 0.18.0; try it out with `wandb.require(\"core\")`! See https://wandb.me/wandb-core for more information."
      ],
      "text/plain": [
       "<IPython.core.display.HTML object>"
      ]
     },
     "metadata": {},
     "output_type": "display_data"
    },
    {
     "name": "stderr",
     "output_type": "stream",
     "text": [
      "\u001b[34m\u001b[1mwandb\u001b[0m: Sweep Agent: Waiting for job.\n",
      "\u001b[34m\u001b[1mwandb\u001b[0m: Job received.\n",
      "\u001b[34m\u001b[1mwandb\u001b[0m: Agent Starting Run: eisuqlav with config:\n",
      "\u001b[34m\u001b[1mwandb\u001b[0m: \tah0: 0.6938292567403672\n",
      "\u001b[34m\u001b[1mwandb\u001b[0m: \tah1: 2.754979329469161\n",
      "\u001b[34m\u001b[1mwandb\u001b[0m: \tbh0: 5.193847357557283\n",
      "\u001b[34m\u001b[1mwandb\u001b[0m: \tbh1: 5.28006242965792\n",
      "\u001b[34m\u001b[1mwandb\u001b[0m: \tc: 0.0007441343968396241\n"
     ]
    },
    {
     "data": {
      "text/html": [
       "wandb version 0.19.11 is available!  To upgrade, please run:\n",
       " $ pip install wandb --upgrade"
      ],
      "text/plain": [
       "<IPython.core.display.HTML object>"
      ]
     },
     "metadata": {},
     "output_type": "display_data"
    },
    {
     "data": {
      "text/html": [
       "Tracking run with wandb version 0.17.4"
      ],
      "text/plain": [
       "<IPython.core.display.HTML object>"
      ]
     },
     "metadata": {},
     "output_type": "display_data"
    },
    {
     "data": {
      "text/html": [
       "Run data is saved locally in <code>/12tb_dsk3/SEIR_model/src/wandb/run-20250528_184733-eisuqlav</code>"
      ],
      "text/plain": [
       "<IPython.core.display.HTML object>"
      ]
     },
     "metadata": {},
     "output_type": "display_data"
    },
    {
     "data": {
      "text/html": [
       "Syncing run <strong><a href='https://wandb.ai/danish2562022/sweeps-SEIR_kalmar_bleking/runs/eisuqlav' target=\"_blank\">denim-sweep-16</a></strong> to <a href='https://wandb.ai/danish2562022/sweeps-SEIR_kalmar_bleking' target=\"_blank\">Weights & Biases</a> (<a href='https://wandb.me/run' target=\"_blank\">docs</a>)<br/>Sweep page: <a href='https://wandb.ai/danish2562022/sweeps-SEIR_kalmar_bleking/sweeps/za0efz19' target=\"_blank\">https://wandb.ai/danish2562022/sweeps-SEIR_kalmar_bleking/sweeps/za0efz19</a>"
      ],
      "text/plain": [
       "<IPython.core.display.HTML object>"
      ]
     },
     "metadata": {},
     "output_type": "display_data"
    },
    {
     "data": {
      "text/html": [
       " View project at <a href='https://wandb.ai/danish2562022/sweeps-SEIR_kalmar_bleking' target=\"_blank\">https://wandb.ai/danish2562022/sweeps-SEIR_kalmar_bleking</a>"
      ],
      "text/plain": [
       "<IPython.core.display.HTML object>"
      ]
     },
     "metadata": {},
     "output_type": "display_data"
    },
    {
     "data": {
      "text/html": [
       " View sweep at <a href='https://wandb.ai/danish2562022/sweeps-SEIR_kalmar_bleking/sweeps/za0efz19' target=\"_blank\">https://wandb.ai/danish2562022/sweeps-SEIR_kalmar_bleking/sweeps/za0efz19</a>"
      ],
      "text/plain": [
       "<IPython.core.display.HTML object>"
      ]
     },
     "metadata": {},
     "output_type": "display_data"
    },
    {
     "data": {
      "text/html": [
       " View run at <a href='https://wandb.ai/danish2562022/sweeps-SEIR_kalmar_bleking/runs/eisuqlav' target=\"_blank\">https://wandb.ai/danish2562022/sweeps-SEIR_kalmar_bleking/runs/eisuqlav</a>"
      ],
      "text/plain": [
       "<IPython.core.display.HTML object>"
      ]
     },
     "metadata": {},
     "output_type": "display_data"
    },
    {
     "data": {
      "application/vnd.jupyter.widget-view+json": {
       "model_id": "91c5514b08f34348a0c618e3bf1bac07",
       "version_major": 2,
       "version_minor": 0
      },
      "text/plain": [
       "VBox(children=(Label(value='0.021 MB of 0.021 MB uploaded\\r'), FloatProgress(value=1.0, max=1.0)))"
      ]
     },
     "metadata": {},
     "output_type": "display_data"
    },
    {
     "data": {
      "text/html": [
       "<style>\n",
       "    table.wandb td:nth-child(1) { padding: 0 10px; text-align: left ; width: auto;} td:nth-child(2) {text-align: left ; width: 100%}\n",
       "    .wandb-row { display: flex; flex-direction: row; flex-wrap: wrap; justify-content: flex-start; width: 100% }\n",
       "    .wandb-col { display: flex; flex-direction: column; flex-basis: 100%; flex: 1; padding: 10px; }\n",
       "    </style>\n",
       "<div class=\"wandb-row\"><div class=\"wandb-col\"><h3>Run history:</h3><br/><table class=\"wandb\"><tr><td>CV_RMSE</td><td>▁</td></tr><tr><td>CV_RMSE_'Kalmar</td><td>▁</td></tr><tr><td>CV_RMSE_Blekinge</td><td>▁</td></tr><tr><td>RMSE</td><td>▁</td></tr><tr><td>RMSE_Blekinge</td><td>▁</td></tr><tr><td>RMSE_Kalmar</td><td>▁</td></tr></table><br/></div><div class=\"wandb-col\"><h3>Run summary:</h3><br/><table class=\"wandb\"><tr><td>CV_RMSE</td><td>2375.05931</td></tr><tr><td>CV_RMSE_'Kalmar</td><td>144.86748</td></tr><tr><td>CV_RMSE_Blekinge</td><td>2230.19183</td></tr><tr><td>RMSE</td><td>115.08047</td></tr><tr><td>RMSE_Blekinge</td><td>100.11083</td></tr><tr><td>RMSE_Kalmar</td><td>14.96964</td></tr></table><br/></div></div>"
      ],
      "text/plain": [
       "<IPython.core.display.HTML object>"
      ]
     },
     "metadata": {},
     "output_type": "display_data"
    },
    {
     "data": {
      "text/html": [
       " View run <strong style=\"color:#cdcd00\">denim-sweep-16</strong> at: <a href='https://wandb.ai/danish2562022/sweeps-SEIR_kalmar_bleking/runs/eisuqlav' target=\"_blank\">https://wandb.ai/danish2562022/sweeps-SEIR_kalmar_bleking/runs/eisuqlav</a><br/> View project at: <a href='https://wandb.ai/danish2562022/sweeps-SEIR_kalmar_bleking' target=\"_blank\">https://wandb.ai/danish2562022/sweeps-SEIR_kalmar_bleking</a><br/>Synced 5 W&B file(s), 0 media file(s), 0 artifact file(s) and 0 other file(s)"
      ],
      "text/plain": [
       "<IPython.core.display.HTML object>"
      ]
     },
     "metadata": {},
     "output_type": "display_data"
    },
    {
     "data": {
      "text/html": [
       "Find logs at: <code>./wandb/run-20250528_184733-eisuqlav/logs</code>"
      ],
      "text/plain": [
       "<IPython.core.display.HTML object>"
      ]
     },
     "metadata": {},
     "output_type": "display_data"
    },
    {
     "data": {
      "text/html": [
       "The new W&B backend becomes opt-out in version 0.18.0; try it out with `wandb.require(\"core\")`! See https://wandb.me/wandb-core for more information."
      ],
      "text/plain": [
       "<IPython.core.display.HTML object>"
      ]
     },
     "metadata": {},
     "output_type": "display_data"
    },
    {
     "name": "stderr",
     "output_type": "stream",
     "text": [
      "\u001b[34m\u001b[1mwandb\u001b[0m: Agent Starting Run: jo96d079 with config:\n",
      "\u001b[34m\u001b[1mwandb\u001b[0m: \tah0: 2.500702657747317\n",
      "\u001b[34m\u001b[1mwandb\u001b[0m: \tah1: 1.4911308207177083\n",
      "\u001b[34m\u001b[1mwandb\u001b[0m: \tbh0: 5.448921359886839\n",
      "\u001b[34m\u001b[1mwandb\u001b[0m: \tbh1: 5.452244599406596\n",
      "\u001b[34m\u001b[1mwandb\u001b[0m: \tc: 0.8769274987076145\n"
     ]
    },
    {
     "data": {
      "text/html": [
       "wandb version 0.19.11 is available!  To upgrade, please run:\n",
       " $ pip install wandb --upgrade"
      ],
      "text/plain": [
       "<IPython.core.display.HTML object>"
      ]
     },
     "metadata": {},
     "output_type": "display_data"
    },
    {
     "data": {
      "text/html": [
       "Tracking run with wandb version 0.17.4"
      ],
      "text/plain": [
       "<IPython.core.display.HTML object>"
      ]
     },
     "metadata": {},
     "output_type": "display_data"
    },
    {
     "data": {
      "text/html": [
       "Run data is saved locally in <code>/12tb_dsk3/SEIR_model/src/wandb/run-20250528_184743-jo96d079</code>"
      ],
      "text/plain": [
       "<IPython.core.display.HTML object>"
      ]
     },
     "metadata": {},
     "output_type": "display_data"
    },
    {
     "data": {
      "text/html": [
       "Syncing run <strong><a href='https://wandb.ai/danish2562022/sweeps-SEIR_kalmar_bleking/runs/jo96d079' target=\"_blank\">vocal-sweep-17</a></strong> to <a href='https://wandb.ai/danish2562022/sweeps-SEIR_kalmar_bleking' target=\"_blank\">Weights & Biases</a> (<a href='https://wandb.me/run' target=\"_blank\">docs</a>)<br/>Sweep page: <a href='https://wandb.ai/danish2562022/sweeps-SEIR_kalmar_bleking/sweeps/za0efz19' target=\"_blank\">https://wandb.ai/danish2562022/sweeps-SEIR_kalmar_bleking/sweeps/za0efz19</a>"
      ],
      "text/plain": [
       "<IPython.core.display.HTML object>"
      ]
     },
     "metadata": {},
     "output_type": "display_data"
    },
    {
     "data": {
      "text/html": [
       " View project at <a href='https://wandb.ai/danish2562022/sweeps-SEIR_kalmar_bleking' target=\"_blank\">https://wandb.ai/danish2562022/sweeps-SEIR_kalmar_bleking</a>"
      ],
      "text/plain": [
       "<IPython.core.display.HTML object>"
      ]
     },
     "metadata": {},
     "output_type": "display_data"
    },
    {
     "data": {
      "text/html": [
       " View sweep at <a href='https://wandb.ai/danish2562022/sweeps-SEIR_kalmar_bleking/sweeps/za0efz19' target=\"_blank\">https://wandb.ai/danish2562022/sweeps-SEIR_kalmar_bleking/sweeps/za0efz19</a>"
      ],
      "text/plain": [
       "<IPython.core.display.HTML object>"
      ]
     },
     "metadata": {},
     "output_type": "display_data"
    },
    {
     "data": {
      "text/html": [
       " View run at <a href='https://wandb.ai/danish2562022/sweeps-SEIR_kalmar_bleking/runs/jo96d079' target=\"_blank\">https://wandb.ai/danish2562022/sweeps-SEIR_kalmar_bleking/runs/jo96d079</a>"
      ],
      "text/plain": [
       "<IPython.core.display.HTML object>"
      ]
     },
     "metadata": {},
     "output_type": "display_data"
    },
    {
     "data": {
      "application/vnd.jupyter.widget-view+json": {
       "model_id": "1172d6a51cd34d57b22fcb43e1581e92",
       "version_major": 2,
       "version_minor": 0
      },
      "text/plain": [
       "VBox(children=(Label(value='0.021 MB of 0.021 MB uploaded\\r'), FloatProgress(value=1.0, max=1.0)))"
      ]
     },
     "metadata": {},
     "output_type": "display_data"
    },
    {
     "data": {
      "text/html": [
       "<style>\n",
       "    table.wandb td:nth-child(1) { padding: 0 10px; text-align: left ; width: auto;} td:nth-child(2) {text-align: left ; width: 100%}\n",
       "    .wandb-row { display: flex; flex-direction: row; flex-wrap: wrap; justify-content: flex-start; width: 100% }\n",
       "    .wandb-col { display: flex; flex-direction: column; flex-basis: 100%; flex: 1; padding: 10px; }\n",
       "    </style>\n",
       "<div class=\"wandb-row\"><div class=\"wandb-col\"><h3>Run history:</h3><br/><table class=\"wandb\"><tr><td>CV_RMSE</td><td>▁</td></tr><tr><td>CV_RMSE_'Kalmar</td><td>▁</td></tr><tr><td>CV_RMSE_Blekinge</td><td>▁</td></tr><tr><td>RMSE</td><td>▁</td></tr><tr><td>RMSE_Blekinge</td><td>▁</td></tr><tr><td>RMSE_Kalmar</td><td>▁</td></tr></table><br/></div><div class=\"wandb-col\"><h3>Run summary:</h3><br/><table class=\"wandb\"><tr><td>CV_RMSE</td><td>3306.86551</td></tr><tr><td>CV_RMSE_'Kalmar</td><td>1351.57237</td></tr><tr><td>CV_RMSE_Blekinge</td><td>1955.29314</td></tr><tr><td>RMSE</td><td>227.43341</td></tr><tr><td>RMSE_Blekinge</td><td>87.77094</td></tr><tr><td>RMSE_Kalmar</td><td>139.66248</td></tr></table><br/></div></div>"
      ],
      "text/plain": [
       "<IPython.core.display.HTML object>"
      ]
     },
     "metadata": {},
     "output_type": "display_data"
    },
    {
     "data": {
      "text/html": [
       " View run <strong style=\"color:#cdcd00\">vocal-sweep-17</strong> at: <a href='https://wandb.ai/danish2562022/sweeps-SEIR_kalmar_bleking/runs/jo96d079' target=\"_blank\">https://wandb.ai/danish2562022/sweeps-SEIR_kalmar_bleking/runs/jo96d079</a><br/> View project at: <a href='https://wandb.ai/danish2562022/sweeps-SEIR_kalmar_bleking' target=\"_blank\">https://wandb.ai/danish2562022/sweeps-SEIR_kalmar_bleking</a><br/>Synced 5 W&B file(s), 0 media file(s), 0 artifact file(s) and 0 other file(s)"
      ],
      "text/plain": [
       "<IPython.core.display.HTML object>"
      ]
     },
     "metadata": {},
     "output_type": "display_data"
    },
    {
     "data": {
      "text/html": [
       "Find logs at: <code>./wandb/run-20250528_184743-jo96d079/logs</code>"
      ],
      "text/plain": [
       "<IPython.core.display.HTML object>"
      ]
     },
     "metadata": {},
     "output_type": "display_data"
    },
    {
     "data": {
      "text/html": [
       "The new W&B backend becomes opt-out in version 0.18.0; try it out with `wandb.require(\"core\")`! See https://wandb.me/wandb-core for more information."
      ],
      "text/plain": [
       "<IPython.core.display.HTML object>"
      ]
     },
     "metadata": {},
     "output_type": "display_data"
    },
    {
     "name": "stderr",
     "output_type": "stream",
     "text": [
      "\u001b[34m\u001b[1mwandb\u001b[0m: Agent Starting Run: d98z71s8 with config:\n",
      "\u001b[34m\u001b[1mwandb\u001b[0m: \tah0: 1.178076103153848\n",
      "\u001b[34m\u001b[1mwandb\u001b[0m: \tah1: 1.2070636440604754\n",
      "\u001b[34m\u001b[1mwandb\u001b[0m: \tbh0: 5.5191015081708725\n",
      "\u001b[34m\u001b[1mwandb\u001b[0m: \tbh1: 3.0744107762781594\n",
      "\u001b[34m\u001b[1mwandb\u001b[0m: \tc: 0.3546416186853505\n"
     ]
    },
    {
     "data": {
      "text/html": [
       "wandb version 0.19.11 is available!  To upgrade, please run:\n",
       " $ pip install wandb --upgrade"
      ],
      "text/plain": [
       "<IPython.core.display.HTML object>"
      ]
     },
     "metadata": {},
     "output_type": "display_data"
    },
    {
     "data": {
      "text/html": [
       "Tracking run with wandb version 0.17.4"
      ],
      "text/plain": [
       "<IPython.core.display.HTML object>"
      ]
     },
     "metadata": {},
     "output_type": "display_data"
    },
    {
     "data": {
      "text/html": [
       "Run data is saved locally in <code>/12tb_dsk3/SEIR_model/src/wandb/run-20250528_184753-d98z71s8</code>"
      ],
      "text/plain": [
       "<IPython.core.display.HTML object>"
      ]
     },
     "metadata": {},
     "output_type": "display_data"
    },
    {
     "data": {
      "text/html": [
       "Syncing run <strong><a href='https://wandb.ai/danish2562022/sweeps-SEIR_kalmar_bleking/runs/d98z71s8' target=\"_blank\">swept-sweep-18</a></strong> to <a href='https://wandb.ai/danish2562022/sweeps-SEIR_kalmar_bleking' target=\"_blank\">Weights & Biases</a> (<a href='https://wandb.me/run' target=\"_blank\">docs</a>)<br/>Sweep page: <a href='https://wandb.ai/danish2562022/sweeps-SEIR_kalmar_bleking/sweeps/za0efz19' target=\"_blank\">https://wandb.ai/danish2562022/sweeps-SEIR_kalmar_bleking/sweeps/za0efz19</a>"
      ],
      "text/plain": [
       "<IPython.core.display.HTML object>"
      ]
     },
     "metadata": {},
     "output_type": "display_data"
    },
    {
     "data": {
      "text/html": [
       " View project at <a href='https://wandb.ai/danish2562022/sweeps-SEIR_kalmar_bleking' target=\"_blank\">https://wandb.ai/danish2562022/sweeps-SEIR_kalmar_bleking</a>"
      ],
      "text/plain": [
       "<IPython.core.display.HTML object>"
      ]
     },
     "metadata": {},
     "output_type": "display_data"
    },
    {
     "data": {
      "text/html": [
       " View sweep at <a href='https://wandb.ai/danish2562022/sweeps-SEIR_kalmar_bleking/sweeps/za0efz19' target=\"_blank\">https://wandb.ai/danish2562022/sweeps-SEIR_kalmar_bleking/sweeps/za0efz19</a>"
      ],
      "text/plain": [
       "<IPython.core.display.HTML object>"
      ]
     },
     "metadata": {},
     "output_type": "display_data"
    },
    {
     "data": {
      "text/html": [
       " View run at <a href='https://wandb.ai/danish2562022/sweeps-SEIR_kalmar_bleking/runs/d98z71s8' target=\"_blank\">https://wandb.ai/danish2562022/sweeps-SEIR_kalmar_bleking/runs/d98z71s8</a>"
      ],
      "text/plain": [
       "<IPython.core.display.HTML object>"
      ]
     },
     "metadata": {},
     "output_type": "display_data"
    },
    {
     "data": {
      "application/vnd.jupyter.widget-view+json": {
       "model_id": "d28d084543f64b17ace474e4eefeaed7",
       "version_major": 2,
       "version_minor": 0
      },
      "text/plain": [
       "VBox(children=(Label(value='0.021 MB of 0.021 MB uploaded\\r'), FloatProgress(value=1.0, max=1.0)))"
      ]
     },
     "metadata": {},
     "output_type": "display_data"
    },
    {
     "data": {
      "text/html": [
       "<style>\n",
       "    table.wandb td:nth-child(1) { padding: 0 10px; text-align: left ; width: auto;} td:nth-child(2) {text-align: left ; width: 100%}\n",
       "    .wandb-row { display: flex; flex-direction: row; flex-wrap: wrap; justify-content: flex-start; width: 100% }\n",
       "    .wandb-col { display: flex; flex-direction: column; flex-basis: 100%; flex: 1; padding: 10px; }\n",
       "    </style>\n",
       "<div class=\"wandb-row\"><div class=\"wandb-col\"><h3>Run history:</h3><br/><table class=\"wandb\"><tr><td>CV_RMSE</td><td>▁</td></tr><tr><td>CV_RMSE_'Kalmar</td><td>▁</td></tr><tr><td>CV_RMSE_Blekinge</td><td>▁</td></tr><tr><td>RMSE</td><td>▁</td></tr><tr><td>RMSE_Blekinge</td><td>▁</td></tr><tr><td>RMSE_Kalmar</td><td>▁</td></tr></table><br/></div><div class=\"wandb-col\"><h3>Run summary:</h3><br/><table class=\"wandb\"><tr><td>CV_RMSE</td><td>305.0173</td></tr><tr><td>CV_RMSE_'Kalmar</td><td>144.54247</td></tr><tr><td>CV_RMSE_Blekinge</td><td>160.47483</td></tr><tr><td>RMSE</td><td>22.13959</td></tr><tr><td>RMSE_Blekinge</td><td>7.20354</td></tr><tr><td>RMSE_Kalmar</td><td>14.93606</td></tr></table><br/></div></div>"
      ],
      "text/plain": [
       "<IPython.core.display.HTML object>"
      ]
     },
     "metadata": {},
     "output_type": "display_data"
    },
    {
     "data": {
      "text/html": [
       " View run <strong style=\"color:#cdcd00\">swept-sweep-18</strong> at: <a href='https://wandb.ai/danish2562022/sweeps-SEIR_kalmar_bleking/runs/d98z71s8' target=\"_blank\">https://wandb.ai/danish2562022/sweeps-SEIR_kalmar_bleking/runs/d98z71s8</a><br/> View project at: <a href='https://wandb.ai/danish2562022/sweeps-SEIR_kalmar_bleking' target=\"_blank\">https://wandb.ai/danish2562022/sweeps-SEIR_kalmar_bleking</a><br/>Synced 5 W&B file(s), 0 media file(s), 0 artifact file(s) and 0 other file(s)"
      ],
      "text/plain": [
       "<IPython.core.display.HTML object>"
      ]
     },
     "metadata": {},
     "output_type": "display_data"
    },
    {
     "data": {
      "text/html": [
       "Find logs at: <code>./wandb/run-20250528_184753-d98z71s8/logs</code>"
      ],
      "text/plain": [
       "<IPython.core.display.HTML object>"
      ]
     },
     "metadata": {},
     "output_type": "display_data"
    },
    {
     "data": {
      "text/html": [
       "The new W&B backend becomes opt-out in version 0.18.0; try it out with `wandb.require(\"core\")`! See https://wandb.me/wandb-core for more information."
      ],
      "text/plain": [
       "<IPython.core.display.HTML object>"
      ]
     },
     "metadata": {},
     "output_type": "display_data"
    },
    {
     "name": "stderr",
     "output_type": "stream",
     "text": [
      "\u001b[34m\u001b[1mwandb\u001b[0m: Agent Starting Run: tl39c4he with config:\n",
      "\u001b[34m\u001b[1mwandb\u001b[0m: \tah0: 2.2352862473410906\n",
      "\u001b[34m\u001b[1mwandb\u001b[0m: \tah1: 1.8282709807328472\n",
      "\u001b[34m\u001b[1mwandb\u001b[0m: \tbh0: 4.158150145784311\n",
      "\u001b[34m\u001b[1mwandb\u001b[0m: \tbh1: 4.429231172260342\n",
      "\u001b[34m\u001b[1mwandb\u001b[0m: \tc: 0.30764265417640624\n"
     ]
    },
    {
     "data": {
      "text/html": [
       "wandb version 0.19.11 is available!  To upgrade, please run:\n",
       " $ pip install wandb --upgrade"
      ],
      "text/plain": [
       "<IPython.core.display.HTML object>"
      ]
     },
     "metadata": {},
     "output_type": "display_data"
    },
    {
     "data": {
      "text/html": [
       "Tracking run with wandb version 0.17.4"
      ],
      "text/plain": [
       "<IPython.core.display.HTML object>"
      ]
     },
     "metadata": {},
     "output_type": "display_data"
    },
    {
     "data": {
      "text/html": [
       "Run data is saved locally in <code>/12tb_dsk3/SEIR_model/src/wandb/run-20250528_184803-tl39c4he</code>"
      ],
      "text/plain": [
       "<IPython.core.display.HTML object>"
      ]
     },
     "metadata": {},
     "output_type": "display_data"
    },
    {
     "data": {
      "text/html": [
       "Syncing run <strong><a href='https://wandb.ai/danish2562022/sweeps-SEIR_kalmar_bleking/runs/tl39c4he' target=\"_blank\">pleasant-sweep-19</a></strong> to <a href='https://wandb.ai/danish2562022/sweeps-SEIR_kalmar_bleking' target=\"_blank\">Weights & Biases</a> (<a href='https://wandb.me/run' target=\"_blank\">docs</a>)<br/>Sweep page: <a href='https://wandb.ai/danish2562022/sweeps-SEIR_kalmar_bleking/sweeps/za0efz19' target=\"_blank\">https://wandb.ai/danish2562022/sweeps-SEIR_kalmar_bleking/sweeps/za0efz19</a>"
      ],
      "text/plain": [
       "<IPython.core.display.HTML object>"
      ]
     },
     "metadata": {},
     "output_type": "display_data"
    },
    {
     "data": {
      "text/html": [
       " View project at <a href='https://wandb.ai/danish2562022/sweeps-SEIR_kalmar_bleking' target=\"_blank\">https://wandb.ai/danish2562022/sweeps-SEIR_kalmar_bleking</a>"
      ],
      "text/plain": [
       "<IPython.core.display.HTML object>"
      ]
     },
     "metadata": {},
     "output_type": "display_data"
    },
    {
     "data": {
      "text/html": [
       " View sweep at <a href='https://wandb.ai/danish2562022/sweeps-SEIR_kalmar_bleking/sweeps/za0efz19' target=\"_blank\">https://wandb.ai/danish2562022/sweeps-SEIR_kalmar_bleking/sweeps/za0efz19</a>"
      ],
      "text/plain": [
       "<IPython.core.display.HTML object>"
      ]
     },
     "metadata": {},
     "output_type": "display_data"
    },
    {
     "data": {
      "text/html": [
       " View run at <a href='https://wandb.ai/danish2562022/sweeps-SEIR_kalmar_bleking/runs/tl39c4he' target=\"_blank\">https://wandb.ai/danish2562022/sweeps-SEIR_kalmar_bleking/runs/tl39c4he</a>"
      ],
      "text/plain": [
       "<IPython.core.display.HTML object>"
      ]
     },
     "metadata": {},
     "output_type": "display_data"
    },
    {
     "data": {
      "application/vnd.jupyter.widget-view+json": {
       "model_id": "933ee3aaba2d4de98799e2bf67bc8255",
       "version_major": 2,
       "version_minor": 0
      },
      "text/plain": [
       "VBox(children=(Label(value='0.021 MB of 0.021 MB uploaded\\r'), FloatProgress(value=1.0, max=1.0)))"
      ]
     },
     "metadata": {},
     "output_type": "display_data"
    },
    {
     "data": {
      "text/html": [
       "<style>\n",
       "    table.wandb td:nth-child(1) { padding: 0 10px; text-align: left ; width: auto;} td:nth-child(2) {text-align: left ; width: 100%}\n",
       "    .wandb-row { display: flex; flex-direction: row; flex-wrap: wrap; justify-content: flex-start; width: 100% }\n",
       "    .wandb-col { display: flex; flex-direction: column; flex-basis: 100%; flex: 1; padding: 10px; }\n",
       "    </style>\n",
       "<div class=\"wandb-row\"><div class=\"wandb-col\"><h3>Run history:</h3><br/><table class=\"wandb\"><tr><td>CV_RMSE</td><td>▁</td></tr><tr><td>CV_RMSE_'Kalmar</td><td>▁</td></tr><tr><td>CV_RMSE_Blekinge</td><td>▁</td></tr><tr><td>RMSE</td><td>▁</td></tr><tr><td>RMSE_Blekinge</td><td>▁</td></tr><tr><td>RMSE_Kalmar</td><td>▁</td></tr></table><br/></div><div class=\"wandb-col\"><h3>Run summary:</h3><br/><table class=\"wandb\"><tr><td>CV_RMSE</td><td>4121.52657</td></tr><tr><td>CV_RMSE_'Kalmar</td><td>1615.81585</td></tr><tr><td>CV_RMSE_Blekinge</td><td>2505.71072</td></tr><tr><td>RMSE</td><td>279.44621</td></tr><tr><td>RMSE_Blekinge</td><td>112.47857</td></tr><tr><td>RMSE_Kalmar</td><td>166.96764</td></tr></table><br/></div></div>"
      ],
      "text/plain": [
       "<IPython.core.display.HTML object>"
      ]
     },
     "metadata": {},
     "output_type": "display_data"
    },
    {
     "data": {
      "text/html": [
       " View run <strong style=\"color:#cdcd00\">pleasant-sweep-19</strong> at: <a href='https://wandb.ai/danish2562022/sweeps-SEIR_kalmar_bleking/runs/tl39c4he' target=\"_blank\">https://wandb.ai/danish2562022/sweeps-SEIR_kalmar_bleking/runs/tl39c4he</a><br/> View project at: <a href='https://wandb.ai/danish2562022/sweeps-SEIR_kalmar_bleking' target=\"_blank\">https://wandb.ai/danish2562022/sweeps-SEIR_kalmar_bleking</a><br/>Synced 5 W&B file(s), 0 media file(s), 0 artifact file(s) and 0 other file(s)"
      ],
      "text/plain": [
       "<IPython.core.display.HTML object>"
      ]
     },
     "metadata": {},
     "output_type": "display_data"
    },
    {
     "data": {
      "text/html": [
       "Find logs at: <code>./wandb/run-20250528_184803-tl39c4he/logs</code>"
      ],
      "text/plain": [
       "<IPython.core.display.HTML object>"
      ]
     },
     "metadata": {},
     "output_type": "display_data"
    },
    {
     "data": {
      "text/html": [
       "The new W&B backend becomes opt-out in version 0.18.0; try it out with `wandb.require(\"core\")`! See https://wandb.me/wandb-core for more information."
      ],
      "text/plain": [
       "<IPython.core.display.HTML object>"
      ]
     },
     "metadata": {},
     "output_type": "display_data"
    },
    {
     "name": "stderr",
     "output_type": "stream",
     "text": [
      "\u001b[34m\u001b[1mwandb\u001b[0m: Sweep Agent: Waiting for job.\n",
      "\u001b[34m\u001b[1mwandb\u001b[0m: Job received.\n",
      "\u001b[34m\u001b[1mwandb\u001b[0m: Agent Starting Run: 65wowtut with config:\n",
      "\u001b[34m\u001b[1mwandb\u001b[0m: \tah0: 1.8499657469734816\n",
      "\u001b[34m\u001b[1mwandb\u001b[0m: \tah1: 0.8360688334565105\n",
      "\u001b[34m\u001b[1mwandb\u001b[0m: \tbh0: 7.218253788968576\n",
      "\u001b[34m\u001b[1mwandb\u001b[0m: \tbh1: 2.0689783951148497\n",
      "\u001b[34m\u001b[1mwandb\u001b[0m: \tc: 0.7756625578210925\n"
     ]
    },
    {
     "data": {
      "text/html": [
       "wandb version 0.19.11 is available!  To upgrade, please run:\n",
       " $ pip install wandb --upgrade"
      ],
      "text/plain": [
       "<IPython.core.display.HTML object>"
      ]
     },
     "metadata": {},
     "output_type": "display_data"
    },
    {
     "data": {
      "text/html": [
       "Tracking run with wandb version 0.17.4"
      ],
      "text/plain": [
       "<IPython.core.display.HTML object>"
      ]
     },
     "metadata": {},
     "output_type": "display_data"
    },
    {
     "data": {
      "text/html": [
       "Run data is saved locally in <code>/12tb_dsk3/SEIR_model/src/wandb/run-20250528_184820-65wowtut</code>"
      ],
      "text/plain": [
       "<IPython.core.display.HTML object>"
      ]
     },
     "metadata": {},
     "output_type": "display_data"
    },
    {
     "data": {
      "text/html": [
       "Syncing run <strong><a href='https://wandb.ai/danish2562022/sweeps-SEIR_kalmar_bleking/runs/65wowtut' target=\"_blank\">avid-sweep-20</a></strong> to <a href='https://wandb.ai/danish2562022/sweeps-SEIR_kalmar_bleking' target=\"_blank\">Weights & Biases</a> (<a href='https://wandb.me/run' target=\"_blank\">docs</a>)<br/>Sweep page: <a href='https://wandb.ai/danish2562022/sweeps-SEIR_kalmar_bleking/sweeps/za0efz19' target=\"_blank\">https://wandb.ai/danish2562022/sweeps-SEIR_kalmar_bleking/sweeps/za0efz19</a>"
      ],
      "text/plain": [
       "<IPython.core.display.HTML object>"
      ]
     },
     "metadata": {},
     "output_type": "display_data"
    },
    {
     "data": {
      "text/html": [
       " View project at <a href='https://wandb.ai/danish2562022/sweeps-SEIR_kalmar_bleking' target=\"_blank\">https://wandb.ai/danish2562022/sweeps-SEIR_kalmar_bleking</a>"
      ],
      "text/plain": [
       "<IPython.core.display.HTML object>"
      ]
     },
     "metadata": {},
     "output_type": "display_data"
    },
    {
     "data": {
      "text/html": [
       " View sweep at <a href='https://wandb.ai/danish2562022/sweeps-SEIR_kalmar_bleking/sweeps/za0efz19' target=\"_blank\">https://wandb.ai/danish2562022/sweeps-SEIR_kalmar_bleking/sweeps/za0efz19</a>"
      ],
      "text/plain": [
       "<IPython.core.display.HTML object>"
      ]
     },
     "metadata": {},
     "output_type": "display_data"
    },
    {
     "data": {
      "text/html": [
       " View run at <a href='https://wandb.ai/danish2562022/sweeps-SEIR_kalmar_bleking/runs/65wowtut' target=\"_blank\">https://wandb.ai/danish2562022/sweeps-SEIR_kalmar_bleking/runs/65wowtut</a>"
      ],
      "text/plain": [
       "<IPython.core.display.HTML object>"
      ]
     },
     "metadata": {},
     "output_type": "display_data"
    },
    {
     "data": {
      "application/vnd.jupyter.widget-view+json": {
       "model_id": "5cf740063ed5401aa2114669e88354cb",
       "version_major": 2,
       "version_minor": 0
      },
      "text/plain": [
       "VBox(children=(Label(value='0.021 MB of 0.021 MB uploaded\\r'), FloatProgress(value=1.0, max=1.0)))"
      ]
     },
     "metadata": {},
     "output_type": "display_data"
    },
    {
     "data": {
      "text/html": [
       "<style>\n",
       "    table.wandb td:nth-child(1) { padding: 0 10px; text-align: left ; width: auto;} td:nth-child(2) {text-align: left ; width: 100%}\n",
       "    .wandb-row { display: flex; flex-direction: row; flex-wrap: wrap; justify-content: flex-start; width: 100% }\n",
       "    .wandb-col { display: flex; flex-direction: column; flex-basis: 100%; flex: 1; padding: 10px; }\n",
       "    </style>\n",
       "<div class=\"wandb-row\"><div class=\"wandb-col\"><h3>Run history:</h3><br/><table class=\"wandb\"><tr><td>CV_RMSE</td><td>▁</td></tr><tr><td>CV_RMSE_'Kalmar</td><td>▁</td></tr><tr><td>CV_RMSE_Blekinge</td><td>▁</td></tr><tr><td>RMSE</td><td>▁</td></tr><tr><td>RMSE_Blekinge</td><td>▁</td></tr><tr><td>RMSE_Kalmar</td><td>▁</td></tr></table><br/></div><div class=\"wandb-col\"><h3>Run summary:</h3><br/><table class=\"wandb\"><tr><td>CV_RMSE</td><td>3445.56725</td></tr><tr><td>CV_RMSE_'Kalmar</td><td>1627.77814</td></tr><tr><td>CV_RMSE_Blekinge</td><td>1817.78911</td></tr><tr><td>RMSE</td><td>249.80227</td></tr><tr><td>RMSE_Blekinge</td><td>81.59853</td></tr><tr><td>RMSE_Kalmar</td><td>168.20374</td></tr></table><br/></div></div>"
      ],
      "text/plain": [
       "<IPython.core.display.HTML object>"
      ]
     },
     "metadata": {},
     "output_type": "display_data"
    },
    {
     "data": {
      "text/html": [
       " View run <strong style=\"color:#cdcd00\">avid-sweep-20</strong> at: <a href='https://wandb.ai/danish2562022/sweeps-SEIR_kalmar_bleking/runs/65wowtut' target=\"_blank\">https://wandb.ai/danish2562022/sweeps-SEIR_kalmar_bleking/runs/65wowtut</a><br/> View project at: <a href='https://wandb.ai/danish2562022/sweeps-SEIR_kalmar_bleking' target=\"_blank\">https://wandb.ai/danish2562022/sweeps-SEIR_kalmar_bleking</a><br/>Synced 5 W&B file(s), 0 media file(s), 0 artifact file(s) and 0 other file(s)"
      ],
      "text/plain": [
       "<IPython.core.display.HTML object>"
      ]
     },
     "metadata": {},
     "output_type": "display_data"
    },
    {
     "data": {
      "text/html": [
       "Find logs at: <code>./wandb/run-20250528_184820-65wowtut/logs</code>"
      ],
      "text/plain": [
       "<IPython.core.display.HTML object>"
      ]
     },
     "metadata": {},
     "output_type": "display_data"
    },
    {
     "data": {
      "text/html": [
       "The new W&B backend becomes opt-out in version 0.18.0; try it out with `wandb.require(\"core\")`! See https://wandb.me/wandb-core for more information."
      ],
      "text/plain": [
       "<IPython.core.display.HTML object>"
      ]
     },
     "metadata": {},
     "output_type": "display_data"
    },
    {
     "name": "stderr",
     "output_type": "stream",
     "text": [
      "\u001b[34m\u001b[1mwandb\u001b[0m: Agent Starting Run: og4ubknd with config:\n",
      "\u001b[34m\u001b[1mwandb\u001b[0m: \tah0: 2.923047227109242\n",
      "\u001b[34m\u001b[1mwandb\u001b[0m: \tah1: 2.7674841964063583\n",
      "\u001b[34m\u001b[1mwandb\u001b[0m: \tbh0: 2.011048152469641\n",
      "\u001b[34m\u001b[1mwandb\u001b[0m: \tbh1: 2.768654507590954\n",
      "\u001b[34m\u001b[1mwandb\u001b[0m: \tc: 0.5565990636110472\n"
     ]
    },
    {
     "data": {
      "text/html": [
       "wandb version 0.19.11 is available!  To upgrade, please run:\n",
       " $ pip install wandb --upgrade"
      ],
      "text/plain": [
       "<IPython.core.display.HTML object>"
      ]
     },
     "metadata": {},
     "output_type": "display_data"
    },
    {
     "data": {
      "text/html": [
       "Tracking run with wandb version 0.17.4"
      ],
      "text/plain": [
       "<IPython.core.display.HTML object>"
      ]
     },
     "metadata": {},
     "output_type": "display_data"
    },
    {
     "data": {
      "text/html": [
       "Run data is saved locally in <code>/12tb_dsk3/SEIR_model/src/wandb/run-20250528_184830-og4ubknd</code>"
      ],
      "text/plain": [
       "<IPython.core.display.HTML object>"
      ]
     },
     "metadata": {},
     "output_type": "display_data"
    },
    {
     "data": {
      "text/html": [
       "Syncing run <strong><a href='https://wandb.ai/danish2562022/sweeps-SEIR_kalmar_bleking/runs/og4ubknd' target=\"_blank\">valiant-sweep-21</a></strong> to <a href='https://wandb.ai/danish2562022/sweeps-SEIR_kalmar_bleking' target=\"_blank\">Weights & Biases</a> (<a href='https://wandb.me/run' target=\"_blank\">docs</a>)<br/>Sweep page: <a href='https://wandb.ai/danish2562022/sweeps-SEIR_kalmar_bleking/sweeps/za0efz19' target=\"_blank\">https://wandb.ai/danish2562022/sweeps-SEIR_kalmar_bleking/sweeps/za0efz19</a>"
      ],
      "text/plain": [
       "<IPython.core.display.HTML object>"
      ]
     },
     "metadata": {},
     "output_type": "display_data"
    },
    {
     "data": {
      "text/html": [
       " View project at <a href='https://wandb.ai/danish2562022/sweeps-SEIR_kalmar_bleking' target=\"_blank\">https://wandb.ai/danish2562022/sweeps-SEIR_kalmar_bleking</a>"
      ],
      "text/plain": [
       "<IPython.core.display.HTML object>"
      ]
     },
     "metadata": {},
     "output_type": "display_data"
    },
    {
     "data": {
      "text/html": [
       " View sweep at <a href='https://wandb.ai/danish2562022/sweeps-SEIR_kalmar_bleking/sweeps/za0efz19' target=\"_blank\">https://wandb.ai/danish2562022/sweeps-SEIR_kalmar_bleking/sweeps/za0efz19</a>"
      ],
      "text/plain": [
       "<IPython.core.display.HTML object>"
      ]
     },
     "metadata": {},
     "output_type": "display_data"
    },
    {
     "data": {
      "text/html": [
       " View run at <a href='https://wandb.ai/danish2562022/sweeps-SEIR_kalmar_bleking/runs/og4ubknd' target=\"_blank\">https://wandb.ai/danish2562022/sweeps-SEIR_kalmar_bleking/runs/og4ubknd</a>"
      ],
      "text/plain": [
       "<IPython.core.display.HTML object>"
      ]
     },
     "metadata": {},
     "output_type": "display_data"
    },
    {
     "data": {
      "application/vnd.jupyter.widget-view+json": {
       "model_id": "007deb3ac0d44e0a87cf4ae36b6919bd",
       "version_major": 2,
       "version_minor": 0
      },
      "text/plain": [
       "VBox(children=(Label(value='0.017 MB of 0.021 MB uploaded\\r'), FloatProgress(value=0.8007901189719372, max=1.0…"
      ]
     },
     "metadata": {},
     "output_type": "display_data"
    },
    {
     "data": {
      "text/html": [
       "<style>\n",
       "    table.wandb td:nth-child(1) { padding: 0 10px; text-align: left ; width: auto;} td:nth-child(2) {text-align: left ; width: 100%}\n",
       "    .wandb-row { display: flex; flex-direction: row; flex-wrap: wrap; justify-content: flex-start; width: 100% }\n",
       "    .wandb-col { display: flex; flex-direction: column; flex-basis: 100%; flex: 1; padding: 10px; }\n",
       "    </style>\n",
       "<div class=\"wandb-row\"><div class=\"wandb-col\"><h3>Run history:</h3><br/><table class=\"wandb\"><tr><td>CV_RMSE</td><td>▁</td></tr><tr><td>CV_RMSE_'Kalmar</td><td>▁</td></tr><tr><td>CV_RMSE_Blekinge</td><td>▁</td></tr><tr><td>RMSE</td><td>▁</td></tr><tr><td>RMSE_Blekinge</td><td>▁</td></tr><tr><td>RMSE_Kalmar</td><td>▁</td></tr></table><br/></div><div class=\"wandb-col\"><h3>Run summary:</h3><br/><table class=\"wandb\"><tr><td>CV_RMSE</td><td>3604.32739</td></tr><tr><td>CV_RMSE_'Kalmar</td><td>1466.56858</td></tr><tr><td>CV_RMSE_Blekinge</td><td>2137.75881</td></tr><tr><td>RMSE</td><td>247.50704</td></tr><tr><td>RMSE_Blekinge</td><td>95.96162</td></tr><tr><td>RMSE_Kalmar</td><td>151.54542</td></tr></table><br/></div></div>"
      ],
      "text/plain": [
       "<IPython.core.display.HTML object>"
      ]
     },
     "metadata": {},
     "output_type": "display_data"
    },
    {
     "data": {
      "text/html": [
       " View run <strong style=\"color:#cdcd00\">valiant-sweep-21</strong> at: <a href='https://wandb.ai/danish2562022/sweeps-SEIR_kalmar_bleking/runs/og4ubknd' target=\"_blank\">https://wandb.ai/danish2562022/sweeps-SEIR_kalmar_bleking/runs/og4ubknd</a><br/> View project at: <a href='https://wandb.ai/danish2562022/sweeps-SEIR_kalmar_bleking' target=\"_blank\">https://wandb.ai/danish2562022/sweeps-SEIR_kalmar_bleking</a><br/>Synced 5 W&B file(s), 0 media file(s), 0 artifact file(s) and 0 other file(s)"
      ],
      "text/plain": [
       "<IPython.core.display.HTML object>"
      ]
     },
     "metadata": {},
     "output_type": "display_data"
    },
    {
     "data": {
      "text/html": [
       "Find logs at: <code>./wandb/run-20250528_184830-og4ubknd/logs</code>"
      ],
      "text/plain": [
       "<IPython.core.display.HTML object>"
      ]
     },
     "metadata": {},
     "output_type": "display_data"
    },
    {
     "data": {
      "text/html": [
       "The new W&B backend becomes opt-out in version 0.18.0; try it out with `wandb.require(\"core\")`! See https://wandb.me/wandb-core for more information."
      ],
      "text/plain": [
       "<IPython.core.display.HTML object>"
      ]
     },
     "metadata": {},
     "output_type": "display_data"
    },
    {
     "name": "stderr",
     "output_type": "stream",
     "text": [
      "\u001b[34m\u001b[1mwandb\u001b[0m: Agent Starting Run: wzm308c6 with config:\n",
      "\u001b[34m\u001b[1mwandb\u001b[0m: \tah0: 1.0962631825910216\n",
      "\u001b[34m\u001b[1mwandb\u001b[0m: \tah1: 0.8799384515842283\n",
      "\u001b[34m\u001b[1mwandb\u001b[0m: \tbh0: 6.366560871869332\n",
      "\u001b[34m\u001b[1mwandb\u001b[0m: \tbh1: 0.9411998180441306\n",
      "\u001b[34m\u001b[1mwandb\u001b[0m: \tc: 0.3156152162206468\n"
     ]
    },
    {
     "data": {
      "text/html": [
       "wandb version 0.19.11 is available!  To upgrade, please run:\n",
       " $ pip install wandb --upgrade"
      ],
      "text/plain": [
       "<IPython.core.display.HTML object>"
      ]
     },
     "metadata": {},
     "output_type": "display_data"
    },
    {
     "data": {
      "text/html": [
       "Tracking run with wandb version 0.17.4"
      ],
      "text/plain": [
       "<IPython.core.display.HTML object>"
      ]
     },
     "metadata": {},
     "output_type": "display_data"
    },
    {
     "data": {
      "text/html": [
       "Run data is saved locally in <code>/12tb_dsk3/SEIR_model/src/wandb/run-20250528_184842-wzm308c6</code>"
      ],
      "text/plain": [
       "<IPython.core.display.HTML object>"
      ]
     },
     "metadata": {},
     "output_type": "display_data"
    },
    {
     "data": {
      "text/html": [
       "Syncing run <strong><a href='https://wandb.ai/danish2562022/sweeps-SEIR_kalmar_bleking/runs/wzm308c6' target=\"_blank\">vocal-sweep-22</a></strong> to <a href='https://wandb.ai/danish2562022/sweeps-SEIR_kalmar_bleking' target=\"_blank\">Weights & Biases</a> (<a href='https://wandb.me/run' target=\"_blank\">docs</a>)<br/>Sweep page: <a href='https://wandb.ai/danish2562022/sweeps-SEIR_kalmar_bleking/sweeps/za0efz19' target=\"_blank\">https://wandb.ai/danish2562022/sweeps-SEIR_kalmar_bleking/sweeps/za0efz19</a>"
      ],
      "text/plain": [
       "<IPython.core.display.HTML object>"
      ]
     },
     "metadata": {},
     "output_type": "display_data"
    },
    {
     "data": {
      "text/html": [
       " View project at <a href='https://wandb.ai/danish2562022/sweeps-SEIR_kalmar_bleking' target=\"_blank\">https://wandb.ai/danish2562022/sweeps-SEIR_kalmar_bleking</a>"
      ],
      "text/plain": [
       "<IPython.core.display.HTML object>"
      ]
     },
     "metadata": {},
     "output_type": "display_data"
    },
    {
     "data": {
      "text/html": [
       " View sweep at <a href='https://wandb.ai/danish2562022/sweeps-SEIR_kalmar_bleking/sweeps/za0efz19' target=\"_blank\">https://wandb.ai/danish2562022/sweeps-SEIR_kalmar_bleking/sweeps/za0efz19</a>"
      ],
      "text/plain": [
       "<IPython.core.display.HTML object>"
      ]
     },
     "metadata": {},
     "output_type": "display_data"
    },
    {
     "data": {
      "text/html": [
       " View run at <a href='https://wandb.ai/danish2562022/sweeps-SEIR_kalmar_bleking/runs/wzm308c6' target=\"_blank\">https://wandb.ai/danish2562022/sweeps-SEIR_kalmar_bleking/runs/wzm308c6</a>"
      ],
      "text/plain": [
       "<IPython.core.display.HTML object>"
      ]
     },
     "metadata": {},
     "output_type": "display_data"
    },
    {
     "data": {
      "application/vnd.jupyter.widget-view+json": {
       "model_id": "fb22886484cf4a6385915021afbdf6c0",
       "version_major": 2,
       "version_minor": 0
      },
      "text/plain": [
       "VBox(children=(Label(value='0.021 MB of 0.021 MB uploaded\\r'), FloatProgress(value=1.0, max=1.0)))"
      ]
     },
     "metadata": {},
     "output_type": "display_data"
    },
    {
     "data": {
      "text/html": [
       "<style>\n",
       "    table.wandb td:nth-child(1) { padding: 0 10px; text-align: left ; width: auto;} td:nth-child(2) {text-align: left ; width: 100%}\n",
       "    .wandb-row { display: flex; flex-direction: row; flex-wrap: wrap; justify-content: flex-start; width: 100% }\n",
       "    .wandb-col { display: flex; flex-direction: column; flex-basis: 100%; flex: 1; padding: 10px; }\n",
       "    </style>\n",
       "<div class=\"wandb-row\"><div class=\"wandb-col\"><h3>Run history:</h3><br/><table class=\"wandb\"><tr><td>CV_RMSE</td><td>▁</td></tr><tr><td>CV_RMSE_'Kalmar</td><td>▁</td></tr><tr><td>CV_RMSE_Blekinge</td><td>▁</td></tr><tr><td>RMSE</td><td>▁</td></tr><tr><td>RMSE_Blekinge</td><td>▁</td></tr><tr><td>RMSE_Kalmar</td><td>▁</td></tr></table><br/></div><div class=\"wandb-col\"><h3>Run summary:</h3><br/><table class=\"wandb\"><tr><td>CV_RMSE</td><td>306.75446</td></tr><tr><td>CV_RMSE_'Kalmar</td><td>144.90861</td></tr><tr><td>CV_RMSE_Blekinge</td><td>161.84585</td></tr><tr><td>RMSE</td><td>22.23897</td></tr><tr><td>RMSE_Blekinge</td><td>7.26508</td></tr><tr><td>RMSE_Kalmar</td><td>14.97389</td></tr></table><br/></div></div>"
      ],
      "text/plain": [
       "<IPython.core.display.HTML object>"
      ]
     },
     "metadata": {},
     "output_type": "display_data"
    },
    {
     "data": {
      "text/html": [
       " View run <strong style=\"color:#cdcd00\">vocal-sweep-22</strong> at: <a href='https://wandb.ai/danish2562022/sweeps-SEIR_kalmar_bleking/runs/wzm308c6' target=\"_blank\">https://wandb.ai/danish2562022/sweeps-SEIR_kalmar_bleking/runs/wzm308c6</a><br/> View project at: <a href='https://wandb.ai/danish2562022/sweeps-SEIR_kalmar_bleking' target=\"_blank\">https://wandb.ai/danish2562022/sweeps-SEIR_kalmar_bleking</a><br/>Synced 5 W&B file(s), 0 media file(s), 0 artifact file(s) and 0 other file(s)"
      ],
      "text/plain": [
       "<IPython.core.display.HTML object>"
      ]
     },
     "metadata": {},
     "output_type": "display_data"
    },
    {
     "data": {
      "text/html": [
       "Find logs at: <code>./wandb/run-20250528_184842-wzm308c6/logs</code>"
      ],
      "text/plain": [
       "<IPython.core.display.HTML object>"
      ]
     },
     "metadata": {},
     "output_type": "display_data"
    },
    {
     "data": {
      "text/html": [
       "The new W&B backend becomes opt-out in version 0.18.0; try it out with `wandb.require(\"core\")`! See https://wandb.me/wandb-core for more information."
      ],
      "text/plain": [
       "<IPython.core.display.HTML object>"
      ]
     },
     "metadata": {},
     "output_type": "display_data"
    },
    {
     "name": "stderr",
     "output_type": "stream",
     "text": [
      "\u001b[34m\u001b[1mwandb\u001b[0m: Agent Starting Run: toa2u2vi with config:\n",
      "\u001b[34m\u001b[1mwandb\u001b[0m: \tah0: 1.3767148099603916\n",
      "\u001b[34m\u001b[1mwandb\u001b[0m: \tah1: 0.3736246077509328\n",
      "\u001b[34m\u001b[1mwandb\u001b[0m: \tbh0: 8.333754818613775\n",
      "\u001b[34m\u001b[1mwandb\u001b[0m: \tbh1: 6.621782548045728\n",
      "\u001b[34m\u001b[1mwandb\u001b[0m: \tc: 0.6872487220686605\n"
     ]
    },
    {
     "data": {
      "text/html": [
       "wandb version 0.19.11 is available!  To upgrade, please run:\n",
       " $ pip install wandb --upgrade"
      ],
      "text/plain": [
       "<IPython.core.display.HTML object>"
      ]
     },
     "metadata": {},
     "output_type": "display_data"
    },
    {
     "data": {
      "text/html": [
       "Tracking run with wandb version 0.17.4"
      ],
      "text/plain": [
       "<IPython.core.display.HTML object>"
      ]
     },
     "metadata": {},
     "output_type": "display_data"
    },
    {
     "data": {
      "text/html": [
       "Run data is saved locally in <code>/12tb_dsk3/SEIR_model/src/wandb/run-20250528_184851-toa2u2vi</code>"
      ],
      "text/plain": [
       "<IPython.core.display.HTML object>"
      ]
     },
     "metadata": {},
     "output_type": "display_data"
    },
    {
     "data": {
      "text/html": [
       "Syncing run <strong><a href='https://wandb.ai/danish2562022/sweeps-SEIR_kalmar_bleking/runs/toa2u2vi' target=\"_blank\">breezy-sweep-23</a></strong> to <a href='https://wandb.ai/danish2562022/sweeps-SEIR_kalmar_bleking' target=\"_blank\">Weights & Biases</a> (<a href='https://wandb.me/run' target=\"_blank\">docs</a>)<br/>Sweep page: <a href='https://wandb.ai/danish2562022/sweeps-SEIR_kalmar_bleking/sweeps/za0efz19' target=\"_blank\">https://wandb.ai/danish2562022/sweeps-SEIR_kalmar_bleking/sweeps/za0efz19</a>"
      ],
      "text/plain": [
       "<IPython.core.display.HTML object>"
      ]
     },
     "metadata": {},
     "output_type": "display_data"
    },
    {
     "data": {
      "text/html": [
       " View project at <a href='https://wandb.ai/danish2562022/sweeps-SEIR_kalmar_bleking' target=\"_blank\">https://wandb.ai/danish2562022/sweeps-SEIR_kalmar_bleking</a>"
      ],
      "text/plain": [
       "<IPython.core.display.HTML object>"
      ]
     },
     "metadata": {},
     "output_type": "display_data"
    },
    {
     "data": {
      "text/html": [
       " View sweep at <a href='https://wandb.ai/danish2562022/sweeps-SEIR_kalmar_bleking/sweeps/za0efz19' target=\"_blank\">https://wandb.ai/danish2562022/sweeps-SEIR_kalmar_bleking/sweeps/za0efz19</a>"
      ],
      "text/plain": [
       "<IPython.core.display.HTML object>"
      ]
     },
     "metadata": {},
     "output_type": "display_data"
    },
    {
     "data": {
      "text/html": [
       " View run at <a href='https://wandb.ai/danish2562022/sweeps-SEIR_kalmar_bleking/runs/toa2u2vi' target=\"_blank\">https://wandb.ai/danish2562022/sweeps-SEIR_kalmar_bleking/runs/toa2u2vi</a>"
      ],
      "text/plain": [
       "<IPython.core.display.HTML object>"
      ]
     },
     "metadata": {},
     "output_type": "display_data"
    },
    {
     "data": {
      "application/vnd.jupyter.widget-view+json": {
       "model_id": "49441165882247ee89a39bc3ef743b7a",
       "version_major": 2,
       "version_minor": 0
      },
      "text/plain": [
       "VBox(children=(Label(value='0.021 MB of 0.021 MB uploaded\\r'), FloatProgress(value=1.0, max=1.0)))"
      ]
     },
     "metadata": {},
     "output_type": "display_data"
    },
    {
     "data": {
      "text/html": [
       "<style>\n",
       "    table.wandb td:nth-child(1) { padding: 0 10px; text-align: left ; width: auto;} td:nth-child(2) {text-align: left ; width: 100%}\n",
       "    .wandb-row { display: flex; flex-direction: row; flex-wrap: wrap; justify-content: flex-start; width: 100% }\n",
       "    .wandb-col { display: flex; flex-direction: column; flex-basis: 100%; flex: 1; padding: 10px; }\n",
       "    </style>\n",
       "<div class=\"wandb-row\"><div class=\"wandb-col\"><h3>Run history:</h3><br/><table class=\"wandb\"><tr><td>CV_RMSE</td><td>▁</td></tr><tr><td>CV_RMSE_'Kalmar</td><td>▁</td></tr><tr><td>CV_RMSE_Blekinge</td><td>▁</td></tr><tr><td>RMSE</td><td>▁</td></tr><tr><td>RMSE_Blekinge</td><td>▁</td></tr><tr><td>RMSE_Kalmar</td><td>▁</td></tr></table><br/></div><div class=\"wandb-col\"><h3>Run summary:</h3><br/><table class=\"wandb\"><tr><td>CV_RMSE</td><td>305.43853</td></tr><tr><td>CV_RMSE_'Kalmar</td><td>143.89429</td></tr><tr><td>CV_RMSE_Blekinge</td><td>161.54425</td></tr><tr><td>RMSE</td><td>22.12062</td></tr><tr><td>RMSE_Blekinge</td><td>7.25154</td></tr><tr><td>RMSE_Kalmar</td><td>14.86908</td></tr></table><br/></div></div>"
      ],
      "text/plain": [
       "<IPython.core.display.HTML object>"
      ]
     },
     "metadata": {},
     "output_type": "display_data"
    },
    {
     "data": {
      "text/html": [
       " View run <strong style=\"color:#cdcd00\">breezy-sweep-23</strong> at: <a href='https://wandb.ai/danish2562022/sweeps-SEIR_kalmar_bleking/runs/toa2u2vi' target=\"_blank\">https://wandb.ai/danish2562022/sweeps-SEIR_kalmar_bleking/runs/toa2u2vi</a><br/> View project at: <a href='https://wandb.ai/danish2562022/sweeps-SEIR_kalmar_bleking' target=\"_blank\">https://wandb.ai/danish2562022/sweeps-SEIR_kalmar_bleking</a><br/>Synced 5 W&B file(s), 0 media file(s), 0 artifact file(s) and 0 other file(s)"
      ],
      "text/plain": [
       "<IPython.core.display.HTML object>"
      ]
     },
     "metadata": {},
     "output_type": "display_data"
    },
    {
     "data": {
      "text/html": [
       "Find logs at: <code>./wandb/run-20250528_184851-toa2u2vi/logs</code>"
      ],
      "text/plain": [
       "<IPython.core.display.HTML object>"
      ]
     },
     "metadata": {},
     "output_type": "display_data"
    },
    {
     "data": {
      "text/html": [
       "The new W&B backend becomes opt-out in version 0.18.0; try it out with `wandb.require(\"core\")`! See https://wandb.me/wandb-core for more information."
      ],
      "text/plain": [
       "<IPython.core.display.HTML object>"
      ]
     },
     "metadata": {},
     "output_type": "display_data"
    },
    {
     "name": "stderr",
     "output_type": "stream",
     "text": [
      "\u001b[34m\u001b[1mwandb\u001b[0m: Sweep Agent: Waiting for job.\n",
      "\u001b[34m\u001b[1mwandb\u001b[0m: Job received.\n",
      "\u001b[34m\u001b[1mwandb\u001b[0m: Agent Starting Run: m8gskqvk with config:\n",
      "\u001b[34m\u001b[1mwandb\u001b[0m: \tah0: 2.371456437009138\n",
      "\u001b[34m\u001b[1mwandb\u001b[0m: \tah1: 1.409901288672773\n",
      "\u001b[34m\u001b[1mwandb\u001b[0m: \tbh0: 0.14906183604510348\n",
      "\u001b[34m\u001b[1mwandb\u001b[0m: \tbh1: 2.257001450649553\n",
      "\u001b[34m\u001b[1mwandb\u001b[0m: \tc: 0.43596488050815985\n"
     ]
    },
    {
     "data": {
      "text/html": [
       "wandb version 0.19.11 is available!  To upgrade, please run:\n",
       " $ pip install wandb --upgrade"
      ],
      "text/plain": [
       "<IPython.core.display.HTML object>"
      ]
     },
     "metadata": {},
     "output_type": "display_data"
    },
    {
     "data": {
      "text/html": [
       "Tracking run with wandb version 0.17.4"
      ],
      "text/plain": [
       "<IPython.core.display.HTML object>"
      ]
     },
     "metadata": {},
     "output_type": "display_data"
    },
    {
     "data": {
      "text/html": [
       "Run data is saved locally in <code>/12tb_dsk3/SEIR_model/src/wandb/run-20250528_184907-m8gskqvk</code>"
      ],
      "text/plain": [
       "<IPython.core.display.HTML object>"
      ]
     },
     "metadata": {},
     "output_type": "display_data"
    },
    {
     "data": {
      "text/html": [
       "Syncing run <strong><a href='https://wandb.ai/danish2562022/sweeps-SEIR_kalmar_bleking/runs/m8gskqvk' target=\"_blank\">fresh-sweep-24</a></strong> to <a href='https://wandb.ai/danish2562022/sweeps-SEIR_kalmar_bleking' target=\"_blank\">Weights & Biases</a> (<a href='https://wandb.me/run' target=\"_blank\">docs</a>)<br/>Sweep page: <a href='https://wandb.ai/danish2562022/sweeps-SEIR_kalmar_bleking/sweeps/za0efz19' target=\"_blank\">https://wandb.ai/danish2562022/sweeps-SEIR_kalmar_bleking/sweeps/za0efz19</a>"
      ],
      "text/plain": [
       "<IPython.core.display.HTML object>"
      ]
     },
     "metadata": {},
     "output_type": "display_data"
    },
    {
     "data": {
      "text/html": [
       " View project at <a href='https://wandb.ai/danish2562022/sweeps-SEIR_kalmar_bleking' target=\"_blank\">https://wandb.ai/danish2562022/sweeps-SEIR_kalmar_bleking</a>"
      ],
      "text/plain": [
       "<IPython.core.display.HTML object>"
      ]
     },
     "metadata": {},
     "output_type": "display_data"
    },
    {
     "data": {
      "text/html": [
       " View sweep at <a href='https://wandb.ai/danish2562022/sweeps-SEIR_kalmar_bleking/sweeps/za0efz19' target=\"_blank\">https://wandb.ai/danish2562022/sweeps-SEIR_kalmar_bleking/sweeps/za0efz19</a>"
      ],
      "text/plain": [
       "<IPython.core.display.HTML object>"
      ]
     },
     "metadata": {},
     "output_type": "display_data"
    },
    {
     "data": {
      "text/html": [
       " View run at <a href='https://wandb.ai/danish2562022/sweeps-SEIR_kalmar_bleking/runs/m8gskqvk' target=\"_blank\">https://wandb.ai/danish2562022/sweeps-SEIR_kalmar_bleking/runs/m8gskqvk</a>"
      ],
      "text/plain": [
       "<IPython.core.display.HTML object>"
      ]
     },
     "metadata": {},
     "output_type": "display_data"
    },
    {
     "data": {
      "application/vnd.jupyter.widget-view+json": {
       "model_id": "1243e2edea804b02abc5338ac49e8e89",
       "version_major": 2,
       "version_minor": 0
      },
      "text/plain": [
       "VBox(children=(Label(value='0.021 MB of 0.021 MB uploaded\\r'), FloatProgress(value=1.0, max=1.0)))"
      ]
     },
     "metadata": {},
     "output_type": "display_data"
    },
    {
     "data": {
      "text/html": [
       "<style>\n",
       "    table.wandb td:nth-child(1) { padding: 0 10px; text-align: left ; width: auto;} td:nth-child(2) {text-align: left ; width: 100%}\n",
       "    .wandb-row { display: flex; flex-direction: row; flex-wrap: wrap; justify-content: flex-start; width: 100% }\n",
       "    .wandb-col { display: flex; flex-direction: column; flex-basis: 100%; flex: 1; padding: 10px; }\n",
       "    </style>\n",
       "<div class=\"wandb-row\"><div class=\"wandb-col\"><h3>Run history:</h3><br/><table class=\"wandb\"><tr><td>CV_RMSE</td><td>▁</td></tr><tr><td>CV_RMSE_'Kalmar</td><td>▁</td></tr><tr><td>CV_RMSE_Blekinge</td><td>▁</td></tr><tr><td>RMSE</td><td>▁</td></tr><tr><td>RMSE_Blekinge</td><td>▁</td></tr><tr><td>RMSE_Kalmar</td><td>▁</td></tr></table><br/></div><div class=\"wandb-col\"><h3>Run summary:</h3><br/><table class=\"wandb\"><tr><td>CV_RMSE</td><td>2801.77691</td></tr><tr><td>CV_RMSE_'Kalmar</td><td>1218.52308</td></tr><tr><td>CV_RMSE_Blekinge</td><td>1583.25383</td></tr><tr><td>RMSE</td><td>196.98456</td></tr><tr><td>RMSE_Blekinge</td><td>71.07051</td></tr><tr><td>RMSE_Kalmar</td><td>125.91405</td></tr></table><br/></div></div>"
      ],
      "text/plain": [
       "<IPython.core.display.HTML object>"
      ]
     },
     "metadata": {},
     "output_type": "display_data"
    },
    {
     "data": {
      "text/html": [
       " View run <strong style=\"color:#cdcd00\">fresh-sweep-24</strong> at: <a href='https://wandb.ai/danish2562022/sweeps-SEIR_kalmar_bleking/runs/m8gskqvk' target=\"_blank\">https://wandb.ai/danish2562022/sweeps-SEIR_kalmar_bleking/runs/m8gskqvk</a><br/> View project at: <a href='https://wandb.ai/danish2562022/sweeps-SEIR_kalmar_bleking' target=\"_blank\">https://wandb.ai/danish2562022/sweeps-SEIR_kalmar_bleking</a><br/>Synced 5 W&B file(s), 0 media file(s), 0 artifact file(s) and 0 other file(s)"
      ],
      "text/plain": [
       "<IPython.core.display.HTML object>"
      ]
     },
     "metadata": {},
     "output_type": "display_data"
    },
    {
     "data": {
      "text/html": [
       "Find logs at: <code>./wandb/run-20250528_184907-m8gskqvk/logs</code>"
      ],
      "text/plain": [
       "<IPython.core.display.HTML object>"
      ]
     },
     "metadata": {},
     "output_type": "display_data"
    },
    {
     "data": {
      "text/html": [
       "The new W&B backend becomes opt-out in version 0.18.0; try it out with `wandb.require(\"core\")`! See https://wandb.me/wandb-core for more information."
      ],
      "text/plain": [
       "<IPython.core.display.HTML object>"
      ]
     },
     "metadata": {},
     "output_type": "display_data"
    },
    {
     "name": "stderr",
     "output_type": "stream",
     "text": [
      "\u001b[34m\u001b[1mwandb\u001b[0m: Agent Starting Run: wy1vcv1t with config:\n",
      "\u001b[34m\u001b[1mwandb\u001b[0m: \tah0: 1.8806286567969277\n",
      "\u001b[34m\u001b[1mwandb\u001b[0m: \tah1: 0.8771138231854646\n",
      "\u001b[34m\u001b[1mwandb\u001b[0m: \tbh0: 4.936557388921133\n",
      "\u001b[34m\u001b[1mwandb\u001b[0m: \tbh1: 7.965705069409875\n",
      "\u001b[34m\u001b[1mwandb\u001b[0m: \tc: 0.26337578446875776\n"
     ]
    },
    {
     "data": {
      "text/html": [
       "wandb version 0.19.11 is available!  To upgrade, please run:\n",
       " $ pip install wandb --upgrade"
      ],
      "text/plain": [
       "<IPython.core.display.HTML object>"
      ]
     },
     "metadata": {},
     "output_type": "display_data"
    },
    {
     "data": {
      "text/html": [
       "Tracking run with wandb version 0.17.4"
      ],
      "text/plain": [
       "<IPython.core.display.HTML object>"
      ]
     },
     "metadata": {},
     "output_type": "display_data"
    },
    {
     "data": {
      "text/html": [
       "Run data is saved locally in <code>/12tb_dsk3/SEIR_model/src/wandb/run-20250528_184917-wy1vcv1t</code>"
      ],
      "text/plain": [
       "<IPython.core.display.HTML object>"
      ]
     },
     "metadata": {},
     "output_type": "display_data"
    },
    {
     "data": {
      "text/html": [
       "Syncing run <strong><a href='https://wandb.ai/danish2562022/sweeps-SEIR_kalmar_bleking/runs/wy1vcv1t' target=\"_blank\">fragrant-sweep-25</a></strong> to <a href='https://wandb.ai/danish2562022/sweeps-SEIR_kalmar_bleking' target=\"_blank\">Weights & Biases</a> (<a href='https://wandb.me/run' target=\"_blank\">docs</a>)<br/>Sweep page: <a href='https://wandb.ai/danish2562022/sweeps-SEIR_kalmar_bleking/sweeps/za0efz19' target=\"_blank\">https://wandb.ai/danish2562022/sweeps-SEIR_kalmar_bleking/sweeps/za0efz19</a>"
      ],
      "text/plain": [
       "<IPython.core.display.HTML object>"
      ]
     },
     "metadata": {},
     "output_type": "display_data"
    },
    {
     "data": {
      "text/html": [
       " View project at <a href='https://wandb.ai/danish2562022/sweeps-SEIR_kalmar_bleking' target=\"_blank\">https://wandb.ai/danish2562022/sweeps-SEIR_kalmar_bleking</a>"
      ],
      "text/plain": [
       "<IPython.core.display.HTML object>"
      ]
     },
     "metadata": {},
     "output_type": "display_data"
    },
    {
     "data": {
      "text/html": [
       " View sweep at <a href='https://wandb.ai/danish2562022/sweeps-SEIR_kalmar_bleking/sweeps/za0efz19' target=\"_blank\">https://wandb.ai/danish2562022/sweeps-SEIR_kalmar_bleking/sweeps/za0efz19</a>"
      ],
      "text/plain": [
       "<IPython.core.display.HTML object>"
      ]
     },
     "metadata": {},
     "output_type": "display_data"
    },
    {
     "data": {
      "text/html": [
       " View run at <a href='https://wandb.ai/danish2562022/sweeps-SEIR_kalmar_bleking/runs/wy1vcv1t' target=\"_blank\">https://wandb.ai/danish2562022/sweeps-SEIR_kalmar_bleking/runs/wy1vcv1t</a>"
      ],
      "text/plain": [
       "<IPython.core.display.HTML object>"
      ]
     },
     "metadata": {},
     "output_type": "display_data"
    },
    {
     "data": {
      "application/vnd.jupyter.widget-view+json": {
       "model_id": "93d2c63912d74ee2b715c0ff02c723fa",
       "version_major": 2,
       "version_minor": 0
      },
      "text/plain": [
       "VBox(children=(Label(value='0.021 MB of 0.021 MB uploaded\\r'), FloatProgress(value=1.0, max=1.0)))"
      ]
     },
     "metadata": {},
     "output_type": "display_data"
    },
    {
     "data": {
      "text/html": [
       "<style>\n",
       "    table.wandb td:nth-child(1) { padding: 0 10px; text-align: left ; width: auto;} td:nth-child(2) {text-align: left ; width: 100%}\n",
       "    .wandb-row { display: flex; flex-direction: row; flex-wrap: wrap; justify-content: flex-start; width: 100% }\n",
       "    .wandb-col { display: flex; flex-direction: column; flex-basis: 100%; flex: 1; padding: 10px; }\n",
       "    </style>\n",
       "<div class=\"wandb-row\"><div class=\"wandb-col\"><h3>Run history:</h3><br/><table class=\"wandb\"><tr><td>CV_RMSE</td><td>▁</td></tr><tr><td>CV_RMSE_'Kalmar</td><td>▁</td></tr><tr><td>CV_RMSE_Blekinge</td><td>▁</td></tr><tr><td>RMSE</td><td>▁</td></tr><tr><td>RMSE_Blekinge</td><td>▁</td></tr><tr><td>RMSE_Kalmar</td><td>▁</td></tr></table><br/></div><div class=\"wandb-col\"><h3>Run summary:</h3><br/><table class=\"wandb\"><tr><td>CV_RMSE</td><td>853.70575</td></tr><tr><td>CV_RMSE_'Kalmar</td><td>389.68506</td></tr><tr><td>CV_RMSE_Blekinge</td><td>464.02069</td></tr><tr><td>RMSE</td><td>61.09683</td></tr><tr><td>RMSE_Blekinge</td><td>20.82937</td></tr><tr><td>RMSE_Kalmar</td><td>40.26746</td></tr></table><br/></div></div>"
      ],
      "text/plain": [
       "<IPython.core.display.HTML object>"
      ]
     },
     "metadata": {},
     "output_type": "display_data"
    },
    {
     "data": {
      "text/html": [
       " View run <strong style=\"color:#cdcd00\">fragrant-sweep-25</strong> at: <a href='https://wandb.ai/danish2562022/sweeps-SEIR_kalmar_bleking/runs/wy1vcv1t' target=\"_blank\">https://wandb.ai/danish2562022/sweeps-SEIR_kalmar_bleking/runs/wy1vcv1t</a><br/> View project at: <a href='https://wandb.ai/danish2562022/sweeps-SEIR_kalmar_bleking' target=\"_blank\">https://wandb.ai/danish2562022/sweeps-SEIR_kalmar_bleking</a><br/>Synced 5 W&B file(s), 0 media file(s), 0 artifact file(s) and 0 other file(s)"
      ],
      "text/plain": [
       "<IPython.core.display.HTML object>"
      ]
     },
     "metadata": {},
     "output_type": "display_data"
    },
    {
     "data": {
      "text/html": [
       "Find logs at: <code>./wandb/run-20250528_184917-wy1vcv1t/logs</code>"
      ],
      "text/plain": [
       "<IPython.core.display.HTML object>"
      ]
     },
     "metadata": {},
     "output_type": "display_data"
    },
    {
     "data": {
      "text/html": [
       "The new W&B backend becomes opt-out in version 0.18.0; try it out with `wandb.require(\"core\")`! See https://wandb.me/wandb-core for more information."
      ],
      "text/plain": [
       "<IPython.core.display.HTML object>"
      ]
     },
     "metadata": {},
     "output_type": "display_data"
    },
    {
     "name": "stderr",
     "output_type": "stream",
     "text": [
      "\u001b[34m\u001b[1mwandb\u001b[0m: Agent Starting Run: qasle1z9 with config:\n",
      "\u001b[34m\u001b[1mwandb\u001b[0m: \tah0: 1.0033085809226086\n",
      "\u001b[34m\u001b[1mwandb\u001b[0m: \tah1: 0.6119159500257614\n",
      "\u001b[34m\u001b[1mwandb\u001b[0m: \tbh0: 9.322018118831313\n",
      "\u001b[34m\u001b[1mwandb\u001b[0m: \tbh1: 4.58469201537584\n",
      "\u001b[34m\u001b[1mwandb\u001b[0m: \tc: 0.5182305674610544\n"
     ]
    },
    {
     "data": {
      "text/html": [
       "wandb version 0.19.11 is available!  To upgrade, please run:\n",
       " $ pip install wandb --upgrade"
      ],
      "text/plain": [
       "<IPython.core.display.HTML object>"
      ]
     },
     "metadata": {},
     "output_type": "display_data"
    },
    {
     "data": {
      "text/html": [
       "Tracking run with wandb version 0.17.4"
      ],
      "text/plain": [
       "<IPython.core.display.HTML object>"
      ]
     },
     "metadata": {},
     "output_type": "display_data"
    },
    {
     "data": {
      "text/html": [
       "Run data is saved locally in <code>/12tb_dsk3/SEIR_model/src/wandb/run-20250528_184928-qasle1z9</code>"
      ],
      "text/plain": [
       "<IPython.core.display.HTML object>"
      ]
     },
     "metadata": {},
     "output_type": "display_data"
    },
    {
     "data": {
      "text/html": [
       "Syncing run <strong><a href='https://wandb.ai/danish2562022/sweeps-SEIR_kalmar_bleking/runs/qasle1z9' target=\"_blank\">colorful-sweep-26</a></strong> to <a href='https://wandb.ai/danish2562022/sweeps-SEIR_kalmar_bleking' target=\"_blank\">Weights & Biases</a> (<a href='https://wandb.me/run' target=\"_blank\">docs</a>)<br/>Sweep page: <a href='https://wandb.ai/danish2562022/sweeps-SEIR_kalmar_bleking/sweeps/za0efz19' target=\"_blank\">https://wandb.ai/danish2562022/sweeps-SEIR_kalmar_bleking/sweeps/za0efz19</a>"
      ],
      "text/plain": [
       "<IPython.core.display.HTML object>"
      ]
     },
     "metadata": {},
     "output_type": "display_data"
    },
    {
     "data": {
      "text/html": [
       " View project at <a href='https://wandb.ai/danish2562022/sweeps-SEIR_kalmar_bleking' target=\"_blank\">https://wandb.ai/danish2562022/sweeps-SEIR_kalmar_bleking</a>"
      ],
      "text/plain": [
       "<IPython.core.display.HTML object>"
      ]
     },
     "metadata": {},
     "output_type": "display_data"
    },
    {
     "data": {
      "text/html": [
       " View sweep at <a href='https://wandb.ai/danish2562022/sweeps-SEIR_kalmar_bleking/sweeps/za0efz19' target=\"_blank\">https://wandb.ai/danish2562022/sweeps-SEIR_kalmar_bleking/sweeps/za0efz19</a>"
      ],
      "text/plain": [
       "<IPython.core.display.HTML object>"
      ]
     },
     "metadata": {},
     "output_type": "display_data"
    },
    {
     "data": {
      "text/html": [
       " View run at <a href='https://wandb.ai/danish2562022/sweeps-SEIR_kalmar_bleking/runs/qasle1z9' target=\"_blank\">https://wandb.ai/danish2562022/sweeps-SEIR_kalmar_bleking/runs/qasle1z9</a>"
      ],
      "text/plain": [
       "<IPython.core.display.HTML object>"
      ]
     },
     "metadata": {},
     "output_type": "display_data"
    },
    {
     "data": {
      "application/vnd.jupyter.widget-view+json": {
       "model_id": "5f95c11535394bd8a535128f3b19aadc",
       "version_major": 2,
       "version_minor": 0
      },
      "text/plain": [
       "VBox(children=(Label(value='0.021 MB of 0.021 MB uploaded\\r'), FloatProgress(value=1.0, max=1.0)))"
      ]
     },
     "metadata": {},
     "output_type": "display_data"
    },
    {
     "data": {
      "text/html": [
       "<style>\n",
       "    table.wandb td:nth-child(1) { padding: 0 10px; text-align: left ; width: auto;} td:nth-child(2) {text-align: left ; width: 100%}\n",
       "    .wandb-row { display: flex; flex-direction: row; flex-wrap: wrap; justify-content: flex-start; width: 100% }\n",
       "    .wandb-col { display: flex; flex-direction: column; flex-basis: 100%; flex: 1; padding: 10px; }\n",
       "    </style>\n",
       "<div class=\"wandb-row\"><div class=\"wandb-col\"><h3>Run history:</h3><br/><table class=\"wandb\"><tr><td>CV_RMSE</td><td>▁</td></tr><tr><td>CV_RMSE_'Kalmar</td><td>▁</td></tr><tr><td>CV_RMSE_Blekinge</td><td>▁</td></tr><tr><td>RMSE</td><td>▁</td></tr><tr><td>RMSE_Blekinge</td><td>▁</td></tr><tr><td>RMSE_Kalmar</td><td>▁</td></tr></table><br/></div><div class=\"wandb-col\"><h3>Run summary:</h3><br/><table class=\"wandb\"><tr><td>CV_RMSE</td><td>306.49078</td></tr><tr><td>CV_RMSE_'Kalmar</td><td>144.67751</td></tr><tr><td>CV_RMSE_Blekinge</td><td>161.81327</td></tr><tr><td>RMSE</td><td>22.21363</td></tr><tr><td>RMSE_Blekinge</td><td>7.26362</td></tr><tr><td>RMSE_Kalmar</td><td>14.95001</td></tr></table><br/></div></div>"
      ],
      "text/plain": [
       "<IPython.core.display.HTML object>"
      ]
     },
     "metadata": {},
     "output_type": "display_data"
    },
    {
     "data": {
      "text/html": [
       " View run <strong style=\"color:#cdcd00\">colorful-sweep-26</strong> at: <a href='https://wandb.ai/danish2562022/sweeps-SEIR_kalmar_bleking/runs/qasle1z9' target=\"_blank\">https://wandb.ai/danish2562022/sweeps-SEIR_kalmar_bleking/runs/qasle1z9</a><br/> View project at: <a href='https://wandb.ai/danish2562022/sweeps-SEIR_kalmar_bleking' target=\"_blank\">https://wandb.ai/danish2562022/sweeps-SEIR_kalmar_bleking</a><br/>Synced 5 W&B file(s), 0 media file(s), 0 artifact file(s) and 0 other file(s)"
      ],
      "text/plain": [
       "<IPython.core.display.HTML object>"
      ]
     },
     "metadata": {},
     "output_type": "display_data"
    },
    {
     "data": {
      "text/html": [
       "Find logs at: <code>./wandb/run-20250528_184928-qasle1z9/logs</code>"
      ],
      "text/plain": [
       "<IPython.core.display.HTML object>"
      ]
     },
     "metadata": {},
     "output_type": "display_data"
    },
    {
     "data": {
      "text/html": [
       "The new W&B backend becomes opt-out in version 0.18.0; try it out with `wandb.require(\"core\")`! See https://wandb.me/wandb-core for more information."
      ],
      "text/plain": [
       "<IPython.core.display.HTML object>"
      ]
     },
     "metadata": {},
     "output_type": "display_data"
    },
    {
     "name": "stderr",
     "output_type": "stream",
     "text": [
      "\u001b[34m\u001b[1mwandb\u001b[0m: Agent Starting Run: 5dx8tgbs with config:\n",
      "\u001b[34m\u001b[1mwandb\u001b[0m: \tah0: 0.16595633568275248\n",
      "\u001b[34m\u001b[1mwandb\u001b[0m: \tah1: 1.685558026593874\n",
      "\u001b[34m\u001b[1mwandb\u001b[0m: \tbh0: 1.1974693680043336\n",
      "\u001b[34m\u001b[1mwandb\u001b[0m: \tbh1: 3.7219853483484857\n",
      "\u001b[34m\u001b[1mwandb\u001b[0m: \tc: 0.4057894379339424\n"
     ]
    },
    {
     "data": {
      "text/html": [
       "wandb version 0.19.11 is available!  To upgrade, please run:\n",
       " $ pip install wandb --upgrade"
      ],
      "text/plain": [
       "<IPython.core.display.HTML object>"
      ]
     },
     "metadata": {},
     "output_type": "display_data"
    },
    {
     "data": {
      "text/html": [
       "Tracking run with wandb version 0.17.4"
      ],
      "text/plain": [
       "<IPython.core.display.HTML object>"
      ]
     },
     "metadata": {},
     "output_type": "display_data"
    },
    {
     "data": {
      "text/html": [
       "Run data is saved locally in <code>/12tb_dsk3/SEIR_model/src/wandb/run-20250528_184938-5dx8tgbs</code>"
      ],
      "text/plain": [
       "<IPython.core.display.HTML object>"
      ]
     },
     "metadata": {},
     "output_type": "display_data"
    },
    {
     "data": {
      "text/html": [
       "Syncing run <strong><a href='https://wandb.ai/danish2562022/sweeps-SEIR_kalmar_bleking/runs/5dx8tgbs' target=\"_blank\">faithful-sweep-27</a></strong> to <a href='https://wandb.ai/danish2562022/sweeps-SEIR_kalmar_bleking' target=\"_blank\">Weights & Biases</a> (<a href='https://wandb.me/run' target=\"_blank\">docs</a>)<br/>Sweep page: <a href='https://wandb.ai/danish2562022/sweeps-SEIR_kalmar_bleking/sweeps/za0efz19' target=\"_blank\">https://wandb.ai/danish2562022/sweeps-SEIR_kalmar_bleking/sweeps/za0efz19</a>"
      ],
      "text/plain": [
       "<IPython.core.display.HTML object>"
      ]
     },
     "metadata": {},
     "output_type": "display_data"
    },
    {
     "data": {
      "text/html": [
       " View project at <a href='https://wandb.ai/danish2562022/sweeps-SEIR_kalmar_bleking' target=\"_blank\">https://wandb.ai/danish2562022/sweeps-SEIR_kalmar_bleking</a>"
      ],
      "text/plain": [
       "<IPython.core.display.HTML object>"
      ]
     },
     "metadata": {},
     "output_type": "display_data"
    },
    {
     "data": {
      "text/html": [
       " View sweep at <a href='https://wandb.ai/danish2562022/sweeps-SEIR_kalmar_bleking/sweeps/za0efz19' target=\"_blank\">https://wandb.ai/danish2562022/sweeps-SEIR_kalmar_bleking/sweeps/za0efz19</a>"
      ],
      "text/plain": [
       "<IPython.core.display.HTML object>"
      ]
     },
     "metadata": {},
     "output_type": "display_data"
    },
    {
     "data": {
      "text/html": [
       " View run at <a href='https://wandb.ai/danish2562022/sweeps-SEIR_kalmar_bleking/runs/5dx8tgbs' target=\"_blank\">https://wandb.ai/danish2562022/sweeps-SEIR_kalmar_bleking/runs/5dx8tgbs</a>"
      ],
      "text/plain": [
       "<IPython.core.display.HTML object>"
      ]
     },
     "metadata": {},
     "output_type": "display_data"
    },
    {
     "data": {
      "application/vnd.jupyter.widget-view+json": {
       "model_id": "57e0a368a5dd496bac69453a24ed31ef",
       "version_major": 2,
       "version_minor": 0
      },
      "text/plain": [
       "VBox(children=(Label(value='0.021 MB of 0.021 MB uploaded\\r'), FloatProgress(value=1.0, max=1.0)))"
      ]
     },
     "metadata": {},
     "output_type": "display_data"
    },
    {
     "data": {
      "text/html": [
       "<style>\n",
       "    table.wandb td:nth-child(1) { padding: 0 10px; text-align: left ; width: auto;} td:nth-child(2) {text-align: left ; width: 100%}\n",
       "    .wandb-row { display: flex; flex-direction: row; flex-wrap: wrap; justify-content: flex-start; width: 100% }\n",
       "    .wandb-col { display: flex; flex-direction: column; flex-basis: 100%; flex: 1; padding: 10px; }\n",
       "    </style>\n",
       "<div class=\"wandb-row\"><div class=\"wandb-col\"><h3>Run history:</h3><br/><table class=\"wandb\"><tr><td>CV_RMSE</td><td>▁</td></tr><tr><td>CV_RMSE_'Kalmar</td><td>▁</td></tr><tr><td>CV_RMSE_Blekinge</td><td>▁</td></tr><tr><td>RMSE</td><td>▁</td></tr><tr><td>RMSE_Blekinge</td><td>▁</td></tr><tr><td>RMSE_Kalmar</td><td>▁</td></tr></table><br/></div><div class=\"wandb-col\"><h3>Run summary:</h3><br/><table class=\"wandb\"><tr><td>CV_RMSE</td><td>649.18805</td></tr><tr><td>CV_RMSE_'Kalmar</td><td>149.19641</td></tr><tr><td>CV_RMSE_Blekinge</td><td>499.99164</td></tr><tr><td>RMSE</td><td>37.86103</td></tr><tr><td>RMSE_Blekinge</td><td>22.44407</td></tr><tr><td>RMSE_Kalmar</td><td>15.41696</td></tr></table><br/></div></div>"
      ],
      "text/plain": [
       "<IPython.core.display.HTML object>"
      ]
     },
     "metadata": {},
     "output_type": "display_data"
    },
    {
     "data": {
      "text/html": [
       " View run <strong style=\"color:#cdcd00\">faithful-sweep-27</strong> at: <a href='https://wandb.ai/danish2562022/sweeps-SEIR_kalmar_bleking/runs/5dx8tgbs' target=\"_blank\">https://wandb.ai/danish2562022/sweeps-SEIR_kalmar_bleking/runs/5dx8tgbs</a><br/> View project at: <a href='https://wandb.ai/danish2562022/sweeps-SEIR_kalmar_bleking' target=\"_blank\">https://wandb.ai/danish2562022/sweeps-SEIR_kalmar_bleking</a><br/>Synced 5 W&B file(s), 0 media file(s), 0 artifact file(s) and 0 other file(s)"
      ],
      "text/plain": [
       "<IPython.core.display.HTML object>"
      ]
     },
     "metadata": {},
     "output_type": "display_data"
    },
    {
     "data": {
      "text/html": [
       "Find logs at: <code>./wandb/run-20250528_184938-5dx8tgbs/logs</code>"
      ],
      "text/plain": [
       "<IPython.core.display.HTML object>"
      ]
     },
     "metadata": {},
     "output_type": "display_data"
    },
    {
     "data": {
      "text/html": [
       "The new W&B backend becomes opt-out in version 0.18.0; try it out with `wandb.require(\"core\")`! See https://wandb.me/wandb-core for more information."
      ],
      "text/plain": [
       "<IPython.core.display.HTML object>"
      ]
     },
     "metadata": {},
     "output_type": "display_data"
    },
    {
     "name": "stderr",
     "output_type": "stream",
     "text": [
      "\u001b[34m\u001b[1mwandb\u001b[0m: Sweep Agent: Waiting for job.\n",
      "\u001b[34m\u001b[1mwandb\u001b[0m: Job received.\n",
      "\u001b[34m\u001b[1mwandb\u001b[0m: Agent Starting Run: zi58i20q with config:\n",
      "\u001b[34m\u001b[1mwandb\u001b[0m: \tah0: 2.6989867992436576\n",
      "\u001b[34m\u001b[1mwandb\u001b[0m: \tah1: 1.470264939901544\n",
      "\u001b[34m\u001b[1mwandb\u001b[0m: \tbh0: 6.137241283136314\n",
      "\u001b[34m\u001b[1mwandb\u001b[0m: \tbh1: 1.8388893476876025\n",
      "\u001b[34m\u001b[1mwandb\u001b[0m: \tc: 0.5205220116726386\n"
     ]
    },
    {
     "data": {
      "text/html": [
       "wandb version 0.19.11 is available!  To upgrade, please run:\n",
       " $ pip install wandb --upgrade"
      ],
      "text/plain": [
       "<IPython.core.display.HTML object>"
      ]
     },
     "metadata": {},
     "output_type": "display_data"
    },
    {
     "data": {
      "text/html": [
       "Tracking run with wandb version 0.17.4"
      ],
      "text/plain": [
       "<IPython.core.display.HTML object>"
      ]
     },
     "metadata": {},
     "output_type": "display_data"
    },
    {
     "data": {
      "text/html": [
       "Run data is saved locally in <code>/12tb_dsk3/SEIR_model/src/wandb/run-20250528_184954-zi58i20q</code>"
      ],
      "text/plain": [
       "<IPython.core.display.HTML object>"
      ]
     },
     "metadata": {},
     "output_type": "display_data"
    },
    {
     "data": {
      "text/html": [
       "Syncing run <strong><a href='https://wandb.ai/danish2562022/sweeps-SEIR_kalmar_bleking/runs/zi58i20q' target=\"_blank\">ethereal-sweep-28</a></strong> to <a href='https://wandb.ai/danish2562022/sweeps-SEIR_kalmar_bleking' target=\"_blank\">Weights & Biases</a> (<a href='https://wandb.me/run' target=\"_blank\">docs</a>)<br/>Sweep page: <a href='https://wandb.ai/danish2562022/sweeps-SEIR_kalmar_bleking/sweeps/za0efz19' target=\"_blank\">https://wandb.ai/danish2562022/sweeps-SEIR_kalmar_bleking/sweeps/za0efz19</a>"
      ],
      "text/plain": [
       "<IPython.core.display.HTML object>"
      ]
     },
     "metadata": {},
     "output_type": "display_data"
    },
    {
     "data": {
      "text/html": [
       " View project at <a href='https://wandb.ai/danish2562022/sweeps-SEIR_kalmar_bleking' target=\"_blank\">https://wandb.ai/danish2562022/sweeps-SEIR_kalmar_bleking</a>"
      ],
      "text/plain": [
       "<IPython.core.display.HTML object>"
      ]
     },
     "metadata": {},
     "output_type": "display_data"
    },
    {
     "data": {
      "text/html": [
       " View sweep at <a href='https://wandb.ai/danish2562022/sweeps-SEIR_kalmar_bleking/sweeps/za0efz19' target=\"_blank\">https://wandb.ai/danish2562022/sweeps-SEIR_kalmar_bleking/sweeps/za0efz19</a>"
      ],
      "text/plain": [
       "<IPython.core.display.HTML object>"
      ]
     },
     "metadata": {},
     "output_type": "display_data"
    },
    {
     "data": {
      "text/html": [
       " View run at <a href='https://wandb.ai/danish2562022/sweeps-SEIR_kalmar_bleking/runs/zi58i20q' target=\"_blank\">https://wandb.ai/danish2562022/sweeps-SEIR_kalmar_bleking/runs/zi58i20q</a>"
      ],
      "text/plain": [
       "<IPython.core.display.HTML object>"
      ]
     },
     "metadata": {},
     "output_type": "display_data"
    },
    {
     "data": {
      "application/vnd.jupyter.widget-view+json": {
       "model_id": "009b38b5c16d469d9a5f9005e4fb9a29",
       "version_major": 2,
       "version_minor": 0
      },
      "text/plain": [
       "VBox(children=(Label(value='0.021 MB of 0.021 MB uploaded\\r'), FloatProgress(value=1.0, max=1.0)))"
      ]
     },
     "metadata": {},
     "output_type": "display_data"
    },
    {
     "data": {
      "text/html": [
       "<style>\n",
       "    table.wandb td:nth-child(1) { padding: 0 10px; text-align: left ; width: auto;} td:nth-child(2) {text-align: left ; width: 100%}\n",
       "    .wandb-row { display: flex; flex-direction: row; flex-wrap: wrap; justify-content: flex-start; width: 100% }\n",
       "    .wandb-col { display: flex; flex-direction: column; flex-basis: 100%; flex: 1; padding: 10px; }\n",
       "    </style>\n",
       "<div class=\"wandb-row\"><div class=\"wandb-col\"><h3>Run history:</h3><br/><table class=\"wandb\"><tr><td>CV_RMSE</td><td>▁</td></tr><tr><td>CV_RMSE_'Kalmar</td><td>▁</td></tr><tr><td>CV_RMSE_Blekinge</td><td>▁</td></tr><tr><td>RMSE</td><td>▁</td></tr><tr><td>RMSE_Blekinge</td><td>▁</td></tr><tr><td>RMSE_Kalmar</td><td>▁</td></tr></table><br/></div><div class=\"wandb-col\"><h3>Run summary:</h3><br/><table class=\"wandb\"><tr><td>CV_RMSE</td><td>3154.93544</td></tr><tr><td>CV_RMSE_'Kalmar</td><td>1534.10672</td></tr><tr><td>CV_RMSE_Blekinge</td><td>1620.82872</td></tr><tr><td>RMSE</td><td>231.28156</td></tr><tr><td>RMSE_Blekinge</td><td>72.7572</td></tr><tr><td>RMSE_Kalmar</td><td>158.52436</td></tr></table><br/></div></div>"
      ],
      "text/plain": [
       "<IPython.core.display.HTML object>"
      ]
     },
     "metadata": {},
     "output_type": "display_data"
    },
    {
     "data": {
      "text/html": [
       " View run <strong style=\"color:#cdcd00\">ethereal-sweep-28</strong> at: <a href='https://wandb.ai/danish2562022/sweeps-SEIR_kalmar_bleking/runs/zi58i20q' target=\"_blank\">https://wandb.ai/danish2562022/sweeps-SEIR_kalmar_bleking/runs/zi58i20q</a><br/> View project at: <a href='https://wandb.ai/danish2562022/sweeps-SEIR_kalmar_bleking' target=\"_blank\">https://wandb.ai/danish2562022/sweeps-SEIR_kalmar_bleking</a><br/>Synced 5 W&B file(s), 0 media file(s), 0 artifact file(s) and 0 other file(s)"
      ],
      "text/plain": [
       "<IPython.core.display.HTML object>"
      ]
     },
     "metadata": {},
     "output_type": "display_data"
    },
    {
     "data": {
      "text/html": [
       "Find logs at: <code>./wandb/run-20250528_184954-zi58i20q/logs</code>"
      ],
      "text/plain": [
       "<IPython.core.display.HTML object>"
      ]
     },
     "metadata": {},
     "output_type": "display_data"
    },
    {
     "data": {
      "text/html": [
       "The new W&B backend becomes opt-out in version 0.18.0; try it out with `wandb.require(\"core\")`! See https://wandb.me/wandb-core for more information."
      ],
      "text/plain": [
       "<IPython.core.display.HTML object>"
      ]
     },
     "metadata": {},
     "output_type": "display_data"
    },
    {
     "name": "stderr",
     "output_type": "stream",
     "text": [
      "\u001b[34m\u001b[1mwandb\u001b[0m: Agent Starting Run: 2rendodv with config:\n",
      "\u001b[34m\u001b[1mwandb\u001b[0m: \tah0: 1.0441870932146124\n",
      "\u001b[34m\u001b[1mwandb\u001b[0m: \tah1: 1.5299206026485186\n",
      "\u001b[34m\u001b[1mwandb\u001b[0m: \tbh0: 1.938745007973438\n",
      "\u001b[34m\u001b[1mwandb\u001b[0m: \tbh1: 9.495053716104184\n",
      "\u001b[34m\u001b[1mwandb\u001b[0m: \tc: 0.6225274589818031\n"
     ]
    },
    {
     "data": {
      "text/html": [
       "wandb version 0.19.11 is available!  To upgrade, please run:\n",
       " $ pip install wandb --upgrade"
      ],
      "text/plain": [
       "<IPython.core.display.HTML object>"
      ]
     },
     "metadata": {},
     "output_type": "display_data"
    },
    {
     "data": {
      "text/html": [
       "Tracking run with wandb version 0.17.4"
      ],
      "text/plain": [
       "<IPython.core.display.HTML object>"
      ]
     },
     "metadata": {},
     "output_type": "display_data"
    },
    {
     "data": {
      "text/html": [
       "Run data is saved locally in <code>/12tb_dsk3/SEIR_model/src/wandb/run-20250528_185005-2rendodv</code>"
      ],
      "text/plain": [
       "<IPython.core.display.HTML object>"
      ]
     },
     "metadata": {},
     "output_type": "display_data"
    },
    {
     "data": {
      "text/html": [
       "Syncing run <strong><a href='https://wandb.ai/danish2562022/sweeps-SEIR_kalmar_bleking/runs/2rendodv' target=\"_blank\">resilient-sweep-29</a></strong> to <a href='https://wandb.ai/danish2562022/sweeps-SEIR_kalmar_bleking' target=\"_blank\">Weights & Biases</a> (<a href='https://wandb.me/run' target=\"_blank\">docs</a>)<br/>Sweep page: <a href='https://wandb.ai/danish2562022/sweeps-SEIR_kalmar_bleking/sweeps/za0efz19' target=\"_blank\">https://wandb.ai/danish2562022/sweeps-SEIR_kalmar_bleking/sweeps/za0efz19</a>"
      ],
      "text/plain": [
       "<IPython.core.display.HTML object>"
      ]
     },
     "metadata": {},
     "output_type": "display_data"
    },
    {
     "data": {
      "text/html": [
       " View project at <a href='https://wandb.ai/danish2562022/sweeps-SEIR_kalmar_bleking' target=\"_blank\">https://wandb.ai/danish2562022/sweeps-SEIR_kalmar_bleking</a>"
      ],
      "text/plain": [
       "<IPython.core.display.HTML object>"
      ]
     },
     "metadata": {},
     "output_type": "display_data"
    },
    {
     "data": {
      "text/html": [
       " View sweep at <a href='https://wandb.ai/danish2562022/sweeps-SEIR_kalmar_bleking/sweeps/za0efz19' target=\"_blank\">https://wandb.ai/danish2562022/sweeps-SEIR_kalmar_bleking/sweeps/za0efz19</a>"
      ],
      "text/plain": [
       "<IPython.core.display.HTML object>"
      ]
     },
     "metadata": {},
     "output_type": "display_data"
    },
    {
     "data": {
      "text/html": [
       " View run at <a href='https://wandb.ai/danish2562022/sweeps-SEIR_kalmar_bleking/runs/2rendodv' target=\"_blank\">https://wandb.ai/danish2562022/sweeps-SEIR_kalmar_bleking/runs/2rendodv</a>"
      ],
      "text/plain": [
       "<IPython.core.display.HTML object>"
      ]
     },
     "metadata": {},
     "output_type": "display_data"
    },
    {
     "data": {
      "application/vnd.jupyter.widget-view+json": {
       "model_id": "aeb51fb67bb2460fab3996a12689099a",
       "version_major": 2,
       "version_minor": 0
      },
      "text/plain": [
       "VBox(children=(Label(value='0.021 MB of 0.021 MB uploaded\\r'), FloatProgress(value=1.0, max=1.0)))"
      ]
     },
     "metadata": {},
     "output_type": "display_data"
    },
    {
     "data": {
      "text/html": [
       "<style>\n",
       "    table.wandb td:nth-child(1) { padding: 0 10px; text-align: left ; width: auto;} td:nth-child(2) {text-align: left ; width: 100%}\n",
       "    .wandb-row { display: flex; flex-direction: row; flex-wrap: wrap; justify-content: flex-start; width: 100% }\n",
       "    .wandb-col { display: flex; flex-direction: column; flex-basis: 100%; flex: 1; padding: 10px; }\n",
       "    </style>\n",
       "<div class=\"wandb-row\"><div class=\"wandb-col\"><h3>Run history:</h3><br/><table class=\"wandb\"><tr><td>CV_RMSE</td><td>▁</td></tr><tr><td>CV_RMSE_'Kalmar</td><td>▁</td></tr><tr><td>CV_RMSE_Blekinge</td><td>▁</td></tr><tr><td>RMSE</td><td>▁</td></tr><tr><td>RMSE_Blekinge</td><td>▁</td></tr><tr><td>RMSE_Kalmar</td><td>▁</td></tr></table><br/></div><div class=\"wandb-col\"><h3>Run summary:</h3><br/><table class=\"wandb\"><tr><td>CV_RMSE</td><td>4418.40505</td></tr><tr><td>CV_RMSE_'Kalmar</td><td>1219.60989</td></tr><tr><td>CV_RMSE_Blekinge</td><td>3198.79516</td></tr><tr><td>RMSE</td><td>269.61672</td></tr><tr><td>RMSE_Blekinge</td><td>143.59036</td></tr><tr><td>RMSE_Kalmar</td><td>126.02636</td></tr></table><br/></div></div>"
      ],
      "text/plain": [
       "<IPython.core.display.HTML object>"
      ]
     },
     "metadata": {},
     "output_type": "display_data"
    },
    {
     "data": {
      "text/html": [
       " View run <strong style=\"color:#cdcd00\">resilient-sweep-29</strong> at: <a href='https://wandb.ai/danish2562022/sweeps-SEIR_kalmar_bleking/runs/2rendodv' target=\"_blank\">https://wandb.ai/danish2562022/sweeps-SEIR_kalmar_bleking/runs/2rendodv</a><br/> View project at: <a href='https://wandb.ai/danish2562022/sweeps-SEIR_kalmar_bleking' target=\"_blank\">https://wandb.ai/danish2562022/sweeps-SEIR_kalmar_bleking</a><br/>Synced 5 W&B file(s), 0 media file(s), 0 artifact file(s) and 0 other file(s)"
      ],
      "text/plain": [
       "<IPython.core.display.HTML object>"
      ]
     },
     "metadata": {},
     "output_type": "display_data"
    },
    {
     "data": {
      "text/html": [
       "Find logs at: <code>./wandb/run-20250528_185005-2rendodv/logs</code>"
      ],
      "text/plain": [
       "<IPython.core.display.HTML object>"
      ]
     },
     "metadata": {},
     "output_type": "display_data"
    },
    {
     "data": {
      "text/html": [
       "The new W&B backend becomes opt-out in version 0.18.0; try it out with `wandb.require(\"core\")`! See https://wandb.me/wandb-core for more information."
      ],
      "text/plain": [
       "<IPython.core.display.HTML object>"
      ]
     },
     "metadata": {},
     "output_type": "display_data"
    },
    {
     "name": "stderr",
     "output_type": "stream",
     "text": [
      "\u001b[34m\u001b[1mwandb\u001b[0m: Agent Starting Run: zyrsdbdw with config:\n",
      "\u001b[34m\u001b[1mwandb\u001b[0m: \tah0: 2.748258211262603\n",
      "\u001b[34m\u001b[1mwandb\u001b[0m: \tah1: 1.143432700780159\n",
      "\u001b[34m\u001b[1mwandb\u001b[0m: \tbh0: 6.725170002354279\n",
      "\u001b[34m\u001b[1mwandb\u001b[0m: \tbh1: 8.746777411390717\n",
      "\u001b[34m\u001b[1mwandb\u001b[0m: \tc: 0.6867566436309804\n"
     ]
    },
    {
     "data": {
      "text/html": [
       "wandb version 0.19.11 is available!  To upgrade, please run:\n",
       " $ pip install wandb --upgrade"
      ],
      "text/plain": [
       "<IPython.core.display.HTML object>"
      ]
     },
     "metadata": {},
     "output_type": "display_data"
    },
    {
     "data": {
      "text/html": [
       "Tracking run with wandb version 0.17.4"
      ],
      "text/plain": [
       "<IPython.core.display.HTML object>"
      ]
     },
     "metadata": {},
     "output_type": "display_data"
    },
    {
     "data": {
      "text/html": [
       "Run data is saved locally in <code>/12tb_dsk3/SEIR_model/src/wandb/run-20250528_185015-zyrsdbdw</code>"
      ],
      "text/plain": [
       "<IPython.core.display.HTML object>"
      ]
     },
     "metadata": {},
     "output_type": "display_data"
    },
    {
     "data": {
      "text/html": [
       "Syncing run <strong><a href='https://wandb.ai/danish2562022/sweeps-SEIR_kalmar_bleking/runs/zyrsdbdw' target=\"_blank\">vague-sweep-30</a></strong> to <a href='https://wandb.ai/danish2562022/sweeps-SEIR_kalmar_bleking' target=\"_blank\">Weights & Biases</a> (<a href='https://wandb.me/run' target=\"_blank\">docs</a>)<br/>Sweep page: <a href='https://wandb.ai/danish2562022/sweeps-SEIR_kalmar_bleking/sweeps/za0efz19' target=\"_blank\">https://wandb.ai/danish2562022/sweeps-SEIR_kalmar_bleking/sweeps/za0efz19</a>"
      ],
      "text/plain": [
       "<IPython.core.display.HTML object>"
      ]
     },
     "metadata": {},
     "output_type": "display_data"
    },
    {
     "data": {
      "text/html": [
       " View project at <a href='https://wandb.ai/danish2562022/sweeps-SEIR_kalmar_bleking' target=\"_blank\">https://wandb.ai/danish2562022/sweeps-SEIR_kalmar_bleking</a>"
      ],
      "text/plain": [
       "<IPython.core.display.HTML object>"
      ]
     },
     "metadata": {},
     "output_type": "display_data"
    },
    {
     "data": {
      "text/html": [
       " View sweep at <a href='https://wandb.ai/danish2562022/sweeps-SEIR_kalmar_bleking/sweeps/za0efz19' target=\"_blank\">https://wandb.ai/danish2562022/sweeps-SEIR_kalmar_bleking/sweeps/za0efz19</a>"
      ],
      "text/plain": [
       "<IPython.core.display.HTML object>"
      ]
     },
     "metadata": {},
     "output_type": "display_data"
    },
    {
     "data": {
      "text/html": [
       " View run at <a href='https://wandb.ai/danish2562022/sweeps-SEIR_kalmar_bleking/runs/zyrsdbdw' target=\"_blank\">https://wandb.ai/danish2562022/sweeps-SEIR_kalmar_bleking/runs/zyrsdbdw</a>"
      ],
      "text/plain": [
       "<IPython.core.display.HTML object>"
      ]
     },
     "metadata": {},
     "output_type": "display_data"
    },
    {
     "data": {
      "application/vnd.jupyter.widget-view+json": {
       "model_id": "17118a74d83e4c1ebeac72526ae04d19",
       "version_major": 2,
       "version_minor": 0
      },
      "text/plain": [
       "VBox(children=(Label(value='0.021 MB of 0.021 MB uploaded\\r'), FloatProgress(value=1.0, max=1.0)))"
      ]
     },
     "metadata": {},
     "output_type": "display_data"
    },
    {
     "data": {
      "text/html": [
       "<style>\n",
       "    table.wandb td:nth-child(1) { padding: 0 10px; text-align: left ; width: auto;} td:nth-child(2) {text-align: left ; width: 100%}\n",
       "    .wandb-row { display: flex; flex-direction: row; flex-wrap: wrap; justify-content: flex-start; width: 100% }\n",
       "    .wandb-col { display: flex; flex-direction: column; flex-basis: 100%; flex: 1; padding: 10px; }\n",
       "    </style>\n",
       "<div class=\"wandb-row\"><div class=\"wandb-col\"><h3>Run history:</h3><br/><table class=\"wandb\"><tr><td>CV_RMSE</td><td>▁</td></tr><tr><td>CV_RMSE_'Kalmar</td><td>▁</td></tr><tr><td>CV_RMSE_Blekinge</td><td>▁</td></tr><tr><td>RMSE</td><td>▁</td></tr><tr><td>RMSE_Blekinge</td><td>▁</td></tr><tr><td>RMSE_Kalmar</td><td>▁</td></tr></table><br/></div><div class=\"wandb-col\"><h3>Run summary:</h3><br/><table class=\"wandb\"><tr><td>CV_RMSE</td><td>4128.48602</td></tr><tr><td>CV_RMSE_'Kalmar</td><td>1590.44447</td></tr><tr><td>CV_RMSE_Blekinge</td><td>2538.04156</td></tr><tr><td>RMSE</td><td>278.27579</td></tr><tr><td>RMSE_Blekinge</td><td>113.92987</td></tr><tr><td>RMSE_Kalmar</td><td>164.34593</td></tr></table><br/></div></div>"
      ],
      "text/plain": [
       "<IPython.core.display.HTML object>"
      ]
     },
     "metadata": {},
     "output_type": "display_data"
    },
    {
     "data": {
      "text/html": [
       " View run <strong style=\"color:#cdcd00\">vague-sweep-30</strong> at: <a href='https://wandb.ai/danish2562022/sweeps-SEIR_kalmar_bleking/runs/zyrsdbdw' target=\"_blank\">https://wandb.ai/danish2562022/sweeps-SEIR_kalmar_bleking/runs/zyrsdbdw</a><br/> View project at: <a href='https://wandb.ai/danish2562022/sweeps-SEIR_kalmar_bleking' target=\"_blank\">https://wandb.ai/danish2562022/sweeps-SEIR_kalmar_bleking</a><br/>Synced 5 W&B file(s), 0 media file(s), 0 artifact file(s) and 0 other file(s)"
      ],
      "text/plain": [
       "<IPython.core.display.HTML object>"
      ]
     },
     "metadata": {},
     "output_type": "display_data"
    },
    {
     "data": {
      "text/html": [
       "Find logs at: <code>./wandb/run-20250528_185015-zyrsdbdw/logs</code>"
      ],
      "text/plain": [
       "<IPython.core.display.HTML object>"
      ]
     },
     "metadata": {},
     "output_type": "display_data"
    },
    {
     "data": {
      "text/html": [
       "The new W&B backend becomes opt-out in version 0.18.0; try it out with `wandb.require(\"core\")`! See https://wandb.me/wandb-core for more information."
      ],
      "text/plain": [
       "<IPython.core.display.HTML object>"
      ]
     },
     "metadata": {},
     "output_type": "display_data"
    },
    {
     "name": "stderr",
     "output_type": "stream",
     "text": [
      "\u001b[34m\u001b[1mwandb\u001b[0m: Agent Starting Run: xckxbmsn with config:\n",
      "\u001b[34m\u001b[1mwandb\u001b[0m: \tah0: 2.4772509036104204\n",
      "\u001b[34m\u001b[1mwandb\u001b[0m: \tah1: 0.17114224856003957\n",
      "\u001b[34m\u001b[1mwandb\u001b[0m: \tbh0: 1.3183841388957385\n",
      "\u001b[34m\u001b[1mwandb\u001b[0m: \tbh1: 7.436404345475736\n",
      "\u001b[34m\u001b[1mwandb\u001b[0m: \tc: 0.4829118145535529\n"
     ]
    },
    {
     "data": {
      "text/html": [
       "wandb version 0.19.11 is available!  To upgrade, please run:\n",
       " $ pip install wandb --upgrade"
      ],
      "text/plain": [
       "<IPython.core.display.HTML object>"
      ]
     },
     "metadata": {},
     "output_type": "display_data"
    },
    {
     "data": {
      "text/html": [
       "Tracking run with wandb version 0.17.4"
      ],
      "text/plain": [
       "<IPython.core.display.HTML object>"
      ]
     },
     "metadata": {},
     "output_type": "display_data"
    },
    {
     "data": {
      "text/html": [
       "Run data is saved locally in <code>/12tb_dsk3/SEIR_model/src/wandb/run-20250528_185025-xckxbmsn</code>"
      ],
      "text/plain": [
       "<IPython.core.display.HTML object>"
      ]
     },
     "metadata": {},
     "output_type": "display_data"
    },
    {
     "data": {
      "text/html": [
       "Syncing run <strong><a href='https://wandb.ai/danish2562022/sweeps-SEIR_kalmar_bleking/runs/xckxbmsn' target=\"_blank\">light-sweep-31</a></strong> to <a href='https://wandb.ai/danish2562022/sweeps-SEIR_kalmar_bleking' target=\"_blank\">Weights & Biases</a> (<a href='https://wandb.me/run' target=\"_blank\">docs</a>)<br/>Sweep page: <a href='https://wandb.ai/danish2562022/sweeps-SEIR_kalmar_bleking/sweeps/za0efz19' target=\"_blank\">https://wandb.ai/danish2562022/sweeps-SEIR_kalmar_bleking/sweeps/za0efz19</a>"
      ],
      "text/plain": [
       "<IPython.core.display.HTML object>"
      ]
     },
     "metadata": {},
     "output_type": "display_data"
    },
    {
     "data": {
      "text/html": [
       " View project at <a href='https://wandb.ai/danish2562022/sweeps-SEIR_kalmar_bleking' target=\"_blank\">https://wandb.ai/danish2562022/sweeps-SEIR_kalmar_bleking</a>"
      ],
      "text/plain": [
       "<IPython.core.display.HTML object>"
      ]
     },
     "metadata": {},
     "output_type": "display_data"
    },
    {
     "data": {
      "text/html": [
       " View sweep at <a href='https://wandb.ai/danish2562022/sweeps-SEIR_kalmar_bleking/sweeps/za0efz19' target=\"_blank\">https://wandb.ai/danish2562022/sweeps-SEIR_kalmar_bleking/sweeps/za0efz19</a>"
      ],
      "text/plain": [
       "<IPython.core.display.HTML object>"
      ]
     },
     "metadata": {},
     "output_type": "display_data"
    },
    {
     "data": {
      "text/html": [
       " View run at <a href='https://wandb.ai/danish2562022/sweeps-SEIR_kalmar_bleking/runs/xckxbmsn' target=\"_blank\">https://wandb.ai/danish2562022/sweeps-SEIR_kalmar_bleking/runs/xckxbmsn</a>"
      ],
      "text/plain": [
       "<IPython.core.display.HTML object>"
      ]
     },
     "metadata": {},
     "output_type": "display_data"
    },
    {
     "data": {
      "application/vnd.jupyter.widget-view+json": {
       "model_id": "0557226c235a4b03aa39789dad3f6681",
       "version_major": 2,
       "version_minor": 0
      },
      "text/plain": [
       "VBox(children=(Label(value='0.021 MB of 0.021 MB uploaded\\r'), FloatProgress(value=1.0, max=1.0)))"
      ]
     },
     "metadata": {},
     "output_type": "display_data"
    },
    {
     "data": {
      "text/html": [
       "<style>\n",
       "    table.wandb td:nth-child(1) { padding: 0 10px; text-align: left ; width: auto;} td:nth-child(2) {text-align: left ; width: 100%}\n",
       "    .wandb-row { display: flex; flex-direction: row; flex-wrap: wrap; justify-content: flex-start; width: 100% }\n",
       "    .wandb-col { display: flex; flex-direction: column; flex-basis: 100%; flex: 1; padding: 10px; }\n",
       "    </style>\n",
       "<div class=\"wandb-row\"><div class=\"wandb-col\"><h3>Run history:</h3><br/><table class=\"wandb\"><tr><td>CV_RMSE</td><td>▁</td></tr><tr><td>CV_RMSE_'Kalmar</td><td>▁</td></tr><tr><td>CV_RMSE_Blekinge</td><td>▁</td></tr><tr><td>RMSE</td><td>▁</td></tr><tr><td>RMSE_Blekinge</td><td>▁</td></tr><tr><td>RMSE_Kalmar</td><td>▁</td></tr></table><br/></div><div class=\"wandb-col\"><h3>Run summary:</h3><br/><table class=\"wandb\"><tr><td>CV_RMSE</td><td>3085.81265</td></tr><tr><td>CV_RMSE_'Kalmar</td><td>1287.85723</td></tr><tr><td>CV_RMSE_Blekinge</td><td>1797.95542</td></tr><tr><td>RMSE</td><td>213.7868</td></tr><tr><td>RMSE_Blekinge</td><td>80.70822</td></tr><tr><td>RMSE_Kalmar</td><td>133.07858</td></tr></table><br/></div></div>"
      ],
      "text/plain": [
       "<IPython.core.display.HTML object>"
      ]
     },
     "metadata": {},
     "output_type": "display_data"
    },
    {
     "data": {
      "text/html": [
       " View run <strong style=\"color:#cdcd00\">light-sweep-31</strong> at: <a href='https://wandb.ai/danish2562022/sweeps-SEIR_kalmar_bleking/runs/xckxbmsn' target=\"_blank\">https://wandb.ai/danish2562022/sweeps-SEIR_kalmar_bleking/runs/xckxbmsn</a><br/> View project at: <a href='https://wandb.ai/danish2562022/sweeps-SEIR_kalmar_bleking' target=\"_blank\">https://wandb.ai/danish2562022/sweeps-SEIR_kalmar_bleking</a><br/>Synced 5 W&B file(s), 0 media file(s), 0 artifact file(s) and 0 other file(s)"
      ],
      "text/plain": [
       "<IPython.core.display.HTML object>"
      ]
     },
     "metadata": {},
     "output_type": "display_data"
    },
    {
     "data": {
      "text/html": [
       "Find logs at: <code>./wandb/run-20250528_185025-xckxbmsn/logs</code>"
      ],
      "text/plain": [
       "<IPython.core.display.HTML object>"
      ]
     },
     "metadata": {},
     "output_type": "display_data"
    },
    {
     "data": {
      "text/html": [
       "The new W&B backend becomes opt-out in version 0.18.0; try it out with `wandb.require(\"core\")`! See https://wandb.me/wandb-core for more information."
      ],
      "text/plain": [
       "<IPython.core.display.HTML object>"
      ]
     },
     "metadata": {},
     "output_type": "display_data"
    },
    {
     "name": "stderr",
     "output_type": "stream",
     "text": [
      "\u001b[34m\u001b[1mwandb\u001b[0m: Sweep Agent: Waiting for job.\n",
      "\u001b[34m\u001b[1mwandb\u001b[0m: Job received.\n",
      "\u001b[34m\u001b[1mwandb\u001b[0m: Agent Starting Run: u3e0k02e with config:\n",
      "\u001b[34m\u001b[1mwandb\u001b[0m: \tah0: 1.8325252517347783\n",
      "\u001b[34m\u001b[1mwandb\u001b[0m: \tah1: 0.05655801377506031\n",
      "\u001b[34m\u001b[1mwandb\u001b[0m: \tbh0: 0.9937704873418252\n",
      "\u001b[34m\u001b[1mwandb\u001b[0m: \tbh1: 0.3658950250121462\n",
      "\u001b[34m\u001b[1mwandb\u001b[0m: \tc: 0.4376331507695239\n"
     ]
    },
    {
     "data": {
      "text/html": [
       "wandb version 0.19.11 is available!  To upgrade, please run:\n",
       " $ pip install wandb --upgrade"
      ],
      "text/plain": [
       "<IPython.core.display.HTML object>"
      ]
     },
     "metadata": {},
     "output_type": "display_data"
    },
    {
     "data": {
      "text/html": [
       "Tracking run with wandb version 0.17.4"
      ],
      "text/plain": [
       "<IPython.core.display.HTML object>"
      ]
     },
     "metadata": {},
     "output_type": "display_data"
    },
    {
     "data": {
      "text/html": [
       "Run data is saved locally in <code>/12tb_dsk3/SEIR_model/src/wandb/run-20250528_185042-u3e0k02e</code>"
      ],
      "text/plain": [
       "<IPython.core.display.HTML object>"
      ]
     },
     "metadata": {},
     "output_type": "display_data"
    },
    {
     "data": {
      "text/html": [
       "Syncing run <strong><a href='https://wandb.ai/danish2562022/sweeps-SEIR_kalmar_bleking/runs/u3e0k02e' target=\"_blank\">silver-sweep-32</a></strong> to <a href='https://wandb.ai/danish2562022/sweeps-SEIR_kalmar_bleking' target=\"_blank\">Weights & Biases</a> (<a href='https://wandb.me/run' target=\"_blank\">docs</a>)<br/>Sweep page: <a href='https://wandb.ai/danish2562022/sweeps-SEIR_kalmar_bleking/sweeps/za0efz19' target=\"_blank\">https://wandb.ai/danish2562022/sweeps-SEIR_kalmar_bleking/sweeps/za0efz19</a>"
      ],
      "text/plain": [
       "<IPython.core.display.HTML object>"
      ]
     },
     "metadata": {},
     "output_type": "display_data"
    },
    {
     "data": {
      "text/html": [
       " View project at <a href='https://wandb.ai/danish2562022/sweeps-SEIR_kalmar_bleking' target=\"_blank\">https://wandb.ai/danish2562022/sweeps-SEIR_kalmar_bleking</a>"
      ],
      "text/plain": [
       "<IPython.core.display.HTML object>"
      ]
     },
     "metadata": {},
     "output_type": "display_data"
    },
    {
     "data": {
      "text/html": [
       " View sweep at <a href='https://wandb.ai/danish2562022/sweeps-SEIR_kalmar_bleking/sweeps/za0efz19' target=\"_blank\">https://wandb.ai/danish2562022/sweeps-SEIR_kalmar_bleking/sweeps/za0efz19</a>"
      ],
      "text/plain": [
       "<IPython.core.display.HTML object>"
      ]
     },
     "metadata": {},
     "output_type": "display_data"
    },
    {
     "data": {
      "text/html": [
       " View run at <a href='https://wandb.ai/danish2562022/sweeps-SEIR_kalmar_bleking/runs/u3e0k02e' target=\"_blank\">https://wandb.ai/danish2562022/sweeps-SEIR_kalmar_bleking/runs/u3e0k02e</a>"
      ],
      "text/plain": [
       "<IPython.core.display.HTML object>"
      ]
     },
     "metadata": {},
     "output_type": "display_data"
    },
    {
     "data": {
      "application/vnd.jupyter.widget-view+json": {
       "model_id": "e4cd83dcbdcc490ab9ab45722163f5ae",
       "version_major": 2,
       "version_minor": 0
      },
      "text/plain": [
       "VBox(children=(Label(value='0.021 MB of 0.021 MB uploaded\\r'), FloatProgress(value=1.0, max=1.0)))"
      ]
     },
     "metadata": {},
     "output_type": "display_data"
    },
    {
     "data": {
      "text/html": [
       "<style>\n",
       "    table.wandb td:nth-child(1) { padding: 0 10px; text-align: left ; width: auto;} td:nth-child(2) {text-align: left ; width: 100%}\n",
       "    .wandb-row { display: flex; flex-direction: row; flex-wrap: wrap; justify-content: flex-start; width: 100% }\n",
       "    .wandb-col { display: flex; flex-direction: column; flex-basis: 100%; flex: 1; padding: 10px; }\n",
       "    </style>\n",
       "<div class=\"wandb-row\"><div class=\"wandb-col\"><h3>Run history:</h3><br/><table class=\"wandb\"><tr><td>CV_RMSE</td><td>▁</td></tr><tr><td>CV_RMSE_'Kalmar</td><td>▁</td></tr><tr><td>CV_RMSE_Blekinge</td><td>▁</td></tr><tr><td>RMSE</td><td>▁</td></tr><tr><td>RMSE_Blekinge</td><td>▁</td></tr><tr><td>RMSE_Kalmar</td><td>▁</td></tr></table><br/></div><div class=\"wandb-col\"><h3>Run summary:</h3><br/><table class=\"wandb\"><tr><td>CV_RMSE</td><td>494.88129</td></tr><tr><td>CV_RMSE_'Kalmar</td><td>357.28362</td></tr><tr><td>CV_RMSE_Blekinge</td><td>137.59766</td></tr><tr><td>RMSE</td><td>43.09591</td></tr><tr><td>RMSE_Blekinge</td><td>6.17661</td></tr><tr><td>RMSE_Kalmar</td><td>36.91931</td></tr></table><br/></div></div>"
      ],
      "text/plain": [
       "<IPython.core.display.HTML object>"
      ]
     },
     "metadata": {},
     "output_type": "display_data"
    },
    {
     "data": {
      "text/html": [
       " View run <strong style=\"color:#cdcd00\">silver-sweep-32</strong> at: <a href='https://wandb.ai/danish2562022/sweeps-SEIR_kalmar_bleking/runs/u3e0k02e' target=\"_blank\">https://wandb.ai/danish2562022/sweeps-SEIR_kalmar_bleking/runs/u3e0k02e</a><br/> View project at: <a href='https://wandb.ai/danish2562022/sweeps-SEIR_kalmar_bleking' target=\"_blank\">https://wandb.ai/danish2562022/sweeps-SEIR_kalmar_bleking</a><br/>Synced 5 W&B file(s), 0 media file(s), 0 artifact file(s) and 0 other file(s)"
      ],
      "text/plain": [
       "<IPython.core.display.HTML object>"
      ]
     },
     "metadata": {},
     "output_type": "display_data"
    },
    {
     "data": {
      "text/html": [
       "Find logs at: <code>./wandb/run-20250528_185042-u3e0k02e/logs</code>"
      ],
      "text/plain": [
       "<IPython.core.display.HTML object>"
      ]
     },
     "metadata": {},
     "output_type": "display_data"
    },
    {
     "data": {
      "text/html": [
       "The new W&B backend becomes opt-out in version 0.18.0; try it out with `wandb.require(\"core\")`! See https://wandb.me/wandb-core for more information."
      ],
      "text/plain": [
       "<IPython.core.display.HTML object>"
      ]
     },
     "metadata": {},
     "output_type": "display_data"
    },
    {
     "name": "stderr",
     "output_type": "stream",
     "text": [
      "\u001b[34m\u001b[1mwandb\u001b[0m: Agent Starting Run: 8buvp6sw with config:\n",
      "\u001b[34m\u001b[1mwandb\u001b[0m: \tah0: 2.271682673479172\n",
      "\u001b[34m\u001b[1mwandb\u001b[0m: \tah1: 1.5173820651235728\n",
      "\u001b[34m\u001b[1mwandb\u001b[0m: \tbh0: 0.022045669618614427\n",
      "\u001b[34m\u001b[1mwandb\u001b[0m: \tbh1: 1.2696694135320818\n",
      "\u001b[34m\u001b[1mwandb\u001b[0m: \tc: 0.9614352454605348\n"
     ]
    },
    {
     "data": {
      "text/html": [
       "wandb version 0.19.11 is available!  To upgrade, please run:\n",
       " $ pip install wandb --upgrade"
      ],
      "text/plain": [
       "<IPython.core.display.HTML object>"
      ]
     },
     "metadata": {},
     "output_type": "display_data"
    },
    {
     "data": {
      "text/html": [
       "Tracking run with wandb version 0.17.4"
      ],
      "text/plain": [
       "<IPython.core.display.HTML object>"
      ]
     },
     "metadata": {},
     "output_type": "display_data"
    },
    {
     "data": {
      "text/html": [
       "Run data is saved locally in <code>/12tb_dsk3/SEIR_model/src/wandb/run-20250528_185052-8buvp6sw</code>"
      ],
      "text/plain": [
       "<IPython.core.display.HTML object>"
      ]
     },
     "metadata": {},
     "output_type": "display_data"
    },
    {
     "data": {
      "text/html": [
       "Syncing run <strong><a href='https://wandb.ai/danish2562022/sweeps-SEIR_kalmar_bleking/runs/8buvp6sw' target=\"_blank\">floral-sweep-33</a></strong> to <a href='https://wandb.ai/danish2562022/sweeps-SEIR_kalmar_bleking' target=\"_blank\">Weights & Biases</a> (<a href='https://wandb.me/run' target=\"_blank\">docs</a>)<br/>Sweep page: <a href='https://wandb.ai/danish2562022/sweeps-SEIR_kalmar_bleking/sweeps/za0efz19' target=\"_blank\">https://wandb.ai/danish2562022/sweeps-SEIR_kalmar_bleking/sweeps/za0efz19</a>"
      ],
      "text/plain": [
       "<IPython.core.display.HTML object>"
      ]
     },
     "metadata": {},
     "output_type": "display_data"
    },
    {
     "data": {
      "text/html": [
       " View project at <a href='https://wandb.ai/danish2562022/sweeps-SEIR_kalmar_bleking' target=\"_blank\">https://wandb.ai/danish2562022/sweeps-SEIR_kalmar_bleking</a>"
      ],
      "text/plain": [
       "<IPython.core.display.HTML object>"
      ]
     },
     "metadata": {},
     "output_type": "display_data"
    },
    {
     "data": {
      "text/html": [
       " View sweep at <a href='https://wandb.ai/danish2562022/sweeps-SEIR_kalmar_bleking/sweeps/za0efz19' target=\"_blank\">https://wandb.ai/danish2562022/sweeps-SEIR_kalmar_bleking/sweeps/za0efz19</a>"
      ],
      "text/plain": [
       "<IPython.core.display.HTML object>"
      ]
     },
     "metadata": {},
     "output_type": "display_data"
    },
    {
     "data": {
      "text/html": [
       " View run at <a href='https://wandb.ai/danish2562022/sweeps-SEIR_kalmar_bleking/runs/8buvp6sw' target=\"_blank\">https://wandb.ai/danish2562022/sweeps-SEIR_kalmar_bleking/runs/8buvp6sw</a>"
      ],
      "text/plain": [
       "<IPython.core.display.HTML object>"
      ]
     },
     "metadata": {},
     "output_type": "display_data"
    },
    {
     "data": {
      "application/vnd.jupyter.widget-view+json": {
       "model_id": "951f5fef7b664f68992afe4801d37abc",
       "version_major": 2,
       "version_minor": 0
      },
      "text/plain": [
       "VBox(children=(Label(value='0.021 MB of 0.021 MB uploaded\\r'), FloatProgress(value=1.0, max=1.0)))"
      ]
     },
     "metadata": {},
     "output_type": "display_data"
    },
    {
     "data": {
      "text/html": [
       "<style>\n",
       "    table.wandb td:nth-child(1) { padding: 0 10px; text-align: left ; width: auto;} td:nth-child(2) {text-align: left ; width: 100%}\n",
       "    .wandb-row { display: flex; flex-direction: row; flex-wrap: wrap; justify-content: flex-start; width: 100% }\n",
       "    .wandb-col { display: flex; flex-direction: column; flex-basis: 100%; flex: 1; padding: 10px; }\n",
       "    </style>\n",
       "<div class=\"wandb-row\"><div class=\"wandb-col\"><h3>Run history:</h3><br/><table class=\"wandb\"><tr><td>CV_RMSE</td><td>▁</td></tr><tr><td>CV_RMSE_'Kalmar</td><td>▁</td></tr><tr><td>CV_RMSE_Blekinge</td><td>▁</td></tr><tr><td>RMSE</td><td>▁</td></tr><tr><td>RMSE_Blekinge</td><td>▁</td></tr><tr><td>RMSE_Kalmar</td><td>▁</td></tr></table><br/></div><div class=\"wandb-col\"><h3>Run summary:</h3><br/><table class=\"wandb\"><tr><td>CV_RMSE</td><td>3333.07955</td></tr><tr><td>CV_RMSE_'Kalmar</td><td>1449.11082</td></tr><tr><td>CV_RMSE_Blekinge</td><td>1883.96873</td></tr><tr><td>RMSE</td><td>234.31071</td></tr><tr><td>RMSE_Blekinge</td><td>84.56926</td></tr><tr><td>RMSE_Kalmar</td><td>149.74145</td></tr></table><br/></div></div>"
      ],
      "text/plain": [
       "<IPython.core.display.HTML object>"
      ]
     },
     "metadata": {},
     "output_type": "display_data"
    },
    {
     "data": {
      "text/html": [
       " View run <strong style=\"color:#cdcd00\">floral-sweep-33</strong> at: <a href='https://wandb.ai/danish2562022/sweeps-SEIR_kalmar_bleking/runs/8buvp6sw' target=\"_blank\">https://wandb.ai/danish2562022/sweeps-SEIR_kalmar_bleking/runs/8buvp6sw</a><br/> View project at: <a href='https://wandb.ai/danish2562022/sweeps-SEIR_kalmar_bleking' target=\"_blank\">https://wandb.ai/danish2562022/sweeps-SEIR_kalmar_bleking</a><br/>Synced 5 W&B file(s), 0 media file(s), 0 artifact file(s) and 0 other file(s)"
      ],
      "text/plain": [
       "<IPython.core.display.HTML object>"
      ]
     },
     "metadata": {},
     "output_type": "display_data"
    },
    {
     "data": {
      "text/html": [
       "Find logs at: <code>./wandb/run-20250528_185052-8buvp6sw/logs</code>"
      ],
      "text/plain": [
       "<IPython.core.display.HTML object>"
      ]
     },
     "metadata": {},
     "output_type": "display_data"
    },
    {
     "data": {
      "text/html": [
       "The new W&B backend becomes opt-out in version 0.18.0; try it out with `wandb.require(\"core\")`! See https://wandb.me/wandb-core for more information."
      ],
      "text/plain": [
       "<IPython.core.display.HTML object>"
      ]
     },
     "metadata": {},
     "output_type": "display_data"
    },
    {
     "name": "stderr",
     "output_type": "stream",
     "text": [
      "\u001b[34m\u001b[1mwandb\u001b[0m: Agent Starting Run: mty66hgb with config:\n",
      "\u001b[34m\u001b[1mwandb\u001b[0m: \tah0: 0.002505797880711924\n",
      "\u001b[34m\u001b[1mwandb\u001b[0m: \tah1: 1.1297719376274649\n",
      "\u001b[34m\u001b[1mwandb\u001b[0m: \tbh0: 8.296742358344817\n",
      "\u001b[34m\u001b[1mwandb\u001b[0m: \tbh1: 4.719122420055606\n",
      "\u001b[34m\u001b[1mwandb\u001b[0m: \tc: 0.48237538573094063\n"
     ]
    },
    {
     "data": {
      "text/html": [
       "wandb version 0.19.11 is available!  To upgrade, please run:\n",
       " $ pip install wandb --upgrade"
      ],
      "text/plain": [
       "<IPython.core.display.HTML object>"
      ]
     },
     "metadata": {},
     "output_type": "display_data"
    },
    {
     "data": {
      "text/html": [
       "Tracking run with wandb version 0.17.4"
      ],
      "text/plain": [
       "<IPython.core.display.HTML object>"
      ]
     },
     "metadata": {},
     "output_type": "display_data"
    },
    {
     "data": {
      "text/html": [
       "Run data is saved locally in <code>/12tb_dsk3/SEIR_model/src/wandb/run-20250528_185102-mty66hgb</code>"
      ],
      "text/plain": [
       "<IPython.core.display.HTML object>"
      ]
     },
     "metadata": {},
     "output_type": "display_data"
    },
    {
     "data": {
      "text/html": [
       "Syncing run <strong><a href='https://wandb.ai/danish2562022/sweeps-SEIR_kalmar_bleking/runs/mty66hgb' target=\"_blank\">swept-sweep-34</a></strong> to <a href='https://wandb.ai/danish2562022/sweeps-SEIR_kalmar_bleking' target=\"_blank\">Weights & Biases</a> (<a href='https://wandb.me/run' target=\"_blank\">docs</a>)<br/>Sweep page: <a href='https://wandb.ai/danish2562022/sweeps-SEIR_kalmar_bleking/sweeps/za0efz19' target=\"_blank\">https://wandb.ai/danish2562022/sweeps-SEIR_kalmar_bleking/sweeps/za0efz19</a>"
      ],
      "text/plain": [
       "<IPython.core.display.HTML object>"
      ]
     },
     "metadata": {},
     "output_type": "display_data"
    },
    {
     "data": {
      "text/html": [
       " View project at <a href='https://wandb.ai/danish2562022/sweeps-SEIR_kalmar_bleking' target=\"_blank\">https://wandb.ai/danish2562022/sweeps-SEIR_kalmar_bleking</a>"
      ],
      "text/plain": [
       "<IPython.core.display.HTML object>"
      ]
     },
     "metadata": {},
     "output_type": "display_data"
    },
    {
     "data": {
      "text/html": [
       " View sweep at <a href='https://wandb.ai/danish2562022/sweeps-SEIR_kalmar_bleking/sweeps/za0efz19' target=\"_blank\">https://wandb.ai/danish2562022/sweeps-SEIR_kalmar_bleking/sweeps/za0efz19</a>"
      ],
      "text/plain": [
       "<IPython.core.display.HTML object>"
      ]
     },
     "metadata": {},
     "output_type": "display_data"
    },
    {
     "data": {
      "text/html": [
       " View run at <a href='https://wandb.ai/danish2562022/sweeps-SEIR_kalmar_bleking/runs/mty66hgb' target=\"_blank\">https://wandb.ai/danish2562022/sweeps-SEIR_kalmar_bleking/runs/mty66hgb</a>"
      ],
      "text/plain": [
       "<IPython.core.display.HTML object>"
      ]
     },
     "metadata": {},
     "output_type": "display_data"
    },
    {
     "data": {
      "application/vnd.jupyter.widget-view+json": {
       "model_id": "8d1a9be1458e472096da06746390246b",
       "version_major": 2,
       "version_minor": 0
      },
      "text/plain": [
       "VBox(children=(Label(value='0.021 MB of 0.021 MB uploaded\\r'), FloatProgress(value=1.0, max=1.0)))"
      ]
     },
     "metadata": {},
     "output_type": "display_data"
    },
    {
     "data": {
      "text/html": [
       "<style>\n",
       "    table.wandb td:nth-child(1) { padding: 0 10px; text-align: left ; width: auto;} td:nth-child(2) {text-align: left ; width: 100%}\n",
       "    .wandb-row { display: flex; flex-direction: row; flex-wrap: wrap; justify-content: flex-start; width: 100% }\n",
       "    .wandb-col { display: flex; flex-direction: column; flex-basis: 100%; flex: 1; padding: 10px; }\n",
       "    </style>\n",
       "<div class=\"wandb-row\"><div class=\"wandb-col\"><h3>Run history:</h3><br/><table class=\"wandb\"><tr><td>CV_RMSE</td><td>▁</td></tr><tr><td>CV_RMSE_'Kalmar</td><td>▁</td></tr><tr><td>CV_RMSE_Blekinge</td><td>▁</td></tr><tr><td>RMSE</td><td>▁</td></tr><tr><td>RMSE_Blekinge</td><td>▁</td></tr><tr><td>RMSE_Kalmar</td><td>▁</td></tr></table><br/></div><div class=\"wandb-col\"><h3>Run summary:</h3><br/><table class=\"wandb\"><tr><td>CV_RMSE</td><td>306.79128</td></tr><tr><td>CV_RMSE_'Kalmar</td><td>144.97437</td></tr><tr><td>CV_RMSE_Blekinge</td><td>161.81692</td></tr><tr><td>RMSE</td><td>22.24447</td></tr><tr><td>RMSE_Blekinge</td><td>7.26378</td></tr><tr><td>RMSE_Kalmar</td><td>14.98068</td></tr></table><br/></div></div>"
      ],
      "text/plain": [
       "<IPython.core.display.HTML object>"
      ]
     },
     "metadata": {},
     "output_type": "display_data"
    },
    {
     "data": {
      "text/html": [
       " View run <strong style=\"color:#cdcd00\">swept-sweep-34</strong> at: <a href='https://wandb.ai/danish2562022/sweeps-SEIR_kalmar_bleking/runs/mty66hgb' target=\"_blank\">https://wandb.ai/danish2562022/sweeps-SEIR_kalmar_bleking/runs/mty66hgb</a><br/> View project at: <a href='https://wandb.ai/danish2562022/sweeps-SEIR_kalmar_bleking' target=\"_blank\">https://wandb.ai/danish2562022/sweeps-SEIR_kalmar_bleking</a><br/>Synced 5 W&B file(s), 0 media file(s), 0 artifact file(s) and 0 other file(s)"
      ],
      "text/plain": [
       "<IPython.core.display.HTML object>"
      ]
     },
     "metadata": {},
     "output_type": "display_data"
    },
    {
     "data": {
      "text/html": [
       "Find logs at: <code>./wandb/run-20250528_185102-mty66hgb/logs</code>"
      ],
      "text/plain": [
       "<IPython.core.display.HTML object>"
      ]
     },
     "metadata": {},
     "output_type": "display_data"
    },
    {
     "data": {
      "text/html": [
       "The new W&B backend becomes opt-out in version 0.18.0; try it out with `wandb.require(\"core\")`! See https://wandb.me/wandb-core for more information."
      ],
      "text/plain": [
       "<IPython.core.display.HTML object>"
      ]
     },
     "metadata": {},
     "output_type": "display_data"
    },
    {
     "name": "stderr",
     "output_type": "stream",
     "text": [
      "\u001b[34m\u001b[1mwandb\u001b[0m: Agent Starting Run: oxerh6tq with config:\n",
      "\u001b[34m\u001b[1mwandb\u001b[0m: \tah0: 0.4934902975296468\n",
      "\u001b[34m\u001b[1mwandb\u001b[0m: \tah1: 2.534138951978967\n",
      "\u001b[34m\u001b[1mwandb\u001b[0m: \tbh0: 5.983393112302975\n",
      "\u001b[34m\u001b[1mwandb\u001b[0m: \tbh1: 5.691665436158905\n",
      "\u001b[34m\u001b[1mwandb\u001b[0m: \tc: 0.4038730637983013\n"
     ]
    },
    {
     "data": {
      "text/html": [
       "wandb version 0.19.11 is available!  To upgrade, please run:\n",
       " $ pip install wandb --upgrade"
      ],
      "text/plain": [
       "<IPython.core.display.HTML object>"
      ]
     },
     "metadata": {},
     "output_type": "display_data"
    },
    {
     "data": {
      "text/html": [
       "Tracking run with wandb version 0.17.4"
      ],
      "text/plain": [
       "<IPython.core.display.HTML object>"
      ]
     },
     "metadata": {},
     "output_type": "display_data"
    },
    {
     "data": {
      "text/html": [
       "Run data is saved locally in <code>/12tb_dsk3/SEIR_model/src/wandb/run-20250528_185113-oxerh6tq</code>"
      ],
      "text/plain": [
       "<IPython.core.display.HTML object>"
      ]
     },
     "metadata": {},
     "output_type": "display_data"
    },
    {
     "data": {
      "text/html": [
       "Syncing run <strong><a href='https://wandb.ai/danish2562022/sweeps-SEIR_kalmar_bleking/runs/oxerh6tq' target=\"_blank\">smooth-sweep-35</a></strong> to <a href='https://wandb.ai/danish2562022/sweeps-SEIR_kalmar_bleking' target=\"_blank\">Weights & Biases</a> (<a href='https://wandb.me/run' target=\"_blank\">docs</a>)<br/>Sweep page: <a href='https://wandb.ai/danish2562022/sweeps-SEIR_kalmar_bleking/sweeps/za0efz19' target=\"_blank\">https://wandb.ai/danish2562022/sweeps-SEIR_kalmar_bleking/sweeps/za0efz19</a>"
      ],
      "text/plain": [
       "<IPython.core.display.HTML object>"
      ]
     },
     "metadata": {},
     "output_type": "display_data"
    },
    {
     "data": {
      "text/html": [
       " View project at <a href='https://wandb.ai/danish2562022/sweeps-SEIR_kalmar_bleking' target=\"_blank\">https://wandb.ai/danish2562022/sweeps-SEIR_kalmar_bleking</a>"
      ],
      "text/plain": [
       "<IPython.core.display.HTML object>"
      ]
     },
     "metadata": {},
     "output_type": "display_data"
    },
    {
     "data": {
      "text/html": [
       " View sweep at <a href='https://wandb.ai/danish2562022/sweeps-SEIR_kalmar_bleking/sweeps/za0efz19' target=\"_blank\">https://wandb.ai/danish2562022/sweeps-SEIR_kalmar_bleking/sweeps/za0efz19</a>"
      ],
      "text/plain": [
       "<IPython.core.display.HTML object>"
      ]
     },
     "metadata": {},
     "output_type": "display_data"
    },
    {
     "data": {
      "text/html": [
       " View run at <a href='https://wandb.ai/danish2562022/sweeps-SEIR_kalmar_bleking/runs/oxerh6tq' target=\"_blank\">https://wandb.ai/danish2562022/sweeps-SEIR_kalmar_bleking/runs/oxerh6tq</a>"
      ],
      "text/plain": [
       "<IPython.core.display.HTML object>"
      ]
     },
     "metadata": {},
     "output_type": "display_data"
    },
    {
     "data": {
      "application/vnd.jupyter.widget-view+json": {
       "model_id": "3f0ea84bf3514cfc97954182e1645723",
       "version_major": 2,
       "version_minor": 0
      },
      "text/plain": [
       "VBox(children=(Label(value='0.021 MB of 0.021 MB uploaded\\r'), FloatProgress(value=1.0, max=1.0)))"
      ]
     },
     "metadata": {},
     "output_type": "display_data"
    },
    {
     "data": {
      "text/html": [
       "<style>\n",
       "    table.wandb td:nth-child(1) { padding: 0 10px; text-align: left ; width: auto;} td:nth-child(2) {text-align: left ; width: 100%}\n",
       "    .wandb-row { display: flex; flex-direction: row; flex-wrap: wrap; justify-content: flex-start; width: 100% }\n",
       "    .wandb-col { display: flex; flex-direction: column; flex-basis: 100%; flex: 1; padding: 10px; }\n",
       "    </style>\n",
       "<div class=\"wandb-row\"><div class=\"wandb-col\"><h3>Run history:</h3><br/><table class=\"wandb\"><tr><td>CV_RMSE</td><td>▁</td></tr><tr><td>CV_RMSE_'Kalmar</td><td>▁</td></tr><tr><td>CV_RMSE_Blekinge</td><td>▁</td></tr><tr><td>RMSE</td><td>▁</td></tr><tr><td>RMSE_Blekinge</td><td>▁</td></tr><tr><td>RMSE_Kalmar</td><td>▁</td></tr></table><br/></div><div class=\"wandb-col\"><h3>Run summary:</h3><br/><table class=\"wandb\"><tr><td>CV_RMSE</td><td>3663.84164</td></tr><tr><td>CV_RMSE_'Kalmar</td><td>1095.57129</td></tr><tr><td>CV_RMSE_Blekinge</td><td>2568.27035</td></tr><tr><td>RMSE</td><td>228.49584</td></tr><tr><td>RMSE_Blekinge</td><td>115.2868</td></tr><tr><td>RMSE_Kalmar</td><td>113.20903</td></tr></table><br/></div></div>"
      ],
      "text/plain": [
       "<IPython.core.display.HTML object>"
      ]
     },
     "metadata": {},
     "output_type": "display_data"
    },
    {
     "data": {
      "text/html": [
       " View run <strong style=\"color:#cdcd00\">smooth-sweep-35</strong> at: <a href='https://wandb.ai/danish2562022/sweeps-SEIR_kalmar_bleking/runs/oxerh6tq' target=\"_blank\">https://wandb.ai/danish2562022/sweeps-SEIR_kalmar_bleking/runs/oxerh6tq</a><br/> View project at: <a href='https://wandb.ai/danish2562022/sweeps-SEIR_kalmar_bleking' target=\"_blank\">https://wandb.ai/danish2562022/sweeps-SEIR_kalmar_bleking</a><br/>Synced 5 W&B file(s), 0 media file(s), 0 artifact file(s) and 0 other file(s)"
      ],
      "text/plain": [
       "<IPython.core.display.HTML object>"
      ]
     },
     "metadata": {},
     "output_type": "display_data"
    },
    {
     "data": {
      "text/html": [
       "Find logs at: <code>./wandb/run-20250528_185113-oxerh6tq/logs</code>"
      ],
      "text/plain": [
       "<IPython.core.display.HTML object>"
      ]
     },
     "metadata": {},
     "output_type": "display_data"
    },
    {
     "data": {
      "text/html": [
       "The new W&B backend becomes opt-out in version 0.18.0; try it out with `wandb.require(\"core\")`! See https://wandb.me/wandb-core for more information."
      ],
      "text/plain": [
       "<IPython.core.display.HTML object>"
      ]
     },
     "metadata": {},
     "output_type": "display_data"
    },
    {
     "name": "stderr",
     "output_type": "stream",
     "text": [
      "\u001b[34m\u001b[1mwandb\u001b[0m: Agent Starting Run: nuxo277q with config:\n",
      "\u001b[34m\u001b[1mwandb\u001b[0m: \tah0: 2.8482061176024485\n",
      "\u001b[34m\u001b[1mwandb\u001b[0m: \tah1: 0.00485336244276402\n",
      "\u001b[34m\u001b[1mwandb\u001b[0m: \tbh0: 8.49359264962262\n",
      "\u001b[34m\u001b[1mwandb\u001b[0m: \tbh1: 5.615669112286764\n",
      "\u001b[34m\u001b[1mwandb\u001b[0m: \tc: 0.8744569221413386\n"
     ]
    },
    {
     "data": {
      "text/html": [
       "wandb version 0.19.11 is available!  To upgrade, please run:\n",
       " $ pip install wandb --upgrade"
      ],
      "text/plain": [
       "<IPython.core.display.HTML object>"
      ]
     },
     "metadata": {},
     "output_type": "display_data"
    },
    {
     "data": {
      "text/html": [
       "Tracking run with wandb version 0.17.4"
      ],
      "text/plain": [
       "<IPython.core.display.HTML object>"
      ]
     },
     "metadata": {},
     "output_type": "display_data"
    },
    {
     "data": {
      "text/html": [
       "Run data is saved locally in <code>/12tb_dsk3/SEIR_model/src/wandb/run-20250528_185123-nuxo277q</code>"
      ],
      "text/plain": [
       "<IPython.core.display.HTML object>"
      ]
     },
     "metadata": {},
     "output_type": "display_data"
    },
    {
     "data": {
      "text/html": [
       "Syncing run <strong><a href='https://wandb.ai/danish2562022/sweeps-SEIR_kalmar_bleking/runs/nuxo277q' target=\"_blank\">ethereal-sweep-36</a></strong> to <a href='https://wandb.ai/danish2562022/sweeps-SEIR_kalmar_bleking' target=\"_blank\">Weights & Biases</a> (<a href='https://wandb.me/run' target=\"_blank\">docs</a>)<br/>Sweep page: <a href='https://wandb.ai/danish2562022/sweeps-SEIR_kalmar_bleking/sweeps/za0efz19' target=\"_blank\">https://wandb.ai/danish2562022/sweeps-SEIR_kalmar_bleking/sweeps/za0efz19</a>"
      ],
      "text/plain": [
       "<IPython.core.display.HTML object>"
      ]
     },
     "metadata": {},
     "output_type": "display_data"
    },
    {
     "data": {
      "text/html": [
       " View project at <a href='https://wandb.ai/danish2562022/sweeps-SEIR_kalmar_bleking' target=\"_blank\">https://wandb.ai/danish2562022/sweeps-SEIR_kalmar_bleking</a>"
      ],
      "text/plain": [
       "<IPython.core.display.HTML object>"
      ]
     },
     "metadata": {},
     "output_type": "display_data"
    },
    {
     "data": {
      "text/html": [
       " View sweep at <a href='https://wandb.ai/danish2562022/sweeps-SEIR_kalmar_bleking/sweeps/za0efz19' target=\"_blank\">https://wandb.ai/danish2562022/sweeps-SEIR_kalmar_bleking/sweeps/za0efz19</a>"
      ],
      "text/plain": [
       "<IPython.core.display.HTML object>"
      ]
     },
     "metadata": {},
     "output_type": "display_data"
    },
    {
     "data": {
      "text/html": [
       " View run at <a href='https://wandb.ai/danish2562022/sweeps-SEIR_kalmar_bleking/runs/nuxo277q' target=\"_blank\">https://wandb.ai/danish2562022/sweeps-SEIR_kalmar_bleking/runs/nuxo277q</a>"
      ],
      "text/plain": [
       "<IPython.core.display.HTML object>"
      ]
     },
     "metadata": {},
     "output_type": "display_data"
    },
    {
     "data": {
      "application/vnd.jupyter.widget-view+json": {
       "model_id": "9631394a0be741ebbbab8b53b9ad559b",
       "version_major": 2,
       "version_minor": 0
      },
      "text/plain": [
       "VBox(children=(Label(value='0.021 MB of 0.021 MB uploaded\\r'), FloatProgress(value=1.0, max=1.0)))"
      ]
     },
     "metadata": {},
     "output_type": "display_data"
    },
    {
     "data": {
      "text/html": [
       "<style>\n",
       "    table.wandb td:nth-child(1) { padding: 0 10px; text-align: left ; width: auto;} td:nth-child(2) {text-align: left ; width: 100%}\n",
       "    .wandb-row { display: flex; flex-direction: row; flex-wrap: wrap; justify-content: flex-start; width: 100% }\n",
       "    .wandb-col { display: flex; flex-direction: column; flex-basis: 100%; flex: 1; padding: 10px; }\n",
       "    </style>\n",
       "<div class=\"wandb-row\"><div class=\"wandb-col\"><h3>Run history:</h3><br/><table class=\"wandb\"><tr><td>CV_RMSE</td><td>▁</td></tr><tr><td>CV_RMSE_'Kalmar</td><td>▁</td></tr><tr><td>CV_RMSE_Blekinge</td><td>▁</td></tr><tr><td>RMSE</td><td>▁</td></tr><tr><td>RMSE_Blekinge</td><td>▁</td></tr><tr><td>RMSE_Kalmar</td><td>▁</td></tr></table><br/></div><div class=\"wandb-col\"><h3>Run summary:</h3><br/><table class=\"wandb\"><tr><td>CV_RMSE</td><td>3615.31684</td></tr><tr><td>CV_RMSE_'Kalmar</td><td>1722.61093</td></tr><tr><td>CV_RMSE_Blekinge</td><td>1892.70591</td></tr><tr><td>RMSE</td><td>262.96459</td></tr><tr><td>RMSE_Blekinge</td><td>84.96147</td></tr><tr><td>RMSE_Kalmar</td><td>178.00313</td></tr></table><br/></div></div>"
      ],
      "text/plain": [
       "<IPython.core.display.HTML object>"
      ]
     },
     "metadata": {},
     "output_type": "display_data"
    },
    {
     "data": {
      "text/html": [
       " View run <strong style=\"color:#cdcd00\">ethereal-sweep-36</strong> at: <a href='https://wandb.ai/danish2562022/sweeps-SEIR_kalmar_bleking/runs/nuxo277q' target=\"_blank\">https://wandb.ai/danish2562022/sweeps-SEIR_kalmar_bleking/runs/nuxo277q</a><br/> View project at: <a href='https://wandb.ai/danish2562022/sweeps-SEIR_kalmar_bleking' target=\"_blank\">https://wandb.ai/danish2562022/sweeps-SEIR_kalmar_bleking</a><br/>Synced 5 W&B file(s), 0 media file(s), 0 artifact file(s) and 0 other file(s)"
      ],
      "text/plain": [
       "<IPython.core.display.HTML object>"
      ]
     },
     "metadata": {},
     "output_type": "display_data"
    },
    {
     "data": {
      "text/html": [
       "Find logs at: <code>./wandb/run-20250528_185123-nuxo277q/logs</code>"
      ],
      "text/plain": [
       "<IPython.core.display.HTML object>"
      ]
     },
     "metadata": {},
     "output_type": "display_data"
    },
    {
     "data": {
      "text/html": [
       "The new W&B backend becomes opt-out in version 0.18.0; try it out with `wandb.require(\"core\")`! See https://wandb.me/wandb-core for more information."
      ],
      "text/plain": [
       "<IPython.core.display.HTML object>"
      ]
     },
     "metadata": {},
     "output_type": "display_data"
    },
    {
     "name": "stderr",
     "output_type": "stream",
     "text": [
      "\u001b[34m\u001b[1mwandb\u001b[0m: Sweep Agent: Waiting for job.\n",
      "\u001b[34m\u001b[1mwandb\u001b[0m: Job received.\n",
      "\u001b[34m\u001b[1mwandb\u001b[0m: Agent Starting Run: nfiw1s6t with config:\n",
      "\u001b[34m\u001b[1mwandb\u001b[0m: \tah0: 2.3657679832259104\n",
      "\u001b[34m\u001b[1mwandb\u001b[0m: \tah1: 0.2173588538029965\n",
      "\u001b[34m\u001b[1mwandb\u001b[0m: \tbh0: 6.945471474176081\n",
      "\u001b[34m\u001b[1mwandb\u001b[0m: \tbh1: 4.767854262184031\n",
      "\u001b[34m\u001b[1mwandb\u001b[0m: \tc: 0.14300430129567043\n"
     ]
    },
    {
     "data": {
      "text/html": [
       "wandb version 0.19.11 is available!  To upgrade, please run:\n",
       " $ pip install wandb --upgrade"
      ],
      "text/plain": [
       "<IPython.core.display.HTML object>"
      ]
     },
     "metadata": {},
     "output_type": "display_data"
    },
    {
     "data": {
      "text/html": [
       "Tracking run with wandb version 0.17.4"
      ],
      "text/plain": [
       "<IPython.core.display.HTML object>"
      ]
     },
     "metadata": {},
     "output_type": "display_data"
    },
    {
     "data": {
      "text/html": [
       "Run data is saved locally in <code>/12tb_dsk3/SEIR_model/src/wandb/run-20250528_185139-nfiw1s6t</code>"
      ],
      "text/plain": [
       "<IPython.core.display.HTML object>"
      ]
     },
     "metadata": {},
     "output_type": "display_data"
    },
    {
     "data": {
      "text/html": [
       "Syncing run <strong><a href='https://wandb.ai/danish2562022/sweeps-SEIR_kalmar_bleking/runs/nfiw1s6t' target=\"_blank\">elated-sweep-37</a></strong> to <a href='https://wandb.ai/danish2562022/sweeps-SEIR_kalmar_bleking' target=\"_blank\">Weights & Biases</a> (<a href='https://wandb.me/run' target=\"_blank\">docs</a>)<br/>Sweep page: <a href='https://wandb.ai/danish2562022/sweeps-SEIR_kalmar_bleking/sweeps/za0efz19' target=\"_blank\">https://wandb.ai/danish2562022/sweeps-SEIR_kalmar_bleking/sweeps/za0efz19</a>"
      ],
      "text/plain": [
       "<IPython.core.display.HTML object>"
      ]
     },
     "metadata": {},
     "output_type": "display_data"
    },
    {
     "data": {
      "text/html": [
       " View project at <a href='https://wandb.ai/danish2562022/sweeps-SEIR_kalmar_bleking' target=\"_blank\">https://wandb.ai/danish2562022/sweeps-SEIR_kalmar_bleking</a>"
      ],
      "text/plain": [
       "<IPython.core.display.HTML object>"
      ]
     },
     "metadata": {},
     "output_type": "display_data"
    },
    {
     "data": {
      "text/html": [
       " View sweep at <a href='https://wandb.ai/danish2562022/sweeps-SEIR_kalmar_bleking/sweeps/za0efz19' target=\"_blank\">https://wandb.ai/danish2562022/sweeps-SEIR_kalmar_bleking/sweeps/za0efz19</a>"
      ],
      "text/plain": [
       "<IPython.core.display.HTML object>"
      ]
     },
     "metadata": {},
     "output_type": "display_data"
    },
    {
     "data": {
      "text/html": [
       " View run at <a href='https://wandb.ai/danish2562022/sweeps-SEIR_kalmar_bleking/runs/nfiw1s6t' target=\"_blank\">https://wandb.ai/danish2562022/sweeps-SEIR_kalmar_bleking/runs/nfiw1s6t</a>"
      ],
      "text/plain": [
       "<IPython.core.display.HTML object>"
      ]
     },
     "metadata": {},
     "output_type": "display_data"
    },
    {
     "data": {
      "application/vnd.jupyter.widget-view+json": {
       "model_id": "254dbc7cf53349028d6623d708729792",
       "version_major": 2,
       "version_minor": 0
      },
      "text/plain": [
       "VBox(children=(Label(value='0.021 MB of 0.021 MB uploaded\\r'), FloatProgress(value=1.0, max=1.0)))"
      ]
     },
     "metadata": {},
     "output_type": "display_data"
    },
    {
     "data": {
      "text/html": [
       "<style>\n",
       "    table.wandb td:nth-child(1) { padding: 0 10px; text-align: left ; width: auto;} td:nth-child(2) {text-align: left ; width: 100%}\n",
       "    .wandb-row { display: flex; flex-direction: row; flex-wrap: wrap; justify-content: flex-start; width: 100% }\n",
       "    .wandb-col { display: flex; flex-direction: column; flex-basis: 100%; flex: 1; padding: 10px; }\n",
       "    </style>\n",
       "<div class=\"wandb-row\"><div class=\"wandb-col\"><h3>Run history:</h3><br/><table class=\"wandb\"><tr><td>CV_RMSE</td><td>▁</td></tr><tr><td>CV_RMSE_'Kalmar</td><td>▁</td></tr><tr><td>CV_RMSE_Blekinge</td><td>▁</td></tr><tr><td>RMSE</td><td>▁</td></tr><tr><td>RMSE_Blekinge</td><td>▁</td></tr><tr><td>RMSE_Kalmar</td><td>▁</td></tr></table><br/></div><div class=\"wandb-col\"><h3>Run summary:</h3><br/><table class=\"wandb\"><tr><td>CV_RMSE</td><td>2128.31791</td></tr><tr><td>CV_RMSE_'Kalmar</td><td>1597.90527</td></tr><tr><td>CV_RMSE_Blekinge</td><td>530.41264</td></tr><tr><td>RMSE</td><td>188.92651</td></tr><tr><td>RMSE_Blekinge</td><td>23.80963</td></tr><tr><td>RMSE_Kalmar</td><td>165.11688</td></tr></table><br/></div></div>"
      ],
      "text/plain": [
       "<IPython.core.display.HTML object>"
      ]
     },
     "metadata": {},
     "output_type": "display_data"
    },
    {
     "data": {
      "text/html": [
       " View run <strong style=\"color:#cdcd00\">elated-sweep-37</strong> at: <a href='https://wandb.ai/danish2562022/sweeps-SEIR_kalmar_bleking/runs/nfiw1s6t' target=\"_blank\">https://wandb.ai/danish2562022/sweeps-SEIR_kalmar_bleking/runs/nfiw1s6t</a><br/> View project at: <a href='https://wandb.ai/danish2562022/sweeps-SEIR_kalmar_bleking' target=\"_blank\">https://wandb.ai/danish2562022/sweeps-SEIR_kalmar_bleking</a><br/>Synced 5 W&B file(s), 0 media file(s), 0 artifact file(s) and 0 other file(s)"
      ],
      "text/plain": [
       "<IPython.core.display.HTML object>"
      ]
     },
     "metadata": {},
     "output_type": "display_data"
    },
    {
     "data": {
      "text/html": [
       "Find logs at: <code>./wandb/run-20250528_185139-nfiw1s6t/logs</code>"
      ],
      "text/plain": [
       "<IPython.core.display.HTML object>"
      ]
     },
     "metadata": {},
     "output_type": "display_data"
    },
    {
     "data": {
      "text/html": [
       "The new W&B backend becomes opt-out in version 0.18.0; try it out with `wandb.require(\"core\")`! See https://wandb.me/wandb-core for more information."
      ],
      "text/plain": [
       "<IPython.core.display.HTML object>"
      ]
     },
     "metadata": {},
     "output_type": "display_data"
    },
    {
     "name": "stderr",
     "output_type": "stream",
     "text": [
      "\u001b[34m\u001b[1mwandb\u001b[0m: Agent Starting Run: fy8r4bsz with config:\n",
      "\u001b[34m\u001b[1mwandb\u001b[0m: \tah0: 0.6004165207542028\n",
      "\u001b[34m\u001b[1mwandb\u001b[0m: \tah1: 0.8864355356283652\n",
      "\u001b[34m\u001b[1mwandb\u001b[0m: \tbh0: 0.4768613580099479\n",
      "\u001b[34m\u001b[1mwandb\u001b[0m: \tbh1: 0.1095035548153045\n",
      "\u001b[34m\u001b[1mwandb\u001b[0m: \tc: 0.8631745709491117\n"
     ]
    },
    {
     "data": {
      "text/html": [
       "wandb version 0.19.11 is available!  To upgrade, please run:\n",
       " $ pip install wandb --upgrade"
      ],
      "text/plain": [
       "<IPython.core.display.HTML object>"
      ]
     },
     "metadata": {},
     "output_type": "display_data"
    },
    {
     "data": {
      "text/html": [
       "Tracking run with wandb version 0.17.4"
      ],
      "text/plain": [
       "<IPython.core.display.HTML object>"
      ]
     },
     "metadata": {},
     "output_type": "display_data"
    },
    {
     "data": {
      "text/html": [
       "Run data is saved locally in <code>/12tb_dsk3/SEIR_model/src/wandb/run-20250528_185150-fy8r4bsz</code>"
      ],
      "text/plain": [
       "<IPython.core.display.HTML object>"
      ]
     },
     "metadata": {},
     "output_type": "display_data"
    },
    {
     "data": {
      "text/html": [
       "Syncing run <strong><a href='https://wandb.ai/danish2562022/sweeps-SEIR_kalmar_bleking/runs/fy8r4bsz' target=\"_blank\">trim-sweep-38</a></strong> to <a href='https://wandb.ai/danish2562022/sweeps-SEIR_kalmar_bleking' target=\"_blank\">Weights & Biases</a> (<a href='https://wandb.me/run' target=\"_blank\">docs</a>)<br/>Sweep page: <a href='https://wandb.ai/danish2562022/sweeps-SEIR_kalmar_bleking/sweeps/za0efz19' target=\"_blank\">https://wandb.ai/danish2562022/sweeps-SEIR_kalmar_bleking/sweeps/za0efz19</a>"
      ],
      "text/plain": [
       "<IPython.core.display.HTML object>"
      ]
     },
     "metadata": {},
     "output_type": "display_data"
    },
    {
     "data": {
      "text/html": [
       " View project at <a href='https://wandb.ai/danish2562022/sweeps-SEIR_kalmar_bleking' target=\"_blank\">https://wandb.ai/danish2562022/sweeps-SEIR_kalmar_bleking</a>"
      ],
      "text/plain": [
       "<IPython.core.display.HTML object>"
      ]
     },
     "metadata": {},
     "output_type": "display_data"
    },
    {
     "data": {
      "text/html": [
       " View sweep at <a href='https://wandb.ai/danish2562022/sweeps-SEIR_kalmar_bleking/sweeps/za0efz19' target=\"_blank\">https://wandb.ai/danish2562022/sweeps-SEIR_kalmar_bleking/sweeps/za0efz19</a>"
      ],
      "text/plain": [
       "<IPython.core.display.HTML object>"
      ]
     },
     "metadata": {},
     "output_type": "display_data"
    },
    {
     "data": {
      "text/html": [
       " View run at <a href='https://wandb.ai/danish2562022/sweeps-SEIR_kalmar_bleking/runs/fy8r4bsz' target=\"_blank\">https://wandb.ai/danish2562022/sweeps-SEIR_kalmar_bleking/runs/fy8r4bsz</a>"
      ],
      "text/plain": [
       "<IPython.core.display.HTML object>"
      ]
     },
     "metadata": {},
     "output_type": "display_data"
    },
    {
     "data": {
      "application/vnd.jupyter.widget-view+json": {
       "model_id": "a160a9262bf34d26a42c664aae330b7f",
       "version_major": 2,
       "version_minor": 0
      },
      "text/plain": [
       "VBox(children=(Label(value='0.021 MB of 0.021 MB uploaded\\r'), FloatProgress(value=1.0, max=1.0)))"
      ]
     },
     "metadata": {},
     "output_type": "display_data"
    },
    {
     "data": {
      "text/html": [
       "<style>\n",
       "    table.wandb td:nth-child(1) { padding: 0 10px; text-align: left ; width: auto;} td:nth-child(2) {text-align: left ; width: 100%}\n",
       "    .wandb-row { display: flex; flex-direction: row; flex-wrap: wrap; justify-content: flex-start; width: 100% }\n",
       "    .wandb-col { display: flex; flex-direction: column; flex-basis: 100%; flex: 1; padding: 10px; }\n",
       "    </style>\n",
       "<div class=\"wandb-row\"><div class=\"wandb-col\"><h3>Run history:</h3><br/><table class=\"wandb\"><tr><td>CV_RMSE</td><td>▁</td></tr><tr><td>CV_RMSE_'Kalmar</td><td>▁</td></tr><tr><td>CV_RMSE_Blekinge</td><td>▁</td></tr><tr><td>RMSE</td><td>▁</td></tr><tr><td>RMSE_Blekinge</td><td>▁</td></tr><tr><td>RMSE_Kalmar</td><td>▁</td></tr></table><br/></div><div class=\"wandb-col\"><h3>Run summary:</h3><br/><table class=\"wandb\"><tr><td>CV_RMSE</td><td>299.11124</td></tr><tr><td>CV_RMSE_'Kalmar</td><td>142.69366</td></tr><tr><td>CV_RMSE_Blekinge</td><td>156.41758</td></tr><tr><td>RMSE</td><td>21.76642</td></tr><tr><td>RMSE_Blekinge</td><td>7.02141</td></tr><tr><td>RMSE_Kalmar</td><td>14.74501</td></tr></table><br/></div></div>"
      ],
      "text/plain": [
       "<IPython.core.display.HTML object>"
      ]
     },
     "metadata": {},
     "output_type": "display_data"
    },
    {
     "data": {
      "text/html": [
       " View run <strong style=\"color:#cdcd00\">trim-sweep-38</strong> at: <a href='https://wandb.ai/danish2562022/sweeps-SEIR_kalmar_bleking/runs/fy8r4bsz' target=\"_blank\">https://wandb.ai/danish2562022/sweeps-SEIR_kalmar_bleking/runs/fy8r4bsz</a><br/> View project at: <a href='https://wandb.ai/danish2562022/sweeps-SEIR_kalmar_bleking' target=\"_blank\">https://wandb.ai/danish2562022/sweeps-SEIR_kalmar_bleking</a><br/>Synced 5 W&B file(s), 0 media file(s), 0 artifact file(s) and 0 other file(s)"
      ],
      "text/plain": [
       "<IPython.core.display.HTML object>"
      ]
     },
     "metadata": {},
     "output_type": "display_data"
    },
    {
     "data": {
      "text/html": [
       "Find logs at: <code>./wandb/run-20250528_185150-fy8r4bsz/logs</code>"
      ],
      "text/plain": [
       "<IPython.core.display.HTML object>"
      ]
     },
     "metadata": {},
     "output_type": "display_data"
    },
    {
     "data": {
      "text/html": [
       "The new W&B backend becomes opt-out in version 0.18.0; try it out with `wandb.require(\"core\")`! See https://wandb.me/wandb-core for more information."
      ],
      "text/plain": [
       "<IPython.core.display.HTML object>"
      ]
     },
     "metadata": {},
     "output_type": "display_data"
    },
    {
     "name": "stderr",
     "output_type": "stream",
     "text": [
      "\u001b[34m\u001b[1mwandb\u001b[0m: Agent Starting Run: jb1ealw7 with config:\n",
      "\u001b[34m\u001b[1mwandb\u001b[0m: \tah0: 2.3208873247691675\n",
      "\u001b[34m\u001b[1mwandb\u001b[0m: \tah1: 2.8890497081586064\n",
      "\u001b[34m\u001b[1mwandb\u001b[0m: \tbh0: 4.012943591383698\n",
      "\u001b[34m\u001b[1mwandb\u001b[0m: \tbh1: 9.007993219068874\n",
      "\u001b[34m\u001b[1mwandb\u001b[0m: \tc: 0.5428790540607954\n"
     ]
    },
    {
     "data": {
      "text/html": [
       "wandb version 0.19.11 is available!  To upgrade, please run:\n",
       " $ pip install wandb --upgrade"
      ],
      "text/plain": [
       "<IPython.core.display.HTML object>"
      ]
     },
     "metadata": {},
     "output_type": "display_data"
    },
    {
     "data": {
      "text/html": [
       "Tracking run with wandb version 0.17.4"
      ],
      "text/plain": [
       "<IPython.core.display.HTML object>"
      ]
     },
     "metadata": {},
     "output_type": "display_data"
    },
    {
     "data": {
      "text/html": [
       "Run data is saved locally in <code>/12tb_dsk3/SEIR_model/src/wandb/run-20250528_185200-jb1ealw7</code>"
      ],
      "text/plain": [
       "<IPython.core.display.HTML object>"
      ]
     },
     "metadata": {},
     "output_type": "display_data"
    },
    {
     "data": {
      "text/html": [
       "Syncing run <strong><a href='https://wandb.ai/danish2562022/sweeps-SEIR_kalmar_bleking/runs/jb1ealw7' target=\"_blank\">solar-sweep-39</a></strong> to <a href='https://wandb.ai/danish2562022/sweeps-SEIR_kalmar_bleking' target=\"_blank\">Weights & Biases</a> (<a href='https://wandb.me/run' target=\"_blank\">docs</a>)<br/>Sweep page: <a href='https://wandb.ai/danish2562022/sweeps-SEIR_kalmar_bleking/sweeps/za0efz19' target=\"_blank\">https://wandb.ai/danish2562022/sweeps-SEIR_kalmar_bleking/sweeps/za0efz19</a>"
      ],
      "text/plain": [
       "<IPython.core.display.HTML object>"
      ]
     },
     "metadata": {},
     "output_type": "display_data"
    },
    {
     "data": {
      "text/html": [
       " View project at <a href='https://wandb.ai/danish2562022/sweeps-SEIR_kalmar_bleking' target=\"_blank\">https://wandb.ai/danish2562022/sweeps-SEIR_kalmar_bleking</a>"
      ],
      "text/plain": [
       "<IPython.core.display.HTML object>"
      ]
     },
     "metadata": {},
     "output_type": "display_data"
    },
    {
     "data": {
      "text/html": [
       " View sweep at <a href='https://wandb.ai/danish2562022/sweeps-SEIR_kalmar_bleking/sweeps/za0efz19' target=\"_blank\">https://wandb.ai/danish2562022/sweeps-SEIR_kalmar_bleking/sweeps/za0efz19</a>"
      ],
      "text/plain": [
       "<IPython.core.display.HTML object>"
      ]
     },
     "metadata": {},
     "output_type": "display_data"
    },
    {
     "data": {
      "text/html": [
       " View run at <a href='https://wandb.ai/danish2562022/sweeps-SEIR_kalmar_bleking/runs/jb1ealw7' target=\"_blank\">https://wandb.ai/danish2562022/sweeps-SEIR_kalmar_bleking/runs/jb1ealw7</a>"
      ],
      "text/plain": [
       "<IPython.core.display.HTML object>"
      ]
     },
     "metadata": {},
     "output_type": "display_data"
    },
    {
     "data": {
      "application/vnd.jupyter.widget-view+json": {
       "model_id": "8e9e234430364fe3bf07a2db7f5aa601",
       "version_major": 2,
       "version_minor": 0
      },
      "text/plain": [
       "VBox(children=(Label(value='0.021 MB of 0.021 MB uploaded\\r'), FloatProgress(value=1.0, max=1.0)))"
      ]
     },
     "metadata": {},
     "output_type": "display_data"
    },
    {
     "data": {
      "text/html": [
       "<style>\n",
       "    table.wandb td:nth-child(1) { padding: 0 10px; text-align: left ; width: auto;} td:nth-child(2) {text-align: left ; width: 100%}\n",
       "    .wandb-row { display: flex; flex-direction: row; flex-wrap: wrap; justify-content: flex-start; width: 100% }\n",
       "    .wandb-col { display: flex; flex-direction: column; flex-basis: 100%; flex: 1; padding: 10px; }\n",
       "    </style>\n",
       "<div class=\"wandb-row\"><div class=\"wandb-col\"><h3>Run history:</h3><br/><table class=\"wandb\"><tr><td>CV_RMSE</td><td>▁</td></tr><tr><td>CV_RMSE_'Kalmar</td><td>▁</td></tr><tr><td>CV_RMSE_Blekinge</td><td>▁</td></tr><tr><td>RMSE</td><td>▁</td></tr><tr><td>RMSE_Blekinge</td><td>▁</td></tr><tr><td>RMSE_Kalmar</td><td>▁</td></tr></table><br/></div><div class=\"wandb-col\"><h3>Run summary:</h3><br/><table class=\"wandb\"><tr><td>CV_RMSE</td><td>2627.89764</td></tr><tr><td>CV_RMSE_'Kalmar</td><td>923.23588</td></tr><tr><td>CV_RMSE_Blekinge</td><td>1704.66176</td></tr><tr><td>RMSE</td><td>171.92141</td></tr><tr><td>RMSE_Blekinge</td><td>76.52037</td></tr><tr><td>RMSE_Kalmar</td><td>95.40104</td></tr></table><br/></div></div>"
      ],
      "text/plain": [
       "<IPython.core.display.HTML object>"
      ]
     },
     "metadata": {},
     "output_type": "display_data"
    },
    {
     "data": {
      "text/html": [
       " View run <strong style=\"color:#cdcd00\">solar-sweep-39</strong> at: <a href='https://wandb.ai/danish2562022/sweeps-SEIR_kalmar_bleking/runs/jb1ealw7' target=\"_blank\">https://wandb.ai/danish2562022/sweeps-SEIR_kalmar_bleking/runs/jb1ealw7</a><br/> View project at: <a href='https://wandb.ai/danish2562022/sweeps-SEIR_kalmar_bleking' target=\"_blank\">https://wandb.ai/danish2562022/sweeps-SEIR_kalmar_bleking</a><br/>Synced 5 W&B file(s), 0 media file(s), 0 artifact file(s) and 0 other file(s)"
      ],
      "text/plain": [
       "<IPython.core.display.HTML object>"
      ]
     },
     "metadata": {},
     "output_type": "display_data"
    },
    {
     "data": {
      "text/html": [
       "Find logs at: <code>./wandb/run-20250528_185200-jb1ealw7/logs</code>"
      ],
      "text/plain": [
       "<IPython.core.display.HTML object>"
      ]
     },
     "metadata": {},
     "output_type": "display_data"
    },
    {
     "data": {
      "text/html": [
       "The new W&B backend becomes opt-out in version 0.18.0; try it out with `wandb.require(\"core\")`! See https://wandb.me/wandb-core for more information."
      ],
      "text/plain": [
       "<IPython.core.display.HTML object>"
      ]
     },
     "metadata": {},
     "output_type": "display_data"
    },
    {
     "name": "stderr",
     "output_type": "stream",
     "text": [
      "\u001b[34m\u001b[1mwandb\u001b[0m: Sweep Agent: Waiting for job.\n",
      "\u001b[34m\u001b[1mwandb\u001b[0m: Job received.\n",
      "\u001b[34m\u001b[1mwandb\u001b[0m: Agent Starting Run: zqc0xlze with config:\n",
      "\u001b[34m\u001b[1mwandb\u001b[0m: \tah0: 1.7172573536195488\n",
      "\u001b[34m\u001b[1mwandb\u001b[0m: \tah1: 1.1238746807545217\n",
      "\u001b[34m\u001b[1mwandb\u001b[0m: \tbh0: 0.020124759938865425\n",
      "\u001b[34m\u001b[1mwandb\u001b[0m: \tbh1: 4.1380162598447\n",
      "\u001b[34m\u001b[1mwandb\u001b[0m: \tc: 0.45938832856233214\n"
     ]
    },
    {
     "data": {
      "text/html": [
       "wandb version 0.19.11 is available!  To upgrade, please run:\n",
       " $ pip install wandb --upgrade"
      ],
      "text/plain": [
       "<IPython.core.display.HTML object>"
      ]
     },
     "metadata": {},
     "output_type": "display_data"
    },
    {
     "data": {
      "text/html": [
       "Tracking run with wandb version 0.17.4"
      ],
      "text/plain": [
       "<IPython.core.display.HTML object>"
      ]
     },
     "metadata": {},
     "output_type": "display_data"
    },
    {
     "data": {
      "text/html": [
       "Run data is saved locally in <code>/12tb_dsk3/SEIR_model/src/wandb/run-20250528_185216-zqc0xlze</code>"
      ],
      "text/plain": [
       "<IPython.core.display.HTML object>"
      ]
     },
     "metadata": {},
     "output_type": "display_data"
    },
    {
     "data": {
      "text/html": [
       "Syncing run <strong><a href='https://wandb.ai/danish2562022/sweeps-SEIR_kalmar_bleking/runs/zqc0xlze' target=\"_blank\">unique-sweep-40</a></strong> to <a href='https://wandb.ai/danish2562022/sweeps-SEIR_kalmar_bleking' target=\"_blank\">Weights & Biases</a> (<a href='https://wandb.me/run' target=\"_blank\">docs</a>)<br/>Sweep page: <a href='https://wandb.ai/danish2562022/sweeps-SEIR_kalmar_bleking/sweeps/za0efz19' target=\"_blank\">https://wandb.ai/danish2562022/sweeps-SEIR_kalmar_bleking/sweeps/za0efz19</a>"
      ],
      "text/plain": [
       "<IPython.core.display.HTML object>"
      ]
     },
     "metadata": {},
     "output_type": "display_data"
    },
    {
     "data": {
      "text/html": [
       " View project at <a href='https://wandb.ai/danish2562022/sweeps-SEIR_kalmar_bleking' target=\"_blank\">https://wandb.ai/danish2562022/sweeps-SEIR_kalmar_bleking</a>"
      ],
      "text/plain": [
       "<IPython.core.display.HTML object>"
      ]
     },
     "metadata": {},
     "output_type": "display_data"
    },
    {
     "data": {
      "text/html": [
       " View sweep at <a href='https://wandb.ai/danish2562022/sweeps-SEIR_kalmar_bleking/sweeps/za0efz19' target=\"_blank\">https://wandb.ai/danish2562022/sweeps-SEIR_kalmar_bleking/sweeps/za0efz19</a>"
      ],
      "text/plain": [
       "<IPython.core.display.HTML object>"
      ]
     },
     "metadata": {},
     "output_type": "display_data"
    },
    {
     "data": {
      "text/html": [
       " View run at <a href='https://wandb.ai/danish2562022/sweeps-SEIR_kalmar_bleking/runs/zqc0xlze' target=\"_blank\">https://wandb.ai/danish2562022/sweeps-SEIR_kalmar_bleking/runs/zqc0xlze</a>"
      ],
      "text/plain": [
       "<IPython.core.display.HTML object>"
      ]
     },
     "metadata": {},
     "output_type": "display_data"
    },
    {
     "data": {
      "application/vnd.jupyter.widget-view+json": {
       "model_id": "79e9f846546c43c5895224150da8699f",
       "version_major": 2,
       "version_minor": 0
      },
      "text/plain": [
       "VBox(children=(Label(value='0.021 MB of 0.021 MB uploaded\\r'), FloatProgress(value=1.0, max=1.0)))"
      ]
     },
     "metadata": {},
     "output_type": "display_data"
    },
    {
     "data": {
      "text/html": [
       "<style>\n",
       "    table.wandb td:nth-child(1) { padding: 0 10px; text-align: left ; width: auto;} td:nth-child(2) {text-align: left ; width: 100%}\n",
       "    .wandb-row { display: flex; flex-direction: row; flex-wrap: wrap; justify-content: flex-start; width: 100% }\n",
       "    .wandb-col { display: flex; flex-direction: column; flex-basis: 100%; flex: 1; padding: 10px; }\n",
       "    </style>\n",
       "<div class=\"wandb-row\"><div class=\"wandb-col\"><h3>Run history:</h3><br/><table class=\"wandb\"><tr><td>CV_RMSE</td><td>▁</td></tr><tr><td>CV_RMSE_'Kalmar</td><td>▁</td></tr><tr><td>CV_RMSE_Blekinge</td><td>▁</td></tr><tr><td>RMSE</td><td>▁</td></tr><tr><td>RMSE_Blekinge</td><td>▁</td></tr><tr><td>RMSE_Kalmar</td><td>▁</td></tr></table><br/></div><div class=\"wandb-col\"><h3>Run summary:</h3><br/><table class=\"wandb\"><tr><td>CV_RMSE</td><td>2293.18574</td></tr><tr><td>CV_RMSE_'Kalmar</td><td>901.55505</td></tr><tr><td>CV_RMSE_Blekinge</td><td>1391.63069</td></tr><tr><td>RMSE</td><td>155.62944</td></tr><tr><td>RMSE_Blekinge</td><td>62.46876</td></tr><tr><td>RMSE_Kalmar</td><td>93.16069</td></tr></table><br/></div></div>"
      ],
      "text/plain": [
       "<IPython.core.display.HTML object>"
      ]
     },
     "metadata": {},
     "output_type": "display_data"
    },
    {
     "data": {
      "text/html": [
       " View run <strong style=\"color:#cdcd00\">unique-sweep-40</strong> at: <a href='https://wandb.ai/danish2562022/sweeps-SEIR_kalmar_bleking/runs/zqc0xlze' target=\"_blank\">https://wandb.ai/danish2562022/sweeps-SEIR_kalmar_bleking/runs/zqc0xlze</a><br/> View project at: <a href='https://wandb.ai/danish2562022/sweeps-SEIR_kalmar_bleking' target=\"_blank\">https://wandb.ai/danish2562022/sweeps-SEIR_kalmar_bleking</a><br/>Synced 5 W&B file(s), 0 media file(s), 0 artifact file(s) and 0 other file(s)"
      ],
      "text/plain": [
       "<IPython.core.display.HTML object>"
      ]
     },
     "metadata": {},
     "output_type": "display_data"
    },
    {
     "data": {
      "text/html": [
       "Find logs at: <code>./wandb/run-20250528_185216-zqc0xlze/logs</code>"
      ],
      "text/plain": [
       "<IPython.core.display.HTML object>"
      ]
     },
     "metadata": {},
     "output_type": "display_data"
    },
    {
     "data": {
      "text/html": [
       "The new W&B backend becomes opt-out in version 0.18.0; try it out with `wandb.require(\"core\")`! See https://wandb.me/wandb-core for more information."
      ],
      "text/plain": [
       "<IPython.core.display.HTML object>"
      ]
     },
     "metadata": {},
     "output_type": "display_data"
    },
    {
     "name": "stderr",
     "output_type": "stream",
     "text": [
      "\u001b[34m\u001b[1mwandb\u001b[0m: Agent Starting Run: 6x41ia4s with config:\n",
      "\u001b[34m\u001b[1mwandb\u001b[0m: \tah0: 2.439890069080509\n",
      "\u001b[34m\u001b[1mwandb\u001b[0m: \tah1: 0.7932540815145109\n",
      "\u001b[34m\u001b[1mwandb\u001b[0m: \tbh0: 5.780162403017401\n",
      "\u001b[34m\u001b[1mwandb\u001b[0m: \tbh1: 3.868768359690893\n",
      "\u001b[34m\u001b[1mwandb\u001b[0m: \tc: 0.42774194817663314\n"
     ]
    },
    {
     "data": {
      "text/html": [
       "wandb version 0.19.11 is available!  To upgrade, please run:\n",
       " $ pip install wandb --upgrade"
      ],
      "text/plain": [
       "<IPython.core.display.HTML object>"
      ]
     },
     "metadata": {},
     "output_type": "display_data"
    },
    {
     "data": {
      "text/html": [
       "Tracking run with wandb version 0.17.4"
      ],
      "text/plain": [
       "<IPython.core.display.HTML object>"
      ]
     },
     "metadata": {},
     "output_type": "display_data"
    },
    {
     "data": {
      "text/html": [
       "Run data is saved locally in <code>/12tb_dsk3/SEIR_model/src/wandb/run-20250528_185227-6x41ia4s</code>"
      ],
      "text/plain": [
       "<IPython.core.display.HTML object>"
      ]
     },
     "metadata": {},
     "output_type": "display_data"
    },
    {
     "data": {
      "text/html": [
       "Syncing run <strong><a href='https://wandb.ai/danish2562022/sweeps-SEIR_kalmar_bleking/runs/6x41ia4s' target=\"_blank\">unique-sweep-41</a></strong> to <a href='https://wandb.ai/danish2562022/sweeps-SEIR_kalmar_bleking' target=\"_blank\">Weights & Biases</a> (<a href='https://wandb.me/run' target=\"_blank\">docs</a>)<br/>Sweep page: <a href='https://wandb.ai/danish2562022/sweeps-SEIR_kalmar_bleking/sweeps/za0efz19' target=\"_blank\">https://wandb.ai/danish2562022/sweeps-SEIR_kalmar_bleking/sweeps/za0efz19</a>"
      ],
      "text/plain": [
       "<IPython.core.display.HTML object>"
      ]
     },
     "metadata": {},
     "output_type": "display_data"
    },
    {
     "data": {
      "text/html": [
       " View project at <a href='https://wandb.ai/danish2562022/sweeps-SEIR_kalmar_bleking' target=\"_blank\">https://wandb.ai/danish2562022/sweeps-SEIR_kalmar_bleking</a>"
      ],
      "text/plain": [
       "<IPython.core.display.HTML object>"
      ]
     },
     "metadata": {},
     "output_type": "display_data"
    },
    {
     "data": {
      "text/html": [
       " View sweep at <a href='https://wandb.ai/danish2562022/sweeps-SEIR_kalmar_bleking/sweeps/za0efz19' target=\"_blank\">https://wandb.ai/danish2562022/sweeps-SEIR_kalmar_bleking/sweeps/za0efz19</a>"
      ],
      "text/plain": [
       "<IPython.core.display.HTML object>"
      ]
     },
     "metadata": {},
     "output_type": "display_data"
    },
    {
     "data": {
      "text/html": [
       " View run at <a href='https://wandb.ai/danish2562022/sweeps-SEIR_kalmar_bleking/runs/6x41ia4s' target=\"_blank\">https://wandb.ai/danish2562022/sweeps-SEIR_kalmar_bleking/runs/6x41ia4s</a>"
      ],
      "text/plain": [
       "<IPython.core.display.HTML object>"
      ]
     },
     "metadata": {},
     "output_type": "display_data"
    },
    {
     "data": {
      "application/vnd.jupyter.widget-view+json": {
       "model_id": "267f06845a6d4fda919a9e7b60340949",
       "version_major": 2,
       "version_minor": 0
      },
      "text/plain": [
       "VBox(children=(Label(value='0.021 MB of 0.021 MB uploaded\\r'), FloatProgress(value=1.0, max=1.0)))"
      ]
     },
     "metadata": {},
     "output_type": "display_data"
    },
    {
     "data": {
      "text/html": [
       "<style>\n",
       "    table.wandb td:nth-child(1) { padding: 0 10px; text-align: left ; width: auto;} td:nth-child(2) {text-align: left ; width: 100%}\n",
       "    .wandb-row { display: flex; flex-direction: row; flex-wrap: wrap; justify-content: flex-start; width: 100% }\n",
       "    .wandb-col { display: flex; flex-direction: column; flex-basis: 100%; flex: 1; padding: 10px; }\n",
       "    </style>\n",
       "<div class=\"wandb-row\"><div class=\"wandb-col\"><h3>Run history:</h3><br/><table class=\"wandb\"><tr><td>CV_RMSE</td><td>▁</td></tr><tr><td>CV_RMSE_'Kalmar</td><td>▁</td></tr><tr><td>CV_RMSE_Blekinge</td><td>▁</td></tr><tr><td>RMSE</td><td>▁</td></tr><tr><td>RMSE_Blekinge</td><td>▁</td></tr><tr><td>RMSE_Kalmar</td><td>▁</td></tr></table><br/></div><div class=\"wandb-col\"><h3>Run summary:</h3><br/><table class=\"wandb\"><tr><td>CV_RMSE</td><td>3722.97835</td></tr><tr><td>CV_RMSE_'Kalmar</td><td>1826.07037</td></tr><tr><td>CV_RMSE_Blekinge</td><td>1896.90798</td></tr><tr><td>RMSE</td><td>273.84403</td></tr><tr><td>RMSE_Blekinge</td><td>85.15009</td></tr><tr><td>RMSE_Kalmar</td><td>188.69394</td></tr></table><br/></div></div>"
      ],
      "text/plain": [
       "<IPython.core.display.HTML object>"
      ]
     },
     "metadata": {},
     "output_type": "display_data"
    },
    {
     "data": {
      "text/html": [
       " View run <strong style=\"color:#cdcd00\">unique-sweep-41</strong> at: <a href='https://wandb.ai/danish2562022/sweeps-SEIR_kalmar_bleking/runs/6x41ia4s' target=\"_blank\">https://wandb.ai/danish2562022/sweeps-SEIR_kalmar_bleking/runs/6x41ia4s</a><br/> View project at: <a href='https://wandb.ai/danish2562022/sweeps-SEIR_kalmar_bleking' target=\"_blank\">https://wandb.ai/danish2562022/sweeps-SEIR_kalmar_bleking</a><br/>Synced 5 W&B file(s), 0 media file(s), 0 artifact file(s) and 0 other file(s)"
      ],
      "text/plain": [
       "<IPython.core.display.HTML object>"
      ]
     },
     "metadata": {},
     "output_type": "display_data"
    },
    {
     "data": {
      "text/html": [
       "Find logs at: <code>./wandb/run-20250528_185227-6x41ia4s/logs</code>"
      ],
      "text/plain": [
       "<IPython.core.display.HTML object>"
      ]
     },
     "metadata": {},
     "output_type": "display_data"
    },
    {
     "data": {
      "text/html": [
       "The new W&B backend becomes opt-out in version 0.18.0; try it out with `wandb.require(\"core\")`! See https://wandb.me/wandb-core for more information."
      ],
      "text/plain": [
       "<IPython.core.display.HTML object>"
      ]
     },
     "metadata": {},
     "output_type": "display_data"
    },
    {
     "name": "stderr",
     "output_type": "stream",
     "text": [
      "\u001b[34m\u001b[1mwandb\u001b[0m: Agent Starting Run: nhm6vd2g with config:\n",
      "\u001b[34m\u001b[1mwandb\u001b[0m: \tah0: 2.0194363666153947\n",
      "\u001b[34m\u001b[1mwandb\u001b[0m: \tah1: 0.712682176195578\n",
      "\u001b[34m\u001b[1mwandb\u001b[0m: \tbh0: 4.303230754311946\n",
      "\u001b[34m\u001b[1mwandb\u001b[0m: \tbh1: 1.3511086979071807\n",
      "\u001b[34m\u001b[1mwandb\u001b[0m: \tc: 0.35949930087120885\n"
     ]
    },
    {
     "data": {
      "text/html": [
       "wandb version 0.19.11 is available!  To upgrade, please run:\n",
       " $ pip install wandb --upgrade"
      ],
      "text/plain": [
       "<IPython.core.display.HTML object>"
      ]
     },
     "metadata": {},
     "output_type": "display_data"
    },
    {
     "data": {
      "text/html": [
       "Tracking run with wandb version 0.17.4"
      ],
      "text/plain": [
       "<IPython.core.display.HTML object>"
      ]
     },
     "metadata": {},
     "output_type": "display_data"
    },
    {
     "data": {
      "text/html": [
       "Run data is saved locally in <code>/12tb_dsk3/SEIR_model/src/wandb/run-20250528_185237-nhm6vd2g</code>"
      ],
      "text/plain": [
       "<IPython.core.display.HTML object>"
      ]
     },
     "metadata": {},
     "output_type": "display_data"
    },
    {
     "data": {
      "text/html": [
       "Syncing run <strong><a href='https://wandb.ai/danish2562022/sweeps-SEIR_kalmar_bleking/runs/nhm6vd2g' target=\"_blank\">misunderstood-sweep-42</a></strong> to <a href='https://wandb.ai/danish2562022/sweeps-SEIR_kalmar_bleking' target=\"_blank\">Weights & Biases</a> (<a href='https://wandb.me/run' target=\"_blank\">docs</a>)<br/>Sweep page: <a href='https://wandb.ai/danish2562022/sweeps-SEIR_kalmar_bleking/sweeps/za0efz19' target=\"_blank\">https://wandb.ai/danish2562022/sweeps-SEIR_kalmar_bleking/sweeps/za0efz19</a>"
      ],
      "text/plain": [
       "<IPython.core.display.HTML object>"
      ]
     },
     "metadata": {},
     "output_type": "display_data"
    },
    {
     "data": {
      "text/html": [
       " View project at <a href='https://wandb.ai/danish2562022/sweeps-SEIR_kalmar_bleking' target=\"_blank\">https://wandb.ai/danish2562022/sweeps-SEIR_kalmar_bleking</a>"
      ],
      "text/plain": [
       "<IPython.core.display.HTML object>"
      ]
     },
     "metadata": {},
     "output_type": "display_data"
    },
    {
     "data": {
      "text/html": [
       " View sweep at <a href='https://wandb.ai/danish2562022/sweeps-SEIR_kalmar_bleking/sweeps/za0efz19' target=\"_blank\">https://wandb.ai/danish2562022/sweeps-SEIR_kalmar_bleking/sweeps/za0efz19</a>"
      ],
      "text/plain": [
       "<IPython.core.display.HTML object>"
      ]
     },
     "metadata": {},
     "output_type": "display_data"
    },
    {
     "data": {
      "text/html": [
       " View run at <a href='https://wandb.ai/danish2562022/sweeps-SEIR_kalmar_bleking/runs/nhm6vd2g' target=\"_blank\">https://wandb.ai/danish2562022/sweeps-SEIR_kalmar_bleking/runs/nhm6vd2g</a>"
      ],
      "text/plain": [
       "<IPython.core.display.HTML object>"
      ]
     },
     "metadata": {},
     "output_type": "display_data"
    },
    {
     "data": {
      "application/vnd.jupyter.widget-view+json": {
       "model_id": "72ddb04f75934f50b40f1db19e39884e",
       "version_major": 2,
       "version_minor": 0
      },
      "text/plain": [
       "VBox(children=(Label(value='0.021 MB of 0.021 MB uploaded\\r'), FloatProgress(value=1.0, max=1.0)))"
      ]
     },
     "metadata": {},
     "output_type": "display_data"
    },
    {
     "data": {
      "text/html": [
       "<style>\n",
       "    table.wandb td:nth-child(1) { padding: 0 10px; text-align: left ; width: auto;} td:nth-child(2) {text-align: left ; width: 100%}\n",
       "    .wandb-row { display: flex; flex-direction: row; flex-wrap: wrap; justify-content: flex-start; width: 100% }\n",
       "    .wandb-col { display: flex; flex-direction: column; flex-basis: 100%; flex: 1; padding: 10px; }\n",
       "    </style>\n",
       "<div class=\"wandb-row\"><div class=\"wandb-col\"><h3>Run history:</h3><br/><table class=\"wandb\"><tr><td>CV_RMSE</td><td>▁</td></tr><tr><td>CV_RMSE_'Kalmar</td><td>▁</td></tr><tr><td>CV_RMSE_Blekinge</td><td>▁</td></tr><tr><td>RMSE</td><td>▁</td></tr><tr><td>RMSE_Blekinge</td><td>▁</td></tr><tr><td>RMSE_Kalmar</td><td>▁</td></tr></table><br/></div><div class=\"wandb-col\"><h3>Run summary:</h3><br/><table class=\"wandb\"><tr><td>CV_RMSE</td><td>1528.63759</td></tr><tr><td>CV_RMSE_'Kalmar</td><td>994.37142</td></tr><tr><td>CV_RMSE_Blekinge</td><td>534.26617</td></tr><tr><td>RMSE</td><td>126.73433</td></tr><tr><td>RMSE_Blekinge</td><td>23.98261</td></tr><tr><td>RMSE_Kalmar</td><td>102.75171</td></tr></table><br/></div></div>"
      ],
      "text/plain": [
       "<IPython.core.display.HTML object>"
      ]
     },
     "metadata": {},
     "output_type": "display_data"
    },
    {
     "data": {
      "text/html": [
       " View run <strong style=\"color:#cdcd00\">misunderstood-sweep-42</strong> at: <a href='https://wandb.ai/danish2562022/sweeps-SEIR_kalmar_bleking/runs/nhm6vd2g' target=\"_blank\">https://wandb.ai/danish2562022/sweeps-SEIR_kalmar_bleking/runs/nhm6vd2g</a><br/> View project at: <a href='https://wandb.ai/danish2562022/sweeps-SEIR_kalmar_bleking' target=\"_blank\">https://wandb.ai/danish2562022/sweeps-SEIR_kalmar_bleking</a><br/>Synced 5 W&B file(s), 0 media file(s), 0 artifact file(s) and 0 other file(s)"
      ],
      "text/plain": [
       "<IPython.core.display.HTML object>"
      ]
     },
     "metadata": {},
     "output_type": "display_data"
    },
    {
     "data": {
      "text/html": [
       "Find logs at: <code>./wandb/run-20250528_185237-nhm6vd2g/logs</code>"
      ],
      "text/plain": [
       "<IPython.core.display.HTML object>"
      ]
     },
     "metadata": {},
     "output_type": "display_data"
    },
    {
     "data": {
      "text/html": [
       "The new W&B backend becomes opt-out in version 0.18.0; try it out with `wandb.require(\"core\")`! See https://wandb.me/wandb-core for more information."
      ],
      "text/plain": [
       "<IPython.core.display.HTML object>"
      ]
     },
     "metadata": {},
     "output_type": "display_data"
    },
    {
     "name": "stderr",
     "output_type": "stream",
     "text": [
      "\u001b[34m\u001b[1mwandb\u001b[0m: Agent Starting Run: 1jkghpcq with config:\n",
      "\u001b[34m\u001b[1mwandb\u001b[0m: \tah0: 2.054828535683316\n",
      "\u001b[34m\u001b[1mwandb\u001b[0m: \tah1: 1.3742283750024709\n",
      "\u001b[34m\u001b[1mwandb\u001b[0m: \tbh0: 1.9363776129042152\n",
      "\u001b[34m\u001b[1mwandb\u001b[0m: \tbh1: 6.275884032778506\n",
      "\u001b[34m\u001b[1mwandb\u001b[0m: \tc: 0.5100639802942938\n"
     ]
    },
    {
     "data": {
      "text/html": [
       "wandb version 0.19.11 is available!  To upgrade, please run:\n",
       " $ pip install wandb --upgrade"
      ],
      "text/plain": [
       "<IPython.core.display.HTML object>"
      ]
     },
     "metadata": {},
     "output_type": "display_data"
    },
    {
     "data": {
      "text/html": [
       "Tracking run with wandb version 0.17.4"
      ],
      "text/plain": [
       "<IPython.core.display.HTML object>"
      ]
     },
     "metadata": {},
     "output_type": "display_data"
    },
    {
     "data": {
      "text/html": [
       "Run data is saved locally in <code>/12tb_dsk3/SEIR_model/src/wandb/run-20250528_185247-1jkghpcq</code>"
      ],
      "text/plain": [
       "<IPython.core.display.HTML object>"
      ]
     },
     "metadata": {},
     "output_type": "display_data"
    },
    {
     "data": {
      "text/html": [
       "Syncing run <strong><a href='https://wandb.ai/danish2562022/sweeps-SEIR_kalmar_bleking/runs/1jkghpcq' target=\"_blank\">elated-sweep-43</a></strong> to <a href='https://wandb.ai/danish2562022/sweeps-SEIR_kalmar_bleking' target=\"_blank\">Weights & Biases</a> (<a href='https://wandb.me/run' target=\"_blank\">docs</a>)<br/>Sweep page: <a href='https://wandb.ai/danish2562022/sweeps-SEIR_kalmar_bleking/sweeps/za0efz19' target=\"_blank\">https://wandb.ai/danish2562022/sweeps-SEIR_kalmar_bleking/sweeps/za0efz19</a>"
      ],
      "text/plain": [
       "<IPython.core.display.HTML object>"
      ]
     },
     "metadata": {},
     "output_type": "display_data"
    },
    {
     "data": {
      "text/html": [
       " View project at <a href='https://wandb.ai/danish2562022/sweeps-SEIR_kalmar_bleking' target=\"_blank\">https://wandb.ai/danish2562022/sweeps-SEIR_kalmar_bleking</a>"
      ],
      "text/plain": [
       "<IPython.core.display.HTML object>"
      ]
     },
     "metadata": {},
     "output_type": "display_data"
    },
    {
     "data": {
      "text/html": [
       " View sweep at <a href='https://wandb.ai/danish2562022/sweeps-SEIR_kalmar_bleking/sweeps/za0efz19' target=\"_blank\">https://wandb.ai/danish2562022/sweeps-SEIR_kalmar_bleking/sweeps/za0efz19</a>"
      ],
      "text/plain": [
       "<IPython.core.display.HTML object>"
      ]
     },
     "metadata": {},
     "output_type": "display_data"
    },
    {
     "data": {
      "text/html": [
       " View run at <a href='https://wandb.ai/danish2562022/sweeps-SEIR_kalmar_bleking/runs/1jkghpcq' target=\"_blank\">https://wandb.ai/danish2562022/sweeps-SEIR_kalmar_bleking/runs/1jkghpcq</a>"
      ],
      "text/plain": [
       "<IPython.core.display.HTML object>"
      ]
     },
     "metadata": {},
     "output_type": "display_data"
    },
    {
     "data": {
      "application/vnd.jupyter.widget-view+json": {
       "model_id": "8dd7e18be40e42cd82b0680b7feb1dd1",
       "version_major": 2,
       "version_minor": 0
      },
      "text/plain": [
       "VBox(children=(Label(value='0.021 MB of 0.021 MB uploaded\\r'), FloatProgress(value=1.0, max=1.0)))"
      ]
     },
     "metadata": {},
     "output_type": "display_data"
    },
    {
     "data": {
      "text/html": [
       "<style>\n",
       "    table.wandb td:nth-child(1) { padding: 0 10px; text-align: left ; width: auto;} td:nth-child(2) {text-align: left ; width: 100%}\n",
       "    .wandb-row { display: flex; flex-direction: row; flex-wrap: wrap; justify-content: flex-start; width: 100% }\n",
       "    .wandb-col { display: flex; flex-direction: column; flex-basis: 100%; flex: 1; padding: 10px; }\n",
       "    </style>\n",
       "<div class=\"wandb-row\"><div class=\"wandb-col\"><h3>Run history:</h3><br/><table class=\"wandb\"><tr><td>CV_RMSE</td><td>▁</td></tr><tr><td>CV_RMSE_'Kalmar</td><td>▁</td></tr><tr><td>CV_RMSE_Blekinge</td><td>▁</td></tr><tr><td>RMSE</td><td>▁</td></tr><tr><td>RMSE_Blekinge</td><td>▁</td></tr><tr><td>RMSE_Kalmar</td><td>▁</td></tr></table><br/></div><div class=\"wandb-col\"><h3>Run summary:</h3><br/><table class=\"wandb\"><tr><td>CV_RMSE</td><td>3975.5366</td></tr><tr><td>CV_RMSE_'Kalmar</td><td>1417.46204</td></tr><tr><td>CV_RMSE_Blekinge</td><td>2558.07456</td></tr><tr><td>RMSE</td><td>261.3002</td></tr><tr><td>RMSE_Blekinge</td><td>114.82912</td></tr><tr><td>RMSE_Kalmar</td><td>146.47108</td></tr></table><br/></div></div>"
      ],
      "text/plain": [
       "<IPython.core.display.HTML object>"
      ]
     },
     "metadata": {},
     "output_type": "display_data"
    },
    {
     "data": {
      "text/html": [
       " View run <strong style=\"color:#cdcd00\">elated-sweep-43</strong> at: <a href='https://wandb.ai/danish2562022/sweeps-SEIR_kalmar_bleking/runs/1jkghpcq' target=\"_blank\">https://wandb.ai/danish2562022/sweeps-SEIR_kalmar_bleking/runs/1jkghpcq</a><br/> View project at: <a href='https://wandb.ai/danish2562022/sweeps-SEIR_kalmar_bleking' target=\"_blank\">https://wandb.ai/danish2562022/sweeps-SEIR_kalmar_bleking</a><br/>Synced 5 W&B file(s), 0 media file(s), 0 artifact file(s) and 0 other file(s)"
      ],
      "text/plain": [
       "<IPython.core.display.HTML object>"
      ]
     },
     "metadata": {},
     "output_type": "display_data"
    },
    {
     "data": {
      "text/html": [
       "Find logs at: <code>./wandb/run-20250528_185247-1jkghpcq/logs</code>"
      ],
      "text/plain": [
       "<IPython.core.display.HTML object>"
      ]
     },
     "metadata": {},
     "output_type": "display_data"
    },
    {
     "data": {
      "text/html": [
       "The new W&B backend becomes opt-out in version 0.18.0; try it out with `wandb.require(\"core\")`! See https://wandb.me/wandb-core for more information."
      ],
      "text/plain": [
       "<IPython.core.display.HTML object>"
      ]
     },
     "metadata": {},
     "output_type": "display_data"
    },
    {
     "name": "stderr",
     "output_type": "stream",
     "text": [
      "\u001b[34m\u001b[1mwandb\u001b[0m: Sweep Agent: Waiting for job.\n",
      "\u001b[34m\u001b[1mwandb\u001b[0m: Job received.\n",
      "\u001b[34m\u001b[1mwandb\u001b[0m: Agent Starting Run: 9mwbozpq with config:\n",
      "\u001b[34m\u001b[1mwandb\u001b[0m: \tah0: 0.5030731905314094\n",
      "\u001b[34m\u001b[1mwandb\u001b[0m: \tah1: 2.943287269559869\n",
      "\u001b[34m\u001b[1mwandb\u001b[0m: \tbh0: 5.984118500708978\n",
      "\u001b[34m\u001b[1mwandb\u001b[0m: \tbh1: 3.6384126499160487\n",
      "\u001b[34m\u001b[1mwandb\u001b[0m: \tc: 0.5753813921226417\n"
     ]
    },
    {
     "data": {
      "text/html": [
       "wandb version 0.19.11 is available!  To upgrade, please run:\n",
       " $ pip install wandb --upgrade"
      ],
      "text/plain": [
       "<IPython.core.display.HTML object>"
      ]
     },
     "metadata": {},
     "output_type": "display_data"
    },
    {
     "data": {
      "text/html": [
       "Tracking run with wandb version 0.17.4"
      ],
      "text/plain": [
       "<IPython.core.display.HTML object>"
      ]
     },
     "metadata": {},
     "output_type": "display_data"
    },
    {
     "data": {
      "text/html": [
       "Run data is saved locally in <code>/12tb_dsk3/SEIR_model/src/wandb/run-20250528_185304-9mwbozpq</code>"
      ],
      "text/plain": [
       "<IPython.core.display.HTML object>"
      ]
     },
     "metadata": {},
     "output_type": "display_data"
    },
    {
     "data": {
      "text/html": [
       "Syncing run <strong><a href='https://wandb.ai/danish2562022/sweeps-SEIR_kalmar_bleking/runs/9mwbozpq' target=\"_blank\">noble-sweep-44</a></strong> to <a href='https://wandb.ai/danish2562022/sweeps-SEIR_kalmar_bleking' target=\"_blank\">Weights & Biases</a> (<a href='https://wandb.me/run' target=\"_blank\">docs</a>)<br/>Sweep page: <a href='https://wandb.ai/danish2562022/sweeps-SEIR_kalmar_bleking/sweeps/za0efz19' target=\"_blank\">https://wandb.ai/danish2562022/sweeps-SEIR_kalmar_bleking/sweeps/za0efz19</a>"
      ],
      "text/plain": [
       "<IPython.core.display.HTML object>"
      ]
     },
     "metadata": {},
     "output_type": "display_data"
    },
    {
     "data": {
      "text/html": [
       " View project at <a href='https://wandb.ai/danish2562022/sweeps-SEIR_kalmar_bleking' target=\"_blank\">https://wandb.ai/danish2562022/sweeps-SEIR_kalmar_bleking</a>"
      ],
      "text/plain": [
       "<IPython.core.display.HTML object>"
      ]
     },
     "metadata": {},
     "output_type": "display_data"
    },
    {
     "data": {
      "text/html": [
       " View sweep at <a href='https://wandb.ai/danish2562022/sweeps-SEIR_kalmar_bleking/sweeps/za0efz19' target=\"_blank\">https://wandb.ai/danish2562022/sweeps-SEIR_kalmar_bleking/sweeps/za0efz19</a>"
      ],
      "text/plain": [
       "<IPython.core.display.HTML object>"
      ]
     },
     "metadata": {},
     "output_type": "display_data"
    },
    {
     "data": {
      "text/html": [
       " View run at <a href='https://wandb.ai/danish2562022/sweeps-SEIR_kalmar_bleking/runs/9mwbozpq' target=\"_blank\">https://wandb.ai/danish2562022/sweeps-SEIR_kalmar_bleking/runs/9mwbozpq</a>"
      ],
      "text/plain": [
       "<IPython.core.display.HTML object>"
      ]
     },
     "metadata": {},
     "output_type": "display_data"
    },
    {
     "data": {
      "application/vnd.jupyter.widget-view+json": {
       "model_id": "d3d2ef630fe64b4a8b68a09fcfd7b59a",
       "version_major": 2,
       "version_minor": 0
      },
      "text/plain": [
       "VBox(children=(Label(value='0.021 MB of 0.021 MB uploaded\\r'), FloatProgress(value=1.0, max=1.0)))"
      ]
     },
     "metadata": {},
     "output_type": "display_data"
    },
    {
     "data": {
      "text/html": [
       "<style>\n",
       "    table.wandb td:nth-child(1) { padding: 0 10px; text-align: left ; width: auto;} td:nth-child(2) {text-align: left ; width: 100%}\n",
       "    .wandb-row { display: flex; flex-direction: row; flex-wrap: wrap; justify-content: flex-start; width: 100% }\n",
       "    .wandb-col { display: flex; flex-direction: column; flex-basis: 100%; flex: 1; padding: 10px; }\n",
       "    </style>\n",
       "<div class=\"wandb-row\"><div class=\"wandb-col\"><h3>Run history:</h3><br/><table class=\"wandb\"><tr><td>CV_RMSE</td><td>▁</td></tr><tr><td>CV_RMSE_'Kalmar</td><td>▁</td></tr><tr><td>CV_RMSE_Blekinge</td><td>▁</td></tr><tr><td>RMSE</td><td>▁</td></tr><tr><td>RMSE_Blekinge</td><td>▁</td></tr><tr><td>RMSE_Kalmar</td><td>▁</td></tr></table><br/></div><div class=\"wandb-col\"><h3>Run summary:</h3><br/><table class=\"wandb\"><tr><td>CV_RMSE</td><td>2437.19447</td></tr><tr><td>CV_RMSE_'Kalmar</td><td>599.78234</td></tr><tr><td>CV_RMSE_Blekinge</td><td>1837.41213</td></tr><tr><td>RMSE</td><td>144.4569</td></tr><tr><td>RMSE_Blekinge</td><td>82.47939</td></tr><tr><td>RMSE_Kalmar</td><td>61.97751</td></tr></table><br/></div></div>"
      ],
      "text/plain": [
       "<IPython.core.display.HTML object>"
      ]
     },
     "metadata": {},
     "output_type": "display_data"
    },
    {
     "data": {
      "text/html": [
       " View run <strong style=\"color:#cdcd00\">noble-sweep-44</strong> at: <a href='https://wandb.ai/danish2562022/sweeps-SEIR_kalmar_bleking/runs/9mwbozpq' target=\"_blank\">https://wandb.ai/danish2562022/sweeps-SEIR_kalmar_bleking/runs/9mwbozpq</a><br/> View project at: <a href='https://wandb.ai/danish2562022/sweeps-SEIR_kalmar_bleking' target=\"_blank\">https://wandb.ai/danish2562022/sweeps-SEIR_kalmar_bleking</a><br/>Synced 5 W&B file(s), 0 media file(s), 0 artifact file(s) and 0 other file(s)"
      ],
      "text/plain": [
       "<IPython.core.display.HTML object>"
      ]
     },
     "metadata": {},
     "output_type": "display_data"
    },
    {
     "data": {
      "text/html": [
       "Find logs at: <code>./wandb/run-20250528_185304-9mwbozpq/logs</code>"
      ],
      "text/plain": [
       "<IPython.core.display.HTML object>"
      ]
     },
     "metadata": {},
     "output_type": "display_data"
    },
    {
     "data": {
      "text/html": [
       "The new W&B backend becomes opt-out in version 0.18.0; try it out with `wandb.require(\"core\")`! See https://wandb.me/wandb-core for more information."
      ],
      "text/plain": [
       "<IPython.core.display.HTML object>"
      ]
     },
     "metadata": {},
     "output_type": "display_data"
    },
    {
     "name": "stderr",
     "output_type": "stream",
     "text": [
      "\u001b[34m\u001b[1mwandb\u001b[0m: Agent Starting Run: 478u244o with config:\n",
      "\u001b[34m\u001b[1mwandb\u001b[0m: \tah0: 0.7828864545642263\n",
      "\u001b[34m\u001b[1mwandb\u001b[0m: \tah1: 2.456507556221347\n",
      "\u001b[34m\u001b[1mwandb\u001b[0m: \tbh0: 1.8050631946368425\n",
      "\u001b[34m\u001b[1mwandb\u001b[0m: \tbh1: 0.27514910154299077\n",
      "\u001b[34m\u001b[1mwandb\u001b[0m: \tc: 0.33748587657556395\n"
     ]
    },
    {
     "data": {
      "text/html": [
       "wandb version 0.19.11 is available!  To upgrade, please run:\n",
       " $ pip install wandb --upgrade"
      ],
      "text/plain": [
       "<IPython.core.display.HTML object>"
      ]
     },
     "metadata": {},
     "output_type": "display_data"
    },
    {
     "data": {
      "text/html": [
       "Tracking run with wandb version 0.17.4"
      ],
      "text/plain": [
       "<IPython.core.display.HTML object>"
      ]
     },
     "metadata": {},
     "output_type": "display_data"
    },
    {
     "data": {
      "text/html": [
       "Run data is saved locally in <code>/12tb_dsk3/SEIR_model/src/wandb/run-20250528_185314-478u244o</code>"
      ],
      "text/plain": [
       "<IPython.core.display.HTML object>"
      ]
     },
     "metadata": {},
     "output_type": "display_data"
    },
    {
     "data": {
      "text/html": [
       "Syncing run <strong><a href='https://wandb.ai/danish2562022/sweeps-SEIR_kalmar_bleking/runs/478u244o' target=\"_blank\">rich-sweep-45</a></strong> to <a href='https://wandb.ai/danish2562022/sweeps-SEIR_kalmar_bleking' target=\"_blank\">Weights & Biases</a> (<a href='https://wandb.me/run' target=\"_blank\">docs</a>)<br/>Sweep page: <a href='https://wandb.ai/danish2562022/sweeps-SEIR_kalmar_bleking/sweeps/za0efz19' target=\"_blank\">https://wandb.ai/danish2562022/sweeps-SEIR_kalmar_bleking/sweeps/za0efz19</a>"
      ],
      "text/plain": [
       "<IPython.core.display.HTML object>"
      ]
     },
     "metadata": {},
     "output_type": "display_data"
    },
    {
     "data": {
      "text/html": [
       " View project at <a href='https://wandb.ai/danish2562022/sweeps-SEIR_kalmar_bleking' target=\"_blank\">https://wandb.ai/danish2562022/sweeps-SEIR_kalmar_bleking</a>"
      ],
      "text/plain": [
       "<IPython.core.display.HTML object>"
      ]
     },
     "metadata": {},
     "output_type": "display_data"
    },
    {
     "data": {
      "text/html": [
       " View sweep at <a href='https://wandb.ai/danish2562022/sweeps-SEIR_kalmar_bleking/sweeps/za0efz19' target=\"_blank\">https://wandb.ai/danish2562022/sweeps-SEIR_kalmar_bleking/sweeps/za0efz19</a>"
      ],
      "text/plain": [
       "<IPython.core.display.HTML object>"
      ]
     },
     "metadata": {},
     "output_type": "display_data"
    },
    {
     "data": {
      "text/html": [
       " View run at <a href='https://wandb.ai/danish2562022/sweeps-SEIR_kalmar_bleking/runs/478u244o' target=\"_blank\">https://wandb.ai/danish2562022/sweeps-SEIR_kalmar_bleking/runs/478u244o</a>"
      ],
      "text/plain": [
       "<IPython.core.display.HTML object>"
      ]
     },
     "metadata": {},
     "output_type": "display_data"
    },
    {
     "data": {
      "application/vnd.jupyter.widget-view+json": {
       "model_id": "fcd7742d8ecc4e92aac5d48b97d6f2c2",
       "version_major": 2,
       "version_minor": 0
      },
      "text/plain": [
       "VBox(children=(Label(value='0.021 MB of 0.021 MB uploaded\\r'), FloatProgress(value=1.0, max=1.0)))"
      ]
     },
     "metadata": {},
     "output_type": "display_data"
    },
    {
     "data": {
      "text/html": [
       "<style>\n",
       "    table.wandb td:nth-child(1) { padding: 0 10px; text-align: left ; width: auto;} td:nth-child(2) {text-align: left ; width: 100%}\n",
       "    .wandb-row { display: flex; flex-direction: row; flex-wrap: wrap; justify-content: flex-start; width: 100% }\n",
       "    .wandb-col { display: flex; flex-direction: column; flex-basis: 100%; flex: 1; padding: 10px; }\n",
       "    </style>\n",
       "<div class=\"wandb-row\"><div class=\"wandb-col\"><h3>Run history:</h3><br/><table class=\"wandb\"><tr><td>CV_RMSE</td><td>▁</td></tr><tr><td>CV_RMSE_'Kalmar</td><td>▁</td></tr><tr><td>CV_RMSE_Blekinge</td><td>▁</td></tr><tr><td>RMSE</td><td>▁</td></tr><tr><td>RMSE_Blekinge</td><td>▁</td></tr><tr><td>RMSE_Kalmar</td><td>▁</td></tr></table><br/></div><div class=\"wandb-col\"><h3>Run summary:</h3><br/><table class=\"wandb\"><tr><td>CV_RMSE</td><td>2305.23674</td></tr><tr><td>CV_RMSE_'Kalmar</td><td>551.97113</td></tr><tr><td>CV_RMSE_Blekinge</td><td>1753.26561</td></tr><tr><td>RMSE</td><td>135.73916</td></tr><tr><td>RMSE_Blekinge</td><td>78.70215</td></tr><tr><td>RMSE_Kalmar</td><td>57.03702</td></tr></table><br/></div></div>"
      ],
      "text/plain": [
       "<IPython.core.display.HTML object>"
      ]
     },
     "metadata": {},
     "output_type": "display_data"
    },
    {
     "data": {
      "text/html": [
       " View run <strong style=\"color:#cdcd00\">rich-sweep-45</strong> at: <a href='https://wandb.ai/danish2562022/sweeps-SEIR_kalmar_bleking/runs/478u244o' target=\"_blank\">https://wandb.ai/danish2562022/sweeps-SEIR_kalmar_bleking/runs/478u244o</a><br/> View project at: <a href='https://wandb.ai/danish2562022/sweeps-SEIR_kalmar_bleking' target=\"_blank\">https://wandb.ai/danish2562022/sweeps-SEIR_kalmar_bleking</a><br/>Synced 5 W&B file(s), 0 media file(s), 0 artifact file(s) and 0 other file(s)"
      ],
      "text/plain": [
       "<IPython.core.display.HTML object>"
      ]
     },
     "metadata": {},
     "output_type": "display_data"
    },
    {
     "data": {
      "text/html": [
       "Find logs at: <code>./wandb/run-20250528_185314-478u244o/logs</code>"
      ],
      "text/plain": [
       "<IPython.core.display.HTML object>"
      ]
     },
     "metadata": {},
     "output_type": "display_data"
    },
    {
     "data": {
      "text/html": [
       "The new W&B backend becomes opt-out in version 0.18.0; try it out with `wandb.require(\"core\")`! See https://wandb.me/wandb-core for more information."
      ],
      "text/plain": [
       "<IPython.core.display.HTML object>"
      ]
     },
     "metadata": {},
     "output_type": "display_data"
    },
    {
     "name": "stderr",
     "output_type": "stream",
     "text": [
      "\u001b[34m\u001b[1mwandb\u001b[0m: Agent Starting Run: 9cdj6wqd with config:\n",
      "\u001b[34m\u001b[1mwandb\u001b[0m: \tah0: 1.2108787956321398\n",
      "\u001b[34m\u001b[1mwandb\u001b[0m: \tah1: 0.05043030853651298\n",
      "\u001b[34m\u001b[1mwandb\u001b[0m: \tbh0: 3.504860062519166\n",
      "\u001b[34m\u001b[1mwandb\u001b[0m: \tbh1: 7.440387586675337\n",
      "\u001b[34m\u001b[1mwandb\u001b[0m: \tc: 0.16454575564543306\n"
     ]
    },
    {
     "data": {
      "text/html": [
       "wandb version 0.19.11 is available!  To upgrade, please run:\n",
       " $ pip install wandb --upgrade"
      ],
      "text/plain": [
       "<IPython.core.display.HTML object>"
      ]
     },
     "metadata": {},
     "output_type": "display_data"
    },
    {
     "data": {
      "text/html": [
       "Tracking run with wandb version 0.17.4"
      ],
      "text/plain": [
       "<IPython.core.display.HTML object>"
      ]
     },
     "metadata": {},
     "output_type": "display_data"
    },
    {
     "data": {
      "text/html": [
       "Run data is saved locally in <code>/12tb_dsk3/SEIR_model/src/wandb/run-20250528_185324-9cdj6wqd</code>"
      ],
      "text/plain": [
       "<IPython.core.display.HTML object>"
      ]
     },
     "metadata": {},
     "output_type": "display_data"
    },
    {
     "data": {
      "text/html": [
       "Syncing run <strong><a href='https://wandb.ai/danish2562022/sweeps-SEIR_kalmar_bleking/runs/9cdj6wqd' target=\"_blank\">stilted-sweep-46</a></strong> to <a href='https://wandb.ai/danish2562022/sweeps-SEIR_kalmar_bleking' target=\"_blank\">Weights & Biases</a> (<a href='https://wandb.me/run' target=\"_blank\">docs</a>)<br/>Sweep page: <a href='https://wandb.ai/danish2562022/sweeps-SEIR_kalmar_bleking/sweeps/za0efz19' target=\"_blank\">https://wandb.ai/danish2562022/sweeps-SEIR_kalmar_bleking/sweeps/za0efz19</a>"
      ],
      "text/plain": [
       "<IPython.core.display.HTML object>"
      ]
     },
     "metadata": {},
     "output_type": "display_data"
    },
    {
     "data": {
      "text/html": [
       " View project at <a href='https://wandb.ai/danish2562022/sweeps-SEIR_kalmar_bleking' target=\"_blank\">https://wandb.ai/danish2562022/sweeps-SEIR_kalmar_bleking</a>"
      ],
      "text/plain": [
       "<IPython.core.display.HTML object>"
      ]
     },
     "metadata": {},
     "output_type": "display_data"
    },
    {
     "data": {
      "text/html": [
       " View sweep at <a href='https://wandb.ai/danish2562022/sweeps-SEIR_kalmar_bleking/sweeps/za0efz19' target=\"_blank\">https://wandb.ai/danish2562022/sweeps-SEIR_kalmar_bleking/sweeps/za0efz19</a>"
      ],
      "text/plain": [
       "<IPython.core.display.HTML object>"
      ]
     },
     "metadata": {},
     "output_type": "display_data"
    },
    {
     "data": {
      "text/html": [
       " View run at <a href='https://wandb.ai/danish2562022/sweeps-SEIR_kalmar_bleking/runs/9cdj6wqd' target=\"_blank\">https://wandb.ai/danish2562022/sweeps-SEIR_kalmar_bleking/runs/9cdj6wqd</a>"
      ],
      "text/plain": [
       "<IPython.core.display.HTML object>"
      ]
     },
     "metadata": {},
     "output_type": "display_data"
    },
    {
     "data": {
      "application/vnd.jupyter.widget-view+json": {
       "model_id": "d28fbb6e3fc6480aa4a066b3302817c5",
       "version_major": 2,
       "version_minor": 0
      },
      "text/plain": [
       "VBox(children=(Label(value='0.021 MB of 0.021 MB uploaded\\r'), FloatProgress(value=1.0, max=1.0)))"
      ]
     },
     "metadata": {},
     "output_type": "display_data"
    },
    {
     "data": {
      "text/html": [
       "<style>\n",
       "    table.wandb td:nth-child(1) { padding: 0 10px; text-align: left ; width: auto;} td:nth-child(2) {text-align: left ; width: 100%}\n",
       "    .wandb-row { display: flex; flex-direction: row; flex-wrap: wrap; justify-content: flex-start; width: 100% }\n",
       "    .wandb-col { display: flex; flex-direction: column; flex-basis: 100%; flex: 1; padding: 10px; }\n",
       "    </style>\n",
       "<div class=\"wandb-row\"><div class=\"wandb-col\"><h3>Run history:</h3><br/><table class=\"wandb\"><tr><td>CV_RMSE</td><td>▁</td></tr><tr><td>CV_RMSE_'Kalmar</td><td>▁</td></tr><tr><td>CV_RMSE_Blekinge</td><td>▁</td></tr><tr><td>RMSE</td><td>▁</td></tr><tr><td>RMSE_Blekinge</td><td>▁</td></tr><tr><td>RMSE_Kalmar</td><td>▁</td></tr></table><br/></div><div class=\"wandb-col\"><h3>Run summary:</h3><br/><table class=\"wandb\"><tr><td>CV_RMSE</td><td>306.92035</td></tr><tr><td>CV_RMSE_'Kalmar</td><td>144.98583</td></tr><tr><td>CV_RMSE_Blekinge</td><td>161.93452</td></tr><tr><td>RMSE</td><td>22.25093</td></tr><tr><td>RMSE_Blekinge</td><td>7.26906</td></tr><tr><td>RMSE_Kalmar</td><td>14.98187</td></tr></table><br/></div></div>"
      ],
      "text/plain": [
       "<IPython.core.display.HTML object>"
      ]
     },
     "metadata": {},
     "output_type": "display_data"
    },
    {
     "data": {
      "text/html": [
       " View run <strong style=\"color:#cdcd00\">stilted-sweep-46</strong> at: <a href='https://wandb.ai/danish2562022/sweeps-SEIR_kalmar_bleking/runs/9cdj6wqd' target=\"_blank\">https://wandb.ai/danish2562022/sweeps-SEIR_kalmar_bleking/runs/9cdj6wqd</a><br/> View project at: <a href='https://wandb.ai/danish2562022/sweeps-SEIR_kalmar_bleking' target=\"_blank\">https://wandb.ai/danish2562022/sweeps-SEIR_kalmar_bleking</a><br/>Synced 5 W&B file(s), 0 media file(s), 0 artifact file(s) and 0 other file(s)"
      ],
      "text/plain": [
       "<IPython.core.display.HTML object>"
      ]
     },
     "metadata": {},
     "output_type": "display_data"
    },
    {
     "data": {
      "text/html": [
       "Find logs at: <code>./wandb/run-20250528_185324-9cdj6wqd/logs</code>"
      ],
      "text/plain": [
       "<IPython.core.display.HTML object>"
      ]
     },
     "metadata": {},
     "output_type": "display_data"
    },
    {
     "data": {
      "text/html": [
       "The new W&B backend becomes opt-out in version 0.18.0; try it out with `wandb.require(\"core\")`! See https://wandb.me/wandb-core for more information."
      ],
      "text/plain": [
       "<IPython.core.display.HTML object>"
      ]
     },
     "metadata": {},
     "output_type": "display_data"
    },
    {
     "name": "stderr",
     "output_type": "stream",
     "text": [
      "\u001b[34m\u001b[1mwandb\u001b[0m: Agent Starting Run: pslztxc9 with config:\n",
      "\u001b[34m\u001b[1mwandb\u001b[0m: \tah0: 2.243808071126742\n",
      "\u001b[34m\u001b[1mwandb\u001b[0m: \tah1: 2.1294090937510415\n",
      "\u001b[34m\u001b[1mwandb\u001b[0m: \tbh0: 4.645746347830833\n",
      "\u001b[34m\u001b[1mwandb\u001b[0m: \tbh1: 9.729075201033073\n",
      "\u001b[34m\u001b[1mwandb\u001b[0m: \tc: 0.13003642831564988\n"
     ]
    },
    {
     "data": {
      "text/html": [
       "wandb version 0.19.11 is available!  To upgrade, please run:\n",
       " $ pip install wandb --upgrade"
      ],
      "text/plain": [
       "<IPython.core.display.HTML object>"
      ]
     },
     "metadata": {},
     "output_type": "display_data"
    },
    {
     "data": {
      "text/html": [
       "Tracking run with wandb version 0.17.4"
      ],
      "text/plain": [
       "<IPython.core.display.HTML object>"
      ]
     },
     "metadata": {},
     "output_type": "display_data"
    },
    {
     "data": {
      "text/html": [
       "Run data is saved locally in <code>/12tb_dsk3/SEIR_model/src/wandb/run-20250528_185334-pslztxc9</code>"
      ],
      "text/plain": [
       "<IPython.core.display.HTML object>"
      ]
     },
     "metadata": {},
     "output_type": "display_data"
    },
    {
     "data": {
      "text/html": [
       "Syncing run <strong><a href='https://wandb.ai/danish2562022/sweeps-SEIR_kalmar_bleking/runs/pslztxc9' target=\"_blank\">avid-sweep-47</a></strong> to <a href='https://wandb.ai/danish2562022/sweeps-SEIR_kalmar_bleking' target=\"_blank\">Weights & Biases</a> (<a href='https://wandb.me/run' target=\"_blank\">docs</a>)<br/>Sweep page: <a href='https://wandb.ai/danish2562022/sweeps-SEIR_kalmar_bleking/sweeps/za0efz19' target=\"_blank\">https://wandb.ai/danish2562022/sweeps-SEIR_kalmar_bleking/sweeps/za0efz19</a>"
      ],
      "text/plain": [
       "<IPython.core.display.HTML object>"
      ]
     },
     "metadata": {},
     "output_type": "display_data"
    },
    {
     "data": {
      "text/html": [
       " View project at <a href='https://wandb.ai/danish2562022/sweeps-SEIR_kalmar_bleking' target=\"_blank\">https://wandb.ai/danish2562022/sweeps-SEIR_kalmar_bleking</a>"
      ],
      "text/plain": [
       "<IPython.core.display.HTML object>"
      ]
     },
     "metadata": {},
     "output_type": "display_data"
    },
    {
     "data": {
      "text/html": [
       " View sweep at <a href='https://wandb.ai/danish2562022/sweeps-SEIR_kalmar_bleking/sweeps/za0efz19' target=\"_blank\">https://wandb.ai/danish2562022/sweeps-SEIR_kalmar_bleking/sweeps/za0efz19</a>"
      ],
      "text/plain": [
       "<IPython.core.display.HTML object>"
      ]
     },
     "metadata": {},
     "output_type": "display_data"
    },
    {
     "data": {
      "text/html": [
       " View run at <a href='https://wandb.ai/danish2562022/sweeps-SEIR_kalmar_bleking/runs/pslztxc9' target=\"_blank\">https://wandb.ai/danish2562022/sweeps-SEIR_kalmar_bleking/runs/pslztxc9</a>"
      ],
      "text/plain": [
       "<IPython.core.display.HTML object>"
      ]
     },
     "metadata": {},
     "output_type": "display_data"
    },
    {
     "data": {
      "application/vnd.jupyter.widget-view+json": {
       "model_id": "7f01402be2514f5f937e21a1dd2770ac",
       "version_major": 2,
       "version_minor": 0
      },
      "text/plain": [
       "VBox(children=(Label(value='0.021 MB of 0.021 MB uploaded\\r'), FloatProgress(value=1.0, max=1.0)))"
      ]
     },
     "metadata": {},
     "output_type": "display_data"
    },
    {
     "data": {
      "text/html": [
       "<style>\n",
       "    table.wandb td:nth-child(1) { padding: 0 10px; text-align: left ; width: auto;} td:nth-child(2) {text-align: left ; width: 100%}\n",
       "    .wandb-row { display: flex; flex-direction: row; flex-wrap: wrap; justify-content: flex-start; width: 100% }\n",
       "    .wandb-col { display: flex; flex-direction: column; flex-basis: 100%; flex: 1; padding: 10px; }\n",
       "    </style>\n",
       "<div class=\"wandb-row\"><div class=\"wandb-col\"><h3>Run history:</h3><br/><table class=\"wandb\"><tr><td>CV_RMSE</td><td>▁</td></tr><tr><td>CV_RMSE_'Kalmar</td><td>▁</td></tr><tr><td>CV_RMSE_Blekinge</td><td>▁</td></tr><tr><td>RMSE</td><td>▁</td></tr><tr><td>RMSE_Blekinge</td><td>▁</td></tr><tr><td>RMSE_Kalmar</td><td>▁</td></tr></table><br/></div><div class=\"wandb-col\"><h3>Run summary:</h3><br/><table class=\"wandb\"><tr><td>CV_RMSE</td><td>4871.30824</td></tr><tr><td>CV_RMSE_'Kalmar</td><td>1572.67026</td></tr><tr><td>CV_RMSE_Blekinge</td><td>3298.63798</td></tr><tr><td>RMSE</td><td>310.58145</td></tr><tr><td>RMSE_Blekinge</td><td>148.07219</td></tr><tr><td>RMSE_Kalmar</td><td>162.50926</td></tr></table><br/></div></div>"
      ],
      "text/plain": [
       "<IPython.core.display.HTML object>"
      ]
     },
     "metadata": {},
     "output_type": "display_data"
    },
    {
     "data": {
      "text/html": [
       " View run <strong style=\"color:#cdcd00\">avid-sweep-47</strong> at: <a href='https://wandb.ai/danish2562022/sweeps-SEIR_kalmar_bleking/runs/pslztxc9' target=\"_blank\">https://wandb.ai/danish2562022/sweeps-SEIR_kalmar_bleking/runs/pslztxc9</a><br/> View project at: <a href='https://wandb.ai/danish2562022/sweeps-SEIR_kalmar_bleking' target=\"_blank\">https://wandb.ai/danish2562022/sweeps-SEIR_kalmar_bleking</a><br/>Synced 5 W&B file(s), 0 media file(s), 0 artifact file(s) and 0 other file(s)"
      ],
      "text/plain": [
       "<IPython.core.display.HTML object>"
      ]
     },
     "metadata": {},
     "output_type": "display_data"
    },
    {
     "data": {
      "text/html": [
       "Find logs at: <code>./wandb/run-20250528_185334-pslztxc9/logs</code>"
      ],
      "text/plain": [
       "<IPython.core.display.HTML object>"
      ]
     },
     "metadata": {},
     "output_type": "display_data"
    },
    {
     "data": {
      "text/html": [
       "The new W&B backend becomes opt-out in version 0.18.0; try it out with `wandb.require(\"core\")`! See https://wandb.me/wandb-core for more information."
      ],
      "text/plain": [
       "<IPython.core.display.HTML object>"
      ]
     },
     "metadata": {},
     "output_type": "display_data"
    },
    {
     "name": "stderr",
     "output_type": "stream",
     "text": [
      "\u001b[34m\u001b[1mwandb\u001b[0m: Sweep Agent: Waiting for job.\n",
      "\u001b[34m\u001b[1mwandb\u001b[0m: Job received.\n",
      "\u001b[34m\u001b[1mwandb\u001b[0m: Agent Starting Run: n9guw45b with config:\n",
      "\u001b[34m\u001b[1mwandb\u001b[0m: \tah0: 2.2189408662378076\n",
      "\u001b[34m\u001b[1mwandb\u001b[0m: \tah1: 1.8572140596463993\n",
      "\u001b[34m\u001b[1mwandb\u001b[0m: \tbh0: 1.0172952223038922\n",
      "\u001b[34m\u001b[1mwandb\u001b[0m: \tbh1: 0.5080524553029142\n",
      "\u001b[34m\u001b[1mwandb\u001b[0m: \tc: 0.6600577428607197\n"
     ]
    },
    {
     "data": {
      "text/html": [
       "wandb version 0.19.11 is available!  To upgrade, please run:\n",
       " $ pip install wandb --upgrade"
      ],
      "text/plain": [
       "<IPython.core.display.HTML object>"
      ]
     },
     "metadata": {},
     "output_type": "display_data"
    },
    {
     "data": {
      "text/html": [
       "Tracking run with wandb version 0.17.4"
      ],
      "text/plain": [
       "<IPython.core.display.HTML object>"
      ]
     },
     "metadata": {},
     "output_type": "display_data"
    },
    {
     "data": {
      "text/html": [
       "Run data is saved locally in <code>/12tb_dsk3/SEIR_model/src/wandb/run-20250528_185351-n9guw45b</code>"
      ],
      "text/plain": [
       "<IPython.core.display.HTML object>"
      ]
     },
     "metadata": {},
     "output_type": "display_data"
    },
    {
     "data": {
      "text/html": [
       "Syncing run <strong><a href='https://wandb.ai/danish2562022/sweeps-SEIR_kalmar_bleking/runs/n9guw45b' target=\"_blank\">fine-sweep-48</a></strong> to <a href='https://wandb.ai/danish2562022/sweeps-SEIR_kalmar_bleking' target=\"_blank\">Weights & Biases</a> (<a href='https://wandb.me/run' target=\"_blank\">docs</a>)<br/>Sweep page: <a href='https://wandb.ai/danish2562022/sweeps-SEIR_kalmar_bleking/sweeps/za0efz19' target=\"_blank\">https://wandb.ai/danish2562022/sweeps-SEIR_kalmar_bleking/sweeps/za0efz19</a>"
      ],
      "text/plain": [
       "<IPython.core.display.HTML object>"
      ]
     },
     "metadata": {},
     "output_type": "display_data"
    },
    {
     "data": {
      "text/html": [
       " View project at <a href='https://wandb.ai/danish2562022/sweeps-SEIR_kalmar_bleking' target=\"_blank\">https://wandb.ai/danish2562022/sweeps-SEIR_kalmar_bleking</a>"
      ],
      "text/plain": [
       "<IPython.core.display.HTML object>"
      ]
     },
     "metadata": {},
     "output_type": "display_data"
    },
    {
     "data": {
      "text/html": [
       " View sweep at <a href='https://wandb.ai/danish2562022/sweeps-SEIR_kalmar_bleking/sweeps/za0efz19' target=\"_blank\">https://wandb.ai/danish2562022/sweeps-SEIR_kalmar_bleking/sweeps/za0efz19</a>"
      ],
      "text/plain": [
       "<IPython.core.display.HTML object>"
      ]
     },
     "metadata": {},
     "output_type": "display_data"
    },
    {
     "data": {
      "text/html": [
       " View run at <a href='https://wandb.ai/danish2562022/sweeps-SEIR_kalmar_bleking/runs/n9guw45b' target=\"_blank\">https://wandb.ai/danish2562022/sweeps-SEIR_kalmar_bleking/runs/n9guw45b</a>"
      ],
      "text/plain": [
       "<IPython.core.display.HTML object>"
      ]
     },
     "metadata": {},
     "output_type": "display_data"
    },
    {
     "data": {
      "application/vnd.jupyter.widget-view+json": {
       "model_id": "d1b5763a22324e42a58d1d1070bebad3",
       "version_major": 2,
       "version_minor": 0
      },
      "text/plain": [
       "VBox(children=(Label(value='0.021 MB of 0.021 MB uploaded\\r'), FloatProgress(value=1.0, max=1.0)))"
      ]
     },
     "metadata": {},
     "output_type": "display_data"
    },
    {
     "data": {
      "text/html": [
       "<style>\n",
       "    table.wandb td:nth-child(1) { padding: 0 10px; text-align: left ; width: auto;} td:nth-child(2) {text-align: left ; width: 100%}\n",
       "    .wandb-row { display: flex; flex-direction: row; flex-wrap: wrap; justify-content: flex-start; width: 100% }\n",
       "    .wandb-col { display: flex; flex-direction: column; flex-basis: 100%; flex: 1; padding: 10px; }\n",
       "    </style>\n",
       "<div class=\"wandb-row\"><div class=\"wandb-col\"><h3>Run history:</h3><br/><table class=\"wandb\"><tr><td>CV_RMSE</td><td>▁</td></tr><tr><td>CV_RMSE_'Kalmar</td><td>▁</td></tr><tr><td>CV_RMSE_Blekinge</td><td>▁</td></tr><tr><td>RMSE</td><td>▁</td></tr><tr><td>RMSE_Blekinge</td><td>▁</td></tr><tr><td>RMSE_Kalmar</td><td>▁</td></tr></table><br/></div><div class=\"wandb-col\"><h3>Run summary:</h3><br/><table class=\"wandb\"><tr><td>CV_RMSE</td><td>3101.16442</td></tr><tr><td>CV_RMSE_'Kalmar</td><td>1303.22182</td></tr><tr><td>CV_RMSE_Blekinge</td><td>1797.9426</td></tr><tr><td>RMSE</td><td>215.3739</td></tr><tr><td>RMSE_Blekinge</td><td>80.70765</td></tr><tr><td>RMSE_Kalmar</td><td>134.66626</td></tr></table><br/></div></div>"
      ],
      "text/plain": [
       "<IPython.core.display.HTML object>"
      ]
     },
     "metadata": {},
     "output_type": "display_data"
    },
    {
     "data": {
      "text/html": [
       " View run <strong style=\"color:#cdcd00\">fine-sweep-48</strong> at: <a href='https://wandb.ai/danish2562022/sweeps-SEIR_kalmar_bleking/runs/n9guw45b' target=\"_blank\">https://wandb.ai/danish2562022/sweeps-SEIR_kalmar_bleking/runs/n9guw45b</a><br/> View project at: <a href='https://wandb.ai/danish2562022/sweeps-SEIR_kalmar_bleking' target=\"_blank\">https://wandb.ai/danish2562022/sweeps-SEIR_kalmar_bleking</a><br/>Synced 5 W&B file(s), 0 media file(s), 0 artifact file(s) and 0 other file(s)"
      ],
      "text/plain": [
       "<IPython.core.display.HTML object>"
      ]
     },
     "metadata": {},
     "output_type": "display_data"
    },
    {
     "data": {
      "text/html": [
       "Find logs at: <code>./wandb/run-20250528_185351-n9guw45b/logs</code>"
      ],
      "text/plain": [
       "<IPython.core.display.HTML object>"
      ]
     },
     "metadata": {},
     "output_type": "display_data"
    },
    {
     "data": {
      "text/html": [
       "The new W&B backend becomes opt-out in version 0.18.0; try it out with `wandb.require(\"core\")`! See https://wandb.me/wandb-core for more information."
      ],
      "text/plain": [
       "<IPython.core.display.HTML object>"
      ]
     },
     "metadata": {},
     "output_type": "display_data"
    },
    {
     "name": "stderr",
     "output_type": "stream",
     "text": [
      "\u001b[34m\u001b[1mwandb\u001b[0m: Agent Starting Run: 75zf8i5r with config:\n",
      "\u001b[34m\u001b[1mwandb\u001b[0m: \tah0: 1.03546143408131\n",
      "\u001b[34m\u001b[1mwandb\u001b[0m: \tah1: 1.0795419936093549\n",
      "\u001b[34m\u001b[1mwandb\u001b[0m: \tbh0: 7.083718130229318\n",
      "\u001b[34m\u001b[1mwandb\u001b[0m: \tbh1: 4.513782906677979\n",
      "\u001b[34m\u001b[1mwandb\u001b[0m: \tc: 0.5993620278466679\n"
     ]
    },
    {
     "data": {
      "text/html": [
       "wandb version 0.19.11 is available!  To upgrade, please run:\n",
       " $ pip install wandb --upgrade"
      ],
      "text/plain": [
       "<IPython.core.display.HTML object>"
      ]
     },
     "metadata": {},
     "output_type": "display_data"
    },
    {
     "data": {
      "text/html": [
       "Tracking run with wandb version 0.17.4"
      ],
      "text/plain": [
       "<IPython.core.display.HTML object>"
      ]
     },
     "metadata": {},
     "output_type": "display_data"
    },
    {
     "data": {
      "text/html": [
       "Run data is saved locally in <code>/12tb_dsk3/SEIR_model/src/wandb/run-20250528_185401-75zf8i5r</code>"
      ],
      "text/plain": [
       "<IPython.core.display.HTML object>"
      ]
     },
     "metadata": {},
     "output_type": "display_data"
    },
    {
     "data": {
      "text/html": [
       "Syncing run <strong><a href='https://wandb.ai/danish2562022/sweeps-SEIR_kalmar_bleking/runs/75zf8i5r' target=\"_blank\">graceful-sweep-49</a></strong> to <a href='https://wandb.ai/danish2562022/sweeps-SEIR_kalmar_bleking' target=\"_blank\">Weights & Biases</a> (<a href='https://wandb.me/run' target=\"_blank\">docs</a>)<br/>Sweep page: <a href='https://wandb.ai/danish2562022/sweeps-SEIR_kalmar_bleking/sweeps/za0efz19' target=\"_blank\">https://wandb.ai/danish2562022/sweeps-SEIR_kalmar_bleking/sweeps/za0efz19</a>"
      ],
      "text/plain": [
       "<IPython.core.display.HTML object>"
      ]
     },
     "metadata": {},
     "output_type": "display_data"
    },
    {
     "data": {
      "text/html": [
       " View project at <a href='https://wandb.ai/danish2562022/sweeps-SEIR_kalmar_bleking' target=\"_blank\">https://wandb.ai/danish2562022/sweeps-SEIR_kalmar_bleking</a>"
      ],
      "text/plain": [
       "<IPython.core.display.HTML object>"
      ]
     },
     "metadata": {},
     "output_type": "display_data"
    },
    {
     "data": {
      "text/html": [
       " View sweep at <a href='https://wandb.ai/danish2562022/sweeps-SEIR_kalmar_bleking/sweeps/za0efz19' target=\"_blank\">https://wandb.ai/danish2562022/sweeps-SEIR_kalmar_bleking/sweeps/za0efz19</a>"
      ],
      "text/plain": [
       "<IPython.core.display.HTML object>"
      ]
     },
     "metadata": {},
     "output_type": "display_data"
    },
    {
     "data": {
      "text/html": [
       " View run at <a href='https://wandb.ai/danish2562022/sweeps-SEIR_kalmar_bleking/runs/75zf8i5r' target=\"_blank\">https://wandb.ai/danish2562022/sweeps-SEIR_kalmar_bleking/runs/75zf8i5r</a>"
      ],
      "text/plain": [
       "<IPython.core.display.HTML object>"
      ]
     },
     "metadata": {},
     "output_type": "display_data"
    },
    {
     "data": {
      "application/vnd.jupyter.widget-view+json": {
       "model_id": "270b72b933884c2880f4b2f07a07c56c",
       "version_major": 2,
       "version_minor": 0
      },
      "text/plain": [
       "VBox(children=(Label(value='0.021 MB of 0.021 MB uploaded\\r'), FloatProgress(value=1.0, max=1.0)))"
      ]
     },
     "metadata": {},
     "output_type": "display_data"
    },
    {
     "data": {
      "text/html": [
       "<style>\n",
       "    table.wandb td:nth-child(1) { padding: 0 10px; text-align: left ; width: auto;} td:nth-child(2) {text-align: left ; width: 100%}\n",
       "    .wandb-row { display: flex; flex-direction: row; flex-wrap: wrap; justify-content: flex-start; width: 100% }\n",
       "    .wandb-col { display: flex; flex-direction: column; flex-basis: 100%; flex: 1; padding: 10px; }\n",
       "    </style>\n",
       "<div class=\"wandb-row\"><div class=\"wandb-col\"><h3>Run history:</h3><br/><table class=\"wandb\"><tr><td>CV_RMSE</td><td>▁</td></tr><tr><td>CV_RMSE_'Kalmar</td><td>▁</td></tr><tr><td>CV_RMSE_Blekinge</td><td>▁</td></tr><tr><td>RMSE</td><td>▁</td></tr><tr><td>RMSE_Blekinge</td><td>▁</td></tr><tr><td>RMSE_Kalmar</td><td>▁</td></tr></table><br/></div><div class=\"wandb-col\"><h3>Run summary:</h3><br/><table class=\"wandb\"><tr><td>CV_RMSE</td><td>301.21977</td></tr><tr><td>CV_RMSE_'Kalmar</td><td>143.79546</td></tr><tr><td>CV_RMSE_Blekinge</td><td>157.42431</td></tr><tr><td>RMSE</td><td>21.92547</td></tr><tr><td>RMSE_Blekinge</td><td>7.0666</td></tr><tr><td>RMSE_Kalmar</td><td>14.85886</td></tr></table><br/></div></div>"
      ],
      "text/plain": [
       "<IPython.core.display.HTML object>"
      ]
     },
     "metadata": {},
     "output_type": "display_data"
    },
    {
     "data": {
      "text/html": [
       " View run <strong style=\"color:#cdcd00\">graceful-sweep-49</strong> at: <a href='https://wandb.ai/danish2562022/sweeps-SEIR_kalmar_bleking/runs/75zf8i5r' target=\"_blank\">https://wandb.ai/danish2562022/sweeps-SEIR_kalmar_bleking/runs/75zf8i5r</a><br/> View project at: <a href='https://wandb.ai/danish2562022/sweeps-SEIR_kalmar_bleking' target=\"_blank\">https://wandb.ai/danish2562022/sweeps-SEIR_kalmar_bleking</a><br/>Synced 5 W&B file(s), 0 media file(s), 0 artifact file(s) and 0 other file(s)"
      ],
      "text/plain": [
       "<IPython.core.display.HTML object>"
      ]
     },
     "metadata": {},
     "output_type": "display_data"
    },
    {
     "data": {
      "text/html": [
       "Find logs at: <code>./wandb/run-20250528_185401-75zf8i5r/logs</code>"
      ],
      "text/plain": [
       "<IPython.core.display.HTML object>"
      ]
     },
     "metadata": {},
     "output_type": "display_data"
    },
    {
     "data": {
      "text/html": [
       "The new W&B backend becomes opt-out in version 0.18.0; try it out with `wandb.require(\"core\")`! See https://wandb.me/wandb-core for more information."
      ],
      "text/plain": [
       "<IPython.core.display.HTML object>"
      ]
     },
     "metadata": {},
     "output_type": "display_data"
    },
    {
     "name": "stderr",
     "output_type": "stream",
     "text": [
      "\u001b[34m\u001b[1mwandb\u001b[0m: Agent Starting Run: 6hkqt7p8 with config:\n",
      "\u001b[34m\u001b[1mwandb\u001b[0m: \tah0: 0.02629431154000672\n",
      "\u001b[34m\u001b[1mwandb\u001b[0m: \tah1: 0.9238528497877966\n",
      "\u001b[34m\u001b[1mwandb\u001b[0m: \tbh0: 1.296690153064768\n",
      "\u001b[34m\u001b[1mwandb\u001b[0m: \tbh1: 0.535229322876809\n",
      "\u001b[34m\u001b[1mwandb\u001b[0m: \tc: 0.1839755243821007\n"
     ]
    },
    {
     "data": {
      "text/html": [
       "wandb version 0.19.11 is available!  To upgrade, please run:\n",
       " $ pip install wandb --upgrade"
      ],
      "text/plain": [
       "<IPython.core.display.HTML object>"
      ]
     },
     "metadata": {},
     "output_type": "display_data"
    },
    {
     "data": {
      "text/html": [
       "Tracking run with wandb version 0.17.4"
      ],
      "text/plain": [
       "<IPython.core.display.HTML object>"
      ]
     },
     "metadata": {},
     "output_type": "display_data"
    },
    {
     "data": {
      "text/html": [
       "Run data is saved locally in <code>/12tb_dsk3/SEIR_model/src/wandb/run-20250528_185411-6hkqt7p8</code>"
      ],
      "text/plain": [
       "<IPython.core.display.HTML object>"
      ]
     },
     "metadata": {},
     "output_type": "display_data"
    },
    {
     "data": {
      "text/html": [
       "Syncing run <strong><a href='https://wandb.ai/danish2562022/sweeps-SEIR_kalmar_bleking/runs/6hkqt7p8' target=\"_blank\">classic-sweep-50</a></strong> to <a href='https://wandb.ai/danish2562022/sweeps-SEIR_kalmar_bleking' target=\"_blank\">Weights & Biases</a> (<a href='https://wandb.me/run' target=\"_blank\">docs</a>)<br/>Sweep page: <a href='https://wandb.ai/danish2562022/sweeps-SEIR_kalmar_bleking/sweeps/za0efz19' target=\"_blank\">https://wandb.ai/danish2562022/sweeps-SEIR_kalmar_bleking/sweeps/za0efz19</a>"
      ],
      "text/plain": [
       "<IPython.core.display.HTML object>"
      ]
     },
     "metadata": {},
     "output_type": "display_data"
    },
    {
     "data": {
      "text/html": [
       " View project at <a href='https://wandb.ai/danish2562022/sweeps-SEIR_kalmar_bleking' target=\"_blank\">https://wandb.ai/danish2562022/sweeps-SEIR_kalmar_bleking</a>"
      ],
      "text/plain": [
       "<IPython.core.display.HTML object>"
      ]
     },
     "metadata": {},
     "output_type": "display_data"
    },
    {
     "data": {
      "text/html": [
       " View sweep at <a href='https://wandb.ai/danish2562022/sweeps-SEIR_kalmar_bleking/sweeps/za0efz19' target=\"_blank\">https://wandb.ai/danish2562022/sweeps-SEIR_kalmar_bleking/sweeps/za0efz19</a>"
      ],
      "text/plain": [
       "<IPython.core.display.HTML object>"
      ]
     },
     "metadata": {},
     "output_type": "display_data"
    },
    {
     "data": {
      "text/html": [
       " View run at <a href='https://wandb.ai/danish2562022/sweeps-SEIR_kalmar_bleking/runs/6hkqt7p8' target=\"_blank\">https://wandb.ai/danish2562022/sweeps-SEIR_kalmar_bleking/runs/6hkqt7p8</a>"
      ],
      "text/plain": [
       "<IPython.core.display.HTML object>"
      ]
     },
     "metadata": {},
     "output_type": "display_data"
    },
    {
     "data": {
      "application/vnd.jupyter.widget-view+json": {
       "model_id": "274603fcf4124ba8aa53c1c70761a1f9",
       "version_major": 2,
       "version_minor": 0
      },
      "text/plain": [
       "VBox(children=(Label(value='0.021 MB of 0.021 MB uploaded\\r'), FloatProgress(value=1.0, max=1.0)))"
      ]
     },
     "metadata": {},
     "output_type": "display_data"
    },
    {
     "data": {
      "text/html": [
       "<style>\n",
       "    table.wandb td:nth-child(1) { padding: 0 10px; text-align: left ; width: auto;} td:nth-child(2) {text-align: left ; width: 100%}\n",
       "    .wandb-row { display: flex; flex-direction: row; flex-wrap: wrap; justify-content: flex-start; width: 100% }\n",
       "    .wandb-col { display: flex; flex-direction: column; flex-basis: 100%; flex: 1; padding: 10px; }\n",
       "    </style>\n",
       "<div class=\"wandb-row\"><div class=\"wandb-col\"><h3>Run history:</h3><br/><table class=\"wandb\"><tr><td>CV_RMSE</td><td>▁</td></tr><tr><td>CV_RMSE_'Kalmar</td><td>▁</td></tr><tr><td>CV_RMSE_Blekinge</td><td>▁</td></tr><tr><td>RMSE</td><td>▁</td></tr><tr><td>RMSE_Blekinge</td><td>▁</td></tr><tr><td>RMSE_Kalmar</td><td>▁</td></tr></table><br/></div><div class=\"wandb-col\"><h3>Run summary:</h3><br/><table class=\"wandb\"><tr><td>CV_RMSE</td><td>306.98474</td></tr><tr><td>CV_RMSE_'Kalmar</td><td>145.04522</td></tr><tr><td>CV_RMSE_Blekinge</td><td>161.93952</td></tr><tr><td>RMSE</td><td>22.25729</td></tr><tr><td>RMSE_Blekinge</td><td>7.26929</td></tr><tr><td>RMSE_Kalmar</td><td>14.98801</td></tr></table><br/></div></div>"
      ],
      "text/plain": [
       "<IPython.core.display.HTML object>"
      ]
     },
     "metadata": {},
     "output_type": "display_data"
    },
    {
     "data": {
      "text/html": [
       " View run <strong style=\"color:#cdcd00\">classic-sweep-50</strong> at: <a href='https://wandb.ai/danish2562022/sweeps-SEIR_kalmar_bleking/runs/6hkqt7p8' target=\"_blank\">https://wandb.ai/danish2562022/sweeps-SEIR_kalmar_bleking/runs/6hkqt7p8</a><br/> View project at: <a href='https://wandb.ai/danish2562022/sweeps-SEIR_kalmar_bleking' target=\"_blank\">https://wandb.ai/danish2562022/sweeps-SEIR_kalmar_bleking</a><br/>Synced 5 W&B file(s), 0 media file(s), 0 artifact file(s) and 0 other file(s)"
      ],
      "text/plain": [
       "<IPython.core.display.HTML object>"
      ]
     },
     "metadata": {},
     "output_type": "display_data"
    },
    {
     "data": {
      "text/html": [
       "Find logs at: <code>./wandb/run-20250528_185411-6hkqt7p8/logs</code>"
      ],
      "text/plain": [
       "<IPython.core.display.HTML object>"
      ]
     },
     "metadata": {},
     "output_type": "display_data"
    },
    {
     "data": {
      "text/html": [
       "The new W&B backend becomes opt-out in version 0.18.0; try it out with `wandb.require(\"core\")`! See https://wandb.me/wandb-core for more information."
      ],
      "text/plain": [
       "<IPython.core.display.HTML object>"
      ]
     },
     "metadata": {},
     "output_type": "display_data"
    },
    {
     "name": "stderr",
     "output_type": "stream",
     "text": [
      "\u001b[34m\u001b[1mwandb\u001b[0m: Sweep Agent: Waiting for job.\n",
      "\u001b[34m\u001b[1mwandb\u001b[0m: Job received.\n",
      "\u001b[34m\u001b[1mwandb\u001b[0m: Agent Starting Run: 9ti3400b with config:\n",
      "\u001b[34m\u001b[1mwandb\u001b[0m: \tah0: 1.9226407879897691\n",
      "\u001b[34m\u001b[1mwandb\u001b[0m: \tah1: 2.3113126977882343\n",
      "\u001b[34m\u001b[1mwandb\u001b[0m: \tbh0: 5.934921718564047\n",
      "\u001b[34m\u001b[1mwandb\u001b[0m: \tbh1: 8.153943111404404\n",
      "\u001b[34m\u001b[1mwandb\u001b[0m: \tc: 0.9482852279063828\n"
     ]
    },
    {
     "data": {
      "text/html": [
       "wandb version 0.19.11 is available!  To upgrade, please run:\n",
       " $ pip install wandb --upgrade"
      ],
      "text/plain": [
       "<IPython.core.display.HTML object>"
      ]
     },
     "metadata": {},
     "output_type": "display_data"
    },
    {
     "data": {
      "text/html": [
       "Tracking run with wandb version 0.17.4"
      ],
      "text/plain": [
       "<IPython.core.display.HTML object>"
      ]
     },
     "metadata": {},
     "output_type": "display_data"
    },
    {
     "data": {
      "text/html": [
       "Run data is saved locally in <code>/12tb_dsk3/SEIR_model/src/wandb/run-20250528_185428-9ti3400b</code>"
      ],
      "text/plain": [
       "<IPython.core.display.HTML object>"
      ]
     },
     "metadata": {},
     "output_type": "display_data"
    },
    {
     "data": {
      "text/html": [
       "Syncing run <strong><a href='https://wandb.ai/danish2562022/sweeps-SEIR_kalmar_bleking/runs/9ti3400b' target=\"_blank\">amber-sweep-51</a></strong> to <a href='https://wandb.ai/danish2562022/sweeps-SEIR_kalmar_bleking' target=\"_blank\">Weights & Biases</a> (<a href='https://wandb.me/run' target=\"_blank\">docs</a>)<br/>Sweep page: <a href='https://wandb.ai/danish2562022/sweeps-SEIR_kalmar_bleking/sweeps/za0efz19' target=\"_blank\">https://wandb.ai/danish2562022/sweeps-SEIR_kalmar_bleking/sweeps/za0efz19</a>"
      ],
      "text/plain": [
       "<IPython.core.display.HTML object>"
      ]
     },
     "metadata": {},
     "output_type": "display_data"
    },
    {
     "data": {
      "text/html": [
       " View project at <a href='https://wandb.ai/danish2562022/sweeps-SEIR_kalmar_bleking' target=\"_blank\">https://wandb.ai/danish2562022/sweeps-SEIR_kalmar_bleking</a>"
      ],
      "text/plain": [
       "<IPython.core.display.HTML object>"
      ]
     },
     "metadata": {},
     "output_type": "display_data"
    },
    {
     "data": {
      "text/html": [
       " View sweep at <a href='https://wandb.ai/danish2562022/sweeps-SEIR_kalmar_bleking/sweeps/za0efz19' target=\"_blank\">https://wandb.ai/danish2562022/sweeps-SEIR_kalmar_bleking/sweeps/za0efz19</a>"
      ],
      "text/plain": [
       "<IPython.core.display.HTML object>"
      ]
     },
     "metadata": {},
     "output_type": "display_data"
    },
    {
     "data": {
      "text/html": [
       " View run at <a href='https://wandb.ai/danish2562022/sweeps-SEIR_kalmar_bleking/runs/9ti3400b' target=\"_blank\">https://wandb.ai/danish2562022/sweeps-SEIR_kalmar_bleking/runs/9ti3400b</a>"
      ],
      "text/plain": [
       "<IPython.core.display.HTML object>"
      ]
     },
     "metadata": {},
     "output_type": "display_data"
    },
    {
     "data": {
      "application/vnd.jupyter.widget-view+json": {
       "model_id": "3332c77c1b13463592c5abfe98fc8e63",
       "version_major": 2,
       "version_minor": 0
      },
      "text/plain": [
       "VBox(children=(Label(value='0.021 MB of 0.021 MB uploaded\\r'), FloatProgress(value=1.0, max=1.0)))"
      ]
     },
     "metadata": {},
     "output_type": "display_data"
    },
    {
     "data": {
      "text/html": [
       "<style>\n",
       "    table.wandb td:nth-child(1) { padding: 0 10px; text-align: left ; width: auto;} td:nth-child(2) {text-align: left ; width: 100%}\n",
       "    .wandb-row { display: flex; flex-direction: row; flex-wrap: wrap; justify-content: flex-start; width: 100% }\n",
       "    .wandb-col { display: flex; flex-direction: column; flex-basis: 100%; flex: 1; padding: 10px; }\n",
       "    </style>\n",
       "<div class=\"wandb-row\"><div class=\"wandb-col\"><h3>Run history:</h3><br/><table class=\"wandb\"><tr><td>CV_RMSE</td><td>▁</td></tr><tr><td>CV_RMSE_'Kalmar</td><td>▁</td></tr><tr><td>CV_RMSE_Blekinge</td><td>▁</td></tr><tr><td>RMSE</td><td>▁</td></tr><tr><td>RMSE_Blekinge</td><td>▁</td></tr><tr><td>RMSE_Kalmar</td><td>▁</td></tr></table><br/></div><div class=\"wandb-col\"><h3>Run summary:</h3><br/><table class=\"wandb\"><tr><td>CV_RMSE</td><td>3348.75442</td></tr><tr><td>CV_RMSE_'Kalmar</td><td>1282.06966</td></tr><tr><td>CV_RMSE_Blekinge</td><td>2066.68476</td></tr><tr><td>RMSE</td><td>225.25171</td></tr><tr><td>RMSE_Blekinge</td><td>92.77118</td></tr><tr><td>RMSE_Kalmar</td><td>132.48053</td></tr></table><br/></div></div>"
      ],
      "text/plain": [
       "<IPython.core.display.HTML object>"
      ]
     },
     "metadata": {},
     "output_type": "display_data"
    },
    {
     "data": {
      "text/html": [
       " View run <strong style=\"color:#cdcd00\">amber-sweep-51</strong> at: <a href='https://wandb.ai/danish2562022/sweeps-SEIR_kalmar_bleking/runs/9ti3400b' target=\"_blank\">https://wandb.ai/danish2562022/sweeps-SEIR_kalmar_bleking/runs/9ti3400b</a><br/> View project at: <a href='https://wandb.ai/danish2562022/sweeps-SEIR_kalmar_bleking' target=\"_blank\">https://wandb.ai/danish2562022/sweeps-SEIR_kalmar_bleking</a><br/>Synced 5 W&B file(s), 0 media file(s), 0 artifact file(s) and 0 other file(s)"
      ],
      "text/plain": [
       "<IPython.core.display.HTML object>"
      ]
     },
     "metadata": {},
     "output_type": "display_data"
    },
    {
     "data": {
      "text/html": [
       "Find logs at: <code>./wandb/run-20250528_185428-9ti3400b/logs</code>"
      ],
      "text/plain": [
       "<IPython.core.display.HTML object>"
      ]
     },
     "metadata": {},
     "output_type": "display_data"
    },
    {
     "data": {
      "text/html": [
       "The new W&B backend becomes opt-out in version 0.18.0; try it out with `wandb.require(\"core\")`! See https://wandb.me/wandb-core for more information."
      ],
      "text/plain": [
       "<IPython.core.display.HTML object>"
      ]
     },
     "metadata": {},
     "output_type": "display_data"
    },
    {
     "name": "stderr",
     "output_type": "stream",
     "text": [
      "\u001b[34m\u001b[1mwandb\u001b[0m: Agent Starting Run: xzvko7p0 with config:\n",
      "\u001b[34m\u001b[1mwandb\u001b[0m: \tah0: 1.4080728177351525\n",
      "\u001b[34m\u001b[1mwandb\u001b[0m: \tah1: 1.5641449133055594\n",
      "\u001b[34m\u001b[1mwandb\u001b[0m: \tbh0: 6.048721893993928\n",
      "\u001b[34m\u001b[1mwandb\u001b[0m: \tbh1: 0.3386812503153158\n",
      "\u001b[34m\u001b[1mwandb\u001b[0m: \tc: 0.932869679407664\n"
     ]
    },
    {
     "data": {
      "text/html": [
       "wandb version 0.19.11 is available!  To upgrade, please run:\n",
       " $ pip install wandb --upgrade"
      ],
      "text/plain": [
       "<IPython.core.display.HTML object>"
      ]
     },
     "metadata": {},
     "output_type": "display_data"
    },
    {
     "data": {
      "text/html": [
       "Tracking run with wandb version 0.17.4"
      ],
      "text/plain": [
       "<IPython.core.display.HTML object>"
      ]
     },
     "metadata": {},
     "output_type": "display_data"
    },
    {
     "data": {
      "text/html": [
       "Run data is saved locally in <code>/12tb_dsk3/SEIR_model/src/wandb/run-20250528_185438-xzvko7p0</code>"
      ],
      "text/plain": [
       "<IPython.core.display.HTML object>"
      ]
     },
     "metadata": {},
     "output_type": "display_data"
    },
    {
     "data": {
      "text/html": [
       "Syncing run <strong><a href='https://wandb.ai/danish2562022/sweeps-SEIR_kalmar_bleking/runs/xzvko7p0' target=\"_blank\">zany-sweep-52</a></strong> to <a href='https://wandb.ai/danish2562022/sweeps-SEIR_kalmar_bleking' target=\"_blank\">Weights & Biases</a> (<a href='https://wandb.me/run' target=\"_blank\">docs</a>)<br/>Sweep page: <a href='https://wandb.ai/danish2562022/sweeps-SEIR_kalmar_bleking/sweeps/za0efz19' target=\"_blank\">https://wandb.ai/danish2562022/sweeps-SEIR_kalmar_bleking/sweeps/za0efz19</a>"
      ],
      "text/plain": [
       "<IPython.core.display.HTML object>"
      ]
     },
     "metadata": {},
     "output_type": "display_data"
    },
    {
     "data": {
      "text/html": [
       " View project at <a href='https://wandb.ai/danish2562022/sweeps-SEIR_kalmar_bleking' target=\"_blank\">https://wandb.ai/danish2562022/sweeps-SEIR_kalmar_bleking</a>"
      ],
      "text/plain": [
       "<IPython.core.display.HTML object>"
      ]
     },
     "metadata": {},
     "output_type": "display_data"
    },
    {
     "data": {
      "text/html": [
       " View sweep at <a href='https://wandb.ai/danish2562022/sweeps-SEIR_kalmar_bleking/sweeps/za0efz19' target=\"_blank\">https://wandb.ai/danish2562022/sweeps-SEIR_kalmar_bleking/sweeps/za0efz19</a>"
      ],
      "text/plain": [
       "<IPython.core.display.HTML object>"
      ]
     },
     "metadata": {},
     "output_type": "display_data"
    },
    {
     "data": {
      "text/html": [
       " View run at <a href='https://wandb.ai/danish2562022/sweeps-SEIR_kalmar_bleking/runs/xzvko7p0' target=\"_blank\">https://wandb.ai/danish2562022/sweeps-SEIR_kalmar_bleking/runs/xzvko7p0</a>"
      ],
      "text/plain": [
       "<IPython.core.display.HTML object>"
      ]
     },
     "metadata": {},
     "output_type": "display_data"
    },
    {
     "data": {
      "application/vnd.jupyter.widget-view+json": {
       "model_id": "892aada6c9af49be986a2580a8d9b691",
       "version_major": 2,
       "version_minor": 0
      },
      "text/plain": [
       "VBox(children=(Label(value='0.021 MB of 0.021 MB uploaded\\r'), FloatProgress(value=1.0, max=1.0)))"
      ]
     },
     "metadata": {},
     "output_type": "display_data"
    },
    {
     "data": {
      "text/html": [
       "<style>\n",
       "    table.wandb td:nth-child(1) { padding: 0 10px; text-align: left ; width: auto;} td:nth-child(2) {text-align: left ; width: 100%}\n",
       "    .wandb-row { display: flex; flex-direction: row; flex-wrap: wrap; justify-content: flex-start; width: 100% }\n",
       "    .wandb-col { display: flex; flex-direction: column; flex-basis: 100%; flex: 1; padding: 10px; }\n",
       "    </style>\n",
       "<div class=\"wandb-row\"><div class=\"wandb-col\"><h3>Run history:</h3><br/><table class=\"wandb\"><tr><td>CV_RMSE</td><td>▁</td></tr><tr><td>CV_RMSE_'Kalmar</td><td>▁</td></tr><tr><td>CV_RMSE_Blekinge</td><td>▁</td></tr><tr><td>RMSE</td><td>▁</td></tr><tr><td>RMSE_Blekinge</td><td>▁</td></tr><tr><td>RMSE_Kalmar</td><td>▁</td></tr></table><br/></div><div class=\"wandb-col\"><h3>Run summary:</h3><br/><table class=\"wandb\"><tr><td>CV_RMSE</td><td>3437.65153</td></tr><tr><td>CV_RMSE_'Kalmar</td><td>1584.1794</td></tr><tr><td>CV_RMSE_Blekinge</td><td>1853.47213</td></tr><tr><td>RMSE</td><td>246.89884</td></tr><tr><td>RMSE_Blekinge</td><td>83.2003</td></tr><tr><td>RMSE_Kalmar</td><td>163.69854</td></tr></table><br/></div></div>"
      ],
      "text/plain": [
       "<IPython.core.display.HTML object>"
      ]
     },
     "metadata": {},
     "output_type": "display_data"
    },
    {
     "data": {
      "text/html": [
       " View run <strong style=\"color:#cdcd00\">zany-sweep-52</strong> at: <a href='https://wandb.ai/danish2562022/sweeps-SEIR_kalmar_bleking/runs/xzvko7p0' target=\"_blank\">https://wandb.ai/danish2562022/sweeps-SEIR_kalmar_bleking/runs/xzvko7p0</a><br/> View project at: <a href='https://wandb.ai/danish2562022/sweeps-SEIR_kalmar_bleking' target=\"_blank\">https://wandb.ai/danish2562022/sweeps-SEIR_kalmar_bleking</a><br/>Synced 5 W&B file(s), 0 media file(s), 0 artifact file(s) and 0 other file(s)"
      ],
      "text/plain": [
       "<IPython.core.display.HTML object>"
      ]
     },
     "metadata": {},
     "output_type": "display_data"
    },
    {
     "data": {
      "text/html": [
       "Find logs at: <code>./wandb/run-20250528_185438-xzvko7p0/logs</code>"
      ],
      "text/plain": [
       "<IPython.core.display.HTML object>"
      ]
     },
     "metadata": {},
     "output_type": "display_data"
    },
    {
     "data": {
      "text/html": [
       "The new W&B backend becomes opt-out in version 0.18.0; try it out with `wandb.require(\"core\")`! See https://wandb.me/wandb-core for more information."
      ],
      "text/plain": [
       "<IPython.core.display.HTML object>"
      ]
     },
     "metadata": {},
     "output_type": "display_data"
    },
    {
     "name": "stderr",
     "output_type": "stream",
     "text": [
      "\u001b[34m\u001b[1mwandb\u001b[0m: Agent Starting Run: obphr80x with config:\n",
      "\u001b[34m\u001b[1mwandb\u001b[0m: \tah0: 2.7522400746395905\n",
      "\u001b[34m\u001b[1mwandb\u001b[0m: \tah1: 1.9237505405179816\n",
      "\u001b[34m\u001b[1mwandb\u001b[0m: \tbh0: 4.845595378575389\n",
      "\u001b[34m\u001b[1mwandb\u001b[0m: \tbh1: 3.903906065260059\n",
      "\u001b[34m\u001b[1mwandb\u001b[0m: \tc: 0.33018651267703436\n"
     ]
    },
    {
     "data": {
      "text/html": [
       "wandb version 0.19.11 is available!  To upgrade, please run:\n",
       " $ pip install wandb --upgrade"
      ],
      "text/plain": [
       "<IPython.core.display.HTML object>"
      ]
     },
     "metadata": {},
     "output_type": "display_data"
    },
    {
     "data": {
      "text/html": [
       "Tracking run with wandb version 0.17.4"
      ],
      "text/plain": [
       "<IPython.core.display.HTML object>"
      ]
     },
     "metadata": {},
     "output_type": "display_data"
    },
    {
     "data": {
      "text/html": [
       "Run data is saved locally in <code>/12tb_dsk3/SEIR_model/src/wandb/run-20250528_185448-obphr80x</code>"
      ],
      "text/plain": [
       "<IPython.core.display.HTML object>"
      ]
     },
     "metadata": {},
     "output_type": "display_data"
    },
    {
     "data": {
      "text/html": [
       "Syncing run <strong><a href='https://wandb.ai/danish2562022/sweeps-SEIR_kalmar_bleking/runs/obphr80x' target=\"_blank\">stellar-sweep-53</a></strong> to <a href='https://wandb.ai/danish2562022/sweeps-SEIR_kalmar_bleking' target=\"_blank\">Weights & Biases</a> (<a href='https://wandb.me/run' target=\"_blank\">docs</a>)<br/>Sweep page: <a href='https://wandb.ai/danish2562022/sweeps-SEIR_kalmar_bleking/sweeps/za0efz19' target=\"_blank\">https://wandb.ai/danish2562022/sweeps-SEIR_kalmar_bleking/sweeps/za0efz19</a>"
      ],
      "text/plain": [
       "<IPython.core.display.HTML object>"
      ]
     },
     "metadata": {},
     "output_type": "display_data"
    },
    {
     "data": {
      "text/html": [
       " View project at <a href='https://wandb.ai/danish2562022/sweeps-SEIR_kalmar_bleking' target=\"_blank\">https://wandb.ai/danish2562022/sweeps-SEIR_kalmar_bleking</a>"
      ],
      "text/plain": [
       "<IPython.core.display.HTML object>"
      ]
     },
     "metadata": {},
     "output_type": "display_data"
    },
    {
     "data": {
      "text/html": [
       " View sweep at <a href='https://wandb.ai/danish2562022/sweeps-SEIR_kalmar_bleking/sweeps/za0efz19' target=\"_blank\">https://wandb.ai/danish2562022/sweeps-SEIR_kalmar_bleking/sweeps/za0efz19</a>"
      ],
      "text/plain": [
       "<IPython.core.display.HTML object>"
      ]
     },
     "metadata": {},
     "output_type": "display_data"
    },
    {
     "data": {
      "text/html": [
       " View run at <a href='https://wandb.ai/danish2562022/sweeps-SEIR_kalmar_bleking/runs/obphr80x' target=\"_blank\">https://wandb.ai/danish2562022/sweeps-SEIR_kalmar_bleking/runs/obphr80x</a>"
      ],
      "text/plain": [
       "<IPython.core.display.HTML object>"
      ]
     },
     "metadata": {},
     "output_type": "display_data"
    },
    {
     "data": {
      "application/vnd.jupyter.widget-view+json": {
       "model_id": "53b9c84d94b04cfab52ef2cac11f294d",
       "version_major": 2,
       "version_minor": 0
      },
      "text/plain": [
       "VBox(children=(Label(value='0.021 MB of 0.021 MB uploaded\\r'), FloatProgress(value=1.0, max=1.0)))"
      ]
     },
     "metadata": {},
     "output_type": "display_data"
    },
    {
     "data": {
      "text/html": [
       "<style>\n",
       "    table.wandb td:nth-child(1) { padding: 0 10px; text-align: left ; width: auto;} td:nth-child(2) {text-align: left ; width: 100%}\n",
       "    .wandb-row { display: flex; flex-direction: row; flex-wrap: wrap; justify-content: flex-start; width: 100% }\n",
       "    .wandb-col { display: flex; flex-direction: column; flex-basis: 100%; flex: 1; padding: 10px; }\n",
       "    </style>\n",
       "<div class=\"wandb-row\"><div class=\"wandb-col\"><h3>Run history:</h3><br/><table class=\"wandb\"><tr><td>CV_RMSE</td><td>▁</td></tr><tr><td>CV_RMSE_'Kalmar</td><td>▁</td></tr><tr><td>CV_RMSE_Blekinge</td><td>▁</td></tr><tr><td>RMSE</td><td>▁</td></tr><tr><td>RMSE_Blekinge</td><td>▁</td></tr><tr><td>RMSE_Kalmar</td><td>▁</td></tr></table><br/></div><div class=\"wandb-col\"><h3>Run summary:</h3><br/><table class=\"wandb\"><tr><td>CV_RMSE</td><td>3508.07009</td></tr><tr><td>CV_RMSE_'Kalmar</td><td>1456.30857</td></tr><tr><td>CV_RMSE_Blekinge</td><td>2051.76153</td></tr><tr><td>RMSE</td><td>242.58651</td></tr><tr><td>RMSE_Blekinge</td><td>92.1013</td></tr><tr><td>RMSE_Kalmar</td><td>150.48522</td></tr></table><br/></div></div>"
      ],
      "text/plain": [
       "<IPython.core.display.HTML object>"
      ]
     },
     "metadata": {},
     "output_type": "display_data"
    },
    {
     "data": {
      "text/html": [
       " View run <strong style=\"color:#cdcd00\">stellar-sweep-53</strong> at: <a href='https://wandb.ai/danish2562022/sweeps-SEIR_kalmar_bleking/runs/obphr80x' target=\"_blank\">https://wandb.ai/danish2562022/sweeps-SEIR_kalmar_bleking/runs/obphr80x</a><br/> View project at: <a href='https://wandb.ai/danish2562022/sweeps-SEIR_kalmar_bleking' target=\"_blank\">https://wandb.ai/danish2562022/sweeps-SEIR_kalmar_bleking</a><br/>Synced 5 W&B file(s), 0 media file(s), 0 artifact file(s) and 0 other file(s)"
      ],
      "text/plain": [
       "<IPython.core.display.HTML object>"
      ]
     },
     "metadata": {},
     "output_type": "display_data"
    },
    {
     "data": {
      "text/html": [
       "Find logs at: <code>./wandb/run-20250528_185448-obphr80x/logs</code>"
      ],
      "text/plain": [
       "<IPython.core.display.HTML object>"
      ]
     },
     "metadata": {},
     "output_type": "display_data"
    },
    {
     "data": {
      "text/html": [
       "The new W&B backend becomes opt-out in version 0.18.0; try it out with `wandb.require(\"core\")`! See https://wandb.me/wandb-core for more information."
      ],
      "text/plain": [
       "<IPython.core.display.HTML object>"
      ]
     },
     "metadata": {},
     "output_type": "display_data"
    },
    {
     "name": "stderr",
     "output_type": "stream",
     "text": [
      "\u001b[34m\u001b[1mwandb\u001b[0m: Agent Starting Run: 35qyegrp with config:\n",
      "\u001b[34m\u001b[1mwandb\u001b[0m: \tah0: 0.11481383175294836\n",
      "\u001b[34m\u001b[1mwandb\u001b[0m: \tah1: 1.9443369678629945\n",
      "\u001b[34m\u001b[1mwandb\u001b[0m: \tbh0: 7.467051497929676\n",
      "\u001b[34m\u001b[1mwandb\u001b[0m: \tbh1: 7.051040798615656\n",
      "\u001b[34m\u001b[1mwandb\u001b[0m: \tc: 0.3228770032668542\n"
     ]
    },
    {
     "data": {
      "text/html": [
       "wandb version 0.19.11 is available!  To upgrade, please run:\n",
       " $ pip install wandb --upgrade"
      ],
      "text/plain": [
       "<IPython.core.display.HTML object>"
      ]
     },
     "metadata": {},
     "output_type": "display_data"
    },
    {
     "data": {
      "text/html": [
       "Tracking run with wandb version 0.17.4"
      ],
      "text/plain": [
       "<IPython.core.display.HTML object>"
      ]
     },
     "metadata": {},
     "output_type": "display_data"
    },
    {
     "data": {
      "text/html": [
       "Run data is saved locally in <code>/12tb_dsk3/SEIR_model/src/wandb/run-20250528_185459-35qyegrp</code>"
      ],
      "text/plain": [
       "<IPython.core.display.HTML object>"
      ]
     },
     "metadata": {},
     "output_type": "display_data"
    },
    {
     "data": {
      "text/html": [
       "Syncing run <strong><a href='https://wandb.ai/danish2562022/sweeps-SEIR_kalmar_bleking/runs/35qyegrp' target=\"_blank\">summer-sweep-54</a></strong> to <a href='https://wandb.ai/danish2562022/sweeps-SEIR_kalmar_bleking' target=\"_blank\">Weights & Biases</a> (<a href='https://wandb.me/run' target=\"_blank\">docs</a>)<br/>Sweep page: <a href='https://wandb.ai/danish2562022/sweeps-SEIR_kalmar_bleking/sweeps/za0efz19' target=\"_blank\">https://wandb.ai/danish2562022/sweeps-SEIR_kalmar_bleking/sweeps/za0efz19</a>"
      ],
      "text/plain": [
       "<IPython.core.display.HTML object>"
      ]
     },
     "metadata": {},
     "output_type": "display_data"
    },
    {
     "data": {
      "text/html": [
       " View project at <a href='https://wandb.ai/danish2562022/sweeps-SEIR_kalmar_bleking' target=\"_blank\">https://wandb.ai/danish2562022/sweeps-SEIR_kalmar_bleking</a>"
      ],
      "text/plain": [
       "<IPython.core.display.HTML object>"
      ]
     },
     "metadata": {},
     "output_type": "display_data"
    },
    {
     "data": {
      "text/html": [
       " View sweep at <a href='https://wandb.ai/danish2562022/sweeps-SEIR_kalmar_bleking/sweeps/za0efz19' target=\"_blank\">https://wandb.ai/danish2562022/sweeps-SEIR_kalmar_bleking/sweeps/za0efz19</a>"
      ],
      "text/plain": [
       "<IPython.core.display.HTML object>"
      ]
     },
     "metadata": {},
     "output_type": "display_data"
    },
    {
     "data": {
      "text/html": [
       " View run at <a href='https://wandb.ai/danish2562022/sweeps-SEIR_kalmar_bleking/runs/35qyegrp' target=\"_blank\">https://wandb.ai/danish2562022/sweeps-SEIR_kalmar_bleking/runs/35qyegrp</a>"
      ],
      "text/plain": [
       "<IPython.core.display.HTML object>"
      ]
     },
     "metadata": {},
     "output_type": "display_data"
    },
    {
     "data": {
      "application/vnd.jupyter.widget-view+json": {
       "model_id": "9c425456986c46b8b5e4a173474859a6",
       "version_major": 2,
       "version_minor": 0
      },
      "text/plain": [
       "VBox(children=(Label(value='0.021 MB of 0.021 MB uploaded\\r'), FloatProgress(value=1.0, max=1.0)))"
      ]
     },
     "metadata": {},
     "output_type": "display_data"
    },
    {
     "data": {
      "text/html": [
       "<style>\n",
       "    table.wandb td:nth-child(1) { padding: 0 10px; text-align: left ; width: auto;} td:nth-child(2) {text-align: left ; width: 100%}\n",
       "    .wandb-row { display: flex; flex-direction: row; flex-wrap: wrap; justify-content: flex-start; width: 100% }\n",
       "    .wandb-col { display: flex; flex-direction: column; flex-basis: 100%; flex: 1; padding: 10px; }\n",
       "    </style>\n",
       "<div class=\"wandb-row\"><div class=\"wandb-col\"><h3>Run history:</h3><br/><table class=\"wandb\"><tr><td>CV_RMSE</td><td>▁</td></tr><tr><td>CV_RMSE_'Kalmar</td><td>▁</td></tr><tr><td>CV_RMSE_Blekinge</td><td>▁</td></tr><tr><td>RMSE</td><td>▁</td></tr><tr><td>RMSE_Blekinge</td><td>▁</td></tr><tr><td>RMSE_Kalmar</td><td>▁</td></tr></table><br/></div><div class=\"wandb-col\"><h3>Run summary:</h3><br/><table class=\"wandb\"><tr><td>CV_RMSE</td><td>3184.91273</td></tr><tr><td>CV_RMSE_'Kalmar</td><td>471.25755</td></tr><tr><td>CV_RMSE_Blekinge</td><td>2713.65518</td></tr><tr><td>RMSE</td><td>170.50958</td></tr><tr><td>RMSE_Blekinge</td><td>121.81297</td></tr><tr><td>RMSE_Kalmar</td><td>48.69661</td></tr></table><br/></div></div>"
      ],
      "text/plain": [
       "<IPython.core.display.HTML object>"
      ]
     },
     "metadata": {},
     "output_type": "display_data"
    },
    {
     "data": {
      "text/html": [
       " View run <strong style=\"color:#cdcd00\">summer-sweep-54</strong> at: <a href='https://wandb.ai/danish2562022/sweeps-SEIR_kalmar_bleking/runs/35qyegrp' target=\"_blank\">https://wandb.ai/danish2562022/sweeps-SEIR_kalmar_bleking/runs/35qyegrp</a><br/> View project at: <a href='https://wandb.ai/danish2562022/sweeps-SEIR_kalmar_bleking' target=\"_blank\">https://wandb.ai/danish2562022/sweeps-SEIR_kalmar_bleking</a><br/>Synced 5 W&B file(s), 0 media file(s), 0 artifact file(s) and 0 other file(s)"
      ],
      "text/plain": [
       "<IPython.core.display.HTML object>"
      ]
     },
     "metadata": {},
     "output_type": "display_data"
    },
    {
     "data": {
      "text/html": [
       "Find logs at: <code>./wandb/run-20250528_185459-35qyegrp/logs</code>"
      ],
      "text/plain": [
       "<IPython.core.display.HTML object>"
      ]
     },
     "metadata": {},
     "output_type": "display_data"
    },
    {
     "data": {
      "text/html": [
       "The new W&B backend becomes opt-out in version 0.18.0; try it out with `wandb.require(\"core\")`! See https://wandb.me/wandb-core for more information."
      ],
      "text/plain": [
       "<IPython.core.display.HTML object>"
      ]
     },
     "metadata": {},
     "output_type": "display_data"
    },
    {
     "name": "stderr",
     "output_type": "stream",
     "text": [
      "\u001b[34m\u001b[1mwandb\u001b[0m: Agent Starting Run: va2olurw with config:\n",
      "\u001b[34m\u001b[1mwandb\u001b[0m: \tah0: 1.6997449490142458\n",
      "\u001b[34m\u001b[1mwandb\u001b[0m: \tah1: 0.3552822388172553\n",
      "\u001b[34m\u001b[1mwandb\u001b[0m: \tbh0: 9.527368031639798\n",
      "\u001b[34m\u001b[1mwandb\u001b[0m: \tbh1: 3.4021226319335796\n",
      "\u001b[34m\u001b[1mwandb\u001b[0m: \tc: 0.4404569854727378\n"
     ]
    },
    {
     "data": {
      "text/html": [
       "wandb version 0.19.11 is available!  To upgrade, please run:\n",
       " $ pip install wandb --upgrade"
      ],
      "text/plain": [
       "<IPython.core.display.HTML object>"
      ]
     },
     "metadata": {},
     "output_type": "display_data"
    },
    {
     "data": {
      "text/html": [
       "Tracking run with wandb version 0.17.4"
      ],
      "text/plain": [
       "<IPython.core.display.HTML object>"
      ]
     },
     "metadata": {},
     "output_type": "display_data"
    },
    {
     "data": {
      "text/html": [
       "Run data is saved locally in <code>/12tb_dsk3/SEIR_model/src/wandb/run-20250528_185509-va2olurw</code>"
      ],
      "text/plain": [
       "<IPython.core.display.HTML object>"
      ]
     },
     "metadata": {},
     "output_type": "display_data"
    },
    {
     "data": {
      "text/html": [
       "Syncing run <strong><a href='https://wandb.ai/danish2562022/sweeps-SEIR_kalmar_bleking/runs/va2olurw' target=\"_blank\">glowing-sweep-55</a></strong> to <a href='https://wandb.ai/danish2562022/sweeps-SEIR_kalmar_bleking' target=\"_blank\">Weights & Biases</a> (<a href='https://wandb.me/run' target=\"_blank\">docs</a>)<br/>Sweep page: <a href='https://wandb.ai/danish2562022/sweeps-SEIR_kalmar_bleking/sweeps/za0efz19' target=\"_blank\">https://wandb.ai/danish2562022/sweeps-SEIR_kalmar_bleking/sweeps/za0efz19</a>"
      ],
      "text/plain": [
       "<IPython.core.display.HTML object>"
      ]
     },
     "metadata": {},
     "output_type": "display_data"
    },
    {
     "data": {
      "text/html": [
       " View project at <a href='https://wandb.ai/danish2562022/sweeps-SEIR_kalmar_bleking' target=\"_blank\">https://wandb.ai/danish2562022/sweeps-SEIR_kalmar_bleking</a>"
      ],
      "text/plain": [
       "<IPython.core.display.HTML object>"
      ]
     },
     "metadata": {},
     "output_type": "display_data"
    },
    {
     "data": {
      "text/html": [
       " View sweep at <a href='https://wandb.ai/danish2562022/sweeps-SEIR_kalmar_bleking/sweeps/za0efz19' target=\"_blank\">https://wandb.ai/danish2562022/sweeps-SEIR_kalmar_bleking/sweeps/za0efz19</a>"
      ],
      "text/plain": [
       "<IPython.core.display.HTML object>"
      ]
     },
     "metadata": {},
     "output_type": "display_data"
    },
    {
     "data": {
      "text/html": [
       " View run at <a href='https://wandb.ai/danish2562022/sweeps-SEIR_kalmar_bleking/runs/va2olurw' target=\"_blank\">https://wandb.ai/danish2562022/sweeps-SEIR_kalmar_bleking/runs/va2olurw</a>"
      ],
      "text/plain": [
       "<IPython.core.display.HTML object>"
      ]
     },
     "metadata": {},
     "output_type": "display_data"
    },
    {
     "data": {
      "application/vnd.jupyter.widget-view+json": {
       "model_id": "9b4c0e05ac9b45d2824d8c02a7e0b8db",
       "version_major": 2,
       "version_minor": 0
      },
      "text/plain": [
       "VBox(children=(Label(value='0.021 MB of 0.021 MB uploaded\\r'), FloatProgress(value=1.0, max=1.0)))"
      ]
     },
     "metadata": {},
     "output_type": "display_data"
    },
    {
     "data": {
      "text/html": [
       "<style>\n",
       "    table.wandb td:nth-child(1) { padding: 0 10px; text-align: left ; width: auto;} td:nth-child(2) {text-align: left ; width: 100%}\n",
       "    .wandb-row { display: flex; flex-direction: row; flex-wrap: wrap; justify-content: flex-start; width: 100% }\n",
       "    .wandb-col { display: flex; flex-direction: column; flex-basis: 100%; flex: 1; padding: 10px; }\n",
       "    </style>\n",
       "<div class=\"wandb-row\"><div class=\"wandb-col\"><h3>Run history:</h3><br/><table class=\"wandb\"><tr><td>CV_RMSE</td><td>▁</td></tr><tr><td>CV_RMSE_'Kalmar</td><td>▁</td></tr><tr><td>CV_RMSE_Blekinge</td><td>▁</td></tr><tr><td>RMSE</td><td>▁</td></tr><tr><td>RMSE_Blekinge</td><td>▁</td></tr><tr><td>RMSE_Kalmar</td><td>▁</td></tr></table><br/></div><div class=\"wandb-col\"><h3>Run summary:</h3><br/><table class=\"wandb\"><tr><td>CV_RMSE</td><td>304.55026</td></tr><tr><td>CV_RMSE_'Kalmar</td><td>143.17593</td></tr><tr><td>CV_RMSE_Blekinge</td><td>161.37432</td></tr><tr><td>RMSE</td><td>22.03876</td></tr><tr><td>RMSE_Blekinge</td><td>7.24391</td></tr><tr><td>RMSE_Kalmar</td><td>14.79485</td></tr></table><br/></div></div>"
      ],
      "text/plain": [
       "<IPython.core.display.HTML object>"
      ]
     },
     "metadata": {},
     "output_type": "display_data"
    },
    {
     "data": {
      "text/html": [
       " View run <strong style=\"color:#cdcd00\">glowing-sweep-55</strong> at: <a href='https://wandb.ai/danish2562022/sweeps-SEIR_kalmar_bleking/runs/va2olurw' target=\"_blank\">https://wandb.ai/danish2562022/sweeps-SEIR_kalmar_bleking/runs/va2olurw</a><br/> View project at: <a href='https://wandb.ai/danish2562022/sweeps-SEIR_kalmar_bleking' target=\"_blank\">https://wandb.ai/danish2562022/sweeps-SEIR_kalmar_bleking</a><br/>Synced 5 W&B file(s), 0 media file(s), 0 artifact file(s) and 0 other file(s)"
      ],
      "text/plain": [
       "<IPython.core.display.HTML object>"
      ]
     },
     "metadata": {},
     "output_type": "display_data"
    },
    {
     "data": {
      "text/html": [
       "Find logs at: <code>./wandb/run-20250528_185509-va2olurw/logs</code>"
      ],
      "text/plain": [
       "<IPython.core.display.HTML object>"
      ]
     },
     "metadata": {},
     "output_type": "display_data"
    },
    {
     "data": {
      "text/html": [
       "The new W&B backend becomes opt-out in version 0.18.0; try it out with `wandb.require(\"core\")`! See https://wandb.me/wandb-core for more information."
      ],
      "text/plain": [
       "<IPython.core.display.HTML object>"
      ]
     },
     "metadata": {},
     "output_type": "display_data"
    },
    {
     "name": "stderr",
     "output_type": "stream",
     "text": [
      "\u001b[34m\u001b[1mwandb\u001b[0m: Agent Starting Run: 58z93hpj with config:\n",
      "\u001b[34m\u001b[1mwandb\u001b[0m: \tah0: 0.98482183036227\n",
      "\u001b[34m\u001b[1mwandb\u001b[0m: \tah1: 0.784128815350851\n",
      "\u001b[34m\u001b[1mwandb\u001b[0m: \tbh0: 5.164600308330104\n",
      "\u001b[34m\u001b[1mwandb\u001b[0m: \tbh1: 9.58416593250856\n",
      "\u001b[34m\u001b[1mwandb\u001b[0m: \tc: 0.15114747695804245\n"
     ]
    },
    {
     "data": {
      "text/html": [
       "wandb version 0.19.11 is available!  To upgrade, please run:\n",
       " $ pip install wandb --upgrade"
      ],
      "text/plain": [
       "<IPython.core.display.HTML object>"
      ]
     },
     "metadata": {},
     "output_type": "display_data"
    },
    {
     "data": {
      "text/html": [
       "Tracking run with wandb version 0.17.4"
      ],
      "text/plain": [
       "<IPython.core.display.HTML object>"
      ]
     },
     "metadata": {},
     "output_type": "display_data"
    },
    {
     "data": {
      "text/html": [
       "Run data is saved locally in <code>/12tb_dsk3/SEIR_model/src/wandb/run-20250528_185519-58z93hpj</code>"
      ],
      "text/plain": [
       "<IPython.core.display.HTML object>"
      ]
     },
     "metadata": {},
     "output_type": "display_data"
    },
    {
     "data": {
      "text/html": [
       "Syncing run <strong><a href='https://wandb.ai/danish2562022/sweeps-SEIR_kalmar_bleking/runs/58z93hpj' target=\"_blank\">robust-sweep-56</a></strong> to <a href='https://wandb.ai/danish2562022/sweeps-SEIR_kalmar_bleking' target=\"_blank\">Weights & Biases</a> (<a href='https://wandb.me/run' target=\"_blank\">docs</a>)<br/>Sweep page: <a href='https://wandb.ai/danish2562022/sweeps-SEIR_kalmar_bleking/sweeps/za0efz19' target=\"_blank\">https://wandb.ai/danish2562022/sweeps-SEIR_kalmar_bleking/sweeps/za0efz19</a>"
      ],
      "text/plain": [
       "<IPython.core.display.HTML object>"
      ]
     },
     "metadata": {},
     "output_type": "display_data"
    },
    {
     "data": {
      "text/html": [
       " View project at <a href='https://wandb.ai/danish2562022/sweeps-SEIR_kalmar_bleking' target=\"_blank\">https://wandb.ai/danish2562022/sweeps-SEIR_kalmar_bleking</a>"
      ],
      "text/plain": [
       "<IPython.core.display.HTML object>"
      ]
     },
     "metadata": {},
     "output_type": "display_data"
    },
    {
     "data": {
      "text/html": [
       " View sweep at <a href='https://wandb.ai/danish2562022/sweeps-SEIR_kalmar_bleking/sweeps/za0efz19' target=\"_blank\">https://wandb.ai/danish2562022/sweeps-SEIR_kalmar_bleking/sweeps/za0efz19</a>"
      ],
      "text/plain": [
       "<IPython.core.display.HTML object>"
      ]
     },
     "metadata": {},
     "output_type": "display_data"
    },
    {
     "data": {
      "text/html": [
       " View run at <a href='https://wandb.ai/danish2562022/sweeps-SEIR_kalmar_bleking/runs/58z93hpj' target=\"_blank\">https://wandb.ai/danish2562022/sweeps-SEIR_kalmar_bleking/runs/58z93hpj</a>"
      ],
      "text/plain": [
       "<IPython.core.display.HTML object>"
      ]
     },
     "metadata": {},
     "output_type": "display_data"
    },
    {
     "data": {
      "application/vnd.jupyter.widget-view+json": {
       "model_id": "ef10f393bcb14cebaa9d7c60a0a6953f",
       "version_major": 2,
       "version_minor": 0
      },
      "text/plain": [
       "VBox(children=(Label(value='0.021 MB of 0.021 MB uploaded\\r'), FloatProgress(value=1.0, max=1.0)))"
      ]
     },
     "metadata": {},
     "output_type": "display_data"
    },
    {
     "data": {
      "text/html": [
       "<style>\n",
       "    table.wandb td:nth-child(1) { padding: 0 10px; text-align: left ; width: auto;} td:nth-child(2) {text-align: left ; width: 100%}\n",
       "    .wandb-row { display: flex; flex-direction: row; flex-wrap: wrap; justify-content: flex-start; width: 100% }\n",
       "    .wandb-col { display: flex; flex-direction: column; flex-basis: 100%; flex: 1; padding: 10px; }\n",
       "    </style>\n",
       "<div class=\"wandb-row\"><div class=\"wandb-col\"><h3>Run history:</h3><br/><table class=\"wandb\"><tr><td>CV_RMSE</td><td>▁</td></tr><tr><td>CV_RMSE_'Kalmar</td><td>▁</td></tr><tr><td>CV_RMSE_Blekinge</td><td>▁</td></tr><tr><td>RMSE</td><td>▁</td></tr><tr><td>RMSE_Blekinge</td><td>▁</td></tr><tr><td>RMSE_Kalmar</td><td>▁</td></tr></table><br/></div><div class=\"wandb-col\"><h3>Run summary:</h3><br/><table class=\"wandb\"><tr><td>CV_RMSE</td><td>306.76838</td></tr><tr><td>CV_RMSE_'Kalmar</td><td>144.94104</td></tr><tr><td>CV_RMSE_Blekinge</td><td>161.82734</td></tr><tr><td>RMSE</td><td>22.24149</td></tr><tr><td>RMSE_Blekinge</td><td>7.26425</td></tr><tr><td>RMSE_Kalmar</td><td>14.97724</td></tr></table><br/></div></div>"
      ],
      "text/plain": [
       "<IPython.core.display.HTML object>"
      ]
     },
     "metadata": {},
     "output_type": "display_data"
    },
    {
     "data": {
      "text/html": [
       " View run <strong style=\"color:#cdcd00\">robust-sweep-56</strong> at: <a href='https://wandb.ai/danish2562022/sweeps-SEIR_kalmar_bleking/runs/58z93hpj' target=\"_blank\">https://wandb.ai/danish2562022/sweeps-SEIR_kalmar_bleking/runs/58z93hpj</a><br/> View project at: <a href='https://wandb.ai/danish2562022/sweeps-SEIR_kalmar_bleking' target=\"_blank\">https://wandb.ai/danish2562022/sweeps-SEIR_kalmar_bleking</a><br/>Synced 5 W&B file(s), 0 media file(s), 0 artifact file(s) and 0 other file(s)"
      ],
      "text/plain": [
       "<IPython.core.display.HTML object>"
      ]
     },
     "metadata": {},
     "output_type": "display_data"
    },
    {
     "data": {
      "text/html": [
       "Find logs at: <code>./wandb/run-20250528_185519-58z93hpj/logs</code>"
      ],
      "text/plain": [
       "<IPython.core.display.HTML object>"
      ]
     },
     "metadata": {},
     "output_type": "display_data"
    },
    {
     "data": {
      "text/html": [
       "The new W&B backend becomes opt-out in version 0.18.0; try it out with `wandb.require(\"core\")`! See https://wandb.me/wandb-core for more information."
      ],
      "text/plain": [
       "<IPython.core.display.HTML object>"
      ]
     },
     "metadata": {},
     "output_type": "display_data"
    },
    {
     "name": "stderr",
     "output_type": "stream",
     "text": [
      "\u001b[34m\u001b[1mwandb\u001b[0m: Sweep Agent: Waiting for job.\n",
      "\u001b[34m\u001b[1mwandb\u001b[0m: Job received.\n",
      "\u001b[34m\u001b[1mwandb\u001b[0m: Agent Starting Run: sr00rzsu with config:\n",
      "\u001b[34m\u001b[1mwandb\u001b[0m: \tah0: 2.1059855498084534\n",
      "\u001b[34m\u001b[1mwandb\u001b[0m: \tah1: 1.2640025751295565\n",
      "\u001b[34m\u001b[1mwandb\u001b[0m: \tbh0: 8.401537360879265\n",
      "\u001b[34m\u001b[1mwandb\u001b[0m: \tbh1: 5.955848817102022\n",
      "\u001b[34m\u001b[1mwandb\u001b[0m: \tc: 0.041982591913214184\n"
     ]
    },
    {
     "data": {
      "text/html": [
       "wandb version 0.19.11 is available!  To upgrade, please run:\n",
       " $ pip install wandb --upgrade"
      ],
      "text/plain": [
       "<IPython.core.display.HTML object>"
      ]
     },
     "metadata": {},
     "output_type": "display_data"
    },
    {
     "data": {
      "text/html": [
       "Tracking run with wandb version 0.17.4"
      ],
      "text/plain": [
       "<IPython.core.display.HTML object>"
      ]
     },
     "metadata": {},
     "output_type": "display_data"
    },
    {
     "data": {
      "text/html": [
       "Run data is saved locally in <code>/12tb_dsk3/SEIR_model/src/wandb/run-20250528_185536-sr00rzsu</code>"
      ],
      "text/plain": [
       "<IPython.core.display.HTML object>"
      ]
     },
     "metadata": {},
     "output_type": "display_data"
    },
    {
     "data": {
      "text/html": [
       "Syncing run <strong><a href='https://wandb.ai/danish2562022/sweeps-SEIR_kalmar_bleking/runs/sr00rzsu' target=\"_blank\">logical-sweep-57</a></strong> to <a href='https://wandb.ai/danish2562022/sweeps-SEIR_kalmar_bleking' target=\"_blank\">Weights & Biases</a> (<a href='https://wandb.me/run' target=\"_blank\">docs</a>)<br/>Sweep page: <a href='https://wandb.ai/danish2562022/sweeps-SEIR_kalmar_bleking/sweeps/za0efz19' target=\"_blank\">https://wandb.ai/danish2562022/sweeps-SEIR_kalmar_bleking/sweeps/za0efz19</a>"
      ],
      "text/plain": [
       "<IPython.core.display.HTML object>"
      ]
     },
     "metadata": {},
     "output_type": "display_data"
    },
    {
     "data": {
      "text/html": [
       " View project at <a href='https://wandb.ai/danish2562022/sweeps-SEIR_kalmar_bleking' target=\"_blank\">https://wandb.ai/danish2562022/sweeps-SEIR_kalmar_bleking</a>"
      ],
      "text/plain": [
       "<IPython.core.display.HTML object>"
      ]
     },
     "metadata": {},
     "output_type": "display_data"
    },
    {
     "data": {
      "text/html": [
       " View sweep at <a href='https://wandb.ai/danish2562022/sweeps-SEIR_kalmar_bleking/sweeps/za0efz19' target=\"_blank\">https://wandb.ai/danish2562022/sweeps-SEIR_kalmar_bleking/sweeps/za0efz19</a>"
      ],
      "text/plain": [
       "<IPython.core.display.HTML object>"
      ]
     },
     "metadata": {},
     "output_type": "display_data"
    },
    {
     "data": {
      "text/html": [
       " View run at <a href='https://wandb.ai/danish2562022/sweeps-SEIR_kalmar_bleking/runs/sr00rzsu' target=\"_blank\">https://wandb.ai/danish2562022/sweeps-SEIR_kalmar_bleking/runs/sr00rzsu</a>"
      ],
      "text/plain": [
       "<IPython.core.display.HTML object>"
      ]
     },
     "metadata": {},
     "output_type": "display_data"
    },
    {
     "data": {
      "application/vnd.jupyter.widget-view+json": {
       "model_id": "a4934d541d9d487ebfa06c5db58dbd85",
       "version_major": 2,
       "version_minor": 0
      },
      "text/plain": [
       "VBox(children=(Label(value='0.021 MB of 0.021 MB uploaded\\r'), FloatProgress(value=1.0, max=1.0)))"
      ]
     },
     "metadata": {},
     "output_type": "display_data"
    },
    {
     "data": {
      "text/html": [
       "<style>\n",
       "    table.wandb td:nth-child(1) { padding: 0 10px; text-align: left ; width: auto;} td:nth-child(2) {text-align: left ; width: 100%}\n",
       "    .wandb-row { display: flex; flex-direction: row; flex-wrap: wrap; justify-content: flex-start; width: 100% }\n",
       "    .wandb-col { display: flex; flex-direction: column; flex-basis: 100%; flex: 1; padding: 10px; }\n",
       "    </style>\n",
       "<div class=\"wandb-row\"><div class=\"wandb-col\"><h3>Run history:</h3><br/><table class=\"wandb\"><tr><td>CV_RMSE</td><td>▁</td></tr><tr><td>CV_RMSE_'Kalmar</td><td>▁</td></tr><tr><td>CV_RMSE_Blekinge</td><td>▁</td></tr><tr><td>RMSE</td><td>▁</td></tr><tr><td>RMSE_Blekinge</td><td>▁</td></tr><tr><td>RMSE_Kalmar</td><td>▁</td></tr></table><br/></div><div class=\"wandb-col\"><h3>Run summary:</h3><br/><table class=\"wandb\"><tr><td>CV_RMSE</td><td>345.39502</td></tr><tr><td>CV_RMSE_'Kalmar</td><td>188.07429</td></tr><tr><td>CV_RMSE_Blekinge</td><td>157.32073</td></tr><tr><td>RMSE</td><td>26.4963</td></tr><tr><td>RMSE_Blekinge</td><td>7.06195</td></tr><tr><td>RMSE_Kalmar</td><td>19.43434</td></tr></table><br/></div></div>"
      ],
      "text/plain": [
       "<IPython.core.display.HTML object>"
      ]
     },
     "metadata": {},
     "output_type": "display_data"
    },
    {
     "data": {
      "text/html": [
       " View run <strong style=\"color:#cdcd00\">logical-sweep-57</strong> at: <a href='https://wandb.ai/danish2562022/sweeps-SEIR_kalmar_bleking/runs/sr00rzsu' target=\"_blank\">https://wandb.ai/danish2562022/sweeps-SEIR_kalmar_bleking/runs/sr00rzsu</a><br/> View project at: <a href='https://wandb.ai/danish2562022/sweeps-SEIR_kalmar_bleking' target=\"_blank\">https://wandb.ai/danish2562022/sweeps-SEIR_kalmar_bleking</a><br/>Synced 5 W&B file(s), 0 media file(s), 0 artifact file(s) and 0 other file(s)"
      ],
      "text/plain": [
       "<IPython.core.display.HTML object>"
      ]
     },
     "metadata": {},
     "output_type": "display_data"
    },
    {
     "data": {
      "text/html": [
       "Find logs at: <code>./wandb/run-20250528_185536-sr00rzsu/logs</code>"
      ],
      "text/plain": [
       "<IPython.core.display.HTML object>"
      ]
     },
     "metadata": {},
     "output_type": "display_data"
    },
    {
     "data": {
      "text/html": [
       "The new W&B backend becomes opt-out in version 0.18.0; try it out with `wandb.require(\"core\")`! See https://wandb.me/wandb-core for more information."
      ],
      "text/plain": [
       "<IPython.core.display.HTML object>"
      ]
     },
     "metadata": {},
     "output_type": "display_data"
    },
    {
     "name": "stderr",
     "output_type": "stream",
     "text": [
      "\u001b[34m\u001b[1mwandb\u001b[0m: Agent Starting Run: a1epvceb with config:\n",
      "\u001b[34m\u001b[1mwandb\u001b[0m: \tah0: 0.9461768036885424\n",
      "\u001b[34m\u001b[1mwandb\u001b[0m: \tah1: 2.814918068999863\n",
      "\u001b[34m\u001b[1mwandb\u001b[0m: \tbh0: 6.065758974688581\n",
      "\u001b[34m\u001b[1mwandb\u001b[0m: \tbh1: 4.023276805600142\n",
      "\u001b[34m\u001b[1mwandb\u001b[0m: \tc: 0.7126965768276302\n"
     ]
    },
    {
     "data": {
      "text/html": [
       "wandb version 0.19.11 is available!  To upgrade, please run:\n",
       " $ pip install wandb --upgrade"
      ],
      "text/plain": [
       "<IPython.core.display.HTML object>"
      ]
     },
     "metadata": {},
     "output_type": "display_data"
    },
    {
     "data": {
      "text/html": [
       "Tracking run with wandb version 0.17.4"
      ],
      "text/plain": [
       "<IPython.core.display.HTML object>"
      ]
     },
     "metadata": {},
     "output_type": "display_data"
    },
    {
     "data": {
      "text/html": [
       "Run data is saved locally in <code>/12tb_dsk3/SEIR_model/src/wandb/run-20250528_185546-a1epvceb</code>"
      ],
      "text/plain": [
       "<IPython.core.display.HTML object>"
      ]
     },
     "metadata": {},
     "output_type": "display_data"
    },
    {
     "data": {
      "text/html": [
       "Syncing run <strong><a href='https://wandb.ai/danish2562022/sweeps-SEIR_kalmar_bleking/runs/a1epvceb' target=\"_blank\">smart-sweep-58</a></strong> to <a href='https://wandb.ai/danish2562022/sweeps-SEIR_kalmar_bleking' target=\"_blank\">Weights & Biases</a> (<a href='https://wandb.me/run' target=\"_blank\">docs</a>)<br/>Sweep page: <a href='https://wandb.ai/danish2562022/sweeps-SEIR_kalmar_bleking/sweeps/za0efz19' target=\"_blank\">https://wandb.ai/danish2562022/sweeps-SEIR_kalmar_bleking/sweeps/za0efz19</a>"
      ],
      "text/plain": [
       "<IPython.core.display.HTML object>"
      ]
     },
     "metadata": {},
     "output_type": "display_data"
    },
    {
     "data": {
      "text/html": [
       " View project at <a href='https://wandb.ai/danish2562022/sweeps-SEIR_kalmar_bleking' target=\"_blank\">https://wandb.ai/danish2562022/sweeps-SEIR_kalmar_bleking</a>"
      ],
      "text/plain": [
       "<IPython.core.display.HTML object>"
      ]
     },
     "metadata": {},
     "output_type": "display_data"
    },
    {
     "data": {
      "text/html": [
       " View sweep at <a href='https://wandb.ai/danish2562022/sweeps-SEIR_kalmar_bleking/sweeps/za0efz19' target=\"_blank\">https://wandb.ai/danish2562022/sweeps-SEIR_kalmar_bleking/sweeps/za0efz19</a>"
      ],
      "text/plain": [
       "<IPython.core.display.HTML object>"
      ]
     },
     "metadata": {},
     "output_type": "display_data"
    },
    {
     "data": {
      "text/html": [
       " View run at <a href='https://wandb.ai/danish2562022/sweeps-SEIR_kalmar_bleking/runs/a1epvceb' target=\"_blank\">https://wandb.ai/danish2562022/sweeps-SEIR_kalmar_bleking/runs/a1epvceb</a>"
      ],
      "text/plain": [
       "<IPython.core.display.HTML object>"
      ]
     },
     "metadata": {},
     "output_type": "display_data"
    },
    {
     "data": {
      "application/vnd.jupyter.widget-view+json": {
       "model_id": "d7fe124dd62f4021bb46f3a3fa19bb68",
       "version_major": 2,
       "version_minor": 0
      },
      "text/plain": [
       "VBox(children=(Label(value='0.021 MB of 0.021 MB uploaded\\r'), FloatProgress(value=1.0, max=1.0)))"
      ]
     },
     "metadata": {},
     "output_type": "display_data"
    },
    {
     "data": {
      "text/html": [
       "<style>\n",
       "    table.wandb td:nth-child(1) { padding: 0 10px; text-align: left ; width: auto;} td:nth-child(2) {text-align: left ; width: 100%}\n",
       "    .wandb-row { display: flex; flex-direction: row; flex-wrap: wrap; justify-content: flex-start; width: 100% }\n",
       "    .wandb-col { display: flex; flex-direction: column; flex-basis: 100%; flex: 1; padding: 10px; }\n",
       "    </style>\n",
       "<div class=\"wandb-row\"><div class=\"wandb-col\"><h3>Run history:</h3><br/><table class=\"wandb\"><tr><td>CV_RMSE</td><td>▁</td></tr><tr><td>CV_RMSE_'Kalmar</td><td>▁</td></tr><tr><td>CV_RMSE_Blekinge</td><td>▁</td></tr><tr><td>RMSE</td><td>▁</td></tr><tr><td>RMSE_Blekinge</td><td>▁</td></tr><tr><td>RMSE_Kalmar</td><td>▁</td></tr></table><br/></div><div class=\"wandb-col\"><h3>Run summary:</h3><br/><table class=\"wandb\"><tr><td>CV_RMSE</td><td>2701.04724</td></tr><tr><td>CV_RMSE_'Kalmar</td><td>874.00028</td></tr><tr><td>CV_RMSE_Blekinge</td><td>1827.04696</td></tr><tr><td>RMSE</td><td>172.32747</td></tr><tr><td>RMSE_Blekinge</td><td>82.01411</td></tr><tr><td>RMSE_Kalmar</td><td>90.31336</td></tr></table><br/></div></div>"
      ],
      "text/plain": [
       "<IPython.core.display.HTML object>"
      ]
     },
     "metadata": {},
     "output_type": "display_data"
    },
    {
     "data": {
      "text/html": [
       " View run <strong style=\"color:#cdcd00\">smart-sweep-58</strong> at: <a href='https://wandb.ai/danish2562022/sweeps-SEIR_kalmar_bleking/runs/a1epvceb' target=\"_blank\">https://wandb.ai/danish2562022/sweeps-SEIR_kalmar_bleking/runs/a1epvceb</a><br/> View project at: <a href='https://wandb.ai/danish2562022/sweeps-SEIR_kalmar_bleking' target=\"_blank\">https://wandb.ai/danish2562022/sweeps-SEIR_kalmar_bleking</a><br/>Synced 5 W&B file(s), 0 media file(s), 0 artifact file(s) and 0 other file(s)"
      ],
      "text/plain": [
       "<IPython.core.display.HTML object>"
      ]
     },
     "metadata": {},
     "output_type": "display_data"
    },
    {
     "data": {
      "text/html": [
       "Find logs at: <code>./wandb/run-20250528_185546-a1epvceb/logs</code>"
      ],
      "text/plain": [
       "<IPython.core.display.HTML object>"
      ]
     },
     "metadata": {},
     "output_type": "display_data"
    },
    {
     "data": {
      "text/html": [
       "The new W&B backend becomes opt-out in version 0.18.0; try it out with `wandb.require(\"core\")`! See https://wandb.me/wandb-core for more information."
      ],
      "text/plain": [
       "<IPython.core.display.HTML object>"
      ]
     },
     "metadata": {},
     "output_type": "display_data"
    },
    {
     "name": "stderr",
     "output_type": "stream",
     "text": [
      "\u001b[34m\u001b[1mwandb\u001b[0m: Agent Starting Run: zraxssas with config:\n",
      "\u001b[34m\u001b[1mwandb\u001b[0m: \tah0: 0.4122274709838056\n",
      "\u001b[34m\u001b[1mwandb\u001b[0m: \tah1: 0.03711888525040641\n",
      "\u001b[34m\u001b[1mwandb\u001b[0m: \tbh0: 7.504214131069751\n",
      "\u001b[34m\u001b[1mwandb\u001b[0m: \tbh1: 1.341950920551972\n",
      "\u001b[34m\u001b[1mwandb\u001b[0m: \tc: 0.21157020708532848\n"
     ]
    },
    {
     "data": {
      "text/html": [
       "wandb version 0.19.11 is available!  To upgrade, please run:\n",
       " $ pip install wandb --upgrade"
      ],
      "text/plain": [
       "<IPython.core.display.HTML object>"
      ]
     },
     "metadata": {},
     "output_type": "display_data"
    },
    {
     "data": {
      "text/html": [
       "Tracking run with wandb version 0.17.4"
      ],
      "text/plain": [
       "<IPython.core.display.HTML object>"
      ]
     },
     "metadata": {},
     "output_type": "display_data"
    },
    {
     "data": {
      "text/html": [
       "Run data is saved locally in <code>/12tb_dsk3/SEIR_model/src/wandb/run-20250528_185556-zraxssas</code>"
      ],
      "text/plain": [
       "<IPython.core.display.HTML object>"
      ]
     },
     "metadata": {},
     "output_type": "display_data"
    },
    {
     "data": {
      "text/html": [
       "Syncing run <strong><a href='https://wandb.ai/danish2562022/sweeps-SEIR_kalmar_bleking/runs/zraxssas' target=\"_blank\">leafy-sweep-59</a></strong> to <a href='https://wandb.ai/danish2562022/sweeps-SEIR_kalmar_bleking' target=\"_blank\">Weights & Biases</a> (<a href='https://wandb.me/run' target=\"_blank\">docs</a>)<br/>Sweep page: <a href='https://wandb.ai/danish2562022/sweeps-SEIR_kalmar_bleking/sweeps/za0efz19' target=\"_blank\">https://wandb.ai/danish2562022/sweeps-SEIR_kalmar_bleking/sweeps/za0efz19</a>"
      ],
      "text/plain": [
       "<IPython.core.display.HTML object>"
      ]
     },
     "metadata": {},
     "output_type": "display_data"
    },
    {
     "data": {
      "text/html": [
       " View project at <a href='https://wandb.ai/danish2562022/sweeps-SEIR_kalmar_bleking' target=\"_blank\">https://wandb.ai/danish2562022/sweeps-SEIR_kalmar_bleking</a>"
      ],
      "text/plain": [
       "<IPython.core.display.HTML object>"
      ]
     },
     "metadata": {},
     "output_type": "display_data"
    },
    {
     "data": {
      "text/html": [
       " View sweep at <a href='https://wandb.ai/danish2562022/sweeps-SEIR_kalmar_bleking/sweeps/za0efz19' target=\"_blank\">https://wandb.ai/danish2562022/sweeps-SEIR_kalmar_bleking/sweeps/za0efz19</a>"
      ],
      "text/plain": [
       "<IPython.core.display.HTML object>"
      ]
     },
     "metadata": {},
     "output_type": "display_data"
    },
    {
     "data": {
      "text/html": [
       " View run at <a href='https://wandb.ai/danish2562022/sweeps-SEIR_kalmar_bleking/runs/zraxssas' target=\"_blank\">https://wandb.ai/danish2562022/sweeps-SEIR_kalmar_bleking/runs/zraxssas</a>"
      ],
      "text/plain": [
       "<IPython.core.display.HTML object>"
      ]
     },
     "metadata": {},
     "output_type": "display_data"
    },
    {
     "data": {
      "application/vnd.jupyter.widget-view+json": {
       "model_id": "766e45374a5f42848241e027c22c7972",
       "version_major": 2,
       "version_minor": 0
      },
      "text/plain": [
       "VBox(children=(Label(value='0.021 MB of 0.021 MB uploaded\\r'), FloatProgress(value=1.0, max=1.0)))"
      ]
     },
     "metadata": {},
     "output_type": "display_data"
    },
    {
     "data": {
      "text/html": [
       "<style>\n",
       "    table.wandb td:nth-child(1) { padding: 0 10px; text-align: left ; width: auto;} td:nth-child(2) {text-align: left ; width: 100%}\n",
       "    .wandb-row { display: flex; flex-direction: row; flex-wrap: wrap; justify-content: flex-start; width: 100% }\n",
       "    .wandb-col { display: flex; flex-direction: column; flex-basis: 100%; flex: 1; padding: 10px; }\n",
       "    </style>\n",
       "<div class=\"wandb-row\"><div class=\"wandb-col\"><h3>Run history:</h3><br/><table class=\"wandb\"><tr><td>CV_RMSE</td><td>▁</td></tr><tr><td>CV_RMSE_'Kalmar</td><td>▁</td></tr><tr><td>CV_RMSE_Blekinge</td><td>▁</td></tr><tr><td>RMSE</td><td>▁</td></tr><tr><td>RMSE_Blekinge</td><td>▁</td></tr><tr><td>RMSE_Kalmar</td><td>▁</td></tr></table><br/></div><div class=\"wandb-col\"><h3>Run summary:</h3><br/><table class=\"wandb\"><tr><td>CV_RMSE</td><td>306.97204</td></tr><tr><td>CV_RMSE_'Kalmar</td><td>145.03199</td></tr><tr><td>CV_RMSE_Blekinge</td><td>161.94004</td></tr><tr><td>RMSE</td><td>22.25595</td></tr><tr><td>RMSE_Blekinge</td><td>7.26931</td></tr><tr><td>RMSE_Kalmar</td><td>14.98664</td></tr></table><br/></div></div>"
      ],
      "text/plain": [
       "<IPython.core.display.HTML object>"
      ]
     },
     "metadata": {},
     "output_type": "display_data"
    },
    {
     "data": {
      "text/html": [
       " View run <strong style=\"color:#cdcd00\">leafy-sweep-59</strong> at: <a href='https://wandb.ai/danish2562022/sweeps-SEIR_kalmar_bleking/runs/zraxssas' target=\"_blank\">https://wandb.ai/danish2562022/sweeps-SEIR_kalmar_bleking/runs/zraxssas</a><br/> View project at: <a href='https://wandb.ai/danish2562022/sweeps-SEIR_kalmar_bleking' target=\"_blank\">https://wandb.ai/danish2562022/sweeps-SEIR_kalmar_bleking</a><br/>Synced 5 W&B file(s), 0 media file(s), 0 artifact file(s) and 0 other file(s)"
      ],
      "text/plain": [
       "<IPython.core.display.HTML object>"
      ]
     },
     "metadata": {},
     "output_type": "display_data"
    },
    {
     "data": {
      "text/html": [
       "Find logs at: <code>./wandb/run-20250528_185556-zraxssas/logs</code>"
      ],
      "text/plain": [
       "<IPython.core.display.HTML object>"
      ]
     },
     "metadata": {},
     "output_type": "display_data"
    },
    {
     "data": {
      "text/html": [
       "The new W&B backend becomes opt-out in version 0.18.0; try it out with `wandb.require(\"core\")`! See https://wandb.me/wandb-core for more information."
      ],
      "text/plain": [
       "<IPython.core.display.HTML object>"
      ]
     },
     "metadata": {},
     "output_type": "display_data"
    },
    {
     "name": "stderr",
     "output_type": "stream",
     "text": [
      "\u001b[34m\u001b[1mwandb\u001b[0m: Agent Starting Run: 6quy6sff with config:\n",
      "\u001b[34m\u001b[1mwandb\u001b[0m: \tah0: 2.7393876850609873\n",
      "\u001b[34m\u001b[1mwandb\u001b[0m: \tah1: 1.3210398536105448\n",
      "\u001b[34m\u001b[1mwandb\u001b[0m: \tbh0: 4.594021749679751\n",
      "\u001b[34m\u001b[1mwandb\u001b[0m: \tbh1: 6.367468012356605\n",
      "\u001b[34m\u001b[1mwandb\u001b[0m: \tc: 0.3509412825391013\n"
     ]
    },
    {
     "data": {
      "text/html": [
       "wandb version 0.19.11 is available!  To upgrade, please run:\n",
       " $ pip install wandb --upgrade"
      ],
      "text/plain": [
       "<IPython.core.display.HTML object>"
      ]
     },
     "metadata": {},
     "output_type": "display_data"
    },
    {
     "data": {
      "text/html": [
       "Tracking run with wandb version 0.17.4"
      ],
      "text/plain": [
       "<IPython.core.display.HTML object>"
      ]
     },
     "metadata": {},
     "output_type": "display_data"
    },
    {
     "data": {
      "text/html": [
       "Run data is saved locally in <code>/12tb_dsk3/SEIR_model/src/wandb/run-20250528_185607-6quy6sff</code>"
      ],
      "text/plain": [
       "<IPython.core.display.HTML object>"
      ]
     },
     "metadata": {},
     "output_type": "display_data"
    },
    {
     "data": {
      "text/html": [
       "Syncing run <strong><a href='https://wandb.ai/danish2562022/sweeps-SEIR_kalmar_bleking/runs/6quy6sff' target=\"_blank\">crimson-sweep-60</a></strong> to <a href='https://wandb.ai/danish2562022/sweeps-SEIR_kalmar_bleking' target=\"_blank\">Weights & Biases</a> (<a href='https://wandb.me/run' target=\"_blank\">docs</a>)<br/>Sweep page: <a href='https://wandb.ai/danish2562022/sweeps-SEIR_kalmar_bleking/sweeps/za0efz19' target=\"_blank\">https://wandb.ai/danish2562022/sweeps-SEIR_kalmar_bleking/sweeps/za0efz19</a>"
      ],
      "text/plain": [
       "<IPython.core.display.HTML object>"
      ]
     },
     "metadata": {},
     "output_type": "display_data"
    },
    {
     "data": {
      "text/html": [
       " View project at <a href='https://wandb.ai/danish2562022/sweeps-SEIR_kalmar_bleking' target=\"_blank\">https://wandb.ai/danish2562022/sweeps-SEIR_kalmar_bleking</a>"
      ],
      "text/plain": [
       "<IPython.core.display.HTML object>"
      ]
     },
     "metadata": {},
     "output_type": "display_data"
    },
    {
     "data": {
      "text/html": [
       " View sweep at <a href='https://wandb.ai/danish2562022/sweeps-SEIR_kalmar_bleking/sweeps/za0efz19' target=\"_blank\">https://wandb.ai/danish2562022/sweeps-SEIR_kalmar_bleking/sweeps/za0efz19</a>"
      ],
      "text/plain": [
       "<IPython.core.display.HTML object>"
      ]
     },
     "metadata": {},
     "output_type": "display_data"
    },
    {
     "data": {
      "text/html": [
       " View run at <a href='https://wandb.ai/danish2562022/sweeps-SEIR_kalmar_bleking/runs/6quy6sff' target=\"_blank\">https://wandb.ai/danish2562022/sweeps-SEIR_kalmar_bleking/runs/6quy6sff</a>"
      ],
      "text/plain": [
       "<IPython.core.display.HTML object>"
      ]
     },
     "metadata": {},
     "output_type": "display_data"
    },
    {
     "data": {
      "application/vnd.jupyter.widget-view+json": {
       "model_id": "06d536070f22461c8090f9893afcf321",
       "version_major": 2,
       "version_minor": 0
      },
      "text/plain": [
       "VBox(children=(Label(value='0.021 MB of 0.021 MB uploaded\\r'), FloatProgress(value=1.0, max=1.0)))"
      ]
     },
     "metadata": {},
     "output_type": "display_data"
    },
    {
     "data": {
      "text/html": [
       "<style>\n",
       "    table.wandb td:nth-child(1) { padding: 0 10px; text-align: left ; width: auto;} td:nth-child(2) {text-align: left ; width: 100%}\n",
       "    .wandb-row { display: flex; flex-direction: row; flex-wrap: wrap; justify-content: flex-start; width: 100% }\n",
       "    .wandb-col { display: flex; flex-direction: column; flex-basis: 100%; flex: 1; padding: 10px; }\n",
       "    </style>\n",
       "<div class=\"wandb-row\"><div class=\"wandb-col\"><h3>Run history:</h3><br/><table class=\"wandb\"><tr><td>CV_RMSE</td><td>▁</td></tr><tr><td>CV_RMSE_'Kalmar</td><td>▁</td></tr><tr><td>CV_RMSE_Blekinge</td><td>▁</td></tr><tr><td>RMSE</td><td>▁</td></tr><tr><td>RMSE_Blekinge</td><td>▁</td></tr><tr><td>RMSE_Kalmar</td><td>▁</td></tr></table><br/></div><div class=\"wandb-col\"><h3>Run summary:</h3><br/><table class=\"wandb\"><tr><td>CV_RMSE</td><td>3805.67473</td></tr><tr><td>CV_RMSE_'Kalmar</td><td>1492.23483</td></tr><tr><td>CV_RMSE_Blekinge</td><td>2313.43989</td></tr><tr><td>RMSE</td><td>258.04535</td></tr><tr><td>RMSE_Blekinge</td><td>103.84775</td></tr><tr><td>RMSE_Kalmar</td><td>154.1976</td></tr></table><br/></div></div>"
      ],
      "text/plain": [
       "<IPython.core.display.HTML object>"
      ]
     },
     "metadata": {},
     "output_type": "display_data"
    },
    {
     "data": {
      "text/html": [
       " View run <strong style=\"color:#cdcd00\">crimson-sweep-60</strong> at: <a href='https://wandb.ai/danish2562022/sweeps-SEIR_kalmar_bleking/runs/6quy6sff' target=\"_blank\">https://wandb.ai/danish2562022/sweeps-SEIR_kalmar_bleking/runs/6quy6sff</a><br/> View project at: <a href='https://wandb.ai/danish2562022/sweeps-SEIR_kalmar_bleking' target=\"_blank\">https://wandb.ai/danish2562022/sweeps-SEIR_kalmar_bleking</a><br/>Synced 5 W&B file(s), 0 media file(s), 0 artifact file(s) and 0 other file(s)"
      ],
      "text/plain": [
       "<IPython.core.display.HTML object>"
      ]
     },
     "metadata": {},
     "output_type": "display_data"
    },
    {
     "data": {
      "text/html": [
       "Find logs at: <code>./wandb/run-20250528_185607-6quy6sff/logs</code>"
      ],
      "text/plain": [
       "<IPython.core.display.HTML object>"
      ]
     },
     "metadata": {},
     "output_type": "display_data"
    },
    {
     "data": {
      "text/html": [
       "The new W&B backend becomes opt-out in version 0.18.0; try it out with `wandb.require(\"core\")`! See https://wandb.me/wandb-core for more information."
      ],
      "text/plain": [
       "<IPython.core.display.HTML object>"
      ]
     },
     "metadata": {},
     "output_type": "display_data"
    },
    {
     "name": "stderr",
     "output_type": "stream",
     "text": [
      "\u001b[34m\u001b[1mwandb\u001b[0m: Sweep Agent: Waiting for job.\n",
      "\u001b[34m\u001b[1mwandb\u001b[0m: Job received.\n",
      "\u001b[34m\u001b[1mwandb\u001b[0m: Agent Starting Run: sus8bdsa with config:\n",
      "\u001b[34m\u001b[1mwandb\u001b[0m: \tah0: 0.23966174227650172\n",
      "\u001b[34m\u001b[1mwandb\u001b[0m: \tah1: 0.3574224083442198\n",
      "\u001b[34m\u001b[1mwandb\u001b[0m: \tbh0: 1.8784364391647668\n",
      "\u001b[34m\u001b[1mwandb\u001b[0m: \tbh1: 2.5590187907397075\n",
      "\u001b[34m\u001b[1mwandb\u001b[0m: \tc: 0.8550644536781514\n"
     ]
    },
    {
     "data": {
      "text/html": [
       "wandb version 0.19.11 is available!  To upgrade, please run:\n",
       " $ pip install wandb --upgrade"
      ],
      "text/plain": [
       "<IPython.core.display.HTML object>"
      ]
     },
     "metadata": {},
     "output_type": "display_data"
    },
    {
     "data": {
      "text/html": [
       "Tracking run with wandb version 0.17.4"
      ],
      "text/plain": [
       "<IPython.core.display.HTML object>"
      ]
     },
     "metadata": {},
     "output_type": "display_data"
    },
    {
     "data": {
      "text/html": [
       "Run data is saved locally in <code>/12tb_dsk3/SEIR_model/src/wandb/run-20250528_185623-sus8bdsa</code>"
      ],
      "text/plain": [
       "<IPython.core.display.HTML object>"
      ]
     },
     "metadata": {},
     "output_type": "display_data"
    },
    {
     "data": {
      "text/html": [
       "Syncing run <strong><a href='https://wandb.ai/danish2562022/sweeps-SEIR_kalmar_bleking/runs/sus8bdsa' target=\"_blank\">dauntless-sweep-61</a></strong> to <a href='https://wandb.ai/danish2562022/sweeps-SEIR_kalmar_bleking' target=\"_blank\">Weights & Biases</a> (<a href='https://wandb.me/run' target=\"_blank\">docs</a>)<br/>Sweep page: <a href='https://wandb.ai/danish2562022/sweeps-SEIR_kalmar_bleking/sweeps/za0efz19' target=\"_blank\">https://wandb.ai/danish2562022/sweeps-SEIR_kalmar_bleking/sweeps/za0efz19</a>"
      ],
      "text/plain": [
       "<IPython.core.display.HTML object>"
      ]
     },
     "metadata": {},
     "output_type": "display_data"
    },
    {
     "data": {
      "text/html": [
       " View project at <a href='https://wandb.ai/danish2562022/sweeps-SEIR_kalmar_bleking' target=\"_blank\">https://wandb.ai/danish2562022/sweeps-SEIR_kalmar_bleking</a>"
      ],
      "text/plain": [
       "<IPython.core.display.HTML object>"
      ]
     },
     "metadata": {},
     "output_type": "display_data"
    },
    {
     "data": {
      "text/html": [
       " View sweep at <a href='https://wandb.ai/danish2562022/sweeps-SEIR_kalmar_bleking/sweeps/za0efz19' target=\"_blank\">https://wandb.ai/danish2562022/sweeps-SEIR_kalmar_bleking/sweeps/za0efz19</a>"
      ],
      "text/plain": [
       "<IPython.core.display.HTML object>"
      ]
     },
     "metadata": {},
     "output_type": "display_data"
    },
    {
     "data": {
      "text/html": [
       " View run at <a href='https://wandb.ai/danish2562022/sweeps-SEIR_kalmar_bleking/runs/sus8bdsa' target=\"_blank\">https://wandb.ai/danish2562022/sweeps-SEIR_kalmar_bleking/runs/sus8bdsa</a>"
      ],
      "text/plain": [
       "<IPython.core.display.HTML object>"
      ]
     },
     "metadata": {},
     "output_type": "display_data"
    },
    {
     "data": {
      "application/vnd.jupyter.widget-view+json": {
       "model_id": "c0071033c310437aa43350beb2bed5b6",
       "version_major": 2,
       "version_minor": 0
      },
      "text/plain": [
       "VBox(children=(Label(value='0.021 MB of 0.021 MB uploaded\\r'), FloatProgress(value=1.0, max=1.0)))"
      ]
     },
     "metadata": {},
     "output_type": "display_data"
    },
    {
     "data": {
      "text/html": [
       "<style>\n",
       "    table.wandb td:nth-child(1) { padding: 0 10px; text-align: left ; width: auto;} td:nth-child(2) {text-align: left ; width: 100%}\n",
       "    .wandb-row { display: flex; flex-direction: row; flex-wrap: wrap; justify-content: flex-start; width: 100% }\n",
       "    .wandb-col { display: flex; flex-direction: column; flex-basis: 100%; flex: 1; padding: 10px; }\n",
       "    </style>\n",
       "<div class=\"wandb-row\"><div class=\"wandb-col\"><h3>Run history:</h3><br/><table class=\"wandb\"><tr><td>CV_RMSE</td><td>▁</td></tr><tr><td>CV_RMSE_'Kalmar</td><td>▁</td></tr><tr><td>CV_RMSE_Blekinge</td><td>▁</td></tr><tr><td>RMSE</td><td>▁</td></tr><tr><td>RMSE_Blekinge</td><td>▁</td></tr><tr><td>RMSE_Kalmar</td><td>▁</td></tr></table><br/></div><div class=\"wandb-col\"><h3>Run summary:</h3><br/><table class=\"wandb\"><tr><td>CV_RMSE</td><td>306.94955</td></tr><tr><td>CV_RMSE_'Kalmar</td><td>145.01966</td></tr><tr><td>CV_RMSE_Blekinge</td><td>161.92989</td></tr><tr><td>RMSE</td><td>22.25422</td></tr><tr><td>RMSE_Blekinge</td><td>7.26885</td></tr><tr><td>RMSE_Kalmar</td><td>14.98536</td></tr></table><br/></div></div>"
      ],
      "text/plain": [
       "<IPython.core.display.HTML object>"
      ]
     },
     "metadata": {},
     "output_type": "display_data"
    },
    {
     "data": {
      "text/html": [
       " View run <strong style=\"color:#cdcd00\">dauntless-sweep-61</strong> at: <a href='https://wandb.ai/danish2562022/sweeps-SEIR_kalmar_bleking/runs/sus8bdsa' target=\"_blank\">https://wandb.ai/danish2562022/sweeps-SEIR_kalmar_bleking/runs/sus8bdsa</a><br/> View project at: <a href='https://wandb.ai/danish2562022/sweeps-SEIR_kalmar_bleking' target=\"_blank\">https://wandb.ai/danish2562022/sweeps-SEIR_kalmar_bleking</a><br/>Synced 5 W&B file(s), 0 media file(s), 0 artifact file(s) and 0 other file(s)"
      ],
      "text/plain": [
       "<IPython.core.display.HTML object>"
      ]
     },
     "metadata": {},
     "output_type": "display_data"
    },
    {
     "data": {
      "text/html": [
       "Find logs at: <code>./wandb/run-20250528_185623-sus8bdsa/logs</code>"
      ],
      "text/plain": [
       "<IPython.core.display.HTML object>"
      ]
     },
     "metadata": {},
     "output_type": "display_data"
    },
    {
     "data": {
      "text/html": [
       "The new W&B backend becomes opt-out in version 0.18.0; try it out with `wandb.require(\"core\")`! See https://wandb.me/wandb-core for more information."
      ],
      "text/plain": [
       "<IPython.core.display.HTML object>"
      ]
     },
     "metadata": {},
     "output_type": "display_data"
    },
    {
     "name": "stderr",
     "output_type": "stream",
     "text": [
      "\u001b[34m\u001b[1mwandb\u001b[0m: Agent Starting Run: fa0xnh60 with config:\n",
      "\u001b[34m\u001b[1mwandb\u001b[0m: \tah0: 1.303468782873494\n",
      "\u001b[34m\u001b[1mwandb\u001b[0m: \tah1: 2.9921023769102524\n",
      "\u001b[34m\u001b[1mwandb\u001b[0m: \tbh0: 0.09457084008526628\n",
      "\u001b[34m\u001b[1mwandb\u001b[0m: \tbh1: 6.811752181518957\n",
      "\u001b[34m\u001b[1mwandb\u001b[0m: \tc: 0.9394412451701112\n"
     ]
    },
    {
     "data": {
      "text/html": [
       "wandb version 0.19.11 is available!  To upgrade, please run:\n",
       " $ pip install wandb --upgrade"
      ],
      "text/plain": [
       "<IPython.core.display.HTML object>"
      ]
     },
     "metadata": {},
     "output_type": "display_data"
    },
    {
     "data": {
      "text/html": [
       "Tracking run with wandb version 0.17.4"
      ],
      "text/plain": [
       "<IPython.core.display.HTML object>"
      ]
     },
     "metadata": {},
     "output_type": "display_data"
    },
    {
     "data": {
      "text/html": [
       "Run data is saved locally in <code>/12tb_dsk3/SEIR_model/src/wandb/run-20250528_185633-fa0xnh60</code>"
      ],
      "text/plain": [
       "<IPython.core.display.HTML object>"
      ]
     },
     "metadata": {},
     "output_type": "display_data"
    },
    {
     "data": {
      "text/html": [
       "Syncing run <strong><a href='https://wandb.ai/danish2562022/sweeps-SEIR_kalmar_bleking/runs/fa0xnh60' target=\"_blank\">generous-sweep-62</a></strong> to <a href='https://wandb.ai/danish2562022/sweeps-SEIR_kalmar_bleking' target=\"_blank\">Weights & Biases</a> (<a href='https://wandb.me/run' target=\"_blank\">docs</a>)<br/>Sweep page: <a href='https://wandb.ai/danish2562022/sweeps-SEIR_kalmar_bleking/sweeps/za0efz19' target=\"_blank\">https://wandb.ai/danish2562022/sweeps-SEIR_kalmar_bleking/sweeps/za0efz19</a>"
      ],
      "text/plain": [
       "<IPython.core.display.HTML object>"
      ]
     },
     "metadata": {},
     "output_type": "display_data"
    },
    {
     "data": {
      "text/html": [
       " View project at <a href='https://wandb.ai/danish2562022/sweeps-SEIR_kalmar_bleking' target=\"_blank\">https://wandb.ai/danish2562022/sweeps-SEIR_kalmar_bleking</a>"
      ],
      "text/plain": [
       "<IPython.core.display.HTML object>"
      ]
     },
     "metadata": {},
     "output_type": "display_data"
    },
    {
     "data": {
      "text/html": [
       " View sweep at <a href='https://wandb.ai/danish2562022/sweeps-SEIR_kalmar_bleking/sweeps/za0efz19' target=\"_blank\">https://wandb.ai/danish2562022/sweeps-SEIR_kalmar_bleking/sweeps/za0efz19</a>"
      ],
      "text/plain": [
       "<IPython.core.display.HTML object>"
      ]
     },
     "metadata": {},
     "output_type": "display_data"
    },
    {
     "data": {
      "text/html": [
       " View run at <a href='https://wandb.ai/danish2562022/sweeps-SEIR_kalmar_bleking/runs/fa0xnh60' target=\"_blank\">https://wandb.ai/danish2562022/sweeps-SEIR_kalmar_bleking/runs/fa0xnh60</a>"
      ],
      "text/plain": [
       "<IPython.core.display.HTML object>"
      ]
     },
     "metadata": {},
     "output_type": "display_data"
    },
    {
     "data": {
      "application/vnd.jupyter.widget-view+json": {
       "model_id": "31235c514ad64a42bb90504641b08c21",
       "version_major": 2,
       "version_minor": 0
      },
      "text/plain": [
       "VBox(children=(Label(value='0.021 MB of 0.021 MB uploaded\\r'), FloatProgress(value=1.0, max=1.0)))"
      ]
     },
     "metadata": {},
     "output_type": "display_data"
    },
    {
     "data": {
      "text/html": [
       "<style>\n",
       "    table.wandb td:nth-child(1) { padding: 0 10px; text-align: left ; width: auto;} td:nth-child(2) {text-align: left ; width: 100%}\n",
       "    .wandb-row { display: flex; flex-direction: row; flex-wrap: wrap; justify-content: flex-start; width: 100% }\n",
       "    .wandb-col { display: flex; flex-direction: column; flex-basis: 100%; flex: 1; padding: 10px; }\n",
       "    </style>\n",
       "<div class=\"wandb-row\"><div class=\"wandb-col\"><h3>Run history:</h3><br/><table class=\"wandb\"><tr><td>CV_RMSE</td><td>▁</td></tr><tr><td>CV_RMSE_'Kalmar</td><td>▁</td></tr><tr><td>CV_RMSE_Blekinge</td><td>▁</td></tr><tr><td>RMSE</td><td>▁</td></tr><tr><td>RMSE_Blekinge</td><td>▁</td></tr><tr><td>RMSE_Kalmar</td><td>▁</td></tr></table><br/></div><div class=\"wandb-col\"><h3>Run summary:</h3><br/><table class=\"wandb\"><tr><td>CV_RMSE</td><td>2836.70516</td></tr><tr><td>CV_RMSE_'Kalmar</td><td>1012.98234</td></tr><tr><td>CV_RMSE_Blekinge</td><td>1823.72282</td></tr><tr><td>RMSE</td><td>186.53973</td></tr><tr><td>RMSE_Blekinge</td><td>81.86489</td></tr><tr><td>RMSE_Kalmar</td><td>104.67484</td></tr></table><br/></div></div>"
      ],
      "text/plain": [
       "<IPython.core.display.HTML object>"
      ]
     },
     "metadata": {},
     "output_type": "display_data"
    },
    {
     "data": {
      "text/html": [
       " View run <strong style=\"color:#cdcd00\">generous-sweep-62</strong> at: <a href='https://wandb.ai/danish2562022/sweeps-SEIR_kalmar_bleking/runs/fa0xnh60' target=\"_blank\">https://wandb.ai/danish2562022/sweeps-SEIR_kalmar_bleking/runs/fa0xnh60</a><br/> View project at: <a href='https://wandb.ai/danish2562022/sweeps-SEIR_kalmar_bleking' target=\"_blank\">https://wandb.ai/danish2562022/sweeps-SEIR_kalmar_bleking</a><br/>Synced 5 W&B file(s), 0 media file(s), 0 artifact file(s) and 0 other file(s)"
      ],
      "text/plain": [
       "<IPython.core.display.HTML object>"
      ]
     },
     "metadata": {},
     "output_type": "display_data"
    },
    {
     "data": {
      "text/html": [
       "Find logs at: <code>./wandb/run-20250528_185633-fa0xnh60/logs</code>"
      ],
      "text/plain": [
       "<IPython.core.display.HTML object>"
      ]
     },
     "metadata": {},
     "output_type": "display_data"
    },
    {
     "data": {
      "text/html": [
       "The new W&B backend becomes opt-out in version 0.18.0; try it out with `wandb.require(\"core\")`! See https://wandb.me/wandb-core for more information."
      ],
      "text/plain": [
       "<IPython.core.display.HTML object>"
      ]
     },
     "metadata": {},
     "output_type": "display_data"
    },
    {
     "name": "stderr",
     "output_type": "stream",
     "text": [
      "\u001b[34m\u001b[1mwandb\u001b[0m: Agent Starting Run: 2awxbbyc with config:\n",
      "\u001b[34m\u001b[1mwandb\u001b[0m: \tah0: 0.13969597049189342\n",
      "\u001b[34m\u001b[1mwandb\u001b[0m: \tah1: 0.6327431837282492\n",
      "\u001b[34m\u001b[1mwandb\u001b[0m: \tbh0: 2.7320926011477775\n",
      "\u001b[34m\u001b[1mwandb\u001b[0m: \tbh1: 2.235260543084281\n",
      "\u001b[34m\u001b[1mwandb\u001b[0m: \tc: 0.8860599365601515\n"
     ]
    },
    {
     "data": {
      "text/html": [
       "wandb version 0.19.11 is available!  To upgrade, please run:\n",
       " $ pip install wandb --upgrade"
      ],
      "text/plain": [
       "<IPython.core.display.HTML object>"
      ]
     },
     "metadata": {},
     "output_type": "display_data"
    },
    {
     "data": {
      "text/html": [
       "Tracking run with wandb version 0.17.4"
      ],
      "text/plain": [
       "<IPython.core.display.HTML object>"
      ]
     },
     "metadata": {},
     "output_type": "display_data"
    },
    {
     "data": {
      "text/html": [
       "Run data is saved locally in <code>/12tb_dsk3/SEIR_model/src/wandb/run-20250528_185643-2awxbbyc</code>"
      ],
      "text/plain": [
       "<IPython.core.display.HTML object>"
      ]
     },
     "metadata": {},
     "output_type": "display_data"
    },
    {
     "data": {
      "text/html": [
       "Syncing run <strong><a href='https://wandb.ai/danish2562022/sweeps-SEIR_kalmar_bleking/runs/2awxbbyc' target=\"_blank\">earthy-sweep-63</a></strong> to <a href='https://wandb.ai/danish2562022/sweeps-SEIR_kalmar_bleking' target=\"_blank\">Weights & Biases</a> (<a href='https://wandb.me/run' target=\"_blank\">docs</a>)<br/>Sweep page: <a href='https://wandb.ai/danish2562022/sweeps-SEIR_kalmar_bleking/sweeps/za0efz19' target=\"_blank\">https://wandb.ai/danish2562022/sweeps-SEIR_kalmar_bleking/sweeps/za0efz19</a>"
      ],
      "text/plain": [
       "<IPython.core.display.HTML object>"
      ]
     },
     "metadata": {},
     "output_type": "display_data"
    },
    {
     "data": {
      "text/html": [
       " View project at <a href='https://wandb.ai/danish2562022/sweeps-SEIR_kalmar_bleking' target=\"_blank\">https://wandb.ai/danish2562022/sweeps-SEIR_kalmar_bleking</a>"
      ],
      "text/plain": [
       "<IPython.core.display.HTML object>"
      ]
     },
     "metadata": {},
     "output_type": "display_data"
    },
    {
     "data": {
      "text/html": [
       " View sweep at <a href='https://wandb.ai/danish2562022/sweeps-SEIR_kalmar_bleking/sweeps/za0efz19' target=\"_blank\">https://wandb.ai/danish2562022/sweeps-SEIR_kalmar_bleking/sweeps/za0efz19</a>"
      ],
      "text/plain": [
       "<IPython.core.display.HTML object>"
      ]
     },
     "metadata": {},
     "output_type": "display_data"
    },
    {
     "data": {
      "text/html": [
       " View run at <a href='https://wandb.ai/danish2562022/sweeps-SEIR_kalmar_bleking/runs/2awxbbyc' target=\"_blank\">https://wandb.ai/danish2562022/sweeps-SEIR_kalmar_bleking/runs/2awxbbyc</a>"
      ],
      "text/plain": [
       "<IPython.core.display.HTML object>"
      ]
     },
     "metadata": {},
     "output_type": "display_data"
    },
    {
     "data": {
      "application/vnd.jupyter.widget-view+json": {
       "model_id": "eef86fd60a384ba38bf4b468b19cc3e0",
       "version_major": 2,
       "version_minor": 0
      },
      "text/plain": [
       "VBox(children=(Label(value='0.021 MB of 0.021 MB uploaded\\r'), FloatProgress(value=1.0, max=1.0)))"
      ]
     },
     "metadata": {},
     "output_type": "display_data"
    },
    {
     "data": {
      "text/html": [
       "<style>\n",
       "    table.wandb td:nth-child(1) { padding: 0 10px; text-align: left ; width: auto;} td:nth-child(2) {text-align: left ; width: 100%}\n",
       "    .wandb-row { display: flex; flex-direction: row; flex-wrap: wrap; justify-content: flex-start; width: 100% }\n",
       "    .wandb-col { display: flex; flex-direction: column; flex-basis: 100%; flex: 1; padding: 10px; }\n",
       "    </style>\n",
       "<div class=\"wandb-row\"><div class=\"wandb-col\"><h3>Run history:</h3><br/><table class=\"wandb\"><tr><td>CV_RMSE</td><td>▁</td></tr><tr><td>CV_RMSE_'Kalmar</td><td>▁</td></tr><tr><td>CV_RMSE_Blekinge</td><td>▁</td></tr><tr><td>RMSE</td><td>▁</td></tr><tr><td>RMSE_Blekinge</td><td>▁</td></tr><tr><td>RMSE_Kalmar</td><td>▁</td></tr></table><br/></div><div class=\"wandb-col\"><h3>Run summary:</h3><br/><table class=\"wandb\"><tr><td>CV_RMSE</td><td>306.88732</td></tr><tr><td>CV_RMSE_'Kalmar</td><td>144.99335</td></tr><tr><td>CV_RMSE_Blekinge</td><td>161.89397</td></tr><tr><td>RMSE</td><td>22.24989</td></tr><tr><td>RMSE_Blekinge</td><td>7.26724</td></tr><tr><td>RMSE_Kalmar</td><td>14.98265</td></tr></table><br/></div></div>"
      ],
      "text/plain": [
       "<IPython.core.display.HTML object>"
      ]
     },
     "metadata": {},
     "output_type": "display_data"
    },
    {
     "data": {
      "text/html": [
       " View run <strong style=\"color:#cdcd00\">earthy-sweep-63</strong> at: <a href='https://wandb.ai/danish2562022/sweeps-SEIR_kalmar_bleking/runs/2awxbbyc' target=\"_blank\">https://wandb.ai/danish2562022/sweeps-SEIR_kalmar_bleking/runs/2awxbbyc</a><br/> View project at: <a href='https://wandb.ai/danish2562022/sweeps-SEIR_kalmar_bleking' target=\"_blank\">https://wandb.ai/danish2562022/sweeps-SEIR_kalmar_bleking</a><br/>Synced 5 W&B file(s), 0 media file(s), 0 artifact file(s) and 0 other file(s)"
      ],
      "text/plain": [
       "<IPython.core.display.HTML object>"
      ]
     },
     "metadata": {},
     "output_type": "display_data"
    },
    {
     "data": {
      "text/html": [
       "Find logs at: <code>./wandb/run-20250528_185643-2awxbbyc/logs</code>"
      ],
      "text/plain": [
       "<IPython.core.display.HTML object>"
      ]
     },
     "metadata": {},
     "output_type": "display_data"
    },
    {
     "data": {
      "text/html": [
       "The new W&B backend becomes opt-out in version 0.18.0; try it out with `wandb.require(\"core\")`! See https://wandb.me/wandb-core for more information."
      ],
      "text/plain": [
       "<IPython.core.display.HTML object>"
      ]
     },
     "metadata": {},
     "output_type": "display_data"
    },
    {
     "name": "stderr",
     "output_type": "stream",
     "text": [
      "\u001b[34m\u001b[1mwandb\u001b[0m: Sweep Agent: Waiting for job.\n",
      "\u001b[34m\u001b[1mwandb\u001b[0m: Job received.\n",
      "\u001b[34m\u001b[1mwandb\u001b[0m: Agent Starting Run: gfe7rfoo with config:\n",
      "\u001b[34m\u001b[1mwandb\u001b[0m: \tah0: 1.675424623612929\n",
      "\u001b[34m\u001b[1mwandb\u001b[0m: \tah1: 2.4054753507173836\n",
      "\u001b[34m\u001b[1mwandb\u001b[0m: \tbh0: 1.7157518918274373\n",
      "\u001b[34m\u001b[1mwandb\u001b[0m: \tbh1: 9.20328034010008\n",
      "\u001b[34m\u001b[1mwandb\u001b[0m: \tc: 0.6110695326352884\n"
     ]
    },
    {
     "data": {
      "text/html": [
       "wandb version 0.19.11 is available!  To upgrade, please run:\n",
       " $ pip install wandb --upgrade"
      ],
      "text/plain": [
       "<IPython.core.display.HTML object>"
      ]
     },
     "metadata": {},
     "output_type": "display_data"
    },
    {
     "data": {
      "text/html": [
       "Tracking run with wandb version 0.17.4"
      ],
      "text/plain": [
       "<IPython.core.display.HTML object>"
      ]
     },
     "metadata": {},
     "output_type": "display_data"
    },
    {
     "data": {
      "text/html": [
       "Run data is saved locally in <code>/12tb_dsk3/SEIR_model/src/wandb/run-20250528_185700-gfe7rfoo</code>"
      ],
      "text/plain": [
       "<IPython.core.display.HTML object>"
      ]
     },
     "metadata": {},
     "output_type": "display_data"
    },
    {
     "data": {
      "text/html": [
       "Syncing run <strong><a href='https://wandb.ai/danish2562022/sweeps-SEIR_kalmar_bleking/runs/gfe7rfoo' target=\"_blank\">classic-sweep-64</a></strong> to <a href='https://wandb.ai/danish2562022/sweeps-SEIR_kalmar_bleking' target=\"_blank\">Weights & Biases</a> (<a href='https://wandb.me/run' target=\"_blank\">docs</a>)<br/>Sweep page: <a href='https://wandb.ai/danish2562022/sweeps-SEIR_kalmar_bleking/sweeps/za0efz19' target=\"_blank\">https://wandb.ai/danish2562022/sweeps-SEIR_kalmar_bleking/sweeps/za0efz19</a>"
      ],
      "text/plain": [
       "<IPython.core.display.HTML object>"
      ]
     },
     "metadata": {},
     "output_type": "display_data"
    },
    {
     "data": {
      "text/html": [
       " View project at <a href='https://wandb.ai/danish2562022/sweeps-SEIR_kalmar_bleking' target=\"_blank\">https://wandb.ai/danish2562022/sweeps-SEIR_kalmar_bleking</a>"
      ],
      "text/plain": [
       "<IPython.core.display.HTML object>"
      ]
     },
     "metadata": {},
     "output_type": "display_data"
    },
    {
     "data": {
      "text/html": [
       " View sweep at <a href='https://wandb.ai/danish2562022/sweeps-SEIR_kalmar_bleking/sweeps/za0efz19' target=\"_blank\">https://wandb.ai/danish2562022/sweeps-SEIR_kalmar_bleking/sweeps/za0efz19</a>"
      ],
      "text/plain": [
       "<IPython.core.display.HTML object>"
      ]
     },
     "metadata": {},
     "output_type": "display_data"
    },
    {
     "data": {
      "text/html": [
       " View run at <a href='https://wandb.ai/danish2562022/sweeps-SEIR_kalmar_bleking/runs/gfe7rfoo' target=\"_blank\">https://wandb.ai/danish2562022/sweeps-SEIR_kalmar_bleking/runs/gfe7rfoo</a>"
      ],
      "text/plain": [
       "<IPython.core.display.HTML object>"
      ]
     },
     "metadata": {},
     "output_type": "display_data"
    },
    {
     "data": {
      "application/vnd.jupyter.widget-view+json": {
       "model_id": "892aa06612a341f0866b472d4a1ca859",
       "version_major": 2,
       "version_minor": 0
      },
      "text/plain": [
       "VBox(children=(Label(value='0.021 MB of 0.021 MB uploaded\\r'), FloatProgress(value=1.0, max=1.0)))"
      ]
     },
     "metadata": {},
     "output_type": "display_data"
    },
    {
     "data": {
      "text/html": [
       "<style>\n",
       "    table.wandb td:nth-child(1) { padding: 0 10px; text-align: left ; width: auto;} td:nth-child(2) {text-align: left ; width: 100%}\n",
       "    .wandb-row { display: flex; flex-direction: row; flex-wrap: wrap; justify-content: flex-start; width: 100% }\n",
       "    .wandb-col { display: flex; flex-direction: column; flex-basis: 100%; flex: 1; padding: 10px; }\n",
       "    </style>\n",
       "<div class=\"wandb-row\"><div class=\"wandb-col\"><h3>Run history:</h3><br/><table class=\"wandb\"><tr><td>CV_RMSE</td><td>▁</td></tr><tr><td>CV_RMSE_'Kalmar</td><td>▁</td></tr><tr><td>CV_RMSE_Blekinge</td><td>▁</td></tr><tr><td>RMSE</td><td>▁</td></tr><tr><td>RMSE_Blekinge</td><td>▁</td></tr><tr><td>RMSE_Kalmar</td><td>▁</td></tr></table><br/></div><div class=\"wandb-col\"><h3>Run summary:</h3><br/><table class=\"wandb\"><tr><td>CV_RMSE</td><td>3527.88286</td></tr><tr><td>CV_RMSE_'Kalmar</td><td>1097.93091</td></tr><tr><td>CV_RMSE_Blekinge</td><td>2429.95196</td></tr><tr><td>RMSE</td><td>222.5307</td></tr><tr><td>RMSE_Blekinge</td><td>109.07784</td></tr><tr><td>RMSE_Kalmar</td><td>113.45286</td></tr></table><br/></div></div>"
      ],
      "text/plain": [
       "<IPython.core.display.HTML object>"
      ]
     },
     "metadata": {},
     "output_type": "display_data"
    },
    {
     "data": {
      "text/html": [
       " View run <strong style=\"color:#cdcd00\">classic-sweep-64</strong> at: <a href='https://wandb.ai/danish2562022/sweeps-SEIR_kalmar_bleking/runs/gfe7rfoo' target=\"_blank\">https://wandb.ai/danish2562022/sweeps-SEIR_kalmar_bleking/runs/gfe7rfoo</a><br/> View project at: <a href='https://wandb.ai/danish2562022/sweeps-SEIR_kalmar_bleking' target=\"_blank\">https://wandb.ai/danish2562022/sweeps-SEIR_kalmar_bleking</a><br/>Synced 5 W&B file(s), 0 media file(s), 0 artifact file(s) and 0 other file(s)"
      ],
      "text/plain": [
       "<IPython.core.display.HTML object>"
      ]
     },
     "metadata": {},
     "output_type": "display_data"
    },
    {
     "data": {
      "text/html": [
       "Find logs at: <code>./wandb/run-20250528_185700-gfe7rfoo/logs</code>"
      ],
      "text/plain": [
       "<IPython.core.display.HTML object>"
      ]
     },
     "metadata": {},
     "output_type": "display_data"
    },
    {
     "data": {
      "text/html": [
       "The new W&B backend becomes opt-out in version 0.18.0; try it out with `wandb.require(\"core\")`! See https://wandb.me/wandb-core for more information."
      ],
      "text/plain": [
       "<IPython.core.display.HTML object>"
      ]
     },
     "metadata": {},
     "output_type": "display_data"
    },
    {
     "name": "stderr",
     "output_type": "stream",
     "text": [
      "\u001b[34m\u001b[1mwandb\u001b[0m: Agent Starting Run: h1tsyg65 with config:\n",
      "\u001b[34m\u001b[1mwandb\u001b[0m: \tah0: 0.9335624496556858\n",
      "\u001b[34m\u001b[1mwandb\u001b[0m: \tah1: 2.6218176583019854\n",
      "\u001b[34m\u001b[1mwandb\u001b[0m: \tbh0: 8.185345028192456\n",
      "\u001b[34m\u001b[1mwandb\u001b[0m: \tbh1: 9.621755909013002\n",
      "\u001b[34m\u001b[1mwandb\u001b[0m: \tc: 0.08498571077700423\n"
     ]
    },
    {
     "data": {
      "text/html": [
       "wandb version 0.19.11 is available!  To upgrade, please run:\n",
       " $ pip install wandb --upgrade"
      ],
      "text/plain": [
       "<IPython.core.display.HTML object>"
      ]
     },
     "metadata": {},
     "output_type": "display_data"
    },
    {
     "data": {
      "text/html": [
       "Tracking run with wandb version 0.17.4"
      ],
      "text/plain": [
       "<IPython.core.display.HTML object>"
      ]
     },
     "metadata": {},
     "output_type": "display_data"
    },
    {
     "data": {
      "text/html": [
       "Run data is saved locally in <code>/12tb_dsk3/SEIR_model/src/wandb/run-20250528_185710-h1tsyg65</code>"
      ],
      "text/plain": [
       "<IPython.core.display.HTML object>"
      ]
     },
     "metadata": {},
     "output_type": "display_data"
    },
    {
     "data": {
      "text/html": [
       "Syncing run <strong><a href='https://wandb.ai/danish2562022/sweeps-SEIR_kalmar_bleking/runs/h1tsyg65' target=\"_blank\">fragrant-sweep-65</a></strong> to <a href='https://wandb.ai/danish2562022/sweeps-SEIR_kalmar_bleking' target=\"_blank\">Weights & Biases</a> (<a href='https://wandb.me/run' target=\"_blank\">docs</a>)<br/>Sweep page: <a href='https://wandb.ai/danish2562022/sweeps-SEIR_kalmar_bleking/sweeps/za0efz19' target=\"_blank\">https://wandb.ai/danish2562022/sweeps-SEIR_kalmar_bleking/sweeps/za0efz19</a>"
      ],
      "text/plain": [
       "<IPython.core.display.HTML object>"
      ]
     },
     "metadata": {},
     "output_type": "display_data"
    },
    {
     "data": {
      "text/html": [
       " View project at <a href='https://wandb.ai/danish2562022/sweeps-SEIR_kalmar_bleking' target=\"_blank\">https://wandb.ai/danish2562022/sweeps-SEIR_kalmar_bleking</a>"
      ],
      "text/plain": [
       "<IPython.core.display.HTML object>"
      ]
     },
     "metadata": {},
     "output_type": "display_data"
    },
    {
     "data": {
      "text/html": [
       " View sweep at <a href='https://wandb.ai/danish2562022/sweeps-SEIR_kalmar_bleking/sweeps/za0efz19' target=\"_blank\">https://wandb.ai/danish2562022/sweeps-SEIR_kalmar_bleking/sweeps/za0efz19</a>"
      ],
      "text/plain": [
       "<IPython.core.display.HTML object>"
      ]
     },
     "metadata": {},
     "output_type": "display_data"
    },
    {
     "data": {
      "text/html": [
       " View run at <a href='https://wandb.ai/danish2562022/sweeps-SEIR_kalmar_bleking/runs/h1tsyg65' target=\"_blank\">https://wandb.ai/danish2562022/sweeps-SEIR_kalmar_bleking/runs/h1tsyg65</a>"
      ],
      "text/plain": [
       "<IPython.core.display.HTML object>"
      ]
     },
     "metadata": {},
     "output_type": "display_data"
    },
    {
     "data": {
      "application/vnd.jupyter.widget-view+json": {
       "model_id": "6e46ee16b87f418da147b6857696a47f",
       "version_major": 2,
       "version_minor": 0
      },
      "text/plain": [
       "VBox(children=(Label(value='0.021 MB of 0.021 MB uploaded\\r'), FloatProgress(value=1.0, max=1.0)))"
      ]
     },
     "metadata": {},
     "output_type": "display_data"
    },
    {
     "data": {
      "text/html": [
       "<style>\n",
       "    table.wandb td:nth-child(1) { padding: 0 10px; text-align: left ; width: auto;} td:nth-child(2) {text-align: left ; width: 100%}\n",
       "    .wandb-row { display: flex; flex-direction: row; flex-wrap: wrap; justify-content: flex-start; width: 100% }\n",
       "    .wandb-col { display: flex; flex-direction: column; flex-basis: 100%; flex: 1; padding: 10px; }\n",
       "    </style>\n",
       "<div class=\"wandb-row\"><div class=\"wandb-col\"><h3>Run history:</h3><br/><table class=\"wandb\"><tr><td>CV_RMSE</td><td>▁</td></tr><tr><td>CV_RMSE_'Kalmar</td><td>▁</td></tr><tr><td>CV_RMSE_Blekinge</td><td>▁</td></tr><tr><td>RMSE</td><td>▁</td></tr><tr><td>RMSE_Blekinge</td><td>▁</td></tr><tr><td>RMSE_Kalmar</td><td>▁</td></tr></table><br/></div><div class=\"wandb-col\"><h3>Run summary:</h3><br/><table class=\"wandb\"><tr><td>CV_RMSE</td><td>4096.2965</td></tr><tr><td>CV_RMSE_'Kalmar</td><td>855.78381</td></tr><tr><td>CV_RMSE_Blekinge</td><td>3240.51269</td></tr><tr><td>RMSE</td><td>233.89401</td></tr><tr><td>RMSE_Blekinge</td><td>145.46301</td></tr><tr><td>RMSE_Kalmar</td><td>88.43099</td></tr></table><br/></div></div>"
      ],
      "text/plain": [
       "<IPython.core.display.HTML object>"
      ]
     },
     "metadata": {},
     "output_type": "display_data"
    },
    {
     "data": {
      "text/html": [
       " View run <strong style=\"color:#cdcd00\">fragrant-sweep-65</strong> at: <a href='https://wandb.ai/danish2562022/sweeps-SEIR_kalmar_bleking/runs/h1tsyg65' target=\"_blank\">https://wandb.ai/danish2562022/sweeps-SEIR_kalmar_bleking/runs/h1tsyg65</a><br/> View project at: <a href='https://wandb.ai/danish2562022/sweeps-SEIR_kalmar_bleking' target=\"_blank\">https://wandb.ai/danish2562022/sweeps-SEIR_kalmar_bleking</a><br/>Synced 5 W&B file(s), 0 media file(s), 0 artifact file(s) and 0 other file(s)"
      ],
      "text/plain": [
       "<IPython.core.display.HTML object>"
      ]
     },
     "metadata": {},
     "output_type": "display_data"
    },
    {
     "data": {
      "text/html": [
       "Find logs at: <code>./wandb/run-20250528_185710-h1tsyg65/logs</code>"
      ],
      "text/plain": [
       "<IPython.core.display.HTML object>"
      ]
     },
     "metadata": {},
     "output_type": "display_data"
    },
    {
     "data": {
      "text/html": [
       "The new W&B backend becomes opt-out in version 0.18.0; try it out with `wandb.require(\"core\")`! See https://wandb.me/wandb-core for more information."
      ],
      "text/plain": [
       "<IPython.core.display.HTML object>"
      ]
     },
     "metadata": {},
     "output_type": "display_data"
    },
    {
     "name": "stderr",
     "output_type": "stream",
     "text": [
      "\u001b[34m\u001b[1mwandb\u001b[0m: Agent Starting Run: b8m0f2oc with config:\n",
      "\u001b[34m\u001b[1mwandb\u001b[0m: \tah0: 1.5756296442991822\n",
      "\u001b[34m\u001b[1mwandb\u001b[0m: \tah1: 2.857565126011889\n",
      "\u001b[34m\u001b[1mwandb\u001b[0m: \tbh0: 0.061833229993703\n",
      "\u001b[34m\u001b[1mwandb\u001b[0m: \tbh1: 3.4692927044529553\n",
      "\u001b[34m\u001b[1mwandb\u001b[0m: \tc: 0.9747819263953\n"
     ]
    },
    {
     "data": {
      "text/html": [
       "wandb version 0.19.11 is available!  To upgrade, please run:\n",
       " $ pip install wandb --upgrade"
      ],
      "text/plain": [
       "<IPython.core.display.HTML object>"
      ]
     },
     "metadata": {},
     "output_type": "display_data"
    },
    {
     "data": {
      "text/html": [
       "Tracking run with wandb version 0.17.4"
      ],
      "text/plain": [
       "<IPython.core.display.HTML object>"
      ]
     },
     "metadata": {},
     "output_type": "display_data"
    },
    {
     "data": {
      "text/html": [
       "Run data is saved locally in <code>/12tb_dsk3/SEIR_model/src/wandb/run-20250528_185720-b8m0f2oc</code>"
      ],
      "text/plain": [
       "<IPython.core.display.HTML object>"
      ]
     },
     "metadata": {},
     "output_type": "display_data"
    },
    {
     "data": {
      "text/html": [
       "Syncing run <strong><a href='https://wandb.ai/danish2562022/sweeps-SEIR_kalmar_bleking/runs/b8m0f2oc' target=\"_blank\">noble-sweep-66</a></strong> to <a href='https://wandb.ai/danish2562022/sweeps-SEIR_kalmar_bleking' target=\"_blank\">Weights & Biases</a> (<a href='https://wandb.me/run' target=\"_blank\">docs</a>)<br/>Sweep page: <a href='https://wandb.ai/danish2562022/sweeps-SEIR_kalmar_bleking/sweeps/za0efz19' target=\"_blank\">https://wandb.ai/danish2562022/sweeps-SEIR_kalmar_bleking/sweeps/za0efz19</a>"
      ],
      "text/plain": [
       "<IPython.core.display.HTML object>"
      ]
     },
     "metadata": {},
     "output_type": "display_data"
    },
    {
     "data": {
      "text/html": [
       " View project at <a href='https://wandb.ai/danish2562022/sweeps-SEIR_kalmar_bleking' target=\"_blank\">https://wandb.ai/danish2562022/sweeps-SEIR_kalmar_bleking</a>"
      ],
      "text/plain": [
       "<IPython.core.display.HTML object>"
      ]
     },
     "metadata": {},
     "output_type": "display_data"
    },
    {
     "data": {
      "text/html": [
       " View sweep at <a href='https://wandb.ai/danish2562022/sweeps-SEIR_kalmar_bleking/sweeps/za0efz19' target=\"_blank\">https://wandb.ai/danish2562022/sweeps-SEIR_kalmar_bleking/sweeps/za0efz19</a>"
      ],
      "text/plain": [
       "<IPython.core.display.HTML object>"
      ]
     },
     "metadata": {},
     "output_type": "display_data"
    },
    {
     "data": {
      "text/html": [
       " View run at <a href='https://wandb.ai/danish2562022/sweeps-SEIR_kalmar_bleking/runs/b8m0f2oc' target=\"_blank\">https://wandb.ai/danish2562022/sweeps-SEIR_kalmar_bleking/runs/b8m0f2oc</a>"
      ],
      "text/plain": [
       "<IPython.core.display.HTML object>"
      ]
     },
     "metadata": {},
     "output_type": "display_data"
    },
    {
     "data": {
      "application/vnd.jupyter.widget-view+json": {
       "model_id": "46b44efb8b19421b98197c33fe7eb65f",
       "version_major": 2,
       "version_minor": 0
      },
      "text/plain": [
       "VBox(children=(Label(value='0.021 MB of 0.021 MB uploaded\\r'), FloatProgress(value=1.0, max=1.0)))"
      ]
     },
     "metadata": {},
     "output_type": "display_data"
    },
    {
     "data": {
      "text/html": [
       "<style>\n",
       "    table.wandb td:nth-child(1) { padding: 0 10px; text-align: left ; width: auto;} td:nth-child(2) {text-align: left ; width: 100%}\n",
       "    .wandb-row { display: flex; flex-direction: row; flex-wrap: wrap; justify-content: flex-start; width: 100% }\n",
       "    .wandb-col { display: flex; flex-direction: column; flex-basis: 100%; flex: 1; padding: 10px; }\n",
       "    </style>\n",
       "<div class=\"wandb-row\"><div class=\"wandb-col\"><h3>Run history:</h3><br/><table class=\"wandb\"><tr><td>CV_RMSE</td><td>▁</td></tr><tr><td>CV_RMSE_'Kalmar</td><td>▁</td></tr><tr><td>CV_RMSE_Blekinge</td><td>▁</td></tr><tr><td>RMSE</td><td>▁</td></tr><tr><td>RMSE_Blekinge</td><td>▁</td></tr><tr><td>RMSE_Kalmar</td><td>▁</td></tr></table><br/></div><div class=\"wandb-col\"><h3>Run summary:</h3><br/><table class=\"wandb\"><tr><td>CV_RMSE</td><td>3540.49263</td></tr><tr><td>CV_RMSE_'Kalmar</td><td>1292.03651</td></tr><tr><td>CV_RMSE_Blekinge</td><td>2248.45613</td></tr><tr><td>RMSE</td><td>234.44114</td></tr><tr><td>RMSE_Blekinge</td><td>100.9307</td></tr><tr><td>RMSE_Kalmar</td><td>133.51044</td></tr></table><br/></div></div>"
      ],
      "text/plain": [
       "<IPython.core.display.HTML object>"
      ]
     },
     "metadata": {},
     "output_type": "display_data"
    },
    {
     "data": {
      "text/html": [
       " View run <strong style=\"color:#cdcd00\">noble-sweep-66</strong> at: <a href='https://wandb.ai/danish2562022/sweeps-SEIR_kalmar_bleking/runs/b8m0f2oc' target=\"_blank\">https://wandb.ai/danish2562022/sweeps-SEIR_kalmar_bleking/runs/b8m0f2oc</a><br/> View project at: <a href='https://wandb.ai/danish2562022/sweeps-SEIR_kalmar_bleking' target=\"_blank\">https://wandb.ai/danish2562022/sweeps-SEIR_kalmar_bleking</a><br/>Synced 5 W&B file(s), 0 media file(s), 0 artifact file(s) and 0 other file(s)"
      ],
      "text/plain": [
       "<IPython.core.display.HTML object>"
      ]
     },
     "metadata": {},
     "output_type": "display_data"
    },
    {
     "data": {
      "text/html": [
       "Find logs at: <code>./wandb/run-20250528_185720-b8m0f2oc/logs</code>"
      ],
      "text/plain": [
       "<IPython.core.display.HTML object>"
      ]
     },
     "metadata": {},
     "output_type": "display_data"
    },
    {
     "data": {
      "text/html": [
       "The new W&B backend becomes opt-out in version 0.18.0; try it out with `wandb.require(\"core\")`! See https://wandb.me/wandb-core for more information."
      ],
      "text/plain": [
       "<IPython.core.display.HTML object>"
      ]
     },
     "metadata": {},
     "output_type": "display_data"
    },
    {
     "name": "stderr",
     "output_type": "stream",
     "text": [
      "\u001b[34m\u001b[1mwandb\u001b[0m: Agent Starting Run: uzxykshs with config:\n",
      "\u001b[34m\u001b[1mwandb\u001b[0m: \tah0: 2.3945955048074334\n",
      "\u001b[34m\u001b[1mwandb\u001b[0m: \tah1: 1.9378923812522475\n",
      "\u001b[34m\u001b[1mwandb\u001b[0m: \tbh0: 4.479201041508448\n",
      "\u001b[34m\u001b[1mwandb\u001b[0m: \tbh1: 6.360545953852612\n",
      "\u001b[34m\u001b[1mwandb\u001b[0m: \tc: 0.674722017841311\n"
     ]
    },
    {
     "data": {
      "text/html": [
       "wandb version 0.19.11 is available!  To upgrade, please run:\n",
       " $ pip install wandb --upgrade"
      ],
      "text/plain": [
       "<IPython.core.display.HTML object>"
      ]
     },
     "metadata": {},
     "output_type": "display_data"
    },
    {
     "data": {
      "text/html": [
       "Tracking run with wandb version 0.17.4"
      ],
      "text/plain": [
       "<IPython.core.display.HTML object>"
      ]
     },
     "metadata": {},
     "output_type": "display_data"
    },
    {
     "data": {
      "text/html": [
       "Run data is saved locally in <code>/12tb_dsk3/SEIR_model/src/wandb/run-20250528_185731-uzxykshs</code>"
      ],
      "text/plain": [
       "<IPython.core.display.HTML object>"
      ]
     },
     "metadata": {},
     "output_type": "display_data"
    },
    {
     "data": {
      "text/html": [
       "Syncing run <strong><a href='https://wandb.ai/danish2562022/sweeps-SEIR_kalmar_bleking/runs/uzxykshs' target=\"_blank\">skilled-sweep-67</a></strong> to <a href='https://wandb.ai/danish2562022/sweeps-SEIR_kalmar_bleking' target=\"_blank\">Weights & Biases</a> (<a href='https://wandb.me/run' target=\"_blank\">docs</a>)<br/>Sweep page: <a href='https://wandb.ai/danish2562022/sweeps-SEIR_kalmar_bleking/sweeps/za0efz19' target=\"_blank\">https://wandb.ai/danish2562022/sweeps-SEIR_kalmar_bleking/sweeps/za0efz19</a>"
      ],
      "text/plain": [
       "<IPython.core.display.HTML object>"
      ]
     },
     "metadata": {},
     "output_type": "display_data"
    },
    {
     "data": {
      "text/html": [
       " View project at <a href='https://wandb.ai/danish2562022/sweeps-SEIR_kalmar_bleking' target=\"_blank\">https://wandb.ai/danish2562022/sweeps-SEIR_kalmar_bleking</a>"
      ],
      "text/plain": [
       "<IPython.core.display.HTML object>"
      ]
     },
     "metadata": {},
     "output_type": "display_data"
    },
    {
     "data": {
      "text/html": [
       " View sweep at <a href='https://wandb.ai/danish2562022/sweeps-SEIR_kalmar_bleking/sweeps/za0efz19' target=\"_blank\">https://wandb.ai/danish2562022/sweeps-SEIR_kalmar_bleking/sweeps/za0efz19</a>"
      ],
      "text/plain": [
       "<IPython.core.display.HTML object>"
      ]
     },
     "metadata": {},
     "output_type": "display_data"
    },
    {
     "data": {
      "text/html": [
       " View run at <a href='https://wandb.ai/danish2562022/sweeps-SEIR_kalmar_bleking/runs/uzxykshs' target=\"_blank\">https://wandb.ai/danish2562022/sweeps-SEIR_kalmar_bleking/runs/uzxykshs</a>"
      ],
      "text/plain": [
       "<IPython.core.display.HTML object>"
      ]
     },
     "metadata": {},
     "output_type": "display_data"
    },
    {
     "data": {
      "application/vnd.jupyter.widget-view+json": {
       "model_id": "816dbdf10d8d4a1abe7f0c966351eeae",
       "version_major": 2,
       "version_minor": 0
      },
      "text/plain": [
       "VBox(children=(Label(value='0.021 MB of 0.021 MB uploaded\\r'), FloatProgress(value=1.0, max=1.0)))"
      ]
     },
     "metadata": {},
     "output_type": "display_data"
    },
    {
     "data": {
      "text/html": [
       "<style>\n",
       "    table.wandb td:nth-child(1) { padding: 0 10px; text-align: left ; width: auto;} td:nth-child(2) {text-align: left ; width: 100%}\n",
       "    .wandb-row { display: flex; flex-direction: row; flex-wrap: wrap; justify-content: flex-start; width: 100% }\n",
       "    .wandb-col { display: flex; flex-direction: column; flex-basis: 100%; flex: 1; padding: 10px; }\n",
       "    </style>\n",
       "<div class=\"wandb-row\"><div class=\"wandb-col\"><h3>Run history:</h3><br/><table class=\"wandb\"><tr><td>CV_RMSE</td><td>▁</td></tr><tr><td>CV_RMSE_'Kalmar</td><td>▁</td></tr><tr><td>CV_RMSE_Blekinge</td><td>▁</td></tr><tr><td>RMSE</td><td>▁</td></tr><tr><td>RMSE_Blekinge</td><td>▁</td></tr><tr><td>RMSE_Kalmar</td><td>▁</td></tr></table><br/></div><div class=\"wandb-col\"><h3>Run summary:</h3><br/><table class=\"wandb\"><tr><td>CV_RMSE</td><td>3614.64616</td></tr><tr><td>CV_RMSE_'Kalmar</td><td>1389.27669</td></tr><tr><td>CV_RMSE_Blekinge</td><td>2225.36948</td></tr><tr><td>RMSE</td><td>243.45295</td></tr><tr><td>RMSE_Blekinge</td><td>99.89436</td></tr><tr><td>RMSE_Kalmar</td><td>143.55859</td></tr></table><br/></div></div>"
      ],
      "text/plain": [
       "<IPython.core.display.HTML object>"
      ]
     },
     "metadata": {},
     "output_type": "display_data"
    },
    {
     "data": {
      "text/html": [
       " View run <strong style=\"color:#cdcd00\">skilled-sweep-67</strong> at: <a href='https://wandb.ai/danish2562022/sweeps-SEIR_kalmar_bleking/runs/uzxykshs' target=\"_blank\">https://wandb.ai/danish2562022/sweeps-SEIR_kalmar_bleking/runs/uzxykshs</a><br/> View project at: <a href='https://wandb.ai/danish2562022/sweeps-SEIR_kalmar_bleking' target=\"_blank\">https://wandb.ai/danish2562022/sweeps-SEIR_kalmar_bleking</a><br/>Synced 5 W&B file(s), 0 media file(s), 0 artifact file(s) and 0 other file(s)"
      ],
      "text/plain": [
       "<IPython.core.display.HTML object>"
      ]
     },
     "metadata": {},
     "output_type": "display_data"
    },
    {
     "data": {
      "text/html": [
       "Find logs at: <code>./wandb/run-20250528_185731-uzxykshs/logs</code>"
      ],
      "text/plain": [
       "<IPython.core.display.HTML object>"
      ]
     },
     "metadata": {},
     "output_type": "display_data"
    },
    {
     "data": {
      "text/html": [
       "The new W&B backend becomes opt-out in version 0.18.0; try it out with `wandb.require(\"core\")`! See https://wandb.me/wandb-core for more information."
      ],
      "text/plain": [
       "<IPython.core.display.HTML object>"
      ]
     },
     "metadata": {},
     "output_type": "display_data"
    },
    {
     "name": "stderr",
     "output_type": "stream",
     "text": [
      "\u001b[34m\u001b[1mwandb\u001b[0m: Agent Starting Run: 6r10hexx with config:\n",
      "\u001b[34m\u001b[1mwandb\u001b[0m: \tah0: 1.1517015948935097\n",
      "\u001b[34m\u001b[1mwandb\u001b[0m: \tah1: 2.0581866344034716\n",
      "\u001b[34m\u001b[1mwandb\u001b[0m: \tbh0: 9.192479565139823\n",
      "\u001b[34m\u001b[1mwandb\u001b[0m: \tbh1: 9.671000128810608\n",
      "\u001b[34m\u001b[1mwandb\u001b[0m: \tc: 0.2308253122049032\n"
     ]
    },
    {
     "data": {
      "text/html": [
       "wandb version 0.19.11 is available!  To upgrade, please run:\n",
       " $ pip install wandb --upgrade"
      ],
      "text/plain": [
       "<IPython.core.display.HTML object>"
      ]
     },
     "metadata": {},
     "output_type": "display_data"
    },
    {
     "data": {
      "text/html": [
       "Tracking run with wandb version 0.17.4"
      ],
      "text/plain": [
       "<IPython.core.display.HTML object>"
      ]
     },
     "metadata": {},
     "output_type": "display_data"
    },
    {
     "data": {
      "text/html": [
       "Run data is saved locally in <code>/12tb_dsk3/SEIR_model/src/wandb/run-20250528_185741-6r10hexx</code>"
      ],
      "text/plain": [
       "<IPython.core.display.HTML object>"
      ]
     },
     "metadata": {},
     "output_type": "display_data"
    },
    {
     "data": {
      "text/html": [
       "Syncing run <strong><a href='https://wandb.ai/danish2562022/sweeps-SEIR_kalmar_bleking/runs/6r10hexx' target=\"_blank\">glorious-sweep-68</a></strong> to <a href='https://wandb.ai/danish2562022/sweeps-SEIR_kalmar_bleking' target=\"_blank\">Weights & Biases</a> (<a href='https://wandb.me/run' target=\"_blank\">docs</a>)<br/>Sweep page: <a href='https://wandb.ai/danish2562022/sweeps-SEIR_kalmar_bleking/sweeps/za0efz19' target=\"_blank\">https://wandb.ai/danish2562022/sweeps-SEIR_kalmar_bleking/sweeps/za0efz19</a>"
      ],
      "text/plain": [
       "<IPython.core.display.HTML object>"
      ]
     },
     "metadata": {},
     "output_type": "display_data"
    },
    {
     "data": {
      "text/html": [
       " View project at <a href='https://wandb.ai/danish2562022/sweeps-SEIR_kalmar_bleking' target=\"_blank\">https://wandb.ai/danish2562022/sweeps-SEIR_kalmar_bleking</a>"
      ],
      "text/plain": [
       "<IPython.core.display.HTML object>"
      ]
     },
     "metadata": {},
     "output_type": "display_data"
    },
    {
     "data": {
      "text/html": [
       " View sweep at <a href='https://wandb.ai/danish2562022/sweeps-SEIR_kalmar_bleking/sweeps/za0efz19' target=\"_blank\">https://wandb.ai/danish2562022/sweeps-SEIR_kalmar_bleking/sweeps/za0efz19</a>"
      ],
      "text/plain": [
       "<IPython.core.display.HTML object>"
      ]
     },
     "metadata": {},
     "output_type": "display_data"
    },
    {
     "data": {
      "text/html": [
       " View run at <a href='https://wandb.ai/danish2562022/sweeps-SEIR_kalmar_bleking/runs/6r10hexx' target=\"_blank\">https://wandb.ai/danish2562022/sweeps-SEIR_kalmar_bleking/runs/6r10hexx</a>"
      ],
      "text/plain": [
       "<IPython.core.display.HTML object>"
      ]
     },
     "metadata": {},
     "output_type": "display_data"
    },
    {
     "data": {
      "application/vnd.jupyter.widget-view+json": {
       "model_id": "df429d467903483fa12cecb259a96b65",
       "version_major": 2,
       "version_minor": 0
      },
      "text/plain": [
       "VBox(children=(Label(value='0.021 MB of 0.021 MB uploaded\\r'), FloatProgress(value=1.0, max=1.0)))"
      ]
     },
     "metadata": {},
     "output_type": "display_data"
    },
    {
     "data": {
      "text/html": [
       "<style>\n",
       "    table.wandb td:nth-child(1) { padding: 0 10px; text-align: left ; width: auto;} td:nth-child(2) {text-align: left ; width: 100%}\n",
       "    .wandb-row { display: flex; flex-direction: row; flex-wrap: wrap; justify-content: flex-start; width: 100% }\n",
       "    .wandb-col { display: flex; flex-direction: column; flex-basis: 100%; flex: 1; padding: 10px; }\n",
       "    </style>\n",
       "<div class=\"wandb-row\"><div class=\"wandb-col\"><h3>Run history:</h3><br/><table class=\"wandb\"><tr><td>CV_RMSE</td><td>▁</td></tr><tr><td>CV_RMSE_'Kalmar</td><td>▁</td></tr><tr><td>CV_RMSE_Blekinge</td><td>▁</td></tr><tr><td>RMSE</td><td>▁</td></tr><tr><td>RMSE_Blekinge</td><td>▁</td></tr><tr><td>RMSE_Kalmar</td><td>▁</td></tr></table><br/></div><div class=\"wandb-col\"><h3>Run summary:</h3><br/><table class=\"wandb\"><tr><td>CV_RMSE</td><td>3918.34773</td></tr><tr><td>CV_RMSE_'Kalmar</td><td>751.75019</td></tr><tr><td>CV_RMSE_Blekinge</td><td>3166.59754</td></tr><tr><td>RMSE</td><td>219.8259</td></tr><tr><td>RMSE_Blekinge</td><td>142.14505</td></tr><tr><td>RMSE_Kalmar</td><td>77.68085</td></tr></table><br/></div></div>"
      ],
      "text/plain": [
       "<IPython.core.display.HTML object>"
      ]
     },
     "metadata": {},
     "output_type": "display_data"
    },
    {
     "data": {
      "text/html": [
       " View run <strong style=\"color:#cdcd00\">glorious-sweep-68</strong> at: <a href='https://wandb.ai/danish2562022/sweeps-SEIR_kalmar_bleking/runs/6r10hexx' target=\"_blank\">https://wandb.ai/danish2562022/sweeps-SEIR_kalmar_bleking/runs/6r10hexx</a><br/> View project at: <a href='https://wandb.ai/danish2562022/sweeps-SEIR_kalmar_bleking' target=\"_blank\">https://wandb.ai/danish2562022/sweeps-SEIR_kalmar_bleking</a><br/>Synced 5 W&B file(s), 0 media file(s), 0 artifact file(s) and 0 other file(s)"
      ],
      "text/plain": [
       "<IPython.core.display.HTML object>"
      ]
     },
     "metadata": {},
     "output_type": "display_data"
    },
    {
     "data": {
      "text/html": [
       "Find logs at: <code>./wandb/run-20250528_185741-6r10hexx/logs</code>"
      ],
      "text/plain": [
       "<IPython.core.display.HTML object>"
      ]
     },
     "metadata": {},
     "output_type": "display_data"
    },
    {
     "data": {
      "text/html": [
       "The new W&B backend becomes opt-out in version 0.18.0; try it out with `wandb.require(\"core\")`! See https://wandb.me/wandb-core for more information."
      ],
      "text/plain": [
       "<IPython.core.display.HTML object>"
      ]
     },
     "metadata": {},
     "output_type": "display_data"
    },
    {
     "name": "stderr",
     "output_type": "stream",
     "text": [
      "\u001b[34m\u001b[1mwandb\u001b[0m: Sweep Agent: Waiting for job.\n",
      "\u001b[34m\u001b[1mwandb\u001b[0m: Job received.\n",
      "\u001b[34m\u001b[1mwandb\u001b[0m: Agent Starting Run: we2lxjwk with config:\n",
      "\u001b[34m\u001b[1mwandb\u001b[0m: \tah0: 0.30861940738813254\n",
      "\u001b[34m\u001b[1mwandb\u001b[0m: \tah1: 1.9155305944911027\n",
      "\u001b[34m\u001b[1mwandb\u001b[0m: \tbh0: 6.279869964576973\n",
      "\u001b[34m\u001b[1mwandb\u001b[0m: \tbh1: 2.7315338227195163\n",
      "\u001b[34m\u001b[1mwandb\u001b[0m: \tc: 0.6853056397910277\n"
     ]
    },
    {
     "data": {
      "text/html": [
       "wandb version 0.19.11 is available!  To upgrade, please run:\n",
       " $ pip install wandb --upgrade"
      ],
      "text/plain": [
       "<IPython.core.display.HTML object>"
      ]
     },
     "metadata": {},
     "output_type": "display_data"
    },
    {
     "data": {
      "text/html": [
       "Tracking run with wandb version 0.17.4"
      ],
      "text/plain": [
       "<IPython.core.display.HTML object>"
      ]
     },
     "metadata": {},
     "output_type": "display_data"
    },
    {
     "data": {
      "text/html": [
       "Run data is saved locally in <code>/12tb_dsk3/SEIR_model/src/wandb/run-20250528_185757-we2lxjwk</code>"
      ],
      "text/plain": [
       "<IPython.core.display.HTML object>"
      ]
     },
     "metadata": {},
     "output_type": "display_data"
    },
    {
     "data": {
      "text/html": [
       "Syncing run <strong><a href='https://wandb.ai/danish2562022/sweeps-SEIR_kalmar_bleking/runs/we2lxjwk' target=\"_blank\">vibrant-sweep-69</a></strong> to <a href='https://wandb.ai/danish2562022/sweeps-SEIR_kalmar_bleking' target=\"_blank\">Weights & Biases</a> (<a href='https://wandb.me/run' target=\"_blank\">docs</a>)<br/>Sweep page: <a href='https://wandb.ai/danish2562022/sweeps-SEIR_kalmar_bleking/sweeps/za0efz19' target=\"_blank\">https://wandb.ai/danish2562022/sweeps-SEIR_kalmar_bleking/sweeps/za0efz19</a>"
      ],
      "text/plain": [
       "<IPython.core.display.HTML object>"
      ]
     },
     "metadata": {},
     "output_type": "display_data"
    },
    {
     "data": {
      "text/html": [
       " View project at <a href='https://wandb.ai/danish2562022/sweeps-SEIR_kalmar_bleking' target=\"_blank\">https://wandb.ai/danish2562022/sweeps-SEIR_kalmar_bleking</a>"
      ],
      "text/plain": [
       "<IPython.core.display.HTML object>"
      ]
     },
     "metadata": {},
     "output_type": "display_data"
    },
    {
     "data": {
      "text/html": [
       " View sweep at <a href='https://wandb.ai/danish2562022/sweeps-SEIR_kalmar_bleking/sweeps/za0efz19' target=\"_blank\">https://wandb.ai/danish2562022/sweeps-SEIR_kalmar_bleking/sweeps/za0efz19</a>"
      ],
      "text/plain": [
       "<IPython.core.display.HTML object>"
      ]
     },
     "metadata": {},
     "output_type": "display_data"
    },
    {
     "data": {
      "text/html": [
       " View run at <a href='https://wandb.ai/danish2562022/sweeps-SEIR_kalmar_bleking/runs/we2lxjwk' target=\"_blank\">https://wandb.ai/danish2562022/sweeps-SEIR_kalmar_bleking/runs/we2lxjwk</a>"
      ],
      "text/plain": [
       "<IPython.core.display.HTML object>"
      ]
     },
     "metadata": {},
     "output_type": "display_data"
    },
    {
     "data": {
      "application/vnd.jupyter.widget-view+json": {
       "model_id": "8b56a3b38b0b4de5b3ca0296824e2162",
       "version_major": 2,
       "version_minor": 0
      },
      "text/plain": [
       "VBox(children=(Label(value='0.021 MB of 0.021 MB uploaded\\r'), FloatProgress(value=0.9859749455337691, max=1.0…"
      ]
     },
     "metadata": {},
     "output_type": "display_data"
    },
    {
     "data": {
      "text/html": [
       "<style>\n",
       "    table.wandb td:nth-child(1) { padding: 0 10px; text-align: left ; width: auto;} td:nth-child(2) {text-align: left ; width: 100%}\n",
       "    .wandb-row { display: flex; flex-direction: row; flex-wrap: wrap; justify-content: flex-start; width: 100% }\n",
       "    .wandb-col { display: flex; flex-direction: column; flex-basis: 100%; flex: 1; padding: 10px; }\n",
       "    </style>\n",
       "<div class=\"wandb-row\"><div class=\"wandb-col\"><h3>Run history:</h3><br/><table class=\"wandb\"><tr><td>CV_RMSE</td><td>▁</td></tr><tr><td>CV_RMSE_'Kalmar</td><td>▁</td></tr><tr><td>CV_RMSE_Blekinge</td><td>▁</td></tr><tr><td>RMSE</td><td>▁</td></tr><tr><td>RMSE_Blekinge</td><td>▁</td></tr><tr><td>RMSE_Kalmar</td><td>▁</td></tr></table><br/></div><div class=\"wandb-col\"><h3>Run summary:</h3><br/><table class=\"wandb\"><tr><td>CV_RMSE</td><td>3165.41517</td></tr><tr><td>CV_RMSE_'Kalmar</td><td>931.33904</td></tr><tr><td>CV_RMSE_Blekinge</td><td>2234.07613</td></tr><tr><td>RMSE</td><td>196.52356</td></tr><tr><td>RMSE_Blekinge</td><td>100.2852</td></tr><tr><td>RMSE_Kalmar</td><td>96.23837</td></tr></table><br/></div></div>"
      ],
      "text/plain": [
       "<IPython.core.display.HTML object>"
      ]
     },
     "metadata": {},
     "output_type": "display_data"
    },
    {
     "data": {
      "text/html": [
       " View run <strong style=\"color:#cdcd00\">vibrant-sweep-69</strong> at: <a href='https://wandb.ai/danish2562022/sweeps-SEIR_kalmar_bleking/runs/we2lxjwk' target=\"_blank\">https://wandb.ai/danish2562022/sweeps-SEIR_kalmar_bleking/runs/we2lxjwk</a><br/> View project at: <a href='https://wandb.ai/danish2562022/sweeps-SEIR_kalmar_bleking' target=\"_blank\">https://wandb.ai/danish2562022/sweeps-SEIR_kalmar_bleking</a><br/>Synced 5 W&B file(s), 0 media file(s), 0 artifact file(s) and 0 other file(s)"
      ],
      "text/plain": [
       "<IPython.core.display.HTML object>"
      ]
     },
     "metadata": {},
     "output_type": "display_data"
    },
    {
     "data": {
      "text/html": [
       "Find logs at: <code>./wandb/run-20250528_185757-we2lxjwk/logs</code>"
      ],
      "text/plain": [
       "<IPython.core.display.HTML object>"
      ]
     },
     "metadata": {},
     "output_type": "display_data"
    },
    {
     "data": {
      "text/html": [
       "The new W&B backend becomes opt-out in version 0.18.0; try it out with `wandb.require(\"core\")`! See https://wandb.me/wandb-core for more information."
      ],
      "text/plain": [
       "<IPython.core.display.HTML object>"
      ]
     },
     "metadata": {},
     "output_type": "display_data"
    },
    {
     "name": "stderr",
     "output_type": "stream",
     "text": [
      "\u001b[34m\u001b[1mwandb\u001b[0m: Agent Starting Run: zo5c1bct with config:\n",
      "\u001b[34m\u001b[1mwandb\u001b[0m: \tah0: 0.8029404937485691\n",
      "\u001b[34m\u001b[1mwandb\u001b[0m: \tah1: 2.5312097716941517\n",
      "\u001b[34m\u001b[1mwandb\u001b[0m: \tbh0: 6.9155971067709165\n",
      "\u001b[34m\u001b[1mwandb\u001b[0m: \tbh1: 2.879205436635238\n",
      "\u001b[34m\u001b[1mwandb\u001b[0m: \tc: 0.07017986246735386\n"
     ]
    },
    {
     "data": {
      "text/html": [
       "wandb version 0.19.11 is available!  To upgrade, please run:\n",
       " $ pip install wandb --upgrade"
      ],
      "text/plain": [
       "<IPython.core.display.HTML object>"
      ]
     },
     "metadata": {},
     "output_type": "display_data"
    },
    {
     "data": {
      "text/html": [
       "Tracking run with wandb version 0.17.4"
      ],
      "text/plain": [
       "<IPython.core.display.HTML object>"
      ]
     },
     "metadata": {},
     "output_type": "display_data"
    },
    {
     "data": {
      "text/html": [
       "Run data is saved locally in <code>/12tb_dsk3/SEIR_model/src/wandb/run-20250528_185808-zo5c1bct</code>"
      ],
      "text/plain": [
       "<IPython.core.display.HTML object>"
      ]
     },
     "metadata": {},
     "output_type": "display_data"
    },
    {
     "data": {
      "text/html": [
       "Syncing run <strong><a href='https://wandb.ai/danish2562022/sweeps-SEIR_kalmar_bleking/runs/zo5c1bct' target=\"_blank\">prime-sweep-70</a></strong> to <a href='https://wandb.ai/danish2562022/sweeps-SEIR_kalmar_bleking' target=\"_blank\">Weights & Biases</a> (<a href='https://wandb.me/run' target=\"_blank\">docs</a>)<br/>Sweep page: <a href='https://wandb.ai/danish2562022/sweeps-SEIR_kalmar_bleking/sweeps/za0efz19' target=\"_blank\">https://wandb.ai/danish2562022/sweeps-SEIR_kalmar_bleking/sweeps/za0efz19</a>"
      ],
      "text/plain": [
       "<IPython.core.display.HTML object>"
      ]
     },
     "metadata": {},
     "output_type": "display_data"
    },
    {
     "data": {
      "text/html": [
       " View project at <a href='https://wandb.ai/danish2562022/sweeps-SEIR_kalmar_bleking' target=\"_blank\">https://wandb.ai/danish2562022/sweeps-SEIR_kalmar_bleking</a>"
      ],
      "text/plain": [
       "<IPython.core.display.HTML object>"
      ]
     },
     "metadata": {},
     "output_type": "display_data"
    },
    {
     "data": {
      "text/html": [
       " View sweep at <a href='https://wandb.ai/danish2562022/sweeps-SEIR_kalmar_bleking/sweeps/za0efz19' target=\"_blank\">https://wandb.ai/danish2562022/sweeps-SEIR_kalmar_bleking/sweeps/za0efz19</a>"
      ],
      "text/plain": [
       "<IPython.core.display.HTML object>"
      ]
     },
     "metadata": {},
     "output_type": "display_data"
    },
    {
     "data": {
      "text/html": [
       " View run at <a href='https://wandb.ai/danish2562022/sweeps-SEIR_kalmar_bleking/runs/zo5c1bct' target=\"_blank\">https://wandb.ai/danish2562022/sweeps-SEIR_kalmar_bleking/runs/zo5c1bct</a>"
      ],
      "text/plain": [
       "<IPython.core.display.HTML object>"
      ]
     },
     "metadata": {},
     "output_type": "display_data"
    },
    {
     "data": {
      "application/vnd.jupyter.widget-view+json": {
       "model_id": "300a1f5db375499e98ad7d620d2a3f12",
       "version_major": 2,
       "version_minor": 0
      },
      "text/plain": [
       "VBox(children=(Label(value='0.021 MB of 0.021 MB uploaded\\r'), FloatProgress(value=1.0, max=1.0)))"
      ]
     },
     "metadata": {},
     "output_type": "display_data"
    },
    {
     "data": {
      "text/html": [
       "<style>\n",
       "    table.wandb td:nth-child(1) { padding: 0 10px; text-align: left ; width: auto;} td:nth-child(2) {text-align: left ; width: 100%}\n",
       "    .wandb-row { display: flex; flex-direction: row; flex-wrap: wrap; justify-content: flex-start; width: 100% }\n",
       "    .wandb-col { display: flex; flex-direction: column; flex-basis: 100%; flex: 1; padding: 10px; }\n",
       "    </style>\n",
       "<div class=\"wandb-row\"><div class=\"wandb-col\"><h3>Run history:</h3><br/><table class=\"wandb\"><tr><td>CV_RMSE</td><td>▁</td></tr><tr><td>CV_RMSE_'Kalmar</td><td>▁</td></tr><tr><td>CV_RMSE_Blekinge</td><td>▁</td></tr><tr><td>RMSE</td><td>▁</td></tr><tr><td>RMSE_Blekinge</td><td>▁</td></tr><tr><td>RMSE_Kalmar</td><td>▁</td></tr></table><br/></div><div class=\"wandb-col\"><h3>Run summary:</h3><br/><table class=\"wandb\"><tr><td>CV_RMSE</td><td>2764.43322</td></tr><tr><td>CV_RMSE_'Kalmar</td><td>685.95732</td></tr><tr><td>CV_RMSE_Blekinge</td><td>2078.4759</td></tr><tr><td>RMSE</td><td>164.18273</td></tr><tr><td>RMSE_Blekinge</td><td>93.30047</td></tr><tr><td>RMSE_Kalmar</td><td>70.88226</td></tr></table><br/></div></div>"
      ],
      "text/plain": [
       "<IPython.core.display.HTML object>"
      ]
     },
     "metadata": {},
     "output_type": "display_data"
    },
    {
     "data": {
      "text/html": [
       " View run <strong style=\"color:#cdcd00\">prime-sweep-70</strong> at: <a href='https://wandb.ai/danish2562022/sweeps-SEIR_kalmar_bleking/runs/zo5c1bct' target=\"_blank\">https://wandb.ai/danish2562022/sweeps-SEIR_kalmar_bleking/runs/zo5c1bct</a><br/> View project at: <a href='https://wandb.ai/danish2562022/sweeps-SEIR_kalmar_bleking' target=\"_blank\">https://wandb.ai/danish2562022/sweeps-SEIR_kalmar_bleking</a><br/>Synced 5 W&B file(s), 0 media file(s), 0 artifact file(s) and 0 other file(s)"
      ],
      "text/plain": [
       "<IPython.core.display.HTML object>"
      ]
     },
     "metadata": {},
     "output_type": "display_data"
    },
    {
     "data": {
      "text/html": [
       "Find logs at: <code>./wandb/run-20250528_185808-zo5c1bct/logs</code>"
      ],
      "text/plain": [
       "<IPython.core.display.HTML object>"
      ]
     },
     "metadata": {},
     "output_type": "display_data"
    },
    {
     "data": {
      "text/html": [
       "The new W&B backend becomes opt-out in version 0.18.0; try it out with `wandb.require(\"core\")`! See https://wandb.me/wandb-core for more information."
      ],
      "text/plain": [
       "<IPython.core.display.HTML object>"
      ]
     },
     "metadata": {},
     "output_type": "display_data"
    },
    {
     "name": "stderr",
     "output_type": "stream",
     "text": [
      "\u001b[34m\u001b[1mwandb\u001b[0m: Agent Starting Run: tnzcnnb3 with config:\n",
      "\u001b[34m\u001b[1mwandb\u001b[0m: \tah0: 1.7402062261812996\n",
      "\u001b[34m\u001b[1mwandb\u001b[0m: \tah1: 1.987225784704964\n",
      "\u001b[34m\u001b[1mwandb\u001b[0m: \tbh0: 6.645485448177161\n",
      "\u001b[34m\u001b[1mwandb\u001b[0m: \tbh1: 1.5584954415167718\n",
      "\u001b[34m\u001b[1mwandb\u001b[0m: \tc: 0.923023267204594\n"
     ]
    },
    {
     "data": {
      "text/html": [
       "wandb version 0.19.11 is available!  To upgrade, please run:\n",
       " $ pip install wandb --upgrade"
      ],
      "text/plain": [
       "<IPython.core.display.HTML object>"
      ]
     },
     "metadata": {},
     "output_type": "display_data"
    },
    {
     "data": {
      "text/html": [
       "Tracking run with wandb version 0.17.4"
      ],
      "text/plain": [
       "<IPython.core.display.HTML object>"
      ]
     },
     "metadata": {},
     "output_type": "display_data"
    },
    {
     "data": {
      "text/html": [
       "Run data is saved locally in <code>/12tb_dsk3/SEIR_model/src/wandb/run-20250528_185818-tnzcnnb3</code>"
      ],
      "text/plain": [
       "<IPython.core.display.HTML object>"
      ]
     },
     "metadata": {},
     "output_type": "display_data"
    },
    {
     "data": {
      "text/html": [
       "Syncing run <strong><a href='https://wandb.ai/danish2562022/sweeps-SEIR_kalmar_bleking/runs/tnzcnnb3' target=\"_blank\">swept-sweep-71</a></strong> to <a href='https://wandb.ai/danish2562022/sweeps-SEIR_kalmar_bleking' target=\"_blank\">Weights & Biases</a> (<a href='https://wandb.me/run' target=\"_blank\">docs</a>)<br/>Sweep page: <a href='https://wandb.ai/danish2562022/sweeps-SEIR_kalmar_bleking/sweeps/za0efz19' target=\"_blank\">https://wandb.ai/danish2562022/sweeps-SEIR_kalmar_bleking/sweeps/za0efz19</a>"
      ],
      "text/plain": [
       "<IPython.core.display.HTML object>"
      ]
     },
     "metadata": {},
     "output_type": "display_data"
    },
    {
     "data": {
      "text/html": [
       " View project at <a href='https://wandb.ai/danish2562022/sweeps-SEIR_kalmar_bleking' target=\"_blank\">https://wandb.ai/danish2562022/sweeps-SEIR_kalmar_bleking</a>"
      ],
      "text/plain": [
       "<IPython.core.display.HTML object>"
      ]
     },
     "metadata": {},
     "output_type": "display_data"
    },
    {
     "data": {
      "text/html": [
       " View sweep at <a href='https://wandb.ai/danish2562022/sweeps-SEIR_kalmar_bleking/sweeps/za0efz19' target=\"_blank\">https://wandb.ai/danish2562022/sweeps-SEIR_kalmar_bleking/sweeps/za0efz19</a>"
      ],
      "text/plain": [
       "<IPython.core.display.HTML object>"
      ]
     },
     "metadata": {},
     "output_type": "display_data"
    },
    {
     "data": {
      "text/html": [
       " View run at <a href='https://wandb.ai/danish2562022/sweeps-SEIR_kalmar_bleking/runs/tnzcnnb3' target=\"_blank\">https://wandb.ai/danish2562022/sweeps-SEIR_kalmar_bleking/runs/tnzcnnb3</a>"
      ],
      "text/plain": [
       "<IPython.core.display.HTML object>"
      ]
     },
     "metadata": {},
     "output_type": "display_data"
    },
    {
     "data": {
      "application/vnd.jupyter.widget-view+json": {
       "model_id": "785bf05db6a24cd29e03ca7874bdb5c3",
       "version_major": 2,
       "version_minor": 0
      },
      "text/plain": [
       "VBox(children=(Label(value='0.021 MB of 0.021 MB uploaded\\r'), FloatProgress(value=1.0, max=1.0)))"
      ]
     },
     "metadata": {},
     "output_type": "display_data"
    },
    {
     "data": {
      "text/html": [
       "<style>\n",
       "    table.wandb td:nth-child(1) { padding: 0 10px; text-align: left ; width: auto;} td:nth-child(2) {text-align: left ; width: 100%}\n",
       "    .wandb-row { display: flex; flex-direction: row; flex-wrap: wrap; justify-content: flex-start; width: 100% }\n",
       "    .wandb-col { display: flex; flex-direction: column; flex-basis: 100%; flex: 1; padding: 10px; }\n",
       "    </style>\n",
       "<div class=\"wandb-row\"><div class=\"wandb-col\"><h3>Run history:</h3><br/><table class=\"wandb\"><tr><td>CV_RMSE</td><td>▁</td></tr><tr><td>CV_RMSE_'Kalmar</td><td>▁</td></tr><tr><td>CV_RMSE_Blekinge</td><td>▁</td></tr><tr><td>RMSE</td><td>▁</td></tr><tr><td>RMSE_Blekinge</td><td>▁</td></tr><tr><td>RMSE_Kalmar</td><td>▁</td></tr></table><br/></div><div class=\"wandb-col\"><h3>Run summary:</h3><br/><table class=\"wandb\"><tr><td>CV_RMSE</td><td>3194.76611</td></tr><tr><td>CV_RMSE_'Kalmar</td><td>1364.25082</td></tr><tr><td>CV_RMSE_Blekinge</td><td>1830.5153</td></tr><tr><td>RMSE</td><td>223.14238</td></tr><tr><td>RMSE_Blekinge</td><td>82.1698</td></tr><tr><td>RMSE_Kalmar</td><td>140.97258</td></tr></table><br/></div></div>"
      ],
      "text/plain": [
       "<IPython.core.display.HTML object>"
      ]
     },
     "metadata": {},
     "output_type": "display_data"
    },
    {
     "data": {
      "text/html": [
       " View run <strong style=\"color:#cdcd00\">swept-sweep-71</strong> at: <a href='https://wandb.ai/danish2562022/sweeps-SEIR_kalmar_bleking/runs/tnzcnnb3' target=\"_blank\">https://wandb.ai/danish2562022/sweeps-SEIR_kalmar_bleking/runs/tnzcnnb3</a><br/> View project at: <a href='https://wandb.ai/danish2562022/sweeps-SEIR_kalmar_bleking' target=\"_blank\">https://wandb.ai/danish2562022/sweeps-SEIR_kalmar_bleking</a><br/>Synced 5 W&B file(s), 0 media file(s), 0 artifact file(s) and 0 other file(s)"
      ],
      "text/plain": [
       "<IPython.core.display.HTML object>"
      ]
     },
     "metadata": {},
     "output_type": "display_data"
    },
    {
     "data": {
      "text/html": [
       "Find logs at: <code>./wandb/run-20250528_185818-tnzcnnb3/logs</code>"
      ],
      "text/plain": [
       "<IPython.core.display.HTML object>"
      ]
     },
     "metadata": {},
     "output_type": "display_data"
    },
    {
     "data": {
      "text/html": [
       "The new W&B backend becomes opt-out in version 0.18.0; try it out with `wandb.require(\"core\")`! See https://wandb.me/wandb-core for more information."
      ],
      "text/plain": [
       "<IPython.core.display.HTML object>"
      ]
     },
     "metadata": {},
     "output_type": "display_data"
    },
    {
     "name": "stderr",
     "output_type": "stream",
     "text": [
      "\u001b[34m\u001b[1mwandb\u001b[0m: Agent Starting Run: pimo9qc0 with config:\n",
      "\u001b[34m\u001b[1mwandb\u001b[0m: \tah0: 2.252281068389987\n",
      "\u001b[34m\u001b[1mwandb\u001b[0m: \tah1: 0.7201562154431704\n",
      "\u001b[34m\u001b[1mwandb\u001b[0m: \tbh0: 7.746623150731853\n",
      "\u001b[34m\u001b[1mwandb\u001b[0m: \tbh1: 1.9263026996705424\n",
      "\u001b[34m\u001b[1mwandb\u001b[0m: \tc: 0.014774442604103877\n"
     ]
    },
    {
     "data": {
      "text/html": [
       "wandb version 0.19.11 is available!  To upgrade, please run:\n",
       " $ pip install wandb --upgrade"
      ],
      "text/plain": [
       "<IPython.core.display.HTML object>"
      ]
     },
     "metadata": {},
     "output_type": "display_data"
    },
    {
     "data": {
      "text/html": [
       "Tracking run with wandb version 0.17.4"
      ],
      "text/plain": [
       "<IPython.core.display.HTML object>"
      ]
     },
     "metadata": {},
     "output_type": "display_data"
    },
    {
     "data": {
      "text/html": [
       "Run data is saved locally in <code>/12tb_dsk3/SEIR_model/src/wandb/run-20250528_185829-pimo9qc0</code>"
      ],
      "text/plain": [
       "<IPython.core.display.HTML object>"
      ]
     },
     "metadata": {},
     "output_type": "display_data"
    },
    {
     "data": {
      "text/html": [
       "Syncing run <strong><a href='https://wandb.ai/danish2562022/sweeps-SEIR_kalmar_bleking/runs/pimo9qc0' target=\"_blank\">neat-sweep-72</a></strong> to <a href='https://wandb.ai/danish2562022/sweeps-SEIR_kalmar_bleking' target=\"_blank\">Weights & Biases</a> (<a href='https://wandb.me/run' target=\"_blank\">docs</a>)<br/>Sweep page: <a href='https://wandb.ai/danish2562022/sweeps-SEIR_kalmar_bleking/sweeps/za0efz19' target=\"_blank\">https://wandb.ai/danish2562022/sweeps-SEIR_kalmar_bleking/sweeps/za0efz19</a>"
      ],
      "text/plain": [
       "<IPython.core.display.HTML object>"
      ]
     },
     "metadata": {},
     "output_type": "display_data"
    },
    {
     "data": {
      "text/html": [
       " View project at <a href='https://wandb.ai/danish2562022/sweeps-SEIR_kalmar_bleking' target=\"_blank\">https://wandb.ai/danish2562022/sweeps-SEIR_kalmar_bleking</a>"
      ],
      "text/plain": [
       "<IPython.core.display.HTML object>"
      ]
     },
     "metadata": {},
     "output_type": "display_data"
    },
    {
     "data": {
      "text/html": [
       " View sweep at <a href='https://wandb.ai/danish2562022/sweeps-SEIR_kalmar_bleking/sweeps/za0efz19' target=\"_blank\">https://wandb.ai/danish2562022/sweeps-SEIR_kalmar_bleking/sweeps/za0efz19</a>"
      ],
      "text/plain": [
       "<IPython.core.display.HTML object>"
      ]
     },
     "metadata": {},
     "output_type": "display_data"
    },
    {
     "data": {
      "text/html": [
       " View run at <a href='https://wandb.ai/danish2562022/sweeps-SEIR_kalmar_bleking/runs/pimo9qc0' target=\"_blank\">https://wandb.ai/danish2562022/sweeps-SEIR_kalmar_bleking/runs/pimo9qc0</a>"
      ],
      "text/plain": [
       "<IPython.core.display.HTML object>"
      ]
     },
     "metadata": {},
     "output_type": "display_data"
    },
    {
     "data": {
      "application/vnd.jupyter.widget-view+json": {
       "model_id": "73d33eca85d84085b4f4b7d6e3d6fc7b",
       "version_major": 2,
       "version_minor": 0
      },
      "text/plain": [
       "VBox(children=(Label(value='0.021 MB of 0.021 MB uploaded\\r'), FloatProgress(value=1.0, max=1.0)))"
      ]
     },
     "metadata": {},
     "output_type": "display_data"
    },
    {
     "data": {
      "text/html": [
       "<style>\n",
       "    table.wandb td:nth-child(1) { padding: 0 10px; text-align: left ; width: auto;} td:nth-child(2) {text-align: left ; width: 100%}\n",
       "    .wandb-row { display: flex; flex-direction: row; flex-wrap: wrap; justify-content: flex-start; width: 100% }\n",
       "    .wandb-col { display: flex; flex-direction: column; flex-basis: 100%; flex: 1; padding: 10px; }\n",
       "    </style>\n",
       "<div class=\"wandb-row\"><div class=\"wandb-col\"><h3>Run history:</h3><br/><table class=\"wandb\"><tr><td>CV_RMSE</td><td>▁</td></tr><tr><td>CV_RMSE_'Kalmar</td><td>▁</td></tr><tr><td>CV_RMSE_Blekinge</td><td>▁</td></tr><tr><td>RMSE</td><td>▁</td></tr><tr><td>RMSE_Blekinge</td><td>▁</td></tr><tr><td>RMSE_Kalmar</td><td>▁</td></tr></table><br/></div><div class=\"wandb-col\"><h3>Run summary:</h3><br/><table class=\"wandb\"><tr><td>CV_RMSE</td><td>1249.82565</td></tr><tr><td>CV_RMSE_'Kalmar</td><td>1094.36618</td></tr><tr><td>CV_RMSE_Blekinge</td><td>155.45946</td></tr><tr><td>RMSE</td><td>120.06291</td></tr><tr><td>RMSE_Blekinge</td><td>6.9784</td></tr><tr><td>RMSE_Kalmar</td><td>113.08451</td></tr></table><br/></div></div>"
      ],
      "text/plain": [
       "<IPython.core.display.HTML object>"
      ]
     },
     "metadata": {},
     "output_type": "display_data"
    },
    {
     "data": {
      "text/html": [
       " View run <strong style=\"color:#cdcd00\">neat-sweep-72</strong> at: <a href='https://wandb.ai/danish2562022/sweeps-SEIR_kalmar_bleking/runs/pimo9qc0' target=\"_blank\">https://wandb.ai/danish2562022/sweeps-SEIR_kalmar_bleking/runs/pimo9qc0</a><br/> View project at: <a href='https://wandb.ai/danish2562022/sweeps-SEIR_kalmar_bleking' target=\"_blank\">https://wandb.ai/danish2562022/sweeps-SEIR_kalmar_bleking</a><br/>Synced 5 W&B file(s), 0 media file(s), 0 artifact file(s) and 0 other file(s)"
      ],
      "text/plain": [
       "<IPython.core.display.HTML object>"
      ]
     },
     "metadata": {},
     "output_type": "display_data"
    },
    {
     "data": {
      "text/html": [
       "Find logs at: <code>./wandb/run-20250528_185829-pimo9qc0/logs</code>"
      ],
      "text/plain": [
       "<IPython.core.display.HTML object>"
      ]
     },
     "metadata": {},
     "output_type": "display_data"
    },
    {
     "data": {
      "text/html": [
       "The new W&B backend becomes opt-out in version 0.18.0; try it out with `wandb.require(\"core\")`! See https://wandb.me/wandb-core for more information."
      ],
      "text/plain": [
       "<IPython.core.display.HTML object>"
      ]
     },
     "metadata": {},
     "output_type": "display_data"
    },
    {
     "name": "stderr",
     "output_type": "stream",
     "text": [
      "\u001b[34m\u001b[1mwandb\u001b[0m: Agent Starting Run: ej3wlovh with config:\n",
      "\u001b[34m\u001b[1mwandb\u001b[0m: \tah0: 2.6185289892807577\n",
      "\u001b[34m\u001b[1mwandb\u001b[0m: \tah1: 1.7870960407150092\n",
      "\u001b[34m\u001b[1mwandb\u001b[0m: \tbh0: 2.0363402017373797\n",
      "\u001b[34m\u001b[1mwandb\u001b[0m: \tbh1: 5.929143849156251\n",
      "\u001b[34m\u001b[1mwandb\u001b[0m: \tc: 0.6542513113577205\n"
     ]
    },
    {
     "data": {
      "text/html": [
       "wandb version 0.19.11 is available!  To upgrade, please run:\n",
       " $ pip install wandb --upgrade"
      ],
      "text/plain": [
       "<IPython.core.display.HTML object>"
      ]
     },
     "metadata": {},
     "output_type": "display_data"
    },
    {
     "data": {
      "text/html": [
       "Tracking run with wandb version 0.17.4"
      ],
      "text/plain": [
       "<IPython.core.display.HTML object>"
      ]
     },
     "metadata": {},
     "output_type": "display_data"
    },
    {
     "data": {
      "text/html": [
       "Run data is saved locally in <code>/12tb_dsk3/SEIR_model/src/wandb/run-20250528_185839-ej3wlovh</code>"
      ],
      "text/plain": [
       "<IPython.core.display.HTML object>"
      ]
     },
     "metadata": {},
     "output_type": "display_data"
    },
    {
     "data": {
      "text/html": [
       "Syncing run <strong><a href='https://wandb.ai/danish2562022/sweeps-SEIR_kalmar_bleking/runs/ej3wlovh' target=\"_blank\">chocolate-sweep-73</a></strong> to <a href='https://wandb.ai/danish2562022/sweeps-SEIR_kalmar_bleking' target=\"_blank\">Weights & Biases</a> (<a href='https://wandb.me/run' target=\"_blank\">docs</a>)<br/>Sweep page: <a href='https://wandb.ai/danish2562022/sweeps-SEIR_kalmar_bleking/sweeps/za0efz19' target=\"_blank\">https://wandb.ai/danish2562022/sweeps-SEIR_kalmar_bleking/sweeps/za0efz19</a>"
      ],
      "text/plain": [
       "<IPython.core.display.HTML object>"
      ]
     },
     "metadata": {},
     "output_type": "display_data"
    },
    {
     "data": {
      "text/html": [
       " View project at <a href='https://wandb.ai/danish2562022/sweeps-SEIR_kalmar_bleking' target=\"_blank\">https://wandb.ai/danish2562022/sweeps-SEIR_kalmar_bleking</a>"
      ],
      "text/plain": [
       "<IPython.core.display.HTML object>"
      ]
     },
     "metadata": {},
     "output_type": "display_data"
    },
    {
     "data": {
      "text/html": [
       " View sweep at <a href='https://wandb.ai/danish2562022/sweeps-SEIR_kalmar_bleking/sweeps/za0efz19' target=\"_blank\">https://wandb.ai/danish2562022/sweeps-SEIR_kalmar_bleking/sweeps/za0efz19</a>"
      ],
      "text/plain": [
       "<IPython.core.display.HTML object>"
      ]
     },
     "metadata": {},
     "output_type": "display_data"
    },
    {
     "data": {
      "text/html": [
       " View run at <a href='https://wandb.ai/danish2562022/sweeps-SEIR_kalmar_bleking/runs/ej3wlovh' target=\"_blank\">https://wandb.ai/danish2562022/sweeps-SEIR_kalmar_bleking/runs/ej3wlovh</a>"
      ],
      "text/plain": [
       "<IPython.core.display.HTML object>"
      ]
     },
     "metadata": {},
     "output_type": "display_data"
    },
    {
     "data": {
      "application/vnd.jupyter.widget-view+json": {
       "model_id": "14a6a919d6a74b54a696662439ce0db7",
       "version_major": 2,
       "version_minor": 0
      },
      "text/plain": [
       "VBox(children=(Label(value='0.021 MB of 0.021 MB uploaded\\r'), FloatProgress(value=1.0, max=1.0)))"
      ]
     },
     "metadata": {},
     "output_type": "display_data"
    },
    {
     "data": {
      "text/html": [
       "<style>\n",
       "    table.wandb td:nth-child(1) { padding: 0 10px; text-align: left ; width: auto;} td:nth-child(2) {text-align: left ; width: 100%}\n",
       "    .wandb-row { display: flex; flex-direction: row; flex-wrap: wrap; justify-content: flex-start; width: 100% }\n",
       "    .wandb-col { display: flex; flex-direction: column; flex-basis: 100%; flex: 1; padding: 10px; }\n",
       "    </style>\n",
       "<div class=\"wandb-row\"><div class=\"wandb-col\"><h3>Run history:</h3><br/><table class=\"wandb\"><tr><td>CV_RMSE</td><td>▁</td></tr><tr><td>CV_RMSE_'Kalmar</td><td>▁</td></tr><tr><td>CV_RMSE_Blekinge</td><td>▁</td></tr><tr><td>RMSE</td><td>▁</td></tr><tr><td>RMSE_Blekinge</td><td>▁</td></tr><tr><td>RMSE_Kalmar</td><td>▁</td></tr></table><br/></div><div class=\"wandb-col\"><h3>Run summary:</h3><br/><table class=\"wandb\"><tr><td>CV_RMSE</td><td>3066.17025</td></tr><tr><td>CV_RMSE_'Kalmar</td><td>1254.17903</td></tr><tr><td>CV_RMSE_Blekinge</td><td>1811.99122</td></tr><tr><td>RMSE</td><td>210.93677</td></tr><tr><td>RMSE_Blekinge</td><td>81.33827</td></tr><tr><td>RMSE_Kalmar</td><td>129.5985</td></tr></table><br/></div></div>"
      ],
      "text/plain": [
       "<IPython.core.display.HTML object>"
      ]
     },
     "metadata": {},
     "output_type": "display_data"
    },
    {
     "data": {
      "text/html": [
       " View run <strong style=\"color:#cdcd00\">chocolate-sweep-73</strong> at: <a href='https://wandb.ai/danish2562022/sweeps-SEIR_kalmar_bleking/runs/ej3wlovh' target=\"_blank\">https://wandb.ai/danish2562022/sweeps-SEIR_kalmar_bleking/runs/ej3wlovh</a><br/> View project at: <a href='https://wandb.ai/danish2562022/sweeps-SEIR_kalmar_bleking' target=\"_blank\">https://wandb.ai/danish2562022/sweeps-SEIR_kalmar_bleking</a><br/>Synced 5 W&B file(s), 0 media file(s), 0 artifact file(s) and 0 other file(s)"
      ],
      "text/plain": [
       "<IPython.core.display.HTML object>"
      ]
     },
     "metadata": {},
     "output_type": "display_data"
    },
    {
     "data": {
      "text/html": [
       "Find logs at: <code>./wandb/run-20250528_185839-ej3wlovh/logs</code>"
      ],
      "text/plain": [
       "<IPython.core.display.HTML object>"
      ]
     },
     "metadata": {},
     "output_type": "display_data"
    },
    {
     "data": {
      "text/html": [
       "The new W&B backend becomes opt-out in version 0.18.0; try it out with `wandb.require(\"core\")`! See https://wandb.me/wandb-core for more information."
      ],
      "text/plain": [
       "<IPython.core.display.HTML object>"
      ]
     },
     "metadata": {},
     "output_type": "display_data"
    },
    {
     "name": "stderr",
     "output_type": "stream",
     "text": [
      "\u001b[34m\u001b[1mwandb\u001b[0m: Agent Starting Run: wffbkzjp with config:\n",
      "\u001b[34m\u001b[1mwandb\u001b[0m: \tah0: 2.149377439743578\n",
      "\u001b[34m\u001b[1mwandb\u001b[0m: \tah1: 0.7749897787401048\n",
      "\u001b[34m\u001b[1mwandb\u001b[0m: \tbh0: 2.938489134062101\n",
      "\u001b[34m\u001b[1mwandb\u001b[0m: \tbh1: 1.2860064960084905\n",
      "\u001b[34m\u001b[1mwandb\u001b[0m: \tc: 0.7092723561245768\n"
     ]
    },
    {
     "data": {
      "text/html": [
       "wandb version 0.19.11 is available!  To upgrade, please run:\n",
       " $ pip install wandb --upgrade"
      ],
      "text/plain": [
       "<IPython.core.display.HTML object>"
      ]
     },
     "metadata": {},
     "output_type": "display_data"
    },
    {
     "data": {
      "text/html": [
       "Tracking run with wandb version 0.17.4"
      ],
      "text/plain": [
       "<IPython.core.display.HTML object>"
      ]
     },
     "metadata": {},
     "output_type": "display_data"
    },
    {
     "data": {
      "text/html": [
       "Run data is saved locally in <code>/12tb_dsk3/SEIR_model/src/wandb/run-20250528_185849-wffbkzjp</code>"
      ],
      "text/plain": [
       "<IPython.core.display.HTML object>"
      ]
     },
     "metadata": {},
     "output_type": "display_data"
    },
    {
     "data": {
      "text/html": [
       "Syncing run <strong><a href='https://wandb.ai/danish2562022/sweeps-SEIR_kalmar_bleking/runs/wffbkzjp' target=\"_blank\">amber-sweep-74</a></strong> to <a href='https://wandb.ai/danish2562022/sweeps-SEIR_kalmar_bleking' target=\"_blank\">Weights & Biases</a> (<a href='https://wandb.me/run' target=\"_blank\">docs</a>)<br/>Sweep page: <a href='https://wandb.ai/danish2562022/sweeps-SEIR_kalmar_bleking/sweeps/za0efz19' target=\"_blank\">https://wandb.ai/danish2562022/sweeps-SEIR_kalmar_bleking/sweeps/za0efz19</a>"
      ],
      "text/plain": [
       "<IPython.core.display.HTML object>"
      ]
     },
     "metadata": {},
     "output_type": "display_data"
    },
    {
     "data": {
      "text/html": [
       " View project at <a href='https://wandb.ai/danish2562022/sweeps-SEIR_kalmar_bleking' target=\"_blank\">https://wandb.ai/danish2562022/sweeps-SEIR_kalmar_bleking</a>"
      ],
      "text/plain": [
       "<IPython.core.display.HTML object>"
      ]
     },
     "metadata": {},
     "output_type": "display_data"
    },
    {
     "data": {
      "text/html": [
       " View sweep at <a href='https://wandb.ai/danish2562022/sweeps-SEIR_kalmar_bleking/sweeps/za0efz19' target=\"_blank\">https://wandb.ai/danish2562022/sweeps-SEIR_kalmar_bleking/sweeps/za0efz19</a>"
      ],
      "text/plain": [
       "<IPython.core.display.HTML object>"
      ]
     },
     "metadata": {},
     "output_type": "display_data"
    },
    {
     "data": {
      "text/html": [
       " View run at <a href='https://wandb.ai/danish2562022/sweeps-SEIR_kalmar_bleking/runs/wffbkzjp' target=\"_blank\">https://wandb.ai/danish2562022/sweeps-SEIR_kalmar_bleking/runs/wffbkzjp</a>"
      ],
      "text/plain": [
       "<IPython.core.display.HTML object>"
      ]
     },
     "metadata": {},
     "output_type": "display_data"
    },
    {
     "data": {
      "application/vnd.jupyter.widget-view+json": {
       "model_id": "df06acca57ce49ac9c5429c2a13db390",
       "version_major": 2,
       "version_minor": 0
      },
      "text/plain": [
       "VBox(children=(Label(value='0.021 MB of 0.021 MB uploaded\\r'), FloatProgress(value=1.0, max=1.0)))"
      ]
     },
     "metadata": {},
     "output_type": "display_data"
    },
    {
     "data": {
      "text/html": [
       "<style>\n",
       "    table.wandb td:nth-child(1) { padding: 0 10px; text-align: left ; width: auto;} td:nth-child(2) {text-align: left ; width: 100%}\n",
       "    .wandb-row { display: flex; flex-direction: row; flex-wrap: wrap; justify-content: flex-start; width: 100% }\n",
       "    .wandb-col { display: flex; flex-direction: column; flex-basis: 100%; flex: 1; padding: 10px; }\n",
       "    </style>\n",
       "<div class=\"wandb-row\"><div class=\"wandb-col\"><h3>Run history:</h3><br/><table class=\"wandb\"><tr><td>CV_RMSE</td><td>▁</td></tr><tr><td>CV_RMSE_'Kalmar</td><td>▁</td></tr><tr><td>CV_RMSE_Blekinge</td><td>▁</td></tr><tr><td>RMSE</td><td>▁</td></tr><tr><td>RMSE_Blekinge</td><td>▁</td></tr><tr><td>RMSE_Kalmar</td><td>▁</td></tr></table><br/></div><div class=\"wandb-col\"><h3>Run summary:</h3><br/><table class=\"wandb\"><tr><td>CV_RMSE</td><td>2903.92757</td></tr><tr><td>CV_RMSE_'Kalmar</td><td>1464.29973</td></tr><tr><td>CV_RMSE_Blekinge</td><td>1439.62784</td></tr><tr><td>RMSE</td><td>215.93427</td></tr><tr><td>RMSE_Blekinge</td><td>64.62329</td></tr><tr><td>RMSE_Kalmar</td><td>151.31097</td></tr></table><br/></div></div>"
      ],
      "text/plain": [
       "<IPython.core.display.HTML object>"
      ]
     },
     "metadata": {},
     "output_type": "display_data"
    },
    {
     "data": {
      "text/html": [
       " View run <strong style=\"color:#cdcd00\">amber-sweep-74</strong> at: <a href='https://wandb.ai/danish2562022/sweeps-SEIR_kalmar_bleking/runs/wffbkzjp' target=\"_blank\">https://wandb.ai/danish2562022/sweeps-SEIR_kalmar_bleking/runs/wffbkzjp</a><br/> View project at: <a href='https://wandb.ai/danish2562022/sweeps-SEIR_kalmar_bleking' target=\"_blank\">https://wandb.ai/danish2562022/sweeps-SEIR_kalmar_bleking</a><br/>Synced 5 W&B file(s), 0 media file(s), 0 artifact file(s) and 0 other file(s)"
      ],
      "text/plain": [
       "<IPython.core.display.HTML object>"
      ]
     },
     "metadata": {},
     "output_type": "display_data"
    },
    {
     "data": {
      "text/html": [
       "Find logs at: <code>./wandb/run-20250528_185849-wffbkzjp/logs</code>"
      ],
      "text/plain": [
       "<IPython.core.display.HTML object>"
      ]
     },
     "metadata": {},
     "output_type": "display_data"
    },
    {
     "data": {
      "text/html": [
       "The new W&B backend becomes opt-out in version 0.18.0; try it out with `wandb.require(\"core\")`! See https://wandb.me/wandb-core for more information."
      ],
      "text/plain": [
       "<IPython.core.display.HTML object>"
      ]
     },
     "metadata": {},
     "output_type": "display_data"
    },
    {
     "name": "stderr",
     "output_type": "stream",
     "text": [
      "\u001b[34m\u001b[1mwandb\u001b[0m: Sweep Agent: Waiting for job.\n",
      "\u001b[34m\u001b[1mwandb\u001b[0m: Job received.\n",
      "\u001b[34m\u001b[1mwandb\u001b[0m: Agent Starting Run: g1lwtdx0 with config:\n",
      "\u001b[34m\u001b[1mwandb\u001b[0m: \tah0: 1.2189307936353029\n",
      "\u001b[34m\u001b[1mwandb\u001b[0m: \tah1: 0.20507973162713333\n",
      "\u001b[34m\u001b[1mwandb\u001b[0m: \tbh0: 0.642697027997865\n",
      "\u001b[34m\u001b[1mwandb\u001b[0m: \tbh1: 1.6272077893513526\n",
      "\u001b[34m\u001b[1mwandb\u001b[0m: \tc: 0.5384898765951812\n"
     ]
    },
    {
     "data": {
      "text/html": [
       "wandb version 0.19.11 is available!  To upgrade, please run:\n",
       " $ pip install wandb --upgrade"
      ],
      "text/plain": [
       "<IPython.core.display.HTML object>"
      ]
     },
     "metadata": {},
     "output_type": "display_data"
    },
    {
     "data": {
      "text/html": [
       "Tracking run with wandb version 0.17.4"
      ],
      "text/plain": [
       "<IPython.core.display.HTML object>"
      ]
     },
     "metadata": {},
     "output_type": "display_data"
    },
    {
     "data": {
      "text/html": [
       "Run data is saved locally in <code>/12tb_dsk3/SEIR_model/src/wandb/run-20250528_185906-g1lwtdx0</code>"
      ],
      "text/plain": [
       "<IPython.core.display.HTML object>"
      ]
     },
     "metadata": {},
     "output_type": "display_data"
    },
    {
     "data": {
      "text/html": [
       "Syncing run <strong><a href='https://wandb.ai/danish2562022/sweeps-SEIR_kalmar_bleking/runs/g1lwtdx0' target=\"_blank\">visionary-sweep-75</a></strong> to <a href='https://wandb.ai/danish2562022/sweeps-SEIR_kalmar_bleking' target=\"_blank\">Weights & Biases</a> (<a href='https://wandb.me/run' target=\"_blank\">docs</a>)<br/>Sweep page: <a href='https://wandb.ai/danish2562022/sweeps-SEIR_kalmar_bleking/sweeps/za0efz19' target=\"_blank\">https://wandb.ai/danish2562022/sweeps-SEIR_kalmar_bleking/sweeps/za0efz19</a>"
      ],
      "text/plain": [
       "<IPython.core.display.HTML object>"
      ]
     },
     "metadata": {},
     "output_type": "display_data"
    },
    {
     "data": {
      "text/html": [
       " View project at <a href='https://wandb.ai/danish2562022/sweeps-SEIR_kalmar_bleking' target=\"_blank\">https://wandb.ai/danish2562022/sweeps-SEIR_kalmar_bleking</a>"
      ],
      "text/plain": [
       "<IPython.core.display.HTML object>"
      ]
     },
     "metadata": {},
     "output_type": "display_data"
    },
    {
     "data": {
      "text/html": [
       " View sweep at <a href='https://wandb.ai/danish2562022/sweeps-SEIR_kalmar_bleking/sweeps/za0efz19' target=\"_blank\">https://wandb.ai/danish2562022/sweeps-SEIR_kalmar_bleking/sweeps/za0efz19</a>"
      ],
      "text/plain": [
       "<IPython.core.display.HTML object>"
      ]
     },
     "metadata": {},
     "output_type": "display_data"
    },
    {
     "data": {
      "text/html": [
       " View run at <a href='https://wandb.ai/danish2562022/sweeps-SEIR_kalmar_bleking/runs/g1lwtdx0' target=\"_blank\">https://wandb.ai/danish2562022/sweeps-SEIR_kalmar_bleking/runs/g1lwtdx0</a>"
      ],
      "text/plain": [
       "<IPython.core.display.HTML object>"
      ]
     },
     "metadata": {},
     "output_type": "display_data"
    },
    {
     "data": {
      "application/vnd.jupyter.widget-view+json": {
       "model_id": "bd598530cacc4cec9cf77689b38af763",
       "version_major": 2,
       "version_minor": 0
      },
      "text/plain": [
       "VBox(children=(Label(value='0.021 MB of 0.021 MB uploaded\\r'), FloatProgress(value=1.0, max=1.0)))"
      ]
     },
     "metadata": {},
     "output_type": "display_data"
    },
    {
     "data": {
      "text/html": [
       "<style>\n",
       "    table.wandb td:nth-child(1) { padding: 0 10px; text-align: left ; width: auto;} td:nth-child(2) {text-align: left ; width: 100%}\n",
       "    .wandb-row { display: flex; flex-direction: row; flex-wrap: wrap; justify-content: flex-start; width: 100% }\n",
       "    .wandb-col { display: flex; flex-direction: column; flex-basis: 100%; flex: 1; padding: 10px; }\n",
       "    </style>\n",
       "<div class=\"wandb-row\"><div class=\"wandb-col\"><h3>Run history:</h3><br/><table class=\"wandb\"><tr><td>CV_RMSE</td><td>▁</td></tr><tr><td>CV_RMSE_'Kalmar</td><td>▁</td></tr><tr><td>CV_RMSE_Blekinge</td><td>▁</td></tr><tr><td>RMSE</td><td>▁</td></tr><tr><td>RMSE_Blekinge</td><td>▁</td></tr><tr><td>RMSE_Kalmar</td><td>▁</td></tr></table><br/></div><div class=\"wandb-col\"><h3>Run summary:</h3><br/><table class=\"wandb\"><tr><td>CV_RMSE</td><td>306.6401</td></tr><tr><td>CV_RMSE_'Kalmar</td><td>144.8293</td></tr><tr><td>CV_RMSE_Blekinge</td><td>161.8108</td></tr><tr><td>RMSE</td><td>22.2292</td></tr><tr><td>RMSE_Blekinge</td><td>7.26351</td></tr><tr><td>RMSE_Kalmar</td><td>14.96569</td></tr></table><br/></div></div>"
      ],
      "text/plain": [
       "<IPython.core.display.HTML object>"
      ]
     },
     "metadata": {},
     "output_type": "display_data"
    },
    {
     "data": {
      "text/html": [
       " View run <strong style=\"color:#cdcd00\">visionary-sweep-75</strong> at: <a href='https://wandb.ai/danish2562022/sweeps-SEIR_kalmar_bleking/runs/g1lwtdx0' target=\"_blank\">https://wandb.ai/danish2562022/sweeps-SEIR_kalmar_bleking/runs/g1lwtdx0</a><br/> View project at: <a href='https://wandb.ai/danish2562022/sweeps-SEIR_kalmar_bleking' target=\"_blank\">https://wandb.ai/danish2562022/sweeps-SEIR_kalmar_bleking</a><br/>Synced 5 W&B file(s), 0 media file(s), 0 artifact file(s) and 0 other file(s)"
      ],
      "text/plain": [
       "<IPython.core.display.HTML object>"
      ]
     },
     "metadata": {},
     "output_type": "display_data"
    },
    {
     "data": {
      "text/html": [
       "Find logs at: <code>./wandb/run-20250528_185906-g1lwtdx0/logs</code>"
      ],
      "text/plain": [
       "<IPython.core.display.HTML object>"
      ]
     },
     "metadata": {},
     "output_type": "display_data"
    },
    {
     "data": {
      "text/html": [
       "The new W&B backend becomes opt-out in version 0.18.0; try it out with `wandb.require(\"core\")`! See https://wandb.me/wandb-core for more information."
      ],
      "text/plain": [
       "<IPython.core.display.HTML object>"
      ]
     },
     "metadata": {},
     "output_type": "display_data"
    },
    {
     "name": "stderr",
     "output_type": "stream",
     "text": [
      "\u001b[34m\u001b[1mwandb\u001b[0m: Agent Starting Run: qdevwt9q with config:\n",
      "\u001b[34m\u001b[1mwandb\u001b[0m: \tah0: 2.448711320723243\n",
      "\u001b[34m\u001b[1mwandb\u001b[0m: \tah1: 0.9103231542752772\n",
      "\u001b[34m\u001b[1mwandb\u001b[0m: \tbh0: 6.638844002566668\n",
      "\u001b[34m\u001b[1mwandb\u001b[0m: \tbh1: 8.760806534353932\n",
      "\u001b[34m\u001b[1mwandb\u001b[0m: \tc: 0.5759660282538015\n"
     ]
    },
    {
     "data": {
      "text/html": [
       "wandb version 0.19.11 is available!  To upgrade, please run:\n",
       " $ pip install wandb --upgrade"
      ],
      "text/plain": [
       "<IPython.core.display.HTML object>"
      ]
     },
     "metadata": {},
     "output_type": "display_data"
    },
    {
     "data": {
      "text/html": [
       "Tracking run with wandb version 0.17.4"
      ],
      "text/plain": [
       "<IPython.core.display.HTML object>"
      ]
     },
     "metadata": {},
     "output_type": "display_data"
    },
    {
     "data": {
      "text/html": [
       "Run data is saved locally in <code>/12tb_dsk3/SEIR_model/src/wandb/run-20250528_185916-qdevwt9q</code>"
      ],
      "text/plain": [
       "<IPython.core.display.HTML object>"
      ]
     },
     "metadata": {},
     "output_type": "display_data"
    },
    {
     "data": {
      "text/html": [
       "Syncing run <strong><a href='https://wandb.ai/danish2562022/sweeps-SEIR_kalmar_bleking/runs/qdevwt9q' target=\"_blank\">gallant-sweep-76</a></strong> to <a href='https://wandb.ai/danish2562022/sweeps-SEIR_kalmar_bleking' target=\"_blank\">Weights & Biases</a> (<a href='https://wandb.me/run' target=\"_blank\">docs</a>)<br/>Sweep page: <a href='https://wandb.ai/danish2562022/sweeps-SEIR_kalmar_bleking/sweeps/za0efz19' target=\"_blank\">https://wandb.ai/danish2562022/sweeps-SEIR_kalmar_bleking/sweeps/za0efz19</a>"
      ],
      "text/plain": [
       "<IPython.core.display.HTML object>"
      ]
     },
     "metadata": {},
     "output_type": "display_data"
    },
    {
     "data": {
      "text/html": [
       " View project at <a href='https://wandb.ai/danish2562022/sweeps-SEIR_kalmar_bleking' target=\"_blank\">https://wandb.ai/danish2562022/sweeps-SEIR_kalmar_bleking</a>"
      ],
      "text/plain": [
       "<IPython.core.display.HTML object>"
      ]
     },
     "metadata": {},
     "output_type": "display_data"
    },
    {
     "data": {
      "text/html": [
       " View sweep at <a href='https://wandb.ai/danish2562022/sweeps-SEIR_kalmar_bleking/sweeps/za0efz19' target=\"_blank\">https://wandb.ai/danish2562022/sweeps-SEIR_kalmar_bleking/sweeps/za0efz19</a>"
      ],
      "text/plain": [
       "<IPython.core.display.HTML object>"
      ]
     },
     "metadata": {},
     "output_type": "display_data"
    },
    {
     "data": {
      "text/html": [
       " View run at <a href='https://wandb.ai/danish2562022/sweeps-SEIR_kalmar_bleking/runs/qdevwt9q' target=\"_blank\">https://wandb.ai/danish2562022/sweeps-SEIR_kalmar_bleking/runs/qdevwt9q</a>"
      ],
      "text/plain": [
       "<IPython.core.display.HTML object>"
      ]
     },
     "metadata": {},
     "output_type": "display_data"
    },
    {
     "data": {
      "application/vnd.jupyter.widget-view+json": {
       "model_id": "d8d567282fb2453893be8badbba3ab29",
       "version_major": 2,
       "version_minor": 0
      },
      "text/plain": [
       "VBox(children=(Label(value='0.021 MB of 0.021 MB uploaded\\r'), FloatProgress(value=1.0, max=1.0)))"
      ]
     },
     "metadata": {},
     "output_type": "display_data"
    },
    {
     "data": {
      "text/html": [
       "<style>\n",
       "    table.wandb td:nth-child(1) { padding: 0 10px; text-align: left ; width: auto;} td:nth-child(2) {text-align: left ; width: 100%}\n",
       "    .wandb-row { display: flex; flex-direction: row; flex-wrap: wrap; justify-content: flex-start; width: 100% }\n",
       "    .wandb-col { display: flex; flex-direction: column; flex-basis: 100%; flex: 1; padding: 10px; }\n",
       "    </style>\n",
       "<div class=\"wandb-row\"><div class=\"wandb-col\"><h3>Run history:</h3><br/><table class=\"wandb\"><tr><td>CV_RMSE</td><td>▁</td></tr><tr><td>CV_RMSE_'Kalmar</td><td>▁</td></tr><tr><td>CV_RMSE_Blekinge</td><td>▁</td></tr><tr><td>RMSE</td><td>▁</td></tr><tr><td>RMSE_Blekinge</td><td>▁</td></tr><tr><td>RMSE_Kalmar</td><td>▁</td></tr></table><br/></div><div class=\"wandb-col\"><h3>Run summary:</h3><br/><table class=\"wandb\"><tr><td>CV_RMSE</td><td>4914.53037</td></tr><tr><td>CV_RMSE_'Kalmar</td><td>1977.85591</td></tr><tr><td>CV_RMSE_Blekinge</td><td>2936.67447</td></tr><tr><td>RMSE</td><td>336.2025</td></tr><tr><td>RMSE_Blekinge</td><td>131.82405</td></tr><tr><td>RMSE_Kalmar</td><td>204.37844</td></tr></table><br/></div></div>"
      ],
      "text/plain": [
       "<IPython.core.display.HTML object>"
      ]
     },
     "metadata": {},
     "output_type": "display_data"
    },
    {
     "data": {
      "text/html": [
       " View run <strong style=\"color:#cdcd00\">gallant-sweep-76</strong> at: <a href='https://wandb.ai/danish2562022/sweeps-SEIR_kalmar_bleking/runs/qdevwt9q' target=\"_blank\">https://wandb.ai/danish2562022/sweeps-SEIR_kalmar_bleking/runs/qdevwt9q</a><br/> View project at: <a href='https://wandb.ai/danish2562022/sweeps-SEIR_kalmar_bleking' target=\"_blank\">https://wandb.ai/danish2562022/sweeps-SEIR_kalmar_bleking</a><br/>Synced 5 W&B file(s), 0 media file(s), 0 artifact file(s) and 0 other file(s)"
      ],
      "text/plain": [
       "<IPython.core.display.HTML object>"
      ]
     },
     "metadata": {},
     "output_type": "display_data"
    },
    {
     "data": {
      "text/html": [
       "Find logs at: <code>./wandb/run-20250528_185916-qdevwt9q/logs</code>"
      ],
      "text/plain": [
       "<IPython.core.display.HTML object>"
      ]
     },
     "metadata": {},
     "output_type": "display_data"
    },
    {
     "data": {
      "text/html": [
       "The new W&B backend becomes opt-out in version 0.18.0; try it out with `wandb.require(\"core\")`! See https://wandb.me/wandb-core for more information."
      ],
      "text/plain": [
       "<IPython.core.display.HTML object>"
      ]
     },
     "metadata": {},
     "output_type": "display_data"
    },
    {
     "name": "stderr",
     "output_type": "stream",
     "text": [
      "\u001b[34m\u001b[1mwandb\u001b[0m: Agent Starting Run: s2gdj8ca with config:\n",
      "\u001b[34m\u001b[1mwandb\u001b[0m: \tah0: 0.2554247652028976\n",
      "\u001b[34m\u001b[1mwandb\u001b[0m: \tah1: 2.2130538233440618\n",
      "\u001b[34m\u001b[1mwandb\u001b[0m: \tbh0: 4.643020020463623\n",
      "\u001b[34m\u001b[1mwandb\u001b[0m: \tbh1: 2.0149239018138996\n",
      "\u001b[34m\u001b[1mwandb\u001b[0m: \tc: 0.18922151990989863\n"
     ]
    },
    {
     "data": {
      "text/html": [
       "wandb version 0.19.11 is available!  To upgrade, please run:\n",
       " $ pip install wandb --upgrade"
      ],
      "text/plain": [
       "<IPython.core.display.HTML object>"
      ]
     },
     "metadata": {},
     "output_type": "display_data"
    },
    {
     "data": {
      "text/html": [
       "Tracking run with wandb version 0.17.4"
      ],
      "text/plain": [
       "<IPython.core.display.HTML object>"
      ]
     },
     "metadata": {},
     "output_type": "display_data"
    },
    {
     "data": {
      "text/html": [
       "Run data is saved locally in <code>/12tb_dsk3/SEIR_model/src/wandb/run-20250528_185927-s2gdj8ca</code>"
      ],
      "text/plain": [
       "<IPython.core.display.HTML object>"
      ]
     },
     "metadata": {},
     "output_type": "display_data"
    },
    {
     "data": {
      "text/html": [
       "Syncing run <strong><a href='https://wandb.ai/danish2562022/sweeps-SEIR_kalmar_bleking/runs/s2gdj8ca' target=\"_blank\">lyric-sweep-77</a></strong> to <a href='https://wandb.ai/danish2562022/sweeps-SEIR_kalmar_bleking' target=\"_blank\">Weights & Biases</a> (<a href='https://wandb.me/run' target=\"_blank\">docs</a>)<br/>Sweep page: <a href='https://wandb.ai/danish2562022/sweeps-SEIR_kalmar_bleking/sweeps/za0efz19' target=\"_blank\">https://wandb.ai/danish2562022/sweeps-SEIR_kalmar_bleking/sweeps/za0efz19</a>"
      ],
      "text/plain": [
       "<IPython.core.display.HTML object>"
      ]
     },
     "metadata": {},
     "output_type": "display_data"
    },
    {
     "data": {
      "text/html": [
       " View project at <a href='https://wandb.ai/danish2562022/sweeps-SEIR_kalmar_bleking' target=\"_blank\">https://wandb.ai/danish2562022/sweeps-SEIR_kalmar_bleking</a>"
      ],
      "text/plain": [
       "<IPython.core.display.HTML object>"
      ]
     },
     "metadata": {},
     "output_type": "display_data"
    },
    {
     "data": {
      "text/html": [
       " View sweep at <a href='https://wandb.ai/danish2562022/sweeps-SEIR_kalmar_bleking/sweeps/za0efz19' target=\"_blank\">https://wandb.ai/danish2562022/sweeps-SEIR_kalmar_bleking/sweeps/za0efz19</a>"
      ],
      "text/plain": [
       "<IPython.core.display.HTML object>"
      ]
     },
     "metadata": {},
     "output_type": "display_data"
    },
    {
     "data": {
      "text/html": [
       " View run at <a href='https://wandb.ai/danish2562022/sweeps-SEIR_kalmar_bleking/runs/s2gdj8ca' target=\"_blank\">https://wandb.ai/danish2562022/sweeps-SEIR_kalmar_bleking/runs/s2gdj8ca</a>"
      ],
      "text/plain": [
       "<IPython.core.display.HTML object>"
      ]
     },
     "metadata": {},
     "output_type": "display_data"
    },
    {
     "data": {
      "application/vnd.jupyter.widget-view+json": {
       "model_id": "7c84d434e39640c3a682960b9b9ecfb5",
       "version_major": 2,
       "version_minor": 0
      },
      "text/plain": [
       "VBox(children=(Label(value='0.021 MB of 0.021 MB uploaded\\r'), FloatProgress(value=1.0, max=1.0)))"
      ]
     },
     "metadata": {},
     "output_type": "display_data"
    },
    {
     "data": {
      "text/html": [
       "<style>\n",
       "    table.wandb td:nth-child(1) { padding: 0 10px; text-align: left ; width: auto;} td:nth-child(2) {text-align: left ; width: 100%}\n",
       "    .wandb-row { display: flex; flex-direction: row; flex-wrap: wrap; justify-content: flex-start; width: 100% }\n",
       "    .wandb-col { display: flex; flex-direction: column; flex-basis: 100%; flex: 1; padding: 10px; }\n",
       "    </style>\n",
       "<div class=\"wandb-row\"><div class=\"wandb-col\"><h3>Run history:</h3><br/><table class=\"wandb\"><tr><td>CV_RMSE</td><td>▁</td></tr><tr><td>CV_RMSE_'Kalmar</td><td>▁</td></tr><tr><td>CV_RMSE_Blekinge</td><td>▁</td></tr><tr><td>RMSE</td><td>▁</td></tr><tr><td>RMSE_Blekinge</td><td>▁</td></tr><tr><td>RMSE_Kalmar</td><td>▁</td></tr></table><br/></div><div class=\"wandb-col\"><h3>Run summary:</h3><br/><table class=\"wandb\"><tr><td>CV_RMSE</td><td>2279.2932</td></tr><tr><td>CV_RMSE_'Kalmar</td><td>329.27317</td></tr><tr><td>CV_RMSE_Blekinge</td><td>1950.02003</td></tr><tr><td>RMSE</td><td>121.55913</td></tr><tr><td>RMSE_Blekinge</td><td>87.53423</td></tr><tr><td>RMSE_Kalmar</td><td>34.02489</td></tr></table><br/></div></div>"
      ],
      "text/plain": [
       "<IPython.core.display.HTML object>"
      ]
     },
     "metadata": {},
     "output_type": "display_data"
    },
    {
     "data": {
      "text/html": [
       " View run <strong style=\"color:#cdcd00\">lyric-sweep-77</strong> at: <a href='https://wandb.ai/danish2562022/sweeps-SEIR_kalmar_bleking/runs/s2gdj8ca' target=\"_blank\">https://wandb.ai/danish2562022/sweeps-SEIR_kalmar_bleking/runs/s2gdj8ca</a><br/> View project at: <a href='https://wandb.ai/danish2562022/sweeps-SEIR_kalmar_bleking' target=\"_blank\">https://wandb.ai/danish2562022/sweeps-SEIR_kalmar_bleking</a><br/>Synced 5 W&B file(s), 0 media file(s), 0 artifact file(s) and 0 other file(s)"
      ],
      "text/plain": [
       "<IPython.core.display.HTML object>"
      ]
     },
     "metadata": {},
     "output_type": "display_data"
    },
    {
     "data": {
      "text/html": [
       "Find logs at: <code>./wandb/run-20250528_185927-s2gdj8ca/logs</code>"
      ],
      "text/plain": [
       "<IPython.core.display.HTML object>"
      ]
     },
     "metadata": {},
     "output_type": "display_data"
    },
    {
     "data": {
      "text/html": [
       "The new W&B backend becomes opt-out in version 0.18.0; try it out with `wandb.require(\"core\")`! See https://wandb.me/wandb-core for more information."
      ],
      "text/plain": [
       "<IPython.core.display.HTML object>"
      ]
     },
     "metadata": {},
     "output_type": "display_data"
    },
    {
     "name": "stderr",
     "output_type": "stream",
     "text": [
      "\u001b[34m\u001b[1mwandb\u001b[0m: Agent Starting Run: wy1gfals with config:\n",
      "\u001b[34m\u001b[1mwandb\u001b[0m: \tah0: 1.839516665166139\n",
      "\u001b[34m\u001b[1mwandb\u001b[0m: \tah1: 2.5886484390295683\n",
      "\u001b[34m\u001b[1mwandb\u001b[0m: \tbh0: 5.784193508427067\n",
      "\u001b[34m\u001b[1mwandb\u001b[0m: \tbh1: 7.877299486621787\n",
      "\u001b[34m\u001b[1mwandb\u001b[0m: \tc: 0.7746219834745257\n"
     ]
    },
    {
     "data": {
      "text/html": [
       "wandb version 0.19.11 is available!  To upgrade, please run:\n",
       " $ pip install wandb --upgrade"
      ],
      "text/plain": [
       "<IPython.core.display.HTML object>"
      ]
     },
     "metadata": {},
     "output_type": "display_data"
    },
    {
     "data": {
      "text/html": [
       "Tracking run with wandb version 0.17.4"
      ],
      "text/plain": [
       "<IPython.core.display.HTML object>"
      ]
     },
     "metadata": {},
     "output_type": "display_data"
    },
    {
     "data": {
      "text/html": [
       "Run data is saved locally in <code>/12tb_dsk3/SEIR_model/src/wandb/run-20250528_185937-wy1gfals</code>"
      ],
      "text/plain": [
       "<IPython.core.display.HTML object>"
      ]
     },
     "metadata": {},
     "output_type": "display_data"
    },
    {
     "data": {
      "text/html": [
       "Syncing run <strong><a href='https://wandb.ai/danish2562022/sweeps-SEIR_kalmar_bleking/runs/wy1gfals' target=\"_blank\">fluent-sweep-78</a></strong> to <a href='https://wandb.ai/danish2562022/sweeps-SEIR_kalmar_bleking' target=\"_blank\">Weights & Biases</a> (<a href='https://wandb.me/run' target=\"_blank\">docs</a>)<br/>Sweep page: <a href='https://wandb.ai/danish2562022/sweeps-SEIR_kalmar_bleking/sweeps/za0efz19' target=\"_blank\">https://wandb.ai/danish2562022/sweeps-SEIR_kalmar_bleking/sweeps/za0efz19</a>"
      ],
      "text/plain": [
       "<IPython.core.display.HTML object>"
      ]
     },
     "metadata": {},
     "output_type": "display_data"
    },
    {
     "data": {
      "text/html": [
       " View project at <a href='https://wandb.ai/danish2562022/sweeps-SEIR_kalmar_bleking' target=\"_blank\">https://wandb.ai/danish2562022/sweeps-SEIR_kalmar_bleking</a>"
      ],
      "text/plain": [
       "<IPython.core.display.HTML object>"
      ]
     },
     "metadata": {},
     "output_type": "display_data"
    },
    {
     "data": {
      "text/html": [
       " View sweep at <a href='https://wandb.ai/danish2562022/sweeps-SEIR_kalmar_bleking/sweeps/za0efz19' target=\"_blank\">https://wandb.ai/danish2562022/sweeps-SEIR_kalmar_bleking/sweeps/za0efz19</a>"
      ],
      "text/plain": [
       "<IPython.core.display.HTML object>"
      ]
     },
     "metadata": {},
     "output_type": "display_data"
    },
    {
     "data": {
      "text/html": [
       " View run at <a href='https://wandb.ai/danish2562022/sweeps-SEIR_kalmar_bleking/runs/wy1gfals' target=\"_blank\">https://wandb.ai/danish2562022/sweeps-SEIR_kalmar_bleking/runs/wy1gfals</a>"
      ],
      "text/plain": [
       "<IPython.core.display.HTML object>"
      ]
     },
     "metadata": {},
     "output_type": "display_data"
    },
    {
     "data": {
      "application/vnd.jupyter.widget-view+json": {
       "model_id": "7fa3ef02e05c4930b8c127ae62266b03",
       "version_major": 2,
       "version_minor": 0
      },
      "text/plain": [
       "VBox(children=(Label(value='0.021 MB of 0.021 MB uploaded\\r'), FloatProgress(value=1.0, max=1.0)))"
      ]
     },
     "metadata": {},
     "output_type": "display_data"
    },
    {
     "data": {
      "text/html": [
       "<style>\n",
       "    table.wandb td:nth-child(1) { padding: 0 10px; text-align: left ; width: auto;} td:nth-child(2) {text-align: left ; width: 100%}\n",
       "    .wandb-row { display: flex; flex-direction: row; flex-wrap: wrap; justify-content: flex-start; width: 100% }\n",
       "    .wandb-col { display: flex; flex-direction: column; flex-basis: 100%; flex: 1; padding: 10px; }\n",
       "    </style>\n",
       "<div class=\"wandb-row\"><div class=\"wandb-col\"><h3>Run history:</h3><br/><table class=\"wandb\"><tr><td>CV_RMSE</td><td>▁</td></tr><tr><td>CV_RMSE_'Kalmar</td><td>▁</td></tr><tr><td>CV_RMSE_Blekinge</td><td>▁</td></tr><tr><td>RMSE</td><td>▁</td></tr><tr><td>RMSE_Blekinge</td><td>▁</td></tr><tr><td>RMSE_Kalmar</td><td>▁</td></tr></table><br/></div><div class=\"wandb-col\"><h3>Run summary:</h3><br/><table class=\"wandb\"><tr><td>CV_RMSE</td><td>3299.53695</td></tr><tr><td>CV_RMSE_'Kalmar</td><td>1268.67066</td></tr><tr><td>CV_RMSE_Blekinge</td><td>2030.86629</td></tr><tr><td>RMSE</td><td>222.2593</td></tr><tr><td>RMSE_Blekinge</td><td>91.16333</td></tr><tr><td>RMSE_Kalmar</td><td>131.09597</td></tr></table><br/></div></div>"
      ],
      "text/plain": [
       "<IPython.core.display.HTML object>"
      ]
     },
     "metadata": {},
     "output_type": "display_data"
    },
    {
     "data": {
      "text/html": [
       " View run <strong style=\"color:#cdcd00\">fluent-sweep-78</strong> at: <a href='https://wandb.ai/danish2562022/sweeps-SEIR_kalmar_bleking/runs/wy1gfals' target=\"_blank\">https://wandb.ai/danish2562022/sweeps-SEIR_kalmar_bleking/runs/wy1gfals</a><br/> View project at: <a href='https://wandb.ai/danish2562022/sweeps-SEIR_kalmar_bleking' target=\"_blank\">https://wandb.ai/danish2562022/sweeps-SEIR_kalmar_bleking</a><br/>Synced 5 W&B file(s), 0 media file(s), 0 artifact file(s) and 0 other file(s)"
      ],
      "text/plain": [
       "<IPython.core.display.HTML object>"
      ]
     },
     "metadata": {},
     "output_type": "display_data"
    },
    {
     "data": {
      "text/html": [
       "Find logs at: <code>./wandb/run-20250528_185937-wy1gfals/logs</code>"
      ],
      "text/plain": [
       "<IPython.core.display.HTML object>"
      ]
     },
     "metadata": {},
     "output_type": "display_data"
    },
    {
     "data": {
      "text/html": [
       "The new W&B backend becomes opt-out in version 0.18.0; try it out with `wandb.require(\"core\")`! See https://wandb.me/wandb-core for more information."
      ],
      "text/plain": [
       "<IPython.core.display.HTML object>"
      ]
     },
     "metadata": {},
     "output_type": "display_data"
    },
    {
     "name": "stderr",
     "output_type": "stream",
     "text": [
      "\u001b[34m\u001b[1mwandb\u001b[0m: Agent Starting Run: a9kf7dwz with config:\n",
      "\u001b[34m\u001b[1mwandb\u001b[0m: \tah0: 1.9543451716455005\n",
      "\u001b[34m\u001b[1mwandb\u001b[0m: \tah1: 1.9108882641075835\n",
      "\u001b[34m\u001b[1mwandb\u001b[0m: \tbh0: 8.760128191989109\n",
      "\u001b[34m\u001b[1mwandb\u001b[0m: \tbh1: 1.3355665538973815\n",
      "\u001b[34m\u001b[1mwandb\u001b[0m: \tc: 0.3215767416404032\n"
     ]
    },
    {
     "data": {
      "text/html": [
       "wandb version 0.19.11 is available!  To upgrade, please run:\n",
       " $ pip install wandb --upgrade"
      ],
      "text/plain": [
       "<IPython.core.display.HTML object>"
      ]
     },
     "metadata": {},
     "output_type": "display_data"
    },
    {
     "data": {
      "text/html": [
       "Tracking run with wandb version 0.17.4"
      ],
      "text/plain": [
       "<IPython.core.display.HTML object>"
      ]
     },
     "metadata": {},
     "output_type": "display_data"
    },
    {
     "data": {
      "text/html": [
       "Run data is saved locally in <code>/12tb_dsk3/SEIR_model/src/wandb/run-20250528_185947-a9kf7dwz</code>"
      ],
      "text/plain": [
       "<IPython.core.display.HTML object>"
      ]
     },
     "metadata": {},
     "output_type": "display_data"
    },
    {
     "data": {
      "text/html": [
       "Syncing run <strong><a href='https://wandb.ai/danish2562022/sweeps-SEIR_kalmar_bleking/runs/a9kf7dwz' target=\"_blank\">robust-sweep-79</a></strong> to <a href='https://wandb.ai/danish2562022/sweeps-SEIR_kalmar_bleking' target=\"_blank\">Weights & Biases</a> (<a href='https://wandb.me/run' target=\"_blank\">docs</a>)<br/>Sweep page: <a href='https://wandb.ai/danish2562022/sweeps-SEIR_kalmar_bleking/sweeps/za0efz19' target=\"_blank\">https://wandb.ai/danish2562022/sweeps-SEIR_kalmar_bleking/sweeps/za0efz19</a>"
      ],
      "text/plain": [
       "<IPython.core.display.HTML object>"
      ]
     },
     "metadata": {},
     "output_type": "display_data"
    },
    {
     "data": {
      "text/html": [
       " View project at <a href='https://wandb.ai/danish2562022/sweeps-SEIR_kalmar_bleking' target=\"_blank\">https://wandb.ai/danish2562022/sweeps-SEIR_kalmar_bleking</a>"
      ],
      "text/plain": [
       "<IPython.core.display.HTML object>"
      ]
     },
     "metadata": {},
     "output_type": "display_data"
    },
    {
     "data": {
      "text/html": [
       " View sweep at <a href='https://wandb.ai/danish2562022/sweeps-SEIR_kalmar_bleking/sweeps/za0efz19' target=\"_blank\">https://wandb.ai/danish2562022/sweeps-SEIR_kalmar_bleking/sweeps/za0efz19</a>"
      ],
      "text/plain": [
       "<IPython.core.display.HTML object>"
      ]
     },
     "metadata": {},
     "output_type": "display_data"
    },
    {
     "data": {
      "text/html": [
       " View run at <a href='https://wandb.ai/danish2562022/sweeps-SEIR_kalmar_bleking/runs/a9kf7dwz' target=\"_blank\">https://wandb.ai/danish2562022/sweeps-SEIR_kalmar_bleking/runs/a9kf7dwz</a>"
      ],
      "text/plain": [
       "<IPython.core.display.HTML object>"
      ]
     },
     "metadata": {},
     "output_type": "display_data"
    },
    {
     "data": {
      "application/vnd.jupyter.widget-view+json": {
       "model_id": "8cc9cd61b8064a52a5150979d673dda1",
       "version_major": 2,
       "version_minor": 0
      },
      "text/plain": [
       "VBox(children=(Label(value='0.021 MB of 0.021 MB uploaded\\r'), FloatProgress(value=1.0, max=1.0)))"
      ]
     },
     "metadata": {},
     "output_type": "display_data"
    },
    {
     "data": {
      "text/html": [
       "<style>\n",
       "    table.wandb td:nth-child(1) { padding: 0 10px; text-align: left ; width: auto;} td:nth-child(2) {text-align: left ; width: 100%}\n",
       "    .wandb-row { display: flex; flex-direction: row; flex-wrap: wrap; justify-content: flex-start; width: 100% }\n",
       "    .wandb-col { display: flex; flex-direction: column; flex-basis: 100%; flex: 1; padding: 10px; }\n",
       "    </style>\n",
       "<div class=\"wandb-row\"><div class=\"wandb-col\"><h3>Run history:</h3><br/><table class=\"wandb\"><tr><td>CV_RMSE</td><td>▁</td></tr><tr><td>CV_RMSE_'Kalmar</td><td>▁</td></tr><tr><td>CV_RMSE_Blekinge</td><td>▁</td></tr><tr><td>RMSE</td><td>▁</td></tr><tr><td>RMSE_Blekinge</td><td>▁</td></tr><tr><td>RMSE_Kalmar</td><td>▁</td></tr></table><br/></div><div class=\"wandb-col\"><h3>Run summary:</h3><br/><table class=\"wandb\"><tr><td>CV_RMSE</td><td>3829.57823</td></tr><tr><td>CV_RMSE_'Kalmar</td><td>1931.36399</td></tr><tr><td>CV_RMSE_Blekinge</td><td>1898.21424</td></tr><tr><td>RMSE</td><td>284.78301</td></tr><tr><td>RMSE_Blekinge</td><td>85.20873</td></tr><tr><td>RMSE_Kalmar</td><td>199.57428</td></tr></table><br/></div></div>"
      ],
      "text/plain": [
       "<IPython.core.display.HTML object>"
      ]
     },
     "metadata": {},
     "output_type": "display_data"
    },
    {
     "data": {
      "text/html": [
       " View run <strong style=\"color:#cdcd00\">robust-sweep-79</strong> at: <a href='https://wandb.ai/danish2562022/sweeps-SEIR_kalmar_bleking/runs/a9kf7dwz' target=\"_blank\">https://wandb.ai/danish2562022/sweeps-SEIR_kalmar_bleking/runs/a9kf7dwz</a><br/> View project at: <a href='https://wandb.ai/danish2562022/sweeps-SEIR_kalmar_bleking' target=\"_blank\">https://wandb.ai/danish2562022/sweeps-SEIR_kalmar_bleking</a><br/>Synced 5 W&B file(s), 0 media file(s), 0 artifact file(s) and 0 other file(s)"
      ],
      "text/plain": [
       "<IPython.core.display.HTML object>"
      ]
     },
     "metadata": {},
     "output_type": "display_data"
    },
    {
     "data": {
      "text/html": [
       "Find logs at: <code>./wandb/run-20250528_185947-a9kf7dwz/logs</code>"
      ],
      "text/plain": [
       "<IPython.core.display.HTML object>"
      ]
     },
     "metadata": {},
     "output_type": "display_data"
    },
    {
     "data": {
      "text/html": [
       "The new W&B backend becomes opt-out in version 0.18.0; try it out with `wandb.require(\"core\")`! See https://wandb.me/wandb-core for more information."
      ],
      "text/plain": [
       "<IPython.core.display.HTML object>"
      ]
     },
     "metadata": {},
     "output_type": "display_data"
    },
    {
     "name": "stderr",
     "output_type": "stream",
     "text": [
      "\u001b[34m\u001b[1mwandb\u001b[0m: Agent Starting Run: 7xwlreoy with config:\n",
      "\u001b[34m\u001b[1mwandb\u001b[0m: \tah0: 1.2507240038058005\n",
      "\u001b[34m\u001b[1mwandb\u001b[0m: \tah1: 0.2900203813249528\n",
      "\u001b[34m\u001b[1mwandb\u001b[0m: \tbh0: 0.4488536304875934\n",
      "\u001b[34m\u001b[1mwandb\u001b[0m: \tbh1: 3.596921024547146\n",
      "\u001b[34m\u001b[1mwandb\u001b[0m: \tc: 0.56985322869529\n"
     ]
    },
    {
     "data": {
      "text/html": [
       "wandb version 0.19.11 is available!  To upgrade, please run:\n",
       " $ pip install wandb --upgrade"
      ],
      "text/plain": [
       "<IPython.core.display.HTML object>"
      ]
     },
     "metadata": {},
     "output_type": "display_data"
    },
    {
     "data": {
      "text/html": [
       "Tracking run with wandb version 0.17.4"
      ],
      "text/plain": [
       "<IPython.core.display.HTML object>"
      ]
     },
     "metadata": {},
     "output_type": "display_data"
    },
    {
     "data": {
      "text/html": [
       "Run data is saved locally in <code>/12tb_dsk3/SEIR_model/src/wandb/run-20250528_185958-7xwlreoy</code>"
      ],
      "text/plain": [
       "<IPython.core.display.HTML object>"
      ]
     },
     "metadata": {},
     "output_type": "display_data"
    },
    {
     "data": {
      "text/html": [
       "Syncing run <strong><a href='https://wandb.ai/danish2562022/sweeps-SEIR_kalmar_bleking/runs/7xwlreoy' target=\"_blank\">stoic-sweep-80</a></strong> to <a href='https://wandb.ai/danish2562022/sweeps-SEIR_kalmar_bleking' target=\"_blank\">Weights & Biases</a> (<a href='https://wandb.me/run' target=\"_blank\">docs</a>)<br/>Sweep page: <a href='https://wandb.ai/danish2562022/sweeps-SEIR_kalmar_bleking/sweeps/za0efz19' target=\"_blank\">https://wandb.ai/danish2562022/sweeps-SEIR_kalmar_bleking/sweeps/za0efz19</a>"
      ],
      "text/plain": [
       "<IPython.core.display.HTML object>"
      ]
     },
     "metadata": {},
     "output_type": "display_data"
    },
    {
     "data": {
      "text/html": [
       " View project at <a href='https://wandb.ai/danish2562022/sweeps-SEIR_kalmar_bleking' target=\"_blank\">https://wandb.ai/danish2562022/sweeps-SEIR_kalmar_bleking</a>"
      ],
      "text/plain": [
       "<IPython.core.display.HTML object>"
      ]
     },
     "metadata": {},
     "output_type": "display_data"
    },
    {
     "data": {
      "text/html": [
       " View sweep at <a href='https://wandb.ai/danish2562022/sweeps-SEIR_kalmar_bleking/sweeps/za0efz19' target=\"_blank\">https://wandb.ai/danish2562022/sweeps-SEIR_kalmar_bleking/sweeps/za0efz19</a>"
      ],
      "text/plain": [
       "<IPython.core.display.HTML object>"
      ]
     },
     "metadata": {},
     "output_type": "display_data"
    },
    {
     "data": {
      "text/html": [
       " View run at <a href='https://wandb.ai/danish2562022/sweeps-SEIR_kalmar_bleking/runs/7xwlreoy' target=\"_blank\">https://wandb.ai/danish2562022/sweeps-SEIR_kalmar_bleking/runs/7xwlreoy</a>"
      ],
      "text/plain": [
       "<IPython.core.display.HTML object>"
      ]
     },
     "metadata": {},
     "output_type": "display_data"
    },
    {
     "data": {
      "application/vnd.jupyter.widget-view+json": {
       "model_id": "9267716290994dc68aeafaed495158f5",
       "version_major": 2,
       "version_minor": 0
      },
      "text/plain": [
       "VBox(children=(Label(value='0.021 MB of 0.021 MB uploaded\\r'), FloatProgress(value=1.0, max=1.0)))"
      ]
     },
     "metadata": {},
     "output_type": "display_data"
    },
    {
     "data": {
      "text/html": [
       "<style>\n",
       "    table.wandb td:nth-child(1) { padding: 0 10px; text-align: left ; width: auto;} td:nth-child(2) {text-align: left ; width: 100%}\n",
       "    .wandb-row { display: flex; flex-direction: row; flex-wrap: wrap; justify-content: flex-start; width: 100% }\n",
       "    .wandb-col { display: flex; flex-direction: column; flex-basis: 100%; flex: 1; padding: 10px; }\n",
       "    </style>\n",
       "<div class=\"wandb-row\"><div class=\"wandb-col\"><h3>Run history:</h3><br/><table class=\"wandb\"><tr><td>CV_RMSE</td><td>▁</td></tr><tr><td>CV_RMSE_'Kalmar</td><td>▁</td></tr><tr><td>CV_RMSE_Blekinge</td><td>▁</td></tr><tr><td>RMSE</td><td>▁</td></tr><tr><td>RMSE_Blekinge</td><td>▁</td></tr><tr><td>RMSE_Kalmar</td><td>▁</td></tr></table><br/></div><div class=\"wandb-col\"><h3>Run summary:</h3><br/><table class=\"wandb\"><tr><td>CV_RMSE</td><td>304.92619</td></tr><tr><td>CV_RMSE_'Kalmar</td><td>143.83941</td></tr><tr><td>CV_RMSE_Blekinge</td><td>161.08678</td></tr><tr><td>RMSE</td><td>22.09441</td></tr><tr><td>RMSE_Blekinge</td><td>7.23101</td></tr><tr><td>RMSE_Kalmar</td><td>14.86341</td></tr></table><br/></div></div>"
      ],
      "text/plain": [
       "<IPython.core.display.HTML object>"
      ]
     },
     "metadata": {},
     "output_type": "display_data"
    },
    {
     "data": {
      "text/html": [
       " View run <strong style=\"color:#cdcd00\">stoic-sweep-80</strong> at: <a href='https://wandb.ai/danish2562022/sweeps-SEIR_kalmar_bleking/runs/7xwlreoy' target=\"_blank\">https://wandb.ai/danish2562022/sweeps-SEIR_kalmar_bleking/runs/7xwlreoy</a><br/> View project at: <a href='https://wandb.ai/danish2562022/sweeps-SEIR_kalmar_bleking' target=\"_blank\">https://wandb.ai/danish2562022/sweeps-SEIR_kalmar_bleking</a><br/>Synced 5 W&B file(s), 0 media file(s), 0 artifact file(s) and 0 other file(s)"
      ],
      "text/plain": [
       "<IPython.core.display.HTML object>"
      ]
     },
     "metadata": {},
     "output_type": "display_data"
    },
    {
     "data": {
      "text/html": [
       "Find logs at: <code>./wandb/run-20250528_185958-7xwlreoy/logs</code>"
      ],
      "text/plain": [
       "<IPython.core.display.HTML object>"
      ]
     },
     "metadata": {},
     "output_type": "display_data"
    },
    {
     "data": {
      "text/html": [
       "The new W&B backend becomes opt-out in version 0.18.0; try it out with `wandb.require(\"core\")`! See https://wandb.me/wandb-core for more information."
      ],
      "text/plain": [
       "<IPython.core.display.HTML object>"
      ]
     },
     "metadata": {},
     "output_type": "display_data"
    },
    {
     "name": "stderr",
     "output_type": "stream",
     "text": [
      "\u001b[34m\u001b[1mwandb\u001b[0m: Agent Starting Run: r6g6ea48 with config:\n",
      "\u001b[34m\u001b[1mwandb\u001b[0m: \tah0: 1.68267670062272\n",
      "\u001b[34m\u001b[1mwandb\u001b[0m: \tah1: 0.2721895354009344\n",
      "\u001b[34m\u001b[1mwandb\u001b[0m: \tbh0: 5.849862813945268\n",
      "\u001b[34m\u001b[1mwandb\u001b[0m: \tbh1: 3.4705080183229917\n",
      "\u001b[34m\u001b[1mwandb\u001b[0m: \tc: 0.7591735905000107\n"
     ]
    },
    {
     "data": {
      "text/html": [
       "wandb version 0.19.11 is available!  To upgrade, please run:\n",
       " $ pip install wandb --upgrade"
      ],
      "text/plain": [
       "<IPython.core.display.HTML object>"
      ]
     },
     "metadata": {},
     "output_type": "display_data"
    },
    {
     "data": {
      "text/html": [
       "Tracking run with wandb version 0.17.4"
      ],
      "text/plain": [
       "<IPython.core.display.HTML object>"
      ]
     },
     "metadata": {},
     "output_type": "display_data"
    },
    {
     "data": {
      "text/html": [
       "Run data is saved locally in <code>/12tb_dsk3/SEIR_model/src/wandb/run-20250528_190008-r6g6ea48</code>"
      ],
      "text/plain": [
       "<IPython.core.display.HTML object>"
      ]
     },
     "metadata": {},
     "output_type": "display_data"
    },
    {
     "data": {
      "text/html": [
       "Syncing run <strong><a href='https://wandb.ai/danish2562022/sweeps-SEIR_kalmar_bleking/runs/r6g6ea48' target=\"_blank\">ruby-sweep-81</a></strong> to <a href='https://wandb.ai/danish2562022/sweeps-SEIR_kalmar_bleking' target=\"_blank\">Weights & Biases</a> (<a href='https://wandb.me/run' target=\"_blank\">docs</a>)<br/>Sweep page: <a href='https://wandb.ai/danish2562022/sweeps-SEIR_kalmar_bleking/sweeps/za0efz19' target=\"_blank\">https://wandb.ai/danish2562022/sweeps-SEIR_kalmar_bleking/sweeps/za0efz19</a>"
      ],
      "text/plain": [
       "<IPython.core.display.HTML object>"
      ]
     },
     "metadata": {},
     "output_type": "display_data"
    },
    {
     "data": {
      "text/html": [
       " View project at <a href='https://wandb.ai/danish2562022/sweeps-SEIR_kalmar_bleking' target=\"_blank\">https://wandb.ai/danish2562022/sweeps-SEIR_kalmar_bleking</a>"
      ],
      "text/plain": [
       "<IPython.core.display.HTML object>"
      ]
     },
     "metadata": {},
     "output_type": "display_data"
    },
    {
     "data": {
      "text/html": [
       " View sweep at <a href='https://wandb.ai/danish2562022/sweeps-SEIR_kalmar_bleking/sweeps/za0efz19' target=\"_blank\">https://wandb.ai/danish2562022/sweeps-SEIR_kalmar_bleking/sweeps/za0efz19</a>"
      ],
      "text/plain": [
       "<IPython.core.display.HTML object>"
      ]
     },
     "metadata": {},
     "output_type": "display_data"
    },
    {
     "data": {
      "text/html": [
       " View run at <a href='https://wandb.ai/danish2562022/sweeps-SEIR_kalmar_bleking/runs/r6g6ea48' target=\"_blank\">https://wandb.ai/danish2562022/sweeps-SEIR_kalmar_bleking/runs/r6g6ea48</a>"
      ],
      "text/plain": [
       "<IPython.core.display.HTML object>"
      ]
     },
     "metadata": {},
     "output_type": "display_data"
    },
    {
     "data": {
      "application/vnd.jupyter.widget-view+json": {
       "model_id": "82dee893d0604758b5a02e1e5bd6bd9f",
       "version_major": 2,
       "version_minor": 0
      },
      "text/plain": [
       "VBox(children=(Label(value='0.021 MB of 0.021 MB uploaded\\r'), FloatProgress(value=1.0, max=1.0)))"
      ]
     },
     "metadata": {},
     "output_type": "display_data"
    },
    {
     "data": {
      "text/html": [
       "<style>\n",
       "    table.wandb td:nth-child(1) { padding: 0 10px; text-align: left ; width: auto;} td:nth-child(2) {text-align: left ; width: 100%}\n",
       "    .wandb-row { display: flex; flex-direction: row; flex-wrap: wrap; justify-content: flex-start; width: 100% }\n",
       "    .wandb-col { display: flex; flex-direction: column; flex-basis: 100%; flex: 1; padding: 10px; }\n",
       "    </style>\n",
       "<div class=\"wandb-row\"><div class=\"wandb-col\"><h3>Run history:</h3><br/><table class=\"wandb\"><tr><td>CV_RMSE</td><td>▁</td></tr><tr><td>CV_RMSE_'Kalmar</td><td>▁</td></tr><tr><td>CV_RMSE_Blekinge</td><td>▁</td></tr><tr><td>RMSE</td><td>▁</td></tr><tr><td>RMSE_Blekinge</td><td>▁</td></tr><tr><td>RMSE_Kalmar</td><td>▁</td></tr></table><br/></div><div class=\"wandb-col\"><h3>Run summary:</h3><br/><table class=\"wandb\"><tr><td>CV_RMSE</td><td>931.47608</td></tr><tr><td>CV_RMSE_'Kalmar</td><td>536.0437</td></tr><tr><td>CV_RMSE_Blekinge</td><td>395.43238</td></tr><tr><td>RMSE</td><td>73.1417</td></tr><tr><td>RMSE_Blekinge</td><td>17.75052</td></tr><tr><td>RMSE_Kalmar</td><td>55.39118</td></tr></table><br/></div></div>"
      ],
      "text/plain": [
       "<IPython.core.display.HTML object>"
      ]
     },
     "metadata": {},
     "output_type": "display_data"
    },
    {
     "data": {
      "text/html": [
       " View run <strong style=\"color:#cdcd00\">ruby-sweep-81</strong> at: <a href='https://wandb.ai/danish2562022/sweeps-SEIR_kalmar_bleking/runs/r6g6ea48' target=\"_blank\">https://wandb.ai/danish2562022/sweeps-SEIR_kalmar_bleking/runs/r6g6ea48</a><br/> View project at: <a href='https://wandb.ai/danish2562022/sweeps-SEIR_kalmar_bleking' target=\"_blank\">https://wandb.ai/danish2562022/sweeps-SEIR_kalmar_bleking</a><br/>Synced 5 W&B file(s), 0 media file(s), 0 artifact file(s) and 0 other file(s)"
      ],
      "text/plain": [
       "<IPython.core.display.HTML object>"
      ]
     },
     "metadata": {},
     "output_type": "display_data"
    },
    {
     "data": {
      "text/html": [
       "Find logs at: <code>./wandb/run-20250528_190008-r6g6ea48/logs</code>"
      ],
      "text/plain": [
       "<IPython.core.display.HTML object>"
      ]
     },
     "metadata": {},
     "output_type": "display_data"
    },
    {
     "data": {
      "text/html": [
       "The new W&B backend becomes opt-out in version 0.18.0; try it out with `wandb.require(\"core\")`! See https://wandb.me/wandb-core for more information."
      ],
      "text/plain": [
       "<IPython.core.display.HTML object>"
      ]
     },
     "metadata": {},
     "output_type": "display_data"
    },
    {
     "name": "stderr",
     "output_type": "stream",
     "text": [
      "\u001b[34m\u001b[1mwandb\u001b[0m: Agent Starting Run: 4oz5bcha with config:\n",
      "\u001b[34m\u001b[1mwandb\u001b[0m: \tah0: 2.7284339724236415\n",
      "\u001b[34m\u001b[1mwandb\u001b[0m: \tah1: 2.969601515670256\n",
      "\u001b[34m\u001b[1mwandb\u001b[0m: \tbh0: 6.066342121302571\n",
      "\u001b[34m\u001b[1mwandb\u001b[0m: \tbh1: 1.363164659759234\n",
      "\u001b[34m\u001b[1mwandb\u001b[0m: \tc: 0.42098311761756857\n"
     ]
    },
    {
     "data": {
      "text/html": [
       "wandb version 0.19.11 is available!  To upgrade, please run:\n",
       " $ pip install wandb --upgrade"
      ],
      "text/plain": [
       "<IPython.core.display.HTML object>"
      ]
     },
     "metadata": {},
     "output_type": "display_data"
    },
    {
     "data": {
      "text/html": [
       "Tracking run with wandb version 0.17.4"
      ],
      "text/plain": [
       "<IPython.core.display.HTML object>"
      ]
     },
     "metadata": {},
     "output_type": "display_data"
    },
    {
     "data": {
      "text/html": [
       "Run data is saved locally in <code>/12tb_dsk3/SEIR_model/src/wandb/run-20250528_190019-4oz5bcha</code>"
      ],
      "text/plain": [
       "<IPython.core.display.HTML object>"
      ]
     },
     "metadata": {},
     "output_type": "display_data"
    },
    {
     "data": {
      "text/html": [
       "Syncing run <strong><a href='https://wandb.ai/danish2562022/sweeps-SEIR_kalmar_bleking/runs/4oz5bcha' target=\"_blank\">robust-sweep-82</a></strong> to <a href='https://wandb.ai/danish2562022/sweeps-SEIR_kalmar_bleking' target=\"_blank\">Weights & Biases</a> (<a href='https://wandb.me/run' target=\"_blank\">docs</a>)<br/>Sweep page: <a href='https://wandb.ai/danish2562022/sweeps-SEIR_kalmar_bleking/sweeps/za0efz19' target=\"_blank\">https://wandb.ai/danish2562022/sweeps-SEIR_kalmar_bleking/sweeps/za0efz19</a>"
      ],
      "text/plain": [
       "<IPython.core.display.HTML object>"
      ]
     },
     "metadata": {},
     "output_type": "display_data"
    },
    {
     "data": {
      "text/html": [
       " View project at <a href='https://wandb.ai/danish2562022/sweeps-SEIR_kalmar_bleking' target=\"_blank\">https://wandb.ai/danish2562022/sweeps-SEIR_kalmar_bleking</a>"
      ],
      "text/plain": [
       "<IPython.core.display.HTML object>"
      ]
     },
     "metadata": {},
     "output_type": "display_data"
    },
    {
     "data": {
      "text/html": [
       " View sweep at <a href='https://wandb.ai/danish2562022/sweeps-SEIR_kalmar_bleking/sweeps/za0efz19' target=\"_blank\">https://wandb.ai/danish2562022/sweeps-SEIR_kalmar_bleking/sweeps/za0efz19</a>"
      ],
      "text/plain": [
       "<IPython.core.display.HTML object>"
      ]
     },
     "metadata": {},
     "output_type": "display_data"
    },
    {
     "data": {
      "text/html": [
       " View run at <a href='https://wandb.ai/danish2562022/sweeps-SEIR_kalmar_bleking/runs/4oz5bcha' target=\"_blank\">https://wandb.ai/danish2562022/sweeps-SEIR_kalmar_bleking/runs/4oz5bcha</a>"
      ],
      "text/plain": [
       "<IPython.core.display.HTML object>"
      ]
     },
     "metadata": {},
     "output_type": "display_data"
    },
    {
     "data": {
      "application/vnd.jupyter.widget-view+json": {
       "model_id": "01f22376f8d044bea78470e3008a2a9f",
       "version_major": 2,
       "version_minor": 0
      },
      "text/plain": [
       "VBox(children=(Label(value='0.021 MB of 0.021 MB uploaded\\r'), FloatProgress(value=1.0, max=1.0)))"
      ]
     },
     "metadata": {},
     "output_type": "display_data"
    },
    {
     "data": {
      "text/html": [
       "<style>\n",
       "    table.wandb td:nth-child(1) { padding: 0 10px; text-align: left ; width: auto;} td:nth-child(2) {text-align: left ; width: 100%}\n",
       "    .wandb-row { display: flex; flex-direction: row; flex-wrap: wrap; justify-content: flex-start; width: 100% }\n",
       "    .wandb-col { display: flex; flex-direction: column; flex-basis: 100%; flex: 1; padding: 10px; }\n",
       "    </style>\n",
       "<div class=\"wandb-row\"><div class=\"wandb-col\"><h3>Run history:</h3><br/><table class=\"wandb\"><tr><td>CV_RMSE</td><td>▁</td></tr><tr><td>CV_RMSE_'Kalmar</td><td>▁</td></tr><tr><td>CV_RMSE_Blekinge</td><td>▁</td></tr><tr><td>RMSE</td><td>▁</td></tr><tr><td>RMSE_Blekinge</td><td>▁</td></tr><tr><td>RMSE_Kalmar</td><td>▁</td></tr></table><br/></div><div class=\"wandb-col\"><h3>Run summary:</h3><br/><table class=\"wandb\"><tr><td>CV_RMSE</td><td>3240.87048</td></tr><tr><td>CV_RMSE_'Kalmar</td><td>1089.4128</td></tr><tr><td>CV_RMSE_Blekinge</td><td>2151.45768</td></tr><tr><td>RMSE</td><td>209.1492</td></tr><tr><td>RMSE_Blekinge</td><td>96.57654</td></tr><tr><td>RMSE_Kalmar</td><td>112.57266</td></tr></table><br/></div></div>"
      ],
      "text/plain": [
       "<IPython.core.display.HTML object>"
      ]
     },
     "metadata": {},
     "output_type": "display_data"
    },
    {
     "data": {
      "text/html": [
       " View run <strong style=\"color:#cdcd00\">robust-sweep-82</strong> at: <a href='https://wandb.ai/danish2562022/sweeps-SEIR_kalmar_bleking/runs/4oz5bcha' target=\"_blank\">https://wandb.ai/danish2562022/sweeps-SEIR_kalmar_bleking/runs/4oz5bcha</a><br/> View project at: <a href='https://wandb.ai/danish2562022/sweeps-SEIR_kalmar_bleking' target=\"_blank\">https://wandb.ai/danish2562022/sweeps-SEIR_kalmar_bleking</a><br/>Synced 5 W&B file(s), 0 media file(s), 0 artifact file(s) and 0 other file(s)"
      ],
      "text/plain": [
       "<IPython.core.display.HTML object>"
      ]
     },
     "metadata": {},
     "output_type": "display_data"
    },
    {
     "data": {
      "text/html": [
       "Find logs at: <code>./wandb/run-20250528_190019-4oz5bcha/logs</code>"
      ],
      "text/plain": [
       "<IPython.core.display.HTML object>"
      ]
     },
     "metadata": {},
     "output_type": "display_data"
    },
    {
     "data": {
      "text/html": [
       "The new W&B backend becomes opt-out in version 0.18.0; try it out with `wandb.require(\"core\")`! See https://wandb.me/wandb-core for more information."
      ],
      "text/plain": [
       "<IPython.core.display.HTML object>"
      ]
     },
     "metadata": {},
     "output_type": "display_data"
    },
    {
     "name": "stderr",
     "output_type": "stream",
     "text": [
      "\u001b[34m\u001b[1mwandb\u001b[0m: Agent Starting Run: bl3smblx with config:\n",
      "\u001b[34m\u001b[1mwandb\u001b[0m: \tah0: 0.8264939298051188\n",
      "\u001b[34m\u001b[1mwandb\u001b[0m: \tah1: 1.7943254640368118\n",
      "\u001b[34m\u001b[1mwandb\u001b[0m: \tbh0: 1.7204857170073062\n",
      "\u001b[34m\u001b[1mwandb\u001b[0m: \tbh1: 7.941681963115136\n",
      "\u001b[34m\u001b[1mwandb\u001b[0m: \tc: 0.5498953659948278\n"
     ]
    },
    {
     "data": {
      "text/html": [
       "wandb version 0.19.11 is available!  To upgrade, please run:\n",
       " $ pip install wandb --upgrade"
      ],
      "text/plain": [
       "<IPython.core.display.HTML object>"
      ]
     },
     "metadata": {},
     "output_type": "display_data"
    },
    {
     "data": {
      "text/html": [
       "Tracking run with wandb version 0.17.4"
      ],
      "text/plain": [
       "<IPython.core.display.HTML object>"
      ]
     },
     "metadata": {},
     "output_type": "display_data"
    },
    {
     "data": {
      "text/html": [
       "Run data is saved locally in <code>/12tb_dsk3/SEIR_model/src/wandb/run-20250528_190029-bl3smblx</code>"
      ],
      "text/plain": [
       "<IPython.core.display.HTML object>"
      ]
     },
     "metadata": {},
     "output_type": "display_data"
    },
    {
     "data": {
      "text/html": [
       "Syncing run <strong><a href='https://wandb.ai/danish2562022/sweeps-SEIR_kalmar_bleking/runs/bl3smblx' target=\"_blank\">earthy-sweep-83</a></strong> to <a href='https://wandb.ai/danish2562022/sweeps-SEIR_kalmar_bleking' target=\"_blank\">Weights & Biases</a> (<a href='https://wandb.me/run' target=\"_blank\">docs</a>)<br/>Sweep page: <a href='https://wandb.ai/danish2562022/sweeps-SEIR_kalmar_bleking/sweeps/za0efz19' target=\"_blank\">https://wandb.ai/danish2562022/sweeps-SEIR_kalmar_bleking/sweeps/za0efz19</a>"
      ],
      "text/plain": [
       "<IPython.core.display.HTML object>"
      ]
     },
     "metadata": {},
     "output_type": "display_data"
    },
    {
     "data": {
      "text/html": [
       " View project at <a href='https://wandb.ai/danish2562022/sweeps-SEIR_kalmar_bleking' target=\"_blank\">https://wandb.ai/danish2562022/sweeps-SEIR_kalmar_bleking</a>"
      ],
      "text/plain": [
       "<IPython.core.display.HTML object>"
      ]
     },
     "metadata": {},
     "output_type": "display_data"
    },
    {
     "data": {
      "text/html": [
       " View sweep at <a href='https://wandb.ai/danish2562022/sweeps-SEIR_kalmar_bleking/sweeps/za0efz19' target=\"_blank\">https://wandb.ai/danish2562022/sweeps-SEIR_kalmar_bleking/sweeps/za0efz19</a>"
      ],
      "text/plain": [
       "<IPython.core.display.HTML object>"
      ]
     },
     "metadata": {},
     "output_type": "display_data"
    },
    {
     "data": {
      "text/html": [
       " View run at <a href='https://wandb.ai/danish2562022/sweeps-SEIR_kalmar_bleking/runs/bl3smblx' target=\"_blank\">https://wandb.ai/danish2562022/sweeps-SEIR_kalmar_bleking/runs/bl3smblx</a>"
      ],
      "text/plain": [
       "<IPython.core.display.HTML object>"
      ]
     },
     "metadata": {},
     "output_type": "display_data"
    },
    {
     "data": {
      "application/vnd.jupyter.widget-view+json": {
       "model_id": "d984617302e242ec914227290efc1bbf",
       "version_major": 2,
       "version_minor": 0
      },
      "text/plain": [
       "VBox(children=(Label(value='0.021 MB of 0.021 MB uploaded\\r'), FloatProgress(value=1.0, max=1.0)))"
      ]
     },
     "metadata": {},
     "output_type": "display_data"
    },
    {
     "data": {
      "text/html": [
       "<style>\n",
       "    table.wandb td:nth-child(1) { padding: 0 10px; text-align: left ; width: auto;} td:nth-child(2) {text-align: left ; width: 100%}\n",
       "    .wandb-row { display: flex; flex-direction: row; flex-wrap: wrap; justify-content: flex-start; width: 100% }\n",
       "    .wandb-col { display: flex; flex-direction: column; flex-basis: 100%; flex: 1; padding: 10px; }\n",
       "    </style>\n",
       "<div class=\"wandb-row\"><div class=\"wandb-col\"><h3>Run history:</h3><br/><table class=\"wandb\"><tr><td>CV_RMSE</td><td>▁</td></tr><tr><td>CV_RMSE_'Kalmar</td><td>▁</td></tr><tr><td>CV_RMSE_Blekinge</td><td>▁</td></tr><tr><td>RMSE</td><td>▁</td></tr><tr><td>RMSE_Blekinge</td><td>▁</td></tr><tr><td>RMSE_Kalmar</td><td>▁</td></tr></table><br/></div><div class=\"wandb-col\"><h3>Run summary:</h3><br/><table class=\"wandb\"><tr><td>CV_RMSE</td><td>4086.04588</td></tr><tr><td>CV_RMSE_'Kalmar</td><td>1006.99567</td></tr><tr><td>CV_RMSE_Blekinge</td><td>3079.05021</td></tr><tr><td>RMSE</td><td>242.27136</td></tr><tr><td>RMSE_Blekinge</td><td>138.21514</td></tr><tr><td>RMSE_Kalmar</td><td>104.05622</td></tr></table><br/></div></div>"
      ],
      "text/plain": [
       "<IPython.core.display.HTML object>"
      ]
     },
     "metadata": {},
     "output_type": "display_data"
    },
    {
     "data": {
      "text/html": [
       " View run <strong style=\"color:#cdcd00\">earthy-sweep-83</strong> at: <a href='https://wandb.ai/danish2562022/sweeps-SEIR_kalmar_bleking/runs/bl3smblx' target=\"_blank\">https://wandb.ai/danish2562022/sweeps-SEIR_kalmar_bleking/runs/bl3smblx</a><br/> View project at: <a href='https://wandb.ai/danish2562022/sweeps-SEIR_kalmar_bleking' target=\"_blank\">https://wandb.ai/danish2562022/sweeps-SEIR_kalmar_bleking</a><br/>Synced 5 W&B file(s), 0 media file(s), 0 artifact file(s) and 0 other file(s)"
      ],
      "text/plain": [
       "<IPython.core.display.HTML object>"
      ]
     },
     "metadata": {},
     "output_type": "display_data"
    },
    {
     "data": {
      "text/html": [
       "Find logs at: <code>./wandb/run-20250528_190029-bl3smblx/logs</code>"
      ],
      "text/plain": [
       "<IPython.core.display.HTML object>"
      ]
     },
     "metadata": {},
     "output_type": "display_data"
    },
    {
     "data": {
      "text/html": [
       "The new W&B backend becomes opt-out in version 0.18.0; try it out with `wandb.require(\"core\")`! See https://wandb.me/wandb-core for more information."
      ],
      "text/plain": [
       "<IPython.core.display.HTML object>"
      ]
     },
     "metadata": {},
     "output_type": "display_data"
    },
    {
     "name": "stderr",
     "output_type": "stream",
     "text": [
      "\u001b[34m\u001b[1mwandb\u001b[0m: Sweep Agent: Waiting for job.\n",
      "\u001b[34m\u001b[1mwandb\u001b[0m: Job received.\n",
      "\u001b[34m\u001b[1mwandb\u001b[0m: Agent Starting Run: 839y1uu4 with config:\n",
      "\u001b[34m\u001b[1mwandb\u001b[0m: \tah0: 2.144217983705081\n",
      "\u001b[34m\u001b[1mwandb\u001b[0m: \tah1: 2.308085624996436\n",
      "\u001b[34m\u001b[1mwandb\u001b[0m: \tbh0: 0.1564254842899815\n",
      "\u001b[34m\u001b[1mwandb\u001b[0m: \tbh1: 9.333401037793903\n",
      "\u001b[34m\u001b[1mwandb\u001b[0m: \tc: 0.7128063521683808\n"
     ]
    },
    {
     "data": {
      "text/html": [
       "wandb version 0.19.11 is available!  To upgrade, please run:\n",
       " $ pip install wandb --upgrade"
      ],
      "text/plain": [
       "<IPython.core.display.HTML object>"
      ]
     },
     "metadata": {},
     "output_type": "display_data"
    },
    {
     "data": {
      "text/html": [
       "Tracking run with wandb version 0.17.4"
      ],
      "text/plain": [
       "<IPython.core.display.HTML object>"
      ]
     },
     "metadata": {},
     "output_type": "display_data"
    },
    {
     "data": {
      "text/html": [
       "Run data is saved locally in <code>/12tb_dsk3/SEIR_model/src/wandb/run-20250528_190045-839y1uu4</code>"
      ],
      "text/plain": [
       "<IPython.core.display.HTML object>"
      ]
     },
     "metadata": {},
     "output_type": "display_data"
    },
    {
     "data": {
      "text/html": [
       "Syncing run <strong><a href='https://wandb.ai/danish2562022/sweeps-SEIR_kalmar_bleking/runs/839y1uu4' target=\"_blank\">quiet-sweep-84</a></strong> to <a href='https://wandb.ai/danish2562022/sweeps-SEIR_kalmar_bleking' target=\"_blank\">Weights & Biases</a> (<a href='https://wandb.me/run' target=\"_blank\">docs</a>)<br/>Sweep page: <a href='https://wandb.ai/danish2562022/sweeps-SEIR_kalmar_bleking/sweeps/za0efz19' target=\"_blank\">https://wandb.ai/danish2562022/sweeps-SEIR_kalmar_bleking/sweeps/za0efz19</a>"
      ],
      "text/plain": [
       "<IPython.core.display.HTML object>"
      ]
     },
     "metadata": {},
     "output_type": "display_data"
    },
    {
     "data": {
      "text/html": [
       " View project at <a href='https://wandb.ai/danish2562022/sweeps-SEIR_kalmar_bleking' target=\"_blank\">https://wandb.ai/danish2562022/sweeps-SEIR_kalmar_bleking</a>"
      ],
      "text/plain": [
       "<IPython.core.display.HTML object>"
      ]
     },
     "metadata": {},
     "output_type": "display_data"
    },
    {
     "data": {
      "text/html": [
       " View sweep at <a href='https://wandb.ai/danish2562022/sweeps-SEIR_kalmar_bleking/sweeps/za0efz19' target=\"_blank\">https://wandb.ai/danish2562022/sweeps-SEIR_kalmar_bleking/sweeps/za0efz19</a>"
      ],
      "text/plain": [
       "<IPython.core.display.HTML object>"
      ]
     },
     "metadata": {},
     "output_type": "display_data"
    },
    {
     "data": {
      "text/html": [
       " View run at <a href='https://wandb.ai/danish2562022/sweeps-SEIR_kalmar_bleking/runs/839y1uu4' target=\"_blank\">https://wandb.ai/danish2562022/sweeps-SEIR_kalmar_bleking/runs/839y1uu4</a>"
      ],
      "text/plain": [
       "<IPython.core.display.HTML object>"
      ]
     },
     "metadata": {},
     "output_type": "display_data"
    },
    {
     "data": {
      "application/vnd.jupyter.widget-view+json": {
       "model_id": "3746d9f699e546d7ae670f9a6b01be27",
       "version_major": 2,
       "version_minor": 0
      },
      "text/plain": [
       "VBox(children=(Label(value='0.021 MB of 0.021 MB uploaded\\r'), FloatProgress(value=1.0, max=1.0)))"
      ]
     },
     "metadata": {},
     "output_type": "display_data"
    },
    {
     "data": {
      "text/html": [
       "<style>\n",
       "    table.wandb td:nth-child(1) { padding: 0 10px; text-align: left ; width: auto;} td:nth-child(2) {text-align: left ; width: 100%}\n",
       "    .wandb-row { display: flex; flex-direction: row; flex-wrap: wrap; justify-content: flex-start; width: 100% }\n",
       "    .wandb-col { display: flex; flex-direction: column; flex-basis: 100%; flex: 1; padding: 10px; }\n",
       "    </style>\n",
       "<div class=\"wandb-row\"><div class=\"wandb-col\"><h3>Run history:</h3><br/><table class=\"wandb\"><tr><td>CV_RMSE</td><td>▁</td></tr><tr><td>CV_RMSE_'Kalmar</td><td>▁</td></tr><tr><td>CV_RMSE_Blekinge</td><td>▁</td></tr><tr><td>RMSE</td><td>▁</td></tr><tr><td>RMSE_Blekinge</td><td>▁</td></tr><tr><td>RMSE_Kalmar</td><td>▁</td></tr></table><br/></div><div class=\"wandb-col\"><h3>Run summary:</h3><br/><table class=\"wandb\"><tr><td>CV_RMSE</td><td>2883.25</td></tr><tr><td>CV_RMSE_'Kalmar</td><td>1121.53815</td></tr><tr><td>CV_RMSE_Blekinge</td><td>1761.71185</td></tr><tr><td>RMSE</td><td>194.97356</td></tr><tr><td>RMSE_Blekinge</td><td>79.08129</td></tr><tr><td>RMSE_Kalmar</td><td>115.89228</td></tr></table><br/></div></div>"
      ],
      "text/plain": [
       "<IPython.core.display.HTML object>"
      ]
     },
     "metadata": {},
     "output_type": "display_data"
    },
    {
     "data": {
      "text/html": [
       " View run <strong style=\"color:#cdcd00\">quiet-sweep-84</strong> at: <a href='https://wandb.ai/danish2562022/sweeps-SEIR_kalmar_bleking/runs/839y1uu4' target=\"_blank\">https://wandb.ai/danish2562022/sweeps-SEIR_kalmar_bleking/runs/839y1uu4</a><br/> View project at: <a href='https://wandb.ai/danish2562022/sweeps-SEIR_kalmar_bleking' target=\"_blank\">https://wandb.ai/danish2562022/sweeps-SEIR_kalmar_bleking</a><br/>Synced 5 W&B file(s), 0 media file(s), 0 artifact file(s) and 0 other file(s)"
      ],
      "text/plain": [
       "<IPython.core.display.HTML object>"
      ]
     },
     "metadata": {},
     "output_type": "display_data"
    },
    {
     "data": {
      "text/html": [
       "Find logs at: <code>./wandb/run-20250528_190045-839y1uu4/logs</code>"
      ],
      "text/plain": [
       "<IPython.core.display.HTML object>"
      ]
     },
     "metadata": {},
     "output_type": "display_data"
    },
    {
     "data": {
      "text/html": [
       "The new W&B backend becomes opt-out in version 0.18.0; try it out with `wandb.require(\"core\")`! See https://wandb.me/wandb-core for more information."
      ],
      "text/plain": [
       "<IPython.core.display.HTML object>"
      ]
     },
     "metadata": {},
     "output_type": "display_data"
    },
    {
     "name": "stderr",
     "output_type": "stream",
     "text": [
      "\u001b[34m\u001b[1mwandb\u001b[0m: Agent Starting Run: 76vipd47 with config:\n",
      "\u001b[34m\u001b[1mwandb\u001b[0m: \tah0: 0.8100201592733767\n",
      "\u001b[34m\u001b[1mwandb\u001b[0m: \tah1: 1.5702698126875023\n",
      "\u001b[34m\u001b[1mwandb\u001b[0m: \tbh0: 1.2274667188082566\n",
      "\u001b[34m\u001b[1mwandb\u001b[0m: \tbh1: 4.182697367962116\n",
      "\u001b[34m\u001b[1mwandb\u001b[0m: \tc: 0.2816576196457684\n"
     ]
    },
    {
     "data": {
      "text/html": [
       "wandb version 0.19.11 is available!  To upgrade, please run:\n",
       " $ pip install wandb --upgrade"
      ],
      "text/plain": [
       "<IPython.core.display.HTML object>"
      ]
     },
     "metadata": {},
     "output_type": "display_data"
    },
    {
     "data": {
      "text/html": [
       "Tracking run with wandb version 0.17.4"
      ],
      "text/plain": [
       "<IPython.core.display.HTML object>"
      ]
     },
     "metadata": {},
     "output_type": "display_data"
    },
    {
     "data": {
      "text/html": [
       "Run data is saved locally in <code>/12tb_dsk3/SEIR_model/src/wandb/run-20250528_190056-76vipd47</code>"
      ],
      "text/plain": [
       "<IPython.core.display.HTML object>"
      ]
     },
     "metadata": {},
     "output_type": "display_data"
    },
    {
     "data": {
      "text/html": [
       "Syncing run <strong><a href='https://wandb.ai/danish2562022/sweeps-SEIR_kalmar_bleking/runs/76vipd47' target=\"_blank\">silvery-sweep-85</a></strong> to <a href='https://wandb.ai/danish2562022/sweeps-SEIR_kalmar_bleking' target=\"_blank\">Weights & Biases</a> (<a href='https://wandb.me/run' target=\"_blank\">docs</a>)<br/>Sweep page: <a href='https://wandb.ai/danish2562022/sweeps-SEIR_kalmar_bleking/sweeps/za0efz19' target=\"_blank\">https://wandb.ai/danish2562022/sweeps-SEIR_kalmar_bleking/sweeps/za0efz19</a>"
      ],
      "text/plain": [
       "<IPython.core.display.HTML object>"
      ]
     },
     "metadata": {},
     "output_type": "display_data"
    },
    {
     "data": {
      "text/html": [
       " View project at <a href='https://wandb.ai/danish2562022/sweeps-SEIR_kalmar_bleking' target=\"_blank\">https://wandb.ai/danish2562022/sweeps-SEIR_kalmar_bleking</a>"
      ],
      "text/plain": [
       "<IPython.core.display.HTML object>"
      ]
     },
     "metadata": {},
     "output_type": "display_data"
    },
    {
     "data": {
      "text/html": [
       " View sweep at <a href='https://wandb.ai/danish2562022/sweeps-SEIR_kalmar_bleking/sweeps/za0efz19' target=\"_blank\">https://wandb.ai/danish2562022/sweeps-SEIR_kalmar_bleking/sweeps/za0efz19</a>"
      ],
      "text/plain": [
       "<IPython.core.display.HTML object>"
      ]
     },
     "metadata": {},
     "output_type": "display_data"
    },
    {
     "data": {
      "text/html": [
       " View run at <a href='https://wandb.ai/danish2562022/sweeps-SEIR_kalmar_bleking/runs/76vipd47' target=\"_blank\">https://wandb.ai/danish2562022/sweeps-SEIR_kalmar_bleking/runs/76vipd47</a>"
      ],
      "text/plain": [
       "<IPython.core.display.HTML object>"
      ]
     },
     "metadata": {},
     "output_type": "display_data"
    },
    {
     "data": {
      "application/vnd.jupyter.widget-view+json": {
       "model_id": "c6846d68c0f6428cb90331d53ce6760e",
       "version_major": 2,
       "version_minor": 0
      },
      "text/plain": [
       "VBox(children=(Label(value='0.021 MB of 0.021 MB uploaded\\r'), FloatProgress(value=1.0, max=1.0)))"
      ]
     },
     "metadata": {},
     "output_type": "display_data"
    },
    {
     "data": {
      "text/html": [
       "<style>\n",
       "    table.wandb td:nth-child(1) { padding: 0 10px; text-align: left ; width: auto;} td:nth-child(2) {text-align: left ; width: 100%}\n",
       "    .wandb-row { display: flex; flex-direction: row; flex-wrap: wrap; justify-content: flex-start; width: 100% }\n",
       "    .wandb-col { display: flex; flex-direction: column; flex-basis: 100%; flex: 1; padding: 10px; }\n",
       "    </style>\n",
       "<div class=\"wandb-row\"><div class=\"wandb-col\"><h3>Run history:</h3><br/><table class=\"wandb\"><tr><td>CV_RMSE</td><td>▁</td></tr><tr><td>CV_RMSE_'Kalmar</td><td>▁</td></tr><tr><td>CV_RMSE_Blekinge</td><td>▁</td></tr><tr><td>RMSE</td><td>▁</td></tr><tr><td>RMSE_Blekinge</td><td>▁</td></tr><tr><td>RMSE_Kalmar</td><td>▁</td></tr></table><br/></div><div class=\"wandb-col\"><h3>Run summary:</h3><br/><table class=\"wandb\"><tr><td>CV_RMSE</td><td>302.98352</td></tr><tr><td>CV_RMSE_'Kalmar</td><td>136.99789</td></tr><tr><td>CV_RMSE_Blekinge</td><td>165.98563</td></tr><tr><td>RMSE</td><td>21.60736</td></tr><tr><td>RMSE_Blekinge</td><td>7.45091</td></tr><tr><td>RMSE_Kalmar</td><td>14.15645</td></tr></table><br/></div></div>"
      ],
      "text/plain": [
       "<IPython.core.display.HTML object>"
      ]
     },
     "metadata": {},
     "output_type": "display_data"
    },
    {
     "data": {
      "text/html": [
       " View run <strong style=\"color:#cdcd00\">silvery-sweep-85</strong> at: <a href='https://wandb.ai/danish2562022/sweeps-SEIR_kalmar_bleking/runs/76vipd47' target=\"_blank\">https://wandb.ai/danish2562022/sweeps-SEIR_kalmar_bleking/runs/76vipd47</a><br/> View project at: <a href='https://wandb.ai/danish2562022/sweeps-SEIR_kalmar_bleking' target=\"_blank\">https://wandb.ai/danish2562022/sweeps-SEIR_kalmar_bleking</a><br/>Synced 5 W&B file(s), 0 media file(s), 0 artifact file(s) and 0 other file(s)"
      ],
      "text/plain": [
       "<IPython.core.display.HTML object>"
      ]
     },
     "metadata": {},
     "output_type": "display_data"
    },
    {
     "data": {
      "text/html": [
       "Find logs at: <code>./wandb/run-20250528_190056-76vipd47/logs</code>"
      ],
      "text/plain": [
       "<IPython.core.display.HTML object>"
      ]
     },
     "metadata": {},
     "output_type": "display_data"
    },
    {
     "data": {
      "text/html": [
       "The new W&B backend becomes opt-out in version 0.18.0; try it out with `wandb.require(\"core\")`! See https://wandb.me/wandb-core for more information."
      ],
      "text/plain": [
       "<IPython.core.display.HTML object>"
      ]
     },
     "metadata": {},
     "output_type": "display_data"
    },
    {
     "name": "stderr",
     "output_type": "stream",
     "text": [
      "\u001b[34m\u001b[1mwandb\u001b[0m: Agent Starting Run: bu559kil with config:\n",
      "\u001b[34m\u001b[1mwandb\u001b[0m: \tah0: 2.058973332911204\n",
      "\u001b[34m\u001b[1mwandb\u001b[0m: \tah1: 0.8545170427414502\n",
      "\u001b[34m\u001b[1mwandb\u001b[0m: \tbh0: 3.078087610944883\n",
      "\u001b[34m\u001b[1mwandb\u001b[0m: \tbh1: 5.132783346601794\n",
      "\u001b[34m\u001b[1mwandb\u001b[0m: \tc: 0.20042858018616572\n"
     ]
    },
    {
     "data": {
      "text/html": [
       "wandb version 0.19.11 is available!  To upgrade, please run:\n",
       " $ pip install wandb --upgrade"
      ],
      "text/plain": [
       "<IPython.core.display.HTML object>"
      ]
     },
     "metadata": {},
     "output_type": "display_data"
    },
    {
     "data": {
      "text/html": [
       "Tracking run with wandb version 0.17.4"
      ],
      "text/plain": [
       "<IPython.core.display.HTML object>"
      ]
     },
     "metadata": {},
     "output_type": "display_data"
    },
    {
     "data": {
      "text/html": [
       "Run data is saved locally in <code>/12tb_dsk3/SEIR_model/src/wandb/run-20250528_190106-bu559kil</code>"
      ],
      "text/plain": [
       "<IPython.core.display.HTML object>"
      ]
     },
     "metadata": {},
     "output_type": "display_data"
    },
    {
     "data": {
      "text/html": [
       "Syncing run <strong><a href='https://wandb.ai/danish2562022/sweeps-SEIR_kalmar_bleking/runs/bu559kil' target=\"_blank\">proud-sweep-86</a></strong> to <a href='https://wandb.ai/danish2562022/sweeps-SEIR_kalmar_bleking' target=\"_blank\">Weights & Biases</a> (<a href='https://wandb.me/run' target=\"_blank\">docs</a>)<br/>Sweep page: <a href='https://wandb.ai/danish2562022/sweeps-SEIR_kalmar_bleking/sweeps/za0efz19' target=\"_blank\">https://wandb.ai/danish2562022/sweeps-SEIR_kalmar_bleking/sweeps/za0efz19</a>"
      ],
      "text/plain": [
       "<IPython.core.display.HTML object>"
      ]
     },
     "metadata": {},
     "output_type": "display_data"
    },
    {
     "data": {
      "text/html": [
       " View project at <a href='https://wandb.ai/danish2562022/sweeps-SEIR_kalmar_bleking' target=\"_blank\">https://wandb.ai/danish2562022/sweeps-SEIR_kalmar_bleking</a>"
      ],
      "text/plain": [
       "<IPython.core.display.HTML object>"
      ]
     },
     "metadata": {},
     "output_type": "display_data"
    },
    {
     "data": {
      "text/html": [
       " View sweep at <a href='https://wandb.ai/danish2562022/sweeps-SEIR_kalmar_bleking/sweeps/za0efz19' target=\"_blank\">https://wandb.ai/danish2562022/sweeps-SEIR_kalmar_bleking/sweeps/za0efz19</a>"
      ],
      "text/plain": [
       "<IPython.core.display.HTML object>"
      ]
     },
     "metadata": {},
     "output_type": "display_data"
    },
    {
     "data": {
      "text/html": [
       " View run at <a href='https://wandb.ai/danish2562022/sweeps-SEIR_kalmar_bleking/runs/bu559kil' target=\"_blank\">https://wandb.ai/danish2562022/sweeps-SEIR_kalmar_bleking/runs/bu559kil</a>"
      ],
      "text/plain": [
       "<IPython.core.display.HTML object>"
      ]
     },
     "metadata": {},
     "output_type": "display_data"
    },
    {
     "data": {
      "application/vnd.jupyter.widget-view+json": {
       "model_id": "805e48bc255c4b27ad9288a4d0f67330",
       "version_major": 2,
       "version_minor": 0
      },
      "text/plain": [
       "VBox(children=(Label(value='0.021 MB of 0.021 MB uploaded\\r'), FloatProgress(value=1.0, max=1.0)))"
      ]
     },
     "metadata": {},
     "output_type": "display_data"
    },
    {
     "data": {
      "text/html": [
       "<style>\n",
       "    table.wandb td:nth-child(1) { padding: 0 10px; text-align: left ; width: auto;} td:nth-child(2) {text-align: left ; width: 100%}\n",
       "    .wandb-row { display: flex; flex-direction: row; flex-wrap: wrap; justify-content: flex-start; width: 100% }\n",
       "    .wandb-col { display: flex; flex-direction: column; flex-basis: 100%; flex: 1; padding: 10px; }\n",
       "    </style>\n",
       "<div class=\"wandb-row\"><div class=\"wandb-col\"><h3>Run history:</h3><br/><table class=\"wandb\"><tr><td>CV_RMSE</td><td>▁</td></tr><tr><td>CV_RMSE_'Kalmar</td><td>▁</td></tr><tr><td>CV_RMSE_Blekinge</td><td>▁</td></tr><tr><td>RMSE</td><td>▁</td></tr><tr><td>RMSE_Blekinge</td><td>▁</td></tr><tr><td>RMSE_Kalmar</td><td>▁</td></tr></table><br/></div><div class=\"wandb-col\"><h3>Run summary:</h3><br/><table class=\"wandb\"><tr><td>CV_RMSE</td><td>1685.47912</td></tr><tr><td>CV_RMSE_'Kalmar</td><td>951.75788</td></tr><tr><td>CV_RMSE_Blekinge</td><td>733.72124</td></tr><tr><td>RMSE</td><td>131.28425</td></tr><tr><td>RMSE_Blekinge</td><td>32.93593</td></tr><tr><td>RMSE_Kalmar</td><td>98.34831</td></tr></table><br/></div></div>"
      ],
      "text/plain": [
       "<IPython.core.display.HTML object>"
      ]
     },
     "metadata": {},
     "output_type": "display_data"
    },
    {
     "data": {
      "text/html": [
       " View run <strong style=\"color:#cdcd00\">proud-sweep-86</strong> at: <a href='https://wandb.ai/danish2562022/sweeps-SEIR_kalmar_bleking/runs/bu559kil' target=\"_blank\">https://wandb.ai/danish2562022/sweeps-SEIR_kalmar_bleking/runs/bu559kil</a><br/> View project at: <a href='https://wandb.ai/danish2562022/sweeps-SEIR_kalmar_bleking' target=\"_blank\">https://wandb.ai/danish2562022/sweeps-SEIR_kalmar_bleking</a><br/>Synced 5 W&B file(s), 0 media file(s), 0 artifact file(s) and 0 other file(s)"
      ],
      "text/plain": [
       "<IPython.core.display.HTML object>"
      ]
     },
     "metadata": {},
     "output_type": "display_data"
    },
    {
     "data": {
      "text/html": [
       "Find logs at: <code>./wandb/run-20250528_190106-bu559kil/logs</code>"
      ],
      "text/plain": [
       "<IPython.core.display.HTML object>"
      ]
     },
     "metadata": {},
     "output_type": "display_data"
    },
    {
     "data": {
      "text/html": [
       "The new W&B backend becomes opt-out in version 0.18.0; try it out with `wandb.require(\"core\")`! See https://wandb.me/wandb-core for more information."
      ],
      "text/plain": [
       "<IPython.core.display.HTML object>"
      ]
     },
     "metadata": {},
     "output_type": "display_data"
    },
    {
     "name": "stderr",
     "output_type": "stream",
     "text": [
      "\u001b[34m\u001b[1mwandb\u001b[0m: Agent Starting Run: oas7zfcd with config:\n",
      "\u001b[34m\u001b[1mwandb\u001b[0m: \tah0: 0.7623639399495323\n",
      "\u001b[34m\u001b[1mwandb\u001b[0m: \tah1: 1.4825519598212995\n",
      "\u001b[34m\u001b[1mwandb\u001b[0m: \tbh0: 6.4070719473566555\n",
      "\u001b[34m\u001b[1mwandb\u001b[0m: \tbh1: 0.9699478641968916\n",
      "\u001b[34m\u001b[1mwandb\u001b[0m: \tc: 0.4156320583766786\n"
     ]
    },
    {
     "data": {
      "text/html": [
       "wandb version 0.19.11 is available!  To upgrade, please run:\n",
       " $ pip install wandb --upgrade"
      ],
      "text/plain": [
       "<IPython.core.display.HTML object>"
      ]
     },
     "metadata": {},
     "output_type": "display_data"
    },
    {
     "data": {
      "text/html": [
       "Tracking run with wandb version 0.17.4"
      ],
      "text/plain": [
       "<IPython.core.display.HTML object>"
      ]
     },
     "metadata": {},
     "output_type": "display_data"
    },
    {
     "data": {
      "text/html": [
       "Run data is saved locally in <code>/12tb_dsk3/SEIR_model/src/wandb/run-20250528_190116-oas7zfcd</code>"
      ],
      "text/plain": [
       "<IPython.core.display.HTML object>"
      ]
     },
     "metadata": {},
     "output_type": "display_data"
    },
    {
     "data": {
      "text/html": [
       "Syncing run <strong><a href='https://wandb.ai/danish2562022/sweeps-SEIR_kalmar_bleking/runs/oas7zfcd' target=\"_blank\">peach-sweep-87</a></strong> to <a href='https://wandb.ai/danish2562022/sweeps-SEIR_kalmar_bleking' target=\"_blank\">Weights & Biases</a> (<a href='https://wandb.me/run' target=\"_blank\">docs</a>)<br/>Sweep page: <a href='https://wandb.ai/danish2562022/sweeps-SEIR_kalmar_bleking/sweeps/za0efz19' target=\"_blank\">https://wandb.ai/danish2562022/sweeps-SEIR_kalmar_bleking/sweeps/za0efz19</a>"
      ],
      "text/plain": [
       "<IPython.core.display.HTML object>"
      ]
     },
     "metadata": {},
     "output_type": "display_data"
    },
    {
     "data": {
      "text/html": [
       " View project at <a href='https://wandb.ai/danish2562022/sweeps-SEIR_kalmar_bleking' target=\"_blank\">https://wandb.ai/danish2562022/sweeps-SEIR_kalmar_bleking</a>"
      ],
      "text/plain": [
       "<IPython.core.display.HTML object>"
      ]
     },
     "metadata": {},
     "output_type": "display_data"
    },
    {
     "data": {
      "text/html": [
       " View sweep at <a href='https://wandb.ai/danish2562022/sweeps-SEIR_kalmar_bleking/sweeps/za0efz19' target=\"_blank\">https://wandb.ai/danish2562022/sweeps-SEIR_kalmar_bleking/sweeps/za0efz19</a>"
      ],
      "text/plain": [
       "<IPython.core.display.HTML object>"
      ]
     },
     "metadata": {},
     "output_type": "display_data"
    },
    {
     "data": {
      "text/html": [
       " View run at <a href='https://wandb.ai/danish2562022/sweeps-SEIR_kalmar_bleking/runs/oas7zfcd' target=\"_blank\">https://wandb.ai/danish2562022/sweeps-SEIR_kalmar_bleking/runs/oas7zfcd</a>"
      ],
      "text/plain": [
       "<IPython.core.display.HTML object>"
      ]
     },
     "metadata": {},
     "output_type": "display_data"
    },
    {
     "data": {
      "application/vnd.jupyter.widget-view+json": {
       "model_id": "d21ff2234431415badc25384a3afaca1",
       "version_major": 2,
       "version_minor": 0
      },
      "text/plain": [
       "VBox(children=(Label(value='0.021 MB of 0.021 MB uploaded\\r'), FloatProgress(value=1.0, max=1.0)))"
      ]
     },
     "metadata": {},
     "output_type": "display_data"
    },
    {
     "data": {
      "text/html": [
       "<style>\n",
       "    table.wandb td:nth-child(1) { padding: 0 10px; text-align: left ; width: auto;} td:nth-child(2) {text-align: left ; width: 100%}\n",
       "    .wandb-row { display: flex; flex-direction: row; flex-wrap: wrap; justify-content: flex-start; width: 100% }\n",
       "    .wandb-col { display: flex; flex-direction: column; flex-basis: 100%; flex: 1; padding: 10px; }\n",
       "    </style>\n",
       "<div class=\"wandb-row\"><div class=\"wandb-col\"><h3>Run history:</h3><br/><table class=\"wandb\"><tr><td>CV_RMSE</td><td>▁</td></tr><tr><td>CV_RMSE_'Kalmar</td><td>▁</td></tr><tr><td>CV_RMSE_Blekinge</td><td>▁</td></tr><tr><td>RMSE</td><td>▁</td></tr><tr><td>RMSE_Blekinge</td><td>▁</td></tr><tr><td>RMSE_Kalmar</td><td>▁</td></tr></table><br/></div><div class=\"wandb-col\"><h3>Run summary:</h3><br/><table class=\"wandb\"><tr><td>CV_RMSE</td><td>269.62898</td></tr><tr><td>CV_RMSE_'Kalmar</td><td>141.00279</td></tr><tr><td>CV_RMSE_Blekinge</td><td>128.62619</td></tr><tr><td>RMSE</td><td>20.34417</td></tr><tr><td>RMSE_Blekinge</td><td>5.77389</td></tr><tr><td>RMSE_Kalmar</td><td>14.57029</td></tr></table><br/></div></div>"
      ],
      "text/plain": [
       "<IPython.core.display.HTML object>"
      ]
     },
     "metadata": {},
     "output_type": "display_data"
    },
    {
     "data": {
      "text/html": [
       " View run <strong style=\"color:#cdcd00\">peach-sweep-87</strong> at: <a href='https://wandb.ai/danish2562022/sweeps-SEIR_kalmar_bleking/runs/oas7zfcd' target=\"_blank\">https://wandb.ai/danish2562022/sweeps-SEIR_kalmar_bleking/runs/oas7zfcd</a><br/> View project at: <a href='https://wandb.ai/danish2562022/sweeps-SEIR_kalmar_bleking' target=\"_blank\">https://wandb.ai/danish2562022/sweeps-SEIR_kalmar_bleking</a><br/>Synced 5 W&B file(s), 0 media file(s), 0 artifact file(s) and 0 other file(s)"
      ],
      "text/plain": [
       "<IPython.core.display.HTML object>"
      ]
     },
     "metadata": {},
     "output_type": "display_data"
    },
    {
     "data": {
      "text/html": [
       "Find logs at: <code>./wandb/run-20250528_190116-oas7zfcd/logs</code>"
      ],
      "text/plain": [
       "<IPython.core.display.HTML object>"
      ]
     },
     "metadata": {},
     "output_type": "display_data"
    },
    {
     "data": {
      "text/html": [
       "The new W&B backend becomes opt-out in version 0.18.0; try it out with `wandb.require(\"core\")`! See https://wandb.me/wandb-core for more information."
      ],
      "text/plain": [
       "<IPython.core.display.HTML object>"
      ]
     },
     "metadata": {},
     "output_type": "display_data"
    },
    {
     "name": "stderr",
     "output_type": "stream",
     "text": [
      "\u001b[34m\u001b[1mwandb\u001b[0m: Agent Starting Run: 4dmpo9s9 with config:\n",
      "\u001b[34m\u001b[1mwandb\u001b[0m: \tah0: 0.35877751578224015\n",
      "\u001b[34m\u001b[1mwandb\u001b[0m: \tah1: 2.25728028604697\n",
      "\u001b[34m\u001b[1mwandb\u001b[0m: \tbh0: 0.6080901919414317\n",
      "\u001b[34m\u001b[1mwandb\u001b[0m: \tbh1: 2.231549034697029\n",
      "\u001b[34m\u001b[1mwandb\u001b[0m: \tc: 0.08151198423205053\n"
     ]
    },
    {
     "data": {
      "text/html": [
       "wandb version 0.19.11 is available!  To upgrade, please run:\n",
       " $ pip install wandb --upgrade"
      ],
      "text/plain": [
       "<IPython.core.display.HTML object>"
      ]
     },
     "metadata": {},
     "output_type": "display_data"
    },
    {
     "data": {
      "text/html": [
       "Tracking run with wandb version 0.17.4"
      ],
      "text/plain": [
       "<IPython.core.display.HTML object>"
      ]
     },
     "metadata": {},
     "output_type": "display_data"
    },
    {
     "data": {
      "text/html": [
       "Run data is saved locally in <code>/12tb_dsk3/SEIR_model/src/wandb/run-20250528_190127-4dmpo9s9</code>"
      ],
      "text/plain": [
       "<IPython.core.display.HTML object>"
      ]
     },
     "metadata": {},
     "output_type": "display_data"
    },
    {
     "data": {
      "text/html": [
       "Syncing run <strong><a href='https://wandb.ai/danish2562022/sweeps-SEIR_kalmar_bleking/runs/4dmpo9s9' target=\"_blank\">faithful-sweep-88</a></strong> to <a href='https://wandb.ai/danish2562022/sweeps-SEIR_kalmar_bleking' target=\"_blank\">Weights & Biases</a> (<a href='https://wandb.me/run' target=\"_blank\">docs</a>)<br/>Sweep page: <a href='https://wandb.ai/danish2562022/sweeps-SEIR_kalmar_bleking/sweeps/za0efz19' target=\"_blank\">https://wandb.ai/danish2562022/sweeps-SEIR_kalmar_bleking/sweeps/za0efz19</a>"
      ],
      "text/plain": [
       "<IPython.core.display.HTML object>"
      ]
     },
     "metadata": {},
     "output_type": "display_data"
    },
    {
     "data": {
      "text/html": [
       " View project at <a href='https://wandb.ai/danish2562022/sweeps-SEIR_kalmar_bleking' target=\"_blank\">https://wandb.ai/danish2562022/sweeps-SEIR_kalmar_bleking</a>"
      ],
      "text/plain": [
       "<IPython.core.display.HTML object>"
      ]
     },
     "metadata": {},
     "output_type": "display_data"
    },
    {
     "data": {
      "text/html": [
       " View sweep at <a href='https://wandb.ai/danish2562022/sweeps-SEIR_kalmar_bleking/sweeps/za0efz19' target=\"_blank\">https://wandb.ai/danish2562022/sweeps-SEIR_kalmar_bleking/sweeps/za0efz19</a>"
      ],
      "text/plain": [
       "<IPython.core.display.HTML object>"
      ]
     },
     "metadata": {},
     "output_type": "display_data"
    },
    {
     "data": {
      "text/html": [
       " View run at <a href='https://wandb.ai/danish2562022/sweeps-SEIR_kalmar_bleking/runs/4dmpo9s9' target=\"_blank\">https://wandb.ai/danish2562022/sweeps-SEIR_kalmar_bleking/runs/4dmpo9s9</a>"
      ],
      "text/plain": [
       "<IPython.core.display.HTML object>"
      ]
     },
     "metadata": {},
     "output_type": "display_data"
    },
    {
     "data": {
      "application/vnd.jupyter.widget-view+json": {
       "model_id": "f9715769d69c43368e407ed9478bf4ac",
       "version_major": 2,
       "version_minor": 0
      },
      "text/plain": [
       "VBox(children=(Label(value='0.021 MB of 0.021 MB uploaded\\r'), FloatProgress(value=1.0, max=1.0)))"
      ]
     },
     "metadata": {},
     "output_type": "display_data"
    },
    {
     "data": {
      "text/html": [
       "<style>\n",
       "    table.wandb td:nth-child(1) { padding: 0 10px; text-align: left ; width: auto;} td:nth-child(2) {text-align: left ; width: 100%}\n",
       "    .wandb-row { display: flex; flex-direction: row; flex-wrap: wrap; justify-content: flex-start; width: 100% }\n",
       "    .wandb-col { display: flex; flex-direction: column; flex-basis: 100%; flex: 1; padding: 10px; }\n",
       "    </style>\n",
       "<div class=\"wandb-row\"><div class=\"wandb-col\"><h3>Run history:</h3><br/><table class=\"wandb\"><tr><td>CV_RMSE</td><td>▁</td></tr><tr><td>CV_RMSE_'Kalmar</td><td>▁</td></tr><tr><td>CV_RMSE_Blekinge</td><td>▁</td></tr><tr><td>RMSE</td><td>▁</td></tr><tr><td>RMSE_Blekinge</td><td>▁</td></tr><tr><td>RMSE_Kalmar</td><td>▁</td></tr></table><br/></div><div class=\"wandb-col\"><h3>Run summary:</h3><br/><table class=\"wandb\"><tr><td>CV_RMSE</td><td>2186.9842</td></tr><tr><td>CV_RMSE_'Kalmar</td><td>172.95656</td></tr><tr><td>CV_RMSE_Blekinge</td><td>2014.02763</td></tr><tr><td>RMSE</td><td>108.27964</td></tr><tr><td>RMSE_Blekinge</td><td>90.40746</td></tr><tr><td>RMSE_Kalmar</td><td>17.87218</td></tr></table><br/></div></div>"
      ],
      "text/plain": [
       "<IPython.core.display.HTML object>"
      ]
     },
     "metadata": {},
     "output_type": "display_data"
    },
    {
     "data": {
      "text/html": [
       " View run <strong style=\"color:#cdcd00\">faithful-sweep-88</strong> at: <a href='https://wandb.ai/danish2562022/sweeps-SEIR_kalmar_bleking/runs/4dmpo9s9' target=\"_blank\">https://wandb.ai/danish2562022/sweeps-SEIR_kalmar_bleking/runs/4dmpo9s9</a><br/> View project at: <a href='https://wandb.ai/danish2562022/sweeps-SEIR_kalmar_bleking' target=\"_blank\">https://wandb.ai/danish2562022/sweeps-SEIR_kalmar_bleking</a><br/>Synced 5 W&B file(s), 0 media file(s), 0 artifact file(s) and 0 other file(s)"
      ],
      "text/plain": [
       "<IPython.core.display.HTML object>"
      ]
     },
     "metadata": {},
     "output_type": "display_data"
    },
    {
     "data": {
      "text/html": [
       "Find logs at: <code>./wandb/run-20250528_190127-4dmpo9s9/logs</code>"
      ],
      "text/plain": [
       "<IPython.core.display.HTML object>"
      ]
     },
     "metadata": {},
     "output_type": "display_data"
    },
    {
     "data": {
      "text/html": [
       "The new W&B backend becomes opt-out in version 0.18.0; try it out with `wandb.require(\"core\")`! See https://wandb.me/wandb-core for more information."
      ],
      "text/plain": [
       "<IPython.core.display.HTML object>"
      ]
     },
     "metadata": {},
     "output_type": "display_data"
    },
    {
     "name": "stderr",
     "output_type": "stream",
     "text": [
      "\u001b[34m\u001b[1mwandb\u001b[0m: Sweep Agent: Waiting for job.\n",
      "\u001b[34m\u001b[1mwandb\u001b[0m: Job received.\n",
      "\u001b[34m\u001b[1mwandb\u001b[0m: Agent Starting Run: f5y5c9ma with config:\n",
      "\u001b[34m\u001b[1mwandb\u001b[0m: \tah0: 2.608488257923674\n",
      "\u001b[34m\u001b[1mwandb\u001b[0m: \tah1: 1.2617874838815646\n",
      "\u001b[34m\u001b[1mwandb\u001b[0m: \tbh0: 6.7048589623860355\n",
      "\u001b[34m\u001b[1mwandb\u001b[0m: \tbh1: 4.940945170528081\n",
      "\u001b[34m\u001b[1mwandb\u001b[0m: \tc: 0.912069465902235\n"
     ]
    },
    {
     "data": {
      "text/html": [
       "wandb version 0.19.11 is available!  To upgrade, please run:\n",
       " $ pip install wandb --upgrade"
      ],
      "text/plain": [
       "<IPython.core.display.HTML object>"
      ]
     },
     "metadata": {},
     "output_type": "display_data"
    },
    {
     "data": {
      "text/html": [
       "Tracking run with wandb version 0.17.4"
      ],
      "text/plain": [
       "<IPython.core.display.HTML object>"
      ]
     },
     "metadata": {},
     "output_type": "display_data"
    },
    {
     "data": {
      "text/html": [
       "Run data is saved locally in <code>/12tb_dsk3/SEIR_model/src/wandb/run-20250528_190143-f5y5c9ma</code>"
      ],
      "text/plain": [
       "<IPython.core.display.HTML object>"
      ]
     },
     "metadata": {},
     "output_type": "display_data"
    },
    {
     "data": {
      "text/html": [
       "Syncing run <strong><a href='https://wandb.ai/danish2562022/sweeps-SEIR_kalmar_bleking/runs/f5y5c9ma' target=\"_blank\">confused-sweep-89</a></strong> to <a href='https://wandb.ai/danish2562022/sweeps-SEIR_kalmar_bleking' target=\"_blank\">Weights & Biases</a> (<a href='https://wandb.me/run' target=\"_blank\">docs</a>)<br/>Sweep page: <a href='https://wandb.ai/danish2562022/sweeps-SEIR_kalmar_bleking/sweeps/za0efz19' target=\"_blank\">https://wandb.ai/danish2562022/sweeps-SEIR_kalmar_bleking/sweeps/za0efz19</a>"
      ],
      "text/plain": [
       "<IPython.core.display.HTML object>"
      ]
     },
     "metadata": {},
     "output_type": "display_data"
    },
    {
     "data": {
      "text/html": [
       " View project at <a href='https://wandb.ai/danish2562022/sweeps-SEIR_kalmar_bleking' target=\"_blank\">https://wandb.ai/danish2562022/sweeps-SEIR_kalmar_bleking</a>"
      ],
      "text/plain": [
       "<IPython.core.display.HTML object>"
      ]
     },
     "metadata": {},
     "output_type": "display_data"
    },
    {
     "data": {
      "text/html": [
       " View sweep at <a href='https://wandb.ai/danish2562022/sweeps-SEIR_kalmar_bleking/sweeps/za0efz19' target=\"_blank\">https://wandb.ai/danish2562022/sweeps-SEIR_kalmar_bleking/sweeps/za0efz19</a>"
      ],
      "text/plain": [
       "<IPython.core.display.HTML object>"
      ]
     },
     "metadata": {},
     "output_type": "display_data"
    },
    {
     "data": {
      "text/html": [
       " View run at <a href='https://wandb.ai/danish2562022/sweeps-SEIR_kalmar_bleking/runs/f5y5c9ma' target=\"_blank\">https://wandb.ai/danish2562022/sweeps-SEIR_kalmar_bleking/runs/f5y5c9ma</a>"
      ],
      "text/plain": [
       "<IPython.core.display.HTML object>"
      ]
     },
     "metadata": {},
     "output_type": "display_data"
    },
    {
     "data": {
      "application/vnd.jupyter.widget-view+json": {
       "model_id": "ba5b0ea22f4a49a19c88cde9be125f4a",
       "version_major": 2,
       "version_minor": 0
      },
      "text/plain": [
       "VBox(children=(Label(value='0.021 MB of 0.021 MB uploaded\\r'), FloatProgress(value=1.0, max=1.0)))"
      ]
     },
     "metadata": {},
     "output_type": "display_data"
    },
    {
     "data": {
      "text/html": [
       "<style>\n",
       "    table.wandb td:nth-child(1) { padding: 0 10px; text-align: left ; width: auto;} td:nth-child(2) {text-align: left ; width: 100%}\n",
       "    .wandb-row { display: flex; flex-direction: row; flex-wrap: wrap; justify-content: flex-start; width: 100% }\n",
       "    .wandb-col { display: flex; flex-direction: column; flex-basis: 100%; flex: 1; padding: 10px; }\n",
       "    </style>\n",
       "<div class=\"wandb-row\"><div class=\"wandb-col\"><h3>Run history:</h3><br/><table class=\"wandb\"><tr><td>CV_RMSE</td><td>▁</td></tr><tr><td>CV_RMSE_'Kalmar</td><td>▁</td></tr><tr><td>CV_RMSE_Blekinge</td><td>▁</td></tr><tr><td>RMSE</td><td>▁</td></tr><tr><td>RMSE_Blekinge</td><td>▁</td></tr><tr><td>RMSE_Kalmar</td><td>▁</td></tr></table><br/></div><div class=\"wandb-col\"><h3>Run summary:</h3><br/><table class=\"wandb\"><tr><td>CV_RMSE</td><td>3274.83671</td></tr><tr><td>CV_RMSE_'Kalmar</td><td>1394.77601</td></tr><tr><td>CV_RMSE_Blekinge</td><td>1880.06071</td></tr><tr><td>RMSE</td><td>228.52069</td></tr><tr><td>RMSE_Blekinge</td><td>84.39384</td></tr><tr><td>RMSE_Kalmar</td><td>144.12685</td></tr></table><br/></div></div>"
      ],
      "text/plain": [
       "<IPython.core.display.HTML object>"
      ]
     },
     "metadata": {},
     "output_type": "display_data"
    },
    {
     "data": {
      "text/html": [
       " View run <strong style=\"color:#cdcd00\">confused-sweep-89</strong> at: <a href='https://wandb.ai/danish2562022/sweeps-SEIR_kalmar_bleking/runs/f5y5c9ma' target=\"_blank\">https://wandb.ai/danish2562022/sweeps-SEIR_kalmar_bleking/runs/f5y5c9ma</a><br/> View project at: <a href='https://wandb.ai/danish2562022/sweeps-SEIR_kalmar_bleking' target=\"_blank\">https://wandb.ai/danish2562022/sweeps-SEIR_kalmar_bleking</a><br/>Synced 5 W&B file(s), 0 media file(s), 0 artifact file(s) and 0 other file(s)"
      ],
      "text/plain": [
       "<IPython.core.display.HTML object>"
      ]
     },
     "metadata": {},
     "output_type": "display_data"
    },
    {
     "data": {
      "text/html": [
       "Find logs at: <code>./wandb/run-20250528_190143-f5y5c9ma/logs</code>"
      ],
      "text/plain": [
       "<IPython.core.display.HTML object>"
      ]
     },
     "metadata": {},
     "output_type": "display_data"
    },
    {
     "data": {
      "text/html": [
       "The new W&B backend becomes opt-out in version 0.18.0; try it out with `wandb.require(\"core\")`! See https://wandb.me/wandb-core for more information."
      ],
      "text/plain": [
       "<IPython.core.display.HTML object>"
      ]
     },
     "metadata": {},
     "output_type": "display_data"
    },
    {
     "name": "stderr",
     "output_type": "stream",
     "text": [
      "\u001b[34m\u001b[1mwandb\u001b[0m: Agent Starting Run: w4dt5cge with config:\n",
      "\u001b[34m\u001b[1mwandb\u001b[0m: \tah0: 2.0093677756965436\n",
      "\u001b[34m\u001b[1mwandb\u001b[0m: \tah1: 0.22046035226035565\n",
      "\u001b[34m\u001b[1mwandb\u001b[0m: \tbh0: 6.905998752488678\n",
      "\u001b[34m\u001b[1mwandb\u001b[0m: \tbh1: 8.54781050644754\n",
      "\u001b[34m\u001b[1mwandb\u001b[0m: \tc: 0.4259022429961132\n"
     ]
    },
    {
     "data": {
      "text/html": [
       "wandb version 0.19.11 is available!  To upgrade, please run:\n",
       " $ pip install wandb --upgrade"
      ],
      "text/plain": [
       "<IPython.core.display.HTML object>"
      ]
     },
     "metadata": {},
     "output_type": "display_data"
    },
    {
     "data": {
      "text/html": [
       "Tracking run with wandb version 0.17.4"
      ],
      "text/plain": [
       "<IPython.core.display.HTML object>"
      ]
     },
     "metadata": {},
     "output_type": "display_data"
    },
    {
     "data": {
      "text/html": [
       "Run data is saved locally in <code>/12tb_dsk3/SEIR_model/src/wandb/run-20250528_190153-w4dt5cge</code>"
      ],
      "text/plain": [
       "<IPython.core.display.HTML object>"
      ]
     },
     "metadata": {},
     "output_type": "display_data"
    },
    {
     "data": {
      "text/html": [
       "Syncing run <strong><a href='https://wandb.ai/danish2562022/sweeps-SEIR_kalmar_bleking/runs/w4dt5cge' target=\"_blank\">lively-sweep-90</a></strong> to <a href='https://wandb.ai/danish2562022/sweeps-SEIR_kalmar_bleking' target=\"_blank\">Weights & Biases</a> (<a href='https://wandb.me/run' target=\"_blank\">docs</a>)<br/>Sweep page: <a href='https://wandb.ai/danish2562022/sweeps-SEIR_kalmar_bleking/sweeps/za0efz19' target=\"_blank\">https://wandb.ai/danish2562022/sweeps-SEIR_kalmar_bleking/sweeps/za0efz19</a>"
      ],
      "text/plain": [
       "<IPython.core.display.HTML object>"
      ]
     },
     "metadata": {},
     "output_type": "display_data"
    },
    {
     "data": {
      "text/html": [
       " View project at <a href='https://wandb.ai/danish2562022/sweeps-SEIR_kalmar_bleking' target=\"_blank\">https://wandb.ai/danish2562022/sweeps-SEIR_kalmar_bleking</a>"
      ],
      "text/plain": [
       "<IPython.core.display.HTML object>"
      ]
     },
     "metadata": {},
     "output_type": "display_data"
    },
    {
     "data": {
      "text/html": [
       " View sweep at <a href='https://wandb.ai/danish2562022/sweeps-SEIR_kalmar_bleking/sweeps/za0efz19' target=\"_blank\">https://wandb.ai/danish2562022/sweeps-SEIR_kalmar_bleking/sweeps/za0efz19</a>"
      ],
      "text/plain": [
       "<IPython.core.display.HTML object>"
      ]
     },
     "metadata": {},
     "output_type": "display_data"
    },
    {
     "data": {
      "text/html": [
       " View run at <a href='https://wandb.ai/danish2562022/sweeps-SEIR_kalmar_bleking/runs/w4dt5cge' target=\"_blank\">https://wandb.ai/danish2562022/sweeps-SEIR_kalmar_bleking/runs/w4dt5cge</a>"
      ],
      "text/plain": [
       "<IPython.core.display.HTML object>"
      ]
     },
     "metadata": {},
     "output_type": "display_data"
    },
    {
     "data": {
      "application/vnd.jupyter.widget-view+json": {
       "model_id": "ddd06dae71dc4b0ebc70f3b5fbb698ac",
       "version_major": 2,
       "version_minor": 0
      },
      "text/plain": [
       "VBox(children=(Label(value='0.021 MB of 0.021 MB uploaded\\r'), FloatProgress(value=1.0, max=1.0)))"
      ]
     },
     "metadata": {},
     "output_type": "display_data"
    },
    {
     "data": {
      "text/html": [
       "<style>\n",
       "    table.wandb td:nth-child(1) { padding: 0 10px; text-align: left ; width: auto;} td:nth-child(2) {text-align: left ; width: 100%}\n",
       "    .wandb-row { display: flex; flex-direction: row; flex-wrap: wrap; justify-content: flex-start; width: 100% }\n",
       "    .wandb-col { display: flex; flex-direction: column; flex-basis: 100%; flex: 1; padding: 10px; }\n",
       "    </style>\n",
       "<div class=\"wandb-row\"><div class=\"wandb-col\"><h3>Run history:</h3><br/><table class=\"wandb\"><tr><td>CV_RMSE</td><td>▁</td></tr><tr><td>CV_RMSE_'Kalmar</td><td>▁</td></tr><tr><td>CV_RMSE_Blekinge</td><td>▁</td></tr><tr><td>RMSE</td><td>▁</td></tr><tr><td>RMSE_Blekinge</td><td>▁</td></tr><tr><td>RMSE_Kalmar</td><td>▁</td></tr></table><br/></div><div class=\"wandb-col\"><h3>Run summary:</h3><br/><table class=\"wandb\"><tr><td>CV_RMSE</td><td>1151.53028</td></tr><tr><td>CV_RMSE_'Kalmar</td><td>706.68873</td></tr><tr><td>CV_RMSE_Blekinge</td><td>444.84155</td></tr><tr><td>RMSE</td><td>92.99295</td></tr><tr><td>RMSE_Blekinge</td><td>19.96844</td></tr><tr><td>RMSE_Kalmar</td><td>73.0245</td></tr></table><br/></div></div>"
      ],
      "text/plain": [
       "<IPython.core.display.HTML object>"
      ]
     },
     "metadata": {},
     "output_type": "display_data"
    },
    {
     "data": {
      "text/html": [
       " View run <strong style=\"color:#cdcd00\">lively-sweep-90</strong> at: <a href='https://wandb.ai/danish2562022/sweeps-SEIR_kalmar_bleking/runs/w4dt5cge' target=\"_blank\">https://wandb.ai/danish2562022/sweeps-SEIR_kalmar_bleking/runs/w4dt5cge</a><br/> View project at: <a href='https://wandb.ai/danish2562022/sweeps-SEIR_kalmar_bleking' target=\"_blank\">https://wandb.ai/danish2562022/sweeps-SEIR_kalmar_bleking</a><br/>Synced 5 W&B file(s), 0 media file(s), 0 artifact file(s) and 0 other file(s)"
      ],
      "text/plain": [
       "<IPython.core.display.HTML object>"
      ]
     },
     "metadata": {},
     "output_type": "display_data"
    },
    {
     "data": {
      "text/html": [
       "Find logs at: <code>./wandb/run-20250528_190153-w4dt5cge/logs</code>"
      ],
      "text/plain": [
       "<IPython.core.display.HTML object>"
      ]
     },
     "metadata": {},
     "output_type": "display_data"
    },
    {
     "data": {
      "text/html": [
       "The new W&B backend becomes opt-out in version 0.18.0; try it out with `wandb.require(\"core\")`! See https://wandb.me/wandb-core for more information."
      ],
      "text/plain": [
       "<IPython.core.display.HTML object>"
      ]
     },
     "metadata": {},
     "output_type": "display_data"
    },
    {
     "name": "stderr",
     "output_type": "stream",
     "text": [
      "\u001b[34m\u001b[1mwandb\u001b[0m: Sweep Agent: Waiting for job.\n",
      "\u001b[34m\u001b[1mwandb\u001b[0m: Job received.\n",
      "\u001b[34m\u001b[1mwandb\u001b[0m: Agent Starting Run: bjbpqepk with config:\n",
      "\u001b[34m\u001b[1mwandb\u001b[0m: \tah0: 2.27952368724106\n",
      "\u001b[34m\u001b[1mwandb\u001b[0m: \tah1: 0.02088254570493175\n",
      "\u001b[34m\u001b[1mwandb\u001b[0m: \tbh0: 9.218431249319488\n",
      "\u001b[34m\u001b[1mwandb\u001b[0m: \tbh1: 2.4740407765635473\n",
      "\u001b[34m\u001b[1mwandb\u001b[0m: \tc: 0.15667162585975258\n"
     ]
    },
    {
     "data": {
      "text/html": [
       "wandb version 0.19.11 is available!  To upgrade, please run:\n",
       " $ pip install wandb --upgrade"
      ],
      "text/plain": [
       "<IPython.core.display.HTML object>"
      ]
     },
     "metadata": {},
     "output_type": "display_data"
    },
    {
     "data": {
      "text/html": [
       "Tracking run with wandb version 0.17.4"
      ],
      "text/plain": [
       "<IPython.core.display.HTML object>"
      ]
     },
     "metadata": {},
     "output_type": "display_data"
    },
    {
     "data": {
      "text/html": [
       "Run data is saved locally in <code>/12tb_dsk3/SEIR_model/src/wandb/run-20250528_190210-bjbpqepk</code>"
      ],
      "text/plain": [
       "<IPython.core.display.HTML object>"
      ]
     },
     "metadata": {},
     "output_type": "display_data"
    },
    {
     "data": {
      "text/html": [
       "Syncing run <strong><a href='https://wandb.ai/danish2562022/sweeps-SEIR_kalmar_bleking/runs/bjbpqepk' target=\"_blank\">flowing-sweep-91</a></strong> to <a href='https://wandb.ai/danish2562022/sweeps-SEIR_kalmar_bleking' target=\"_blank\">Weights & Biases</a> (<a href='https://wandb.me/run' target=\"_blank\">docs</a>)<br/>Sweep page: <a href='https://wandb.ai/danish2562022/sweeps-SEIR_kalmar_bleking/sweeps/za0efz19' target=\"_blank\">https://wandb.ai/danish2562022/sweeps-SEIR_kalmar_bleking/sweeps/za0efz19</a>"
      ],
      "text/plain": [
       "<IPython.core.display.HTML object>"
      ]
     },
     "metadata": {},
     "output_type": "display_data"
    },
    {
     "data": {
      "text/html": [
       " View project at <a href='https://wandb.ai/danish2562022/sweeps-SEIR_kalmar_bleking' target=\"_blank\">https://wandb.ai/danish2562022/sweeps-SEIR_kalmar_bleking</a>"
      ],
      "text/plain": [
       "<IPython.core.display.HTML object>"
      ]
     },
     "metadata": {},
     "output_type": "display_data"
    },
    {
     "data": {
      "text/html": [
       " View sweep at <a href='https://wandb.ai/danish2562022/sweeps-SEIR_kalmar_bleking/sweeps/za0efz19' target=\"_blank\">https://wandb.ai/danish2562022/sweeps-SEIR_kalmar_bleking/sweeps/za0efz19</a>"
      ],
      "text/plain": [
       "<IPython.core.display.HTML object>"
      ]
     },
     "metadata": {},
     "output_type": "display_data"
    },
    {
     "data": {
      "text/html": [
       " View run at <a href='https://wandb.ai/danish2562022/sweeps-SEIR_kalmar_bleking/runs/bjbpqepk' target=\"_blank\">https://wandb.ai/danish2562022/sweeps-SEIR_kalmar_bleking/runs/bjbpqepk</a>"
      ],
      "text/plain": [
       "<IPython.core.display.HTML object>"
      ]
     },
     "metadata": {},
     "output_type": "display_data"
    },
    {
     "data": {
      "application/vnd.jupyter.widget-view+json": {
       "model_id": "3f6cf1ef3c674235a510e95fc6ff900e",
       "version_major": 2,
       "version_minor": 0
      },
      "text/plain": [
       "VBox(children=(Label(value='0.021 MB of 0.021 MB uploaded\\r'), FloatProgress(value=1.0, max=1.0)))"
      ]
     },
     "metadata": {},
     "output_type": "display_data"
    },
    {
     "data": {
      "text/html": [
       "<style>\n",
       "    table.wandb td:nth-child(1) { padding: 0 10px; text-align: left ; width: auto;} td:nth-child(2) {text-align: left ; width: 100%}\n",
       "    .wandb-row { display: flex; flex-direction: row; flex-wrap: wrap; justify-content: flex-start; width: 100% }\n",
       "    .wandb-col { display: flex; flex-direction: column; flex-basis: 100%; flex: 1; padding: 10px; }\n",
       "    </style>\n",
       "<div class=\"wandb-row\"><div class=\"wandb-col\"><h3>Run history:</h3><br/><table class=\"wandb\"><tr><td>CV_RMSE</td><td>▁</td></tr><tr><td>CV_RMSE_'Kalmar</td><td>▁</td></tr><tr><td>CV_RMSE_Blekinge</td><td>▁</td></tr><tr><td>RMSE</td><td>▁</td></tr><tr><td>RMSE_Blekinge</td><td>▁</td></tr><tr><td>RMSE_Kalmar</td><td>▁</td></tr></table><br/></div><div class=\"wandb-col\"><h3>Run summary:</h3><br/><table class=\"wandb\"><tr><td>CV_RMSE</td><td>1011.88899</td></tr><tr><td>CV_RMSE_'Kalmar</td><td>838.56095</td></tr><tr><td>CV_RMSE_Blekinge</td><td>173.32804</td></tr><tr><td>RMSE</td><td>94.4318</td></tr><tr><td>RMSE_Blekinge</td><td>7.7805</td></tr><tr><td>RMSE_Kalmar</td><td>86.6513</td></tr></table><br/></div></div>"
      ],
      "text/plain": [
       "<IPython.core.display.HTML object>"
      ]
     },
     "metadata": {},
     "output_type": "display_data"
    },
    {
     "data": {
      "text/html": [
       " View run <strong style=\"color:#cdcd00\">flowing-sweep-91</strong> at: <a href='https://wandb.ai/danish2562022/sweeps-SEIR_kalmar_bleking/runs/bjbpqepk' target=\"_blank\">https://wandb.ai/danish2562022/sweeps-SEIR_kalmar_bleking/runs/bjbpqepk</a><br/> View project at: <a href='https://wandb.ai/danish2562022/sweeps-SEIR_kalmar_bleking' target=\"_blank\">https://wandb.ai/danish2562022/sweeps-SEIR_kalmar_bleking</a><br/>Synced 5 W&B file(s), 0 media file(s), 0 artifact file(s) and 0 other file(s)"
      ],
      "text/plain": [
       "<IPython.core.display.HTML object>"
      ]
     },
     "metadata": {},
     "output_type": "display_data"
    },
    {
     "data": {
      "text/html": [
       "Find logs at: <code>./wandb/run-20250528_190210-bjbpqepk/logs</code>"
      ],
      "text/plain": [
       "<IPython.core.display.HTML object>"
      ]
     },
     "metadata": {},
     "output_type": "display_data"
    },
    {
     "data": {
      "text/html": [
       "The new W&B backend becomes opt-out in version 0.18.0; try it out with `wandb.require(\"core\")`! See https://wandb.me/wandb-core for more information."
      ],
      "text/plain": [
       "<IPython.core.display.HTML object>"
      ]
     },
     "metadata": {},
     "output_type": "display_data"
    },
    {
     "name": "stderr",
     "output_type": "stream",
     "text": [
      "\u001b[34m\u001b[1mwandb\u001b[0m: Agent Starting Run: vuf5opoq with config:\n",
      "\u001b[34m\u001b[1mwandb\u001b[0m: \tah0: 1.3438189490791177\n",
      "\u001b[34m\u001b[1mwandb\u001b[0m: \tah1: 0.40929436980598755\n",
      "\u001b[34m\u001b[1mwandb\u001b[0m: \tbh0: 5.060456541046579\n",
      "\u001b[34m\u001b[1mwandb\u001b[0m: \tbh1: 3.498935875603757\n",
      "\u001b[34m\u001b[1mwandb\u001b[0m: \tc: 0.8323436206794396\n"
     ]
    },
    {
     "data": {
      "text/html": [
       "wandb version 0.19.11 is available!  To upgrade, please run:\n",
       " $ pip install wandb --upgrade"
      ],
      "text/plain": [
       "<IPython.core.display.HTML object>"
      ]
     },
     "metadata": {},
     "output_type": "display_data"
    },
    {
     "data": {
      "text/html": [
       "Tracking run with wandb version 0.17.4"
      ],
      "text/plain": [
       "<IPython.core.display.HTML object>"
      ]
     },
     "metadata": {},
     "output_type": "display_data"
    },
    {
     "data": {
      "text/html": [
       "Run data is saved locally in <code>/12tb_dsk3/SEIR_model/src/wandb/run-20250528_190220-vuf5opoq</code>"
      ],
      "text/plain": [
       "<IPython.core.display.HTML object>"
      ]
     },
     "metadata": {},
     "output_type": "display_data"
    },
    {
     "data": {
      "text/html": [
       "Syncing run <strong><a href='https://wandb.ai/danish2562022/sweeps-SEIR_kalmar_bleking/runs/vuf5opoq' target=\"_blank\">clean-sweep-92</a></strong> to <a href='https://wandb.ai/danish2562022/sweeps-SEIR_kalmar_bleking' target=\"_blank\">Weights & Biases</a> (<a href='https://wandb.me/run' target=\"_blank\">docs</a>)<br/>Sweep page: <a href='https://wandb.ai/danish2562022/sweeps-SEIR_kalmar_bleking/sweeps/za0efz19' target=\"_blank\">https://wandb.ai/danish2562022/sweeps-SEIR_kalmar_bleking/sweeps/za0efz19</a>"
      ],
      "text/plain": [
       "<IPython.core.display.HTML object>"
      ]
     },
     "metadata": {},
     "output_type": "display_data"
    },
    {
     "data": {
      "text/html": [
       " View project at <a href='https://wandb.ai/danish2562022/sweeps-SEIR_kalmar_bleking' target=\"_blank\">https://wandb.ai/danish2562022/sweeps-SEIR_kalmar_bleking</a>"
      ],
      "text/plain": [
       "<IPython.core.display.HTML object>"
      ]
     },
     "metadata": {},
     "output_type": "display_data"
    },
    {
     "data": {
      "text/html": [
       " View sweep at <a href='https://wandb.ai/danish2562022/sweeps-SEIR_kalmar_bleking/sweeps/za0efz19' target=\"_blank\">https://wandb.ai/danish2562022/sweeps-SEIR_kalmar_bleking/sweeps/za0efz19</a>"
      ],
      "text/plain": [
       "<IPython.core.display.HTML object>"
      ]
     },
     "metadata": {},
     "output_type": "display_data"
    },
    {
     "data": {
      "text/html": [
       " View run at <a href='https://wandb.ai/danish2562022/sweeps-SEIR_kalmar_bleking/runs/vuf5opoq' target=\"_blank\">https://wandb.ai/danish2562022/sweeps-SEIR_kalmar_bleking/runs/vuf5opoq</a>"
      ],
      "text/plain": [
       "<IPython.core.display.HTML object>"
      ]
     },
     "metadata": {},
     "output_type": "display_data"
    },
    {
     "data": {
      "application/vnd.jupyter.widget-view+json": {
       "model_id": "de3e98cd1cbb4f81a6a511fbfbd90838",
       "version_major": 2,
       "version_minor": 0
      },
      "text/plain": [
       "VBox(children=(Label(value='0.021 MB of 0.021 MB uploaded\\r'), FloatProgress(value=1.0, max=1.0)))"
      ]
     },
     "metadata": {},
     "output_type": "display_data"
    },
    {
     "data": {
      "text/html": [
       "<style>\n",
       "    table.wandb td:nth-child(1) { padding: 0 10px; text-align: left ; width: auto;} td:nth-child(2) {text-align: left ; width: 100%}\n",
       "    .wandb-row { display: flex; flex-direction: row; flex-wrap: wrap; justify-content: flex-start; width: 100% }\n",
       "    .wandb-col { display: flex; flex-direction: column; flex-basis: 100%; flex: 1; padding: 10px; }\n",
       "    </style>\n",
       "<div class=\"wandb-row\"><div class=\"wandb-col\"><h3>Run history:</h3><br/><table class=\"wandb\"><tr><td>CV_RMSE</td><td>▁</td></tr><tr><td>CV_RMSE_'Kalmar</td><td>▁</td></tr><tr><td>CV_RMSE_Blekinge</td><td>▁</td></tr><tr><td>RMSE</td><td>▁</td></tr><tr><td>RMSE_Blekinge</td><td>▁</td></tr><tr><td>RMSE_Kalmar</td><td>▁</td></tr></table><br/></div><div class=\"wandb-col\"><h3>Run summary:</h3><br/><table class=\"wandb\"><tr><td>CV_RMSE</td><td>300.46914</td></tr><tr><td>CV_RMSE_'Kalmar</td><td>149.44818</td></tr><tr><td>CV_RMSE_Blekinge</td><td>151.02096</td></tr><tr><td>RMSE</td><td>22.22214</td></tr><tr><td>RMSE_Blekinge</td><td>6.77916</td></tr><tr><td>RMSE_Kalmar</td><td>15.44298</td></tr></table><br/></div></div>"
      ],
      "text/plain": [
       "<IPython.core.display.HTML object>"
      ]
     },
     "metadata": {},
     "output_type": "display_data"
    },
    {
     "data": {
      "text/html": [
       " View run <strong style=\"color:#cdcd00\">clean-sweep-92</strong> at: <a href='https://wandb.ai/danish2562022/sweeps-SEIR_kalmar_bleking/runs/vuf5opoq' target=\"_blank\">https://wandb.ai/danish2562022/sweeps-SEIR_kalmar_bleking/runs/vuf5opoq</a><br/> View project at: <a href='https://wandb.ai/danish2562022/sweeps-SEIR_kalmar_bleking' target=\"_blank\">https://wandb.ai/danish2562022/sweeps-SEIR_kalmar_bleking</a><br/>Synced 5 W&B file(s), 0 media file(s), 0 artifact file(s) and 0 other file(s)"
      ],
      "text/plain": [
       "<IPython.core.display.HTML object>"
      ]
     },
     "metadata": {},
     "output_type": "display_data"
    },
    {
     "data": {
      "text/html": [
       "Find logs at: <code>./wandb/run-20250528_190220-vuf5opoq/logs</code>"
      ],
      "text/plain": [
       "<IPython.core.display.HTML object>"
      ]
     },
     "metadata": {},
     "output_type": "display_data"
    },
    {
     "data": {
      "text/html": [
       "The new W&B backend becomes opt-out in version 0.18.0; try it out with `wandb.require(\"core\")`! See https://wandb.me/wandb-core for more information."
      ],
      "text/plain": [
       "<IPython.core.display.HTML object>"
      ]
     },
     "metadata": {},
     "output_type": "display_data"
    },
    {
     "name": "stderr",
     "output_type": "stream",
     "text": [
      "\u001b[34m\u001b[1mwandb\u001b[0m: Agent Starting Run: y7fsv1oj with config:\n",
      "\u001b[34m\u001b[1mwandb\u001b[0m: \tah0: 1.821030264771473\n",
      "\u001b[34m\u001b[1mwandb\u001b[0m: \tah1: 0.6507333455232053\n",
      "\u001b[34m\u001b[1mwandb\u001b[0m: \tbh0: 4.989268617314248\n",
      "\u001b[34m\u001b[1mwandb\u001b[0m: \tbh1: 0.9863929228182844\n",
      "\u001b[34m\u001b[1mwandb\u001b[0m: \tc: 0.29851917837329456\n"
     ]
    },
    {
     "data": {
      "text/html": [
       "wandb version 0.19.11 is available!  To upgrade, please run:\n",
       " $ pip install wandb --upgrade"
      ],
      "text/plain": [
       "<IPython.core.display.HTML object>"
      ]
     },
     "metadata": {},
     "output_type": "display_data"
    },
    {
     "data": {
      "text/html": [
       "Tracking run with wandb version 0.17.4"
      ],
      "text/plain": [
       "<IPython.core.display.HTML object>"
      ]
     },
     "metadata": {},
     "output_type": "display_data"
    },
    {
     "data": {
      "text/html": [
       "Run data is saved locally in <code>/12tb_dsk3/SEIR_model/src/wandb/run-20250528_190230-y7fsv1oj</code>"
      ],
      "text/plain": [
       "<IPython.core.display.HTML object>"
      ]
     },
     "metadata": {},
     "output_type": "display_data"
    },
    {
     "data": {
      "text/html": [
       "Syncing run <strong><a href='https://wandb.ai/danish2562022/sweeps-SEIR_kalmar_bleking/runs/y7fsv1oj' target=\"_blank\">driven-sweep-93</a></strong> to <a href='https://wandb.ai/danish2562022/sweeps-SEIR_kalmar_bleking' target=\"_blank\">Weights & Biases</a> (<a href='https://wandb.me/run' target=\"_blank\">docs</a>)<br/>Sweep page: <a href='https://wandb.ai/danish2562022/sweeps-SEIR_kalmar_bleking/sweeps/za0efz19' target=\"_blank\">https://wandb.ai/danish2562022/sweeps-SEIR_kalmar_bleking/sweeps/za0efz19</a>"
      ],
      "text/plain": [
       "<IPython.core.display.HTML object>"
      ]
     },
     "metadata": {},
     "output_type": "display_data"
    },
    {
     "data": {
      "text/html": [
       " View project at <a href='https://wandb.ai/danish2562022/sweeps-SEIR_kalmar_bleking' target=\"_blank\">https://wandb.ai/danish2562022/sweeps-SEIR_kalmar_bleking</a>"
      ],
      "text/plain": [
       "<IPython.core.display.HTML object>"
      ]
     },
     "metadata": {},
     "output_type": "display_data"
    },
    {
     "data": {
      "text/html": [
       " View sweep at <a href='https://wandb.ai/danish2562022/sweeps-SEIR_kalmar_bleking/sweeps/za0efz19' target=\"_blank\">https://wandb.ai/danish2562022/sweeps-SEIR_kalmar_bleking/sweeps/za0efz19</a>"
      ],
      "text/plain": [
       "<IPython.core.display.HTML object>"
      ]
     },
     "metadata": {},
     "output_type": "display_data"
    },
    {
     "data": {
      "text/html": [
       " View run at <a href='https://wandb.ai/danish2562022/sweeps-SEIR_kalmar_bleking/runs/y7fsv1oj' target=\"_blank\">https://wandb.ai/danish2562022/sweeps-SEIR_kalmar_bleking/runs/y7fsv1oj</a>"
      ],
      "text/plain": [
       "<IPython.core.display.HTML object>"
      ]
     },
     "metadata": {},
     "output_type": "display_data"
    },
    {
     "data": {
      "application/vnd.jupyter.widget-view+json": {
       "model_id": "c24a8cee87614ec69f5e27314d12644c",
       "version_major": 2,
       "version_minor": 0
      },
      "text/plain": [
       "VBox(children=(Label(value='0.021 MB of 0.021 MB uploaded\\r'), FloatProgress(value=1.0, max=1.0)))"
      ]
     },
     "metadata": {},
     "output_type": "display_data"
    },
    {
     "data": {
      "text/html": [
       "<style>\n",
       "    table.wandb td:nth-child(1) { padding: 0 10px; text-align: left ; width: auto;} td:nth-child(2) {text-align: left ; width: 100%}\n",
       "    .wandb-row { display: flex; flex-direction: row; flex-wrap: wrap; justify-content: flex-start; width: 100% }\n",
       "    .wandb-col { display: flex; flex-direction: column; flex-basis: 100%; flex: 1; padding: 10px; }\n",
       "    </style>\n",
       "<div class=\"wandb-row\"><div class=\"wandb-col\"><h3>Run history:</h3><br/><table class=\"wandb\"><tr><td>CV_RMSE</td><td>▁</td></tr><tr><td>CV_RMSE_'Kalmar</td><td>▁</td></tr><tr><td>CV_RMSE_Blekinge</td><td>▁</td></tr><tr><td>RMSE</td><td>▁</td></tr><tr><td>RMSE_Blekinge</td><td>▁</td></tr><tr><td>RMSE_Kalmar</td><td>▁</td></tr></table><br/></div><div class=\"wandb-col\"><h3>Run summary:</h3><br/><table class=\"wandb\"><tr><td>CV_RMSE</td><td>307.05446</td></tr><tr><td>CV_RMSE_'Kalmar</td><td>163.57672</td></tr><tr><td>CV_RMSE_Blekinge</td><td>143.47774</td></tr><tr><td>RMSE</td><td>23.34348</td></tr><tr><td>RMSE_Blekinge</td><td>6.44056</td></tr><tr><td>RMSE_Kalmar</td><td>16.90293</td></tr></table><br/></div></div>"
      ],
      "text/plain": [
       "<IPython.core.display.HTML object>"
      ]
     },
     "metadata": {},
     "output_type": "display_data"
    },
    {
     "data": {
      "text/html": [
       " View run <strong style=\"color:#cdcd00\">driven-sweep-93</strong> at: <a href='https://wandb.ai/danish2562022/sweeps-SEIR_kalmar_bleking/runs/y7fsv1oj' target=\"_blank\">https://wandb.ai/danish2562022/sweeps-SEIR_kalmar_bleking/runs/y7fsv1oj</a><br/> View project at: <a href='https://wandb.ai/danish2562022/sweeps-SEIR_kalmar_bleking' target=\"_blank\">https://wandb.ai/danish2562022/sweeps-SEIR_kalmar_bleking</a><br/>Synced 5 W&B file(s), 0 media file(s), 0 artifact file(s) and 0 other file(s)"
      ],
      "text/plain": [
       "<IPython.core.display.HTML object>"
      ]
     },
     "metadata": {},
     "output_type": "display_data"
    },
    {
     "data": {
      "text/html": [
       "Find logs at: <code>./wandb/run-20250528_190230-y7fsv1oj/logs</code>"
      ],
      "text/plain": [
       "<IPython.core.display.HTML object>"
      ]
     },
     "metadata": {},
     "output_type": "display_data"
    },
    {
     "data": {
      "text/html": [
       "The new W&B backend becomes opt-out in version 0.18.0; try it out with `wandb.require(\"core\")`! See https://wandb.me/wandb-core for more information."
      ],
      "text/plain": [
       "<IPython.core.display.HTML object>"
      ]
     },
     "metadata": {},
     "output_type": "display_data"
    },
    {
     "name": "stderr",
     "output_type": "stream",
     "text": [
      "\u001b[34m\u001b[1mwandb\u001b[0m: Sweep Agent: Waiting for job.\n",
      "\u001b[34m\u001b[1mwandb\u001b[0m: Job received.\n",
      "\u001b[34m\u001b[1mwandb\u001b[0m: Agent Starting Run: zopprhwe with config:\n",
      "\u001b[34m\u001b[1mwandb\u001b[0m: \tah0: 0.5494784184239615\n",
      "\u001b[34m\u001b[1mwandb\u001b[0m: \tah1: 2.273159332399985\n",
      "\u001b[34m\u001b[1mwandb\u001b[0m: \tbh0: 4.180612132106125\n",
      "\u001b[34m\u001b[1mwandb\u001b[0m: \tbh1: 0.01510723850090101\n",
      "\u001b[34m\u001b[1mwandb\u001b[0m: \tc: 0.4389260277899344\n"
     ]
    },
    {
     "data": {
      "text/html": [
       "wandb version 0.19.11 is available!  To upgrade, please run:\n",
       " $ pip install wandb --upgrade"
      ],
      "text/plain": [
       "<IPython.core.display.HTML object>"
      ]
     },
     "metadata": {},
     "output_type": "display_data"
    },
    {
     "data": {
      "text/html": [
       "Tracking run with wandb version 0.17.4"
      ],
      "text/plain": [
       "<IPython.core.display.HTML object>"
      ]
     },
     "metadata": {},
     "output_type": "display_data"
    },
    {
     "data": {
      "text/html": [
       "Run data is saved locally in <code>/12tb_dsk3/SEIR_model/src/wandb/run-20250528_190247-zopprhwe</code>"
      ],
      "text/plain": [
       "<IPython.core.display.HTML object>"
      ]
     },
     "metadata": {},
     "output_type": "display_data"
    },
    {
     "data": {
      "text/html": [
       "Syncing run <strong><a href='https://wandb.ai/danish2562022/sweeps-SEIR_kalmar_bleking/runs/zopprhwe' target=\"_blank\">faithful-sweep-94</a></strong> to <a href='https://wandb.ai/danish2562022/sweeps-SEIR_kalmar_bleking' target=\"_blank\">Weights & Biases</a> (<a href='https://wandb.me/run' target=\"_blank\">docs</a>)<br/>Sweep page: <a href='https://wandb.ai/danish2562022/sweeps-SEIR_kalmar_bleking/sweeps/za0efz19' target=\"_blank\">https://wandb.ai/danish2562022/sweeps-SEIR_kalmar_bleking/sweeps/za0efz19</a>"
      ],
      "text/plain": [
       "<IPython.core.display.HTML object>"
      ]
     },
     "metadata": {},
     "output_type": "display_data"
    },
    {
     "data": {
      "text/html": [
       " View project at <a href='https://wandb.ai/danish2562022/sweeps-SEIR_kalmar_bleking' target=\"_blank\">https://wandb.ai/danish2562022/sweeps-SEIR_kalmar_bleking</a>"
      ],
      "text/plain": [
       "<IPython.core.display.HTML object>"
      ]
     },
     "metadata": {},
     "output_type": "display_data"
    },
    {
     "data": {
      "text/html": [
       " View sweep at <a href='https://wandb.ai/danish2562022/sweeps-SEIR_kalmar_bleking/sweeps/za0efz19' target=\"_blank\">https://wandb.ai/danish2562022/sweeps-SEIR_kalmar_bleking/sweeps/za0efz19</a>"
      ],
      "text/plain": [
       "<IPython.core.display.HTML object>"
      ]
     },
     "metadata": {},
     "output_type": "display_data"
    },
    {
     "data": {
      "text/html": [
       " View run at <a href='https://wandb.ai/danish2562022/sweeps-SEIR_kalmar_bleking/runs/zopprhwe' target=\"_blank\">https://wandb.ai/danish2562022/sweeps-SEIR_kalmar_bleking/runs/zopprhwe</a>"
      ],
      "text/plain": [
       "<IPython.core.display.HTML object>"
      ]
     },
     "metadata": {},
     "output_type": "display_data"
    },
    {
     "data": {
      "application/vnd.jupyter.widget-view+json": {
       "model_id": "b94e416280cc4c68871b357638475aaf",
       "version_major": 2,
       "version_minor": 0
      },
      "text/plain": [
       "VBox(children=(Label(value='0.021 MB of 0.021 MB uploaded\\r'), FloatProgress(value=1.0, max=1.0)))"
      ]
     },
     "metadata": {},
     "output_type": "display_data"
    },
    {
     "data": {
      "text/html": [
       "<style>\n",
       "    table.wandb td:nth-child(1) { padding: 0 10px; text-align: left ; width: auto;} td:nth-child(2) {text-align: left ; width: 100%}\n",
       "    .wandb-row { display: flex; flex-direction: row; flex-wrap: wrap; justify-content: flex-start; width: 100% }\n",
       "    .wandb-col { display: flex; flex-direction: column; flex-basis: 100%; flex: 1; padding: 10px; }\n",
       "    </style>\n",
       "<div class=\"wandb-row\"><div class=\"wandb-col\"><h3>Run history:</h3><br/><table class=\"wandb\"><tr><td>CV_RMSE</td><td>▁</td></tr><tr><td>CV_RMSE_'Kalmar</td><td>▁</td></tr><tr><td>CV_RMSE_Blekinge</td><td>▁</td></tr><tr><td>RMSE</td><td>▁</td></tr><tr><td>RMSE_Blekinge</td><td>▁</td></tr><tr><td>RMSE_Kalmar</td><td>▁</td></tr></table><br/></div><div class=\"wandb-col\"><h3>Run summary:</h3><br/><table class=\"wandb\"><tr><td>CV_RMSE</td><td>2337.76157</td></tr><tr><td>CV_RMSE_'Kalmar</td><td>726.12292</td></tr><tr><td>CV_RMSE_Blekinge</td><td>1611.63865</td></tr><tr><td>RMSE</td><td>147.37737</td></tr><tr><td>RMSE_Blekinge</td><td>72.34467</td></tr><tr><td>RMSE_Kalmar</td><td>75.0327</td></tr></table><br/></div></div>"
      ],
      "text/plain": [
       "<IPython.core.display.HTML object>"
      ]
     },
     "metadata": {},
     "output_type": "display_data"
    },
    {
     "data": {
      "text/html": [
       " View run <strong style=\"color:#cdcd00\">faithful-sweep-94</strong> at: <a href='https://wandb.ai/danish2562022/sweeps-SEIR_kalmar_bleking/runs/zopprhwe' target=\"_blank\">https://wandb.ai/danish2562022/sweeps-SEIR_kalmar_bleking/runs/zopprhwe</a><br/> View project at: <a href='https://wandb.ai/danish2562022/sweeps-SEIR_kalmar_bleking' target=\"_blank\">https://wandb.ai/danish2562022/sweeps-SEIR_kalmar_bleking</a><br/>Synced 5 W&B file(s), 0 media file(s), 0 artifact file(s) and 0 other file(s)"
      ],
      "text/plain": [
       "<IPython.core.display.HTML object>"
      ]
     },
     "metadata": {},
     "output_type": "display_data"
    },
    {
     "data": {
      "text/html": [
       "Find logs at: <code>./wandb/run-20250528_190247-zopprhwe/logs</code>"
      ],
      "text/plain": [
       "<IPython.core.display.HTML object>"
      ]
     },
     "metadata": {},
     "output_type": "display_data"
    },
    {
     "data": {
      "text/html": [
       "The new W&B backend becomes opt-out in version 0.18.0; try it out with `wandb.require(\"core\")`! See https://wandb.me/wandb-core for more information."
      ],
      "text/plain": [
       "<IPython.core.display.HTML object>"
      ]
     },
     "metadata": {},
     "output_type": "display_data"
    },
    {
     "name": "stderr",
     "output_type": "stream",
     "text": [
      "\u001b[34m\u001b[1mwandb\u001b[0m: Agent Starting Run: qm2f5rsh with config:\n",
      "\u001b[34m\u001b[1mwandb\u001b[0m: \tah0: 1.520038328142046\n",
      "\u001b[34m\u001b[1mwandb\u001b[0m: \tah1: 1.557002658118091\n",
      "\u001b[34m\u001b[1mwandb\u001b[0m: \tbh0: 1.7180232174003651\n",
      "\u001b[34m\u001b[1mwandb\u001b[0m: \tbh1: 9.687580684142732\n",
      "\u001b[34m\u001b[1mwandb\u001b[0m: \tc: 0.6147124947313912\n"
     ]
    },
    {
     "data": {
      "text/html": [
       "wandb version 0.19.11 is available!  To upgrade, please run:\n",
       " $ pip install wandb --upgrade"
      ],
      "text/plain": [
       "<IPython.core.display.HTML object>"
      ]
     },
     "metadata": {},
     "output_type": "display_data"
    },
    {
     "data": {
      "text/html": [
       "Tracking run with wandb version 0.17.4"
      ],
      "text/plain": [
       "<IPython.core.display.HTML object>"
      ]
     },
     "metadata": {},
     "output_type": "display_data"
    },
    {
     "data": {
      "text/html": [
       "Run data is saved locally in <code>/12tb_dsk3/SEIR_model/src/wandb/run-20250528_190257-qm2f5rsh</code>"
      ],
      "text/plain": [
       "<IPython.core.display.HTML object>"
      ]
     },
     "metadata": {},
     "output_type": "display_data"
    },
    {
     "data": {
      "text/html": [
       "Syncing run <strong><a href='https://wandb.ai/danish2562022/sweeps-SEIR_kalmar_bleking/runs/qm2f5rsh' target=\"_blank\">super-sweep-95</a></strong> to <a href='https://wandb.ai/danish2562022/sweeps-SEIR_kalmar_bleking' target=\"_blank\">Weights & Biases</a> (<a href='https://wandb.me/run' target=\"_blank\">docs</a>)<br/>Sweep page: <a href='https://wandb.ai/danish2562022/sweeps-SEIR_kalmar_bleking/sweeps/za0efz19' target=\"_blank\">https://wandb.ai/danish2562022/sweeps-SEIR_kalmar_bleking/sweeps/za0efz19</a>"
      ],
      "text/plain": [
       "<IPython.core.display.HTML object>"
      ]
     },
     "metadata": {},
     "output_type": "display_data"
    },
    {
     "data": {
      "text/html": [
       " View project at <a href='https://wandb.ai/danish2562022/sweeps-SEIR_kalmar_bleking' target=\"_blank\">https://wandb.ai/danish2562022/sweeps-SEIR_kalmar_bleking</a>"
      ],
      "text/plain": [
       "<IPython.core.display.HTML object>"
      ]
     },
     "metadata": {},
     "output_type": "display_data"
    },
    {
     "data": {
      "text/html": [
       " View sweep at <a href='https://wandb.ai/danish2562022/sweeps-SEIR_kalmar_bleking/sweeps/za0efz19' target=\"_blank\">https://wandb.ai/danish2562022/sweeps-SEIR_kalmar_bleking/sweeps/za0efz19</a>"
      ],
      "text/plain": [
       "<IPython.core.display.HTML object>"
      ]
     },
     "metadata": {},
     "output_type": "display_data"
    },
    {
     "data": {
      "text/html": [
       " View run at <a href='https://wandb.ai/danish2562022/sweeps-SEIR_kalmar_bleking/runs/qm2f5rsh' target=\"_blank\">https://wandb.ai/danish2562022/sweeps-SEIR_kalmar_bleking/runs/qm2f5rsh</a>"
      ],
      "text/plain": [
       "<IPython.core.display.HTML object>"
      ]
     },
     "metadata": {},
     "output_type": "display_data"
    },
    {
     "data": {
      "application/vnd.jupyter.widget-view+json": {
       "model_id": "a30907ad1938412aaa8a67b1e808b535",
       "version_major": 2,
       "version_minor": 0
      },
      "text/plain": [
       "VBox(children=(Label(value='0.009 MB of 0.021 MB uploaded\\r'), FloatProgress(value=0.4376815541031227, max=1.0…"
      ]
     },
     "metadata": {},
     "output_type": "display_data"
    },
    {
     "data": {
      "text/html": [
       "<style>\n",
       "    table.wandb td:nth-child(1) { padding: 0 10px; text-align: left ; width: auto;} td:nth-child(2) {text-align: left ; width: 100%}\n",
       "    .wandb-row { display: flex; flex-direction: row; flex-wrap: wrap; justify-content: flex-start; width: 100% }\n",
       "    .wandb-col { display: flex; flex-direction: column; flex-basis: 100%; flex: 1; padding: 10px; }\n",
       "    </style>\n",
       "<div class=\"wandb-row\"><div class=\"wandb-col\"><h3>Run history:</h3><br/><table class=\"wandb\"><tr><td>CV_RMSE</td><td>▁</td></tr><tr><td>CV_RMSE_'Kalmar</td><td>▁</td></tr><tr><td>CV_RMSE_Blekinge</td><td>▁</td></tr><tr><td>RMSE</td><td>▁</td></tr><tr><td>RMSE_Blekinge</td><td>▁</td></tr><tr><td>RMSE_Kalmar</td><td>▁</td></tr></table><br/></div><div class=\"wandb-col\"><h3>Run summary:</h3><br/><table class=\"wandb\"><tr><td>CV_RMSE</td><td>4520.7215</td></tr><tr><td>CV_RMSE_'Kalmar</td><td>1406.52267</td></tr><tr><td>CV_RMSE_Blekinge</td><td>3114.19883</td></tr><tr><td>RMSE</td><td>285.1336</td></tr><tr><td>RMSE_Blekinge</td><td>139.79293</td></tr><tr><td>RMSE_Kalmar</td><td>145.34068</td></tr></table><br/></div></div>"
      ],
      "text/plain": [
       "<IPython.core.display.HTML object>"
      ]
     },
     "metadata": {},
     "output_type": "display_data"
    },
    {
     "data": {
      "text/html": [
       " View run <strong style=\"color:#cdcd00\">super-sweep-95</strong> at: <a href='https://wandb.ai/danish2562022/sweeps-SEIR_kalmar_bleking/runs/qm2f5rsh' target=\"_blank\">https://wandb.ai/danish2562022/sweeps-SEIR_kalmar_bleking/runs/qm2f5rsh</a><br/> View project at: <a href='https://wandb.ai/danish2562022/sweeps-SEIR_kalmar_bleking' target=\"_blank\">https://wandb.ai/danish2562022/sweeps-SEIR_kalmar_bleking</a><br/>Synced 5 W&B file(s), 0 media file(s), 0 artifact file(s) and 0 other file(s)"
      ],
      "text/plain": [
       "<IPython.core.display.HTML object>"
      ]
     },
     "metadata": {},
     "output_type": "display_data"
    },
    {
     "data": {
      "text/html": [
       "Find logs at: <code>./wandb/run-20250528_190257-qm2f5rsh/logs</code>"
      ],
      "text/plain": [
       "<IPython.core.display.HTML object>"
      ]
     },
     "metadata": {},
     "output_type": "display_data"
    },
    {
     "data": {
      "text/html": [
       "The new W&B backend becomes opt-out in version 0.18.0; try it out with `wandb.require(\"core\")`! See https://wandb.me/wandb-core for more information."
      ],
      "text/plain": [
       "<IPython.core.display.HTML object>"
      ]
     },
     "metadata": {},
     "output_type": "display_data"
    },
    {
     "name": "stderr",
     "output_type": "stream",
     "text": [
      "\u001b[34m\u001b[1mwandb\u001b[0m: Agent Starting Run: 7oruiiow with config:\n",
      "\u001b[34m\u001b[1mwandb\u001b[0m: \tah0: 0.04684020218194595\n",
      "\u001b[34m\u001b[1mwandb\u001b[0m: \tah1: 0.44648201248612773\n",
      "\u001b[34m\u001b[1mwandb\u001b[0m: \tbh0: 0.6478070038927075\n",
      "\u001b[34m\u001b[1mwandb\u001b[0m: \tbh1: 7.487034891893188\n",
      "\u001b[34m\u001b[1mwandb\u001b[0m: \tc: 0.562528340986026\n"
     ]
    },
    {
     "data": {
      "application/vnd.jupyter.widget-view+json": {
       "model_id": "1aec5cf216c543299f5ce4f3aa187058",
       "version_major": 2,
       "version_minor": 0
      },
      "text/plain": [
       "VBox(children=(Label(value='Waiting for wandb.init()...\\r'), FloatProgress(value=0.011117120169930987, max=1.0…"
      ]
     },
     "metadata": {},
     "output_type": "display_data"
    },
    {
     "data": {
      "text/html": [
       "wandb version 0.19.11 is available!  To upgrade, please run:\n",
       " $ pip install wandb --upgrade"
      ],
      "text/plain": [
       "<IPython.core.display.HTML object>"
      ]
     },
     "metadata": {},
     "output_type": "display_data"
    },
    {
     "data": {
      "text/html": [
       "Tracking run with wandb version 0.17.4"
      ],
      "text/plain": [
       "<IPython.core.display.HTML object>"
      ]
     },
     "metadata": {},
     "output_type": "display_data"
    },
    {
     "data": {
      "text/html": [
       "Run data is saved locally in <code>/12tb_dsk3/SEIR_model/src/wandb/run-20250528_190307-7oruiiow</code>"
      ],
      "text/plain": [
       "<IPython.core.display.HTML object>"
      ]
     },
     "metadata": {},
     "output_type": "display_data"
    },
    {
     "data": {
      "text/html": [
       "Syncing run <strong><a href='https://wandb.ai/danish2562022/sweeps-SEIR_kalmar_bleking/runs/7oruiiow' target=\"_blank\">sleek-sweep-96</a></strong> to <a href='https://wandb.ai/danish2562022/sweeps-SEIR_kalmar_bleking' target=\"_blank\">Weights & Biases</a> (<a href='https://wandb.me/run' target=\"_blank\">docs</a>)<br/>Sweep page: <a href='https://wandb.ai/danish2562022/sweeps-SEIR_kalmar_bleking/sweeps/za0efz19' target=\"_blank\">https://wandb.ai/danish2562022/sweeps-SEIR_kalmar_bleking/sweeps/za0efz19</a>"
      ],
      "text/plain": [
       "<IPython.core.display.HTML object>"
      ]
     },
     "metadata": {},
     "output_type": "display_data"
    },
    {
     "data": {
      "text/html": [
       " View project at <a href='https://wandb.ai/danish2562022/sweeps-SEIR_kalmar_bleking' target=\"_blank\">https://wandb.ai/danish2562022/sweeps-SEIR_kalmar_bleking</a>"
      ],
      "text/plain": [
       "<IPython.core.display.HTML object>"
      ]
     },
     "metadata": {},
     "output_type": "display_data"
    },
    {
     "data": {
      "text/html": [
       " View sweep at <a href='https://wandb.ai/danish2562022/sweeps-SEIR_kalmar_bleking/sweeps/za0efz19' target=\"_blank\">https://wandb.ai/danish2562022/sweeps-SEIR_kalmar_bleking/sweeps/za0efz19</a>"
      ],
      "text/plain": [
       "<IPython.core.display.HTML object>"
      ]
     },
     "metadata": {},
     "output_type": "display_data"
    },
    {
     "data": {
      "text/html": [
       " View run at <a href='https://wandb.ai/danish2562022/sweeps-SEIR_kalmar_bleking/runs/7oruiiow' target=\"_blank\">https://wandb.ai/danish2562022/sweeps-SEIR_kalmar_bleking/runs/7oruiiow</a>"
      ],
      "text/plain": [
       "<IPython.core.display.HTML object>"
      ]
     },
     "metadata": {},
     "output_type": "display_data"
    },
    {
     "data": {
      "application/vnd.jupyter.widget-view+json": {
       "model_id": "633715aac3a749338ae9dcca3e0b916e",
       "version_major": 2,
       "version_minor": 0
      },
      "text/plain": [
       "VBox(children=(Label(value='0.017 MB of 0.021 MB uploaded\\r'), FloatProgress(value=0.7914605925858705, max=1.0…"
      ]
     },
     "metadata": {},
     "output_type": "display_data"
    },
    {
     "data": {
      "text/html": [
       "<style>\n",
       "    table.wandb td:nth-child(1) { padding: 0 10px; text-align: left ; width: auto;} td:nth-child(2) {text-align: left ; width: 100%}\n",
       "    .wandb-row { display: flex; flex-direction: row; flex-wrap: wrap; justify-content: flex-start; width: 100% }\n",
       "    .wandb-col { display: flex; flex-direction: column; flex-basis: 100%; flex: 1; padding: 10px; }\n",
       "    </style>\n",
       "<div class=\"wandb-row\"><div class=\"wandb-col\"><h3>Run history:</h3><br/><table class=\"wandb\"><tr><td>CV_RMSE</td><td>▁</td></tr><tr><td>CV_RMSE_'Kalmar</td><td>▁</td></tr><tr><td>CV_RMSE_Blekinge</td><td>▁</td></tr><tr><td>RMSE</td><td>▁</td></tr><tr><td>RMSE_Blekinge</td><td>▁</td></tr><tr><td>RMSE_Kalmar</td><td>▁</td></tr></table><br/></div><div class=\"wandb-col\"><h3>Run summary:</h3><br/><table class=\"wandb\"><tr><td>CV_RMSE</td><td>306.9242</td></tr><tr><td>CV_RMSE_'Kalmar</td><td>145.00847</td></tr><tr><td>CV_RMSE_Blekinge</td><td>161.91573</td></tr><tr><td>RMSE</td><td>22.25243</td></tr><tr><td>RMSE_Blekinge</td><td>7.26822</td></tr><tr><td>RMSE_Kalmar</td><td>14.98421</td></tr></table><br/></div></div>"
      ],
      "text/plain": [
       "<IPython.core.display.HTML object>"
      ]
     },
     "metadata": {},
     "output_type": "display_data"
    },
    {
     "data": {
      "text/html": [
       " View run <strong style=\"color:#cdcd00\">sleek-sweep-96</strong> at: <a href='https://wandb.ai/danish2562022/sweeps-SEIR_kalmar_bleking/runs/7oruiiow' target=\"_blank\">https://wandb.ai/danish2562022/sweeps-SEIR_kalmar_bleking/runs/7oruiiow</a><br/> View project at: <a href='https://wandb.ai/danish2562022/sweeps-SEIR_kalmar_bleking' target=\"_blank\">https://wandb.ai/danish2562022/sweeps-SEIR_kalmar_bleking</a><br/>Synced 5 W&B file(s), 0 media file(s), 0 artifact file(s) and 0 other file(s)"
      ],
      "text/plain": [
       "<IPython.core.display.HTML object>"
      ]
     },
     "metadata": {},
     "output_type": "display_data"
    },
    {
     "data": {
      "text/html": [
       "Find logs at: <code>./wandb/run-20250528_190307-7oruiiow/logs</code>"
      ],
      "text/plain": [
       "<IPython.core.display.HTML object>"
      ]
     },
     "metadata": {},
     "output_type": "display_data"
    },
    {
     "data": {
      "text/html": [
       "The new W&B backend becomes opt-out in version 0.18.0; try it out with `wandb.require(\"core\")`! See https://wandb.me/wandb-core for more information."
      ],
      "text/plain": [
       "<IPython.core.display.HTML object>"
      ]
     },
     "metadata": {},
     "output_type": "display_data"
    },
    {
     "name": "stderr",
     "output_type": "stream",
     "text": [
      "\u001b[34m\u001b[1mwandb\u001b[0m: Agent Starting Run: ktmu2qxl with config:\n",
      "\u001b[34m\u001b[1mwandb\u001b[0m: \tah0: 0.8343313439196731\n",
      "\u001b[34m\u001b[1mwandb\u001b[0m: \tah1: 1.7079564610380444\n",
      "\u001b[34m\u001b[1mwandb\u001b[0m: \tbh0: 6.648864246533378\n",
      "\u001b[34m\u001b[1mwandb\u001b[0m: \tbh1: 1.3468711071063644\n",
      "\u001b[34m\u001b[1mwandb\u001b[0m: \tc: 0.32905918333479434\n"
     ]
    },
    {
     "data": {
      "text/html": [
       "wandb version 0.19.11 is available!  To upgrade, please run:\n",
       " $ pip install wandb --upgrade"
      ],
      "text/plain": [
       "<IPython.core.display.HTML object>"
      ]
     },
     "metadata": {},
     "output_type": "display_data"
    },
    {
     "data": {
      "text/html": [
       "Tracking run with wandb version 0.17.4"
      ],
      "text/plain": [
       "<IPython.core.display.HTML object>"
      ]
     },
     "metadata": {},
     "output_type": "display_data"
    },
    {
     "data": {
      "text/html": [
       "Run data is saved locally in <code>/12tb_dsk3/SEIR_model/src/wandb/run-20250528_190349-ktmu2qxl</code>"
      ],
      "text/plain": [
       "<IPython.core.display.HTML object>"
      ]
     },
     "metadata": {},
     "output_type": "display_data"
    },
    {
     "data": {
      "text/html": [
       "Syncing run <strong><a href='https://wandb.ai/danish2562022/sweeps-SEIR_kalmar_bleking/runs/ktmu2qxl' target=\"_blank\">dandy-sweep-97</a></strong> to <a href='https://wandb.ai/danish2562022/sweeps-SEIR_kalmar_bleking' target=\"_blank\">Weights & Biases</a> (<a href='https://wandb.me/run' target=\"_blank\">docs</a>)<br/>Sweep page: <a href='https://wandb.ai/danish2562022/sweeps-SEIR_kalmar_bleking/sweeps/za0efz19' target=\"_blank\">https://wandb.ai/danish2562022/sweeps-SEIR_kalmar_bleking/sweeps/za0efz19</a>"
      ],
      "text/plain": [
       "<IPython.core.display.HTML object>"
      ]
     },
     "metadata": {},
     "output_type": "display_data"
    },
    {
     "data": {
      "text/html": [
       " View project at <a href='https://wandb.ai/danish2562022/sweeps-SEIR_kalmar_bleking' target=\"_blank\">https://wandb.ai/danish2562022/sweeps-SEIR_kalmar_bleking</a>"
      ],
      "text/plain": [
       "<IPython.core.display.HTML object>"
      ]
     },
     "metadata": {},
     "output_type": "display_data"
    },
    {
     "data": {
      "text/html": [
       " View sweep at <a href='https://wandb.ai/danish2562022/sweeps-SEIR_kalmar_bleking/sweeps/za0efz19' target=\"_blank\">https://wandb.ai/danish2562022/sweeps-SEIR_kalmar_bleking/sweeps/za0efz19</a>"
      ],
      "text/plain": [
       "<IPython.core.display.HTML object>"
      ]
     },
     "metadata": {},
     "output_type": "display_data"
    },
    {
     "data": {
      "text/html": [
       " View run at <a href='https://wandb.ai/danish2562022/sweeps-SEIR_kalmar_bleking/runs/ktmu2qxl' target=\"_blank\">https://wandb.ai/danish2562022/sweeps-SEIR_kalmar_bleking/runs/ktmu2qxl</a>"
      ],
      "text/plain": [
       "<IPython.core.display.HTML object>"
      ]
     },
     "metadata": {},
     "output_type": "display_data"
    },
    {
     "data": {
      "application/vnd.jupyter.widget-view+json": {
       "model_id": "597552c06a434872bf02187d9f286e53",
       "version_major": 2,
       "version_minor": 0
      },
      "text/plain": [
       "VBox(children=(Label(value='0.021 MB of 0.021 MB uploaded\\r'), FloatProgress(value=1.0, max=1.0)))"
      ]
     },
     "metadata": {},
     "output_type": "display_data"
    },
    {
     "data": {
      "text/html": [
       "<style>\n",
       "    table.wandb td:nth-child(1) { padding: 0 10px; text-align: left ; width: auto;} td:nth-child(2) {text-align: left ; width: 100%}\n",
       "    .wandb-row { display: flex; flex-direction: row; flex-wrap: wrap; justify-content: flex-start; width: 100% }\n",
       "    .wandb-col { display: flex; flex-direction: column; flex-basis: 100%; flex: 1; padding: 10px; }\n",
       "    </style>\n",
       "<div class=\"wandb-row\"><div class=\"wandb-col\"><h3>Run history:</h3><br/><table class=\"wandb\"><tr><td>CV_RMSE</td><td>▁</td></tr><tr><td>CV_RMSE_'Kalmar</td><td>▁</td></tr><tr><td>CV_RMSE_Blekinge</td><td>▁</td></tr><tr><td>RMSE</td><td>▁</td></tr><tr><td>RMSE_Blekinge</td><td>▁</td></tr><tr><td>RMSE_Kalmar</td><td>▁</td></tr></table><br/></div><div class=\"wandb-col\"><h3>Run summary:</h3><br/><table class=\"wandb\"><tr><td>CV_RMSE</td><td>652.59933</td></tr><tr><td>CV_RMSE_'Kalmar</td><td>171.96692</td></tr><tr><td>CV_RMSE_Blekinge</td><td>480.6324</td></tr><tr><td>RMSE</td><td>39.34497</td></tr><tr><td>RMSE_Blekinge</td><td>21.57505</td></tr><tr><td>RMSE_Kalmar</td><td>17.76992</td></tr></table><br/></div></div>"
      ],
      "text/plain": [
       "<IPython.core.display.HTML object>"
      ]
     },
     "metadata": {},
     "output_type": "display_data"
    },
    {
     "data": {
      "text/html": [
       " View run <strong style=\"color:#cdcd00\">dandy-sweep-97</strong> at: <a href='https://wandb.ai/danish2562022/sweeps-SEIR_kalmar_bleking/runs/ktmu2qxl' target=\"_blank\">https://wandb.ai/danish2562022/sweeps-SEIR_kalmar_bleking/runs/ktmu2qxl</a><br/> View project at: <a href='https://wandb.ai/danish2562022/sweeps-SEIR_kalmar_bleking' target=\"_blank\">https://wandb.ai/danish2562022/sweeps-SEIR_kalmar_bleking</a><br/>Synced 5 W&B file(s), 0 media file(s), 0 artifact file(s) and 0 other file(s)"
      ],
      "text/plain": [
       "<IPython.core.display.HTML object>"
      ]
     },
     "metadata": {},
     "output_type": "display_data"
    },
    {
     "data": {
      "text/html": [
       "Find logs at: <code>./wandb/run-20250528_190349-ktmu2qxl/logs</code>"
      ],
      "text/plain": [
       "<IPython.core.display.HTML object>"
      ]
     },
     "metadata": {},
     "output_type": "display_data"
    },
    {
     "data": {
      "text/html": [
       "The new W&B backend becomes opt-out in version 0.18.0; try it out with `wandb.require(\"core\")`! See https://wandb.me/wandb-core for more information."
      ],
      "text/plain": [
       "<IPython.core.display.HTML object>"
      ]
     },
     "metadata": {},
     "output_type": "display_data"
    },
    {
     "name": "stderr",
     "output_type": "stream",
     "text": [
      "\u001b[34m\u001b[1mwandb\u001b[0m: Agent Starting Run: f8tatprn with config:\n",
      "\u001b[34m\u001b[1mwandb\u001b[0m: \tah0: 0.35271059240547953\n",
      "\u001b[34m\u001b[1mwandb\u001b[0m: \tah1: 0.4476206017067193\n",
      "\u001b[34m\u001b[1mwandb\u001b[0m: \tbh0: 5.155088030390176\n",
      "\u001b[34m\u001b[1mwandb\u001b[0m: \tbh1: 8.927291269534642\n",
      "\u001b[34m\u001b[1mwandb\u001b[0m: \tc: 0.9327486160241502\n"
     ]
    },
    {
     "data": {
      "text/html": [
       "wandb version 0.19.11 is available!  To upgrade, please run:\n",
       " $ pip install wandb --upgrade"
      ],
      "text/plain": [
       "<IPython.core.display.HTML object>"
      ]
     },
     "metadata": {},
     "output_type": "display_data"
    },
    {
     "data": {
      "text/html": [
       "Tracking run with wandb version 0.17.4"
      ],
      "text/plain": [
       "<IPython.core.display.HTML object>"
      ]
     },
     "metadata": {},
     "output_type": "display_data"
    },
    {
     "data": {
      "text/html": [
       "Run data is saved locally in <code>/12tb_dsk3/SEIR_model/src/wandb/run-20250528_190359-f8tatprn</code>"
      ],
      "text/plain": [
       "<IPython.core.display.HTML object>"
      ]
     },
     "metadata": {},
     "output_type": "display_data"
    },
    {
     "data": {
      "text/html": [
       "Syncing run <strong><a href='https://wandb.ai/danish2562022/sweeps-SEIR_kalmar_bleking/runs/f8tatprn' target=\"_blank\">fanciful-sweep-98</a></strong> to <a href='https://wandb.ai/danish2562022/sweeps-SEIR_kalmar_bleking' target=\"_blank\">Weights & Biases</a> (<a href='https://wandb.me/run' target=\"_blank\">docs</a>)<br/>Sweep page: <a href='https://wandb.ai/danish2562022/sweeps-SEIR_kalmar_bleking/sweeps/za0efz19' target=\"_blank\">https://wandb.ai/danish2562022/sweeps-SEIR_kalmar_bleking/sweeps/za0efz19</a>"
      ],
      "text/plain": [
       "<IPython.core.display.HTML object>"
      ]
     },
     "metadata": {},
     "output_type": "display_data"
    },
    {
     "data": {
      "text/html": [
       " View project at <a href='https://wandb.ai/danish2562022/sweeps-SEIR_kalmar_bleking' target=\"_blank\">https://wandb.ai/danish2562022/sweeps-SEIR_kalmar_bleking</a>"
      ],
      "text/plain": [
       "<IPython.core.display.HTML object>"
      ]
     },
     "metadata": {},
     "output_type": "display_data"
    },
    {
     "data": {
      "text/html": [
       " View sweep at <a href='https://wandb.ai/danish2562022/sweeps-SEIR_kalmar_bleking/sweeps/za0efz19' target=\"_blank\">https://wandb.ai/danish2562022/sweeps-SEIR_kalmar_bleking/sweeps/za0efz19</a>"
      ],
      "text/plain": [
       "<IPython.core.display.HTML object>"
      ]
     },
     "metadata": {},
     "output_type": "display_data"
    },
    {
     "data": {
      "text/html": [
       " View run at <a href='https://wandb.ai/danish2562022/sweeps-SEIR_kalmar_bleking/runs/f8tatprn' target=\"_blank\">https://wandb.ai/danish2562022/sweeps-SEIR_kalmar_bleking/runs/f8tatprn</a>"
      ],
      "text/plain": [
       "<IPython.core.display.HTML object>"
      ]
     },
     "metadata": {},
     "output_type": "display_data"
    },
    {
     "data": {
      "application/vnd.jupyter.widget-view+json": {
       "model_id": "f2322d7a9fbf4912aa95a50699389dab",
       "version_major": 2,
       "version_minor": 0
      },
      "text/plain": [
       "VBox(children=(Label(value='0.021 MB of 0.021 MB uploaded\\r'), FloatProgress(value=1.0, max=1.0)))"
      ]
     },
     "metadata": {},
     "output_type": "display_data"
    },
    {
     "data": {
      "text/html": [
       "<style>\n",
       "    table.wandb td:nth-child(1) { padding: 0 10px; text-align: left ; width: auto;} td:nth-child(2) {text-align: left ; width: 100%}\n",
       "    .wandb-row { display: flex; flex-direction: row; flex-wrap: wrap; justify-content: flex-start; width: 100% }\n",
       "    .wandb-col { display: flex; flex-direction: column; flex-basis: 100%; flex: 1; padding: 10px; }\n",
       "    </style>\n",
       "<div class=\"wandb-row\"><div class=\"wandb-col\"><h3>Run history:</h3><br/><table class=\"wandb\"><tr><td>CV_RMSE</td><td>▁</td></tr><tr><td>CV_RMSE_'Kalmar</td><td>▁</td></tr><tr><td>CV_RMSE_Blekinge</td><td>▁</td></tr><tr><td>RMSE</td><td>▁</td></tr><tr><td>RMSE_Blekinge</td><td>▁</td></tr><tr><td>RMSE_Kalmar</td><td>▁</td></tr></table><br/></div><div class=\"wandb-col\"><h3>Run summary:</h3><br/><table class=\"wandb\"><tr><td>CV_RMSE</td><td>306.50179</td></tr><tr><td>CV_RMSE_'Kalmar</td><td>144.72435</td></tr><tr><td>CV_RMSE_Blekinge</td><td>161.77744</td></tr><tr><td>RMSE</td><td>22.21686</td></tr><tr><td>RMSE_Blekinge</td><td>7.26201</td></tr><tr><td>RMSE_Kalmar</td><td>14.95485</td></tr></table><br/></div></div>"
      ],
      "text/plain": [
       "<IPython.core.display.HTML object>"
      ]
     },
     "metadata": {},
     "output_type": "display_data"
    },
    {
     "data": {
      "text/html": [
       " View run <strong style=\"color:#cdcd00\">fanciful-sweep-98</strong> at: <a href='https://wandb.ai/danish2562022/sweeps-SEIR_kalmar_bleking/runs/f8tatprn' target=\"_blank\">https://wandb.ai/danish2562022/sweeps-SEIR_kalmar_bleking/runs/f8tatprn</a><br/> View project at: <a href='https://wandb.ai/danish2562022/sweeps-SEIR_kalmar_bleking' target=\"_blank\">https://wandb.ai/danish2562022/sweeps-SEIR_kalmar_bleking</a><br/>Synced 5 W&B file(s), 0 media file(s), 0 artifact file(s) and 0 other file(s)"
      ],
      "text/plain": [
       "<IPython.core.display.HTML object>"
      ]
     },
     "metadata": {},
     "output_type": "display_data"
    },
    {
     "data": {
      "text/html": [
       "Find logs at: <code>./wandb/run-20250528_190359-f8tatprn/logs</code>"
      ],
      "text/plain": [
       "<IPython.core.display.HTML object>"
      ]
     },
     "metadata": {},
     "output_type": "display_data"
    },
    {
     "data": {
      "text/html": [
       "The new W&B backend becomes opt-out in version 0.18.0; try it out with `wandb.require(\"core\")`! See https://wandb.me/wandb-core for more information."
      ],
      "text/plain": [
       "<IPython.core.display.HTML object>"
      ]
     },
     "metadata": {},
     "output_type": "display_data"
    },
    {
     "name": "stderr",
     "output_type": "stream",
     "text": [
      "\u001b[34m\u001b[1mwandb\u001b[0m: Agent Starting Run: y6tlh0ao with config:\n",
      "\u001b[34m\u001b[1mwandb\u001b[0m: \tah0: 0.11162877667822602\n",
      "\u001b[34m\u001b[1mwandb\u001b[0m: \tah1: 2.278708253809439\n",
      "\u001b[34m\u001b[1mwandb\u001b[0m: \tbh0: 9.12860201356506\n",
      "\u001b[34m\u001b[1mwandb\u001b[0m: \tbh1: 3.454286580183359\n",
      "\u001b[34m\u001b[1mwandb\u001b[0m: \tc: 0.6699363343286641\n"
     ]
    },
    {
     "data": {
      "text/html": [
       "wandb version 0.19.11 is available!  To upgrade, please run:\n",
       " $ pip install wandb --upgrade"
      ],
      "text/plain": [
       "<IPython.core.display.HTML object>"
      ]
     },
     "metadata": {},
     "output_type": "display_data"
    },
    {
     "data": {
      "text/html": [
       "Tracking run with wandb version 0.17.4"
      ],
      "text/plain": [
       "<IPython.core.display.HTML object>"
      ]
     },
     "metadata": {},
     "output_type": "display_data"
    },
    {
     "data": {
      "text/html": [
       "Run data is saved locally in <code>/12tb_dsk3/SEIR_model/src/wandb/run-20250528_190410-y6tlh0ao</code>"
      ],
      "text/plain": [
       "<IPython.core.display.HTML object>"
      ]
     },
     "metadata": {},
     "output_type": "display_data"
    },
    {
     "data": {
      "text/html": [
       "Syncing run <strong><a href='https://wandb.ai/danish2562022/sweeps-SEIR_kalmar_bleking/runs/y6tlh0ao' target=\"_blank\">woven-sweep-99</a></strong> to <a href='https://wandb.ai/danish2562022/sweeps-SEIR_kalmar_bleking' target=\"_blank\">Weights & Biases</a> (<a href='https://wandb.me/run' target=\"_blank\">docs</a>)<br/>Sweep page: <a href='https://wandb.ai/danish2562022/sweeps-SEIR_kalmar_bleking/sweeps/za0efz19' target=\"_blank\">https://wandb.ai/danish2562022/sweeps-SEIR_kalmar_bleking/sweeps/za0efz19</a>"
      ],
      "text/plain": [
       "<IPython.core.display.HTML object>"
      ]
     },
     "metadata": {},
     "output_type": "display_data"
    },
    {
     "data": {
      "text/html": [
       " View project at <a href='https://wandb.ai/danish2562022/sweeps-SEIR_kalmar_bleking' target=\"_blank\">https://wandb.ai/danish2562022/sweeps-SEIR_kalmar_bleking</a>"
      ],
      "text/plain": [
       "<IPython.core.display.HTML object>"
      ]
     },
     "metadata": {},
     "output_type": "display_data"
    },
    {
     "data": {
      "text/html": [
       " View sweep at <a href='https://wandb.ai/danish2562022/sweeps-SEIR_kalmar_bleking/sweeps/za0efz19' target=\"_blank\">https://wandb.ai/danish2562022/sweeps-SEIR_kalmar_bleking/sweeps/za0efz19</a>"
      ],
      "text/plain": [
       "<IPython.core.display.HTML object>"
      ]
     },
     "metadata": {},
     "output_type": "display_data"
    },
    {
     "data": {
      "text/html": [
       " View run at <a href='https://wandb.ai/danish2562022/sweeps-SEIR_kalmar_bleking/runs/y6tlh0ao' target=\"_blank\">https://wandb.ai/danish2562022/sweeps-SEIR_kalmar_bleking/runs/y6tlh0ao</a>"
      ],
      "text/plain": [
       "<IPython.core.display.HTML object>"
      ]
     },
     "metadata": {},
     "output_type": "display_data"
    },
    {
     "data": {
      "application/vnd.jupyter.widget-view+json": {
       "model_id": "de9a7aafa5ee439dba918fd91f2b9546",
       "version_major": 2,
       "version_minor": 0
      },
      "text/plain": [
       "VBox(children=(Label(value='0.021 MB of 0.021 MB uploaded\\r'), FloatProgress(value=1.0, max=1.0)))"
      ]
     },
     "metadata": {},
     "output_type": "display_data"
    },
    {
     "data": {
      "text/html": [
       "<style>\n",
       "    table.wandb td:nth-child(1) { padding: 0 10px; text-align: left ; width: auto;} td:nth-child(2) {text-align: left ; width: 100%}\n",
       "    .wandb-row { display: flex; flex-direction: row; flex-wrap: wrap; justify-content: flex-start; width: 100% }\n",
       "    .wandb-col { display: flex; flex-direction: column; flex-basis: 100%; flex: 1; padding: 10px; }\n",
       "    </style>\n",
       "<div class=\"wandb-row\"><div class=\"wandb-col\"><h3>Run history:</h3><br/><table class=\"wandb\"><tr><td>CV_RMSE</td><td>▁</td></tr><tr><td>CV_RMSE_'Kalmar</td><td>▁</td></tr><tr><td>CV_RMSE_Blekinge</td><td>▁</td></tr><tr><td>RMSE</td><td>▁</td></tr><tr><td>RMSE_Blekinge</td><td>▁</td></tr><tr><td>RMSE_Kalmar</td><td>▁</td></tr></table><br/></div><div class=\"wandb-col\"><h3>Run summary:</h3><br/><table class=\"wandb\"><tr><td>CV_RMSE</td><td>3771.69632</td></tr><tr><td>CV_RMSE_'Kalmar</td><td>1408.36699</td></tr><tr><td>CV_RMSE_Blekinge</td><td>2363.32933</td></tr><tr><td>RMSE</td><td>251.61848</td></tr><tr><td>RMSE_Blekinge</td><td>106.08723</td></tr><tr><td>RMSE_Kalmar</td><td>145.53126</td></tr></table><br/></div></div>"
      ],
      "text/plain": [
       "<IPython.core.display.HTML object>"
      ]
     },
     "metadata": {},
     "output_type": "display_data"
    },
    {
     "data": {
      "text/html": [
       " View run <strong style=\"color:#cdcd00\">woven-sweep-99</strong> at: <a href='https://wandb.ai/danish2562022/sweeps-SEIR_kalmar_bleking/runs/y6tlh0ao' target=\"_blank\">https://wandb.ai/danish2562022/sweeps-SEIR_kalmar_bleking/runs/y6tlh0ao</a><br/> View project at: <a href='https://wandb.ai/danish2562022/sweeps-SEIR_kalmar_bleking' target=\"_blank\">https://wandb.ai/danish2562022/sweeps-SEIR_kalmar_bleking</a><br/>Synced 5 W&B file(s), 0 media file(s), 0 artifact file(s) and 0 other file(s)"
      ],
      "text/plain": [
       "<IPython.core.display.HTML object>"
      ]
     },
     "metadata": {},
     "output_type": "display_data"
    },
    {
     "data": {
      "text/html": [
       "Find logs at: <code>./wandb/run-20250528_190410-y6tlh0ao/logs</code>"
      ],
      "text/plain": [
       "<IPython.core.display.HTML object>"
      ]
     },
     "metadata": {},
     "output_type": "display_data"
    },
    {
     "data": {
      "text/html": [
       "The new W&B backend becomes opt-out in version 0.18.0; try it out with `wandb.require(\"core\")`! See https://wandb.me/wandb-core for more information."
      ],
      "text/plain": [
       "<IPython.core.display.HTML object>"
      ]
     },
     "metadata": {},
     "output_type": "display_data"
    },
    {
     "name": "stderr",
     "output_type": "stream",
     "text": [
      "\u001b[34m\u001b[1mwandb\u001b[0m: Sweep Agent: Waiting for job.\n",
      "\u001b[34m\u001b[1mwandb\u001b[0m: Job received.\n",
      "\u001b[34m\u001b[1mwandb\u001b[0m: Agent Starting Run: x1mjm5at with config:\n",
      "\u001b[34m\u001b[1mwandb\u001b[0m: \tah0: 2.014111294911804\n",
      "\u001b[34m\u001b[1mwandb\u001b[0m: \tah1: 0.8275521159861927\n",
      "\u001b[34m\u001b[1mwandb\u001b[0m: \tbh0: 8.50979572235199\n",
      "\u001b[34m\u001b[1mwandb\u001b[0m: \tbh1: 5.027753721646681\n",
      "\u001b[34m\u001b[1mwandb\u001b[0m: \tc: 0.3446526762687704\n"
     ]
    },
    {
     "data": {
      "text/html": [
       "wandb version 0.19.11 is available!  To upgrade, please run:\n",
       " $ pip install wandb --upgrade"
      ],
      "text/plain": [
       "<IPython.core.display.HTML object>"
      ]
     },
     "metadata": {},
     "output_type": "display_data"
    },
    {
     "data": {
      "text/html": [
       "Tracking run with wandb version 0.17.4"
      ],
      "text/plain": [
       "<IPython.core.display.HTML object>"
      ]
     },
     "metadata": {},
     "output_type": "display_data"
    },
    {
     "data": {
      "text/html": [
       "Run data is saved locally in <code>/12tb_dsk3/SEIR_model/src/wandb/run-20250528_190426-x1mjm5at</code>"
      ],
      "text/plain": [
       "<IPython.core.display.HTML object>"
      ]
     },
     "metadata": {},
     "output_type": "display_data"
    },
    {
     "data": {
      "text/html": [
       "Syncing run <strong><a href='https://wandb.ai/danish2562022/sweeps-SEIR_kalmar_bleking/runs/x1mjm5at' target=\"_blank\">vocal-sweep-100</a></strong> to <a href='https://wandb.ai/danish2562022/sweeps-SEIR_kalmar_bleking' target=\"_blank\">Weights & Biases</a> (<a href='https://wandb.me/run' target=\"_blank\">docs</a>)<br/>Sweep page: <a href='https://wandb.ai/danish2562022/sweeps-SEIR_kalmar_bleking/sweeps/za0efz19' target=\"_blank\">https://wandb.ai/danish2562022/sweeps-SEIR_kalmar_bleking/sweeps/za0efz19</a>"
      ],
      "text/plain": [
       "<IPython.core.display.HTML object>"
      ]
     },
     "metadata": {},
     "output_type": "display_data"
    },
    {
     "data": {
      "text/html": [
       " View project at <a href='https://wandb.ai/danish2562022/sweeps-SEIR_kalmar_bleking' target=\"_blank\">https://wandb.ai/danish2562022/sweeps-SEIR_kalmar_bleking</a>"
      ],
      "text/plain": [
       "<IPython.core.display.HTML object>"
      ]
     },
     "metadata": {},
     "output_type": "display_data"
    },
    {
     "data": {
      "text/html": [
       " View sweep at <a href='https://wandb.ai/danish2562022/sweeps-SEIR_kalmar_bleking/sweeps/za0efz19' target=\"_blank\">https://wandb.ai/danish2562022/sweeps-SEIR_kalmar_bleking/sweeps/za0efz19</a>"
      ],
      "text/plain": [
       "<IPython.core.display.HTML object>"
      ]
     },
     "metadata": {},
     "output_type": "display_data"
    },
    {
     "data": {
      "text/html": [
       " View run at <a href='https://wandb.ai/danish2562022/sweeps-SEIR_kalmar_bleking/runs/x1mjm5at' target=\"_blank\">https://wandb.ai/danish2562022/sweeps-SEIR_kalmar_bleking/runs/x1mjm5at</a>"
      ],
      "text/plain": [
       "<IPython.core.display.HTML object>"
      ]
     },
     "metadata": {},
     "output_type": "display_data"
    },
    {
     "data": {
      "application/vnd.jupyter.widget-view+json": {
       "model_id": "38dbc120342f4a76ae1060cbfe4be2b9",
       "version_major": 2,
       "version_minor": 0
      },
      "text/plain": [
       "VBox(children=(Label(value='0.021 MB of 0.021 MB uploaded\\r'), FloatProgress(value=1.0, max=1.0)))"
      ]
     },
     "metadata": {},
     "output_type": "display_data"
    },
    {
     "data": {
      "text/html": [
       "<style>\n",
       "    table.wandb td:nth-child(1) { padding: 0 10px; text-align: left ; width: auto;} td:nth-child(2) {text-align: left ; width: 100%}\n",
       "    .wandb-row { display: flex; flex-direction: row; flex-wrap: wrap; justify-content: flex-start; width: 100% }\n",
       "    .wandb-col { display: flex; flex-direction: column; flex-basis: 100%; flex: 1; padding: 10px; }\n",
       "    </style>\n",
       "<div class=\"wandb-row\"><div class=\"wandb-col\"><h3>Run history:</h3><br/><table class=\"wandb\"><tr><td>CV_RMSE</td><td>▁</td></tr><tr><td>CV_RMSE_'Kalmar</td><td>▁</td></tr><tr><td>CV_RMSE_Blekinge</td><td>▁</td></tr><tr><td>RMSE</td><td>▁</td></tr><tr><td>RMSE_Blekinge</td><td>▁</td></tr><tr><td>RMSE_Kalmar</td><td>▁</td></tr></table><br/></div><div class=\"wandb-col\"><h3>Run summary:</h3><br/><table class=\"wandb\"><tr><td>CV_RMSE</td><td>571.3968</td></tr><tr><td>CV_RMSE_'Kalmar</td><td>363.36536</td></tr><tr><td>CV_RMSE_Blekinge</td><td>208.03145</td></tr><tr><td>RMSE</td><td>46.88605</td></tr><tr><td>RMSE_Blekinge</td><td>9.3383</td></tr><tr><td>RMSE_Kalmar</td><td>37.54775</td></tr></table><br/></div></div>"
      ],
      "text/plain": [
       "<IPython.core.display.HTML object>"
      ]
     },
     "metadata": {},
     "output_type": "display_data"
    },
    {
     "data": {
      "text/html": [
       " View run <strong style=\"color:#cdcd00\">vocal-sweep-100</strong> at: <a href='https://wandb.ai/danish2562022/sweeps-SEIR_kalmar_bleking/runs/x1mjm5at' target=\"_blank\">https://wandb.ai/danish2562022/sweeps-SEIR_kalmar_bleking/runs/x1mjm5at</a><br/> View project at: <a href='https://wandb.ai/danish2562022/sweeps-SEIR_kalmar_bleking' target=\"_blank\">https://wandb.ai/danish2562022/sweeps-SEIR_kalmar_bleking</a><br/>Synced 5 W&B file(s), 0 media file(s), 0 artifact file(s) and 0 other file(s)"
      ],
      "text/plain": [
       "<IPython.core.display.HTML object>"
      ]
     },
     "metadata": {},
     "output_type": "display_data"
    },
    {
     "data": {
      "text/html": [
       "Find logs at: <code>./wandb/run-20250528_190426-x1mjm5at/logs</code>"
      ],
      "text/plain": [
       "<IPython.core.display.HTML object>"
      ]
     },
     "metadata": {},
     "output_type": "display_data"
    },
    {
     "data": {
      "text/html": [
       "The new W&B backend becomes opt-out in version 0.18.0; try it out with `wandb.require(\"core\")`! See https://wandb.me/wandb-core for more information."
      ],
      "text/plain": [
       "<IPython.core.display.HTML object>"
      ]
     },
     "metadata": {},
     "output_type": "display_data"
    },
    {
     "name": "stderr",
     "output_type": "stream",
     "text": [
      "\u001b[34m\u001b[1mwandb\u001b[0m: Sweep Agent: Waiting for job.\n",
      "\u001b[34m\u001b[1mwandb\u001b[0m: Job received.\n",
      "\u001b[34m\u001b[1mwandb\u001b[0m: Agent Starting Run: y1gu7q3d with config:\n",
      "\u001b[34m\u001b[1mwandb\u001b[0m: \tah0: 0.07450062794244616\n",
      "\u001b[34m\u001b[1mwandb\u001b[0m: \tah1: 1.975243584883759\n",
      "\u001b[34m\u001b[1mwandb\u001b[0m: \tbh0: 6.732276884431416\n",
      "\u001b[34m\u001b[1mwandb\u001b[0m: \tbh1: 1.066946439996731\n",
      "\u001b[34m\u001b[1mwandb\u001b[0m: \tc: 0.46670346959407016\n"
     ]
    },
    {
     "data": {
      "text/html": [
       "wandb version 0.19.11 is available!  To upgrade, please run:\n",
       " $ pip install wandb --upgrade"
      ],
      "text/plain": [
       "<IPython.core.display.HTML object>"
      ]
     },
     "metadata": {},
     "output_type": "display_data"
    },
    {
     "data": {
      "text/html": [
       "Tracking run with wandb version 0.17.4"
      ],
      "text/plain": [
       "<IPython.core.display.HTML object>"
      ]
     },
     "metadata": {},
     "output_type": "display_data"
    },
    {
     "data": {
      "text/html": [
       "Run data is saved locally in <code>/12tb_dsk3/SEIR_model/src/wandb/run-20250528_190442-y1gu7q3d</code>"
      ],
      "text/plain": [
       "<IPython.core.display.HTML object>"
      ]
     },
     "metadata": {},
     "output_type": "display_data"
    },
    {
     "data": {
      "text/html": [
       "Syncing run <strong><a href='https://wandb.ai/danish2562022/sweeps-SEIR_kalmar_bleking/runs/y1gu7q3d' target=\"_blank\">polar-sweep-101</a></strong> to <a href='https://wandb.ai/danish2562022/sweeps-SEIR_kalmar_bleking' target=\"_blank\">Weights & Biases</a> (<a href='https://wandb.me/run' target=\"_blank\">docs</a>)<br/>Sweep page: <a href='https://wandb.ai/danish2562022/sweeps-SEIR_kalmar_bleking/sweeps/za0efz19' target=\"_blank\">https://wandb.ai/danish2562022/sweeps-SEIR_kalmar_bleking/sweeps/za0efz19</a>"
      ],
      "text/plain": [
       "<IPython.core.display.HTML object>"
      ]
     },
     "metadata": {},
     "output_type": "display_data"
    },
    {
     "data": {
      "text/html": [
       " View project at <a href='https://wandb.ai/danish2562022/sweeps-SEIR_kalmar_bleking' target=\"_blank\">https://wandb.ai/danish2562022/sweeps-SEIR_kalmar_bleking</a>"
      ],
      "text/plain": [
       "<IPython.core.display.HTML object>"
      ]
     },
     "metadata": {},
     "output_type": "display_data"
    },
    {
     "data": {
      "text/html": [
       " View sweep at <a href='https://wandb.ai/danish2562022/sweeps-SEIR_kalmar_bleking/sweeps/za0efz19' target=\"_blank\">https://wandb.ai/danish2562022/sweeps-SEIR_kalmar_bleking/sweeps/za0efz19</a>"
      ],
      "text/plain": [
       "<IPython.core.display.HTML object>"
      ]
     },
     "metadata": {},
     "output_type": "display_data"
    },
    {
     "data": {
      "text/html": [
       " View run at <a href='https://wandb.ai/danish2562022/sweeps-SEIR_kalmar_bleking/runs/y1gu7q3d' target=\"_blank\">https://wandb.ai/danish2562022/sweeps-SEIR_kalmar_bleking/runs/y1gu7q3d</a>"
      ],
      "text/plain": [
       "<IPython.core.display.HTML object>"
      ]
     },
     "metadata": {},
     "output_type": "display_data"
    },
    {
     "data": {
      "application/vnd.jupyter.widget-view+json": {
       "model_id": "19fb2330d9e74c818b0d356b5ce00ead",
       "version_major": 2,
       "version_minor": 0
      },
      "text/plain": [
       "VBox(children=(Label(value='0.021 MB of 0.021 MB uploaded\\r'), FloatProgress(value=1.0, max=1.0)))"
      ]
     },
     "metadata": {},
     "output_type": "display_data"
    },
    {
     "data": {
      "text/html": [
       "<style>\n",
       "    table.wandb td:nth-child(1) { padding: 0 10px; text-align: left ; width: auto;} td:nth-child(2) {text-align: left ; width: 100%}\n",
       "    .wandb-row { display: flex; flex-direction: row; flex-wrap: wrap; justify-content: flex-start; width: 100% }\n",
       "    .wandb-col { display: flex; flex-direction: column; flex-basis: 100%; flex: 1; padding: 10px; }\n",
       "    </style>\n",
       "<div class=\"wandb-row\"><div class=\"wandb-col\"><h3>Run history:</h3><br/><table class=\"wandb\"><tr><td>CV_RMSE</td><td>▁</td></tr><tr><td>CV_RMSE_'Kalmar</td><td>▁</td></tr><tr><td>CV_RMSE_Blekinge</td><td>▁</td></tr><tr><td>RMSE</td><td>▁</td></tr><tr><td>RMSE_Blekinge</td><td>▁</td></tr><tr><td>RMSE_Kalmar</td><td>▁</td></tr></table><br/></div><div class=\"wandb-col\"><h3>Run summary:</h3><br/><table class=\"wandb\"><tr><td>CV_RMSE</td><td>1995.61199</td></tr><tr><td>CV_RMSE_'Kalmar</td><td>456.26243</td></tr><tr><td>CV_RMSE_Blekinge</td><td>1539.34956</td></tr><tr><td>RMSE</td><td>116.24681</td></tr><tr><td>RMSE_Blekinge</td><td>69.09969</td></tr><tr><td>RMSE_Kalmar</td><td>47.14712</td></tr></table><br/></div></div>"
      ],
      "text/plain": [
       "<IPython.core.display.HTML object>"
      ]
     },
     "metadata": {},
     "output_type": "display_data"
    },
    {
     "data": {
      "text/html": [
       " View run <strong style=\"color:#cdcd00\">polar-sweep-101</strong> at: <a href='https://wandb.ai/danish2562022/sweeps-SEIR_kalmar_bleking/runs/y1gu7q3d' target=\"_blank\">https://wandb.ai/danish2562022/sweeps-SEIR_kalmar_bleking/runs/y1gu7q3d</a><br/> View project at: <a href='https://wandb.ai/danish2562022/sweeps-SEIR_kalmar_bleking' target=\"_blank\">https://wandb.ai/danish2562022/sweeps-SEIR_kalmar_bleking</a><br/>Synced 5 W&B file(s), 0 media file(s), 0 artifact file(s) and 0 other file(s)"
      ],
      "text/plain": [
       "<IPython.core.display.HTML object>"
      ]
     },
     "metadata": {},
     "output_type": "display_data"
    },
    {
     "data": {
      "text/html": [
       "Find logs at: <code>./wandb/run-20250528_190442-y1gu7q3d/logs</code>"
      ],
      "text/plain": [
       "<IPython.core.display.HTML object>"
      ]
     },
     "metadata": {},
     "output_type": "display_data"
    },
    {
     "data": {
      "text/html": [
       "The new W&B backend becomes opt-out in version 0.18.0; try it out with `wandb.require(\"core\")`! See https://wandb.me/wandb-core for more information."
      ],
      "text/plain": [
       "<IPython.core.display.HTML object>"
      ]
     },
     "metadata": {},
     "output_type": "display_data"
    },
    {
     "name": "stderr",
     "output_type": "stream",
     "text": [
      "\u001b[34m\u001b[1mwandb\u001b[0m: Agent Starting Run: ngyjk4vy with config:\n",
      "\u001b[34m\u001b[1mwandb\u001b[0m: \tah0: 0.1890410783143955\n",
      "\u001b[34m\u001b[1mwandb\u001b[0m: \tah1: 2.77640681358064\n",
      "\u001b[34m\u001b[1mwandb\u001b[0m: \tbh0: 7.601539948839061\n",
      "\u001b[34m\u001b[1mwandb\u001b[0m: \tbh1: 9.605967595267906\n",
      "\u001b[34m\u001b[1mwandb\u001b[0m: \tc: 0.24572227972317384\n"
     ]
    },
    {
     "data": {
      "text/html": [
       "wandb version 0.19.11 is available!  To upgrade, please run:\n",
       " $ pip install wandb --upgrade"
      ],
      "text/plain": [
       "<IPython.core.display.HTML object>"
      ]
     },
     "metadata": {},
     "output_type": "display_data"
    },
    {
     "data": {
      "text/html": [
       "Tracking run with wandb version 0.17.4"
      ],
      "text/plain": [
       "<IPython.core.display.HTML object>"
      ]
     },
     "metadata": {},
     "output_type": "display_data"
    },
    {
     "data": {
      "text/html": [
       "Run data is saved locally in <code>/12tb_dsk3/SEIR_model/src/wandb/run-20250528_190452-ngyjk4vy</code>"
      ],
      "text/plain": [
       "<IPython.core.display.HTML object>"
      ]
     },
     "metadata": {},
     "output_type": "display_data"
    },
    {
     "data": {
      "text/html": [
       "Syncing run <strong><a href='https://wandb.ai/danish2562022/sweeps-SEIR_kalmar_bleking/runs/ngyjk4vy' target=\"_blank\">daily-sweep-102</a></strong> to <a href='https://wandb.ai/danish2562022/sweeps-SEIR_kalmar_bleking' target=\"_blank\">Weights & Biases</a> (<a href='https://wandb.me/run' target=\"_blank\">docs</a>)<br/>Sweep page: <a href='https://wandb.ai/danish2562022/sweeps-SEIR_kalmar_bleking/sweeps/za0efz19' target=\"_blank\">https://wandb.ai/danish2562022/sweeps-SEIR_kalmar_bleking/sweeps/za0efz19</a>"
      ],
      "text/plain": [
       "<IPython.core.display.HTML object>"
      ]
     },
     "metadata": {},
     "output_type": "display_data"
    },
    {
     "data": {
      "text/html": [
       " View project at <a href='https://wandb.ai/danish2562022/sweeps-SEIR_kalmar_bleking' target=\"_blank\">https://wandb.ai/danish2562022/sweeps-SEIR_kalmar_bleking</a>"
      ],
      "text/plain": [
       "<IPython.core.display.HTML object>"
      ]
     },
     "metadata": {},
     "output_type": "display_data"
    },
    {
     "data": {
      "text/html": [
       " View sweep at <a href='https://wandb.ai/danish2562022/sweeps-SEIR_kalmar_bleking/sweeps/za0efz19' target=\"_blank\">https://wandb.ai/danish2562022/sweeps-SEIR_kalmar_bleking/sweeps/za0efz19</a>"
      ],
      "text/plain": [
       "<IPython.core.display.HTML object>"
      ]
     },
     "metadata": {},
     "output_type": "display_data"
    },
    {
     "data": {
      "text/html": [
       " View run at <a href='https://wandb.ai/danish2562022/sweeps-SEIR_kalmar_bleking/runs/ngyjk4vy' target=\"_blank\">https://wandb.ai/danish2562022/sweeps-SEIR_kalmar_bleking/runs/ngyjk4vy</a>"
      ],
      "text/plain": [
       "<IPython.core.display.HTML object>"
      ]
     },
     "metadata": {},
     "output_type": "display_data"
    },
    {
     "data": {
      "application/vnd.jupyter.widget-view+json": {
       "model_id": "c4e4992eeb0e4613a0cf5af707a34aa2",
       "version_major": 2,
       "version_minor": 0
      },
      "text/plain": [
       "VBox(children=(Label(value='0.021 MB of 0.021 MB uploaded\\r'), FloatProgress(value=1.0, max=1.0)))"
      ]
     },
     "metadata": {},
     "output_type": "display_data"
    },
    {
     "data": {
      "text/html": [
       "<style>\n",
       "    table.wandb td:nth-child(1) { padding: 0 10px; text-align: left ; width: auto;} td:nth-child(2) {text-align: left ; width: 100%}\n",
       "    .wandb-row { display: flex; flex-direction: row; flex-wrap: wrap; justify-content: flex-start; width: 100% }\n",
       "    .wandb-col { display: flex; flex-direction: column; flex-basis: 100%; flex: 1; padding: 10px; }\n",
       "    </style>\n",
       "<div class=\"wandb-row\"><div class=\"wandb-col\"><h3>Run history:</h3><br/><table class=\"wandb\"><tr><td>CV_RMSE</td><td>▁</td></tr><tr><td>CV_RMSE_'Kalmar</td><td>▁</td></tr><tr><td>CV_RMSE_Blekinge</td><td>▁</td></tr><tr><td>RMSE</td><td>▁</td></tr><tr><td>RMSE_Blekinge</td><td>▁</td></tr><tr><td>RMSE_Kalmar</td><td>▁</td></tr></table><br/></div><div class=\"wandb-col\"><h3>Run summary:</h3><br/><table class=\"wandb\"><tr><td>CV_RMSE</td><td>3878.91103</td></tr><tr><td>CV_RMSE_'Kalmar</td><td>884.88616</td></tr><tr><td>CV_RMSE_Blekinge</td><td>2994.02486</td></tr><tr><td>RMSE</td><td>225.83669</td></tr><tr><td>RMSE_Blekinge</td><td>134.39845</td></tr><tr><td>RMSE_Kalmar</td><td>91.43824</td></tr></table><br/></div></div>"
      ],
      "text/plain": [
       "<IPython.core.display.HTML object>"
      ]
     },
     "metadata": {},
     "output_type": "display_data"
    },
    {
     "data": {
      "text/html": [
       " View run <strong style=\"color:#cdcd00\">daily-sweep-102</strong> at: <a href='https://wandb.ai/danish2562022/sweeps-SEIR_kalmar_bleking/runs/ngyjk4vy' target=\"_blank\">https://wandb.ai/danish2562022/sweeps-SEIR_kalmar_bleking/runs/ngyjk4vy</a><br/> View project at: <a href='https://wandb.ai/danish2562022/sweeps-SEIR_kalmar_bleking' target=\"_blank\">https://wandb.ai/danish2562022/sweeps-SEIR_kalmar_bleking</a><br/>Synced 5 W&B file(s), 0 media file(s), 0 artifact file(s) and 0 other file(s)"
      ],
      "text/plain": [
       "<IPython.core.display.HTML object>"
      ]
     },
     "metadata": {},
     "output_type": "display_data"
    },
    {
     "data": {
      "text/html": [
       "Find logs at: <code>./wandb/run-20250528_190452-ngyjk4vy/logs</code>"
      ],
      "text/plain": [
       "<IPython.core.display.HTML object>"
      ]
     },
     "metadata": {},
     "output_type": "display_data"
    },
    {
     "data": {
      "text/html": [
       "The new W&B backend becomes opt-out in version 0.18.0; try it out with `wandb.require(\"core\")`! See https://wandb.me/wandb-core for more information."
      ],
      "text/plain": [
       "<IPython.core.display.HTML object>"
      ]
     },
     "metadata": {},
     "output_type": "display_data"
    },
    {
     "name": "stderr",
     "output_type": "stream",
     "text": [
      "\u001b[34m\u001b[1mwandb\u001b[0m: Agent Starting Run: n72bre12 with config:\n",
      "\u001b[34m\u001b[1mwandb\u001b[0m: \tah0: 0.7751354238854672\n",
      "\u001b[34m\u001b[1mwandb\u001b[0m: \tah1: 0.07128724745252546\n",
      "\u001b[34m\u001b[1mwandb\u001b[0m: \tbh0: 0.8312650696370272\n",
      "\u001b[34m\u001b[1mwandb\u001b[0m: \tbh1: 4.867596778580778\n",
      "\u001b[34m\u001b[1mwandb\u001b[0m: \tc: 0.6605581857139706\n"
     ]
    },
    {
     "data": {
      "text/html": [
       "wandb version 0.19.11 is available!  To upgrade, please run:\n",
       " $ pip install wandb --upgrade"
      ],
      "text/plain": [
       "<IPython.core.display.HTML object>"
      ]
     },
     "metadata": {},
     "output_type": "display_data"
    },
    {
     "data": {
      "text/html": [
       "Tracking run with wandb version 0.17.4"
      ],
      "text/plain": [
       "<IPython.core.display.HTML object>"
      ]
     },
     "metadata": {},
     "output_type": "display_data"
    },
    {
     "data": {
      "text/html": [
       "Run data is saved locally in <code>/12tb_dsk3/SEIR_model/src/wandb/run-20250528_190503-n72bre12</code>"
      ],
      "text/plain": [
       "<IPython.core.display.HTML object>"
      ]
     },
     "metadata": {},
     "output_type": "display_data"
    },
    {
     "data": {
      "text/html": [
       "Syncing run <strong><a href='https://wandb.ai/danish2562022/sweeps-SEIR_kalmar_bleking/runs/n72bre12' target=\"_blank\">avid-sweep-103</a></strong> to <a href='https://wandb.ai/danish2562022/sweeps-SEIR_kalmar_bleking' target=\"_blank\">Weights & Biases</a> (<a href='https://wandb.me/run' target=\"_blank\">docs</a>)<br/>Sweep page: <a href='https://wandb.ai/danish2562022/sweeps-SEIR_kalmar_bleking/sweeps/za0efz19' target=\"_blank\">https://wandb.ai/danish2562022/sweeps-SEIR_kalmar_bleking/sweeps/za0efz19</a>"
      ],
      "text/plain": [
       "<IPython.core.display.HTML object>"
      ]
     },
     "metadata": {},
     "output_type": "display_data"
    },
    {
     "data": {
      "text/html": [
       " View project at <a href='https://wandb.ai/danish2562022/sweeps-SEIR_kalmar_bleking' target=\"_blank\">https://wandb.ai/danish2562022/sweeps-SEIR_kalmar_bleking</a>"
      ],
      "text/plain": [
       "<IPython.core.display.HTML object>"
      ]
     },
     "metadata": {},
     "output_type": "display_data"
    },
    {
     "data": {
      "text/html": [
       " View sweep at <a href='https://wandb.ai/danish2562022/sweeps-SEIR_kalmar_bleking/sweeps/za0efz19' target=\"_blank\">https://wandb.ai/danish2562022/sweeps-SEIR_kalmar_bleking/sweeps/za0efz19</a>"
      ],
      "text/plain": [
       "<IPython.core.display.HTML object>"
      ]
     },
     "metadata": {},
     "output_type": "display_data"
    },
    {
     "data": {
      "text/html": [
       " View run at <a href='https://wandb.ai/danish2562022/sweeps-SEIR_kalmar_bleking/runs/n72bre12' target=\"_blank\">https://wandb.ai/danish2562022/sweeps-SEIR_kalmar_bleking/runs/n72bre12</a>"
      ],
      "text/plain": [
       "<IPython.core.display.HTML object>"
      ]
     },
     "metadata": {},
     "output_type": "display_data"
    },
    {
     "data": {
      "application/vnd.jupyter.widget-view+json": {
       "model_id": "bcaaa62032ee4f7ebee9f01793e4afa7",
       "version_major": 2,
       "version_minor": 0
      },
      "text/plain": [
       "VBox(children=(Label(value='0.021 MB of 0.021 MB uploaded\\r'), FloatProgress(value=1.0, max=1.0)))"
      ]
     },
     "metadata": {},
     "output_type": "display_data"
    },
    {
     "data": {
      "text/html": [
       "<style>\n",
       "    table.wandb td:nth-child(1) { padding: 0 10px; text-align: left ; width: auto;} td:nth-child(2) {text-align: left ; width: 100%}\n",
       "    .wandb-row { display: flex; flex-direction: row; flex-wrap: wrap; justify-content: flex-start; width: 100% }\n",
       "    .wandb-col { display: flex; flex-direction: column; flex-basis: 100%; flex: 1; padding: 10px; }\n",
       "    </style>\n",
       "<div class=\"wandb-row\"><div class=\"wandb-col\"><h3>Run history:</h3><br/><table class=\"wandb\"><tr><td>CV_RMSE</td><td>▁</td></tr><tr><td>CV_RMSE_'Kalmar</td><td>▁</td></tr><tr><td>CV_RMSE_Blekinge</td><td>▁</td></tr><tr><td>RMSE</td><td>▁</td></tr><tr><td>RMSE_Blekinge</td><td>▁</td></tr><tr><td>RMSE_Kalmar</td><td>▁</td></tr></table><br/></div><div class=\"wandb-col\"><h3>Run summary:</h3><br/><table class=\"wandb\"><tr><td>CV_RMSE</td><td>306.92639</td></tr><tr><td>CV_RMSE_'Kalmar</td><td>144.99973</td></tr><tr><td>CV_RMSE_Blekinge</td><td>161.92666</td></tr><tr><td>RMSE</td><td>22.25201</td></tr><tr><td>RMSE_Blekinge</td><td>7.26871</td></tr><tr><td>RMSE_Kalmar</td><td>14.98331</td></tr></table><br/></div></div>"
      ],
      "text/plain": [
       "<IPython.core.display.HTML object>"
      ]
     },
     "metadata": {},
     "output_type": "display_data"
    },
    {
     "data": {
      "text/html": [
       " View run <strong style=\"color:#cdcd00\">avid-sweep-103</strong> at: <a href='https://wandb.ai/danish2562022/sweeps-SEIR_kalmar_bleking/runs/n72bre12' target=\"_blank\">https://wandb.ai/danish2562022/sweeps-SEIR_kalmar_bleking/runs/n72bre12</a><br/> View project at: <a href='https://wandb.ai/danish2562022/sweeps-SEIR_kalmar_bleking' target=\"_blank\">https://wandb.ai/danish2562022/sweeps-SEIR_kalmar_bleking</a><br/>Synced 5 W&B file(s), 0 media file(s), 0 artifact file(s) and 0 other file(s)"
      ],
      "text/plain": [
       "<IPython.core.display.HTML object>"
      ]
     },
     "metadata": {},
     "output_type": "display_data"
    },
    {
     "data": {
      "text/html": [
       "Find logs at: <code>./wandb/run-20250528_190503-n72bre12/logs</code>"
      ],
      "text/plain": [
       "<IPython.core.display.HTML object>"
      ]
     },
     "metadata": {},
     "output_type": "display_data"
    },
    {
     "data": {
      "text/html": [
       "The new W&B backend becomes opt-out in version 0.18.0; try it out with `wandb.require(\"core\")`! See https://wandb.me/wandb-core for more information."
      ],
      "text/plain": [
       "<IPython.core.display.HTML object>"
      ]
     },
     "metadata": {},
     "output_type": "display_data"
    },
    {
     "name": "stderr",
     "output_type": "stream",
     "text": [
      "\u001b[34m\u001b[1mwandb\u001b[0m: Agent Starting Run: 9swqbqo0 with config:\n",
      "\u001b[34m\u001b[1mwandb\u001b[0m: \tah0: 1.3879009062221337\n",
      "\u001b[34m\u001b[1mwandb\u001b[0m: \tah1: 1.7917421101114843\n",
      "\u001b[34m\u001b[1mwandb\u001b[0m: \tbh0: 9.426064124720549\n",
      "\u001b[34m\u001b[1mwandb\u001b[0m: \tbh1: 3.980848645718268\n",
      "\u001b[34m\u001b[1mwandb\u001b[0m: \tc: 0.4408944858259424\n"
     ]
    },
    {
     "data": {
      "text/html": [
       "wandb version 0.19.11 is available!  To upgrade, please run:\n",
       " $ pip install wandb --upgrade"
      ],
      "text/plain": [
       "<IPython.core.display.HTML object>"
      ]
     },
     "metadata": {},
     "output_type": "display_data"
    },
    {
     "data": {
      "text/html": [
       "Tracking run with wandb version 0.17.4"
      ],
      "text/plain": [
       "<IPython.core.display.HTML object>"
      ]
     },
     "metadata": {},
     "output_type": "display_data"
    },
    {
     "data": {
      "text/html": [
       "Run data is saved locally in <code>/12tb_dsk3/SEIR_model/src/wandb/run-20250528_190513-9swqbqo0</code>"
      ],
      "text/plain": [
       "<IPython.core.display.HTML object>"
      ]
     },
     "metadata": {},
     "output_type": "display_data"
    },
    {
     "data": {
      "text/html": [
       "Syncing run <strong><a href='https://wandb.ai/danish2562022/sweeps-SEIR_kalmar_bleking/runs/9swqbqo0' target=\"_blank\">dutiful-sweep-104</a></strong> to <a href='https://wandb.ai/danish2562022/sweeps-SEIR_kalmar_bleking' target=\"_blank\">Weights & Biases</a> (<a href='https://wandb.me/run' target=\"_blank\">docs</a>)<br/>Sweep page: <a href='https://wandb.ai/danish2562022/sweeps-SEIR_kalmar_bleking/sweeps/za0efz19' target=\"_blank\">https://wandb.ai/danish2562022/sweeps-SEIR_kalmar_bleking/sweeps/za0efz19</a>"
      ],
      "text/plain": [
       "<IPython.core.display.HTML object>"
      ]
     },
     "metadata": {},
     "output_type": "display_data"
    },
    {
     "data": {
      "text/html": [
       " View project at <a href='https://wandb.ai/danish2562022/sweeps-SEIR_kalmar_bleking' target=\"_blank\">https://wandb.ai/danish2562022/sweeps-SEIR_kalmar_bleking</a>"
      ],
      "text/plain": [
       "<IPython.core.display.HTML object>"
      ]
     },
     "metadata": {},
     "output_type": "display_data"
    },
    {
     "data": {
      "text/html": [
       " View sweep at <a href='https://wandb.ai/danish2562022/sweeps-SEIR_kalmar_bleking/sweeps/za0efz19' target=\"_blank\">https://wandb.ai/danish2562022/sweeps-SEIR_kalmar_bleking/sweeps/za0efz19</a>"
      ],
      "text/plain": [
       "<IPython.core.display.HTML object>"
      ]
     },
     "metadata": {},
     "output_type": "display_data"
    },
    {
     "data": {
      "text/html": [
       " View run at <a href='https://wandb.ai/danish2562022/sweeps-SEIR_kalmar_bleking/runs/9swqbqo0' target=\"_blank\">https://wandb.ai/danish2562022/sweeps-SEIR_kalmar_bleking/runs/9swqbqo0</a>"
      ],
      "text/plain": [
       "<IPython.core.display.HTML object>"
      ]
     },
     "metadata": {},
     "output_type": "display_data"
    },
    {
     "data": {
      "application/vnd.jupyter.widget-view+json": {
       "model_id": "637fdface695421ea247c890b27e01a8",
       "version_major": 2,
       "version_minor": 0
      },
      "text/plain": [
       "VBox(children=(Label(value='0.021 MB of 0.021 MB uploaded\\r'), FloatProgress(value=1.0, max=1.0)))"
      ]
     },
     "metadata": {},
     "output_type": "display_data"
    },
    {
     "data": {
      "text/html": [
       "<style>\n",
       "    table.wandb td:nth-child(1) { padding: 0 10px; text-align: left ; width: auto;} td:nth-child(2) {text-align: left ; width: 100%}\n",
       "    .wandb-row { display: flex; flex-direction: row; flex-wrap: wrap; justify-content: flex-start; width: 100% }\n",
       "    .wandb-col { display: flex; flex-direction: column; flex-basis: 100%; flex: 1; padding: 10px; }\n",
       "    </style>\n",
       "<div class=\"wandb-row\"><div class=\"wandb-col\"><h3>Run history:</h3><br/><table class=\"wandb\"><tr><td>CV_RMSE</td><td>▁</td></tr><tr><td>CV_RMSE_'Kalmar</td><td>▁</td></tr><tr><td>CV_RMSE_Blekinge</td><td>▁</td></tr><tr><td>RMSE</td><td>▁</td></tr><tr><td>RMSE_Blekinge</td><td>▁</td></tr><tr><td>RMSE_Kalmar</td><td>▁</td></tr></table><br/></div><div class=\"wandb-col\"><h3>Run summary:</h3><br/><table class=\"wandb\"><tr><td>CV_RMSE</td><td>3912.34927</td></tr><tr><td>CV_RMSE_'Kalmar</td><td>1449.70143</td></tr><tr><td>CV_RMSE_Blekinge</td><td>2462.64783</td></tr><tr><td>RMSE</td><td>260.34801</td></tr><tr><td>RMSE_Blekinge</td><td>110.54553</td></tr><tr><td>RMSE_Kalmar</td><td>149.80248</td></tr></table><br/></div></div>"
      ],
      "text/plain": [
       "<IPython.core.display.HTML object>"
      ]
     },
     "metadata": {},
     "output_type": "display_data"
    },
    {
     "data": {
      "text/html": [
       " View run <strong style=\"color:#cdcd00\">dutiful-sweep-104</strong> at: <a href='https://wandb.ai/danish2562022/sweeps-SEIR_kalmar_bleking/runs/9swqbqo0' target=\"_blank\">https://wandb.ai/danish2562022/sweeps-SEIR_kalmar_bleking/runs/9swqbqo0</a><br/> View project at: <a href='https://wandb.ai/danish2562022/sweeps-SEIR_kalmar_bleking' target=\"_blank\">https://wandb.ai/danish2562022/sweeps-SEIR_kalmar_bleking</a><br/>Synced 5 W&B file(s), 0 media file(s), 0 artifact file(s) and 0 other file(s)"
      ],
      "text/plain": [
       "<IPython.core.display.HTML object>"
      ]
     },
     "metadata": {},
     "output_type": "display_data"
    },
    {
     "data": {
      "text/html": [
       "Find logs at: <code>./wandb/run-20250528_190513-9swqbqo0/logs</code>"
      ],
      "text/plain": [
       "<IPython.core.display.HTML object>"
      ]
     },
     "metadata": {},
     "output_type": "display_data"
    },
    {
     "data": {
      "text/html": [
       "The new W&B backend becomes opt-out in version 0.18.0; try it out with `wandb.require(\"core\")`! See https://wandb.me/wandb-core for more information."
      ],
      "text/plain": [
       "<IPython.core.display.HTML object>"
      ]
     },
     "metadata": {},
     "output_type": "display_data"
    },
    {
     "name": "stderr",
     "output_type": "stream",
     "text": [
      "\u001b[34m\u001b[1mwandb\u001b[0m: Agent Starting Run: wcs43d8s with config:\n",
      "\u001b[34m\u001b[1mwandb\u001b[0m: \tah0: 2.489134608839246\n",
      "\u001b[34m\u001b[1mwandb\u001b[0m: \tah1: 0.7165397909487287\n",
      "\u001b[34m\u001b[1mwandb\u001b[0m: \tbh0: 1.0669067894216633\n",
      "\u001b[34m\u001b[1mwandb\u001b[0m: \tbh1: 1.2097915059309416\n",
      "\u001b[34m\u001b[1mwandb\u001b[0m: \tc: 0.6572903499509779\n"
     ]
    },
    {
     "data": {
      "text/html": [
       "wandb version 0.19.11 is available!  To upgrade, please run:\n",
       " $ pip install wandb --upgrade"
      ],
      "text/plain": [
       "<IPython.core.display.HTML object>"
      ]
     },
     "metadata": {},
     "output_type": "display_data"
    },
    {
     "data": {
      "text/html": [
       "Tracking run with wandb version 0.17.4"
      ],
      "text/plain": [
       "<IPython.core.display.HTML object>"
      ]
     },
     "metadata": {},
     "output_type": "display_data"
    },
    {
     "data": {
      "text/html": [
       "Run data is saved locally in <code>/12tb_dsk3/SEIR_model/src/wandb/run-20250528_190523-wcs43d8s</code>"
      ],
      "text/plain": [
       "<IPython.core.display.HTML object>"
      ]
     },
     "metadata": {},
     "output_type": "display_data"
    },
    {
     "data": {
      "text/html": [
       "Syncing run <strong><a href='https://wandb.ai/danish2562022/sweeps-SEIR_kalmar_bleking/runs/wcs43d8s' target=\"_blank\">usual-sweep-105</a></strong> to <a href='https://wandb.ai/danish2562022/sweeps-SEIR_kalmar_bleking' target=\"_blank\">Weights & Biases</a> (<a href='https://wandb.me/run' target=\"_blank\">docs</a>)<br/>Sweep page: <a href='https://wandb.ai/danish2562022/sweeps-SEIR_kalmar_bleking/sweeps/za0efz19' target=\"_blank\">https://wandb.ai/danish2562022/sweeps-SEIR_kalmar_bleking/sweeps/za0efz19</a>"
      ],
      "text/plain": [
       "<IPython.core.display.HTML object>"
      ]
     },
     "metadata": {},
     "output_type": "display_data"
    },
    {
     "data": {
      "text/html": [
       " View project at <a href='https://wandb.ai/danish2562022/sweeps-SEIR_kalmar_bleking' target=\"_blank\">https://wandb.ai/danish2562022/sweeps-SEIR_kalmar_bleking</a>"
      ],
      "text/plain": [
       "<IPython.core.display.HTML object>"
      ]
     },
     "metadata": {},
     "output_type": "display_data"
    },
    {
     "data": {
      "text/html": [
       " View sweep at <a href='https://wandb.ai/danish2562022/sweeps-SEIR_kalmar_bleking/sweeps/za0efz19' target=\"_blank\">https://wandb.ai/danish2562022/sweeps-SEIR_kalmar_bleking/sweeps/za0efz19</a>"
      ],
      "text/plain": [
       "<IPython.core.display.HTML object>"
      ]
     },
     "metadata": {},
     "output_type": "display_data"
    },
    {
     "data": {
      "text/html": [
       " View run at <a href='https://wandb.ai/danish2562022/sweeps-SEIR_kalmar_bleking/runs/wcs43d8s' target=\"_blank\">https://wandb.ai/danish2562022/sweeps-SEIR_kalmar_bleking/runs/wcs43d8s</a>"
      ],
      "text/plain": [
       "<IPython.core.display.HTML object>"
      ]
     },
     "metadata": {},
     "output_type": "display_data"
    },
    {
     "data": {
      "application/vnd.jupyter.widget-view+json": {
       "model_id": "fbd1e39c71ca4085aa4f61d0839d71fe",
       "version_major": 2,
       "version_minor": 0
      },
      "text/plain": [
       "VBox(children=(Label(value='0.021 MB of 0.021 MB uploaded\\r'), FloatProgress(value=1.0, max=1.0)))"
      ]
     },
     "metadata": {},
     "output_type": "display_data"
    },
    {
     "data": {
      "text/html": [
       "<style>\n",
       "    table.wandb td:nth-child(1) { padding: 0 10px; text-align: left ; width: auto;} td:nth-child(2) {text-align: left ; width: 100%}\n",
       "    .wandb-row { display: flex; flex-direction: row; flex-wrap: wrap; justify-content: flex-start; width: 100% }\n",
       "    .wandb-col { display: flex; flex-direction: column; flex-basis: 100%; flex: 1; padding: 10px; }\n",
       "    </style>\n",
       "<div class=\"wandb-row\"><div class=\"wandb-col\"><h3>Run history:</h3><br/><table class=\"wandb\"><tr><td>CV_RMSE</td><td>▁</td></tr><tr><td>CV_RMSE_'Kalmar</td><td>▁</td></tr><tr><td>CV_RMSE_Blekinge</td><td>▁</td></tr><tr><td>RMSE</td><td>▁</td></tr><tr><td>RMSE_Blekinge</td><td>▁</td></tr><tr><td>RMSE_Kalmar</td><td>▁</td></tr></table><br/></div><div class=\"wandb-col\"><h3>Run summary:</h3><br/><table class=\"wandb\"><tr><td>CV_RMSE</td><td>2447.45396</td></tr><tr><td>CV_RMSE_'Kalmar</td><td>1298.95303</td></tr><tr><td>CV_RMSE_Blekinge</td><td>1148.50093</td></tr><tr><td>RMSE</td><td>185.78008</td></tr><tr><td>RMSE_Blekinge</td><td>51.55493</td></tr><tr><td>RMSE_Kalmar</td><td>134.22515</td></tr></table><br/></div></div>"
      ],
      "text/plain": [
       "<IPython.core.display.HTML object>"
      ]
     },
     "metadata": {},
     "output_type": "display_data"
    },
    {
     "data": {
      "text/html": [
       " View run <strong style=\"color:#cdcd00\">usual-sweep-105</strong> at: <a href='https://wandb.ai/danish2562022/sweeps-SEIR_kalmar_bleking/runs/wcs43d8s' target=\"_blank\">https://wandb.ai/danish2562022/sweeps-SEIR_kalmar_bleking/runs/wcs43d8s</a><br/> View project at: <a href='https://wandb.ai/danish2562022/sweeps-SEIR_kalmar_bleking' target=\"_blank\">https://wandb.ai/danish2562022/sweeps-SEIR_kalmar_bleking</a><br/>Synced 5 W&B file(s), 0 media file(s), 0 artifact file(s) and 0 other file(s)"
      ],
      "text/plain": [
       "<IPython.core.display.HTML object>"
      ]
     },
     "metadata": {},
     "output_type": "display_data"
    },
    {
     "data": {
      "text/html": [
       "Find logs at: <code>./wandb/run-20250528_190523-wcs43d8s/logs</code>"
      ],
      "text/plain": [
       "<IPython.core.display.HTML object>"
      ]
     },
     "metadata": {},
     "output_type": "display_data"
    },
    {
     "data": {
      "text/html": [
       "The new W&B backend becomes opt-out in version 0.18.0; try it out with `wandb.require(\"core\")`! See https://wandb.me/wandb-core for more information."
      ],
      "text/plain": [
       "<IPython.core.display.HTML object>"
      ]
     },
     "metadata": {},
     "output_type": "display_data"
    },
    {
     "name": "stderr",
     "output_type": "stream",
     "text": [
      "\u001b[34m\u001b[1mwandb\u001b[0m: Agent Starting Run: xuh3crw9 with config:\n",
      "\u001b[34m\u001b[1mwandb\u001b[0m: \tah0: 0.7922307187690998\n",
      "\u001b[34m\u001b[1mwandb\u001b[0m: \tah1: 0.20087106438708344\n",
      "\u001b[34m\u001b[1mwandb\u001b[0m: \tbh0: 9.68201935805163\n",
      "\u001b[34m\u001b[1mwandb\u001b[0m: \tbh1: 2.9068767119301917\n",
      "\u001b[34m\u001b[1mwandb\u001b[0m: \tc: 0.045055197058055385\n"
     ]
    },
    {
     "data": {
      "text/html": [
       "wandb version 0.19.11 is available!  To upgrade, please run:\n",
       " $ pip install wandb --upgrade"
      ],
      "text/plain": [
       "<IPython.core.display.HTML object>"
      ]
     },
     "metadata": {},
     "output_type": "display_data"
    },
    {
     "data": {
      "text/html": [
       "Tracking run with wandb version 0.17.4"
      ],
      "text/plain": [
       "<IPython.core.display.HTML object>"
      ]
     },
     "metadata": {},
     "output_type": "display_data"
    },
    {
     "data": {
      "text/html": [
       "Run data is saved locally in <code>/12tb_dsk3/SEIR_model/src/wandb/run-20250528_190534-xuh3crw9</code>"
      ],
      "text/plain": [
       "<IPython.core.display.HTML object>"
      ]
     },
     "metadata": {},
     "output_type": "display_data"
    },
    {
     "data": {
      "text/html": [
       "Syncing run <strong><a href='https://wandb.ai/danish2562022/sweeps-SEIR_kalmar_bleking/runs/xuh3crw9' target=\"_blank\">glorious-sweep-106</a></strong> to <a href='https://wandb.ai/danish2562022/sweeps-SEIR_kalmar_bleking' target=\"_blank\">Weights & Biases</a> (<a href='https://wandb.me/run' target=\"_blank\">docs</a>)<br/>Sweep page: <a href='https://wandb.ai/danish2562022/sweeps-SEIR_kalmar_bleking/sweeps/za0efz19' target=\"_blank\">https://wandb.ai/danish2562022/sweeps-SEIR_kalmar_bleking/sweeps/za0efz19</a>"
      ],
      "text/plain": [
       "<IPython.core.display.HTML object>"
      ]
     },
     "metadata": {},
     "output_type": "display_data"
    },
    {
     "data": {
      "text/html": [
       " View project at <a href='https://wandb.ai/danish2562022/sweeps-SEIR_kalmar_bleking' target=\"_blank\">https://wandb.ai/danish2562022/sweeps-SEIR_kalmar_bleking</a>"
      ],
      "text/plain": [
       "<IPython.core.display.HTML object>"
      ]
     },
     "metadata": {},
     "output_type": "display_data"
    },
    {
     "data": {
      "text/html": [
       " View sweep at <a href='https://wandb.ai/danish2562022/sweeps-SEIR_kalmar_bleking/sweeps/za0efz19' target=\"_blank\">https://wandb.ai/danish2562022/sweeps-SEIR_kalmar_bleking/sweeps/za0efz19</a>"
      ],
      "text/plain": [
       "<IPython.core.display.HTML object>"
      ]
     },
     "metadata": {},
     "output_type": "display_data"
    },
    {
     "data": {
      "text/html": [
       " View run at <a href='https://wandb.ai/danish2562022/sweeps-SEIR_kalmar_bleking/runs/xuh3crw9' target=\"_blank\">https://wandb.ai/danish2562022/sweeps-SEIR_kalmar_bleking/runs/xuh3crw9</a>"
      ],
      "text/plain": [
       "<IPython.core.display.HTML object>"
      ]
     },
     "metadata": {},
     "output_type": "display_data"
    },
    {
     "data": {
      "application/vnd.jupyter.widget-view+json": {
       "model_id": "ecd669e471dc414cb6c69fcfba59bd82",
       "version_major": 2,
       "version_minor": 0
      },
      "text/plain": [
       "VBox(children=(Label(value='0.021 MB of 0.021 MB uploaded\\r'), FloatProgress(value=1.0, max=1.0)))"
      ]
     },
     "metadata": {},
     "output_type": "display_data"
    },
    {
     "data": {
      "text/html": [
       "<style>\n",
       "    table.wandb td:nth-child(1) { padding: 0 10px; text-align: left ; width: auto;} td:nth-child(2) {text-align: left ; width: 100%}\n",
       "    .wandb-row { display: flex; flex-direction: row; flex-wrap: wrap; justify-content: flex-start; width: 100% }\n",
       "    .wandb-col { display: flex; flex-direction: column; flex-basis: 100%; flex: 1; padding: 10px; }\n",
       "    </style>\n",
       "<div class=\"wandb-row\"><div class=\"wandb-col\"><h3>Run history:</h3><br/><table class=\"wandb\"><tr><td>CV_RMSE</td><td>▁</td></tr><tr><td>CV_RMSE_'Kalmar</td><td>▁</td></tr><tr><td>CV_RMSE_Blekinge</td><td>▁</td></tr><tr><td>RMSE</td><td>▁</td></tr><tr><td>RMSE_Blekinge</td><td>▁</td></tr><tr><td>RMSE_Kalmar</td><td>▁</td></tr></table><br/></div><div class=\"wandb-col\"><h3>Run summary:</h3><br/><table class=\"wandb\"><tr><td>CV_RMSE</td><td>306.8953</td></tr><tr><td>CV_RMSE_'Kalmar</td><td>144.95611</td></tr><tr><td>CV_RMSE_Blekinge</td><td>161.93919</td></tr><tr><td>RMSE</td><td>22.24807</td></tr><tr><td>RMSE_Blekinge</td><td>7.26927</td></tr><tr><td>RMSE_Kalmar</td><td>14.9788</td></tr></table><br/></div></div>"
      ],
      "text/plain": [
       "<IPython.core.display.HTML object>"
      ]
     },
     "metadata": {},
     "output_type": "display_data"
    },
    {
     "data": {
      "text/html": [
       " View run <strong style=\"color:#cdcd00\">glorious-sweep-106</strong> at: <a href='https://wandb.ai/danish2562022/sweeps-SEIR_kalmar_bleking/runs/xuh3crw9' target=\"_blank\">https://wandb.ai/danish2562022/sweeps-SEIR_kalmar_bleking/runs/xuh3crw9</a><br/> View project at: <a href='https://wandb.ai/danish2562022/sweeps-SEIR_kalmar_bleking' target=\"_blank\">https://wandb.ai/danish2562022/sweeps-SEIR_kalmar_bleking</a><br/>Synced 5 W&B file(s), 0 media file(s), 0 artifact file(s) and 0 other file(s)"
      ],
      "text/plain": [
       "<IPython.core.display.HTML object>"
      ]
     },
     "metadata": {},
     "output_type": "display_data"
    },
    {
     "data": {
      "text/html": [
       "Find logs at: <code>./wandb/run-20250528_190534-xuh3crw9/logs</code>"
      ],
      "text/plain": [
       "<IPython.core.display.HTML object>"
      ]
     },
     "metadata": {},
     "output_type": "display_data"
    },
    {
     "data": {
      "text/html": [
       "The new W&B backend becomes opt-out in version 0.18.0; try it out with `wandb.require(\"core\")`! See https://wandb.me/wandb-core for more information."
      ],
      "text/plain": [
       "<IPython.core.display.HTML object>"
      ]
     },
     "metadata": {},
     "output_type": "display_data"
    }
   ],
   "source": [
    "wandb.agent(sweep_id,fit_model, count=10000)"
   ]
  },
  {
   "cell_type": "code",
   "execution_count": 38,
   "id": "623208ec-1337-4190-aaed-d61bcd7d416b",
   "metadata": {},
   "outputs": [
    {
     "data": {
      "text/html": [],
      "text/plain": [
       "<IPython.core.display.HTML object>"
      ]
     },
     "metadata": {},
     "output_type": "display_data"
    },
    {
     "data": {
      "text/html": [
       "Tracking run with wandb version 0.19.11"
      ],
      "text/plain": [
       "<IPython.core.display.HTML object>"
      ]
     },
     "metadata": {},
     "output_type": "display_data"
    },
    {
     "data": {
      "text/html": [
       "Run data is saved locally in <code>/Users/anwer/Desktop/SEIR_model/src/wandb/run-20250526_223237-f9yjllft</code>"
      ],
      "text/plain": [
       "<IPython.core.display.HTML object>"
      ]
     },
     "metadata": {},
     "output_type": "display_data"
    },
    {
     "data": {
      "text/html": [
       "Syncing run <strong><a href='https://wandb.ai/danish2562022/random-search-pred_inlagda/runs/f9yjllft' target=\"_blank\">random_search_run</a></strong> to <a href='https://wandb.ai/danish2562022/random-search-pred_inlagda' target=\"_blank\">Weights & Biases</a> (<a href='https://wandb.me/developer-guide' target=\"_blank\">docs</a>)<br>"
      ],
      "text/plain": [
       "<IPython.core.display.HTML object>"
      ]
     },
     "metadata": {},
     "output_type": "display_data"
    },
    {
     "data": {
      "text/html": [
       " View project at <a href='https://wandb.ai/danish2562022/random-search-pred_inlagda' target=\"_blank\">https://wandb.ai/danish2562022/random-search-pred_inlagda</a>"
      ],
      "text/plain": [
       "<IPython.core.display.HTML object>"
      ]
     },
     "metadata": {},
     "output_type": "display_data"
    },
    {
     "data": {
      "text/html": [
       " View run at <a href='https://wandb.ai/danish2562022/random-search-pred_inlagda/runs/f9yjllft' target=\"_blank\">https://wandb.ai/danish2562022/random-search-pred_inlagda/runs/f9yjllft</a>"
      ],
      "text/plain": [
       "<IPython.core.display.HTML object>"
      ]
     },
     "metadata": {},
     "output_type": "display_data"
    },
    {
     "data": {
      "text/html": [],
      "text/plain": [
       "<IPython.core.display.HTML object>"
      ]
     },
     "metadata": {},
     "output_type": "display_data"
    },
    {
     "data": {
      "text/html": [
       "<br>    <style><br>        .wandb-row {<br>            display: flex;<br>            flex-direction: row;<br>            flex-wrap: wrap;<br>            justify-content: flex-start;<br>            width: 100%;<br>        }<br>        .wandb-col {<br>            display: flex;<br>            flex-direction: column;<br>            flex-basis: 100%;<br>            flex: 1;<br>            padding: 10px;<br>        }<br>    </style><br><div class=\"wandb-row\"><div class=\"wandb-col\"><h3>Run history:</h3><br/><table class=\"wandb\"><tr><td>RMSE</td><td>▁█▇█▄▃█▇▄▄▅█▇▃██▁▁▅▇▇▅▁▅█▁▅▇▅▁█▇▅▁██▁▇▁█</td></tr><tr><td>ah0</td><td>▁▁▁▁▁████▁▁█▁▁██████▁█████▁█▁█▁▁██▁█▁▁▁█</td></tr><tr><td>ah1</td><td>▁▁▁▁██▁██▁▁██▁▁█████▁█▁██████▁▁█████▁▁▁▁</td></tr><tr><td>bh0</td><td>▁█████▁▁██▁████▁▁▁▁▁█▁▁███▁▁▁▁█▁████▁▁▁█</td></tr><tr><td>bh1</td><td>▁▁▁█▁▁███▁▁▁█▁▁███▁▁██▁█▁▁█▁▁▁███▁▁▁▁█▁█</td></tr><tr><td>c</td><td>███▁█▁▁█▁▁▁███▁██▁█▁▁█▁▁██▁▁▁█▁█████████</td></tr></table><br/></div><div class=\"wandb-col\"><h3>Run summary:</h3><br/><table class=\"wandb\"><tr><td>RMSE</td><td>2405.68111</td></tr><tr><td>ah0</td><td>0</td></tr><tr><td>ah1</td><td>0</td></tr><tr><td>bh0</td><td>10</td></tr><tr><td>bh1</td><td>10</td></tr><tr><td>c</td><td>10</td></tr></table><br/></div></div>"
      ],
      "text/plain": [
       "<IPython.core.display.HTML object>"
      ]
     },
     "metadata": {},
     "output_type": "display_data"
    },
    {
     "data": {
      "text/html": [
       " View run <strong style=\"color:#cdcd00\">random_search_run</strong> at: <a href='https://wandb.ai/danish2562022/random-search-pred_inlagda/runs/f9yjllft' target=\"_blank\">https://wandb.ai/danish2562022/random-search-pred_inlagda/runs/f9yjllft</a><br> View project at: <a href='https://wandb.ai/danish2562022/random-search-pred_inlagda' target=\"_blank\">https://wandb.ai/danish2562022/random-search-pred_inlagda</a><br>Synced 5 W&B file(s), 0 media file(s), 0 artifact file(s) and 0 other file(s)"
      ],
      "text/plain": [
       "<IPython.core.display.HTML object>"
      ]
     },
     "metadata": {},
     "output_type": "display_data"
    },
    {
     "data": {
      "text/html": [
       "Find logs at: <code>./wandb/run-20250526_223237-f9yjllft/logs</code>"
      ],
      "text/plain": [
       "<IPython.core.display.HTML object>"
      ]
     },
     "metadata": {},
     "output_type": "display_data"
    }
   ],
   "source": [
    "import wandb\n",
    "import numpy as np\n",
    "import random\n",
    "\n",
    "# Initialize wandb project\n",
    "wandb.init(project=\"random-search-pred_inlagda\", name=\"random_search_run\", config={})\n",
    "\n",
    "# Define ranges of hyperparameters for sampling\n",
    "param_space = {\n",
    "    \"ah0\": [0, 10],\n",
    "    \"bh0\": [0, 10],\n",
    "    \"ah1\": [0, 10],\n",
    "    \"bh1\": [0, 10],\n",
    "    \"c\":   [0, 10]\n",
    "}\n",
    "\n",
    "# Number of random trials\n",
    "n_trials = 500\n",
    "\n",
    "# Random search loop\n",
    "for _ in range(n_trials):\n",
    "    # Randomly sample one value for each hyperparameter\n",
    "    params = {key: random.choice(values) for key, values in param_space.items()}\n",
    "    \n",
    "    # Run model\n",
    "    P = pred_inlagda(weeks_train, params[\"ah0\"], params[\"bh0\"], params[\"ah1\"], params[\"bh1\"], params[\"c\"], delay)\n",
    "    CV_RMSE_1 = return_CV_RMSE(P[:,0], I_train[0])\n",
    "    CV_RMSE_2 = return_CV_RMSE(P[:,1], I_train[1])\n",
    "    CV_RMSE = CV_RMSE_1 + CV_RMSE_2    \n",
    "\n",
    "    CV_RMSE_1 = return_CV_RMSE(P[:,0], I_train[0])\n",
    "    CV_RMSE_2 = return_CV_RMSE(P[:,1], I_train[1])\n",
    "    CV_RMSE = CV_RMSE_1 + CV_RMSE_2  \n",
    "    \n",
    "    # Log to wandb\n",
    "    wandb.log({\n",
    "        **params,\n",
    "        \"CV_RMSE\": CV_RMSE\n",
    "        \"RMSE\": RMSE\n",
    "    })\n",
    "\n",
    "# Finish wandb run\n",
    "wandb.finish()\n"
   ]
  },
  {
   "cell_type": "code",
   "execution_count": 17,
   "id": "5eba30a4-ffa2-4e19-b434-f72fcb90d6f6",
   "metadata": {},
   "outputs": [
    {
     "name": "stdout",
     "output_type": "stream",
     "text": [
      "(array([0]), array([1]), array([1]), array([0]), array([1]))\n",
      "(array([0]), array([1]), array([1]), array([0]), array([1]))\n",
      "[3.] [7.] [6.5] [4.] [0.1]\n",
      "[3.] [7.] [6.5] [4.] [0.1]\n",
      "Minimum RMSE:  [277.95568688]\n",
      "Minimum CV-RMSE:  [98.99490233]\n"
     ]
    }
   ],
   "source": [
    "optind0 = np.where(E_rmse0 == np.amin(E_rmse0))\n",
    "optind0_cv = np.where(E_cv_rmse0 == np.amin(E_cv_rmse0))\n",
    "a0fitE0 = ah0[optind0[0]]\n",
    "b0fitE0 = bh0[optind0[1]]\n",
    "a1fitE0 = ah1[optind0[2]]\n",
    "b1fitE0 = bh1[optind0[3]]\n",
    "cfitE0  =   c[optind0[4]]\n",
    "a0fitE0_cv = ah0[optind0_cv[0]]\n",
    "b0fitE0_cv = bh0[optind0_cv[1]]\n",
    "a1fitE0_cv = ah1[optind0_cv[2]]\n",
    "b1fitE0_cv = bh1[optind0_cv[3]]\n",
    "cfitE0_cv  =   c[optind0_cv[4]]\n",
    "print(optind0)\n",
    "print(optind0_cv)\n",
    "print(a0fitE0, b0fitE0, a1fitE0, b1fitE0, cfitE0)\n",
    "print(a0fitE0_cv, b0fitE0_cv, a1fitE0_cv, b1fitE0_cv, cfitE0_cv)\n",
    "print(\"Minimum RMSE: \",E_rmse0[optind0])\n",
    "print(\"Minimum CV-RMSE: \",E_cv_rmse0[optind0_cv])"
   ]
  },
  {
   "cell_type": "code",
   "execution_count": 18,
   "id": "36359673-d394-471e-a1f7-ca23c7d9e60d",
   "metadata": {},
   "outputs": [
    {
     "name": "stdout",
     "output_type": "stream",
     "text": [
      "(array([1]), array([0]), array([0]), array([1]), array([1]))\n",
      "(array([1]), array([0]), array([0]), array([1]), array([1]))\n",
      "[6.5] [4.] [3.] [7.] [0.1]\n",
      "[6.5] [4.] [3.] [7.] [0.1]\n",
      "Minimum RMSE:  [24.14298631]\n",
      "Minimum CV-RMSE:  [88.68852113]\n"
     ]
    }
   ],
   "source": [
    "optind1 = np.where(E_rmse1 == np.amin(E_rmse1))\n",
    "optind1_cv = np.where(E_cv_rmse1 == np.amin(E_cv_rmse1))\n",
    "a0fitE1 = ah0[optind1[0]]\n",
    "b0fitE1 = bh0[optind1[1]]\n",
    "a1fitE1 = ah1[optind1[2]]\n",
    "b1fitE1 = bh1[optind1[3]]\n",
    "cfitE1  =   c[optind1[4]]\n",
    "a0fitE1_cv = ah0[optind1_cv[0]]\n",
    "b0fitE1_cv = bh0[optind1_cv[1]]\n",
    "a1fitE1_cv = ah1[optind1_cv[2]]\n",
    "b1fitE1_cv = bh1[optind1_cv[3]]\n",
    "cfitE1_cv  =   c[optind1_cv[4]]\n",
    "print(optind1)\n",
    "print(optind1_cv)\n",
    "print(a0fitE1, b0fitE1, a1fitE1, b1fitE1, cfitE1)\n",
    "print(a0fitE1_cv, b0fitE1_cv, a1fitE1_cv, b1fitE1_cv, cfitE1_cv)\n",
    "print(\"Minimum RMSE: \",E_rmse1[optind1])\n",
    "print(\"Minimum CV-RMSE: \",E_cv_rmse1[optind1_cv])"
   ]
  },
  {
   "cell_type": "code",
   "execution_count": 19,
   "id": "c516120c-96a5-448f-96c0-e127cdd9810f",
   "metadata": {},
   "outputs": [
    {
     "name": "stdout",
     "output_type": "stream",
     "text": [
      "(array([0]), array([0]), array([0]), array([2]), array([1]))\n",
      "(array([0]), array([0]), array([0]), array([2]), array([1]))\n",
      "[3.] [4.] [3.] [10.] [0.1]\n",
      "[3.] [4.] [3.] [10.] [0.1]\n",
      "Minimum RMSE:  [382.78615013]\n",
      "Minimum CV-RMSE:  [236.28067995]\n"
     ]
    }
   ],
   "source": [
    "E_rmse = E_rmse0 + E_rmse1\n",
    "E_cv_rmse = E_cv_rmse0 + E_cv_rmse1\n",
    "optind = np.where(E_rmse == np.amin(E_rmse))\n",
    "optind_cv = np.where(E_cv_rmse == np.amin(E_cv_rmse))\n",
    "a0fitE = ah0[optind[0]]\n",
    "b0fitE = bh0[optind[1]]\n",
    "a1fitE = ah1[optind[2]]\n",
    "b1fitE = bh1[optind[3]]\n",
    "cfitE  =   c[optind[4]]\n",
    "a0fitE_cv = ah0[optind_cv[0]]\n",
    "b0fitE_cv = bh0[optind_cv[1]]\n",
    "a1fitE_cv = ah1[optind_cv[2]]\n",
    "b1fitE_cv = bh1[optind_cv[3]]\n",
    "cfitE_cv  =   c[optind_cv[4]]\n",
    "print(optind)\n",
    "print(optind_cv)\n",
    "print(a0fitE, b0fitE, a1fitE, b1fitE, cfitE)\n",
    "print(a0fitE_cv, b0fitE_cv, a1fitE_cv, b1fitE_cv, cfitE_cv)\n",
    "print(\"Minimum RMSE: \",E_rmse[optind])\n",
    "print(\"Minimum CV-RMSE: \",E_cv_rmse[optind_cv])"
   ]
  },
  {
   "cell_type": "code",
   "execution_count": 32,
   "id": "2c2c9691-90d9-4698-83ce-0ef302d16746",
   "metadata": {},
   "outputs": [
    {
     "name": "stdout",
     "output_type": "stream",
     "text": [
      "[3.]\n",
      "[[[[[0.]]]]]\n",
      "[[[[[132.07105663]]]]]\n"
     ]
    }
   ],
   "source": [
    "# Function to compute RMSE for a specific combination of hyperparameters\n",
    "def compute_rmse(i, j, k, l, m, weeks_train, ah0, bh0, ah1, bh1, c, I_train, delay):\n",
    "    P = pred_inlagda(weeks_train, ah0[i], bh0[j], ah1[k], bh1[l], c[m], delay)\n",
    "    \n",
    "    RMSE0 = return_RMSE(P[:,0], I_train[0])\n",
    "    RMSE1 = return_RMSE(P[:,1], I_train[1])\n",
    "                    \n",
    "    # Store the results in the arrays (instead of RMSE)\n",
    "    E_rmse0[i,j,k,l,m] = RMSE0\n",
    "    E_rmse1[i,j,k,l,m] = RMSE1 \n",
    "\n",
    "    # Calculate the Coefficient of Variation of RMSE (CV-RMSE)\n",
    "    CV_RMSE0 = return_CV_RMSE(P[:,0], I_train[0])\n",
    "    CV_RMSE1 = return_CV_RMSE(P[:,1], I_train[1])\n",
    "                                        \n",
    "    # Store the results in the arrays (instead of cv-rmse)\n",
    "    E_cv_rmse0[i, j, k, l, m] = CV_RMSE0\n",
    "    E_cv_rmse1[i, j, k, l, m] = CV_RMSE1\n",
    "    return (i, j, k, l, m, RMSE0, RMSE1, CV_RMSE0, CV_RMSE1)\n",
    "print(ah0)\n",
    "print(E_cv_rmse0)\n",
    "compute_rmse(0,0,0,0,0, weeks_train, ah0, bh0, ah1, bh1, c, I_train, delay) \n",
    "print(E_cv_rmse0)"
   ]
  },
  {
   "cell_type": "code",
   "execution_count": 33,
   "id": "c1045c78-001d-4dec-a718-6f46e4b76b7f",
   "metadata": {},
   "outputs": [
    {
     "name": "stderr",
     "output_type": "stream",
     "text": [
      "100%|████████████████████████████████████████████| 1/1 [00:00<00:00, 129.15it/s]\n",
      "0it [00:00, ?it/s]Process SpawnProcess-19:\n",
      "Traceback (most recent call last):\n",
      "  File \"/Library/Frameworks/Python.framework/Versions/3.12/lib/python3.12/multiprocessing/process.py\", line 314, in _bootstrap\n",
      "    self.run()\n",
      "  File \"/Library/Frameworks/Python.framework/Versions/3.12/lib/python3.12/multiprocessing/process.py\", line 108, in run\n",
      "    self._target(*self._args, **self._kwargs)\n",
      "  File \"/Library/Frameworks/Python.framework/Versions/3.12/lib/python3.12/concurrent/futures/process.py\", line 251, in _process_worker\n",
      "    call_item = call_queue.get(block=True)\n",
      "                ^^^^^^^^^^^^^^^^^^^^^^^^^^\n",
      "  File \"/Library/Frameworks/Python.framework/Versions/3.12/lib/python3.12/multiprocessing/queues.py\", line 122, in get\n",
      "    return _ForkingPickler.loads(res)\n",
      "           ^^^^^^^^^^^^^^^^^^^^^^^^^^\n",
      "AttributeError: Can't get attribute 'compute_rmse' on <module '__main__' (<class '_frozen_importlib.BuiltinImporter'>)>\n",
      "0it [00:00, ?it/s]\n"
     ]
    },
    {
     "ename": "BrokenProcessPool",
     "evalue": "A process in the process pool was terminated abruptly while the future was running or pending.",
     "output_type": "error",
     "traceback": [
      "\u001b[31m---------------------------------------------------------------------------\u001b[39m",
      "\u001b[31mBrokenProcessPool\u001b[39m                         Traceback (most recent call last)",
      "\u001b[36mCell\u001b[39m\u001b[36m \u001b[39m\u001b[32mIn[33]\u001b[39m\u001b[32m, line 53\u001b[39m\n\u001b[32m     50\u001b[39m             E_cv_rmse1[i, j, k, l, m] = CV_RMSE1\n\u001b[32m     52\u001b[39m \u001b[38;5;28;01mif\u001b[39;00m \u001b[34m__name__\u001b[39m == \u001b[33m\"\u001b[39m\u001b[33m__main__\u001b[39m\u001b[33m\"\u001b[39m:\n\u001b[32m---> \u001b[39m\u001b[32m53\u001b[39m     \u001b[43mparallel_search\u001b[49m\u001b[43m(\u001b[49m\u001b[43mn\u001b[49m\u001b[43m,\u001b[49m\u001b[43m \u001b[49m\u001b[43mweeks_train\u001b[49m\u001b[43m,\u001b[49m\u001b[43m \u001b[49m\u001b[43mah0\u001b[49m\u001b[43m,\u001b[49m\u001b[43m \u001b[49m\u001b[43mbh0\u001b[49m\u001b[43m,\u001b[49m\u001b[43m \u001b[49m\u001b[43mah1\u001b[49m\u001b[43m,\u001b[49m\u001b[43m \u001b[49m\u001b[43mbh1\u001b[49m\u001b[43m,\u001b[49m\u001b[43m \u001b[49m\u001b[43mc\u001b[49m\u001b[43m,\u001b[49m\u001b[43m \u001b[49m\u001b[43mI_train\u001b[49m\u001b[43m,\u001b[49m\u001b[43m \u001b[49m\u001b[43mdelay\u001b[49m\u001b[43m)\u001b[49m\n",
      "\u001b[36mCell\u001b[39m\u001b[36m \u001b[39m\u001b[32mIn[33]\u001b[39m\u001b[32m, line 46\u001b[39m, in \u001b[36mparallel_search\u001b[39m\u001b[34m(n, weeks_train, ah0, bh0, ah1, bh1, c, I_train, delay)\u001b[39m\n\u001b[32m     44\u001b[39m \u001b[38;5;66;03m# Collect results from the completed futures\u001b[39;00m\n\u001b[32m     45\u001b[39m \u001b[38;5;28;01mfor\u001b[39;00m future \u001b[38;5;129;01min\u001b[39;00m tqdm(as_completed(futures)):\n\u001b[32m---> \u001b[39m\u001b[32m46\u001b[39m     i, j, k, l, m, RMSE0, RMSE1, CV_RMSE0, CV_RMSE1 = \u001b[43mfuture\u001b[49m\u001b[43m.\u001b[49m\u001b[43mresult\u001b[49m\u001b[43m(\u001b[49m\u001b[43m)\u001b[49m\n\u001b[32m     47\u001b[39m     E_rmse0[i, j, k, l, m] = RMSE0\n\u001b[32m     48\u001b[39m     E_rmse1[i, j, k, l, m] = RMSE1\n",
      "\u001b[36mFile \u001b[39m\u001b[32m/Library/Frameworks/Python.framework/Versions/3.12/lib/python3.12/concurrent/futures/_base.py:449\u001b[39m, in \u001b[36mFuture.result\u001b[39m\u001b[34m(self, timeout)\u001b[39m\n\u001b[32m    447\u001b[39m     \u001b[38;5;28;01mraise\u001b[39;00m CancelledError()\n\u001b[32m    448\u001b[39m \u001b[38;5;28;01melif\u001b[39;00m \u001b[38;5;28mself\u001b[39m._state == FINISHED:\n\u001b[32m--> \u001b[39m\u001b[32m449\u001b[39m     \u001b[38;5;28;01mreturn\u001b[39;00m \u001b[38;5;28;43mself\u001b[39;49m\u001b[43m.\u001b[49m\u001b[43m__get_result\u001b[49m\u001b[43m(\u001b[49m\u001b[43m)\u001b[49m\n\u001b[32m    451\u001b[39m \u001b[38;5;28mself\u001b[39m._condition.wait(timeout)\n\u001b[32m    453\u001b[39m \u001b[38;5;28;01mif\u001b[39;00m \u001b[38;5;28mself\u001b[39m._state \u001b[38;5;129;01min\u001b[39;00m [CANCELLED, CANCELLED_AND_NOTIFIED]:\n",
      "\u001b[36mFile \u001b[39m\u001b[32m/Library/Frameworks/Python.framework/Versions/3.12/lib/python3.12/concurrent/futures/_base.py:401\u001b[39m, in \u001b[36mFuture.__get_result\u001b[39m\u001b[34m(self)\u001b[39m\n\u001b[32m    399\u001b[39m \u001b[38;5;28;01mif\u001b[39;00m \u001b[38;5;28mself\u001b[39m._exception:\n\u001b[32m    400\u001b[39m     \u001b[38;5;28;01mtry\u001b[39;00m:\n\u001b[32m--> \u001b[39m\u001b[32m401\u001b[39m         \u001b[38;5;28;01mraise\u001b[39;00m \u001b[38;5;28mself\u001b[39m._exception\n\u001b[32m    402\u001b[39m     \u001b[38;5;28;01mfinally\u001b[39;00m:\n\u001b[32m    403\u001b[39m         \u001b[38;5;66;03m# Break a reference cycle with the exception in self._exception\u001b[39;00m\n\u001b[32m    404\u001b[39m         \u001b[38;5;28mself\u001b[39m = \u001b[38;5;28;01mNone\u001b[39;00m\n",
      "\u001b[31mBrokenProcessPool\u001b[39m: A process in the process pool was terminated abruptly while the future was running or pending."
     ]
    }
   ],
   "source": [
    "from tqdm import tqdm\n",
    "import numpy as np\n",
    "from concurrent.futures import ProcessPoolExecutor, as_completed\n",
    "\n",
    "\n",
    "namn_list = ['Sthlm', 'Södermanland']\n",
    "transit_fkn_dct = loadMobility_list(namn_list, starting_week) \n",
    "getData_dict = getData_list(namn_list, first_case)\n",
    "\n",
    "I_train = [getData_dict[namn_list[0]]['I'],\n",
    "           getData_dict[namn_list[1]]['I']]\n",
    "weeks_train = getData_dict[namn_list[0]]['veckor']\n",
    "\n",
    "n = 1\n",
    "ah0 = np.linspace(3, 10, n)\n",
    "bh0 = np.linspace(4, 10, n)\n",
    "ah1 = np.linspace(3, 10, n)\n",
    "bh1 = np.linspace(4, 10, n)\n",
    "c =   np.linspace(0, 0.2, n)\n",
    "\n",
    "\n",
    "E_rmse0 = np.zeros((len(ah0), len(bh0), len(ah0), len(bh0), len(c)))\n",
    "E_rmse1 = np.zeros((len(ah0), len(bh0), len(ah0), len(bh0), len(c)))\n",
    "\n",
    "E_cv_rmse0 = np.zeros((len(ah0), len(bh0), len(ah0), len(bh0), len(c)))\n",
    "E_cv_rmse1 = np.zeros((len(ah0), len(bh0), len(ah0), len(bh0), len(c)))\n",
    "\n",
    "\n",
    "\n",
    "# Parallel processing function\n",
    "def parallel_search(n, weeks_train, ah0, bh0, ah1, bh1, c, I_train, delay):\n",
    "    # Store futures to track processing\n",
    "    futures = []\n",
    "    with ProcessPoolExecutor() as executor:\n",
    "        # Loop through all combinations of i, j, k, l, m\n",
    "        for i in tqdm(range(n)):\n",
    "            for j in range(n):\n",
    "                for k in range(n):\n",
    "                    for l in range(n):\n",
    "                        for m in range(n):\n",
    "                            # Submit the task to the executor\n",
    "                            futures.append(executor.submit(compute_rmse, i, j, k, l, m, weeks_train, ah0, bh0, ah1, bh1, c, I_train, delay))\n",
    "\n",
    "        # Collect results from the completed futures\n",
    "        for future in tqdm(as_completed(futures)):\n",
    "            i, j, k, l, m, RMSE0, RMSE1, CV_RMSE0, CV_RMSE1 = future.result()\n",
    "            E_rmse0[i, j, k, l, m] = RMSE0\n",
    "            E_rmse1[i, j, k, l, m] = RMSE1\n",
    "            E_cv_rmse0[i, j, k, l, m] = CV_RMSE0 \n",
    "            E_cv_rmse1[i, j, k, l, m] = CV_RMSE1\n",
    "\n",
    "if __name__ == \"__main__\":\n",
    "    parallel_search(n, weeks_train, ah0, bh0, ah1, bh1, c, I_train, delay)"
   ]
  },
  {
   "cell_type": "code",
   "execution_count": 79,
   "id": "4ebc10d9-a558-45cf-b26a-164ad8ce5bc4",
   "metadata": {},
   "outputs": [
    {
     "name": "stderr",
     "output_type": "stream",
     "text": [
      "100%|█████████████████████████████████████████████| 2/2 [00:00<00:00, 37.31it/s]\n",
      "32it [00:01, 17.71it/s]\n"
     ]
    },
    {
     "name": "stdout",
     "output_type": "stream",
     "text": [
      "[[[[[[ 132.07105663  266.89954043]\n",
      "     [ 132.07105519  145.07097686]]\n",
      "\n",
      "    [[ 132.07105629  411.52357819]\n",
      "     [ 132.07105518  455.23390166]]]\n",
      "\n",
      "\n",
      "   [[[ 141.46444834  140.26920471]\n",
      "     [ 141.46444834  135.79792599]]\n",
      "\n",
      "    [[ 141.46444839  346.38533447]\n",
      "     [ 141.46444839  421.31853227]]]]\n",
      "\n",
      "\n",
      "\n",
      "  [[[[ 985.51989585  991.11978118]\n",
      "     [ 985.51989369  992.18490846]]\n",
      "\n",
      "    [[ 985.51989504 1012.33768634]\n",
      "     [ 985.51989007 1016.40540828]]]\n",
      "\n",
      "\n",
      "   [[[1019.21401546 1020.8075171 ]\n",
      "     [1019.21401522 1021.03856189]]\n",
      "\n",
      "    [[1019.2140211  1027.49564889]\n",
      "     [1019.21402096 1031.33656187]]]]]\n",
      "\n",
      "\n",
      "\n",
      "\n",
      " [[[[[ 449.8093266   451.33122435]\n",
      "     [ 121.48130424  135.77557414]]\n",
      "\n",
      "    [[1333.1332519  1333.46565732]\n",
      "     [1377.95386763 1378.21970564]]]\n",
      "\n",
      "\n",
      "   [[[ 449.80932262  421.8469298 ]\n",
      "     [ 121.48130432  120.18099843]]\n",
      "\n",
      "    [[1333.13325123 1333.536733  ]\n",
      "     [1377.95386741 1378.2700245 ]]]]\n",
      "\n",
      "\n",
      "\n",
      "  [[[[ 449.80933868  516.49824952]\n",
      "     [ 121.48130519  358.95960396]]\n",
      "\n",
      "    [[1333.13325437 1335.56254057]\n",
      "     [1377.95386727 1379.33251558]]]\n",
      "\n",
      "\n",
      "   [[[ 449.80931686  571.88005032]\n",
      "     [ 121.48130475  446.56146234]]\n",
      "\n",
      "    [[1333.13324743 1336.94487568]\n",
      "     [1377.95388153 1380.08469197]]]]]]\n"
     ]
    }
   ],
   "source": [
    "%run -i parallell_grid_search.py\n",
    "print(E_cv_rmse)"
   ]
  },
  {
   "cell_type": "code",
   "execution_count": 371,
   "id": "709b3c4e-764c-46b6-9654-47da126c14f8",
   "metadata": {},
   "outputs": [
    {
     "name": "stdout",
     "output_type": "stream",
     "text": [
      "Minimum RMSE:  [577.20146072]\n"
     ]
    }
   ],
   "source": [
    "optind = np.where(E_sthlm == np.amin(E_sthlm))\n",
    "afiE_sthlm = ah[optind[0]]\n",
    "bfitE_sthlm = bh[optind[1]]\n",
    "\n",
    "print(\"Minimum RMSE: \",E_sthlm[optind])\n",
    "#print(\"a=\",afiE_sthlm,\"b=\",bfit)"
   ]
  },
  {
   "cell_type": "code",
   "execution_count": null,
   "id": "76ae6182-1af3-428a-948b-132742bc234f",
   "metadata": {},
   "outputs": [],
   "source": [
    "optind = np.where(E_sthlm == np.amin(E_sthlm))\n",
    "afiE_sthlm = ah[optind[0]]\n",
    "bfitE_sthlm = bh[optind[1]]\n"
   ]
  },
  {
   "cell_type": "code",
   "execution_count": 76,
   "id": "047655c2-e29e-4443-afd3-ccd62e810432",
   "metadata": {},
   "outputs": [],
   "source": [
    "regs = pandas.read_pickle('../data/param_IC.pkl') #load initial guesses for a and b for each region\n",
    "astart = regs['a'].values\n",
    "bstart = regs['b'].values"
   ]
  },
  {
   "cell_type": "code",
   "execution_count": 66,
   "id": "f1d8280b-49ff-46e8-8a1c-af40dfc4d11c",
   "metadata": {},
   "outputs": [
    {
     "data": {
      "text/plain": [
       "range(0, 2)"
      ]
     },
     "execution_count": 66,
     "metadata": {},
     "output_type": "execute_result"
    }
   ],
   "source": [
    "range(2)"
   ]
  },
  {
   "cell_type": "code",
   "execution_count": 67,
   "id": "622fe77f-6a68-43e2-bb66-51482aa93485",
   "metadata": {},
   "outputs": [
    {
     "data": {
      "text/plain": [
       "False"
      ]
     },
     "execution_count": 67,
     "metadata": {},
     "output_type": "execute_result"
    }
   ],
   "source": [
    "i in range(2)"
   ]
  },
  {
   "cell_type": "code",
   "execution_count": 69,
   "id": "fd4fadcb-563a-43ea-af2b-0110f97a89e8",
   "metadata": {},
   "outputs": [
    {
     "name": "stdout",
     "output_type": "stream",
     "text": [
      "0\n",
      "1\n"
     ]
    }
   ],
   "source": [
    "for i in range(2):\n",
    "    print(i)"
   ]
  },
  {
   "cell_type": "code",
   "execution_count": null,
   "id": "1824bda4-63b5-410f-a9b7-ad437ed8360c",
   "metadata": {},
   "outputs": [],
   "source": []
  }
 ],
 "metadata": {
  "kernelspec": {
   "display_name": "Python 3 (ipykernel)",
   "language": "python",
   "name": "python3"
  },
  "language_info": {
   "codemirror_mode": {
    "name": "ipython",
    "version": 3
   },
   "file_extension": ".py",
   "mimetype": "text/x-python",
   "name": "python",
   "nbconvert_exporter": "python",
   "pygments_lexer": "ipython3",
   "version": "3.12.2"
  }
 },
 "nbformat": 4,
 "nbformat_minor": 5
}
