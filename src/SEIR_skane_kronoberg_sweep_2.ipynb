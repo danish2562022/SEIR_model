{
 "cells": [
  {
   "cell_type": "markdown",
   "id": "23c79c5a-0159-4b64-95dc-0e46a9da5df0",
   "metadata": {},
   "source": [
    "# Skane\n",
    "# Kronoberg\n"
   ]
  },
  {
   "cell_type": "markdown",
   "id": "1d630fbc-c84b-442b-a687-903c8cad94a7",
   "metadata": {},
   "source": [
    "![My Image](./Map-of-Sweden-showing-the-21-administrative-regions-adapted-from-SCB-2007.png)\n"
   ]
  },
  {
   "cell_type": "code",
   "execution_count": 1,
   "id": "770b1865-3c5d-4871-8891-3e428dc36a9a",
   "metadata": {},
   "outputs": [],
   "source": [
    "#importing modules\n",
    "from math import *\n",
    "import matplotlib.pyplot as plt\n",
    "plt.rcParams.update({'font.size': 21})\n",
    "import scipy.stats as stats\n",
    "from scipy.optimize import curve_fit,leastsq\n",
    "from scipy.integrate import odeint, ode\n",
    "from scipy.interpolate import interp1d\n",
    "import numpy as np\n",
    "import pandas as pd\n",
    "from scipy.interpolate import interp1d"
   ]
  },
  {
   "cell_type": "markdown",
   "id": "05f1bf5f-5620-4891-a568-e0aa34b8cafc",
   "metadata": {},
   "source": [
    "# 1. DATA preprocessing"
   ]
  },
  {
   "cell_type": "code",
   "execution_count": 2,
   "id": "1424a2eb-3de6-49f8-9721-1ce12e06b643",
   "metadata": {},
   "outputs": [],
   "source": [
    "#Parameters\n",
    "n=20\n",
    "starting_week = 10-4 #start week\n",
    "first_case = 9\n",
    "T_max = 48 #length of prediction\n",
    "pv = 0.023 #fraction of infected that are admitted\n",
    "rho = 7*1/5.1 #latency period\n",
    "gamma = 7*1/5 #recovery rate\n",
    "delay = 3 #2.5 #delay from infection to admission"
   ]
  },
  {
   "cell_type": "code",
   "execution_count": 3,
   "id": "26d9f971-4ae7-4728-9b4c-50a60696af9c",
   "metadata": {},
   "outputs": [],
   "source": [
    "file = pd.read_excel('../data/statistik-covid19-inskrivna_v2.xlsx', sheet_name = \"Inskrivna i slutenvård\")\n",
    "data = [['Sthlm',           8, 2389923, 'SE-AB',  6524],\n",
    "        ['VGR',             9, 1725881,  'SE-O', 23800],\n",
    "        ['Skåne',          10, 1387650,  'SE-M', 10968],\n",
    "        ['Östergötland',   11,  467095,  'SE-E', 10559],\n",
    "        ['Jönköping',      12,  364750,  'SE-F',  8190],\n",
    "        ['Södermanland',   13,  299101,  'SE-D', 10437],\n",
    "        ['Uppsala',        14,  387628,  'SE-C',  5427],\n",
    "        ['Gävleborg',      15,  287660,  'SE-X',  8504],\n",
    "        ['Västmanland',    16,  277074,  'SE-U',  6075],\n",
    "        ['Örebro',         17,  305726,  'SE-T', 28029],\n",
    "        ['Norrbotten',     18,  249768, 'SE-BD', 18118],\n",
    "        ['Dalarna',        19,  287806,  'SE-W', 17519],\n",
    "        ['Västernorrland', 20,  244855,  'SE-Y',  5118],\n",
    "        ['Värmland',       21,  282840,  'SE-S', 54665],\n",
    "        ['Halland',        22,  336132,  'SE-N', 97239],\n",
    "        ['Kalmar',         23,  245992,  'SE-H', 11165],\n",
    "        ['Kronoberg',      24,  202163,  'SE-G', 21549],\n",
    "        ['Västerbotten',   25,  273061,  'SE-AC', 8424],\n",
    "        ['Jämtland',       26,  130972,  'SE-Z',  2931],\n",
    "        ['Blekinge',       27,  159349,  'SE-K', 48935],\n",
    "        ['Gotland',        28,   60106,  'SE-I',  3135]] \n",
    "regions = pd.DataFrame(data, columns = ['region', 'index','population', 'regionkod', 'area']) \n",
    "regions['density'] = regions['population']/regions['area']\n",
    "first_cases = first_case*np.ones(21).astype(int) #week number when first case was recorded\n",
    "regions['first case'] = first_cases\n",
    "starting_weeks = first_cases - 3\n",
    "\n",
    "regions.drop(regions.index[[20]],inplace=True) #remove Gotland\n"
   ]
  },
  {
   "cell_type": "code",
   "execution_count": 4,
   "id": "b24dccf1-4c3f-42fb-b92c-ef1c97112b71",
   "metadata": {},
   "outputs": [],
   "source": [
    "def getData(name, first_case):\n",
    "    temp = regions.loc[regions['region'] == name] #find the right row\n",
    "    index = temp['index'].values #find the region index\n",
    "    N = temp['population'].values[0] #find population size of region\n",
    "    R = file.iloc[index[0]] \n",
    "    R = R.replace(' ', 0) #replace missing data with 0\n",
    "    R = R.replace('X', 0) \n",
    "    R = R.replace('IU', 0) \n",
    "    \n",
    "    ind = np.arange(3, len(R), 2) \n",
    "    I = R.iloc[ind].values #extract admissions\n",
    "    I = I[:-2] #remove last (incomplete) data point\n",
    "    padding = np.zeros(10 - first_case + 3) \n",
    "    I = np.insert(I, 0, padding) \n",
    "    veckor = np.arange(0, len(I), 1) #create array of week numbers\n",
    "    \n",
    "    return I,veckor,N\n",
    "\n",
    "\n",
    "#Load Google mobility data\n",
    "def loadMobility(name, starting_week):\n",
    "    df = pd.read_csv('../data/2020_SE_Region_Mobility_Report.csv') \n",
    "    temp = regions.loc[regions['region'] == name] \n",
    "    code = temp['regionkod'].values \n",
    "    temp2 = df.loc[df['iso_3166_2_code'] == code[0]]\n",
    "    transit = temp2['transit_stations_percent_change_from_baseline'].values \n",
    "    dagar = np.arange(46, 46 + len(transit))\n",
    "    tv = np.ceil(dagar / 7)\n",
    "    \n",
    "    \n",
    "    gveckor = np.unique(tv)\n",
    "    k = 0\n",
    "    Tr = np.zeros(int(max(gveckor) - min(gveckor))+1)\n",
    "\n",
    "    for i in gveckor:\n",
    "        ind=tv==i\n",
    "        Tr[k]=np.mean(transit[ind])/100\n",
    "        k=k+1\n",
    "    for i in range(1,len(Tr)):\n",
    "        if np.isnan(Tr[i]):\n",
    "            Tr[i]=Tr[i-1]\n",
    "    #print(Tr)\n",
    "    init=0.2 #set base line travel\n",
    "    Tr[0:2]=[init,init]\n",
    "    #print(Tr)\n",
    "    #print(gveckor)\n",
    "    #print(gveckor-svecka)\n",
    "    Trfkn = interp1d(gveckor-starting_week, Tr, kind = \"linear\", fill_value = \"extrapolate\")\n",
    "    #print(Tr)\n",
    "    return Trfkn"
   ]
  },
  {
   "cell_type": "code",
   "execution_count": 5,
   "id": "3ff52623-39f5-4720-9e22-8dccf741b934",
   "metadata": {},
   "outputs": [],
   "source": [
    "def loadMobility_list(name_list, starting_week):\n",
    "    Trfkn_dict = dict()\n",
    "    for i in name_list:\n",
    "       Trfkn_dict[i] = loadMobility(i, starting_week) \n",
    "    return Trfkn_dict\n",
    "\n",
    "\n",
    "def getData_list(name_list, first_case):\n",
    "    getData_dict = dict()\n",
    "    for i in name_list:\n",
    "        I, veckor, N = getData(i, first_case)\n",
    "        getData_dict[i] =  {'I': I, 'veckor': veckor, 'N': N}\n",
    "    return getData_dict"
   ]
  },
  {
   "cell_type": "markdown",
   "id": "82280561-7681-4293-8678-6c4ce2afe993",
   "metadata": {},
   "source": [
    "# 2. Correlation Analysis"
   ]
  },
  {
   "cell_type": "code",
   "execution_count": 6,
   "id": "625c6253-510d-498b-9690-d6b8e465d5fa",
   "metadata": {},
   "outputs": [],
   "source": [
    "name_list = regions.region.tolist()\n",
    "Trfkn_dict = loadMobility_list(name_list, starting_week = 6) \n",
    "getData_dict = getData_list(name_list, first_case = 9) "
   ]
  },
  {
   "cell_type": "code",
   "execution_count": 7,
   "id": "e081bcff-f4b5-4758-a1e0-ac36d976d133",
   "metadata": {},
   "outputs": [],
   "source": [
    "region_name = ['Sthlm']\n",
    "df = pd.DataFrame(getData_dict[region_name[0]]['I'])/regions[regions.region == region_name[0]].density.values\n",
    "\n",
    "for j in getData_dict.keys():\n",
    "    if j == region_name[0]:\n",
    "        continue\n",
    "    region_name.append(j)\n",
    "    df_temp = pd.DataFrame(getData_dict[j]['I'])\n",
    "  \n",
    "    df_temp = df_temp/regions[regions.region ==j].density.values\n",
    "    df = pd.concat([df,df_temp], axis = 1)\n",
    " "
   ]
  },
  {
   "cell_type": "code",
   "execution_count": 8,
   "id": "eecbb241-b69a-4119-a29b-c71ef69203d7",
   "metadata": {},
   "outputs": [
    {
     "data": {
      "text/html": [
       "<div>\n",
       "<style scoped>\n",
       "    .dataframe tbody tr th:only-of-type {\n",
       "        vertical-align: middle;\n",
       "    }\n",
       "\n",
       "    .dataframe tbody tr th {\n",
       "        vertical-align: top;\n",
       "    }\n",
       "\n",
       "    .dataframe thead th {\n",
       "        text-align: right;\n",
       "    }\n",
       "</style>\n",
       "<table border=\"1\" class=\"dataframe\">\n",
       "  <thead>\n",
       "    <tr style=\"text-align: right;\">\n",
       "      <th></th>\n",
       "      <th>Sthlm</th>\n",
       "      <th>VGR</th>\n",
       "      <th>Skåne</th>\n",
       "      <th>Östergötland</th>\n",
       "      <th>Jönköping</th>\n",
       "      <th>Södermanland</th>\n",
       "      <th>Uppsala</th>\n",
       "      <th>Gävleborg</th>\n",
       "      <th>Västmanland</th>\n",
       "      <th>Örebro</th>\n",
       "      <th>Norrbotten</th>\n",
       "      <th>Dalarna</th>\n",
       "      <th>Västernorrland</th>\n",
       "      <th>Värmland</th>\n",
       "      <th>Halland</th>\n",
       "      <th>Kalmar</th>\n",
       "      <th>Kronoberg</th>\n",
       "      <th>Västerbotten</th>\n",
       "      <th>Jämtland</th>\n",
       "      <th>Blekinge</th>\n",
       "    </tr>\n",
       "  </thead>\n",
       "  <tbody>\n",
       "    <tr>\n",
       "      <th>0</th>\n",
       "      <td>0.0</td>\n",
       "      <td>0.0</td>\n",
       "      <td>0.0</td>\n",
       "      <td>0.0</td>\n",
       "      <td>0.0</td>\n",
       "      <td>0.0</td>\n",
       "      <td>0.0</td>\n",
       "      <td>0.0</td>\n",
       "      <td>0.0</td>\n",
       "      <td>0.0</td>\n",
       "      <td>0.0</td>\n",
       "      <td>0.0</td>\n",
       "      <td>0.0</td>\n",
       "      <td>0.0</td>\n",
       "      <td>0.0</td>\n",
       "      <td>0.0</td>\n",
       "      <td>0.0</td>\n",
       "      <td>0.0</td>\n",
       "      <td>0.0</td>\n",
       "      <td>0.0</td>\n",
       "    </tr>\n",
       "    <tr>\n",
       "      <th>1</th>\n",
       "      <td>0.0</td>\n",
       "      <td>0.0</td>\n",
       "      <td>0.0</td>\n",
       "      <td>0.0</td>\n",
       "      <td>0.0</td>\n",
       "      <td>0.0</td>\n",
       "      <td>0.0</td>\n",
       "      <td>0.0</td>\n",
       "      <td>0.0</td>\n",
       "      <td>0.0</td>\n",
       "      <td>0.0</td>\n",
       "      <td>0.0</td>\n",
       "      <td>0.0</td>\n",
       "      <td>0.0</td>\n",
       "      <td>0.0</td>\n",
       "      <td>0.0</td>\n",
       "      <td>0.0</td>\n",
       "      <td>0.0</td>\n",
       "      <td>0.0</td>\n",
       "      <td>0.0</td>\n",
       "    </tr>\n",
       "    <tr>\n",
       "      <th>2</th>\n",
       "      <td>0.0</td>\n",
       "      <td>0.0</td>\n",
       "      <td>0.0</td>\n",
       "      <td>0.0</td>\n",
       "      <td>0.0</td>\n",
       "      <td>0.0</td>\n",
       "      <td>0.0</td>\n",
       "      <td>0.0</td>\n",
       "      <td>0.0</td>\n",
       "      <td>0.0</td>\n",
       "      <td>0.0</td>\n",
       "      <td>0.0</td>\n",
       "      <td>0.0</td>\n",
       "      <td>0.0</td>\n",
       "      <td>0.0</td>\n",
       "      <td>0.0</td>\n",
       "      <td>0.0</td>\n",
       "      <td>0.0</td>\n",
       "      <td>0.0</td>\n",
       "      <td>0.0</td>\n",
       "    </tr>\n",
       "    <tr>\n",
       "      <th>3</th>\n",
       "      <td>0.0</td>\n",
       "      <td>0.0</td>\n",
       "      <td>0.0</td>\n",
       "      <td>0.0</td>\n",
       "      <td>0.0</td>\n",
       "      <td>0.0</td>\n",
       "      <td>0.0</td>\n",
       "      <td>0.0</td>\n",
       "      <td>0.0</td>\n",
       "      <td>0.0</td>\n",
       "      <td>0.0</td>\n",
       "      <td>0.0</td>\n",
       "      <td>0.0</td>\n",
       "      <td>0.0</td>\n",
       "      <td>0.0</td>\n",
       "      <td>0.0</td>\n",
       "      <td>0.0</td>\n",
       "      <td>0.0</td>\n",
       "      <td>0.0</td>\n",
       "      <td>0.0</td>\n",
       "    </tr>\n",
       "    <tr>\n",
       "      <th>4</th>\n",
       "      <td>0.101002</td>\n",
       "      <td>0.124111</td>\n",
       "      <td>0.0</td>\n",
       "      <td>0.0</td>\n",
       "      <td>0.0</td>\n",
       "      <td>0.0</td>\n",
       "      <td>0.056002</td>\n",
       "      <td>0.0</td>\n",
       "      <td>0.0</td>\n",
       "      <td>0.0</td>\n",
       "      <td>0.0</td>\n",
       "      <td>0.0</td>\n",
       "      <td>0.0</td>\n",
       "      <td>0.0</td>\n",
       "      <td>0.0</td>\n",
       "      <td>0.0</td>\n",
       "      <td>0.0</td>\n",
       "      <td>0.0</td>\n",
       "      <td>0.0</td>\n",
       "      <td>0.0</td>\n",
       "    </tr>\n",
       "  </tbody>\n",
       "</table>\n",
       "</div>"
      ],
      "text/plain": [
       "      Sthlm       VGR Skåne Östergötland Jönköping Södermanland   Uppsala  \\\n",
       "0       0.0       0.0   0.0          0.0       0.0          0.0       0.0   \n",
       "1       0.0       0.0   0.0          0.0       0.0          0.0       0.0   \n",
       "2       0.0       0.0   0.0          0.0       0.0          0.0       0.0   \n",
       "3       0.0       0.0   0.0          0.0       0.0          0.0       0.0   \n",
       "4  0.101002  0.124111   0.0          0.0       0.0          0.0  0.056002   \n",
       "\n",
       "  Gävleborg Västmanland Örebro Norrbotten Dalarna Västernorrland Värmland  \\\n",
       "0       0.0         0.0    0.0        0.0     0.0            0.0      0.0   \n",
       "1       0.0         0.0    0.0        0.0     0.0            0.0      0.0   \n",
       "2       0.0         0.0    0.0        0.0     0.0            0.0      0.0   \n",
       "3       0.0         0.0    0.0        0.0     0.0            0.0      0.0   \n",
       "4       0.0         0.0    0.0        0.0     0.0            0.0      0.0   \n",
       "\n",
       "  Halland Kalmar Kronoberg Västerbotten Jämtland Blekinge  \n",
       "0     0.0    0.0       0.0          0.0      0.0      0.0  \n",
       "1     0.0    0.0       0.0          0.0      0.0      0.0  \n",
       "2     0.0    0.0       0.0          0.0      0.0      0.0  \n",
       "3     0.0    0.0       0.0          0.0      0.0      0.0  \n",
       "4     0.0    0.0       0.0          0.0      0.0      0.0  "
      ]
     },
     "execution_count": 8,
     "metadata": {},
     "output_type": "execute_result"
    }
   ],
   "source": [
    "df.columns = region_name\n",
    "df.head()"
   ]
  },
  {
   "cell_type": "code",
   "execution_count": 9,
   "id": "beb5beba-be2e-463c-b6c2-0cc904bd2fa2",
   "metadata": {},
   "outputs": [
    {
     "data": {
      "text/html": [
       "<div>\n",
       "<style scoped>\n",
       "    .dataframe tbody tr th:only-of-type {\n",
       "        vertical-align: middle;\n",
       "    }\n",
       "\n",
       "    .dataframe tbody tr th {\n",
       "        vertical-align: top;\n",
       "    }\n",
       "\n",
       "    .dataframe thead th {\n",
       "        text-align: right;\n",
       "    }\n",
       "</style>\n",
       "<table border=\"1\" class=\"dataframe\">\n",
       "  <thead>\n",
       "    <tr style=\"text-align: right;\">\n",
       "      <th></th>\n",
       "      <th>Sthlm</th>\n",
       "      <th>VGR</th>\n",
       "      <th>Skåne</th>\n",
       "      <th>Östergötland</th>\n",
       "      <th>Jönköping</th>\n",
       "      <th>Södermanland</th>\n",
       "      <th>Uppsala</th>\n",
       "      <th>Gävleborg</th>\n",
       "      <th>Västmanland</th>\n",
       "      <th>Örebro</th>\n",
       "      <th>Norrbotten</th>\n",
       "      <th>Dalarna</th>\n",
       "      <th>Västernorrland</th>\n",
       "      <th>Värmland</th>\n",
       "      <th>Halland</th>\n",
       "      <th>Kalmar</th>\n",
       "      <th>Kronoberg</th>\n",
       "      <th>Västerbotten</th>\n",
       "      <th>Jämtland</th>\n",
       "      <th>Blekinge</th>\n",
       "    </tr>\n",
       "  </thead>\n",
       "  <tbody>\n",
       "    <tr>\n",
       "      <th>Sthlm</th>\n",
       "      <td>1.000000</td>\n",
       "      <td>0.843206</td>\n",
       "      <td>0.707943</td>\n",
       "      <td>0.968330</td>\n",
       "      <td>0.911792</td>\n",
       "      <td>0.912002</td>\n",
       "      <td>0.906437</td>\n",
       "      <td>0.851443</td>\n",
       "      <td>0.919852</td>\n",
       "      <td>0.608364</td>\n",
       "      <td>0.916373</td>\n",
       "      <td>0.942713</td>\n",
       "      <td>0.767337</td>\n",
       "      <td>0.609362</td>\n",
       "      <td>0.797345</td>\n",
       "      <td>0.845498</td>\n",
       "      <td>0.634756</td>\n",
       "      <td>0.777421</td>\n",
       "      <td>0.834126</td>\n",
       "      <td>0.277613</td>\n",
       "    </tr>\n",
       "    <tr>\n",
       "      <th>VGR</th>\n",
       "      <td>0.843206</td>\n",
       "      <td>1.000000</td>\n",
       "      <td>0.887548</td>\n",
       "      <td>0.728929</td>\n",
       "      <td>0.583918</td>\n",
       "      <td>0.913086</td>\n",
       "      <td>0.903484</td>\n",
       "      <td>0.892073</td>\n",
       "      <td>0.902264</td>\n",
       "      <td>0.570380</td>\n",
       "      <td>0.880070</td>\n",
       "      <td>0.705631</td>\n",
       "      <td>0.886026</td>\n",
       "      <td>0.854733</td>\n",
       "      <td>0.793608</td>\n",
       "      <td>0.925145</td>\n",
       "      <td>0.855745</td>\n",
       "      <td>0.805349</td>\n",
       "      <td>0.664991</td>\n",
       "      <td>0.540573</td>\n",
       "    </tr>\n",
       "    <tr>\n",
       "      <th>Skåne</th>\n",
       "      <td>0.707943</td>\n",
       "      <td>0.887548</td>\n",
       "      <td>1.000000</td>\n",
       "      <td>0.621677</td>\n",
       "      <td>0.400992</td>\n",
       "      <td>0.826470</td>\n",
       "      <td>0.836551</td>\n",
       "      <td>0.770706</td>\n",
       "      <td>0.844795</td>\n",
       "      <td>0.357385</td>\n",
       "      <td>0.694584</td>\n",
       "      <td>0.537343</td>\n",
       "      <td>0.825453</td>\n",
       "      <td>0.701450</td>\n",
       "      <td>0.634010</td>\n",
       "      <td>0.837116</td>\n",
       "      <td>0.895035</td>\n",
       "      <td>0.708041</td>\n",
       "      <td>0.714445</td>\n",
       "      <td>0.703238</td>\n",
       "    </tr>\n",
       "    <tr>\n",
       "      <th>Östergötland</th>\n",
       "      <td>0.968330</td>\n",
       "      <td>0.728929</td>\n",
       "      <td>0.621677</td>\n",
       "      <td>1.000000</td>\n",
       "      <td>0.949446</td>\n",
       "      <td>0.843867</td>\n",
       "      <td>0.836592</td>\n",
       "      <td>0.758317</td>\n",
       "      <td>0.858380</td>\n",
       "      <td>0.558964</td>\n",
       "      <td>0.861616</td>\n",
       "      <td>0.937252</td>\n",
       "      <td>0.634197</td>\n",
       "      <td>0.456047</td>\n",
       "      <td>0.695051</td>\n",
       "      <td>0.749121</td>\n",
       "      <td>0.519094</td>\n",
       "      <td>0.666688</td>\n",
       "      <td>0.848179</td>\n",
       "      <td>0.214819</td>\n",
       "    </tr>\n",
       "    <tr>\n",
       "      <th>Jönköping</th>\n",
       "      <td>0.911792</td>\n",
       "      <td>0.583918</td>\n",
       "      <td>0.400992</td>\n",
       "      <td>0.949446</td>\n",
       "      <td>1.000000</td>\n",
       "      <td>0.742007</td>\n",
       "      <td>0.728714</td>\n",
       "      <td>0.634586</td>\n",
       "      <td>0.728252</td>\n",
       "      <td>0.546562</td>\n",
       "      <td>0.769218</td>\n",
       "      <td>0.934666</td>\n",
       "      <td>0.496379</td>\n",
       "      <td>0.328326</td>\n",
       "      <td>0.611534</td>\n",
       "      <td>0.626122</td>\n",
       "      <td>0.309441</td>\n",
       "      <td>0.592080</td>\n",
       "      <td>0.726492</td>\n",
       "      <td>0.029500</td>\n",
       "    </tr>\n",
       "    <tr>\n",
       "      <th>Södermanland</th>\n",
       "      <td>0.912002</td>\n",
       "      <td>0.913086</td>\n",
       "      <td>0.826470</td>\n",
       "      <td>0.843867</td>\n",
       "      <td>0.742007</td>\n",
       "      <td>1.000000</td>\n",
       "      <td>0.935397</td>\n",
       "      <td>0.890879</td>\n",
       "      <td>0.919812</td>\n",
       "      <td>0.666803</td>\n",
       "      <td>0.861836</td>\n",
       "      <td>0.819782</td>\n",
       "      <td>0.839591</td>\n",
       "      <td>0.734929</td>\n",
       "      <td>0.810330</td>\n",
       "      <td>0.888893</td>\n",
       "      <td>0.747598</td>\n",
       "      <td>0.818094</td>\n",
       "      <td>0.757545</td>\n",
       "      <td>0.496441</td>\n",
       "    </tr>\n",
       "    <tr>\n",
       "      <th>Uppsala</th>\n",
       "      <td>0.906437</td>\n",
       "      <td>0.903484</td>\n",
       "      <td>0.836551</td>\n",
       "      <td>0.836592</td>\n",
       "      <td>0.728714</td>\n",
       "      <td>0.935397</td>\n",
       "      <td>1.000000</td>\n",
       "      <td>0.834167</td>\n",
       "      <td>0.951433</td>\n",
       "      <td>0.563244</td>\n",
       "      <td>0.822067</td>\n",
       "      <td>0.805795</td>\n",
       "      <td>0.879517</td>\n",
       "      <td>0.724591</td>\n",
       "      <td>0.791194</td>\n",
       "      <td>0.910907</td>\n",
       "      <td>0.725122</td>\n",
       "      <td>0.833061</td>\n",
       "      <td>0.812731</td>\n",
       "      <td>0.496166</td>\n",
       "    </tr>\n",
       "    <tr>\n",
       "      <th>Gävleborg</th>\n",
       "      <td>0.851443</td>\n",
       "      <td>0.892073</td>\n",
       "      <td>0.770706</td>\n",
       "      <td>0.758317</td>\n",
       "      <td>0.634586</td>\n",
       "      <td>0.890879</td>\n",
       "      <td>0.834167</td>\n",
       "      <td>1.000000</td>\n",
       "      <td>0.888467</td>\n",
       "      <td>0.611241</td>\n",
       "      <td>0.894599</td>\n",
       "      <td>0.780226</td>\n",
       "      <td>0.822392</td>\n",
       "      <td>0.799760</td>\n",
       "      <td>0.880823</td>\n",
       "      <td>0.863245</td>\n",
       "      <td>0.827918</td>\n",
       "      <td>0.790691</td>\n",
       "      <td>0.698229</td>\n",
       "      <td>0.388709</td>\n",
       "    </tr>\n",
       "    <tr>\n",
       "      <th>Västmanland</th>\n",
       "      <td>0.919852</td>\n",
       "      <td>0.902264</td>\n",
       "      <td>0.844795</td>\n",
       "      <td>0.858380</td>\n",
       "      <td>0.728252</td>\n",
       "      <td>0.919812</td>\n",
       "      <td>0.951433</td>\n",
       "      <td>0.888467</td>\n",
       "      <td>1.000000</td>\n",
       "      <td>0.591124</td>\n",
       "      <td>0.874052</td>\n",
       "      <td>0.816632</td>\n",
       "      <td>0.876964</td>\n",
       "      <td>0.703475</td>\n",
       "      <td>0.832255</td>\n",
       "      <td>0.882670</td>\n",
       "      <td>0.768168</td>\n",
       "      <td>0.795805</td>\n",
       "      <td>0.850684</td>\n",
       "      <td>0.471452</td>\n",
       "    </tr>\n",
       "    <tr>\n",
       "      <th>Örebro</th>\n",
       "      <td>0.608364</td>\n",
       "      <td>0.570380</td>\n",
       "      <td>0.357385</td>\n",
       "      <td>0.558964</td>\n",
       "      <td>0.546562</td>\n",
       "      <td>0.666803</td>\n",
       "      <td>0.563244</td>\n",
       "      <td>0.611241</td>\n",
       "      <td>0.591124</td>\n",
       "      <td>1.000000</td>\n",
       "      <td>0.661141</td>\n",
       "      <td>0.610308</td>\n",
       "      <td>0.579358</td>\n",
       "      <td>0.611706</td>\n",
       "      <td>0.725711</td>\n",
       "      <td>0.523089</td>\n",
       "      <td>0.391109</td>\n",
       "      <td>0.514327</td>\n",
       "      <td>0.427815</td>\n",
       "      <td>0.262842</td>\n",
       "    </tr>\n",
       "    <tr>\n",
       "      <th>Norrbotten</th>\n",
       "      <td>0.916373</td>\n",
       "      <td>0.880070</td>\n",
       "      <td>0.694584</td>\n",
       "      <td>0.861616</td>\n",
       "      <td>0.769218</td>\n",
       "      <td>0.861836</td>\n",
       "      <td>0.822067</td>\n",
       "      <td>0.894599</td>\n",
       "      <td>0.874052</td>\n",
       "      <td>0.661141</td>\n",
       "      <td>1.000000</td>\n",
       "      <td>0.853454</td>\n",
       "      <td>0.745972</td>\n",
       "      <td>0.691169</td>\n",
       "      <td>0.819275</td>\n",
       "      <td>0.850870</td>\n",
       "      <td>0.718718</td>\n",
       "      <td>0.728830</td>\n",
       "      <td>0.707527</td>\n",
       "      <td>0.232418</td>\n",
       "    </tr>\n",
       "    <tr>\n",
       "      <th>Dalarna</th>\n",
       "      <td>0.942713</td>\n",
       "      <td>0.705631</td>\n",
       "      <td>0.537343</td>\n",
       "      <td>0.937252</td>\n",
       "      <td>0.934666</td>\n",
       "      <td>0.819782</td>\n",
       "      <td>0.805795</td>\n",
       "      <td>0.780226</td>\n",
       "      <td>0.816632</td>\n",
       "      <td>0.610308</td>\n",
       "      <td>0.853454</td>\n",
       "      <td>1.000000</td>\n",
       "      <td>0.650920</td>\n",
       "      <td>0.501506</td>\n",
       "      <td>0.772855</td>\n",
       "      <td>0.731055</td>\n",
       "      <td>0.510102</td>\n",
       "      <td>0.754358</td>\n",
       "      <td>0.761065</td>\n",
       "      <td>0.101755</td>\n",
       "    </tr>\n",
       "    <tr>\n",
       "      <th>Västernorrland</th>\n",
       "      <td>0.767337</td>\n",
       "      <td>0.886026</td>\n",
       "      <td>0.825453</td>\n",
       "      <td>0.634197</td>\n",
       "      <td>0.496379</td>\n",
       "      <td>0.839591</td>\n",
       "      <td>0.879517</td>\n",
       "      <td>0.822392</td>\n",
       "      <td>0.876964</td>\n",
       "      <td>0.579358</td>\n",
       "      <td>0.745972</td>\n",
       "      <td>0.650920</td>\n",
       "      <td>1.000000</td>\n",
       "      <td>0.820663</td>\n",
       "      <td>0.802359</td>\n",
       "      <td>0.835250</td>\n",
       "      <td>0.777589</td>\n",
       "      <td>0.870798</td>\n",
       "      <td>0.690680</td>\n",
       "      <td>0.518825</td>\n",
       "    </tr>\n",
       "    <tr>\n",
       "      <th>Värmland</th>\n",
       "      <td>0.609362</td>\n",
       "      <td>0.854733</td>\n",
       "      <td>0.701450</td>\n",
       "      <td>0.456047</td>\n",
       "      <td>0.328326</td>\n",
       "      <td>0.734929</td>\n",
       "      <td>0.724591</td>\n",
       "      <td>0.799760</td>\n",
       "      <td>0.703475</td>\n",
       "      <td>0.611706</td>\n",
       "      <td>0.691169</td>\n",
       "      <td>0.501506</td>\n",
       "      <td>0.820663</td>\n",
       "      <td>1.000000</td>\n",
       "      <td>0.812259</td>\n",
       "      <td>0.787782</td>\n",
       "      <td>0.729781</td>\n",
       "      <td>0.722971</td>\n",
       "      <td>0.453676</td>\n",
       "      <td>0.507816</td>\n",
       "    </tr>\n",
       "    <tr>\n",
       "      <th>Halland</th>\n",
       "      <td>0.797345</td>\n",
       "      <td>0.793608</td>\n",
       "      <td>0.634010</td>\n",
       "      <td>0.695051</td>\n",
       "      <td>0.611534</td>\n",
       "      <td>0.810330</td>\n",
       "      <td>0.791194</td>\n",
       "      <td>0.880823</td>\n",
       "      <td>0.832255</td>\n",
       "      <td>0.725711</td>\n",
       "      <td>0.819275</td>\n",
       "      <td>0.772855</td>\n",
       "      <td>0.802359</td>\n",
       "      <td>0.812259</td>\n",
       "      <td>1.000000</td>\n",
       "      <td>0.792871</td>\n",
       "      <td>0.690111</td>\n",
       "      <td>0.780991</td>\n",
       "      <td>0.650033</td>\n",
       "      <td>0.283883</td>\n",
       "    </tr>\n",
       "    <tr>\n",
       "      <th>Kalmar</th>\n",
       "      <td>0.845498</td>\n",
       "      <td>0.925145</td>\n",
       "      <td>0.837116</td>\n",
       "      <td>0.749121</td>\n",
       "      <td>0.626122</td>\n",
       "      <td>0.888893</td>\n",
       "      <td>0.910907</td>\n",
       "      <td>0.863245</td>\n",
       "      <td>0.882670</td>\n",
       "      <td>0.523089</td>\n",
       "      <td>0.850870</td>\n",
       "      <td>0.731055</td>\n",
       "      <td>0.835250</td>\n",
       "      <td>0.787782</td>\n",
       "      <td>0.792871</td>\n",
       "      <td>1.000000</td>\n",
       "      <td>0.767799</td>\n",
       "      <td>0.795039</td>\n",
       "      <td>0.721932</td>\n",
       "      <td>0.414061</td>\n",
       "    </tr>\n",
       "    <tr>\n",
       "      <th>Kronoberg</th>\n",
       "      <td>0.634756</td>\n",
       "      <td>0.855745</td>\n",
       "      <td>0.895035</td>\n",
       "      <td>0.519094</td>\n",
       "      <td>0.309441</td>\n",
       "      <td>0.747598</td>\n",
       "      <td>0.725122</td>\n",
       "      <td>0.827918</td>\n",
       "      <td>0.768168</td>\n",
       "      <td>0.391109</td>\n",
       "      <td>0.718718</td>\n",
       "      <td>0.510102</td>\n",
       "      <td>0.777589</td>\n",
       "      <td>0.729781</td>\n",
       "      <td>0.690111</td>\n",
       "      <td>0.767799</td>\n",
       "      <td>1.000000</td>\n",
       "      <td>0.673835</td>\n",
       "      <td>0.556837</td>\n",
       "      <td>0.612768</td>\n",
       "    </tr>\n",
       "    <tr>\n",
       "      <th>Västerbotten</th>\n",
       "      <td>0.777421</td>\n",
       "      <td>0.805349</td>\n",
       "      <td>0.708041</td>\n",
       "      <td>0.666688</td>\n",
       "      <td>0.592080</td>\n",
       "      <td>0.818094</td>\n",
       "      <td>0.833061</td>\n",
       "      <td>0.790691</td>\n",
       "      <td>0.795805</td>\n",
       "      <td>0.514327</td>\n",
       "      <td>0.728830</td>\n",
       "      <td>0.754358</td>\n",
       "      <td>0.870798</td>\n",
       "      <td>0.722971</td>\n",
       "      <td>0.780991</td>\n",
       "      <td>0.795039</td>\n",
       "      <td>0.673835</td>\n",
       "      <td>1.000000</td>\n",
       "      <td>0.654880</td>\n",
       "      <td>0.312321</td>\n",
       "    </tr>\n",
       "    <tr>\n",
       "      <th>Jämtland</th>\n",
       "      <td>0.834126</td>\n",
       "      <td>0.664991</td>\n",
       "      <td>0.714445</td>\n",
       "      <td>0.848179</td>\n",
       "      <td>0.726492</td>\n",
       "      <td>0.757545</td>\n",
       "      <td>0.812731</td>\n",
       "      <td>0.698229</td>\n",
       "      <td>0.850684</td>\n",
       "      <td>0.427815</td>\n",
       "      <td>0.707527</td>\n",
       "      <td>0.761065</td>\n",
       "      <td>0.690680</td>\n",
       "      <td>0.453676</td>\n",
       "      <td>0.650033</td>\n",
       "      <td>0.721932</td>\n",
       "      <td>0.556837</td>\n",
       "      <td>0.654880</td>\n",
       "      <td>1.000000</td>\n",
       "      <td>0.311147</td>\n",
       "    </tr>\n",
       "    <tr>\n",
       "      <th>Blekinge</th>\n",
       "      <td>0.277613</td>\n",
       "      <td>0.540573</td>\n",
       "      <td>0.703238</td>\n",
       "      <td>0.214819</td>\n",
       "      <td>0.029500</td>\n",
       "      <td>0.496441</td>\n",
       "      <td>0.496166</td>\n",
       "      <td>0.388709</td>\n",
       "      <td>0.471452</td>\n",
       "      <td>0.262842</td>\n",
       "      <td>0.232418</td>\n",
       "      <td>0.101755</td>\n",
       "      <td>0.518825</td>\n",
       "      <td>0.507816</td>\n",
       "      <td>0.283883</td>\n",
       "      <td>0.414061</td>\n",
       "      <td>0.612768</td>\n",
       "      <td>0.312321</td>\n",
       "      <td>0.311147</td>\n",
       "      <td>1.000000</td>\n",
       "    </tr>\n",
       "  </tbody>\n",
       "</table>\n",
       "</div>"
      ],
      "text/plain": [
       "                   Sthlm       VGR     Skåne  Östergötland  Jönköping  \\\n",
       "Sthlm           1.000000  0.843206  0.707943      0.968330   0.911792   \n",
       "VGR             0.843206  1.000000  0.887548      0.728929   0.583918   \n",
       "Skåne           0.707943  0.887548  1.000000      0.621677   0.400992   \n",
       "Östergötland    0.968330  0.728929  0.621677      1.000000   0.949446   \n",
       "Jönköping       0.911792  0.583918  0.400992      0.949446   1.000000   \n",
       "Södermanland    0.912002  0.913086  0.826470      0.843867   0.742007   \n",
       "Uppsala         0.906437  0.903484  0.836551      0.836592   0.728714   \n",
       "Gävleborg       0.851443  0.892073  0.770706      0.758317   0.634586   \n",
       "Västmanland     0.919852  0.902264  0.844795      0.858380   0.728252   \n",
       "Örebro          0.608364  0.570380  0.357385      0.558964   0.546562   \n",
       "Norrbotten      0.916373  0.880070  0.694584      0.861616   0.769218   \n",
       "Dalarna         0.942713  0.705631  0.537343      0.937252   0.934666   \n",
       "Västernorrland  0.767337  0.886026  0.825453      0.634197   0.496379   \n",
       "Värmland        0.609362  0.854733  0.701450      0.456047   0.328326   \n",
       "Halland         0.797345  0.793608  0.634010      0.695051   0.611534   \n",
       "Kalmar          0.845498  0.925145  0.837116      0.749121   0.626122   \n",
       "Kronoberg       0.634756  0.855745  0.895035      0.519094   0.309441   \n",
       "Västerbotten    0.777421  0.805349  0.708041      0.666688   0.592080   \n",
       "Jämtland        0.834126  0.664991  0.714445      0.848179   0.726492   \n",
       "Blekinge        0.277613  0.540573  0.703238      0.214819   0.029500   \n",
       "\n",
       "                Södermanland   Uppsala  Gävleborg  Västmanland    Örebro  \\\n",
       "Sthlm               0.912002  0.906437   0.851443     0.919852  0.608364   \n",
       "VGR                 0.913086  0.903484   0.892073     0.902264  0.570380   \n",
       "Skåne               0.826470  0.836551   0.770706     0.844795  0.357385   \n",
       "Östergötland        0.843867  0.836592   0.758317     0.858380  0.558964   \n",
       "Jönköping           0.742007  0.728714   0.634586     0.728252  0.546562   \n",
       "Södermanland        1.000000  0.935397   0.890879     0.919812  0.666803   \n",
       "Uppsala             0.935397  1.000000   0.834167     0.951433  0.563244   \n",
       "Gävleborg           0.890879  0.834167   1.000000     0.888467  0.611241   \n",
       "Västmanland         0.919812  0.951433   0.888467     1.000000  0.591124   \n",
       "Örebro              0.666803  0.563244   0.611241     0.591124  1.000000   \n",
       "Norrbotten          0.861836  0.822067   0.894599     0.874052  0.661141   \n",
       "Dalarna             0.819782  0.805795   0.780226     0.816632  0.610308   \n",
       "Västernorrland      0.839591  0.879517   0.822392     0.876964  0.579358   \n",
       "Värmland            0.734929  0.724591   0.799760     0.703475  0.611706   \n",
       "Halland             0.810330  0.791194   0.880823     0.832255  0.725711   \n",
       "Kalmar              0.888893  0.910907   0.863245     0.882670  0.523089   \n",
       "Kronoberg           0.747598  0.725122   0.827918     0.768168  0.391109   \n",
       "Västerbotten        0.818094  0.833061   0.790691     0.795805  0.514327   \n",
       "Jämtland            0.757545  0.812731   0.698229     0.850684  0.427815   \n",
       "Blekinge            0.496441  0.496166   0.388709     0.471452  0.262842   \n",
       "\n",
       "                Norrbotten   Dalarna  Västernorrland  Värmland   Halland  \\\n",
       "Sthlm             0.916373  0.942713        0.767337  0.609362  0.797345   \n",
       "VGR               0.880070  0.705631        0.886026  0.854733  0.793608   \n",
       "Skåne             0.694584  0.537343        0.825453  0.701450  0.634010   \n",
       "Östergötland      0.861616  0.937252        0.634197  0.456047  0.695051   \n",
       "Jönköping         0.769218  0.934666        0.496379  0.328326  0.611534   \n",
       "Södermanland      0.861836  0.819782        0.839591  0.734929  0.810330   \n",
       "Uppsala           0.822067  0.805795        0.879517  0.724591  0.791194   \n",
       "Gävleborg         0.894599  0.780226        0.822392  0.799760  0.880823   \n",
       "Västmanland       0.874052  0.816632        0.876964  0.703475  0.832255   \n",
       "Örebro            0.661141  0.610308        0.579358  0.611706  0.725711   \n",
       "Norrbotten        1.000000  0.853454        0.745972  0.691169  0.819275   \n",
       "Dalarna           0.853454  1.000000        0.650920  0.501506  0.772855   \n",
       "Västernorrland    0.745972  0.650920        1.000000  0.820663  0.802359   \n",
       "Värmland          0.691169  0.501506        0.820663  1.000000  0.812259   \n",
       "Halland           0.819275  0.772855        0.802359  0.812259  1.000000   \n",
       "Kalmar            0.850870  0.731055        0.835250  0.787782  0.792871   \n",
       "Kronoberg         0.718718  0.510102        0.777589  0.729781  0.690111   \n",
       "Västerbotten      0.728830  0.754358        0.870798  0.722971  0.780991   \n",
       "Jämtland          0.707527  0.761065        0.690680  0.453676  0.650033   \n",
       "Blekinge          0.232418  0.101755        0.518825  0.507816  0.283883   \n",
       "\n",
       "                  Kalmar  Kronoberg  Västerbotten  Jämtland  Blekinge  \n",
       "Sthlm           0.845498   0.634756      0.777421  0.834126  0.277613  \n",
       "VGR             0.925145   0.855745      0.805349  0.664991  0.540573  \n",
       "Skåne           0.837116   0.895035      0.708041  0.714445  0.703238  \n",
       "Östergötland    0.749121   0.519094      0.666688  0.848179  0.214819  \n",
       "Jönköping       0.626122   0.309441      0.592080  0.726492  0.029500  \n",
       "Södermanland    0.888893   0.747598      0.818094  0.757545  0.496441  \n",
       "Uppsala         0.910907   0.725122      0.833061  0.812731  0.496166  \n",
       "Gävleborg       0.863245   0.827918      0.790691  0.698229  0.388709  \n",
       "Västmanland     0.882670   0.768168      0.795805  0.850684  0.471452  \n",
       "Örebro          0.523089   0.391109      0.514327  0.427815  0.262842  \n",
       "Norrbotten      0.850870   0.718718      0.728830  0.707527  0.232418  \n",
       "Dalarna         0.731055   0.510102      0.754358  0.761065  0.101755  \n",
       "Västernorrland  0.835250   0.777589      0.870798  0.690680  0.518825  \n",
       "Värmland        0.787782   0.729781      0.722971  0.453676  0.507816  \n",
       "Halland         0.792871   0.690111      0.780991  0.650033  0.283883  \n",
       "Kalmar          1.000000   0.767799      0.795039  0.721932  0.414061  \n",
       "Kronoberg       0.767799   1.000000      0.673835  0.556837  0.612768  \n",
       "Västerbotten    0.795039   0.673835      1.000000  0.654880  0.312321  \n",
       "Jämtland        0.721932   0.556837      0.654880  1.000000  0.311147  \n",
       "Blekinge        0.414061   0.612768      0.312321  0.311147  1.000000  "
      ]
     },
     "execution_count": 9,
     "metadata": {},
     "output_type": "execute_result"
    }
   ],
   "source": [
    "df.corr()"
   ]
  },
  {
   "cell_type": "code",
   "execution_count": 10,
   "id": "b14e1483-a38e-49b5-b001-60397229e9b7",
   "metadata": {},
   "outputs": [
    {
     "data": {
      "image/png": "[encoded data removed]",
      "text/plain": [
       "<Figure size 1200x800 with 2 Axes>"
      ]
     },
     "metadata": {},
     "output_type": "display_data"
    }
   ],
   "source": [
    "import seaborn as sns\n",
    "\n",
    "\n",
    "corr = df.corr()\n",
    "\n",
    "# Set up the matplotlib figure\n",
    "plt.figure(figsize=(12, 8))\n",
    "\n",
    "# Generate a custom diverging colormap\n",
    "cmap = sns.diverging_palette(220, 20, as_cmap=True)\n",
    "\n",
    "# Draw the heatmap\n",
    "sns.heatmap(\n",
    "    corr,\n",
    "    cmap=cmap,\n",
    "           # show correlation coefficients\n",
    "    fmt=\".2f\",        # format for annotations\n",
    "    linewidths=0.5,   # space between cells\n",
    "    square=True,      # keep the cells square\n",
    "    cbar_kws={\"shrink\": 0.75},  # color bar size\n",
    "    center=0   ,\n",
    "    annot_kws={\"size\": 8}       # center the colormap at zero\n",
    ")\n",
    "\n",
    "# Add title and tweak layout\n",
    "plt.title('Correlation Heatmap', fontsize=16)\n",
    "plt.xticks(fontsize=12)\n",
    "plt.yticks(fontsize=12)\n",
    "plt.tight_layout()\n",
    "plt.savefig(\"../data/correlation_heatmap.svg\", format=\"svg\")\n",
    "\n",
    "# Display the plot\n",
    "plt.show()"
   ]
  },
  {
   "cell_type": "code",
   "execution_count": 11,
   "id": "a9e2031f-3829-4a48-bfe1-f5f3793035d5",
   "metadata": {},
   "outputs": [
    {
     "data": {
      "text/html": [
       "<div>\n",
       "<style scoped>\n",
       "    .dataframe tbody tr th:only-of-type {\n",
       "        vertical-align: middle;\n",
       "    }\n",
       "\n",
       "    .dataframe tbody tr th {\n",
       "        vertical-align: top;\n",
       "    }\n",
       "\n",
       "    .dataframe thead th {\n",
       "        text-align: right;\n",
       "    }\n",
       "</style>\n",
       "<table border=\"1\" class=\"dataframe\">\n",
       "  <thead>\n",
       "    <tr style=\"text-align: right;\">\n",
       "      <th></th>\n",
       "      <th>Sthlm</th>\n",
       "    </tr>\n",
       "  </thead>\n",
       "  <tbody>\n",
       "    <tr>\n",
       "      <th>Sthlm</th>\n",
       "      <td>1.000000</td>\n",
       "    </tr>\n",
       "    <tr>\n",
       "      <th>Östergötland</th>\n",
       "      <td>0.968330</td>\n",
       "    </tr>\n",
       "    <tr>\n",
       "      <th>Dalarna</th>\n",
       "      <td>0.942713</td>\n",
       "    </tr>\n",
       "    <tr>\n",
       "      <th>Västmanland</th>\n",
       "      <td>0.919852</td>\n",
       "    </tr>\n",
       "    <tr>\n",
       "      <th>Norrbotten</th>\n",
       "      <td>0.916373</td>\n",
       "    </tr>\n",
       "    <tr>\n",
       "      <th>Södermanland</th>\n",
       "      <td>0.912002</td>\n",
       "    </tr>\n",
       "    <tr>\n",
       "      <th>Jönköping</th>\n",
       "      <td>0.911792</td>\n",
       "    </tr>\n",
       "    <tr>\n",
       "      <th>Uppsala</th>\n",
       "      <td>0.906437</td>\n",
       "    </tr>\n",
       "    <tr>\n",
       "      <th>Gävleborg</th>\n",
       "      <td>0.851443</td>\n",
       "    </tr>\n",
       "    <tr>\n",
       "      <th>Kalmar</th>\n",
       "      <td>0.845498</td>\n",
       "    </tr>\n",
       "    <tr>\n",
       "      <th>VGR</th>\n",
       "      <td>0.843206</td>\n",
       "    </tr>\n",
       "    <tr>\n",
       "      <th>Jämtland</th>\n",
       "      <td>0.834126</td>\n",
       "    </tr>\n",
       "    <tr>\n",
       "      <th>Halland</th>\n",
       "      <td>0.797345</td>\n",
       "    </tr>\n",
       "    <tr>\n",
       "      <th>Västerbotten</th>\n",
       "      <td>0.777421</td>\n",
       "    </tr>\n",
       "    <tr>\n",
       "      <th>Västernorrland</th>\n",
       "      <td>0.767337</td>\n",
       "    </tr>\n",
       "    <tr>\n",
       "      <th>Skåne</th>\n",
       "      <td>0.707943</td>\n",
       "    </tr>\n",
       "    <tr>\n",
       "      <th>Kronoberg</th>\n",
       "      <td>0.634756</td>\n",
       "    </tr>\n",
       "    <tr>\n",
       "      <th>Värmland</th>\n",
       "      <td>0.609362</td>\n",
       "    </tr>\n",
       "    <tr>\n",
       "      <th>Örebro</th>\n",
       "      <td>0.608364</td>\n",
       "    </tr>\n",
       "    <tr>\n",
       "      <th>Blekinge</th>\n",
       "      <td>0.277613</td>\n",
       "    </tr>\n",
       "  </tbody>\n",
       "</table>\n",
       "</div>"
      ],
      "text/plain": [
       "                   Sthlm\n",
       "Sthlm           1.000000\n",
       "Östergötland    0.968330\n",
       "Dalarna         0.942713\n",
       "Västmanland     0.919852\n",
       "Norrbotten      0.916373\n",
       "Södermanland    0.912002\n",
       "Jönköping       0.911792\n",
       "Uppsala         0.906437\n",
       "Gävleborg       0.851443\n",
       "Kalmar          0.845498\n",
       "VGR             0.843206\n",
       "Jämtland        0.834126\n",
       "Halland         0.797345\n",
       "Västerbotten    0.777421\n",
       "Västernorrland  0.767337\n",
       "Skåne           0.707943\n",
       "Kronoberg       0.634756\n",
       "Värmland        0.609362\n",
       "Örebro          0.608364\n",
       "Blekinge        0.277613"
      ]
     },
     "execution_count": 11,
     "metadata": {},
     "output_type": "execute_result"
    }
   ],
   "source": [
    "df_Sthlm = pd.DataFrame(df.corr().loc['Sthlm']).sort_values(by = 'Sthlm', ascending=False)\n",
    "df_Sthlm"
   ]
  },
  {
   "cell_type": "code",
   "execution_count": 12,
   "id": "afe13041-7d60-4134-9a21-da4c1db22352",
   "metadata": {},
   "outputs": [
    {
     "data": {
      "text/html": [
       "<div>\n",
       "<style scoped>\n",
       "    .dataframe tbody tr th:only-of-type {\n",
       "        vertical-align: middle;\n",
       "    }\n",
       "\n",
       "    .dataframe tbody tr th {\n",
       "        vertical-align: top;\n",
       "    }\n",
       "\n",
       "    .dataframe thead th {\n",
       "        text-align: right;\n",
       "    }\n",
       "</style>\n",
       "<table border=\"1\" class=\"dataframe\">\n",
       "  <thead>\n",
       "    <tr style=\"text-align: right;\">\n",
       "      <th></th>\n",
       "      <th>Skåne</th>\n",
       "    </tr>\n",
       "  </thead>\n",
       "  <tbody>\n",
       "    <tr>\n",
       "      <th>Skåne</th>\n",
       "      <td>1.000000</td>\n",
       "    </tr>\n",
       "    <tr>\n",
       "      <th>Kronoberg</th>\n",
       "      <td>0.895035</td>\n",
       "    </tr>\n",
       "    <tr>\n",
       "      <th>VGR</th>\n",
       "      <td>0.887548</td>\n",
       "    </tr>\n",
       "    <tr>\n",
       "      <th>Västmanland</th>\n",
       "      <td>0.844795</td>\n",
       "    </tr>\n",
       "    <tr>\n",
       "      <th>Kalmar</th>\n",
       "      <td>0.837116</td>\n",
       "    </tr>\n",
       "    <tr>\n",
       "      <th>Uppsala</th>\n",
       "      <td>0.836551</td>\n",
       "    </tr>\n",
       "    <tr>\n",
       "      <th>Södermanland</th>\n",
       "      <td>0.826470</td>\n",
       "    </tr>\n",
       "    <tr>\n",
       "      <th>Västernorrland</th>\n",
       "      <td>0.825453</td>\n",
       "    </tr>\n",
       "    <tr>\n",
       "      <th>Gävleborg</th>\n",
       "      <td>0.770706</td>\n",
       "    </tr>\n",
       "    <tr>\n",
       "      <th>Jämtland</th>\n",
       "      <td>0.714445</td>\n",
       "    </tr>\n",
       "    <tr>\n",
       "      <th>Västerbotten</th>\n",
       "      <td>0.708041</td>\n",
       "    </tr>\n",
       "    <tr>\n",
       "      <th>Sthlm</th>\n",
       "      <td>0.707943</td>\n",
       "    </tr>\n",
       "    <tr>\n",
       "      <th>Blekinge</th>\n",
       "      <td>0.703238</td>\n",
       "    </tr>\n",
       "    <tr>\n",
       "      <th>Värmland</th>\n",
       "      <td>0.701450</td>\n",
       "    </tr>\n",
       "    <tr>\n",
       "      <th>Norrbotten</th>\n",
       "      <td>0.694584</td>\n",
       "    </tr>\n",
       "    <tr>\n",
       "      <th>Halland</th>\n",
       "      <td>0.634010</td>\n",
       "    </tr>\n",
       "    <tr>\n",
       "      <th>Östergötland</th>\n",
       "      <td>0.621677</td>\n",
       "    </tr>\n",
       "    <tr>\n",
       "      <th>Dalarna</th>\n",
       "      <td>0.537343</td>\n",
       "    </tr>\n",
       "    <tr>\n",
       "      <th>Jönköping</th>\n",
       "      <td>0.400992</td>\n",
       "    </tr>\n",
       "    <tr>\n",
       "      <th>Örebro</th>\n",
       "      <td>0.357385</td>\n",
       "    </tr>\n",
       "  </tbody>\n",
       "</table>\n",
       "</div>"
      ],
      "text/plain": [
       "                   Skåne\n",
       "Skåne           1.000000\n",
       "Kronoberg       0.895035\n",
       "VGR             0.887548\n",
       "Västmanland     0.844795\n",
       "Kalmar          0.837116\n",
       "Uppsala         0.836551\n",
       "Södermanland    0.826470\n",
       "Västernorrland  0.825453\n",
       "Gävleborg       0.770706\n",
       "Jämtland        0.714445\n",
       "Västerbotten    0.708041\n",
       "Sthlm           0.707943\n",
       "Blekinge        0.703238\n",
       "Värmland        0.701450\n",
       "Norrbotten      0.694584\n",
       "Halland         0.634010\n",
       "Östergötland    0.621677\n",
       "Dalarna         0.537343\n",
       "Jönköping       0.400992\n",
       "Örebro          0.357385"
      ]
     },
     "execution_count": 12,
     "metadata": {},
     "output_type": "execute_result"
    }
   ],
   "source": [
    "df_Skåne= pd.DataFrame(df.corr().loc['Skåne']).sort_values(by = 'Skåne', ascending=False)\n",
    "df_Skåne"
   ]
  },
  {
   "cell_type": "code",
   "execution_count": 13,
   "id": "018a019a-accd-4651-a9a1-65d0a64c9961",
   "metadata": {},
   "outputs": [
    {
     "data": {
      "text/html": [
       "<div>\n",
       "<style scoped>\n",
       "    .dataframe tbody tr th:only-of-type {\n",
       "        vertical-align: middle;\n",
       "    }\n",
       "\n",
       "    .dataframe tbody tr th {\n",
       "        vertical-align: top;\n",
       "    }\n",
       "\n",
       "    .dataframe thead th {\n",
       "        text-align: right;\n",
       "    }\n",
       "</style>\n",
       "<table border=\"1\" class=\"dataframe\">\n",
       "  <thead>\n",
       "    <tr style=\"text-align: right;\">\n",
       "      <th></th>\n",
       "      <th>Uppsala</th>\n",
       "    </tr>\n",
       "  </thead>\n",
       "  <tbody>\n",
       "    <tr>\n",
       "      <th>Uppsala</th>\n",
       "      <td>1.000000</td>\n",
       "    </tr>\n",
       "    <tr>\n",
       "      <th>Västmanland</th>\n",
       "      <td>0.951433</td>\n",
       "    </tr>\n",
       "    <tr>\n",
       "      <th>Södermanland</th>\n",
       "      <td>0.935397</td>\n",
       "    </tr>\n",
       "    <tr>\n",
       "      <th>Kalmar</th>\n",
       "      <td>0.910907</td>\n",
       "    </tr>\n",
       "    <tr>\n",
       "      <th>Sthlm</th>\n",
       "      <td>0.906437</td>\n",
       "    </tr>\n",
       "    <tr>\n",
       "      <th>VGR</th>\n",
       "      <td>0.903484</td>\n",
       "    </tr>\n",
       "    <tr>\n",
       "      <th>Västernorrland</th>\n",
       "      <td>0.879517</td>\n",
       "    </tr>\n",
       "    <tr>\n",
       "      <th>Östergötland</th>\n",
       "      <td>0.836592</td>\n",
       "    </tr>\n",
       "    <tr>\n",
       "      <th>Skåne</th>\n",
       "      <td>0.836551</td>\n",
       "    </tr>\n",
       "    <tr>\n",
       "      <th>Gävleborg</th>\n",
       "      <td>0.834167</td>\n",
       "    </tr>\n",
       "    <tr>\n",
       "      <th>Västerbotten</th>\n",
       "      <td>0.833061</td>\n",
       "    </tr>\n",
       "    <tr>\n",
       "      <th>Norrbotten</th>\n",
       "      <td>0.822067</td>\n",
       "    </tr>\n",
       "    <tr>\n",
       "      <th>Jämtland</th>\n",
       "      <td>0.812731</td>\n",
       "    </tr>\n",
       "    <tr>\n",
       "      <th>Dalarna</th>\n",
       "      <td>0.805795</td>\n",
       "    </tr>\n",
       "    <tr>\n",
       "      <th>Halland</th>\n",
       "      <td>0.791194</td>\n",
       "    </tr>\n",
       "    <tr>\n",
       "      <th>Jönköping</th>\n",
       "      <td>0.728714</td>\n",
       "    </tr>\n",
       "    <tr>\n",
       "      <th>Kronoberg</th>\n",
       "      <td>0.725122</td>\n",
       "    </tr>\n",
       "    <tr>\n",
       "      <th>Värmland</th>\n",
       "      <td>0.724591</td>\n",
       "    </tr>\n",
       "    <tr>\n",
       "      <th>Örebro</th>\n",
       "      <td>0.563244</td>\n",
       "    </tr>\n",
       "    <tr>\n",
       "      <th>Blekinge</th>\n",
       "      <td>0.496166</td>\n",
       "    </tr>\n",
       "  </tbody>\n",
       "</table>\n",
       "</div>"
      ],
      "text/plain": [
       "                 Uppsala\n",
       "Uppsala         1.000000\n",
       "Västmanland     0.951433\n",
       "Södermanland    0.935397\n",
       "Kalmar          0.910907\n",
       "Sthlm           0.906437\n",
       "VGR             0.903484\n",
       "Västernorrland  0.879517\n",
       "Östergötland    0.836592\n",
       "Skåne           0.836551\n",
       "Gävleborg       0.834167\n",
       "Västerbotten    0.833061\n",
       "Norrbotten      0.822067\n",
       "Jämtland        0.812731\n",
       "Dalarna         0.805795\n",
       "Halland         0.791194\n",
       "Jönköping       0.728714\n",
       "Kronoberg       0.725122\n",
       "Värmland        0.724591\n",
       "Örebro          0.563244\n",
       "Blekinge        0.496166"
      ]
     },
     "execution_count": 13,
     "metadata": {},
     "output_type": "execute_result"
    }
   ],
   "source": [
    "df_Uppsala= pd.DataFrame(df.corr().loc['Uppsala']).sort_values(by = 'Uppsala', ascending=False)\n",
    "df_Uppsala"
   ]
  },
  {
   "cell_type": "markdown",
   "id": "be6811a4-ed8c-4122-9df4-19c8f422763b",
   "metadata": {},
   "source": [
    "# 3. Modeling"
   ]
  },
  {
   "cell_type": "markdown",
   "id": "14ceef0d-4cf5-49ce-83e5-0be600f77ca8",
   "metadata": {},
   "source": [
    "#### S[Sthlm]=x0      \n",
    "\n",
    "#### E[Sthlm]=x1       \n",
    "\n",
    "#### I[Sthlm]=x2       \n",
    "\n",
    "#### R[Sthlm]=x3\n",
    "\n",
    "#### S[Södermanland]=x4      \n",
    "\n",
    "#### E[Södermanland]=x5       \n",
    "\n",
    "#### I[Södermanland]=x6       \n",
    "\n",
    "#### R[Södermanland]=x7"
   ]
  },
  {
   "cell_type": "code",
   "execution_count": 14,
   "id": "791124ec-7054-4535-99f1-6f1eb462514b",
   "metadata": {},
   "outputs": [],
   "source": [
    "name_list = ['Skåne', 'Kronoberg']\n",
    "transit_fkn_dct = loadMobility_list(name_list, starting_week = 6) \n",
    "getData_dict = getData_list(name_list, first_case = 9) \n",
    "region_0 = name_list[0]\n",
    "region_1 = name_list[1]\n",
    "I_train = [getData_dict[name_list[0]]['I'],\n",
    "           getData_dict[name_list[1]]['I']]\n",
    "weeks_train = getData_dict[region_0]['veckor'] \n",
    "\n",
    "def beta(t, a, b, transit_fkn):\n",
    "    return a + b * transit_fkn(t)\n",
    "\n",
    "def dx(x, t, N, a, b, c, lag):\n",
    "    S0, E0, I0, R0, S1, E1, I1, R1 = x[0], x[1], x[2], x[3], x[4], x[5], x[6], x[7]\n",
    "\n",
    "    dS0 =  - S0 * (beta(t-lag, a[0], b[0], transit_fkn_dct[region_0]) * I0/N[0] + c*I1/N[1])\n",
    "    dS1 =  - S1 * (beta(t-lag, a[1], b[1], transit_fkn_dct[region_1]) * I1/N[1] + c*I0/N[0])\n",
    "    dE0 =    S0 * (beta(t-lag, a[0], b[0], transit_fkn_dct[region_0]) * I0/N[0] + c*I1/N[1]) - rho*E0\n",
    "    dE1 =    S1 * (beta(t-lag, a[1], b[1], transit_fkn_dct[region_1]) * I1/N[1] + c*I0/N[0]) - rho*E1\n",
    "    dI0 =  rho*E0 - gamma*I0\n",
    "    dI1 =  rho*E1 - gamma*I1\n",
    "    dR0 =  gamma*I0\n",
    "    dR1 =  gamma*I1\n",
    "\n",
    "    return [dS0, dE0, dI0, dR0,\n",
    "            dS1, dE1, dI1, dR1]\n",
    "\n",
    "def pred_inlagda(t, a1, b1, a2, b2, c, lag):\n",
    "    N = [getData_dict[name_list[0]]['N'],\n",
    "         getData_dict[name_list[1]]['N']]\n",
    "    x0 = [N[0]-1, 0, 1, 0,\n",
    "          N[1]-1, 0, 1, 0] #initial conditions\n",
    "    x = odeint(dx, x0, t, args=(N, [a1, a2], [b1, b2], c, lag))\n",
    "    return pv*x[:, [2, 6]]"
   ]
  },
  {
   "cell_type": "code",
   "execution_count": 15,
   "id": "a4842957-dcf9-49f7-ae34-544c434fcc38",
   "metadata": {},
   "outputs": [
    {
     "data": {
      "text/plain": [
       "{'Skåne': {'I': array([0.0, 0.0, 0.0, 0.0, 0, 0, 25, 44, 82, 97, 105, 107, 100, 94, 89,\n",
       "         95, 86, 74, 79, 71, 55, 39, 37, 19, 33, 19, 16, 41, 25, 25, 19, 24,\n",
       "         25, 23, 17, 32, 30, 47, 84, 120, 168, 156, 189, 205, 242],\n",
       "        dtype=object),\n",
       "  'veckor': array([ 0,  1,  2,  3,  4,  5,  6,  7,  8,  9, 10, 11, 12, 13, 14, 15, 16,\n",
       "         17, 18, 19, 20, 21, 22, 23, 24, 25, 26, 27, 28, 29, 30, 31, 32, 33,\n",
       "         34, 35, 36, 37, 38, 39, 40, 41, 42, 43, 44]),\n",
       "  'N': 1387650},\n",
       " 'Kronoberg': {'I': array([0.0, 0.0, 0.0, 0.0, 0, 0, 0, 7, 0, 16, 22, 17, 28, 21, 18, 23, 22,\n",
       "         15, 9, 13, 4, 5, 0, 0, 0, 8, 0, 4, 0, 0, 0, 0, 6, 7, 0, 10, 15, 12,\n",
       "         23, 17, 29, 33, 31, 27, 37], dtype=object),\n",
       "  'veckor': array([ 0,  1,  2,  3,  4,  5,  6,  7,  8,  9, 10, 11, 12, 13, 14, 15, 16,\n",
       "         17, 18, 19, 20, 21, 22, 23, 24, 25, 26, 27, 28, 29, 30, 31, 32, 33,\n",
       "         34, 35, 36, 37, 38, 39, 40, 41, 42, 43, 44]),\n",
       "  'N': 202163}}"
      ]
     },
     "execution_count": 15,
     "metadata": {},
     "output_type": "execute_result"
    }
   ],
   "source": [
    "getData_dict"
   ]
  },
  {
   "cell_type": "code",
   "execution_count": 16,
   "id": "1118df0d-ad5d-42f7-ba63-39c463388075",
   "metadata": {},
   "outputs": [
    {
     "data": {
      "text/plain": [
       "[<matplotlib.lines.Line2D at 0x7b6772db4170>]"
      ]
     },
     "execution_count": 16,
     "metadata": {},
     "output_type": "execute_result"
    },
    {
     "data": {
      "image/png": "[encoded data removed]",
      "text/plain": [
       "<Figure size 1000x800 with 1 Axes>"
      ]
     },
     "metadata": {},
     "output_type": "display_data"
    }
   ],
   "source": [
    "a = [3.662573, 2.997906 ] \n",
    "b = [8.139158,  6.992810]   \n",
    "c = 0\n",
    "P = pred_inlagda(weeks_train, a[0], b[0], a[1], b[1], c, delay)\n",
    "fig, axes = plt.subplots(1, 1, figsize = (10, 8))\n",
    "axes.plot(weeks_train+6, P[:,0], 'r', label = \"Prediktion med resor\") \n",
    "axes.plot(weeks_train+6, I_train[0], 'ko', label = \"Inlagda\")\n"
   ]
  },
  {
   "cell_type": "code",
   "execution_count": 17,
   "id": "287ff4dc-065a-4ed1-aac2-b75c502c2c9e",
   "metadata": {},
   "outputs": [
    {
     "data": {
      "text/plain": [
       "[<matplotlib.lines.Line2D at 0x7b6772deb890>]"
      ]
     },
     "execution_count": 17,
     "metadata": {},
     "output_type": "execute_result"
    },
    {
     "data": {
      "image/png": "[encoded data removed]",
      "text/plain": [
       "<Figure size 1000x800 with 1 Axes>"
      ]
     },
     "metadata": {},
     "output_type": "display_data"
    }
   ],
   "source": [
    "fig, axes = plt.subplots(1, 1, figsize = (10, 8))\n",
    "\n",
    "axes.plot(weeks_train+6, P[:,1], 'b', label = \"Prediktion med resor\") \n",
    "axes.plot(weeks_train+6, I_train[1], 'kx', label = \"Inlagda\")"
   ]
  },
  {
   "cell_type": "code",
   "execution_count": 18,
   "id": "565e43c8-5a8a-45c6-857b-6b97c6276197",
   "metadata": {},
   "outputs": [],
   "source": [
    "def return_RMSE(P, I):\n",
    "    return np.sqrt(np.mean((P - I)**2))\n",
    "\n",
    "def return_CV_RMSE(P, I):\n",
    "    return 100 * return_RMSE(P, I) / np.mean(I)"
   ]
  },
  {
   "cell_type": "code",
   "execution_count": 19,
   "id": "1fa1f91a-f04e-45e9-984c-a4909121820a",
   "metadata": {},
   "outputs": [
    {
     "name": "stdout",
     "output_type": "stream",
     "text": [
      "57.15372023117821\n",
      "11.250860350653582\n",
      "90.62429212131852\n",
      "105.69701790801903\n"
     ]
    }
   ],
   "source": [
    "print(return_RMSE(P[:,0], I_train[0]))\n",
    "print(return_RMSE(P[:,1], I_train[1]))\n",
    "print(return_CV_RMSE(P[:,0], I_train[0]))\n",
    "print(return_CV_RMSE(P[:,1], I_train[1]))"
   ]
  },
  {
   "cell_type": "code",
   "execution_count": 20,
   "id": "15e8669e-34f9-4b53-bd00-0d33714460d1",
   "metadata": {},
   "outputs": [],
   "source": [
    "#!pip install wandb\n"
   ]
  },
  {
   "cell_type": "code",
   "execution_count": 21,
   "id": "14222bd0-72e9-4bf5-9816-58e7cee41ea2",
   "metadata": {},
   "outputs": [
    {
     "name": "stderr",
     "output_type": "stream",
     "text": [
      "100%|████████████████████████████████████████████████████████████████████████████████████████████████████████████████████████████████████████████████████████████████████████████████| 3/3 [00:19<00:00,  6.57s/it]\n"
     ]
    }
   ],
   "source": [
    "from tqdm import tqdm\n",
    "\n",
    "name_list = ['Skåne', 'Kronoberg']\n",
    "transit_fkn_dict = loadMobility_list(name_list, starting_week) \n",
    "getData_dict = getData_list(name_list, first_case)\n",
    "\n",
    "I_train = [getData_dict[name_list[0]]['I'],\n",
    "           getData_dict[name_list[1]]['I']]\n",
    "weeks_train = getData_dict[name_list[0]]['veckor']  # getData_dict['Södermanland']['veckor'] == getData_dict['Sthlm']['veckor']\n",
    "\n",
    "n=3\n",
    "ah0 = np.linspace(3,10,n)\n",
    "bh0 = np.linspace(4,10,n)\n",
    "ah1 = np.linspace(3,10,n)\n",
    "bh1 = np.linspace(4,10,n)\n",
    "c = np.linspace(0,0.2,n)\n",
    "\n",
    "E_rmse0 = np.zeros((len(ah0), len(bh0),len(ah1), len(bh1), len(c)))\n",
    "E_rmse1 = np.zeros((len(ah0), len(bh0),len(ah1), len(bh1), len(c)))\n",
    "\n",
    "E_cv_rmse0 = np.zeros((len(ah0), len(bh0),len(ah1), len(bh1), len(c)))\n",
    "E_cv_rmse1 = np.zeros((len(ah0), len(bh0),len(ah1), len(bh1), len(c)))\n",
    "\n",
    "for i in tqdm(range(n)):\n",
    "    for j in range(n):\n",
    "        for k in range(n):\n",
    "            for l in range(n): \n",
    "                for m in range(n):\n",
    "                    P = pred_inlagda(weeks_train, ah0[i], bh0[j], ah1[k], bh1[l], c[m], delay)\n",
    "                    \n",
    "                    # Store the results in the arrays (instead of RMSE)\n",
    "                    E_rmse0[i,j,k,l,m] = return_RMSE(P[:,0], I_train[0])\n",
    "                    E_rmse1[i,j,k,l,m] = return_RMSE(P[:,1], I_train[1])  \n",
    "\n",
    "                    # Store the results in the arrays (instead of cv-rms)\n",
    "                    E_cv_rmse0[i, j, k, l, m] = return_CV_RMSE(P[:,0], I_train[0]) \n",
    "                    E_cv_rmse1[i, j, k, l, m] = return_CV_RMSE(P[:,1], I_train[1])\n",
    "\n",
    "                                "
   ]
  },
  {
   "cell_type": "code",
   "execution_count": 22,
   "id": "5448767a-9127-46db-af89-35cf4deee608",
   "metadata": {},
   "outputs": [],
   "source": [
    "sweep_config = {\n",
    "    'method': 'random'\n",
    "    }"
   ]
  },
  {
   "cell_type": "code",
   "execution_count": 23,
   "id": "081bba6d-f5cc-49a7-9ea8-e501c5dab38e",
   "metadata": {},
   "outputs": [],
   "source": [
    "metric = {\n",
    "    'name': 'CV_RMSE',\n",
    "    'goal': 'minimize'   \n",
    "    }\n",
    "\n",
    "sweep_config['metric'] = metric"
   ]
  },
  {
   "cell_type": "code",
   "execution_count": 24,
   "id": "b26c1f41-b110-466a-9b62-9763213073e8",
   "metadata": {},
   "outputs": [],
   "source": [
    "parameters_dict = {\n",
    "    \"ah0\": {\n",
    "        \"min\": 0,\n",
    "        \"max\": 6,\n",
    "        \"distribution\": \"uniform\"\n",
    "    },\n",
    "    \"bh0\": {\n",
    "        \"min\": 3,\n",
    "        \"max\": 15,\n",
    "        \"distribution\": \"uniform\"\n",
    "    },\n",
    "    \"ah1\": {\n",
    "        \"min\": 0,\n",
    "        \"max\": 10,\n",
    "        \"distribution\": \"uniform\"\n",
    "    },\n",
    "    \"bh1\": {\n",
    "        \"min\": 3,\n",
    "        \"max\": 15,\n",
    "        \"distribution\": \"uniform\"\n",
    "    },\n",
    "    \"c\": {\n",
    "        \"min\": 0,\n",
    "        \"max\": 5,\n",
    "        \"distribution\": \"uniform\"\n",
    "    }\n",
    "}\n",
    "\n",
    "sweep_config['parameters'] = parameters_dict\n"
   ]
  },
  {
   "cell_type": "code",
   "execution_count": 25,
   "id": "0e4411e8-dfbf-4da7-98ea-535e2962007f",
   "metadata": {},
   "outputs": [
    {
     "name": "stdout",
     "output_type": "stream",
     "text": [
      "{'method': 'random',\n",
      " 'metric': {'goal': 'minimize', 'name': 'CV_RMSE'},\n",
      " 'parameters': {'ah0': {'distribution': 'uniform', 'max': 6, 'min': 0},\n",
      "                'ah1': {'distribution': 'uniform', 'max': 10, 'min': 0},\n",
      "                'bh0': {'distribution': 'uniform', 'max': 15, 'min': 3},\n",
      "                'bh1': {'distribution': 'uniform', 'max': 15, 'min': 3},\n",
      "                'c': {'distribution': 'uniform', 'max': 5, 'min': 0}}}\n"
     ]
    }
   ],
   "source": [
    "import pprint\n",
    "pprint.pprint(sweep_config)"
   ]
  },
  {
   "cell_type": "code",
   "execution_count": 26,
   "id": "a5736ae8-b54d-4787-a536-9d2fd791248e",
   "metadata": {},
   "outputs": [],
   "source": [
    "import wandb\n"
   ]
  },
  {
   "cell_type": "code",
   "execution_count": 27,
   "id": "1b786643-18e4-42f0-9d60-bb65c01cf6ed",
   "metadata": {},
   "outputs": [
    {
     "name": "stdout",
     "output_type": "stream",
     "text": [
      "Create sweep with ID: uenjiggc\n",
      "Sweep URL: https://wandb.ai/danish2562022/sweeps-SEIR_Sk%C3%A5ne_Kronoberg/sweeps/uenjiggc\n"
     ]
    }
   ],
   "source": [
    "sweep_id = wandb.sweep(sweep_config, project=\"sweeps-SEIR_Skåne_Kronoberg\")"
   ]
  },
  {
   "cell_type": "code",
   "execution_count": 28,
   "id": "127c84e1-3ada-4181-8a3b-24a069f31c3b",
   "metadata": {},
   "outputs": [],
   "source": [
    "import torch\n",
    "import torch.optim as optim\n",
    "import torch.nn.functional as F\n",
    "import torch.nn as nn\n",
    "from torchvision import datasets, transforms\n",
    "\n",
    "\n",
    "def fit_model(config=None):\n",
    "    # Initialize a new wandb run\n",
    "    with wandb.init(config=config):\n",
    "        # If called by wandb.agent, as below,\n",
    "        # this config will be set by Sweep Controller\n",
    "        config = wandb.config\n",
    "\n",
    "        P = pred_inlagda(weeks_train, config.ah0, config.bh0, config.ah1, config.bh1, config.c, delay)\n",
    "        CV_RMSE_1 = return_CV_RMSE(P[:,0], I_train[0])\n",
    "        CV_RMSE_2 = return_CV_RMSE(P[:,1], I_train[1])\n",
    "        CV_RMSE = CV_RMSE_1 + CV_RMSE_2\n",
    "        RMSE_1 = return_RMSE(P[:,0], I_train[0])\n",
    "        RMSE_2 = return_RMSE(P[:,1], I_train[1])\n",
    "        RMSE = RMSE_1 + RMSE_2\n",
    "        wandb.log({\"CV_RMSE\": CV_RMSE, \"RMSE\": RMSE,  \"RMSE_skane\": RMSE_1,  \"RMSE_kronoberg\": RMSE_2,  \"CV_RMSE_'skane\": CV_RMSE_1,  \"CV_RMSE_kronoberg\": CV_RMSE_2})  "
   ]
  },
  {
   "cell_type": "code",
   "execution_count": null,
   "id": "c77b23cd-f3bc-4e2b-9902-7c3e7478bf9b",
   "metadata": {},
   "outputs": [
    {
     "name": "stderr",
     "output_type": "stream",
     "text": [
      "\u001b[34m\u001b[1mwandb\u001b[0m: Agent Starting Run: n42rq0v4 with config:\n",
      "\u001b[34m\u001b[1mwandb\u001b[0m: \tah0: 4.380529433363135\n",
      "\u001b[34m\u001b[1mwandb\u001b[0m: \tah1: 7.892337156172376\n",
      "\u001b[34m\u001b[1mwandb\u001b[0m: \tbh0: 14.113974643146184\n",
      "\u001b[34m\u001b[1mwandb\u001b[0m: \tbh1: 7.409797224227816\n",
      "\u001b[34m\u001b[1mwandb\u001b[0m: \tc: 2.2178589590622613\n",
      "\u001b[34m\u001b[1mwandb\u001b[0m: Currently logged in as: \u001b[33mdanish2562022\u001b[0m. Use \u001b[1m`wandb login --relogin`\u001b[0m to force relogin\n"
     ]
    },
    {
     "data": {
      "text/html": [
       "wandb version 0.19.11 is available!  To upgrade, please run:\n",
       " $ pip install wandb --upgrade"
      ],
      "text/plain": [
       "<IPython.core.display.HTML object>"
      ]
     },
     "metadata": {},
     "output_type": "display_data"
    },
    {
     "data": {
      "text/html": [
       "Tracking run with wandb version 0.17.4"
      ],
      "text/plain": [
       "<IPython.core.display.HTML object>"
      ]
     },
     "metadata": {},
     "output_type": "display_data"
    },
    {
     "data": {
      "text/html": [
       "Run data is saved locally in <code>/12tb_dsk3/SEIR_model/src/wandb/run-20250529_065646-n42rq0v4</code>"
      ],
      "text/plain": [
       "<IPython.core.display.HTML object>"
      ]
     },
     "metadata": {},
     "output_type": "display_data"
    },
    {
     "data": {
      "text/html": [
       "Syncing run <strong><a href='https://wandb.ai/danish2562022/sweeps-SEIR_Sk%C3%A5ne_Kronoberg/runs/n42rq0v4' target=\"_blank\">revived-sweep-1</a></strong> to <a href='https://wandb.ai/danish2562022/sweeps-SEIR_Sk%C3%A5ne_Kronoberg' target=\"_blank\">Weights & Biases</a> (<a href='https://wandb.me/run' target=\"_blank\">docs</a>)<br/>Sweep page: <a href='https://wandb.ai/danish2562022/sweeps-SEIR_Sk%C3%A5ne_Kronoberg/sweeps/uenjiggc' target=\"_blank\">https://wandb.ai/danish2562022/sweeps-SEIR_Sk%C3%A5ne_Kronoberg/sweeps/uenjiggc</a>"
      ],
      "text/plain": [
       "<IPython.core.display.HTML object>"
      ]
     },
     "metadata": {},
     "output_type": "display_data"
    },
    {
     "data": {
      "text/html": [
       " View project at <a href='https://wandb.ai/danish2562022/sweeps-SEIR_Sk%C3%A5ne_Kronoberg' target=\"_blank\">https://wandb.ai/danish2562022/sweeps-SEIR_Sk%C3%A5ne_Kronoberg</a>"
      ],
      "text/plain": [
       "<IPython.core.display.HTML object>"
      ]
     },
     "metadata": {},
     "output_type": "display_data"
    },
    {
     "data": {
      "text/html": [
       " View sweep at <a href='https://wandb.ai/danish2562022/sweeps-SEIR_Sk%C3%A5ne_Kronoberg/sweeps/uenjiggc' target=\"_blank\">https://wandb.ai/danish2562022/sweeps-SEIR_Sk%C3%A5ne_Kronoberg/sweeps/uenjiggc</a>"
      ],
      "text/plain": [
       "<IPython.core.display.HTML object>"
      ]
     },
     "metadata": {},
     "output_type": "display_data"
    },
    {
     "data": {
      "text/html": [
       " View run at <a href='https://wandb.ai/danish2562022/sweeps-SEIR_Sk%C3%A5ne_Kronoberg/runs/n42rq0v4' target=\"_blank\">https://wandb.ai/danish2562022/sweeps-SEIR_Sk%C3%A5ne_Kronoberg/runs/n42rq0v4</a>"
      ],
      "text/plain": [
       "<IPython.core.display.HTML object>"
      ]
     },
     "metadata": {},
     "output_type": "display_data"
    },
    {
     "data": {
      "application/vnd.jupyter.widget-view+json": {
       "model_id": "",
       "version_major": 2,
       "version_minor": 0
      },
      "text/plain": [
       "VBox(children=(Label(value='0.021 MB of 0.021 MB uploaded\\r'), FloatProgress(value=1.0, max=1.0)))"
      ]
     },
     "metadata": {},
     "output_type": "display_data"
    },
    {
     "data": {
      "text/html": [
       "<style>\n",
       "    table.wandb td:nth-child(1) { padding: 0 10px; text-align: left ; width: auto;} td:nth-child(2) {text-align: left ; width: 100%}\n",
       "    .wandb-row { display: flex; flex-direction: row; flex-wrap: wrap; justify-content: flex-start; width: 100% }\n",
       "    .wandb-col { display: flex; flex-direction: column; flex-basis: 100%; flex: 1; padding: 10px; }\n",
       "    </style>\n",
       "<div class=\"wandb-row\"><div class=\"wandb-col\"><h3>Run history:</h3><br/><table class=\"wandb\"><tr><td>CV_RMSE</td><td>▁</td></tr><tr><td>CV_RMSE_'skane</td><td>▁</td></tr><tr><td>CV_RMSE_kronoberg</td><td>▁</td></tr><tr><td>RMSE</td><td>▁</td></tr><tr><td>RMSE_kronoberg</td><td>▁</td></tr><tr><td>RMSE_skane</td><td>▁</td></tr></table><br/></div><div class=\"wandb-col\"><h3>Run summary:</h3><br/><table class=\"wandb\"><tr><td>CV_RMSE</td><td>4984.70763</td></tr><tr><td>CV_RMSE_'skane</td><td>2637.9083</td></tr><tr><td>CV_RMSE_kronoberg</td><td>2346.79933</td></tr><tr><td>RMSE</td><td>1913.44459</td></tr><tr><td>RMSE_kronoberg</td><td>249.80375</td></tr><tr><td>RMSE_skane</td><td>1663.64084</td></tr></table><br/></div></div>"
      ],
      "text/plain": [
       "<IPython.core.display.HTML object>"
      ]
     },
     "metadata": {},
     "output_type": "display_data"
    },
    {
     "data": {
      "text/html": [
       " View run <strong style=\"color:#cdcd00\">revived-sweep-1</strong> at: <a href='https://wandb.ai/danish2562022/sweeps-SEIR_Sk%C3%A5ne_Kronoberg/runs/n42rq0v4' target=\"_blank\">https://wandb.ai/danish2562022/sweeps-SEIR_Sk%C3%A5ne_Kronoberg/runs/n42rq0v4</a><br/> View project at: <a href='https://wandb.ai/danish2562022/sweeps-SEIR_Sk%C3%A5ne_Kronoberg' target=\"_blank\">https://wandb.ai/danish2562022/sweeps-SEIR_Sk%C3%A5ne_Kronoberg</a><br/>Synced 5 W&B file(s), 0 media file(s), 0 artifact file(s) and 0 other file(s)"
      ],
      "text/plain": [
       "<IPython.core.display.HTML object>"
      ]
     },
     "metadata": {},
     "output_type": "display_data"
    },
    {
     "data": {
      "text/html": [
       "Find logs at: <code>./wandb/run-20250529_065646-n42rq0v4/logs</code>"
      ],
      "text/plain": [
       "<IPython.core.display.HTML object>"
      ]
     },
     "metadata": {},
     "output_type": "display_data"
    },
    {
     "data": {
      "text/html": [
       "The new W&B backend becomes opt-out in version 0.18.0; try it out with `wandb.require(\"core\")`! See https://wandb.me/wandb-core for more information."
      ],
      "text/plain": [
       "<IPython.core.display.HTML object>"
      ]
     },
     "metadata": {},
     "output_type": "display_data"
    },
    {
     "name": "stderr",
     "output_type": "stream",
     "text": [
      "\u001b[34m\u001b[1mwandb\u001b[0m: Sweep Agent: Waiting for job.\n",
      "\u001b[34m\u001b[1mwandb\u001b[0m: Job received.\n",
      "\u001b[34m\u001b[1mwandb\u001b[0m: Agent Starting Run: 0swnah9c with config:\n",
      "\u001b[34m\u001b[1mwandb\u001b[0m: \tah0: 0.6755349489535187\n",
      "\u001b[34m\u001b[1mwandb\u001b[0m: \tah1: 9.077501689083531\n",
      "\u001b[34m\u001b[1mwandb\u001b[0m: \tbh0: 7.471812352531748\n",
      "\u001b[34m\u001b[1mwandb\u001b[0m: \tbh1: 14.30556446073654\n",
      "\u001b[34m\u001b[1mwandb\u001b[0m: \tc: 2.594198742175742\n"
     ]
    },
    {
     "data": {
      "text/html": [
       "wandb version 0.19.11 is available!  To upgrade, please run:\n",
       " $ pip install wandb --upgrade"
      ],
      "text/plain": [
       "<IPython.core.display.HTML object>"
      ]
     },
     "metadata": {},
     "output_type": "display_data"
    },
    {
     "data": {
      "text/html": [
       "Tracking run with wandb version 0.17.4"
      ],
      "text/plain": [
       "<IPython.core.display.HTML object>"
      ]
     },
     "metadata": {},
     "output_type": "display_data"
    },
    {
     "data": {
      "text/html": [
       "Run data is saved locally in <code>/12tb_dsk3/SEIR_model/src/wandb/run-20250529_065702-0swnah9c</code>"
      ],
      "text/plain": [
       "<IPython.core.display.HTML object>"
      ]
     },
     "metadata": {},
     "output_type": "display_data"
    },
    {
     "data": {
      "text/html": [
       "Syncing run <strong><a href='https://wandb.ai/danish2562022/sweeps-SEIR_Sk%C3%A5ne_Kronoberg/runs/0swnah9c' target=\"_blank\">smart-sweep-2</a></strong> to <a href='https://wandb.ai/danish2562022/sweeps-SEIR_Sk%C3%A5ne_Kronoberg' target=\"_blank\">Weights & Biases</a> (<a href='https://wandb.me/run' target=\"_blank\">docs</a>)<br/>Sweep page: <a href='https://wandb.ai/danish2562022/sweeps-SEIR_Sk%C3%A5ne_Kronoberg/sweeps/uenjiggc' target=\"_blank\">https://wandb.ai/danish2562022/sweeps-SEIR_Sk%C3%A5ne_Kronoberg/sweeps/uenjiggc</a>"
      ],
      "text/plain": [
       "<IPython.core.display.HTML object>"
      ]
     },
     "metadata": {},
     "output_type": "display_data"
    },
    {
     "data": {
      "text/html": [
       " View project at <a href='https://wandb.ai/danish2562022/sweeps-SEIR_Sk%C3%A5ne_Kronoberg' target=\"_blank\">https://wandb.ai/danish2562022/sweeps-SEIR_Sk%C3%A5ne_Kronoberg</a>"
      ],
      "text/plain": [
       "<IPython.core.display.HTML object>"
      ]
     },
     "metadata": {},
     "output_type": "display_data"
    },
    {
     "data": {
      "text/html": [
       " View sweep at <a href='https://wandb.ai/danish2562022/sweeps-SEIR_Sk%C3%A5ne_Kronoberg/sweeps/uenjiggc' target=\"_blank\">https://wandb.ai/danish2562022/sweeps-SEIR_Sk%C3%A5ne_Kronoberg/sweeps/uenjiggc</a>"
      ],
      "text/plain": [
       "<IPython.core.display.HTML object>"
      ]
     },
     "metadata": {},
     "output_type": "display_data"
    },
    {
     "data": {
      "text/html": [
       " View run at <a href='https://wandb.ai/danish2562022/sweeps-SEIR_Sk%C3%A5ne_Kronoberg/runs/0swnah9c' target=\"_blank\">https://wandb.ai/danish2562022/sweeps-SEIR_Sk%C3%A5ne_Kronoberg/runs/0swnah9c</a>"
      ],
      "text/plain": [
       "<IPython.core.display.HTML object>"
      ]
     },
     "metadata": {},
     "output_type": "display_data"
    },
    {
     "data": {
      "application/vnd.jupyter.widget-view+json": {
       "model_id": "",
       "version_major": 2,
       "version_minor": 0
      },
      "text/plain": [
       "VBox(children=(Label(value='0.021 MB of 0.021 MB uploaded\\r'), FloatProgress(value=1.0, max=1.0)))"
      ]
     },
     "metadata": {},
     "output_type": "display_data"
    },
    {
     "data": {
      "text/html": [
       "<style>\n",
       "    table.wandb td:nth-child(1) { padding: 0 10px; text-align: left ; width: auto;} td:nth-child(2) {text-align: left ; width: 100%}\n",
       "    .wandb-row { display: flex; flex-direction: row; flex-wrap: wrap; justify-content: flex-start; width: 100% }\n",
       "    .wandb-col { display: flex; flex-direction: column; flex-basis: 100%; flex: 1; padding: 10px; }\n",
       "    </style>\n",
       "<div class=\"wandb-row\"><div class=\"wandb-col\"><h3>Run history:</h3><br/><table class=\"wandb\"><tr><td>CV_RMSE</td><td>▁</td></tr><tr><td>CV_RMSE_'skane</td><td>▁</td></tr><tr><td>CV_RMSE_kronoberg</td><td>▁</td></tr><tr><td>RMSE</td><td>▁</td></tr><tr><td>RMSE_kronoberg</td><td>▁</td></tr><tr><td>RMSE_skane</td><td>▁</td></tr></table><br/></div><div class=\"wandb-col\"><h3>Run summary:</h3><br/><table class=\"wandb\"><tr><td>CV_RMSE</td><td>4792.94325</td></tr><tr><td>CV_RMSE_'skane</td><td>2369.63489</td></tr><tr><td>CV_RMSE_kronoberg</td><td>2423.30835</td></tr><tr><td>RMSE</td><td>1752.39745</td></tr><tr><td>RMSE_kronoberg</td><td>257.94771</td></tr><tr><td>RMSE_skane</td><td>1494.44974</td></tr></table><br/></div></div>"
      ],
      "text/plain": [
       "<IPython.core.display.HTML object>"
      ]
     },
     "metadata": {},
     "output_type": "display_data"
    },
    {
     "data": {
      "text/html": [
       " View run <strong style=\"color:#cdcd00\">smart-sweep-2</strong> at: <a href='https://wandb.ai/danish2562022/sweeps-SEIR_Sk%C3%A5ne_Kronoberg/runs/0swnah9c' target=\"_blank\">https://wandb.ai/danish2562022/sweeps-SEIR_Sk%C3%A5ne_Kronoberg/runs/0swnah9c</a><br/> View project at: <a href='https://wandb.ai/danish2562022/sweeps-SEIR_Sk%C3%A5ne_Kronoberg' target=\"_blank\">https://wandb.ai/danish2562022/sweeps-SEIR_Sk%C3%A5ne_Kronoberg</a><br/>Synced 5 W&B file(s), 0 media file(s), 0 artifact file(s) and 0 other file(s)"
      ],
      "text/plain": [
       "<IPython.core.display.HTML object>"
      ]
     },
     "metadata": {},
     "output_type": "display_data"
    },
    {
     "data": {
      "text/html": [
       "Find logs at: <code>./wandb/run-20250529_065702-0swnah9c/logs</code>"
      ],
      "text/plain": [
       "<IPython.core.display.HTML object>"
      ]
     },
     "metadata": {},
     "output_type": "display_data"
    },
    {
     "data": {
      "text/html": [
       "The new W&B backend becomes opt-out in version 0.18.0; try it out with `wandb.require(\"core\")`! See https://wandb.me/wandb-core for more information."
      ],
      "text/plain": [
       "<IPython.core.display.HTML object>"
      ]
     },
     "metadata": {},
     "output_type": "display_data"
    },
    {
     "name": "stderr",
     "output_type": "stream",
     "text": [
      "\u001b[34m\u001b[1mwandb\u001b[0m: Agent Starting Run: paxv3mry with config:\n",
      "\u001b[34m\u001b[1mwandb\u001b[0m: \tah0: 3.205529060037726\n",
      "\u001b[34m\u001b[1mwandb\u001b[0m: \tah1: 6.1567786719054975\n",
      "\u001b[34m\u001b[1mwandb\u001b[0m: \tbh0: 11.89507353131504\n",
      "\u001b[34m\u001b[1mwandb\u001b[0m: \tbh1: 13.64089590021791\n",
      "\u001b[34m\u001b[1mwandb\u001b[0m: \tc: 2.2875272162448046\n"
     ]
    },
    {
     "data": {
      "text/html": [
       "wandb version 0.19.11 is available!  To upgrade, please run:\n",
       " $ pip install wandb --upgrade"
      ],
      "text/plain": [
       "<IPython.core.display.HTML object>"
      ]
     },
     "metadata": {},
     "output_type": "display_data"
    },
    {
     "data": {
      "text/html": [
       "Tracking run with wandb version 0.17.4"
      ],
      "text/plain": [
       "<IPython.core.display.HTML object>"
      ]
     },
     "metadata": {},
     "output_type": "display_data"
    },
    {
     "data": {
      "text/html": [
       "Run data is saved locally in <code>/12tb_dsk3/SEIR_model/src/wandb/run-20250529_065712-paxv3mry</code>"
      ],
      "text/plain": [
       "<IPython.core.display.HTML object>"
      ]
     },
     "metadata": {},
     "output_type": "display_data"
    },
    {
     "data": {
      "text/html": [
       "Syncing run <strong><a href='https://wandb.ai/danish2562022/sweeps-SEIR_Sk%C3%A5ne_Kronoberg/runs/paxv3mry' target=\"_blank\">polished-sweep-3</a></strong> to <a href='https://wandb.ai/danish2562022/sweeps-SEIR_Sk%C3%A5ne_Kronoberg' target=\"_blank\">Weights & Biases</a> (<a href='https://wandb.me/run' target=\"_blank\">docs</a>)<br/>Sweep page: <a href='https://wandb.ai/danish2562022/sweeps-SEIR_Sk%C3%A5ne_Kronoberg/sweeps/uenjiggc' target=\"_blank\">https://wandb.ai/danish2562022/sweeps-SEIR_Sk%C3%A5ne_Kronoberg/sweeps/uenjiggc</a>"
      ],
      "text/plain": [
       "<IPython.core.display.HTML object>"
      ]
     },
     "metadata": {},
     "output_type": "display_data"
    },
    {
     "data": {
      "text/html": [
       " View project at <a href='https://wandb.ai/danish2562022/sweeps-SEIR_Sk%C3%A5ne_Kronoberg' target=\"_blank\">https://wandb.ai/danish2562022/sweeps-SEIR_Sk%C3%A5ne_Kronoberg</a>"
      ],
      "text/plain": [
       "<IPython.core.display.HTML object>"
      ]
     },
     "metadata": {},
     "output_type": "display_data"
    },
    {
     "data": {
      "text/html": [
       " View sweep at <a href='https://wandb.ai/danish2562022/sweeps-SEIR_Sk%C3%A5ne_Kronoberg/sweeps/uenjiggc' target=\"_blank\">https://wandb.ai/danish2562022/sweeps-SEIR_Sk%C3%A5ne_Kronoberg/sweeps/uenjiggc</a>"
      ],
      "text/plain": [
       "<IPython.core.display.HTML object>"
      ]
     },
     "metadata": {},
     "output_type": "display_data"
    },
    {
     "data": {
      "text/html": [
       " View run at <a href='https://wandb.ai/danish2562022/sweeps-SEIR_Sk%C3%A5ne_Kronoberg/runs/paxv3mry' target=\"_blank\">https://wandb.ai/danish2562022/sweeps-SEIR_Sk%C3%A5ne_Kronoberg/runs/paxv3mry</a>"
      ],
      "text/plain": [
       "<IPython.core.display.HTML object>"
      ]
     },
     "metadata": {},
     "output_type": "display_data"
    },
    {
     "data": {
      "application/vnd.jupyter.widget-view+json": {
       "model_id": "",
       "version_major": 2,
       "version_minor": 0
      },
      "text/plain": [
       "VBox(children=(Label(value='0.004 MB of 0.004 MB uploaded\\r'), FloatProgress(value=1.0, max=1.0)))"
      ]
     },
     "metadata": {},
     "output_type": "display_data"
    },
    {
     "data": {
      "text/html": [
       "<style>\n",
       "    table.wandb td:nth-child(1) { padding: 0 10px; text-align: left ; width: auto;} td:nth-child(2) {text-align: left ; width: 100%}\n",
       "    .wandb-row { display: flex; flex-direction: row; flex-wrap: wrap; justify-content: flex-start; width: 100% }\n",
       "    .wandb-col { display: flex; flex-direction: column; flex-basis: 100%; flex: 1; padding: 10px; }\n",
       "    </style>\n",
       "<div class=\"wandb-row\"><div class=\"wandb-col\"><h3>Run history:</h3><br/><table class=\"wandb\"><tr><td>CV_RMSE</td><td>▁</td></tr><tr><td>CV_RMSE_'skane</td><td>▁</td></tr><tr><td>CV_RMSE_kronoberg</td><td>▁</td></tr><tr><td>RMSE</td><td>▁</td></tr><tr><td>RMSE_kronoberg</td><td>▁</td></tr><tr><td>RMSE_skane</td><td>▁</td></tr></table><br/></div><div class=\"wandb-col\"><h3>Run summary:</h3><br/><table class=\"wandb\"><tr><td>CV_RMSE</td><td>4813.88306</td></tr><tr><td>CV_RMSE_'skane</td><td>2513.94264</td></tr><tr><td>CV_RMSE_kronoberg</td><td>2299.94042</td></tr><tr><td>RMSE</td><td>1830.27571</td></tr><tr><td>RMSE_kronoberg</td><td>244.81588</td></tr><tr><td>RMSE_skane</td><td>1585.45983</td></tr></table><br/></div></div>"
      ],
      "text/plain": [
       "<IPython.core.display.HTML object>"
      ]
     },
     "metadata": {},
     "output_type": "display_data"
    },
    {
     "data": {
      "text/html": [
       " View run <strong style=\"color:#cdcd00\">polished-sweep-3</strong> at: <a href='https://wandb.ai/danish2562022/sweeps-SEIR_Sk%C3%A5ne_Kronoberg/runs/paxv3mry' target=\"_blank\">https://wandb.ai/danish2562022/sweeps-SEIR_Sk%C3%A5ne_Kronoberg/runs/paxv3mry</a><br/> View project at: <a href='https://wandb.ai/danish2562022/sweeps-SEIR_Sk%C3%A5ne_Kronoberg' target=\"_blank\">https://wandb.ai/danish2562022/sweeps-SEIR_Sk%C3%A5ne_Kronoberg</a><br/>Synced 5 W&B file(s), 0 media file(s), 0 artifact file(s) and 0 other file(s)"
      ],
      "text/plain": [
       "<IPython.core.display.HTML object>"
      ]
     },
     "metadata": {},
     "output_type": "display_data"
    },
    {
     "data": {
      "text/html": [
       "Find logs at: <code>./wandb/run-20250529_065712-paxv3mry/logs</code>"
      ],
      "text/plain": [
       "<IPython.core.display.HTML object>"
      ]
     },
     "metadata": {},
     "output_type": "display_data"
    },
    {
     "data": {
      "text/html": [
       "The new W&B backend becomes opt-out in version 0.18.0; try it out with `wandb.require(\"core\")`! See https://wandb.me/wandb-core for more information."
      ],
      "text/plain": [
       "<IPython.core.display.HTML object>"
      ]
     },
     "metadata": {},
     "output_type": "display_data"
    },
    {
     "name": "stderr",
     "output_type": "stream",
     "text": [
      "\u001b[34m\u001b[1mwandb\u001b[0m: Agent Starting Run: te9rhohl with config:\n",
      "\u001b[34m\u001b[1mwandb\u001b[0m: \tah0: 2.949639473483776\n",
      "\u001b[34m\u001b[1mwandb\u001b[0m: \tah1: 4.586806036291895\n",
      "\u001b[34m\u001b[1mwandb\u001b[0m: \tbh0: 12.40496584696166\n",
      "\u001b[34m\u001b[1mwandb\u001b[0m: \tbh1: 3.427784319094632\n",
      "\u001b[34m\u001b[1mwandb\u001b[0m: \tc: 4.1523193853748745\n"
     ]
    },
    {
     "data": {
      "text/html": [
       "wandb version 0.19.11 is available!  To upgrade, please run:\n",
       " $ pip install wandb --upgrade"
      ],
      "text/plain": [
       "<IPython.core.display.HTML object>"
      ]
     },
     "metadata": {},
     "output_type": "display_data"
    },
    {
     "data": {
      "text/html": [
       "Tracking run with wandb version 0.17.4"
      ],
      "text/plain": [
       "<IPython.core.display.HTML object>"
      ]
     },
     "metadata": {},
     "output_type": "display_data"
    },
    {
     "data": {
      "text/html": [
       "Run data is saved locally in <code>/12tb_dsk3/SEIR_model/src/wandb/run-20250529_065727-te9rhohl</code>"
      ],
      "text/plain": [
       "<IPython.core.display.HTML object>"
      ]
     },
     "metadata": {},
     "output_type": "display_data"
    },
    {
     "data": {
      "text/html": [
       "Syncing run <strong><a href='https://wandb.ai/danish2562022/sweeps-SEIR_Sk%C3%A5ne_Kronoberg/runs/te9rhohl' target=\"_blank\">giddy-sweep-4</a></strong> to <a href='https://wandb.ai/danish2562022/sweeps-SEIR_Sk%C3%A5ne_Kronoberg' target=\"_blank\">Weights & Biases</a> (<a href='https://wandb.me/run' target=\"_blank\">docs</a>)<br/>Sweep page: <a href='https://wandb.ai/danish2562022/sweeps-SEIR_Sk%C3%A5ne_Kronoberg/sweeps/uenjiggc' target=\"_blank\">https://wandb.ai/danish2562022/sweeps-SEIR_Sk%C3%A5ne_Kronoberg/sweeps/uenjiggc</a>"
      ],
      "text/plain": [
       "<IPython.core.display.HTML object>"
      ]
     },
     "metadata": {},
     "output_type": "display_data"
    },
    {
     "data": {
      "text/html": [
       " View project at <a href='https://wandb.ai/danish2562022/sweeps-SEIR_Sk%C3%A5ne_Kronoberg' target=\"_blank\">https://wandb.ai/danish2562022/sweeps-SEIR_Sk%C3%A5ne_Kronoberg</a>"
      ],
      "text/plain": [
       "<IPython.core.display.HTML object>"
      ]
     },
     "metadata": {},
     "output_type": "display_data"
    },
    {
     "data": {
      "text/html": [
       " View sweep at <a href='https://wandb.ai/danish2562022/sweeps-SEIR_Sk%C3%A5ne_Kronoberg/sweeps/uenjiggc' target=\"_blank\">https://wandb.ai/danish2562022/sweeps-SEIR_Sk%C3%A5ne_Kronoberg/sweeps/uenjiggc</a>"
      ],
      "text/plain": [
       "<IPython.core.display.HTML object>"
      ]
     },
     "metadata": {},
     "output_type": "display_data"
    },
    {
     "data": {
      "text/html": [
       " View run at <a href='https://wandb.ai/danish2562022/sweeps-SEIR_Sk%C3%A5ne_Kronoberg/runs/te9rhohl' target=\"_blank\">https://wandb.ai/danish2562022/sweeps-SEIR_Sk%C3%A5ne_Kronoberg/runs/te9rhohl</a>"
      ],
      "text/plain": [
       "<IPython.core.display.HTML object>"
      ]
     },
     "metadata": {},
     "output_type": "display_data"
    },
    {
     "data": {
      "application/vnd.jupyter.widget-view+json": {
       "model_id": "",
       "version_major": 2,
       "version_minor": 0
      },
      "text/plain": [
       "VBox(children=(Label(value='0.021 MB of 0.021 MB uploaded\\r'), FloatProgress(value=1.0, max=1.0)))"
      ]
     },
     "metadata": {},
     "output_type": "display_data"
    },
    {
     "data": {
      "text/html": [
       "<style>\n",
       "    table.wandb td:nth-child(1) { padding: 0 10px; text-align: left ; width: auto;} td:nth-child(2) {text-align: left ; width: 100%}\n",
       "    .wandb-row { display: flex; flex-direction: row; flex-wrap: wrap; justify-content: flex-start; width: 100% }\n",
       "    .wandb-col { display: flex; flex-direction: column; flex-basis: 100%; flex: 1; padding: 10px; }\n",
       "    </style>\n",
       "<div class=\"wandb-row\"><div class=\"wandb-col\"><h3>Run history:</h3><br/><table class=\"wandb\"><tr><td>CV_RMSE</td><td>▁</td></tr><tr><td>CV_RMSE_'skane</td><td>▁</td></tr><tr><td>CV_RMSE_kronoberg</td><td>▁</td></tr><tr><td>RMSE</td><td>▁</td></tr><tr><td>RMSE_kronoberg</td><td>▁</td></tr><tr><td>RMSE_skane</td><td>▁</td></tr></table><br/></div><div class=\"wandb-col\"><h3>Run summary:</h3><br/><table class=\"wandb\"><tr><td>CV_RMSE</td><td>4855.87721</td></tr><tr><td>CV_RMSE_'skane</td><td>2578.69977</td></tr><tr><td>CV_RMSE_kronoberg</td><td>2277.17744</td></tr><tr><td>RMSE</td><td>1868.69287</td></tr><tr><td>RMSE_kronoberg</td><td>242.39289</td></tr><tr><td>RMSE_skane</td><td>1626.29999</td></tr></table><br/></div></div>"
      ],
      "text/plain": [
       "<IPython.core.display.HTML object>"
      ]
     },
     "metadata": {},
     "output_type": "display_data"
    },
    {
     "data": {
      "text/html": [
       " View run <strong style=\"color:#cdcd00\">giddy-sweep-4</strong> at: <a href='https://wandb.ai/danish2562022/sweeps-SEIR_Sk%C3%A5ne_Kronoberg/runs/te9rhohl' target=\"_blank\">https://wandb.ai/danish2562022/sweeps-SEIR_Sk%C3%A5ne_Kronoberg/runs/te9rhohl</a><br/> View project at: <a href='https://wandb.ai/danish2562022/sweeps-SEIR_Sk%C3%A5ne_Kronoberg' target=\"_blank\">https://wandb.ai/danish2562022/sweeps-SEIR_Sk%C3%A5ne_Kronoberg</a><br/>Synced 5 W&B file(s), 0 media file(s), 0 artifact file(s) and 0 other file(s)"
      ],
      "text/plain": [
       "<IPython.core.display.HTML object>"
      ]
     },
     "metadata": {},
     "output_type": "display_data"
    },
    {
     "data": {
      "text/html": [
       "Find logs at: <code>./wandb/run-20250529_065727-te9rhohl/logs</code>"
      ],
      "text/plain": [
       "<IPython.core.display.HTML object>"
      ]
     },
     "metadata": {},
     "output_type": "display_data"
    },
    {
     "data": {
      "text/html": [
       "The new W&B backend becomes opt-out in version 0.18.0; try it out with `wandb.require(\"core\")`! See https://wandb.me/wandb-core for more information."
      ],
      "text/plain": [
       "<IPython.core.display.HTML object>"
      ]
     },
     "metadata": {},
     "output_type": "display_data"
    },
    {
     "name": "stderr",
     "output_type": "stream",
     "text": [
      "\u001b[34m\u001b[1mwandb\u001b[0m: Sweep Agent: Waiting for job.\n",
      "\u001b[34m\u001b[1mwandb\u001b[0m: Job received.\n",
      "\u001b[34m\u001b[1mwandb\u001b[0m: Agent Starting Run: pcw50zrg with config:\n",
      "\u001b[34m\u001b[1mwandb\u001b[0m: \tah0: 2.976494344766005\n",
      "\u001b[34m\u001b[1mwandb\u001b[0m: \tah1: 3.418627565585184\n",
      "\u001b[34m\u001b[1mwandb\u001b[0m: \tbh0: 5.002264567981964\n",
      "\u001b[34m\u001b[1mwandb\u001b[0m: \tbh1: 6.920209257487697\n",
      "\u001b[34m\u001b[1mwandb\u001b[0m: \tc: 2.9126351975079645\n"
     ]
    },
    {
     "data": {
      "text/html": [
       "wandb version 0.19.11 is available!  To upgrade, please run:\n",
       " $ pip install wandb --upgrade"
      ],
      "text/plain": [
       "<IPython.core.display.HTML object>"
      ]
     },
     "metadata": {},
     "output_type": "display_data"
    },
    {
     "data": {
      "text/html": [
       "Tracking run with wandb version 0.17.4"
      ],
      "text/plain": [
       "<IPython.core.display.HTML object>"
      ]
     },
     "metadata": {},
     "output_type": "display_data"
    },
    {
     "data": {
      "text/html": [
       "Run data is saved locally in <code>/12tb_dsk3/SEIR_model/src/wandb/run-20250529_065744-pcw50zrg</code>"
      ],
      "text/plain": [
       "<IPython.core.display.HTML object>"
      ]
     },
     "metadata": {},
     "output_type": "display_data"
    },
    {
     "data": {
      "text/html": [
       "Syncing run <strong><a href='https://wandb.ai/danish2562022/sweeps-SEIR_Sk%C3%A5ne_Kronoberg/runs/pcw50zrg' target=\"_blank\">dandy-sweep-5</a></strong> to <a href='https://wandb.ai/danish2562022/sweeps-SEIR_Sk%C3%A5ne_Kronoberg' target=\"_blank\">Weights & Biases</a> (<a href='https://wandb.me/run' target=\"_blank\">docs</a>)<br/>Sweep page: <a href='https://wandb.ai/danish2562022/sweeps-SEIR_Sk%C3%A5ne_Kronoberg/sweeps/uenjiggc' target=\"_blank\">https://wandb.ai/danish2562022/sweeps-SEIR_Sk%C3%A5ne_Kronoberg/sweeps/uenjiggc</a>"
      ],
      "text/plain": [
       "<IPython.core.display.HTML object>"
      ]
     },
     "metadata": {},
     "output_type": "display_data"
    },
    {
     "data": {
      "text/html": [
       " View project at <a href='https://wandb.ai/danish2562022/sweeps-SEIR_Sk%C3%A5ne_Kronoberg' target=\"_blank\">https://wandb.ai/danish2562022/sweeps-SEIR_Sk%C3%A5ne_Kronoberg</a>"
      ],
      "text/plain": [
       "<IPython.core.display.HTML object>"
      ]
     },
     "metadata": {},
     "output_type": "display_data"
    },
    {
     "data": {
      "text/html": [
       " View sweep at <a href='https://wandb.ai/danish2562022/sweeps-SEIR_Sk%C3%A5ne_Kronoberg/sweeps/uenjiggc' target=\"_blank\">https://wandb.ai/danish2562022/sweeps-SEIR_Sk%C3%A5ne_Kronoberg/sweeps/uenjiggc</a>"
      ],
      "text/plain": [
       "<IPython.core.display.HTML object>"
      ]
     },
     "metadata": {},
     "output_type": "display_data"
    },
    {
     "data": {
      "text/html": [
       " View run at <a href='https://wandb.ai/danish2562022/sweeps-SEIR_Sk%C3%A5ne_Kronoberg/runs/pcw50zrg' target=\"_blank\">https://wandb.ai/danish2562022/sweeps-SEIR_Sk%C3%A5ne_Kronoberg/runs/pcw50zrg</a>"
      ],
      "text/plain": [
       "<IPython.core.display.HTML object>"
      ]
     },
     "metadata": {},
     "output_type": "display_data"
    },
    {
     "data": {
      "application/vnd.jupyter.widget-view+json": {
       "model_id": "a4af8b3ce56443c58eb7725b8fcdeabe",
       "version_major": 2,
       "version_minor": 0
      },
      "text/plain": [
       "VBox(children=(Label(value='0.021 MB of 0.021 MB uploaded\\r'), FloatProgress(value=1.0, max=1.0)))"
      ]
     },
     "metadata": {},
     "output_type": "display_data"
    },
    {
     "data": {
      "text/html": [
       "<style>\n",
       "    table.wandb td:nth-child(1) { padding: 0 10px; text-align: left ; width: auto;} td:nth-child(2) {text-align: left ; width: 100%}\n",
       "    .wandb-row { display: flex; flex-direction: row; flex-wrap: wrap; justify-content: flex-start; width: 100% }\n",
       "    .wandb-col { display: flex; flex-direction: column; flex-basis: 100%; flex: 1; padding: 10px; }\n",
       "    </style>\n",
       "<div class=\"wandb-row\"><div class=\"wandb-col\"><h3>Run history:</h3><br/><table class=\"wandb\"><tr><td>CV_RMSE</td><td>▁</td></tr><tr><td>CV_RMSE_'skane</td><td>▁</td></tr><tr><td>CV_RMSE_kronoberg</td><td>▁</td></tr><tr><td>RMSE</td><td>▁</td></tr><tr><td>RMSE_kronoberg</td><td>▁</td></tr><tr><td>RMSE_skane</td><td>▁</td></tr></table><br/></div><div class=\"wandb-col\"><h3>Run summary:</h3><br/><table class=\"wandb\"><tr><td>CV_RMSE</td><td>4220.10005</td></tr><tr><td>CV_RMSE_'skane</td><td>2248.91464</td></tr><tr><td>CV_RMSE_kronoberg</td><td>1971.18541</td></tr><tr><td>RMSE</td><td>1628.13724</td></tr><tr><td>RMSE_kronoberg</td><td>209.82174</td></tr><tr><td>RMSE_skane</td><td>1418.3155</td></tr></table><br/></div></div>"
      ],
      "text/plain": [
       "<IPython.core.display.HTML object>"
      ]
     },
     "metadata": {},
     "output_type": "display_data"
    },
    {
     "data": {
      "text/html": [
       " View run <strong style=\"color:#cdcd00\">dandy-sweep-5</strong> at: <a href='https://wandb.ai/danish2562022/sweeps-SEIR_Sk%C3%A5ne_Kronoberg/runs/pcw50zrg' target=\"_blank\">https://wandb.ai/danish2562022/sweeps-SEIR_Sk%C3%A5ne_Kronoberg/runs/pcw50zrg</a><br/> View project at: <a href='https://wandb.ai/danish2562022/sweeps-SEIR_Sk%C3%A5ne_Kronoberg' target=\"_blank\">https://wandb.ai/danish2562022/sweeps-SEIR_Sk%C3%A5ne_Kronoberg</a><br/>Synced 5 W&B file(s), 0 media file(s), 0 artifact file(s) and 0 other file(s)"
      ],
      "text/plain": [
       "<IPython.core.display.HTML object>"
      ]
     },
     "metadata": {},
     "output_type": "display_data"
    },
    {
     "data": {
      "text/html": [
       "Find logs at: <code>./wandb/run-20250529_065744-pcw50zrg/logs</code>"
      ],
      "text/plain": [
       "<IPython.core.display.HTML object>"
      ]
     },
     "metadata": {},
     "output_type": "display_data"
    },
    {
     "data": {
      "text/html": [
       "The new W&B backend becomes opt-out in version 0.18.0; try it out with `wandb.require(\"core\")`! See https://wandb.me/wandb-core for more information."
      ],
      "text/plain": [
       "<IPython.core.display.HTML object>"
      ]
     },
     "metadata": {},
     "output_type": "display_data"
    },
    {
     "name": "stderr",
     "output_type": "stream",
     "text": [
      "\u001b[34m\u001b[1mwandb\u001b[0m: Agent Starting Run: iv6tvv0f with config:\n",
      "\u001b[34m\u001b[1mwandb\u001b[0m: \tah0: 2.160846125930588\n",
      "\u001b[34m\u001b[1mwandb\u001b[0m: \tah1: 2.5631999405187997\n",
      "\u001b[34m\u001b[1mwandb\u001b[0m: \tbh0: 4.498464619214436\n",
      "\u001b[34m\u001b[1mwandb\u001b[0m: \tbh1: 12.503740651604964\n",
      "\u001b[34m\u001b[1mwandb\u001b[0m: \tc: 1.5539274630837108\n"
     ]
    },
    {
     "data": {
      "text/html": [
       "wandb version 0.19.11 is available!  To upgrade, please run:\n",
       " $ pip install wandb --upgrade"
      ],
      "text/plain": [
       "<IPython.core.display.HTML object>"
      ]
     },
     "metadata": {},
     "output_type": "display_data"
    },
    {
     "data": {
      "text/html": [
       "Tracking run with wandb version 0.17.4"
      ],
      "text/plain": [
       "<IPython.core.display.HTML object>"
      ]
     },
     "metadata": {},
     "output_type": "display_data"
    },
    {
     "data": {
      "text/html": [
       "Run data is saved locally in <code>/12tb_dsk3/SEIR_model/src/wandb/run-20250529_065754-iv6tvv0f</code>"
      ],
      "text/plain": [
       "<IPython.core.display.HTML object>"
      ]
     },
     "metadata": {},
     "output_type": "display_data"
    },
    {
     "data": {
      "text/html": [
       "Syncing run <strong><a href='https://wandb.ai/danish2562022/sweeps-SEIR_Sk%C3%A5ne_Kronoberg/runs/iv6tvv0f' target=\"_blank\">noble-sweep-6</a></strong> to <a href='https://wandb.ai/danish2562022/sweeps-SEIR_Sk%C3%A5ne_Kronoberg' target=\"_blank\">Weights & Biases</a> (<a href='https://wandb.me/run' target=\"_blank\">docs</a>)<br/>Sweep page: <a href='https://wandb.ai/danish2562022/sweeps-SEIR_Sk%C3%A5ne_Kronoberg/sweeps/uenjiggc' target=\"_blank\">https://wandb.ai/danish2562022/sweeps-SEIR_Sk%C3%A5ne_Kronoberg/sweeps/uenjiggc</a>"
      ],
      "text/plain": [
       "<IPython.core.display.HTML object>"
      ]
     },
     "metadata": {},
     "output_type": "display_data"
    },
    {
     "data": {
      "text/html": [
       " View project at <a href='https://wandb.ai/danish2562022/sweeps-SEIR_Sk%C3%A5ne_Kronoberg' target=\"_blank\">https://wandb.ai/danish2562022/sweeps-SEIR_Sk%C3%A5ne_Kronoberg</a>"
      ],
      "text/plain": [
       "<IPython.core.display.HTML object>"
      ]
     },
     "metadata": {},
     "output_type": "display_data"
    },
    {
     "data": {
      "text/html": [
       " View sweep at <a href='https://wandb.ai/danish2562022/sweeps-SEIR_Sk%C3%A5ne_Kronoberg/sweeps/uenjiggc' target=\"_blank\">https://wandb.ai/danish2562022/sweeps-SEIR_Sk%C3%A5ne_Kronoberg/sweeps/uenjiggc</a>"
      ],
      "text/plain": [
       "<IPython.core.display.HTML object>"
      ]
     },
     "metadata": {},
     "output_type": "display_data"
    },
    {
     "data": {
      "text/html": [
       " View run at <a href='https://wandb.ai/danish2562022/sweeps-SEIR_Sk%C3%A5ne_Kronoberg/runs/iv6tvv0f' target=\"_blank\">https://wandb.ai/danish2562022/sweeps-SEIR_Sk%C3%A5ne_Kronoberg/runs/iv6tvv0f</a>"
      ],
      "text/plain": [
       "<IPython.core.display.HTML object>"
      ]
     },
     "metadata": {},
     "output_type": "display_data"
    },
    {
     "data": {
      "application/vnd.jupyter.widget-view+json": {
       "model_id": "7416b31238b24e118e3882a22d1586aa",
       "version_major": 2,
       "version_minor": 0
      },
      "text/plain": [
       "VBox(children=(Label(value='0.021 MB of 0.021 MB uploaded\\r'), FloatProgress(value=1.0, max=1.0)))"
      ]
     },
     "metadata": {},
     "output_type": "display_data"
    },
    {
     "data": {
      "text/html": [
       "<style>\n",
       "    table.wandb td:nth-child(1) { padding: 0 10px; text-align: left ; width: auto;} td:nth-child(2) {text-align: left ; width: 100%}\n",
       "    .wandb-row { display: flex; flex-direction: row; flex-wrap: wrap; justify-content: flex-start; width: 100% }\n",
       "    .wandb-col { display: flex; flex-direction: column; flex-basis: 100%; flex: 1; padding: 10px; }\n",
       "    </style>\n",
       "<div class=\"wandb-row\"><div class=\"wandb-col\"><h3>Run history:</h3><br/><table class=\"wandb\"><tr><td>CV_RMSE</td><td>▁</td></tr><tr><td>CV_RMSE_'skane</td><td>▁</td></tr><tr><td>CV_RMSE_kronoberg</td><td>▁</td></tr><tr><td>RMSE</td><td>▁</td></tr><tr><td>RMSE_kronoberg</td><td>▁</td></tr><tr><td>RMSE_skane</td><td>▁</td></tr></table><br/></div><div class=\"wandb-col\"><h3>Run summary:</h3><br/><table class=\"wandb\"><tr><td>CV_RMSE</td><td>1148.19277</td></tr><tr><td>CV_RMSE_'skane</td><td>701.10752</td></tr><tr><td>CV_RMSE_kronoberg</td><td>447.08526</td></tr><tr><td>RMSE</td><td>489.75488</td></tr><tr><td>RMSE_kronoberg</td><td>47.58974</td></tr><tr><td>RMSE_skane</td><td>442.16514</td></tr></table><br/></div></div>"
      ],
      "text/plain": [
       "<IPython.core.display.HTML object>"
      ]
     },
     "metadata": {},
     "output_type": "display_data"
    },
    {
     "data": {
      "text/html": [
       " View run <strong style=\"color:#cdcd00\">noble-sweep-6</strong> at: <a href='https://wandb.ai/danish2562022/sweeps-SEIR_Sk%C3%A5ne_Kronoberg/runs/iv6tvv0f' target=\"_blank\">https://wandb.ai/danish2562022/sweeps-SEIR_Sk%C3%A5ne_Kronoberg/runs/iv6tvv0f</a><br/> View project at: <a href='https://wandb.ai/danish2562022/sweeps-SEIR_Sk%C3%A5ne_Kronoberg' target=\"_blank\">https://wandb.ai/danish2562022/sweeps-SEIR_Sk%C3%A5ne_Kronoberg</a><br/>Synced 5 W&B file(s), 0 media file(s), 0 artifact file(s) and 0 other file(s)"
      ],
      "text/plain": [
       "<IPython.core.display.HTML object>"
      ]
     },
     "metadata": {},
     "output_type": "display_data"
    },
    {
     "data": {
      "text/html": [
       "Find logs at: <code>./wandb/run-20250529_065754-iv6tvv0f/logs</code>"
      ],
      "text/plain": [
       "<IPython.core.display.HTML object>"
      ]
     },
     "metadata": {},
     "output_type": "display_data"
    },
    {
     "data": {
      "text/html": [
       "The new W&B backend becomes opt-out in version 0.18.0; try it out with `wandb.require(\"core\")`! See https://wandb.me/wandb-core for more information."
      ],
      "text/plain": [
       "<IPython.core.display.HTML object>"
      ]
     },
     "metadata": {},
     "output_type": "display_data"
    },
    {
     "name": "stderr",
     "output_type": "stream",
     "text": [
      "\u001b[34m\u001b[1mwandb\u001b[0m: Agent Starting Run: 0ornbwn9 with config:\n",
      "\u001b[34m\u001b[1mwandb\u001b[0m: \tah0: 0.3193049341633707\n",
      "\u001b[34m\u001b[1mwandb\u001b[0m: \tah1: 1.7380028533426872\n",
      "\u001b[34m\u001b[1mwandb\u001b[0m: \tbh0: 11.141881753296106\n",
      "\u001b[34m\u001b[1mwandb\u001b[0m: \tbh1: 9.472853195463568\n",
      "\u001b[34m\u001b[1mwandb\u001b[0m: \tc: 4.695288470091124\n"
     ]
    },
    {
     "data": {
      "text/html": [
       "wandb version 0.19.11 is available!  To upgrade, please run:\n",
       " $ pip install wandb --upgrade"
      ],
      "text/plain": [
       "<IPython.core.display.HTML object>"
      ]
     },
     "metadata": {},
     "output_type": "display_data"
    },
    {
     "data": {
      "text/html": [
       "Tracking run with wandb version 0.17.4"
      ],
      "text/plain": [
       "<IPython.core.display.HTML object>"
      ]
     },
     "metadata": {},
     "output_type": "display_data"
    },
    {
     "data": {
      "text/html": [
       "Run data is saved locally in <code>/12tb_dsk3/SEIR_model/src/wandb/run-20250529_065804-0ornbwn9</code>"
      ],
      "text/plain": [
       "<IPython.core.display.HTML object>"
      ]
     },
     "metadata": {},
     "output_type": "display_data"
    },
    {
     "data": {
      "text/html": [
       "Syncing run <strong><a href='https://wandb.ai/danish2562022/sweeps-SEIR_Sk%C3%A5ne_Kronoberg/runs/0ornbwn9' target=\"_blank\">frosty-sweep-7</a></strong> to <a href='https://wandb.ai/danish2562022/sweeps-SEIR_Sk%C3%A5ne_Kronoberg' target=\"_blank\">Weights & Biases</a> (<a href='https://wandb.me/run' target=\"_blank\">docs</a>)<br/>Sweep page: <a href='https://wandb.ai/danish2562022/sweeps-SEIR_Sk%C3%A5ne_Kronoberg/sweeps/uenjiggc' target=\"_blank\">https://wandb.ai/danish2562022/sweeps-SEIR_Sk%C3%A5ne_Kronoberg/sweeps/uenjiggc</a>"
      ],
      "text/plain": [
       "<IPython.core.display.HTML object>"
      ]
     },
     "metadata": {},
     "output_type": "display_data"
    },
    {
     "data": {
      "text/html": [
       " View project at <a href='https://wandb.ai/danish2562022/sweeps-SEIR_Sk%C3%A5ne_Kronoberg' target=\"_blank\">https://wandb.ai/danish2562022/sweeps-SEIR_Sk%C3%A5ne_Kronoberg</a>"
      ],
      "text/plain": [
       "<IPython.core.display.HTML object>"
      ]
     },
     "metadata": {},
     "output_type": "display_data"
    },
    {
     "data": {
      "text/html": [
       " View sweep at <a href='https://wandb.ai/danish2562022/sweeps-SEIR_Sk%C3%A5ne_Kronoberg/sweeps/uenjiggc' target=\"_blank\">https://wandb.ai/danish2562022/sweeps-SEIR_Sk%C3%A5ne_Kronoberg/sweeps/uenjiggc</a>"
      ],
      "text/plain": [
       "<IPython.core.display.HTML object>"
      ]
     },
     "metadata": {},
     "output_type": "display_data"
    },
    {
     "data": {
      "text/html": [
       " View run at <a href='https://wandb.ai/danish2562022/sweeps-SEIR_Sk%C3%A5ne_Kronoberg/runs/0ornbwn9' target=\"_blank\">https://wandb.ai/danish2562022/sweeps-SEIR_Sk%C3%A5ne_Kronoberg/runs/0ornbwn9</a>"
      ],
      "text/plain": [
       "<IPython.core.display.HTML object>"
      ]
     },
     "metadata": {},
     "output_type": "display_data"
    },
    {
     "data": {
      "application/vnd.jupyter.widget-view+json": {
       "model_id": "5ac18d31c2dd49e3a8e272aacf7a3af1",
       "version_major": 2,
       "version_minor": 0
      },
      "text/plain": [
       "VBox(children=(Label(value='0.021 MB of 0.021 MB uploaded\\r'), FloatProgress(value=1.0, max=1.0)))"
      ]
     },
     "metadata": {},
     "output_type": "display_data"
    },
    {
     "data": {
      "text/html": [
       "<style>\n",
       "    table.wandb td:nth-child(1) { padding: 0 10px; text-align: left ; width: auto;} td:nth-child(2) {text-align: left ; width: 100%}\n",
       "    .wandb-row { display: flex; flex-direction: row; flex-wrap: wrap; justify-content: flex-start; width: 100% }\n",
       "    .wandb-col { display: flex; flex-direction: column; flex-basis: 100%; flex: 1; padding: 10px; }\n",
       "    </style>\n",
       "<div class=\"wandb-row\"><div class=\"wandb-col\"><h3>Run history:</h3><br/><table class=\"wandb\"><tr><td>CV_RMSE</td><td>▁</td></tr><tr><td>CV_RMSE_'skane</td><td>▁</td></tr><tr><td>CV_RMSE_kronoberg</td><td>▁</td></tr><tr><td>RMSE</td><td>▁</td></tr><tr><td>RMSE_kronoberg</td><td>▁</td></tr><tr><td>RMSE_skane</td><td>▁</td></tr></table><br/></div><div class=\"wandb-col\"><h3>Run summary:</h3><br/><table class=\"wandb\"><tr><td>CV_RMSE</td><td>4086.49264</td></tr><tr><td>CV_RMSE_'skane</td><td>2108.65636</td></tr><tr><td>CV_RMSE_kronoberg</td><td>1977.83628</td></tr><tr><td>RMSE</td><td>1540.38896</td></tr><tr><td>RMSE_kronoberg</td><td>210.52968</td></tr><tr><td>RMSE_skane</td><td>1329.85928</td></tr></table><br/></div></div>"
      ],
      "text/plain": [
       "<IPython.core.display.HTML object>"
      ]
     },
     "metadata": {},
     "output_type": "display_data"
    },
    {
     "data": {
      "text/html": [
       " View run <strong style=\"color:#cdcd00\">frosty-sweep-7</strong> at: <a href='https://wandb.ai/danish2562022/sweeps-SEIR_Sk%C3%A5ne_Kronoberg/runs/0ornbwn9' target=\"_blank\">https://wandb.ai/danish2562022/sweeps-SEIR_Sk%C3%A5ne_Kronoberg/runs/0ornbwn9</a><br/> View project at: <a href='https://wandb.ai/danish2562022/sweeps-SEIR_Sk%C3%A5ne_Kronoberg' target=\"_blank\">https://wandb.ai/danish2562022/sweeps-SEIR_Sk%C3%A5ne_Kronoberg</a><br/>Synced 5 W&B file(s), 0 media file(s), 0 artifact file(s) and 0 other file(s)"
      ],
      "text/plain": [
       "<IPython.core.display.HTML object>"
      ]
     },
     "metadata": {},
     "output_type": "display_data"
    },
    {
     "data": {
      "text/html": [
       "Find logs at: <code>./wandb/run-20250529_065804-0ornbwn9/logs</code>"
      ],
      "text/plain": [
       "<IPython.core.display.HTML object>"
      ]
     },
     "metadata": {},
     "output_type": "display_data"
    },
    {
     "data": {
      "text/html": [
       "The new W&B backend becomes opt-out in version 0.18.0; try it out with `wandb.require(\"core\")`! See https://wandb.me/wandb-core for more information."
      ],
      "text/plain": [
       "<IPython.core.display.HTML object>"
      ]
     },
     "metadata": {},
     "output_type": "display_data"
    },
    {
     "name": "stderr",
     "output_type": "stream",
     "text": [
      "\u001b[34m\u001b[1mwandb\u001b[0m: Agent Starting Run: wparpy0z with config:\n",
      "\u001b[34m\u001b[1mwandb\u001b[0m: \tah0: 5.672153129212086\n",
      "\u001b[34m\u001b[1mwandb\u001b[0m: \tah1: 6.98207766446559\n",
      "\u001b[34m\u001b[1mwandb\u001b[0m: \tbh0: 11.218424051935946\n",
      "\u001b[34m\u001b[1mwandb\u001b[0m: \tbh1: 14.949605897088457\n",
      "\u001b[34m\u001b[1mwandb\u001b[0m: \tc: 3.885827881538738\n"
     ]
    },
    {
     "data": {
      "text/html": [
       "wandb version 0.19.11 is available!  To upgrade, please run:\n",
       " $ pip install wandb --upgrade"
      ],
      "text/plain": [
       "<IPython.core.display.HTML object>"
      ]
     },
     "metadata": {},
     "output_type": "display_data"
    },
    {
     "data": {
      "text/html": [
       "Tracking run with wandb version 0.17.4"
      ],
      "text/plain": [
       "<IPython.core.display.HTML object>"
      ]
     },
     "metadata": {},
     "output_type": "display_data"
    },
    {
     "data": {
      "text/html": [
       "Run data is saved locally in <code>/12tb_dsk3/SEIR_model/src/wandb/run-20250529_065815-wparpy0z</code>"
      ],
      "text/plain": [
       "<IPython.core.display.HTML object>"
      ]
     },
     "metadata": {},
     "output_type": "display_data"
    },
    {
     "data": {
      "text/html": [
       "Syncing run <strong><a href='https://wandb.ai/danish2562022/sweeps-SEIR_Sk%C3%A5ne_Kronoberg/runs/wparpy0z' target=\"_blank\">earthy-sweep-8</a></strong> to <a href='https://wandb.ai/danish2562022/sweeps-SEIR_Sk%C3%A5ne_Kronoberg' target=\"_blank\">Weights & Biases</a> (<a href='https://wandb.me/run' target=\"_blank\">docs</a>)<br/>Sweep page: <a href='https://wandb.ai/danish2562022/sweeps-SEIR_Sk%C3%A5ne_Kronoberg/sweeps/uenjiggc' target=\"_blank\">https://wandb.ai/danish2562022/sweeps-SEIR_Sk%C3%A5ne_Kronoberg/sweeps/uenjiggc</a>"
      ],
      "text/plain": [
       "<IPython.core.display.HTML object>"
      ]
     },
     "metadata": {},
     "output_type": "display_data"
    },
    {
     "data": {
      "text/html": [
       " View project at <a href='https://wandb.ai/danish2562022/sweeps-SEIR_Sk%C3%A5ne_Kronoberg' target=\"_blank\">https://wandb.ai/danish2562022/sweeps-SEIR_Sk%C3%A5ne_Kronoberg</a>"
      ],
      "text/plain": [
       "<IPython.core.display.HTML object>"
      ]
     },
     "metadata": {},
     "output_type": "display_data"
    },
    {
     "data": {
      "text/html": [
       " View sweep at <a href='https://wandb.ai/danish2562022/sweeps-SEIR_Sk%C3%A5ne_Kronoberg/sweeps/uenjiggc' target=\"_blank\">https://wandb.ai/danish2562022/sweeps-SEIR_Sk%C3%A5ne_Kronoberg/sweeps/uenjiggc</a>"
      ],
      "text/plain": [
       "<IPython.core.display.HTML object>"
      ]
     },
     "metadata": {},
     "output_type": "display_data"
    },
    {
     "data": {
      "text/html": [
       " View run at <a href='https://wandb.ai/danish2562022/sweeps-SEIR_Sk%C3%A5ne_Kronoberg/runs/wparpy0z' target=\"_blank\">https://wandb.ai/danish2562022/sweeps-SEIR_Sk%C3%A5ne_Kronoberg/runs/wparpy0z</a>"
      ],
      "text/plain": [
       "<IPython.core.display.HTML object>"
      ]
     },
     "metadata": {},
     "output_type": "display_data"
    },
    {
     "data": {
      "application/vnd.jupyter.widget-view+json": {
       "model_id": "ba677fa10e9043a09464d5023dd3d1ac",
       "version_major": 2,
       "version_minor": 0
      },
      "text/plain": [
       "VBox(children=(Label(value='0.021 MB of 0.021 MB uploaded\\r'), FloatProgress(value=1.0, max=1.0)))"
      ]
     },
     "metadata": {},
     "output_type": "display_data"
    },
    {
     "data": {
      "text/html": [
       "<style>\n",
       "    table.wandb td:nth-child(1) { padding: 0 10px; text-align: left ; width: auto;} td:nth-child(2) {text-align: left ; width: 100%}\n",
       "    .wandb-row { display: flex; flex-direction: row; flex-wrap: wrap; justify-content: flex-start; width: 100% }\n",
       "    .wandb-col { display: flex; flex-direction: column; flex-basis: 100%; flex: 1; padding: 10px; }\n",
       "    </style>\n",
       "<div class=\"wandb-row\"><div class=\"wandb-col\"><h3>Run history:</h3><br/><table class=\"wandb\"><tr><td>CV_RMSE</td><td>▁</td></tr><tr><td>CV_RMSE_'skane</td><td>▁</td></tr><tr><td>CV_RMSE_kronoberg</td><td>▁</td></tr><tr><td>RMSE</td><td>▁</td></tr><tr><td>RMSE_kronoberg</td><td>▁</td></tr><tr><td>RMSE_skane</td><td>▁</td></tr></table><br/></div><div class=\"wandb-col\"><h3>Run summary:</h3><br/><table class=\"wandb\"><tr><td>CV_RMSE</td><td>5239.40388</td></tr><tr><td>CV_RMSE_'skane</td><td>2803.22802</td></tr><tr><td>CV_RMSE_kronoberg</td><td>2436.17585</td></tr><tr><td>RMSE</td><td>2027.21986</td></tr><tr><td>RMSE_kronoberg</td><td>259.31739</td></tr><tr><td>RMSE_skane</td><td>1767.90247</td></tr></table><br/></div></div>"
      ],
      "text/plain": [
       "<IPython.core.display.HTML object>"
      ]
     },
     "metadata": {},
     "output_type": "display_data"
    },
    {
     "data": {
      "text/html": [
       " View run <strong style=\"color:#cdcd00\">earthy-sweep-8</strong> at: <a href='https://wandb.ai/danish2562022/sweeps-SEIR_Sk%C3%A5ne_Kronoberg/runs/wparpy0z' target=\"_blank\">https://wandb.ai/danish2562022/sweeps-SEIR_Sk%C3%A5ne_Kronoberg/runs/wparpy0z</a><br/> View project at: <a href='https://wandb.ai/danish2562022/sweeps-SEIR_Sk%C3%A5ne_Kronoberg' target=\"_blank\">https://wandb.ai/danish2562022/sweeps-SEIR_Sk%C3%A5ne_Kronoberg</a><br/>Synced 5 W&B file(s), 0 media file(s), 0 artifact file(s) and 0 other file(s)"
      ],
      "text/plain": [
       "<IPython.core.display.HTML object>"
      ]
     },
     "metadata": {},
     "output_type": "display_data"
    },
    {
     "data": {
      "text/html": [
       "Find logs at: <code>./wandb/run-20250529_065815-wparpy0z/logs</code>"
      ],
      "text/plain": [
       "<IPython.core.display.HTML object>"
      ]
     },
     "metadata": {},
     "output_type": "display_data"
    },
    {
     "data": {
      "text/html": [
       "The new W&B backend becomes opt-out in version 0.18.0; try it out with `wandb.require(\"core\")`! See https://wandb.me/wandb-core for more information."
      ],
      "text/plain": [
       "<IPython.core.display.HTML object>"
      ]
     },
     "metadata": {},
     "output_type": "display_data"
    },
    {
     "name": "stderr",
     "output_type": "stream",
     "text": [
      "\u001b[34m\u001b[1mwandb\u001b[0m: Agent Starting Run: qtjylh4p with config:\n",
      "\u001b[34m\u001b[1mwandb\u001b[0m: \tah0: 4.412316139023555\n",
      "\u001b[34m\u001b[1mwandb\u001b[0m: \tah1: 7.155570639614735\n",
      "\u001b[34m\u001b[1mwandb\u001b[0m: \tbh0: 8.747087959170102\n",
      "\u001b[34m\u001b[1mwandb\u001b[0m: \tbh1: 3.4467143262193236\n",
      "\u001b[34m\u001b[1mwandb\u001b[0m: \tc: 0.7840724227777218\n"
     ]
    },
    {
     "data": {
      "text/html": [
       "wandb version 0.19.11 is available!  To upgrade, please run:\n",
       " $ pip install wandb --upgrade"
      ],
      "text/plain": [
       "<IPython.core.display.HTML object>"
      ]
     },
     "metadata": {},
     "output_type": "display_data"
    },
    {
     "data": {
      "text/html": [
       "Tracking run with wandb version 0.17.4"
      ],
      "text/plain": [
       "<IPython.core.display.HTML object>"
      ]
     },
     "metadata": {},
     "output_type": "display_data"
    },
    {
     "data": {
      "text/html": [
       "Run data is saved locally in <code>/12tb_dsk3/SEIR_model/src/wandb/run-20250529_065826-qtjylh4p</code>"
      ],
      "text/plain": [
       "<IPython.core.display.HTML object>"
      ]
     },
     "metadata": {},
     "output_type": "display_data"
    },
    {
     "data": {
      "text/html": [
       "Syncing run <strong><a href='https://wandb.ai/danish2562022/sweeps-SEIR_Sk%C3%A5ne_Kronoberg/runs/qtjylh4p' target=\"_blank\">earnest-sweep-9</a></strong> to <a href='https://wandb.ai/danish2562022/sweeps-SEIR_Sk%C3%A5ne_Kronoberg' target=\"_blank\">Weights & Biases</a> (<a href='https://wandb.me/run' target=\"_blank\">docs</a>)<br/>Sweep page: <a href='https://wandb.ai/danish2562022/sweeps-SEIR_Sk%C3%A5ne_Kronoberg/sweeps/uenjiggc' target=\"_blank\">https://wandb.ai/danish2562022/sweeps-SEIR_Sk%C3%A5ne_Kronoberg/sweeps/uenjiggc</a>"
      ],
      "text/plain": [
       "<IPython.core.display.HTML object>"
      ]
     },
     "metadata": {},
     "output_type": "display_data"
    },
    {
     "data": {
      "text/html": [
       " View project at <a href='https://wandb.ai/danish2562022/sweeps-SEIR_Sk%C3%A5ne_Kronoberg' target=\"_blank\">https://wandb.ai/danish2562022/sweeps-SEIR_Sk%C3%A5ne_Kronoberg</a>"
      ],
      "text/plain": [
       "<IPython.core.display.HTML object>"
      ]
     },
     "metadata": {},
     "output_type": "display_data"
    },
    {
     "data": {
      "text/html": [
       " View sweep at <a href='https://wandb.ai/danish2562022/sweeps-SEIR_Sk%C3%A5ne_Kronoberg/sweeps/uenjiggc' target=\"_blank\">https://wandb.ai/danish2562022/sweeps-SEIR_Sk%C3%A5ne_Kronoberg/sweeps/uenjiggc</a>"
      ],
      "text/plain": [
       "<IPython.core.display.HTML object>"
      ]
     },
     "metadata": {},
     "output_type": "display_data"
    },
    {
     "data": {
      "text/html": [
       " View run at <a href='https://wandb.ai/danish2562022/sweeps-SEIR_Sk%C3%A5ne_Kronoberg/runs/qtjylh4p' target=\"_blank\">https://wandb.ai/danish2562022/sweeps-SEIR_Sk%C3%A5ne_Kronoberg/runs/qtjylh4p</a>"
      ],
      "text/plain": [
       "<IPython.core.display.HTML object>"
      ]
     },
     "metadata": {},
     "output_type": "display_data"
    },
    {
     "data": {
      "application/vnd.jupyter.widget-view+json": {
       "model_id": "8643abd0b3674ce388ee9c1b9094286e",
       "version_major": 2,
       "version_minor": 0
      },
      "text/plain": [
       "VBox(children=(Label(value='0.021 MB of 0.021 MB uploaded\\r'), FloatProgress(value=1.0, max=1.0)))"
      ]
     },
     "metadata": {},
     "output_type": "display_data"
    },
    {
     "data": {
      "text/html": [
       "<style>\n",
       "    table.wandb td:nth-child(1) { padding: 0 10px; text-align: left ; width: auto;} td:nth-child(2) {text-align: left ; width: 100%}\n",
       "    .wandb-row { display: flex; flex-direction: row; flex-wrap: wrap; justify-content: flex-start; width: 100% }\n",
       "    .wandb-col { display: flex; flex-direction: column; flex-basis: 100%; flex: 1; padding: 10px; }\n",
       "    </style>\n",
       "<div class=\"wandb-row\"><div class=\"wandb-col\"><h3>Run history:</h3><br/><table class=\"wandb\"><tr><td>CV_RMSE</td><td>▁</td></tr><tr><td>CV_RMSE_'skane</td><td>▁</td></tr><tr><td>CV_RMSE_kronoberg</td><td>▁</td></tr><tr><td>RMSE</td><td>▁</td></tr><tr><td>RMSE_kronoberg</td><td>▁</td></tr><tr><td>RMSE_skane</td><td>▁</td></tr></table><br/></div><div class=\"wandb-col\"><h3>Run summary:</h3><br/><table class=\"wandb\"><tr><td>CV_RMSE</td><td>4347.08408</td></tr><tr><td>CV_RMSE_'skane</td><td>2169.35657</td></tr><tr><td>CV_RMSE_kronoberg</td><td>2177.7275</td></tr><tr><td>RMSE</td><td>1599.94787</td></tr><tr><td>RMSE_kronoberg</td><td>231.80699</td></tr><tr><td>RMSE_skane</td><td>1368.14088</td></tr></table><br/></div></div>"
      ],
      "text/plain": [
       "<IPython.core.display.HTML object>"
      ]
     },
     "metadata": {},
     "output_type": "display_data"
    },
    {
     "data": {
      "text/html": [
       " View run <strong style=\"color:#cdcd00\">earnest-sweep-9</strong> at: <a href='https://wandb.ai/danish2562022/sweeps-SEIR_Sk%C3%A5ne_Kronoberg/runs/qtjylh4p' target=\"_blank\">https://wandb.ai/danish2562022/sweeps-SEIR_Sk%C3%A5ne_Kronoberg/runs/qtjylh4p</a><br/> View project at: <a href='https://wandb.ai/danish2562022/sweeps-SEIR_Sk%C3%A5ne_Kronoberg' target=\"_blank\">https://wandb.ai/danish2562022/sweeps-SEIR_Sk%C3%A5ne_Kronoberg</a><br/>Synced 5 W&B file(s), 0 media file(s), 0 artifact file(s) and 0 other file(s)"
      ],
      "text/plain": [
       "<IPython.core.display.HTML object>"
      ]
     },
     "metadata": {},
     "output_type": "display_data"
    },
    {
     "data": {
      "text/html": [
       "Find logs at: <code>./wandb/run-20250529_065826-qtjylh4p/logs</code>"
      ],
      "text/plain": [
       "<IPython.core.display.HTML object>"
      ]
     },
     "metadata": {},
     "output_type": "display_data"
    },
    {
     "data": {
      "text/html": [
       "The new W&B backend becomes opt-out in version 0.18.0; try it out with `wandb.require(\"core\")`! See https://wandb.me/wandb-core for more information."
      ],
      "text/plain": [
       "<IPython.core.display.HTML object>"
      ]
     },
     "metadata": {},
     "output_type": "display_data"
    },
    {
     "name": "stderr",
     "output_type": "stream",
     "text": [
      "\u001b[34m\u001b[1mwandb\u001b[0m: Agent Starting Run: g0perqoq with config:\n",
      "\u001b[34m\u001b[1mwandb\u001b[0m: \tah0: 1.967135096128855\n",
      "\u001b[34m\u001b[1mwandb\u001b[0m: \tah1: 9.014529639989512\n",
      "\u001b[34m\u001b[1mwandb\u001b[0m: \tbh0: 5.761984915686483\n",
      "\u001b[34m\u001b[1mwandb\u001b[0m: \tbh1: 8.894471718001506\n",
      "\u001b[34m\u001b[1mwandb\u001b[0m: \tc: 3.151770911677435\n"
     ]
    },
    {
     "data": {
      "text/html": [
       "wandb version 0.19.11 is available!  To upgrade, please run:\n",
       " $ pip install wandb --upgrade"
      ],
      "text/plain": [
       "<IPython.core.display.HTML object>"
      ]
     },
     "metadata": {},
     "output_type": "display_data"
    },
    {
     "data": {
      "text/html": [
       "Tracking run with wandb version 0.17.4"
      ],
      "text/plain": [
       "<IPython.core.display.HTML object>"
      ]
     },
     "metadata": {},
     "output_type": "display_data"
    },
    {
     "data": {
      "text/html": [
       "Run data is saved locally in <code>/12tb_dsk3/SEIR_model/src/wandb/run-20250529_065835-g0perqoq</code>"
      ],
      "text/plain": [
       "<IPython.core.display.HTML object>"
      ]
     },
     "metadata": {},
     "output_type": "display_data"
    },
    {
     "data": {
      "text/html": [
       "Syncing run <strong><a href='https://wandb.ai/danish2562022/sweeps-SEIR_Sk%C3%A5ne_Kronoberg/runs/g0perqoq' target=\"_blank\">crisp-sweep-10</a></strong> to <a href='https://wandb.ai/danish2562022/sweeps-SEIR_Sk%C3%A5ne_Kronoberg' target=\"_blank\">Weights & Biases</a> (<a href='https://wandb.me/run' target=\"_blank\">docs</a>)<br/>Sweep page: <a href='https://wandb.ai/danish2562022/sweeps-SEIR_Sk%C3%A5ne_Kronoberg/sweeps/uenjiggc' target=\"_blank\">https://wandb.ai/danish2562022/sweeps-SEIR_Sk%C3%A5ne_Kronoberg/sweeps/uenjiggc</a>"
      ],
      "text/plain": [
       "<IPython.core.display.HTML object>"
      ]
     },
     "metadata": {},
     "output_type": "display_data"
    },
    {
     "data": {
      "text/html": [
       " View project at <a href='https://wandb.ai/danish2562022/sweeps-SEIR_Sk%C3%A5ne_Kronoberg' target=\"_blank\">https://wandb.ai/danish2562022/sweeps-SEIR_Sk%C3%A5ne_Kronoberg</a>"
      ],
      "text/plain": [
       "<IPython.core.display.HTML object>"
      ]
     },
     "metadata": {},
     "output_type": "display_data"
    },
    {
     "data": {
      "text/html": [
       " View sweep at <a href='https://wandb.ai/danish2562022/sweeps-SEIR_Sk%C3%A5ne_Kronoberg/sweeps/uenjiggc' target=\"_blank\">https://wandb.ai/danish2562022/sweeps-SEIR_Sk%C3%A5ne_Kronoberg/sweeps/uenjiggc</a>"
      ],
      "text/plain": [
       "<IPython.core.display.HTML object>"
      ]
     },
     "metadata": {},
     "output_type": "display_data"
    },
    {
     "data": {
      "text/html": [
       " View run at <a href='https://wandb.ai/danish2562022/sweeps-SEIR_Sk%C3%A5ne_Kronoberg/runs/g0perqoq' target=\"_blank\">https://wandb.ai/danish2562022/sweeps-SEIR_Sk%C3%A5ne_Kronoberg/runs/g0perqoq</a>"
      ],
      "text/plain": [
       "<IPython.core.display.HTML object>"
      ]
     },
     "metadata": {},
     "output_type": "display_data"
    },
    {
     "data": {
      "application/vnd.jupyter.widget-view+json": {
       "model_id": "b65b6695ef9d4d3bba549f67a9b9dcd1",
       "version_major": 2,
       "version_minor": 0
      },
      "text/plain": [
       "VBox(children=(Label(value='0.021 MB of 0.021 MB uploaded\\r'), FloatProgress(value=1.0, max=1.0)))"
      ]
     },
     "metadata": {},
     "output_type": "display_data"
    },
    {
     "data": {
      "text/html": [
       "<style>\n",
       "    table.wandb td:nth-child(1) { padding: 0 10px; text-align: left ; width: auto;} td:nth-child(2) {text-align: left ; width: 100%}\n",
       "    .wandb-row { display: flex; flex-direction: row; flex-wrap: wrap; justify-content: flex-start; width: 100% }\n",
       "    .wandb-col { display: flex; flex-direction: column; flex-basis: 100%; flex: 1; padding: 10px; }\n",
       "    </style>\n",
       "<div class=\"wandb-row\"><div class=\"wandb-col\"><h3>Run history:</h3><br/><table class=\"wandb\"><tr><td>CV_RMSE</td><td>▁</td></tr><tr><td>CV_RMSE_'skane</td><td>▁</td></tr><tr><td>CV_RMSE_kronoberg</td><td>▁</td></tr><tr><td>RMSE</td><td>▁</td></tr><tr><td>RMSE_kronoberg</td><td>▁</td></tr><tr><td>RMSE_skane</td><td>▁</td></tr></table><br/></div><div class=\"wandb-col\"><h3>Run summary:</h3><br/><table class=\"wandb\"><tr><td>CV_RMSE</td><td>4971.49223</td></tr><tr><td>CV_RMSE_'skane</td><td>2552.23971</td></tr><tr><td>CV_RMSE_kronoberg</td><td>2419.25251</td></tr><tr><td>RMSE</td><td>1867.1285</td></tr><tr><td>RMSE_kronoberg</td><td>257.51599</td></tr><tr><td>RMSE_skane</td><td>1609.61251</td></tr></table><br/></div></div>"
      ],
      "text/plain": [
       "<IPython.core.display.HTML object>"
      ]
     },
     "metadata": {},
     "output_type": "display_data"
    },
    {
     "data": {
      "text/html": [
       " View run <strong style=\"color:#cdcd00\">crisp-sweep-10</strong> at: <a href='https://wandb.ai/danish2562022/sweeps-SEIR_Sk%C3%A5ne_Kronoberg/runs/g0perqoq' target=\"_blank\">https://wandb.ai/danish2562022/sweeps-SEIR_Sk%C3%A5ne_Kronoberg/runs/g0perqoq</a><br/> View project at: <a href='https://wandb.ai/danish2562022/sweeps-SEIR_Sk%C3%A5ne_Kronoberg' target=\"_blank\">https://wandb.ai/danish2562022/sweeps-SEIR_Sk%C3%A5ne_Kronoberg</a><br/>Synced 5 W&B file(s), 0 media file(s), 0 artifact file(s) and 0 other file(s)"
      ],
      "text/plain": [
       "<IPython.core.display.HTML object>"
      ]
     },
     "metadata": {},
     "output_type": "display_data"
    },
    {
     "data": {
      "text/html": [
       "Find logs at: <code>./wandb/run-20250529_065835-g0perqoq/logs</code>"
      ],
      "text/plain": [
       "<IPython.core.display.HTML object>"
      ]
     },
     "metadata": {},
     "output_type": "display_data"
    },
    {
     "data": {
      "text/html": [
       "The new W&B backend becomes opt-out in version 0.18.0; try it out with `wandb.require(\"core\")`! See https://wandb.me/wandb-core for more information."
      ],
      "text/plain": [
       "<IPython.core.display.HTML object>"
      ]
     },
     "metadata": {},
     "output_type": "display_data"
    },
    {
     "name": "stderr",
     "output_type": "stream",
     "text": [
      "\u001b[34m\u001b[1mwandb\u001b[0m: Sweep Agent: Waiting for job.\n",
      "\u001b[34m\u001b[1mwandb\u001b[0m: Job received.\n",
      "\u001b[34m\u001b[1mwandb\u001b[0m: Agent Starting Run: kzj9s0zu with config:\n",
      "\u001b[34m\u001b[1mwandb\u001b[0m: \tah0: 0.2706657606064844\n",
      "\u001b[34m\u001b[1mwandb\u001b[0m: \tah1: 0.18701650254821067\n",
      "\u001b[34m\u001b[1mwandb\u001b[0m: \tbh0: 8.741428273402184\n",
      "\u001b[34m\u001b[1mwandb\u001b[0m: \tbh1: 3.5895489384684627\n",
      "\u001b[34m\u001b[1mwandb\u001b[0m: \tc: 1.9243382157573443\n"
     ]
    },
    {
     "data": {
      "text/html": [
       "wandb version 0.19.11 is available!  To upgrade, please run:\n",
       " $ pip install wandb --upgrade"
      ],
      "text/plain": [
       "<IPython.core.display.HTML object>"
      ]
     },
     "metadata": {},
     "output_type": "display_data"
    },
    {
     "data": {
      "text/html": [
       "Tracking run with wandb version 0.17.4"
      ],
      "text/plain": [
       "<IPython.core.display.HTML object>"
      ]
     },
     "metadata": {},
     "output_type": "display_data"
    },
    {
     "data": {
      "text/html": [
       "Run data is saved locally in <code>/12tb_dsk3/SEIR_model/src/wandb/run-20250529_065852-kzj9s0zu</code>"
      ],
      "text/plain": [
       "<IPython.core.display.HTML object>"
      ]
     },
     "metadata": {},
     "output_type": "display_data"
    },
    {
     "data": {
      "text/html": [
       "Syncing run <strong><a href='https://wandb.ai/danish2562022/sweeps-SEIR_Sk%C3%A5ne_Kronoberg/runs/kzj9s0zu' target=\"_blank\">trim-sweep-11</a></strong> to <a href='https://wandb.ai/danish2562022/sweeps-SEIR_Sk%C3%A5ne_Kronoberg' target=\"_blank\">Weights & Biases</a> (<a href='https://wandb.me/run' target=\"_blank\">docs</a>)<br/>Sweep page: <a href='https://wandb.ai/danish2562022/sweeps-SEIR_Sk%C3%A5ne_Kronoberg/sweeps/uenjiggc' target=\"_blank\">https://wandb.ai/danish2562022/sweeps-SEIR_Sk%C3%A5ne_Kronoberg/sweeps/uenjiggc</a>"
      ],
      "text/plain": [
       "<IPython.core.display.HTML object>"
      ]
     },
     "metadata": {},
     "output_type": "display_data"
    },
    {
     "data": {
      "text/html": [
       " View project at <a href='https://wandb.ai/danish2562022/sweeps-SEIR_Sk%C3%A5ne_Kronoberg' target=\"_blank\">https://wandb.ai/danish2562022/sweeps-SEIR_Sk%C3%A5ne_Kronoberg</a>"
      ],
      "text/plain": [
       "<IPython.core.display.HTML object>"
      ]
     },
     "metadata": {},
     "output_type": "display_data"
    },
    {
     "data": {
      "text/html": [
       " View sweep at <a href='https://wandb.ai/danish2562022/sweeps-SEIR_Sk%C3%A5ne_Kronoberg/sweeps/uenjiggc' target=\"_blank\">https://wandb.ai/danish2562022/sweeps-SEIR_Sk%C3%A5ne_Kronoberg/sweeps/uenjiggc</a>"
      ],
      "text/plain": [
       "<IPython.core.display.HTML object>"
      ]
     },
     "metadata": {},
     "output_type": "display_data"
    },
    {
     "data": {
      "text/html": [
       " View run at <a href='https://wandb.ai/danish2562022/sweeps-SEIR_Sk%C3%A5ne_Kronoberg/runs/kzj9s0zu' target=\"_blank\">https://wandb.ai/danish2562022/sweeps-SEIR_Sk%C3%A5ne_Kronoberg/runs/kzj9s0zu</a>"
      ],
      "text/plain": [
       "<IPython.core.display.HTML object>"
      ]
     },
     "metadata": {},
     "output_type": "display_data"
    },
    {
     "data": {
      "application/vnd.jupyter.widget-view+json": {
       "model_id": "4904fc4123a44e1e9def40f52adfde7f",
       "version_major": 2,
       "version_minor": 0
      },
      "text/plain": [
       "VBox(children=(Label(value='0.021 MB of 0.021 MB uploaded\\r'), FloatProgress(value=1.0, max=1.0)))"
      ]
     },
     "metadata": {},
     "output_type": "display_data"
    },
    {
     "data": {
      "text/html": [
       "<style>\n",
       "    table.wandb td:nth-child(1) { padding: 0 10px; text-align: left ; width: auto;} td:nth-child(2) {text-align: left ; width: 100%}\n",
       "    .wandb-row { display: flex; flex-direction: row; flex-wrap: wrap; justify-content: flex-start; width: 100% }\n",
       "    .wandb-col { display: flex; flex-direction: column; flex-basis: 100%; flex: 1; padding: 10px; }\n",
       "    </style>\n",
       "<div class=\"wandb-row\"><div class=\"wandb-col\"><h3>Run history:</h3><br/><table class=\"wandb\"><tr><td>CV_RMSE</td><td>▁</td></tr><tr><td>CV_RMSE_'skane</td><td>▁</td></tr><tr><td>CV_RMSE_kronoberg</td><td>▁</td></tr><tr><td>RMSE</td><td>▁</td></tr><tr><td>RMSE_kronoberg</td><td>▁</td></tr><tr><td>RMSE_skane</td><td>▁</td></tr></table><br/></div><div class=\"wandb-col\"><h3>Run summary:</h3><br/><table class=\"wandb\"><tr><td>CV_RMSE</td><td>278.58485</td></tr><tr><td>CV_RMSE_'skane</td><td>134.91173</td></tr><tr><td>CV_RMSE_kronoberg</td><td>143.67312</td></tr><tr><td>RMSE</td><td>100.37753</td></tr><tr><td>RMSE_kronoberg</td><td>15.29321</td></tr><tr><td>RMSE_skane</td><td>85.08433</td></tr></table><br/></div></div>"
      ],
      "text/plain": [
       "<IPython.core.display.HTML object>"
      ]
     },
     "metadata": {},
     "output_type": "display_data"
    },
    {
     "data": {
      "text/html": [
       " View run <strong style=\"color:#cdcd00\">trim-sweep-11</strong> at: <a href='https://wandb.ai/danish2562022/sweeps-SEIR_Sk%C3%A5ne_Kronoberg/runs/kzj9s0zu' target=\"_blank\">https://wandb.ai/danish2562022/sweeps-SEIR_Sk%C3%A5ne_Kronoberg/runs/kzj9s0zu</a><br/> View project at: <a href='https://wandb.ai/danish2562022/sweeps-SEIR_Sk%C3%A5ne_Kronoberg' target=\"_blank\">https://wandb.ai/danish2562022/sweeps-SEIR_Sk%C3%A5ne_Kronoberg</a><br/>Synced 5 W&B file(s), 0 media file(s), 0 artifact file(s) and 0 other file(s)"
      ],
      "text/plain": [
       "<IPython.core.display.HTML object>"
      ]
     },
     "metadata": {},
     "output_type": "display_data"
    },
    {
     "data": {
      "text/html": [
       "Find logs at: <code>./wandb/run-20250529_065852-kzj9s0zu/logs</code>"
      ],
      "text/plain": [
       "<IPython.core.display.HTML object>"
      ]
     },
     "metadata": {},
     "output_type": "display_data"
    },
    {
     "data": {
      "text/html": [
       "The new W&B backend becomes opt-out in version 0.18.0; try it out with `wandb.require(\"core\")`! See https://wandb.me/wandb-core for more information."
      ],
      "text/plain": [
       "<IPython.core.display.HTML object>"
      ]
     },
     "metadata": {},
     "output_type": "display_data"
    },
    {
     "name": "stderr",
     "output_type": "stream",
     "text": [
      "\u001b[34m\u001b[1mwandb\u001b[0m: Agent Starting Run: 6is6pqdm with config:\n",
      "\u001b[34m\u001b[1mwandb\u001b[0m: \tah0: 3.7950557703959578\n",
      "\u001b[34m\u001b[1mwandb\u001b[0m: \tah1: 3.28214219312248\n",
      "\u001b[34m\u001b[1mwandb\u001b[0m: \tbh0: 13.186486833063842\n",
      "\u001b[34m\u001b[1mwandb\u001b[0m: \tbh1: 10.609491236478965\n",
      "\u001b[34m\u001b[1mwandb\u001b[0m: \tc: 0.65963623199291\n"
     ]
    },
    {
     "data": {
      "text/html": [
       "wandb version 0.19.11 is available!  To upgrade, please run:\n",
       " $ pip install wandb --upgrade"
      ],
      "text/plain": [
       "<IPython.core.display.HTML object>"
      ]
     },
     "metadata": {},
     "output_type": "display_data"
    },
    {
     "data": {
      "text/html": [
       "Tracking run with wandb version 0.17.4"
      ],
      "text/plain": [
       "<IPython.core.display.HTML object>"
      ]
     },
     "metadata": {},
     "output_type": "display_data"
    },
    {
     "data": {
      "text/html": [
       "Run data is saved locally in <code>/12tb_dsk3/SEIR_model/src/wandb/run-20250529_065902-6is6pqdm</code>"
      ],
      "text/plain": [
       "<IPython.core.display.HTML object>"
      ]
     },
     "metadata": {},
     "output_type": "display_data"
    },
    {
     "data": {
      "text/html": [
       "Syncing run <strong><a href='https://wandb.ai/danish2562022/sweeps-SEIR_Sk%C3%A5ne_Kronoberg/runs/6is6pqdm' target=\"_blank\">happy-sweep-12</a></strong> to <a href='https://wandb.ai/danish2562022/sweeps-SEIR_Sk%C3%A5ne_Kronoberg' target=\"_blank\">Weights & Biases</a> (<a href='https://wandb.me/run' target=\"_blank\">docs</a>)<br/>Sweep page: <a href='https://wandb.ai/danish2562022/sweeps-SEIR_Sk%C3%A5ne_Kronoberg/sweeps/uenjiggc' target=\"_blank\">https://wandb.ai/danish2562022/sweeps-SEIR_Sk%C3%A5ne_Kronoberg/sweeps/uenjiggc</a>"
      ],
      "text/plain": [
       "<IPython.core.display.HTML object>"
      ]
     },
     "metadata": {},
     "output_type": "display_data"
    },
    {
     "data": {
      "text/html": [
       " View project at <a href='https://wandb.ai/danish2562022/sweeps-SEIR_Sk%C3%A5ne_Kronoberg' target=\"_blank\">https://wandb.ai/danish2562022/sweeps-SEIR_Sk%C3%A5ne_Kronoberg</a>"
      ],
      "text/plain": [
       "<IPython.core.display.HTML object>"
      ]
     },
     "metadata": {},
     "output_type": "display_data"
    },
    {
     "data": {
      "text/html": [
       " View sweep at <a href='https://wandb.ai/danish2562022/sweeps-SEIR_Sk%C3%A5ne_Kronoberg/sweeps/uenjiggc' target=\"_blank\">https://wandb.ai/danish2562022/sweeps-SEIR_Sk%C3%A5ne_Kronoberg/sweeps/uenjiggc</a>"
      ],
      "text/plain": [
       "<IPython.core.display.HTML object>"
      ]
     },
     "metadata": {},
     "output_type": "display_data"
    },
    {
     "data": {
      "text/html": [
       " View run at <a href='https://wandb.ai/danish2562022/sweeps-SEIR_Sk%C3%A5ne_Kronoberg/runs/6is6pqdm' target=\"_blank\">https://wandb.ai/danish2562022/sweeps-SEIR_Sk%C3%A5ne_Kronoberg/runs/6is6pqdm</a>"
      ],
      "text/plain": [
       "<IPython.core.display.HTML object>"
      ]
     },
     "metadata": {},
     "output_type": "display_data"
    },
    {
     "data": {
      "application/vnd.jupyter.widget-view+json": {
       "model_id": "01eab46604304dd5b2e64982b962da20",
       "version_major": 2,
       "version_minor": 0
      },
      "text/plain": [
       "VBox(children=(Label(value='0.021 MB of 0.021 MB uploaded\\r'), FloatProgress(value=1.0, max=1.0)))"
      ]
     },
     "metadata": {},
     "output_type": "display_data"
    },
    {
     "data": {
      "text/html": [
       "<style>\n",
       "    table.wandb td:nth-child(1) { padding: 0 10px; text-align: left ; width: auto;} td:nth-child(2) {text-align: left ; width: 100%}\n",
       "    .wandb-row { display: flex; flex-direction: row; flex-wrap: wrap; justify-content: flex-start; width: 100% }\n",
       "    .wandb-col { display: flex; flex-direction: column; flex-basis: 100%; flex: 1; padding: 10px; }\n",
       "    </style>\n",
       "<div class=\"wandb-row\"><div class=\"wandb-col\"><h3>Run history:</h3><br/><table class=\"wandb\"><tr><td>CV_RMSE</td><td>▁</td></tr><tr><td>CV_RMSE_'skane</td><td>▁</td></tr><tr><td>CV_RMSE_kronoberg</td><td>▁</td></tr><tr><td>RMSE</td><td>▁</td></tr><tr><td>RMSE_kronoberg</td><td>▁</td></tr><tr><td>RMSE_skane</td><td>▁</td></tr></table><br/></div><div class=\"wandb-col\"><h3>Run summary:</h3><br/><table class=\"wandb\"><tr><td>CV_RMSE</td><td>1447.77697</td></tr><tr><td>CV_RMSE_'skane</td><td>800.35069</td></tr><tr><td>CV_RMSE_kronoberg</td><td>647.42628</td></tr><tr><td>RMSE</td><td>573.66943</td></tr><tr><td>RMSE_kronoberg</td><td>68.91493</td></tr><tr><td>RMSE_skane</td><td>504.7545</td></tr></table><br/></div></div>"
      ],
      "text/plain": [
       "<IPython.core.display.HTML object>"
      ]
     },
     "metadata": {},
     "output_type": "display_data"
    },
    {
     "data": {
      "text/html": [
       " View run <strong style=\"color:#cdcd00\">happy-sweep-12</strong> at: <a href='https://wandb.ai/danish2562022/sweeps-SEIR_Sk%C3%A5ne_Kronoberg/runs/6is6pqdm' target=\"_blank\">https://wandb.ai/danish2562022/sweeps-SEIR_Sk%C3%A5ne_Kronoberg/runs/6is6pqdm</a><br/> View project at: <a href='https://wandb.ai/danish2562022/sweeps-SEIR_Sk%C3%A5ne_Kronoberg' target=\"_blank\">https://wandb.ai/danish2562022/sweeps-SEIR_Sk%C3%A5ne_Kronoberg</a><br/>Synced 5 W&B file(s), 0 media file(s), 0 artifact file(s) and 0 other file(s)"
      ],
      "text/plain": [
       "<IPython.core.display.HTML object>"
      ]
     },
     "metadata": {},
     "output_type": "display_data"
    },
    {
     "data": {
      "text/html": [
       "Find logs at: <code>./wandb/run-20250529_065902-6is6pqdm/logs</code>"
      ],
      "text/plain": [
       "<IPython.core.display.HTML object>"
      ]
     },
     "metadata": {},
     "output_type": "display_data"
    },
    {
     "data": {
      "text/html": [
       "The new W&B backend becomes opt-out in version 0.18.0; try it out with `wandb.require(\"core\")`! See https://wandb.me/wandb-core for more information."
      ],
      "text/plain": [
       "<IPython.core.display.HTML object>"
      ]
     },
     "metadata": {},
     "output_type": "display_data"
    },
    {
     "name": "stderr",
     "output_type": "stream",
     "text": [
      "\u001b[34m\u001b[1mwandb\u001b[0m: Agent Starting Run: xl6f181o with config:\n",
      "\u001b[34m\u001b[1mwandb\u001b[0m: \tah0: 1.145191413996307\n",
      "\u001b[34m\u001b[1mwandb\u001b[0m: \tah1: 3.5853212546619395\n",
      "\u001b[34m\u001b[1mwandb\u001b[0m: \tbh0: 9.579016681446491\n",
      "\u001b[34m\u001b[1mwandb\u001b[0m: \tbh1: 11.05294680412161\n",
      "\u001b[34m\u001b[1mwandb\u001b[0m: \tc: 3.9526942289587934\n"
     ]
    },
    {
     "data": {
      "text/html": [
       "wandb version 0.19.11 is available!  To upgrade, please run:\n",
       " $ pip install wandb --upgrade"
      ],
      "text/plain": [
       "<IPython.core.display.HTML object>"
      ]
     },
     "metadata": {},
     "output_type": "display_data"
    },
    {
     "data": {
      "text/html": [
       "Tracking run with wandb version 0.17.4"
      ],
      "text/plain": [
       "<IPython.core.display.HTML object>"
      ]
     },
     "metadata": {},
     "output_type": "display_data"
    },
    {
     "data": {
      "text/html": [
       "Run data is saved locally in <code>/12tb_dsk3/SEIR_model/src/wandb/run-20250529_065912-xl6f181o</code>"
      ],
      "text/plain": [
       "<IPython.core.display.HTML object>"
      ]
     },
     "metadata": {},
     "output_type": "display_data"
    },
    {
     "data": {
      "text/html": [
       "Syncing run <strong><a href='https://wandb.ai/danish2562022/sweeps-SEIR_Sk%C3%A5ne_Kronoberg/runs/xl6f181o' target=\"_blank\">vague-sweep-13</a></strong> to <a href='https://wandb.ai/danish2562022/sweeps-SEIR_Sk%C3%A5ne_Kronoberg' target=\"_blank\">Weights & Biases</a> (<a href='https://wandb.me/run' target=\"_blank\">docs</a>)<br/>Sweep page: <a href='https://wandb.ai/danish2562022/sweeps-SEIR_Sk%C3%A5ne_Kronoberg/sweeps/uenjiggc' target=\"_blank\">https://wandb.ai/danish2562022/sweeps-SEIR_Sk%C3%A5ne_Kronoberg/sweeps/uenjiggc</a>"
      ],
      "text/plain": [
       "<IPython.core.display.HTML object>"
      ]
     },
     "metadata": {},
     "output_type": "display_data"
    },
    {
     "data": {
      "text/html": [
       " View project at <a href='https://wandb.ai/danish2562022/sweeps-SEIR_Sk%C3%A5ne_Kronoberg' target=\"_blank\">https://wandb.ai/danish2562022/sweeps-SEIR_Sk%C3%A5ne_Kronoberg</a>"
      ],
      "text/plain": [
       "<IPython.core.display.HTML object>"
      ]
     },
     "metadata": {},
     "output_type": "display_data"
    },
    {
     "data": {
      "text/html": [
       " View sweep at <a href='https://wandb.ai/danish2562022/sweeps-SEIR_Sk%C3%A5ne_Kronoberg/sweeps/uenjiggc' target=\"_blank\">https://wandb.ai/danish2562022/sweeps-SEIR_Sk%C3%A5ne_Kronoberg/sweeps/uenjiggc</a>"
      ],
      "text/plain": [
       "<IPython.core.display.HTML object>"
      ]
     },
     "metadata": {},
     "output_type": "display_data"
    },
    {
     "data": {
      "text/html": [
       " View run at <a href='https://wandb.ai/danish2562022/sweeps-SEIR_Sk%C3%A5ne_Kronoberg/runs/xl6f181o' target=\"_blank\">https://wandb.ai/danish2562022/sweeps-SEIR_Sk%C3%A5ne_Kronoberg/runs/xl6f181o</a>"
      ],
      "text/plain": [
       "<IPython.core.display.HTML object>"
      ]
     },
     "metadata": {},
     "output_type": "display_data"
    },
    {
     "data": {
      "application/vnd.jupyter.widget-view+json": {
       "model_id": "7f59ef0b769a4c719783619c3234e22b",
       "version_major": 2,
       "version_minor": 0
      },
      "text/plain": [
       "VBox(children=(Label(value='0.021 MB of 0.021 MB uploaded\\r'), FloatProgress(value=1.0, max=1.0)))"
      ]
     },
     "metadata": {},
     "output_type": "display_data"
    },
    {
     "data": {
      "text/html": [
       "<style>\n",
       "    table.wandb td:nth-child(1) { padding: 0 10px; text-align: left ; width: auto;} td:nth-child(2) {text-align: left ; width: 100%}\n",
       "    .wandb-row { display: flex; flex-direction: row; flex-wrap: wrap; justify-content: flex-start; width: 100% }\n",
       "    .wandb-col { display: flex; flex-direction: column; flex-basis: 100%; flex: 1; padding: 10px; }\n",
       "    </style>\n",
       "<div class=\"wandb-row\"><div class=\"wandb-col\"><h3>Run history:</h3><br/><table class=\"wandb\"><tr><td>CV_RMSE</td><td>▁</td></tr><tr><td>CV_RMSE_'skane</td><td>▁</td></tr><tr><td>CV_RMSE_kronoberg</td><td>▁</td></tr><tr><td>RMSE</td><td>▁</td></tr><tr><td>RMSE_kronoberg</td><td>▁</td></tr><tr><td>RMSE_skane</td><td>▁</td></tr></table><br/></div><div class=\"wandb-col\"><h3>Run summary:</h3><br/><table class=\"wandb\"><tr><td>CV_RMSE</td><td>4480.63094</td></tr><tr><td>CV_RMSE_'skane</td><td>2326.57234</td></tr><tr><td>CV_RMSE_kronoberg</td><td>2154.05859</td></tr><tr><td>RMSE</td><td>1696.57919</td></tr><tr><td>RMSE_kronoberg</td><td>229.28757</td></tr><tr><td>RMSE_skane</td><td>1467.29162</td></tr></table><br/></div></div>"
      ],
      "text/plain": [
       "<IPython.core.display.HTML object>"
      ]
     },
     "metadata": {},
     "output_type": "display_data"
    },
    {
     "data": {
      "text/html": [
       " View run <strong style=\"color:#cdcd00\">vague-sweep-13</strong> at: <a href='https://wandb.ai/danish2562022/sweeps-SEIR_Sk%C3%A5ne_Kronoberg/runs/xl6f181o' target=\"_blank\">https://wandb.ai/danish2562022/sweeps-SEIR_Sk%C3%A5ne_Kronoberg/runs/xl6f181o</a><br/> View project at: <a href='https://wandb.ai/danish2562022/sweeps-SEIR_Sk%C3%A5ne_Kronoberg' target=\"_blank\">https://wandb.ai/danish2562022/sweeps-SEIR_Sk%C3%A5ne_Kronoberg</a><br/>Synced 5 W&B file(s), 0 media file(s), 0 artifact file(s) and 0 other file(s)"
      ],
      "text/plain": [
       "<IPython.core.display.HTML object>"
      ]
     },
     "metadata": {},
     "output_type": "display_data"
    },
    {
     "data": {
      "text/html": [
       "Find logs at: <code>./wandb/run-20250529_065912-xl6f181o/logs</code>"
      ],
      "text/plain": [
       "<IPython.core.display.HTML object>"
      ]
     },
     "metadata": {},
     "output_type": "display_data"
    },
    {
     "data": {
      "text/html": [
       "The new W&B backend becomes opt-out in version 0.18.0; try it out with `wandb.require(\"core\")`! See https://wandb.me/wandb-core for more information."
      ],
      "text/plain": [
       "<IPython.core.display.HTML object>"
      ]
     },
     "metadata": {},
     "output_type": "display_data"
    },
    {
     "name": "stderr",
     "output_type": "stream",
     "text": [
      "\u001b[34m\u001b[1mwandb\u001b[0m: Agent Starting Run: 9vgk62nb with config:\n",
      "\u001b[34m\u001b[1mwandb\u001b[0m: \tah0: 5.435558922597258\n",
      "\u001b[34m\u001b[1mwandb\u001b[0m: \tah1: 8.816596767727475\n",
      "\u001b[34m\u001b[1mwandb\u001b[0m: \tbh0: 3.986367061976176\n",
      "\u001b[34m\u001b[1mwandb\u001b[0m: \tbh1: 8.269847492206544\n",
      "\u001b[34m\u001b[1mwandb\u001b[0m: \tc: 0.9517297756027382\n"
     ]
    },
    {
     "data": {
      "text/html": [
       "wandb version 0.19.11 is available!  To upgrade, please run:\n",
       " $ pip install wandb --upgrade"
      ],
      "text/plain": [
       "<IPython.core.display.HTML object>"
      ]
     },
     "metadata": {},
     "output_type": "display_data"
    },
    {
     "data": {
      "text/html": [
       "Tracking run with wandb version 0.17.4"
      ],
      "text/plain": [
       "<IPython.core.display.HTML object>"
      ]
     },
     "metadata": {},
     "output_type": "display_data"
    },
    {
     "data": {
      "text/html": [
       "Run data is saved locally in <code>/12tb_dsk3/SEIR_model/src/wandb/run-20250529_065923-9vgk62nb</code>"
      ],
      "text/plain": [
       "<IPython.core.display.HTML object>"
      ]
     },
     "metadata": {},
     "output_type": "display_data"
    },
    {
     "data": {
      "text/html": [
       "Syncing run <strong><a href='https://wandb.ai/danish2562022/sweeps-SEIR_Sk%C3%A5ne_Kronoberg/runs/9vgk62nb' target=\"_blank\">jumping-sweep-14</a></strong> to <a href='https://wandb.ai/danish2562022/sweeps-SEIR_Sk%C3%A5ne_Kronoberg' target=\"_blank\">Weights & Biases</a> (<a href='https://wandb.me/run' target=\"_blank\">docs</a>)<br/>Sweep page: <a href='https://wandb.ai/danish2562022/sweeps-SEIR_Sk%C3%A5ne_Kronoberg/sweeps/uenjiggc' target=\"_blank\">https://wandb.ai/danish2562022/sweeps-SEIR_Sk%C3%A5ne_Kronoberg/sweeps/uenjiggc</a>"
      ],
      "text/plain": [
       "<IPython.core.display.HTML object>"
      ]
     },
     "metadata": {},
     "output_type": "display_data"
    },
    {
     "data": {
      "text/html": [
       " View project at <a href='https://wandb.ai/danish2562022/sweeps-SEIR_Sk%C3%A5ne_Kronoberg' target=\"_blank\">https://wandb.ai/danish2562022/sweeps-SEIR_Sk%C3%A5ne_Kronoberg</a>"
      ],
      "text/plain": [
       "<IPython.core.display.HTML object>"
      ]
     },
     "metadata": {},
     "output_type": "display_data"
    },
    {
     "data": {
      "text/html": [
       " View sweep at <a href='https://wandb.ai/danish2562022/sweeps-SEIR_Sk%C3%A5ne_Kronoberg/sweeps/uenjiggc' target=\"_blank\">https://wandb.ai/danish2562022/sweeps-SEIR_Sk%C3%A5ne_Kronoberg/sweeps/uenjiggc</a>"
      ],
      "text/plain": [
       "<IPython.core.display.HTML object>"
      ]
     },
     "metadata": {},
     "output_type": "display_data"
    },
    {
     "data": {
      "text/html": [
       " View run at <a href='https://wandb.ai/danish2562022/sweeps-SEIR_Sk%C3%A5ne_Kronoberg/runs/9vgk62nb' target=\"_blank\">https://wandb.ai/danish2562022/sweeps-SEIR_Sk%C3%A5ne_Kronoberg/runs/9vgk62nb</a>"
      ],
      "text/plain": [
       "<IPython.core.display.HTML object>"
      ]
     },
     "metadata": {},
     "output_type": "display_data"
    },
    {
     "data": {
      "application/vnd.jupyter.widget-view+json": {
       "model_id": "57ffe6ef10374a01a701bcb46947ab91",
       "version_major": 2,
       "version_minor": 0
      },
      "text/plain": [
       "VBox(children=(Label(value='0.021 MB of 0.021 MB uploaded\\r'), FloatProgress(value=1.0, max=1.0)))"
      ]
     },
     "metadata": {},
     "output_type": "display_data"
    },
    {
     "data": {
      "text/html": [
       "<style>\n",
       "    table.wandb td:nth-child(1) { padding: 0 10px; text-align: left ; width: auto;} td:nth-child(2) {text-align: left ; width: 100%}\n",
       "    .wandb-row { display: flex; flex-direction: row; flex-wrap: wrap; justify-content: flex-start; width: 100% }\n",
       "    .wandb-col { display: flex; flex-direction: column; flex-basis: 100%; flex: 1; padding: 10px; }\n",
       "    </style>\n",
       "<div class=\"wandb-row\"><div class=\"wandb-col\"><h3>Run history:</h3><br/><table class=\"wandb\"><tr><td>CV_RMSE</td><td>▁</td></tr><tr><td>CV_RMSE_'skane</td><td>▁</td></tr><tr><td>CV_RMSE_kronoberg</td><td>▁</td></tr><tr><td>RMSE</td><td>▁</td></tr><tr><td>RMSE_kronoberg</td><td>▁</td></tr><tr><td>RMSE_skane</td><td>▁</td></tr></table><br/></div><div class=\"wandb-col\"><h3>Run summary:</h3><br/><table class=\"wandb\"><tr><td>CV_RMSE</td><td>4862.43787</td></tr><tr><td>CV_RMSE_'skane</td><td>2519.62934</td></tr><tr><td>CV_RMSE_kronoberg</td><td>2342.80853</td></tr><tr><td>RMSE</td><td>1838.42519</td></tr><tr><td>RMSE_kronoberg</td><td>249.37895</td></tr><tr><td>RMSE_skane</td><td>1589.04623</td></tr></table><br/></div></div>"
      ],
      "text/plain": [
       "<IPython.core.display.HTML object>"
      ]
     },
     "metadata": {},
     "output_type": "display_data"
    },
    {
     "data": {
      "text/html": [
       " View run <strong style=\"color:#cdcd00\">jumping-sweep-14</strong> at: <a href='https://wandb.ai/danish2562022/sweeps-SEIR_Sk%C3%A5ne_Kronoberg/runs/9vgk62nb' target=\"_blank\">https://wandb.ai/danish2562022/sweeps-SEIR_Sk%C3%A5ne_Kronoberg/runs/9vgk62nb</a><br/> View project at: <a href='https://wandb.ai/danish2562022/sweeps-SEIR_Sk%C3%A5ne_Kronoberg' target=\"_blank\">https://wandb.ai/danish2562022/sweeps-SEIR_Sk%C3%A5ne_Kronoberg</a><br/>Synced 5 W&B file(s), 0 media file(s), 0 artifact file(s) and 0 other file(s)"
      ],
      "text/plain": [
       "<IPython.core.display.HTML object>"
      ]
     },
     "metadata": {},
     "output_type": "display_data"
    },
    {
     "data": {
      "text/html": [
       "Find logs at: <code>./wandb/run-20250529_065923-9vgk62nb/logs</code>"
      ],
      "text/plain": [
       "<IPython.core.display.HTML object>"
      ]
     },
     "metadata": {},
     "output_type": "display_data"
    },
    {
     "data": {
      "text/html": [
       "The new W&B backend becomes opt-out in version 0.18.0; try it out with `wandb.require(\"core\")`! See https://wandb.me/wandb-core for more information."
      ],
      "text/plain": [
       "<IPython.core.display.HTML object>"
      ]
     },
     "metadata": {},
     "output_type": "display_data"
    },
    {
     "name": "stderr",
     "output_type": "stream",
     "text": [
      "\u001b[34m\u001b[1mwandb\u001b[0m: Sweep Agent: Waiting for job.\n",
      "\u001b[34m\u001b[1mwandb\u001b[0m: Job received.\n",
      "\u001b[34m\u001b[1mwandb\u001b[0m: Agent Starting Run: wdqu3hnd with config:\n",
      "\u001b[34m\u001b[1mwandb\u001b[0m: \tah0: 2.405463310874316\n",
      "\u001b[34m\u001b[1mwandb\u001b[0m: \tah1: 7.385665477657852\n",
      "\u001b[34m\u001b[1mwandb\u001b[0m: \tbh0: 12.405784993767565\n",
      "\u001b[34m\u001b[1mwandb\u001b[0m: \tbh1: 14.474888687991402\n",
      "\u001b[34m\u001b[1mwandb\u001b[0m: \tc: 4.542659556729757\n"
     ]
    },
    {
     "data": {
      "text/html": [
       "wandb version 0.19.11 is available!  To upgrade, please run:\n",
       " $ pip install wandb --upgrade"
      ],
      "text/plain": [
       "<IPython.core.display.HTML object>"
      ]
     },
     "metadata": {},
     "output_type": "display_data"
    },
    {
     "data": {
      "text/html": [
       "Tracking run with wandb version 0.17.4"
      ],
      "text/plain": [
       "<IPython.core.display.HTML object>"
      ]
     },
     "metadata": {},
     "output_type": "display_data"
    },
    {
     "data": {
      "text/html": [
       "Run data is saved locally in <code>/12tb_dsk3/SEIR_model/src/wandb/run-20250529_065939-wdqu3hnd</code>"
      ],
      "text/plain": [
       "<IPython.core.display.HTML object>"
      ]
     },
     "metadata": {},
     "output_type": "display_data"
    },
    {
     "data": {
      "text/html": [
       "Syncing run <strong><a href='https://wandb.ai/danish2562022/sweeps-SEIR_Sk%C3%A5ne_Kronoberg/runs/wdqu3hnd' target=\"_blank\">dandy-sweep-15</a></strong> to <a href='https://wandb.ai/danish2562022/sweeps-SEIR_Sk%C3%A5ne_Kronoberg' target=\"_blank\">Weights & Biases</a> (<a href='https://wandb.me/run' target=\"_blank\">docs</a>)<br/>Sweep page: <a href='https://wandb.ai/danish2562022/sweeps-SEIR_Sk%C3%A5ne_Kronoberg/sweeps/uenjiggc' target=\"_blank\">https://wandb.ai/danish2562022/sweeps-SEIR_Sk%C3%A5ne_Kronoberg/sweeps/uenjiggc</a>"
      ],
      "text/plain": [
       "<IPython.core.display.HTML object>"
      ]
     },
     "metadata": {},
     "output_type": "display_data"
    },
    {
     "data": {
      "text/html": [
       " View project at <a href='https://wandb.ai/danish2562022/sweeps-SEIR_Sk%C3%A5ne_Kronoberg' target=\"_blank\">https://wandb.ai/danish2562022/sweeps-SEIR_Sk%C3%A5ne_Kronoberg</a>"
      ],
      "text/plain": [
       "<IPython.core.display.HTML object>"
      ]
     },
     "metadata": {},
     "output_type": "display_data"
    },
    {
     "data": {
      "text/html": [
       " View sweep at <a href='https://wandb.ai/danish2562022/sweeps-SEIR_Sk%C3%A5ne_Kronoberg/sweeps/uenjiggc' target=\"_blank\">https://wandb.ai/danish2562022/sweeps-SEIR_Sk%C3%A5ne_Kronoberg/sweeps/uenjiggc</a>"
      ],
      "text/plain": [
       "<IPython.core.display.HTML object>"
      ]
     },
     "metadata": {},
     "output_type": "display_data"
    },
    {
     "data": {
      "text/html": [
       " View run at <a href='https://wandb.ai/danish2562022/sweeps-SEIR_Sk%C3%A5ne_Kronoberg/runs/wdqu3hnd' target=\"_blank\">https://wandb.ai/danish2562022/sweeps-SEIR_Sk%C3%A5ne_Kronoberg/runs/wdqu3hnd</a>"
      ],
      "text/plain": [
       "<IPython.core.display.HTML object>"
      ]
     },
     "metadata": {},
     "output_type": "display_data"
    },
    {
     "data": {
      "application/vnd.jupyter.widget-view+json": {
       "model_id": "0fa18a69f7864f05ad92b382de4df916",
       "version_major": 2,
       "version_minor": 0
      },
      "text/plain": [
       "VBox(children=(Label(value='0.017 MB of 0.021 MB uploaded\\r'), FloatProgress(value=0.8009799029170258, max=1.0…"
      ]
     },
     "metadata": {},
     "output_type": "display_data"
    },
    {
     "data": {
      "text/html": [
       "<style>\n",
       "    table.wandb td:nth-child(1) { padding: 0 10px; text-align: left ; width: auto;} td:nth-child(2) {text-align: left ; width: 100%}\n",
       "    .wandb-row { display: flex; flex-direction: row; flex-wrap: wrap; justify-content: flex-start; width: 100% }\n",
       "    .wandb-col { display: flex; flex-direction: column; flex-basis: 100%; flex: 1; padding: 10px; }\n",
       "    </style>\n",
       "<div class=\"wandb-row\"><div class=\"wandb-col\"><h3>Run history:</h3><br/><table class=\"wandb\"><tr><td>CV_RMSE</td><td>▁</td></tr><tr><td>CV_RMSE_'skane</td><td>▁</td></tr><tr><td>CV_RMSE_kronoberg</td><td>▁</td></tr><tr><td>RMSE</td><td>▁</td></tr><tr><td>RMSE_kronoberg</td><td>▁</td></tr><tr><td>RMSE_skane</td><td>▁</td></tr></table><br/></div><div class=\"wandb-col\"><h3>Run summary:</h3><br/><table class=\"wandb\"><tr><td>CV_RMSE</td><td>5185.87214</td></tr><tr><td>CV_RMSE_'skane</td><td>2751.36591</td></tr><tr><td>CV_RMSE_kronoberg</td><td>2434.50623</td></tr><tr><td>RMSE</td><td>1994.33443</td></tr><tr><td>RMSE_kronoberg</td><td>259.13966</td></tr><tr><td>RMSE_skane</td><td>1735.19477</td></tr></table><br/></div></div>"
      ],
      "text/plain": [
       "<IPython.core.display.HTML object>"
      ]
     },
     "metadata": {},
     "output_type": "display_data"
    },
    {
     "data": {
      "text/html": [
       " View run <strong style=\"color:#cdcd00\">dandy-sweep-15</strong> at: <a href='https://wandb.ai/danish2562022/sweeps-SEIR_Sk%C3%A5ne_Kronoberg/runs/wdqu3hnd' target=\"_blank\">https://wandb.ai/danish2562022/sweeps-SEIR_Sk%C3%A5ne_Kronoberg/runs/wdqu3hnd</a><br/> View project at: <a href='https://wandb.ai/danish2562022/sweeps-SEIR_Sk%C3%A5ne_Kronoberg' target=\"_blank\">https://wandb.ai/danish2562022/sweeps-SEIR_Sk%C3%A5ne_Kronoberg</a><br/>Synced 5 W&B file(s), 0 media file(s), 0 artifact file(s) and 0 other file(s)"
      ],
      "text/plain": [
       "<IPython.core.display.HTML object>"
      ]
     },
     "metadata": {},
     "output_type": "display_data"
    },
    {
     "data": {
      "text/html": [
       "Find logs at: <code>./wandb/run-20250529_065939-wdqu3hnd/logs</code>"
      ],
      "text/plain": [
       "<IPython.core.display.HTML object>"
      ]
     },
     "metadata": {},
     "output_type": "display_data"
    },
    {
     "data": {
      "text/html": [
       "The new W&B backend becomes opt-out in version 0.18.0; try it out with `wandb.require(\"core\")`! See https://wandb.me/wandb-core for more information."
      ],
      "text/plain": [
       "<IPython.core.display.HTML object>"
      ]
     },
     "metadata": {},
     "output_type": "display_data"
    },
    {
     "name": "stderr",
     "output_type": "stream",
     "text": [
      "\u001b[34m\u001b[1mwandb\u001b[0m: Agent Starting Run: 15wsd4jq with config:\n",
      "\u001b[34m\u001b[1mwandb\u001b[0m: \tah0: 2.3981538931402495\n",
      "\u001b[34m\u001b[1mwandb\u001b[0m: \tah1: 1.3802395938292644\n",
      "\u001b[34m\u001b[1mwandb\u001b[0m: \tbh0: 14.875862937964726\n",
      "\u001b[34m\u001b[1mwandb\u001b[0m: \tbh1: 4.859215941250986\n",
      "\u001b[34m\u001b[1mwandb\u001b[0m: \tc: 0.28626322363891954\n"
     ]
    },
    {
     "data": {
      "text/html": [
       "wandb version 0.19.11 is available!  To upgrade, please run:\n",
       " $ pip install wandb --upgrade"
      ],
      "text/plain": [
       "<IPython.core.display.HTML object>"
      ]
     },
     "metadata": {},
     "output_type": "display_data"
    },
    {
     "data": {
      "text/html": [
       "Tracking run with wandb version 0.17.4"
      ],
      "text/plain": [
       "<IPython.core.display.HTML object>"
      ]
     },
     "metadata": {},
     "output_type": "display_data"
    },
    {
     "data": {
      "text/html": [
       "Run data is saved locally in <code>/12tb_dsk3/SEIR_model/src/wandb/run-20250529_070010-15wsd4jq</code>"
      ],
      "text/plain": [
       "<IPython.core.display.HTML object>"
      ]
     },
     "metadata": {},
     "output_type": "display_data"
    },
    {
     "data": {
      "text/html": [
       "Syncing run <strong><a href='https://wandb.ai/danish2562022/sweeps-SEIR_Sk%C3%A5ne_Kronoberg/runs/15wsd4jq' target=\"_blank\">major-sweep-16</a></strong> to <a href='https://wandb.ai/danish2562022/sweeps-SEIR_Sk%C3%A5ne_Kronoberg' target=\"_blank\">Weights & Biases</a> (<a href='https://wandb.me/run' target=\"_blank\">docs</a>)<br/>Sweep page: <a href='https://wandb.ai/danish2562022/sweeps-SEIR_Sk%C3%A5ne_Kronoberg/sweeps/uenjiggc' target=\"_blank\">https://wandb.ai/danish2562022/sweeps-SEIR_Sk%C3%A5ne_Kronoberg/sweeps/uenjiggc</a>"
      ],
      "text/plain": [
       "<IPython.core.display.HTML object>"
      ]
     },
     "metadata": {},
     "output_type": "display_data"
    },
    {
     "data": {
      "text/html": [
       " View project at <a href='https://wandb.ai/danish2562022/sweeps-SEIR_Sk%C3%A5ne_Kronoberg' target=\"_blank\">https://wandb.ai/danish2562022/sweeps-SEIR_Sk%C3%A5ne_Kronoberg</a>"
      ],
      "text/plain": [
       "<IPython.core.display.HTML object>"
      ]
     },
     "metadata": {},
     "output_type": "display_data"
    },
    {
     "data": {
      "text/html": [
       " View sweep at <a href='https://wandb.ai/danish2562022/sweeps-SEIR_Sk%C3%A5ne_Kronoberg/sweeps/uenjiggc' target=\"_blank\">https://wandb.ai/danish2562022/sweeps-SEIR_Sk%C3%A5ne_Kronoberg/sweeps/uenjiggc</a>"
      ],
      "text/plain": [
       "<IPython.core.display.HTML object>"
      ]
     },
     "metadata": {},
     "output_type": "display_data"
    },
    {
     "data": {
      "text/html": [
       " View run at <a href='https://wandb.ai/danish2562022/sweeps-SEIR_Sk%C3%A5ne_Kronoberg/runs/15wsd4jq' target=\"_blank\">https://wandb.ai/danish2562022/sweeps-SEIR_Sk%C3%A5ne_Kronoberg/runs/15wsd4jq</a>"
      ],
      "text/plain": [
       "<IPython.core.display.HTML object>"
      ]
     },
     "metadata": {},
     "output_type": "display_data"
    },
    {
     "data": {
      "application/vnd.jupyter.widget-view+json": {
       "model_id": "9428f3a8e32849beadc327045ff5e799",
       "version_major": 2,
       "version_minor": 0
      },
      "text/plain": [
       "VBox(children=(Label(value='0.021 MB of 0.021 MB uploaded\\r'), FloatProgress(value=1.0, max=1.0)))"
      ]
     },
     "metadata": {},
     "output_type": "display_data"
    },
    {
     "data": {
      "text/html": [
       "<style>\n",
       "    table.wandb td:nth-child(1) { padding: 0 10px; text-align: left ; width: auto;} td:nth-child(2) {text-align: left ; width: 100%}\n",
       "    .wandb-row { display: flex; flex-direction: row; flex-wrap: wrap; justify-content: flex-start; width: 100% }\n",
       "    .wandb-col { display: flex; flex-direction: column; flex-basis: 100%; flex: 1; padding: 10px; }\n",
       "    </style>\n",
       "<div class=\"wandb-row\"><div class=\"wandb-col\"><h3>Run history:</h3><br/><table class=\"wandb\"><tr><td>CV_RMSE</td><td>▁</td></tr><tr><td>CV_RMSE_'skane</td><td>▁</td></tr><tr><td>CV_RMSE_kronoberg</td><td>▁</td></tr><tr><td>RMSE</td><td>▁</td></tr><tr><td>RMSE_kronoberg</td><td>▁</td></tr><tr><td>RMSE_skane</td><td>▁</td></tr></table><br/></div><div class=\"wandb-col\"><h3>Run summary:</h3><br/><table class=\"wandb\"><tr><td>CV_RMSE</td><td>276.72574</td></tr><tr><td>CV_RMSE_'skane</td><td>133.63177</td></tr><tr><td>CV_RMSE_kronoberg</td><td>143.09397</td></tr><tr><td>RMSE</td><td>99.50866</td></tr><tr><td>RMSE_kronoberg</td><td>15.23156</td></tr><tr><td>RMSE_skane</td><td>84.2771</td></tr></table><br/></div></div>"
      ],
      "text/plain": [
       "<IPython.core.display.HTML object>"
      ]
     },
     "metadata": {},
     "output_type": "display_data"
    },
    {
     "data": {
      "text/html": [
       " View run <strong style=\"color:#cdcd00\">major-sweep-16</strong> at: <a href='https://wandb.ai/danish2562022/sweeps-SEIR_Sk%C3%A5ne_Kronoberg/runs/15wsd4jq' target=\"_blank\">https://wandb.ai/danish2562022/sweeps-SEIR_Sk%C3%A5ne_Kronoberg/runs/15wsd4jq</a><br/> View project at: <a href='https://wandb.ai/danish2562022/sweeps-SEIR_Sk%C3%A5ne_Kronoberg' target=\"_blank\">https://wandb.ai/danish2562022/sweeps-SEIR_Sk%C3%A5ne_Kronoberg</a><br/>Synced 5 W&B file(s), 0 media file(s), 0 artifact file(s) and 0 other file(s)"
      ],
      "text/plain": [
       "<IPython.core.display.HTML object>"
      ]
     },
     "metadata": {},
     "output_type": "display_data"
    },
    {
     "data": {
      "text/html": [
       "Find logs at: <code>./wandb/run-20250529_070010-15wsd4jq/logs</code>"
      ],
      "text/plain": [
       "<IPython.core.display.HTML object>"
      ]
     },
     "metadata": {},
     "output_type": "display_data"
    },
    {
     "data": {
      "text/html": [
       "The new W&B backend becomes opt-out in version 0.18.0; try it out with `wandb.require(\"core\")`! See https://wandb.me/wandb-core for more information."
      ],
      "text/plain": [
       "<IPython.core.display.HTML object>"
      ]
     },
     "metadata": {},
     "output_type": "display_data"
    },
    {
     "name": "stderr",
     "output_type": "stream",
     "text": [
      "\u001b[34m\u001b[1mwandb\u001b[0m: Agent Starting Run: s8rnld06 with config:\n",
      "\u001b[34m\u001b[1mwandb\u001b[0m: \tah0: 3.1108682030968753\n",
      "\u001b[34m\u001b[1mwandb\u001b[0m: \tah1: 7.689046385893857\n",
      "\u001b[34m\u001b[1mwandb\u001b[0m: \tbh0: 7.640367945129277\n",
      "\u001b[34m\u001b[1mwandb\u001b[0m: \tbh1: 13.190555524865008\n",
      "\u001b[34m\u001b[1mwandb\u001b[0m: \tc: 3.269910716313576\n"
     ]
    },
    {
     "data": {
      "text/html": [
       "wandb version 0.19.11 is available!  To upgrade, please run:\n",
       " $ pip install wandb --upgrade"
      ],
      "text/plain": [
       "<IPython.core.display.HTML object>"
      ]
     },
     "metadata": {},
     "output_type": "display_data"
    },
    {
     "data": {
      "text/html": [
       "Tracking run with wandb version 0.17.4"
      ],
      "text/plain": [
       "<IPython.core.display.HTML object>"
      ]
     },
     "metadata": {},
     "output_type": "display_data"
    },
    {
     "data": {
      "text/html": [
       "Run data is saved locally in <code>/12tb_dsk3/SEIR_model/src/wandb/run-20250529_070021-s8rnld06</code>"
      ],
      "text/plain": [
       "<IPython.core.display.HTML object>"
      ]
     },
     "metadata": {},
     "output_type": "display_data"
    },
    {
     "data": {
      "text/html": [
       "Syncing run <strong><a href='https://wandb.ai/danish2562022/sweeps-SEIR_Sk%C3%A5ne_Kronoberg/runs/s8rnld06' target=\"_blank\">dulcet-sweep-17</a></strong> to <a href='https://wandb.ai/danish2562022/sweeps-SEIR_Sk%C3%A5ne_Kronoberg' target=\"_blank\">Weights & Biases</a> (<a href='https://wandb.me/run' target=\"_blank\">docs</a>)<br/>Sweep page: <a href='https://wandb.ai/danish2562022/sweeps-SEIR_Sk%C3%A5ne_Kronoberg/sweeps/uenjiggc' target=\"_blank\">https://wandb.ai/danish2562022/sweeps-SEIR_Sk%C3%A5ne_Kronoberg/sweeps/uenjiggc</a>"
      ],
      "text/plain": [
       "<IPython.core.display.HTML object>"
      ]
     },
     "metadata": {},
     "output_type": "display_data"
    },
    {
     "data": {
      "text/html": [
       " View project at <a href='https://wandb.ai/danish2562022/sweeps-SEIR_Sk%C3%A5ne_Kronoberg' target=\"_blank\">https://wandb.ai/danish2562022/sweeps-SEIR_Sk%C3%A5ne_Kronoberg</a>"
      ],
      "text/plain": [
       "<IPython.core.display.HTML object>"
      ]
     },
     "metadata": {},
     "output_type": "display_data"
    },
    {
     "data": {
      "text/html": [
       " View sweep at <a href='https://wandb.ai/danish2562022/sweeps-SEIR_Sk%C3%A5ne_Kronoberg/sweeps/uenjiggc' target=\"_blank\">https://wandb.ai/danish2562022/sweeps-SEIR_Sk%C3%A5ne_Kronoberg/sweeps/uenjiggc</a>"
      ],
      "text/plain": [
       "<IPython.core.display.HTML object>"
      ]
     },
     "metadata": {},
     "output_type": "display_data"
    },
    {
     "data": {
      "text/html": [
       " View run at <a href='https://wandb.ai/danish2562022/sweeps-SEIR_Sk%C3%A5ne_Kronoberg/runs/s8rnld06' target=\"_blank\">https://wandb.ai/danish2562022/sweeps-SEIR_Sk%C3%A5ne_Kronoberg/runs/s8rnld06</a>"
      ],
      "text/plain": [
       "<IPython.core.display.HTML object>"
      ]
     },
     "metadata": {},
     "output_type": "display_data"
    },
    {
     "data": {
      "application/vnd.jupyter.widget-view+json": {
       "model_id": "1c2aeb9fe7e54e41aa177e10c5a2312b",
       "version_major": 2,
       "version_minor": 0
      },
      "text/plain": [
       "VBox(children=(Label(value='0.021 MB of 0.021 MB uploaded\\r'), FloatProgress(value=1.0, max=1.0)))"
      ]
     },
     "metadata": {},
     "output_type": "display_data"
    },
    {
     "data": {
      "text/html": [
       "<style>\n",
       "    table.wandb td:nth-child(1) { padding: 0 10px; text-align: left ; width: auto;} td:nth-child(2) {text-align: left ; width: 100%}\n",
       "    .wandb-row { display: flex; flex-direction: row; flex-wrap: wrap; justify-content: flex-start; width: 100% }\n",
       "    .wandb-col { display: flex; flex-direction: column; flex-basis: 100%; flex: 1; padding: 10px; }\n",
       "    </style>\n",
       "<div class=\"wandb-row\"><div class=\"wandb-col\"><h3>Run history:</h3><br/><table class=\"wandb\"><tr><td>CV_RMSE</td><td>▁</td></tr><tr><td>CV_RMSE_'skane</td><td>▁</td></tr><tr><td>CV_RMSE_kronoberg</td><td>▁</td></tr><tr><td>RMSE</td><td>▁</td></tr><tr><td>RMSE_kronoberg</td><td>▁</td></tr><tr><td>RMSE_skane</td><td>▁</td></tr></table><br/></div><div class=\"wandb-col\"><h3>Run summary:</h3><br/><table class=\"wandb\"><tr><td>CV_RMSE</td><td>5061.67038</td></tr><tr><td>CV_RMSE_'skane</td><td>2645.74593</td></tr><tr><td>CV_RMSE_kronoberg</td><td>2415.92445</td></tr><tr><td>RMSE</td><td>1925.7455</td></tr><tr><td>RMSE_kronoberg</td><td>257.16174</td></tr><tr><td>RMSE_skane</td><td>1668.58377</td></tr></table><br/></div></div>"
      ],
      "text/plain": [
       "<IPython.core.display.HTML object>"
      ]
     },
     "metadata": {},
     "output_type": "display_data"
    },
    {
     "data": {
      "text/html": [
       " View run <strong style=\"color:#cdcd00\">dulcet-sweep-17</strong> at: <a href='https://wandb.ai/danish2562022/sweeps-SEIR_Sk%C3%A5ne_Kronoberg/runs/s8rnld06' target=\"_blank\">https://wandb.ai/danish2562022/sweeps-SEIR_Sk%C3%A5ne_Kronoberg/runs/s8rnld06</a><br/> View project at: <a href='https://wandb.ai/danish2562022/sweeps-SEIR_Sk%C3%A5ne_Kronoberg' target=\"_blank\">https://wandb.ai/danish2562022/sweeps-SEIR_Sk%C3%A5ne_Kronoberg</a><br/>Synced 5 W&B file(s), 0 media file(s), 0 artifact file(s) and 0 other file(s)"
      ],
      "text/plain": [
       "<IPython.core.display.HTML object>"
      ]
     },
     "metadata": {},
     "output_type": "display_data"
    },
    {
     "data": {
      "text/html": [
       "Find logs at: <code>./wandb/run-20250529_070021-s8rnld06/logs</code>"
      ],
      "text/plain": [
       "<IPython.core.display.HTML object>"
      ]
     },
     "metadata": {},
     "output_type": "display_data"
    },
    {
     "data": {
      "text/html": [
       "The new W&B backend becomes opt-out in version 0.18.0; try it out with `wandb.require(\"core\")`! See https://wandb.me/wandb-core for more information."
      ],
      "text/plain": [
       "<IPython.core.display.HTML object>"
      ]
     },
     "metadata": {},
     "output_type": "display_data"
    },
    {
     "name": "stderr",
     "output_type": "stream",
     "text": [
      "\u001b[34m\u001b[1mwandb\u001b[0m: Agent Starting Run: 32w8860v with config:\n",
      "\u001b[34m\u001b[1mwandb\u001b[0m: \tah0: 1.6282945283339276\n",
      "\u001b[34m\u001b[1mwandb\u001b[0m: \tah1: 1.2734837178616654\n",
      "\u001b[34m\u001b[1mwandb\u001b[0m: \tbh0: 4.968825537897433\n",
      "\u001b[34m\u001b[1mwandb\u001b[0m: \tbh1: 13.305667622327617\n",
      "\u001b[34m\u001b[1mwandb\u001b[0m: \tc: 0.3894736664551979\n"
     ]
    },
    {
     "data": {
      "text/html": [
       "wandb version 0.19.11 is available!  To upgrade, please run:\n",
       " $ pip install wandb --upgrade"
      ],
      "text/plain": [
       "<IPython.core.display.HTML object>"
      ]
     },
     "metadata": {},
     "output_type": "display_data"
    },
    {
     "data": {
      "text/html": [
       "Tracking run with wandb version 0.17.4"
      ],
      "text/plain": [
       "<IPython.core.display.HTML object>"
      ]
     },
     "metadata": {},
     "output_type": "display_data"
    },
    {
     "data": {
      "text/html": [
       "Run data is saved locally in <code>/12tb_dsk3/SEIR_model/src/wandb/run-20250529_070031-32w8860v</code>"
      ],
      "text/plain": [
       "<IPython.core.display.HTML object>"
      ]
     },
     "metadata": {},
     "output_type": "display_data"
    },
    {
     "data": {
      "text/html": [
       "Syncing run <strong><a href='https://wandb.ai/danish2562022/sweeps-SEIR_Sk%C3%A5ne_Kronoberg/runs/32w8860v' target=\"_blank\">serene-sweep-18</a></strong> to <a href='https://wandb.ai/danish2562022/sweeps-SEIR_Sk%C3%A5ne_Kronoberg' target=\"_blank\">Weights & Biases</a> (<a href='https://wandb.me/run' target=\"_blank\">docs</a>)<br/>Sweep page: <a href='https://wandb.ai/danish2562022/sweeps-SEIR_Sk%C3%A5ne_Kronoberg/sweeps/uenjiggc' target=\"_blank\">https://wandb.ai/danish2562022/sweeps-SEIR_Sk%C3%A5ne_Kronoberg/sweeps/uenjiggc</a>"
      ],
      "text/plain": [
       "<IPython.core.display.HTML object>"
      ]
     },
     "metadata": {},
     "output_type": "display_data"
    },
    {
     "data": {
      "text/html": [
       " View project at <a href='https://wandb.ai/danish2562022/sweeps-SEIR_Sk%C3%A5ne_Kronoberg' target=\"_blank\">https://wandb.ai/danish2562022/sweeps-SEIR_Sk%C3%A5ne_Kronoberg</a>"
      ],
      "text/plain": [
       "<IPython.core.display.HTML object>"
      ]
     },
     "metadata": {},
     "output_type": "display_data"
    },
    {
     "data": {
      "text/html": [
       " View sweep at <a href='https://wandb.ai/danish2562022/sweeps-SEIR_Sk%C3%A5ne_Kronoberg/sweeps/uenjiggc' target=\"_blank\">https://wandb.ai/danish2562022/sweeps-SEIR_Sk%C3%A5ne_Kronoberg/sweeps/uenjiggc</a>"
      ],
      "text/plain": [
       "<IPython.core.display.HTML object>"
      ]
     },
     "metadata": {},
     "output_type": "display_data"
    },
    {
     "data": {
      "text/html": [
       " View run at <a href='https://wandb.ai/danish2562022/sweeps-SEIR_Sk%C3%A5ne_Kronoberg/runs/32w8860v' target=\"_blank\">https://wandb.ai/danish2562022/sweeps-SEIR_Sk%C3%A5ne_Kronoberg/runs/32w8860v</a>"
      ],
      "text/plain": [
       "<IPython.core.display.HTML object>"
      ]
     },
     "metadata": {},
     "output_type": "display_data"
    },
    {
     "data": {
      "application/vnd.jupyter.widget-view+json": {
       "model_id": "ecd9fcab5d7749db88a021a969e59666",
       "version_major": 2,
       "version_minor": 0
      },
      "text/plain": [
       "VBox(children=(Label(value='0.021 MB of 0.021 MB uploaded\\r'), FloatProgress(value=1.0, max=1.0)))"
      ]
     },
     "metadata": {},
     "output_type": "display_data"
    },
    {
     "data": {
      "text/html": [
       "<style>\n",
       "    table.wandb td:nth-child(1) { padding: 0 10px; text-align: left ; width: auto;} td:nth-child(2) {text-align: left ; width: 100%}\n",
       "    .wandb-row { display: flex; flex-direction: row; flex-wrap: wrap; justify-content: flex-start; width: 100% }\n",
       "    .wandb-col { display: flex; flex-direction: column; flex-basis: 100%; flex: 1; padding: 10px; }\n",
       "    </style>\n",
       "<div class=\"wandb-row\"><div class=\"wandb-col\"><h3>Run history:</h3><br/><table class=\"wandb\"><tr><td>CV_RMSE</td><td>▁</td></tr><tr><td>CV_RMSE_'skane</td><td>▁</td></tr><tr><td>CV_RMSE_kronoberg</td><td>▁</td></tr><tr><td>RMSE</td><td>▁</td></tr><tr><td>RMSE_kronoberg</td><td>▁</td></tr><tr><td>RMSE_skane</td><td>▁</td></tr></table><br/></div><div class=\"wandb-col\"><h3>Run summary:</h3><br/><table class=\"wandb\"><tr><td>CV_RMSE</td><td>278.30059</td></tr><tr><td>CV_RMSE_'skane</td><td>134.32616</td></tr><tr><td>CV_RMSE_kronoberg</td><td>143.97443</td></tr><tr><td>RMSE</td><td>100.04031</td></tr><tr><td>RMSE_kronoberg</td><td>15.32528</td></tr><tr><td>RMSE_skane</td><td>84.71503</td></tr></table><br/></div></div>"
      ],
      "text/plain": [
       "<IPython.core.display.HTML object>"
      ]
     },
     "metadata": {},
     "output_type": "display_data"
    },
    {
     "data": {
      "text/html": [
       " View run <strong style=\"color:#cdcd00\">serene-sweep-18</strong> at: <a href='https://wandb.ai/danish2562022/sweeps-SEIR_Sk%C3%A5ne_Kronoberg/runs/32w8860v' target=\"_blank\">https://wandb.ai/danish2562022/sweeps-SEIR_Sk%C3%A5ne_Kronoberg/runs/32w8860v</a><br/> View project at: <a href='https://wandb.ai/danish2562022/sweeps-SEIR_Sk%C3%A5ne_Kronoberg' target=\"_blank\">https://wandb.ai/danish2562022/sweeps-SEIR_Sk%C3%A5ne_Kronoberg</a><br/>Synced 5 W&B file(s), 0 media file(s), 0 artifact file(s) and 0 other file(s)"
      ],
      "text/plain": [
       "<IPython.core.display.HTML object>"
      ]
     },
     "metadata": {},
     "output_type": "display_data"
    },
    {
     "data": {
      "text/html": [
       "Find logs at: <code>./wandb/run-20250529_070031-32w8860v/logs</code>"
      ],
      "text/plain": [
       "<IPython.core.display.HTML object>"
      ]
     },
     "metadata": {},
     "output_type": "display_data"
    },
    {
     "data": {
      "text/html": [
       "The new W&B backend becomes opt-out in version 0.18.0; try it out with `wandb.require(\"core\")`! See https://wandb.me/wandb-core for more information."
      ],
      "text/plain": [
       "<IPython.core.display.HTML object>"
      ]
     },
     "metadata": {},
     "output_type": "display_data"
    },
    {
     "name": "stderr",
     "output_type": "stream",
     "text": [
      "\u001b[34m\u001b[1mwandb\u001b[0m: Agent Starting Run: npxfpq7b with config:\n",
      "\u001b[34m\u001b[1mwandb\u001b[0m: \tah0: 2.645520541991209\n",
      "\u001b[34m\u001b[1mwandb\u001b[0m: \tah1: 8.414128843342688\n",
      "\u001b[34m\u001b[1mwandb\u001b[0m: \tbh0: 7.979631662720978\n",
      "\u001b[34m\u001b[1mwandb\u001b[0m: \tbh1: 7.306380944062205\n",
      "\u001b[34m\u001b[1mwandb\u001b[0m: \tc: 3.7682040314146055\n"
     ]
    },
    {
     "data": {
      "text/html": [
       "wandb version 0.19.11 is available!  To upgrade, please run:\n",
       " $ pip install wandb --upgrade"
      ],
      "text/plain": [
       "<IPython.core.display.HTML object>"
      ]
     },
     "metadata": {},
     "output_type": "display_data"
    },
    {
     "data": {
      "text/html": [
       "Tracking run with wandb version 0.17.4"
      ],
      "text/plain": [
       "<IPython.core.display.HTML object>"
      ]
     },
     "metadata": {},
     "output_type": "display_data"
    },
    {
     "data": {
      "text/html": [
       "Run data is saved locally in <code>/12tb_dsk3/SEIR_model/src/wandb/run-20250529_070041-npxfpq7b</code>"
      ],
      "text/plain": [
       "<IPython.core.display.HTML object>"
      ]
     },
     "metadata": {},
     "output_type": "display_data"
    },
    {
     "data": {
      "text/html": [
       "Syncing run <strong><a href='https://wandb.ai/danish2562022/sweeps-SEIR_Sk%C3%A5ne_Kronoberg/runs/npxfpq7b' target=\"_blank\">avid-sweep-19</a></strong> to <a href='https://wandb.ai/danish2562022/sweeps-SEIR_Sk%C3%A5ne_Kronoberg' target=\"_blank\">Weights & Biases</a> (<a href='https://wandb.me/run' target=\"_blank\">docs</a>)<br/>Sweep page: <a href='https://wandb.ai/danish2562022/sweeps-SEIR_Sk%C3%A5ne_Kronoberg/sweeps/uenjiggc' target=\"_blank\">https://wandb.ai/danish2562022/sweeps-SEIR_Sk%C3%A5ne_Kronoberg/sweeps/uenjiggc</a>"
      ],
      "text/plain": [
       "<IPython.core.display.HTML object>"
      ]
     },
     "metadata": {},
     "output_type": "display_data"
    },
    {
     "data": {
      "text/html": [
       " View project at <a href='https://wandb.ai/danish2562022/sweeps-SEIR_Sk%C3%A5ne_Kronoberg' target=\"_blank\">https://wandb.ai/danish2562022/sweeps-SEIR_Sk%C3%A5ne_Kronoberg</a>"
      ],
      "text/plain": [
       "<IPython.core.display.HTML object>"
      ]
     },
     "metadata": {},
     "output_type": "display_data"
    },
    {
     "data": {
      "text/html": [
       " View sweep at <a href='https://wandb.ai/danish2562022/sweeps-SEIR_Sk%C3%A5ne_Kronoberg/sweeps/uenjiggc' target=\"_blank\">https://wandb.ai/danish2562022/sweeps-SEIR_Sk%C3%A5ne_Kronoberg/sweeps/uenjiggc</a>"
      ],
      "text/plain": [
       "<IPython.core.display.HTML object>"
      ]
     },
     "metadata": {},
     "output_type": "display_data"
    },
    {
     "data": {
      "text/html": [
       " View run at <a href='https://wandb.ai/danish2562022/sweeps-SEIR_Sk%C3%A5ne_Kronoberg/runs/npxfpq7b' target=\"_blank\">https://wandb.ai/danish2562022/sweeps-SEIR_Sk%C3%A5ne_Kronoberg/runs/npxfpq7b</a>"
      ],
      "text/plain": [
       "<IPython.core.display.HTML object>"
      ]
     },
     "metadata": {},
     "output_type": "display_data"
    },
    {
     "data": {
      "application/vnd.jupyter.widget-view+json": {
       "model_id": "a4d778212af3476a87dc1604979794be",
       "version_major": 2,
       "version_minor": 0
      },
      "text/plain": [
       "VBox(children=(Label(value='0.021 MB of 0.021 MB uploaded\\r'), FloatProgress(value=1.0, max=1.0)))"
      ]
     },
     "metadata": {},
     "output_type": "display_data"
    },
    {
     "data": {
      "text/html": [
       "<style>\n",
       "    table.wandb td:nth-child(1) { padding: 0 10px; text-align: left ; width: auto;} td:nth-child(2) {text-align: left ; width: 100%}\n",
       "    .wandb-row { display: flex; flex-direction: row; flex-wrap: wrap; justify-content: flex-start; width: 100% }\n",
       "    .wandb-col { display: flex; flex-direction: column; flex-basis: 100%; flex: 1; padding: 10px; }\n",
       "    </style>\n",
       "<div class=\"wandb-row\"><div class=\"wandb-col\"><h3>Run history:</h3><br/><table class=\"wandb\"><tr><td>CV_RMSE</td><td>▁</td></tr><tr><td>CV_RMSE_'skane</td><td>▁</td></tr><tr><td>CV_RMSE_kronoberg</td><td>▁</td></tr><tr><td>RMSE</td><td>▁</td></tr><tr><td>RMSE_kronoberg</td><td>▁</td></tr><tr><td>RMSE_skane</td><td>▁</td></tr></table><br/></div><div class=\"wandb-col\"><h3>Run summary:</h3><br/><table class=\"wandb\"><tr><td>CV_RMSE</td><td>5069.36042</td></tr><tr><td>CV_RMSE_'skane</td><td>2654.01341</td></tr><tr><td>CV_RMSE_kronoberg</td><td>2415.34701</td></tr><tr><td>RMSE</td><td>1930.89806</td></tr><tr><td>RMSE_kronoberg</td><td>257.10027</td></tr><tr><td>RMSE_skane</td><td>1673.79779</td></tr></table><br/></div></div>"
      ],
      "text/plain": [
       "<IPython.core.display.HTML object>"
      ]
     },
     "metadata": {},
     "output_type": "display_data"
    },
    {
     "data": {
      "text/html": [
       " View run <strong style=\"color:#cdcd00\">avid-sweep-19</strong> at: <a href='https://wandb.ai/danish2562022/sweeps-SEIR_Sk%C3%A5ne_Kronoberg/runs/npxfpq7b' target=\"_blank\">https://wandb.ai/danish2562022/sweeps-SEIR_Sk%C3%A5ne_Kronoberg/runs/npxfpq7b</a><br/> View project at: <a href='https://wandb.ai/danish2562022/sweeps-SEIR_Sk%C3%A5ne_Kronoberg' target=\"_blank\">https://wandb.ai/danish2562022/sweeps-SEIR_Sk%C3%A5ne_Kronoberg</a><br/>Synced 5 W&B file(s), 0 media file(s), 0 artifact file(s) and 0 other file(s)"
      ],
      "text/plain": [
       "<IPython.core.display.HTML object>"
      ]
     },
     "metadata": {},
     "output_type": "display_data"
    },
    {
     "data": {
      "text/html": [
       "Find logs at: <code>./wandb/run-20250529_070041-npxfpq7b/logs</code>"
      ],
      "text/plain": [
       "<IPython.core.display.HTML object>"
      ]
     },
     "metadata": {},
     "output_type": "display_data"
    },
    {
     "data": {
      "text/html": [
       "The new W&B backend becomes opt-out in version 0.18.0; try it out with `wandb.require(\"core\")`! See https://wandb.me/wandb-core for more information."
      ],
      "text/plain": [
       "<IPython.core.display.HTML object>"
      ]
     },
     "metadata": {},
     "output_type": "display_data"
    },
    {
     "name": "stderr",
     "output_type": "stream",
     "text": [
      "\u001b[34m\u001b[1mwandb\u001b[0m: Agent Starting Run: ht0mnlby with config:\n",
      "\u001b[34m\u001b[1mwandb\u001b[0m: \tah0: 5.213415595156038\n",
      "\u001b[34m\u001b[1mwandb\u001b[0m: \tah1: 1.7920706665770036\n",
      "\u001b[34m\u001b[1mwandb\u001b[0m: \tbh0: 10.6377514837481\n",
      "\u001b[34m\u001b[1mwandb\u001b[0m: \tbh1: 8.546556955224226\n",
      "\u001b[34m\u001b[1mwandb\u001b[0m: \tc: 4.94957488766171\n"
     ]
    },
    {
     "data": {
      "text/html": [
       "wandb version 0.19.11 is available!  To upgrade, please run:\n",
       " $ pip install wandb --upgrade"
      ],
      "text/plain": [
       "<IPython.core.display.HTML object>"
      ]
     },
     "metadata": {},
     "output_type": "display_data"
    },
    {
     "data": {
      "text/html": [
       "Tracking run with wandb version 0.17.4"
      ],
      "text/plain": [
       "<IPython.core.display.HTML object>"
      ]
     },
     "metadata": {},
     "output_type": "display_data"
    },
    {
     "data": {
      "text/html": [
       "Run data is saved locally in <code>/12tb_dsk3/SEIR_model/src/wandb/run-20250529_070052-ht0mnlby</code>"
      ],
      "text/plain": [
       "<IPython.core.display.HTML object>"
      ]
     },
     "metadata": {},
     "output_type": "display_data"
    },
    {
     "data": {
      "text/html": [
       "Syncing run <strong><a href='https://wandb.ai/danish2562022/sweeps-SEIR_Sk%C3%A5ne_Kronoberg/runs/ht0mnlby' target=\"_blank\">glorious-sweep-20</a></strong> to <a href='https://wandb.ai/danish2562022/sweeps-SEIR_Sk%C3%A5ne_Kronoberg' target=\"_blank\">Weights & Biases</a> (<a href='https://wandb.me/run' target=\"_blank\">docs</a>)<br/>Sweep page: <a href='https://wandb.ai/danish2562022/sweeps-SEIR_Sk%C3%A5ne_Kronoberg/sweeps/uenjiggc' target=\"_blank\">https://wandb.ai/danish2562022/sweeps-SEIR_Sk%C3%A5ne_Kronoberg/sweeps/uenjiggc</a>"
      ],
      "text/plain": [
       "<IPython.core.display.HTML object>"
      ]
     },
     "metadata": {},
     "output_type": "display_data"
    },
    {
     "data": {
      "text/html": [
       " View project at <a href='https://wandb.ai/danish2562022/sweeps-SEIR_Sk%C3%A5ne_Kronoberg' target=\"_blank\">https://wandb.ai/danish2562022/sweeps-SEIR_Sk%C3%A5ne_Kronoberg</a>"
      ],
      "text/plain": [
       "<IPython.core.display.HTML object>"
      ]
     },
     "metadata": {},
     "output_type": "display_data"
    },
    {
     "data": {
      "text/html": [
       " View sweep at <a href='https://wandb.ai/danish2562022/sweeps-SEIR_Sk%C3%A5ne_Kronoberg/sweeps/uenjiggc' target=\"_blank\">https://wandb.ai/danish2562022/sweeps-SEIR_Sk%C3%A5ne_Kronoberg/sweeps/uenjiggc</a>"
      ],
      "text/plain": [
       "<IPython.core.display.HTML object>"
      ]
     },
     "metadata": {},
     "output_type": "display_data"
    },
    {
     "data": {
      "text/html": [
       " View run at <a href='https://wandb.ai/danish2562022/sweeps-SEIR_Sk%C3%A5ne_Kronoberg/runs/ht0mnlby' target=\"_blank\">https://wandb.ai/danish2562022/sweeps-SEIR_Sk%C3%A5ne_Kronoberg/runs/ht0mnlby</a>"
      ],
      "text/plain": [
       "<IPython.core.display.HTML object>"
      ]
     },
     "metadata": {},
     "output_type": "display_data"
    },
    {
     "data": {
      "application/vnd.jupyter.widget-view+json": {
       "model_id": "e638e9846861480aaee30bd931e7bfbd",
       "version_major": 2,
       "version_minor": 0
      },
      "text/plain": [
       "VBox(children=(Label(value='0.021 MB of 0.021 MB uploaded\\r'), FloatProgress(value=1.0, max=1.0)))"
      ]
     },
     "metadata": {},
     "output_type": "display_data"
    },
    {
     "data": {
      "text/html": [
       "<style>\n",
       "    table.wandb td:nth-child(1) { padding: 0 10px; text-align: left ; width: auto;} td:nth-child(2) {text-align: left ; width: 100%}\n",
       "    .wandb-row { display: flex; flex-direction: row; flex-wrap: wrap; justify-content: flex-start; width: 100% }\n",
       "    .wandb-col { display: flex; flex-direction: column; flex-basis: 100%; flex: 1; padding: 10px; }\n",
       "    </style>\n",
       "<div class=\"wandb-row\"><div class=\"wandb-col\"><h3>Run history:</h3><br/><table class=\"wandb\"><tr><td>CV_RMSE</td><td>▁</td></tr><tr><td>CV_RMSE_'skane</td><td>▁</td></tr><tr><td>CV_RMSE_kronoberg</td><td>▁</td></tr><tr><td>RMSE</td><td>▁</td></tr><tr><td>RMSE_kronoberg</td><td>▁</td></tr><tr><td>RMSE_skane</td><td>▁</td></tr></table><br/></div><div class=\"wandb-col\"><h3>Run summary:</h3><br/><table class=\"wandb\"><tr><td>CV_RMSE</td><td>4981.1962</td></tr><tr><td>CV_RMSE_'skane</td><td>2706.93661</td></tr><tr><td>CV_RMSE_kronoberg</td><td>2274.25959</td></tr><tr><td>RMSE</td><td>1949.25699</td></tr><tr><td>RMSE_kronoberg</td><td>242.0823</td></tr><tr><td>RMSE_skane</td><td>1707.17469</td></tr></table><br/></div></div>"
      ],
      "text/plain": [
       "<IPython.core.display.HTML object>"
      ]
     },
     "metadata": {},
     "output_type": "display_data"
    },
    {
     "data": {
      "text/html": [
       " View run <strong style=\"color:#cdcd00\">glorious-sweep-20</strong> at: <a href='https://wandb.ai/danish2562022/sweeps-SEIR_Sk%C3%A5ne_Kronoberg/runs/ht0mnlby' target=\"_blank\">https://wandb.ai/danish2562022/sweeps-SEIR_Sk%C3%A5ne_Kronoberg/runs/ht0mnlby</a><br/> View project at: <a href='https://wandb.ai/danish2562022/sweeps-SEIR_Sk%C3%A5ne_Kronoberg' target=\"_blank\">https://wandb.ai/danish2562022/sweeps-SEIR_Sk%C3%A5ne_Kronoberg</a><br/>Synced 5 W&B file(s), 0 media file(s), 0 artifact file(s) and 0 other file(s)"
      ],
      "text/plain": [
       "<IPython.core.display.HTML object>"
      ]
     },
     "metadata": {},
     "output_type": "display_data"
    },
    {
     "data": {
      "text/html": [
       "Find logs at: <code>./wandb/run-20250529_070052-ht0mnlby/logs</code>"
      ],
      "text/plain": [
       "<IPython.core.display.HTML object>"
      ]
     },
     "metadata": {},
     "output_type": "display_data"
    },
    {
     "data": {
      "text/html": [
       "The new W&B backend becomes opt-out in version 0.18.0; try it out with `wandb.require(\"core\")`! See https://wandb.me/wandb-core for more information."
      ],
      "text/plain": [
       "<IPython.core.display.HTML object>"
      ]
     },
     "metadata": {},
     "output_type": "display_data"
    },
    {
     "name": "stderr",
     "output_type": "stream",
     "text": [
      "\u001b[34m\u001b[1mwandb\u001b[0m: Sweep Agent: Waiting for job.\n",
      "\u001b[34m\u001b[1mwandb\u001b[0m: Job received.\n",
      "\u001b[34m\u001b[1mwandb\u001b[0m: Agent Starting Run: o1pqeh1b with config:\n",
      "\u001b[34m\u001b[1mwandb\u001b[0m: \tah0: 2.1303020078118244\n",
      "\u001b[34m\u001b[1mwandb\u001b[0m: \tah1: 9.563030272828668\n",
      "\u001b[34m\u001b[1mwandb\u001b[0m: \tbh0: 14.620913980348462\n",
      "\u001b[34m\u001b[1mwandb\u001b[0m: \tbh1: 9.088263880532132\n",
      "\u001b[34m\u001b[1mwandb\u001b[0m: \tc: 3.948387180683194\n"
     ]
    },
    {
     "data": {
      "text/html": [
       "wandb version 0.19.11 is available!  To upgrade, please run:\n",
       " $ pip install wandb --upgrade"
      ],
      "text/plain": [
       "<IPython.core.display.HTML object>"
      ]
     },
     "metadata": {},
     "output_type": "display_data"
    },
    {
     "data": {
      "text/html": [
       "Tracking run with wandb version 0.17.4"
      ],
      "text/plain": [
       "<IPython.core.display.HTML object>"
      ]
     },
     "metadata": {},
     "output_type": "display_data"
    },
    {
     "data": {
      "text/html": [
       "Run data is saved locally in <code>/12tb_dsk3/SEIR_model/src/wandb/run-20250529_070108-o1pqeh1b</code>"
      ],
      "text/plain": [
       "<IPython.core.display.HTML object>"
      ]
     },
     "metadata": {},
     "output_type": "display_data"
    },
    {
     "data": {
      "text/html": [
       "Syncing run <strong><a href='https://wandb.ai/danish2562022/sweeps-SEIR_Sk%C3%A5ne_Kronoberg/runs/o1pqeh1b' target=\"_blank\">rare-sweep-21</a></strong> to <a href='https://wandb.ai/danish2562022/sweeps-SEIR_Sk%C3%A5ne_Kronoberg' target=\"_blank\">Weights & Biases</a> (<a href='https://wandb.me/run' target=\"_blank\">docs</a>)<br/>Sweep page: <a href='https://wandb.ai/danish2562022/sweeps-SEIR_Sk%C3%A5ne_Kronoberg/sweeps/uenjiggc' target=\"_blank\">https://wandb.ai/danish2562022/sweeps-SEIR_Sk%C3%A5ne_Kronoberg/sweeps/uenjiggc</a>"
      ],
      "text/plain": [
       "<IPython.core.display.HTML object>"
      ]
     },
     "metadata": {},
     "output_type": "display_data"
    },
    {
     "data": {
      "text/html": [
       " View project at <a href='https://wandb.ai/danish2562022/sweeps-SEIR_Sk%C3%A5ne_Kronoberg' target=\"_blank\">https://wandb.ai/danish2562022/sweeps-SEIR_Sk%C3%A5ne_Kronoberg</a>"
      ],
      "text/plain": [
       "<IPython.core.display.HTML object>"
      ]
     },
     "metadata": {},
     "output_type": "display_data"
    },
    {
     "data": {
      "text/html": [
       " View sweep at <a href='https://wandb.ai/danish2562022/sweeps-SEIR_Sk%C3%A5ne_Kronoberg/sweeps/uenjiggc' target=\"_blank\">https://wandb.ai/danish2562022/sweeps-SEIR_Sk%C3%A5ne_Kronoberg/sweeps/uenjiggc</a>"
      ],
      "text/plain": [
       "<IPython.core.display.HTML object>"
      ]
     },
     "metadata": {},
     "output_type": "display_data"
    },
    {
     "data": {
      "text/html": [
       " View run at <a href='https://wandb.ai/danish2562022/sweeps-SEIR_Sk%C3%A5ne_Kronoberg/runs/o1pqeh1b' target=\"_blank\">https://wandb.ai/danish2562022/sweeps-SEIR_Sk%C3%A5ne_Kronoberg/runs/o1pqeh1b</a>"
      ],
      "text/plain": [
       "<IPython.core.display.HTML object>"
      ]
     },
     "metadata": {},
     "output_type": "display_data"
    },
    {
     "data": {
      "application/vnd.jupyter.widget-view+json": {
       "model_id": "1710c1c7a5f340d2a0e5d4b95d45c656",
       "version_major": 2,
       "version_minor": 0
      },
      "text/plain": [
       "VBox(children=(Label(value='0.021 MB of 0.021 MB uploaded\\r'), FloatProgress(value=1.0, max=1.0)))"
      ]
     },
     "metadata": {},
     "output_type": "display_data"
    },
    {
     "data": {
      "text/html": [
       "<style>\n",
       "    table.wandb td:nth-child(1) { padding: 0 10px; text-align: left ; width: auto;} td:nth-child(2) {text-align: left ; width: 100%}\n",
       "    .wandb-row { display: flex; flex-direction: row; flex-wrap: wrap; justify-content: flex-start; width: 100% }\n",
       "    .wandb-col { display: flex; flex-direction: column; flex-basis: 100%; flex: 1; padding: 10px; }\n",
       "    </style>\n",
       "<div class=\"wandb-row\"><div class=\"wandb-col\"><h3>Run history:</h3><br/><table class=\"wandb\"><tr><td>CV_RMSE</td><td>▁</td></tr><tr><td>CV_RMSE_'skane</td><td>▁</td></tr><tr><td>CV_RMSE_kronoberg</td><td>▁</td></tr><tr><td>RMSE</td><td>▁</td></tr><tr><td>RMSE_kronoberg</td><td>▁</td></tr><tr><td>RMSE_skane</td><td>▁</td></tr></table><br/></div><div class=\"wandb-col\"><h3>Run summary:</h3><br/><table class=\"wandb\"><tr><td>CV_RMSE</td><td>5168.24652</td></tr><tr><td>CV_RMSE_'skane</td><td>2739.67194</td></tr><tr><td>CV_RMSE_kronoberg</td><td>2428.57458</td></tr><tr><td>RMSE</td><td>1986.32804</td></tr><tr><td>RMSE_kronoberg</td><td>258.50827</td></tr><tr><td>RMSE_skane</td><td>1727.81977</td></tr></table><br/></div></div>"
      ],
      "text/plain": [
       "<IPython.core.display.HTML object>"
      ]
     },
     "metadata": {},
     "output_type": "display_data"
    },
    {
     "data": {
      "text/html": [
       " View run <strong style=\"color:#cdcd00\">rare-sweep-21</strong> at: <a href='https://wandb.ai/danish2562022/sweeps-SEIR_Sk%C3%A5ne_Kronoberg/runs/o1pqeh1b' target=\"_blank\">https://wandb.ai/danish2562022/sweeps-SEIR_Sk%C3%A5ne_Kronoberg/runs/o1pqeh1b</a><br/> View project at: <a href='https://wandb.ai/danish2562022/sweeps-SEIR_Sk%C3%A5ne_Kronoberg' target=\"_blank\">https://wandb.ai/danish2562022/sweeps-SEIR_Sk%C3%A5ne_Kronoberg</a><br/>Synced 5 W&B file(s), 0 media file(s), 0 artifact file(s) and 0 other file(s)"
      ],
      "text/plain": [
       "<IPython.core.display.HTML object>"
      ]
     },
     "metadata": {},
     "output_type": "display_data"
    },
    {
     "data": {
      "text/html": [
       "Find logs at: <code>./wandb/run-20250529_070108-o1pqeh1b/logs</code>"
      ],
      "text/plain": [
       "<IPython.core.display.HTML object>"
      ]
     },
     "metadata": {},
     "output_type": "display_data"
    },
    {
     "data": {
      "text/html": [
       "The new W&B backend becomes opt-out in version 0.18.0; try it out with `wandb.require(\"core\")`! See https://wandb.me/wandb-core for more information."
      ],
      "text/plain": [
       "<IPython.core.display.HTML object>"
      ]
     },
     "metadata": {},
     "output_type": "display_data"
    }
   ],
   "source": [
    "wandb.agent(sweep_id,fit_model, count=10000)"
   ]
  },
  {
   "cell_type": "code",
   "execution_count": 38,
   "id": "623208ec-1337-4190-aaed-d61bcd7d416b",
   "metadata": {},
   "outputs": [
    {
     "data": {
      "text/html": [],
      "text/plain": [
       "<IPython.core.display.HTML object>"
      ]
     },
     "metadata": {},
     "output_type": "display_data"
    },
    {
     "data": {
      "text/html": [
       "Tracking run with wandb version 0.19.11"
      ],
      "text/plain": [
       "<IPython.core.display.HTML object>"
      ]
     },
     "metadata": {},
     "output_type": "display_data"
    },
    {
     "data": {
      "text/html": [
       "Run data is saved locally in <code>/Users/anwer/Desktop/SEIR_model/src/wandb/run-20250526_223237-f9yjllft</code>"
      ],
      "text/plain": [
       "<IPython.core.display.HTML object>"
      ]
     },
     "metadata": {},
     "output_type": "display_data"
    },
    {
     "data": {
      "text/html": [
       "Syncing run <strong><a href='https://wandb.ai/danish2562022/random-search-pred_inlagda/runs/f9yjllft' target=\"_blank\">random_search_run</a></strong> to <a href='https://wandb.ai/danish2562022/random-search-pred_inlagda' target=\"_blank\">Weights & Biases</a> (<a href='https://wandb.me/developer-guide' target=\"_blank\">docs</a>)<br>"
      ],
      "text/plain": [
       "<IPython.core.display.HTML object>"
      ]
     },
     "metadata": {},
     "output_type": "display_data"
    },
    {
     "data": {
      "text/html": [
       " View project at <a href='https://wandb.ai/danish2562022/random-search-pred_inlagda' target=\"_blank\">https://wandb.ai/danish2562022/random-search-pred_inlagda</a>"
      ],
      "text/plain": [
       "<IPython.core.display.HTML object>"
      ]
     },
     "metadata": {},
     "output_type": "display_data"
    },
    {
     "data": {
      "text/html": [
       " View run at <a href='https://wandb.ai/danish2562022/random-search-pred_inlagda/runs/f9yjllft' target=\"_blank\">https://wandb.ai/danish2562022/random-search-pred_inlagda/runs/f9yjllft</a>"
      ],
      "text/plain": [
       "<IPython.core.display.HTML object>"
      ]
     },
     "metadata": {},
     "output_type": "display_data"
    },
    {
     "data": {
      "text/html": [],
      "text/plain": [
       "<IPython.core.display.HTML object>"
      ]
     },
     "metadata": {},
     "output_type": "display_data"
    },
    {
     "data": {
      "text/html": [
       "<br>    <style><br>        .wandb-row {<br>            display: flex;<br>            flex-direction: row;<br>            flex-wrap: wrap;<br>            justify-content: flex-start;<br>            width: 100%;<br>        }<br>        .wandb-col {<br>            display: flex;<br>            flex-direction: column;<br>            flex-basis: 100%;<br>            flex: 1;<br>            padding: 10px;<br>        }<br>    </style><br><div class=\"wandb-row\"><div class=\"wandb-col\"><h3>Run history:</h3><br/><table class=\"wandb\"><tr><td>RMSE</td><td>▁█▇█▄▃█▇▄▄▅█▇▃██▁▁▅▇▇▅▁▅█▁▅▇▅▁█▇▅▁██▁▇▁█</td></tr><tr><td>ah0</td><td>▁▁▁▁▁████▁▁█▁▁██████▁█████▁█▁█▁▁██▁█▁▁▁█</td></tr><tr><td>ah1</td><td>▁▁▁▁██▁██▁▁██▁▁█████▁█▁██████▁▁█████▁▁▁▁</td></tr><tr><td>bh0</td><td>▁█████▁▁██▁████▁▁▁▁▁█▁▁███▁▁▁▁█▁████▁▁▁█</td></tr><tr><td>bh1</td><td>▁▁▁█▁▁███▁▁▁█▁▁███▁▁██▁█▁▁█▁▁▁███▁▁▁▁█▁█</td></tr><tr><td>c</td><td>███▁█▁▁█▁▁▁███▁██▁█▁▁█▁▁██▁▁▁█▁█████████</td></tr></table><br/></div><div class=\"wandb-col\"><h3>Run summary:</h3><br/><table class=\"wandb\"><tr><td>RMSE</td><td>2405.68111</td></tr><tr><td>ah0</td><td>0</td></tr><tr><td>ah1</td><td>0</td></tr><tr><td>bh0</td><td>10</td></tr><tr><td>bh1</td><td>10</td></tr><tr><td>c</td><td>10</td></tr></table><br/></div></div>"
      ],
      "text/plain": [
       "<IPython.core.display.HTML object>"
      ]
     },
     "metadata": {},
     "output_type": "display_data"
    },
    {
     "data": {
      "text/html": [
       " View run <strong style=\"color:#cdcd00\">random_search_run</strong> at: <a href='https://wandb.ai/danish2562022/random-search-pred_inlagda/runs/f9yjllft' target=\"_blank\">https://wandb.ai/danish2562022/random-search-pred_inlagda/runs/f9yjllft</a><br> View project at: <a href='https://wandb.ai/danish2562022/random-search-pred_inlagda' target=\"_blank\">https://wandb.ai/danish2562022/random-search-pred_inlagda</a><br>Synced 5 W&B file(s), 0 media file(s), 0 artifact file(s) and 0 other file(s)"
      ],
      "text/plain": [
       "<IPython.core.display.HTML object>"
      ]
     },
     "metadata": {},
     "output_type": "display_data"
    },
    {
     "data": {
      "text/html": [
       "Find logs at: <code>./wandb/run-20250526_223237-f9yjllft/logs</code>"
      ],
      "text/plain": [
       "<IPython.core.display.HTML object>"
      ]
     },
     "metadata": {},
     "output_type": "display_data"
    }
   ],
   "source": [
    "import wandb\n",
    "import numpy as np\n",
    "import random\n",
    "\n",
    "# Initialize wandb project\n",
    "wandb.init(project=\"random-search-pred_inlagda\", name=\"random_search_run\", config={})\n",
    "\n",
    "# Define ranges of hyperparameters for sampling\n",
    "param_space = {\n",
    "    \"ah0\": [0, 10],\n",
    "    \"bh0\": [0, 10],\n",
    "    \"ah1\": [0, 10],\n",
    "    \"bh1\": [0, 10],\n",
    "    \"c\":   [0, 10]\n",
    "}\n",
    "\n",
    "# Number of random trials\n",
    "n_trials = 500\n",
    "\n",
    "# Random search loop\n",
    "for _ in range(n_trials):\n",
    "    # Randomly sample one value for each hyperparameter\n",
    "    params = {key: random.choice(values) for key, values in param_space.items()}\n",
    "    \n",
    "    # Run model\n",
    "    P = pred_inlagda(weeks_train, params[\"ah0\"], params[\"bh0\"], params[\"ah1\"], params[\"bh1\"], params[\"c\"], delay)\n",
    "    CV_RMSE_1 = return_CV_RMSE(P[:,0], I_train[0])\n",
    "    CV_RMSE_2 = return_CV_RMSE(P[:,1], I_train[1])\n",
    "    CV_RMSE = CV_RMSE_1 + CV_RMSE_2    \n",
    "\n",
    "    CV_RMSE_1 = return_CV_RMSE(P[:,0], I_train[0])\n",
    "    CV_RMSE_2 = return_CV_RMSE(P[:,1], I_train[1])\n",
    "    CV_RMSE = CV_RMSE_1 + CV_RMSE_2  \n",
    "    \n",
    "    # Log to wandb\n",
    "    wandb.log({\n",
    "        **params,\n",
    "        \"CV_RMSE\": CV_RMSE\n",
    "        \"RMSE\": RMSE\n",
    "    })\n",
    "\n",
    "# Finish wandb run\n",
    "wandb.finish()\n"
   ]
  },
  {
   "cell_type": "code",
   "execution_count": 17,
   "id": "5eba30a4-ffa2-4e19-b434-f72fcb90d6f6",
   "metadata": {},
   "outputs": [
    {
     "name": "stdout",
     "output_type": "stream",
     "text": [
      "(array([0]), array([1]), array([1]), array([0]), array([1]))\n",
      "(array([0]), array([1]), array([1]), array([0]), array([1]))\n",
      "[3.] [7.] [6.5] [4.] [0.1]\n",
      "[3.] [7.] [6.5] [4.] [0.1]\n",
      "Minimum RMSE:  [277.95568688]\n",
      "Minimum CV-RMSE:  [98.99490233]\n"
     ]
    }
   ],
   "source": [
    "optind0 = np.where(E_rmse0 == np.amin(E_rmse0))\n",
    "optind0_cv = np.where(E_cv_rmse0 == np.amin(E_cv_rmse0))\n",
    "a0fitE0 = ah0[optind0[0]]\n",
    "b0fitE0 = bh0[optind0[1]]\n",
    "a1fitE0 = ah1[optind0[2]]\n",
    "b1fitE0 = bh1[optind0[3]]\n",
    "cfitE0  =   c[optind0[4]]\n",
    "a0fitE0_cv = ah0[optind0_cv[0]]\n",
    "b0fitE0_cv = bh0[optind0_cv[1]]\n",
    "a1fitE0_cv = ah1[optind0_cv[2]]\n",
    "b1fitE0_cv = bh1[optind0_cv[3]]\n",
    "cfitE0_cv  =   c[optind0_cv[4]]\n",
    "print(optind0)\n",
    "print(optind0_cv)\n",
    "print(a0fitE0, b0fitE0, a1fitE0, b1fitE0, cfitE0)\n",
    "print(a0fitE0_cv, b0fitE0_cv, a1fitE0_cv, b1fitE0_cv, cfitE0_cv)\n",
    "print(\"Minimum RMSE: \",E_rmse0[optind0])\n",
    "print(\"Minimum CV-RMSE: \",E_cv_rmse0[optind0_cv])"
   ]
  },
  {
   "cell_type": "code",
   "execution_count": 18,
   "id": "36359673-d394-471e-a1f7-ca23c7d9e60d",
   "metadata": {},
   "outputs": [
    {
     "name": "stdout",
     "output_type": "stream",
     "text": [
      "(array([1]), array([0]), array([0]), array([1]), array([1]))\n",
      "(array([1]), array([0]), array([0]), array([1]), array([1]))\n",
      "[6.5] [4.] [3.] [7.] [0.1]\n",
      "[6.5] [4.] [3.] [7.] [0.1]\n",
      "Minimum RMSE:  [24.14298631]\n",
      "Minimum CV-RMSE:  [88.68852113]\n"
     ]
    }
   ],
   "source": [
    "optind1 = np.where(E_rmse1 == np.amin(E_rmse1))\n",
    "optind1_cv = np.where(E_cv_rmse1 == np.amin(E_cv_rmse1))\n",
    "a0fitE1 = ah0[optind1[0]]\n",
    "b0fitE1 = bh0[optind1[1]]\n",
    "a1fitE1 = ah1[optind1[2]]\n",
    "b1fitE1 = bh1[optind1[3]]\n",
    "cfitE1  =   c[optind1[4]]\n",
    "a0fitE1_cv = ah0[optind1_cv[0]]\n",
    "b0fitE1_cv = bh0[optind1_cv[1]]\n",
    "a1fitE1_cv = ah1[optind1_cv[2]]\n",
    "b1fitE1_cv = bh1[optind1_cv[3]]\n",
    "cfitE1_cv  =   c[optind1_cv[4]]\n",
    "print(optind1)\n",
    "print(optind1_cv)\n",
    "print(a0fitE1, b0fitE1, a1fitE1, b1fitE1, cfitE1)\n",
    "print(a0fitE1_cv, b0fitE1_cv, a1fitE1_cv, b1fitE1_cv, cfitE1_cv)\n",
    "print(\"Minimum RMSE: \",E_rmse1[optind1])\n",
    "print(\"Minimum CV-RMSE: \",E_cv_rmse1[optind1_cv])"
   ]
  },
  {
   "cell_type": "code",
   "execution_count": 19,
   "id": "c516120c-96a5-448f-96c0-e127cdd9810f",
   "metadata": {},
   "outputs": [
    {
     "name": "stdout",
     "output_type": "stream",
     "text": [
      "(array([0]), array([0]), array([0]), array([2]), array([1]))\n",
      "(array([0]), array([0]), array([0]), array([2]), array([1]))\n",
      "[3.] [4.] [3.] [10.] [0.1]\n",
      "[3.] [4.] [3.] [10.] [0.1]\n",
      "Minimum RMSE:  [382.78615013]\n",
      "Minimum CV-RMSE:  [236.28067995]\n"
     ]
    }
   ],
   "source": [
    "E_rmse = E_rmse0 + E_rmse1\n",
    "E_cv_rmse = E_cv_rmse0 + E_cv_rmse1\n",
    "optind = np.where(E_rmse == np.amin(E_rmse))\n",
    "optind_cv = np.where(E_cv_rmse == np.amin(E_cv_rmse))\n",
    "a0fitE = ah0[optind[0]]\n",
    "b0fitE = bh0[optind[1]]\n",
    "a1fitE = ah1[optind[2]]\n",
    "b1fitE = bh1[optind[3]]\n",
    "cfitE  =   c[optind[4]]\n",
    "a0fitE_cv = ah0[optind_cv[0]]\n",
    "b0fitE_cv = bh0[optind_cv[1]]\n",
    "a1fitE_cv = ah1[optind_cv[2]]\n",
    "b1fitE_cv = bh1[optind_cv[3]]\n",
    "cfitE_cv  =   c[optind_cv[4]]\n",
    "print(optind)\n",
    "print(optind_cv)\n",
    "print(a0fitE, b0fitE, a1fitE, b1fitE, cfitE)\n",
    "print(a0fitE_cv, b0fitE_cv, a1fitE_cv, b1fitE_cv, cfitE_cv)\n",
    "print(\"Minimum RMSE: \",E_rmse[optind])\n",
    "print(\"Minimum CV-RMSE: \",E_cv_rmse[optind_cv])"
   ]
  },
  {
   "cell_type": "code",
   "execution_count": 32,
   "id": "2c2c9691-90d9-4698-83ce-0ef302d16746",
   "metadata": {},
   "outputs": [
    {
     "name": "stdout",
     "output_type": "stream",
     "text": [
      "[3.]\n",
      "[[[[[0.]]]]]\n",
      "[[[[[132.07105663]]]]]\n"
     ]
    }
   ],
   "source": [
    "# Function to compute RMSE for a specific combination of hyperparameters\n",
    "def compute_rmse(i, j, k, l, m, weeks_train, ah0, bh0, ah1, bh1, c, I_train, delay):\n",
    "    P = pred_inlagda(weeks_train, ah0[i], bh0[j], ah1[k], bh1[l], c[m], delay)\n",
    "    \n",
    "    RMSE0 = return_RMSE(P[:,0], I_train[0])\n",
    "    RMSE1 = return_RMSE(P[:,1], I_train[1])\n",
    "                    \n",
    "    # Store the results in the arrays (instead of RMSE)\n",
    "    E_rmse0[i,j,k,l,m] = RMSE0\n",
    "    E_rmse1[i,j,k,l,m] = RMSE1 \n",
    "\n",
    "    # Calculate the Coefficient of Variation of RMSE (CV-RMSE)\n",
    "    CV_RMSE0 = return_CV_RMSE(P[:,0], I_train[0])\n",
    "    CV_RMSE1 = return_CV_RMSE(P[:,1], I_train[1])\n",
    "                                        \n",
    "    # Store the results in the arrays (instead of cv-rmse)\n",
    "    E_cv_rmse0[i, j, k, l, m] = CV_RMSE0\n",
    "    E_cv_rmse1[i, j, k, l, m] = CV_RMSE1\n",
    "    return (i, j, k, l, m, RMSE0, RMSE1, CV_RMSE0, CV_RMSE1)\n",
    "print(ah0)\n",
    "print(E_cv_rmse0)\n",
    "compute_rmse(0,0,0,0,0, weeks_train, ah0, bh0, ah1, bh1, c, I_train, delay) \n",
    "print(E_cv_rmse0)"
   ]
  },
  {
   "cell_type": "code",
   "execution_count": 33,
   "id": "c1045c78-001d-4dec-a718-6f46e4b76b7f",
   "metadata": {},
   "outputs": [
    {
     "name": "stderr",
     "output_type": "stream",
     "text": [
      "100%|████████████████████████████████████████████| 1/1 [00:00<00:00, 129.15it/s]\n",
      "0it [00:00, ?it/s]Process SpawnProcess-19:\n",
      "Traceback (most recent call last):\n",
      "  File \"/Library/Frameworks/Python.framework/Versions/3.12/lib/python3.12/multiprocessing/process.py\", line 314, in _bootstrap\n",
      "    self.run()\n",
      "  File \"/Library/Frameworks/Python.framework/Versions/3.12/lib/python3.12/multiprocessing/process.py\", line 108, in run\n",
      "    self._target(*self._args, **self._kwargs)\n",
      "  File \"/Library/Frameworks/Python.framework/Versions/3.12/lib/python3.12/concurrent/futures/process.py\", line 251, in _process_worker\n",
      "    call_item = call_queue.get(block=True)\n",
      "                ^^^^^^^^^^^^^^^^^^^^^^^^^^\n",
      "  File \"/Library/Frameworks/Python.framework/Versions/3.12/lib/python3.12/multiprocessing/queues.py\", line 122, in get\n",
      "    return _ForkingPickler.loads(res)\n",
      "           ^^^^^^^^^^^^^^^^^^^^^^^^^^\n",
      "AttributeError: Can't get attribute 'compute_rmse' on <module '__main__' (<class '_frozen_importlib.BuiltinImporter'>)>\n",
      "0it [00:00, ?it/s]\n"
     ]
    },
    {
     "ename": "BrokenProcessPool",
     "evalue": "A process in the process pool was terminated abruptly while the future was running or pending.",
     "output_type": "error",
     "traceback": [
      "\u001b[31m---------------------------------------------------------------------------\u001b[39m",
      "\u001b[31mBrokenProcessPool\u001b[39m                         Traceback (most recent call last)",
      "\u001b[36mCell\u001b[39m\u001b[36m \u001b[39m\u001b[32mIn[33]\u001b[39m\u001b[32m, line 53\u001b[39m\n\u001b[32m     50\u001b[39m             E_cv_rmse1[i, j, k, l, m] = CV_RMSE1\n\u001b[32m     52\u001b[39m \u001b[38;5;28;01mif\u001b[39;00m \u001b[34m__name__\u001b[39m == \u001b[33m\"\u001b[39m\u001b[33m__main__\u001b[39m\u001b[33m\"\u001b[39m:\n\u001b[32m---> \u001b[39m\u001b[32m53\u001b[39m     \u001b[43mparallel_search\u001b[49m\u001b[43m(\u001b[49m\u001b[43mn\u001b[49m\u001b[43m,\u001b[49m\u001b[43m \u001b[49m\u001b[43mweeks_train\u001b[49m\u001b[43m,\u001b[49m\u001b[43m \u001b[49m\u001b[43mah0\u001b[49m\u001b[43m,\u001b[49m\u001b[43m \u001b[49m\u001b[43mbh0\u001b[49m\u001b[43m,\u001b[49m\u001b[43m \u001b[49m\u001b[43mah1\u001b[49m\u001b[43m,\u001b[49m\u001b[43m \u001b[49m\u001b[43mbh1\u001b[49m\u001b[43m,\u001b[49m\u001b[43m \u001b[49m\u001b[43mc\u001b[49m\u001b[43m,\u001b[49m\u001b[43m \u001b[49m\u001b[43mI_train\u001b[49m\u001b[43m,\u001b[49m\u001b[43m \u001b[49m\u001b[43mdelay\u001b[49m\u001b[43m)\u001b[49m\n",
      "\u001b[36mCell\u001b[39m\u001b[36m \u001b[39m\u001b[32mIn[33]\u001b[39m\u001b[32m, line 46\u001b[39m, in \u001b[36mparallel_search\u001b[39m\u001b[34m(n, weeks_train, ah0, bh0, ah1, bh1, c, I_train, delay)\u001b[39m\n\u001b[32m     44\u001b[39m \u001b[38;5;66;03m# Collect results from the completed futures\u001b[39;00m\n\u001b[32m     45\u001b[39m \u001b[38;5;28;01mfor\u001b[39;00m future \u001b[38;5;129;01min\u001b[39;00m tqdm(as_completed(futures)):\n\u001b[32m---> \u001b[39m\u001b[32m46\u001b[39m     i, j, k, l, m, RMSE0, RMSE1, CV_RMSE0, CV_RMSE1 = \u001b[43mfuture\u001b[49m\u001b[43m.\u001b[49m\u001b[43mresult\u001b[49m\u001b[43m(\u001b[49m\u001b[43m)\u001b[49m\n\u001b[32m     47\u001b[39m     E_rmse0[i, j, k, l, m] = RMSE0\n\u001b[32m     48\u001b[39m     E_rmse1[i, j, k, l, m] = RMSE1\n",
      "\u001b[36mFile \u001b[39m\u001b[32m/Library/Frameworks/Python.framework/Versions/3.12/lib/python3.12/concurrent/futures/_base.py:449\u001b[39m, in \u001b[36mFuture.result\u001b[39m\u001b[34m(self, timeout)\u001b[39m\n\u001b[32m    447\u001b[39m     \u001b[38;5;28;01mraise\u001b[39;00m CancelledError()\n\u001b[32m    448\u001b[39m \u001b[38;5;28;01melif\u001b[39;00m \u001b[38;5;28mself\u001b[39m._state == FINISHED:\n\u001b[32m--> \u001b[39m\u001b[32m449\u001b[39m     \u001b[38;5;28;01mreturn\u001b[39;00m \u001b[38;5;28;43mself\u001b[39;49m\u001b[43m.\u001b[49m\u001b[43m__get_result\u001b[49m\u001b[43m(\u001b[49m\u001b[43m)\u001b[49m\n\u001b[32m    451\u001b[39m \u001b[38;5;28mself\u001b[39m._condition.wait(timeout)\n\u001b[32m    453\u001b[39m \u001b[38;5;28;01mif\u001b[39;00m \u001b[38;5;28mself\u001b[39m._state \u001b[38;5;129;01min\u001b[39;00m [CANCELLED, CANCELLED_AND_NOTIFIED]:\n",
      "\u001b[36mFile \u001b[39m\u001b[32m/Library/Frameworks/Python.framework/Versions/3.12/lib/python3.12/concurrent/futures/_base.py:401\u001b[39m, in \u001b[36mFuture.__get_result\u001b[39m\u001b[34m(self)\u001b[39m\n\u001b[32m    399\u001b[39m \u001b[38;5;28;01mif\u001b[39;00m \u001b[38;5;28mself\u001b[39m._exception:\n\u001b[32m    400\u001b[39m     \u001b[38;5;28;01mtry\u001b[39;00m:\n\u001b[32m--> \u001b[39m\u001b[32m401\u001b[39m         \u001b[38;5;28;01mraise\u001b[39;00m \u001b[38;5;28mself\u001b[39m._exception\n\u001b[32m    402\u001b[39m     \u001b[38;5;28;01mfinally\u001b[39;00m:\n\u001b[32m    403\u001b[39m         \u001b[38;5;66;03m# Break a reference cycle with the exception in self._exception\u001b[39;00m\n\u001b[32m    404\u001b[39m         \u001b[38;5;28mself\u001b[39m = \u001b[38;5;28;01mNone\u001b[39;00m\n",
      "\u001b[31mBrokenProcessPool\u001b[39m: A process in the process pool was terminated abruptly while the future was running or pending."
     ]
    }
   ],
   "source": [
    "from tqdm import tqdm\n",
    "import numpy as np\n",
    "from concurrent.futures import ProcessPoolExecutor, as_completed\n",
    "\n",
    "\n",
    "namn_list = ['Sthlm', 'Södermanland']\n",
    "transit_fkn_dct = loadMobility_list(namn_list, starting_week) \n",
    "getData_dict = getData_list(namn_list, first_case)\n",
    "\n",
    "I_train = [getData_dict[namn_list[0]]['I'],\n",
    "           getData_dict[namn_list[1]]['I']]\n",
    "weeks_train = getData_dict[namn_list[0]]['veckor']\n",
    "\n",
    "n = 1\n",
    "ah0 = np.linspace(3, 10, n)\n",
    "bh0 = np.linspace(4, 10, n)\n",
    "ah1 = np.linspace(3, 10, n)\n",
    "bh1 = np.linspace(4, 10, n)\n",
    "c =   np.linspace(0, 0.2, n)\n",
    "\n",
    "\n",
    "E_rmse0 = np.zeros((len(ah0), len(bh0), len(ah0), len(bh0), len(c)))\n",
    "E_rmse1 = np.zeros((len(ah0), len(bh0), len(ah0), len(bh0), len(c)))\n",
    "\n",
    "E_cv_rmse0 = np.zeros((len(ah0), len(bh0), len(ah0), len(bh0), len(c)))\n",
    "E_cv_rmse1 = np.zeros((len(ah0), len(bh0), len(ah0), len(bh0), len(c)))\n",
    "\n",
    "\n",
    "\n",
    "# Parallel processing function\n",
    "def parallel_search(n, weeks_train, ah0, bh0, ah1, bh1, c, I_train, delay):\n",
    "    # Store futures to track processing\n",
    "    futures = []\n",
    "    with ProcessPoolExecutor() as executor:\n",
    "        # Loop through all combinations of i, j, k, l, m\n",
    "        for i in tqdm(range(n)):\n",
    "            for j in range(n):\n",
    "                for k in range(n):\n",
    "                    for l in range(n):\n",
    "                        for m in range(n):\n",
    "                            # Submit the task to the executor\n",
    "                            futures.append(executor.submit(compute_rmse, i, j, k, l, m, weeks_train, ah0, bh0, ah1, bh1, c, I_train, delay))\n",
    "\n",
    "        # Collect results from the completed futures\n",
    "        for future in tqdm(as_completed(futures)):\n",
    "            i, j, k, l, m, RMSE0, RMSE1, CV_RMSE0, CV_RMSE1 = future.result()\n",
    "            E_rmse0[i, j, k, l, m] = RMSE0\n",
    "            E_rmse1[i, j, k, l, m] = RMSE1\n",
    "            E_cv_rmse0[i, j, k, l, m] = CV_RMSE0 \n",
    "            E_cv_rmse1[i, j, k, l, m] = CV_RMSE1\n",
    "\n",
    "if __name__ == \"__main__\":\n",
    "    parallel_search(n, weeks_train, ah0, bh0, ah1, bh1, c, I_train, delay)"
   ]
  },
  {
   "cell_type": "code",
   "execution_count": 79,
   "id": "4ebc10d9-a558-45cf-b26a-164ad8ce5bc4",
   "metadata": {},
   "outputs": [
    {
     "name": "stderr",
     "output_type": "stream",
     "text": [
      "100%|█████████████████████████████████████████████| 2/2 [00:00<00:00, 37.31it/s]\n",
      "32it [00:01, 17.71it/s]\n"
     ]
    },
    {
     "name": "stdout",
     "output_type": "stream",
     "text": [
      "[[[[[[ 132.07105663  266.89954043]\n",
      "     [ 132.07105519  145.07097686]]\n",
      "\n",
      "    [[ 132.07105629  411.52357819]\n",
      "     [ 132.07105518  455.23390166]]]\n",
      "\n",
      "\n",
      "   [[[ 141.46444834  140.26920471]\n",
      "     [ 141.46444834  135.79792599]]\n",
      "\n",
      "    [[ 141.46444839  346.38533447]\n",
      "     [ 141.46444839  421.31853227]]]]\n",
      "\n",
      "\n",
      "\n",
      "  [[[[ 985.51989585  991.11978118]\n",
      "     [ 985.51989369  992.18490846]]\n",
      "\n",
      "    [[ 985.51989504 1012.33768634]\n",
      "     [ 985.51989007 1016.40540828]]]\n",
      "\n",
      "\n",
      "   [[[1019.21401546 1020.8075171 ]\n",
      "     [1019.21401522 1021.03856189]]\n",
      "\n",
      "    [[1019.2140211  1027.49564889]\n",
      "     [1019.21402096 1031.33656187]]]]]\n",
      "\n",
      "\n",
      "\n",
      "\n",
      " [[[[[ 449.8093266   451.33122435]\n",
      "     [ 121.48130424  135.77557414]]\n",
      "\n",
      "    [[1333.1332519  1333.46565732]\n",
      "     [1377.95386763 1378.21970564]]]\n",
      "\n",
      "\n",
      "   [[[ 449.80932262  421.8469298 ]\n",
      "     [ 121.48130432  120.18099843]]\n",
      "\n",
      "    [[1333.13325123 1333.536733  ]\n",
      "     [1377.95386741 1378.2700245 ]]]]\n",
      "\n",
      "\n",
      "\n",
      "  [[[[ 449.80933868  516.49824952]\n",
      "     [ 121.48130519  358.95960396]]\n",
      "\n",
      "    [[1333.13325437 1335.56254057]\n",
      "     [1377.95386727 1379.33251558]]]\n",
      "\n",
      "\n",
      "   [[[ 449.80931686  571.88005032]\n",
      "     [ 121.48130475  446.56146234]]\n",
      "\n",
      "    [[1333.13324743 1336.94487568]\n",
      "     [1377.95388153 1380.08469197]]]]]]\n"
     ]
    }
   ],
   "source": [
    "%run -i parallell_grid_search.py\n",
    "print(E_cv_rmse)"
   ]
  },
  {
   "cell_type": "code",
   "execution_count": 371,
   "id": "709b3c4e-764c-46b6-9654-47da126c14f8",
   "metadata": {},
   "outputs": [
    {
     "name": "stdout",
     "output_type": "stream",
     "text": [
      "Minimum RMSE:  [577.20146072]\n"
     ]
    }
   ],
   "source": [
    "optind = np.where(E_sthlm == np.amin(E_sthlm))\n",
    "afiE_sthlm = ah[optind[0]]\n",
    "bfitE_sthlm = bh[optind[1]]\n",
    "\n",
    "print(\"Minimum RMSE: \",E_sthlm[optind])\n",
    "#print(\"a=\",afiE_sthlm,\"b=\",bfit)"
   ]
  },
  {
   "cell_type": "code",
   "execution_count": null,
   "id": "76ae6182-1af3-428a-948b-132742bc234f",
   "metadata": {},
   "outputs": [],
   "source": [
    "optind = np.where(E_sthlm == np.amin(E_sthlm))\n",
    "afiE_sthlm = ah[optind[0]]\n",
    "bfitE_sthlm = bh[optind[1]]\n"
   ]
  },
  {
   "cell_type": "code",
   "execution_count": 76,
   "id": "047655c2-e29e-4443-afd3-ccd62e810432",
   "metadata": {},
   "outputs": [],
   "source": [
    "regs = pandas.read_pickle('../data/param_IC.pkl') #load initial guesses for a and b for each region\n",
    "astart = regs['a'].values\n",
    "bstart = regs['b'].values"
   ]
  },
  {
   "cell_type": "code",
   "execution_count": 66,
   "id": "f1d8280b-49ff-46e8-8a1c-af40dfc4d11c",
   "metadata": {},
   "outputs": [
    {
     "data": {
      "text/plain": [
       "range(0, 2)"
      ]
     },
     "execution_count": 66,
     "metadata": {},
     "output_type": "execute_result"
    }
   ],
   "source": [
    "range(2)"
   ]
  },
  {
   "cell_type": "code",
   "execution_count": 67,
   "id": "622fe77f-6a68-43e2-bb66-51482aa93485",
   "metadata": {},
   "outputs": [
    {
     "data": {
      "text/plain": [
       "False"
      ]
     },
     "execution_count": 67,
     "metadata": {},
     "output_type": "execute_result"
    }
   ],
   "source": [
    "i in range(2)"
   ]
  },
  {
   "cell_type": "code",
   "execution_count": 69,
   "id": "fd4fadcb-563a-43ea-af2b-0110f97a89e8",
   "metadata": {},
   "outputs": [
    {
     "name": "stdout",
     "output_type": "stream",
     "text": [
      "0\n",
      "1\n"
     ]
    }
   ],
   "source": [
    "for i in range(2):\n",
    "    print(i)"
   ]
  },
  {
   "cell_type": "code",
   "execution_count": null,
   "id": "1824bda4-63b5-410f-a9b7-ad437ed8360c",
   "metadata": {},
   "outputs": [],
   "source": []
  }
 ],
 "metadata": {
  "kernelspec": {
   "display_name": "Python 3 (ipykernel)",
   "language": "python",
   "name": "python3"
  },
  "language_info": {
   "codemirror_mode": {
    "name": "ipython",
    "version": 3
   },
   "file_extension": ".py",
   "mimetype": "text/x-python",
   "name": "python",
   "nbconvert_exporter": "python",
   "pygments_lexer": "ipython3",
   "version": "3.12.2"
  }
 },
 "nbformat": 4,
 "nbformat_minor": 5
}
