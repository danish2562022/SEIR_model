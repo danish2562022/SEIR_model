{
 "cells": [
  {
   "cell_type": "markdown",
   "metadata": {},
   "source": [
    "# Predicting regional COVID-19 hospital admissions in Sweden using mobility data\n",
    "This notebook accompanies the manuscript \"Predicting regional COVID-19 hospital admissions in Sweden using mobility data\" and contains code for generating figure 1. To run it requires the following files: \"statistik-covid19-inskrivna.xlsx\", \"VT.xlsx\",\"ST.xlsx\" and \"param_IC.pkl\".\n",
    "\n",
    "Questions and comments: gerlee@chalmers.se"
   ]
  },
  {
   "cell_type": "markdown",
   "metadata": {},
   "source": []
  },
  {
   "cell_type": "markdown",
   "metadata": {},
   "source": [
    "# 1. Preprocessing hospital admission counts (statistik-covid19-inskrivna_v2.xlsx)"
   ]
  },
  {
   "cell_type": "code",
   "execution_count": 106,
   "metadata": {},
   "outputs": [],
   "source": [
    "\n",
    "#import modules\n",
    "from math import *\n",
    "import matplotlib.pyplot as plt\n",
    "plt.rcParams.update({'font.size': 21})\n",
    "import scipy.stats as stats\n",
    "from scipy.optimize import curve_fit,leastsq\n",
    "from scipy.integrate import odeint, ode\n",
    "from scipy.interpolate import interp1d\n",
    "import numpy as np\n",
    "import pandas\n",
    "from scipy.interpolate import interp1d"
   ]
  },
  {
   "cell_type": "code",
   "execution_count": 107,
   "metadata": {},
   "outputs": [
    {
     "data": {
      "text/html": [
       "<div>\n",
       "<style scoped>\n",
       "    .dataframe tbody tr th:only-of-type {\n",
       "        vertical-align: middle;\n",
       "    }\n",
       "\n",
       "    .dataframe tbody tr th {\n",
       "        vertical-align: top;\n",
       "    }\n",
       "\n",
       "    .dataframe thead th {\n",
       "        text-align: right;\n",
       "    }\n",
       "</style>\n",
       "<table border=\"1\" class=\"dataframe\">\n",
       "  <thead>\n",
       "    <tr style=\"text-align: right;\">\n",
       "      <th></th>\n",
       "      <th>Nyinskrivna i slutenvård med covid-19, antal patienter per inskrivningsvecka och region</th>\n",
       "      <th>Unnamed: 1</th>\n",
       "      <th>Unnamed: 2</th>\n",
       "      <th>Unnamed: 3</th>\n",
       "      <th>Unnamed: 4</th>\n",
       "      <th>Unnamed: 5</th>\n",
       "      <th>Unnamed: 6</th>\n",
       "      <th>Unnamed: 7</th>\n",
       "      <th>Unnamed: 8</th>\n",
       "      <th>Unnamed: 9</th>\n",
       "      <th>...</th>\n",
       "      <th>Unnamed: 79</th>\n",
       "      <th>Unnamed: 80</th>\n",
       "      <th>Unnamed: 81</th>\n",
       "      <th>Unnamed: 82</th>\n",
       "      <th>Unnamed: 83</th>\n",
       "      <th>Unnamed: 84</th>\n",
       "      <th>Unnamed: 85</th>\n",
       "      <th>Unnamed: 86</th>\n",
       "      <th>Unnamed: 87</th>\n",
       "      <th>Unnamed: 88</th>\n",
       "    </tr>\n",
       "  </thead>\n",
       "  <tbody>\n",
       "    <tr>\n",
       "      <th>0</th>\n",
       "      <td>Antal unika patienter som rapporterats till So...</td>\n",
       "      <td>NaN</td>\n",
       "      <td>NaN</td>\n",
       "      <td>NaN</td>\n",
       "      <td>NaN</td>\n",
       "      <td>NaN</td>\n",
       "      <td>NaN</td>\n",
       "      <td>NaN</td>\n",
       "      <td>NaN</td>\n",
       "      <td>NaN</td>\n",
       "      <td>...</td>\n",
       "      <td>NaN</td>\n",
       "      <td>NaN</td>\n",
       "      <td>NaN</td>\n",
       "      <td>NaN</td>\n",
       "      <td>NaN</td>\n",
       "      <td>NaN</td>\n",
       "      <td>NaN</td>\n",
       "      <td>NaN</td>\n",
       "      <td>NaN</td>\n",
       "      <td>NaN</td>\n",
       "    </tr>\n",
       "    <tr>\n",
       "      <th>1</th>\n",
       "      <td>NaN</td>\n",
       "      <td>NaN</td>\n",
       "      <td>NaN</td>\n",
       "      <td>NaN</td>\n",
       "      <td>NaN</td>\n",
       "      <td>NaN</td>\n",
       "      <td>NaN</td>\n",
       "      <td>NaN</td>\n",
       "      <td>NaN</td>\n",
       "      <td>NaN</td>\n",
       "      <td>...</td>\n",
       "      <td>NaN</td>\n",
       "      <td>NaN</td>\n",
       "      <td>NaN</td>\n",
       "      <td>NaN</td>\n",
       "      <td>NaN</td>\n",
       "      <td>NaN</td>\n",
       "      <td>NaN</td>\n",
       "      <td>NaN</td>\n",
       "      <td>NaN</td>\n",
       "      <td>NaN</td>\n",
       "    </tr>\n",
       "    <tr>\n",
       "      <th>2</th>\n",
       "      <td>NaN</td>\n",
       "      <td>NaN</td>\n",
       "      <td>NaN</td>\n",
       "      <td>NaN</td>\n",
       "      <td>NaN</td>\n",
       "      <td>NaN</td>\n",
       "      <td>NaN</td>\n",
       "      <td>NaN</td>\n",
       "      <td>NaN</td>\n",
       "      <td>NaN</td>\n",
       "      <td>...</td>\n",
       "      <td>NaN</td>\n",
       "      <td>NaN</td>\n",
       "      <td>NaN</td>\n",
       "      <td>NaN</td>\n",
       "      <td>NaN</td>\n",
       "      <td>NaN</td>\n",
       "      <td>NaN</td>\n",
       "      <td>NaN</td>\n",
       "      <td>NaN</td>\n",
       "      <td>NaN</td>\n",
       "    </tr>\n",
       "    <tr>\n",
       "      <th>3</th>\n",
       "      <td>NaN</td>\n",
       "      <td>Totalt antal inskrivna patienter</td>\n",
       "      <td>NaN</td>\n",
       "      <td>Månadsrapportering till patientregistret</td>\n",
       "      <td>NaN</td>\n",
       "      <td>NaN</td>\n",
       "      <td>NaN</td>\n",
       "      <td>NaN</td>\n",
       "      <td>NaN</td>\n",
       "      <td>NaN</td>\n",
       "      <td>...</td>\n",
       "      <td>NaN</td>\n",
       "      <td>NaN</td>\n",
       "      <td>NaN</td>\n",
       "      <td>NaN</td>\n",
       "      <td>NaN</td>\n",
       "      <td>NaN</td>\n",
       "      <td>NaN</td>\n",
       "      <td>NaN</td>\n",
       "      <td>NaN</td>\n",
       "      <td>NaN</td>\n",
       "    </tr>\n",
       "    <tr>\n",
       "      <th>4</th>\n",
       "      <td>NaN</td>\n",
       "      <td>NaN</td>\n",
       "      <td>NaN</td>\n",
       "      <td>vecka 10</td>\n",
       "      <td>NaN</td>\n",
       "      <td>vecka 11</td>\n",
       "      <td>NaN</td>\n",
       "      <td>vecka 12</td>\n",
       "      <td>NaN</td>\n",
       "      <td>vecka 13</td>\n",
       "      <td>...</td>\n",
       "      <td>vecka 48</td>\n",
       "      <td>NaN</td>\n",
       "      <td>vecka 49</td>\n",
       "      <td>NaN</td>\n",
       "      <td>vecka 50</td>\n",
       "      <td>NaN</td>\n",
       "      <td>vecka 51</td>\n",
       "      <td>NaN</td>\n",
       "      <td>vecka 52</td>\n",
       "      <td>NaN</td>\n",
       "    </tr>\n",
       "    <tr>\n",
       "      <th>5</th>\n",
       "      <td>NaN</td>\n",
       "      <td>Antal</td>\n",
       "      <td>%*</td>\n",
       "      <td>Antal</td>\n",
       "      <td>%**</td>\n",
       "      <td>Antal</td>\n",
       "      <td>%**</td>\n",
       "      <td>Antal</td>\n",
       "      <td>%**</td>\n",
       "      <td>Antal</td>\n",
       "      <td>...</td>\n",
       "      <td>Antal</td>\n",
       "      <td>%**</td>\n",
       "      <td>Antal</td>\n",
       "      <td>%**</td>\n",
       "      <td>Antal</td>\n",
       "      <td>%**</td>\n",
       "      <td>Antal</td>\n",
       "      <td>%**</td>\n",
       "      <td>Antal</td>\n",
       "      <td>%**</td>\n",
       "    </tr>\n",
       "    <tr>\n",
       "      <th>6</th>\n",
       "      <td>Totalt inrapporterat</td>\n",
       "      <td>35057</td>\n",
       "      <td>100</td>\n",
       "      <td>63</td>\n",
       "      <td>0.179707</td>\n",
       "      <td>169</td>\n",
       "      <td>0.482072</td>\n",
       "      <td>639</td>\n",
       "      <td>1.822746</td>\n",
       "      <td>1465</td>\n",
       "      <td>...</td>\n",
       "      <td>1667</td>\n",
       "      <td>4.755113</td>\n",
       "      <td>1568</td>\n",
       "      <td>4.472716</td>\n",
       "      <td>1608</td>\n",
       "      <td>4.586816</td>\n",
       "      <td>1251</td>\n",
       "      <td>3.568474</td>\n",
       "      <td>365</td>\n",
       "      <td>1.041162</td>\n",
       "    </tr>\n",
       "    <tr>\n",
       "      <th>7</th>\n",
       "      <td>Rapporterande region</td>\n",
       "      <td>NaN</td>\n",
       "      <td>NaN</td>\n",
       "      <td>NaN</td>\n",
       "      <td>NaN</td>\n",
       "      <td>NaN</td>\n",
       "      <td>NaN</td>\n",
       "      <td>NaN</td>\n",
       "      <td>NaN</td>\n",
       "      <td>NaN</td>\n",
       "      <td>...</td>\n",
       "      <td>NaN</td>\n",
       "      <td>NaN</td>\n",
       "      <td>NaN</td>\n",
       "      <td>NaN</td>\n",
       "      <td>NaN</td>\n",
       "      <td>NaN</td>\n",
       "      <td>NaN</td>\n",
       "      <td>NaN</td>\n",
       "      <td>NaN</td>\n",
       "      <td>NaN</td>\n",
       "    </tr>\n",
       "    <tr>\n",
       "      <th>8</th>\n",
       "      <td>Stockholm</td>\n",
       "      <td>13035</td>\n",
       "      <td>37.182303</td>\n",
       "      <td>37</td>\n",
       "      <td>0.283851</td>\n",
       "      <td>83</td>\n",
       "      <td>0.636747</td>\n",
       "      <td>335</td>\n",
       "      <td>2.570004</td>\n",
       "      <td>734</td>\n",
       "      <td>...</td>\n",
       "      <td>632</td>\n",
       "      <td>4.848485</td>\n",
       "      <td>548</td>\n",
       "      <td>4.204066</td>\n",
       "      <td>521</td>\n",
       "      <td>3.996931</td>\n",
       "      <td>347</td>\n",
       "      <td>2.662064</td>\n",
       "      <td>43</td>\n",
       "      <td>0.329881</td>\n",
       "    </tr>\n",
       "    <tr>\n",
       "      <th>9</th>\n",
       "      <td>Västra Götaland</td>\n",
       "      <td>5293</td>\n",
       "      <td>15.098269</td>\n",
       "      <td>9</td>\n",
       "      <td>0.170036</td>\n",
       "      <td>18</td>\n",
       "      <td>0.340072</td>\n",
       "      <td>56</td>\n",
       "      <td>1.058001</td>\n",
       "      <td>94</td>\n",
       "      <td>...</td>\n",
       "      <td>205</td>\n",
       "      <td>3.87304</td>\n",
       "      <td>259</td>\n",
       "      <td>4.893255</td>\n",
       "      <td>323</td>\n",
       "      <td>6.102399</td>\n",
       "      <td>328</td>\n",
       "      <td>6.196864</td>\n",
       "      <td>202</td>\n",
       "      <td>3.816361</td>\n",
       "    </tr>\n",
       "    <tr>\n",
       "      <th>10</th>\n",
       "      <td>Skåne</td>\n",
       "      <td>3058</td>\n",
       "      <td>8.722937</td>\n",
       "      <td>X</td>\n",
       "      <td></td>\n",
       "      <td>X</td>\n",
       "      <td></td>\n",
       "      <td>25</td>\n",
       "      <td>0.817528</td>\n",
       "      <td>44</td>\n",
       "      <td>...</td>\n",
       "      <td>189</td>\n",
       "      <td>6.18051</td>\n",
       "      <td>205</td>\n",
       "      <td>6.703728</td>\n",
       "      <td>242</td>\n",
       "      <td>7.913669</td>\n",
       "      <td>192</td>\n",
       "      <td>6.278613</td>\n",
       "      <td>16</td>\n",
       "      <td>0.523218</td>\n",
       "    </tr>\n",
       "    <tr>\n",
       "      <th>11</th>\n",
       "      <td>Östergötland</td>\n",
       "      <td>1855</td>\n",
       "      <td>5.291383</td>\n",
       "      <td>0</td>\n",
       "      <td>0</td>\n",
       "      <td>10</td>\n",
       "      <td>0.539084</td>\n",
       "      <td>43</td>\n",
       "      <td>2.318059</td>\n",
       "      <td>123</td>\n",
       "      <td>...</td>\n",
       "      <td>84</td>\n",
       "      <td>4.528302</td>\n",
       "      <td>57</td>\n",
       "      <td>3.072776</td>\n",
       "      <td>69</td>\n",
       "      <td>3.719677</td>\n",
       "      <td>71</td>\n",
       "      <td>3.827493</td>\n",
       "      <td>35</td>\n",
       "      <td>1.886792</td>\n",
       "    </tr>\n",
       "    <tr>\n",
       "      <th>12</th>\n",
       "      <td>Södermanland</td>\n",
       "      <td>1085</td>\n",
       "      <td>3.09496</td>\n",
       "      <td>X</td>\n",
       "      <td></td>\n",
       "      <td>7</td>\n",
       "      <td>0.645161</td>\n",
       "      <td>37</td>\n",
       "      <td>3.410138</td>\n",
       "      <td>114</td>\n",
       "      <td>...</td>\n",
       "      <td>35</td>\n",
       "      <td>3.225806</td>\n",
       "      <td>23</td>\n",
       "      <td>2.119816</td>\n",
       "      <td>24</td>\n",
       "      <td>2.211982</td>\n",
       "      <td>6</td>\n",
       "      <td>0.552995</td>\n",
       "      <td>6</td>\n",
       "      <td>0.552995</td>\n",
       "    </tr>\n",
       "    <tr>\n",
       "      <th>13</th>\n",
       "      <td>Jönköping</td>\n",
       "      <td>1295</td>\n",
       "      <td>3.693984</td>\n",
       "      <td>X</td>\n",
       "      <td></td>\n",
       "      <td>9</td>\n",
       "      <td>0.694981</td>\n",
       "      <td>13</td>\n",
       "      <td>1.003861</td>\n",
       "      <td>54</td>\n",
       "      <td>...</td>\n",
       "      <td>61</td>\n",
       "      <td>4.710425</td>\n",
       "      <td>50</td>\n",
       "      <td>3.861004</td>\n",
       "      <td>70</td>\n",
       "      <td>5.405405</td>\n",
       "      <td>43</td>\n",
       "      <td>3.320463</td>\n",
       "      <td>14</td>\n",
       "      <td>1.081081</td>\n",
       "    </tr>\n",
       "    <tr>\n",
       "      <th>14</th>\n",
       "      <td>Gävleborg</td>\n",
       "      <td>1218</td>\n",
       "      <td>3.474342</td>\n",
       "      <td>4</td>\n",
       "      <td>0.328407</td>\n",
       "      <td>4</td>\n",
       "      <td>0.328407</td>\n",
       "      <td>10</td>\n",
       "      <td>0.821018</td>\n",
       "      <td>42</td>\n",
       "      <td>...</td>\n",
       "      <td>68</td>\n",
       "      <td>5.582923</td>\n",
       "      <td>68</td>\n",
       "      <td>5.582923</td>\n",
       "      <td>63</td>\n",
       "      <td>5.172414</td>\n",
       "      <td>46</td>\n",
       "      <td>3.776683</td>\n",
       "      <td>X</td>\n",
       "      <td></td>\n",
       "    </tr>\n",
       "    <tr>\n",
       "      <th>15</th>\n",
       "      <td>Uppsala</td>\n",
       "      <td>1233</td>\n",
       "      <td>3.517129</td>\n",
       "      <td>X</td>\n",
       "      <td></td>\n",
       "      <td>10</td>\n",
       "      <td>0.81103</td>\n",
       "      <td>20</td>\n",
       "      <td>1.62206</td>\n",
       "      <td>33</td>\n",
       "      <td>...</td>\n",
       "      <td>61</td>\n",
       "      <td>4.947283</td>\n",
       "      <td>43</td>\n",
       "      <td>3.487429</td>\n",
       "      <td>45</td>\n",
       "      <td>3.649635</td>\n",
       "      <td>17</td>\n",
       "      <td>1.378751</td>\n",
       "      <td>X</td>\n",
       "      <td></td>\n",
       "    </tr>\n",
       "    <tr>\n",
       "      <th>16</th>\n",
       "      <td>Västmanland</td>\n",
       "      <td>1033</td>\n",
       "      <td>2.94663</td>\n",
       "      <td>0</td>\n",
       "      <td>0</td>\n",
       "      <td>X</td>\n",
       "      <td></td>\n",
       "      <td>6</td>\n",
       "      <td>0.580833</td>\n",
       "      <td>39</td>\n",
       "      <td>...</td>\n",
       "      <td>66</td>\n",
       "      <td>6.389158</td>\n",
       "      <td>55</td>\n",
       "      <td>5.324298</td>\n",
       "      <td>47</td>\n",
       "      <td>4.549855</td>\n",
       "      <td>18</td>\n",
       "      <td>1.742498</td>\n",
       "      <td>IU</td>\n",
       "      <td>IU</td>\n",
       "    </tr>\n",
       "    <tr>\n",
       "      <th>17</th>\n",
       "      <td>Norrbotten</td>\n",
       "      <td>709</td>\n",
       "      <td>2.022421</td>\n",
       "      <td>0</td>\n",
       "      <td>0</td>\n",
       "      <td>X</td>\n",
       "      <td></td>\n",
       "      <td>16</td>\n",
       "      <td>2.2567</td>\n",
       "      <td>30</td>\n",
       "      <td>...</td>\n",
       "      <td>12</td>\n",
       "      <td>1.692525</td>\n",
       "      <td>IU</td>\n",
       "      <td>IU</td>\n",
       "      <td>IU</td>\n",
       "      <td>IU</td>\n",
       "      <td>IU</td>\n",
       "      <td>IU</td>\n",
       "      <td>IU</td>\n",
       "      <td>IU</td>\n",
       "    </tr>\n",
       "    <tr>\n",
       "      <th>18</th>\n",
       "      <td>Örebro</td>\n",
       "      <td>862</td>\n",
       "      <td>2.458853</td>\n",
       "      <td>X</td>\n",
       "      <td></td>\n",
       "      <td>X</td>\n",
       "      <td></td>\n",
       "      <td>15</td>\n",
       "      <td>1.740139</td>\n",
       "      <td>21</td>\n",
       "      <td>...</td>\n",
       "      <td>29</td>\n",
       "      <td>3.364269</td>\n",
       "      <td>29</td>\n",
       "      <td>3.364269</td>\n",
       "      <td>24</td>\n",
       "      <td>2.784223</td>\n",
       "      <td>19</td>\n",
       "      <td>2.204176</td>\n",
       "      <td>X</td>\n",
       "      <td></td>\n",
       "    </tr>\n",
       "    <tr>\n",
       "      <th>19</th>\n",
       "      <td>Dalarna</td>\n",
       "      <td>776</td>\n",
       "      <td>2.213538</td>\n",
       "      <td>X</td>\n",
       "      <td></td>\n",
       "      <td>5</td>\n",
       "      <td>0.64433</td>\n",
       "      <td>17</td>\n",
       "      <td>2.190722</td>\n",
       "      <td>57</td>\n",
       "      <td>...</td>\n",
       "      <td>29</td>\n",
       "      <td>3.737113</td>\n",
       "      <td>22</td>\n",
       "      <td>2.835052</td>\n",
       "      <td>16</td>\n",
       "      <td>2.061856</td>\n",
       "      <td>24</td>\n",
       "      <td>3.092784</td>\n",
       "      <td>9</td>\n",
       "      <td>1.159794</td>\n",
       "    </tr>\n",
       "    <tr>\n",
       "      <th>20</th>\n",
       "      <td>Västernorrland</td>\n",
       "      <td>673</td>\n",
       "      <td>1.919731</td>\n",
       "      <td>0</td>\n",
       "      <td>0</td>\n",
       "      <td>X</td>\n",
       "      <td></td>\n",
       "      <td>4</td>\n",
       "      <td>0.594354</td>\n",
       "      <td>10</td>\n",
       "      <td>...</td>\n",
       "      <td>51</td>\n",
       "      <td>7.578009</td>\n",
       "      <td>42</td>\n",
       "      <td>6.240713</td>\n",
       "      <td>32</td>\n",
       "      <td>4.754829</td>\n",
       "      <td>17</td>\n",
       "      <td>2.526003</td>\n",
       "      <td>IU</td>\n",
       "      <td>IU</td>\n",
       "    </tr>\n",
       "    <tr>\n",
       "      <th>21</th>\n",
       "      <td>Värmland</td>\n",
       "      <td>568</td>\n",
       "      <td>1.620219</td>\n",
       "      <td>X</td>\n",
       "      <td></td>\n",
       "      <td>4</td>\n",
       "      <td>0.704225</td>\n",
       "      <td>8</td>\n",
       "      <td>1.408451</td>\n",
       "      <td>6</td>\n",
       "      <td>...</td>\n",
       "      <td>18</td>\n",
       "      <td>3.169014</td>\n",
       "      <td>35</td>\n",
       "      <td>6.161972</td>\n",
       "      <td>23</td>\n",
       "      <td>4.049296</td>\n",
       "      <td>17</td>\n",
       "      <td>2.992958</td>\n",
       "      <td>IU</td>\n",
       "      <td>IU</td>\n",
       "    </tr>\n",
       "    <tr>\n",
       "      <th>22</th>\n",
       "      <td>Halland</td>\n",
       "      <td>469</td>\n",
       "      <td>1.337821</td>\n",
       "      <td>0</td>\n",
       "      <td>0</td>\n",
       "      <td>X</td>\n",
       "      <td></td>\n",
       "      <td>8</td>\n",
       "      <td>1.705757</td>\n",
       "      <td>24</td>\n",
       "      <td>...</td>\n",
       "      <td>23</td>\n",
       "      <td>4.904051</td>\n",
       "      <td>24</td>\n",
       "      <td>5.117271</td>\n",
       "      <td>IU</td>\n",
       "      <td>IU</td>\n",
       "      <td>IU</td>\n",
       "      <td>IU</td>\n",
       "      <td>IU</td>\n",
       "      <td>IU</td>\n",
       "    </tr>\n",
       "    <tr>\n",
       "      <th>23</th>\n",
       "      <td>Kalmar</td>\n",
       "      <td>527</td>\n",
       "      <td>1.503266</td>\n",
       "      <td>0</td>\n",
       "      <td>0</td>\n",
       "      <td>X</td>\n",
       "      <td></td>\n",
       "      <td>9</td>\n",
       "      <td>1.70778</td>\n",
       "      <td>10</td>\n",
       "      <td>...</td>\n",
       "      <td>24</td>\n",
       "      <td>4.55408</td>\n",
       "      <td>33</td>\n",
       "      <td>6.26186</td>\n",
       "      <td>25</td>\n",
       "      <td>4.743833</td>\n",
       "      <td>28</td>\n",
       "      <td>5.313093</td>\n",
       "      <td>10</td>\n",
       "      <td>1.897533</td>\n",
       "    </tr>\n",
       "    <tr>\n",
       "      <th>24</th>\n",
       "      <td>Kronoberg</td>\n",
       "      <td>558</td>\n",
       "      <td>1.591694</td>\n",
       "      <td>0</td>\n",
       "      <td>0</td>\n",
       "      <td>0</td>\n",
       "      <td>0</td>\n",
       "      <td>0</td>\n",
       "      <td>0</td>\n",
       "      <td>7</td>\n",
       "      <td>...</td>\n",
       "      <td>31</td>\n",
       "      <td>5.555556</td>\n",
       "      <td>27</td>\n",
       "      <td>4.83871</td>\n",
       "      <td>37</td>\n",
       "      <td>6.630824</td>\n",
       "      <td>46</td>\n",
       "      <td>8.243728</td>\n",
       "      <td>18</td>\n",
       "      <td>3.225806</td>\n",
       "    </tr>\n",
       "    <tr>\n",
       "      <th>25</th>\n",
       "      <td>Jämtland</td>\n",
       "      <td>237</td>\n",
       "      <td>0.676042</td>\n",
       "      <td>0</td>\n",
       "      <td>0</td>\n",
       "      <td>0</td>\n",
       "      <td>0</td>\n",
       "      <td>4</td>\n",
       "      <td>1.687764</td>\n",
       "      <td>7</td>\n",
       "      <td>...</td>\n",
       "      <td>17</td>\n",
       "      <td>7.172996</td>\n",
       "      <td>15</td>\n",
       "      <td>6.329114</td>\n",
       "      <td>9</td>\n",
       "      <td>3.797468</td>\n",
       "      <td>6</td>\n",
       "      <td>2.531646</td>\n",
       "      <td>X</td>\n",
       "      <td></td>\n",
       "    </tr>\n",
       "    <tr>\n",
       "      <th>26</th>\n",
       "      <td>Västerbotten</td>\n",
       "      <td>291</td>\n",
       "      <td>0.830077</td>\n",
       "      <td>0</td>\n",
       "      <td>0</td>\n",
       "      <td>X</td>\n",
       "      <td></td>\n",
       "      <td>12</td>\n",
       "      <td>4.123711</td>\n",
       "      <td>11</td>\n",
       "      <td>...</td>\n",
       "      <td>23</td>\n",
       "      <td>7.90378</td>\n",
       "      <td>20</td>\n",
       "      <td>6.872852</td>\n",
       "      <td>9</td>\n",
       "      <td>3.092784</td>\n",
       "      <td>7</td>\n",
       "      <td>2.405498</td>\n",
       "      <td>IU</td>\n",
       "      <td>IU</td>\n",
       "    </tr>\n",
       "    <tr>\n",
       "      <th>27</th>\n",
       "      <td>Blekinge</td>\n",
       "      <td>249</td>\n",
       "      <td>0.710272</td>\n",
       "      <td>0</td>\n",
       "      <td>0</td>\n",
       "      <td>0</td>\n",
       "      <td>0</td>\n",
       "      <td>0</td>\n",
       "      <td>0</td>\n",
       "      <td>4</td>\n",
       "      <td>...</td>\n",
       "      <td>9</td>\n",
       "      <td>3.614458</td>\n",
       "      <td>13</td>\n",
       "      <td>5.220884</td>\n",
       "      <td>29</td>\n",
       "      <td>11.646586</td>\n",
       "      <td>19</td>\n",
       "      <td>7.630522</td>\n",
       "      <td>7</td>\n",
       "      <td>2.811245</td>\n",
       "    </tr>\n",
       "    <tr>\n",
       "      <th>28</th>\n",
       "      <td>Gotland</td>\n",
       "      <td>33</td>\n",
       "      <td>0.094132</td>\n",
       "      <td>0</td>\n",
       "      <td>0</td>\n",
       "      <td>0</td>\n",
       "      <td>0</td>\n",
       "      <td>X</td>\n",
       "      <td></td>\n",
       "      <td>X</td>\n",
       "      <td>...</td>\n",
       "      <td>IU</td>\n",
       "      <td>IU</td>\n",
       "      <td>IU</td>\n",
       "      <td>IU</td>\n",
       "      <td>IU</td>\n",
       "      <td>IU</td>\n",
       "      <td>IU</td>\n",
       "      <td>IU</td>\n",
       "      <td>IU</td>\n",
       "      <td>IU</td>\n",
       "    </tr>\n",
       "    <tr>\n",
       "      <th>29</th>\n",
       "      <td>Källa: patientregistret samt frivillig särskil...</td>\n",
       "      <td>NaN</td>\n",
       "      <td>NaN</td>\n",
       "      <td>NaN</td>\n",
       "      <td>NaN</td>\n",
       "      <td>NaN</td>\n",
       "      <td>NaN</td>\n",
       "      <td>NaN</td>\n",
       "      <td>NaN</td>\n",
       "      <td>NaN</td>\n",
       "      <td>...</td>\n",
       "      <td>NaN</td>\n",
       "      <td>NaN</td>\n",
       "      <td>NaN</td>\n",
       "      <td>NaN</td>\n",
       "      <td>NaN</td>\n",
       "      <td>NaN</td>\n",
       "      <td>NaN</td>\n",
       "      <td>NaN</td>\n",
       "      <td>NaN</td>\n",
       "      <td>NaN</td>\n",
       "    </tr>\n",
       "    <tr>\n",
       "      <th>30</th>\n",
       "      <td>* Andel slutenvårdade per region av totalt för...</td>\n",
       "      <td>NaN</td>\n",
       "      <td>NaN</td>\n",
       "      <td>NaN</td>\n",
       "      <td>NaN</td>\n",
       "      <td>NaN</td>\n",
       "      <td>NaN</td>\n",
       "      <td>NaN</td>\n",
       "      <td>NaN</td>\n",
       "      <td>NaN</td>\n",
       "      <td>...</td>\n",
       "      <td>NaN</td>\n",
       "      <td>NaN</td>\n",
       "      <td>NaN</td>\n",
       "      <td>NaN</td>\n",
       "      <td>NaN</td>\n",
       "      <td>NaN</td>\n",
       "      <td>NaN</td>\n",
       "      <td>NaN</td>\n",
       "      <td>NaN</td>\n",
       "      <td>NaN</td>\n",
       "    </tr>\n",
       "    <tr>\n",
       "      <th>31</th>\n",
       "      <td>** Andel slutenvårdade per vecka av totalt för...</td>\n",
       "      <td>NaN</td>\n",
       "      <td>NaN</td>\n",
       "      <td>NaN</td>\n",
       "      <td>NaN</td>\n",
       "      <td>NaN</td>\n",
       "      <td>NaN</td>\n",
       "      <td>NaN</td>\n",
       "      <td>NaN</td>\n",
       "      <td>NaN</td>\n",
       "      <td>...</td>\n",
       "      <td>NaN</td>\n",
       "      <td>NaN</td>\n",
       "      <td>NaN</td>\n",
       "      <td>NaN</td>\n",
       "      <td>NaN</td>\n",
       "      <td>NaN</td>\n",
       "      <td>NaN</td>\n",
       "      <td>NaN</td>\n",
       "      <td>NaN</td>\n",
       "      <td>NaN</td>\n",
       "    </tr>\n",
       "    <tr>\n",
       "      <th>32</th>\n",
       "      <td>*** Blekinge har ett fåtal coronasmittade som ...</td>\n",
       "      <td>NaN</td>\n",
       "      <td>NaN</td>\n",
       "      <td>NaN</td>\n",
       "      <td>NaN</td>\n",
       "      <td>NaN</td>\n",
       "      <td>NaN</td>\n",
       "      <td>NaN</td>\n",
       "      <td>NaN</td>\n",
       "      <td>NaN</td>\n",
       "      <td>...</td>\n",
       "      <td>NaN</td>\n",
       "      <td>NaN</td>\n",
       "      <td>NaN</td>\n",
       "      <td>NaN</td>\n",
       "      <td>NaN</td>\n",
       "      <td>NaN</td>\n",
       "      <td>NaN</td>\n",
       "      <td>NaN</td>\n",
       "      <td>NaN</td>\n",
       "      <td>NaN</td>\n",
       "    </tr>\n",
       "    <tr>\n",
       "      <th>33</th>\n",
       "      <td>X - uppgiften har skyddats av sekretesskäl</td>\n",
       "      <td>NaN</td>\n",
       "      <td>NaN</td>\n",
       "      <td>NaN</td>\n",
       "      <td>NaN</td>\n",
       "      <td>NaN</td>\n",
       "      <td>NaN</td>\n",
       "      <td>NaN</td>\n",
       "      <td>NaN</td>\n",
       "      <td>NaN</td>\n",
       "      <td>...</td>\n",
       "      <td>NaN</td>\n",
       "      <td>NaN</td>\n",
       "      <td>NaN</td>\n",
       "      <td>NaN</td>\n",
       "      <td>NaN</td>\n",
       "      <td>NaN</td>\n",
       "      <td>NaN</td>\n",
       "      <td>NaN</td>\n",
       "      <td>NaN</td>\n",
       "      <td>NaN</td>\n",
       "    </tr>\n",
       "    <tr>\n",
       "      <th>34</th>\n",
       "      <td>IU ingen uppgift om inskrivna patienter</td>\n",
       "      <td>NaN</td>\n",
       "      <td>NaN</td>\n",
       "      <td>NaN</td>\n",
       "      <td>NaN</td>\n",
       "      <td>NaN</td>\n",
       "      <td>NaN</td>\n",
       "      <td>NaN</td>\n",
       "      <td>NaN</td>\n",
       "      <td>NaN</td>\n",
       "      <td>...</td>\n",
       "      <td>NaN</td>\n",
       "      <td>NaN</td>\n",
       "      <td>NaN</td>\n",
       "      <td>NaN</td>\n",
       "      <td>NaN</td>\n",
       "      <td>NaN</td>\n",
       "      <td>NaN</td>\n",
       "      <td>NaN</td>\n",
       "      <td>NaN</td>\n",
       "      <td>NaN</td>\n",
       "    </tr>\n",
       "  </tbody>\n",
       "</table>\n",
       "<p>35 rows × 89 columns</p>\n",
       "</div>"
      ],
      "text/plain": [
       "   Nyinskrivna i slutenvård med covid-19, antal patienter per inskrivningsvecka och region  \\\n",
       "0   Antal unika patienter som rapporterats till So...                                        \n",
       "1                                                 NaN                                        \n",
       "2                                                 NaN                                        \n",
       "3                                                 NaN                                        \n",
       "4                                                 NaN                                        \n",
       "5                                                 NaN                                        \n",
       "6                                Totalt inrapporterat                                        \n",
       "7                                Rapporterande region                                        \n",
       "8                                           Stockholm                                        \n",
       "9                                     Västra Götaland                                        \n",
       "10                                              Skåne                                        \n",
       "11                                       Östergötland                                        \n",
       "12                                       Södermanland                                        \n",
       "13                                          Jönköping                                        \n",
       "14                                          Gävleborg                                        \n",
       "15                                            Uppsala                                        \n",
       "16                                        Västmanland                                        \n",
       "17                                         Norrbotten                                        \n",
       "18                                             Örebro                                        \n",
       "19                                            Dalarna                                        \n",
       "20                                     Västernorrland                                        \n",
       "21                                           Värmland                                        \n",
       "22                                            Halland                                        \n",
       "23                                             Kalmar                                        \n",
       "24                                          Kronoberg                                        \n",
       "25                                           Jämtland                                        \n",
       "26                                       Västerbotten                                        \n",
       "27                                           Blekinge                                        \n",
       "28                                            Gotland                                        \n",
       "29  Källa: patientregistret samt frivillig särskil...                                        \n",
       "30  * Andel slutenvårdade per region av totalt för...                                        \n",
       "31  ** Andel slutenvårdade per vecka av totalt för...                                        \n",
       "32  *** Blekinge har ett fåtal coronasmittade som ...                                        \n",
       "33         X - uppgiften har skyddats av sekretesskäl                                        \n",
       "34            IU ingen uppgift om inskrivna patienter                                        \n",
       "\n",
       "                          Unnamed: 1 Unnamed: 2  \\\n",
       "0                                NaN        NaN   \n",
       "1                                NaN        NaN   \n",
       "2                                NaN        NaN   \n",
       "3   Totalt antal inskrivna patienter        NaN   \n",
       "4                                NaN        NaN   \n",
       "5                              Antal         %*   \n",
       "6                              35057        100   \n",
       "7                                NaN        NaN   \n",
       "8                              13035  37.182303   \n",
       "9                               5293  15.098269   \n",
       "10                              3058   8.722937   \n",
       "11                              1855   5.291383   \n",
       "12                              1085    3.09496   \n",
       "13                              1295   3.693984   \n",
       "14                              1218   3.474342   \n",
       "15                              1233   3.517129   \n",
       "16                              1033    2.94663   \n",
       "17                               709   2.022421   \n",
       "18                               862   2.458853   \n",
       "19                               776   2.213538   \n",
       "20                               673   1.919731   \n",
       "21                               568   1.620219   \n",
       "22                               469   1.337821   \n",
       "23                               527   1.503266   \n",
       "24                               558   1.591694   \n",
       "25                               237   0.676042   \n",
       "26                               291   0.830077   \n",
       "27                               249   0.710272   \n",
       "28                                33   0.094132   \n",
       "29                               NaN        NaN   \n",
       "30                               NaN        NaN   \n",
       "31                               NaN        NaN   \n",
       "32                               NaN        NaN   \n",
       "33                               NaN        NaN   \n",
       "34                               NaN        NaN   \n",
       "\n",
       "                                  Unnamed: 3 Unnamed: 4 Unnamed: 5 Unnamed: 6  \\\n",
       "0                                        NaN        NaN        NaN        NaN   \n",
       "1                                        NaN        NaN        NaN        NaN   \n",
       "2                                        NaN        NaN        NaN        NaN   \n",
       "3   Månadsrapportering till patientregistret        NaN        NaN        NaN   \n",
       "4                                   vecka 10        NaN   vecka 11        NaN   \n",
       "5                                      Antal        %**      Antal        %**   \n",
       "6                                         63   0.179707        169   0.482072   \n",
       "7                                        NaN        NaN        NaN        NaN   \n",
       "8                                         37   0.283851         83   0.636747   \n",
       "9                                          9   0.170036         18   0.340072   \n",
       "10                                         X                     X              \n",
       "11                                         0          0         10   0.539084   \n",
       "12                                         X                     7   0.645161   \n",
       "13                                         X                     9   0.694981   \n",
       "14                                         4   0.328407          4   0.328407   \n",
       "15                                         X                    10    0.81103   \n",
       "16                                         0          0          X              \n",
       "17                                         0          0          X              \n",
       "18                                         X                     X              \n",
       "19                                         X                     5    0.64433   \n",
       "20                                         0          0          X              \n",
       "21                                         X                     4   0.704225   \n",
       "22                                         0          0          X              \n",
       "23                                         0          0          X              \n",
       "24                                         0          0          0          0   \n",
       "25                                         0          0          0          0   \n",
       "26                                         0          0          X              \n",
       "27                                         0          0          0          0   \n",
       "28                                         0          0          0          0   \n",
       "29                                       NaN        NaN        NaN        NaN   \n",
       "30                                       NaN        NaN        NaN        NaN   \n",
       "31                                       NaN        NaN        NaN        NaN   \n",
       "32                                       NaN        NaN        NaN        NaN   \n",
       "33                                       NaN        NaN        NaN        NaN   \n",
       "34                                       NaN        NaN        NaN        NaN   \n",
       "\n",
       "   Unnamed: 7 Unnamed: 8 Unnamed: 9  ... Unnamed: 79 Unnamed: 80 Unnamed: 81  \\\n",
       "0         NaN        NaN        NaN  ...         NaN         NaN         NaN   \n",
       "1         NaN        NaN        NaN  ...         NaN         NaN         NaN   \n",
       "2         NaN        NaN        NaN  ...         NaN         NaN         NaN   \n",
       "3         NaN        NaN        NaN  ...         NaN         NaN         NaN   \n",
       "4    vecka 12        NaN   vecka 13  ...    vecka 48         NaN    vecka 49   \n",
       "5       Antal        %**      Antal  ...       Antal         %**       Antal   \n",
       "6         639   1.822746       1465  ...        1667    4.755113        1568   \n",
       "7         NaN        NaN        NaN  ...         NaN         NaN         NaN   \n",
       "8         335   2.570004        734  ...         632    4.848485         548   \n",
       "9          56   1.058001         94  ...         205     3.87304         259   \n",
       "10         25   0.817528         44  ...         189     6.18051         205   \n",
       "11         43   2.318059        123  ...          84    4.528302          57   \n",
       "12         37   3.410138        114  ...          35    3.225806          23   \n",
       "13         13   1.003861         54  ...          61    4.710425          50   \n",
       "14         10   0.821018         42  ...          68    5.582923          68   \n",
       "15         20    1.62206         33  ...          61    4.947283          43   \n",
       "16          6   0.580833         39  ...          66    6.389158          55   \n",
       "17         16     2.2567         30  ...          12    1.692525          IU   \n",
       "18         15   1.740139         21  ...          29    3.364269          29   \n",
       "19         17   2.190722         57  ...          29    3.737113          22   \n",
       "20          4   0.594354         10  ...          51    7.578009          42   \n",
       "21          8   1.408451          6  ...          18    3.169014          35   \n",
       "22          8   1.705757         24  ...          23    4.904051          24   \n",
       "23          9    1.70778         10  ...          24     4.55408          33   \n",
       "24          0          0          7  ...          31    5.555556          27   \n",
       "25          4   1.687764          7  ...          17    7.172996          15   \n",
       "26         12   4.123711         11  ...          23     7.90378          20   \n",
       "27          0          0          4  ...           9    3.614458          13   \n",
       "28          X                     X  ...          IU          IU          IU   \n",
       "29        NaN        NaN        NaN  ...         NaN         NaN         NaN   \n",
       "30        NaN        NaN        NaN  ...         NaN         NaN         NaN   \n",
       "31        NaN        NaN        NaN  ...         NaN         NaN         NaN   \n",
       "32        NaN        NaN        NaN  ...         NaN         NaN         NaN   \n",
       "33        NaN        NaN        NaN  ...         NaN         NaN         NaN   \n",
       "34        NaN        NaN        NaN  ...         NaN         NaN         NaN   \n",
       "\n",
       "   Unnamed: 82 Unnamed: 83 Unnamed: 84 Unnamed: 85 Unnamed: 86 Unnamed: 87  \\\n",
       "0          NaN         NaN         NaN         NaN         NaN         NaN   \n",
       "1          NaN         NaN         NaN         NaN         NaN         NaN   \n",
       "2          NaN         NaN         NaN         NaN         NaN         NaN   \n",
       "3          NaN         NaN         NaN         NaN         NaN         NaN   \n",
       "4          NaN    vecka 50         NaN    vecka 51         NaN    vecka 52   \n",
       "5          %**       Antal         %**       Antal         %**       Antal   \n",
       "6     4.472716        1608    4.586816        1251    3.568474         365   \n",
       "7          NaN         NaN         NaN         NaN         NaN         NaN   \n",
       "8     4.204066         521    3.996931         347    2.662064          43   \n",
       "9     4.893255         323    6.102399         328    6.196864         202   \n",
       "10    6.703728         242    7.913669         192    6.278613          16   \n",
       "11    3.072776          69    3.719677          71    3.827493          35   \n",
       "12    2.119816          24    2.211982           6    0.552995           6   \n",
       "13    3.861004          70    5.405405          43    3.320463          14   \n",
       "14    5.582923          63    5.172414          46    3.776683           X   \n",
       "15    3.487429          45    3.649635          17    1.378751           X   \n",
       "16    5.324298          47    4.549855          18    1.742498          IU   \n",
       "17          IU          IU          IU          IU          IU          IU   \n",
       "18    3.364269          24    2.784223          19    2.204176           X   \n",
       "19    2.835052          16    2.061856          24    3.092784           9   \n",
       "20    6.240713          32    4.754829          17    2.526003          IU   \n",
       "21    6.161972          23    4.049296          17    2.992958          IU   \n",
       "22    5.117271          IU          IU          IU          IU          IU   \n",
       "23     6.26186          25    4.743833          28    5.313093          10   \n",
       "24     4.83871          37    6.630824          46    8.243728          18   \n",
       "25    6.329114           9    3.797468           6    2.531646           X   \n",
       "26    6.872852           9    3.092784           7    2.405498          IU   \n",
       "27    5.220884          29   11.646586          19    7.630522           7   \n",
       "28          IU          IU          IU          IU          IU          IU   \n",
       "29         NaN         NaN         NaN         NaN         NaN         NaN   \n",
       "30         NaN         NaN         NaN         NaN         NaN         NaN   \n",
       "31         NaN         NaN         NaN         NaN         NaN         NaN   \n",
       "32         NaN         NaN         NaN         NaN         NaN         NaN   \n",
       "33         NaN         NaN         NaN         NaN         NaN         NaN   \n",
       "34         NaN         NaN         NaN         NaN         NaN         NaN   \n",
       "\n",
       "   Unnamed: 88  \n",
       "0          NaN  \n",
       "1          NaN  \n",
       "2          NaN  \n",
       "3          NaN  \n",
       "4          NaN  \n",
       "5          %**  \n",
       "6     1.041162  \n",
       "7          NaN  \n",
       "8     0.329881  \n",
       "9     3.816361  \n",
       "10    0.523218  \n",
       "11    1.886792  \n",
       "12    0.552995  \n",
       "13    1.081081  \n",
       "14              \n",
       "15              \n",
       "16          IU  \n",
       "17          IU  \n",
       "18              \n",
       "19    1.159794  \n",
       "20          IU  \n",
       "21          IU  \n",
       "22          IU  \n",
       "23    1.897533  \n",
       "24    3.225806  \n",
       "25              \n",
       "26          IU  \n",
       "27    2.811245  \n",
       "28          IU  \n",
       "29         NaN  \n",
       "30         NaN  \n",
       "31         NaN  \n",
       "32         NaN  \n",
       "33         NaN  \n",
       "34         NaN  \n",
       "\n",
       "[35 rows x 89 columns]"
      ]
     },
     "execution_count": 107,
     "metadata": {},
     "output_type": "execute_result"
    }
   ],
   "source": [
    "file = pandas.read_excel('../data/statistik-covid19-inskrivna_v2.xlsx',sheet_name=\"Inskrivna i slutenvård\")\n",
    "file  #Newly admitted to inpatient care with COVID-19, number of patients per admission week and region"
   ]
  },
  {
   "cell_type": "markdown",
   "metadata": {},
   "source": [
    "## 1.1. Taking VGR region and replacing missing value with 0"
   ]
  },
  {
   "cell_type": "code",
   "execution_count": 108,
   "metadata": {},
   "outputs": [
    {
     "data": {
      "text/plain": [
       "Nyinskrivna i slutenvård med covid-19, antal patienter per inskrivningsvecka och region    Västra Götaland\n",
       "Unnamed: 1                                                                                            5293\n",
       "Unnamed: 2                                                                                       15.098269\n",
       "Unnamed: 3                                                                                               9\n",
       "Unnamed: 4                                                                                        0.170036\n",
       "                                                                                                ...       \n",
       "Unnamed: 84                                                                                       6.102399\n",
       "Unnamed: 85                                                                                            328\n",
       "Unnamed: 86                                                                                       6.196864\n",
       "Unnamed: 87                                                                                            202\n",
       "Unnamed: 88                                                                                       3.816361\n",
       "Name: 9, Length: 89, dtype: object"
      ]
     },
     "execution_count": 108,
     "metadata": {},
     "output_type": "execute_result"
    }
   ],
   "source": [
    "data = [['Sthlm', 8], ['VGR', 9], ['Skåne', 10],['Östergötland',11],['Jönköping',12],['Södermanland',13],['Uppsala',14],['Gävelborg',15],['Västmanland',16],['Örebro',17],['Norrbotten',18],['Dalarna',19],['Västernorrland',20],['Värmland',21],['Halland',22],['Kalmar',23],['Kronoberg',24],['Västerbotten',25],['Jämtland',26],['Blekinge',27],['Gotland',28]] \n",
    "regioner = pandas.DataFrame(data, columns = ['region', 'index']) \n",
    "vald_region='VGR'\n",
    "temp=regioner.loc[regioner['region']==vald_region] #find the VGR-data\n",
    "index=temp['index'].values \n",
    "R = file.iloc[index[0]]\n",
    "R=R.replace(' ','X') #replace missing data with 0\n",
    "R=R.replace('X',0)\n",
    "R"
   ]
  },
  {
   "cell_type": "markdown",
   "metadata": {},
   "source": [
    "## 1.2 Creating array or vector I having count details for total  44 weeks "
   ]
  },
  {
   "cell_type": "code",
   "execution_count": 109,
   "metadata": {},
   "outputs": [
    {
     "data": {
      "text/plain": [
       "array([ 3,  5,  7,  9, 11, 13, 15, 17, 19, 21, 23, 25, 27, 29, 31, 33, 35,\n",
       "       37, 39, 41, 43, 45, 47, 49, 51, 53, 55, 57, 59, 61, 63, 65, 67, 69,\n",
       "       71, 73, 75, 77, 79, 81, 83, 85, 87])"
      ]
     },
     "execution_count": 109,
     "metadata": {},
     "output_type": "execute_result"
    }
   ],
   "source": [
    "ind = np.arange(3,len(R),2) #find admissions\n",
    "ind"
   ]
  },
  {
   "cell_type": "code",
   "execution_count": 110,
   "metadata": {},
   "outputs": [
    {
     "data": {
      "text/plain": [
       "43"
      ]
     },
     "execution_count": 110,
     "metadata": {},
     "output_type": "execute_result"
    }
   ],
   "source": [
    "len(ind)"
   ]
  },
  {
   "cell_type": "code",
   "execution_count": 111,
   "metadata": {},
   "outputs": [
    {
     "data": {
      "text/plain": [
       "array([9, 18, 56, 94, 149, 235, 238, 307, 253, 207, 176, 205, 210, 183,\n",
       "       150, 151, 110, 61, 37, 27, 38, 35, 36, 27, 24, 19, 19, 25, 16, 24,\n",
       "       24, 27, 40, 51, 102, 162, 189, 236, 205, 259, 323, 328, 202],\n",
       "      dtype=object)"
      ]
     },
     "execution_count": 111,
     "metadata": {},
     "output_type": "execute_result"
    }
   ],
   "source": [
    "I = R.iloc[ind].values \n",
    "I"
   ]
  },
  {
   "cell_type": "markdown",
   "metadata": {},
   "source": [
    "#### 1.2.1 Adding four weeks with no cases"
   ]
  },
  {
   "cell_type": "code",
   "execution_count": 112,
   "metadata": {},
   "outputs": [
    {
     "data": {
      "text/plain": [
       "array([0, 0, 0, 0, 9, 18, 56, 94, 149, 235, 238, 307, 253, 207, 176, 205,\n",
       "       210, 183, 150, 151, 110, 61, 37, 27, 38, 35, 36, 27, 24, 19, 19,\n",
       "       25, 16, 24, 24, 27, 40, 51, 102, 162, 189, 236, 205, 259, 323, 328,\n",
       "       202], dtype=object)"
      ]
     },
     "execution_count": 112,
     "metadata": {},
     "output_type": "execute_result"
    }
   ],
   "source": [
    "I=np.insert(I,0,[0,0,0,0]) #add four weeks with no cases\n",
    "I"
   ]
  },
  {
   "cell_type": "markdown",
   "metadata": {},
   "source": [
    "#### 1.2.2 Removing last weeks count data"
   ]
  },
  {
   "cell_type": "code",
   "execution_count": 113,
   "metadata": {},
   "outputs": [
    {
     "data": {
      "text/plain": [
       "array([0, 0, 0, 0, 9, 18, 56, 94, 149, 235, 238, 307, 253, 207, 176, 205,\n",
       "       210, 183, 150, 151, 110, 61, 37, 27, 38, 35, 36, 27, 24, 19, 19,\n",
       "       25, 16, 24, 24, 27, 40, 51, 102, 162, 189, 236, 205, 259, 323],\n",
       "      dtype=object)"
      ]
     },
     "execution_count": 113,
     "metadata": {},
     "output_type": "execute_result"
    }
   ],
   "source": [
    "I=I[:-2] #remove last data point\n",
    "I"
   ]
  },
  {
   "cell_type": "markdown",
   "metadata": {},
   "source": [
    "#### 1.2.3 Creating vectors containing week numbers"
   ]
  },
  {
   "cell_type": "code",
   "execution_count": 114,
   "metadata": {},
   "outputs": [
    {
     "data": {
      "text/plain": [
       "array([ 0,  1,  2,  3,  4,  5,  6,  7,  8,  9, 10, 11, 12, 13, 14, 15, 16,\n",
       "       17, 18, 19, 20, 21, 22, 23, 24, 25, 26, 27, 28, 29, 30, 31, 32, 33,\n",
       "       34, 35, 36, 37, 38, 39, 40, 41, 42, 43, 44])"
      ]
     },
     "execution_count": 114,
     "metadata": {},
     "output_type": "execute_result"
    }
   ],
   "source": [
    "veckor = np.arange(0,len(I),1) #define week numbers\n",
    "veckor"
   ]
  },
  {
   "cell_type": "markdown",
   "metadata": {},
   "source": [
    "# 2. Defining parameters"
   ]
  },
  {
   "cell_type": "markdown",
   "metadata": {},
   "source": [
    "![Sample Image](./equations.png)"
   ]
  },
  {
   "cell_type": "code",
   "execution_count": 115,
   "metadata": {},
   "outputs": [],
   "source": [
    "#Parameters\n",
    "startvecka=10-4 #first week with case data minus the padding\n",
    "Tmax=53 #length of prediction\n",
    "N=1725881 #population of VGR\n",
    "pv=0.023 #fraction of cases that are admitted\n",
    "\n",
    "rho=7*1/5.1 #incubation rate\n",
    "gamma=7*1/5 #recovery rate\n",
    "\n",
    "delay=3 #time from infection to admission"
   ]
  },
  {
   "cell_type": "markdown",
   "metadata": {},
   "source": [
    "# 3. Preprocessing VT data"
   ]
  },
  {
   "cell_type": "code",
   "execution_count": 116,
   "metadata": {},
   "outputs": [
    {
     "data": {
      "text/html": [
       "<div>\n",
       "<style scoped>\n",
       "    .dataframe tbody tr th:only-of-type {\n",
       "        vertical-align: middle;\n",
       "    }\n",
       "\n",
       "    .dataframe tbody tr th {\n",
       "        vertical-align: top;\n",
       "    }\n",
       "\n",
       "    .dataframe thead th {\n",
       "        text-align: right;\n",
       "    }\n",
       "</style>\n",
       "<table border=\"1\" class=\"dataframe\">\n",
       "  <thead>\n",
       "    <tr style=\"text-align: right;\">\n",
       "      <th></th>\n",
       "      <th>Data från Västtrafiks kundräkningssystem. Procentuell skillnad i resandet med buss, spårvagn, tåg och totalt fämfört med vecka 9 2020.</th>\n",
       "      <th>Unnamed: 1</th>\n",
       "      <th>Unnamed: 2</th>\n",
       "      <th>Unnamed: 3</th>\n",
       "      <th>Unnamed: 4</th>\n",
       "    </tr>\n",
       "  </thead>\n",
       "  <tbody>\n",
       "    <tr>\n",
       "      <th>0</th>\n",
       "      <td>NaN</td>\n",
       "      <td>NaN</td>\n",
       "      <td>NaN</td>\n",
       "      <td>NaN</td>\n",
       "      <td>NaN</td>\n",
       "    </tr>\n",
       "    <tr>\n",
       "      <th>1</th>\n",
       "      <td>NaN</td>\n",
       "      <td>NaN</td>\n",
       "      <td>NaN</td>\n",
       "      <td>NaN</td>\n",
       "      <td>NaN</td>\n",
       "    </tr>\n",
       "    <tr>\n",
       "      <th>2</th>\n",
       "      <td>Resandeförändring Västtrafik</td>\n",
       "      <td>Trafikslag</td>\n",
       "      <td>NaN</td>\n",
       "      <td>NaN</td>\n",
       "      <td>NaN</td>\n",
       "    </tr>\n",
       "    <tr>\n",
       "      <th>3</th>\n",
       "      <td>Vecka</td>\n",
       "      <td>Buss</td>\n",
       "      <td>Spårvagn</td>\n",
       "      <td>Tåg</td>\n",
       "      <td>Totalt</td>\n",
       "    </tr>\n",
       "    <tr>\n",
       "      <th>4</th>\n",
       "      <td>9</td>\n",
       "      <td>0</td>\n",
       "      <td>0</td>\n",
       "      <td>0</td>\n",
       "      <td>0</td>\n",
       "    </tr>\n",
       "    <tr>\n",
       "      <th>5</th>\n",
       "      <td>10</td>\n",
       "      <td>-0.040136</td>\n",
       "      <td>-0.048529</td>\n",
       "      <td>-0.046279</td>\n",
       "      <td>-0.043688</td>\n",
       "    </tr>\n",
       "    <tr>\n",
       "      <th>6</th>\n",
       "      <td>11</td>\n",
       "      <td>-0.140032</td>\n",
       "      <td>-0.134622</td>\n",
       "      <td>-0.196859</td>\n",
       "      <td>-0.142184</td>\n",
       "    </tr>\n",
       "    <tr>\n",
       "      <th>7</th>\n",
       "      <td>12</td>\n",
       "      <td>-0.410868</td>\n",
       "      <td>-0.405445</td>\n",
       "      <td>-0.482133</td>\n",
       "      <td>-0.414264</td>\n",
       "    </tr>\n",
       "    <tr>\n",
       "      <th>8</th>\n",
       "      <td>13</td>\n",
       "      <td>-0.468979</td>\n",
       "      <td>-0.510102</td>\n",
       "      <td>-0.538482</td>\n",
       "      <td>-0.490227</td>\n",
       "    </tr>\n",
       "    <tr>\n",
       "      <th>9</th>\n",
       "      <td>14</td>\n",
       "      <td>-0.491168</td>\n",
       "      <td>-0.552076</td>\n",
       "      <td>-0.574633</td>\n",
       "      <td>-0.520691</td>\n",
       "    </tr>\n",
       "  </tbody>\n",
       "</table>\n",
       "</div>"
      ],
      "text/plain": [
       "  Data från Västtrafiks kundräkningssystem. Procentuell skillnad i resandet med buss, spårvagn, tåg och totalt fämfört med vecka 9 2020.  \\\n",
       "0                                                NaN                                                                                       \n",
       "1                                                NaN                                                                                       \n",
       "2                       Resandeförändring Västtrafik                                                                                       \n",
       "3                                              Vecka                                                                                       \n",
       "4                                                  9                                                                                       \n",
       "5                                                 10                                                                                       \n",
       "6                                                 11                                                                                       \n",
       "7                                                 12                                                                                       \n",
       "8                                                 13                                                                                       \n",
       "9                                                 14                                                                                       \n",
       "\n",
       "   Unnamed: 1 Unnamed: 2 Unnamed: 3 Unnamed: 4  \n",
       "0         NaN        NaN        NaN        NaN  \n",
       "1         NaN        NaN        NaN        NaN  \n",
       "2  Trafikslag        NaN        NaN        NaN  \n",
       "3        Buss   Spårvagn        Tåg     Totalt  \n",
       "4           0          0          0          0  \n",
       "5   -0.040136  -0.048529  -0.046279  -0.043688  \n",
       "6   -0.140032  -0.134622  -0.196859  -0.142184  \n",
       "7   -0.410868  -0.405445  -0.482133  -0.414264  \n",
       "8   -0.468979  -0.510102  -0.538482  -0.490227  \n",
       "9   -0.491168  -0.552076  -0.574633  -0.520691  "
      ]
     },
     "execution_count": 116,
     "metadata": {},
     "output_type": "execute_result"
    }
   ],
   "source": [
    "#Load data from Västtrafik\n",
    "df = pandas.read_excel('../data/VT.xlsx') \n",
    "df.head(10)"
   ]
  },
  {
   "cell_type": "code",
   "execution_count": 117,
   "metadata": {},
   "outputs": [
    {
     "data": {
      "text/plain": [
       "(49, 5)"
      ]
     },
     "execution_count": 117,
     "metadata": {},
     "output_type": "execute_result"
    }
   ],
   "source": [
    "df.shape"
   ]
  },
  {
   "cell_type": "code",
   "execution_count": 118,
   "metadata": {},
   "outputs": [],
   "source": [
    "values = df['Unnamed: 4'].values\n"
   ]
  },
  {
   "cell_type": "markdown",
   "metadata": {},
   "source": [
    "# 4. Creating data structures to fit the function"
   ]
  },
  {
   "cell_type": "code",
   "execution_count": 119,
   "metadata": {},
   "outputs": [
    {
     "data": {
      "text/plain": [
       "45"
      ]
     },
     "execution_count": 119,
     "metadata": {},
     "output_type": "execute_result"
    }
   ],
   "source": [
    "diff = np.array(values[4:])\n",
    "diff\n",
    "len(diff)"
   ]
  },
  {
   "cell_type": "code",
   "execution_count": 120,
   "metadata": {},
   "outputs": [
    {
     "data": {
      "text/plain": [
       "array([0.2, 0.2, 0, -0.0436877025562212, -0.142183890633573,\n",
       "       -0.414264196497882, -0.490226517606742, -0.520691444229291,\n",
       "       -0.601104998394856, -0.565468289968282, -0.500887028474234,\n",
       "       -0.533539503417897, -0.489363271950639, -0.479732407975015,\n",
       "       -0.525650201055078, -0.4254, -0.4325, -0.394, -0.53, -0.47, -0.5,\n",
       "       -0.53, -0.56, -0.55, -0.53, -0.5, -0.47, -0.39, -0.35, -0.34,\n",
       "       -0.34, -0.33, -0.33, -0.32, -0.31, -0.32, -0.31, -0.42, -0.41,\n",
       "       -0.43, -0.45, -0.44, -0.44, -0.51, -0.51, -0.66, -0.77],\n",
       "      dtype=object)"
      ]
     },
     "execution_count": 120,
     "metadata": {},
     "output_type": "execute_result"
    }
   ],
   "source": [
    "diff = np.insert(diff,0,[0.2,0.2])#baseline travel\n",
    "diff"
   ]
  },
  {
   "cell_type": "code",
   "execution_count": 121,
   "metadata": {},
   "outputs": [
    {
     "data": {
      "text/plain": [
       "47"
      ]
     },
     "execution_count": 121,
     "metadata": {},
     "output_type": "execute_result"
    }
   ],
   "source": [
    "len(diff)"
   ]
  },
  {
   "cell_type": "code",
   "execution_count": 122,
   "metadata": {},
   "outputs": [
    {
     "data": {
      "text/plain": [
       "array([ 7,  8,  9, 10, 11, 12, 13, 14, 15, 16, 17, 18, 19, 20, 21, 22, 23,\n",
       "       24, 25, 26, 27, 28, 29, 30, 31, 32, 33, 34, 35, 36, 37, 38, 39, 40,\n",
       "       41, 42, 43, 44, 45, 46, 47, 48, 49, 50, 51, 52, 53])"
      ]
     },
     "execution_count": 122,
     "metadata": {},
     "output_type": "execute_result"
    }
   ],
   "source": [
    "T = np.arange(7,7+len(diff),1) \n",
    "T"
   ]
  },
  {
   "cell_type": "code",
   "execution_count": 123,
   "metadata": {},
   "outputs": [
    {
     "data": {
      "text/plain": [
       "47"
      ]
     },
     "execution_count": 123,
     "metadata": {},
     "output_type": "execute_result"
    }
   ],
   "source": [
    "len(T)"
   ]
  },
  {
   "cell_type": "code",
   "execution_count": 124,
   "metadata": {},
   "outputs": [
    {
     "data": {
      "text/plain": [
       "6"
      ]
     },
     "execution_count": 124,
     "metadata": {},
     "output_type": "execute_result"
    }
   ],
   "source": [
    "startvecka"
   ]
  },
  {
   "cell_type": "code",
   "execution_count": 125,
   "metadata": {},
   "outputs": [
    {
     "data": {
      "text/plain": [
       "array([0.2, 0.2, 0, -0.0436877025562212, -0.142183890633573,\n",
       "       -0.414264196497882, -0.490226517606742, -0.520691444229291,\n",
       "       -0.601104998394856, -0.565468289968282, -0.500887028474234,\n",
       "       -0.533539503417897, -0.489363271950639, -0.479732407975015,\n",
       "       -0.525650201055078, -0.4254, -0.4325, -0.394, -0.53, -0.47, -0.5,\n",
       "       -0.53, -0.56, -0.55, -0.53, -0.5, -0.47, -0.39, -0.35, -0.34,\n",
       "       -0.34, -0.33, -0.33, -0.32, -0.31, -0.32, -0.31, -0.42, -0.41,\n",
       "       -0.43, -0.45, -0.44, -0.44, -0.51, -0.51, -0.66, -0.77],\n",
       "      dtype=object)"
      ]
     },
     "execution_count": 125,
     "metadata": {},
     "output_type": "execute_result"
    }
   ],
   "source": [
    "diff"
   ]
  },
  {
   "cell_type": "code",
   "execution_count": 126,
   "metadata": {},
   "outputs": [
    {
     "data": {
      "text/plain": [
       "array([ 1,  2,  3,  4,  5,  6,  7,  8,  9, 10, 11, 12, 13, 14, 15, 16, 17,\n",
       "       18, 19, 20, 21, 22, 23, 24, 25, 26, 27, 28, 29, 30, 31, 32, 33, 34,\n",
       "       35, 36, 37, 38, 39, 40, 41, 42, 43, 44, 45, 46, 47])"
      ]
     },
     "execution_count": 126,
     "metadata": {},
     "output_type": "execute_result"
    }
   ],
   "source": [
    "T-startvecka"
   ]
  },
  {
   "cell_type": "code",
   "execution_count": 127,
   "metadata": {},
   "outputs": [],
   "source": [
    "resfkn = interp1d(T-startvecka,diff,kind=\"linear\",fill_value=\"extrapolate\") #create function"
   ]
  },
  {
   "cell_type": "code",
   "execution_count": 128,
   "metadata": {},
   "outputs": [
    {
     "data": {
      "text/plain": [
       "array([0.2, 0.2, 0, -0.0436877025562212, -0.142183890633573,\n",
       "       -0.414264196497882, -0.490226517606742, -0.520691444229291,\n",
       "       -0.601104998394856, -0.565468289968282, -0.500887028474234,\n",
       "       -0.533539503417897, -0.489363271950639, -0.479732407975015,\n",
       "       -0.525650201055078, -0.4254, -0.4325, -0.394, -0.53, -0.47, -0.5,\n",
       "       -0.53, -0.56, -0.55, -0.53, -0.5, -0.47, -0.39, -0.35, -0.34,\n",
       "       -0.34, -0.33, -0.33, -0.32, -0.31, -0.32, -0.31, -0.42, -0.41,\n",
       "       -0.43, -0.45, -0.44, -0.44, -0.51, -0.51, -0.66, -0.77],\n",
       "      dtype=object)"
      ]
     },
     "execution_count": 128,
     "metadata": {},
     "output_type": "execute_result"
    }
   ],
   "source": [
    "diff"
   ]
  },
  {
   "cell_type": "code",
   "execution_count": 129,
   "metadata": {},
   "outputs": [
    {
     "data": {
      "text/plain": [
       "<scipy.interpolate._interpolate.interp1d at 0x71feabead630>"
      ]
     },
     "execution_count": 129,
     "metadata": {},
     "output_type": "execute_result"
    }
   ],
   "source": [
    "resfkn "
   ]
  },
  {
   "cell_type": "markdown",
   "metadata": {},
   "source": [
    "![Sample Image](./equation_2.png)"
   ]
  },
  {
   "cell_type": "code",
   "execution_count": 130,
   "metadata": {},
   "outputs": [],
   "source": [
    "#time-dependent infectivity\n",
    "def beta(t,a,b):\n",
    "    return a+b*resfkn(t)"
   ]
  },
  {
   "cell_type": "markdown",
   "metadata": {},
   "source": [
    "![Sample Image](./equations.png)"
   ]
  },
  {
   "cell_type": "markdown",
   "metadata": {},
   "source": [
    "#### S=x1      \n",
    "\n",
    "#### E=x2       \n",
    "\n",
    "#### I=x3       \n",
    "\n",
    "#### R=x4"
   ]
  },
  {
   "cell_type": "code",
   "execution_count": 135,
   "metadata": {},
   "outputs": [],
   "source": [
    "#the RHS of the SEIR-model\n",
    "#S=x1\n",
    "#E=x2\n",
    "#I=x3\n",
    "#R=x4\n",
    "def dx(x,t,a,b,lag):\n",
    "    x1, x2, x3, x4= x[0], x[1], x[2], x[3]\n",
    "    \n",
    "    dx1 =  -x1*beta(t-lag,a,b)*x3/N\n",
    "    dx2 = x1*beta(t-lag,a,b)*x3/N - rho*x2\n",
    "    dx3 = rho*x2 - gamma*x3\n",
    "    dx4 = gamma*x3\n",
    "    #print([dx1, dx2, dx3, dx4])\n",
    "    return [dx1, dx2, dx3, dx4]"
   ]
  },
  {
   "cell_type": "code",
   "execution_count": 136,
   "metadata": {},
   "outputs": [
    {
     "data": {
      "text/plain": [
       "<function __main__.dx(x, t, a, b, lag)>"
      ]
     },
     "execution_count": 136,
     "metadata": {},
     "output_type": "execute_result"
    }
   ],
   "source": [
    "dx"
   ]
  },
  {
   "cell_type": "code",
   "execution_count": 144,
   "metadata": {},
   "outputs": [],
   "source": [
    "#define the model output\n",
    "def pred_inlagda(t,a,b,lag):\n",
    "    #intialvillkor\n",
    "    x0 = [N-1,0,1,0] #initial conditions\n",
    "    #print(x0,t,a,b )\n",
    "    x = odeint(dx, x0, t,args=(a,b,lag))\n",
    "    print(x)\n",
    "    return x\n",
    "    #return pv*x[:,2]"
   ]
  },
  {
   "cell_type": "markdown",
   "metadata": {},
   "source": [
    "![Sample Image](./equation_3.png)"
   ]
  },
  {
   "cell_type": "code",
   "execution_count": 145,
   "metadata": {
    "scrolled": true
   },
   "outputs": [
    {
     "name": "stdout",
     "output_type": "stream",
     "text": [
      "0\n",
      "[[1.72588000e+06 0.00000000e+00 1.00000000e+00 0.00000000e+00]\n",
      " [1.72587643e+06 2.02003697e+00 1.23223646e+00 1.31382952e+00]\n",
      " [1.72586892e+06 5.00778129e+00 2.99228428e+00 4.08339608e+00]\n",
      " [1.72585050e+06 1.22881908e+01 7.34098188e+00 1.08671744e+01]\n",
      " [1.72580533e+06 3.01491264e+01 1.80112848e+01 2.75112074e+01]\n",
      " [1.72569450e+06 7.39667579e+01 4.41894040e+01 6.83469753e+01]\n",
      " [1.72546183e+06 1.53401451e+02 1.00062734e+02 1.65705684e+02]\n",
      " [1.72505206e+06 2.76017168e+02 1.89557985e+02 3.63360581e+02]\n",
      " [1.72438825e+06 4.46688273e+02 3.26466637e+02 7.19596719e+02]\n",
      " [1.72365056e+06 5.02605221e+02 4.51699569e+02 1.27613734e+03]\n",
      " [1.72310691e+06 4.13956174e+02 4.44301976e+02 1.91583260e+03]\n",
      " [1.72270614e+06 3.15455577e+02 3.70072820e+02 2.48932885e+03]\n",
      " [1.72245877e+06 2.03958596e+02 2.74935968e+02 2.94333635e+03]\n",
      " [1.72230990e+06 1.30821970e+02 1.81421118e+02 3.25885585e+03]\n",
      " [1.72218032e+06 1.03193626e+02 1.27136952e+02 3.47035084e+03]\n",
      " [1.72207620e+06 8.03003232e+01 9.77368875e+01 3.62676452e+03]\n",
      " [1.72199499e+06 6.41372942e+01 7.52053381e+01 3.74666393e+03]\n",
      " [1.72192313e+06 5.46431666e+01 6.15358678e+01 3.84169563e+03]\n",
      " [1.72186762e+06 4.27660966e+01 5.04228023e+01 3.92019020e+03]\n",
      " [1.72181848e+06 3.80374196e+01 4.10791446e+01 3.98340236e+03]\n",
      " [1.72176821e+06 3.66751074e+01 3.77864989e+01 4.03832778e+03]\n",
      " [1.72171887e+06 3.63348364e+01 3.60381942e+01 4.08976156e+03]\n",
      " [1.72167819e+06 3.00179203e+01 3.36049307e+01 4.13918472e+03]\n",
      " [1.72164807e+06 2.40368990e+01 2.72511366e+01 4.18164228e+03]\n",
      " [1.72162163e+06 2.00118574e+01 2.27681873e+01 4.21658894e+03]\n",
      " [1.72160236e+06 1.51492744e+01 1.81960437e+01 4.24529719e+03]\n",
      " [1.72158933e+06 1.05827557e+01 1.35732905e+01 4.26751173e+03]\n",
      " [1.72158040e+06 7.38119485e+00 9.61356148e+00 4.28360219e+03]\n",
      " [1.72157358e+06 5.48373089e+00 6.90620718e+00 4.29502659e+03]\n",
      " [1.72156798e+06 4.38491474e+00 5.21840150e+00 4.30341373e+03]\n",
      " [1.72156305e+06 3.76663989e+00 4.22444136e+00 4.30996067e+03]\n",
      " [1.72155802e+06 3.72840845e+00 3.76446698e+00 4.31548229e+03]\n",
      " [1.72155231e+06 4.09625178e+00 3.83532242e+00 4.32075627e+03]\n",
      " [1.72154585e+06 4.60071812e+00 4.19596165e+00 4.32635732e+03]\n",
      " [1.72153859e+06 5.15885177e+00 4.68347762e+00 4.33256356e+03]\n",
      " [1.72153037e+06 5.84871328e+00 5.26519596e+00 4.33951187e+03]\n",
      " [1.72152096e+06 6.67502668e+00 5.98768775e+00 4.34737495e+03]\n",
      " [1.72151010e+06 7.70462825e+00 6.85471749e+00 4.35634099e+03]\n",
      " [1.72149727e+06 9.06720948e+00 7.97595296e+00 4.36668744e+03]\n",
      " [1.72148226e+06 1.05879210e+01 9.35428388e+00 4.37880133e+03]\n",
      " [1.72146470e+06 1.24189682e+01 1.09209275e+01 4.39295543e+03]\n",
      " [1.72144681e+06 1.26894679e+01 1.21915957e+01 4.40930852e+03]\n",
      " [1.72143056e+06 1.20695116e+01 1.20393479e+01 4.42633345e+03]\n",
      " [1.72141493e+06 1.14719633e+01 1.16494508e+01 4.44295007e+03]\n",
      " [1.72140095e+06 1.03994870e+01 1.08827930e+01 4.45876939e+03]]\n"
     ]
    },
    {
     "ename": "ValueError",
     "evalue": "operands could not be broadcast together with shapes (45,4) (45,) ",
     "output_type": "error",
     "traceback": [
      "\u001b[31m---------------------------------------------------------------------------\u001b[39m",
      "\u001b[31mValueError\u001b[39m                                Traceback (most recent call last)",
      "\u001b[36mCell\u001b[39m\u001b[36m \u001b[39m\u001b[32mIn[145]\u001b[39m\u001b[32m, line 14\u001b[39m\n\u001b[32m     12\u001b[39m \u001b[38;5;28;01mfor\u001b[39;00m j \u001b[38;5;129;01min\u001b[39;00m \u001b[38;5;28mrange\u001b[39m(n):\n\u001b[32m     13\u001b[39m     P=pred_inlagda(veckor_train,ah[i],bh[j],delay)\n\u001b[32m---> \u001b[39m\u001b[32m14\u001b[39m     E[i,j]=np.sqrt(np.sum((\u001b[43mP\u001b[49m\u001b[43m-\u001b[49m\u001b[43mI_train\u001b[49m)**\u001b[32m2\u001b[39m)/\u001b[38;5;28mlen\u001b[39m(veckor_train))\n\u001b[32m     15\u001b[39m     \u001b[38;5;28;01mbreak\u001b[39;00m\n\u001b[32m     16\u001b[39m \u001b[38;5;28;01mbreak\u001b[39;00m\n",
      "\u001b[31mValueError\u001b[39m: operands could not be broadcast together with shapes (45,4) (45,) "
     ]
    }
   ],
   "source": [
    "#performing global grid search\n",
    "#For better parameter estimates this can be rerun with higher value of n around the expected optimum\n",
    "I_train=I\n",
    "veckor_train=veckor\n",
    "n=10\n",
    "ah=np.linspace(3,5,n)\n",
    "bh=np.linspace(4,6,n)\n",
    "\n",
    "E=np.zeros((len(ah),len(bh)))\n",
    "for i in range(n):\n",
    "    print(i)\n",
    "    for j in range(n):\n",
    "        P=pred_inlagda(veckor_train,ah[i],bh[j],delay)\n",
    "        E[i,j]=np.sqrt(np.sum((P-I_train)**2)/len(veckor_train))\n",
    "        break\n",
    "    break\n",
    "        "
   ]
  },
  {
   "cell_type": "code",
   "execution_count": 149,
   "metadata": {},
   "outputs": [
    {
     "data": {
      "text/plain": [
       "array([ 0,  1,  2,  3,  4,  5,  6,  7,  8,  9, 10, 11, 12, 13, 14, 15, 16,\n",
       "       17, 18, 19, 20, 21, 22, 23, 24, 25, 26, 27, 28, 29, 30, 31, 32, 33,\n",
       "       34, 35, 36, 37, 38, 39, 40, 41, 42, 43, 44])"
      ]
     },
     "execution_count": 149,
     "metadata": {},
     "output_type": "execute_result"
    }
   ],
   "source": [
    "veckor"
   ]
  },
  {
   "cell_type": "code",
   "execution_count": 143,
   "metadata": {},
   "outputs": [
    {
     "data": {
      "text/plain": [
       "[1725880, 0, 1, 0]"
      ]
     },
     "execution_count": 143,
     "metadata": {},
     "output_type": "execute_result"
    }
   ],
   "source": [
    "[N-1,0,1,0]"
   ]
  },
  {
   "cell_type": "code",
   "execution_count": null,
   "metadata": {},
   "outputs": [],
   "source": [
    "veckor_train,I"
   ]
  },
  {
   "cell_type": "code",
   "execution_count": null,
   "metadata": {},
   "outputs": [],
   "source": [
    "ah[0],bh[0]"
   ]
  },
  {
   "cell_type": "code",
   "execution_count": 68,
   "metadata": {},
   "outputs": [
    {
     "name": "stdout",
     "output_type": "stream",
     "text": [
      "Minimum RMSE:  [52.76745559]\n",
      "a= [4.11111111] b= [5.77777778]\n"
     ]
    }
   ],
   "source": [
    "#Extract parameters with smallest error\n",
    "optind = np.where(E == np.amin(E))\n",
    "afit = ah[optind[0]]\n",
    "bfit = bh[optind[1]]\n",
    "\n",
    "print(\"Minimum RMSE: \",E[optind])\n",
    "print(\"a=\",afit,\"b=\",bfit)"
   ]
  },
  {
   "cell_type": "code",
   "execution_count": null,
   "metadata": {},
   "outputs": [],
   "source": []
  },
  {
   "cell_type": "code",
   "execution_count": 69,
   "metadata": {},
   "outputs": [],
   "source": [
    "#performing local search\n",
    "I_train=I\n",
    "veckor_train=veckor\n",
    "fit, cov = curve_fit(pred_inlagda,veckor_train,I_train,bounds=([2,2,3-0.001],[7,7,3+0.001]),p0=(afit[0],bfit[0],3))"
   ]
  },
  {
   "cell_type": "code",
   "execution_count": 70,
   "metadata": {},
   "outputs": [
    {
     "data": {
      "text/plain": [
       "(np.float64(4.111111111111111), np.float64(5.777777777777778))"
      ]
     },
     "execution_count": 70,
     "metadata": {},
     "output_type": "execute_result"
    }
   ],
   "source": [
    "(afit[0],bfit[0])"
   ]
  },
  {
   "cell_type": "code",
   "execution_count": 71,
   "metadata": {},
   "outputs": [
    {
     "data": {
      "text/plain": [
       "(np.float64(4.111111111111111), np.float64(5.777777777777778), 3)"
      ]
     },
     "execution_count": 71,
     "metadata": {},
     "output_type": "execute_result"
    }
   ],
   "source": [
    "p0=(afit[0],bfit[0],3)\n",
    "p0"
   ]
  },
  {
   "cell_type": "code",
   "execution_count": 73,
   "metadata": {},
   "outputs": [
    {
     "name": "stdout",
     "output_type": "stream",
     "text": [
      "Model error (RMSE)= 40.68619941688265 admissions/week\n"
     ]
    }
   ],
   "source": [
    "P=pred_inlagda(veckor_train,fit[0],fit[1],delay)\n",
    "E=np.sqrt(np.sum((P-I_train)**2)/len(veckor_train))\n",
    "print(\"Model error (RMSE)=\",E,\"admissions/week\")"
   ]
  },
  {
   "cell_type": "code",
   "execution_count": 74,
   "metadata": {},
   "outputs": [
    {
     "data": {
      "text/plain": [
       "array([2.30000000e-02, 4.21776025e-02, 1.54039770e-01, 5.65179090e-01,\n",
       "       2.07352028e+00, 7.60470499e+00, 2.51317580e+01, 6.67213047e+01,\n",
       "       1.57044913e+02, 2.78086891e+02, 3.20917722e+02, 3.01942603e+02,\n",
       "       2.45579087e+02, 1.71886959e+02, 1.30306752e+02, 1.10577235e+02,\n",
       "       9.35450679e+01, 8.52873818e+01, 7.75220144e+01, 6.99675777e+01,\n",
       "       7.31936386e+01, 7.96028837e+01, 8.37082898e+01, 7.41921472e+01,\n",
       "       6.83600985e+01, 5.94780899e+01, 4.75230620e+01, 3.56518351e+01,\n",
       "       2.72504985e+01, 2.21647595e+01, 1.95956531e+01, 1.94511984e+01,\n",
       "       2.26281251e+01, 2.85361521e+01, 3.67441940e+01, 4.76285564e+01,\n",
       "       6.24452611e+01, 8.22836677e+01, 1.10119316e+02, 1.47919227e+02,\n",
       "       1.96320238e+02, 2.44871323e+02, 2.62870485e+02, 2.73956444e+02,\n",
       "       2.71992360e+02])"
      ]
     },
     "execution_count": 74,
     "metadata": {},
     "output_type": "execute_result"
    }
   ],
   "source": [
    "P"
   ]
  },
  {
   "cell_type": "code",
   "execution_count": null,
   "metadata": {},
   "outputs": [],
   "source": [
    "#Genererate confidence intervals\n",
    "M=100\n",
    "t=np.linspace(0,Tmax-startvecka,200)\n",
    "P=np.zeros((M,int(len(t))))\n",
    "perr = np.sqrt(np.diag(cov))\n",
    "for i in range(M):\n",
    "    a_r = np.random.normal(fit[0],perr[0],1)[0]\n",
    "    b_r = np.random.normal(fit[1],perr[1],1)[0]\n",
    "    print(a_r)\n",
    "    P[i,:]=pred_inlagda(t,a_r,b_r,delay)\n",
    "Pu=np.percentile(P,97.5,axis=0)\n",
    "Pl=np.percentile(P,2.5,axis=0)"
   ]
  },
  {
   "cell_type": "code",
   "execution_count": 77,
   "metadata": {},
   "outputs": [
    {
     "data": {
      "text/plain": [
       "array([0, 0, 0, 0, 9, 18, 56, 94, 149, 235, 238, 307, 253, 207, 176, 205,\n",
       "       210, 183, 150, 151, 110, 61, 37, 27, 38, 35, 36, 27, 24, 19, 19,\n",
       "       25, 16, 24, 24, 27, 40, 51, 102, 162, 189, 236, 205, 259, 323],\n",
       "      dtype=object)"
      ]
     },
     "execution_count": 77,
     "metadata": {},
     "output_type": "execute_result"
    }
   ],
   "source": [
    "I"
   ]
  },
  {
   "cell_type": "code",
   "execution_count": 76,
   "metadata": {},
   "outputs": [
    {
     "data": {
      "text/plain": [
       "<matplotlib.legend.Legend at 0x71fea9c82ba0>"
      ]
     },
     "execution_count": 76,
     "metadata": {},
     "output_type": "execute_result"
    },
    {
     "data": {
      "image/png": "[encoded data removed]",
      "text/plain": [
       "<Figure size 2000x600 with 1 Axes>"
      ]
     },
     "metadata": {},
     "output_type": "display_data"
    }
   ],
   "source": [
    "#plot the results\n",
    "t=np.linspace(0,Tmax-startvecka,200)\n",
    "fig, axes = plt.subplots(1,1,figsize=(20,6))\n",
    "pred = pred_inlagda(t,fit[0],fit[1],delay)\n",
    "\n",
    "axes.plot(t+startvecka,pred,'r',label=\"optimal model fit\")\n",
    "##axes.plot(t+startvecka,Pu,'k--',label=\"confidence interval\")\n",
    "#axes.plot(t+startvecka,Pl,'k--')\n",
    "\n",
    "axes.plot(veckor+startvecka,I,'ko',label=\"admissions\")\n",
    "\n",
    "axes.set_xlabel('time (week of the year)')\n",
    "axes.set_ylabel('admissions/week')\n",
    "axes.legend()"
   ]
  },
  {
   "cell_type": "code",
   "execution_count": null,
   "metadata": {},
   "outputs": [],
   "source": [
    "#save output\n",
    "tp=np.arange(0,Tmax-startvecka,1)\n",
    "pred = pred_inlagda(tp,fit[0],fit[1],delay)\n",
    "\n",
    "np.savetxt('tid.csv',tp+startvecka, delimiter=',')\n",
    "np.savetxt('inlagda.csv',np.round(pred), delimiter=',')"
   ]
  },
  {
   "cell_type": "code",
   "execution_count": null,
   "metadata": {},
   "outputs": [],
   "source": [
    "#calculate model fit when amount of training data is varied\n",
    "A=np.array([])\n",
    "B=np.array([])\n",
    "RMSE=np.array([])\n",
    "MAPE=np.array([])\n",
    "\n",
    "hor=3\n",
    "tt=np.arange(20-startvecka,len(I)-hor,1)\n",
    "for k in tt:\n",
    "    I_train=I[0:k]\n",
    "    veckor_train=veckor[0:k]\n",
    "    I_test=I[0:k+hor]\n",
    "    veckor_test=veckor[0:k+hor]\n",
    "    \n",
    "    fit, cov = curve_fit(pred_inlagda,veckor_train,I_train,bounds=([2,2,3-0.001],[7,7,3+0.001]),p0=(afit[0],bfit[0],3))\n",
    "    \n",
    "    A=np.append(A,fit[0])\n",
    "    B=np.append(B,fit[1])\n",
    "    Pp=pred_inlagda(veckor,fit[0],fit[1],delay)\n",
    "    ep=np.sqrt(np.sum((Pp[k:k+hor]-I[k:k+hor])**2)/hor)\n",
    "    mp=np.sum(np.abs(Pp[k:k+hor]-I[k:k+hor])/I[k:k+hor])/hor\n",
    "        \n",
    "    RMSE=np.append(RMSE,ep)\n",
    "    MAPE=np.append(MAPE,mp)\n",
    "    \n",
    "    print(\"k=\",k,\"a=\",A[-1],\"b=\",B[-1])\n",
    "    \n"
   ]
  },
  {
   "cell_type": "code",
   "execution_count": null,
   "metadata": {},
   "outputs": [],
   "source": [
    "#plot how MAPE and parameter estimates change\n",
    "t=np.linspace(0,41,100)\n",
    "trans=np.linspace(0,1,len(A))\n",
    "P=pred_inlagda(t,A[-1],B[-1],delay)\n",
    "Pt=pred_inlagda(veckor,A[-1],B[-1],delay)\n",
    "\n",
    "\n",
    "fig, axes = plt.subplots(1,2,figsize=(20,10))\n",
    "\n",
    "axes[0].plot(tt+0*startvecka,MAPE)\n",
    "axes[0].set_xlabel('weeks of training data')\n",
    "axes[0].set_ylabel('MAPE of 3 week prediction')\n",
    "\n",
    "\n",
    "axes[1].plot(tt+0*startvecka,A,'b',label=\"$\\widehat{a}$\")\n",
    "axes[1].plot(tt+0*startvecka,B,'g',label=\"$\\widehat{b}$\")\n",
    "axes[1].set_xlabel('weeks of training data')\n",
    "axes[1].set_ylabel('parameter value')\n",
    "axes[1].legend()"
   ]
  },
  {
   "cell_type": "code",
   "execution_count": null,
   "metadata": {},
   "outputs": [],
   "source": [
    "###"
   ]
  },
  {
   "cell_type": "code",
   "execution_count": null,
   "metadata": {},
   "outputs": [],
   "source": []
  },
  {
   "cell_type": "code",
   "execution_count": null,
   "metadata": {},
   "outputs": [],
   "source": []
  },
  {
   "cell_type": "code",
   "execution_count": null,
   "metadata": {},
   "outputs": [],
   "source": []
  },
  {
   "cell_type": "code",
   "execution_count": null,
   "metadata": {},
   "outputs": [],
   "source": []
  }
 ],
 "metadata": {
  "kernelspec": {
   "display_name": "Data Analysis Python",
   "language": "python",
   "name": "data_analysis_diff_analysis"
  },
  "language_info": {
   "codemirror_mode": {
    "name": "ipython",
    "version": 3
   },
   "file_extension": ".py",
   "mimetype": "text/x-python",
   "name": "python",
   "nbconvert_exporter": "python",
   "pygments_lexer": "ipython3",
   "version": "3.13.3"
  }
 },
 "nbformat": 4,
 "nbformat_minor": 4
}
