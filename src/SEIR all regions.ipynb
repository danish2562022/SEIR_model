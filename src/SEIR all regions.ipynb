{
 "cells": [
  {
   "cell_type": "markdown",
   "metadata": {},
   "source": [
    "# Predicting regional COVID-19 hospital admissions in Sweden using mobility data\n",
    "This notebook accompanies the manuscript \"Predicting regional COVID-19 hospital admissions in Sweden using mobility data\" and contains code for generain. To run it requires the following files: \"statistik-covid19-inskrivna.xlsx\", \"VT.xlsx\",\"ST.xlsx\" and \"param_IC.pkl\".\n",
    "\n",
    "Questions and comments: gerlee@chalmers.se"
   ]
  },
  {
   "cell_type": "code",
   "execution_count": 1,
   "metadata": {},
   "outputs": [],
   "source": [
    "#importing modules\n",
    "from math import *\n",
    "import matplotlib.pyplot as plt\n",
    "plt.rcParams.update({'font.size': 21})\n",
    "import scipy.stats as stats\n",
    "from scipy.optimize import curve_fit,leastsq\n",
    "from scipy.integrate import odeint, ode\n",
    "from scipy.interpolate import interp1d\n",
    "import numpy as np\n",
    "import pandas\n",
    "from scipy.interpolate import interp1d"
   ]
  },
  {
   "cell_type": "code",
   "execution_count": 2,
   "metadata": {},
   "outputs": [],
   "source": [
    "#Parameters\n",
    "n=20\n",
    "startvecka=10-4 #start week\n",
    "Tmax=48 #length of prediction\n",
    "pv=0.023 #fraction of infected that are admitted\n",
    "\n",
    "rho=7*1/5.1 #latency period\n",
    "gamma=7*1/5 #recovery rate\n",
    "\n",
    "delay=3#2.5 #delay from infection to admission"
   ]
  },
  {
   "cell_type": "code",
   "execution_count": 4,
   "metadata": {},
   "outputs": [],
   "source": [
    "#Load data from Västtrafik\n",
    "df = pandas.read_excel('../data/VT.xlsx') #read excel-file\n",
    "values = df['Unnamed: 4'].values \n",
    "diff = np.array(values[4:]) \n",
    "diff=np.insert(diff,0,[0.2,0.2]) #Set baseline travel\n",
    "T=np.arange(7,7+len(diff),1)\n",
    "resfkn = interp1d(T-startvecka,diff,kind=\"linear\",fill_value=\"extrapolate\") #create function\n",
    "\n",
    "#Load data from Google\n",
    "df = pandas.read_csv('../data/2020_SE_Region_Mobility_Report.csv') #read excel-file\n",
    "temp2=df.loc[df['iso_3166_2_code']=='SE-O']\n",
    "transit=temp2['transit_stations_percent_change_from_baseline'].values \n",
    "dagar=np.arange(46,46+len(transit)) #create array of days corresponding to google data\n",
    "\n",
    "tv=np.ceil(dagar/7)\n",
    "gveckor=np.unique(tv)\n",
    "k=0\n",
    "Tr=np.zeros(int(max(gveckor)-min(gveckor))+1)\n",
    "\n",
    "for i in gveckor:\n",
    "    ind=tv==i\n",
    "    Tr[k]=np.mean(transit[ind])/100\n",
    "    k=k+1\n",
    "\n",
    "    init=0.2 #0.1 innan\n",
    "    Tr[0:2]=[init,init]\n",
    "\n",
    "    Trfkn_vgr = interp1d(gveckor-startvecka,Tr,kind=\"linear\",fill_value=\"extrapolate\") #create function"
   ]
  },
  {
   "cell_type": "code",
   "execution_count": 5,
   "metadata": {},
   "outputs": [],
   "source": [
    "#time-dependent infectivity\n",
    "def beta(t,a,b,transit_fkn):\n",
    "    return a+b*transit_fkn(t)"
   ]
  },
  {
   "cell_type": "code",
   "execution_count": 47,
   "metadata": {},
   "outputs": [],
   "source": [
    "#the RHS of the SEIR-model\n",
    "#S=x1\n",
    "#E=x2\n",
    "#I=x3\n",
    "#R=x4\n",
    "def dx(x,t,a,b,lag):\n",
    "    x1, x2, x3, x4= x[0], x[1], x[2], x[3]\n",
    "    \n",
    "    dx1 =  -x1*beta(t-lag,a,b,transit_fkn)*x3/N\n",
    "    dx2 = x1*beta(t-lag,a,b,transit_fkn)*x3/N - rho*x2\n",
    "    dx3 = rho*x2 - gamma*x3\n",
    "    dx4 = gamma*x3\n",
    "    m = [dx1, dx2, dx3, dx4]\n",
    "    print(m)\n",
    "    #m = [np.float64(x[0] if isinstance(i, np.ndarray) else i) for i in m]\n",
    "    return m"
   ]
  },
  {
   "cell_type": "code",
   "execution_count": 48,
   "metadata": {},
   "outputs": [],
   "source": [
    "#define output from model\n",
    "def pred_inlagda(t,a,b):\n",
    "    x0 = [N-1,0,1,0] #initial conditions\n",
    "    x0 = [x0[0][0]] + x0[1:]\n",
    "    x = odeint(dx, x0, t,args=(a,b,delay))\n",
    "    return pv*x[:,2]"
   ]
  },
  {
   "cell_type": "code",
   "execution_count": 49,
   "metadata": {},
   "outputs": [],
   "source": [
    "def getData(namn,ffall):\n",
    "    temp=regioner.loc[regioner['region']==namn] #find the right row\n",
    "    index=temp['index'].values #find the region index\n",
    "    N=temp['population'].values #find population size of region\n",
    "\n",
    "    R = file.iloc[index[0]] \n",
    "    R=R.replace(' ','X') #replace missing data with 0\n",
    "    R=R.replace('X',0) \n",
    "    R=R.replace('IU',0) \n",
    "    ind = np.arange(3,len(R),2) \n",
    "    I = R.iloc[ind].values #extract admissions\n",
    "    I=I[:-2] #remove last (incomplete) data point\n",
    "    padding = np.zeros(10-ffall+3) \n",
    "    I=np.insert(I,0,padding) \n",
    "    veckor = np.arange(0,len(I),1) #create array of week numbers\n",
    "    \n",
    "    return I,veckor,N"
   ]
  },
  {
   "cell_type": "code",
   "execution_count": 50,
   "metadata": {},
   "outputs": [],
   "source": [
    "#Load Google mobility data\n",
    "def loadMobility(namn,svecka):\n",
    "    df = pandas.read_csv('../data/2020_SE_Region_Mobility_Report.csv') \n",
    "    temp=regioner.loc[regioner['region']==namn] \n",
    "    kod=temp['Regionkod'].values \n",
    "    temp2=df.loc[df['iso_3166_2_code']==kod[0]]\n",
    "    transit=temp2['transit_stations_percent_change_from_baseline'].values \n",
    "    dagar=np.arange(46,46+len(transit))\n",
    "    tv=np.ceil(dagar/7)\n",
    "    \n",
    "    \n",
    "    gveckor=np.unique(tv)\n",
    "    k=0\n",
    "    Tr=np.zeros(int(max(gveckor)-min(gveckor))+1)\n",
    "\n",
    "    for i in gveckor:\n",
    "        ind=tv==i\n",
    "        Tr[k]=np.mean(transit[ind])/100\n",
    "        k=k+1\n",
    "    for i in range(1,len(Tr)):\n",
    "        if np.isnan(Tr[i]):\n",
    "            Tr[i]=Tr[i-1]\n",
    "    init=0.2 #set base line travel\n",
    "    Tr[0:2]=[init,init]\n",
    "    Trfkn = interp1d(gveckor-svecka,Tr,kind=\"linear\",fill_value=\"extrapolate\")\n",
    "    return Trfkn"
   ]
  },
  {
   "cell_type": "code",
   "execution_count": 51,
   "metadata": {},
   "outputs": [],
   "source": [
    "#fit model to data\n",
    "def fitModel(veckor,I,astart,bstart):\n",
    "    fit, cov = curve_fit(pred_inlagda,veckor,I,bounds=([1,1],[12, 12]),p0=(astart,bstart))\n",
    "    P=pred_inlagda(veckor,fit[0],fit[1])\n",
    "    E=np.sqrt(np.sum((P-I)**2)/len(I))/np.amax(I)\n",
    "    return fit[0],fit[1],E"
   ]
  },
  {
   "cell_type": "code",
   "execution_count": 52,
   "metadata": {},
   "outputs": [
    {
     "name": "stdout",
     "output_type": "stream",
     "text": [
      "            region  index  population Regionkod   Area  Första fall\n",
      "0            Sthlm      8     2389923     SE-AB   6524            9\n",
      "1              VGR      9     1725881      SE-O  23800            9\n",
      "2            Skåne     10     1387650      SE-M  10968            9\n",
      "3     Östergötland     11      467095      SE-E  10559            9\n",
      "4        Jönköping     12      364750      SE-F   8190            9\n",
      "5     Södermanland     13      299101      SE-D  10437            9\n",
      "6          Uppsala     14      387628      SE-C   5427            9\n",
      "7        Gävleborg     15      287660      SE-X   8504            9\n",
      "8      Västmanland     16      277074      SE-U   6075            9\n",
      "9           Örebro     17      305726      SE-T  28029            9\n",
      "10      Norrbotten     18      249768     SE-BD  18118            9\n",
      "11         Dalarna     19      287806      SE-W  17519            9\n",
      "12  Västernorrland     20      244855      SE-Y   5118            9\n",
      "13        Värmland     21      282840      SE-S  54665            9\n",
      "14         Halland     22      336132      SE-N  97239            9\n",
      "15          Kalmar     23      245992      SE-H  11165            9\n",
      "16       Kronoberg     24      202163      SE-G  21549            9\n",
      "17    Västerbotten     25      273061     SE-AC   8424            9\n",
      "18        Jämtland     26      130972      SE-Z   2931            9\n",
      "19        Blekinge     27      159349      SE-K  48935            9\n",
      "Sthlm\n",
      "[array([-6.60252888]), array([6.60252888]), -1.4, 1.4]\n"
     ]
    },
    {
     "ename": "ValueError",
     "evalue": "setting an array element with a sequence. The requested array has an inhomogeneous shape after 1 dimensions. The detected shape was (4,) + inhomogeneous part.",
     "output_type": "error",
     "traceback": [
      "\u001b[0;31m---------------------------------------------------------------------------\u001b[0m",
      "\u001b[0;31mValueError\u001b[0m                                Traceback (most recent call last)",
      "Cell \u001b[0;32mIn[52], line 32\u001b[0m\n\u001b[1;32m     30\u001b[0m I,veckor,N \u001b[38;5;241m=\u001b[39m getData(R,ffall[k])\n\u001b[1;32m     31\u001b[0m transit_fkn\u001b[38;5;241m=\u001b[39mloadMobility(R,startvecka[k])\n\u001b[0;32m---> 32\u001b[0m a,b,e \u001b[38;5;241m=\u001b[39m \u001b[43mfitModel\u001b[49m\u001b[43m(\u001b[49m\u001b[43mveckor\u001b[49m\u001b[43m,\u001b[49m\u001b[43mI\u001b[49m\u001b[43m,\u001b[49m\u001b[43mastart\u001b[49m\u001b[43m[\u001b[49m\u001b[43mk\u001b[49m\u001b[43m]\u001b[49m\u001b[43m,\u001b[49m\u001b[43mbstart\u001b[49m\u001b[43m[\u001b[49m\u001b[43mk\u001b[49m\u001b[43m]\u001b[49m\u001b[43m)\u001b[49m\n\u001b[1;32m     33\u001b[0m pred \u001b[38;5;241m=\u001b[39m pred_inlagda(t,a,b)\n\u001b[1;32m     34\u001b[0m A\u001b[38;5;241m=\u001b[39mnp\u001b[38;5;241m.\u001b[39mappend(A,a)\n",
      "Cell \u001b[0;32mIn[51], line 3\u001b[0m, in \u001b[0;36mfitModel\u001b[0;34m(veckor, I, astart, bstart)\u001b[0m\n\u001b[1;32m      2\u001b[0m \u001b[38;5;28;01mdef\u001b[39;00m \u001b[38;5;21mfitModel\u001b[39m(veckor,I,astart,bstart):\n\u001b[0;32m----> 3\u001b[0m     fit, cov \u001b[38;5;241m=\u001b[39m \u001b[43mcurve_fit\u001b[49m\u001b[43m(\u001b[49m\u001b[43mpred_inlagda\u001b[49m\u001b[43m,\u001b[49m\u001b[43mveckor\u001b[49m\u001b[43m,\u001b[49m\u001b[43mI\u001b[49m\u001b[43m,\u001b[49m\u001b[43mbounds\u001b[49m\u001b[38;5;241;43m=\u001b[39;49m\u001b[43m(\u001b[49m\u001b[43m[\u001b[49m\u001b[38;5;241;43m1\u001b[39;49m\u001b[43m,\u001b[49m\u001b[38;5;241;43m1\u001b[39;49m\u001b[43m]\u001b[49m\u001b[43m,\u001b[49m\u001b[43m[\u001b[49m\u001b[38;5;241;43m12\u001b[39;49m\u001b[43m,\u001b[49m\u001b[43m \u001b[49m\u001b[38;5;241;43m12\u001b[39;49m\u001b[43m]\u001b[49m\u001b[43m)\u001b[49m\u001b[43m,\u001b[49m\u001b[43mp0\u001b[49m\u001b[38;5;241;43m=\u001b[39;49m\u001b[43m(\u001b[49m\u001b[43mastart\u001b[49m\u001b[43m,\u001b[49m\u001b[43mbstart\u001b[49m\u001b[43m)\u001b[49m\u001b[43m)\u001b[49m\n\u001b[1;32m      4\u001b[0m     P\u001b[38;5;241m=\u001b[39mpred_inlagda(veckor,fit[\u001b[38;5;241m0\u001b[39m],fit[\u001b[38;5;241m1\u001b[39m])\n\u001b[1;32m      5\u001b[0m     E\u001b[38;5;241m=\u001b[39mnp\u001b[38;5;241m.\u001b[39msqrt(np\u001b[38;5;241m.\u001b[39msum((P\u001b[38;5;241m-\u001b[39mI)\u001b[38;5;241m*\u001b[39m\u001b[38;5;241m*\u001b[39m\u001b[38;5;241m2\u001b[39m)\u001b[38;5;241m/\u001b[39m\u001b[38;5;28mlen\u001b[39m(I))\u001b[38;5;241m/\u001b[39mnp\u001b[38;5;241m.\u001b[39mamax(I)\n",
      "File \u001b[0;32m/root/miniconda3/lib/python3.12/site-packages/scipy/optimize/_minpack_py.py:974\u001b[0m, in \u001b[0;36mcurve_fit\u001b[0;34m(f, xdata, ydata, p0, sigma, absolute_sigma, check_finite, bounds, method, jac, full_output, nan_policy, **kwargs)\u001b[0m\n\u001b[1;32m    971\u001b[0m \u001b[38;5;28;01mif\u001b[39;00m \u001b[38;5;124m'\u001b[39m\u001b[38;5;124mmax_nfev\u001b[39m\u001b[38;5;124m'\u001b[39m \u001b[38;5;129;01mnot\u001b[39;00m \u001b[38;5;129;01min\u001b[39;00m kwargs:\n\u001b[1;32m    972\u001b[0m     kwargs[\u001b[38;5;124m'\u001b[39m\u001b[38;5;124mmax_nfev\u001b[39m\u001b[38;5;124m'\u001b[39m] \u001b[38;5;241m=\u001b[39m kwargs\u001b[38;5;241m.\u001b[39mpop(\u001b[38;5;124m'\u001b[39m\u001b[38;5;124mmaxfev\u001b[39m\u001b[38;5;124m'\u001b[39m, \u001b[38;5;28;01mNone\u001b[39;00m)\n\u001b[0;32m--> 974\u001b[0m res \u001b[38;5;241m=\u001b[39m \u001b[43mleast_squares\u001b[49m\u001b[43m(\u001b[49m\u001b[43mfunc\u001b[49m\u001b[43m,\u001b[49m\u001b[43m \u001b[49m\u001b[43mp0\u001b[49m\u001b[43m,\u001b[49m\u001b[43m \u001b[49m\u001b[43mjac\u001b[49m\u001b[38;5;241;43m=\u001b[39;49m\u001b[43mjac\u001b[49m\u001b[43m,\u001b[49m\u001b[43m \u001b[49m\u001b[43mbounds\u001b[49m\u001b[38;5;241;43m=\u001b[39;49m\u001b[43mbounds\u001b[49m\u001b[43m,\u001b[49m\u001b[43m \u001b[49m\u001b[43mmethod\u001b[49m\u001b[38;5;241;43m=\u001b[39;49m\u001b[43mmethod\u001b[49m\u001b[43m,\u001b[49m\n\u001b[1;32m    975\u001b[0m \u001b[43m                    \u001b[49m\u001b[38;5;241;43m*\u001b[39;49m\u001b[38;5;241;43m*\u001b[39;49m\u001b[43mkwargs\u001b[49m\u001b[43m)\u001b[49m\n\u001b[1;32m    977\u001b[0m \u001b[38;5;28;01mif\u001b[39;00m \u001b[38;5;129;01mnot\u001b[39;00m res\u001b[38;5;241m.\u001b[39msuccess:\n\u001b[1;32m    978\u001b[0m     \u001b[38;5;28;01mraise\u001b[39;00m \u001b[38;5;167;01mRuntimeError\u001b[39;00m(\u001b[38;5;124m\"\u001b[39m\u001b[38;5;124mOptimal parameters not found: \u001b[39m\u001b[38;5;124m\"\u001b[39m \u001b[38;5;241m+\u001b[39m res\u001b[38;5;241m.\u001b[39mmessage)\n",
      "File \u001b[0;32m/root/miniconda3/lib/python3.12/site-packages/scipy/optimize/_lsq/least_squares.py:832\u001b[0m, in \u001b[0;36mleast_squares\u001b[0;34m(fun, x0, jac, bounds, method, ftol, xtol, gtol, x_scale, loss, f_scale, diff_step, tr_solver, tr_options, jac_sparsity, max_nfev, verbose, args, kwargs)\u001b[0m\n\u001b[1;32m    829\u001b[0m \u001b[38;5;28;01mdef\u001b[39;00m \u001b[38;5;21mfun_wrapped\u001b[39m(x):\n\u001b[1;32m    830\u001b[0m     \u001b[38;5;28;01mreturn\u001b[39;00m np\u001b[38;5;241m.\u001b[39matleast_1d(fun(x, \u001b[38;5;241m*\u001b[39margs, \u001b[38;5;241m*\u001b[39m\u001b[38;5;241m*\u001b[39mkwargs))\n\u001b[0;32m--> 832\u001b[0m f0 \u001b[38;5;241m=\u001b[39m \u001b[43mfun_wrapped\u001b[49m\u001b[43m(\u001b[49m\u001b[43mx0\u001b[49m\u001b[43m)\u001b[49m\n\u001b[1;32m    834\u001b[0m \u001b[38;5;28;01mif\u001b[39;00m f0\u001b[38;5;241m.\u001b[39mndim \u001b[38;5;241m!=\u001b[39m \u001b[38;5;241m1\u001b[39m:\n\u001b[1;32m    835\u001b[0m     \u001b[38;5;28;01mraise\u001b[39;00m \u001b[38;5;167;01mValueError\u001b[39;00m(\u001b[38;5;124m\"\u001b[39m\u001b[38;5;124m`fun` must return at most 1-d array_like. \u001b[39m\u001b[38;5;124m\"\u001b[39m\n\u001b[1;32m    836\u001b[0m                      \u001b[38;5;124m\"\u001b[39m\u001b[38;5;124mf0.shape: \u001b[39m\u001b[38;5;132;01m{}\u001b[39;00m\u001b[38;5;124m\"\u001b[39m\u001b[38;5;241m.\u001b[39mformat(f0\u001b[38;5;241m.\u001b[39mshape))\n",
      "File \u001b[0;32m/root/miniconda3/lib/python3.12/site-packages/scipy/optimize/_lsq/least_squares.py:830\u001b[0m, in \u001b[0;36mleast_squares.<locals>.fun_wrapped\u001b[0;34m(x)\u001b[0m\n\u001b[1;32m    829\u001b[0m \u001b[38;5;28;01mdef\u001b[39;00m \u001b[38;5;21mfun_wrapped\u001b[39m(x):\n\u001b[0;32m--> 830\u001b[0m     \u001b[38;5;28;01mreturn\u001b[39;00m np\u001b[38;5;241m.\u001b[39matleast_1d(\u001b[43mfun\u001b[49m\u001b[43m(\u001b[49m\u001b[43mx\u001b[49m\u001b[43m,\u001b[49m\u001b[43m \u001b[49m\u001b[38;5;241;43m*\u001b[39;49m\u001b[43margs\u001b[49m\u001b[43m,\u001b[49m\u001b[43m \u001b[49m\u001b[38;5;241;43m*\u001b[39;49m\u001b[38;5;241;43m*\u001b[39;49m\u001b[43mkwargs\u001b[49m\u001b[43m)\u001b[49m)\n",
      "File \u001b[0;32m/root/miniconda3/lib/python3.12/site-packages/scipy/optimize/_minpack_py.py:507\u001b[0m, in \u001b[0;36m_lightweight_memoizer.<locals>._memoized_func\u001b[0;34m(params)\u001b[0m\n\u001b[1;32m    504\u001b[0m \u001b[38;5;28;01mif\u001b[39;00m np\u001b[38;5;241m.\u001b[39mall(_memoized_func\u001b[38;5;241m.\u001b[39mlast_params \u001b[38;5;241m==\u001b[39m params):\n\u001b[1;32m    505\u001b[0m     \u001b[38;5;28;01mreturn\u001b[39;00m _memoized_func\u001b[38;5;241m.\u001b[39mlast_val\n\u001b[0;32m--> 507\u001b[0m val \u001b[38;5;241m=\u001b[39m \u001b[43mf\u001b[49m\u001b[43m(\u001b[49m\u001b[43mparams\u001b[49m\u001b[43m)\u001b[49m\n\u001b[1;32m    509\u001b[0m \u001b[38;5;28;01mif\u001b[39;00m _memoized_func\u001b[38;5;241m.\u001b[39mlast_params \u001b[38;5;129;01mis\u001b[39;00m \u001b[38;5;28;01mNone\u001b[39;00m:\n\u001b[1;32m    510\u001b[0m     _memoized_func\u001b[38;5;241m.\u001b[39mlast_params \u001b[38;5;241m=\u001b[39m np\u001b[38;5;241m.\u001b[39mcopy(params)\n",
      "File \u001b[0;32m/root/miniconda3/lib/python3.12/site-packages/scipy/optimize/_minpack_py.py:523\u001b[0m, in \u001b[0;36m_wrap_func.<locals>.func_wrapped\u001b[0;34m(params)\u001b[0m\n\u001b[1;32m    522\u001b[0m \u001b[38;5;28;01mdef\u001b[39;00m \u001b[38;5;21mfunc_wrapped\u001b[39m(params):\n\u001b[0;32m--> 523\u001b[0m     \u001b[38;5;28;01mreturn\u001b[39;00m \u001b[43mfunc\u001b[49m\u001b[43m(\u001b[49m\u001b[43mxdata\u001b[49m\u001b[43m,\u001b[49m\u001b[43m \u001b[49m\u001b[38;5;241;43m*\u001b[39;49m\u001b[43mparams\u001b[49m\u001b[43m)\u001b[49m \u001b[38;5;241m-\u001b[39m ydata\n",
      "Cell \u001b[0;32mIn[48], line 5\u001b[0m, in \u001b[0;36mpred_inlagda\u001b[0;34m(t, a, b)\u001b[0m\n\u001b[1;32m      3\u001b[0m x0 \u001b[38;5;241m=\u001b[39m [N\u001b[38;5;241m-\u001b[39m\u001b[38;5;241m1\u001b[39m,\u001b[38;5;241m0\u001b[39m,\u001b[38;5;241m1\u001b[39m,\u001b[38;5;241m0\u001b[39m] \u001b[38;5;66;03m#initial conditions\u001b[39;00m\n\u001b[1;32m      4\u001b[0m x0 \u001b[38;5;241m=\u001b[39m [x0[\u001b[38;5;241m0\u001b[39m][\u001b[38;5;241m0\u001b[39m]] \u001b[38;5;241m+\u001b[39m x0[\u001b[38;5;241m1\u001b[39m:]\n\u001b[0;32m----> 5\u001b[0m x \u001b[38;5;241m=\u001b[39m \u001b[43modeint\u001b[49m\u001b[43m(\u001b[49m\u001b[43mdx\u001b[49m\u001b[43m,\u001b[49m\u001b[43m \u001b[49m\u001b[43mx0\u001b[49m\u001b[43m,\u001b[49m\u001b[43m \u001b[49m\u001b[43mt\u001b[49m\u001b[43m,\u001b[49m\u001b[43margs\u001b[49m\u001b[38;5;241;43m=\u001b[39;49m\u001b[43m(\u001b[49m\u001b[43ma\u001b[49m\u001b[43m,\u001b[49m\u001b[43mb\u001b[49m\u001b[43m,\u001b[49m\u001b[43mdelay\u001b[49m\u001b[43m)\u001b[49m\u001b[43m)\u001b[49m\n\u001b[1;32m      6\u001b[0m \u001b[38;5;28;01mreturn\u001b[39;00m pv\u001b[38;5;241m*\u001b[39mx[:,\u001b[38;5;241m2\u001b[39m]\n",
      "File \u001b[0;32m/root/miniconda3/lib/python3.12/site-packages/scipy/integrate/_odepack_py.py:242\u001b[0m, in \u001b[0;36modeint\u001b[0;34m(func, y0, t, args, Dfun, col_deriv, full_output, ml, mu, rtol, atol, tcrit, h0, hmax, hmin, ixpr, mxstep, mxhnil, mxordn, mxords, printmessg, tfirst)\u001b[0m\n\u001b[1;32m    240\u001b[0m t \u001b[38;5;241m=\u001b[39m copy(t)\n\u001b[1;32m    241\u001b[0m y0 \u001b[38;5;241m=\u001b[39m copy(y0)\n\u001b[0;32m--> 242\u001b[0m output \u001b[38;5;241m=\u001b[39m \u001b[43m_odepack\u001b[49m\u001b[38;5;241;43m.\u001b[39;49m\u001b[43modeint\u001b[49m\u001b[43m(\u001b[49m\u001b[43mfunc\u001b[49m\u001b[43m,\u001b[49m\u001b[43m \u001b[49m\u001b[43my0\u001b[49m\u001b[43m,\u001b[49m\u001b[43m \u001b[49m\u001b[43mt\u001b[49m\u001b[43m,\u001b[49m\u001b[43m \u001b[49m\u001b[43margs\u001b[49m\u001b[43m,\u001b[49m\u001b[43m \u001b[49m\u001b[43mDfun\u001b[49m\u001b[43m,\u001b[49m\u001b[43m \u001b[49m\u001b[43mcol_deriv\u001b[49m\u001b[43m,\u001b[49m\u001b[43m \u001b[49m\u001b[43mml\u001b[49m\u001b[43m,\u001b[49m\u001b[43m \u001b[49m\u001b[43mmu\u001b[49m\u001b[43m,\u001b[49m\n\u001b[1;32m    243\u001b[0m \u001b[43m                         \u001b[49m\u001b[43mfull_output\u001b[49m\u001b[43m,\u001b[49m\u001b[43m \u001b[49m\u001b[43mrtol\u001b[49m\u001b[43m,\u001b[49m\u001b[43m \u001b[49m\u001b[43matol\u001b[49m\u001b[43m,\u001b[49m\u001b[43m \u001b[49m\u001b[43mtcrit\u001b[49m\u001b[43m,\u001b[49m\u001b[43m \u001b[49m\u001b[43mh0\u001b[49m\u001b[43m,\u001b[49m\u001b[43m \u001b[49m\u001b[43mhmax\u001b[49m\u001b[43m,\u001b[49m\u001b[43m \u001b[49m\u001b[43mhmin\u001b[49m\u001b[43m,\u001b[49m\n\u001b[1;32m    244\u001b[0m \u001b[43m                         \u001b[49m\u001b[43mixpr\u001b[49m\u001b[43m,\u001b[49m\u001b[43m \u001b[49m\u001b[43mmxstep\u001b[49m\u001b[43m,\u001b[49m\u001b[43m \u001b[49m\u001b[43mmxhnil\u001b[49m\u001b[43m,\u001b[49m\u001b[43m \u001b[49m\u001b[43mmxordn\u001b[49m\u001b[43m,\u001b[49m\u001b[43m \u001b[49m\u001b[43mmxords\u001b[49m\u001b[43m,\u001b[49m\n\u001b[1;32m    245\u001b[0m \u001b[43m                         \u001b[49m\u001b[38;5;28;43mint\u001b[39;49m\u001b[43m(\u001b[49m\u001b[38;5;28;43mbool\u001b[39;49m\u001b[43m(\u001b[49m\u001b[43mtfirst\u001b[49m\u001b[43m)\u001b[49m\u001b[43m)\u001b[49m\u001b[43m)\u001b[49m\n\u001b[1;32m    246\u001b[0m \u001b[38;5;28;01mif\u001b[39;00m output[\u001b[38;5;241m-\u001b[39m\u001b[38;5;241m1\u001b[39m] \u001b[38;5;241m<\u001b[39m \u001b[38;5;241m0\u001b[39m:\n\u001b[1;32m    247\u001b[0m     warning_msg \u001b[38;5;241m=\u001b[39m _msgs[output[\u001b[38;5;241m-\u001b[39m\u001b[38;5;241m1\u001b[39m]] \u001b[38;5;241m+\u001b[39m \u001b[38;5;124m\"\u001b[39m\u001b[38;5;124m Run with full_output = 1 to get quantitative information.\u001b[39m\u001b[38;5;124m\"\u001b[39m\n",
      "\u001b[0;31mValueError\u001b[0m: setting an array element with a sequence. The requested array has an inhomogeneous shape after 1 dimensions. The detected shape was (4,) + inhomogeneous part."
     ]
    }
   ],
   "source": [
    "file = pandas.read_excel('../data/statistik-covid19-inskrivna_v2.xlsx',sheet_name=\"Inskrivna i slutenvård\")\n",
    "data = [['Sthlm', 8,2389923], ['VGR', 9,1725881], ['Skåne', 10,1387650],['Östergötland',11,467095],['Jönköping',12,364750],['Södermanland',13,299101],['Uppsala',14,387628],['Gävleborg',15,287660],['Västmanland',16,277074],['Örebro',17,305726],['Norrbotten',18,249768],['Dalarna',19,287806],['Västernorrland',20,244855],['Värmland',21,282840],['Halland',22,336132],['Kalmar',23,245992],['Kronoberg',24,202163],['Västerbotten',25,273061],['Jämtland',26,130972],['Blekinge',27,159349],['Gotland',28,60106]] \n",
    "regioner = pandas.DataFrame(data, columns = ['region', 'index','population']) \n",
    "regionkod=['SE-AB','SE-O','SE-M','SE-E','SE-F','SE-D','SE-C','SE-X','SE-U','SE-T','SE-BD','SE-W','SE-Y','SE-S','SE-N','SE-H','SE-G','SE-AC','SE-Z','SE-K','SE-I']\n",
    "regioner['Regionkod'] = regionkod\n",
    "yta=np.array([6524,23800,10968,10559,8190,10437,5427,8504,6075,28029,18118,17519,5118,54665,97239,11165,21549,8424,2931,48935,3135]) #area of region\n",
    "regioner['Area']=yta\n",
    "ffall = 9*np.ones(21).astype(int) #week number when first case was recorded\n",
    "regioner['Första fall'] = ffall \n",
    "startvecka = ffall - 3\n",
    "\n",
    "regioner.drop(regioner.index[[20]],inplace=True) #remove Gotland\n",
    "print(regioner)\n",
    "\n",
    "namn = regioner['region'].values\n",
    "t=np.linspace(0,Tmax,200)\n",
    "\n",
    "regs = pandas.read_pickle('../data/param_IC.pkl') #load initial guesses for a and b for each region\n",
    "astart = regs['a'].values\n",
    "bstart = regs['b'].values\n",
    "\n",
    "A=np.array([])\n",
    "B=np.array([])\n",
    "E=np.array([])\n",
    "\n",
    "#Loop over regions\n",
    "k=0\n",
    "for R in namn:\n",
    "    print(R)\n",
    "    I,veckor,N = getData(R,ffall[k])\n",
    "    transit_fkn=loadMobility(R,startvecka[k])\n",
    "    a,b,e = fitModel(veckor,I,astart[k],bstart[k])\n",
    "    pred = pred_inlagda(t,a,b)\n",
    "    A=np.append(A,a)\n",
    "    B=np.append(B,b)\n",
    "    E=np.append(E,e)\n",
    "    print(a,b)\n",
    "    \n",
    "    #Plot and save figure\n",
    "    print(I, pred)\n",
    "    fig, axes = plt.subplots(1,1,figsize=(10,8))\n",
    "    \n",
    "    axes.plot(t+startvecka[k],pred,'r',label=\"Prediktion med resor\") \n",
    "    axes.plot(veckor+startvecka[k],I,'ko',label=\"Inlagda\")\n",
    "    axes.set_xlabel('time (week of the year)')\n",
    "    axes.set_ylabel('admissions/week')\n",
    "    axes.set_title(R)\n",
    "    #fig.savefig(R+\".pdf\",format='pdf')\n",
    "    k=k+1\n",
    "    break\n",
    "    \n",
    "#regioner['a'] = A\n",
    "#regioner['b'] = B\n",
    "#regioner['E'] = E\n",
    "#regioner.to_pickle('regioner.pkl')  #save results in dataframe\n",
    "\n"
   ]
  },
  {
   "cell_type": "code",
   "execution_count": 38,
   "metadata": {},
   "outputs": [
    {
     "data": {
      "text/plain": [
       "6"
      ]
     },
     "execution_count": 38,
     "metadata": {},
     "output_type": "execute_result"
    }
   ],
   "source": [
    "startvecka[k]"
   ]
  },
  {
   "cell_type": "code",
   "execution_count": 39,
   "metadata": {},
   "outputs": [
    {
     "data": {
      "text/plain": [
       "array([2.30000000e-02, 2.14023001e+03, 8.46378187e+03, 1.90802621e+04,\n",
       "       3.44247745e+04, 5.52620182e+04, 8.27157534e+04, 1.18323627e+05,\n",
       "       1.64119311e+05, 2.22745863e+05, 2.97606300e+05, 3.93059731e+05,\n",
       "       5.14674196e+05, 6.69550756e+05, 8.66737618e+05, 1.11775839e+06,\n",
       "       1.43728527e+06, 1.84399645e+06, 2.36166783e+06, 3.02056285e+06,\n",
       "       3.85920164e+06, 4.92661293e+06, 6.28520033e+06, 8.01439061e+06,\n",
       "       1.02152772e+07, 1.30165302e+07, 1.65819192e+07, 2.11198874e+07,\n",
       "       2.68957378e+07, 3.42471438e+07, 4.36038905e+07, 5.55130011e+07,\n",
       "       7.06707177e+07, 8.99632054e+07, 1.14518361e+08, 1.45771751e+08,\n",
       "       1.85550542e+08, 2.36180321e+08, 3.00621056e+08, 3.82640143e+08,\n",
       "       4.87032663e+08, 6.19901713e+08, 7.89015213e+08, 1.00426004e+09,\n",
       "       1.27822006e+09, 1.62691177e+09, 2.07072074e+09, 2.63559336e+09,\n",
       "       3.35455377e+09, 4.26963453e+09, 5.43433398e+09, 6.91674394e+09,\n",
       "       8.80353048e+09, 1.12050008e+10, 1.42615520e+10, 1.81518791e+10,\n",
       "       2.31034222e+10, 2.94056634e+10, 3.74270503e+10, 4.76365372e+10,\n",
       "       6.06310011e+10, 7.71701369e+10, 9.82208719e+10, 1.25013895e+11,\n",
       "       1.59115605e+11, 2.02519691e+11, 2.57763684e+11, 3.28077312e+11,\n",
       "       4.17571320e+11, 5.31477794e+11, 6.76456046e+11, 8.60981935e+11,\n",
       "       1.09584339e+12, 1.39477113e+12, 1.77524133e+12, 2.25949744e+12,\n",
       "       2.87585049e+12, 3.66033433e+12, 4.65881222e+12, 5.92965814e+12,\n",
       "       7.54716954e+12, 9.60591094e+12, 1.22262425e+13, 1.55613566e+13,\n",
       "       1.98062340e+13, 2.52090427e+13, 3.20856472e+13, 4.08380741e+13,\n",
       "       5.19780165e+13, 6.61567484e+13, 8.42032009e+13, 1.07172423e+14,\n",
       "       1.36407265e+14, 1.73616881e+14, 2.20976656e+14, 2.81255386e+14,\n",
       "       3.57977142e+14, 4.55627308e+14, 5.79914804e+14, 7.38105845e+14,\n",
       "       9.39448752e+14, 1.19571463e+15, 1.52188555e+15, 1.93703042e+15,\n",
       "       2.46541986e+15, 3.13794509e+15, 3.99392393e+15, 5.08339946e+15,\n",
       "       6.47006565e+15, 8.23499115e+15, 1.04813587e+16, 1.33404978e+16,\n",
       "       1.69795621e+16, 2.16113021e+16, 2.75065031e+16, 3.50098163e+16,\n",
       "       4.45599075e+16, 5.67151037e+16, 7.21860336e+16, 9.18771741e+16,\n",
       "       1.16939728e+17, 1.48838926e+17, 1.89439691e+17, 2.41115664e+17,\n",
       "       3.06887977e+17, 3.90601875e+17, 4.97151522e+17, 6.32766127e+17,\n",
       "       8.05374124e+17, 1.02506669e+18, 1.30468771e+18, 1.66058465e+18,\n",
       "       2.11356432e+18, 2.69010925e+18, 3.42392598e+18, 4.35791561e+18,\n",
       "       5.54668197e+18, 7.05972387e+18, 8.98549825e+18, 1.14365916e+19,\n",
       "       1.45563022e+19, 1.85270175e+19, 2.35808774e+19, 3.00133457e+19,\n",
       "       3.82004835e+19, 4.86209353e+19, 6.18839117e+19, 7.87648059e+19,\n",
       "       1.00250525e+20, 1.27597189e+20, 1.62403564e+20, 2.06704535e+20,\n",
       "       2.63090068e+20, 3.34856630e+20, 4.26199908e+20, 5.42460101e+20,\n",
       "       6.90434128e+20, 8.78772988e+20, 1.11848753e+21, 1.42359219e+21,\n",
       "       1.81192429e+21, 2.30618688e+21, 2.93527601e+21, 3.73597012e+21,\n",
       "       4.75508017e+21, 6.05218637e+21, 7.70312140e+21, 9.80440384e+21,\n",
       "       1.24788809e+22, 1.58829105e+22, 2.02155024e+22, 2.57299527e+22,\n",
       "       3.27486527e+22, 4.16819364e+22, 5.30520702e+22, 6.75237860e+22,\n",
       "       8.59431435e+22, 1.09386993e+23, 1.39225932e+23, 1.77204433e+23,\n",
       "       2.25542833e+23, 2.87067139e+23, 3.65374244e+23, 4.65042216e+23,\n",
       "       5.91897940e+23, 7.53357779e+23, 9.58861159e+23, 1.22042242e+24,\n",
       "       1.55333320e+24, 1.97705647e+24, 2.51636435e+24, 3.20278638e+24,\n",
       "       4.07645283e+24, 5.18844087e+24, 6.60376059e+24, 8.40515583e+24,\n",
       "       1.06979415e+25, 1.36161607e+25, 1.73304212e+25, 2.20578697e+25])"
      ]
     },
     "execution_count": 39,
     "metadata": {},
     "output_type": "execute_result"
    }
   ],
   "source": [
    "pred"
   ]
  },
  {
   "cell_type": "code",
   "execution_count": 40,
   "metadata": {},
   "outputs": [
    {
     "data": {
      "text/plain": [
       "[<matplotlib.lines.Line2D at 0x72df8678ddc0>]"
      ]
     },
     "execution_count": 40,
     "metadata": {},
     "output_type": "execute_result"
    },
    {
     "data": {
      "image/png": "[encoded data removed]",
      "text/plain": [
       "<Figure size 1000x800 with 1 Axes>"
      ]
     },
     "metadata": {},
     "output_type": "display_data"
    }
   ],
   "source": [
    "fig, axes = plt.subplots(1,1,figsize=(10,8))\n",
    "    \n",
    "#axes.plot(t+startvecka[k],pred,'r',label=\"Prediktion med resor\") \n",
    "axes.plot(veckor+startvecka[k],I,'ko',label=\"Inlagda\")"
   ]
  },
  {
   "cell_type": "code",
   "execution_count": 31,
   "metadata": {},
   "outputs": [
    {
     "data": {
      "text/plain": [
       "array([0.0, 0.0, 0.0, 0.0, 0, 0, 0, 4, 5, 0, 0, 0, 0, 4, 5, 10, 6, 17, 8,\n",
       "       13, 0, 5, 0, 4, 0, 5, 0, 6, 5, 0, 0, 0, 0, 4, 7, 4, 0, 4, 7, 7, 12,\n",
       "       9, 9, 13, 29], dtype=object)"
      ]
     },
     "execution_count": 31,
     "metadata": {},
     "output_type": "execute_result"
    }
   ],
   "source": [
    "I"
   ]
  },
  {
   "cell_type": "code",
   "execution_count": 32,
   "metadata": {},
   "outputs": [
    {
     "data": {
      "text/plain": [
       "array([2.30000000e-02, 1.42715106e+02, 5.64333407e+02, 1.27218388e+03,\n",
       "       2.29527669e+03, 3.68459789e+03, 5.51507398e+03, 7.88922740e+03,\n",
       "       1.09426531e+04, 1.48515769e+04, 1.98428947e+04, 2.62072500e+04,\n",
       "       3.43158918e+04, 4.46422831e+04, 5.77897129e+04, 7.45265177e+04,\n",
       "       9.58309657e+04, 1.22948425e+05, 1.57464154e+05, 2.01395966e+05,\n",
       "       2.57312190e+05, 3.28481816e+05, 4.19065603e+05, 5.34359329e+05,\n",
       "       6.81103395e+05, 8.67876883e+05, 1.10559912e+06, 1.40816806e+06,\n",
       "       1.79327277e+06, 2.28342761e+06, 2.90728851e+06, 3.70132822e+06,\n",
       "       4.71196866e+06, 5.99829489e+06, 7.63550936e+06, 9.71932852e+06,\n",
       "       1.23715786e+07, 1.57473181e+07, 2.00439028e+07, 2.55125238e+07,\n",
       "       3.24728929e+07, 4.13319341e+07, 5.26075734e+07, 6.69590181e+07,\n",
       "       8.52252963e+07, 1.08474309e+08, 1.38065263e+08, 1.75728134e+08,\n",
       "       2.23664805e+08, 2.84677796e+08, 3.62334109e+08, 4.61173763e+08,\n",
       "       5.86975218e+08, 7.47093202e+08, 9.50888690e+08, 1.21027617e+09,\n",
       "       1.54042021e+09, 1.96062202e+09, 2.49544783e+09, 3.17616517e+09,\n",
       "       4.04257078e+09, 5.14531734e+09, 6.54887467e+09, 8.33529893e+09,\n",
       "       1.06090298e+10, 1.35029963e+10, 1.71863885e+10, 2.18745482e+10,\n",
       "       2.78415595e+10, 3.54362714e+10, 4.51026934e+10, 5.74059534e+10,\n",
       "       7.30653366e+10, 9.29963371e+10, 1.18364181e+11, 1.50651947e+11,\n",
       "       1.91747275e+11, 2.44052719e+11, 3.10626213e+11, 3.95359840e+11,\n",
       "       5.03207380e+11, 6.40473923e+11, 8.15184478e+11, 1.03755315e+12,\n",
       "       1.32058026e+12, 1.68081243e+12, 2.13930990e+12, 2.72287779e+12,\n",
       "       3.46563323e+12, 4.41099991e+12, 5.61424677e+12, 7.14571922e+12,\n",
       "       9.09495170e+12, 1.15759021e+13, 1.47336143e+13, 1.87526974e+13,\n",
       "       2.38681190e+13, 3.03789419e+13, 3.86658082e+13, 4.92131929e+13,\n",
       "       6.26377272e+13, 7.97242497e+13, 1.01471689e+14, 1.29151466e+14,\n",
       "       1.64381822e+14, 2.09222428e+14, 2.66294801e+14, 3.38935560e+14,\n",
       "       4.31391502e+14, 5.49067876e+14, 6.98844392e+14, 8.89477433e+14,\n",
       "       1.13211197e+15, 1.44093315e+15, 1.83399557e+15, 2.33427883e+15,\n",
       "       2.97103098e+15, 3.78147845e+15, 4.81300241e+15, 6.12590882e+15,\n",
       "       7.79695410e+15, 9.92383254e+15, 1.26308878e+16, 1.60763823e+16,\n",
       "       2.04617500e+16, 2.60433726e+16, 3.31475683e+16, 4.21896695e+16,\n",
       "       5.36983044e+16, 6.83463020e+16, 8.69900281e+16, 1.10719450e+17,\n",
       "       1.40921861e+17, 1.79362983e+17, 2.28290200e+17, 2.90563941e+17,\n",
       "       3.69824915e+17, 4.70706956e+17, 5.99107926e+17, 7.62534530e+17,\n",
       "       9.70541173e+17, 1.23528854e+18, 1.57225456e+18, 2.00113926e+18,\n",
       "       2.54701652e+18, 3.24179994e+18, 4.12610865e+18, 5.25164195e+18,\n",
       "       6.68420188e+18, 8.50754016e+18, 1.08282546e+19, 1.37820210e+19,\n",
       "       1.75415254e+19, 2.23265596e+19, 2.84168709e+19, 3.61685171e+19,\n",
       "       4.60346826e+19, 5.85921726e+19, 7.45751356e+19, 9.49179830e+19,\n",
       "       1.20810018e+20, 1.53764967e+20, 1.95709474e+20, 2.49095739e+20,\n",
       "       3.17044882e+20, 4.03529414e+20, 5.13605477e+20, 6.53708445e+20,\n",
       "       8.32029155e+20, 1.05899277e+21, 1.34786825e+21, 1.71554412e+21,\n",
       "       2.18351582e+21, 2.77914234e+21, 3.53724581e+21, 4.50214720e+21,\n",
       "       5.73025751e+21, 7.29337575e+21, 9.28288644e+21, 1.18151023e+22,\n",
       "       1.50380643e+22, 1.91401962e+22, 2.43613210e+22, 3.10066812e+22,\n",
       "       3.94647843e+22, 5.02301162e+22, 6.39320503e+22, 8.13716424e+22,\n",
       "       1.03568463e+23, 1.31820204e+23, 1.67778547e+23, 2.13545724e+23,\n",
       "       2.71797419e+23, 3.45939201e+23, 4.40305618e+23, 5.60413613e+23,\n",
       "       7.13285057e+23, 9.07857268e+23, 1.15550552e+24, 1.47070806e+24])"
      ]
     },
     "execution_count": 32,
     "metadata": {},
     "output_type": "execute_result"
    }
   ],
   "source": [
    "pred"
   ]
  },
  {
   "cell_type": "code",
   "execution_count": 16,
   "metadata": {},
   "outputs": [
    {
     "name": "stdout",
     "output_type": "stream",
     "text": [
      "            region  index  population Regionkod   Area  Första fall\n",
      "0            Sthlm      8     2389923     SE-AB   6524            9\n",
      "1              VGR      9     1725881      SE-O  23800            9\n",
      "2            Skåne     10     1387650      SE-M  10968            9\n",
      "3     Östergötland     11      467095      SE-E  10559            9\n",
      "4        Jönköping     12      364750      SE-F   8190            9\n",
      "5     Södermanland     13      299101      SE-D  10437            9\n",
      "6          Uppsala     14      387628      SE-C   5427            9\n",
      "7        Gävleborg     15      287660      SE-X   8504            9\n",
      "8      Västmanland     16      277074      SE-U   6075            9\n",
      "9           Örebro     17      305726      SE-T  28029            9\n",
      "10      Norrbotten     18      249768     SE-BD  18118            9\n",
      "11         Dalarna     19      287806      SE-W  17519            9\n",
      "12  Västernorrland     20      244855      SE-Y   5118            9\n",
      "13        Värmland     21      282840      SE-S  54665            9\n",
      "14         Halland     22      336132      SE-N  97239            9\n",
      "15          Kalmar     23      245992      SE-H  11165            9\n",
      "16       Kronoberg     24      202163      SE-G  21549            9\n",
      "17    Västerbotten     25      273061     SE-AC   8424            9\n",
      "18        Jämtland     26      130972      SE-Z   2931            9\n",
      "19        Blekinge     27      159349      SE-K  48935            9\n"
     ]
    }
   ],
   "source": [
    "print(regioner)"
   ]
  },
  {
   "cell_type": "code",
   "execution_count": 39,
   "metadata": {},
   "outputs": [],
   "source": [
    "df = pandas.read_pickle('regioner.pkl')\n",
    "yta=np.array([6524,23800,10968,10559,8190,10437,5427,8504,6075,28029,18118,17519,5118,54665,97239,11165,21549,8424,2931,48935])\n",
    "df['Area']=yta\n",
    "\n",
    "df.drop('index',axis='columns', inplace=True)\n",
    "df.drop('Regionkod',axis='columns', inplace=True)\n",
    "df.drop('Första fall',axis='columns', inplace=True)\n",
    "df = df[['region','population','Area','a','b','E']]"
   ]
  },
  {
   "cell_type": "code",
   "execution_count": 41,
   "metadata": {},
   "outputs": [
    {
     "data": {
      "text/plain": [
       "LinregressResult(slope=0.00011567264820966457, intercept=-7.451912318969256, rvalue=0.8661044245051898, pvalue=7.999136488528742e-07, stderr=1.573530817936148e-05)"
      ]
     },
     "execution_count": 41,
     "metadata": {},
     "output_type": "execute_result"
    },
    {
     "data": {
      "image/png": "[encoded data removed]",
      "text/plain": [
       "<Figure size 1008x432 with 1 Axes>"
      ]
     },
     "metadata": {
      "needs_background": "light"
     },
     "output_type": "display_data"
    }
   ],
   "source": [
    "#Here we test correlations between error, estimated parameters and region properties\n",
    "E=df['E'].values\n",
    "N=df['population'].values\n",
    "area=df['Area'].values\n",
    "A=df['a'].values\n",
    "B=df['b'].values\n",
    "fig, axes = plt.subplots(1,1,figsize=(14,6))\n",
    "axes.plot(N,N/area,'.')\n",
    "from scipy.stats import linregress\n",
    "linregress(N,N/area)"
   ]
  },
  {
   "cell_type": "code",
   "execution_count": null,
   "metadata": {},
   "outputs": [],
   "source": []
  }
 ],
 "metadata": {
  "kernelspec": {
   "display_name": "Python 3 (ipykernel)",
   "language": "python",
   "name": "python3"
  },
  "language_info": {
   "codemirror_mode": {
    "name": "ipython",
    "version": 3
   },
   "file_extension": ".py",
   "mimetype": "text/x-python",
   "name": "python",
   "nbconvert_exporter": "python",
   "pygments_lexer": "ipython3",
   "version": "3.12.2"
  }
 },
 "nbformat": 4,
 "nbformat_minor": 4
}
